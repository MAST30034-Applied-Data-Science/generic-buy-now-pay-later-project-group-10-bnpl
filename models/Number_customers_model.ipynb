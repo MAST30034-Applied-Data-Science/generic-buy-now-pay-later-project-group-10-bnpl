{
 "cells": [
  {
   "cell_type": "markdown",
   "id": "fe37e186-51dc-4750-8546-7295d2b8b5d2",
   "metadata": {},
   "source": [
    "## Predicting the number of customers"
   ]
  },
  {
   "cell_type": "code",
   "execution_count": 4,
   "id": "6c2887cd-b1e4-426f-a621-fa71a1400ead",
   "metadata": {},
   "outputs": [
    {
     "name": "stderr",
     "output_type": "stream",
     "text": [
      "                                                                                \r"
     ]
    },
    {
     "name": "stdout",
     "output_type": "stream",
     "text": [
      "22/09/27 14:05:18 WARN package: Truncated the string representation of a plan since it was too large. This behavior can be adjusted by setting 'spark.sql.debug.maxToStringFields'.\n"
     ]
    },
    {
     "name": "stderr",
     "output_type": "stream",
     "text": [
      "                                                                                \r"
     ]
    }
   ],
   "source": [
    "# Read in data from ETL.py file\n",
    "%run \"../scripts/ETL.py\""
   ]
  },
  {
   "cell_type": "code",
   "execution_count": 5,
   "id": "d8b48461-bb21-4ddc-9312-db92d3870dd3",
   "metadata": {},
   "outputs": [],
   "source": [
    "data = spark.read.parquet(\"../data/tables/full_join.parquet\")"
   ]
  },
  {
   "cell_type": "code",
   "execution_count": 6,
   "id": "4a8fc9c4-00e8-42dc-a6e2-db24f5172574",
   "metadata": {},
   "outputs": [
    {
     "name": "stderr",
     "output_type": "stream",
     "text": [
      "                                                                                \r"
     ]
    },
    {
     "data": {
      "text/html": [
       "<table border='1'>\n",
       "<tr><th>merchant_name</th><th>merchant_abn</th><th>categories</th><th>take_rate</th><th>revenue_levels</th><th>name</th><th>address</th><th>state</th><th>gender</th><th>trans_merchant_abn</th><th>dollar_value</th><th>order_id</th><th>order_datetime</th><th>user_id</th><th>consumer_id</th><th>postcodes</th><th>int_sa2</th><th>SA2_code</th><th>SA2_name</th><th>income_2018-2019</th><th>total_males</th><th>total_females</th><th>total_persons</th><th>state_code</th><th>state_name</th><th>population_2020</th><th>population_2021</th></tr>\n",
       "<tr><td>Dui Nec Corporation</td><td>19933438190</td><td>tent and awning s...</td><td>2.22</td><td>c</td><td>Brian Wright</td><td>761 Bennett Mountain</td><td>TAS</td><td>Male</td><td>19933438190</td><td>3.434666831614868</td><td>28ccb7e6-ebe7-496...</td><td>2021-06-17</td><td>2582</td><td>743</td><td>7016</td><td>601021010</td><td>601021010</td><td>Risdon Vale</td><td>58036866</td><td>1963</td><td>1540</td><td>3501</td><td>6</td><td>Tasmania</td><td>3571</td><td>3563</td></tr>\n",
       "<tr><td>Vel Est Tempor LLP</td><td>62694031334</td><td>computers, comput...</td><td>5.76</td><td>a</td><td>Brian Wright</td><td>761 Bennett Mountain</td><td>TAS</td><td>Male</td><td>62694031334</td><td>30.583567099986173</td><td>d5902566-aa14-4e4...</td><td>2021-05-07</td><td>2582</td><td>743</td><td>7016</td><td>601021010</td><td>601021010</td><td>Risdon Vale</td><td>58036866</td><td>1963</td><td>1540</td><td>3501</td><td>6</td><td>Tasmania</td><td>3571</td><td>3563</td></tr>\n",
       "<tr><td>Aliquam Nisl Corp...</td><td>55325186693</td><td>gift, card, novel...</td><td>4.44</td><td>b</td><td>Brian Wright</td><td>761 Bennett Mountain</td><td>TAS</td><td>Male</td><td>55325186693</td><td>68.91163123686927</td><td>234aedaa-1657-466...</td><td>2021-07-20</td><td>2582</td><td>743</td><td>7016</td><td>601021010</td><td>601021010</td><td>Risdon Vale</td><td>58036866</td><td>1963</td><td>1540</td><td>3501</td><td>6</td><td>Tasmania</td><td>3571</td><td>3563</td></tr>\n",
       "<tr><td>Urna Incorporated</td><td>78905182348</td><td>watch, clock, and...</td><td>4.65</td><td>b</td><td>Brian Wright</td><td>761 Bennett Mountain</td><td>TAS</td><td>Male</td><td>78905182348</td><td>15.129648652621713</td><td>51d13e41-34a5-496...</td><td>2021-06-23</td><td>2582</td><td>743</td><td>7016</td><td>601021010</td><td>601021010</td><td>Risdon Vale</td><td>58036866</td><td>1963</td><td>1540</td><td>3501</td><td>6</td><td>Tasmania</td><td>3571</td><td>3563</td></tr>\n",
       "<tr><td>Purus Gravida Sag...</td><td>21772962346</td><td>florists supplies...</td><td>6.63</td><td>a</td><td>Brian Wright</td><td>761 Bennett Mountain</td><td>TAS</td><td>Male</td><td>21772962346</td><td>0.7692714085929745</td><td>af89a162-38c7-48a...</td><td>2021-04-21</td><td>2582</td><td>743</td><td>7016</td><td>601021010</td><td>601021010</td><td>Risdon Vale</td><td>58036866</td><td>1963</td><td>1540</td><td>3501</td><td>6</td><td>Tasmania</td><td>3571</td><td>3563</td></tr>\n",
       "</table>\n"
      ],
      "text/plain": [
       "+--------------------+------------+--------------------+---------+--------------+------------+--------------------+-----+------+------------------+------------------+--------------------+--------------+-------+-----------+---------+---------+---------+-----------+----------------+-----------+-------------+-------------+----------+----------+---------------+---------------+\n",
       "|       merchant_name|merchant_abn|          categories|take_rate|revenue_levels|        name|             address|state|gender|trans_merchant_abn|      dollar_value|            order_id|order_datetime|user_id|consumer_id|postcodes|  int_sa2| SA2_code|   SA2_name|income_2018-2019|total_males|total_females|total_persons|state_code|state_name|population_2020|population_2021|\n",
       "+--------------------+------------+--------------------+---------+--------------+------------+--------------------+-----+------+------------------+------------------+--------------------+--------------+-------+-----------+---------+---------+---------+-----------+----------------+-----------+-------------+-------------+----------+----------+---------------+---------------+\n",
       "| Dui Nec Corporation| 19933438190|tent and awning s...|     2.22|             c|Brian Wright|761 Bennett Mountain|  TAS|  Male|       19933438190| 3.434666831614868|28ccb7e6-ebe7-496...|    2021-06-17|   2582|        743|     7016|601021010|601021010|Risdon Vale|        58036866|       1963|         1540|         3501|         6|  Tasmania|           3571|           3563|\n",
       "|  Vel Est Tempor LLP| 62694031334|computers, comput...|     5.76|             a|Brian Wright|761 Bennett Mountain|  TAS|  Male|       62694031334|30.583567099986173|d5902566-aa14-4e4...|    2021-05-07|   2582|        743|     7016|601021010|601021010|Risdon Vale|        58036866|       1963|         1540|         3501|         6|  Tasmania|           3571|           3563|\n",
       "|Aliquam Nisl Corp...| 55325186693|gift, card, novel...|     4.44|             b|Brian Wright|761 Bennett Mountain|  TAS|  Male|       55325186693| 68.91163123686927|234aedaa-1657-466...|    2021-07-20|   2582|        743|     7016|601021010|601021010|Risdon Vale|        58036866|       1963|         1540|         3501|         6|  Tasmania|           3571|           3563|\n",
       "|   Urna Incorporated| 78905182348|watch, clock, and...|     4.65|             b|Brian Wright|761 Bennett Mountain|  TAS|  Male|       78905182348|15.129648652621713|51d13e41-34a5-496...|    2021-06-23|   2582|        743|     7016|601021010|601021010|Risdon Vale|        58036866|       1963|         1540|         3501|         6|  Tasmania|           3571|           3563|\n",
       "|Purus Gravida Sag...| 21772962346|florists supplies...|     6.63|             a|Brian Wright|761 Bennett Mountain|  TAS|  Male|       21772962346|0.7692714085929745|af89a162-38c7-48a...|    2021-04-21|   2582|        743|     7016|601021010|601021010|Risdon Vale|        58036866|       1963|         1540|         3501|         6|  Tasmania|           3571|           3563|\n",
       "+--------------------+------------+--------------------+---------+--------------+------------+--------------------+-----+------+------------------+------------------+--------------------+--------------+-------+-----------+---------+---------+---------+-----------+----------------+-----------+-------------+-------------+----------+----------+---------------+---------------+"
      ]
     },
     "execution_count": 6,
     "metadata": {},
     "output_type": "execute_result"
    }
   ],
   "source": [
    "data.limit(5)"
   ]
  },
  {
   "cell_type": "code",
   "execution_count": 16,
   "id": "0214036a-1f88-4a8d-83ea-00a7c5836cc8",
   "metadata": {},
   "outputs": [],
   "source": [
    "subset = data.select(\"merchant_name\", \"merchant_abn\", \"order_datetime\")"
   ]
  },
  {
   "cell_type": "code",
   "execution_count": 17,
   "id": "0966515b-640b-4386-8c37-2c2df083628e",
   "metadata": {},
   "outputs": [
    {
     "name": "stdout",
     "output_type": "stream",
     "text": [
      "root\n",
      " |-- merchant_name: string (nullable = true)\n",
      " |-- merchant_abn: long (nullable = true)\n",
      " |-- order_datetime: date (nullable = true)\n",
      "\n"
     ]
    }
   ],
   "source": [
    "subset.printSchema()"
   ]
  },
  {
   "cell_type": "code",
   "execution_count": null,
   "id": "20a12db2-24e5-4130-960c-616b95496231",
   "metadata": {},
   "outputs": [],
   "source": []
  },
  {
   "cell_type": "markdown",
   "id": "8be8a8cd-18d2-4ec6-af14-6b3bb77b2cd5",
   "metadata": {},
   "source": [
    "### Creating Features"
   ]
  },
  {
   "cell_type": "code",
   "execution_count": 32,
   "id": "75e0bc8d-270d-486b-b3e3-3a8c59e3ba40",
   "metadata": {},
   "outputs": [
    {
     "name": "stderr",
     "output_type": "stream",
     "text": [
      "                                                                                \r"
     ]
    },
    {
     "data": {
      "text/html": [
       "<table border='1'>\n",
       "<tr><th>merchant_name</th><th>merchant_abn</th><th>order_datetime</th><th>ACT</th><th>NSW</th><th>QLD</th><th>SA</th><th>TAS</th><th>VIC</th><th>WA</th></tr>\n",
       "<tr><td>Euismod Urna Inst...</td><td>91923722701</td><td>2021-10-11</td><td>0</td><td>11</td><td>18</td><td>16</td><td>4</td><td>23</td><td>7</td></tr>\n",
       "<tr><td>Ac Turpis Egestas PC</td><td>49758515423</td><td>2021-06-12</td><td>0</td><td>1</td><td>1</td><td>1</td><td>0</td><td>1</td><td>2</td></tr>\n",
       "<tr><td>Sed Facilisis Corp.</td><td>83177825742</td><td>2022-05-07</td><td>2</td><td>2</td><td>3</td><td>3</td><td>2</td><td>2</td><td>2</td></tr>\n",
       "<tr><td>Nunc PC</td><td>80701973278</td><td>2021-03-29</td><td>0</td><td>1</td><td>1</td><td>0</td><td>0</td><td>1</td><td>0</td></tr>\n",
       "<tr><td>Leo In Consulting</td><td>86578477987</td><td>2022-10-02</td><td>6</td><td>92</td><td>72</td><td>64</td><td>18</td><td>98</td><td>74</td></tr>\n",
       "</table>\n"
      ],
      "text/plain": [
       "+--------------------+------------+--------------+---+---+---+---+---+---+---+\n",
       "|       merchant_name|merchant_abn|order_datetime|ACT|NSW|QLD| SA|TAS|VIC| WA|\n",
       "+--------------------+------------+--------------+---+---+---+---+---+---+---+\n",
       "|Euismod Urna Inst...| 91923722701|    2021-10-11|  0| 11| 18| 16|  4| 23|  7|\n",
       "|Ac Turpis Egestas PC| 49758515423|    2021-06-12|  0|  1|  1|  1|  0|  1|  2|\n",
       "| Sed Facilisis Corp.| 83177825742|    2022-05-07|  2|  2|  3|  3|  2|  2|  2|\n",
       "|             Nunc PC| 80701973278|    2021-03-29|  0|  1|  1|  0|  0|  1|  0|\n",
       "|   Leo In Consulting| 86578477987|    2022-10-02|  6| 92| 72| 64| 18| 98| 74|\n",
       "+--------------------+------------+--------------+---+---+---+---+---+---+---+"
      ]
     },
     "execution_count": 32,
     "metadata": {},
     "output_type": "execute_result"
    }
   ],
   "source": [
    "from pyspark.sql import functions as F\n",
    "\n",
    "states = data.groupBy(\"merchant_name\", \"merchant_abn\", \"order_datetime\").pivot('state').count().fillna(0)\n",
    "states.limit(5)"
   ]
  },
  {
   "cell_type": "code",
   "execution_count": 33,
   "id": "0588b024-8448-4161-b4a9-f7a908ff7053",
   "metadata": {},
   "outputs": [
    {
     "name": "stderr",
     "output_type": "stream",
     "text": [
      "                                                                                \r"
     ]
    },
    {
     "data": {
      "text/html": [
       "<table border='1'>\n",
       "<tr><th>merchant_name</th><th>merchant_abn</th><th>order_datetime</th><th>count</th></tr>\n",
       "<tr><td>Nascetur Ridiculu...</td><td>82065156333</td><td>2021-08-02</td><td>75</td></tr>\n",
       "<tr><td>Pede Suspendisse ...</td><td>12034469787</td><td>2021-07-30</td><td>10</td></tr>\n",
       "<tr><td>Auctor Quis Corp.</td><td>17739089622</td><td>2021-09-20</td><td>15</td></tr>\n",
       "<tr><td>Blandit At LLC</td><td>11439466003</td><td>2022-07-09</td><td>33</td></tr>\n",
       "<tr><td>Fringilla Ornare ...</td><td>39473654822</td><td>2021-07-19</td><td>1</td></tr>\n",
       "</table>\n"
      ],
      "text/plain": [
       "+--------------------+------------+--------------+-----+\n",
       "|       merchant_name|merchant_abn|order_datetime|count|\n",
       "+--------------------+------------+--------------+-----+\n",
       "|Nascetur Ridiculu...| 82065156333|    2021-08-02|   75|\n",
       "|Pede Suspendisse ...| 12034469787|    2021-07-30|   10|\n",
       "|   Auctor Quis Corp.| 17739089622|    2021-09-20|   15|\n",
       "|      Blandit At LLC| 11439466003|    2022-07-09|   33|\n",
       "|Fringilla Ornare ...| 39473654822|    2021-07-19|    1|\n",
       "+--------------------+------------+--------------+-----+"
      ]
     },
     "execution_count": 33,
     "metadata": {},
     "output_type": "execute_result"
    }
   ],
   "source": [
    "total_count = data.groupBy(\"merchant_name\", \"merchant_abn\", \"order_datetime\").count()\n",
    "total_count.limit(5)"
   ]
  },
  {
   "cell_type": "code",
   "execution_count": 34,
   "id": "a1c8b92a-a0f1-46c8-9930-f44924b45565",
   "metadata": {},
   "outputs": [
    {
     "name": "stderr",
     "output_type": "stream",
     "text": [
      "                                                                                \r"
     ]
    },
    {
     "data": {
      "text/html": [
       "<table border='1'>\n",
       "<tr><th>merchant_name</th><th>merchant_abn</th><th>order_datetime</th><th>Female</th><th>Male</th><th>Undisclosed</th></tr>\n",
       "<tr><td>Ipsum Dolor Sit C...</td><td>80324045558</td><td>2021-11-27</td><td>272</td><td>254</td><td>48</td></tr>\n",
       "<tr><td>Congue Corporation</td><td>15612785317</td><td>2021-11-08</td><td>1</td><td>0</td><td>0</td></tr>\n",
       "<tr><td>Euismod Enim LLC</td><td>80779820715</td><td>2022-05-30</td><td>20</td><td>22</td><td>4</td></tr>\n",
       "<tr><td>Cubilia Curae Pha...</td><td>25856363362</td><td>2022-02-06</td><td>1</td><td>2</td><td>0</td></tr>\n",
       "<tr><td>Feugiat Placerat Ltd</td><td>98533840054</td><td>2021-08-05</td><td>1</td><td>0</td><td>0</td></tr>\n",
       "</table>\n"
      ],
      "text/plain": [
       "+--------------------+------------+--------------+------+----+-----------+\n",
       "|       merchant_name|merchant_abn|order_datetime|Female|Male|Undisclosed|\n",
       "+--------------------+------------+--------------+------+----+-----------+\n",
       "|Ipsum Dolor Sit C...| 80324045558|    2021-11-27|   272| 254|         48|\n",
       "|  Congue Corporation| 15612785317|    2021-11-08|     1|   0|          0|\n",
       "|    Euismod Enim LLC| 80779820715|    2022-05-30|    20|  22|          4|\n",
       "|Cubilia Curae Pha...| 25856363362|    2022-02-06|     1|   2|          0|\n",
       "|Feugiat Placerat Ltd| 98533840054|    2021-08-05|     1|   0|          0|\n",
       "+--------------------+------------+--------------+------+----+-----------+"
      ]
     },
     "execution_count": 34,
     "metadata": {},
     "output_type": "execute_result"
    }
   ],
   "source": [
    "genders = data.groupBy(\"merchant_name\", \"merchant_abn\", \"order_datetime\").pivot('gender').count().fillna(0)\n",
    "genders.limit(5)"
   ]
  },
  {
   "cell_type": "code",
   "execution_count": null,
   "id": "62add417-ab39-40f6-8a7c-1d1468feeabd",
   "metadata": {},
   "outputs": [],
   "source": []
  },
  {
   "cell_type": "code",
   "execution_count": 35,
   "id": "e3386fac-34bf-4879-a42d-e8c1ff0dc175",
   "metadata": {},
   "outputs": [],
   "source": [
    "states = states.withColumnRenamed(\"merchant_name\", \"merchant_name_st\") \\\n",
    "    .withColumnRenamed(\"merchant_abn\", 'merchant_abn_st') \\\n",
    "    .withColumnRenamed(\"order_datetime\", 'order_datetime_st')\n",
    "\n",
    "genders = genders.withColumnRenamed(\"merchant_name\", \"merchant_name_g\") \\\n",
    "    .withColumnRenamed(\"merchant_abn\", 'merchant_abn_g') \\\n",
    "    .withColumnRenamed(\"order_datetime\", 'order_datetime_g')"
   ]
  },
  {
   "cell_type": "code",
   "execution_count": 39,
   "id": "7ffce578-bed7-48f1-9628-c66a1e733066",
   "metadata": {},
   "outputs": [],
   "source": [
    "# Joining data with features\n",
    "joined = total_count.join(states,(total_count[\"merchant_name\"] == states[\"merchant_name_st\"]) & \\\n",
    "                 (total_count[\"merchant_abn\"] == states[\"merchant_abn_st\"]) & \\\n",
    "                 (total_count[\"order_datetime\"] == states[\"order_datetime_st\"])) \\\n",
    "    .join(genders,(total_count[\"merchant_name\"] == genders[\"merchant_name_g\"]) & \\\n",
    "                 (total_count[\"merchant_abn\"] == genders[\"merchant_abn_g\"]) & \\\n",
    "                 (total_count[\"order_datetime\"] == genders[\"order_datetime_g\"]))"
   ]
  },
  {
   "cell_type": "code",
   "execution_count": 41,
   "id": "17875b86-8479-4d94-a71b-ebab033c210f",
   "metadata": {},
   "outputs": [
    {
     "name": "stderr",
     "output_type": "stream",
     "text": [
      "                                                                                \r"
     ]
    },
    {
     "data": {
      "text/html": [
       "<table border='1'>\n",
       "<tr><th>merchant_name</th><th>merchant_abn</th><th>order_datetime</th><th>count</th><th>ACT</th><th>NSW</th><th>QLD</th><th>SA</th><th>TAS</th><th>VIC</th><th>WA</th><th>Female</th><th>Male</th><th>Undisclosed</th></tr>\n",
       "<tr><td>A Aliquet Ltd</td><td>22578135006</td><td>2021-03-30</td><td>1</td><td>0</td><td>0</td><td>0</td><td>1</td><td>0</td><td>0</td><td>0</td><td>1</td><td>0</td><td>0</td></tr>\n",
       "<tr><td>A Aliquet Ltd</td><td>22578135006</td><td>2021-03-31</td><td>1</td><td>0</td><td>0</td><td>1</td><td>0</td><td>0</td><td>0</td><td>0</td><td>1</td><td>0</td><td>0</td></tr>\n",
       "<tr><td>A Aliquet Ltd</td><td>22578135006</td><td>2021-04-07</td><td>1</td><td>0</td><td>0</td><td>0</td><td>0</td><td>0</td><td>1</td><td>0</td><td>0</td><td>0</td><td>1</td></tr>\n",
       "<tr><td>A Aliquet Ltd</td><td>22578135006</td><td>2021-04-27</td><td>3</td><td>0</td><td>0</td><td>1</td><td>1</td><td>0</td><td>1</td><td>0</td><td>1</td><td>2</td><td>0</td></tr>\n",
       "<tr><td>A Aliquet Ltd</td><td>22578135006</td><td>2021-04-29</td><td>1</td><td>0</td><td>0</td><td>0</td><td>0</td><td>0</td><td>0</td><td>1</td><td>0</td><td>1</td><td>0</td></tr>\n",
       "</table>\n"
      ],
      "text/plain": [
       "+-------------+------------+--------------+-----+---+---+---+---+---+---+---+------+----+-----------+\n",
       "|merchant_name|merchant_abn|order_datetime|count|ACT|NSW|QLD| SA|TAS|VIC| WA|Female|Male|Undisclosed|\n",
       "+-------------+------------+--------------+-----+---+---+---+---+---+---+---+------+----+-----------+\n",
       "|A Aliquet Ltd| 22578135006|    2021-03-30|    1|  0|  0|  0|  1|  0|  0|  0|     1|   0|          0|\n",
       "|A Aliquet Ltd| 22578135006|    2021-03-31|    1|  0|  0|  1|  0|  0|  0|  0|     1|   0|          0|\n",
       "|A Aliquet Ltd| 22578135006|    2021-04-07|    1|  0|  0|  0|  0|  0|  1|  0|     0|   0|          1|\n",
       "|A Aliquet Ltd| 22578135006|    2021-04-27|    3|  0|  0|  1|  1|  0|  1|  0|     1|   2|          0|\n",
       "|A Aliquet Ltd| 22578135006|    2021-04-29|    1|  0|  0|  0|  0|  0|  0|  1|     0|   1|          0|\n",
       "+-------------+------------+--------------+-----+---+---+---+---+---+---+---+------+----+-----------+"
      ]
     },
     "execution_count": 41,
     "metadata": {},
     "output_type": "execute_result"
    }
   ],
   "source": [
    "agg = joined.drop(\"merchant_name_st\", \"merchant_abn_st\", \"order_datetime_st\", \n",
    "                  \"merchant_name_g\", \"merchant_abn_g\", \"order_datetime_g\")\n",
    "\n",
    "agg.limit(5)"
   ]
  },
  {
   "cell_type": "code",
   "execution_count": null,
   "id": "42faad7d-6cc0-40a7-a5a5-911d0d685eae",
   "metadata": {},
   "outputs": [],
   "source": []
  },
  {
   "cell_type": "markdown",
   "id": "bf9f134c-0701-4ba0-9fda-77ed9d29f981",
   "metadata": {},
   "source": [
    "### MONTHLY AGG"
   ]
  },
  {
   "cell_type": "code",
   "execution_count": 66,
   "id": "c1a9a8b4-94ea-4111-b92b-37f9b4f3e7cf",
   "metadata": {},
   "outputs": [
    {
     "name": "stderr",
     "output_type": "stream",
     "text": [
      "                                                                                \r"
     ]
    },
    {
     "data": {
      "text/html": [
       "<table border='1'>\n",
       "<tr><th>merchant_name</th><th>merchant_abn</th><th>year</th><th>month</th><th>count</th><th>ACT</th><th>NSW</th><th>QLD</th><th>SA</th><th>TAS</th><th>VIC</th><th>WA</th><th>Female</th><th>Male</th><th>Undisclosed</th></tr>\n",
       "<tr><td>Posuere At Velit PC</td><td>99241925348</td><td>2021</td><td>12</td><td>64</td><td>1</td><td>9</td><td>14</td><td>5</td><td>2</td><td>18</td><td>15</td><td>28</td><td>32</td><td>4</td></tr>\n",
       "<tr><td>Non Vestibulum In...</td><td>49891706470</td><td>2022</td><td>8</td><td>10754</td><td>128</td><td>2191</td><td>1898</td><td>1535</td><td>534</td><td>2446</td><td>2022</td><td>4718</td><td>4922</td><td>1114</td></tr>\n",
       "<tr><td>Accumsan Sed LLP</td><td>91630014920</td><td>2022</td><td>1</td><td>86</td><td>3</td><td>19</td><td>12</td><td>13</td><td>4</td><td>24</td><td>11</td><td>35</td><td>44</td><td>7</td></tr>\n",
       "<tr><td>Ullamcorper Velit...</td><td>95508140753</td><td>2022</td><td>3</td><td>306</td><td>4</td><td>64</td><td>43</td><td>47</td><td>14</td><td>76</td><td>58</td><td>138</td><td>129</td><td>39</td></tr>\n",
       "<tr><td>Sodales At LLC</td><td>34179569263</td><td>2022</td><td>7</td><td>944</td><td>8</td><td>216</td><td>177</td><td>134</td><td>34</td><td>193</td><td>182</td><td>404</td><td>438</td><td>102</td></tr>\n",
       "<tr><td>Nulla Aliquet LLP</td><td>26008308191</td><td>2022</td><td>5</td><td>112</td><td>0</td><td>28</td><td>18</td><td>13</td><td>5</td><td>24</td><td>24</td><td>50</td><td>51</td><td>11</td></tr>\n",
       "<tr><td>Curabitur Massa C...</td><td>83620670827</td><td>2022</td><td>9</td><td>563</td><td>9</td><td>130</td><td>82</td><td>71</td><td>27</td><td>135</td><td>109</td><td>261</td><td>239</td><td>63</td></tr>\n",
       "<tr><td>Lorem Donec Found...</td><td>39469311070</td><td>2021</td><td>11</td><td>239</td><td>3</td><td>55</td><td>43</td><td>39</td><td>8</td><td>41</td><td>50</td><td>91</td><td>122</td><td>26</td></tr>\n",
       "<tr><td>Leo Elementum Sem...</td><td>36196225600</td><td>2021</td><td>11</td><td>847</td><td>8</td><td>176</td><td>152</td><td>91</td><td>42</td><td>199</td><td>179</td><td>371</td><td>389</td><td>87</td></tr>\n",
       "<tr><td>Nibh Donec Incorp...</td><td>40555823280</td><td>2022</td><td>1</td><td>551</td><td>10</td><td>115</td><td>111</td><td>69</td><td>25</td><td>123</td><td>98</td><td>232</td><td>247</td><td>72</td></tr>\n",
       "<tr><td>Dictum Cursus Inc...</td><td>91772719127</td><td>2022</td><td>10</td><td>149</td><td>0</td><td>19</td><td>27</td><td>25</td><td>7</td><td>40</td><td>31</td><td>63</td><td>71</td><td>15</td></tr>\n",
       "<tr><td>Dapibus Quam Quis...</td><td>32825608803</td><td>2021</td><td>6</td><td>218</td><td>4</td><td>42</td><td>34</td><td>33</td><td>13</td><td>41</td><td>51</td><td>89</td><td>104</td><td>25</td></tr>\n",
       "<tr><td>Quis Corporation</td><td>50913027463</td><td>2021</td><td>12</td><td>38</td><td>1</td><td>11</td><td>3</td><td>5</td><td>3</td><td>8</td><td>7</td><td>16</td><td>20</td><td>2</td></tr>\n",
       "<tr><td>Eget Incorporated</td><td>58715026442</td><td>2021</td><td>4</td><td>123</td><td>2</td><td>29</td><td>22</td><td>11</td><td>6</td><td>30</td><td>23</td><td>61</td><td>44</td><td>18</td></tr>\n",
       "<tr><td>Libero Limited</td><td>28827474922</td><td>2022</td><td>7</td><td>165</td><td>3</td><td>42</td><td>24</td><td>20</td><td>6</td><td>43</td><td>27</td><td>64</td><td>81</td><td>20</td></tr>\n",
       "<tr><td>Non Massa Institute</td><td>54272781746</td><td>2022</td><td>9</td><td>563</td><td>9</td><td>110</td><td>94</td><td>76</td><td>26</td><td>128</td><td>120</td><td>269</td><td>236</td><td>58</td></tr>\n",
       "<tr><td>Rhoncus Donec Ass...</td><td>96152467973</td><td>2022</td><td>1</td><td>1971</td><td>19</td><td>403</td><td>372</td><td>250</td><td>76</td><td>471</td><td>380</td><td>888</td><td>877</td><td>206</td></tr>\n",
       "<tr><td>Hendrerit A Arcu ...</td><td>24989367414</td><td>2022</td><td>6</td><td>117</td><td>1</td><td>15</td><td>23</td><td>20</td><td>6</td><td>27</td><td>25</td><td>62</td><td>46</td><td>9</td></tr>\n",
       "<tr><td>Nulla Integer Vul...</td><td>43660707274</td><td>2021</td><td>12</td><td>263</td><td>1</td><td>50</td><td>38</td><td>43</td><td>16</td><td>67</td><td>48</td><td>108</td><td>128</td><td>27</td></tr>\n",
       "<tr><td>Feugiat Institute</td><td>30166624802</td><td>2021</td><td>9</td><td>55</td><td>0</td><td>11</td><td>10</td><td>5</td><td>4</td><td>17</td><td>8</td><td>23</td><td>29</td><td>3</td></tr>\n",
       "</table>\n"
      ],
      "text/plain": [
       "+--------------------+------------+----+-----+-----+---+----+----+----+---+----+----+------+----+-----------+\n",
       "|       merchant_name|merchant_abn|year|month|count|ACT| NSW| QLD|  SA|TAS| VIC|  WA|Female|Male|Undisclosed|\n",
       "+--------------------+------------+----+-----+-----+---+----+----+----+---+----+----+------+----+-----------+\n",
       "| Posuere At Velit PC| 99241925348|2021|   12|   64|  1|   9|  14|   5|  2|  18|  15|    28|  32|          4|\n",
       "|Non Vestibulum In...| 49891706470|2022|    8|10754|128|2191|1898|1535|534|2446|2022|  4718|4922|       1114|\n",
       "|    Accumsan Sed LLP| 91630014920|2022|    1|   86|  3|  19|  12|  13|  4|  24|  11|    35|  44|          7|\n",
       "|Ullamcorper Velit...| 95508140753|2022|    3|  306|  4|  64|  43|  47| 14|  76|  58|   138| 129|         39|\n",
       "|      Sodales At LLC| 34179569263|2022|    7|  944|  8| 216| 177| 134| 34| 193| 182|   404| 438|        102|\n",
       "|   Nulla Aliquet LLP| 26008308191|2022|    5|  112|  0|  28|  18|  13|  5|  24|  24|    50|  51|         11|\n",
       "|Curabitur Massa C...| 83620670827|2022|    9|  563|  9| 130|  82|  71| 27| 135| 109|   261| 239|         63|\n",
       "|Lorem Donec Found...| 39469311070|2021|   11|  239|  3|  55|  43|  39|  8|  41|  50|    91| 122|         26|\n",
       "|Leo Elementum Sem...| 36196225600|2021|   11|  847|  8| 176| 152|  91| 42| 199| 179|   371| 389|         87|\n",
       "|Nibh Donec Incorp...| 40555823280|2022|    1|  551| 10| 115| 111|  69| 25| 123|  98|   232| 247|         72|\n",
       "|Dictum Cursus Inc...| 91772719127|2022|   10|  149|  0|  19|  27|  25|  7|  40|  31|    63|  71|         15|\n",
       "|Dapibus Quam Quis...| 32825608803|2021|    6|  218|  4|  42|  34|  33| 13|  41|  51|    89| 104|         25|\n",
       "|    Quis Corporation| 50913027463|2021|   12|   38|  1|  11|   3|   5|  3|   8|   7|    16|  20|          2|\n",
       "|   Eget Incorporated| 58715026442|2021|    4|  123|  2|  29|  22|  11|  6|  30|  23|    61|  44|         18|\n",
       "|      Libero Limited| 28827474922|2022|    7|  165|  3|  42|  24|  20|  6|  43|  27|    64|  81|         20|\n",
       "| Non Massa Institute| 54272781746|2022|    9|  563|  9| 110|  94|  76| 26| 128| 120|   269| 236|         58|\n",
       "|Rhoncus Donec Ass...| 96152467973|2022|    1| 1971| 19| 403| 372| 250| 76| 471| 380|   888| 877|        206|\n",
       "|Hendrerit A Arcu ...| 24989367414|2022|    6|  117|  1|  15|  23|  20|  6|  27|  25|    62|  46|          9|\n",
       "|Nulla Integer Vul...| 43660707274|2021|   12|  263|  1|  50|  38|  43| 16|  67|  48|   108| 128|         27|\n",
       "|   Feugiat Institute| 30166624802|2021|    9|   55|  0|  11|  10|   5|  4|  17|   8|    23|  29|          3|\n",
       "+--------------------+------------+----+-----+-----+---+----+----+----+---+----+----+------+----+-----------+"
      ]
     },
     "execution_count": 66,
     "metadata": {},
     "output_type": "execute_result"
    }
   ],
   "source": [
    "from pyspark.sql.functions import year, month\n",
    "\n",
    "data_month = data.withColumn('year',year(data.order_datetime))\n",
    "data_month = data_month.withColumn('month',month(data_month.order_datetime))\n",
    "data_month.limit(5)\n",
    "\n",
    "states_month = data_month.groupBy(\"merchant_name\", \"merchant_abn\", \"year\", \"month\").pivot('state').count().fillna(0)\n",
    "total_count_month = data_month.groupBy(\"merchant_name\", \"merchant_abn\", \"year\", \"month\").count()\n",
    "genders_month = data_month.groupBy(\"merchant_name\", \"merchant_abn\", \"year\", \"month\").pivot('gender').count().fillna(0)\n",
    "\n",
    "states_month = states_month.withColumnRenamed(\"merchant_name\", \"merchant_name_st\") \\\n",
    "    .withColumnRenamed(\"merchant_abn\", 'merchant_abn_st') \\\n",
    "    .withColumnRenamed(\"year\", 'year_st') \\\n",
    "    .withColumnRenamed(\"month\", 'month_st')\n",
    "genders_month = genders_month.withColumnRenamed(\"merchant_name\", \"merchant_name_g\") \\\n",
    "    .withColumnRenamed(\"merchant_abn\", 'merchant_abn_g') \\\n",
    "    .withColumnRenamed(\"year\", 'year_g') \\\n",
    "    .withColumnRenamed(\"month\", 'month_g')\n",
    "\n",
    "joined_month = total_count_month.join(states_month,(total_count_month[\"merchant_name\"] == states_month[\"merchant_name_st\"]) & \\\n",
    "                 (total_count_month[\"merchant_abn\"] == states_month[\"merchant_abn_st\"]) & \\\n",
    "                 (total_count_month[\"year\"] == states_month[\"year_st\"]) & \\\n",
    "                 (total_count_month[\"month\"] == states_month[\"month_st\"]))\\\n",
    "    .join(genders_month,(total_count_month[\"merchant_name\"] == genders_month[\"merchant_name_g\"]) & \\\n",
    "                 (total_count_month[\"merchant_abn\"] == genders_month[\"merchant_abn_g\"]) & \\\n",
    "                 (total_count_month[\"year\"] == genders_month[\"year_g\"]) & \\\n",
    "                 (total_count_month[\"month\"] == genders_month[\"month_g\"]))\n",
    "\n",
    "agg_month = joined_month.drop(\"merchant_name_st\", \"merchant_abn_st\", \"year_st\", \"month_st\", \n",
    "                  \"merchant_name_g\", \"merchant_abn_g\", \"year_g\", \"month_g\")\n",
    "\n",
    "agg_month.limit(20)"
   ]
  },
  {
   "cell_type": "code",
   "execution_count": 67,
   "id": "2b9553c0-bbb4-4983-a0bd-cdd4b892ac91",
   "metadata": {},
   "outputs": [
    {
     "name": "stderr",
     "output_type": "stream",
     "text": [
      "                                                                                \r"
     ]
    },
    {
     "data": {
      "text/plain": [
       "75083"
      ]
     },
     "execution_count": 67,
     "metadata": {},
     "output_type": "execute_result"
    }
   ],
   "source": [
    "agg_month.count()"
   ]
  },
  {
   "cell_type": "code",
   "execution_count": 68,
   "id": "f5da0ade-3171-44d6-89ae-d88d42127916",
   "metadata": {},
   "outputs": [
    {
     "name": "stdout",
     "output_type": "stream",
     "text": [
      "root\n",
      " |-- merchant_name: string (nullable = true)\n",
      " |-- merchant_abn: long (nullable = true)\n",
      " |-- year: integer (nullable = true)\n",
      " |-- month: integer (nullable = true)\n",
      " |-- count: long (nullable = false)\n",
      " |-- ACT: long (nullable = true)\n",
      " |-- NSW: long (nullable = true)\n",
      " |-- QLD: long (nullable = true)\n",
      " |-- SA: long (nullable = true)\n",
      " |-- TAS: long (nullable = true)\n",
      " |-- VIC: long (nullable = true)\n",
      " |-- WA: long (nullable = true)\n",
      " |-- Female: long (nullable = true)\n",
      " |-- Male: long (nullable = true)\n",
      " |-- Undisclosed: long (nullable = true)\n",
      "\n"
     ]
    }
   ],
   "source": [
    "agg_month.printSchema()"
   ]
  },
  {
   "cell_type": "code",
   "execution_count": 69,
   "id": "63c70b8e-26bc-462f-95b5-5bc7925c3793",
   "metadata": {},
   "outputs": [
    {
     "name": "stderr",
     "output_type": "stream",
     "text": [
      "                                                                                \r"
     ]
    },
    {
     "data": {
      "text/html": [
       "<table border='1'>\n",
       "<tr><th>merchant_name</th><th>merchant_abn</th><th>count</th><th>year</th><th>month</th></tr>\n",
       "<tr><td>Posuere At Velit PC</td><td>99241925348</td><td>64</td><td>2021</td><td>12</td></tr>\n",
       "<tr><td>Non Vestibulum In...</td><td>49891706470</td><td>10754</td><td>2022</td><td>8</td></tr>\n",
       "<tr><td>Accumsan Sed LLP</td><td>91630014920</td><td>86</td><td>2022</td><td>1</td></tr>\n",
       "<tr><td>Ullamcorper Velit...</td><td>95508140753</td><td>306</td><td>2022</td><td>3</td></tr>\n",
       "<tr><td>Sodales At LLC</td><td>34179569263</td><td>944</td><td>2022</td><td>7</td></tr>\n",
       "</table>\n"
      ],
      "text/plain": [
       "+--------------------+------------+-----+----+-----+\n",
       "|       merchant_name|merchant_abn|count|year|month|\n",
       "+--------------------+------------+-----+----+-----+\n",
       "| Posuere At Velit PC| 99241925348|   64|2021|   12|\n",
       "|Non Vestibulum In...| 49891706470|10754|2022|    8|\n",
       "|    Accumsan Sed LLP| 91630014920|   86|2022|    1|\n",
       "|Ullamcorper Velit...| 95508140753|  306|2022|    3|\n",
       "|      Sodales At LLC| 34179569263|  944|2022|    7|\n",
       "+--------------------+------------+-----+----+-----+"
      ]
     },
     "execution_count": 69,
     "metadata": {},
     "output_type": "execute_result"
    }
   ],
   "source": [
    "agg_projection = agg_month.select(\"merchant_name\", \"merchant_abn\", \"count\", \"year\", \"month\")\n",
    "agg_projection.limit(5)"
   ]
  },
  {
   "cell_type": "code",
   "execution_count": null,
   "id": "559ef585-5e0e-4cf0-b6f8-4ac7bc55f0fe",
   "metadata": {},
   "outputs": [],
   "source": [
    "agg_projection.withColumn(\"prev_month\")"
   ]
  },
  {
   "cell_type": "code",
   "execution_count": null,
   "id": "31f24693-75af-4822-be54-692c5473f067",
   "metadata": {},
   "outputs": [],
   "source": []
  },
  {
   "cell_type": "code",
   "execution_count": null,
   "id": "87a885e4-ca43-4e35-8f83-90f74329607b",
   "metadata": {},
   "outputs": [],
   "source": []
  },
  {
   "cell_type": "code",
   "execution_count": null,
   "id": "6f61678a-b745-4e8a-b9d8-254ac4419d50",
   "metadata": {},
   "outputs": [],
   "source": []
  },
  {
   "cell_type": "code",
   "execution_count": null,
   "id": "c4be1cdb-789f-4e24-8d46-c6aa6e0cc62a",
   "metadata": {},
   "outputs": [],
   "source": []
  },
  {
   "cell_type": "code",
   "execution_count": null,
   "id": "2ae512b3-2383-484a-9cf0-aae833abe0ce",
   "metadata": {},
   "outputs": [],
   "source": []
  },
  {
   "cell_type": "code",
   "execution_count": null,
   "id": "7cb1a571-4764-48c9-a933-f74915b7642e",
   "metadata": {},
   "outputs": [],
   "source": []
  },
  {
   "cell_type": "code",
   "execution_count": null,
   "id": "8691e41b-911a-4eec-8fd6-8ba89c2def28",
   "metadata": {},
   "outputs": [],
   "source": []
  },
  {
   "cell_type": "code",
   "execution_count": null,
   "id": "e4041d88-3b5d-4d23-97d3-c383af9840c7",
   "metadata": {},
   "outputs": [],
   "source": []
  },
  {
   "cell_type": "code",
   "execution_count": null,
   "id": "de0eb4c9-cbf7-41ba-b292-09d5e6f26bcc",
   "metadata": {},
   "outputs": [],
   "source": []
  },
  {
   "cell_type": "code",
   "execution_count": null,
   "id": "9d05957f-6544-4711-8e36-a41cd041575a",
   "metadata": {},
   "outputs": [],
   "source": []
  },
  {
   "cell_type": "code",
   "execution_count": null,
   "id": "5ab1684c-fc2c-4720-b007-290b4ba46816",
   "metadata": {},
   "outputs": [],
   "source": []
  },
  {
   "cell_type": "markdown",
   "id": "19256cf2-0bfc-4bd4-83ba-b61a3fdc67c3",
   "metadata": {},
   "source": [
    "### Modelling"
   ]
  },
  {
   "cell_type": "code",
   "execution_count": 46,
   "id": "96c5aff3-ffca-47a2-8a0e-4bcec312110d",
   "metadata": {},
   "outputs": [],
   "source": [
    "from pyspark.ml.feature import StringIndexer, OneHotEncoder\n",
    "from pyspark.ml.feature import VectorAssembler\n",
    "import numpy as np\n",
    "import pandas as pd\n",
    "\n",
    "# https://goodboychan.github.io/python/datacamp/pyspark/2020/08/11/01-Regression-in-PySpark.html#One-Hot-Encoding"
   ]
  },
  {
   "cell_type": "code",
   "execution_count": 49,
   "id": "62530177-a81a-42c2-9e41-fd9bc66d39dc",
   "metadata": {},
   "outputs": [
    {
     "name": "stderr",
     "output_type": "stream",
     "text": [
      "                                                                                \r"
     ]
    },
    {
     "data": {
      "text/html": [
       "<table border='1'>\n",
       "<tr><th>merchant_name</th><th>merchant_abn</th><th>order_datetime</th><th>count</th><th>ACT</th><th>NSW</th><th>QLD</th><th>SA</th><th>TAS</th><th>VIC</th><th>WA</th><th>Female</th><th>Male</th><th>Undisclosed</th><th>merchant_name_idx</th><th>merchant_name_dummy</th></tr>\n",
       "<tr><td>A Aliquet Ltd</td><td>22578135006</td><td>2021-03-30</td><td>1</td><td>0</td><td>0</td><td>0</td><td>1</td><td>0</td><td>0</td><td>0</td><td>1</td><td>0</td><td>0</td><td>1367.0</td><td>(4021,[1367],[1.0])</td></tr>\n",
       "<tr><td>A Aliquet Ltd</td><td>22578135006</td><td>2021-03-31</td><td>1</td><td>0</td><td>0</td><td>1</td><td>0</td><td>0</td><td>0</td><td>0</td><td>1</td><td>0</td><td>0</td><td>1367.0</td><td>(4021,[1367],[1.0])</td></tr>\n",
       "<tr><td>A Aliquet Ltd</td><td>22578135006</td><td>2021-04-07</td><td>1</td><td>0</td><td>0</td><td>0</td><td>0</td><td>0</td><td>1</td><td>0</td><td>0</td><td>0</td><td>1</td><td>1367.0</td><td>(4021,[1367],[1.0])</td></tr>\n",
       "<tr><td>A Aliquet Ltd</td><td>22578135006</td><td>2021-04-27</td><td>3</td><td>0</td><td>0</td><td>1</td><td>1</td><td>0</td><td>1</td><td>0</td><td>1</td><td>2</td><td>0</td><td>1367.0</td><td>(4021,[1367],[1.0])</td></tr>\n",
       "<tr><td>A Aliquet Ltd</td><td>22578135006</td><td>2021-04-29</td><td>1</td><td>0</td><td>0</td><td>0</td><td>0</td><td>0</td><td>0</td><td>1</td><td>0</td><td>1</td><td>0</td><td>1367.0</td><td>(4021,[1367],[1.0])</td></tr>\n",
       "</table>\n"
      ],
      "text/plain": [
       "+-------------+------------+--------------+-----+---+---+---+---+---+---+---+------+----+-----------+-----------------+-------------------+\n",
       "|merchant_name|merchant_abn|order_datetime|count|ACT|NSW|QLD| SA|TAS|VIC| WA|Female|Male|Undisclosed|merchant_name_idx|merchant_name_dummy|\n",
       "+-------------+------------+--------------+-----+---+---+---+---+---+---+---+------+----+-----------+-----------------+-------------------+\n",
       "|A Aliquet Ltd| 22578135006|    2021-03-30|    1|  0|  0|  0|  1|  0|  0|  0|     1|   0|          0|           1367.0|(4021,[1367],[1.0])|\n",
       "|A Aliquet Ltd| 22578135006|    2021-03-31|    1|  0|  0|  1|  0|  0|  0|  0|     1|   0|          0|           1367.0|(4021,[1367],[1.0])|\n",
       "|A Aliquet Ltd| 22578135006|    2021-04-07|    1|  0|  0|  0|  0|  0|  1|  0|     0|   0|          1|           1367.0|(4021,[1367],[1.0])|\n",
       "|A Aliquet Ltd| 22578135006|    2021-04-27|    3|  0|  0|  1|  1|  0|  1|  0|     1|   2|          0|           1367.0|(4021,[1367],[1.0])|\n",
       "|A Aliquet Ltd| 22578135006|    2021-04-29|    1|  0|  0|  0|  0|  0|  0|  1|     0|   1|          0|           1367.0|(4021,[1367],[1.0])|\n",
       "+-------------+------------+--------------+-----+---+---+---+---+---+---+---+------+----+-----------+-----------------+-------------------+"
      ]
     },
     "execution_count": 49,
     "metadata": {},
     "output_type": "execute_result"
    }
   ],
   "source": [
    "agg1 = StringIndexer(inputCol='merchant_name', outputCol='merchant_name_idx').fit(agg).transform(agg)\n",
    "onehot = OneHotEncoder(inputCols=['merchant_name_idx'], outputCols=['merchant_name_dummy'])\n",
    "onehot = onehot.fit(agg1)\n",
    "agg2 = onehot.transform(agg1)\n",
    "agg2.limit(5)"
   ]
  },
  {
   "cell_type": "code",
   "execution_count": 52,
   "id": "a0e78e90-ef69-4314-8696-ded013ff90e5",
   "metadata": {},
   "outputs": [
    {
     "name": "stderr",
     "output_type": "stream",
     "text": [
      "                                                                                \r"
     ]
    },
    {
     "data": {
      "text/html": [
       "<table border='1'>\n",
       "<tr><th>merchant_name</th><th>merchant_abn</th><th>order_datetime</th><th>count</th><th>ACT</th><th>NSW</th><th>QLD</th><th>SA</th><th>TAS</th><th>VIC</th><th>WA</th><th>Female</th><th>Male</th><th>Undisclosed</th><th>merchant_name_idx</th><th>merchant_name_dummy</th><th>features</th></tr>\n",
       "<tr><td>A Aliquet Ltd</td><td>22578135006</td><td>2021-03-30</td><td>1</td><td>0</td><td>0</td><td>0</td><td>1</td><td>0</td><td>0</td><td>0</td><td>1</td><td>0</td><td>0</td><td>1367.0</td><td>(4021,[1367],[1.0])</td><td>(4031,[1367,4024,...</td></tr>\n",
       "<tr><td>A Aliquet Ltd</td><td>22578135006</td><td>2021-03-31</td><td>1</td><td>0</td><td>0</td><td>1</td><td>0</td><td>0</td><td>0</td><td>0</td><td>1</td><td>0</td><td>0</td><td>1367.0</td><td>(4021,[1367],[1.0])</td><td>(4031,[1367,4023,...</td></tr>\n",
       "<tr><td>A Aliquet Ltd</td><td>22578135006</td><td>2021-04-07</td><td>1</td><td>0</td><td>0</td><td>0</td><td>0</td><td>0</td><td>1</td><td>0</td><td>0</td><td>0</td><td>1</td><td>1367.0</td><td>(4021,[1367],[1.0])</td><td>(4031,[1367,4026,...</td></tr>\n",
       "<tr><td>A Aliquet Ltd</td><td>22578135006</td><td>2021-04-27</td><td>3</td><td>0</td><td>0</td><td>1</td><td>1</td><td>0</td><td>1</td><td>0</td><td>1</td><td>2</td><td>0</td><td>1367.0</td><td>(4021,[1367],[1.0])</td><td>(4031,[1367,4023,...</td></tr>\n",
       "<tr><td>A Aliquet Ltd</td><td>22578135006</td><td>2021-04-29</td><td>1</td><td>0</td><td>0</td><td>0</td><td>0</td><td>0</td><td>0</td><td>1</td><td>0</td><td>1</td><td>0</td><td>1367.0</td><td>(4021,[1367],[1.0])</td><td>(4031,[1367,4027,...</td></tr>\n",
       "</table>\n"
      ],
      "text/plain": [
       "+-------------+------------+--------------+-----+---+---+---+---+---+---+---+------+----+-----------+-----------------+-------------------+--------------------+\n",
       "|merchant_name|merchant_abn|order_datetime|count|ACT|NSW|QLD| SA|TAS|VIC| WA|Female|Male|Undisclosed|merchant_name_idx|merchant_name_dummy|            features|\n",
       "+-------------+------------+--------------+-----+---+---+---+---+---+---+---+------+----+-----------+-----------------+-------------------+--------------------+\n",
       "|A Aliquet Ltd| 22578135006|    2021-03-30|    1|  0|  0|  0|  1|  0|  0|  0|     1|   0|          0|           1367.0|(4021,[1367],[1.0])|(4031,[1367,4024,...|\n",
       "|A Aliquet Ltd| 22578135006|    2021-03-31|    1|  0|  0|  1|  0|  0|  0|  0|     1|   0|          0|           1367.0|(4021,[1367],[1.0])|(4031,[1367,4023,...|\n",
       "|A Aliquet Ltd| 22578135006|    2021-04-07|    1|  0|  0|  0|  0|  0|  1|  0|     0|   0|          1|           1367.0|(4021,[1367],[1.0])|(4031,[1367,4026,...|\n",
       "|A Aliquet Ltd| 22578135006|    2021-04-27|    3|  0|  0|  1|  1|  0|  1|  0|     1|   2|          0|           1367.0|(4021,[1367],[1.0])|(4031,[1367,4023,...|\n",
       "|A Aliquet Ltd| 22578135006|    2021-04-29|    1|  0|  0|  0|  0|  0|  0|  1|     0|   1|          0|           1367.0|(4021,[1367],[1.0])|(4031,[1367,4027,...|\n",
       "+-------------+------------+--------------+-----+---+---+---+---+---+---+---+------+----+-----------+-----------------+-------------------+--------------------+"
      ]
     },
     "execution_count": 52,
     "metadata": {},
     "output_type": "execute_result"
    }
   ],
   "source": [
    "# Assembling Features Vector\n",
    "assembler = VectorAssembler(inputCols=['merchant_name_dummy', 'ACT', 'NSW', 'QLD', 'SA', 'TAS', 'VIC', \n",
    "                                       'WA', 'Female', 'Male', 'Undisclosed'], outputCol='features')\n",
    "agg_with_features = assembler.transform(agg2)\n",
    "\n",
    "agg_with_features.limit(5)"
   ]
  },
  {
   "cell_type": "code",
   "execution_count": 55,
   "id": "46f7c8ea-fcee-441d-969a-1da9b725af8a",
   "metadata": {},
   "outputs": [
    {
     "name": "stderr",
     "output_type": "stream",
     "text": [
      "[Stage 1002:>                                                       (0 + 8) / 9]\r"
     ]
    },
    {
     "name": "stdout",
     "output_type": "stream",
     "text": [
      "22/09/27 20:51:50 WARN Instrumentation: [9b168944] regParam is zero, which might cause numerical instability and overfitting.\n"
     ]
    },
    {
     "name": "stderr",
     "output_type": "stream",
     "text": [
      "                                                                                \r"
     ]
    },
    {
     "name": "stdout",
     "output_type": "stream",
     "text": [
      "22/09/27 20:52:24 WARN Instrumentation: [9b168944] Cholesky solver failed due to singular covariance matrix. Retrying with Quasi-Newton solver.\n"
     ]
    },
    {
     "name": "stderr",
     "output_type": "stream",
     "text": [
      "                                                                                \r"
     ]
    },
    {
     "name": "stdout",
     "output_type": "stream",
     "text": [
      "+-----+------------------+\n",
      "|count|prediction        |\n",
      "+-----+------------------+\n",
      "|1    |1.0000028702662689|\n",
      "|1    |1.00000144595388  |\n",
      "|1    |0.9999999510487684|\n",
      "|2    |2.0000019600816743|\n",
      "|1    |0.9999978940487763|\n",
      "+-----+------------------+\n",
      "only showing top 5 rows\n",
      "\n"
     ]
    },
    {
     "name": "stderr",
     "output_type": "stream",
     "text": [
      "                                                                                \r"
     ]
    },
    {
     "data": {
      "text/plain": [
       "5.558028045437251e-06"
      ]
     },
     "execution_count": 55,
     "metadata": {},
     "output_type": "execute_result"
    }
   ],
   "source": [
    "from pyspark.ml.regression import LinearRegression\n",
    "from pyspark.ml.evaluation import RegressionEvaluator\n",
    "\n",
    "train, test = agg_with_features.randomSplit([0.8, 0.2])\n",
    "\n",
    "# Create a regression object and train on training data\n",
    "regression = LinearRegression(featuresCol='features', labelCol='count').fit(train)\n",
    "\n",
    "# Create predictions for the test data\n",
    "predictions = regression.transform(test)\n",
    "predictions.select('count', 'prediction').show(5, False)\n",
    "\n",
    "# Calculate the RMSE on test data\n",
    "RegressionEvaluator(labelCol='count', metricName='rmse').evaluate(predictions)"
   ]
  },
  {
   "cell_type": "code",
   "execution_count": 56,
   "id": "13514963-2c1f-4e51-a3ee-845eaffe51d7",
   "metadata": {},
   "outputs": [
    {
     "name": "stderr",
     "output_type": "stream",
     "text": [
      "[Stage 1097:>                                                       (0 + 1) / 1]\r"
     ]
    },
    {
     "name": "stdout",
     "output_type": "stream",
     "text": [
      "+-----+------------------+\n",
      "|count|prediction        |\n",
      "+-----+------------------+\n",
      "|1    |1.0000028702662689|\n",
      "|1    |1.00000144595388  |\n",
      "|1    |0.9999999510487684|\n",
      "|2    |2.0000019600816743|\n",
      "|1    |0.9999978940487763|\n",
      "|1    |0.9999997105109651|\n",
      "|2    |1.9999969716385613|\n",
      "|4    |3.999997929301428 |\n",
      "|1    |1.0000009264518672|\n",
      "|3    |2.999997414260697 |\n",
      "|2    |2.0000029343821804|\n",
      "|13   |12.999990964074936|\n",
      "|1    |0.9999996172660707|\n",
      "|4    |3.999996575581761 |\n",
      "|2    |2.000002794299328 |\n",
      "|3    |2.999993933861252 |\n",
      "|4    |4.000000865939076 |\n",
      "|6    |5.999993027818121 |\n",
      "|3    |2.999995990861244 |\n",
      "|4    |3.999992918976616 |\n",
      "+-----+------------------+\n",
      "only showing top 20 rows\n",
      "\n"
     ]
    },
    {
     "name": "stderr",
     "output_type": "stream",
     "text": [
      "                                                                                \r"
     ]
    }
   ],
   "source": [
    "predictions.select('count', 'prediction').show(20, False)"
   ]
  },
  {
   "cell_type": "code",
   "execution_count": null,
   "id": "f1fd5cdb-d102-4a8b-b678-5de1e68741be",
   "metadata": {},
   "outputs": [],
   "source": []
  },
  {
   "cell_type": "code",
   "execution_count": null,
   "id": "21991cd1-7d1b-487a-a742-781084f09aa4",
   "metadata": {},
   "outputs": [],
   "source": []
  },
  {
   "cell_type": "markdown",
   "id": "309349df-1fb6-49f1-af1b-b279b93fc5e9",
   "metadata": {},
   "source": [
    "- create features for states DONE\n",
    "- create features for total customers DONE\n",
    "- create feature for genders DONE\n",
    "- create feature for month and year DONE\n",
    "- aggregate by month and year DONE\n",
    "- offset features for the month before\n",
    "- create model DONE"
   ]
  },
  {
   "cell_type": "code",
   "execution_count": null,
   "id": "4cd542ad-6a97-48fa-9c59-aeb89c835002",
   "metadata": {},
   "outputs": [],
   "source": []
  }
 ],
 "metadata": {
  "kernelspec": {
   "display_name": "Python 3 (ipykernel)",
   "language": "python",
   "name": "python3"
  },
  "language_info": {
   "codemirror_mode": {
    "name": "ipython",
    "version": 3
   },
   "file_extension": ".py",
   "mimetype": "text/x-python",
   "name": "python",
   "nbconvert_exporter": "python",
   "pygments_lexer": "ipython3",
   "version": "3.10.2"
  }
 },
 "nbformat": 4,
 "nbformat_minor": 5
}
