{
 "cells": [
  {
   "cell_type": "code",
   "execution_count": 1,
   "metadata": {},
   "outputs": [],
   "source": [
    "import folium"
   ]
  },
  {
   "cell_type": "code",
   "execution_count": 2,
   "metadata": {},
   "outputs": [
    {
     "name": "stdout",
     "output_type": "stream",
     "text": [
      "22/10/07 06:46:30 WARN Utils: Your hostname, mast30034 resolves to a loopback address: 127.0.1.1; using 45.113.234.45 instead (on interface eth0)\n",
      "22/10/07 06:46:30 WARN Utils: Set SPARK_LOCAL_IP if you need to bind to another address\n"
     ]
    },
    {
     "name": "stderr",
     "output_type": "stream",
     "text": [
      "Setting default log level to \"WARN\".\n",
      "To adjust logging level use sc.setLogLevel(newLevel). For SparkR, use setLogLevel(newLevel).\n"
     ]
    },
    {
     "name": "stdout",
     "output_type": "stream",
     "text": [
      "22/10/07 06:46:31 WARN NativeCodeLoader: Unable to load native-hadoop library for your platform... using builtin-java classes where applicable\n",
      "22/10/07 06:46:31 WARN Utils: Service 'SparkUI' could not bind on port 4040. Attempting port 4041.\n",
      "22/10/07 06:46:31 WARN Utils: Service 'SparkUI' could not bind on port 4041. Attempting port 4042.\n",
      "22/10/07 06:46:31 WARN Utils: Service 'SparkUI' could not bind on port 4042. Attempting port 4043.\n",
      "22/10/07 06:46:31 WARN Utils: Service 'SparkUI' could not bind on port 4043. Attempting port 4044.\n"
     ]
    },
    {
     "name": "stderr",
     "output_type": "stream",
     "text": [
      "/opt/miniconda3/lib/python3.8/site-packages/geopandas/io/file.py:299: FutureWarning: pandas.Int64Index is deprecated and will be removed from pandas in a future version. Use pandas.Index with the appropriate dtype instead.\n",
      "  pd.Int64Index,\n"
     ]
    },
    {
     "name": "stdout",
     "output_type": "stream",
     "text": [
      "22/10/07 06:47:28 WARN package: Truncated the string representation of a plan since it was too large. This behavior can be adjusted by setting 'spark.sql.debug.maxToStringFields'.\n"
     ]
    },
    {
     "name": "stderr",
     "output_type": "stream",
     "text": [
      "                                                                                \r"
     ]
    }
   ],
   "source": [
    "%run '../scripts/ETL.py' '../scripts/paths.json'"
   ]
  },
  {
   "cell_type": "code",
   "execution_count": 42,
   "metadata": {},
   "outputs": [
    {
     "name": "stderr",
     "output_type": "stream",
     "text": [
      "                                                                                \r"
     ]
    },
    {
     "data": {
      "text/html": [
       "<table border='1'>\n",
       "<tr><th>merchant_name</th><th>merchant_abn</th><th>categories</th><th>take_rate</th><th>revenue_levels</th><th>name</th><th>address</th><th>state</th><th>gender</th><th>trans_merchant_abn</th><th>dollar_value</th><th>order_id</th><th>order_datetime</th><th>user_id</th><th>consumer_id</th><th>suburb</th><th>postcodes</th><th>long</th><th>lat</th><th>int_sa2</th><th>SA2_code</th><th>SA2_name</th><th>income_2018-2019</th><th>total_males</th><th>total_females</th><th>total_persons</th><th>state_code</th><th>state_name</th><th>population_2020</th><th>population_2021</th><th>fraud_probability_consumer</th><th>fraud_probability_merchant</th></tr>\n",
       "<tr><td>null</td><td>null</td><td>null</td><td>null</td><td>null</td><td>Lawrence Tyler</td><td>3511 Victoria Meadow</td><td>NSW</td><td>Male</td><td>32234779638</td><td>39.304036732369084</td><td>02e36af7-8c70-436...</td><td>2021-11-30</td><td>18983</td><td>36103</td><td>REVESBY</td><td>2212</td><td>151.014547</td><td>-33.947286</td><td>119011360</td><td>119011360</td><td>Revesby</td><td>576485403</td><td>8603</td><td>9061</td><td>17664</td><td>1</td><td>New South Wales</td><td>17719</td><td>17710</td><td>0.01</td><td>0.01</td></tr>\n",
       "<tr><td>Lorem Ipsum Sodal...</td><td>43186523025</td><td>florists supplies...</td><td>4.47</td><td>b</td><td>Lawrence Tyler</td><td>3511 Victoria Meadow</td><td>NSW</td><td>Male</td><td>43186523025</td><td>56.35375319523918</td><td>a1d3526c-f212-41f...</td><td>2022-06-06</td><td>18983</td><td>36103</td><td>REVESBY</td><td>2212</td><td>151.014547</td><td>-33.947286</td><td>119011360</td><td>119011360</td><td>Revesby</td><td>576485403</td><td>8603</td><td>9061</td><td>17664</td><td>1</td><td>New South Wales</td><td>17719</td><td>17710</td><td>0.01</td><td>0.01</td></tr>\n",
       "<tr><td>Pede Blandit LLP</td><td>28517327395</td><td>books, periodical...</td><td>0.47</td><td>e</td><td>Lawrence Tyler</td><td>3511 Victoria Meadow</td><td>NSW</td><td>Male</td><td>28517327395</td><td>276.3597685809581</td><td>b90e183b-25d4-4a6...</td><td>2022-06-14</td><td>18983</td><td>36103</td><td>REVESBY</td><td>2212</td><td>151.014547</td><td>-33.947286</td><td>119011360</td><td>119011360</td><td>Revesby</td><td>576485403</td><td>8603</td><td>9061</td><td>17664</td><td>1</td><td>New South Wales</td><td>17719</td><td>17710</td><td>0.01</td><td>0.01</td></tr>\n",
       "<tr><td>Nullam Suscipit LLC</td><td>86388904574</td><td>computers, comput...</td><td>4.96</td><td>b</td><td>Lawrence Tyler</td><td>3511 Victoria Meadow</td><td>NSW</td><td>Male</td><td>86388904574</td><td>121.9799348513232</td><td>4c55adbf-7114-4bd...</td><td>2022-05-24</td><td>18983</td><td>36103</td><td>REVESBY</td><td>2212</td><td>151.014547</td><td>-33.947286</td><td>119011360</td><td>119011360</td><td>Revesby</td><td>576485403</td><td>8603</td><td>9061</td><td>17664</td><td>1</td><td>New South Wales</td><td>17719</td><td>17710</td><td>0.01</td><td>0.01</td></tr>\n",
       "<tr><td>Phasellus At Limited</td><td>76767266140</td><td>furniture, home f...</td><td>4.65</td><td>b</td><td>Lawrence Tyler</td><td>3511 Victoria Meadow</td><td>NSW</td><td>Male</td><td>76767266140</td><td>59.46778996058449</td><td>4e66a3c6-9691-44a...</td><td>2022-03-05</td><td>18983</td><td>36103</td><td>REVESBY</td><td>2212</td><td>151.014547</td><td>-33.947286</td><td>119011360</td><td>119011360</td><td>Revesby</td><td>576485403</td><td>8603</td><td>9061</td><td>17664</td><td>1</td><td>New South Wales</td><td>17719</td><td>17710</td><td>0.01</td><td>0.01</td></tr>\n",
       "</table>\n"
      ],
      "text/plain": [
       "+--------------------+------------+--------------------+---------+--------------+--------------+--------------------+-----+------+------------------+------------------+--------------------+--------------+-------+-----------+-------+---------+----------+----------+---------+---------+--------+----------------+-----------+-------------+-------------+----------+---------------+---------------+---------------+--------------------------+--------------------------+\n",
       "|       merchant_name|merchant_abn|          categories|take_rate|revenue_levels|          name|             address|state|gender|trans_merchant_abn|      dollar_value|            order_id|order_datetime|user_id|consumer_id| suburb|postcodes|      long|       lat|  int_sa2| SA2_code|SA2_name|income_2018-2019|total_males|total_females|total_persons|state_code|     state_name|population_2020|population_2021|fraud_probability_consumer|fraud_probability_merchant|\n",
       "+--------------------+------------+--------------------+---------+--------------+--------------+--------------------+-----+------+------------------+------------------+--------------------+--------------+-------+-----------+-------+---------+----------+----------+---------+---------+--------+----------------+-----------+-------------+-------------+----------+---------------+---------------+---------------+--------------------------+--------------------------+\n",
       "|                null|        null|                null|     null|          null|Lawrence Tyler|3511 Victoria Meadow|  NSW|  Male|       32234779638|39.304036732369084|02e36af7-8c70-436...|    2021-11-30|  18983|      36103|REVESBY|     2212|151.014547|-33.947286|119011360|119011360| Revesby|       576485403|       8603|         9061|        17664|         1|New South Wales|          17719|          17710|                      0.01|                      0.01|\n",
       "|Lorem Ipsum Sodal...| 43186523025|florists supplies...|     4.47|             b|Lawrence Tyler|3511 Victoria Meadow|  NSW|  Male|       43186523025| 56.35375319523918|a1d3526c-f212-41f...|    2022-06-06|  18983|      36103|REVESBY|     2212|151.014547|-33.947286|119011360|119011360| Revesby|       576485403|       8603|         9061|        17664|         1|New South Wales|          17719|          17710|                      0.01|                      0.01|\n",
       "|    Pede Blandit LLP| 28517327395|books, periodical...|     0.47|             e|Lawrence Tyler|3511 Victoria Meadow|  NSW|  Male|       28517327395| 276.3597685809581|b90e183b-25d4-4a6...|    2022-06-14|  18983|      36103|REVESBY|     2212|151.014547|-33.947286|119011360|119011360| Revesby|       576485403|       8603|         9061|        17664|         1|New South Wales|          17719|          17710|                      0.01|                      0.01|\n",
       "| Nullam Suscipit LLC| 86388904574|computers, comput...|     4.96|             b|Lawrence Tyler|3511 Victoria Meadow|  NSW|  Male|       86388904574| 121.9799348513232|4c55adbf-7114-4bd...|    2022-05-24|  18983|      36103|REVESBY|     2212|151.014547|-33.947286|119011360|119011360| Revesby|       576485403|       8603|         9061|        17664|         1|New South Wales|          17719|          17710|                      0.01|                      0.01|\n",
       "|Phasellus At Limited| 76767266140|furniture, home f...|     4.65|             b|Lawrence Tyler|3511 Victoria Meadow|  NSW|  Male|       76767266140| 59.46778996058449|4e66a3c6-9691-44a...|    2022-03-05|  18983|      36103|REVESBY|     2212|151.014547|-33.947286|119011360|119011360| Revesby|       576485403|       8603|         9061|        17664|         1|New South Wales|          17719|          17710|                      0.01|                      0.01|\n",
       "+--------------------+------------+--------------------+---------+--------------+--------------+--------------------+-----+------+------------------+------------------+--------------------+--------------+-------+-----------+-------+---------+----------+----------+---------+---------+--------+----------------+-----------+-------------+-------------+----------+---------------+---------------+---------------+--------------------------+--------------------------+"
      ]
     },
     "execution_count": 42,
     "metadata": {},
     "output_type": "execute_result"
    }
   ],
   "source": [
    "final_join3.limit(5)"
   ]
  },
  {
   "cell_type": "code",
   "execution_count": 39,
   "metadata": {},
   "outputs": [
    {
     "name": "stderr",
     "output_type": "stream",
     "text": [
      "                                                                                \r"
     ]
    },
    {
     "data": {
      "text/plain": [
       "2343"
      ]
     },
     "execution_count": 39,
     "metadata": {},
     "output_type": "execute_result"
    }
   ],
   "source": [
    "final_join3.select(\"postcodes\").distinct().count()"
   ]
  },
  {
   "cell_type": "code",
   "execution_count": 40,
   "metadata": {},
   "outputs": [],
   "source": [
    "num_transactions_by_postcode = final_join3.groupBy(['postcodes', 'suburb', 'long', 'lat']).count()"
   ]
  },
  {
   "cell_type": "code",
   "execution_count": 41,
   "metadata": {},
   "outputs": [
    {
     "name": "stderr",
     "output_type": "stream",
     "text": [
      "                                                                                \r"
     ]
    }
   ],
   "source": [
    "# conver transactions location to pandas df\n",
    "num_transactions_by_postcode_pdf = num_transactions_by_postcode.toPandas()\n",
    "\n",
    "aus_coords = [-25.2744, 133.7751]\n",
    "m = folium.Map(aus_coords, tiles='OpenStreetMap', zoom_start=4.5)\n",
    "\n",
    "for index, row in num_transactions_by_postcode_pdf.iterrows():\n",
    "    if row['count'] >= 10000:\n",
    "        marker_color = 'darkred'\n",
    "        fill_color = 'darkred'\n",
    "    elif row['count'] >= 5000:\n",
    "        marker_color = 'red'\n",
    "        fill_color = 'red'\n",
    "    elif row['count'] >= 500:\n",
    "        marker_color = 'darkorange'\n",
    "        fill_color = 'darkorange'\n",
    "    elif row['count'] >= 100:\n",
    "        marker_color = 'orange'\n",
    "        fill_color = 'orange'\n",
    "    elif row['count'] <= 50 :\n",
    "        marker_color = 'yellow'\n",
    "        fill_color = 'yellow'\n",
    "    else:\n",
    "        marker_color='darkpurple'\n",
    "        fill_color = 'darkpurple'\n",
    "        \n",
    "    folium.Circle(\n",
    "          location=[row['lat'], row['long']],\n",
    "          popup= 'Number of transactions: ' +str(row['count']),\n",
    "          tooltip=row['suburb'],\n",
    "          radius=row['count'],\n",
    "          color=marker_color,\n",
    "          fill=True,\n",
    "          fill_color=fill_color,\n",
    "       ).add_to(m)\n",
    "m.save('../plots/bubble_plot_num_transactions_by_location.html')"
   ]
  },
  {
   "cell_type": "markdown",
   "metadata": {},
   "source": [
    "## Fraud visualisations"
   ]
  },
  {
   "cell_type": "code",
   "execution_count": 3,
   "metadata": {},
   "outputs": [
    {
     "name": "stderr",
     "output_type": "stream",
     "text": [
      "                                                                                \r"
     ]
    }
   ],
   "source": [
    "%run '../scripts/fraud_feature.py' "
   ]
  },
  {
   "cell_type": "code",
   "execution_count": 4,
   "metadata": {},
   "outputs": [],
   "source": [
    "## The following was modified from MAST30034 Tutorial 2\n",
    "# read in shape file\n",
    "sf = gpd.read_file(\"../data/curated/boundaries.shp\")\n",
    "gdf = gpd.GeoDataFrame(sf)\n",
    "gdf['SA2_code'] = gdf['SA2_code'].astype(int)\n",
    "geoJSON = gdf[['SA2_code', 'geometry']].drop_duplicates('SA2_code').to_json()"
   ]
  },
  {
   "cell_type": "markdown",
   "metadata": {},
   "source": [
    "### Locations of fraudulent consumers"
   ]
  },
  {
   "cell_type": "code",
   "execution_count": 8,
   "metadata": {},
   "outputs": [
    {
     "name": "stderr",
     "output_type": "stream",
     "text": [
      "                                                                                \r"
     ]
    }
   ],
   "source": [
    "# aggregate data by postcode and consumer fraud probability\n",
    "consumer_fraud_postcodes = model_with_fraud.select('postcodes', 'SA2_code', 'fraud_probability_consumer')\n",
    "consumer_fraud_postcodes = consumer_fraud_postcodes.groupBy('postcodes', 'SA2_code')\\\n",
    ".agg(F.sum('fraud_probability_consumer').alias('sum_consumer_fraud'))\n",
    "consumer_fraud_pdf = consumer_fraud_postcodes.toPandas()"
   ]
  },
  {
   "cell_type": "code",
   "execution_count": 9,
   "metadata": {},
   "outputs": [
    {
     "data": {
      "text/html": [
       "<div>\n",
       "<style scoped>\n",
       "    .dataframe tbody tr th:only-of-type {\n",
       "        vertical-align: middle;\n",
       "    }\n",
       "\n",
       "    .dataframe tbody tr th {\n",
       "        vertical-align: top;\n",
       "    }\n",
       "\n",
       "    .dataframe thead th {\n",
       "        text-align: right;\n",
       "    }\n",
       "</style>\n",
       "<table border=\"1\" class=\"dataframe\">\n",
       "  <thead>\n",
       "    <tr style=\"text-align: right;\">\n",
       "      <th></th>\n",
       "      <th>postcodes</th>\n",
       "      <th>SA2_code</th>\n",
       "      <th>suburb</th>\n",
       "      <th>sum_consumer_fraud</th>\n",
       "      <th>geometry</th>\n",
       "    </tr>\n",
       "  </thead>\n",
       "  <tbody>\n",
       "    <tr>\n",
       "      <th>0</th>\n",
       "      <td>2229</td>\n",
       "      <td>128011602</td>\n",
       "      <td>CARINGBAH</td>\n",
       "      <td>372.069730</td>\n",
       "      <td>POLYGON ((151.11363 -34.03443, 151.11380 -34.0...</td>\n",
       "    </tr>\n",
       "    <tr>\n",
       "      <th>1</th>\n",
       "      <td>1495</td>\n",
       "      <td>128011602</td>\n",
       "      <td>CARINGBAH</td>\n",
       "      <td>431.526156</td>\n",
       "      <td>POLYGON ((151.11363 -34.03443, 151.11380 -34.0...</td>\n",
       "    </tr>\n",
       "    <tr>\n",
       "      <th>2</th>\n",
       "      <td>3925</td>\n",
       "      <td>205031091</td>\n",
       "      <td>CAPE WOOLAMAI</td>\n",
       "      <td>325.289427</td>\n",
       "      <td>MULTIPOLYGON (((145.34407 -38.56161, 145.34400...</td>\n",
       "    </tr>\n",
       "    <tr>\n",
       "      <th>3</th>\n",
       "      <td>3922</td>\n",
       "      <td>205031091</td>\n",
       "      <td>COWES</td>\n",
       "      <td>231.560942</td>\n",
       "      <td>MULTIPOLYGON (((145.34407 -38.56161, 145.34400...</td>\n",
       "    </tr>\n",
       "    <tr>\n",
       "      <th>4</th>\n",
       "      <td>3923</td>\n",
       "      <td>205031091</td>\n",
       "      <td>RHYLL</td>\n",
       "      <td>395.083454</td>\n",
       "      <td>MULTIPOLYGON (((145.34407 -38.56161, 145.34400...</td>\n",
       "    </tr>\n",
       "  </tbody>\n",
       "</table>\n",
       "</div>"
      ],
      "text/plain": [
       "  postcodes   SA2_code         suburb  sum_consumer_fraud  \\\n",
       "0      2229  128011602      CARINGBAH          372.069730   \n",
       "1      1495  128011602      CARINGBAH          431.526156   \n",
       "2      3925  205031091  CAPE WOOLAMAI          325.289427   \n",
       "3      3922  205031091          COWES          231.560942   \n",
       "4      3923  205031091          RHYLL          395.083454   \n",
       "\n",
       "                                            geometry  \n",
       "0  POLYGON ((151.11363 -34.03443, 151.11380 -34.0...  \n",
       "1  POLYGON ((151.11363 -34.03443, 151.11380 -34.0...  \n",
       "2  MULTIPOLYGON (((145.34407 -38.56161, 145.34400...  \n",
       "3  MULTIPOLYGON (((145.34407 -38.56161, 145.34400...  \n",
       "4  MULTIPOLYGON (((145.34407 -38.56161, 145.34400...  "
      ]
     },
     "execution_count": 9,
     "metadata": {},
     "output_type": "execute_result"
    }
   ],
   "source": [
    "# join shape file to consumer fraud data by sa2 code\n",
    "consumer_df = consumer_fraud_pdf \\\n",
    "    .merge(gdf[['SA2_code', 'geometry']], left_on='SA2_code', right_on='SA2_code')\n",
    "consumer_df.head(5)"
   ]
  },
  {
   "cell_type": "code",
   "execution_count": 24,
   "metadata": {},
   "outputs": [],
   "source": [
    "aus_coords = [-25.2744, 133.7751]\n",
    "consumer_fraud_map = folium.Map(aus_coords, tiles=\"Stamen Terrain\", zoom_start=4.5)\n",
    "\n",
    "# add average tips\n",
    "c = folium.Choropleth(\n",
    "    geo_data=geoJSON, # geoJSON \n",
    "    name='choropleth', # name of plot\n",
    "    data=consumer_df, # data source\n",
    "    columns=['SA2_code','sum_consumer_fraud'], # the columns required\n",
    "    key_on='properties.SA2_code', # this is from the geoJSON's properties\n",
    "    fill_color='YlOrRd', # color scheme\n",
    "    nan_fill_color='black',\n",
    "    legend_name='Total consumer fraud probability by SA2 region'\n",
    ")\n",
    "c.add_to(consumer_fraud_map)\n",
    "consumer_fraud_map.save('../plots/consumer_fraud_map.html')"
   ]
  },
  {
   "cell_type": "markdown",
   "metadata": {},
   "source": [
    "### Locations of fraudulent merchants"
   ]
  },
  {
   "cell_type": "code",
   "execution_count": 21,
   "metadata": {},
   "outputs": [
    {
     "name": "stderr",
     "output_type": "stream",
     "text": [
      "                                                                                \r"
     ]
    }
   ],
   "source": [
    "# aggregate data by postcode and merchant fraud probability\n",
    "merchant_fraud_postcodes = model_with_fraud.select('postcodes', 'SA2_code', 'fraud_probability_merchant')\n",
    "merchant_fraud_postcodes = merchant_fraud_postcodes.groupBy('postcodes', 'SA2_code')\\\n",
    ".agg(F.sum('fraud_probability_merchant').alias('sum_merchant_fraud'))\n",
    "merchant_fraud_postcodes.limit(5)\n",
    "merchant_fraud_pdf = merchant_fraud_postcodes.toPandas()"
   ]
  },
  {
   "cell_type": "code",
   "execution_count": 22,
   "metadata": {},
   "outputs": [
    {
     "data": {
      "text/html": [
       "<div>\n",
       "<style scoped>\n",
       "    .dataframe tbody tr th:only-of-type {\n",
       "        vertical-align: middle;\n",
       "    }\n",
       "\n",
       "    .dataframe tbody tr th {\n",
       "        vertical-align: top;\n",
       "    }\n",
       "\n",
       "    .dataframe thead th {\n",
       "        text-align: right;\n",
       "    }\n",
       "</style>\n",
       "<table border=\"1\" class=\"dataframe\">\n",
       "  <thead>\n",
       "    <tr style=\"text-align: right;\">\n",
       "      <th></th>\n",
       "      <th>postcodes</th>\n",
       "      <th>SA2_code</th>\n",
       "      <th>sum_merchant_fraud</th>\n",
       "      <th>geometry</th>\n",
       "    </tr>\n",
       "  </thead>\n",
       "  <tbody>\n",
       "    <tr>\n",
       "      <th>0</th>\n",
       "      <td>3032</td>\n",
       "      <td>206031113</td>\n",
       "      <td>137.681582</td>\n",
       "      <td>POLYGON ((144.89943 -37.77039, 144.89978 -37.7...</td>\n",
       "    </tr>\n",
       "    <tr>\n",
       "      <th>1</th>\n",
       "      <td>3523</td>\n",
       "      <td>202021029</td>\n",
       "      <td>22.920000</td>\n",
       "      <td>POLYGON ((144.54552 -36.92777, 144.54539 -36.9...</td>\n",
       "    </tr>\n",
       "    <tr>\n",
       "      <th>2</th>\n",
       "      <td>2012</td>\n",
       "      <td>117031336</td>\n",
       "      <td>139.854504</td>\n",
       "      <td>POLYGON ((151.20831 -33.88343, 151.20842 -33.8...</td>\n",
       "    </tr>\n",
       "    <tr>\n",
       "      <th>3</th>\n",
       "      <td>1428</td>\n",
       "      <td>117031336</td>\n",
       "      <td>107.545548</td>\n",
       "      <td>POLYGON ((151.20831 -33.88343, 151.20842 -33.8...</td>\n",
       "    </tr>\n",
       "    <tr>\n",
       "      <th>4</th>\n",
       "      <td>1420</td>\n",
       "      <td>117031336</td>\n",
       "      <td>50.850000</td>\n",
       "      <td>POLYGON ((151.20831 -33.88343, 151.20842 -33.8...</td>\n",
       "    </tr>\n",
       "  </tbody>\n",
       "</table>\n",
       "</div>"
      ],
      "text/plain": [
       "  postcodes   SA2_code  sum_merchant_fraud  \\\n",
       "0      3032  206031113          137.681582   \n",
       "1      3523  202021029           22.920000   \n",
       "2      2012  117031336          139.854504   \n",
       "3      1428  117031336          107.545548   \n",
       "4      1420  117031336           50.850000   \n",
       "\n",
       "                                            geometry  \n",
       "0  POLYGON ((144.89943 -37.77039, 144.89978 -37.7...  \n",
       "1  POLYGON ((144.54552 -36.92777, 144.54539 -36.9...  \n",
       "2  POLYGON ((151.20831 -33.88343, 151.20842 -33.8...  \n",
       "3  POLYGON ((151.20831 -33.88343, 151.20842 -33.8...  \n",
       "4  POLYGON ((151.20831 -33.88343, 151.20842 -33.8...  "
      ]
     },
     "execution_count": 22,
     "metadata": {},
     "output_type": "execute_result"
    }
   ],
   "source": [
    "# join shape file to consumer fraud data by sa2 code\n",
    "merchant_df = merchant_fraud_pdf \\\n",
    "    .merge(gdf[['SA2_code', 'geometry']], left_on='SA2_code', right_on='SA2_code')\n",
    "merchant_df.head(5)"
   ]
  },
  {
   "cell_type": "code",
   "execution_count": 26,
   "metadata": {},
   "outputs": [],
   "source": [
    "aus_coords = [-25.2744, 133.7751]\n",
    "merchant_fraud_map = folium.Map(aus_coords, tiles=\"Stamen Terrain\", zoom_start=4.5)\n",
    "\n",
    "# add average tips\n",
    "d = folium.Choropleth(\n",
    "    geo_data=geoJSON, # geoJSON \n",
    "    name='choropleth', # name of plot\n",
    "    data=merchant_df, # data source\n",
    "    columns=['SA2_code','sum_merchant_fraud'], # the columns required\n",
    "    key_on='properties.SA2_code', # this is from the geoJSON's properties\n",
    "    fill_color='YlOrRd', # color scheme\n",
    "    nan_fill_color='black',\n",
    "    legend_name='Total merchant fraud probability by SA2 region'\n",
    ")\n",
    "d.add_to(merchant_fraud_map)\n",
    "merchant_fraud_map.save('../plots/merchant_fraud_map.html')"
   ]
  },
  {
   "cell_type": "code",
   "execution_count": 18,
   "metadata": {},
   "outputs": [
    {
     "data": {
      "text/html": [
       "<table border='1'>\n",
       "<tr><th>merchant_name</th><th>merchant_abn</th><th>take_rate</th><th>revenue_levels</th><th>name</th><th>address</th><th>state</th><th>gender</th><th>trans_merchant_abn</th><th>dollar_value</th><th>order_id</th><th>order_datetime</th><th>user_id</th><th>consumer_id</th><th>suburb</th><th>postcodes</th><th>long</th><th>lat</th><th>int_sa2</th><th>SA2_code</th><th>SA2_name</th><th>income_2018-2019</th><th>total_males</th><th>total_females</th><th>total_persons</th><th>state_code</th><th>state_name</th><th>population_2020</th><th>population_2021</th><th>fraud_probability_consumer</th><th>fraud_probability_merchant</th><th>tags</th><th>cleaned_tags</th><th>store_type</th><th>category</th><th>is_fraud</th></tr>\n",
       "<tr><td>Eget Mollis LLC</td><td>91720867026</td><td>6.31</td><td>a</td><td>Sydney Romero</td><td>2940 Amanda Light...</td><td>NSW</td><td>Female</td><td>91720867026</td><td>48.32378416624947</td><td>d241fe37-7337-4e2...</td><td>2021-05-30</td><td>19155</td><td>28328</td><td>HORNSBY WESTFIELD</td><td>1635</td><td>151.101</td><td>-33.7046</td><td>121021577</td><td>121021577</td><td>Hornsby - East</td><td>501442596</td><td>5874</td><td>6068</td><td>11943</td><td>1</td><td>New South Wales</td><td>12524</td><td>11998</td><td>0.01</td><td>0.01</td><td>((watch, clock, a...</td><td>watch clock and j...</td><td>1</td><td>Toys and DIY</td><td>0</td></tr>\n",
       "<tr><td>Egestas Rhoncus P...</td><td>61481587663</td><td>4.08</td><td>b</td><td>Sydney Romero</td><td>2940 Amanda Light...</td><td>NSW</td><td>Female</td><td>61481587663</td><td>3.853189963091505</td><td>d621ee3a-4422-4fa...</td><td>2021-04-13</td><td>19155</td><td>28328</td><td>HORNSBY WESTFIELD</td><td>1635</td><td>151.101</td><td>-33.7046</td><td>121021577</td><td>121021577</td><td>Hornsby - East</td><td>501442596</td><td>5874</td><td>6068</td><td>11943</td><td>1</td><td>New South Wales</td><td>12524</td><td>11998</td><td>0.01</td><td>0.01</td><td>[(tEnt and awning...</td><td>tent and awning s...</td><td>3</td><td>Books, Stationary...</td><td>0</td></tr>\n",
       "<tr><td>Suspendisse Dui C...</td><td>46804135891</td><td>2.93</td><td>c</td><td>Sydney Romero</td><td>2940 Amanda Light...</td><td>NSW</td><td>Female</td><td>46804135891</td><td>58.15827536687406</td><td>ade7f36f-fc0d-465...</td><td>2021-10-15</td><td>19155</td><td>28328</td><td>HORNSBY WESTFIELD</td><td>1635</td><td>151.101</td><td>-33.7046</td><td>121021577</td><td>121021577</td><td>Hornsby - East</td><td>501442596</td><td>5874</td><td>6068</td><td>11943</td><td>1</td><td>New South Wales</td><td>12524</td><td>11998</td><td>0.01</td><td>0.01</td><td>((opticians, opti...</td><td>opticians optical...</td><td>3</td><td>Books, Stationary...</td><td>0</td></tr>\n",
       "<tr><td>Turpis In Incorpo...</td><td>61845622676</td><td>2.48</td><td>c</td><td>Sydney Romero</td><td>2940 Amanda Light...</td><td>NSW</td><td>Female</td><td>61845622676</td><td>5.100655350466067</td><td>219c87d3-9739-499...</td><td>2021-09-24</td><td>19155</td><td>28328</td><td>HORNSBY WESTFIELD</td><td>1635</td><td>151.101</td><td>-33.7046</td><td>121021577</td><td>121021577</td><td>Hornsby - East</td><td>501442596</td><td>5874</td><td>6068</td><td>11943</td><td>1</td><td>New South Wales</td><td>12524</td><td>11998</td><td>0.01</td><td>0.01</td><td>[[gift, card, nov...</td><td>gift card novelty...</td><td>4</td><td>Electronics</td><td>0</td></tr>\n",
       "<tr><td>Ipsum Dolor Sit C...</td><td>80324045558</td><td>1.47</td><td>c</td><td>Sydney Romero</td><td>2940 Amanda Light...</td><td>NSW</td><td>Female</td><td>80324045558</td><td>19.987966184960584</td><td>3c25dd39-7a1f-457...</td><td>2022-06-12</td><td>19155</td><td>28328</td><td>HORNSBY WESTFIELD</td><td>1635</td><td>151.101</td><td>-33.7046</td><td>121021577</td><td>121021577</td><td>Hornsby - East</td><td>501442596</td><td>5874</td><td>6068</td><td>11943</td><td>1</td><td>New South Wales</td><td>12524</td><td>11998</td><td>0.01</td><td>0.01</td><td>[(gift, card, nov...</td><td>gift card novelty...</td><td>4</td><td>Electronics</td><td>0</td></tr>\n",
       "</table>\n"
      ],
      "text/plain": [
       "+--------------------+------------+---------+--------------+-------------+--------------------+-----+------+------------------+------------------+--------------------+--------------+-------+-----------+-----------------+---------+-------+--------+---------+---------+--------------+----------------+-----------+-------------+-------------+----------+---------------+---------------+---------------+--------------------------+--------------------------+--------------------+--------------------+----------+--------------------+--------+\n",
       "|       merchant_name|merchant_abn|take_rate|revenue_levels|         name|             address|state|gender|trans_merchant_abn|      dollar_value|            order_id|order_datetime|user_id|consumer_id|           suburb|postcodes|   long|     lat|  int_sa2| SA2_code|      SA2_name|income_2018-2019|total_males|total_females|total_persons|state_code|     state_name|population_2020|population_2021|fraud_probability_consumer|fraud_probability_merchant|                tags|        cleaned_tags|store_type|            category|is_fraud|\n",
       "+--------------------+------------+---------+--------------+-------------+--------------------+-----+------+------------------+------------------+--------------------+--------------+-------+-----------+-----------------+---------+-------+--------+---------+---------+--------------+----------------+-----------+-------------+-------------+----------+---------------+---------------+---------------+--------------------------+--------------------------+--------------------+--------------------+----------+--------------------+--------+\n",
       "|     Eget Mollis LLC| 91720867026|     6.31|             a|Sydney Romero|2940 Amanda Light...|  NSW|Female|       91720867026| 48.32378416624947|d241fe37-7337-4e2...|    2021-05-30|  19155|      28328|HORNSBY WESTFIELD|     1635|151.101|-33.7046|121021577|121021577|Hornsby - East|       501442596|       5874|         6068|        11943|         1|New South Wales|          12524|          11998|                      0.01|                      0.01|((watch, clock, a...|watch clock and j...|         1|        Toys and DIY|       0|\n",
       "|Egestas Rhoncus P...| 61481587663|     4.08|             b|Sydney Romero|2940 Amanda Light...|  NSW|Female|       61481587663| 3.853189963091505|d621ee3a-4422-4fa...|    2021-04-13|  19155|      28328|HORNSBY WESTFIELD|     1635|151.101|-33.7046|121021577|121021577|Hornsby - East|       501442596|       5874|         6068|        11943|         1|New South Wales|          12524|          11998|                      0.01|                      0.01|[(tEnt and awning...|tent and awning s...|         3|Books, Stationary...|       0|\n",
       "|Suspendisse Dui C...| 46804135891|     2.93|             c|Sydney Romero|2940 Amanda Light...|  NSW|Female|       46804135891| 58.15827536687406|ade7f36f-fc0d-465...|    2021-10-15|  19155|      28328|HORNSBY WESTFIELD|     1635|151.101|-33.7046|121021577|121021577|Hornsby - East|       501442596|       5874|         6068|        11943|         1|New South Wales|          12524|          11998|                      0.01|                      0.01|((opticians, opti...|opticians optical...|         3|Books, Stationary...|       0|\n",
       "|Turpis In Incorpo...| 61845622676|     2.48|             c|Sydney Romero|2940 Amanda Light...|  NSW|Female|       61845622676| 5.100655350466067|219c87d3-9739-499...|    2021-09-24|  19155|      28328|HORNSBY WESTFIELD|     1635|151.101|-33.7046|121021577|121021577|Hornsby - East|       501442596|       5874|         6068|        11943|         1|New South Wales|          12524|          11998|                      0.01|                      0.01|[[gift, card, nov...|gift card novelty...|         4|         Electronics|       0|\n",
       "|Ipsum Dolor Sit C...| 80324045558|     1.47|             c|Sydney Romero|2940 Amanda Light...|  NSW|Female|       80324045558|19.987966184960584|3c25dd39-7a1f-457...|    2022-06-12|  19155|      28328|HORNSBY WESTFIELD|     1635|151.101|-33.7046|121021577|121021577|Hornsby - East|       501442596|       5874|         6068|        11943|         1|New South Wales|          12524|          11998|                      0.01|                      0.01|[(gift, card, nov...|gift card novelty...|         4|         Electronics|       0|\n",
       "+--------------------+------------+---------+--------------+-------------+--------------------+-----+------+------------------+------------------+--------------------+--------------+-------+-----------+-----------------+---------+-------+--------+---------+---------+--------------+----------------+-----------+-------------+-------------+----------+---------------+---------------+---------------+--------------------------+--------------------------+--------------------+--------------------+----------+--------------------+--------+"
      ]
     },
     "execution_count": 18,
     "metadata": {},
     "output_type": "execute_result"
    }
   ],
   "source": [
    "model_with_fraud.limit(5)"
   ]
  },
  {
   "cell_type": "code",
   "execution_count": null,
   "metadata": {},
   "outputs": [],
   "source": []
  },
  {
   "cell_type": "code",
   "execution_count": null,
   "metadata": {},
   "outputs": [],
   "source": []
  }
 ],
 "metadata": {
  "kernelspec": {
   "display_name": "Python 3.9.6 64-bit",
   "language": "python",
   "name": "python3"
  },
  "language_info": {
   "codemirror_mode": {
    "name": "ipython",
    "version": 3
   },
   "file_extension": ".py",
   "mimetype": "text/x-python",
   "name": "python",
   "nbconvert_exporter": "python",
   "pygments_lexer": "ipython3",
   "version": "3.9.6"
  },
  "vscode": {
   "interpreter": {
    "hash": "31f2aee4e71d21fbe5cf8b01ff0e069b9275f58929596ceb00d14d90e3e16cd6"
   }
  }
 },
 "nbformat": 4,
 "nbformat_minor": 4
}
