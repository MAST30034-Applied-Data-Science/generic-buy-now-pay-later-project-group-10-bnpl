{
 "cells": [
  {
   "cell_type": "markdown",
   "id": "6c690c6f-a81e-4185-8184-808c90cf22b1",
   "metadata": {},
   "source": [
    "## Part 4: Fraud"
   ]
  },
  {
   "cell_type": "code",
   "execution_count": 1,
   "id": "d5f10c8d-30f8-4ea8-a070-bda4d104fb88",
   "metadata": {},
   "outputs": [
    {
     "name": "stdout",
     "output_type": "stream",
     "text": [
      "22/10/04 20:43:15 WARN Utils: Your hostname, Aishwaryas-MacBook-Air.local resolves to a loopback address: 127.0.0.1; using 172.16.6.81 instead (on interface en0)\n",
      "22/10/04 20:43:15 WARN Utils: Set SPARK_LOCAL_IP if you need to bind to another address\n"
     ]
    },
    {
     "name": "stderr",
     "output_type": "stream",
     "text": [
      "Setting default log level to \"WARN\".\n",
      "To adjust logging level use sc.setLogLevel(newLevel). For SparkR, use setLogLevel(newLevel).\n"
     ]
    },
    {
     "name": "stdout",
     "output_type": "stream",
     "text": [
      "22/10/04 20:43:15 WARN NativeCodeLoader: Unable to load native-hadoop library for your platform... using builtin-java classes where applicable\n"
     ]
    },
    {
     "name": "stderr",
     "output_type": "stream",
     "text": [
      "                                                                                \r"
     ]
    },
    {
     "ename": "AnalysisException",
     "evalue": "Cannot resolve column name \"postcodes\" among (id, postcode, locality, state, long, lat, dc, type, status, sa3, sa3name, sa4, sa4name, region, Lat_precise, Long_precise, SA1_MAINCODE_2011, SA1_MAINCODE_2016, SA2_MAINCODE_2016, SA2_NAME_2016, SA3_CODE_2016, SA3_NAME_2016, SA4_CODE_2016, SA4_NAME_2016, RA_2011, RA_2016, MMM_2015, MMM_2019, ced, altitude, chargezone, phn_code, phn_name, lgaregion, electorate, electoraterating)",
     "output_type": "error",
     "traceback": [
      "\u001b[0;31m---------------------------------------------------------------------------\u001b[0m",
      "\u001b[0;31mAnalysisException\u001b[0m                         Traceback (most recent call last)",
      "File \u001b[0;32m~/Desktop/ads_bnpl/scripts/ETL.py:118\u001b[0m, in \u001b[0;36m<module>\u001b[0;34m\u001b[0m\n\u001b[1;32m    116\u001b[0m postcode \u001b[38;5;241m=\u001b[39m postcode\u001b[38;5;241m.\u001b[39mdrop(F\u001b[38;5;241m.\u001b[39mcol(\u001b[38;5;124m\"\u001b[39m\u001b[38;5;124m_c0\u001b[39m\u001b[38;5;124m\"\u001b[39m))\n\u001b[1;32m    117\u001b[0m postcode_nonull \u001b[38;5;241m=\u001b[39m postcode\u001b[38;5;241m.\u001b[39mna\u001b[38;5;241m.\u001b[39mdrop()\n\u001b[0;32m--> 118\u001b[0m distinct \u001b[38;5;241m=\u001b[39m \u001b[43mpostcode_nonull\u001b[49m\u001b[38;5;241;43m.\u001b[39;49m\u001b[43mdropDuplicates\u001b[49m\u001b[43m(\u001b[49m\u001b[43m[\u001b[49m\u001b[38;5;124;43m\"\u001b[39;49m\u001b[38;5;124;43mpostcodes\u001b[39;49m\u001b[38;5;124;43m\"\u001b[39;49m\u001b[43m]\u001b[49m\u001b[43m)\u001b[49m\n\u001b[1;32m    120\u001b[0m final_join2 \u001b[38;5;241m=\u001b[39m final_join\u001b[38;5;241m.\u001b[39mjoin(distinct, final_join\u001b[38;5;241m.\u001b[39mpostcode \u001b[38;5;241m==\u001b[39m distinct\u001b[38;5;241m.\u001b[39mpostcodes, \u001b[38;5;124m\"\u001b[39m\u001b[38;5;124minner\u001b[39m\u001b[38;5;124m\"\u001b[39m) \\\n\u001b[1;32m    121\u001b[0m         \u001b[38;5;241m.\u001b[39mdrop(F\u001b[38;5;241m.\u001b[39mcol(\u001b[38;5;124m\"\u001b[39m\u001b[38;5;124mpostcodes\u001b[39m\u001b[38;5;124m\"\u001b[39m))\n\u001b[1;32m    123\u001b[0m final_join2 \u001b[38;5;241m=\u001b[39m final_join2\u001b[38;5;241m.\u001b[39mwithColumn(\u001b[38;5;124m\"\u001b[39m\u001b[38;5;124mint_SA2\u001b[39m\u001b[38;5;124m\"\u001b[39m, final_join2[\u001b[38;5;124m\"\u001b[39m\u001b[38;5;124mSA2\u001b[39m\u001b[38;5;124m\"\u001b[39m]\u001b[38;5;241m.\u001b[39mcast(IntegerType()))\u001b[38;5;241m.\u001b[39mdrop(F\u001b[38;5;241m.\u001b[39mcol(\u001b[38;5;124m\"\u001b[39m\u001b[38;5;124mSA2\u001b[39m\u001b[38;5;124m\"\u001b[39m))\n",
      "File \u001b[0;32m~/opt/anaconda3/lib/python3.9/site-packages/pyspark/sql/dataframe.py:2403\u001b[0m, in \u001b[0;36mDataFrame.dropDuplicates\u001b[0;34m(self, subset)\u001b[0m\n\u001b[1;32m   2401\u001b[0m     jdf \u001b[38;5;241m=\u001b[39m \u001b[38;5;28mself\u001b[39m\u001b[38;5;241m.\u001b[39m_jdf\u001b[38;5;241m.\u001b[39mdropDuplicates()\n\u001b[1;32m   2402\u001b[0m \u001b[38;5;28;01melse\u001b[39;00m:\n\u001b[0;32m-> 2403\u001b[0m     jdf \u001b[38;5;241m=\u001b[39m \u001b[38;5;28;43mself\u001b[39;49m\u001b[38;5;241;43m.\u001b[39;49m\u001b[43m_jdf\u001b[49m\u001b[38;5;241;43m.\u001b[39;49m\u001b[43mdropDuplicates\u001b[49m\u001b[43m(\u001b[49m\u001b[38;5;28;43mself\u001b[39;49m\u001b[38;5;241;43m.\u001b[39;49m\u001b[43m_jseq\u001b[49m\u001b[43m(\u001b[49m\u001b[43msubset\u001b[49m\u001b[43m)\u001b[49m\u001b[43m)\u001b[49m\n\u001b[1;32m   2404\u001b[0m \u001b[38;5;28;01mreturn\u001b[39;00m DataFrame(jdf, \u001b[38;5;28mself\u001b[39m\u001b[38;5;241m.\u001b[39msparkSession)\n",
      "File \u001b[0;32m~/opt/anaconda3/lib/python3.9/site-packages/py4j/java_gateway.py:1321\u001b[0m, in \u001b[0;36mJavaMember.__call__\u001b[0;34m(self, *args)\u001b[0m\n\u001b[1;32m   1315\u001b[0m command \u001b[38;5;241m=\u001b[39m proto\u001b[38;5;241m.\u001b[39mCALL_COMMAND_NAME \u001b[38;5;241m+\u001b[39m\\\n\u001b[1;32m   1316\u001b[0m     \u001b[38;5;28mself\u001b[39m\u001b[38;5;241m.\u001b[39mcommand_header \u001b[38;5;241m+\u001b[39m\\\n\u001b[1;32m   1317\u001b[0m     args_command \u001b[38;5;241m+\u001b[39m\\\n\u001b[1;32m   1318\u001b[0m     proto\u001b[38;5;241m.\u001b[39mEND_COMMAND_PART\n\u001b[1;32m   1320\u001b[0m answer \u001b[38;5;241m=\u001b[39m \u001b[38;5;28mself\u001b[39m\u001b[38;5;241m.\u001b[39mgateway_client\u001b[38;5;241m.\u001b[39msend_command(command)\n\u001b[0;32m-> 1321\u001b[0m return_value \u001b[38;5;241m=\u001b[39m \u001b[43mget_return_value\u001b[49m\u001b[43m(\u001b[49m\n\u001b[1;32m   1322\u001b[0m \u001b[43m    \u001b[49m\u001b[43manswer\u001b[49m\u001b[43m,\u001b[49m\u001b[43m \u001b[49m\u001b[38;5;28;43mself\u001b[39;49m\u001b[38;5;241;43m.\u001b[39;49m\u001b[43mgateway_client\u001b[49m\u001b[43m,\u001b[49m\u001b[43m \u001b[49m\u001b[38;5;28;43mself\u001b[39;49m\u001b[38;5;241;43m.\u001b[39;49m\u001b[43mtarget_id\u001b[49m\u001b[43m,\u001b[49m\u001b[43m \u001b[49m\u001b[38;5;28;43mself\u001b[39;49m\u001b[38;5;241;43m.\u001b[39;49m\u001b[43mname\u001b[49m\u001b[43m)\u001b[49m\n\u001b[1;32m   1324\u001b[0m \u001b[38;5;28;01mfor\u001b[39;00m temp_arg \u001b[38;5;129;01min\u001b[39;00m temp_args:\n\u001b[1;32m   1325\u001b[0m     temp_arg\u001b[38;5;241m.\u001b[39m_detach()\n",
      "File \u001b[0;32m~/opt/anaconda3/lib/python3.9/site-packages/pyspark/sql/utils.py:196\u001b[0m, in \u001b[0;36mcapture_sql_exception.<locals>.deco\u001b[0;34m(*a, **kw)\u001b[0m\n\u001b[1;32m    192\u001b[0m converted \u001b[38;5;241m=\u001b[39m convert_exception(e\u001b[38;5;241m.\u001b[39mjava_exception)\n\u001b[1;32m    193\u001b[0m \u001b[38;5;28;01mif\u001b[39;00m \u001b[38;5;129;01mnot\u001b[39;00m \u001b[38;5;28misinstance\u001b[39m(converted, UnknownException):\n\u001b[1;32m    194\u001b[0m     \u001b[38;5;66;03m# Hide where the exception came from that shows a non-Pythonic\u001b[39;00m\n\u001b[1;32m    195\u001b[0m     \u001b[38;5;66;03m# JVM exception message.\u001b[39;00m\n\u001b[0;32m--> 196\u001b[0m     \u001b[38;5;28;01mraise\u001b[39;00m converted \u001b[38;5;28;01mfrom\u001b[39;00m \u001b[38;5;28mNone\u001b[39m\n\u001b[1;32m    197\u001b[0m \u001b[38;5;28;01melse\u001b[39;00m:\n\u001b[1;32m    198\u001b[0m     \u001b[38;5;28;01mraise\u001b[39;00m\n",
      "\u001b[0;31mAnalysisException\u001b[0m: Cannot resolve column name \"postcodes\" among (id, postcode, locality, state, long, lat, dc, type, status, sa3, sa3name, sa4, sa4name, region, Lat_precise, Long_precise, SA1_MAINCODE_2011, SA1_MAINCODE_2016, SA2_MAINCODE_2016, SA2_NAME_2016, SA3_CODE_2016, SA3_NAME_2016, SA4_CODE_2016, SA4_NAME_2016, RA_2011, RA_2016, MMM_2015, MMM_2019, ced, altitude, chargezone, phn_code, phn_name, lgaregion, electorate, electoraterating)"
     ]
    }
   ],
   "source": [
    "%run \"../scripts/ETL.py\""
   ]
  },
  {
   "cell_type": "markdown",
   "id": "4f0e5941-27dd-43d9-8053-dc518b9f8f5e",
   "metadata": {},
   "source": [
    "The consumer fraud data shows the list of transactions with a high probability of being fraudulent, and therefore should be considered invalid."
   ]
  },
  {
   "cell_type": "code",
   "execution_count": 2,
   "id": "7ce97a92-b69c-454b-803d-d31b0c8892d5",
   "metadata": {},
   "outputs": [
    {
     "name": "stdout",
     "output_type": "stream",
     "text": [
      "34864\n"
     ]
    },
    {
     "data": {
      "text/html": [
       "<table border='1'>\n",
       "<tr><th>user_id_1</th><th>order_datetime_1</th><th>cons_fraud_prob</th></tr>\n",
       "<tr><td>6228</td><td>2021-12-19</td><td>97.6298077657765</td></tr>\n",
       "<tr><td>21419</td><td>2021-12-10</td><td>99.24738020302328</td></tr>\n",
       "<tr><td>5606</td><td>2021-10-17</td><td>84.05825045251777</td></tr>\n",
       "<tr><td>3101</td><td>2021-04-17</td><td>91.42192091901347</td></tr>\n",
       "<tr><td>22239</td><td>2021-10-19</td><td>94.70342477508035</td></tr>\n",
       "</table>\n"
      ],
      "text/plain": [
       "+---------+----------------+-----------------+\n",
       "|user_id_1|order_datetime_1|  cons_fraud_prob|\n",
       "+---------+----------------+-----------------+\n",
       "|     6228|      2021-12-19| 97.6298077657765|\n",
       "|    21419|      2021-12-10|99.24738020302328|\n",
       "|     5606|      2021-10-17|84.05825045251777|\n",
       "|     3101|      2021-04-17|91.42192091901347|\n",
       "|    22239|      2021-10-19|94.70342477508035|\n",
       "+---------+----------------+-----------------+"
      ]
     },
     "execution_count": 2,
     "metadata": {},
     "output_type": "execute_result"
    }
   ],
   "source": [
    "print(fraud_consumer.count())\n",
    "fraud_consumer = fraud_consumer.withColumnRenamed(\"fraud_probability\",\"cons_fraud_prob\").withColumnRenamed(\"order_datetime\",\"order_datetime_1\").withColumnRenamed(\"user_id\",\"user_id_1\")\n",
    "fraud_consumer.limit(5)"
   ]
  },
  {
   "cell_type": "markdown",
   "id": "77f4aa03-294e-4601-b785-7a4e7bf4a8f4",
   "metadata": {},
   "source": [
    "Probability of fraud for high revenue merchants...?"
   ]
  },
  {
   "cell_type": "code",
   "execution_count": 3,
   "id": "c05d9aeb-5fbd-4f63-8d64-60d744f7ea23",
   "metadata": {},
   "outputs": [
    {
     "name": "stdout",
     "output_type": "stream",
     "text": [
      "114\n"
     ]
    },
    {
     "data": {
      "text/html": [
       "<table border='1'>\n",
       "<tr><th>merchant_abn_1</th><th>order_datetime</th><th>merch_fraud_prob</th></tr>\n",
       "<tr><td>19492220327</td><td>2021-11-28</td><td>44.403658647495355</td></tr>\n",
       "<tr><td>31334588839</td><td>2021-10-02</td><td>42.75530083865367</td></tr>\n",
       "<tr><td>19492220327</td><td>2021-12-22</td><td>38.867790051131095</td></tr>\n",
       "<tr><td>82999039227</td><td>2021-12-19</td><td>94.1347004808891</td></tr>\n",
       "<tr><td>90918180829</td><td>2021-09-02</td><td>43.32551731714902</td></tr>\n",
       "</table>\n"
      ],
      "text/plain": [
       "+--------------+--------------+------------------+\n",
       "|merchant_abn_1|order_datetime|  merch_fraud_prob|\n",
       "+--------------+--------------+------------------+\n",
       "|   19492220327|    2021-11-28|44.403658647495355|\n",
       "|   31334588839|    2021-10-02| 42.75530083865367|\n",
       "|   19492220327|    2021-12-22|38.867790051131095|\n",
       "|   82999039227|    2021-12-19|  94.1347004808891|\n",
       "|   90918180829|    2021-09-02| 43.32551731714902|\n",
       "+--------------+--------------+------------------+"
      ]
     },
     "execution_count": 3,
     "metadata": {},
     "output_type": "execute_result"
    }
   ],
   "source": [
    "print(fraud_merchants.count())\n",
    "fraud_merchants = fraud_merchants.withColumnRenamed(\"merchant_abn\",\"merchant_abn_1\").withColumnRenamed(\"fraud_probability\",\"merch_fraud_prob\")\n",
    "fraud_merchants.limit(5)"
   ]
  },
  {
   "cell_type": "code",
   "execution_count": 4,
   "id": "c412e613-c33a-4f60-845d-1beeab85eb42",
   "metadata": {},
   "outputs": [],
   "source": [
    "\n",
    "merchant_data = final_join.select(\"merchant_abn\", \"categories\",\"revenue_levels\",\"dollar_value\",\"user_id\",\"consumer_id\")"
   ]
  },
  {
   "cell_type": "markdown",
   "id": "0098af9c-7342-446b-88bd-8379df553888",
   "metadata": {},
   "source": [
    "- join consumer fraud to final join\n",
    "- create a version of final join with removed transactions from fraud\n",
    "- aggregate final join from transaction to merchant level\n",
    "- add fraud merchant as a feature to aggregated final join\n",
    "- treat fraud as response and try to create model to give other merchants a fraud score"
   ]
  },
  {
   "cell_type": "code",
   "execution_count": 5,
   "id": "02b5d0a6",
   "metadata": {},
   "outputs": [],
   "source": [
    "#Joining consumer fraud, merchant data, and merchant fraud data to one datatset: \n",
    "\n",
    "#Joining consumer fraud and merchant data together\n",
    "\n",
    "merchant_data.createOrReplaceTempView(\"temp\")\n",
    "\n",
    "fraud_consumer.createOrReplaceTempView(\"temp2\")\n",
    "\n",
    "join_1 = spark.sql(\"\"\" \n",
    "\n",
    "SELECT *\n",
    "FROM temp\n",
    "\n",
    "INNER JOIN temp2\n",
    "\n",
    "ON temp.user_id = temp2.user_id_1 \n",
    "\"\"\")\n"
   ]
  },
  {
   "cell_type": "code",
   "execution_count": 6,
   "id": "cc6a9c12",
   "metadata": {},
   "outputs": [],
   "source": [
    "#Joining join_1 to merchant fraud \n",
    "\n",
    "#Joining all test + predicting Sets Together \n",
    "join_1.createOrReplaceTempView(\"temp\")\n",
    "\n",
    "fraud_merchants.createOrReplaceTempView(\"temp2\")\n",
    "\n",
    "final_join = spark.sql(\"\"\" \n",
    "\n",
    "SELECT *\n",
    "FROM temp\n",
    "\n",
    "\n",
    "INNER JOIN temp2\n",
    "\n",
    "ON temp.merchant_abn = temp2.merchant_abn_1\n",
    "\"\"\")"
   ]
  },
  {
   "cell_type": "code",
   "execution_count": 7,
   "id": "2915f3ae",
   "metadata": {},
   "outputs": [],
   "source": [
    "#Changing all null probability values to 0.01: \n",
    "\n",
    "MIN_P = 0.01\n",
    "final_join = final_join.fillna(MIN_P, subset=[\"cons_fraud_prob\", \"merch_fraud_prob\"])"
   ]
  },
  {
   "cell_type": "code",
   "execution_count": 8,
   "id": "eb819dbf",
   "metadata": {},
   "outputs": [],
   "source": [
    "#join segment data \n",
    "#clustering \n",
    "#decide threshold based on clusters \n",
    "#use threshold to classify if transaction is fradulent or not "
   ]
  },
  {
   "cell_type": "code",
   "execution_count": 9,
   "id": "1c74887b",
   "metadata": {},
   "outputs": [],
   "source": [
    "# Reading in segments \n",
    "segments_data = spark.read.csv('/Users/ahirve/Desktop/ads_bnpl/data/curated/tagged_merchants.csv')"
   ]
  },
  {
   "cell_type": "code",
   "execution_count": 10,
   "id": "3b6916ec",
   "metadata": {},
   "outputs": [],
   "source": [
    "# segments_data.limit(5)"
   ]
  },
  {
   "cell_type": "code",
   "execution_count": 11,
   "id": "990a653a",
   "metadata": {
    "scrolled": true
   },
   "outputs": [
    {
     "data": {
      "text/html": [
       "<table border='1'>\n",
       "<tr><th>_c0</th><th>_c1</th><th>_c2</th><th>_c3</th><th>_c4</th><th>_c5</th><th>_c6</th></tr>\n",
       "<tr><td>0</td><td>Felis Limited</td><td>((furniture, home...</td><td>10023283211</td><td>furniture home fu...</td><td>0</td><td>Furniture</td></tr>\n",
       "<tr><td>1</td><td>Arcu Ac Orci Corp...</td><td>([cable, satellit...</td><td>10142254217</td><td>cable satellite a...</td><td>4</td><td>Electronics</td></tr>\n",
       "<tr><td>2</td><td>Nunc Sed Company</td><td>([jewelry, watch,...</td><td>10165489824</td><td>jewelry watch clo...</td><td>1</td><td>Toys and DIY</td></tr>\n",
       "<tr><td>3</td><td>Ultricies Digniss...</td><td>([wAtch, clock, a...</td><td>10187291046</td><td>watch clock and j...</td><td>1</td><td>Toys and DIY</td></tr>\n",
       "<tr><td>4</td><td>Enim Condimentum PC</td><td>([music shops - m...</td><td>10192359162</td><td>music shops  musi...</td><td>3</td><td>Books, Stationary...</td></tr>\n",
       "<tr><td>5</td><td>Fusce Company</td><td>[(gift, card, nov...</td><td>10206519221</td><td>gift card novelty...</td><td>4</td><td>Electronics</td></tr>\n",
       "<tr><td>6</td><td>Aliquam Enim Inco...</td><td>[(computers, comP...</td><td>10255988167</td><td>computers compute...</td><td>4</td><td>Electronics</td></tr>\n",
       "<tr><td>7</td><td>Ipsum Primis Ltd</td><td>[[watch, clock, a...</td><td>10264435225</td><td>watch clock and j...</td><td>1</td><td>Toys and DIY</td></tr>\n",
       "<tr><td>8</td><td>Pede Ultrices Ind...</td><td>([computer progra...</td><td>10279061213</td><td>computer programm...</td><td>2</td><td>Beauty, Health, P...</td></tr>\n",
       "<tr><td>9</td><td>Nunc Inc.</td><td>[(furniture, home...</td><td>10323485998</td><td>furniture home fu...</td><td>0</td><td>Furniture</td></tr>\n",
       "<tr><td>10</td><td>Facilisis Facilis...</td><td>([computers, comp...</td><td>10342410215</td><td>computers compute...</td><td>4</td><td>Electronics</td></tr>\n",
       "<tr><td>11</td><td>Odio Institute</td><td>((equipment, tool...</td><td>10346855916</td><td>equipment tool fu...</td><td>0</td><td>Furniture</td></tr>\n",
       "<tr><td>12</td><td>Rutrum Justo Ltd</td><td>([music shops - m...</td><td>10364012396</td><td>music shops  musi...</td><td>3</td><td>Books, Stationary...</td></tr>\n",
       "<tr><td>13</td><td>Tellus Foundation</td><td>[[artist supply a...</td><td>10385011947</td><td>artist supply and...</td><td>1</td><td>Toys and DIY</td></tr>\n",
       "<tr><td>14</td><td>Sed Et Company</td><td>([florists suppli...</td><td>10385163239</td><td>florists supplies...</td><td>0</td><td>Furniture</td></tr>\n",
       "<tr><td>15</td><td>Id Ltd</td><td>([computers, comp...</td><td>10385250025</td><td>computers compute...</td><td>4</td><td>Electronics</td></tr>\n",
       "<tr><td>16</td><td>Consequat Foundation</td><td>[[antique shops -...</td><td>10404542215</td><td>antique shops  sa...</td><td>2</td><td>Beauty, Health, P...</td></tr>\n",
       "<tr><td>17</td><td>Sit Amet Nulla Corp.</td><td>[[motor vehicle s...</td><td>10430380319</td><td>motor vehicle sup...</td><td>0</td><td>Furniture</td></tr>\n",
       "<tr><td>18</td><td>Massa Vestibulum ...</td><td>[(moTor vehicle s...</td><td>10441711491</td><td>motor vehicle sup...</td><td>0</td><td>Furniture</td></tr>\n",
       "<tr><td>19</td><td>Ut Consulting</td><td>([gift, card, nov...</td><td>10462560289</td><td>gift card novelty...</td><td>4</td><td>Electronics</td></tr>\n",
       "</table>\n",
       "only showing top 20 rows\n"
      ],
      "text/plain": [
       "+---+--------------------+--------------------+-----------+--------------------+---+--------------------+\n",
       "|_c0|                 _c1|                 _c2|        _c3|                 _c4|_c5|                 _c6|\n",
       "+---+--------------------+--------------------+-----------+--------------------+---+--------------------+\n",
       "|  0|       Felis Limited|((furniture, home...|10023283211|furniture home fu...|  0|           Furniture|\n",
       "|  1|Arcu Ac Orci Corp...|([cable, satellit...|10142254217|cable satellite a...|  4|         Electronics|\n",
       "|  2|    Nunc Sed Company|([jewelry, watch,...|10165489824|jewelry watch clo...|  1|        Toys and DIY|\n",
       "|  3|Ultricies Digniss...|([wAtch, clock, a...|10187291046|watch clock and j...|  1|        Toys and DIY|\n",
       "|  4| Enim Condimentum PC|([music shops - m...|10192359162|music shops  musi...|  3|Books, Stationary...|\n",
       "|  5|       Fusce Company|[(gift, card, nov...|10206519221|gift card novelty...|  4|         Electronics|\n",
       "|  6|Aliquam Enim Inco...|[(computers, comP...|10255988167|computers compute...|  4|         Electronics|\n",
       "|  7|    Ipsum Primis Ltd|[[watch, clock, a...|10264435225|watch clock and j...|  1|        Toys and DIY|\n",
       "|  8|Pede Ultrices Ind...|([computer progra...|10279061213|computer programm...|  2|Beauty, Health, P...|\n",
       "|  9|           Nunc Inc.|[(furniture, home...|10323485998|furniture home fu...|  0|           Furniture|\n",
       "| 10|Facilisis Facilis...|([computers, comp...|10342410215|computers compute...|  4|         Electronics|\n",
       "| 11|      Odio Institute|((equipment, tool...|10346855916|equipment tool fu...|  0|           Furniture|\n",
       "| 12|    Rutrum Justo Ltd|([music shops - m...|10364012396|music shops  musi...|  3|Books, Stationary...|\n",
       "| 13|   Tellus Foundation|[[artist supply a...|10385011947|artist supply and...|  1|        Toys and DIY|\n",
       "| 14|      Sed Et Company|([florists suppli...|10385163239|florists supplies...|  0|           Furniture|\n",
       "| 15|              Id Ltd|([computers, comp...|10385250025|computers compute...|  4|         Electronics|\n",
       "| 16|Consequat Foundation|[[antique shops -...|10404542215|antique shops  sa...|  2|Beauty, Health, P...|\n",
       "| 17|Sit Amet Nulla Corp.|[[motor vehicle s...|10430380319|motor vehicle sup...|  0|           Furniture|\n",
       "| 18|Massa Vestibulum ...|[(moTor vehicle s...|10441711491|motor vehicle sup...|  0|           Furniture|\n",
       "| 19|       Ut Consulting|([gift, card, nov...|10462560289|gift card novelty...|  4|         Electronics|\n",
       "+---+--------------------+--------------------+-----------+--------------------+---+--------------------+\n",
       "only showing top 20 rows"
      ]
     },
     "execution_count": 11,
     "metadata": {},
     "output_type": "execute_result"
    }
   ],
   "source": [
    "#Removing false header line \n",
    "segments_data.na.drop(subset=[\"_c0\"])"
   ]
  },
  {
   "cell_type": "code",
   "execution_count": 12,
   "id": "3ae430f7",
   "metadata": {},
   "outputs": [],
   "source": [
    "final_join.createOrReplaceTempView(\"temp\")\n",
    "\n",
    "segments_data.createOrReplaceTempView(\"temp2\")\n",
    "\n",
    "final_join = spark.sql(\"\"\" \n",
    "\n",
    "SELECT *\n",
    "FROM temp\n",
    "\n",
    "\n",
    "LEFT JOIN temp2\n",
    "\n",
    "ON temp.merchant_abn = temp2._c3\n",
    "\"\"\")"
   ]
  },
  {
   "cell_type": "code",
   "execution_count": 13,
   "id": "f7203630",
   "metadata": {},
   "outputs": [],
   "source": [
    "# final_join.limit(5)"
   ]
  },
  {
   "cell_type": "code",
   "execution_count": 14,
   "id": "10a71f5d",
   "metadata": {},
   "outputs": [],
   "source": [
    "#Creating a table of average fraud probabilities for each category of purchase: \n",
    "\n",
    "aggregated_prob = final_join.groupBy(\"temp2._c6\").agg(avg(\"cons_fraud_prob\").alias(\"avg_consumer_fraud\"),avg(\"merch_fraud_prob\").alias(\"avg_merchant_fraud\"))"
   ]
  },
  {
   "cell_type": "code",
   "execution_count": 15,
   "id": "1fae3816",
   "metadata": {},
   "outputs": [
    {
     "name": "stderr",
     "output_type": "stream",
     "text": [
      "[Stage 57:====================================>                    (9 + 5) / 14]\r"
     ]
    },
    {
     "name": "stdout",
     "output_type": "stream",
     "text": [
      "+--------------------+------------------+------------------+\n",
      "|                 _c6|avg_consumer_fraud|avg_merchant_fraud|\n",
      "+--------------------+------------------+------------------+\n",
      "|         Electronics|15.085244801372209| 29.63518320125268|\n",
      "|        Toys and DIY|15.842853538478918| 32.40489326031825|\n",
      "|           Furniture|15.077896208142434|30.941479265167136|\n",
      "|Beauty, Health, P...|15.392330299269045| 29.76192327324857|\n",
      "|Books, Stationary...|15.140863705245456|29.016133114054462|\n",
      "+--------------------+------------------+------------------+\n",
      "\n"
     ]
    },
    {
     "name": "stderr",
     "output_type": "stream",
     "text": [
      "\r",
      "                                                                                \r"
     ]
    }
   ],
   "source": [
    "aggregated_prob.show()"
   ]
  },
  {
   "cell_type": "code",
   "execution_count": null,
   "id": "17f85faf",
   "metadata": {},
   "outputs": [],
   "source": []
  },
  {
   "cell_type": "code",
   "execution_count": 17,
   "id": "4f7b7f41",
   "metadata": {},
   "outputs": [
    {
     "name": "stderr",
     "output_type": "stream",
     "text": [
      "                                                                                \r"
     ]
    },
    {
     "data": {
      "text/html": [
       "<table border='1'>\n",
       "<tr><th>_c6</th><th>avg_consumer_fraud</th><th>avg_merchant_fraud</th></tr>\n",
       "<tr><td>Electronics</td><td>15.085244801372209</td><td>29.63518320125268</td></tr>\n",
       "<tr><td>Toys and DIY</td><td>15.842853538478918</td><td>32.40489326031825</td></tr>\n",
       "<tr><td>Furniture</td><td>15.077896208142434</td><td>30.941479265167136</td></tr>\n",
       "<tr><td>Beauty, Health, P...</td><td>15.392330299269045</td><td>29.76192327324857</td></tr>\n",
       "<tr><td>Books, Stationary...</td><td>15.140863705245456</td><td>29.016133114054462</td></tr>\n",
       "</table>\n"
      ],
      "text/plain": [
       "+--------------------+------------------+------------------+\n",
       "|                 _c6|avg_consumer_fraud|avg_merchant_fraud|\n",
       "+--------------------+------------------+------------------+\n",
       "|         Electronics|15.085244801372209| 29.63518320125268|\n",
       "|        Toys and DIY|15.842853538478918| 32.40489326031825|\n",
       "|           Furniture|15.077896208142434|30.941479265167136|\n",
       "|Beauty, Health, P...|15.392330299269045| 29.76192327324857|\n",
       "|Books, Stationary...|15.140863705245456|29.016133114054462|\n",
       "+--------------------+------------------+------------------+"
      ]
     },
     "execution_count": 17,
     "metadata": {},
     "output_type": "execute_result"
    }
   ],
   "source": [
    "aggregated_prob.limit(6)"
   ]
  },
  {
   "cell_type": "code",
   "execution_count": 18,
   "id": "a24f3ac5",
   "metadata": {},
   "outputs": [
    {
     "name": "stderr",
     "output_type": "stream",
     "text": [
      "                                                                                \r"
     ]
    },
    {
     "data": {
      "text/html": [
       "<table border='1'>\n",
       "<tr><th>merchant_abn</th><th>categories</th><th>revenue_levels</th><th>dollar_value</th><th>user_id</th><th>consumer_id</th><th>user_id_1</th><th>order_datetime_1</th><th>cons_fraud_prob</th><th>merchant_abn_1</th><th>order_datetime</th><th>merch_fraud_prob</th><th>_c0</th><th>_c1</th><th>_c2</th><th>_c3</th><th>_c4</th><th>_c5</th><th>_c6</th></tr>\n",
       "<tr><td>21439773999</td><td>cable, satellite,...</td><td>a</td><td>110.0283925711613</td><td>18569</td><td>1417071</td><td>18569</td><td>2021-12-22</td><td>9.420406825263207</td><td>21439773999</td><td>2021-11-26</td><td>28.504479048104585</td><td>519</td><td>Mauris Non Institute</td><td>([cable, satellit...</td><td>21439773999</td><td>cable satellite a...</td><td>4</td><td>Electronics</td></tr>\n",
       "<tr><td>96680767841</td><td>motor vehicle sup...</td><td>a</td><td>244.19185320012286</td><td>20924</td><td>1051408</td><td>20924</td><td>2022-02-17</td><td>9.76740823700797</td><td>96680767841</td><td>2021-11-26</td><td>29.555244690425017</td><td>3881</td><td>Ornare Limited</td><td>([motor vehicle s...</td><td>96680767841</td><td>motor vehicle sup...</td><td>0</td><td>Furniture</td></tr>\n",
       "<tr><td>18158387243</td><td>health and beauty...</td><td>c</td><td>860.3282463138394</td><td>15655</td><td>375574</td><td>15655</td><td>2022-02-10</td><td>11.94169979516484</td><td>18158387243</td><td>2021-11-29</td><td>28.956947892226466</td><td>378</td><td>Nec Tellus Ltd</td><td>[[health and beau...</td><td>18158387243</td><td>health and beauty...</td><td>2</td><td>Beauty, Health, P...</td></tr>\n",
       "<tr><td>18158387243</td><td>health and beauty...</td><td>c</td><td>860.3282463138394</td><td>15655</td><td>375574</td><td>15655</td><td>2022-02-10</td><td>11.94169979516484</td><td>18158387243</td><td>2021-11-26</td><td>29.102418916409913</td><td>378</td><td>Nec Tellus Ltd</td><td>[[health and beau...</td><td>18158387243</td><td>health and beauty...</td><td>2</td><td>Beauty, Health, P...</td></tr>\n",
       "<tr><td>18158387243</td><td>health and beauty...</td><td>c</td><td>860.3282463138394</td><td>15655</td><td>375574</td><td>15655</td><td>2022-01-14</td><td>13.321204535044247</td><td>18158387243</td><td>2021-11-29</td><td>28.956947892226466</td><td>378</td><td>Nec Tellus Ltd</td><td>[[health and beau...</td><td>18158387243</td><td>health and beauty...</td><td>2</td><td>Beauty, Health, P...</td></tr>\n",
       "</table>\n"
      ],
      "text/plain": [
       "+------------+--------------------+--------------+------------------+-------+-----------+---------+----------------+------------------+--------------+--------------+------------------+----+--------------------+--------------------+-----------+--------------------+---+--------------------+\n",
       "|merchant_abn|          categories|revenue_levels|      dollar_value|user_id|consumer_id|user_id_1|order_datetime_1|   cons_fraud_prob|merchant_abn_1|order_datetime|  merch_fraud_prob| _c0|                 _c1|                 _c2|        _c3|                 _c4|_c5|                 _c6|\n",
       "+------------+--------------------+--------------+------------------+-------+-----------+---------+----------------+------------------+--------------+--------------+------------------+----+--------------------+--------------------+-----------+--------------------+---+--------------------+\n",
       "| 21439773999|cable, satellite,...|             a| 110.0283925711613|  18569|    1417071|    18569|      2021-12-22| 9.420406825263207|   21439773999|    2021-11-26|28.504479048104585| 519|Mauris Non Institute|([cable, satellit...|21439773999|cable satellite a...|  4|         Electronics|\n",
       "| 96680767841|motor vehicle sup...|             a|244.19185320012286|  20924|    1051408|    20924|      2022-02-17|  9.76740823700797|   96680767841|    2021-11-26|29.555244690425017|3881|      Ornare Limited|([motor vehicle s...|96680767841|motor vehicle sup...|  0|           Furniture|\n",
       "| 18158387243|health and beauty...|             c| 860.3282463138394|  15655|     375574|    15655|      2022-02-10| 11.94169979516484|   18158387243|    2021-11-29|28.956947892226466| 378|      Nec Tellus Ltd|[[health and beau...|18158387243|health and beauty...|  2|Beauty, Health, P...|\n",
       "| 18158387243|health and beauty...|             c| 860.3282463138394|  15655|     375574|    15655|      2022-02-10| 11.94169979516484|   18158387243|    2021-11-26|29.102418916409913| 378|      Nec Tellus Ltd|[[health and beau...|18158387243|health and beauty...|  2|Beauty, Health, P...|\n",
       "| 18158387243|health and beauty...|             c| 860.3282463138394|  15655|     375574|    15655|      2022-01-14|13.321204535044247|   18158387243|    2021-11-29|28.956947892226466| 378|      Nec Tellus Ltd|[[health and beau...|18158387243|health and beauty...|  2|Beauty, Health, P...|\n",
       "+------------+--------------------+--------------+------------------+-------+-----------+---------+----------------+------------------+--------------+--------------+------------------+----+--------------------+--------------------+-----------+--------------------+---+--------------------+"
      ]
     },
     "execution_count": 18,
     "metadata": {},
     "output_type": "execute_result"
    }
   ],
   "source": [
    "final_join.limit(5)"
   ]
  },
  {
   "cell_type": "code",
   "execution_count": 24,
   "id": "a14d568b",
   "metadata": {},
   "outputs": [],
   "source": [
    "#adding a column for is_fraud for each transaction: \n",
    "\n",
    "is_fraud = when((final_join[\"_c6\"] == \"Electronics\") & (final_join[\"cons_fraud_prob\"] > 15.085) &(final_join[\"merch_fraud_prob\"]>29.635),1)\\\n",
    ".when((final_join[\"_c6\"] == \"Toys and DIY\") & (final_join[\"cons_fraud_prob\"] > 15.843) &(final_join[\"merch_fraud_prob\"]>32.404),1)\\\n",
    ".when((final_join[\"_c6\"] == \"Furniture\") & (final_join[\"cons_fraud_prob\"] > 15.077) & (final_join[\"merch_fraud_prob\"]>30.941),1)\\\n",
    ".when((final_join[\"_c6\"] == \"Beauty, Health, Personal and Household\") & (final_join[\"cons_fraud_prob\"] > 15.392) & (final_join[\"merch_fraud_prob\"]>29.76),1)\\\n",
    ".when((final_join[\"_c6\"] == \"Electronics\") & (final_join[\"cons_fraud_prob\"] > 15.085) &(final_join[\"merch_fraud_prob\"]>29.635),1)\\\n",
    ".when((final_join[\"_c6\"] == \"Books, Stationary and Music\") & (final_join[\"cons_fraud_prob\"] > 15.140) &(final_join[\"merch_fraud_prob\"]>29.016),1).otherwise(0)\n",
    "\n"
   ]
  },
  {
   "cell_type": "code",
   "execution_count": 25,
   "id": "87133cb0",
   "metadata": {},
   "outputs": [],
   "source": [
    "model_with_fraud = final_join.withColumn(\"is_fraud\",is_fraud)"
   ]
  },
  {
   "cell_type": "code",
   "execution_count": 26,
   "id": "331b1fc7",
   "metadata": {},
   "outputs": [
    {
     "name": "stderr",
     "output_type": "stream",
     "text": [
      "                                                                                \r"
     ]
    },
    {
     "data": {
      "text/html": [
       "<table border='1'>\n",
       "<tr><th>merchant_abn</th><th>categories</th><th>revenue_levels</th><th>dollar_value</th><th>user_id</th><th>consumer_id</th><th>user_id_1</th><th>order_datetime_1</th><th>cons_fraud_prob</th><th>merchant_abn_1</th><th>order_datetime</th><th>merch_fraud_prob</th><th>_c0</th><th>_c1</th><th>_c2</th><th>_c3</th><th>_c4</th><th>_c5</th><th>_c6</th><th>is_fraud</th></tr>\n",
       "<tr><td>21439773999</td><td>cable, satellite,...</td><td>a</td><td>110.0283925711613</td><td>18569</td><td>1417071</td><td>18569</td><td>2021-12-22</td><td>9.420406825263207</td><td>21439773999</td><td>2021-11-26</td><td>28.504479048104585</td><td>519</td><td>Mauris Non Institute</td><td>([cable, satellit...</td><td>21439773999</td><td>cable satellite a...</td><td>4</td><td>Electronics</td><td>0</td></tr>\n",
       "<tr><td>96680767841</td><td>motor vehicle sup...</td><td>a</td><td>244.19185320012286</td><td>20924</td><td>1051408</td><td>20924</td><td>2022-02-17</td><td>9.76740823700797</td><td>96680767841</td><td>2021-11-26</td><td>29.555244690425017</td><td>3881</td><td>Ornare Limited</td><td>([motor vehicle s...</td><td>96680767841</td><td>motor vehicle sup...</td><td>0</td><td>Furniture</td><td>0</td></tr>\n",
       "<tr><td>18158387243</td><td>health and beauty...</td><td>c</td><td>860.3282463138394</td><td>15655</td><td>375574</td><td>15655</td><td>2022-02-10</td><td>11.94169979516484</td><td>18158387243</td><td>2021-11-29</td><td>28.956947892226466</td><td>378</td><td>Nec Tellus Ltd</td><td>[[health and beau...</td><td>18158387243</td><td>health and beauty...</td><td>2</td><td>Beauty, Health, P...</td><td>0</td></tr>\n",
       "<tr><td>18158387243</td><td>health and beauty...</td><td>c</td><td>860.3282463138394</td><td>15655</td><td>375574</td><td>15655</td><td>2022-02-10</td><td>11.94169979516484</td><td>18158387243</td><td>2021-11-26</td><td>29.102418916409913</td><td>378</td><td>Nec Tellus Ltd</td><td>[[health and beau...</td><td>18158387243</td><td>health and beauty...</td><td>2</td><td>Beauty, Health, P...</td><td>0</td></tr>\n",
       "<tr><td>18158387243</td><td>health and beauty...</td><td>c</td><td>860.3282463138394</td><td>15655</td><td>375574</td><td>15655</td><td>2022-01-14</td><td>13.321204535044247</td><td>18158387243</td><td>2021-11-29</td><td>28.956947892226466</td><td>378</td><td>Nec Tellus Ltd</td><td>[[health and beau...</td><td>18158387243</td><td>health and beauty...</td><td>2</td><td>Beauty, Health, P...</td><td>0</td></tr>\n",
       "</table>\n"
      ],
      "text/plain": [
       "+------------+--------------------+--------------+------------------+-------+-----------+---------+----------------+------------------+--------------+--------------+------------------+----+--------------------+--------------------+-----------+--------------------+---+--------------------+--------+\n",
       "|merchant_abn|          categories|revenue_levels|      dollar_value|user_id|consumer_id|user_id_1|order_datetime_1|   cons_fraud_prob|merchant_abn_1|order_datetime|  merch_fraud_prob| _c0|                 _c1|                 _c2|        _c3|                 _c4|_c5|                 _c6|is_fraud|\n",
       "+------------+--------------------+--------------+------------------+-------+-----------+---------+----------------+------------------+--------------+--------------+------------------+----+--------------------+--------------------+-----------+--------------------+---+--------------------+--------+\n",
       "| 21439773999|cable, satellite,...|             a| 110.0283925711613|  18569|    1417071|    18569|      2021-12-22| 9.420406825263207|   21439773999|    2021-11-26|28.504479048104585| 519|Mauris Non Institute|([cable, satellit...|21439773999|cable satellite a...|  4|         Electronics|       0|\n",
       "| 96680767841|motor vehicle sup...|             a|244.19185320012286|  20924|    1051408|    20924|      2022-02-17|  9.76740823700797|   96680767841|    2021-11-26|29.555244690425017|3881|      Ornare Limited|([motor vehicle s...|96680767841|motor vehicle sup...|  0|           Furniture|       0|\n",
       "| 18158387243|health and beauty...|             c| 860.3282463138394|  15655|     375574|    15655|      2022-02-10| 11.94169979516484|   18158387243|    2021-11-29|28.956947892226466| 378|      Nec Tellus Ltd|[[health and beau...|18158387243|health and beauty...|  2|Beauty, Health, P...|       0|\n",
       "| 18158387243|health and beauty...|             c| 860.3282463138394|  15655|     375574|    15655|      2022-02-10| 11.94169979516484|   18158387243|    2021-11-26|29.102418916409913| 378|      Nec Tellus Ltd|[[health and beau...|18158387243|health and beauty...|  2|Beauty, Health, P...|       0|\n",
       "| 18158387243|health and beauty...|             c| 860.3282463138394|  15655|     375574|    15655|      2022-01-14|13.321204535044247|   18158387243|    2021-11-29|28.956947892226466| 378|      Nec Tellus Ltd|[[health and beau...|18158387243|health and beauty...|  2|Beauty, Health, P...|       0|\n",
       "+------------+--------------------+--------------+------------------+-------+-----------+---------+----------------+------------------+--------------+--------------+------------------+----+--------------------+--------------------+-----------+--------------------+---+--------------------+--------+"
      ]
     },
     "execution_count": 26,
     "metadata": {},
     "output_type": "execute_result"
    }
   ],
   "source": [
    "model_with_fraud.limit(5)"
   ]
  },
  {
   "cell_type": "code",
   "execution_count": null,
   "id": "1c9166fa",
   "metadata": {},
   "outputs": [],
   "source": [
    "model_with_fraud.write.parquet(\"/Users/ahirve/Desktop/ads_bnpl/data/curated/model_data_with_fraud_col.\") "
   ]
  }
 ],
 "metadata": {
  "kernelspec": {
   "display_name": "Python 3 (ipykernel)",
   "language": "python",
   "name": "python3"
  },
  "language_info": {
   "codemirror_mode": {
    "name": "ipython",
    "version": 3
   },
   "file_extension": ".py",
   "mimetype": "text/x-python",
   "name": "python",
   "nbconvert_exporter": "python",
   "pygments_lexer": "ipython3",
   "version": "3.9.7"
  },
  "vscode": {
   "interpreter": {
    "hash": "9950f655f935e9d386631456d48ab2fdbfd1f3b11a4a370e740fa048980506b7"
   }
  }
 },
 "nbformat": 4,
 "nbformat_minor": 5
}
