{
 "cells": [
  {
   "cell_type": "code",
   "execution_count": 65,
   "metadata": {},
   "outputs": [],
   "source": [
    "import pandas as pd\n",
    "from pyspark.sql import SparkSession, functions as F\n",
    "import lbl2vec\n",
    "from sklearn.feature_extraction.text import TfidfVectorizer\n",
    "from sklearn.cluster import KMeans\n",
    "import numpy as np\n",
    "from pyspark.sql.functions import date_format\n",
    "import statsmodels.api as sm\n",
    "from statsmodels.formula.api import ols\n",
    "from pyspark.ml.feature import IndexToString, StringIndexer, VectorIndexer\n",
    "from pyspark.ml.evaluation import MulticlassClassificationEvaluator\n",
    "from pyspark.ml.feature import OneHotEncoder, VectorAssembler\n",
    "from pyspark.ml.regression import RandomForestRegressor\n",
    "from pyspark.ml.evaluation import RegressionEvaluator\n",
    "import seaborn as sns\n",
    "import matplotlib\n",
    "import matplotlib.pyplot as plt\n"
   ]
  },
  {
   "cell_type": "code",
   "execution_count": 66,
   "metadata": {},
   "outputs": [
    {
     "name": "stdout",
     "output_type": "stream",
     "text": [
      "22/10/04 11:15:23 WARN SparkSession: Using an existing Spark session; only runtime SQL configurations will take effect.\n"
     ]
    }
   ],
   "source": [
    "# Create a spark session\n",
    "spark = (\n",
    "    SparkSession.builder.appName(\"MAST30034 Project 2\")\n",
    "    .config(\"spark.sql.repl.eagerEval.enabled\", True) \n",
    "    .config(\"spark.sql.parquet.cacheMetadata\", \"true\")\n",
    "    .config(\"spark.sql.session.timeZone\", \"Etc/UTC\")\n",
    "    .config(\"spark.driver.memory\", \"4g\")\n",
    "    .config(\"spark.executor.memory\", \"8g\")\n",
    "    .getOrCreate()\n",
    ")"
   ]
  },
  {
   "cell_type": "code",
   "execution_count": 67,
   "metadata": {},
   "outputs": [
    {
     "name": "stdout",
     "output_type": "stream",
     "text": [
      "22/10/04 11:15:23 WARN SparkSession: Using an existing Spark session; only runtime SQL configurations will take effect.\n"
     ]
    },
    {
     "name": "stderr",
     "output_type": "stream",
     "text": [
      "                                                                                \r"
     ]
    },
    {
     "data": {
      "text/html": [
       "<table border='1'>\n",
       "<tr><th>merchant_name</th><th>merchant_abn</th><th>categories</th><th>take_rate</th><th>revenue_levels</th><th>name</th><th>address</th><th>state</th><th>gender</th><th>trans_merchant_abn</th><th>dollar_value</th><th>order_id</th><th>order_datetime</th><th>user_id</th><th>consumer_id</th><th>postcodes</th><th>int_sa2</th><th>SA2_code</th><th>SA2_name</th><th>income_2018-2019</th><th>total_males</th><th>total_females</th><th>total_persons</th><th>state_code</th><th>state_name</th><th>population_2020</th><th>population_2021</th></tr>\n",
       "<tr><td>Egestas Nunc Asso...</td><td>11121775571</td><td>digital goods: bo...</td><td>6.58</td><td>a</td><td>Christopher Rodri...</td><td>30554 Evans Strea...</td><td>NSW</td><td>Male</td><td>11121775571</td><td>11.28829564583802</td><td>2bd2a61d-72e5-42d...</td><td>2021-08-20</td><td>3698</td><td>1175</td><td>2299</td><td>111031231</td><td>111031231</td><td>Shortland - Jesmond</td><td>242936885</td><td>6412</td><td>6179</td><td>12593</td><td>1</td><td>New South Wales</td><td>12598</td><td>12694</td></tr>\n",
       "<tr><td>Morbi Accumsan In...</td><td>19618998054</td><td>tent and aWning s...</td><td>1.52</td><td>c</td><td>Christopher Rodri...</td><td>30554 Evans Strea...</td><td>NSW</td><td>Male</td><td>19618998054</td><td>62.90176609196828</td><td>3582b1f8-4577-403...</td><td>2021-05-16</td><td>3698</td><td>1175</td><td>2299</td><td>111031231</td><td>111031231</td><td>Shortland - Jesmond</td><td>242936885</td><td>6412</td><td>6179</td><td>12593</td><td>1</td><td>New South Wales</td><td>12598</td><td>12694</td></tr>\n",
       "<tr><td>Eu Dolor Egestas PC</td><td>94472466107</td><td>cable, satellite,...</td><td>6.23</td><td>a</td><td>Christopher Rodri...</td><td>30554 Evans Strea...</td><td>NSW</td><td>Male</td><td>94472466107</td><td>172.15375126873164</td><td>cb05d49f-c2fa-453...</td><td>2021-07-22</td><td>3698</td><td>1175</td><td>2299</td><td>111031231</td><td>111031231</td><td>Shortland - Jesmond</td><td>242936885</td><td>6412</td><td>6179</td><td>12593</td><td>1</td><td>New South Wales</td><td>12598</td><td>12694</td></tr>\n",
       "<tr><td>Urna Justo Indust...</td><td>31472801314</td><td>music shops - mus...</td><td>6.56</td><td>a</td><td>Christopher Rodri...</td><td>30554 Evans Strea...</td><td>NSW</td><td>Male</td><td>31472801314</td><td>0.4894787650356477</td><td>aeec15c1-67e8-4cb...</td><td>2021-05-18</td><td>3698</td><td>1175</td><td>2299</td><td>111031231</td><td>111031231</td><td>Shortland - Jesmond</td><td>242936885</td><td>6412</td><td>6179</td><td>12593</td><td>1</td><td>New South Wales</td><td>12598</td><td>12694</td></tr>\n",
       "<tr><td>Eu Sem Pellentesq...</td><td>35424691626</td><td>computers, comput...</td><td>3.9</td><td>b</td><td>Christopher Rodri...</td><td>30554 Evans Strea...</td><td>NSW</td><td>Male</td><td>35424691626</td><td>7.360217018778133</td><td>9df473ba-102d-461...</td><td>2021-07-04</td><td>3698</td><td>1175</td><td>2299</td><td>111031231</td><td>111031231</td><td>Shortland - Jesmond</td><td>242936885</td><td>6412</td><td>6179</td><td>12593</td><td>1</td><td>New South Wales</td><td>12598</td><td>12694</td></tr>\n",
       "</table>\n"
      ],
      "text/plain": [
       "+--------------------+------------+--------------------+---------+--------------+--------------------+--------------------+-----+------+------------------+------------------+--------------------+--------------+-------+-----------+---------+---------+---------+-------------------+----------------+-----------+-------------+-------------+----------+---------------+---------------+---------------+\n",
       "|       merchant_name|merchant_abn|          categories|take_rate|revenue_levels|                name|             address|state|gender|trans_merchant_abn|      dollar_value|            order_id|order_datetime|user_id|consumer_id|postcodes|  int_sa2| SA2_code|           SA2_name|income_2018-2019|total_males|total_females|total_persons|state_code|     state_name|population_2020|population_2021|\n",
       "+--------------------+------------+--------------------+---------+--------------+--------------------+--------------------+-----+------+------------------+------------------+--------------------+--------------+-------+-----------+---------+---------+---------+-------------------+----------------+-----------+-------------+-------------+----------+---------------+---------------+---------------+\n",
       "|Egestas Nunc Asso...| 11121775571|digital goods: bo...|     6.58|             a|Christopher Rodri...|30554 Evans Strea...|  NSW|  Male|       11121775571| 11.28829564583802|2bd2a61d-72e5-42d...|    2021-08-20|   3698|       1175|     2299|111031231|111031231|Shortland - Jesmond|       242936885|       6412|         6179|        12593|         1|New South Wales|          12598|          12694|\n",
       "|Morbi Accumsan In...| 19618998054|tent and aWning s...|     1.52|             c|Christopher Rodri...|30554 Evans Strea...|  NSW|  Male|       19618998054| 62.90176609196828|3582b1f8-4577-403...|    2021-05-16|   3698|       1175|     2299|111031231|111031231|Shortland - Jesmond|       242936885|       6412|         6179|        12593|         1|New South Wales|          12598|          12694|\n",
       "| Eu Dolor Egestas PC| 94472466107|cable, satellite,...|     6.23|             a|Christopher Rodri...|30554 Evans Strea...|  NSW|  Male|       94472466107|172.15375126873164|cb05d49f-c2fa-453...|    2021-07-22|   3698|       1175|     2299|111031231|111031231|Shortland - Jesmond|       242936885|       6412|         6179|        12593|         1|New South Wales|          12598|          12694|\n",
       "|Urna Justo Indust...| 31472801314|music shops - mus...|     6.56|             a|Christopher Rodri...|30554 Evans Strea...|  NSW|  Male|       31472801314|0.4894787650356477|aeec15c1-67e8-4cb...|    2021-05-18|   3698|       1175|     2299|111031231|111031231|Shortland - Jesmond|       242936885|       6412|         6179|        12593|         1|New South Wales|          12598|          12694|\n",
       "|Eu Sem Pellentesq...| 35424691626|computers, comput...|      3.9|             b|Christopher Rodri...|30554 Evans Strea...|  NSW|  Male|       35424691626| 7.360217018778133|9df473ba-102d-461...|    2021-07-04|   3698|       1175|     2299|111031231|111031231|Shortland - Jesmond|       242936885|       6412|         6179|        12593|         1|New South Wales|          12598|          12694|\n",
       "+--------------------+------------+--------------------+---------+--------------+--------------------+--------------------+-----+------+------------------+------------------+--------------------+--------------+-------+-----------+---------+---------+---------+-------------------+----------------+-----------+-------------+-------------+----------+---------------+---------------+---------------+"
      ]
     },
     "execution_count": 67,
     "metadata": {},
     "output_type": "execute_result"
    }
   ],
   "source": [
    "# Read in data from ETL.py file\n",
    "%run '../scripts/ETL.py' '../scripts/paths.json'\n",
    "final_join3.limit(5)"
   ]
  },
  {
   "cell_type": "code",
   "execution_count": 68,
   "metadata": {},
   "outputs": [
    {
     "name": "stderr",
     "output_type": "stream",
     "text": [
      "                                                                                \r"
     ]
    },
    {
     "data": {
      "text/plain": [
       "10540181"
      ]
     },
     "execution_count": 68,
     "metadata": {},
     "output_type": "execute_result"
    }
   ],
   "source": [
    "final_join3.count()"
   ]
  },
  {
   "cell_type": "code",
   "execution_count": 69,
   "metadata": {},
   "outputs": [],
   "source": [
    "tagged_merchants = pd.read_csv(\"../data/curated/tagged_merchants.csv\")\n",
    "tagged_merchants = tagged_merchants.iloc[:,1:]\n",
    "tagged_merchants.drop(['tags', 'name', 'cleaned_tags', 'store_type'], axis=1, inplace=True)\n",
    "tagged_merchants.to_parquet(\"../data/curated/tagged_merchants.parquet\")\n",
    "tagged_merchants_sdf = spark.read.parquet(\"../data/curated/tagged_merchants.parquet\")"
   ]
  },
  {
   "cell_type": "code",
   "execution_count": 70,
   "metadata": {},
   "outputs": [],
   "source": [
    "tagged_merchants_sdf = tagged_merchants_sdf.withColumnRenamed('merchant_abn',\n",
    "\n",
    "    'tagged_merchant_abn'\n",
    ")"
   ]
  },
  {
   "cell_type": "code",
   "execution_count": 71,
   "metadata": {},
   "outputs": [
    {
     "name": "stdout",
     "output_type": "stream",
     "text": [
      "+-------------------+--------------------+\n",
      "|tagged_merchant_abn|            category|\n",
      "+-------------------+--------------------+\n",
      "|        10023283211|           Furniture|\n",
      "|        10142254217|         Electronics|\n",
      "|        10165489824|        Toys and DIY|\n",
      "|        10187291046|        Toys and DIY|\n",
      "|        10192359162|Books, Stationary...|\n",
      "+-------------------+--------------------+\n",
      "only showing top 5 rows\n",
      "\n"
     ]
    }
   ],
   "source": [
    "tagged_merchants_sdf.show(5)"
   ]
  },
  {
   "cell_type": "code",
   "execution_count": 72,
   "metadata": {},
   "outputs": [],
   "source": [
    "final_join3.createOrReplaceTempView(\"join\")\n",
    "tagged_merchants_sdf.createOrReplaceTempView(\"tagged\")\n",
    "\n",
    "joint = spark.sql(\"\"\" \n",
    "\n",
    "SELECT *\n",
    "FROM join\n",
    "INNER JOIN tagged\n",
    "ON join.merchant_abn = tagged.tagged_merchant_abn\n",
    "\"\"\")\n",
    "\n",
    "joint = joint.drop('tagged_merchant_abn')"
   ]
  },
  {
   "cell_type": "code",
   "execution_count": 73,
   "metadata": {},
   "outputs": [
    {
     "name": "stderr",
     "output_type": "stream",
     "text": [
      "                                                                                \r"
     ]
    },
    {
     "data": {
      "text/plain": [
       "10109254"
      ]
     },
     "execution_count": 73,
     "metadata": {},
     "output_type": "execute_result"
    }
   ],
   "source": [
    "joint.count()"
   ]
  },
  {
   "cell_type": "code",
   "execution_count": 74,
   "metadata": {},
   "outputs": [],
   "source": [
    "joint.createOrReplaceTempView(\"group\")\n",
    "\n",
    "a = spark.sql(\"\"\" \n",
    "\n",
    "SELECT *\n",
    "FROM group\n",
    "\"\"\")"
   ]
  },
  {
   "cell_type": "code",
   "execution_count": 75,
   "metadata": {},
   "outputs": [],
   "source": [
    "# Extracting the year, month, day from the timestamp\n",
    "\n",
    "a = a.withColumn(\"Year\", \n",
    "date_format('order_datetime', 'yyyy'))\n",
    "\n",
    "a  = a.withColumn(\"Month\", \n",
    "date_format('order_datetime', 'MMMM'))\n",
    "\n",
    "\n",
    "a = a.withColumn(\"Day\",\n",
    "date_format((\"order_datetime\"), \"E\"))\n"
   ]
  },
  {
   "cell_type": "code",
   "execution_count": 76,
   "metadata": {},
   "outputs": [
    {
     "name": "stderr",
     "output_type": "stream",
     "text": [
      "                                                                                \r"
     ]
    },
    {
     "name": "stdout",
     "output_type": "stream",
     "text": [
      "+--------------------+----------+\n",
      "|            pop_name|population|\n",
      "+--------------------+----------+\n",
      "|Metus Sit Amet In...|      6249|\n",
      "|Ut Nisi Limited30...|      5126|\n",
      "|Dolor Dolor Indus...|     21497|\n",
      "|Ut Molestie Found...|      8321|\n",
      "|Vivamus Sit LLC30...|      5126|\n",
      "+--------------------+----------+\n",
      "only showing top 5 rows\n",
      "\n"
     ]
    },
    {
     "name": "stderr",
     "output_type": "stream",
     "text": [
      "[Stage 1971:=================================================>      (8 + 1) / 9]\r"
     ]
    },
    {
     "name": "stdout",
     "output_type": "stream",
     "text": [
      "+--------------------+----------+\n",
      "|            pop_name|population|\n",
      "+--------------------+----------+\n",
      "|Suspendisse Non L...|      5114|\n",
      "|Dignissim Maecena...|      9771|\n",
      "|Malesuada Vel Con...|      2172|\n",
      "|Mollis Duis Sit F...|      9980|\n",
      "|Placerat Eget Ven...|     15239|\n",
      "+--------------------+----------+\n",
      "only showing top 5 rows\n",
      "\n"
     ]
    },
    {
     "name": "stderr",
     "output_type": "stream",
     "text": [
      "                                                                                \r"
     ]
    }
   ],
   "source": [
    "a.createOrReplaceTempView(\"agg\")\n",
    "\n",
    "pop_2021 = spark.sql(\"\"\" \n",
    "\n",
    "SELECT CONCAT(merchant_name, SA2_code, Year, Month, Day) AS pop_name, FIRST(population_2020) AS population\n",
    "FROM agg\n",
    "WHERE Year = '2021'\n",
    "GROUP BY merchant_name, SA2_code, Year, Month, Day\n",
    "\"\"\")\n",
    "\n",
    "pop_2021.show(5)\n",
    "\n",
    "pop_2022 = spark.sql(\"\"\" \n",
    "\n",
    "SELECT CONCAT(merchant_name, SA2_code, Year, Month, Day) AS pop_name, FIRST(population_2021) AS population\n",
    "FROM agg\n",
    "WHERE Year = '2022'\n",
    "GROUP BY merchant_name, SA2_code, Year, Month, Day\n",
    "\"\"\")\n",
    "pop_2022.show(5)"
   ]
  },
  {
   "cell_type": "code",
   "execution_count": 77,
   "metadata": {},
   "outputs": [],
   "source": [
    "a = a.drop('merchant_abn', 'categories','name', 'address', 'trans_merchant_abn', 'order_id','order_datetime','user_id','consumer_id','int_sa2',\n",
    "'SA2_name','state_code','state_name','population_2020', 'population_2021')"
   ]
  },
  {
   "cell_type": "code",
   "execution_count": 78,
   "metadata": {},
   "outputs": [
    {
     "name": "stderr",
     "output_type": "stream",
     "text": [
      "[Stage 1991:=================================================>      (8 + 1) / 9]\r"
     ]
    },
    {
     "name": "stdout",
     "output_type": "stream",
     "text": [
      "+-------------+---------+--------------+-----+------+------------+---------+--------+----------------+-----------+-------------+-------------+--------+----+-----+---+\n",
      "|merchant_name|take_rate|revenue_levels|state|gender|dollar_value|postcodes|SA2_code|income_2018-2019|total_males|total_females|total_persons|category|Year|Month|Day|\n",
      "+-------------+---------+--------------+-----+------+------------+---------+--------+----------------+-----------+-------------+-------------+--------+----+-----+---+\n",
      "|            0|        0|             0|    0|     0|           0|        0|       0|               0|          0|            0|            0|       0|   0|    0|  0|\n",
      "+-------------+---------+--------------+-----+------+------------+---------+--------+----------------+-----------+-------------+-------------+--------+----+-----+---+\n",
      "\n"
     ]
    },
    {
     "name": "stderr",
     "output_type": "stream",
     "text": [
      "                                                                                \r"
     ]
    }
   ],
   "source": [
    " \n",
    "# Find Count of Null, None, NaN of All DataFrame Columns\n",
    "from pyspark.sql.functions import col,isnan, when, count\n",
    "a.select([count(when(isnan(c) | col(c).isNull(), c)).alias(c) for c in a.columns]\n",
    "   ).show()"
   ]
  },
  {
   "cell_type": "code",
   "execution_count": 79,
   "metadata": {},
   "outputs": [
    {
     "name": "stdout",
     "output_type": "stream",
     "text": [
      "root\n",
      " |-- merchant_name: string (nullable = true)\n",
      " |-- take_rate: double (nullable = true)\n",
      " |-- revenue_levels: string (nullable = true)\n",
      " |-- state: string (nullable = true)\n",
      " |-- gender: string (nullable = true)\n",
      " |-- dollar_value: double (nullable = true)\n",
      " |-- postcodes: string (nullable = true)\n",
      " |-- SA2_code: long (nullable = true)\n",
      " |-- income_2018-2019: long (nullable = true)\n",
      " |-- total_males: long (nullable = true)\n",
      " |-- total_females: long (nullable = true)\n",
      " |-- total_persons: long (nullable = true)\n",
      " |-- category: string (nullable = true)\n",
      " |-- Year: string (nullable = true)\n",
      " |-- Month: string (nullable = true)\n",
      " |-- Day: string (nullable = true)\n",
      "\n"
     ]
    }
   ],
   "source": [
    "a.printSchema()"
   ]
  },
  {
   "cell_type": "code",
   "execution_count": 80,
   "metadata": {},
   "outputs": [
    {
     "name": "stderr",
     "output_type": "stream",
     "text": [
      "                                                                                \r"
     ]
    },
    {
     "name": "stdout",
     "output_type": "stream",
     "text": [
      "+--------------------+-----+\n",
      "|              m_name|males|\n",
      "+--------------------+-----+\n",
      "|Pede Nonummy Corp...|    2|\n",
      "|Suspendisse Dui C...|    1|\n",
      "|Maecenas Industri...|    1|\n",
      "|Lorem Ipsum Sodal...|    1|\n",
      "|Ultricies Digniss...|    1|\n",
      "+--------------------+-----+\n",
      "only showing top 5 rows\n",
      "\n"
     ]
    },
    {
     "name": "stderr",
     "output_type": "stream",
     "text": [
      "[Stage 2035:=================================================>      (8 + 1) / 9]\r"
     ]
    },
    {
     "name": "stdout",
     "output_type": "stream",
     "text": [
      "+--------------------+-------+\n",
      "|              f_name|females|\n",
      "+--------------------+-------+\n",
      "|Eget Company10902...|      2|\n",
      "|Taciti PC10902117...|      1|\n",
      "|Est Nunc Consulti...|      1|\n",
      "|Eget Metus In Cor...|      1|\n",
      "|Cras Eget Foundat...|      1|\n",
      "+--------------------+-------+\n",
      "only showing top 5 rows\n",
      "\n"
     ]
    },
    {
     "name": "stderr",
     "output_type": "stream",
     "text": [
      "                                                                                \r"
     ]
    }
   ],
   "source": [
    "a.createOrReplaceTempView(\"agg\")\n",
    "\n",
    "male = spark.sql(\"\"\" \n",
    "\n",
    "SELECT CONCAT(merchant_name, SA2_code, Year, Month, Day) AS m_name, COUNT(gender) as males\n",
    "FROM agg\n",
    "WHERE gender = 'Male'\n",
    "GROUP BY merchant_name, SA2_code, Year, Month, Day\n",
    "\"\"\")\n",
    "\n",
    "male.show(5)\n",
    "\n",
    "female = spark.sql(\"\"\" \n",
    "\n",
    "SELECT CONCAT(merchant_name, SA2_code, Year, Month, Day) AS f_name, COUNT(gender) as females\n",
    "FROM agg\n",
    "WHERE gender = 'Female'\n",
    "GROUP BY merchant_name, SA2_code, Year, Month, Day\n",
    "\"\"\")\n",
    "female.show(5)"
   ]
  },
  {
   "cell_type": "code",
   "execution_count": 81,
   "metadata": {},
   "outputs": [
    {
     "name": "stderr",
     "output_type": "stream",
     "text": [
      "[Stage 2053:===================================>                   (9 + 5) / 14]\r"
     ]
    },
    {
     "name": "stdout",
     "output_type": "stream",
     "text": [
      "+--------------------+---------+--------------+-----+------+-----------------+---------+---------+----------------+-----------+-------------+-------------+--------------------+----+------+---+\n",
      "|       merchant_name|take_rate|revenue_levels|state|gender|     dollar_value|postcodes| SA2_code|income_2018-2019|total_males|total_females|total_persons|            category|Year| Month|Day|\n",
      "+--------------------+---------+--------------+-----+------+-----------------+---------+---------+----------------+-----------+-------------+-------------+--------------------+----+------+---+\n",
      "|Egestas Nunc Asso...|     6.58|             a|  NSW|  Male|11.28829564583802|     2299|111031231|       242936885|       6412|         6179|        12593|Books, Stationary...|2021|August|Fri|\n",
      "|Morbi Accumsan In...|     1.52|             c|  NSW|  Male|62.90176609196828|     2299|111031231|       242936885|       6412|         6179|        12593|Books, Stationary...|2021|   May|Sun|\n",
      "+--------------------+---------+--------------+-----+------+-----------------+---------+---------+----------------+-----------+-------------+-------------+--------------------+----+------+---+\n",
      "only showing top 2 rows\n",
      "\n"
     ]
    },
    {
     "name": "stderr",
     "output_type": "stream",
     "text": [
      "                                                                                \r"
     ]
    }
   ],
   "source": [
    "a.show(2)"
   ]
  },
  {
   "cell_type": "code",
   "execution_count": 117,
   "metadata": {},
   "outputs": [
    {
     "name": "stderr",
     "output_type": "stream",
     "text": [
      "[Stage 4763:>                                                      (0 + 8) / 14]\r"
     ]
    },
    {
     "name": "stdout",
     "output_type": "stream",
     "text": [
      "22/10/04 12:15:30 WARN RowBasedKeyValueBatch: Calling spill() on RowBasedKeyValueBatch. Will not spill but return 0.\n",
      "22/10/04 12:15:30 WARN RowBasedKeyValueBatch: Calling spill() on RowBasedKeyValueBatch. Will not spill but return 0.\n",
      "22/10/04 12:15:30 WARN RowBasedKeyValueBatch: Calling spill() on RowBasedKeyValueBatch. Will not spill but return 0.\n",
      "22/10/04 12:15:30 WARN RowBasedKeyValueBatch: Calling spill() on RowBasedKeyValueBatch. Will not spill but return 0.\n",
      "22/10/04 12:15:30 WARN RowBasedKeyValueBatch: Calling spill() on RowBasedKeyValueBatch. Will not spill but return 0.\n",
      "22/10/04 12:15:30 WARN RowBasedKeyValueBatch: Calling spill() on RowBasedKeyValueBatch. Will not spill but return 0.\n",
      "22/10/04 12:15:30 WARN RowBasedKeyValueBatch: Calling spill() on RowBasedKeyValueBatch. Will not spill but return 0.\n",
      "22/10/04 12:15:30 WARN RowBasedKeyValueBatch: Calling spill() on RowBasedKeyValueBatch. Will not spill but return 0.\n"
     ]
    },
    {
     "name": "stderr",
     "output_type": "stream",
     "text": [
      "[Stage 4766:>                                                       (0 + 1) / 1]\r"
     ]
    },
    {
     "name": "stdout",
     "output_type": "stream",
     "text": [
      "+--------------------+------------------+---------+----+---------+---+------------------+--------------------+\n",
      "|       merchant_name|no_of_transactions| SA2_code|Year|    Month|Day|      total_income|            join_col|\n",
      "+--------------------+------------------+---------+----+---------+---+------------------+--------------------+\n",
      "|     Amet Associates|                 1|205031089|2022|   August|Wed| 87.32272444063014|Amet Associates20...|\n",
      "| Est Nunc Consulting|                 6|406011133|2021|    March|Mon|166.18072722048151|Est Nunc Consulti...|\n",
      "|Ipsum Ac Mi Assoc...|                 1|204011058|2022|     July|Sun| 2.970359552439327|Ipsum Ac Mi Assoc...|\n",
      "|Gravida Aliquam T...|                 1|127021515|2021| December|Wed|481.42558340620184|Gravida Aliquam T...|\n",
      "|Nonummy Ipsum Non...|                 1|304031092|2022|    April|Sat| 6.207192623859159|Nonummy Ipsum Non...|\n",
      "|      Auctor Company|                 1|601021012|2021| December|Wed| 77.99527544733913|Auctor Company601...|\n",
      "|    Lacus Consulting|                 2|208031185|2022|     June|Tue|107.26438582949794|Lacus Consulting2...|\n",
      "|       Libero At LLC|                 1|405011110|2021| December|Fri|33.735001949775494|Libero At LLC4050...|\n",
      "|Placerat Eget Ven...|                 4|407031161|2021| December|Mon|120.28563172160514|Placerat Eget Ven...|\n",
      "|Id Erat Etiam Con...|                 1|801011017|2022|      May|Sun| 74.68943820012592|Id Erat Etiam Con...|\n",
      "|Nibh Phasellus Nu...|                 1|406011133|2021| November|Sat| 540.9834342733662|Nibh Phasellus Nu...|\n",
      "|Non Vestibulum In...|                 2|601061035|2022|  October|Sat| 70.46644994728916|Non Vestibulum In...|\n",
      "| Malesuada Institute|                 1|308051535|2021|     July|Thu| 192.0012690027335|Malesuada Institu...|\n",
      "|   Leo In Consulting|                 3|303041070|2022|      May|Tue|   82.013078872194|Leo In Consulting...|\n",
      "|      Auctor Company|                 1|602021057|2021|    April|Fri|11.269751214252501|Auctor Company602...|\n",
      "|  Pede Nonummy Corp.|                 1|217031476|2022|  January|Sat| 9.066420803048599|Pede Nonummy Corp...|\n",
      "|Mauris Blandit Co...|                 1|311031312|2021|September|Wed| 4.083810505444027|Mauris Blandit Co...|\n",
      "|Etiam Bibendum Fe...|                 1|405011111|2022|  October|Tue| 517.8966600157436|Etiam Bibendum Fe...|\n",
      "|Sit Amet Dapibus LLC|                 1|209031212|2022|    March|Sat| 26.40154803159643|Sit Amet Dapibus ...|\n",
      "|Volutpat Nulla In...|                 1|201021011|2022|  January|Mon| 200.1388753101042|Volutpat Nulla In...|\n",
      "+--------------------+------------------+---------+----+---------+---+------------------+--------------------+\n",
      "only showing top 20 rows\n",
      "\n"
     ]
    },
    {
     "name": "stderr",
     "output_type": "stream",
     "text": [
      "                                                                                \r"
     ]
    }
   ],
   "source": [
    "a.createOrReplaceTempView(\"agg\")\n",
    "\n",
    "temp = spark.sql(\"\"\" \n",
    "\n",
    "SELECT merchant_name, COUNT(merchant_name) AS no_of_transactions, SA2_code, Year, Month, Day, SUM(dollar_value) AS total_income,\n",
    "    CONCAT(merchant_name, SA2_code, Year, Month, Day) AS join_col\n",
    "FROM agg\n",
    "GROUP BY merchant_name, SA2_code, Year, Month, Day\n",
    "\"\"\")\n",
    "\n",
    "temp.show()\n"
   ]
  },
  {
   "cell_type": "code",
   "execution_count": 118,
   "metadata": {},
   "outputs": [
    {
     "name": "stderr",
     "output_type": "stream",
     "text": [
      "                                                                                \r"
     ]
    },
    {
     "data": {
      "text/html": [
       "<table border='1'>\n",
       "<tr><th>Year</th></tr>\n",
       "<tr><td>2022</td></tr>\n",
       "<tr><td>2021</td></tr>\n",
       "</table>\n"
      ],
      "text/plain": [
       "+----+\n",
       "|Year|\n",
       "+----+\n",
       "|2022|\n",
       "|2021|\n",
       "+----+"
      ]
     },
     "execution_count": 118,
     "metadata": {},
     "output_type": "execute_result"
    }
   ],
   "source": [
    "temp.createOrReplaceTempView(\"pop_join\")\n",
    "\n",
    "k = spark.sql(\"\"\" \n",
    "\n",
    "SELECT DISTINCT(Year)\n",
    "FROM pop_join\n",
    "\"\"\")\n",
    "\n",
    "k.limit(5)"
   ]
  },
  {
   "cell_type": "code",
   "execution_count": 119,
   "metadata": {},
   "outputs": [
    {
     "name": "stderr",
     "output_type": "stream",
     "text": [
      "                                                                                \r"
     ]
    },
    {
     "data": {
      "text/html": [
       "<table border='1'>\n",
       "<tr><th>merchant_name</th><th>no_of_transactions</th><th>SA2_code</th><th>Year</th><th>Month</th><th>Day</th><th>total_income</th><th>join_col</th><th>pop_name</th><th>population</th></tr>\n",
       "<tr><td>A Aliquet Ltd</td><td>1</td><td>111011206</td><td>2021</td><td>August</td><td>Sun</td><td>144.92626003254605</td><td>A Aliquet Ltd1110...</td><td>A Aliquet Ltd1110...</td><td>17986</td></tr>\n",
       "<tr><td>A Aliquet Ltd</td><td>1</td><td>119011358</td><td>2021</td><td>March</td><td>Fri</td><td>170.85311633083847</td><td>A Aliquet Ltd1190...</td><td>A Aliquet Ltd1190...</td><td>17359</td></tr>\n",
       "<tr><td>A Aliquet Ltd</td><td>1</td><td>119011572</td><td>2021</td><td>September</td><td>Mon</td><td>189.1723204191432</td><td>A Aliquet Ltd1190...</td><td>A Aliquet Ltd1190...</td><td>18209</td></tr>\n",
       "<tr><td>A Aliquet Ltd</td><td>1</td><td>119021362</td><td>2021</td><td>December</td><td>Sun</td><td>108.62765682595965</td><td>A Aliquet Ltd1190...</td><td>A Aliquet Ltd1190...</td><td>20616</td></tr>\n",
       "<tr><td>A Aliquet Ltd</td><td>1</td><td>120031393</td><td>2021</td><td>March</td><td>Tue</td><td>313.17032618991084</td><td>A Aliquet Ltd1200...</td><td>A Aliquet Ltd1200...</td><td>17780</td></tr>\n",
       "</table>\n"
      ],
      "text/plain": [
       "+-------------+------------------+---------+----+---------+---+------------------+--------------------+--------------------+----------+\n",
       "|merchant_name|no_of_transactions| SA2_code|Year|    Month|Day|      total_income|            join_col|            pop_name|population|\n",
       "+-------------+------------------+---------+----+---------+---+------------------+--------------------+--------------------+----------+\n",
       "|A Aliquet Ltd|                 1|111011206|2021|   August|Sun|144.92626003254605|A Aliquet Ltd1110...|A Aliquet Ltd1110...|     17986|\n",
       "|A Aliquet Ltd|                 1|119011358|2021|    March|Fri|170.85311633083847|A Aliquet Ltd1190...|A Aliquet Ltd1190...|     17359|\n",
       "|A Aliquet Ltd|                 1|119011572|2021|September|Mon| 189.1723204191432|A Aliquet Ltd1190...|A Aliquet Ltd1190...|     18209|\n",
       "|A Aliquet Ltd|                 1|119021362|2021| December|Sun|108.62765682595965|A Aliquet Ltd1190...|A Aliquet Ltd1190...|     20616|\n",
       "|A Aliquet Ltd|                 1|120031393|2021|    March|Tue|313.17032618991084|A Aliquet Ltd1200...|A Aliquet Ltd1200...|     17780|\n",
       "+-------------+------------------+---------+----+---------+---+------------------+--------------------+--------------------+----------+"
      ]
     },
     "execution_count": 119,
     "metadata": {},
     "output_type": "execute_result"
    }
   ],
   "source": [
    "temp.createOrReplaceTempView(\"pop_join1\")\n",
    "pop_2021.createOrReplaceTempView(\"pop2021\")\n",
    "\n",
    "pop2 = spark.sql(\"\"\" \n",
    "\n",
    "SELECT *\n",
    "FROM pop_join1\n",
    "INNER JOIN pop2021\n",
    "ON pop_join1.join_col = pop2021.pop_name\n",
    "WHERE pop_join1.Year == '2021'\n",
    "\"\"\")\n",
    "\n",
    "pop2.limit(5)"
   ]
  },
  {
   "cell_type": "code",
   "execution_count": 120,
   "metadata": {},
   "outputs": [
    {
     "name": "stderr",
     "output_type": "stream",
     "text": [
      "                                                                                \r"
     ]
    },
    {
     "data": {
      "text/html": [
       "<table border='1'>\n",
       "<tr><th>merchant_name</th><th>no_of_transactions</th><th>SA2_code</th><th>Year</th><th>Month</th><th>Day</th><th>total_income</th><th>join_col</th><th>pop_name</th><th>population</th></tr>\n",
       "<tr><td>A Aliquet Ltd</td><td>1</td><td>111021217</td><td>2022</td><td>August</td><td>Wed</td><td>141.8509610912289</td><td>A Aliquet Ltd1110...</td><td>A Aliquet Ltd1110...</td><td>16456</td></tr>\n",
       "<tr><td>A Aliquet Ltd</td><td>1</td><td>111031232</td><td>2022</td><td>May</td><td>Mon</td><td>105.23461363171437</td><td>A Aliquet Ltd1110...</td><td>A Aliquet Ltd1110...</td><td>8809</td></tr>\n",
       "<tr><td>A Aliquet Ltd</td><td>1</td><td>119011572</td><td>2022</td><td>September</td><td>Tue</td><td>462.94946210748094</td><td>A Aliquet Ltd1190...</td><td>A Aliquet Ltd1190...</td><td>18500</td></tr>\n",
       "<tr><td>A Aliquet Ltd</td><td>1</td><td>121021406</td><td>2022</td><td>July</td><td>Sun</td><td>215.25168650638156</td><td>A Aliquet Ltd1210...</td><td>A Aliquet Ltd1210...</td><td>19199</td></tr>\n",
       "<tr><td>A Aliquet Ltd</td><td>1</td><td>201011002</td><td>2022</td><td>May</td><td>Fri</td><td>345.51374065819294</td><td>A Aliquet Ltd2010...</td><td>A Aliquet Ltd2010...</td><td>12076</td></tr>\n",
       "</table>\n"
      ],
      "text/plain": [
       "+-------------+------------------+---------+----+---------+---+------------------+--------------------+--------------------+----------+\n",
       "|merchant_name|no_of_transactions| SA2_code|Year|    Month|Day|      total_income|            join_col|            pop_name|population|\n",
       "+-------------+------------------+---------+----+---------+---+------------------+--------------------+--------------------+----------+\n",
       "|A Aliquet Ltd|                 1|111021217|2022|   August|Wed| 141.8509610912289|A Aliquet Ltd1110...|A Aliquet Ltd1110...|     16456|\n",
       "|A Aliquet Ltd|                 1|111031232|2022|      May|Mon|105.23461363171437|A Aliquet Ltd1110...|A Aliquet Ltd1110...|      8809|\n",
       "|A Aliquet Ltd|                 1|119011572|2022|September|Tue|462.94946210748094|A Aliquet Ltd1190...|A Aliquet Ltd1190...|     18500|\n",
       "|A Aliquet Ltd|                 1|121021406|2022|     July|Sun|215.25168650638156|A Aliquet Ltd1210...|A Aliquet Ltd1210...|     19199|\n",
       "|A Aliquet Ltd|                 1|201011002|2022|      May|Fri|345.51374065819294|A Aliquet Ltd2010...|A Aliquet Ltd2010...|     12076|\n",
       "+-------------+------------------+---------+----+---------+---+------------------+--------------------+--------------------+----------+"
      ]
     },
     "execution_count": 120,
     "metadata": {},
     "output_type": "execute_result"
    }
   ],
   "source": [
    "temp.createOrReplaceTempView(\"pop_join2\")\n",
    "pop_2022.createOrReplaceTempView(\"pop2022\")\n",
    "\n",
    "pop3 = spark.sql(\"\"\" \n",
    "\n",
    "SELECT *\n",
    "FROM pop_join2\n",
    "INNER JOIN pop2022\n",
    "ON pop_join2.join_col = pop2022.pop_name\n",
    "WHERE pop_join2.Year == '2022'\n",
    "\"\"\")\n",
    "\n",
    "pop3.limit(5)"
   ]
  },
  {
   "cell_type": "code",
   "execution_count": 121,
   "metadata": {},
   "outputs": [],
   "source": [
    "total_pop = pop2.union(pop3)"
   ]
  },
  {
   "cell_type": "code",
   "execution_count": 122,
   "metadata": {},
   "outputs": [
    {
     "name": "stderr",
     "output_type": "stream",
     "text": [
      "                                                                                \r"
     ]
    },
    {
     "data": {
      "text/html": [
       "<table border='1'>\n",
       "<tr><th>merchant_name</th><th>no_of_transactions</th><th>SA2_code</th><th>Year</th><th>Month</th><th>Day</th><th>total_income</th><th>join_col</th><th>pop_name</th><th>population</th></tr>\n",
       "<tr><td>A Aliquet Ltd</td><td>1</td><td>111011206</td><td>2021</td><td>August</td><td>Sun</td><td>144.92626003254605</td><td>A Aliquet Ltd1110...</td><td>A Aliquet Ltd1110...</td><td>17986</td></tr>\n",
       "<tr><td>A Aliquet Ltd</td><td>1</td><td>119011358</td><td>2021</td><td>March</td><td>Fri</td><td>170.85311633083847</td><td>A Aliquet Ltd1190...</td><td>A Aliquet Ltd1190...</td><td>17359</td></tr>\n",
       "<tr><td>A Aliquet Ltd</td><td>1</td><td>119011572</td><td>2021</td><td>September</td><td>Mon</td><td>189.1723204191432</td><td>A Aliquet Ltd1190...</td><td>A Aliquet Ltd1190...</td><td>18209</td></tr>\n",
       "</table>\n"
      ],
      "text/plain": [
       "+-------------+------------------+---------+----+---------+---+------------------+--------------------+--------------------+----------+\n",
       "|merchant_name|no_of_transactions| SA2_code|Year|    Month|Day|      total_income|            join_col|            pop_name|population|\n",
       "+-------------+------------------+---------+----+---------+---+------------------+--------------------+--------------------+----------+\n",
       "|A Aliquet Ltd|                 1|111011206|2021|   August|Sun|144.92626003254605|A Aliquet Ltd1110...|A Aliquet Ltd1110...|     17986|\n",
       "|A Aliquet Ltd|                 1|119011358|2021|    March|Fri|170.85311633083847|A Aliquet Ltd1190...|A Aliquet Ltd1190...|     17359|\n",
       "|A Aliquet Ltd|                 1|119011572|2021|September|Mon| 189.1723204191432|A Aliquet Ltd1190...|A Aliquet Ltd1190...|     18209|\n",
       "+-------------+------------------+---------+----+---------+---+------------------+--------------------+--------------------+----------+"
      ]
     },
     "execution_count": 122,
     "metadata": {},
     "output_type": "execute_result"
    }
   ],
   "source": [
    "total_pop.limit(3)"
   ]
  },
  {
   "cell_type": "code",
   "execution_count": 123,
   "metadata": {},
   "outputs": [
    {
     "name": "stderr",
     "output_type": "stream",
     "text": [
      "[Stage 5094:===========>                                           (2 + 8) / 10]\r"
     ]
    },
    {
     "name": "stdout",
     "output_type": "stream",
     "text": [
      "+----+\n",
      "|Year|\n",
      "+----+\n",
      "|2021|\n",
      "|2022|\n",
      "+----+\n",
      "\n"
     ]
    },
    {
     "name": "stderr",
     "output_type": "stream",
     "text": [
      "                                                                                \r"
     ]
    }
   ],
   "source": [
    "total_pop.createOrReplaceTempView(\"check\")\n",
    "\n",
    "g = spark.sql(\"\"\" \n",
    "\n",
    "SELECT DISTINCT(Year)\n",
    "FROM check\n",
    "\n",
    "\"\"\")\n",
    "\n",
    "g.show()"
   ]
  },
  {
   "cell_type": "code",
   "execution_count": 124,
   "metadata": {},
   "outputs": [
    {
     "name": "stderr",
     "output_type": "stream",
     "text": [
      "                                                                                \r"
     ]
    },
    {
     "data": {
      "text/html": [
       "<table border='1'>\n",
       "<tr><th>merchant_name</th><th>no_of_transactions</th><th>SA2_code</th><th>Year</th><th>Month</th><th>Day</th><th>total_income</th><th>join_col</th><th>m_name</th><th>males</th><th>f_name</th><th>females</th></tr>\n",
       "<tr><td>A Arcu Industries</td><td>2</td><td>309011227</td><td>2021</td><td>October</td><td>Mon</td><td>453.44732762052706</td><td>A Arcu Industries...</td><td>A Arcu Industries...</td><td>1</td><td>A Arcu Industries...</td><td>1</td></tr>\n",
       "<tr><td>A Auctor Non Corp...</td><td>2</td><td>205031089</td><td>2022</td><td>August</td><td>Wed</td><td>165.03443648170074</td><td>A Auctor Non Corp...</td><td>A Auctor Non Corp...</td><td>1</td><td>A Auctor Non Corp...</td><td>1</td></tr>\n",
       "<tr><td>A Auctor Non Corp...</td><td>2</td><td>211051282</td><td>2022</td><td>October</td><td>Wed</td><td>121.21960880156465</td><td>A Auctor Non Corp...</td><td>A Auctor Non Corp...</td><td>1</td><td>A Auctor Non Corp...</td><td>1</td></tr>\n",
       "<tr><td>A Auctor Non Corp...</td><td>2</td><td>211051286</td><td>2021</td><td>September</td><td>Tue</td><td>122.00792368624354</td><td>A Auctor Non Corp...</td><td>A Auctor Non Corp...</td><td>1</td><td>A Auctor Non Corp...</td><td>1</td></tr>\n",
       "<tr><td>A Auctor Non Corp...</td><td>2</td><td>303041070</td><td>2022</td><td>May</td><td>Mon</td><td>47.254634232186206</td><td>A Auctor Non Corp...</td><td>A Auctor Non Corp...</td><td>1</td><td>A Auctor Non Corp...</td><td>1</td></tr>\n",
       "</table>\n"
      ],
      "text/plain": [
       "+--------------------+------------------+---------+----+---------+---+------------------+--------------------+--------------------+-----+--------------------+-------+\n",
       "|       merchant_name|no_of_transactions| SA2_code|Year|    Month|Day|      total_income|            join_col|              m_name|males|              f_name|females|\n",
       "+--------------------+------------------+---------+----+---------+---+------------------+--------------------+--------------------+-----+--------------------+-------+\n",
       "|   A Arcu Industries|                 2|309011227|2021|  October|Mon|453.44732762052706|A Arcu Industries...|A Arcu Industries...|    1|A Arcu Industries...|      1|\n",
       "|A Auctor Non Corp...|                 2|205031089|2022|   August|Wed|165.03443648170074|A Auctor Non Corp...|A Auctor Non Corp...|    1|A Auctor Non Corp...|      1|\n",
       "|A Auctor Non Corp...|                 2|211051282|2022|  October|Wed|121.21960880156465|A Auctor Non Corp...|A Auctor Non Corp...|    1|A Auctor Non Corp...|      1|\n",
       "|A Auctor Non Corp...|                 2|211051286|2021|September|Tue|122.00792368624354|A Auctor Non Corp...|A Auctor Non Corp...|    1|A Auctor Non Corp...|      1|\n",
       "|A Auctor Non Corp...|                 2|303041070|2022|      May|Mon|47.254634232186206|A Auctor Non Corp...|A Auctor Non Corp...|    1|A Auctor Non Corp...|      1|\n",
       "+--------------------+------------------+---------+----+---------+---+------------------+--------------------+--------------------+-----+--------------------+-------+"
      ]
     },
     "execution_count": 124,
     "metadata": {},
     "output_type": "execute_result"
    }
   ],
   "source": [
    "temp.createOrReplaceTempView(\"gender_join\")\n",
    "male.createOrReplaceTempView(\"m\")\n",
    "female.createOrReplaceTempView(\"f\")\n",
    "\n",
    "temp2 = spark.sql(\"\"\" \n",
    "\n",
    "SELECT *\n",
    "FROM gender_join\n",
    "INNER JOIN m\n",
    "ON gender_join.join_col = m.m_name\n",
    "\"\"\")\n",
    "\n",
    "temp2.createOrReplaceTempView(\"temp2\")\n",
    "\n",
    "temp3 = spark.sql(\"\"\" \n",
    "\n",
    "SELECT *\n",
    "FROM temp2\n",
    "INNER JOIN f\n",
    "ON temp2.join_col = f.f_name\n",
    "\"\"\")\n",
    "\n",
    "temp3.limit(5)"
   ]
  },
  {
   "cell_type": "code",
   "execution_count": 125,
   "metadata": {},
   "outputs": [
    {
     "name": "stderr",
     "output_type": "stream",
     "text": [
      "[Stage 5249:========================>                               (4 + 5) / 9]\r"
     ]
    },
    {
     "name": "stdout",
     "output_type": "stream",
     "text": [
      "+----+\n",
      "|Year|\n",
      "+----+\n",
      "|2022|\n",
      "|2021|\n",
      "+----+\n",
      "\n"
     ]
    },
    {
     "name": "stderr",
     "output_type": "stream",
     "text": [
      "                                                                                \r"
     ]
    }
   ],
   "source": [
    "temp3.createOrReplaceTempView(\"check\")\n",
    "\n",
    "g = spark.sql(\"\"\" \n",
    "\n",
    "SELECT DISTINCT(Year)\n",
    "FROM check\n",
    "\n",
    "\"\"\")\n",
    "\n",
    "g.show()"
   ]
  },
  {
   "cell_type": "code",
   "execution_count": 126,
   "metadata": {},
   "outputs": [],
   "source": [
    "total_pop = total_pop.drop('merchant_name', 'no_of_transactions', 'SA2_code', 'Year', 'Month', 'Day', 'total_income', 'pop_name')"
   ]
  },
  {
   "cell_type": "code",
   "execution_count": 127,
   "metadata": {},
   "outputs": [
    {
     "name": "stderr",
     "output_type": "stream",
     "text": [
      "[Stage 5283:>(9 + 5) / 14][Stage 5286:>(0 + 3) / 14][Stage 5288:> (0 + 0) / 1]  \r"
     ]
    },
    {
     "name": "stdout",
     "output_type": "stream",
     "text": [
      "22/10/04 12:22:31 WARN RowBasedKeyValueBatch: Calling spill() on RowBasedKeyValueBatch. Will not spill but return 0.\n",
      "22/10/04 12:22:31 WARN RowBasedKeyValueBatch: Calling spill() on RowBasedKeyValueBatch. Will not spill but return 0.\n"
     ]
    },
    {
     "name": "stderr",
     "output_type": "stream",
     "text": [
      "[Stage 5286:>(0 + 8) / 14][Stage 5288:> (0 + 0) / 1][Stage 5290:> (0 + 0) / 9]\r"
     ]
    },
    {
     "name": "stdout",
     "output_type": "stream",
     "text": [
      "22/10/04 12:22:32 WARN RowBasedKeyValueBatch: Calling spill() on RowBasedKeyValueBatch. Will not spill but return 0.\n",
      "22/10/04 12:22:32 WARN RowBasedKeyValueBatch: Calling spill() on RowBasedKeyValueBatch. Will not spill but return 0.\n",
      "22/10/04 12:22:32 WARN RowBasedKeyValueBatch: Calling spill() on RowBasedKeyValueBatch. Will not spill but return 0.\n",
      "22/10/04 12:22:32 WARN RowBasedKeyValueBatch: Calling spill() on RowBasedKeyValueBatch. Will not spill but return 0.\n",
      "22/10/04 12:22:32 WARN RowBasedKeyValueBatch: Calling spill() on RowBasedKeyValueBatch. Will not spill but return 0.\n"
     ]
    },
    {
     "name": "stderr",
     "output_type": "stream",
     "text": [
      "[Stage 5286:>(3 + 8) / 14][Stage 5288:> (0 + 0) / 1][Stage 5290:> (0 + 0) / 9]\r"
     ]
    },
    {
     "name": "stdout",
     "output_type": "stream",
     "text": [
      "22/10/04 12:22:37 WARN RowBasedKeyValueBatch: Calling spill() on RowBasedKeyValueBatch. Will not spill but return 0.\n"
     ]
    },
    {
     "name": "stderr",
     "output_type": "stream",
     "text": [
      "                                                                                \r"
     ]
    },
    {
     "name": "stdout",
     "output_type": "stream",
     "text": [
      "22/10/04 12:22:38 WARN RowBasedKeyValueBatch: Calling spill() on RowBasedKeyValueBatch. Will not spill but return 0.\n",
      "22/10/04 12:22:38 WARN RowBasedKeyValueBatch: Calling spill() on RowBasedKeyValueBatch. Will not spill but return 0.\n"
     ]
    },
    {
     "name": "stderr",
     "output_type": "stream",
     "text": [
      "                                                                                \r"
     ]
    },
    {
     "data": {
      "text/html": [
       "<table border='1'>\n",
       "<tr><th>merchant_name</th><th>no_of_transactions</th><th>SA2_code</th><th>Year</th><th>Month</th><th>Day</th><th>total_income</th><th>join_col</th><th>m_name</th><th>males</th><th>f_name</th><th>females</th><th>join_col</th><th>population</th></tr>\n",
       "<tr><td>A Arcu Industries</td><td>2</td><td>309011227</td><td>2021</td><td>October</td><td>Mon</td><td>453.44732762052706</td><td>A Arcu Industries...</td><td>A Arcu Industries...</td><td>1</td><td>A Arcu Industries...</td><td>1</td><td>A Arcu Industries...</td><td>13956</td></tr>\n",
       "<tr><td>A Auctor Non Corp...</td><td>2</td><td>205031089</td><td>2022</td><td>August</td><td>Wed</td><td>165.03443648170074</td><td>A Auctor Non Corp...</td><td>A Auctor Non Corp...</td><td>1</td><td>A Auctor Non Corp...</td><td>1</td><td>A Auctor Non Corp...</td><td>9783</td></tr>\n",
       "<tr><td>A Auctor Non Corp...</td><td>2</td><td>211051282</td><td>2022</td><td>October</td><td>Wed</td><td>121.21960880156465</td><td>A Auctor Non Corp...</td><td>A Auctor Non Corp...</td><td>1</td><td>A Auctor Non Corp...</td><td>1</td><td>A Auctor Non Corp...</td><td>9771</td></tr>\n",
       "<tr><td>A Auctor Non Corp...</td><td>2</td><td>211051286</td><td>2021</td><td>September</td><td>Tue</td><td>122.00792368624354</td><td>A Auctor Non Corp...</td><td>A Auctor Non Corp...</td><td>1</td><td>A Auctor Non Corp...</td><td>1</td><td>A Auctor Non Corp...</td><td>16984</td></tr>\n",
       "<tr><td>A Auctor Non Corp...</td><td>2</td><td>303041070</td><td>2022</td><td>May</td><td>Mon</td><td>47.254634232186206</td><td>A Auctor Non Corp...</td><td>A Auctor Non Corp...</td><td>1</td><td>A Auctor Non Corp...</td><td>1</td><td>A Auctor Non Corp...</td><td>7679</td></tr>\n",
       "</table>\n"
      ],
      "text/plain": [
       "+--------------------+------------------+---------+----+---------+---+------------------+--------------------+--------------------+-----+--------------------+-------+--------------------+----------+\n",
       "|       merchant_name|no_of_transactions| SA2_code|Year|    Month|Day|      total_income|            join_col|              m_name|males|              f_name|females|            join_col|population|\n",
       "+--------------------+------------------+---------+----+---------+---+------------------+--------------------+--------------------+-----+--------------------+-------+--------------------+----------+\n",
       "|   A Arcu Industries|                 2|309011227|2021|  October|Mon|453.44732762052706|A Arcu Industries...|A Arcu Industries...|    1|A Arcu Industries...|      1|A Arcu Industries...|     13956|\n",
       "|A Auctor Non Corp...|                 2|205031089|2022|   August|Wed|165.03443648170074|A Auctor Non Corp...|A Auctor Non Corp...|    1|A Auctor Non Corp...|      1|A Auctor Non Corp...|      9783|\n",
       "|A Auctor Non Corp...|                 2|211051282|2022|  October|Wed|121.21960880156465|A Auctor Non Corp...|A Auctor Non Corp...|    1|A Auctor Non Corp...|      1|A Auctor Non Corp...|      9771|\n",
       "|A Auctor Non Corp...|                 2|211051286|2021|September|Tue|122.00792368624354|A Auctor Non Corp...|A Auctor Non Corp...|    1|A Auctor Non Corp...|      1|A Auctor Non Corp...|     16984|\n",
       "|A Auctor Non Corp...|                 2|303041070|2022|      May|Mon|47.254634232186206|A Auctor Non Corp...|A Auctor Non Corp...|    1|A Auctor Non Corp...|      1|A Auctor Non Corp...|      7679|\n",
       "+--------------------+------------------+---------+----+---------+---+------------------+--------------------+--------------------+-----+--------------------+-------+--------------------+----------+"
      ]
     },
     "execution_count": 127,
     "metadata": {},
     "output_type": "execute_result"
    }
   ],
   "source": [
    "temp3.createOrReplaceTempView(\"join_gender_pop\")\n",
    "total_pop.createOrReplaceTempView(\"pop_view\")\n",
    "\n",
    "f = spark.sql(\"\"\" \n",
    "\n",
    "SELECT *\n",
    "FROM join_gender_pop\n",
    "INNER JOIN pop_view\n",
    "ON join_gender_pop.join_col = pop_view.join_col\n",
    "\n",
    "\"\"\")\n",
    "\n",
    "f.limit(5)"
   ]
  },
  {
   "cell_type": "code",
   "execution_count": 128,
   "metadata": {},
   "outputs": [
    {
     "name": "stderr",
     "output_type": "stream",
     "text": [
      "[Stage 5559:=============================================>         (9 + 2) / 11]\r"
     ]
    },
    {
     "name": "stdout",
     "output_type": "stream",
     "text": [
      "+----+\n",
      "|Year|\n",
      "+----+\n",
      "|2022|\n",
      "|2021|\n",
      "+----+\n",
      "\n"
     ]
    },
    {
     "name": "stderr",
     "output_type": "stream",
     "text": [
      "                                                                                \r"
     ]
    }
   ],
   "source": [
    "f.createOrReplaceTempView(\"k\")\n",
    "\n",
    "l = spark.sql(\"\"\"\n",
    "SELECT DISTINCT(Year)\n",
    "FROM k\n",
    "\n",
    "\"\"\")\n",
    "\n",
    "l.show()"
   ]
  },
  {
   "cell_type": "code",
   "execution_count": 129,
   "metadata": {},
   "outputs": [],
   "source": [
    "a = a.withColumnRenamed('income_2018-2019',\n",
    "\n",
    "    'income_2018_2019'    \n",
    ")\n",
    "\n",
    "a = a.withColumn('income_per_persons',\n",
    "    (F.col('income_2018_2019')/F.col('total_persons'))\n",
    ")\n"
   ]
  },
  {
   "cell_type": "code",
   "execution_count": 130,
   "metadata": {},
   "outputs": [
    {
     "name": "stderr",
     "output_type": "stream",
     "text": [
      "[Stage 5592:===================================>                   (9 + 5) / 14]\r"
     ]
    },
    {
     "name": "stdout",
     "output_type": "stream",
     "text": [
      "+--------------------+---------+--------------+-----+------+-----------------+---------+---------+----------------+-----------+-------------+-------------+--------------------+----+------+---+------------------+\n",
      "|       merchant_name|take_rate|revenue_levels|state|gender|     dollar_value|postcodes| SA2_code|income_2018_2019|total_males|total_females|total_persons|            category|Year| Month|Day|income_per_persons|\n",
      "+--------------------+---------+--------------+-----+------+-----------------+---------+---------+----------------+-----------+-------------+-------------+--------------------+----+------+---+------------------+\n",
      "|Egestas Nunc Asso...|     6.58|             a|  NSW|  Male|11.28829564583802|     2299|111031231|       242936885|       6412|         6179|        12593|Books, Stationary...|2021|August|Fri|19291.422615738902|\n",
      "+--------------------+---------+--------------+-----+------+-----------------+---------+---------+----------------+-----------+-------------+-------------+--------------------+----+------+---+------------------+\n",
      "only showing top 1 row\n",
      "\n"
     ]
    },
    {
     "name": "stderr",
     "output_type": "stream",
     "text": [
      "                                                                                \r"
     ]
    }
   ],
   "source": [
    "a.show(1)"
   ]
  },
  {
   "cell_type": "code",
   "execution_count": 131,
   "metadata": {},
   "outputs": [
    {
     "name": "stderr",
     "output_type": "stream",
     "text": [
      "                                                                                \r"
     ]
    },
    {
     "name": "stdout",
     "output_type": "stream",
     "text": [
      "+---------------+---------+--------------+--------------------+------------+--------------+------------------+\n",
      "|      drop_name|take_rate|revenue_levels|            category|males_in_SA2|females_in_SA2| income_per_person|\n",
      "+---------------+---------+--------------+--------------------+------------+--------------+------------------+\n",
      "|   A Associates|     4.95|             b|Books, Stationary...|        9762|         10846|22526.523772559674|\n",
      "|A Felis Company|     4.32|             b|Books, Stationary...|        1080|          1051| 33927.61168708765|\n",
      "+---------------+---------+--------------+--------------------+------------+--------------+------------------+\n",
      "only showing top 2 rows\n",
      "\n"
     ]
    }
   ],
   "source": [
    "a.createOrReplaceTempView(\"features\")\n",
    "\n",
    "e = spark.sql(\"\"\" \n",
    "\n",
    "SELECT merchant_name AS drop_name, FIRST(take_rate) AS take_rate, FIRST(revenue_levels) AS revenue_levels, FIRST(category) AS category,\n",
    "    FIRST(total_males) AS males_in_SA2, FIRST(total_females) AS females_in_SA2, FIRST(income_per_persons) AS income_per_person\n",
    "FROM features\n",
    "GROUP BY merchant_name\n",
    "\"\"\")\n",
    "\n",
    "e.show(2)"
   ]
  },
  {
   "cell_type": "code",
   "execution_count": 132,
   "metadata": {},
   "outputs": [],
   "source": [
    "f.createOrReplaceTempView(\"edit\")\n",
    "e.createOrReplaceTempView(\"rates\")\n",
    "\n",
    "temp5 = spark.sql(\"\"\" \n",
    "\n",
    "SELECT *\n",
    "FROM edit\n",
    "INNER JOIN rates\n",
    "ON edit.merchant_name = rates.drop_name\n",
    "\"\"\")\n",
    "\n"
   ]
  },
  {
   "cell_type": "code",
   "execution_count": 133,
   "metadata": {},
   "outputs": [
    {
     "name": "stderr",
     "output_type": "stream",
     "text": [
      "                                                                                \r"
     ]
    },
    {
     "data": {
      "text/html": [
       "<table border='1'>\n",
       "<tr><th>merchant_name</th><th>no_of_transactions</th><th>SA2_code</th><th>Year</th><th>Month</th><th>Day</th><th>total_income</th><th>males</th><th>females</th><th>population</th><th>take_rate</th><th>revenue_levels</th><th>category</th><th>males_in_SA2</th><th>females_in_SA2</th><th>income_per_person</th></tr>\n",
       "<tr><td>A Arcu Industries</td><td>2</td><td>309011227</td><td>2021</td><td>October</td><td>Mon</td><td>453.44732762052706</td><td>1</td><td>1</td><td>13956</td><td>3.0</td><td>c</td><td>Furniture</td><td>4821</td><td>4683</td><td>25816.03452631579</td></tr>\n",
       "<tr><td>A Auctor Non Corp...</td><td>2</td><td>205031089</td><td>2022</td><td>August</td><td>Wed</td><td>165.03443648170074</td><td>1</td><td>1</td><td>9783</td><td>5.58</td><td>a</td><td>Furniture</td><td>2067</td><td>2014</td><td>22634.72370679088</td></tr>\n",
       "<tr><td>A Auctor Non Corp...</td><td>2</td><td>211051282</td><td>2022</td><td>October</td><td>Wed</td><td>121.21960880156465</td><td>1</td><td>1</td><td>9771</td><td>5.58</td><td>a</td><td>Furniture</td><td>2067</td><td>2014</td><td>22634.72370679088</td></tr>\n",
       "<tr><td>A Auctor Non Corp...</td><td>2</td><td>211051286</td><td>2021</td><td>September</td><td>Tue</td><td>122.00792368624354</td><td>1</td><td>1</td><td>16984</td><td>5.58</td><td>a</td><td>Furniture</td><td>2067</td><td>2014</td><td>22634.72370679088</td></tr>\n",
       "<tr><td>A Auctor Non Corp...</td><td>2</td><td>303041070</td><td>2022</td><td>May</td><td>Mon</td><td>47.254634232186206</td><td>1</td><td>1</td><td>7679</td><td>5.58</td><td>a</td><td>Furniture</td><td>2067</td><td>2014</td><td>22634.72370679088</td></tr>\n",
       "</table>\n"
      ],
      "text/plain": [
       "+--------------------+------------------+---------+----+---------+---+------------------+-----+-------+----------+---------+--------------+---------+------------+--------------+-----------------+\n",
       "|       merchant_name|no_of_transactions| SA2_code|Year|    Month|Day|      total_income|males|females|population|take_rate|revenue_levels| category|males_in_SA2|females_in_SA2|income_per_person|\n",
       "+--------------------+------------------+---------+----+---------+---+------------------+-----+-------+----------+---------+--------------+---------+------------+--------------+-----------------+\n",
       "|   A Arcu Industries|                 2|309011227|2021|  October|Mon|453.44732762052706|    1|      1|     13956|      3.0|             c|Furniture|        4821|          4683|25816.03452631579|\n",
       "|A Auctor Non Corp...|                 2|205031089|2022|   August|Wed|165.03443648170074|    1|      1|      9783|     5.58|             a|Furniture|        2067|          2014|22634.72370679088|\n",
       "|A Auctor Non Corp...|                 2|211051282|2022|  October|Wed|121.21960880156465|    1|      1|      9771|     5.58|             a|Furniture|        2067|          2014|22634.72370679088|\n",
       "|A Auctor Non Corp...|                 2|211051286|2021|September|Tue|122.00792368624354|    1|      1|     16984|     5.58|             a|Furniture|        2067|          2014|22634.72370679088|\n",
       "|A Auctor Non Corp...|                 2|303041070|2022|      May|Mon|47.254634232186206|    1|      1|      7679|     5.58|             a|Furniture|        2067|          2014|22634.72370679088|\n",
       "+--------------------+------------------+---------+----+---------+---+------------------+-----+-------+----------+---------+--------------+---------+------------+--------------+-----------------+"
      ]
     },
     "execution_count": 133,
     "metadata": {},
     "output_type": "execute_result"
    }
   ],
   "source": [
    "train = temp5.drop('m_name', 'f_name', 'drop_name', 'join_col')\n",
    "\n",
    "train.limit(5)"
   ]
  },
  {
   "cell_type": "code",
   "execution_count": 134,
   "metadata": {},
   "outputs": [
    {
     "name": "stderr",
     "output_type": "stream",
     "text": [
      "[Stage 5938:======================================>                (9 + 4) / 13]\r"
     ]
    },
    {
     "name": "stdout",
     "output_type": "stream",
     "text": [
      "+----+\n",
      "|Year|\n",
      "+----+\n",
      "|2022|\n",
      "|2021|\n",
      "+----+\n",
      "\n"
     ]
    },
    {
     "name": "stderr",
     "output_type": "stream",
     "text": [
      "                                                                                \r"
     ]
    }
   ],
   "source": [
    "train.createOrReplaceTempView(\"h\")\n",
    "\n",
    "j = spark.sql(\"\"\" \n",
    "\n",
    "SELECT DISTINCT(Year)\n",
    "FROM h\n",
    "\n",
    "\"\"\")\n",
    "\n",
    "j.show()"
   ]
  },
  {
   "cell_type": "code",
   "execution_count": 135,
   "metadata": {},
   "outputs": [
    {
     "name": "stdout",
     "output_type": "stream",
     "text": [
      "root\n",
      " |-- merchant_name: string (nullable = true)\n",
      " |-- no_of_transactions: long (nullable = false)\n",
      " |-- SA2_code: long (nullable = true)\n",
      " |-- Year: string (nullable = true)\n",
      " |-- Month: string (nullable = true)\n",
      " |-- Day: string (nullable = true)\n",
      " |-- total_income: double (nullable = true)\n",
      " |-- males: long (nullable = false)\n",
      " |-- females: long (nullable = false)\n",
      " |-- population: long (nullable = true)\n",
      " |-- take_rate: double (nullable = true)\n",
      " |-- revenue_levels: string (nullable = true)\n",
      " |-- category: string (nullable = true)\n",
      " |-- males_in_SA2: long (nullable = true)\n",
      " |-- females_in_SA2: long (nullable = true)\n",
      " |-- income_per_person: double (nullable = true)\n",
      "\n"
     ]
    }
   ],
   "source": [
    "train.printSchema()"
   ]
  },
  {
   "cell_type": "code",
   "execution_count": 136,
   "metadata": {},
   "outputs": [
    {
     "name": "stderr",
     "output_type": "stream",
     "text": [
      "                                                                                \r"
     ]
    },
    {
     "data": {
      "text/plain": [
       "507978"
      ]
     },
     "execution_count": 136,
     "metadata": {},
     "output_type": "execute_result"
    }
   ],
   "source": [
    "train.count()"
   ]
  },
  {
   "cell_type": "code",
   "execution_count": 137,
   "metadata": {},
   "outputs": [
    {
     "name": "stderr",
     "output_type": "stream",
     "text": [
      "                                                                                \r"
     ]
    }
   ],
   "source": [
    "# String indexing the categorical columns\n",
    "\n",
    "indexer = StringIndexer(inputCols = ['merchant_name', 'SA2_code', 'Year', 'Month', 'Day', 'revenue_levels','category'],\n",
    "outputCols = ['merchant_name_num', 'SA2_code_num', 'Year_num', 'Month_num', 'Day_num', 'revenue_levels_num','category_num'])\n",
    "\n",
    "indexd_data = indexer.fit(train).transform(train)\n",
    "\n",
    "\n",
    "# Applying onehot encoding to the categorical data that is string indexed above\n",
    "encoder = OneHotEncoder(inputCols = ['merchant_name_num', 'SA2_code_num', 'Year_num', 'Month_num', 'Day_num', 'revenue_levels_num','category_num'],\n",
    "outputCols = ['merchant_name_vec', 'SA2_code_vec', 'Year_vec', 'Month_vec', 'Day_vec', 'revenue_levels_vec','category_vec'])\n",
    "\n",
    "onehotdata = encoder.fit(indexd_data).transform(indexd_data)\n",
    "\n",
    "\n",
    "# Assembling the training data as a vector of features \n",
    "assembler1 = VectorAssembler(\n",
    "inputCols=['population','total_income','take_rate', 'merchant_name_vec', 'SA2_code_vec', 'Year_vec', 'Month_vec', 'Day_vec', 'revenue_levels_vec','category_vec','males_in_SA2', 'females_in_SA2', 'income_per_person'],\n",
    "outputCol= \"features\" )\n",
    "\n",
    "outdata1 = assembler1.transform(onehotdata)"
   ]
  },
  {
   "cell_type": "code",
   "execution_count": 138,
   "metadata": {},
   "outputs": [],
   "source": [
    "# Renaming the target column as label\n",
    "\n",
    "outdata1 = outdata1.withColumnRenamed(\n",
    "    \"no_of_transactions\",\n",
    "    \"label\"\n",
    ")"
   ]
  },
  {
   "cell_type": "code",
   "execution_count": 139,
   "metadata": {},
   "outputs": [
    {
     "name": "stderr",
     "output_type": "stream",
     "text": [
      "[Stage 6196:>(0 + 8) / 14][Stage 6197:>(0 + 0) / 14][Stage 6198:>(0 + 0) / 14]  \r"
     ]
    },
    {
     "name": "stdout",
     "output_type": "stream",
     "text": [
      "22/10/04 12:32:04 WARN RowBasedKeyValueBatch: Calling spill() on RowBasedKeyValueBatch. Will not spill but return 0.\n",
      "22/10/04 12:32:04 WARN RowBasedKeyValueBatch: Calling spill() on RowBasedKeyValueBatch. Will not spill but return 0.\n",
      "22/10/04 12:32:04 WARN RowBasedKeyValueBatch: Calling spill() on RowBasedKeyValueBatch. Will not spill but return 0.\n",
      "22/10/04 12:32:04 WARN RowBasedKeyValueBatch: Calling spill() on RowBasedKeyValueBatch. Will not spill but return 0.\n",
      "22/10/04 12:32:04 WARN RowBasedKeyValueBatch: Calling spill() on RowBasedKeyValueBatch. Will not spill but return 0.\n",
      "22/10/04 12:32:04 WARN RowBasedKeyValueBatch: Calling spill() on RowBasedKeyValueBatch. Will not spill but return 0.\n",
      "22/10/04 12:32:04 WARN RowBasedKeyValueBatch: Calling spill() on RowBasedKeyValueBatch. Will not spill but return 0.\n",
      "22/10/04 12:32:04 WARN RowBasedKeyValueBatch: Calling spill() on RowBasedKeyValueBatch. Will not spill but return 0.\n"
     ]
    },
    {
     "name": "stderr",
     "output_type": "stream",
     "text": [
      "[Stage 6196:>(8 + 6) / 14][Stage 6197:>(0 + 2) / 14][Stage 6198:>(0 + 0) / 14]\r"
     ]
    },
    {
     "name": "stdout",
     "output_type": "stream",
     "text": [
      "22/10/04 12:32:10 WARN RowBasedKeyValueBatch: Calling spill() on RowBasedKeyValueBatch. Will not spill but return 0.\n",
      "22/10/04 12:32:11 WARN RowBasedKeyValueBatch: Calling spill() on RowBasedKeyValueBatch. Will not spill but return 0.\n",
      "22/10/04 12:32:11 WARN RowBasedKeyValueBatch: Calling spill() on RowBasedKeyValueBatch. Will not spill but return 0.\n"
     ]
    },
    {
     "name": "stderr",
     "output_type": "stream",
     "text": [
      "                                                                                \r"
     ]
    }
   ],
   "source": [
    "# Assembling the features as a feature vector \n",
    "\n",
    "featureIndexer =\\\n",
    "    VectorIndexer(inputCol=\"features\", \n",
    "    outputCol=\"indexedFeatures\").fit(outdata1)\n",
    "\n",
    "outdata1 = featureIndexer.transform(outdata1)"
   ]
  },
  {
   "cell_type": "code",
   "execution_count": 140,
   "metadata": {},
   "outputs": [],
   "source": [
    "# Split the data into training and validation sets (30% held out for testing)\n",
    "\n",
    "trainingData, testData = outdata1.randomSplit([0.7, 0.3], seed = 20)"
   ]
  },
  {
   "cell_type": "code",
   "execution_count": 141,
   "metadata": {},
   "outputs": [
    {
     "name": "stderr",
     "output_type": "stream",
     "text": [
      "[Stage 6330:=================================================>     (9 + 1) / 10]\r"
     ]
    },
    {
     "name": "stdout",
     "output_type": "stream",
     "text": [
      "22/10/04 12:34:37 WARN DAGScheduler: Broadcasting large task binary with size 1465.6 KiB\n"
     ]
    },
    {
     "name": "stderr",
     "output_type": "stream",
     "text": [
      "[Stage 6453:=================================================>     (9 + 1) / 10]\r"
     ]
    },
    {
     "name": "stdout",
     "output_type": "stream",
     "text": [
      "22/10/04 12:36:00 WARN DAGScheduler: Broadcasting large task binary with size 1465.6 KiB\n"
     ]
    },
    {
     "name": "stderr",
     "output_type": "stream",
     "text": [
      "                                                                                \r"
     ]
    },
    {
     "data": {
      "text/plain": [
       "(355711, 152267)"
      ]
     },
     "execution_count": 141,
     "metadata": {},
     "output_type": "execute_result"
    }
   ],
   "source": [
    "trainingData.count(), testData.count()"
   ]
  },
  {
   "cell_type": "code",
   "execution_count": 142,
   "metadata": {},
   "outputs": [
    {
     "name": "stderr",
     "output_type": "stream",
     "text": [
      "[Stage 6576:=================================================>     (9 + 1) / 10]\r"
     ]
    },
    {
     "name": "stdout",
     "output_type": "stream",
     "text": [
      "22/10/04 12:37:21 WARN DAGScheduler: Broadcasting large task binary with size 1469.5 KiB\n"
     ]
    },
    {
     "name": "stderr",
     "output_type": "stream",
     "text": [
      "                                                                                \r"
     ]
    },
    {
     "name": "stdout",
     "output_type": "stream",
     "text": [
      "22/10/04 12:37:23 WARN DAGScheduler: Broadcasting large task binary with size 1469.6 KiB\n"
     ]
    },
    {
     "name": "stderr",
     "output_type": "stream",
     "text": [
      "                                                                                \r"
     ]
    },
    {
     "name": "stdout",
     "output_type": "stream",
     "text": [
      "22/10/04 12:37:31 WARN DAGScheduler: Broadcasting large task binary with size 1473.5 KiB\n"
     ]
    },
    {
     "name": "stderr",
     "output_type": "stream",
     "text": [
      "                                                                                \r"
     ]
    },
    {
     "name": "stdout",
     "output_type": "stream",
     "text": [
      "22/10/04 12:37:38 WARN DAGScheduler: Broadcasting large task binary with size 1626.4 KiB\n"
     ]
    },
    {
     "name": "stderr",
     "output_type": "stream",
     "text": [
      "[Stage 6665:>                                                      (0 + 8) / 17]\r"
     ]
    },
    {
     "name": "stdout",
     "output_type": "stream",
     "text": [
      "22/10/04 12:37:43 WARN MemoryStore: Not enough space to cache rdd_13749_3 in memory! (computed 168.8 MiB so far)\n",
      "22/10/04 12:37:43 WARN BlockManager: Persisting block rdd_13749_3 to disk instead.\n"
     ]
    },
    {
     "name": "stderr",
     "output_type": "stream",
     "text": [
      "[Stage 6665:=========================>                             (8 + 8) / 17]\r"
     ]
    },
    {
     "name": "stdout",
     "output_type": "stream",
     "text": [
      "22/10/04 12:37:51 WARN MemoryStore: Not enough space to cache rdd_13749_12 in memory! (computed 21.2 MiB so far)\n",
      "22/10/04 12:37:51 WARN BlockManager: Persisting block rdd_13749_12 to disk instead.\n",
      "22/10/04 12:37:51 WARN MemoryStore: Not enough space to cache rdd_13749_13 in memory! (computed 21.2 MiB so far)\n",
      "22/10/04 12:37:51 WARN BlockManager: Persisting block rdd_13749_13 to disk instead.\n",
      "22/10/04 12:37:51 WARN MemoryStore: Not enough space to cache rdd_13749_10 in memory! (computed 74.8 MiB so far)\n",
      "22/10/04 12:37:51 WARN BlockManager: Persisting block rdd_13749_10 to disk instead.\n",
      "22/10/04 12:37:51 WARN MemoryStore: Not enough space to cache rdd_13749_11 in memory! (computed 74.8 MiB so far)\n",
      "22/10/04 12:37:51 WARN BlockManager: Persisting block rdd_13749_11 to disk instead.\n",
      "22/10/04 12:37:51 WARN MemoryStore: Not enough space to cache rdd_13749_9 in memory! (computed 168.8 MiB so far)\n",
      "22/10/04 12:37:51 WARN BlockManager: Persisting block rdd_13749_9 to disk instead.\n",
      "22/10/04 12:37:52 WARN MemoryStore: Not enough space to cache rdd_13749_15 in memory! (computed 112.5 MiB so far)\n",
      "22/10/04 12:37:52 WARN BlockManager: Persisting block rdd_13749_15 to disk instead.\n",
      "22/10/04 12:37:52 WARN MemoryStore: Not enough space to cache rdd_13749_10 in memory! (computed 13.9 MiB so far)\n",
      "22/10/04 12:37:52 WARN MemoryStore: Not enough space to cache rdd_13749_11 in memory! (computed 4.0 MiB so far)\n",
      "22/10/04 12:37:53 WARN MemoryStore: Not enough space to cache rdd_13749_13 in memory! (computed 112.5 MiB so far)\n",
      "22/10/04 12:37:53 WARN MemoryStore: Not enough space to cache rdd_13749_12 in memory! (computed 168.8 MiB so far)\n",
      "22/10/04 12:37:54 WARN MemoryStore: Not enough space to cache rdd_13749_15 in memory! (computed 49.0 MiB so far)\n"
     ]
    },
    {
     "name": "stderr",
     "output_type": "stream",
     "text": [
      "                                                                                \r"
     ]
    },
    {
     "name": "stdout",
     "output_type": "stream",
     "text": [
      "22/10/04 12:37:57 WARN DAGScheduler: Broadcasting large task binary with size 1707.6 KiB\n",
      "22/10/04 12:37:57 WARN MemoryStore: Not enough space to cache rdd_13749_7 in memory! (computed 74.8 MiB so far)\n",
      "22/10/04 12:37:57 WARN MemoryStore: Not enough space to cache rdd_13749_2 in memory! (computed 74.8 MiB so far)\n",
      "22/10/04 12:37:57 WARN MemoryStore: Not enough space to cache rdd_13749_4 in memory! (computed 112.5 MiB so far)\n",
      "22/10/04 12:37:57 WARN MemoryStore: Not enough space to cache rdd_13749_1 in memory! (computed 74.8 MiB so far)\n",
      "22/10/04 12:37:57 WARN MemoryStore: Not enough space to cache rdd_13749_5 in memory! (computed 112.5 MiB so far)\n"
     ]
    },
    {
     "name": "stderr",
     "output_type": "stream",
     "text": [
      "[Stage 6688:=========================>                             (8 + 8) / 17]\r"
     ]
    },
    {
     "name": "stdout",
     "output_type": "stream",
     "text": [
      "22/10/04 12:38:00 WARN MemoryStore: Not enough space to cache rdd_13749_10 in memory! (computed 168.8 MiB so far)\n",
      "22/10/04 12:38:00 WARN MemoryStore: Not enough space to cache rdd_13749_11 in memory! (computed 168.8 MiB so far)\n",
      "22/10/04 12:38:00 WARN MemoryStore: Not enough space to cache rdd_13749_12 in memory! (computed 74.8 MiB so far)\n",
      "22/10/04 12:38:00 WARN MemoryStore: Not enough space to cache rdd_13749_13 in memory! (computed 32.2 MiB so far)\n",
      "22/10/04 12:38:01 WARN MemoryStore: Not enough space to cache rdd_13749_15 in memory! (computed 4.0 MiB so far)\n"
     ]
    },
    {
     "name": "stderr",
     "output_type": "stream",
     "text": [
      "                                                                                \r"
     ]
    },
    {
     "name": "stdout",
     "output_type": "stream",
     "text": [
      "22/10/04 12:38:04 WARN DAGScheduler: Broadcasting large task binary with size 1867.7 KiB\n",
      "22/10/04 12:38:04 WARN MemoryStore: Not enough space to cache rdd_13749_7 in memory! (computed 74.8 MiB so far)\n",
      "22/10/04 12:38:04 WARN MemoryStore: Not enough space to cache rdd_13749_1 in memory! (computed 74.8 MiB so far)\n",
      "22/10/04 12:38:04 WARN MemoryStore: Not enough space to cache rdd_13749_4 in memory! (computed 112.5 MiB so far)\n",
      "22/10/04 12:38:04 WARN MemoryStore: Not enough space to cache rdd_13749_2 in memory! (computed 74.8 MiB so far)\n",
      "22/10/04 12:38:04 WARN MemoryStore: Not enough space to cache rdd_13749_5 in memory! (computed 112.5 MiB so far)\n"
     ]
    },
    {
     "name": "stderr",
     "output_type": "stream",
     "text": [
      "[Stage 6711:================>                                      (5 + 8) / 17]\r"
     ]
    },
    {
     "name": "stdout",
     "output_type": "stream",
     "text": [
      "22/10/04 12:38:07 WARN MemoryStore: Not enough space to cache rdd_13749_11 in memory! (computed 112.5 MiB so far)\n",
      "22/10/04 12:38:07 WARN MemoryStore: Not enough space to cache rdd_13749_13 in memory! (computed 6.1 MiB so far)\n",
      "22/10/04 12:38:07 WARN MemoryStore: Not enough space to cache rdd_13749_12 in memory! (computed 74.8 MiB so far)\n",
      "22/10/04 12:38:07 WARN MemoryStore: Not enough space to cache rdd_13749_15 in memory! (computed 1812.5 KiB so far)\n"
     ]
    },
    {
     "name": "stderr",
     "output_type": "stream",
     "text": [
      "                                                                                \r"
     ]
    },
    {
     "name": "stdout",
     "output_type": "stream",
     "text": [
      "22/10/04 12:38:10 WARN DAGScheduler: Broadcasting large task binary with size 2.1 MiB\n",
      "22/10/04 12:38:10 WARN MemoryStore: Not enough space to cache rdd_13749_1 in memory! (computed 32.2 MiB so far)\n",
      "22/10/04 12:38:10 WARN MemoryStore: Not enough space to cache rdd_13749_2 in memory! (computed 49.0 MiB so far)\n",
      "22/10/04 12:38:10 WARN MemoryStore: Not enough space to cache rdd_13749_5 in memory! (computed 49.0 MiB so far)\n",
      "22/10/04 12:38:10 WARN MemoryStore: Not enough space to cache rdd_13749_4 in memory! (computed 49.0 MiB so far)\n",
      "22/10/04 12:38:10 WARN MemoryStore: Not enough space to cache rdd_13749_7 in memory! (computed 32.2 MiB so far)\n"
     ]
    },
    {
     "name": "stderr",
     "output_type": "stream",
     "text": [
      "[Stage 6734:================>                                      (5 + 8) / 17]\r"
     ]
    },
    {
     "name": "stdout",
     "output_type": "stream",
     "text": [
      "22/10/04 12:38:13 WARN MemoryStore: Not enough space to cache rdd_13749_12 in memory! (computed 49.0 MiB so far)\n",
      "22/10/04 12:38:13 WARN MemoryStore: Not enough space to cache rdd_13749_15 in memory! (computed 13.9 MiB so far)\n",
      "22/10/04 12:38:13 WARN MemoryStore: Not enough space to cache rdd_13749_13 in memory! (computed 32.2 MiB so far)\n",
      "22/10/04 12:38:13 WARN MemoryStore: Not enough space to cache rdd_13749_11 in memory! (computed 112.5 MiB so far)\n"
     ]
    },
    {
     "name": "stderr",
     "output_type": "stream",
     "text": [
      "                                                                                \r"
     ]
    },
    {
     "name": "stdout",
     "output_type": "stream",
     "text": [
      "22/10/04 12:38:16 WARN DAGScheduler: Broadcasting large task binary with size 2.8 MiB\n",
      "22/10/04 12:38:16 WARN MemoryStore: Not enough space to cache rdd_13749_1 in memory! (computed 21.2 MiB so far)\n",
      "22/10/04 12:38:16 WARN MemoryStore: Not enough space to cache rdd_13749_2 in memory! (computed 32.2 MiB so far)\n",
      "22/10/04 12:38:16 WARN MemoryStore: Not enough space to cache rdd_13749_5 in memory! (computed 32.2 MiB so far)\n",
      "22/10/04 12:38:16 WARN MemoryStore: Not enough space to cache rdd_13749_4 in memory! (computed 49.0 MiB so far)\n",
      "22/10/04 12:38:16 WARN MemoryStore: Not enough space to cache rdd_13749_7 in memory! (computed 74.8 MiB so far)\n"
     ]
    },
    {
     "name": "stderr",
     "output_type": "stream",
     "text": [
      "[Stage 6757:=========================>                             (8 + 8) / 17]\r"
     ]
    },
    {
     "name": "stdout",
     "output_type": "stream",
     "text": [
      "22/10/04 12:38:20 WARN MemoryStore: Not enough space to cache rdd_13749_14 in memory! (computed 49.0 MiB so far)\n",
      "22/10/04 12:38:20 WARN MemoryStore: Not enough space to cache rdd_13749_12 in memory! (computed 74.8 MiB so far)\n",
      "22/10/04 12:38:20 WARN MemoryStore: Not enough space to cache rdd_13749_13 in memory! (computed 49.0 MiB so far)\n",
      "22/10/04 12:38:20 WARN MemoryStore: Not enough space to cache rdd_13749_15 in memory! (computed 32.2 MiB so far)\n"
     ]
    },
    {
     "name": "stderr",
     "output_type": "stream",
     "text": [
      "                                                                                \r"
     ]
    }
   ],
   "source": [
    "# Train a RandomForest model.\n",
    "rf = RandomForestRegressor(featuresCol=\"indexedFeatures\")\n",
    "\n",
    "\n",
    "# Train model.  \n",
    "model = rf.fit(trainingData)\n",
    "\n",
    "# Make predictions.\n",
    "predictions_validation = model.transform(testData)"
   ]
  },
  {
   "cell_type": "code",
   "execution_count": 143,
   "metadata": {},
   "outputs": [
    {
     "name": "stderr",
     "output_type": "stream",
     "text": [
      "[Stage 6836:=================================================>     (9 + 1) / 10]\r"
     ]
    },
    {
     "name": "stdout",
     "output_type": "stream",
     "text": [
      "22/10/04 12:39:38 WARN DAGScheduler: Broadcasting large task binary with size 1479.8 KiB\n"
     ]
    },
    {
     "name": "stderr",
     "output_type": "stream",
     "text": [
      "                                                                                \r"
     ]
    },
    {
     "name": "stdout",
     "output_type": "stream",
     "text": [
      "+------------------+-----+--------------------+\n",
      "|        prediction|label|            features|\n",
      "+------------------+-----+--------------------+\n",
      "| 2.693018038431682|    2|(2836,[0,1,2,223,...|\n",
      "|2.4900416514576786|    2|(2836,[0,1,2,223,...|\n",
      "| 2.842157709786944|    2|(2836,[0,1,2,491,...|\n",
      "|2.9143724624405882|    2|(2836,[0,1,2,491,...|\n",
      "| 2.332463710096093|    2|(2836,[0,1,2,191,...|\n",
      "+------------------+-----+--------------------+\n",
      "only showing top 5 rows\n",
      "\n"
     ]
    },
    {
     "name": "stderr",
     "output_type": "stream",
     "text": [
      "[Stage 6936:============================================>          (8 + 2) / 10]\r"
     ]
    },
    {
     "name": "stdout",
     "output_type": "stream",
     "text": [
      "22/10/04 12:40:51 WARN DAGScheduler: Broadcasting large task binary with size 1474.7 KiB\n"
     ]
    },
    {
     "name": "stderr",
     "output_type": "stream",
     "text": [
      "[Stage 6958:==================================================>   (16 + 1) / 17]\r"
     ]
    },
    {
     "name": "stdout",
     "output_type": "stream",
     "text": [
      "22/10/04 12:40:59 WARN DAGScheduler: Broadcasting large task binary with size 1475.8 KiB\n",
      "Root Mean Squared Error (RMSE) on train data = 1.3103\n"
     ]
    },
    {
     "name": "stderr",
     "output_type": "stream",
     "text": [
      "[Stage 6989:>(9 + 5) / 14][Stage 6996:>(0 + 3) / 14][Stage 6998:> (0 + 0) / 9]  \r"
     ]
    },
    {
     "name": "stdout",
     "output_type": "stream",
     "text": [
      "22/10/04 12:41:10 WARN RowBasedKeyValueBatch: Calling spill() on RowBasedKeyValueBatch. Will not spill but return 0.\n"
     ]
    },
    {
     "name": "stderr",
     "output_type": "stream",
     "text": [
      "[Stage 6996:>(0 + 8) / 14][Stage 6998:> (0 + 0) / 9][Stage 7000:> (0 + 0) / 9]\r"
     ]
    },
    {
     "name": "stdout",
     "output_type": "stream",
     "text": [
      "22/10/04 12:41:11 WARN RowBasedKeyValueBatch: Calling spill() on RowBasedKeyValueBatch. Will not spill but return 0.\n",
      "22/10/04 12:41:11 WARN RowBasedKeyValueBatch: Calling spill() on RowBasedKeyValueBatch. Will not spill but return 0.\n",
      "22/10/04 12:41:12 WARN RowBasedKeyValueBatch: Calling spill() on RowBasedKeyValueBatch. Will not spill but return 0.\n",
      "22/10/04 12:41:12 WARN RowBasedKeyValueBatch: Calling spill() on RowBasedKeyValueBatch. Will not spill but return 0.\n",
      "22/10/04 12:41:12 WARN RowBasedKeyValueBatch: Calling spill() on RowBasedKeyValueBatch. Will not spill but return 0.\n"
     ]
    },
    {
     "name": "stderr",
     "output_type": "stream",
     "text": [
      "[Stage 7037:=================================================>     (9 + 1) / 10]\r"
     ]
    },
    {
     "name": "stdout",
     "output_type": "stream",
     "text": [
      "22/10/04 12:42:14 WARN DAGScheduler: Broadcasting large task binary with size 1474.7 KiB\n"
     ]
    },
    {
     "name": "stderr",
     "output_type": "stream",
     "text": [
      "[Stage 7059:==================================================>   (16 + 1) / 17]\r"
     ]
    },
    {
     "name": "stdout",
     "output_type": "stream",
     "text": [
      "22/10/04 12:42:22 WARN DAGScheduler: Broadcasting large task binary with size 1475.8 KiB\n",
      "Root Mean Squared Error (MAE) on train data = 0.888493\n"
     ]
    },
    {
     "name": "stderr",
     "output_type": "stream",
     "text": [
      "                                                                                \r"
     ]
    }
   ],
   "source": [
    "# Evaluate the validation set \n",
    "\n",
    "predictions_validation.select(\"prediction\", \"label\", \"features\").show(5)\n",
    "\n",
    "# Select (prediction, true label) and compute test error\n",
    "\n",
    "evaluator_train_rmse = RegressionEvaluator(\n",
    "    labelCol=\"label\", predictionCol=\"prediction\", metricName=\"rmse\")\n",
    "rmse_train = evaluator_train_rmse.evaluate(predictions_validation)\n",
    "print(\"Root Mean Squared Error (RMSE) on train data = %g\" % rmse_train)\n",
    "\n",
    "evaluator_train_mae = RegressionEvaluator(\n",
    "    labelCol=\"label\", predictionCol=\"prediction\", metricName=\"mae\")\n",
    "mae_train = evaluator_train_mae.evaluate(predictions_validation)\n",
    "print(\"Root Mean Squared Error (MAE) on train data = %g\" % mae_train)"
   ]
  },
  {
   "cell_type": "code",
   "execution_count": null,
   "metadata": {},
   "outputs": [],
   "source": []
  }
 ],
 "metadata": {
  "kernelspec": {
   "display_name": "Python 3.9.12 ('base')",
   "language": "python",
   "name": "python3"
  },
  "language_info": {
   "codemirror_mode": {
    "name": "ipython",
    "version": 3
   },
   "file_extension": ".py",
   "mimetype": "text/x-python",
   "name": "python",
   "nbconvert_exporter": "python",
   "pygments_lexer": "ipython3",
   "version": "3.9.12"
  },
  "orig_nbformat": 4,
  "vscode": {
   "interpreter": {
    "hash": "afcda84b7471a9b9fde108a34f159f021985318d3feb99cad4970c959fa9ac9e"
   }
  }
 },
 "nbformat": 4,
 "nbformat_minor": 2
}
