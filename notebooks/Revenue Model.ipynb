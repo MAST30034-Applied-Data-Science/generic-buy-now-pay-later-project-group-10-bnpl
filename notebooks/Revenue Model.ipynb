{
 "cells": [
  {
   "cell_type": "code",
   "execution_count": 199,
   "metadata": {},
   "outputs": [],
   "source": [
    "import pandas as pd\n",
    "from pyspark.sql import SparkSession, functions as F\n",
    "import lbl2vec\n",
    "from sklearn.feature_extraction.text import TfidfVectorizer\n",
    "from sklearn.cluster import KMeans\n",
    "import numpy as np\n",
    "from pyspark.sql.functions import date_format\n",
    "import statsmodels.api as sm\n",
    "from statsmodels.formula.api import ols\n",
    "from pyspark.ml.feature import IndexToString, StringIndexer, VectorIndexer\n",
    "from pyspark.ml.evaluation import MulticlassClassificationEvaluator\n",
    "from pyspark.ml.feature import OneHotEncoder, VectorAssembler\n",
    "from pyspark.ml.regression import RandomForestRegressor\n",
    "from pyspark.ml.evaluation import RegressionEvaluator\n",
    "import seaborn as sns\n",
    "import matplotlib\n",
    "import matplotlib.pyplot as plt\n"
   ]
  },
  {
   "cell_type": "code",
   "execution_count": 200,
   "metadata": {},
   "outputs": [
    {
     "name": "stdout",
     "output_type": "stream",
     "text": [
      "22/10/04 01:22:16 WARN SparkSession: Using an existing Spark session; only runtime SQL configurations will take effect.\n"
     ]
    }
   ],
   "source": [
    "# Create a spark session\n",
    "spark = (\n",
    "    SparkSession.builder.appName(\"MAST30034 Project 2\")\n",
    "    .config(\"spark.sql.repl.eagerEval.enabled\", True) \n",
    "    .config(\"spark.sql.parquet.cacheMetadata\", \"true\")\n",
    "    .config(\"spark.sql.session.timeZone\", \"Etc/UTC\")\n",
    "    .config(\"spark.driver.memory\", \"10g\")\n",
    "    .getOrCreate()\n",
    ")"
   ]
  },
  {
   "cell_type": "code",
   "execution_count": 201,
   "metadata": {},
   "outputs": [
    {
     "name": "stdout",
     "output_type": "stream",
     "text": [
      "22/10/04 01:22:16 WARN SparkSession: Using an existing Spark session; only runtime SQL configurations will take effect.\n"
     ]
    },
    {
     "name": "stderr",
     "output_type": "stream",
     "text": [
      "                                                                                \r"
     ]
    },
    {
     "data": {
      "text/html": [
       "<table border='1'>\n",
       "<tr><th>merchant_name</th><th>merchant_abn</th><th>categories</th><th>take_rate</th><th>revenue_levels</th><th>name</th><th>address</th><th>state</th><th>gender</th><th>trans_merchant_abn</th><th>dollar_value</th><th>order_id</th><th>order_datetime</th><th>user_id</th><th>consumer_id</th><th>postcodes</th><th>int_sa2</th><th>SA2_code</th><th>SA2_name</th><th>income_2018-2019</th><th>total_males</th><th>total_females</th><th>total_persons</th><th>state_code</th><th>state_name</th><th>population_2020</th><th>population_2021</th></tr>\n",
       "<tr><td>Egestas Nunc Asso...</td><td>11121775571</td><td>digital goods: bo...</td><td>6.58</td><td>a</td><td>Christopher Rodri...</td><td>30554 Evans Strea...</td><td>NSW</td><td>Male</td><td>11121775571</td><td>11.28829564583802</td><td>2bd2a61d-72e5-42d...</td><td>2021-08-20</td><td>3698</td><td>1175</td><td>2299</td><td>111031231</td><td>111031231</td><td>Shortland - Jesmond</td><td>242936885</td><td>6412</td><td>6179</td><td>12593</td><td>1</td><td>New South Wales</td><td>12598</td><td>12694</td></tr>\n",
       "<tr><td>Morbi Accumsan In...</td><td>19618998054</td><td>tent and aWning s...</td><td>1.52</td><td>c</td><td>Christopher Rodri...</td><td>30554 Evans Strea...</td><td>NSW</td><td>Male</td><td>19618998054</td><td>62.90176609196828</td><td>3582b1f8-4577-403...</td><td>2021-05-16</td><td>3698</td><td>1175</td><td>2299</td><td>111031231</td><td>111031231</td><td>Shortland - Jesmond</td><td>242936885</td><td>6412</td><td>6179</td><td>12593</td><td>1</td><td>New South Wales</td><td>12598</td><td>12694</td></tr>\n",
       "<tr><td>Eu Dolor Egestas PC</td><td>94472466107</td><td>cable, satellite,...</td><td>6.23</td><td>a</td><td>Christopher Rodri...</td><td>30554 Evans Strea...</td><td>NSW</td><td>Male</td><td>94472466107</td><td>172.15375126873164</td><td>cb05d49f-c2fa-453...</td><td>2021-07-22</td><td>3698</td><td>1175</td><td>2299</td><td>111031231</td><td>111031231</td><td>Shortland - Jesmond</td><td>242936885</td><td>6412</td><td>6179</td><td>12593</td><td>1</td><td>New South Wales</td><td>12598</td><td>12694</td></tr>\n",
       "<tr><td>Urna Justo Indust...</td><td>31472801314</td><td>music shops - mus...</td><td>6.56</td><td>a</td><td>Christopher Rodri...</td><td>30554 Evans Strea...</td><td>NSW</td><td>Male</td><td>31472801314</td><td>0.4894787650356477</td><td>aeec15c1-67e8-4cb...</td><td>2021-05-18</td><td>3698</td><td>1175</td><td>2299</td><td>111031231</td><td>111031231</td><td>Shortland - Jesmond</td><td>242936885</td><td>6412</td><td>6179</td><td>12593</td><td>1</td><td>New South Wales</td><td>12598</td><td>12694</td></tr>\n",
       "<tr><td>Eu Sem Pellentesq...</td><td>35424691626</td><td>computers, comput...</td><td>3.9</td><td>b</td><td>Christopher Rodri...</td><td>30554 Evans Strea...</td><td>NSW</td><td>Male</td><td>35424691626</td><td>7.360217018778133</td><td>9df473ba-102d-461...</td><td>2021-07-04</td><td>3698</td><td>1175</td><td>2299</td><td>111031231</td><td>111031231</td><td>Shortland - Jesmond</td><td>242936885</td><td>6412</td><td>6179</td><td>12593</td><td>1</td><td>New South Wales</td><td>12598</td><td>12694</td></tr>\n",
       "</table>\n"
      ],
      "text/plain": [
       "+--------------------+------------+--------------------+---------+--------------+--------------------+--------------------+-----+------+------------------+------------------+--------------------+--------------+-------+-----------+---------+---------+---------+-------------------+----------------+-----------+-------------+-------------+----------+---------------+---------------+---------------+\n",
       "|       merchant_name|merchant_abn|          categories|take_rate|revenue_levels|                name|             address|state|gender|trans_merchant_abn|      dollar_value|            order_id|order_datetime|user_id|consumer_id|postcodes|  int_sa2| SA2_code|           SA2_name|income_2018-2019|total_males|total_females|total_persons|state_code|     state_name|population_2020|population_2021|\n",
       "+--------------------+------------+--------------------+---------+--------------+--------------------+--------------------+-----+------+------------------+------------------+--------------------+--------------+-------+-----------+---------+---------+---------+-------------------+----------------+-----------+-------------+-------------+----------+---------------+---------------+---------------+\n",
       "|Egestas Nunc Asso...| 11121775571|digital goods: bo...|     6.58|             a|Christopher Rodri...|30554 Evans Strea...|  NSW|  Male|       11121775571| 11.28829564583802|2bd2a61d-72e5-42d...|    2021-08-20|   3698|       1175|     2299|111031231|111031231|Shortland - Jesmond|       242936885|       6412|         6179|        12593|         1|New South Wales|          12598|          12694|\n",
       "|Morbi Accumsan In...| 19618998054|tent and aWning s...|     1.52|             c|Christopher Rodri...|30554 Evans Strea...|  NSW|  Male|       19618998054| 62.90176609196828|3582b1f8-4577-403...|    2021-05-16|   3698|       1175|     2299|111031231|111031231|Shortland - Jesmond|       242936885|       6412|         6179|        12593|         1|New South Wales|          12598|          12694|\n",
       "| Eu Dolor Egestas PC| 94472466107|cable, satellite,...|     6.23|             a|Christopher Rodri...|30554 Evans Strea...|  NSW|  Male|       94472466107|172.15375126873164|cb05d49f-c2fa-453...|    2021-07-22|   3698|       1175|     2299|111031231|111031231|Shortland - Jesmond|       242936885|       6412|         6179|        12593|         1|New South Wales|          12598|          12694|\n",
       "|Urna Justo Indust...| 31472801314|music shops - mus...|     6.56|             a|Christopher Rodri...|30554 Evans Strea...|  NSW|  Male|       31472801314|0.4894787650356477|aeec15c1-67e8-4cb...|    2021-05-18|   3698|       1175|     2299|111031231|111031231|Shortland - Jesmond|       242936885|       6412|         6179|        12593|         1|New South Wales|          12598|          12694|\n",
       "|Eu Sem Pellentesq...| 35424691626|computers, comput...|      3.9|             b|Christopher Rodri...|30554 Evans Strea...|  NSW|  Male|       35424691626| 7.360217018778133|9df473ba-102d-461...|    2021-07-04|   3698|       1175|     2299|111031231|111031231|Shortland - Jesmond|       242936885|       6412|         6179|        12593|         1|New South Wales|          12598|          12694|\n",
       "+--------------------+------------+--------------------+---------+--------------+--------------------+--------------------+-----+------+------------------+------------------+--------------------+--------------+-------+-----------+---------+---------+---------+-------------------+----------------+-----------+-------------+-------------+----------+---------------+---------------+---------------+"
      ]
     },
     "execution_count": 201,
     "metadata": {},
     "output_type": "execute_result"
    }
   ],
   "source": [
    "# Read in data from ETL.py file\n",
    "%run '../scripts/ETL.py' '../scripts/paths.json'\n",
    "final_join3.limit(5)"
   ]
  },
  {
   "cell_type": "code",
   "execution_count": 202,
   "metadata": {},
   "outputs": [
    {
     "name": "stderr",
     "output_type": "stream",
     "text": [
      "                                                                                \r"
     ]
    },
    {
     "data": {
      "text/plain": [
       "10540181"
      ]
     },
     "execution_count": 202,
     "metadata": {},
     "output_type": "execute_result"
    }
   ],
   "source": [
    "final_join3.count()"
   ]
  },
  {
   "cell_type": "code",
   "execution_count": 203,
   "metadata": {},
   "outputs": [],
   "source": [
    "tagged_merchants = pd.read_csv(\"../data/curated/tagged_merchants.csv\")\n",
    "tagged_merchants = tagged_merchants.iloc[:,1:]\n",
    "tagged_merchants.drop(['tags', 'name', 'cleaned_tags', 'store_type'], axis=1, inplace=True)\n",
    "tagged_merchants.to_parquet(\"../data/curated/tagged_merchants.parquet\")\n",
    "tagged_merchants_sdf = spark.read.parquet(\"../data/curated/tagged_merchants.parquet\")"
   ]
  },
  {
   "cell_type": "code",
   "execution_count": 204,
   "metadata": {},
   "outputs": [],
   "source": [
    "tagged_merchants_sdf = tagged_merchants_sdf.withColumnRenamed('merchant_abn',\n",
    "\n",
    "    'tagged_merchant_abn'\n",
    ")"
   ]
  },
  {
   "cell_type": "code",
   "execution_count": 205,
   "metadata": {},
   "outputs": [
    {
     "name": "stdout",
     "output_type": "stream",
     "text": [
      "+-------------------+--------------------+\n",
      "|tagged_merchant_abn|            category|\n",
      "+-------------------+--------------------+\n",
      "|        10023283211|           Furniture|\n",
      "|        10142254217|         Electronics|\n",
      "|        10165489824|        Toys and DIY|\n",
      "|        10187291046|        Toys and DIY|\n",
      "|        10192359162|Books, Stationary...|\n",
      "+-------------------+--------------------+\n",
      "only showing top 5 rows\n",
      "\n"
     ]
    }
   ],
   "source": [
    "tagged_merchants_sdf.show(5)"
   ]
  },
  {
   "cell_type": "code",
   "execution_count": 206,
   "metadata": {},
   "outputs": [],
   "source": [
    "final_join3.createOrReplaceTempView(\"join\")\n",
    "tagged_merchants_sdf.createOrReplaceTempView(\"tagged\")\n",
    "\n",
    "joint = spark.sql(\"\"\" \n",
    "\n",
    "SELECT *\n",
    "FROM join\n",
    "INNER JOIN tagged\n",
    "ON join.merchant_abn = tagged.tagged_merchant_abn\n",
    "\"\"\")\n",
    "\n",
    "joint = joint.drop('tagged_merchant_abn')"
   ]
  },
  {
   "cell_type": "code",
   "execution_count": 207,
   "metadata": {},
   "outputs": [
    {
     "name": "stderr",
     "output_type": "stream",
     "text": [
      "                                                                                \r"
     ]
    },
    {
     "data": {
      "text/plain": [
       "10109254"
      ]
     },
     "execution_count": 207,
     "metadata": {},
     "output_type": "execute_result"
    }
   ],
   "source": [
    "joint.count()"
   ]
  },
  {
   "cell_type": "code",
   "execution_count": 208,
   "metadata": {},
   "outputs": [],
   "source": [
    "joint.createOrReplaceTempView(\"group\")\n",
    "\n",
    "a = spark.sql(\"\"\" \n",
    "\n",
    "SELECT *, (dollar_value - take_rate) AS total_earning\n",
    "FROM group\n",
    "\"\"\")"
   ]
  },
  {
   "cell_type": "code",
   "execution_count": 210,
   "metadata": {},
   "outputs": [],
   "source": [
    "# Extracting the year, month, day from the timestamp\n",
    "\n",
    "a = a.withColumn(\"Year\", \n",
    "date_format('order_datetime', 'yyyy'))\n",
    "\n",
    "a  = a.withColumn(\"Month\", \n",
    "date_format('order_datetime', 'MMMM'))\n",
    "\n",
    "\n",
    "a = a.withColumn(\"Day\",\n",
    "date_format((\"order_datetime\"), \"E\"))\n"
   ]
  },
  {
   "cell_type": "code",
   "execution_count": 217,
   "metadata": {},
   "outputs": [],
   "source": [
    "a = a.drop('merchant_abn', 'categories','name', 'address', 'trans_merchant_abn', 'order_id','order_datetime','user_id','consumer_id','int_sa2','SA2_code',\n",
    "'SA2_name','income_2018-2019','total_males', 'total_females','total_persons', 'state_code','state_name','population_2020', 'population_2021','total_earning')"
   ]
  },
  {
   "cell_type": "code",
   "execution_count": 218,
   "metadata": {},
   "outputs": [
    {
     "name": "stderr",
     "output_type": "stream",
     "text": [
      "[Stage 2107:=================================================>      (8 + 1) / 9]\r"
     ]
    },
    {
     "name": "stdout",
     "output_type": "stream",
     "text": [
      "+-------------+---------+--------------+-----+------+------------+---------+--------+----+-----+---+\n",
      "|merchant_name|take_rate|revenue_levels|state|gender|dollar_value|postcodes|category|Year|Month|Day|\n",
      "+-------------+---------+--------------+-----+------+------------+---------+--------+----+-----+---+\n",
      "|            0|        0|             0|    0|     0|           0|        0|       0|   0|    0|  0|\n",
      "+-------------+---------+--------------+-----+------+------------+---------+--------+----+-----+---+\n",
      "\n"
     ]
    },
    {
     "name": "stderr",
     "output_type": "stream",
     "text": [
      "                                                                                \r"
     ]
    }
   ],
   "source": [
    " \n",
    "# Find Count of Null, None, NaN of All DataFrame Columns\n",
    "from pyspark.sql.functions import col,isnan, when, count\n",
    "train_data.select([count(when(isnan(c) | col(c).isNull(), c)).alias(c) for c in train_data.columns]\n",
    "   ).show()"
   ]
  },
  {
   "cell_type": "code",
   "execution_count": 219,
   "metadata": {},
   "outputs": [
    {
     "name": "stdout",
     "output_type": "stream",
     "text": [
      "root\n",
      " |-- merchant_name: string (nullable = true)\n",
      " |-- take_rate: double (nullable = true)\n",
      " |-- revenue_levels: string (nullable = true)\n",
      " |-- state: string (nullable = true)\n",
      " |-- gender: string (nullable = true)\n",
      " |-- dollar_value: double (nullable = true)\n",
      " |-- postcodes: string (nullable = true)\n",
      " |-- category: string (nullable = true)\n",
      " |-- Year: string (nullable = true)\n",
      " |-- Month: string (nullable = true)\n",
      " |-- Day: string (nullable = true)\n",
      "\n"
     ]
    }
   ],
   "source": [
    "a.printSchema()"
   ]
  },
  {
   "cell_type": "code",
   "execution_count": 220,
   "metadata": {},
   "outputs": [
    {
     "name": "stderr",
     "output_type": "stream",
     "text": [
      "                                                                                \r"
     ]
    },
    {
     "name": "stdout",
     "output_type": "stream",
     "text": [
      "+--------------------+-----+\n",
      "|              m_name|males|\n",
      "+--------------------+-----+\n",
      "|Elit Sed Consequa...| 4376|\n",
      "|Varius Orci Insti...| 8966|\n",
      "|Mollis Integer Co...| 5507|\n",
      "|Donec Luctus Indu...| 1367|\n",
      "|Volutpat Nulla In...| 4730|\n",
      "+--------------------+-----+\n",
      "only showing top 5 rows\n",
      "\n"
     ]
    },
    {
     "name": "stderr",
     "output_type": "stream",
     "text": [
      "[Stage 2151:>                                                       (0 + 8) / 9]\r"
     ]
    },
    {
     "name": "stdout",
     "output_type": "stream",
     "text": [
      "+--------------------+-------+\n",
      "|              f_name|females|\n",
      "+--------------------+-------+\n",
      "|Varius Orci Insti...|   8743|\n",
      "|Volutpat Nulla In...|   4711|\n",
      "|Donec Luctus Indu...|   1437|\n",
      "|Mollis Integer Co...|   5456|\n",
      "|      Montes Limited|    310|\n",
      "+--------------------+-------+\n",
      "only showing top 5 rows\n",
      "\n"
     ]
    },
    {
     "name": "stderr",
     "output_type": "stream",
     "text": [
      "                                                                                \r"
     ]
    }
   ],
   "source": [
    "a.createOrReplaceTempView(\"agg\")\n",
    "\n",
    "male = spark.sql(\"\"\" \n",
    "\n",
    "SELECT merchant_name AS m_name, COUNT(gender) as males\n",
    "FROM agg\n",
    "WHERE gender = 'Male'\n",
    "GROUP BY merchant_name\n",
    "\"\"\")\n",
    "\n",
    "male.show(5)\n",
    "\n",
    "female = spark.sql(\"\"\" \n",
    "\n",
    "SELECT merchant_name AS f_name, COUNT(gender) as females\n",
    "FROM agg\n",
    "WHERE gender = 'Female'\n",
    "GROUP BY merchant_name\n",
    "\"\"\")\n",
    "female.show(5)"
   ]
  },
  {
   "cell_type": "code",
   "execution_count": 233,
   "metadata": {},
   "outputs": [
    {
     "name": "stderr",
     "output_type": "stream",
     "text": [
      "[Stage 2763:======================================>               (10 + 4) / 14]\r"
     ]
    },
    {
     "name": "stdout",
     "output_type": "stream",
     "text": [
      "+--------------------+---------+--------------+-----+------+-----------------+---------+--------------------+----+------+---+\n",
      "|       merchant_name|take_rate|revenue_levels|state|gender|     dollar_value|postcodes|            category|Year| Month|Day|\n",
      "+--------------------+---------+--------------+-----+------+-----------------+---------+--------------------+----+------+---+\n",
      "|Egestas Nunc Asso...|     6.58|             a|  NSW|  Male|11.28829564583802|     2299|Books, Stationary...|2021|August|Fri|\n",
      "|Morbi Accumsan In...|     1.52|             c|  NSW|  Male|62.90176609196828|     2299|Books, Stationary...|2021|   May|Sun|\n",
      "+--------------------+---------+--------------+-----+------+-----------------+---------+--------------------+----+------+---+\n",
      "only showing top 2 rows\n",
      "\n"
     ]
    },
    {
     "name": "stderr",
     "output_type": "stream",
     "text": [
      "                                                                                \r"
     ]
    }
   ],
   "source": [
    "a.show(2)"
   ]
  },
  {
   "cell_type": "code",
   "execution_count": 234,
   "metadata": {},
   "outputs": [
    {
     "name": "stderr",
     "output_type": "stream",
     "text": [
      "[Stage 2780:===================================>                   (9 + 5) / 14]\r"
     ]
    },
    {
     "name": "stdout",
     "output_type": "stream",
     "text": [
      "+--------------------+------------------+----+------+---+------------------+\n",
      "|       merchant_name|no_of_transactions|Year| Month|Day|    total_earnings|\n",
      "+--------------------+------------------+----+------+---+------------------+\n",
      "|      Vestibulum LLP|                34|2021|August|Thu| 1594.124325853504|\n",
      "|      Mattis Limited|                11|2021|August|Sat|  8830.62893275408|\n",
      "|Maecenas Iaculis ...|                 4|2021|August|Sun|3036.5175241306893|\n",
      "|Ipsum Dolor Sit C...|              1110|2021|  June|Wed| 39711.61412523745|\n",
      "|Hendrerit Donec C...|                48|2021|  June|Wed| 2485.051283433287|\n",
      "|Suspendisse Dui C...|              1029|2021|   May|Thu| 27970.46271006672|\n",
      "|Euismod Urna Inst...|               344|2021|  June|Fri| 3342.046480591664|\n",
      "|   In Nec Industries|                65|2021|August|Sat| 4769.786031953083|\n",
      "|          Ac Limited|                94|2021|August|Sat| 2567.579182285181|\n",
      "|Aliquam Iaculis L...|                25|2021|August|Mon| 909.8642553610292|\n",
      "|Cras Lorem Institute|                58|2021|August|Fri| 5053.566058386948|\n",
      "|Imperdiet Non Ves...|                43|2021|  June|Wed| 7111.433249462106|\n",
      "|Scelerisque Corpo...|                85|2021|  July|Thu| 9936.243294105469|\n",
      "|Luctus Felis Puru...|                21|2021|August|Sat|2915.1895747542058|\n",
      "|Quisque Fringilla...|               122|2021|August|Sat|3241.9491296503193|\n",
      "|  Nunc In Industries|               124|2021|August|Thu| 4323.323739956715|\n",
      "|Class Aptent Taci...|                15|2021|August|Thu| 1355.069962445738|\n",
      "|Parturient Institute|                93|2021|August|Sun|  7623.47067496817|\n",
      "|Etiam Bibendum In...|                51|2021|  July|Thu| 66485.02586284469|\n",
      "|Enim Nec Tempus C...|                10|2021|  July|Fri| 907.4415917820787|\n",
      "+--------------------+------------------+----+------+---+------------------+\n",
      "only showing top 20 rows\n",
      "\n"
     ]
    },
    {
     "name": "stderr",
     "output_type": "stream",
     "text": [
      "                                                                                \r"
     ]
    }
   ],
   "source": [
    "a.createOrReplaceTempView(\"agg\")\n",
    "\n",
    "temp = spark.sql(\"\"\" \n",
    "\n",
    "SELECT merchant_name, COUNT(merchant_name) AS no_of_transactions, Year, Month, Day, SUM(dollar_value - take_rate) AS total_earnings\n",
    "FROM agg\n",
    "GROUP BY merchant_name, Year, Month, Day\n",
    "\"\"\")\n",
    "\n",
    "temp.show()\n"
   ]
  },
  {
   "cell_type": "code",
   "execution_count": 235,
   "metadata": {},
   "outputs": [
    {
     "name": "stderr",
     "output_type": "stream",
     "text": [
      "                                                                                \r"
     ]
    },
    {
     "data": {
      "text/html": [
       "<table border='1'>\n",
       "<tr><th>merchant_name</th><th>no_of_transactions</th><th>Year</th><th>Month</th><th>Day</th><th>total_earnings</th><th>m_name</th><th>males</th><th>f_name</th><th>females</th></tr>\n",
       "<tr><td>Donec Luctus Indu...</td><td>22</td><td>2021</td><td>June</td><td>Thu</td><td>7180.371203961972</td><td>Donec Luctus Indu...</td><td>1367</td><td>Donec Luctus Indu...</td><td>1437</td></tr>\n",
       "<tr><td>Malesuada PC</td><td>2</td><td>2021</td><td>May</td><td>Tue</td><td>276.0067691470908</td><td>Malesuada PC</td><td>60</td><td>Malesuada PC</td><td>70</td></tr>\n",
       "<tr><td>Volutpat Nulla In...</td><td>53</td><td>2021</td><td>September</td><td>Mon</td><td>3422.6949861122957</td><td>Volutpat Nulla In...</td><td>4730</td><td>Volutpat Nulla In...</td><td>4711</td></tr>\n",
       "<tr><td>Porttitor Eros In...</td><td>11</td><td>2021</td><td>October</td><td>Tue</td><td>1260.3616868924953</td><td>Porttitor Eros In...</td><td>560</td><td>Porttitor Eros In...</td><td>579</td></tr>\n",
       "<tr><td>Porttitor Eros In...</td><td>10</td><td>2022</td><td>October</td><td>Sat</td><td>916.2397782336599</td><td>Porttitor Eros In...</td><td>560</td><td>Porttitor Eros In...</td><td>579</td></tr>\n",
       "</table>\n"
      ],
      "text/plain": [
       "+--------------------+------------------+----+---------+---+------------------+--------------------+-----+--------------------+-------+\n",
       "|       merchant_name|no_of_transactions|Year|    Month|Day|    total_earnings|              m_name|males|              f_name|females|\n",
       "+--------------------+------------------+----+---------+---+------------------+--------------------+-----+--------------------+-------+\n",
       "|Donec Luctus Indu...|                22|2021|     June|Thu| 7180.371203961972|Donec Luctus Indu...| 1367|Donec Luctus Indu...|   1437|\n",
       "|        Malesuada PC|                 2|2021|      May|Tue| 276.0067691470908|        Malesuada PC|   60|        Malesuada PC|     70|\n",
       "|Volutpat Nulla In...|                53|2021|September|Mon|3422.6949861122957|Volutpat Nulla In...| 4730|Volutpat Nulla In...|   4711|\n",
       "|Porttitor Eros In...|                11|2021|  October|Tue|1260.3616868924953|Porttitor Eros In...|  560|Porttitor Eros In...|    579|\n",
       "|Porttitor Eros In...|                10|2022|  October|Sat| 916.2397782336599|Porttitor Eros In...|  560|Porttitor Eros In...|    579|\n",
       "+--------------------+------------------+----+---------+---+------------------+--------------------+-----+--------------------+-------+"
      ]
     },
     "execution_count": 235,
     "metadata": {},
     "output_type": "execute_result"
    }
   ],
   "source": [
    "temp.createOrReplaceTempView(\"gender_join\")\n",
    "male.createOrReplaceTempView(\"m\")\n",
    "female.createOrReplaceTempView(\"f\")\n",
    "\n",
    "temp2 = spark.sql(\"\"\" \n",
    "\n",
    "SELECT *\n",
    "FROM gender_join\n",
    "INNER JOIN m\n",
    "ON gender_join.merchant_name = m.m_name\n",
    "\"\"\")\n",
    "\n",
    "temp2.createOrReplaceTempView(\"temp2\")\n",
    "\n",
    "temp3 = spark.sql(\"\"\" \n",
    "\n",
    "SELECT *\n",
    "FROM temp2\n",
    "INNER JOIN f\n",
    "ON temp2.merchant_name = f.f_name\n",
    "\"\"\")\n",
    "\n",
    "temp3.limit(5)"
   ]
  },
  {
   "cell_type": "code",
   "execution_count": 236,
   "metadata": {},
   "outputs": [
    {
     "name": "stderr",
     "output_type": "stream",
     "text": [
      "[Stage 2882:===================================>                   (9 + 5) / 14]\r"
     ]
    },
    {
     "name": "stdout",
     "output_type": "stream",
     "text": [
      "+----------------+---------+--------------+--------------------+\n",
      "|       drop_name|take_rate|revenue_levels|            category|\n",
      "+----------------+---------+--------------+--------------------+\n",
      "|    A Associates|     4.95|             b|Books, Stationary...|\n",
      "|A Enim Institute|     6.49|             a|        Toys and DIY|\n",
      "+----------------+---------+--------------+--------------------+\n",
      "only showing top 2 rows\n",
      "\n"
     ]
    },
    {
     "name": "stderr",
     "output_type": "stream",
     "text": [
      "                                                                                \r"
     ]
    }
   ],
   "source": [
    "a.createOrReplaceTempView(\"features\")\n",
    "\n",
    "e = spark.sql(\"\"\" \n",
    "\n",
    "SELECT merchant_name AS drop_name, FIRST(take_rate) AS take_rate, FIRST(revenue_levels) AS revenue_levels, FIRST(category) AS category\n",
    "FROM features\n",
    "GROUP BY merchant_name\n",
    "\"\"\")\n",
    "\n",
    "e.show(2)"
   ]
  },
  {
   "cell_type": "code",
   "execution_count": 237,
   "metadata": {},
   "outputs": [
    {
     "name": "stderr",
     "output_type": "stream",
     "text": [
      "                                                                                \r"
     ]
    },
    {
     "data": {
      "text/html": [
       "<table border='1'>\n",
       "<tr><th>merchant_name</th><th>no_of_transactions</th><th>Year</th><th>Month</th><th>Day</th><th>total_earnings</th><th>males</th><th>females</th><th>take_rate</th><th>revenue_levels</th><th>category</th></tr>\n",
       "<tr><td>Donec Luctus Indu...</td><td>22</td><td>2021</td><td>June</td><td>Thu</td><td>7180.371203961972</td><td>1367</td><td>1437</td><td>1.13</td><td>d</td><td>Books, Stationary...</td></tr>\n",
       "<tr><td>Malesuada PC</td><td>2</td><td>2021</td><td>May</td><td>Tue</td><td>276.0067691470908</td><td>60</td><td>70</td><td>6.87</td><td>a</td><td>Furniture</td></tr>\n",
       "<tr><td>Volutpat Nulla In...</td><td>53</td><td>2021</td><td>September</td><td>Mon</td><td>3422.6949861122957</td><td>4730</td><td>4711</td><td>6.59</td><td>a</td><td>Furniture</td></tr>\n",
       "<tr><td>Porttitor Eros In...</td><td>11</td><td>2021</td><td>October</td><td>Tue</td><td>1260.3616868924953</td><td>560</td><td>579</td><td>3.86</td><td>b</td><td>Electronics</td></tr>\n",
       "<tr><td>Porttitor Eros In...</td><td>10</td><td>2022</td><td>October</td><td>Sat</td><td>916.2397782336599</td><td>560</td><td>579</td><td>3.86</td><td>b</td><td>Electronics</td></tr>\n",
       "</table>\n"
      ],
      "text/plain": [
       "+--------------------+------------------+----+---------+---+------------------+-----+-------+---------+--------------+--------------------+\n",
       "|       merchant_name|no_of_transactions|Year|    Month|Day|    total_earnings|males|females|take_rate|revenue_levels|            category|\n",
       "+--------------------+------------------+----+---------+---+------------------+-----+-------+---------+--------------+--------------------+\n",
       "|Donec Luctus Indu...|                22|2021|     June|Thu| 7180.371203961972| 1367|   1437|     1.13|             d|Books, Stationary...|\n",
       "|        Malesuada PC|                 2|2021|      May|Tue| 276.0067691470908|   60|     70|     6.87|             a|           Furniture|\n",
       "|Volutpat Nulla In...|                53|2021|September|Mon|3422.6949861122957| 4730|   4711|     6.59|             a|           Furniture|\n",
       "|Porttitor Eros In...|                11|2021|  October|Tue|1260.3616868924953|  560|    579|     3.86|             b|         Electronics|\n",
       "|Porttitor Eros In...|                10|2022|  October|Sat| 916.2397782336599|  560|    579|     3.86|             b|         Electronics|\n",
       "+--------------------+------------------+----+---------+---+------------------+-----+-------+---------+--------------+--------------------+"
      ]
     },
     "execution_count": 237,
     "metadata": {},
     "output_type": "execute_result"
    }
   ],
   "source": [
    "temp3.createOrReplaceTempView(\"edit\")\n",
    "e.createOrReplaceTempView(\"rates\")\n",
    "\n",
    "temp4 = spark.sql(\"\"\" \n",
    "\n",
    "SELECT *\n",
    "FROM edit\n",
    "INNER JOIN rates\n",
    "ON edit.merchant_name = rates.drop_name\n",
    "\"\"\")\n",
    "\n",
    "train = temp4.drop('m_name', 'f_name', 'drop_name')\n",
    "\n",
    "train.limit(5)"
   ]
  },
  {
   "cell_type": "code",
   "execution_count": 238,
   "metadata": {},
   "outputs": [
    {
     "name": "stdout",
     "output_type": "stream",
     "text": [
      "root\n",
      " |-- merchant_name: string (nullable = true)\n",
      " |-- no_of_transactions: long (nullable = false)\n",
      " |-- Year: string (nullable = true)\n",
      " |-- Month: string (nullable = true)\n",
      " |-- Day: string (nullable = true)\n",
      " |-- total_earnings: double (nullable = true)\n",
      " |-- males: long (nullable = false)\n",
      " |-- females: long (nullable = false)\n",
      " |-- take_rate: double (nullable = true)\n",
      " |-- revenue_levels: string (nullable = true)\n",
      " |-- category: string (nullable = true)\n",
      "\n"
     ]
    }
   ],
   "source": [
    "train.printSchema()"
   ]
  },
  {
   "cell_type": "code",
   "execution_count": 239,
   "metadata": {},
   "outputs": [
    {
     "name": "stderr",
     "output_type": "stream",
     "text": [
      "                                                                                \r"
     ]
    }
   ],
   "source": [
    "# String indexing the categorical columns\n",
    "\n",
    "indexer = StringIndexer(inputCols = ['merchant_name', 'Year', 'Month', 'Day', 'revenue_levels','category'],\n",
    "outputCols = ['merchant_name_num', 'Year_num', 'Month_num', 'Day_num', 'revenue_levels_num','category_num'])\n",
    "\n",
    "indexd_data = indexer.fit(train).transform(train)\n",
    "\n",
    "\n",
    "# Applying onehot encoding to the categorical data that is string indexed above\n",
    "encoder = OneHotEncoder(inputCols = ['merchant_name_num', 'Year_num', 'Month_num', 'Day_num', 'revenue_levels_num','category_num'],\n",
    "outputCols = ['merchant_name_vec', 'Year_vec', 'Month_vec', 'Day_vec', 'revenue_levels_vec','category_vec'])\n",
    "\n",
    "onehotdata = encoder.fit(indexd_data).transform(indexd_data)\n",
    "\n",
    "\n",
    "# Assembling the training data as a vector of features \n",
    "assembler1 = VectorAssembler(\n",
    "inputCols=['no_of_transactions','take_rate', 'merchant_name_vec', 'Year_vec', 'Month_vec', 'Day_vec', 'revenue_levels_vec','category_vec'],\n",
    "outputCol= \"features\" )\n",
    "\n",
    "outdata1 = assembler1.transform(onehotdata)"
   ]
  },
  {
   "cell_type": "code",
   "execution_count": 240,
   "metadata": {},
   "outputs": [],
   "source": [
    "# Renaming the target column as label\n",
    "\n",
    "outdata1 = outdata1.withColumnRenamed(\n",
    "    \"total_earnings\",\n",
    "    \"label\"\n",
    ")"
   ]
  },
  {
   "cell_type": "code",
   "execution_count": 241,
   "metadata": {},
   "outputs": [
    {
     "name": "stderr",
     "output_type": "stream",
     "text": [
      "                                                                                \r"
     ]
    }
   ],
   "source": [
    "# Assembling the features as a feature vector \n",
    "\n",
    "featureIndexer =\\\n",
    "    VectorIndexer(inputCol=\"features\", \n",
    "    outputCol=\"indexedFeatures\").fit(outdata1)\n",
    "\n",
    "outdata1 = featureIndexer.transform(outdata1)"
   ]
  },
  {
   "cell_type": "code",
   "execution_count": 242,
   "metadata": {},
   "outputs": [],
   "source": [
    "# Split the data into training and validation sets (30% held out for testing)\n",
    "\n",
    "trainingData, testData = outdata1.randomSplit([0.7, 0.3], seed = 20)"
   ]
  },
  {
   "cell_type": "code",
   "execution_count": 243,
   "metadata": {},
   "outputs": [
    {
     "name": "stderr",
     "output_type": "stream",
     "text": [
      "                                                                                \r"
     ]
    },
    {
     "name": "stdout",
     "output_type": "stream",
     "text": [
      "22/10/04 01:49:32 WARN DAGScheduler: Broadcasting large task binary with size 1658.3 KiB\n"
     ]
    },
    {
     "name": "stderr",
     "output_type": "stream",
     "text": [
      "                                                                                \r"
     ]
    },
    {
     "name": "stdout",
     "output_type": "stream",
     "text": [
      "22/10/04 01:50:03 WARN DAGScheduler: Broadcasting large task binary with size 1658.3 KiB\n"
     ]
    },
    {
     "name": "stderr",
     "output_type": "stream",
     "text": [
      "                                                                                \r"
     ]
    },
    {
     "data": {
      "text/plain": [
       "(276598, 118292)"
      ]
     },
     "execution_count": 243,
     "metadata": {},
     "output_type": "execute_result"
    }
   ],
   "source": [
    "trainingData.count(), testData.count()"
   ]
  },
  {
   "cell_type": "code",
   "execution_count": 244,
   "metadata": {},
   "outputs": [
    {
     "name": "stderr",
     "output_type": "stream",
     "text": [
      "                                                                                \r"
     ]
    },
    {
     "name": "stdout",
     "output_type": "stream",
     "text": [
      "22/10/04 01:50:30 WARN DAGScheduler: Broadcasting large task binary with size 1664.8 KiB\n"
     ]
    },
    {
     "name": "stderr",
     "output_type": "stream",
     "text": [
      "                                                                                \r"
     ]
    },
    {
     "name": "stdout",
     "output_type": "stream",
     "text": [
      "22/10/04 01:50:32 WARN DAGScheduler: Broadcasting large task binary with size 1664.9 KiB\n"
     ]
    },
    {
     "name": "stderr",
     "output_type": "stream",
     "text": [
      "                                                                                \r"
     ]
    },
    {
     "name": "stdout",
     "output_type": "stream",
     "text": [
      "22/10/04 01:50:34 WARN DAGScheduler: Broadcasting large task binary with size 1668.8 KiB\n"
     ]
    },
    {
     "name": "stderr",
     "output_type": "stream",
     "text": [
      "                                                                                \r"
     ]
    },
    {
     "name": "stdout",
     "output_type": "stream",
     "text": [
      "22/10/04 01:50:36 WARN DAGScheduler: Broadcasting large task binary with size 1882.9 KiB\n"
     ]
    },
    {
     "name": "stderr",
     "output_type": "stream",
     "text": [
      "                                                                                \r"
     ]
    },
    {
     "name": "stdout",
     "output_type": "stream",
     "text": [
      "22/10/04 01:50:51 WARN DAGScheduler: Broadcasting large task binary with size 1994.5 KiB\n"
     ]
    },
    {
     "name": "stderr",
     "output_type": "stream",
     "text": [
      "                                                                                \r"
     ]
    },
    {
     "name": "stdout",
     "output_type": "stream",
     "text": [
      "22/10/04 01:51:00 WARN DAGScheduler: Broadcasting large task binary with size 2.2 MiB\n"
     ]
    },
    {
     "name": "stderr",
     "output_type": "stream",
     "text": [
      "                                                                                \r"
     ]
    },
    {
     "name": "stdout",
     "output_type": "stream",
     "text": [
      "22/10/04 01:51:10 WARN DAGScheduler: Broadcasting large task binary with size 2.6 MiB\n"
     ]
    },
    {
     "name": "stderr",
     "output_type": "stream",
     "text": [
      "                                                                                \r"
     ]
    },
    {
     "name": "stdout",
     "output_type": "stream",
     "text": [
      "22/10/04 01:51:20 WARN DAGScheduler: Broadcasting large task binary with size 3.3 MiB\n"
     ]
    },
    {
     "name": "stderr",
     "output_type": "stream",
     "text": [
      "                                                                                \r"
     ]
    }
   ],
   "source": [
    "# Train a RandomForest model.\n",
    "rf = RandomForestRegressor(featuresCol=\"indexedFeatures\")\n",
    "\n",
    "\n",
    "# Train model.  \n",
    "model = rf.fit(trainingData)\n",
    "\n",
    "# Make predictions.\n",
    "predictions_validation = model.transform(testData)"
   ]
  },
  {
   "cell_type": "code",
   "execution_count": 245,
   "metadata": {},
   "outputs": [
    {
     "name": "stderr",
     "output_type": "stream",
     "text": [
      "                                                                                \r"
     ]
    },
    {
     "name": "stdout",
     "output_type": "stream",
     "text": [
      "22/10/04 01:51:56 WARN DAGScheduler: Broadcasting large task binary with size 1672.6 KiB\n"
     ]
    },
    {
     "name": "stderr",
     "output_type": "stream",
     "text": [
      "                                                                                \r"
     ]
    },
    {
     "name": "stdout",
     "output_type": "stream",
     "text": [
      "+-----------------+------------------+--------------------+\n",
      "|       prediction|             label|            features|\n",
      "+-----------------+------------------+--------------------+\n",
      "|2338.542831256585| 301.9648895088428|(4002,[0,1,1232,3...|\n",
      "|2338.542831256585|1044.0183614151867|(4002,[0,1,1232,3...|\n",
      "|2338.542831256585|246.59346569249823|(4002,[0,1,1232,3...|\n",
      "|2338.542831256585| 663.9651079732337|(4002,[0,1,1232,3...|\n",
      "|2701.685363020409|1479.9848370295235|(4002,[0,1,1232,3...|\n",
      "+-----------------+------------------+--------------------+\n",
      "only showing top 5 rows\n",
      "\n"
     ]
    },
    {
     "name": "stderr",
     "output_type": "stream",
     "text": [
      "                                                                                \r"
     ]
    },
    {
     "name": "stdout",
     "output_type": "stream",
     "text": [
      "22/10/04 01:52:23 WARN DAGScheduler: Broadcasting large task binary with size 1670.1 KiB\n"
     ]
    },
    {
     "name": "stderr",
     "output_type": "stream",
     "text": [
      "[Stage 3321:=================================================>      (7 + 1) / 8]\r"
     ]
    },
    {
     "name": "stdout",
     "output_type": "stream",
     "text": [
      "22/10/04 01:52:25 WARN DAGScheduler: Broadcasting large task binary with size 1671.2 KiB\n",
      "Root Mean Squared Error (RMSE) on train data = 5889.1\n"
     ]
    },
    {
     "name": "stderr",
     "output_type": "stream",
     "text": [
      "                                                                                \r"
     ]
    },
    {
     "name": "stdout",
     "output_type": "stream",
     "text": [
      "22/10/04 01:52:49 WARN DAGScheduler: Broadcasting large task binary with size 1670.1 KiB\n"
     ]
    },
    {
     "name": "stderr",
     "output_type": "stream",
     "text": [
      "[Stage 3366:=================================================>      (7 + 1) / 8]\r"
     ]
    },
    {
     "name": "stdout",
     "output_type": "stream",
     "text": [
      "22/10/04 01:52:51 WARN DAGScheduler: Broadcasting large task binary with size 1671.2 KiB\n",
      "Root Mean Squared Error (MAE) on raint data = 3042.07\n"
     ]
    },
    {
     "name": "stderr",
     "output_type": "stream",
     "text": [
      "                                                                                \r"
     ]
    }
   ],
   "source": [
    "# Evaluate the validation set \n",
    "\n",
    "predictions_validation.select(\"prediction\", \"label\", \"features\").show(5)\n",
    "\n",
    "# Select (prediction, true label) and compute test error\n",
    "\n",
    "evaluator_train_rmse = RegressionEvaluator(\n",
    "    labelCol=\"label\", predictionCol=\"prediction\", metricName=\"rmse\")\n",
    "rmse_train = evaluator_train_rmse.evaluate(predictions_validation)\n",
    "print(\"Root Mean Squared Error (RMSE) on train data = %g\" % rmse_train)\n",
    "\n",
    "evaluator_train_mae = RegressionEvaluator(\n",
    "    labelCol=\"label\", predictionCol=\"prediction\", metricName=\"mae\")\n",
    "mae_train = evaluator_train_mae.evaluate(predictions_validation)\n",
    "print(\"Root Mean Squared Error (MAE) on raint data = %g\" % mae_train)"
   ]
  },
  {
   "cell_type": "code",
   "execution_count": null,
   "metadata": {},
   "outputs": [],
   "source": []
  }
 ],
 "metadata": {
  "kernelspec": {
   "display_name": "Python 3.9.12 ('base')",
   "language": "python",
   "name": "python3"
  },
  "language_info": {
   "codemirror_mode": {
    "name": "ipython",
    "version": 3
   },
   "file_extension": ".py",
   "mimetype": "text/x-python",
   "name": "python",
   "nbconvert_exporter": "python",
   "pygments_lexer": "ipython3",
   "version": "3.9.12"
  },
  "orig_nbformat": 4,
  "vscode": {
   "interpreter": {
    "hash": "afcda84b7471a9b9fde108a34f159f021985318d3feb99cad4970c959fa9ac9e"
   }
  }
 },
 "nbformat": 4,
 "nbformat_minor": 2
}
