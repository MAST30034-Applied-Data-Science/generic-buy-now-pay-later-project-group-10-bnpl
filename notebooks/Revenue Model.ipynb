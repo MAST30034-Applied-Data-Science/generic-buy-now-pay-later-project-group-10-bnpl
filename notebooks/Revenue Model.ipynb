{
 "cells": [
  {
   "cell_type": "code",
   "execution_count": 62,
   "metadata": {},
   "outputs": [],
   "source": [
    "import pandas as pd\n",
    "from pyspark.sql import SparkSession, functions as F\n",
    "import lbl2vec\n",
    "from sklearn.feature_extraction.text import TfidfVectorizer\n",
    "from sklearn.cluster import KMeans\n",
    "import numpy as np\n",
    "from pyspark.sql.functions import date_format\n",
    "import statsmodels.api as sm\n",
    "from statsmodels.formula.api import ols\n",
    "from pyspark.ml.feature import IndexToString, StringIndexer, VectorIndexer\n",
    "from pyspark.ml.evaluation import MulticlassClassificationEvaluator\n",
    "from pyspark.ml.feature import OneHotEncoder, VectorAssembler\n",
    "from pyspark.ml.regression import RandomForestRegressor\n",
    "from pyspark.ml.evaluation import RegressionEvaluator\n",
    "import seaborn as sns\n",
    "import matplotlib\n",
    "import matplotlib.pyplot as plt\n"
   ]
  },
  {
   "cell_type": "code",
   "execution_count": 4,
   "metadata": {},
   "outputs": [
    {
     "name": "stdout",
     "output_type": "stream",
     "text": [
      "22/10/03 22:24:17 WARN Utils: Your hostname, MacBook-Air-3.local resolves to a loopback address: 127.0.0.1; using 192.168.0.66 instead (on interface en0)\n",
      "22/10/03 22:24:17 WARN Utils: Set SPARK_LOCAL_IP if you need to bind to another address\n"
     ]
    },
    {
     "name": "stderr",
     "output_type": "stream",
     "text": [
      "Setting default log level to \"WARN\".\n",
      "To adjust logging level use sc.setLogLevel(newLevel). For SparkR, use setLogLevel(newLevel).\n"
     ]
    },
    {
     "name": "stdout",
     "output_type": "stream",
     "text": [
      "22/10/03 22:24:18 WARN NativeCodeLoader: Unable to load native-hadoop library for your platform... using builtin-java classes where applicable\n",
      "22/10/03 22:24:18 WARN Utils: Service 'SparkUI' could not bind on port 4040. Attempting port 4041.\n",
      "22/10/03 22:24:18 WARN Utils: Service 'SparkUI' could not bind on port 4041. Attempting port 4042.\n"
     ]
    }
   ],
   "source": [
    "# Create a spark session\n",
    "spark = (\n",
    "    SparkSession.builder.appName(\"MAST30034 Project 2\")\n",
    "    .config(\"spark.sql.repl.eagerEval.enabled\", True) \n",
    "    .config(\"spark.sql.parquet.cacheMetadata\", \"true\")\n",
    "    .config(\"spark.sql.session.timeZone\", \"Etc/UTC\")\n",
    "    .config(\"spark.driver.memory\", \"10g\")\n",
    "    .getOrCreate()\n",
    ")"
   ]
  },
  {
   "cell_type": "code",
   "execution_count": 5,
   "metadata": {},
   "outputs": [
    {
     "name": "stderr",
     "output_type": "stream",
     "text": [
      "/Users/Kasturi/opt/anaconda3/lib/python3.9/site-packages/geopandas/_compat.py:112: UserWarning: The Shapely GEOS version (3.10.2-CAPI-1.16.0) is incompatible with the GEOS version PyGEOS was compiled with (3.10.1-CAPI-1.16.0). Conversions between both will be slow.\n",
      "  warnings.warn(\n"
     ]
    },
    {
     "name": "stdout",
     "output_type": "stream",
     "text": [
      "22/10/03 22:24:20 WARN SparkSession: Using an existing Spark session; only runtime SQL configurations will take effect.\n"
     ]
    },
    {
     "name": "stderr",
     "output_type": "stream",
     "text": [
      "                                                                                \r"
     ]
    },
    {
     "name": "stdout",
     "output_type": "stream",
     "text": [
      "22/10/03 22:25:13 WARN package: Truncated the string representation of a plan since it was too large. This behavior can be adjusted by setting 'spark.sql.debug.maxToStringFields'.\n"
     ]
    },
    {
     "name": "stderr",
     "output_type": "stream",
     "text": [
      "                                                                                \r"
     ]
    },
    {
     "data": {
      "text/html": [
       "<table border='1'>\n",
       "<tr><th>merchant_name</th><th>merchant_abn</th><th>categories</th><th>take_rate</th><th>revenue_levels</th><th>name</th><th>address</th><th>state</th><th>gender</th><th>trans_merchant_abn</th><th>dollar_value</th><th>order_id</th><th>order_datetime</th><th>user_id</th><th>consumer_id</th><th>postcodes</th><th>int_sa2</th><th>SA2_code</th><th>SA2_name</th><th>income_2018-2019</th><th>total_males</th><th>total_females</th><th>total_persons</th><th>state_code</th><th>state_name</th><th>population_2020</th><th>population_2021</th></tr>\n",
       "<tr><td>Egestas Nunc Asso...</td><td>11121775571</td><td>digital goods: bo...</td><td>6.58</td><td>a</td><td>Christopher Rodri...</td><td>30554 Evans Strea...</td><td>NSW</td><td>Male</td><td>11121775571</td><td>11.28829564583802</td><td>2bd2a61d-72e5-42d...</td><td>2021-08-20</td><td>3698</td><td>1175</td><td>2299</td><td>111031231</td><td>111031231</td><td>Shortland - Jesmond</td><td>242936885</td><td>6412</td><td>6179</td><td>12593</td><td>1</td><td>New South Wales</td><td>12598</td><td>12694</td></tr>\n",
       "<tr><td>Morbi Accumsan In...</td><td>19618998054</td><td>tent and aWning s...</td><td>1.52</td><td>c</td><td>Christopher Rodri...</td><td>30554 Evans Strea...</td><td>NSW</td><td>Male</td><td>19618998054</td><td>62.90176609196828</td><td>3582b1f8-4577-403...</td><td>2021-05-16</td><td>3698</td><td>1175</td><td>2299</td><td>111031231</td><td>111031231</td><td>Shortland - Jesmond</td><td>242936885</td><td>6412</td><td>6179</td><td>12593</td><td>1</td><td>New South Wales</td><td>12598</td><td>12694</td></tr>\n",
       "<tr><td>Eu Dolor Egestas PC</td><td>94472466107</td><td>cable, satellite,...</td><td>6.23</td><td>a</td><td>Christopher Rodri...</td><td>30554 Evans Strea...</td><td>NSW</td><td>Male</td><td>94472466107</td><td>172.15375126873164</td><td>cb05d49f-c2fa-453...</td><td>2021-07-22</td><td>3698</td><td>1175</td><td>2299</td><td>111031231</td><td>111031231</td><td>Shortland - Jesmond</td><td>242936885</td><td>6412</td><td>6179</td><td>12593</td><td>1</td><td>New South Wales</td><td>12598</td><td>12694</td></tr>\n",
       "<tr><td>Urna Justo Indust...</td><td>31472801314</td><td>music shops - mus...</td><td>6.56</td><td>a</td><td>Christopher Rodri...</td><td>30554 Evans Strea...</td><td>NSW</td><td>Male</td><td>31472801314</td><td>0.4894787650356477</td><td>aeec15c1-67e8-4cb...</td><td>2021-05-18</td><td>3698</td><td>1175</td><td>2299</td><td>111031231</td><td>111031231</td><td>Shortland - Jesmond</td><td>242936885</td><td>6412</td><td>6179</td><td>12593</td><td>1</td><td>New South Wales</td><td>12598</td><td>12694</td></tr>\n",
       "<tr><td>Eu Sem Pellentesq...</td><td>35424691626</td><td>computers, comput...</td><td>3.9</td><td>b</td><td>Christopher Rodri...</td><td>30554 Evans Strea...</td><td>NSW</td><td>Male</td><td>35424691626</td><td>7.360217018778133</td><td>9df473ba-102d-461...</td><td>2021-07-04</td><td>3698</td><td>1175</td><td>2299</td><td>111031231</td><td>111031231</td><td>Shortland - Jesmond</td><td>242936885</td><td>6412</td><td>6179</td><td>12593</td><td>1</td><td>New South Wales</td><td>12598</td><td>12694</td></tr>\n",
       "</table>\n"
      ],
      "text/plain": [
       "+--------------------+------------+--------------------+---------+--------------+--------------------+--------------------+-----+------+------------------+------------------+--------------------+--------------+-------+-----------+---------+---------+---------+-------------------+----------------+-----------+-------------+-------------+----------+---------------+---------------+---------------+\n",
       "|       merchant_name|merchant_abn|          categories|take_rate|revenue_levels|                name|             address|state|gender|trans_merchant_abn|      dollar_value|            order_id|order_datetime|user_id|consumer_id|postcodes|  int_sa2| SA2_code|           SA2_name|income_2018-2019|total_males|total_females|total_persons|state_code|     state_name|population_2020|population_2021|\n",
       "+--------------------+------------+--------------------+---------+--------------+--------------------+--------------------+-----+------+------------------+------------------+--------------------+--------------+-------+-----------+---------+---------+---------+-------------------+----------------+-----------+-------------+-------------+----------+---------------+---------------+---------------+\n",
       "|Egestas Nunc Asso...| 11121775571|digital goods: bo...|     6.58|             a|Christopher Rodri...|30554 Evans Strea...|  NSW|  Male|       11121775571| 11.28829564583802|2bd2a61d-72e5-42d...|    2021-08-20|   3698|       1175|     2299|111031231|111031231|Shortland - Jesmond|       242936885|       6412|         6179|        12593|         1|New South Wales|          12598|          12694|\n",
       "|Morbi Accumsan In...| 19618998054|tent and aWning s...|     1.52|             c|Christopher Rodri...|30554 Evans Strea...|  NSW|  Male|       19618998054| 62.90176609196828|3582b1f8-4577-403...|    2021-05-16|   3698|       1175|     2299|111031231|111031231|Shortland - Jesmond|       242936885|       6412|         6179|        12593|         1|New South Wales|          12598|          12694|\n",
       "| Eu Dolor Egestas PC| 94472466107|cable, satellite,...|     6.23|             a|Christopher Rodri...|30554 Evans Strea...|  NSW|  Male|       94472466107|172.15375126873164|cb05d49f-c2fa-453...|    2021-07-22|   3698|       1175|     2299|111031231|111031231|Shortland - Jesmond|       242936885|       6412|         6179|        12593|         1|New South Wales|          12598|          12694|\n",
       "|Urna Justo Indust...| 31472801314|music shops - mus...|     6.56|             a|Christopher Rodri...|30554 Evans Strea...|  NSW|  Male|       31472801314|0.4894787650356477|aeec15c1-67e8-4cb...|    2021-05-18|   3698|       1175|     2299|111031231|111031231|Shortland - Jesmond|       242936885|       6412|         6179|        12593|         1|New South Wales|          12598|          12694|\n",
       "|Eu Sem Pellentesq...| 35424691626|computers, comput...|      3.9|             b|Christopher Rodri...|30554 Evans Strea...|  NSW|  Male|       35424691626| 7.360217018778133|9df473ba-102d-461...|    2021-07-04|   3698|       1175|     2299|111031231|111031231|Shortland - Jesmond|       242936885|       6412|         6179|        12593|         1|New South Wales|          12598|          12694|\n",
       "+--------------------+------------+--------------------+---------+--------------+--------------------+--------------------+-----+------+------------------+------------------+--------------------+--------------+-------+-----------+---------+---------+---------+-------------------+----------------+-----------+-------------+-------------+----------+---------------+---------------+---------------+"
      ]
     },
     "execution_count": 5,
     "metadata": {},
     "output_type": "execute_result"
    }
   ],
   "source": [
    "# Read in data from ETL.py file\n",
    "%run '../scripts/ETL.py' '../scripts/paths.json'\n",
    "final_join3.limit(5)"
   ]
  },
  {
   "cell_type": "markdown",
   "metadata": {},
   "source": [
    "take rate\n",
    "state\n",
    "gender\n",
    "year\n",
    "month\n",
    "day\n",
    "postcode\n",
    "merchant name\n",
    "\n"
   ]
  },
  {
   "cell_type": "code",
   "execution_count": 28,
   "metadata": {},
   "outputs": [
    {
     "name": "stderr",
     "output_type": "stream",
     "text": [
      "[Stage 194:===============================================>       (12 + 2) / 14]\r"
     ]
    },
    {
     "name": "stdout",
     "output_type": "stream",
     "text": [
      "+-------------------------+--------------------+\n",
      "|count(DISTINCT take_rate)|       merchant_name|\n",
      "+-------------------------+--------------------+\n",
      "|                        1|     Erat Semper Ltd|\n",
      "|                        1|Dictum Mi Incorpo...|\n",
      "|                        1|At Augue Corporation|\n",
      "|                        1|Porttitor Eros In...|\n",
      "|                        1|Mollis Integer Co...|\n",
      "|                        1|Varius Orci Insti...|\n",
      "|                        1|Volutpat Nulla In...|\n",
      "|                        1|      Amet Nulla Ltd|\n",
      "|                        1|Hendrerit Consect...|\n",
      "|                        1|   Malesuada Vel Ltd|\n",
      "|                        1|  Vel Turpis Company|\n",
      "|                        1|Elit Sed Consequa...|\n",
      "|                        1|        Malesuada PC|\n",
      "|                        1|   Pede Praesent Ltd|\n",
      "|                        1|   Dictum Mi Limited|\n",
      "|                        1|Vulputate Velit E...|\n",
      "|                        1| Phasellus Nulla LLC|\n",
      "|                        1|Donec Luctus Indu...|\n",
      "|                        1|      Montes Limited|\n",
      "|                        1| Semper Incorporated|\n",
      "+-------------------------+--------------------+\n",
      "only showing top 20 rows\n",
      "\n"
     ]
    },
    {
     "name": "stderr",
     "output_type": "stream",
     "text": [
      "                                                                                \r"
     ]
    }
   ],
   "source": [
    "final_join3.createOrReplaceTempView(\"temp\")\n",
    "\n",
    "d = spark.sql(\"\"\" \n",
    "\n",
    "SELECT COUNT(DISTINCT take_rate), merchant_name\n",
    "FROM temp\n",
    "GROUP BY merchant_name\n",
    "\"\"\")\n",
    "\n",
    "d.show()"
   ]
  },
  {
   "cell_type": "code",
   "execution_count": 25,
   "metadata": {},
   "outputs": [],
   "source": [
    "merchants = spark.read.parquet(\"/Users/Kasturi/Documents/GitHub/generic-buy-now-pay-later-project-group-10-bnpl/data/tables/tbl_merchants.parquet\")"
   ]
  },
  {
   "cell_type": "code",
   "execution_count": 26,
   "metadata": {},
   "outputs": [
    {
     "name": "stdout",
     "output_type": "stream",
     "text": [
      "+--------------------+--------------------+------------+\n",
      "|                name|                tags|merchant_abn|\n",
      "+--------------------+--------------------+------------+\n",
      "|       Felis Limited|((furniture, home...| 10023283211|\n",
      "|Arcu Ac Orci Corp...|([cable, satellit...| 10142254217|\n",
      "|    Nunc Sed Company|([jewelry, watch,...| 10165489824|\n",
      "|Ultricies Digniss...|([wAtch, clock, a...| 10187291046|\n",
      "| Enim Condimentum PC|([music shops - m...| 10192359162|\n",
      "+--------------------+--------------------+------------+\n",
      "only showing top 5 rows\n",
      "\n"
     ]
    }
   ],
   "source": [
    "merchants.show(5)"
   ]
  },
  {
   "cell_type": "code",
   "execution_count": 6,
   "metadata": {},
   "outputs": [
    {
     "name": "stderr",
     "output_type": "stream",
     "text": [
      "                                                                                \r"
     ]
    },
    {
     "data": {
      "text/plain": [
       "10540181"
      ]
     },
     "execution_count": 6,
     "metadata": {},
     "output_type": "execute_result"
    }
   ],
   "source": [
    "final_join3.count()"
   ]
  },
  {
   "cell_type": "code",
   "execution_count": 46,
   "metadata": {},
   "outputs": [],
   "source": [
    "tagged_merchants = pd.read_csv(\"../data/curated/tagged_merchants.csv\")"
   ]
  },
  {
   "cell_type": "code",
   "execution_count": 47,
   "metadata": {},
   "outputs": [],
   "source": [
    "tagged_merchants = tagged_merchants.iloc[:,1:]"
   ]
  },
  {
   "cell_type": "code",
   "execution_count": 48,
   "metadata": {},
   "outputs": [],
   "source": [
    "tagged_merchants.drop(['tags', 'name', 'cleaned_tags', 'store_type'], axis=1, inplace=True)"
   ]
  },
  {
   "cell_type": "code",
   "execution_count": 49,
   "metadata": {},
   "outputs": [],
   "source": [
    "tagged_merchants.to_parquet(\"../data/curated/tagged_merchants.parquet\")"
   ]
  },
  {
   "cell_type": "code",
   "execution_count": 50,
   "metadata": {},
   "outputs": [],
   "source": [
    "tagged_merchants_sdf = spark.read.parquet(\"../data/curated/tagged_merchants.parquet\")"
   ]
  },
  {
   "cell_type": "code",
   "execution_count": 51,
   "metadata": {},
   "outputs": [],
   "source": [
    "tagged_merchants_sdf = tagged_merchants_sdf.withColumnRenamed('merchant_abn',\n",
    "\n",
    "    'tagged_merchant_abn'\n",
    ")"
   ]
  },
  {
   "cell_type": "code",
   "execution_count": 52,
   "metadata": {},
   "outputs": [
    {
     "name": "stdout",
     "output_type": "stream",
     "text": [
      "+-------------------+--------------------+\n",
      "|tagged_merchant_abn|            category|\n",
      "+-------------------+--------------------+\n",
      "|        10023283211|           Furniture|\n",
      "|        10142254217|         Electronics|\n",
      "|        10165489824|        Toys and DIY|\n",
      "|        10187291046|        Toys and DIY|\n",
      "|        10192359162|Books, Stationary...|\n",
      "+-------------------+--------------------+\n",
      "only showing top 5 rows\n",
      "\n"
     ]
    }
   ],
   "source": [
    "tagged_merchants_sdf.show(5)"
   ]
  },
  {
   "cell_type": "code",
   "execution_count": 53,
   "metadata": {},
   "outputs": [],
   "source": [
    "final_join3.createOrReplaceTempView(\"join\")\n",
    "tagged_merchants_sdf.createOrReplaceTempView(\"tagged\")\n",
    "\n",
    "joint = spark.sql(\"\"\" \n",
    "\n",
    "SELECT *\n",
    "FROM join\n",
    "LEFT JOIN tagged\n",
    "ON join.merchant_abn = tagged.tagged_merchant_abn\n",
    "\"\"\")\n",
    "\n"
   ]
  },
  {
   "cell_type": "code",
   "execution_count": 54,
   "metadata": {},
   "outputs": [],
   "source": [
    "joint = joint.drop('tagged_merchant_abn')"
   ]
  },
  {
   "cell_type": "code",
   "execution_count": 55,
   "metadata": {},
   "outputs": [
    {
     "name": "stderr",
     "output_type": "stream",
     "text": [
      "                                                                                \r"
     ]
    },
    {
     "data": {
      "text/plain": [
       "10540181"
      ]
     },
     "execution_count": 55,
     "metadata": {},
     "output_type": "execute_result"
    }
   ],
   "source": [
    "joint.count()"
   ]
  },
  {
   "cell_type": "code",
   "execution_count": 56,
   "metadata": {},
   "outputs": [],
   "source": [
    "joint.createOrReplaceTempView(\"group\")\n",
    "\n",
    "a = spark.sql(\"\"\" \n",
    "\n",
    "SELECT *, (dollar_value - take_rate) AS total_earning\n",
    "FROM group\n",
    "\"\"\")"
   ]
  },
  {
   "cell_type": "code",
   "execution_count": 57,
   "metadata": {},
   "outputs": [
    {
     "name": "stderr",
     "output_type": "stream",
     "text": [
      "[Stage 317:====================================>                   (9 + 5) / 14]\r"
     ]
    },
    {
     "name": "stdout",
     "output_type": "stream",
     "text": [
      "+--------------------+------------------+------------------+\n",
      "|       merchant_name|     total_revenue|no_of_transactions|\n",
      "+--------------------+------------------+------------------+\n",
      "|   Dictum Mi Limited| 897687.9661494899|              9880|\n",
      "|Volutpat Nulla In...| 836578.8864434501|             10561|\n",
      "|Mollis Integer Co...|384905.39521080774|             12234|\n",
      "|Hendrerit Consect...|239274.53116224083|              3010|\n",
      "|Donec Luctus Indu...|  1063577.03533018|              3113|\n",
      "|Varius Orci Insti...|147376.27431885863|             19771|\n",
      "|Elit Sed Consequa...| 5724004.642736054|              9689|\n",
      "|Dictum Mi Incorpo...| 775536.8639499726|              1236|\n",
      "|At Augue Corporation|125257.92718248101|              1544|\n",
      "|      Montes Limited|429378.17366086063|               673|\n",
      "|     Erat Semper Ltd| 639325.5782926289|              1781|\n",
      "| Semper Incorporated| 92248.05999937073|               926|\n",
      "|Porttitor Eros In...|121304.87964357901|              1262|\n",
      "|   Malesuada Vel Ltd| 163608.8148267617|               685|\n",
      "|Arcu Vestibulum C...| 37774.36914273643|               126|\n",
      "|   Pede Praesent Ltd| 271600.6812276826|               613|\n",
      "|  Vel Turpis Company| 127240.6587937105|               277|\n",
      "|Vulputate Velit E...|14697.476308064855|                36|\n",
      "|      Amet Nulla Ltd|  48071.7414195805|               571|\n",
      "|        Malesuada PC| 49934.18486020604|               144|\n",
      "+--------------------+------------------+------------------+\n",
      "only showing top 20 rows\n",
      "\n"
     ]
    },
    {
     "name": "stderr",
     "output_type": "stream",
     "text": [
      "                                                                                \r"
     ]
    }
   ],
   "source": [
    "a.createOrReplaceTempView(\"group_earnings\")\n",
    "\n",
    "b = spark.sql(\"\"\" \n",
    "\n",
    "SELECT merchant_name, SUM(total_earning) AS total_revenue, COUNT(merchant_abn) AS no_of_transactions\n",
    "FROM group_earnings\n",
    "GROUP BY merchant_name\n",
    "\"\"\")\n",
    "\n",
    "b.show()"
   ]
  },
  {
   "cell_type": "code",
   "execution_count": 59,
   "metadata": {},
   "outputs": [],
   "source": [
    "# Extracting the year, month, day from the timestamp\n",
    "\n",
    "a = a.withColumn(\"Year\", \n",
    "date_format('order_datetime', 'yyyy'))\n",
    "\n",
    "a  = a.withColumn(\"Month\", \n",
    "date_format('order_datetime', 'MMMM'))\n",
    "\n",
    "\n",
    "a = a.withColumn(\"Day\",\n",
    "date_format((\"order_datetime\"), \"E\"))\n"
   ]
  },
  {
   "cell_type": "code",
   "execution_count": 60,
   "metadata": {},
   "outputs": [
    {
     "name": "stderr",
     "output_type": "stream",
     "text": [
      "[Stage 333:===============================================>       (12 + 2) / 14]\r"
     ]
    },
    {
     "name": "stdout",
     "output_type": "stream",
     "text": [
      "+--------------------+------------+--------------------+---------+--------------+--------------------+--------------------+-----+------+------------------+------------------+--------------------+--------------+-------+-----------+---------+---------+---------+-------------------+----------------+-----------+-------------+-------------+----------+---------------+---------------+---------------+--------------------+------------------+----+------+------------+\n",
      "|       merchant_name|merchant_abn|          categories|take_rate|revenue_levels|                name|             address|state|gender|trans_merchant_abn|      dollar_value|            order_id|order_datetime|user_id|consumer_id|postcodes|  int_sa2| SA2_code|           SA2_name|income_2018-2019|total_males|total_females|total_persons|state_code|     state_name|population_2020|population_2021|            category|     total_earning|Year| Month|week_day_abb|\n",
      "+--------------------+------------+--------------------+---------+--------------+--------------------+--------------------+-----+------+------------------+------------------+--------------------+--------------+-------+-----------+---------+---------+---------+-------------------+----------------+-----------+-------------+-------------+----------+---------------+---------------+---------------+--------------------+------------------+----+------+------------+\n",
      "|Egestas Nunc Asso...| 11121775571|digital goods: bo...|     6.58|             a|Christopher Rodri...|30554 Evans Strea...|  NSW|  Male|       11121775571| 11.28829564583802|2bd2a61d-72e5-42d...|    2021-08-20|   3698|       1175|     2299|111031231|111031231|Shortland - Jesmond|       242936885|       6412|         6179|        12593|         1|New South Wales|          12598|          12694|Books, Stationary...| 4.708295645838019|2021|August|         Fri|\n",
      "|Morbi Accumsan In...| 19618998054|tent and aWning s...|     1.52|             c|Christopher Rodri...|30554 Evans Strea...|  NSW|  Male|       19618998054| 62.90176609196828|3582b1f8-4577-403...|    2021-05-16|   3698|       1175|     2299|111031231|111031231|Shortland - Jesmond|       242936885|       6412|         6179|        12593|         1|New South Wales|          12598|          12694|Books, Stationary...|61.381766091968274|2021|   May|         Sun|\n",
      "| Eu Dolor Egestas PC| 94472466107|cable, satellite,...|     6.23|             a|Christopher Rodri...|30554 Evans Strea...|  NSW|  Male|       94472466107|172.15375126873164|cb05d49f-c2fa-453...|    2021-07-22|   3698|       1175|     2299|111031231|111031231|Shortland - Jesmond|       242936885|       6412|         6179|        12593|         1|New South Wales|          12598|          12694|         Electronics|165.92375126873165|2021|  July|         Thu|\n",
      "|Urna Justo Indust...| 31472801314|music shops - mus...|     6.56|             a|Christopher Rodri...|30554 Evans Strea...|  NSW|  Male|       31472801314|0.4894787650356477|aeec15c1-67e8-4cb...|    2021-05-18|   3698|       1175|     2299|111031231|111031231|Shortland - Jesmond|       242936885|       6412|         6179|        12593|         1|New South Wales|          12598|          12694|Books, Stationary...|-6.070521234964352|2021|   May|         Tue|\n",
      "|Eu Sem Pellentesq...| 35424691626|computers, comput...|      3.9|             b|Christopher Rodri...|30554 Evans Strea...|  NSW|  Male|       35424691626| 7.360217018778133|9df473ba-102d-461...|    2021-07-04|   3698|       1175|     2299|111031231|111031231|Shortland - Jesmond|       242936885|       6412|         6179|        12593|         1|New South Wales|          12598|          12694|         Electronics|3.4602170187781334|2021|  July|         Sun|\n",
      "+--------------------+------------+--------------------+---------+--------------+--------------------+--------------------+-----+------+------------------+------------------+--------------------+--------------+-------+-----------+---------+---------+---------+-------------------+----------------+-----------+-------------+-------------+----------+---------------+---------------+---------------+--------------------+------------------+----+------+------------+\n",
      "only showing top 5 rows\n",
      "\n"
     ]
    },
    {
     "name": "stderr",
     "output_type": "stream",
     "text": [
      "                                                                                \r"
     ]
    }
   ],
   "source": [
    "a.show(5)"
   ]
  },
  {
   "cell_type": "code",
   "execution_count": 61,
   "metadata": {},
   "outputs": [
    {
     "ename": "AnalysisException",
     "evalue": "expression 'temp.merchant_abn' is neither present in the group by, nor is it an aggregate function. Add to group by or wrap in first() (or first_value) if you don't care which value you get.;\nAggregate [merchant_name#193], [merchant_name#193, merchant_abn#31L, categories#170, take_rate#175, revenue_levels#181, name#17, address#18, state#19, gender#21, trans_merchant_abn#214L, dollar_value#41, order_id#42, order_datetime#43, user_id#35L, consumer_id#36L, postcodes#315, int_sa2#499, SA2_code#535L, SA2_name#536, income_2018-2019#537L, total_males#538L, total_females#539L, total_persons#540L, state_code#541L, ... 8 more fields]\n+- SubqueryAlias temp\n   +- View (`temp`, [merchant_name#193,merchant_abn#31L,categories#170,take_rate#175,revenue_levels#181,name#17,address#18,state#19,gender#21,trans_merchant_abn#214L,dollar_value#41,order_id#42,order_datetime#43,user_id#35L,consumer_id#36L,postcodes#315,int_sa2#499,SA2_code#535L,SA2_name#536,income_2018-2019#537L,total_males#538L,total_females#539L,total_persons#540L,state_code#541L,state_name#542,population_2020#543L,population_2021#544L,category#2553,total_earning#2677,Year#2824,Month#2856,week_day_abb#2888])\n      +- Project [merchant_name#193, merchant_abn#31L, categories#170, take_rate#175, revenue_levels#181, name#17, address#18, state#19, gender#21, trans_merchant_abn#214L, dollar_value#41, order_id#42, order_datetime#43, user_id#35L, consumer_id#36L, postcodes#315, int_sa2#499, SA2_code#535L, SA2_name#536, income_2018-2019#537L, total_males#538L, total_females#539L, total_persons#540L, state_code#541L, ... 8 more fields]\n         +- Project [merchant_name#193, merchant_abn#31L, categories#170, take_rate#175, revenue_levels#181, name#17, address#18, state#19, gender#21, trans_merchant_abn#214L, dollar_value#41, order_id#42, order_datetime#43, user_id#35L, consumer_id#36L, postcodes#315, int_sa2#499, SA2_code#535L, SA2_name#536, income_2018-2019#537L, total_males#538L, total_females#539L, total_persons#540L, state_code#541L, ... 7 more fields]\n            +- Project [merchant_name#193, merchant_abn#31L, categories#170, take_rate#175, revenue_levels#181, name#17, address#18, state#19, gender#21, trans_merchant_abn#214L, dollar_value#41, order_id#42, order_datetime#43, user_id#35L, consumer_id#36L, postcodes#315, int_sa2#499, SA2_code#535L, SA2_name#536, income_2018-2019#537L, total_males#538L, total_females#539L, total_persons#540L, state_code#541L, ... 7 more fields]\n               +- Project [merchant_name#193, merchant_abn#31L, categories#170, take_rate#175, revenue_levels#181, name#17, address#18, state#19, gender#21, trans_merchant_abn#214L, dollar_value#41, order_id#42, order_datetime#43, user_id#35L, consumer_id#36L, postcodes#315, int_sa2#499, SA2_code#535L, SA2_name#536, income_2018-2019#537L, total_males#538L, total_females#539L, total_persons#540L, state_code#541L, ... 7 more fields]\n                  +- Project [merchant_name#193, merchant_abn#31L, categories#170, take_rate#175, revenue_levels#181, name#17, address#18, state#19, gender#21, trans_merchant_abn#214L, dollar_value#41, order_id#42, order_datetime#43, user_id#35L, consumer_id#36L, postcodes#315, int_sa2#499, SA2_code#535L, SA2_name#536, income_2018-2019#537L, total_males#538L, total_females#539L, total_persons#540L, state_code#541L, ... 6 more fields]\n                     +- Project [merchant_name#193, merchant_abn#31L, categories#170, take_rate#175, revenue_levels#181, name#17, address#18, state#19, gender#21, trans_merchant_abn#214L, dollar_value#41, order_id#42, order_datetime#43, user_id#35L, consumer_id#36L, postcodes#315, int_sa2#499, SA2_code#535L, SA2_name#536, income_2018-2019#537L, total_males#538L, total_females#539L, total_persons#540L, state_code#541L, ... 5 more fields]\n                        +- SubqueryAlias group\n                           +- View (`group`, [merchant_name#193,merchant_abn#31L,categories#170,take_rate#175,revenue_levels#181,name#17,address#18,state#19,gender#21,trans_merchant_abn#214L,dollar_value#41,order_id#42,order_datetime#43,user_id#35L,consumer_id#36L,postcodes#315,int_sa2#499,SA2_code#535L,SA2_name#536,income_2018-2019#537L,total_males#538L,total_females#539L,total_persons#540L,state_code#541L,state_name#542,population_2020#543L,population_2021#544L,category#2553])\n                              +- Project [merchant_name#193, merchant_abn#31L, categories#170, take_rate#175, revenue_levels#181, name#17, address#18, state#19, gender#21, trans_merchant_abn#214L, dollar_value#41, order_id#42, order_datetime#43, user_id#35L, consumer_id#36L, postcodes#315, int_sa2#499, SA2_code#535L, SA2_name#536, income_2018-2019#537L, total_males#538L, total_females#539L, total_persons#540L, state_code#541L, ... 4 more fields]\n                                 +- Project [merchant_name#193, merchant_abn#31L, categories#170, take_rate#175, revenue_levels#181, name#17, address#18, state#19, gender#21, trans_merchant_abn#214L, dollar_value#41, order_id#42, order_datetime#43, user_id#35L, consumer_id#36L, postcodes#315, int_sa2#499, SA2_code#535L, SA2_name#536, income_2018-2019#537L, total_males#538L, total_females#539L, total_persons#540L, state_code#541L, ... 5 more fields]\n                                    +- Join LeftOuter, (merchant_abn#31L = tagged_merchant_abn#2556L)\n                                       :- SubqueryAlias join\n                                       :  +- View (`join`, [merchant_name#193,merchant_abn#31L,categories#170,take_rate#175,revenue_levels#181,name#17,address#18,state#19,gender#21,trans_merchant_abn#214L,dollar_value#41,order_id#42,order_datetime#43,user_id#35L,consumer_id#36L,postcodes#315,int_sa2#499,SA2_code#535L,SA2_name#536,income_2018-2019#537L,total_males#538L,total_females#539L,total_persons#540L,state_code#541L,state_name#542,population_2020#543L,population_2021#544L])\n                                       :     +- Project [merchant_name#193, merchant_abn#31L, categories#170, take_rate#175, revenue_levels#181, name#17, address#18, state#19, gender#21, trans_merchant_abn#214L, dollar_value#41, order_id#42, order_datetime#43, user_id#35L, consumer_id#36L, postcodes#315, int_sa2#499, SA2_code#535L, SA2_name#536, income_2018-2019#537L, total_males#538L, total_females#539L, total_persons#540L, state_code#541L, ... 3 more fields]\n                                       :        +- Join Inner, (cast(int_sa2#499 as bigint) = SA2_code#535L)\n                                       :           :- Project [merchant_name#193, merchant_abn#31L, categories#170, take_rate#175, revenue_levels#181, name#17, address#18, state#19, gender#21, trans_merchant_abn#214L, dollar_value#41, order_id#42, order_datetime#43, user_id#35L, consumer_id#36L, postcodes#315, int_sa2#499]\n                                       :           :  +- Project [merchant_name#193, merchant_abn#31L, categories#170, take_rate#175, revenue_levels#181, name#17, address#18, state#19, gender#21, trans_merchant_abn#214L, dollar_value#41, order_id#42, order_datetime#43, user_id#35L, consumer_id#36L, postcodes#315, sa2#316, cast(sa2#316 as int) AS int_sa2#499]\n                                       :           :     +- Project [merchant_name#193, merchant_abn#31L, categories#170, take_rate#175, revenue_levels#181, name#17, address#18, state#19, gender#21, trans_merchant_abn#214L, dollar_value#41, order_id#42, order_datetime#43, user_id#35L, consumer_id#36L, postcodes#315, sa2#316]\n                                       :           :        +- Join Inner, (postcode#20 = postcodes#315)\n                                       :           :           :- Project [merchant_name#193, merchant_abn#31L, categories#170, take_rate#175, revenue_levels#181, name#17, address#18, state#19, postcode#20, gender#21, trans_merchant_abn#214L, dollar_value#41, order_id#42, order_datetime#43, user_id#35L, consumer_id#36L]\n                                       :           :           :  +- Project [merchant_name#193, merchant_abn#31L, categories#170, take_rate#175, revenue_levels#181, name#17, address#18, state#19, postcode#20, gender#21, trans_user_id#220L, trans_merchant_abn#214L, dollar_value#41, order_id#42, order_datetime#43, user_id#35L, consumer_id#36L]\n                                       :           :           :     +- Join FullOuter, (merchant_abn#31L = trans_merchant_abn#214L)\n                                       :           :           :        :- Project [name#29 AS merchant_name#193, merchant_abn#31L, categories#170, take_rate#175, revenue_levels#181]\n                                       :           :           :        :  +- Project [name#29, merchant_abn#31L, categories#170, take_rate#175, revenue_levels#181]\n                                       :           :           :        :     +- Project [name#29, tags#166, merchant_abn#31L, categories#170, take_rate#175, split(tags#166, [)\\]], [\\[(], -1)[1] AS revenue_levels#181]\n                                       :           :           :        :        +- Project [name#29, tags#166, merchant_abn#31L, categories#170, cast(split(tags#166, [)\\]], [\\[(]take rate: , -1)[1] as double) AS take_rate#175]\n                                       :           :           :        :           +- Project [name#29, tags#166, merchant_abn#31L, split(tags#166, [)\\]], [\\[(], -1)[0] AS categories#170]\n                                       :           :           :        :              +- Project [name#29, regexp_replace(tags#161, [\\[(][\\[(], , 1) AS tags#166, merchant_abn#31L]\n                                       :           :           :        :                 +- Project [name#29, regexp_replace(tags#30, [\\])][\\])], , 1) AS tags#161, merchant_abn#31L]\n                                       :           :           :        :                    +- Relation [name#29,tags#30,merchant_abn#31L] parquet\n                                       :           :           :        +- Join Inner, (int_consumer_id#199L = consumer_id#36L)\n                                       :           :           :           :- Project [name#17, address#18, state#19, postcode#20, gender#21, int_consumer_id#199L]\n                                       :           :           :           :  +- Project [name#17, address#18, state#19, postcode#20, gender#21, consumer_id#22, cast(consumer_id#22 as bigint) AS int_consumer_id#199L]\n                                       :           :           :           :     +- Relation [name#17,address#18,state#19,postcode#20,gender#21,consumer_id#22] csv\n                                       :           :           :           +- Join Inner, (trans_user_id#220L = user_id#35L)\n                                       :           :           :              :- Project [user_id#39L AS trans_user_id#220L, trans_merchant_abn#214L, dollar_value#41, order_id#42, order_datetime#43]\n                                       :           :           :              :  +- Project [user_id#39L, merchant_abn#40L AS trans_merchant_abn#214L, dollar_value#41, order_id#42, order_datetime#43]\n                                       :           :           :              :     +- Sort [order_datetime#43 ASC NULLS FIRST], true\n                                       :           :           :              :        +- Deduplicate [order_id#42, order_datetime#43, user_id#39L, dollar_value#41, merchant_abn#40L]\n                                       :           :           :              :           +- Union false, false\n                                       :           :           :              :              :- Deduplicate [order_id#42, order_datetime#43, user_id#39L, dollar_value#41, merchant_abn#40L]\n                                       :           :           :              :              :  +- Union false, false\n                                       :           :           :              :              :     :- Relation [user_id#39L,merchant_abn#40L,dollar_value#41,order_id#42,order_datetime#43] parquet\n                                       :           :           :              :              :     +- Relation [user_id#49L,merchant_abn#50L,dollar_value#51,order_id#52,order_datetime#53] parquet\n                                       :           :           :              :              +- Relation [user_id#59L,merchant_abn#60L,dollar_value#61,order_id#62,order_datetime#63] parquet\n                                       :           :           :              +- Relation [user_id#35L,consumer_id#36L] parquet\n                                       :           :           +- Deduplicate [postcodes#315]\n                                       :           :              +- Filter atleastnnonnulls(2, postcodes#315, sa2#316)\n                                       :           :                 +- Project [postcode#244 AS postcodes#315, SA2_MAINCODE_2016#261 AS sa2#316]\n                                       :           :                    +- Relation [id#243,postcode#244,locality#245,state#246,long#247,lat#248,dc#249,type#250,status#251,sa3#252,sa3name#253,sa4#254,sa4name#255,region#256,Lat_precise#257,Long_precise#258,SA1_MAINCODE_2011#259,SA1_MAINCODE_2016#260,SA2_MAINCODE_2016#261,SA2_NAME_2016#262,SA3_CODE_2016#263,SA3_NAME_2016#264,SA4_CODE_2016#265,SA4_NAME_2016#266,... 12 more fields] csv\n                                       :           +- LogicalRDD [SA2_code#535L, SA2_name#536, income_2018-2019#537L, total_males#538L, total_females#539L, total_persons#540L, state_code#541L, state_name#542, population_2020#543L, population_2021#544L], false\n                                       +- SubqueryAlias tagged\n                                          +- View (`tagged`, [tagged_merchant_abn#2556L,category#2553])\n                                             +- Project [merchant_abn#2552L AS tagged_merchant_abn#2556L, category#2553]\n                                                +- Relation [merchant_abn#2552L,category#2553] parquet\n",
     "output_type": "error",
     "traceback": [
      "\u001b[0;31m---------------------------------------------------------------------------\u001b[0m",
      "\u001b[0;31mAnalysisException\u001b[0m                         Traceback (most recent call last)",
      "\u001b[1;32m/Users/Kasturi/Documents/GitHub/generic-buy-now-pay-later-project-group-10-bnpl/notebooks/Revenue Model.ipynb Cell 23\u001b[0m in \u001b[0;36m<cell line: 3>\u001b[0;34m()\u001b[0m\n\u001b[1;32m      <a href='vscode-notebook-cell:/Users/Kasturi/Documents/GitHub/generic-buy-now-pay-later-project-group-10-bnpl/notebooks/Revenue%20Model.ipynb#W0sZmlsZQ%3D%3D?line=0'>1</a>\u001b[0m a\u001b[39m.\u001b[39mcreateOrReplaceTempView(\u001b[39m\"\u001b[39m\u001b[39mtemp\u001b[39m\u001b[39m\"\u001b[39m)\n\u001b[0;32m----> <a href='vscode-notebook-cell:/Users/Kasturi/Documents/GitHub/generic-buy-now-pay-later-project-group-10-bnpl/notebooks/Revenue%20Model.ipynb#W0sZmlsZQ%3D%3D?line=2'>3</a>\u001b[0m c \u001b[39m=\u001b[39m spark\u001b[39m.\u001b[39;49msql(\u001b[39m\"\"\"\u001b[39;49m\u001b[39m \u001b[39;49m\n\u001b[1;32m      <a href='vscode-notebook-cell:/Users/Kasturi/Documents/GitHub/generic-buy-now-pay-later-project-group-10-bnpl/notebooks/Revenue%20Model.ipynb#W0sZmlsZQ%3D%3D?line=3'>4</a>\u001b[0m \n\u001b[1;32m      <a href='vscode-notebook-cell:/Users/Kasturi/Documents/GitHub/generic-buy-now-pay-later-project-group-10-bnpl/notebooks/Revenue%20Model.ipynb#W0sZmlsZQ%3D%3D?line=4'>5</a>\u001b[0m \u001b[39mSELECT *\u001b[39;49m\n\u001b[1;32m      <a href='vscode-notebook-cell:/Users/Kasturi/Documents/GitHub/generic-buy-now-pay-later-project-group-10-bnpl/notebooks/Revenue%20Model.ipynb#W0sZmlsZQ%3D%3D?line=5'>6</a>\u001b[0m \u001b[39mFROM temp\u001b[39;49m\n\u001b[1;32m      <a href='vscode-notebook-cell:/Users/Kasturi/Documents/GitHub/generic-buy-now-pay-later-project-group-10-bnpl/notebooks/Revenue%20Model.ipynb#W0sZmlsZQ%3D%3D?line=6'>7</a>\u001b[0m \u001b[39mGROUP BY merchant_name\u001b[39;49m\n\u001b[1;32m      <a href='vscode-notebook-cell:/Users/Kasturi/Documents/GitHub/generic-buy-now-pay-later-project-group-10-bnpl/notebooks/Revenue%20Model.ipynb#W0sZmlsZQ%3D%3D?line=7'>8</a>\u001b[0m \u001b[39m\"\"\"\u001b[39;49m)\n\u001b[1;32m     <a href='vscode-notebook-cell:/Users/Kasturi/Documents/GitHub/generic-buy-now-pay-later-project-group-10-bnpl/notebooks/Revenue%20Model.ipynb#W0sZmlsZQ%3D%3D?line=9'>10</a>\u001b[0m c\u001b[39m.\u001b[39mlimit(\u001b[39m5\u001b[39m)\n",
      "File \u001b[0;32m~/opt/anaconda3/lib/python3.9/site-packages/pyspark/sql/session.py:1034\u001b[0m, in \u001b[0;36mSparkSession.sql\u001b[0;34m(self, sqlQuery, **kwargs)\u001b[0m\n\u001b[1;32m   1032\u001b[0m     sqlQuery \u001b[39m=\u001b[39m formatter\u001b[39m.\u001b[39mformat(sqlQuery, \u001b[39m*\u001b[39m\u001b[39m*\u001b[39mkwargs)\n\u001b[1;32m   1033\u001b[0m \u001b[39mtry\u001b[39;00m:\n\u001b[0;32m-> 1034\u001b[0m     \u001b[39mreturn\u001b[39;00m DataFrame(\u001b[39mself\u001b[39;49m\u001b[39m.\u001b[39;49m_jsparkSession\u001b[39m.\u001b[39;49msql(sqlQuery), \u001b[39mself\u001b[39m)\n\u001b[1;32m   1035\u001b[0m \u001b[39mfinally\u001b[39;00m:\n\u001b[1;32m   1036\u001b[0m     \u001b[39mif\u001b[39;00m \u001b[39mlen\u001b[39m(kwargs) \u001b[39m>\u001b[39m \u001b[39m0\u001b[39m:\n",
      "File \u001b[0;32m~/opt/anaconda3/lib/python3.9/site-packages/py4j/java_gateway.py:1321\u001b[0m, in \u001b[0;36mJavaMember.__call__\u001b[0;34m(self, *args)\u001b[0m\n\u001b[1;32m   1315\u001b[0m command \u001b[39m=\u001b[39m proto\u001b[39m.\u001b[39mCALL_COMMAND_NAME \u001b[39m+\u001b[39m\\\n\u001b[1;32m   1316\u001b[0m     \u001b[39mself\u001b[39m\u001b[39m.\u001b[39mcommand_header \u001b[39m+\u001b[39m\\\n\u001b[1;32m   1317\u001b[0m     args_command \u001b[39m+\u001b[39m\\\n\u001b[1;32m   1318\u001b[0m     proto\u001b[39m.\u001b[39mEND_COMMAND_PART\n\u001b[1;32m   1320\u001b[0m answer \u001b[39m=\u001b[39m \u001b[39mself\u001b[39m\u001b[39m.\u001b[39mgateway_client\u001b[39m.\u001b[39msend_command(command)\n\u001b[0;32m-> 1321\u001b[0m return_value \u001b[39m=\u001b[39m get_return_value(\n\u001b[1;32m   1322\u001b[0m     answer, \u001b[39mself\u001b[39;49m\u001b[39m.\u001b[39;49mgateway_client, \u001b[39mself\u001b[39;49m\u001b[39m.\u001b[39;49mtarget_id, \u001b[39mself\u001b[39;49m\u001b[39m.\u001b[39;49mname)\n\u001b[1;32m   1324\u001b[0m \u001b[39mfor\u001b[39;00m temp_arg \u001b[39min\u001b[39;00m temp_args:\n\u001b[1;32m   1325\u001b[0m     temp_arg\u001b[39m.\u001b[39m_detach()\n",
      "File \u001b[0;32m~/opt/anaconda3/lib/python3.9/site-packages/pyspark/sql/utils.py:196\u001b[0m, in \u001b[0;36mcapture_sql_exception.<locals>.deco\u001b[0;34m(*a, **kw)\u001b[0m\n\u001b[1;32m    192\u001b[0m converted \u001b[39m=\u001b[39m convert_exception(e\u001b[39m.\u001b[39mjava_exception)\n\u001b[1;32m    193\u001b[0m \u001b[39mif\u001b[39;00m \u001b[39mnot\u001b[39;00m \u001b[39misinstance\u001b[39m(converted, UnknownException):\n\u001b[1;32m    194\u001b[0m     \u001b[39m# Hide where the exception came from that shows a non-Pythonic\u001b[39;00m\n\u001b[1;32m    195\u001b[0m     \u001b[39m# JVM exception message.\u001b[39;00m\n\u001b[0;32m--> 196\u001b[0m     \u001b[39mraise\u001b[39;00m converted \u001b[39mfrom\u001b[39;00m \u001b[39mNone\u001b[39m\n\u001b[1;32m    197\u001b[0m \u001b[39melse\u001b[39;00m:\n\u001b[1;32m    198\u001b[0m     \u001b[39mraise\u001b[39;00m\n",
      "\u001b[0;31mAnalysisException\u001b[0m: expression 'temp.merchant_abn' is neither present in the group by, nor is it an aggregate function. Add to group by or wrap in first() (or first_value) if you don't care which value you get.;\nAggregate [merchant_name#193], [merchant_name#193, merchant_abn#31L, categories#170, take_rate#175, revenue_levels#181, name#17, address#18, state#19, gender#21, trans_merchant_abn#214L, dollar_value#41, order_id#42, order_datetime#43, user_id#35L, consumer_id#36L, postcodes#315, int_sa2#499, SA2_code#535L, SA2_name#536, income_2018-2019#537L, total_males#538L, total_females#539L, total_persons#540L, state_code#541L, ... 8 more fields]\n+- SubqueryAlias temp\n   +- View (`temp`, [merchant_name#193,merchant_abn#31L,categories#170,take_rate#175,revenue_levels#181,name#17,address#18,state#19,gender#21,trans_merchant_abn#214L,dollar_value#41,order_id#42,order_datetime#43,user_id#35L,consumer_id#36L,postcodes#315,int_sa2#499,SA2_code#535L,SA2_name#536,income_2018-2019#537L,total_males#538L,total_females#539L,total_persons#540L,state_code#541L,state_name#542,population_2020#543L,population_2021#544L,category#2553,total_earning#2677,Year#2824,Month#2856,week_day_abb#2888])\n      +- Project [merchant_name#193, merchant_abn#31L, categories#170, take_rate#175, revenue_levels#181, name#17, address#18, state#19, gender#21, trans_merchant_abn#214L, dollar_value#41, order_id#42, order_datetime#43, user_id#35L, consumer_id#36L, postcodes#315, int_sa2#499, SA2_code#535L, SA2_name#536, income_2018-2019#537L, total_males#538L, total_females#539L, total_persons#540L, state_code#541L, ... 8 more fields]\n         +- Project [merchant_name#193, merchant_abn#31L, categories#170, take_rate#175, revenue_levels#181, name#17, address#18, state#19, gender#21, trans_merchant_abn#214L, dollar_value#41, order_id#42, order_datetime#43, user_id#35L, consumer_id#36L, postcodes#315, int_sa2#499, SA2_code#535L, SA2_name#536, income_2018-2019#537L, total_males#538L, total_females#539L, total_persons#540L, state_code#541L, ... 7 more fields]\n            +- Project [merchant_name#193, merchant_abn#31L, categories#170, take_rate#175, revenue_levels#181, name#17, address#18, state#19, gender#21, trans_merchant_abn#214L, dollar_value#41, order_id#42, order_datetime#43, user_id#35L, consumer_id#36L, postcodes#315, int_sa2#499, SA2_code#535L, SA2_name#536, income_2018-2019#537L, total_males#538L, total_females#539L, total_persons#540L, state_code#541L, ... 7 more fields]\n               +- Project [merchant_name#193, merchant_abn#31L, categories#170, take_rate#175, revenue_levels#181, name#17, address#18, state#19, gender#21, trans_merchant_abn#214L, dollar_value#41, order_id#42, order_datetime#43, user_id#35L, consumer_id#36L, postcodes#315, int_sa2#499, SA2_code#535L, SA2_name#536, income_2018-2019#537L, total_males#538L, total_females#539L, total_persons#540L, state_code#541L, ... 7 more fields]\n                  +- Project [merchant_name#193, merchant_abn#31L, categories#170, take_rate#175, revenue_levels#181, name#17, address#18, state#19, gender#21, trans_merchant_abn#214L, dollar_value#41, order_id#42, order_datetime#43, user_id#35L, consumer_id#36L, postcodes#315, int_sa2#499, SA2_code#535L, SA2_name#536, income_2018-2019#537L, total_males#538L, total_females#539L, total_persons#540L, state_code#541L, ... 6 more fields]\n                     +- Project [merchant_name#193, merchant_abn#31L, categories#170, take_rate#175, revenue_levels#181, name#17, address#18, state#19, gender#21, trans_merchant_abn#214L, dollar_value#41, order_id#42, order_datetime#43, user_id#35L, consumer_id#36L, postcodes#315, int_sa2#499, SA2_code#535L, SA2_name#536, income_2018-2019#537L, total_males#538L, total_females#539L, total_persons#540L, state_code#541L, ... 5 more fields]\n                        +- SubqueryAlias group\n                           +- View (`group`, [merchant_name#193,merchant_abn#31L,categories#170,take_rate#175,revenue_levels#181,name#17,address#18,state#19,gender#21,trans_merchant_abn#214L,dollar_value#41,order_id#42,order_datetime#43,user_id#35L,consumer_id#36L,postcodes#315,int_sa2#499,SA2_code#535L,SA2_name#536,income_2018-2019#537L,total_males#538L,total_females#539L,total_persons#540L,state_code#541L,state_name#542,population_2020#543L,population_2021#544L,category#2553])\n                              +- Project [merchant_name#193, merchant_abn#31L, categories#170, take_rate#175, revenue_levels#181, name#17, address#18, state#19, gender#21, trans_merchant_abn#214L, dollar_value#41, order_id#42, order_datetime#43, user_id#35L, consumer_id#36L, postcodes#315, int_sa2#499, SA2_code#535L, SA2_name#536, income_2018-2019#537L, total_males#538L, total_females#539L, total_persons#540L, state_code#541L, ... 4 more fields]\n                                 +- Project [merchant_name#193, merchant_abn#31L, categories#170, take_rate#175, revenue_levels#181, name#17, address#18, state#19, gender#21, trans_merchant_abn#214L, dollar_value#41, order_id#42, order_datetime#43, user_id#35L, consumer_id#36L, postcodes#315, int_sa2#499, SA2_code#535L, SA2_name#536, income_2018-2019#537L, total_males#538L, total_females#539L, total_persons#540L, state_code#541L, ... 5 more fields]\n                                    +- Join LeftOuter, (merchant_abn#31L = tagged_merchant_abn#2556L)\n                                       :- SubqueryAlias join\n                                       :  +- View (`join`, [merchant_name#193,merchant_abn#31L,categories#170,take_rate#175,revenue_levels#181,name#17,address#18,state#19,gender#21,trans_merchant_abn#214L,dollar_value#41,order_id#42,order_datetime#43,user_id#35L,consumer_id#36L,postcodes#315,int_sa2#499,SA2_code#535L,SA2_name#536,income_2018-2019#537L,total_males#538L,total_females#539L,total_persons#540L,state_code#541L,state_name#542,population_2020#543L,population_2021#544L])\n                                       :     +- Project [merchant_name#193, merchant_abn#31L, categories#170, take_rate#175, revenue_levels#181, name#17, address#18, state#19, gender#21, trans_merchant_abn#214L, dollar_value#41, order_id#42, order_datetime#43, user_id#35L, consumer_id#36L, postcodes#315, int_sa2#499, SA2_code#535L, SA2_name#536, income_2018-2019#537L, total_males#538L, total_females#539L, total_persons#540L, state_code#541L, ... 3 more fields]\n                                       :        +- Join Inner, (cast(int_sa2#499 as bigint) = SA2_code#535L)\n                                       :           :- Project [merchant_name#193, merchant_abn#31L, categories#170, take_rate#175, revenue_levels#181, name#17, address#18, state#19, gender#21, trans_merchant_abn#214L, dollar_value#41, order_id#42, order_datetime#43, user_id#35L, consumer_id#36L, postcodes#315, int_sa2#499]\n                                       :           :  +- Project [merchant_name#193, merchant_abn#31L, categories#170, take_rate#175, revenue_levels#181, name#17, address#18, state#19, gender#21, trans_merchant_abn#214L, dollar_value#41, order_id#42, order_datetime#43, user_id#35L, consumer_id#36L, postcodes#315, sa2#316, cast(sa2#316 as int) AS int_sa2#499]\n                                       :           :     +- Project [merchant_name#193, merchant_abn#31L, categories#170, take_rate#175, revenue_levels#181, name#17, address#18, state#19, gender#21, trans_merchant_abn#214L, dollar_value#41, order_id#42, order_datetime#43, user_id#35L, consumer_id#36L, postcodes#315, sa2#316]\n                                       :           :        +- Join Inner, (postcode#20 = postcodes#315)\n                                       :           :           :- Project [merchant_name#193, merchant_abn#31L, categories#170, take_rate#175, revenue_levels#181, name#17, address#18, state#19, postcode#20, gender#21, trans_merchant_abn#214L, dollar_value#41, order_id#42, order_datetime#43, user_id#35L, consumer_id#36L]\n                                       :           :           :  +- Project [merchant_name#193, merchant_abn#31L, categories#170, take_rate#175, revenue_levels#181, name#17, address#18, state#19, postcode#20, gender#21, trans_user_id#220L, trans_merchant_abn#214L, dollar_value#41, order_id#42, order_datetime#43, user_id#35L, consumer_id#36L]\n                                       :           :           :     +- Join FullOuter, (merchant_abn#31L = trans_merchant_abn#214L)\n                                       :           :           :        :- Project [name#29 AS merchant_name#193, merchant_abn#31L, categories#170, take_rate#175, revenue_levels#181]\n                                       :           :           :        :  +- Project [name#29, merchant_abn#31L, categories#170, take_rate#175, revenue_levels#181]\n                                       :           :           :        :     +- Project [name#29, tags#166, merchant_abn#31L, categories#170, take_rate#175, split(tags#166, [)\\]], [\\[(], -1)[1] AS revenue_levels#181]\n                                       :           :           :        :        +- Project [name#29, tags#166, merchant_abn#31L, categories#170, cast(split(tags#166, [)\\]], [\\[(]take rate: , -1)[1] as double) AS take_rate#175]\n                                       :           :           :        :           +- Project [name#29, tags#166, merchant_abn#31L, split(tags#166, [)\\]], [\\[(], -1)[0] AS categories#170]\n                                       :           :           :        :              +- Project [name#29, regexp_replace(tags#161, [\\[(][\\[(], , 1) AS tags#166, merchant_abn#31L]\n                                       :           :           :        :                 +- Project [name#29, regexp_replace(tags#30, [\\])][\\])], , 1) AS tags#161, merchant_abn#31L]\n                                       :           :           :        :                    +- Relation [name#29,tags#30,merchant_abn#31L] parquet\n                                       :           :           :        +- Join Inner, (int_consumer_id#199L = consumer_id#36L)\n                                       :           :           :           :- Project [name#17, address#18, state#19, postcode#20, gender#21, int_consumer_id#199L]\n                                       :           :           :           :  +- Project [name#17, address#18, state#19, postcode#20, gender#21, consumer_id#22, cast(consumer_id#22 as bigint) AS int_consumer_id#199L]\n                                       :           :           :           :     +- Relation [name#17,address#18,state#19,postcode#20,gender#21,consumer_id#22] csv\n                                       :           :           :           +- Join Inner, (trans_user_id#220L = user_id#35L)\n                                       :           :           :              :- Project [user_id#39L AS trans_user_id#220L, trans_merchant_abn#214L, dollar_value#41, order_id#42, order_datetime#43]\n                                       :           :           :              :  +- Project [user_id#39L, merchant_abn#40L AS trans_merchant_abn#214L, dollar_value#41, order_id#42, order_datetime#43]\n                                       :           :           :              :     +- Sort [order_datetime#43 ASC NULLS FIRST], true\n                                       :           :           :              :        +- Deduplicate [order_id#42, order_datetime#43, user_id#39L, dollar_value#41, merchant_abn#40L]\n                                       :           :           :              :           +- Union false, false\n                                       :           :           :              :              :- Deduplicate [order_id#42, order_datetime#43, user_id#39L, dollar_value#41, merchant_abn#40L]\n                                       :           :           :              :              :  +- Union false, false\n                                       :           :           :              :              :     :- Relation [user_id#39L,merchant_abn#40L,dollar_value#41,order_id#42,order_datetime#43] parquet\n                                       :           :           :              :              :     +- Relation [user_id#49L,merchant_abn#50L,dollar_value#51,order_id#52,order_datetime#53] parquet\n                                       :           :           :              :              +- Relation [user_id#59L,merchant_abn#60L,dollar_value#61,order_id#62,order_datetime#63] parquet\n                                       :           :           :              +- Relation [user_id#35L,consumer_id#36L] parquet\n                                       :           :           +- Deduplicate [postcodes#315]\n                                       :           :              +- Filter atleastnnonnulls(2, postcodes#315, sa2#316)\n                                       :           :                 +- Project [postcode#244 AS postcodes#315, SA2_MAINCODE_2016#261 AS sa2#316]\n                                       :           :                    +- Relation [id#243,postcode#244,locality#245,state#246,long#247,lat#248,dc#249,type#250,status#251,sa3#252,sa3name#253,sa4#254,sa4name#255,region#256,Lat_precise#257,Long_precise#258,SA1_MAINCODE_2011#259,SA1_MAINCODE_2016#260,SA2_MAINCODE_2016#261,SA2_NAME_2016#262,SA3_CODE_2016#263,SA3_NAME_2016#264,SA4_CODE_2016#265,SA4_NAME_2016#266,... 12 more fields] csv\n                                       :           +- LogicalRDD [SA2_code#535L, SA2_name#536, income_2018-2019#537L, total_males#538L, total_females#539L, total_persons#540L, state_code#541L, state_name#542, population_2020#543L, population_2021#544L], false\n                                       +- SubqueryAlias tagged\n                                          +- View (`tagged`, [tagged_merchant_abn#2556L,category#2553])\n                                             +- Project [merchant_abn#2552L AS tagged_merchant_abn#2556L, category#2553]\n                                                +- Relation [merchant_abn#2552L,category#2553] parquet\n"
     ]
    }
   ],
   "source": [
    "a.createOrReplaceTempView(\"temp\")\n",
    "\n",
    "c = spark.sql(\"\"\" \n",
    "\n",
    "SELECT *\n",
    "FROM temp\n",
    "GROUP BY merchant_name\n",
    "\"\"\")\n",
    "\n",
    "c.limit(5)"
   ]
  },
  {
   "cell_type": "code",
   "execution_count": null,
   "metadata": {},
   "outputs": [],
   "source": []
  }
 ],
 "metadata": {
  "kernelspec": {
   "display_name": "Python 3.9.12 ('base')",
   "language": "python",
   "name": "python3"
  },
  "language_info": {
   "codemirror_mode": {
    "name": "ipython",
    "version": 3
   },
   "file_extension": ".py",
   "mimetype": "text/x-python",
   "name": "python",
   "nbconvert_exporter": "python",
   "pygments_lexer": "ipython3",
   "version": "3.9.12"
  },
  "orig_nbformat": 4,
  "vscode": {
   "interpreter": {
    "hash": "afcda84b7471a9b9fde108a34f159f021985318d3feb99cad4970c959fa9ac9e"
   }
  }
 },
 "nbformat": 4,
 "nbformat_minor": 2
}
