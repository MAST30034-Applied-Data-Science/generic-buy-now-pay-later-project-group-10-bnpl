{
 "cells": [
  {
   "cell_type": "markdown",
   "id": "fe37e186-51dc-4750-8546-7295d2b8b5d2",
   "metadata": {},
   "source": [
    "## Predicting the number of customers"
   ]
  },
  {
   "cell_type": "code",
   "execution_count": 1,
   "id": "6c2887cd-b1e4-426f-a621-fa71a1400ead",
   "metadata": {},
   "outputs": [
    {
     "name": "stderr",
     "output_type": "stream",
     "text": [
      "Setting default log level to \"WARN\".\n",
      "To adjust logging level use sc.setLogLevel(newLevel). For SparkR, use setLogLevel(newLevel).\n"
     ]
    },
    {
     "name": "stdout",
     "output_type": "stream",
     "text": [
      "22/10/04 01:49:23 WARN NativeCodeLoader: Unable to load native-hadoop library for your platform... using builtin-java classes where applicable\n",
      "22/10/04 01:49:23 WARN Utils: Service 'SparkUI' could not bind on port 4040. Attempting port 4041.\n"
     ]
    },
    {
     "name": "stderr",
     "output_type": "stream",
     "text": [
      "                                                                                \r"
     ]
    }
   ],
   "source": [
    "# Read in data from ETL.py file\n",
    "%run '../scripts/ETL.py' '../scripts/paths.json'"
   ]
  },
  {
   "cell_type": "code",
   "execution_count": 2,
   "id": "d8b48461-bb21-4ddc-9312-db92d3870dd3",
   "metadata": {},
   "outputs": [],
   "source": [
    "data = spark.read.parquet(\"../data/tables/full_join.parquet\")"
   ]
  },
  {
   "cell_type": "code",
   "execution_count": 3,
   "id": "4a8fc9c4-00e8-42dc-a6e2-db24f5172574",
   "metadata": {},
   "outputs": [
    {
     "data": {
      "text/html": [
       "<table border='1'>\n",
       "<tr><th>merchant_name</th><th>merchant_abn</th><th>categories</th><th>take_rate</th><th>revenue_levels</th><th>name</th><th>address</th><th>state</th><th>postcode</th><th>gender</th><th>trans_merchant_abn</th><th>dollar_value</th><th>order_id</th><th>order_datetime</th><th>user_id</th><th>consumer_id</th></tr>\n",
       "<tr><td>Nullam Nisl Insti...</td><td>15912561882</td><td>shoe shops</td><td>3.72</td><td>b</td><td>Allison Stevens</td><td>60866 Miller Avenue</td><td>NSW</td><td>1193</td><td>Female</td><td>15912561882</td><td>28.083206954036427</td><td>bf851e23-d713-441...</td><td>2021-09-06</td><td>6305</td><td>6834</td></tr>\n",
       "<tr><td>Nullam Nisl Insti...</td><td>15912561882</td><td>shoe shops</td><td>3.72</td><td>b</td><td>Allison Stevens</td><td>60866 Miller Avenue</td><td>NSW</td><td>1193</td><td>Female</td><td>15912561882</td><td>13.671791104152105</td><td>0cad39e4-71f7-47c...</td><td>2021-11-27</td><td>6305</td><td>6834</td></tr>\n",
       "<tr><td>Nullam Nisl Insti...</td><td>15912561882</td><td>shoe shops</td><td>3.72</td><td>b</td><td>Lawrence Tyler</td><td>3511 Victoria Meadow</td><td>NSW</td><td>2212</td><td>Male</td><td>15912561882</td><td>235.75679877020391</td><td>3fdd2acd-3b77-4c2...</td><td>2021-06-18</td><td>18983</td><td>36103</td></tr>\n",
       "<tr><td>Nullam Nisl Insti...</td><td>15912561882</td><td>shoe shops</td><td>3.72</td><td>b</td><td>Ryan Crawford</td><td>7107 Michelle Har...</td><td>NSW</td><td>1126</td><td>Male</td><td>15912561882</td><td>284.642162569933</td><td>f8303e6b-78f6-481...</td><td>2021-04-29</td><td>12285</td><td>37894</td></tr>\n",
       "<tr><td>Nullam Nisl Insti...</td><td>15912561882</td><td>shoe shops</td><td>3.72</td><td>b</td><td>Alexander Skinner</td><td>35694 Kimberly Co...</td><td>VIC</td><td>3053</td><td>Male</td><td>15912561882</td><td>213.64355235308224</td><td>4b193807-a752-4f6...</td><td>2021-07-26</td><td>9248</td><td>147322</td></tr>\n",
       "</table>\n"
      ],
      "text/plain": [
       "+--------------------+------------+----------+---------+--------------+-----------------+--------------------+-----+--------+------+------------------+------------------+--------------------+--------------+-------+-----------+\n",
       "|       merchant_name|merchant_abn|categories|take_rate|revenue_levels|             name|             address|state|postcode|gender|trans_merchant_abn|      dollar_value|            order_id|order_datetime|user_id|consumer_id|\n",
       "+--------------------+------------+----------+---------+--------------+-----------------+--------------------+-----+--------+------+------------------+------------------+--------------------+--------------+-------+-----------+\n",
       "|Nullam Nisl Insti...| 15912561882|shoe shops|     3.72|             b|  Allison Stevens| 60866 Miller Avenue|  NSW|    1193|Female|       15912561882|28.083206954036427|bf851e23-d713-441...|    2021-09-06|   6305|       6834|\n",
       "|Nullam Nisl Insti...| 15912561882|shoe shops|     3.72|             b|  Allison Stevens| 60866 Miller Avenue|  NSW|    1193|Female|       15912561882|13.671791104152105|0cad39e4-71f7-47c...|    2021-11-27|   6305|       6834|\n",
       "|Nullam Nisl Insti...| 15912561882|shoe shops|     3.72|             b|   Lawrence Tyler|3511 Victoria Meadow|  NSW|    2212|  Male|       15912561882|235.75679877020391|3fdd2acd-3b77-4c2...|    2021-06-18|  18983|      36103|\n",
       "|Nullam Nisl Insti...| 15912561882|shoe shops|     3.72|             b|    Ryan Crawford|7107 Michelle Har...|  NSW|    1126|  Male|       15912561882|  284.642162569933|f8303e6b-78f6-481...|    2021-04-29|  12285|      37894|\n",
       "|Nullam Nisl Insti...| 15912561882|shoe shops|     3.72|             b|Alexander Skinner|35694 Kimberly Co...|  VIC|    3053|  Male|       15912561882|213.64355235308224|4b193807-a752-4f6...|    2021-07-26|   9248|     147322|\n",
       "+--------------------+------------+----------+---------+--------------+-----------------+--------------------+-----+--------+------+------------------+------------------+--------------------+--------------+-------+-----------+"
      ]
     },
     "execution_count": 3,
     "metadata": {},
     "output_type": "execute_result"
    }
   ],
   "source": [
    "data.limit(5)"
   ]
  },
  {
   "cell_type": "code",
   "execution_count": 16,
   "id": "0214036a-1f88-4a8d-83ea-00a7c5836cc8",
   "metadata": {},
   "outputs": [],
   "source": [
    "subset = data.select(\"merchant_name\", \"merchant_abn\", \"order_datetime\")"
   ]
  },
  {
   "cell_type": "code",
   "execution_count": 17,
   "id": "0966515b-640b-4386-8c37-2c2df083628e",
   "metadata": {},
   "outputs": [
    {
     "name": "stdout",
     "output_type": "stream",
     "text": [
      "root\n",
      " |-- merchant_name: string (nullable = true)\n",
      " |-- merchant_abn: long (nullable = true)\n",
      " |-- order_datetime: date (nullable = true)\n",
      "\n"
     ]
    }
   ],
   "source": [
    "subset.printSchema()"
   ]
  },
  {
   "cell_type": "code",
   "execution_count": null,
   "id": "20a12db2-24e5-4130-960c-616b95496231",
   "metadata": {},
   "outputs": [],
   "source": []
  },
  {
   "cell_type": "markdown",
   "id": "8be8a8cd-18d2-4ec6-af14-6b3bb77b2cd5",
   "metadata": {},
   "source": [
    "### Creating Features By Day"
   ]
  },
  {
   "cell_type": "code",
   "execution_count": 4,
   "id": "75e0bc8d-270d-486b-b3e3-3a8c59e3ba40",
   "metadata": {},
   "outputs": [
    {
     "name": "stderr",
     "output_type": "stream",
     "text": [
      "                                                                                \r"
     ]
    },
    {
     "data": {
      "text/html": [
       "<table border='1'>\n",
       "<tr><th>merchant_name</th><th>merchant_abn</th><th>order_datetime</th><th>null</th><th>ACT</th><th>NSW</th><th>NT</th><th>QLD</th><th>SA</th><th>TAS</th><th>VIC</th><th>WA</th></tr>\n",
       "<tr><td>Mollis Duis Consu...</td><td>73619221575</td><td>2022-01-26</td><td>0</td><td>0</td><td>2</td><td>0</td><td>1</td><td>0</td><td>0</td><td>1</td><td>0</td></tr>\n",
       "<tr><td>Tellus Aenean Cor...</td><td>27326652377</td><td>2021-03-21</td><td>0</td><td>0</td><td>3</td><td>0</td><td>2</td><td>1</td><td>1</td><td>0</td><td>0</td></tr>\n",
       "<tr><td>Nisi Limited</td><td>15269431008</td><td>2021-11-25</td><td>0</td><td>0</td><td>12</td><td>0</td><td>12</td><td>3</td><td>0</td><td>7</td><td>1</td></tr>\n",
       "<tr><td>Maecenas Mi LLC</td><td>18653260078</td><td>2021-03-22</td><td>0</td><td>0</td><td>2</td><td>0</td><td>0</td><td>1</td><td>0</td><td>2</td><td>2</td></tr>\n",
       "<tr><td>Commodo Ipsum Ind...</td><td>19492220327</td><td>2021-12-09</td><td>0</td><td>0</td><td>1</td><td>0</td><td>0</td><td>0</td><td>0</td><td>0</td><td>0</td></tr>\n",
       "</table>\n"
      ],
      "text/plain": [
       "+--------------------+------------+--------------+----+---+---+---+---+---+---+---+---+\n",
       "|       merchant_name|merchant_abn|order_datetime|null|ACT|NSW| NT|QLD| SA|TAS|VIC| WA|\n",
       "+--------------------+------------+--------------+----+---+---+---+---+---+---+---+---+\n",
       "|Mollis Duis Consu...| 73619221575|    2022-01-26|   0|  0|  2|  0|  1|  0|  0|  1|  0|\n",
       "|Tellus Aenean Cor...| 27326652377|    2021-03-21|   0|  0|  3|  0|  2|  1|  1|  0|  0|\n",
       "|        Nisi Limited| 15269431008|    2021-11-25|   0|  0| 12|  0| 12|  3|  0|  7|  1|\n",
       "|     Maecenas Mi LLC| 18653260078|    2021-03-22|   0|  0|  2|  0|  0|  1|  0|  2|  2|\n",
       "|Commodo Ipsum Ind...| 19492220327|    2021-12-09|   0|  0|  1|  0|  0|  0|  0|  0|  0|\n",
       "+--------------------+------------+--------------+----+---+---+---+---+---+---+---+---+"
      ]
     },
     "execution_count": 4,
     "metadata": {},
     "output_type": "execute_result"
    }
   ],
   "source": [
    "from pyspark.sql import functions as F\n",
    "\n",
    "states = data.groupBy(\"merchant_name\", \"merchant_abn\", \"order_datetime\").pivot('state').count().fillna(0)\n",
    "states.limit(5)"
   ]
  },
  {
   "cell_type": "code",
   "execution_count": 5,
   "id": "0588b024-8448-4161-b4a9-f7a908ff7053",
   "metadata": {},
   "outputs": [
    {
     "name": "stderr",
     "output_type": "stream",
     "text": [
      "                                                                                \r"
     ]
    },
    {
     "data": {
      "text/html": [
       "<table border='1'>\n",
       "<tr><th>merchant_name</th><th>merchant_abn</th><th>order_datetime</th><th>count</th></tr>\n",
       "<tr><td>Nullam Nisl Insti...</td><td>15912561882</td><td>2021-03-07</td><td>9</td></tr>\n",
       "<tr><td>Nullam Nisl Insti...</td><td>15912561882</td><td>2021-03-03</td><td>15</td></tr>\n",
       "<tr><td>Aliquet Sem Ut LLP</td><td>18651012250</td><td>2021-12-10</td><td>1</td></tr>\n",
       "<tr><td>In Consequat LLC</td><td>22900076341</td><td>2021-07-08</td><td>1</td></tr>\n",
       "<tr><td>In Consequat LLC</td><td>22900076341</td><td>2021-12-31</td><td>1</td></tr>\n",
       "</table>\n"
      ],
      "text/plain": [
       "+--------------------+------------+--------------+-----+\n",
       "|       merchant_name|merchant_abn|order_datetime|count|\n",
       "+--------------------+------------+--------------+-----+\n",
       "|Nullam Nisl Insti...| 15912561882|    2021-03-07|    9|\n",
       "|Nullam Nisl Insti...| 15912561882|    2021-03-03|   15|\n",
       "|  Aliquet Sem Ut LLP| 18651012250|    2021-12-10|    1|\n",
       "|    In Consequat LLC| 22900076341|    2021-07-08|    1|\n",
       "|    In Consequat LLC| 22900076341|    2021-12-31|    1|\n",
       "+--------------------+------------+--------------+-----+"
      ]
     },
     "execution_count": 5,
     "metadata": {},
     "output_type": "execute_result"
    }
   ],
   "source": [
    "total_count = data.groupBy(\"merchant_name\", \"merchant_abn\", \"order_datetime\").count()\n",
    "total_count.limit(5)"
   ]
  },
  {
   "cell_type": "code",
   "execution_count": 6,
   "id": "a1c8b92a-a0f1-46c8-9930-f44924b45565",
   "metadata": {},
   "outputs": [
    {
     "name": "stderr",
     "output_type": "stream",
     "text": [
      "                                                                                \r"
     ]
    },
    {
     "data": {
      "text/html": [
       "<table border='1'>\n",
       "<tr><th>merchant_name</th><th>merchant_abn</th><th>order_datetime</th><th>null</th><th>Female</th><th>Male</th><th>Undisclosed</th></tr>\n",
       "<tr><td>In Consequat LLC</td><td>22900076341</td><td>2021-07-08</td><td>0</td><td>1</td><td>0</td><td>0</td></tr>\n",
       "<tr><td>Neque Incorporated</td><td>72857570096</td><td>2021-03-27</td><td>0</td><td>2</td><td>4</td><td>1</td></tr>\n",
       "<tr><td>Nullam Nisl Insti...</td><td>15912561882</td><td>2021-03-03</td><td>0</td><td>5</td><td>10</td><td>0</td></tr>\n",
       "<tr><td>Nunc Ullamcorper ...</td><td>30801495844</td><td>2022-02-18</td><td>0</td><td>3</td><td>8</td><td>0</td></tr>\n",
       "<tr><td>Scelerisque Corpo...</td><td>94729574738</td><td>2021-12-26</td><td>0</td><td>17</td><td>19</td><td>5</td></tr>\n",
       "</table>\n"
      ],
      "text/plain": [
       "+--------------------+------------+--------------+----+------+----+-----------+\n",
       "|       merchant_name|merchant_abn|order_datetime|null|Female|Male|Undisclosed|\n",
       "+--------------------+------------+--------------+----+------+----+-----------+\n",
       "|    In Consequat LLC| 22900076341|    2021-07-08|   0|     1|   0|          0|\n",
       "|  Neque Incorporated| 72857570096|    2021-03-27|   0|     2|   4|          1|\n",
       "|Nullam Nisl Insti...| 15912561882|    2021-03-03|   0|     5|  10|          0|\n",
       "|Nunc Ullamcorper ...| 30801495844|    2022-02-18|   0|     3|   8|          0|\n",
       "|Scelerisque Corpo...| 94729574738|    2021-12-26|   0|    17|  19|          5|\n",
       "+--------------------+------------+--------------+----+------+----+-----------+"
      ]
     },
     "execution_count": 6,
     "metadata": {},
     "output_type": "execute_result"
    }
   ],
   "source": [
    "genders = data.groupBy(\"merchant_name\", \"merchant_abn\", \"order_datetime\").pivot('gender').count().fillna(0)\n",
    "genders.limit(5)"
   ]
  },
  {
   "cell_type": "code",
   "execution_count": 7,
   "id": "e3386fac-34bf-4879-a42d-e8c1ff0dc175",
   "metadata": {},
   "outputs": [],
   "source": [
    "states = states.withColumnRenamed(\"merchant_name\", \"merchant_name_st\") \\\n",
    "    .withColumnRenamed(\"merchant_abn\", 'merchant_abn_st') \\\n",
    "    .withColumnRenamed(\"order_datetime\", 'order_datetime_st')\n",
    "\n",
    "genders = genders.withColumnRenamed(\"merchant_name\", \"merchant_name_g\") \\\n",
    "    .withColumnRenamed(\"merchant_abn\", 'merchant_abn_g') \\\n",
    "    .withColumnRenamed(\"order_datetime\", 'order_datetime_g')"
   ]
  },
  {
   "cell_type": "code",
   "execution_count": 8,
   "id": "7ffce578-bed7-48f1-9628-c66a1e733066",
   "metadata": {},
   "outputs": [],
   "source": [
    "# Joining data with features\n",
    "joined = total_count.join(states,(total_count[\"merchant_name\"] == states[\"merchant_name_st\"]) & \\\n",
    "                 (total_count[\"merchant_abn\"] == states[\"merchant_abn_st\"]) & \\\n",
    "                 (total_count[\"order_datetime\"] == states[\"order_datetime_st\"])) \\\n",
    "    .join(genders,(total_count[\"merchant_name\"] == genders[\"merchant_name_g\"]) & \\\n",
    "                 (total_count[\"merchant_abn\"] == genders[\"merchant_abn_g\"]) & \\\n",
    "                 (total_count[\"order_datetime\"] == genders[\"order_datetime_g\"]))"
   ]
  },
  {
   "cell_type": "code",
   "execution_count": 9,
   "id": "17875b86-8479-4d94-a71b-ebab033c210f",
   "metadata": {},
   "outputs": [
    {
     "name": "stderr",
     "output_type": "stream",
     "text": [
      "                                                                                \r"
     ]
    },
    {
     "data": {
      "text/html": [
       "<table border='1'>\n",
       "<tr><th>merchant_name</th><th>merchant_abn</th><th>order_datetime</th><th>count</th><th>null</th><th>ACT</th><th>NSW</th><th>NT</th><th>QLD</th><th>SA</th><th>TAS</th><th>VIC</th><th>WA</th><th>null</th><th>Female</th><th>Male</th><th>Undisclosed</th></tr>\n",
       "<tr><td>A Aliquet Ltd</td><td>22578135006</td><td>2021-03-30</td><td>3</td><td>0</td><td>0</td><td>2</td><td>0</td><td>0</td><td>1</td><td>0</td><td>0</td><td>0</td><td>0</td><td>3</td><td>0</td><td>0</td></tr>\n",
       "<tr><td>A Aliquet Ltd</td><td>22578135006</td><td>2021-03-31</td><td>1</td><td>0</td><td>0</td><td>0</td><td>0</td><td>1</td><td>0</td><td>0</td><td>0</td><td>0</td><td>0</td><td>1</td><td>0</td><td>0</td></tr>\n",
       "<tr><td>A Aliquet Ltd</td><td>22578135006</td><td>2021-04-02</td><td>1</td><td>0</td><td>0</td><td>1</td><td>0</td><td>0</td><td>0</td><td>0</td><td>0</td><td>0</td><td>0</td><td>1</td><td>0</td><td>0</td></tr>\n",
       "<tr><td>A Aliquet Ltd</td><td>22578135006</td><td>2021-04-04</td><td>1</td><td>0</td><td>0</td><td>1</td><td>0</td><td>0</td><td>0</td><td>0</td><td>0</td><td>0</td><td>0</td><td>0</td><td>1</td><td>0</td></tr>\n",
       "<tr><td>A Aliquet Ltd</td><td>22578135006</td><td>2021-04-07</td><td>1</td><td>0</td><td>0</td><td>0</td><td>0</td><td>0</td><td>0</td><td>0</td><td>1</td><td>0</td><td>0</td><td>0</td><td>0</td><td>1</td></tr>\n",
       "</table>\n"
      ],
      "text/plain": [
       "+-------------+------------+--------------+-----+----+---+---+---+---+---+---+---+---+----+------+----+-----------+\n",
       "|merchant_name|merchant_abn|order_datetime|count|null|ACT|NSW| NT|QLD| SA|TAS|VIC| WA|null|Female|Male|Undisclosed|\n",
       "+-------------+------------+--------------+-----+----+---+---+---+---+---+---+---+---+----+------+----+-----------+\n",
       "|A Aliquet Ltd| 22578135006|    2021-03-30|    3|   0|  0|  2|  0|  0|  1|  0|  0|  0|   0|     3|   0|          0|\n",
       "|A Aliquet Ltd| 22578135006|    2021-03-31|    1|   0|  0|  0|  0|  1|  0|  0|  0|  0|   0|     1|   0|          0|\n",
       "|A Aliquet Ltd| 22578135006|    2021-04-02|    1|   0|  0|  1|  0|  0|  0|  0|  0|  0|   0|     1|   0|          0|\n",
       "|A Aliquet Ltd| 22578135006|    2021-04-04|    1|   0|  0|  1|  0|  0|  0|  0|  0|  0|   0|     0|   1|          0|\n",
       "|A Aliquet Ltd| 22578135006|    2021-04-07|    1|   0|  0|  0|  0|  0|  0|  0|  1|  0|   0|     0|   0|          1|\n",
       "+-------------+------------+--------------+-----+----+---+---+---+---+---+---+---+---+----+------+----+-----------+"
      ]
     },
     "execution_count": 9,
     "metadata": {},
     "output_type": "execute_result"
    }
   ],
   "source": [
    "agg = joined.drop(\"merchant_name_st\", \"merchant_abn_st\", \"order_datetime_st\", \n",
    "                  \"merchant_name_g\", \"merchant_abn_g\", \"order_datetime_g\")\n",
    "\n",
    "agg.limit(5)"
   ]
  },
  {
   "cell_type": "code",
   "execution_count": null,
   "id": "42faad7d-6cc0-40a7-a5a5-911d0d685eae",
   "metadata": {},
   "outputs": [],
   "source": []
  },
  {
   "cell_type": "markdown",
   "id": "bf9f134c-0701-4ba0-9fda-77ed9d29f981",
   "metadata": {},
   "source": [
    "### Creating Features By Month"
   ]
  },
  {
   "cell_type": "code",
   "execution_count": 32,
   "id": "c1a9a8b4-94ea-4111-b92b-37f9b4f3e7cf",
   "metadata": {},
   "outputs": [
    {
     "name": "stderr",
     "output_type": "stream",
     "text": [
      "                                                                                \r"
     ]
    },
    {
     "data": {
      "text/html": [
       "<table border='1'>\n",
       "<tr><th>merchant_name</th><th>merchant_abn</th><th>year</th><th>month</th><th>categories</th><th>count</th><th>null</th><th>ACT</th><th>NSW</th><th>NT</th><th>QLD</th><th>SA</th><th>TAS</th><th>VIC</th><th>WA</th><th>null</th><th>Female</th><th>Male</th><th>Undisclosed</th></tr>\n",
       "<tr><td>Magna Duis Inc.</td><td>80067991455</td><td>2021</td><td>6</td><td>art dealers and g...</td><td>1</td><td>0</td><td>0</td><td>0</td><td>0</td><td>0</td><td>0</td><td>0</td><td>1</td><td>0</td><td>0</td><td>0</td><td>1</td><td>0</td></tr>\n",
       "<tr><td>Dignissim LLP</td><td>99410502449</td><td>2021</td><td>6</td><td>computer programm...</td><td>18</td><td>0</td><td>0</td><td>7</td><td>0</td><td>1</td><td>3</td><td>1</td><td>5</td><td>1</td><td>0</td><td>11</td><td>6</td><td>1</td></tr>\n",
       "<tr><td>Cras Sed Leo Corp.</td><td>96244711717</td><td>2021</td><td>9</td><td>gift, card, novel...</td><td>376</td><td>0</td><td>2</td><td>121</td><td>3</td><td>56</td><td>43</td><td>17</td><td>76</td><td>58</td><td>0</td><td>173</td><td>157</td><td>46</td></tr>\n",
       "<tr><td>Duis Risus Corp.</td><td>51759688899</td><td>2021</td><td>5</td><td>watch, clock, and...</td><td>3</td><td>0</td><td>0</td><td>2</td><td>0</td><td>0</td><td>0</td><td>0</td><td>1</td><td>0</td><td>0</td><td>1</td><td>0</td><td>2</td></tr>\n",
       "<tr><td>Quis Corporation</td><td>50913027463</td><td>2021</td><td>12</td><td>lawn and garden s...</td><td>50</td><td>0</td><td>1</td><td>18</td><td>2</td><td>4</td><td>5</td><td>3</td><td>9</td><td>8</td><td>0</td><td>20</td><td>28</td><td>2</td></tr>\n",
       "<tr><td>Ultrices Iaculis ...</td><td>88253903277</td><td>2022</td><td>2</td><td>hobby, toy and ga...</td><td>1</td><td>0</td><td>0</td><td>0</td><td>0</td><td>1</td><td>0</td><td>0</td><td>0</td><td>0</td><td>0</td><td>1</td><td>0</td><td>0</td></tr>\n",
       "<tr><td>Dolor Donec Corpo...</td><td>74061266589</td><td>2021</td><td>2</td><td>equipment, tool, ...</td><td>1</td><td>0</td><td>0</td><td>0</td><td>0</td><td>0</td><td>1</td><td>0</td><td>0</td><td>0</td><td>0</td><td>0</td><td>1</td><td>0</td></tr>\n",
       "<tr><td>Pharetra Nibh Ali...</td><td>67019805160</td><td>2021</td><td>11</td><td>opticians, Optica...</td><td>295</td><td>0</td><td>1</td><td>96</td><td>5</td><td>39</td><td>28</td><td>10</td><td>62</td><td>54</td><td>0</td><td>139</td><td>125</td><td>31</td></tr>\n",
       "<tr><td>Nec Incorporated</td><td>82368304209</td><td>2021</td><td>11</td><td>telecom</td><td>362</td><td>0</td><td>4</td><td>99</td><td>2</td><td>52</td><td>40</td><td>15</td><td>86</td><td>64</td><td>0</td><td>156</td><td>168</td><td>38</td></tr>\n",
       "<tr><td>Sed PC</td><td>12483082042</td><td>2021</td><td>9</td><td>opticians, optica...</td><td>184</td><td>0</td><td>4</td><td>54</td><td>1</td><td>23</td><td>18</td><td>5</td><td>44</td><td>35</td><td>0</td><td>79</td><td>93</td><td>12</td></tr>\n",
       "<tr><td>Malesuada Augue I...</td><td>98253764162</td><td>2021</td><td>6</td><td>art dealers and g...</td><td>8</td><td>0</td><td>0</td><td>3</td><td>0</td><td>0</td><td>0</td><td>0</td><td>2</td><td>3</td><td>0</td><td>6</td><td>2</td><td>0</td></tr>\n",
       "<tr><td>Donec Associates</td><td>46050001394</td><td>2021</td><td>7</td><td>lawn and garden s...</td><td>2</td><td>0</td><td>0</td><td>0</td><td>0</td><td>0</td><td>0</td><td>0</td><td>1</td><td>1</td><td>0</td><td>0</td><td>2</td><td>0</td></tr>\n",
       "<tr><td>Mi Aliquam Incorp...</td><td>25714080598</td><td>2022</td><td>1</td><td>florists supplies...</td><td>37</td><td>0</td><td>0</td><td>9</td><td>1</td><td>5</td><td>1</td><td>2</td><td>13</td><td>6</td><td>0</td><td>19</td><td>14</td><td>4</td></tr>\n",
       "<tr><td>Rhoncus Id Company</td><td>35367341543</td><td>2021</td><td>12</td><td>gift, card, nOvel...</td><td>163</td><td>0</td><td>2</td><td>43</td><td>1</td><td>31</td><td>25</td><td>5</td><td>31</td><td>25</td><td>0</td><td>68</td><td>73</td><td>22</td></tr>\n",
       "<tr><td>Eget Incorporated</td><td>58715026442</td><td>2021</td><td>4</td><td>shoe shops</td><td>160</td><td>0</td><td>2</td><td>53</td><td>3</td><td>23</td><td>12</td><td>6</td><td>38</td><td>23</td><td>0</td><td>79</td><td>59</td><td>22</td></tr>\n",
       "<tr><td>Mauris Integer Corp.</td><td>44779505142</td><td>2021</td><td>3</td><td>digital goods: bo...</td><td>20</td><td>0</td><td>0</td><td>4</td><td>0</td><td>4</td><td>1</td><td>6</td><td>2</td><td>3</td><td>0</td><td>11</td><td>5</td><td>4</td></tr>\n",
       "<tr><td>Sed Orci Corp.</td><td>79890957413</td><td>2021</td><td>5</td><td>anTique shops - s...</td><td>2</td><td>0</td><td>0</td><td>1</td><td>0</td><td>0</td><td>0</td><td>0</td><td>1</td><td>0</td><td>0</td><td>0</td><td>1</td><td>1</td></tr>\n",
       "<tr><td>Pede Nunc LLC</td><td>55306852930</td><td>2021</td><td>7</td><td>hobby, toy and ga...</td><td>2</td><td>0</td><td>0</td><td>0</td><td>0</td><td>1</td><td>0</td><td>0</td><td>1</td><td>0</td><td>0</td><td>0</td><td>1</td><td>1</td></tr>\n",
       "<tr><td>Cras Sed Incorpor...</td><td>83113618128</td><td>2022</td><td>1</td><td>furniture, home f...</td><td>2</td><td>0</td><td>0</td><td>1</td><td>0</td><td>0</td><td>0</td><td>0</td><td>0</td><td>1</td><td>0</td><td>1</td><td>1</td><td>0</td></tr>\n",
       "<tr><td>Blandit Mattis Co...</td><td>20520680348</td><td>2021</td><td>9</td><td>florists supplies...</td><td>157</td><td>0</td><td>1</td><td>37</td><td>1</td><td>32</td><td>19</td><td>4</td><td>34</td><td>29</td><td>0</td><td>71</td><td>65</td><td>21</td></tr>\n",
       "</table>\n"
      ],
      "text/plain": [
       "+--------------------+------------+----+-----+--------------------+-----+----+---+---+---+---+---+---+---+---+----+------+----+-----------+\n",
       "|       merchant_name|merchant_abn|year|month|          categories|count|null|ACT|NSW| NT|QLD| SA|TAS|VIC| WA|null|Female|Male|Undisclosed|\n",
       "+--------------------+------------+----+-----+--------------------+-----+----+---+---+---+---+---+---+---+---+----+------+----+-----------+\n",
       "|     Magna Duis Inc.| 80067991455|2021|    6|art dealers and g...|    1|   0|  0|  0|  0|  0|  0|  0|  1|  0|   0|     0|   1|          0|\n",
       "|       Dignissim LLP| 99410502449|2021|    6|computer programm...|   18|   0|  0|  7|  0|  1|  3|  1|  5|  1|   0|    11|   6|          1|\n",
       "|  Cras Sed Leo Corp.| 96244711717|2021|    9|gift, card, novel...|  376|   0|  2|121|  3| 56| 43| 17| 76| 58|   0|   173| 157|         46|\n",
       "|    Duis Risus Corp.| 51759688899|2021|    5|watch, clock, and...|    3|   0|  0|  2|  0|  0|  0|  0|  1|  0|   0|     1|   0|          2|\n",
       "|    Quis Corporation| 50913027463|2021|   12|lawn and garden s...|   50|   0|  1| 18|  2|  4|  5|  3|  9|  8|   0|    20|  28|          2|\n",
       "|Ultrices Iaculis ...| 88253903277|2022|    2|hobby, toy and ga...|    1|   0|  0|  0|  0|  1|  0|  0|  0|  0|   0|     1|   0|          0|\n",
       "|Dolor Donec Corpo...| 74061266589|2021|    2|equipment, tool, ...|    1|   0|  0|  0|  0|  0|  1|  0|  0|  0|   0|     0|   1|          0|\n",
       "|Pharetra Nibh Ali...| 67019805160|2021|   11|opticians, Optica...|  295|   0|  1| 96|  5| 39| 28| 10| 62| 54|   0|   139| 125|         31|\n",
       "|    Nec Incorporated| 82368304209|2021|   11|             telecom|  362|   0|  4| 99|  2| 52| 40| 15| 86| 64|   0|   156| 168|         38|\n",
       "|              Sed PC| 12483082042|2021|    9|opticians, optica...|  184|   0|  4| 54|  1| 23| 18|  5| 44| 35|   0|    79|  93|         12|\n",
       "|Malesuada Augue I...| 98253764162|2021|    6|art dealers and g...|    8|   0|  0|  3|  0|  0|  0|  0|  2|  3|   0|     6|   2|          0|\n",
       "|    Donec Associates| 46050001394|2021|    7|lawn and garden s...|    2|   0|  0|  0|  0|  0|  0|  0|  1|  1|   0|     0|   2|          0|\n",
       "|Mi Aliquam Incorp...| 25714080598|2022|    1|florists supplies...|   37|   0|  0|  9|  1|  5|  1|  2| 13|  6|   0|    19|  14|          4|\n",
       "|  Rhoncus Id Company| 35367341543|2021|   12|gift, card, nOvel...|  163|   0|  2| 43|  1| 31| 25|  5| 31| 25|   0|    68|  73|         22|\n",
       "|   Eget Incorporated| 58715026442|2021|    4|          shoe shops|  160|   0|  2| 53|  3| 23| 12|  6| 38| 23|   0|    79|  59|         22|\n",
       "|Mauris Integer Corp.| 44779505142|2021|    3|digital goods: bo...|   20|   0|  0|  4|  0|  4|  1|  6|  2|  3|   0|    11|   5|          4|\n",
       "|      Sed Orci Corp.| 79890957413|2021|    5|anTique shops - s...|    2|   0|  0|  1|  0|  0|  0|  0|  1|  0|   0|     0|   1|          1|\n",
       "|       Pede Nunc LLC| 55306852930|2021|    7|hobby, toy and ga...|    2|   0|  0|  0|  0|  1|  0|  0|  1|  0|   0|     0|   1|          1|\n",
       "|Cras Sed Incorpor...| 83113618128|2022|    1|furniture, home f...|    2|   0|  0|  1|  0|  0|  0|  0|  0|  1|   0|     1|   1|          0|\n",
       "|Blandit Mattis Co...| 20520680348|2021|    9|florists supplies...|  157|   0|  1| 37|  1| 32| 19|  4| 34| 29|   0|    71|  65|         21|\n",
       "+--------------------+------------+----+-----+--------------------+-----+----+---+---+---+---+---+---+---+---+----+------+----+-----------+"
      ]
     },
     "execution_count": 32,
     "metadata": {},
     "output_type": "execute_result"
    }
   ],
   "source": [
    "from pyspark.sql.functions import year, month\n",
    "\n",
    "data_month = data.withColumn('year',year(data.order_datetime))\n",
    "data_month = data_month.withColumn('month',month(data_month.order_datetime))\n",
    "data_month.limit(5)\n",
    "\n",
    "states_month = data_month.groupBy(\"merchant_name\", \"merchant_abn\", \"year\", \"month\", \"categories\").pivot('state').count().fillna(0)\n",
    "total_count_month = data_month.groupBy(\"merchant_name\", \"merchant_abn\", \"year\", \"month\", \"categories\").count()\n",
    "genders_month = data_month.groupBy(\"merchant_name\", \"merchant_abn\", \"year\", \"month\", \"categories\").pivot('gender').count().fillna(0)\n",
    "\n",
    "states_month = states_month.withColumnRenamed(\"merchant_name\", \"merchant_name_st\") \\\n",
    "    .withColumnRenamed(\"merchant_abn\", 'merchant_abn_st') \\\n",
    "    .withColumnRenamed(\"year\", 'year_st') \\\n",
    "    .withColumnRenamed(\"month\", 'month_st') \\\n",
    "    .withColumnRenamed(\"categories\", \"categories_st\")\n",
    "genders_month = genders_month.withColumnRenamed(\"merchant_name\", \"merchant_name_g\") \\\n",
    "    .withColumnRenamed(\"merchant_abn\", 'merchant_abn_g') \\\n",
    "    .withColumnRenamed(\"year\", 'year_g') \\\n",
    "    .withColumnRenamed(\"month\", 'month_g') \\\n",
    "    .withColumnRenamed(\"categories\", \"categories_g\")\n",
    "\n",
    "joined_month = total_count_month.join(states_month,(total_count_month[\"merchant_name\"] == states_month[\"merchant_name_st\"]) & \\\n",
    "                 (total_count_month[\"merchant_abn\"] == states_month[\"merchant_abn_st\"]) & \\\n",
    "                 (total_count_month[\"year\"] == states_month[\"year_st\"]) & \\\n",
    "                 (total_count_month[\"month\"] == states_month[\"month_st\"]))\\\n",
    "    .join(genders_month,(total_count_month[\"merchant_name\"] == genders_month[\"merchant_name_g\"]) & \\\n",
    "                 (total_count_month[\"merchant_abn\"] == genders_month[\"merchant_abn_g\"]) & \\\n",
    "                 (total_count_month[\"year\"] == genders_month[\"year_g\"]) & \\\n",
    "                 (total_count_month[\"month\"] == genders_month[\"month_g\"]))\n",
    "\n",
    "agg_month = joined_month.drop(\"merchant_name_st\", \"merchant_abn_st\", \"year_st\", \"month_st\", \"categories_st\",\n",
    "                  \"merchant_name_g\", \"merchant_abn_g\", \"year_g\", \"month_g\", \"categories_g\")\n",
    "\n",
    "agg_month.limit(20)"
   ]
  },
  {
   "cell_type": "code",
   "execution_count": 33,
   "id": "2b9553c0-bbb4-4983-a0bd-cdd4b892ac91",
   "metadata": {},
   "outputs": [
    {
     "name": "stderr",
     "output_type": "stream",
     "text": [
      "                                                                                \r"
     ]
    },
    {
     "data": {
      "text/plain": [
       "46717"
      ]
     },
     "execution_count": 33,
     "metadata": {},
     "output_type": "execute_result"
    }
   ],
   "source": [
    "agg_month.count()"
   ]
  },
  {
   "cell_type": "code",
   "execution_count": 34,
   "id": "f5da0ade-3171-44d6-89ae-d88d42127916",
   "metadata": {},
   "outputs": [
    {
     "name": "stdout",
     "output_type": "stream",
     "text": [
      "root\n",
      " |-- merchant_name: string (nullable = true)\n",
      " |-- merchant_abn: long (nullable = true)\n",
      " |-- year: integer (nullable = true)\n",
      " |-- month: integer (nullable = true)\n",
      " |-- categories: string (nullable = true)\n",
      " |-- count: long (nullable = false)\n",
      " |-- null: long (nullable = true)\n",
      " |-- ACT: long (nullable = true)\n",
      " |-- NSW: long (nullable = true)\n",
      " |-- NT: long (nullable = true)\n",
      " |-- QLD: long (nullable = true)\n",
      " |-- SA: long (nullable = true)\n",
      " |-- TAS: long (nullable = true)\n",
      " |-- VIC: long (nullable = true)\n",
      " |-- WA: long (nullable = true)\n",
      " |-- null: long (nullable = true)\n",
      " |-- Female: long (nullable = true)\n",
      " |-- Male: long (nullable = true)\n",
      " |-- Undisclosed: long (nullable = true)\n",
      "\n"
     ]
    }
   ],
   "source": [
    "agg_month.printSchema()"
   ]
  },
  {
   "cell_type": "code",
   "execution_count": 35,
   "id": "63c70b8e-26bc-462f-95b5-5bc7925c3793",
   "metadata": {},
   "outputs": [
    {
     "name": "stderr",
     "output_type": "stream",
     "text": [
      "                                                                                \r"
     ]
    },
    {
     "data": {
      "text/html": [
       "<table border='1'>\n",
       "<tr><th>merchant_name</th><th>merchant_abn</th><th>count</th><th>year</th><th>month</th></tr>\n",
       "<tr><td>Lectus Company</td><td>71274812967</td><td>49</td><td>2021</td><td>5</td></tr>\n",
       "<tr><td>Vivamus Non Corpo...</td><td>38325541616</td><td>22</td><td>2021</td><td>10</td></tr>\n",
       "<tr><td>Mi Lacinia Mattis...</td><td>62583219931</td><td>644</td><td>2021</td><td>11</td></tr>\n",
       "<tr><td>Elit Elit PC</td><td>96809815920</td><td>1</td><td>2021</td><td>7</td></tr>\n",
       "<tr><td>Mollis Phasellus ...</td><td>32821775372</td><td>1</td><td>2021</td><td>7</td></tr>\n",
       "</table>\n"
      ],
      "text/plain": [
       "+--------------------+------------+-----+----+-----+\n",
       "|       merchant_name|merchant_abn|count|year|month|\n",
       "+--------------------+------------+-----+----+-----+\n",
       "|      Lectus Company| 71274812967|   49|2021|    5|\n",
       "|Vivamus Non Corpo...| 38325541616|   22|2021|   10|\n",
       "|Mi Lacinia Mattis...| 62583219931|  644|2021|   11|\n",
       "|        Elit Elit PC| 96809815920|    1|2021|    7|\n",
       "|Mollis Phasellus ...| 32821775372|    1|2021|    7|\n",
       "+--------------------+------------+-----+----+-----+"
      ]
     },
     "execution_count": 35,
     "metadata": {},
     "output_type": "execute_result"
    }
   ],
   "source": [
    "agg_projection = agg_month.select(\"merchant_name\", \"merchant_abn\", \"count\", \"year\", \"month\")\n",
    "agg_projection.limit(5)"
   ]
  },
  {
   "cell_type": "code",
   "execution_count": 36,
   "id": "31f24693-75af-4822-be54-692c5473f067",
   "metadata": {},
   "outputs": [
    {
     "name": "stderr",
     "output_type": "stream",
     "text": [
      "                                                                                \r"
     ]
    },
    {
     "data": {
      "text/html": [
       "<table border='1'>\n",
       "<tr><th>p_merchant_name</th><th>p_merchant_abn</th><th>future_count</th><th>prev_year</th><th>prev_month</th></tr>\n",
       "<tr><td>Lectus Company</td><td>71274812967</td><td>49</td><td>2021</td><td>4</td></tr>\n",
       "<tr><td>Vivamus Non Corpo...</td><td>38325541616</td><td>22</td><td>2021</td><td>9</td></tr>\n",
       "<tr><td>Mi Lacinia Mattis...</td><td>62583219931</td><td>644</td><td>2021</td><td>10</td></tr>\n",
       "<tr><td>Elit Elit PC</td><td>96809815920</td><td>1</td><td>2021</td><td>6</td></tr>\n",
       "<tr><td>Mollis Phasellus ...</td><td>32821775372</td><td>1</td><td>2021</td><td>6</td></tr>\n",
       "</table>\n"
      ],
      "text/plain": [
       "+--------------------+--------------+------------+---------+----------+\n",
       "|     p_merchant_name|p_merchant_abn|future_count|prev_year|prev_month|\n",
       "+--------------------+--------------+------------+---------+----------+\n",
       "|      Lectus Company|   71274812967|          49|     2021|         4|\n",
       "|Vivamus Non Corpo...|   38325541616|          22|     2021|         9|\n",
       "|Mi Lacinia Mattis...|   62583219931|         644|     2021|        10|\n",
       "|        Elit Elit PC|   96809815920|           1|     2021|         6|\n",
       "|Mollis Phasellus ...|   32821775372|           1|     2021|         6|\n",
       "+--------------------+--------------+------------+---------+----------+"
      ]
     },
     "execution_count": 36,
     "metadata": {},
     "output_type": "execute_result"
    }
   ],
   "source": [
    "agg_projection = agg_projection.withColumn(\"prev_year\", \\\n",
    "              when(agg_projection[\"month\"] == 1, agg_projection['year'] - 1).otherwise(agg_projection['year']))\n",
    "agg_projection = agg_projection.withColumn(\"prev_month\", \\\n",
    "              when(agg_projection[\"month\"] == 1, 12).otherwise(agg_projection['month'] - 1))\n",
    "agg_projection = agg_projection.drop(\"year\", \"month\")\n",
    "agg_projection = agg_projection.withColumnRenamed(\"count\", \"future_count\") \\\n",
    "                            .withColumnRenamed(\"merchant_name\", \"p_merchant_name\") \\\n",
    "                            .withColumnRenamed(\"merchant_abn\", \"p_merchant_abn\")\n",
    "agg_projection.limit(5)"
   ]
  },
  {
   "cell_type": "code",
   "execution_count": 79,
   "id": "6f61678a-b745-4e8a-b9d8-254ac4419d50",
   "metadata": {},
   "outputs": [
    {
     "name": "stderr",
     "output_type": "stream",
     "text": [
      "                                                                                \r"
     ]
    },
    {
     "data": {
      "text/html": [
       "<table border='1'>\n",
       "<tr><th>merchant_name</th><th>merchant_abn</th><th>year</th><th>month</th><th>categories</th><th>count</th><th>null</th><th>ACT</th><th>NSW</th><th>NT</th><th>QLD</th><th>SA</th><th>TAS</th><th>VIC</th><th>WA</th><th>null</th><th>Female</th><th>Male</th><th>Undisclosed</th><th>future_count</th></tr>\n",
       "<tr><td>Magna Duis Inc.</td><td>80067991455</td><td>2021</td><td>6</td><td>art dealers and g...</td><td>1</td><td>0</td><td>0</td><td>0</td><td>0</td><td>0</td><td>0</td><td>0</td><td>1</td><td>0</td><td>0</td><td>0</td><td>1</td><td>0</td><td>1</td></tr>\n",
       "<tr><td>Dignissim LLP</td><td>99410502449</td><td>2021</td><td>6</td><td>computer programm...</td><td>18</td><td>0</td><td>0</td><td>7</td><td>0</td><td>1</td><td>3</td><td>1</td><td>5</td><td>1</td><td>0</td><td>11</td><td>6</td><td>1</td><td>21</td></tr>\n",
       "<tr><td>Cras Sed Leo Corp.</td><td>96244711717</td><td>2021</td><td>9</td><td>gift, card, novel...</td><td>376</td><td>0</td><td>2</td><td>121</td><td>3</td><td>56</td><td>43</td><td>17</td><td>76</td><td>58</td><td>0</td><td>173</td><td>157</td><td>46</td><td>418</td></tr>\n",
       "<tr><td>Duis Risus Corp.</td><td>51759688899</td><td>2021</td><td>5</td><td>watch, clock, and...</td><td>3</td><td>0</td><td>0</td><td>2</td><td>0</td><td>0</td><td>0</td><td>0</td><td>1</td><td>0</td><td>0</td><td>1</td><td>0</td><td>2</td><td>7</td></tr>\n",
       "<tr><td>Quis Corporation</td><td>50913027463</td><td>2021</td><td>12</td><td>lawn and garden s...</td><td>50</td><td>0</td><td>1</td><td>18</td><td>2</td><td>4</td><td>5</td><td>3</td><td>9</td><td>8</td><td>0</td><td>20</td><td>28</td><td>2</td><td>22</td></tr>\n",
       "</table>\n"
      ],
      "text/plain": [
       "+------------------+------------+----+-----+--------------------+-----+----+---+---+---+---+---+---+---+---+----+------+----+-----------+------------+\n",
       "|     merchant_name|merchant_abn|year|month|          categories|count|null|ACT|NSW| NT|QLD| SA|TAS|VIC| WA|null|Female|Male|Undisclosed|future_count|\n",
       "+------------------+------------+----+-----+--------------------+-----+----+---+---+---+---+---+---+---+---+----+------+----+-----------+------------+\n",
       "|   Magna Duis Inc.| 80067991455|2021|    6|art dealers and g...|    1|   0|  0|  0|  0|  0|  0|  0|  1|  0|   0|     0|   1|          0|           1|\n",
       "|     Dignissim LLP| 99410502449|2021|    6|computer programm...|   18|   0|  0|  7|  0|  1|  3|  1|  5|  1|   0|    11|   6|          1|          21|\n",
       "|Cras Sed Leo Corp.| 96244711717|2021|    9|gift, card, novel...|  376|   0|  2|121|  3| 56| 43| 17| 76| 58|   0|   173| 157|         46|         418|\n",
       "|  Duis Risus Corp.| 51759688899|2021|    5|watch, clock, and...|    3|   0|  0|  2|  0|  0|  0|  0|  1|  0|   0|     1|   0|          2|           7|\n",
       "|  Quis Corporation| 50913027463|2021|   12|lawn and garden s...|   50|   0|  1| 18|  2|  4|  5|  3|  9|  8|   0|    20|  28|          2|          22|\n",
       "+------------------+------------+----+-----+--------------------+-----+----+---+---+---+---+---+---+---+---+----+------+----+-----------+------------+"
      ]
     },
     "execution_count": 79,
     "metadata": {},
     "output_type": "execute_result"
    }
   ],
   "source": [
    "final_data = agg_month.join(agg_projection, (agg_month.merchant_name == agg_projection.p_merchant_name) & \n",
    "                           (agg_month.merchant_abn == agg_projection.p_merchant_abn) & \n",
    "                           (agg_month.year == agg_projection.prev_year) & \n",
    "                           (agg_month.month == agg_projection.prev_month), how = 'inner')\n",
    "\n",
    "final_data = final_data.drop(\"p_merchant_name\", \"p_merchant_abn\", \"prev_year\", \"prev_month\")\n",
    "final_data.limit(5)"
   ]
  },
  {
   "cell_type": "markdown",
   "id": "19256cf2-0bfc-4bd4-83ba-b61a3fdc67c3",
   "metadata": {},
   "source": [
    "### Modelling"
   ]
  },
  {
   "cell_type": "code",
   "execution_count": 80,
   "id": "96c5aff3-ffca-47a2-8a0e-4bcec312110d",
   "metadata": {},
   "outputs": [],
   "source": [
    "from pyspark.ml.feature import StringIndexer, OneHotEncoder\n",
    "from pyspark.ml.feature import VectorAssembler\n",
    "import numpy as np\n",
    "import pandas as pd\n",
    "\n",
    "# https://goodboychan.github.io/python/datacamp/pyspark/2020/08/11/01-Regression-in-PySpark.html#One-Hot-Encoding"
   ]
  },
  {
   "cell_type": "code",
   "execution_count": 81,
   "id": "62530177-a81a-42c2-9e41-fd9bc66d39dc",
   "metadata": {},
   "outputs": [
    {
     "name": "stderr",
     "output_type": "stream",
     "text": [
      "                                                                                \r"
     ]
    },
    {
     "data": {
      "text/html": [
       "<table border='1'>\n",
       "<tr><th>merchant_name</th><th>merchant_abn</th><th>year</th><th>month</th><th>categories</th><th>count</th><th>null</th><th>ACT</th><th>NSW</th><th>NT</th><th>QLD</th><th>SA</th><th>TAS</th><th>VIC</th><th>WA</th><th>null</th><th>Female</th><th>Male</th><th>Undisclosed</th><th>future_count</th><th>merchant_name_idx</th><th>merchant_name_dummy</th></tr>\n",
       "<tr><td>Magna Duis Inc.</td><td>80067991455</td><td>2021</td><td>6</td><td>art dealers and g...</td><td>1</td><td>0</td><td>0</td><td>0</td><td>0</td><td>0</td><td>0</td><td>0</td><td>1</td><td>0</td><td>0</td><td>0</td><td>1</td><td>0</td><td>1</td><td>3532.0</td><td>(3915,[3532],[1.0])</td></tr>\n",
       "<tr><td>Dignissim LLP</td><td>99410502449</td><td>2021</td><td>6</td><td>computer programm...</td><td>18</td><td>0</td><td>0</td><td>7</td><td>0</td><td>1</td><td>3</td><td>1</td><td>5</td><td>1</td><td>0</td><td>11</td><td>6</td><td>1</td><td>21</td><td>2124.0</td><td>(3915,[2124],[1.0])</td></tr>\n",
       "<tr><td>Cras Sed Leo Corp.</td><td>96244711717</td><td>2021</td><td>9</td><td>gift, card, novel...</td><td>376</td><td>0</td><td>2</td><td>121</td><td>3</td><td>56</td><td>43</td><td>17</td><td>76</td><td>58</td><td>0</td><td>173</td><td>157</td><td>46</td><td>418</td><td>288.0</td><td>(3915,[288],[1.0])</td></tr>\n",
       "<tr><td>Duis Risus Corp.</td><td>51759688899</td><td>2021</td><td>5</td><td>watch, clock, and...</td><td>3</td><td>0</td><td>0</td><td>2</td><td>0</td><td>0</td><td>0</td><td>0</td><td>1</td><td>0</td><td>0</td><td>1</td><td>0</td><td>2</td><td>7</td><td>2184.0</td><td>(3915,[2184],[1.0])</td></tr>\n",
       "<tr><td>Quis Corporation</td><td>50913027463</td><td>2021</td><td>12</td><td>lawn and garden s...</td><td>50</td><td>0</td><td>1</td><td>18</td><td>2</td><td>4</td><td>5</td><td>3</td><td>9</td><td>8</td><td>0</td><td>20</td><td>28</td><td>2</td><td>22</td><td>2884.0</td><td>(3915,[2884],[1.0])</td></tr>\n",
       "</table>\n"
      ],
      "text/plain": [
       "+------------------+------------+----+-----+--------------------+-----+----+---+---+---+---+---+---+---+---+----+------+----+-----------+------------+-----------------+-------------------+\n",
       "|     merchant_name|merchant_abn|year|month|          categories|count|null|ACT|NSW| NT|QLD| SA|TAS|VIC| WA|null|Female|Male|Undisclosed|future_count|merchant_name_idx|merchant_name_dummy|\n",
       "+------------------+------------+----+-----+--------------------+-----+----+---+---+---+---+---+---+---+---+----+------+----+-----------+------------+-----------------+-------------------+\n",
       "|   Magna Duis Inc.| 80067991455|2021|    6|art dealers and g...|    1|   0|  0|  0|  0|  0|  0|  0|  1|  0|   0|     0|   1|          0|           1|           3532.0|(3915,[3532],[1.0])|\n",
       "|     Dignissim LLP| 99410502449|2021|    6|computer programm...|   18|   0|  0|  7|  0|  1|  3|  1|  5|  1|   0|    11|   6|          1|          21|           2124.0|(3915,[2124],[1.0])|\n",
       "|Cras Sed Leo Corp.| 96244711717|2021|    9|gift, card, novel...|  376|   0|  2|121|  3| 56| 43| 17| 76| 58|   0|   173| 157|         46|         418|            288.0| (3915,[288],[1.0])|\n",
       "|  Duis Risus Corp.| 51759688899|2021|    5|watch, clock, and...|    3|   0|  0|  2|  0|  0|  0|  0|  1|  0|   0|     1|   0|          2|           7|           2184.0|(3915,[2184],[1.0])|\n",
       "|  Quis Corporation| 50913027463|2021|   12|lawn and garden s...|   50|   0|  1| 18|  2|  4|  5|  3|  9|  8|   0|    20|  28|          2|          22|           2884.0|(3915,[2884],[1.0])|\n",
       "+------------------+------------+----+-----+--------------------+-----+----+---+---+---+---+---+---+---+---+----+------+----+-----------+------------+-----------------+-------------------+"
      ]
     },
     "execution_count": 81,
     "metadata": {},
     "output_type": "execute_result"
    }
   ],
   "source": [
    "agg1 = StringIndexer(inputCol='merchant_name', outputCol='merchant_name_idx').fit(final_data).transform(final_data)\n",
    "onehot = OneHotEncoder(inputCols=['merchant_name_idx'], outputCols=['merchant_name_dummy'])\n",
    "onehot = onehot.fit(agg1)\n",
    "agg2 = onehot.transform(agg1)\n",
    "agg2.limit(5)"
   ]
  },
  {
   "cell_type": "code",
   "execution_count": 40,
   "id": "a0e78e90-ef69-4314-8696-ded013ff90e5",
   "metadata": {},
   "outputs": [
    {
     "name": "stdout",
     "output_type": "stream",
     "text": [
      "22/10/04 02:35:31 WARN package: Truncated the string representation of a plan since it was too large. This behavior can be adjusted by setting 'spark.sql.debug.maxToStringFields'.\n"
     ]
    },
    {
     "name": "stderr",
     "output_type": "stream",
     "text": [
      "                                                                                \r"
     ]
    },
    {
     "data": {
      "text/html": [
       "<table border='1'>\n",
       "<tr><th>merchant_name</th><th>merchant_abn</th><th>year</th><th>month</th><th>categories</th><th>count</th><th>null</th><th>ACT</th><th>NSW</th><th>NT</th><th>QLD</th><th>SA</th><th>TAS</th><th>VIC</th><th>WA</th><th>null</th><th>Female</th><th>Male</th><th>Undisclosed</th><th>future_count</th><th>merchant_name_idx</th><th>merchant_name_dummy</th><th>features</th></tr>\n",
       "<tr><td>Magna Duis Inc.</td><td>80067991455</td><td>2021</td><td>6</td><td>art dealers and g...</td><td>1</td><td>0</td><td>0</td><td>0</td><td>0</td><td>0</td><td>0</td><td>0</td><td>1</td><td>0</td><td>0</td><td>0</td><td>1</td><td>0</td><td>1</td><td>3532.0</td><td>(3915,[3532],[1.0])</td><td>(3927,[3532,3920,...</td></tr>\n",
       "<tr><td>Dignissim LLP</td><td>99410502449</td><td>2021</td><td>6</td><td>computer programm...</td><td>18</td><td>0</td><td>0</td><td>7</td><td>0</td><td>1</td><td>3</td><td>1</td><td>5</td><td>1</td><td>0</td><td>11</td><td>6</td><td>1</td><td>21</td><td>2124.0</td><td>(3915,[2124],[1.0])</td><td>(3927,[2124,3916,...</td></tr>\n",
       "<tr><td>Cras Sed Leo Corp.</td><td>96244711717</td><td>2021</td><td>9</td><td>gift, card, novel...</td><td>376</td><td>0</td><td>2</td><td>121</td><td>3</td><td>56</td><td>43</td><td>17</td><td>76</td><td>58</td><td>0</td><td>173</td><td>157</td><td>46</td><td>418</td><td>288.0</td><td>(3915,[288],[1.0])</td><td>(3927,[288,3915,3...</td></tr>\n",
       "<tr><td>Duis Risus Corp.</td><td>51759688899</td><td>2021</td><td>5</td><td>watch, clock, and...</td><td>3</td><td>0</td><td>0</td><td>2</td><td>0</td><td>0</td><td>0</td><td>0</td><td>1</td><td>0</td><td>0</td><td>1</td><td>0</td><td>2</td><td>7</td><td>2184.0</td><td>(3915,[2184],[1.0])</td><td>(3927,[2184,3916,...</td></tr>\n",
       "<tr><td>Quis Corporation</td><td>50913027463</td><td>2021</td><td>12</td><td>lawn and garden s...</td><td>50</td><td>0</td><td>1</td><td>18</td><td>2</td><td>4</td><td>5</td><td>3</td><td>9</td><td>8</td><td>0</td><td>20</td><td>28</td><td>2</td><td>22</td><td>2884.0</td><td>(3915,[2884],[1.0])</td><td>(3927,[2884,3915,...</td></tr>\n",
       "</table>\n"
      ],
      "text/plain": [
       "+--------------------+------------+----+-----+--------------------+-----+----+---+---+---+---+---+---+---+---+----+------+----+-----------+------------+-----------------+-------------------+--------------------+\n",
       "|       merchant_name|merchant_abn|year|month|          categories|count|null|ACT|NSW| NT|QLD| SA|TAS|VIC| WA|null|Female|Male|Undisclosed|future_count|merchant_name_idx|merchant_name_dummy|            features|\n",
       "+--------------------+------------+----+-----+--------------------+-----+----+---+---+---+---+---+---+---+---+----+------+----+-----------+------------+-----------------+-------------------+--------------------+\n",
       "|Pharetra Nibh Ali...| 67019805160|2021|   11|opticians, Optica...|  295|   0|  1| 96|  5| 39| 28| 10| 62| 54|   0|   139| 125|         31|         279|           1368.0|(3915,[1368],[1.0])|(3927,[1368,3915,...|\n",
       "|      Nisi Institute| 90011689258|2021|    8|computers, comput...|   20|   0|  1|  8|  0|  2|  3|  1|  4|  1|   0|    11|   5|          4|          16|           2681.0|(3915,[2681],[1.0])|(3927,[2681,3915,...|\n",
       "|    Nec Incorporated| 82368304209|2021|   11|             telecom|  362|   0|  4| 99|  2| 52| 40| 15| 86| 64|   0|   156| 168|         38|         339|           1144.0|(3915,[1144],[1.0])|(3927,[1144,3915,...|\n",
       "|Egestas Fusce Ind...| 98649976089|2021|    9|lawn and garden s...|    3|   0|  0|  2|  0|  0|  0|  0|  1|  0|   0|     0|   3|          0|           6|           2189.0|(3915,[2189],[1.0])|(3927,[2189,3916,...|\n",
       "|Rhoncus Donec Ass...| 96152467973|2022|    1|tent and awning s...| 2681|   0| 19|790| 34|419|274| 83|623|439|   0|  1200|1201|        280|        2456|           1484.0|(3915,[1484],[1.0])|(3927,[1484,3915,...|\n",
       "+--------------------+------------+----+-----+--------------------+-----+----+---+---+---+---+---+---+---+---+----+------+----+-----------+------------+-----------------+-------------------+--------------------+"
      ]
     },
     "execution_count": 40,
     "metadata": {},
     "output_type": "execute_result"
    }
   ],
   "source": [
    "# Assembling Features Vector\n",
    "assembler = VectorAssembler(inputCols=['merchant_name_dummy', 'ACT', 'NSW', 'QLD', 'SA', 'TAS', 'VIC', \n",
    "                                       'WA', 'Female', 'Male', 'Undisclosed', 'month', 'year'], outputCol='features')\n",
    "agg_with_features = assembler.transform(agg2)\n",
    "\n",
    "agg_with_features.limit(5)"
   ]
  },
  {
   "cell_type": "code",
   "execution_count": 41,
   "id": "46f7c8ea-fcee-441d-969a-1da9b725af8a",
   "metadata": {},
   "outputs": [
    {
     "name": "stderr",
     "output_type": "stream",
     "text": [
      "                                                                                \r"
     ]
    },
    {
     "name": "stdout",
     "output_type": "stream",
     "text": [
      "22/10/04 02:36:45 WARN Instrumentation: [8c8a8db9] regParam is zero, which might cause numerical instability and overfitting.\n",
      "22/10/04 02:36:46 WARN InstanceBuilder$NativeBLAS: Failed to load implementation from:dev.ludovic.netlib.blas.JNIBLAS\n",
      "22/10/04 02:36:46 WARN InstanceBuilder$NativeBLAS: Failed to load implementation from:dev.ludovic.netlib.blas.ForeignLinkerBLAS\n",
      "22/10/04 02:36:46 WARN InstanceBuilder$JavaBLAS: Failed to load implementation from:dev.ludovic.netlib.blas.VectorBLAS\n"
     ]
    },
    {
     "name": "stderr",
     "output_type": "stream",
     "text": [
      "                                                                                \r"
     ]
    },
    {
     "name": "stdout",
     "output_type": "stream",
     "text": [
      "22/10/04 02:36:48 WARN InstanceBuilder$NativeLAPACK: Failed to load implementation from:dev.ludovic.netlib.lapack.JNILAPACK\n",
      "22/10/04 02:37:00 WARN Instrumentation: [8c8a8db9] Cholesky solver failed due to singular covariance matrix. Retrying with Quasi-Newton solver.\n",
      "22/10/04 02:37:01 WARN BLAS: Failed to load implementation from: com.github.fommil.netlib.NativeSystemBLAS\n",
      "22/10/04 02:37:01 WARN BLAS: Failed to load implementation from: com.github.fommil.netlib.NativeRefBLAS\n"
     ]
    },
    {
     "name": "stderr",
     "output_type": "stream",
     "text": [
      "                                                                                \r"
     ]
    },
    {
     "name": "stdout",
     "output_type": "stream",
     "text": [
      "+------------+-------------------+\n",
      "|future_count|prediction         |\n",
      "+------------+-------------------+\n",
      "|114         |86.87688607616292  |\n",
      "|175         |153.39168388002145 |\n",
      "|3           |-2.6598110846680356|\n",
      "|486         |429.7104182175535  |\n",
      "|226         |263.5015336304423  |\n",
      "+------------+-------------------+\n",
      "only showing top 5 rows\n",
      "\n"
     ]
    },
    {
     "name": "stderr",
     "output_type": "stream",
     "text": [
      "                                                                                \r"
     ]
    },
    {
     "data": {
      "text/plain": [
       "155.82793227103147"
      ]
     },
     "execution_count": 41,
     "metadata": {},
     "output_type": "execute_result"
    }
   ],
   "source": [
    "from pyspark.ml.regression import LinearRegression\n",
    "from pyspark.ml.evaluation import RegressionEvaluator\n",
    "\n",
    "train, test = agg_with_features.randomSplit([0.8, 0.2])\n",
    "\n",
    "# Create a regression object and train on training data\n",
    "regression = LinearRegression(featuresCol='features', labelCol='future_count').fit(train)\n",
    "\n",
    "# Create predictions for the test data\n",
    "predictions = regression.transform(test)\n",
    "predictions.select('future_count', 'prediction').show(5, False)\n",
    "\n",
    "# Calculate the RMSE on test data\n",
    "RegressionEvaluator(labelCol='future_count', metricName='rmse').evaluate(predictions)"
   ]
  },
  {
   "cell_type": "code",
   "execution_count": 43,
   "id": "13514963-2c1f-4e51-a3ee-845eaffe51d7",
   "metadata": {},
   "outputs": [
    {
     "name": "stderr",
     "output_type": "stream",
     "text": [
      "                                                                                \r"
     ]
    },
    {
     "name": "stdout",
     "output_type": "stream",
     "text": [
      "+------------+-------------------+\n",
      "|future_count|prediction         |\n",
      "+------------+-------------------+\n",
      "|114         |86.87688607616292  |\n",
      "|175         |153.39168388002145 |\n",
      "|3           |-2.6598110846680356|\n",
      "|486         |429.7104182175535  |\n",
      "|226         |263.5015336304423  |\n",
      "|4           |4.573710406642931  |\n",
      "|133         |114.86958522788336 |\n",
      "|41          |71.49567231143737  |\n",
      "|64          |54.5527319825851   |\n",
      "|592         |468.34991712026385 |\n",
      "|723         |636.2484668869874  |\n",
      "|38          |79.77104412296467  |\n",
      "|444         |335.31637320099253 |\n",
      "|10          |11.162221346283332 |\n",
      "|12          |16.477897290926194 |\n",
      "|36          |17.75139936940832  |\n",
      "|32          |47.22372492584691  |\n",
      "|1           |63.75397981990682  |\n",
      "|1           |65.44288298331958  |\n",
      "|25          |18.460345391067676 |\n",
      "+------------+-------------------+\n",
      "only showing top 20 rows\n",
      "\n"
     ]
    }
   ],
   "source": [
    "predictions.select('future_count', 'prediction').show(20, False)"
   ]
  },
  {
   "cell_type": "markdown",
   "id": "de5819b2-50a0-4031-a55e-5490e06f79fa",
   "metadata": {},
   "source": [
    "### Predicting the Future Month for each Merchant"
   ]
  },
  {
   "cell_type": "code",
   "execution_count": 63,
   "id": "21991cd1-7d1b-487a-a742-781084f09aa4",
   "metadata": {},
   "outputs": [
    {
     "name": "stderr",
     "output_type": "stream",
     "text": [
      "                                                                                \r"
     ]
    },
    {
     "data": {
      "text/html": [
       "<table border='1'>\n",
       "<tr><th>merchant_name</th><th>merchant_abn</th><th>year</th><th>month</th><th>categories</th><th>count</th><th>null</th><th>ACT</th><th>NSW</th><th>NT</th><th>QLD</th><th>SA</th><th>TAS</th><th>VIC</th><th>WA</th><th>null</th><th>Female</th><th>Male</th><th>Undisclosed</th><th>future_count</th></tr>\n",
       "<tr><td>Scelerisque LLP</td><td>58727332026</td><td>2022</td><td>2</td><td>artist supply And...</td><td>59</td><td>0</td><td>1</td><td>14</td><td>0</td><td>7</td><td>4</td><td>3</td><td>23</td><td>7</td><td>0</td><td>19</td><td>37</td><td>3</td><td>0</td></tr>\n",
       "<tr><td>Diam Eu Dolor PC</td><td>39211701585</td><td>2022</td><td>2</td><td>shoe shops</td><td>311</td><td>0</td><td>1</td><td>102</td><td>3</td><td>36</td><td>37</td><td>15</td><td>62</td><td>55</td><td>0</td><td>133</td><td>147</td><td>31</td><td>0</td></tr>\n",
       "<tr><td>Congue Turpis Lim...</td><td>66522814831</td><td>2022</td><td>2</td><td>art dealers and g...</td><td>4</td><td>0</td><td>0</td><td>1</td><td>0</td><td>0</td><td>0</td><td>0</td><td>2</td><td>1</td><td>0</td><td>0</td><td>4</td><td>0</td><td>0</td></tr>\n",
       "<tr><td>Aenean LLP</td><td>74084069481</td><td>2022</td><td>2</td><td>music shops - mus...</td><td>6</td><td>0</td><td>0</td><td>1</td><td>1</td><td>1</td><td>0</td><td>0</td><td>3</td><td>0</td><td>0</td><td>3</td><td>3</td><td>0</td><td>0</td></tr>\n",
       "<tr><td>Felis Institute</td><td>49167531725</td><td>2022</td><td>2</td><td>digital goods: bo...</td><td>106</td><td>0</td><td>1</td><td>38</td><td>4</td><td>10</td><td>10</td><td>7</td><td>22</td><td>14</td><td>0</td><td>44</td><td>51</td><td>11</td><td>0</td></tr>\n",
       "</table>\n"
      ],
      "text/plain": [
       "+--------------------+------------+----+-----+--------------------+-----+----+---+---+---+---+---+---+---+---+----+------+----+-----------+------------+\n",
       "|       merchant_name|merchant_abn|year|month|          categories|count|null|ACT|NSW| NT|QLD| SA|TAS|VIC| WA|null|Female|Male|Undisclosed|future_count|\n",
       "+--------------------+------------+----+-----+--------------------+-----+----+---+---+---+---+---+---+---+---+----+------+----+-----------+------------+\n",
       "|     Scelerisque LLP| 58727332026|2022|    2|artist supply And...|   59|   0|  1| 14|  0|  7|  4|  3| 23|  7|   0|    19|  37|          3|           0|\n",
       "|    Diam Eu Dolor PC| 39211701585|2022|    2|          shoe shops|  311|   0|  1|102|  3| 36| 37| 15| 62| 55|   0|   133| 147|         31|           0|\n",
       "|Congue Turpis Lim...| 66522814831|2022|    2|art dealers and g...|    4|   0|  0|  1|  0|  0|  0|  0|  2|  1|   0|     0|   4|          0|           0|\n",
       "|          Aenean LLP| 74084069481|2022|    2|music shops - mus...|    6|   0|  0|  1|  1|  1|  0|  0|  3|  0|   0|     3|   3|          0|           0|\n",
       "|     Felis Institute| 49167531725|2022|    2|digital goods: bo...|  106|   0|  1| 38|  4| 10| 10|  7| 22| 14|   0|    44|  51|         11|           0|\n",
       "+--------------------+------------+----+-----+--------------------+-----+----+---+---+---+---+---+---+---+---+----+------+----+-----------+------------+"
      ]
     },
     "execution_count": 63,
     "metadata": {},
     "output_type": "execute_result"
    }
   ],
   "source": [
    "latest_year = agg_month.select(max('year')).collect()[0][0]\n",
    "agg_month_1 = agg_month.filter(agg_month.year == latest_year)\n",
    "latest_month = agg_month_1.select(max('month')).collect()[0][0]\n",
    "predicting_data = agg_month_1.filter(agg_month.month == latest_month)\n",
    "predicting_data = predicting_data.withColumn(\"future_count\", lit(0))\n",
    "predicting_data.limit(5)"
   ]
  },
  {
   "cell_type": "code",
   "execution_count": 64,
   "id": "1d5fe172-3190-4bc4-97c3-ba174f7a61df",
   "metadata": {},
   "outputs": [
    {
     "name": "stderr",
     "output_type": "stream",
     "text": [
      "                                                                                \r"
     ]
    },
    {
     "data": {
      "text/html": [
       "<table border='1'>\n",
       "<tr><th>merchant_name</th><th>merchant_abn</th><th>year</th><th>month</th><th>categories</th><th>count</th><th>null</th><th>ACT</th><th>NSW</th><th>NT</th><th>QLD</th><th>SA</th><th>TAS</th><th>VIC</th><th>WA</th><th>null</th><th>Female</th><th>Male</th><th>Undisclosed</th><th>future_count</th><th>merchant_name_idx</th><th>merchant_name_dummy</th><th>features</th></tr>\n",
       "<tr><td>Scelerisque LLP</td><td>58727332026</td><td>2022</td><td>2</td><td>artist supply And...</td><td>59</td><td>0</td><td>1</td><td>14</td><td>0</td><td>7</td><td>4</td><td>3</td><td>23</td><td>7</td><td>0</td><td>19</td><td>37</td><td>3</td><td>0</td><td>2939.0</td><td>(3663,[2939],[1.0])</td><td>(3675,[2939,3663,...</td></tr>\n",
       "<tr><td>Felis Institute</td><td>49167531725</td><td>2022</td><td>2</td><td>digital goods: bo...</td><td>106</td><td>0</td><td>1</td><td>38</td><td>4</td><td>10</td><td>10</td><td>7</td><td>22</td><td>14</td><td>0</td><td>44</td><td>51</td><td>11</td><td>0</td><td>1276.0</td><td>(3663,[1276],[1.0])</td><td>(3675,[1276,3663,...</td></tr>\n",
       "<tr><td>Diam Eu Dolor PC</td><td>39211701585</td><td>2022</td><td>2</td><td>shoe shops</td><td>311</td><td>0</td><td>1</td><td>102</td><td>3</td><td>36</td><td>37</td><td>15</td><td>62</td><td>55</td><td>0</td><td>133</td><td>147</td><td>31</td><td>0</td><td>645.0</td><td>(3663,[645],[1.0])</td><td>(3675,[645,3663,3...</td></tr>\n",
       "<tr><td>Congue Turpis Lim...</td><td>66522814831</td><td>2022</td><td>2</td><td>art dealers and g...</td><td>4</td><td>0</td><td>0</td><td>1</td><td>0</td><td>0</td><td>0</td><td>0</td><td>2</td><td>1</td><td>0</td><td>0</td><td>4</td><td>0</td><td>0</td><td>503.0</td><td>(3663,[503],[1.0])</td><td>(3675,[503,3664,3...</td></tr>\n",
       "<tr><td>Aenean LLP</td><td>74084069481</td><td>2022</td><td>2</td><td>music shops - mus...</td><td>6</td><td>0</td><td>0</td><td>1</td><td>1</td><td>1</td><td>0</td><td>0</td><td>3</td><td>0</td><td>0</td><td>3</td><td>3</td><td>0</td><td>0</td><td>145.0</td><td>(3663,[145],[1.0])</td><td>(3675,[145,3664,3...</td></tr>\n",
       "</table>\n"
      ],
      "text/plain": [
       "+--------------------+------------+----+-----+--------------------+-----+----+---+---+---+---+---+---+---+---+----+------+----+-----------+------------+-----------------+-------------------+--------------------+\n",
       "|       merchant_name|merchant_abn|year|month|          categories|count|null|ACT|NSW| NT|QLD| SA|TAS|VIC| WA|null|Female|Male|Undisclosed|future_count|merchant_name_idx|merchant_name_dummy|            features|\n",
       "+--------------------+------------+----+-----+--------------------+-----+----+---+---+---+---+---+---+---+---+----+------+----+-----------+------------+-----------------+-------------------+--------------------+\n",
       "|     Scelerisque LLP| 58727332026|2022|    2|artist supply And...|   59|   0|  1| 14|  0|  7|  4|  3| 23|  7|   0|    19|  37|          3|           0|           2939.0|(3663,[2939],[1.0])|(3675,[2939,3663,...|\n",
       "|    Diam Eu Dolor PC| 39211701585|2022|    2|          shoe shops|  311|   0|  1|102|  3| 36| 37| 15| 62| 55|   0|   133| 147|         31|           0|            645.0| (3663,[645],[1.0])|(3675,[645,3663,3...|\n",
       "|Congue Turpis Lim...| 66522814831|2022|    2|art dealers and g...|    4|   0|  0|  1|  0|  0|  0|  0|  2|  1|   0|     0|   4|          0|           0|            503.0| (3663,[503],[1.0])|(3675,[503,3664,3...|\n",
       "|          Aenean LLP| 74084069481|2022|    2|music shops - mus...|    6|   0|  0|  1|  1|  1|  0|  0|  3|  0|   0|     3|   3|          0|           0|            145.0| (3663,[145],[1.0])|(3675,[145,3664,3...|\n",
       "|     Felis Institute| 49167531725|2022|    2|digital goods: bo...|  106|   0|  1| 38|  4| 10| 10|  7| 22| 14|   0|    44|  51|         11|           0|           1276.0|(3663,[1276],[1.0])|(3675,[1276,3663,...|\n",
       "+--------------------+------------+----+-----+--------------------+-----+----+---+---+---+---+---+---+---+---+----+------+----+-----------+------------+-----------------+-------------------+--------------------+"
      ]
     },
     "execution_count": 64,
     "metadata": {},
     "output_type": "execute_result"
    }
   ],
   "source": [
    "#One Hot Encoding\n",
    "agg1 = StringIndexer(inputCol='merchant_name', outputCol='merchant_name_idx').fit(predicting_data).transform(predicting_data)\n",
    "onehot = OneHotEncoder(inputCols=['merchant_name_idx'], outputCols=['merchant_name_dummy'])\n",
    "onehot = onehot.fit(agg1)\n",
    "agg2 = onehot.transform(agg1)\n",
    "\n",
    "# Assembling Features Vector\n",
    "assembler = VectorAssembler(inputCols=['merchant_name_dummy', 'ACT', 'NSW', 'QLD', 'SA', 'TAS', 'VIC', \n",
    "                                       'WA', 'Female', 'Male', 'Undisclosed', 'month', 'year'], outputCol='features')\n",
    "agg_with_features = assembler.transform(agg2)\n",
    "agg_with_features.limit(5)"
   ]
  },
  {
   "cell_type": "code",
   "execution_count": 66,
   "id": "4cd542ad-6a97-48fa-9c59-aeb89c835002",
   "metadata": {},
   "outputs": [],
   "source": [
    "# prediction_merchants = regression.transform(agg_with_features)\n",
    "# prediction_merchants.limit(5)\n"
   ]
  },
  {
   "cell_type": "markdown",
   "id": "fc584a4d-ad89-4a12-8bb3-a66379b49926",
   "metadata": {},
   "source": [
    "### The Pandas Way"
   ]
  },
  {
   "cell_type": "code",
   "execution_count": 82,
   "id": "8f547645-2d5d-4e50-bf4d-56cc62c40321",
   "metadata": {},
   "outputs": [
    {
     "name": "stderr",
     "output_type": "stream",
     "text": [
      "                                                                                \r"
     ]
    }
   ],
   "source": [
    "final_data_pd = final_data.toPandas()"
   ]
  },
  {
   "cell_type": "code",
   "execution_count": 83,
   "id": "08f93900-a80b-45b5-8f21-b8530b68aeba",
   "metadata": {},
   "outputs": [
    {
     "data": {
      "text/html": [
       "<div>\n",
       "<style scoped>\n",
       "    .dataframe tbody tr th:only-of-type {\n",
       "        vertical-align: middle;\n",
       "    }\n",
       "\n",
       "    .dataframe tbody tr th {\n",
       "        vertical-align: top;\n",
       "    }\n",
       "\n",
       "    .dataframe thead th {\n",
       "        text-align: right;\n",
       "    }\n",
       "</style>\n",
       "<table border=\"1\" class=\"dataframe\">\n",
       "  <thead>\n",
       "    <tr style=\"text-align: right;\">\n",
       "      <th></th>\n",
       "      <th>merchant_name</th>\n",
       "      <th>merchant_abn</th>\n",
       "      <th>year</th>\n",
       "      <th>month</th>\n",
       "      <th>categories</th>\n",
       "      <th>count</th>\n",
       "      <th>null</th>\n",
       "      <th>ACT</th>\n",
       "      <th>NSW</th>\n",
       "      <th>NT</th>\n",
       "      <th>QLD</th>\n",
       "      <th>SA</th>\n",
       "      <th>TAS</th>\n",
       "      <th>VIC</th>\n",
       "      <th>WA</th>\n",
       "      <th>null</th>\n",
       "      <th>Female</th>\n",
       "      <th>Male</th>\n",
       "      <th>Undisclosed</th>\n",
       "      <th>future_count</th>\n",
       "    </tr>\n",
       "  </thead>\n",
       "  <tbody>\n",
       "    <tr>\n",
       "      <th>0</th>\n",
       "      <td>Pharetra Nibh Aliquam Consulting</td>\n",
       "      <td>67019805160</td>\n",
       "      <td>2021</td>\n",
       "      <td>11</td>\n",
       "      <td>opticians, Optical goods, and eyeglasses</td>\n",
       "      <td>295</td>\n",
       "      <td>0</td>\n",
       "      <td>1</td>\n",
       "      <td>96</td>\n",
       "      <td>5</td>\n",
       "      <td>39</td>\n",
       "      <td>28</td>\n",
       "      <td>10</td>\n",
       "      <td>62</td>\n",
       "      <td>54</td>\n",
       "      <td>0</td>\n",
       "      <td>139</td>\n",
       "      <td>125</td>\n",
       "      <td>31</td>\n",
       "      <td>279</td>\n",
       "    </tr>\n",
       "    <tr>\n",
       "      <th>1</th>\n",
       "      <td>Nisi Institute</td>\n",
       "      <td>90011689258</td>\n",
       "      <td>2021</td>\n",
       "      <td>8</td>\n",
       "      <td>computers, computer peripheral equipment, and ...</td>\n",
       "      <td>20</td>\n",
       "      <td>0</td>\n",
       "      <td>1</td>\n",
       "      <td>8</td>\n",
       "      <td>0</td>\n",
       "      <td>2</td>\n",
       "      <td>3</td>\n",
       "      <td>1</td>\n",
       "      <td>4</td>\n",
       "      <td>1</td>\n",
       "      <td>0</td>\n",
       "      <td>11</td>\n",
       "      <td>5</td>\n",
       "      <td>4</td>\n",
       "      <td>16</td>\n",
       "    </tr>\n",
       "    <tr>\n",
       "      <th>2</th>\n",
       "      <td>Nec Incorporated</td>\n",
       "      <td>82368304209</td>\n",
       "      <td>2021</td>\n",
       "      <td>11</td>\n",
       "      <td>telecom</td>\n",
       "      <td>362</td>\n",
       "      <td>0</td>\n",
       "      <td>4</td>\n",
       "      <td>99</td>\n",
       "      <td>2</td>\n",
       "      <td>52</td>\n",
       "      <td>40</td>\n",
       "      <td>15</td>\n",
       "      <td>86</td>\n",
       "      <td>64</td>\n",
       "      <td>0</td>\n",
       "      <td>156</td>\n",
       "      <td>168</td>\n",
       "      <td>38</td>\n",
       "      <td>339</td>\n",
       "    </tr>\n",
       "    <tr>\n",
       "      <th>3</th>\n",
       "      <td>Egestas Fusce Industries</td>\n",
       "      <td>98649976089</td>\n",
       "      <td>2021</td>\n",
       "      <td>9</td>\n",
       "      <td>lawn and garden supply outlets, including Nurs...</td>\n",
       "      <td>3</td>\n",
       "      <td>0</td>\n",
       "      <td>0</td>\n",
       "      <td>2</td>\n",
       "      <td>0</td>\n",
       "      <td>0</td>\n",
       "      <td>0</td>\n",
       "      <td>0</td>\n",
       "      <td>1</td>\n",
       "      <td>0</td>\n",
       "      <td>0</td>\n",
       "      <td>0</td>\n",
       "      <td>3</td>\n",
       "      <td>0</td>\n",
       "      <td>6</td>\n",
       "    </tr>\n",
       "    <tr>\n",
       "      <th>4</th>\n",
       "      <td>Rhoncus Donec Associates</td>\n",
       "      <td>96152467973</td>\n",
       "      <td>2022</td>\n",
       "      <td>1</td>\n",
       "      <td>tent and awning shops</td>\n",
       "      <td>2681</td>\n",
       "      <td>0</td>\n",
       "      <td>19</td>\n",
       "      <td>790</td>\n",
       "      <td>34</td>\n",
       "      <td>419</td>\n",
       "      <td>274</td>\n",
       "      <td>83</td>\n",
       "      <td>623</td>\n",
       "      <td>439</td>\n",
       "      <td>0</td>\n",
       "      <td>1200</td>\n",
       "      <td>1201</td>\n",
       "      <td>280</td>\n",
       "      <td>2456</td>\n",
       "    </tr>\n",
       "  </tbody>\n",
       "</table>\n",
       "</div>"
      ],
      "text/plain": [
       "                      merchant_name  merchant_abn  year  month  \\\n",
       "0  Pharetra Nibh Aliquam Consulting   67019805160  2021     11   \n",
       "1                    Nisi Institute   90011689258  2021      8   \n",
       "2                  Nec Incorporated   82368304209  2021     11   \n",
       "3          Egestas Fusce Industries   98649976089  2021      9   \n",
       "4          Rhoncus Donec Associates   96152467973  2022      1   \n",
       "\n",
       "                                          categories  count  null  ACT  NSW  \\\n",
       "0           opticians, Optical goods, and eyeglasses    295     0    1   96   \n",
       "1  computers, computer peripheral equipment, and ...     20     0    1    8   \n",
       "2                                            telecom    362     0    4   99   \n",
       "3  lawn and garden supply outlets, including Nurs...      3     0    0    2   \n",
       "4                              tent and awning shops   2681     0   19  790   \n",
       "\n",
       "   NT  QLD   SA  TAS  VIC   WA  null  Female  Male  Undisclosed  future_count  \n",
       "0   5   39   28   10   62   54     0     139   125           31           279  \n",
       "1   0    2    3    1    4    1     0      11     5            4            16  \n",
       "2   2   52   40   15   86   64     0     156   168           38           339  \n",
       "3   0    0    0    0    1    0     0       0     3            0             6  \n",
       "4  34  419  274   83  623  439     0    1200  1201          280          2456  "
      ]
     },
     "execution_count": 83,
     "metadata": {},
     "output_type": "execute_result"
    }
   ],
   "source": [
    "final_data_pd.head(5)"
   ]
  },
  {
   "cell_type": "code",
   "execution_count": 119,
   "id": "50ba08a1-7cff-4297-932b-df0df67ad645",
   "metadata": {},
   "outputs": [
    {
     "data": {
      "text/html": [
       "<div>\n",
       "<style scoped>\n",
       "    .dataframe tbody tr th:only-of-type {\n",
       "        vertical-align: middle;\n",
       "    }\n",
       "\n",
       "    .dataframe tbody tr th {\n",
       "        vertical-align: top;\n",
       "    }\n",
       "\n",
       "    .dataframe thead th {\n",
       "        text-align: right;\n",
       "    }\n",
       "</style>\n",
       "<table border=\"1\" class=\"dataframe\">\n",
       "  <thead>\n",
       "    <tr style=\"text-align: right;\">\n",
       "      <th></th>\n",
       "      <th>year</th>\n",
       "      <th>month</th>\n",
       "      <th>count</th>\n",
       "      <th>ACT</th>\n",
       "      <th>NSW</th>\n",
       "      <th>NT</th>\n",
       "      <th>QLD</th>\n",
       "      <th>SA</th>\n",
       "      <th>TAS</th>\n",
       "      <th>VIC</th>\n",
       "      <th>WA</th>\n",
       "      <th>Female</th>\n",
       "      <th>Male</th>\n",
       "      <th>Undisclosed</th>\n",
       "    </tr>\n",
       "  </thead>\n",
       "  <tbody>\n",
       "    <tr>\n",
       "      <th>0</th>\n",
       "      <td>2021</td>\n",
       "      <td>11</td>\n",
       "      <td>295</td>\n",
       "      <td>1</td>\n",
       "      <td>96</td>\n",
       "      <td>5</td>\n",
       "      <td>39</td>\n",
       "      <td>28</td>\n",
       "      <td>10</td>\n",
       "      <td>62</td>\n",
       "      <td>54</td>\n",
       "      <td>139</td>\n",
       "      <td>125</td>\n",
       "      <td>31</td>\n",
       "    </tr>\n",
       "    <tr>\n",
       "      <th>1</th>\n",
       "      <td>2021</td>\n",
       "      <td>8</td>\n",
       "      <td>20</td>\n",
       "      <td>1</td>\n",
       "      <td>8</td>\n",
       "      <td>0</td>\n",
       "      <td>2</td>\n",
       "      <td>3</td>\n",
       "      <td>1</td>\n",
       "      <td>4</td>\n",
       "      <td>1</td>\n",
       "      <td>11</td>\n",
       "      <td>5</td>\n",
       "      <td>4</td>\n",
       "    </tr>\n",
       "    <tr>\n",
       "      <th>2</th>\n",
       "      <td>2021</td>\n",
       "      <td>11</td>\n",
       "      <td>362</td>\n",
       "      <td>4</td>\n",
       "      <td>99</td>\n",
       "      <td>2</td>\n",
       "      <td>52</td>\n",
       "      <td>40</td>\n",
       "      <td>15</td>\n",
       "      <td>86</td>\n",
       "      <td>64</td>\n",
       "      <td>156</td>\n",
       "      <td>168</td>\n",
       "      <td>38</td>\n",
       "    </tr>\n",
       "    <tr>\n",
       "      <th>3</th>\n",
       "      <td>2021</td>\n",
       "      <td>9</td>\n",
       "      <td>3</td>\n",
       "      <td>0</td>\n",
       "      <td>2</td>\n",
       "      <td>0</td>\n",
       "      <td>0</td>\n",
       "      <td>0</td>\n",
       "      <td>0</td>\n",
       "      <td>1</td>\n",
       "      <td>0</td>\n",
       "      <td>0</td>\n",
       "      <td>3</td>\n",
       "      <td>0</td>\n",
       "    </tr>\n",
       "    <tr>\n",
       "      <th>4</th>\n",
       "      <td>2022</td>\n",
       "      <td>1</td>\n",
       "      <td>2681</td>\n",
       "      <td>19</td>\n",
       "      <td>790</td>\n",
       "      <td>34</td>\n",
       "      <td>419</td>\n",
       "      <td>274</td>\n",
       "      <td>83</td>\n",
       "      <td>623</td>\n",
       "      <td>439</td>\n",
       "      <td>1200</td>\n",
       "      <td>1201</td>\n",
       "      <td>280</td>\n",
       "    </tr>\n",
       "  </tbody>\n",
       "</table>\n",
       "</div>"
      ],
      "text/plain": [
       "   year  month  count  ACT  NSW  NT  QLD   SA  TAS  VIC   WA  Female  Male  \\\n",
       "0  2021     11    295    1   96   5   39   28   10   62   54     139   125   \n",
       "1  2021      8     20    1    8   0    2    3    1    4    1      11     5   \n",
       "2  2021     11    362    4   99   2   52   40   15   86   64     156   168   \n",
       "3  2021      9      3    0    2   0    0    0    0    1    0       0     3   \n",
       "4  2022      1   2681   19  790  34  419  274   83  623  439    1200  1201   \n",
       "\n",
       "   Undisclosed  \n",
       "0           31  \n",
       "1            4  \n",
       "2           38  \n",
       "3            0  \n",
       "4          280  "
      ]
     },
     "execution_count": 119,
     "metadata": {},
     "output_type": "execute_result"
    }
   ],
   "source": [
    "y = final_data_pd['future_count']\n",
    "x = final_data_pd.drop(['merchant_name', 'merchant_abn', 'categories', 'null', 'null', 'future_count'], axis=1)\n",
    "x.head(5)"
   ]
  },
  {
   "cell_type": "code",
   "execution_count": 120,
   "id": "b1941c8d-2481-45ad-82b0-c7fdc7b06867",
   "metadata": {},
   "outputs": [],
   "source": [
    "from sklearn.model_selection import train_test_split\n",
    "x_train, x_test, y_train, y_test = train_test_split(x, y, test_size = 0.2, random_state = 42)"
   ]
  },
  {
   "cell_type": "code",
   "execution_count": 121,
   "id": "2af9099a-82aa-4fa1-8829-617574fc6497",
   "metadata": {},
   "outputs": [
    {
     "data": {
      "text/plain": [
       "array([ 57.32982156,  27.30018488,  15.45481589, ..., -29.92509919,\n",
       "        81.59452762, 227.84140954])"
      ]
     },
     "execution_count": 121,
     "metadata": {},
     "output_type": "execute_result"
    }
   ],
   "source": [
    "from sklearn.linear_model import LinearRegression\n",
    "\n",
    "LR = LinearRegression()\n",
    "LR.fit(x_train,y_train)\n",
    "y_prediction =  LR.predict(x_test)\n",
    "y_prediction"
   ]
  },
  {
   "cell_type": "code",
   "execution_count": 123,
   "id": "80bc4e99-0a7c-47c8-9c76-651b03f864b4",
   "metadata": {},
   "outputs": [
    {
     "name": "stdout",
     "output_type": "stream",
     "text": [
      "r2 score is  0.9174990260517829\n",
      "mean_sqrd_error is = 42179.960224661074\n",
      "root_mean_squared error of is = 205.37760399970847\n",
      "MAE: 52.982\n"
     ]
    }
   ],
   "source": [
    "# importing r2_score module\n",
    "from sklearn.metrics import r2_score\n",
    "from sklearn.metrics import mean_squared_error\n",
    "from sklearn.metrics import mean_absolute_error\n",
    "\n",
    "# predicting the accuracy score\n",
    "score=r2_score(y_test,y_prediction)\n",
    "mae = mean_absolute_error(y_test, y_prediction)\n",
    "\n",
    "print('r2 score is ',score)\n",
    "print('mean_sqrd_error is =',mean_squared_error(y_test,y_prediction))\n",
    "print('root_mean_squared error of is =',np.sqrt(mean_squared_error(y_test,y_prediction)))\n",
    "print('MAE: %.3f' % mae)"
   ]
  },
  {
   "cell_type": "code",
   "execution_count": null,
   "id": "246ce32a-9d24-4f50-88b6-cd1adde77023",
   "metadata": {},
   "outputs": [],
   "source": []
  },
  {
   "cell_type": "code",
   "execution_count": null,
   "id": "475e9af0-7ca1-40e1-8bec-2aef25e1d0fb",
   "metadata": {},
   "outputs": [],
   "source": []
  },
  {
   "cell_type": "code",
   "execution_count": null,
   "id": "f90e64ea-e4e7-428a-947d-422932fb436a",
   "metadata": {},
   "outputs": [],
   "source": []
  },
  {
   "cell_type": "markdown",
   "id": "669b58e7-01b1-4d22-a555-bf990f6bdb49",
   "metadata": {},
   "source": [
    "### Feature Selection"
   ]
  },
  {
   "cell_type": "code",
   "execution_count": 127,
   "id": "9c645bf7-6448-4abc-aef1-67b051994ea0",
   "metadata": {},
   "outputs": [
    {
     "name": "stdout",
     "output_type": "stream",
     "text": [
      "Feature 0: 14.827850\n",
      "Feature 1: 8.476363\n",
      "Feature 2: 303633.189021\n",
      "Feature 3: 224025.939106\n",
      "Feature 4: 300882.863934\n",
      "Feature 5: 248778.215078\n",
      "Feature 6: 298519.862343\n",
      "Feature 7: 293437.572917\n",
      "Feature 8: 273110.754190\n",
      "Feature 9: 298340.238976\n",
      "Feature 10: 301151.039323\n",
      "Feature 11: 302978.858664\n",
      "Feature 12: 301511.975107\n",
      "Feature 13: 295773.867827\n"
     ]
    },
    {
     "data": {
      "image/png": "[encoded data removed]",
      "text/plain": [
       "<Figure size 432x288 with 1 Axes>"
      ]
     },
     "metadata": {
      "needs_background": "light"
     },
     "output_type": "display_data"
    }
   ],
   "source": [
    "# example of correlation feature selection for numerical data\n",
    "from sklearn.datasets import make_regression\n",
    "from sklearn.model_selection import train_test_split\n",
    "from sklearn.feature_selection import SelectKBest\n",
    "from sklearn.feature_selection import f_regression\n",
    "from matplotlib import pyplot\n",
    " \n",
    "# feature selection\n",
    "def select_features(X_train, y_train, X_test):\n",
    "    # configure to select all features\n",
    "    fs = SelectKBest(score_func=f_regression, k=5)\n",
    "    # learn relationship from training data\n",
    "    fs.fit(X_train, y_train)\n",
    "    # transform train input data\n",
    "    X_train_fs = fs.transform(X_train)\n",
    "    # transform test input data\n",
    "    X_test_fs = fs.transform(X_test)\n",
    "    return X_train_fs, X_test_fs, fs\n",
    "\n",
    "# split into train and test sets\n",
    "X_train, X_test, y_train, y_test = train_test_split(x, y, test_size=0.20, random_state=1)\n",
    "# feature selection\n",
    "X_train_fs, X_test_fs, fs = select_features(X_train, y_train, X_test)\n",
    "# what are scores for the features\n",
    "for i in range(len(fs.scores_)):\n",
    "    print('Feature %d: %f' % (i, fs.scores_[i]))\n",
    "# plot the scores\n",
    "pyplot.bar([i for i in range(len(fs.scores_))], fs.scores_)\n",
    "pyplot.show()"
   ]
  },
  {
   "cell_type": "code",
   "execution_count": 128,
   "id": "fde36f19-7401-4b05-8542-9554387cd22f",
   "metadata": {},
   "outputs": [
    {
     "name": "stdout",
     "output_type": "stream",
     "text": [
      "r2 score is  0.9072077151671256\n",
      "mean_sqrd_error is = 61304.49464172689\n",
      "root_mean_squared error of is = 247.5974447398981\n",
      "MAE: 46.663\n"
     ]
    }
   ],
   "source": [
    "# fit the model\n",
    "model = LinearRegression()\n",
    "model.fit(X_train_fs, y_train)\n",
    "\n",
    "# evaluate the model\n",
    "yhat = model.predict(X_test_fs)\n",
    "\n",
    "# evaluate predictions\n",
    "mae = mean_absolute_error(y_test, yhat)\n",
    "score=r2_score(y_test,yhat)\n",
    "\n",
    "print('r2 score is ',score)\n",
    "print('mean_sqrd_error is =',mean_squared_error(y_test,yhat))\n",
    "print('root_mean_squared error of is =',np.sqrt(mean_squared_error(y_test,yhat)))\n",
    "print('MAE: %.3f' % mae)"
   ]
  },
  {
   "cell_type": "code",
   "execution_count": 136,
   "id": "e9884b8f-c468-497d-8096-16a39de6be79",
   "metadata": {},
   "outputs": [
    {
     "data": {
      "text/html": [
       "<div>\n",
       "<style scoped>\n",
       "    .dataframe tbody tr th:only-of-type {\n",
       "        vertical-align: middle;\n",
       "    }\n",
       "\n",
       "    .dataframe tbody tr th {\n",
       "        vertical-align: top;\n",
       "    }\n",
       "\n",
       "    .dataframe thead th {\n",
       "        text-align: right;\n",
       "    }\n",
       "</style>\n",
       "<table border=\"1\" class=\"dataframe\">\n",
       "  <thead>\n",
       "    <tr style=\"text-align: right;\">\n",
       "      <th></th>\n",
       "      <th>year</th>\n",
       "      <th>month</th>\n",
       "      <th>count</th>\n",
       "      <th>ACT</th>\n",
       "      <th>NSW</th>\n",
       "      <th>NT</th>\n",
       "      <th>QLD</th>\n",
       "      <th>SA</th>\n",
       "      <th>TAS</th>\n",
       "      <th>VIC</th>\n",
       "      <th>WA</th>\n",
       "      <th>Female</th>\n",
       "      <th>Male</th>\n",
       "      <th>Undisclosed</th>\n",
       "    </tr>\n",
       "  </thead>\n",
       "  <tbody>\n",
       "    <tr>\n",
       "      <th>0</th>\n",
       "      <td>2022</td>\n",
       "      <td>2</td>\n",
       "      <td>59</td>\n",
       "      <td>1</td>\n",
       "      <td>14</td>\n",
       "      <td>0</td>\n",
       "      <td>7</td>\n",
       "      <td>4</td>\n",
       "      <td>3</td>\n",
       "      <td>23</td>\n",
       "      <td>7</td>\n",
       "      <td>19</td>\n",
       "      <td>37</td>\n",
       "      <td>3</td>\n",
       "    </tr>\n",
       "    <tr>\n",
       "      <th>1</th>\n",
       "      <td>2022</td>\n",
       "      <td>2</td>\n",
       "      <td>311</td>\n",
       "      <td>1</td>\n",
       "      <td>102</td>\n",
       "      <td>3</td>\n",
       "      <td>36</td>\n",
       "      <td>37</td>\n",
       "      <td>15</td>\n",
       "      <td>62</td>\n",
       "      <td>55</td>\n",
       "      <td>133</td>\n",
       "      <td>147</td>\n",
       "      <td>31</td>\n",
       "    </tr>\n",
       "    <tr>\n",
       "      <th>2</th>\n",
       "      <td>2022</td>\n",
       "      <td>2</td>\n",
       "      <td>4</td>\n",
       "      <td>0</td>\n",
       "      <td>1</td>\n",
       "      <td>0</td>\n",
       "      <td>0</td>\n",
       "      <td>0</td>\n",
       "      <td>0</td>\n",
       "      <td>2</td>\n",
       "      <td>1</td>\n",
       "      <td>0</td>\n",
       "      <td>4</td>\n",
       "      <td>0</td>\n",
       "    </tr>\n",
       "    <tr>\n",
       "      <th>3</th>\n",
       "      <td>2022</td>\n",
       "      <td>2</td>\n",
       "      <td>6</td>\n",
       "      <td>0</td>\n",
       "      <td>1</td>\n",
       "      <td>1</td>\n",
       "      <td>1</td>\n",
       "      <td>0</td>\n",
       "      <td>0</td>\n",
       "      <td>3</td>\n",
       "      <td>0</td>\n",
       "      <td>3</td>\n",
       "      <td>3</td>\n",
       "      <td>0</td>\n",
       "    </tr>\n",
       "    <tr>\n",
       "      <th>4</th>\n",
       "      <td>2022</td>\n",
       "      <td>2</td>\n",
       "      <td>106</td>\n",
       "      <td>1</td>\n",
       "      <td>38</td>\n",
       "      <td>4</td>\n",
       "      <td>10</td>\n",
       "      <td>10</td>\n",
       "      <td>7</td>\n",
       "      <td>22</td>\n",
       "      <td>14</td>\n",
       "      <td>44</td>\n",
       "      <td>51</td>\n",
       "      <td>11</td>\n",
       "    </tr>\n",
       "  </tbody>\n",
       "</table>\n",
       "</div>"
      ],
      "text/plain": [
       "   year  month  count  ACT  NSW  NT  QLD  SA  TAS  VIC  WA  Female  Male  \\\n",
       "0  2022      2     59    1   14   0    7   4    3   23   7      19    37   \n",
       "1  2022      2    311    1  102   3   36  37   15   62  55     133   147   \n",
       "2  2022      2      4    0    1   0    0   0    0    2   1       0     4   \n",
       "3  2022      2      6    0    1   1    1   0    0    3   0       3     3   \n",
       "4  2022      2    106    1   38   4   10  10    7   22  14      44    51   \n",
       "\n",
       "   Undisclosed  \n",
       "0            3  \n",
       "1           31  \n",
       "2            0  \n",
       "3            0  \n",
       "4           11  "
      ]
     },
     "execution_count": 136,
     "metadata": {},
     "output_type": "execute_result"
    }
   ],
   "source": [
    "predicting_data_pd = predicting_data.toPandas()\n",
    "x = predicting_data_pd.drop(['merchant_name', 'merchant_abn', 'categories', 'null', 'null', 'future_count'], axis=1)\n",
    "x.head(5)"
   ]
  },
  {
   "cell_type": "code",
   "execution_count": 137,
   "id": "b11fe1b6-c21b-4acf-b7e3-2065221e384a",
   "metadata": {},
   "outputs": [
    {
     "name": "stdout",
     "output_type": "stream",
     "text": [
      "<class 'numpy.ndarray'>\n"
     ]
    }
   ],
   "source": [
    "print(type(fs.scores_))"
   ]
  },
  {
   "cell_type": "code",
   "execution_count": 138,
   "id": "e7e820ee-21d4-47e7-a607-8b0e56ad3d59",
   "metadata": {},
   "outputs": [
    {
     "data": {
      "text/plain": [
       "array([ 38.27413155, 252.98144858, -12.49934741, ...,  -5.86619159,\n",
       "       -12.45876637, -17.4151835 ])"
      ]
     },
     "execution_count": 138,
     "metadata": {},
     "output_type": "execute_result"
    }
   ],
   "source": [
    "y_prediction =  LR.predict(x)\n",
    "y_prediction"
   ]
  },
  {
   "cell_type": "code",
   "execution_count": 141,
   "id": "51caf7a4-4efa-4bd9-9767-fc176d1041c2",
   "metadata": {},
   "outputs": [],
   "source": [
    "x['prediction'] = y_prediction"
   ]
  },
  {
   "cell_type": "code",
   "execution_count": 143,
   "id": "7d1912a5-306b-45ed-96fc-8d2749eff82b",
   "metadata": {},
   "outputs": [
    {
     "data": {
      "text/html": [
       "<div>\n",
       "<style scoped>\n",
       "    .dataframe tbody tr th:only-of-type {\n",
       "        vertical-align: middle;\n",
       "    }\n",
       "\n",
       "    .dataframe tbody tr th {\n",
       "        vertical-align: top;\n",
       "    }\n",
       "\n",
       "    .dataframe thead th {\n",
       "        text-align: right;\n",
       "    }\n",
       "</style>\n",
       "<table border=\"1\" class=\"dataframe\">\n",
       "  <thead>\n",
       "    <tr style=\"text-align: right;\">\n",
       "      <th></th>\n",
       "      <th>year</th>\n",
       "      <th>month</th>\n",
       "      <th>count</th>\n",
       "      <th>ACT</th>\n",
       "      <th>NSW</th>\n",
       "      <th>NT</th>\n",
       "      <th>QLD</th>\n",
       "      <th>SA</th>\n",
       "      <th>TAS</th>\n",
       "      <th>VIC</th>\n",
       "      <th>WA</th>\n",
       "      <th>Female</th>\n",
       "      <th>Male</th>\n",
       "      <th>Undisclosed</th>\n",
       "      <th>prediction</th>\n",
       "    </tr>\n",
       "  </thead>\n",
       "  <tbody>\n",
       "    <tr>\n",
       "      <th>0</th>\n",
       "      <td>2022</td>\n",
       "      <td>2</td>\n",
       "      <td>59</td>\n",
       "      <td>1</td>\n",
       "      <td>14</td>\n",
       "      <td>0</td>\n",
       "      <td>7</td>\n",
       "      <td>4</td>\n",
       "      <td>3</td>\n",
       "      <td>23</td>\n",
       "      <td>7</td>\n",
       "      <td>19</td>\n",
       "      <td>37</td>\n",
       "      <td>3</td>\n",
       "      <td>38.274132</td>\n",
       "    </tr>\n",
       "    <tr>\n",
       "      <th>1</th>\n",
       "      <td>2022</td>\n",
       "      <td>2</td>\n",
       "      <td>311</td>\n",
       "      <td>1</td>\n",
       "      <td>102</td>\n",
       "      <td>3</td>\n",
       "      <td>36</td>\n",
       "      <td>37</td>\n",
       "      <td>15</td>\n",
       "      <td>62</td>\n",
       "      <td>55</td>\n",
       "      <td>133</td>\n",
       "      <td>147</td>\n",
       "      <td>31</td>\n",
       "      <td>252.981449</td>\n",
       "    </tr>\n",
       "    <tr>\n",
       "      <th>2</th>\n",
       "      <td>2022</td>\n",
       "      <td>2</td>\n",
       "      <td>4</td>\n",
       "      <td>0</td>\n",
       "      <td>1</td>\n",
       "      <td>0</td>\n",
       "      <td>0</td>\n",
       "      <td>0</td>\n",
       "      <td>0</td>\n",
       "      <td>2</td>\n",
       "      <td>1</td>\n",
       "      <td>0</td>\n",
       "      <td>4</td>\n",
       "      <td>0</td>\n",
       "      <td>-12.499347</td>\n",
       "    </tr>\n",
       "    <tr>\n",
       "      <th>3</th>\n",
       "      <td>2022</td>\n",
       "      <td>2</td>\n",
       "      <td>6</td>\n",
       "      <td>0</td>\n",
       "      <td>1</td>\n",
       "      <td>1</td>\n",
       "      <td>1</td>\n",
       "      <td>0</td>\n",
       "      <td>0</td>\n",
       "      <td>3</td>\n",
       "      <td>0</td>\n",
       "      <td>3</td>\n",
       "      <td>3</td>\n",
       "      <td>0</td>\n",
       "      <td>-8.381468</td>\n",
       "    </tr>\n",
       "    <tr>\n",
       "      <th>4</th>\n",
       "      <td>2022</td>\n",
       "      <td>2</td>\n",
       "      <td>106</td>\n",
       "      <td>1</td>\n",
       "      <td>38</td>\n",
       "      <td>4</td>\n",
       "      <td>10</td>\n",
       "      <td>10</td>\n",
       "      <td>7</td>\n",
       "      <td>22</td>\n",
       "      <td>14</td>\n",
       "      <td>44</td>\n",
       "      <td>51</td>\n",
       "      <td>11</td>\n",
       "      <td>74.088811</td>\n",
       "    </tr>\n",
       "    <tr>\n",
       "      <th>5</th>\n",
       "      <td>2022</td>\n",
       "      <td>2</td>\n",
       "      <td>1</td>\n",
       "      <td>0</td>\n",
       "      <td>0</td>\n",
       "      <td>0</td>\n",
       "      <td>0</td>\n",
       "      <td>0</td>\n",
       "      <td>0</td>\n",
       "      <td>0</td>\n",
       "      <td>1</td>\n",
       "      <td>1</td>\n",
       "      <td>0</td>\n",
       "      <td>0</td>\n",
       "      <td>-17.415183</td>\n",
       "    </tr>\n",
       "    <tr>\n",
       "      <th>6</th>\n",
       "      <td>2022</td>\n",
       "      <td>2</td>\n",
       "      <td>2</td>\n",
       "      <td>0</td>\n",
       "      <td>0</td>\n",
       "      <td>0</td>\n",
       "      <td>0</td>\n",
       "      <td>1</td>\n",
       "      <td>0</td>\n",
       "      <td>1</td>\n",
       "      <td>0</td>\n",
       "      <td>2</td>\n",
       "      <td>0</td>\n",
       "      <td>0</td>\n",
       "      <td>-16.811200</td>\n",
       "    </tr>\n",
       "    <tr>\n",
       "      <th>7</th>\n",
       "      <td>2022</td>\n",
       "      <td>2</td>\n",
       "      <td>1</td>\n",
       "      <td>1</td>\n",
       "      <td>0</td>\n",
       "      <td>0</td>\n",
       "      <td>0</td>\n",
       "      <td>0</td>\n",
       "      <td>0</td>\n",
       "      <td>0</td>\n",
       "      <td>0</td>\n",
       "      <td>0</td>\n",
       "      <td>1</td>\n",
       "      <td>0</td>\n",
       "      <td>-13.636192</td>\n",
       "    </tr>\n",
       "    <tr>\n",
       "      <th>8</th>\n",
       "      <td>2022</td>\n",
       "      <td>2</td>\n",
       "      <td>111</td>\n",
       "      <td>0</td>\n",
       "      <td>27</td>\n",
       "      <td>1</td>\n",
       "      <td>17</td>\n",
       "      <td>18</td>\n",
       "      <td>4</td>\n",
       "      <td>25</td>\n",
       "      <td>19</td>\n",
       "      <td>48</td>\n",
       "      <td>54</td>\n",
       "      <td>9</td>\n",
       "      <td>93.455273</td>\n",
       "    </tr>\n",
       "    <tr>\n",
       "      <th>9</th>\n",
       "      <td>2022</td>\n",
       "      <td>2</td>\n",
       "      <td>582</td>\n",
       "      <td>4</td>\n",
       "      <td>153</td>\n",
       "      <td>9</td>\n",
       "      <td>93</td>\n",
       "      <td>65</td>\n",
       "      <td>23</td>\n",
       "      <td>135</td>\n",
       "      <td>100</td>\n",
       "      <td>285</td>\n",
       "      <td>247</td>\n",
       "      <td>50</td>\n",
       "      <td>527.834626</td>\n",
       "    </tr>\n",
       "  </tbody>\n",
       "</table>\n",
       "</div>"
      ],
      "text/plain": [
       "   year  month  count  ACT  NSW  NT  QLD  SA  TAS  VIC   WA  Female  Male  \\\n",
       "0  2022      2     59    1   14   0    7   4    3   23    7      19    37   \n",
       "1  2022      2    311    1  102   3   36  37   15   62   55     133   147   \n",
       "2  2022      2      4    0    1   0    0   0    0    2    1       0     4   \n",
       "3  2022      2      6    0    1   1    1   0    0    3    0       3     3   \n",
       "4  2022      2    106    1   38   4   10  10    7   22   14      44    51   \n",
       "5  2022      2      1    0    0   0    0   0    0    0    1       1     0   \n",
       "6  2022      2      2    0    0   0    0   1    0    1    0       2     0   \n",
       "7  2022      2      1    1    0   0    0   0    0    0    0       0     1   \n",
       "8  2022      2    111    0   27   1   17  18    4   25   19      48    54   \n",
       "9  2022      2    582    4  153   9   93  65   23  135  100     285   247   \n",
       "\n",
       "   Undisclosed  prediction  \n",
       "0            3   38.274132  \n",
       "1           31  252.981449  \n",
       "2            0  -12.499347  \n",
       "3            0   -8.381468  \n",
       "4           11   74.088811  \n",
       "5            0  -17.415183  \n",
       "6            0  -16.811200  \n",
       "7            0  -13.636192  \n",
       "8            9   93.455273  \n",
       "9           50  527.834626  "
      ]
     },
     "execution_count": 143,
     "metadata": {},
     "output_type": "execute_result"
    }
   ],
   "source": [
    "x.head(10)"
   ]
  },
  {
   "cell_type": "code",
   "execution_count": 150,
   "id": "46638503-4a08-4715-b2db-f3ada634b52d",
   "metadata": {},
   "outputs": [
    {
     "data": {
      "text/html": [
       "<div>\n",
       "<style scoped>\n",
       "    .dataframe tbody tr th:only-of-type {\n",
       "        vertical-align: middle;\n",
       "    }\n",
       "\n",
       "    .dataframe tbody tr th {\n",
       "        vertical-align: top;\n",
       "    }\n",
       "\n",
       "    .dataframe thead th {\n",
       "        text-align: right;\n",
       "    }\n",
       "</style>\n",
       "<table border=\"1\" class=\"dataframe\">\n",
       "  <thead>\n",
       "    <tr style=\"text-align: right;\">\n",
       "      <th></th>\n",
       "      <th>year</th>\n",
       "      <th>month</th>\n",
       "      <th>count</th>\n",
       "      <th>ACT</th>\n",
       "      <th>NSW</th>\n",
       "      <th>NT</th>\n",
       "      <th>QLD</th>\n",
       "      <th>SA</th>\n",
       "      <th>TAS</th>\n",
       "      <th>VIC</th>\n",
       "      <th>...</th>\n",
       "      <th>Female</th>\n",
       "      <th>Male</th>\n",
       "      <th>Undisclosed</th>\n",
       "      <th>prediction</th>\n",
       "      <th>merchant_name</th>\n",
       "      <th>merchant_abn</th>\n",
       "      <th>categories</th>\n",
       "      <th>null</th>\n",
       "      <th>null</th>\n",
       "      <th>future_count</th>\n",
       "    </tr>\n",
       "  </thead>\n",
       "  <tbody>\n",
       "    <tr>\n",
       "      <th>0</th>\n",
       "      <td>2022</td>\n",
       "      <td>2</td>\n",
       "      <td>59</td>\n",
       "      <td>1</td>\n",
       "      <td>14</td>\n",
       "      <td>0</td>\n",
       "      <td>7</td>\n",
       "      <td>4</td>\n",
       "      <td>3</td>\n",
       "      <td>23</td>\n",
       "      <td>...</td>\n",
       "      <td>19</td>\n",
       "      <td>37</td>\n",
       "      <td>3</td>\n",
       "      <td>38.274132</td>\n",
       "      <td>Scelerisque LLP</td>\n",
       "      <td>58727332026</td>\n",
       "      <td>artist supply And  craft shops</td>\n",
       "      <td>0</td>\n",
       "      <td>0</td>\n",
       "      <td>0</td>\n",
       "    </tr>\n",
       "    <tr>\n",
       "      <th>1</th>\n",
       "      <td>2022</td>\n",
       "      <td>2</td>\n",
       "      <td>311</td>\n",
       "      <td>1</td>\n",
       "      <td>102</td>\n",
       "      <td>3</td>\n",
       "      <td>36</td>\n",
       "      <td>37</td>\n",
       "      <td>15</td>\n",
       "      <td>62</td>\n",
       "      <td>...</td>\n",
       "      <td>133</td>\n",
       "      <td>147</td>\n",
       "      <td>31</td>\n",
       "      <td>252.981449</td>\n",
       "      <td>Diam Eu Dolor PC</td>\n",
       "      <td>39211701585</td>\n",
       "      <td>shoe shops</td>\n",
       "      <td>0</td>\n",
       "      <td>0</td>\n",
       "      <td>0</td>\n",
       "    </tr>\n",
       "    <tr>\n",
       "      <th>2</th>\n",
       "      <td>2022</td>\n",
       "      <td>2</td>\n",
       "      <td>4</td>\n",
       "      <td>0</td>\n",
       "      <td>1</td>\n",
       "      <td>0</td>\n",
       "      <td>0</td>\n",
       "      <td>0</td>\n",
       "      <td>0</td>\n",
       "      <td>2</td>\n",
       "      <td>...</td>\n",
       "      <td>0</td>\n",
       "      <td>4</td>\n",
       "      <td>0</td>\n",
       "      <td>-12.499347</td>\n",
       "      <td>Congue Turpis Limited</td>\n",
       "      <td>66522814831</td>\n",
       "      <td>art dealers and galleries</td>\n",
       "      <td>0</td>\n",
       "      <td>0</td>\n",
       "      <td>0</td>\n",
       "    </tr>\n",
       "    <tr>\n",
       "      <th>3</th>\n",
       "      <td>2022</td>\n",
       "      <td>2</td>\n",
       "      <td>6</td>\n",
       "      <td>0</td>\n",
       "      <td>1</td>\n",
       "      <td>1</td>\n",
       "      <td>1</td>\n",
       "      <td>0</td>\n",
       "      <td>0</td>\n",
       "      <td>3</td>\n",
       "      <td>...</td>\n",
       "      <td>3</td>\n",
       "      <td>3</td>\n",
       "      <td>0</td>\n",
       "      <td>-8.381468</td>\n",
       "      <td>Aenean LLP</td>\n",
       "      <td>74084069481</td>\n",
       "      <td>music shops - musical instruments, pianos, and...</td>\n",
       "      <td>0</td>\n",
       "      <td>0</td>\n",
       "      <td>0</td>\n",
       "    </tr>\n",
       "    <tr>\n",
       "      <th>4</th>\n",
       "      <td>2022</td>\n",
       "      <td>2</td>\n",
       "      <td>106</td>\n",
       "      <td>1</td>\n",
       "      <td>38</td>\n",
       "      <td>4</td>\n",
       "      <td>10</td>\n",
       "      <td>10</td>\n",
       "      <td>7</td>\n",
       "      <td>22</td>\n",
       "      <td>...</td>\n",
       "      <td>44</td>\n",
       "      <td>51</td>\n",
       "      <td>11</td>\n",
       "      <td>74.088811</td>\n",
       "      <td>Felis Institute</td>\n",
       "      <td>49167531725</td>\n",
       "      <td>digital goods: books, movies, music</td>\n",
       "      <td>0</td>\n",
       "      <td>0</td>\n",
       "      <td>0</td>\n",
       "    </tr>\n",
       "  </tbody>\n",
       "</table>\n",
       "<p>5 rows × 21 columns</p>\n",
       "</div>"
      ],
      "text/plain": [
       "   year  month  count  ACT  NSW  NT  QLD  SA  TAS  VIC  ...  Female  Male  \\\n",
       "0  2022      2     59    1   14   0    7   4    3   23  ...      19    37   \n",
       "1  2022      2    311    1  102   3   36  37   15   62  ...     133   147   \n",
       "2  2022      2      4    0    1   0    0   0    0    2  ...       0     4   \n",
       "3  2022      2      6    0    1   1    1   0    0    3  ...       3     3   \n",
       "4  2022      2    106    1   38   4   10  10    7   22  ...      44    51   \n",
       "\n",
       "   Undisclosed  prediction          merchant_name merchant_abn  \\\n",
       "0            3   38.274132        Scelerisque LLP  58727332026   \n",
       "1           31  252.981449       Diam Eu Dolor PC  39211701585   \n",
       "2            0  -12.499347  Congue Turpis Limited  66522814831   \n",
       "3            0   -8.381468             Aenean LLP  74084069481   \n",
       "4           11   74.088811        Felis Institute  49167531725   \n",
       "\n",
       "                                          categories  null  null  future_count  \n",
       "0                     artist supply And  craft shops     0     0             0  \n",
       "1                                         shoe shops     0     0             0  \n",
       "2                          art dealers and galleries     0     0             0  \n",
       "3  music shops - musical instruments, pianos, and...     0     0             0  \n",
       "4                digital goods: books, movies, music     0     0             0  \n",
       "\n",
       "[5 rows x 21 columns]"
      ]
     },
     "execution_count": 150,
     "metadata": {},
     "output_type": "execute_result"
    }
   ],
   "source": [
    "predictions_df = pd.merge(x, predicting_data_pd, how='left', \n",
    "                                          left_on=['year', 'month', 'count', 'ACT', 'NSW', 'NT', 'QLD', 'SA', \n",
    "                                                   'TAS', 'VIC', 'WA', 'Female', 'Male', 'Undisclosed'], \n",
    "                                          right_on = ['year', 'month', 'count', 'ACT', 'NSW', 'NT', 'QLD', 'SA', \n",
    "                                                   'TAS', 'VIC', 'WA', 'Female', 'Male', 'Undisclosed'])\n",
    "\n",
    "predictions_df.head()\n"
   ]
  },
  {
   "cell_type": "code",
   "execution_count": 152,
   "id": "89719b58-2ebb-4b8b-a141-aa38c5d5fb03",
   "metadata": {},
   "outputs": [
    {
     "data": {
      "text/html": [
       "<div>\n",
       "<style scoped>\n",
       "    .dataframe tbody tr th:only-of-type {\n",
       "        vertical-align: middle;\n",
       "    }\n",
       "\n",
       "    .dataframe tbody tr th {\n",
       "        vertical-align: top;\n",
       "    }\n",
       "\n",
       "    .dataframe thead th {\n",
       "        text-align: right;\n",
       "    }\n",
       "</style>\n",
       "<table border=\"1\" class=\"dataframe\">\n",
       "  <thead>\n",
       "    <tr style=\"text-align: right;\">\n",
       "      <th></th>\n",
       "      <th>merchant_name</th>\n",
       "      <th>merchant_abn</th>\n",
       "      <th>prediction</th>\n",
       "    </tr>\n",
       "  </thead>\n",
       "  <tbody>\n",
       "    <tr>\n",
       "      <th>0</th>\n",
       "      <td>Scelerisque LLP</td>\n",
       "      <td>58727332026</td>\n",
       "      <td>38.274132</td>\n",
       "    </tr>\n",
       "    <tr>\n",
       "      <th>1</th>\n",
       "      <td>Diam Eu Dolor PC</td>\n",
       "      <td>39211701585</td>\n",
       "      <td>252.981449</td>\n",
       "    </tr>\n",
       "    <tr>\n",
       "      <th>2</th>\n",
       "      <td>Congue Turpis Limited</td>\n",
       "      <td>66522814831</td>\n",
       "      <td>-12.499347</td>\n",
       "    </tr>\n",
       "    <tr>\n",
       "      <th>3</th>\n",
       "      <td>Aenean LLP</td>\n",
       "      <td>74084069481</td>\n",
       "      <td>-8.381468</td>\n",
       "    </tr>\n",
       "    <tr>\n",
       "      <th>4</th>\n",
       "      <td>Felis Institute</td>\n",
       "      <td>49167531725</td>\n",
       "      <td>74.088811</td>\n",
       "    </tr>\n",
       "  </tbody>\n",
       "</table>\n",
       "</div>"
      ],
      "text/plain": [
       "           merchant_name  merchant_abn  prediction\n",
       "0        Scelerisque LLP   58727332026   38.274132\n",
       "1       Diam Eu Dolor PC   39211701585  252.981449\n",
       "2  Congue Turpis Limited   66522814831  -12.499347\n",
       "3             Aenean LLP   74084069481   -8.381468\n",
       "4        Felis Institute   49167531725   74.088811"
      ]
     },
     "execution_count": 152,
     "metadata": {},
     "output_type": "execute_result"
    }
   ],
   "source": [
    "no_cust_ranking_feature = predictions_df[['merchant_name','merchant_abn','prediction']]\n",
    "no_cust_ranking_feature.head(5)"
   ]
  },
  {
   "cell_type": "code",
   "execution_count": null,
   "id": "ba75b5f6-e15e-45ff-9f50-0ff22360fffa",
   "metadata": {},
   "outputs": [],
   "source": []
  }
 ],
 "metadata": {
  "kernelspec": {
   "display_name": "Python 3.9.6 64-bit",
   "language": "python",
   "name": "python3"
  },
  "language_info": {
   "codemirror_mode": {
    "name": "ipython",
    "version": 3
   },
   "file_extension": ".py",
   "mimetype": "text/x-python",
   "name": "python",
   "nbconvert_exporter": "python",
   "pygments_lexer": "ipython3",
   "version": "3.9.6"
  },
  "vscode": {
   "interpreter": {
    "hash": "31f2aee4e71d21fbe5cf8b01ff0e069b9275f58929596ceb00d14d90e3e16cd6"
   }
  }
 },
 "nbformat": 4,
 "nbformat_minor": 5
}
