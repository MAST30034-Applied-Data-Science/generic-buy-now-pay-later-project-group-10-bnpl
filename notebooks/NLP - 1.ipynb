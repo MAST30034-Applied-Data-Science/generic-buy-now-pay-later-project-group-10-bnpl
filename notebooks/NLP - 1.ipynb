{
 "cells": [
  {
   "cell_type": "code",
   "execution_count": 1,
   "metadata": {},
   "outputs": [],
   "source": [
    "import pandas as pd\n",
    "from pyspark.sql import SparkSession, functions as F\n",
    "import lbl2vec\n",
    "from sklearn.feature_extraction.text import TfidfVectorizer\n",
    "from sklearn.cluster import KMeans\n",
    "import numpy as np"
   ]
  },
  {
   "cell_type": "code",
   "execution_count": 2,
   "metadata": {},
   "outputs": [
    {
     "name": "stdout",
     "output_type": "stream",
     "text": [
      "22/10/03 11:09:05 WARN Utils: Your hostname, MacBook-Air-3.local resolves to a loopback address: 127.0.0.1; using 192.168.0.66 instead (on interface en0)\n",
      "22/10/03 11:09:05 WARN Utils: Set SPARK_LOCAL_IP if you need to bind to another address\n"
     ]
    },
    {
     "name": "stderr",
     "output_type": "stream",
     "text": [
      "Setting default log level to \"WARN\".\n",
      "To adjust logging level use sc.setLogLevel(newLevel). For SparkR, use setLogLevel(newLevel).\n"
     ]
    },
    {
     "name": "stdout",
     "output_type": "stream",
     "text": [
      "22/10/03 11:09:05 WARN NativeCodeLoader: Unable to load native-hadoop library for your platform... using builtin-java classes where applicable\n"
     ]
    }
   ],
   "source": [
    "# Create a spark session\n",
    "spark = (\n",
    "    SparkSession.builder.appName(\"MAST30034 Project 2\")\n",
    "    .config(\"spark.sql.repl.eagerEval.enabled\", True) \n",
    "    .config(\"spark.sql.parquet.cacheMetadata\", \"true\")\n",
    "    .config(\"spark.sql.session.timeZone\", \"Etc/UTC\")\n",
    "    .config(\"spark.driver.memory\", \"10g\")\n",
    "    .getOrCreate()\n",
    ")"
   ]
  },
  {
   "cell_type": "code",
   "execution_count": 3,
   "metadata": {},
   "outputs": [],
   "source": [
    "consumer = pd.read_csv(\"/Users/Kasturi/Documents/GitHub/generic-buy-now-pay-later-project-group-10-bnpl/data/tables/tbl_consumer.csv\", delimiter=\"|\")"
   ]
  },
  {
   "cell_type": "code",
   "execution_count": 4,
   "metadata": {},
   "outputs": [
    {
     "data": {
      "text/html": [
       "<div>\n",
       "<style scoped>\n",
       "    .dataframe tbody tr th:only-of-type {\n",
       "        vertical-align: middle;\n",
       "    }\n",
       "\n",
       "    .dataframe tbody tr th {\n",
       "        vertical-align: top;\n",
       "    }\n",
       "\n",
       "    .dataframe thead th {\n",
       "        text-align: right;\n",
       "    }\n",
       "</style>\n",
       "<table border=\"1\" class=\"dataframe\">\n",
       "  <thead>\n",
       "    <tr style=\"text-align: right;\">\n",
       "      <th></th>\n",
       "      <th>name</th>\n",
       "      <th>address</th>\n",
       "      <th>state</th>\n",
       "      <th>postcode</th>\n",
       "      <th>gender</th>\n",
       "      <th>consumer_id</th>\n",
       "    </tr>\n",
       "  </thead>\n",
       "  <tbody>\n",
       "    <tr>\n",
       "      <th>0</th>\n",
       "      <td>Yolanda Williams</td>\n",
       "      <td>413 Haney Gardens Apt. 742</td>\n",
       "      <td>WA</td>\n",
       "      <td>6935</td>\n",
       "      <td>Female</td>\n",
       "      <td>1195503</td>\n",
       "    </tr>\n",
       "    <tr>\n",
       "      <th>1</th>\n",
       "      <td>Mary Smith</td>\n",
       "      <td>3764 Amber Oval</td>\n",
       "      <td>NSW</td>\n",
       "      <td>2782</td>\n",
       "      <td>Female</td>\n",
       "      <td>179208</td>\n",
       "    </tr>\n",
       "    <tr>\n",
       "      <th>2</th>\n",
       "      <td>Jill Jones MD</td>\n",
       "      <td>40693 Henry Greens</td>\n",
       "      <td>NT</td>\n",
       "      <td>862</td>\n",
       "      <td>Female</td>\n",
       "      <td>1194530</td>\n",
       "    </tr>\n",
       "    <tr>\n",
       "      <th>3</th>\n",
       "      <td>Lindsay Jimenez</td>\n",
       "      <td>00653 Davenport Crossroad</td>\n",
       "      <td>NSW</td>\n",
       "      <td>2780</td>\n",
       "      <td>Female</td>\n",
       "      <td>154128</td>\n",
       "    </tr>\n",
       "    <tr>\n",
       "      <th>4</th>\n",
       "      <td>Rebecca Blanchard</td>\n",
       "      <td>9271 Michael Manors Suite 651</td>\n",
       "      <td>WA</td>\n",
       "      <td>6355</td>\n",
       "      <td>Female</td>\n",
       "      <td>712975</td>\n",
       "    </tr>\n",
       "  </tbody>\n",
       "</table>\n",
       "</div>"
      ],
      "text/plain": [
       "                name                        address state  postcode  gender  \\\n",
       "0   Yolanda Williams     413 Haney Gardens Apt. 742    WA      6935  Female   \n",
       "1         Mary Smith                3764 Amber Oval   NSW      2782  Female   \n",
       "2      Jill Jones MD             40693 Henry Greens    NT       862  Female   \n",
       "3    Lindsay Jimenez      00653 Davenport Crossroad   NSW      2780  Female   \n",
       "4  Rebecca Blanchard  9271 Michael Manors Suite 651    WA      6355  Female   \n",
       "\n",
       "   consumer_id  \n",
       "0      1195503  \n",
       "1       179208  \n",
       "2      1194530  \n",
       "3       154128  \n",
       "4       712975  "
      ]
     },
     "execution_count": 4,
     "metadata": {},
     "output_type": "execute_result"
    }
   ],
   "source": [
    "consumer.head()"
   ]
  },
  {
   "cell_type": "code",
   "execution_count": 5,
   "metadata": {},
   "outputs": [],
   "source": [
    "merchants = spark.read.parquet(\"/Users/Kasturi/Documents/GitHub/generic-buy-now-pay-later-project-group-10-bnpl/data/tables/tbl_merchants.parquet\")"
   ]
  },
  {
   "cell_type": "code",
   "execution_count": 6,
   "metadata": {},
   "outputs": [
    {
     "name": "stderr",
     "output_type": "stream",
     "text": [
      "                                                                                \r"
     ]
    }
   ],
   "source": [
    "merchants_df = merchants.toPandas()"
   ]
  },
  {
   "cell_type": "code",
   "execution_count": 7,
   "metadata": {},
   "outputs": [
    {
     "data": {
      "text/html": [
       "<div>\n",
       "<style scoped>\n",
       "    .dataframe tbody tr th:only-of-type {\n",
       "        vertical-align: middle;\n",
       "    }\n",
       "\n",
       "    .dataframe tbody tr th {\n",
       "        vertical-align: top;\n",
       "    }\n",
       "\n",
       "    .dataframe thead th {\n",
       "        text-align: right;\n",
       "    }\n",
       "</style>\n",
       "<table border=\"1\" class=\"dataframe\">\n",
       "  <thead>\n",
       "    <tr style=\"text-align: right;\">\n",
       "      <th></th>\n",
       "      <th>name</th>\n",
       "      <th>tags</th>\n",
       "      <th>merchant_abn</th>\n",
       "    </tr>\n",
       "  </thead>\n",
       "  <tbody>\n",
       "    <tr>\n",
       "      <th>0</th>\n",
       "      <td>Felis Limited</td>\n",
       "      <td>((furniture, home furnishings and equipment sh...</td>\n",
       "      <td>10023283211</td>\n",
       "    </tr>\n",
       "    <tr>\n",
       "      <th>1</th>\n",
       "      <td>Arcu Ac Orci Corporation</td>\n",
       "      <td>([cable, satellite, and otHer pay television a...</td>\n",
       "      <td>10142254217</td>\n",
       "    </tr>\n",
       "    <tr>\n",
       "      <th>2</th>\n",
       "      <td>Nunc Sed Company</td>\n",
       "      <td>([jewelry, watch, clock, and silverware shops]...</td>\n",
       "      <td>10165489824</td>\n",
       "    </tr>\n",
       "    <tr>\n",
       "      <th>3</th>\n",
       "      <td>Ultricies Dignissim Lacus Foundation</td>\n",
       "      <td>([wAtch, clock, and jewelry repair shops], [b]...</td>\n",
       "      <td>10187291046</td>\n",
       "    </tr>\n",
       "    <tr>\n",
       "      <th>4</th>\n",
       "      <td>Enim Condimentum PC</td>\n",
       "      <td>([music shops - musical instruments, pianos, a...</td>\n",
       "      <td>10192359162</td>\n",
       "    </tr>\n",
       "  </tbody>\n",
       "</table>\n",
       "</div>"
      ],
      "text/plain": [
       "                                   name  \\\n",
       "0                         Felis Limited   \n",
       "1              Arcu Ac Orci Corporation   \n",
       "2                      Nunc Sed Company   \n",
       "3  Ultricies Dignissim Lacus Foundation   \n",
       "4                   Enim Condimentum PC   \n",
       "\n",
       "                                                tags  merchant_abn  \n",
       "0  ((furniture, home furnishings and equipment sh...   10023283211  \n",
       "1  ([cable, satellite, and otHer pay television a...   10142254217  \n",
       "2  ([jewelry, watch, clock, and silverware shops]...   10165489824  \n",
       "3  ([wAtch, clock, and jewelry repair shops], [b]...   10187291046  \n",
       "4  ([music shops - musical instruments, pianos, a...   10192359162  "
      ]
     },
     "execution_count": 7,
     "metadata": {},
     "output_type": "execute_result"
    }
   ],
   "source": [
    "merchants_df.head()"
   ]
  },
  {
   "cell_type": "code",
   "execution_count": 8,
   "metadata": {},
   "outputs": [],
   "source": [
    "# Separate tags from revenue and take rate\n",
    "tags = merchants_df[\"tags\"].str.split(\"\\), \", expand=True)\n",
    "tags = tags[0].str.split(\"\\], \", expand=True)\n",
    "# Remove symbols from tag and making everything lowercase\n",
    "tags = tags[0].str.replace('[^\\w\\s]', '', regex = True)\n",
    "tags = tags.str.lower()"
   ]
  },
  {
   "cell_type": "code",
   "execution_count": 9,
   "metadata": {},
   "outputs": [],
   "source": [
    "merchants_df['cleaned_tags'] = tags"
   ]
  },
  {
   "cell_type": "code",
   "execution_count": 10,
   "metadata": {},
   "outputs": [
    {
     "data": {
      "text/html": [
       "<div>\n",
       "<style scoped>\n",
       "    .dataframe tbody tr th:only-of-type {\n",
       "        vertical-align: middle;\n",
       "    }\n",
       "\n",
       "    .dataframe tbody tr th {\n",
       "        vertical-align: top;\n",
       "    }\n",
       "\n",
       "    .dataframe thead th {\n",
       "        text-align: right;\n",
       "    }\n",
       "</style>\n",
       "<table border=\"1\" class=\"dataframe\">\n",
       "  <thead>\n",
       "    <tr style=\"text-align: right;\">\n",
       "      <th></th>\n",
       "      <th>name</th>\n",
       "      <th>tags</th>\n",
       "      <th>merchant_abn</th>\n",
       "      <th>cleaned_tags</th>\n",
       "    </tr>\n",
       "  </thead>\n",
       "  <tbody>\n",
       "    <tr>\n",
       "      <th>0</th>\n",
       "      <td>Felis Limited</td>\n",
       "      <td>((furniture, home furnishings and equipment sh...</td>\n",
       "      <td>10023283211</td>\n",
       "      <td>furniture home furnishings and equipment shops...</td>\n",
       "    </tr>\n",
       "    <tr>\n",
       "      <th>1</th>\n",
       "      <td>Arcu Ac Orci Corporation</td>\n",
       "      <td>([cable, satellite, and otHer pay television a...</td>\n",
       "      <td>10142254217</td>\n",
       "      <td>cable satellite and other pay television and r...</td>\n",
       "    </tr>\n",
       "    <tr>\n",
       "      <th>2</th>\n",
       "      <td>Nunc Sed Company</td>\n",
       "      <td>([jewelry, watch, clock, and silverware shops]...</td>\n",
       "      <td>10165489824</td>\n",
       "      <td>jewelry watch clock and silverware shops</td>\n",
       "    </tr>\n",
       "    <tr>\n",
       "      <th>3</th>\n",
       "      <td>Ultricies Dignissim Lacus Foundation</td>\n",
       "      <td>([wAtch, clock, and jewelry repair shops], [b]...</td>\n",
       "      <td>10187291046</td>\n",
       "      <td>watch clock and jewelry repair shops</td>\n",
       "    </tr>\n",
       "    <tr>\n",
       "      <th>4</th>\n",
       "      <td>Enim Condimentum PC</td>\n",
       "      <td>([music shops - musical instruments, pianos, a...</td>\n",
       "      <td>10192359162</td>\n",
       "      <td>music shops  musical instruments pianos and sh...</td>\n",
       "    </tr>\n",
       "  </tbody>\n",
       "</table>\n",
       "</div>"
      ],
      "text/plain": [
       "                                   name  \\\n",
       "0                         Felis Limited   \n",
       "1              Arcu Ac Orci Corporation   \n",
       "2                      Nunc Sed Company   \n",
       "3  Ultricies Dignissim Lacus Foundation   \n",
       "4                   Enim Condimentum PC   \n",
       "\n",
       "                                                tags  merchant_abn  \\\n",
       "0  ((furniture, home furnishings and equipment sh...   10023283211   \n",
       "1  ([cable, satellite, and otHer pay television a...   10142254217   \n",
       "2  ([jewelry, watch, clock, and silverware shops]...   10165489824   \n",
       "3  ([wAtch, clock, and jewelry repair shops], [b]...   10187291046   \n",
       "4  ([music shops - musical instruments, pianos, a...   10192359162   \n",
       "\n",
       "                                        cleaned_tags  \n",
       "0  furniture home furnishings and equipment shops...  \n",
       "1  cable satellite and other pay television and r...  \n",
       "2           jewelry watch clock and silverware shops  \n",
       "3               watch clock and jewelry repair shops  \n",
       "4  music shops  musical instruments pianos and sh...  "
      ]
     },
     "execution_count": 10,
     "metadata": {},
     "output_type": "execute_result"
    }
   ],
   "source": [
    "merchants_df.head()"
   ]
  },
  {
   "cell_type": "code",
   "execution_count": 11,
   "metadata": {},
   "outputs": [],
   "source": [
    "from sklearn.feature_extraction.text import CountVectorizer\n",
    "cv = CountVectorizer(max_df=0.95, min_df=2, stop_words='english')\n",
    "dtm = cv.fit_transform(merchants_df['cleaned_tags'])"
   ]
  },
  {
   "cell_type": "code",
   "execution_count": 12,
   "metadata": {},
   "outputs": [
    {
     "data": {
      "text/plain": [
       "5"
      ]
     },
     "execution_count": 12,
     "metadata": {},
     "output_type": "execute_result"
    }
   ],
   "source": [
    "categories_label = [\"fashion\", \"furniture\", \"electronics\", \"beauty, health, personal and household\", \"toys, hobbies and DIY\"]\n",
    "len(categories_label)"
   ]
  },
  {
   "cell_type": "code",
   "execution_count": 13,
   "metadata": {},
   "outputs": [
    {
     "name": "stdout",
     "output_type": "stream",
     "text": [
      "THE TOP 15 WORDS FOR TOPIC #0\n",
      "['new', 'motor', 'stock', 'nursery', 'flowers', 'florists', 'home', 'furnishings', 'appliances', 'manufacturers', 'shoe', 'furniture', 'equipment', 'supplies', 'shops']\n",
      "\n",
      "\n",
      "THE TOP 15 WORDS FOR TOPIC #1\n",
      "['galleries', 'dealers', 'art', 'telecom', 'service', 'bicycle', 'repair', 'sales', 'artist', 'craft', 'supply', 'watch', 'clock', 'jewelry', 'shops']\n",
      "\n",
      "\n",
      "THE TOP 15 WORDS FOR TOPIC #2\n",
      "['nurseries', 'books', 'periodicals', 'newspapers', 'beauty', 'health', 'spas', 'data', 'design', 'systems', 'processing', 'integrated', 'programming', 'computer', 'services']\n",
      "\n",
      "\n",
      "THE TOP 15 WORDS FOR TOPIC #3\n",
      "['printing', 'stationery', 'writing', 'instruments', 'pianos', 'musical', 'sheet', 'tent', 'awning', 'digital', 'movies', 'books', 'shops', 'goods', 'music']\n",
      "\n",
      "\n",
      "THE TOP 15 WORDS FOR TOPIC #4\n",
      "['television', 'radio', 'cable', 'satellite', 'pay', 'equipment', 'computer', 'software', 'peripheral', 'computers', 'novelty', 'card', 'gift', 'souvenir', 'shops']\n",
      "\n",
      "\n"
     ]
    }
   ],
   "source": [
    "from sklearn.decomposition import LatentDirichletAllocation\n",
    "LDA = LatentDirichletAllocation(n_components=5,random_state=42)\n",
    "LDA.fit(dtm)\n",
    "for index,topic in enumerate(LDA.components_):\n",
    "    print(f'THE TOP 15 WORDS FOR TOPIC #{index}')\n",
    "    print([cv.get_feature_names()[i] for i in topic.argsort()[-15:]])\n",
    "    print('\\n')"
   ]
  },
  {
   "cell_type": "code",
   "execution_count": 14,
   "metadata": {},
   "outputs": [
    {
     "data": {
      "text/html": [
       "<div>\n",
       "<style scoped>\n",
       "    .dataframe tbody tr th:only-of-type {\n",
       "        vertical-align: middle;\n",
       "    }\n",
       "\n",
       "    .dataframe tbody tr th {\n",
       "        vertical-align: top;\n",
       "    }\n",
       "\n",
       "    .dataframe thead th {\n",
       "        text-align: right;\n",
       "    }\n",
       "</style>\n",
       "<table border=\"1\" class=\"dataframe\">\n",
       "  <thead>\n",
       "    <tr style=\"text-align: right;\">\n",
       "      <th></th>\n",
       "      <th>name</th>\n",
       "      <th>tags</th>\n",
       "      <th>merchant_abn</th>\n",
       "      <th>cleaned_tags</th>\n",
       "      <th>store_type</th>\n",
       "    </tr>\n",
       "  </thead>\n",
       "  <tbody>\n",
       "    <tr>\n",
       "      <th>0</th>\n",
       "      <td>Felis Limited</td>\n",
       "      <td>((furniture, home furnishings and equipment sh...</td>\n",
       "      <td>10023283211</td>\n",
       "      <td>furniture home furnishings and equipment shops...</td>\n",
       "      <td>0</td>\n",
       "    </tr>\n",
       "    <tr>\n",
       "      <th>1</th>\n",
       "      <td>Arcu Ac Orci Corporation</td>\n",
       "      <td>([cable, satellite, and otHer pay television a...</td>\n",
       "      <td>10142254217</td>\n",
       "      <td>cable satellite and other pay television and r...</td>\n",
       "      <td>4</td>\n",
       "    </tr>\n",
       "    <tr>\n",
       "      <th>2</th>\n",
       "      <td>Nunc Sed Company</td>\n",
       "      <td>([jewelry, watch, clock, and silverware shops]...</td>\n",
       "      <td>10165489824</td>\n",
       "      <td>jewelry watch clock and silverware shops</td>\n",
       "      <td>1</td>\n",
       "    </tr>\n",
       "    <tr>\n",
       "      <th>3</th>\n",
       "      <td>Ultricies Dignissim Lacus Foundation</td>\n",
       "      <td>([wAtch, clock, and jewelry repair shops], [b]...</td>\n",
       "      <td>10187291046</td>\n",
       "      <td>watch clock and jewelry repair shops</td>\n",
       "      <td>1</td>\n",
       "    </tr>\n",
       "    <tr>\n",
       "      <th>4</th>\n",
       "      <td>Enim Condimentum PC</td>\n",
       "      <td>([music shops - musical instruments, pianos, a...</td>\n",
       "      <td>10192359162</td>\n",
       "      <td>music shops  musical instruments pianos and sh...</td>\n",
       "      <td>3</td>\n",
       "    </tr>\n",
       "    <tr>\n",
       "      <th>5</th>\n",
       "      <td>Fusce Company</td>\n",
       "      <td>[(gift, card, novelty, and souvenir shops), (a...</td>\n",
       "      <td>10206519221</td>\n",
       "      <td>gift card novelty and souvenir shops</td>\n",
       "      <td>4</td>\n",
       "    </tr>\n",
       "    <tr>\n",
       "      <th>6</th>\n",
       "      <td>Aliquam Enim Incorporated</td>\n",
       "      <td>[(computers, comPUter peripheral equipment, an...</td>\n",
       "      <td>10255988167</td>\n",
       "      <td>computers computer peripheral equipment and so...</td>\n",
       "      <td>4</td>\n",
       "    </tr>\n",
       "    <tr>\n",
       "      <th>7</th>\n",
       "      <td>Ipsum Primis Ltd</td>\n",
       "      <td>[[watch, clock, and jewelry repair shops], [c]...</td>\n",
       "      <td>10264435225</td>\n",
       "      <td>watch clock and jewelry repair shops</td>\n",
       "      <td>1</td>\n",
       "    </tr>\n",
       "    <tr>\n",
       "      <th>8</th>\n",
       "      <td>Pede Ultrices Industries</td>\n",
       "      <td>([computer programming , data processing, and ...</td>\n",
       "      <td>10279061213</td>\n",
       "      <td>computer programming  data processing and inte...</td>\n",
       "      <td>2</td>\n",
       "    </tr>\n",
       "    <tr>\n",
       "      <th>9</th>\n",
       "      <td>Nunc Inc.</td>\n",
       "      <td>[(furniture, home furnishings and equipment sh...</td>\n",
       "      <td>10323485998</td>\n",
       "      <td>furniture home furnishings and equipment shops...</td>\n",
       "      <td>0</td>\n",
       "    </tr>\n",
       "  </tbody>\n",
       "</table>\n",
       "</div>"
      ],
      "text/plain": [
       "                                   name  \\\n",
       "0                         Felis Limited   \n",
       "1              Arcu Ac Orci Corporation   \n",
       "2                      Nunc Sed Company   \n",
       "3  Ultricies Dignissim Lacus Foundation   \n",
       "4                   Enim Condimentum PC   \n",
       "5                         Fusce Company   \n",
       "6             Aliquam Enim Incorporated   \n",
       "7                      Ipsum Primis Ltd   \n",
       "8              Pede Ultrices Industries   \n",
       "9                             Nunc Inc.   \n",
       "\n",
       "                                                tags  merchant_abn  \\\n",
       "0  ((furniture, home furnishings and equipment sh...   10023283211   \n",
       "1  ([cable, satellite, and otHer pay television a...   10142254217   \n",
       "2  ([jewelry, watch, clock, and silverware shops]...   10165489824   \n",
       "3  ([wAtch, clock, and jewelry repair shops], [b]...   10187291046   \n",
       "4  ([music shops - musical instruments, pianos, a...   10192359162   \n",
       "5  [(gift, card, novelty, and souvenir shops), (a...   10206519221   \n",
       "6  [(computers, comPUter peripheral equipment, an...   10255988167   \n",
       "7  [[watch, clock, and jewelry repair shops], [c]...   10264435225   \n",
       "8  ([computer programming , data processing, and ...   10279061213   \n",
       "9  [(furniture, home furnishings and equipment sh...   10323485998   \n",
       "\n",
       "                                        cleaned_tags  store_type  \n",
       "0  furniture home furnishings and equipment shops...           0  \n",
       "1  cable satellite and other pay television and r...           4  \n",
       "2           jewelry watch clock and silverware shops           1  \n",
       "3               watch clock and jewelry repair shops           1  \n",
       "4  music shops  musical instruments pianos and sh...           3  \n",
       "5               gift card novelty and souvenir shops           4  \n",
       "6  computers computer peripheral equipment and so...           4  \n",
       "7               watch clock and jewelry repair shops           1  \n",
       "8  computer programming  data processing and inte...           2  \n",
       "9  furniture home furnishings and equipment shops...           0  "
      ]
     },
     "execution_count": 14,
     "metadata": {},
     "output_type": "execute_result"
    }
   ],
   "source": [
    "topic_results = LDA.transform(dtm)\n",
    "merchants_df['store_type'] = topic_results.argmax(axis=1)\n",
    "merchants_df.head(10)"
   ]
  },
  {
   "cell_type": "code",
   "execution_count": 15,
   "metadata": {},
   "outputs": [],
   "source": [
    "myDict = {0 : 'Furniture' , 1 : 'Toys and DIY', 2 : 'Beauty, Health, Personal and Household', 3 : 'Books, Stationary and Music', 4 : 'Electronics' }\n",
    " \n",
    "merchants_df['category'] = merchants_df['store_type'].map(myDict)"
   ]
  },
  {
   "cell_type": "code",
   "execution_count": 17,
   "metadata": {},
   "outputs": [
    {
     "data": {
      "text/html": [
       "<div>\n",
       "<style scoped>\n",
       "    .dataframe tbody tr th:only-of-type {\n",
       "        vertical-align: middle;\n",
       "    }\n",
       "\n",
       "    .dataframe tbody tr th {\n",
       "        vertical-align: top;\n",
       "    }\n",
       "\n",
       "    .dataframe thead th {\n",
       "        text-align: right;\n",
       "    }\n",
       "</style>\n",
       "<table border=\"1\" class=\"dataframe\">\n",
       "  <thead>\n",
       "    <tr style=\"text-align: right;\">\n",
       "      <th></th>\n",
       "      <th>name</th>\n",
       "      <th>tags</th>\n",
       "      <th>merchant_abn</th>\n",
       "      <th>cleaned_tags</th>\n",
       "      <th>store_type</th>\n",
       "      <th>category</th>\n",
       "    </tr>\n",
       "  </thead>\n",
       "  <tbody>\n",
       "    <tr>\n",
       "      <th>0</th>\n",
       "      <td>Felis Limited</td>\n",
       "      <td>((furniture, home furnishings and equipment sh...</td>\n",
       "      <td>10023283211</td>\n",
       "      <td>furniture home furnishings and equipment shops...</td>\n",
       "      <td>0</td>\n",
       "      <td>Furniture</td>\n",
       "    </tr>\n",
       "    <tr>\n",
       "      <th>1</th>\n",
       "      <td>Arcu Ac Orci Corporation</td>\n",
       "      <td>([cable, satellite, and otHer pay television a...</td>\n",
       "      <td>10142254217</td>\n",
       "      <td>cable satellite and other pay television and r...</td>\n",
       "      <td>4</td>\n",
       "      <td>Electronics</td>\n",
       "    </tr>\n",
       "    <tr>\n",
       "      <th>2</th>\n",
       "      <td>Nunc Sed Company</td>\n",
       "      <td>([jewelry, watch, clock, and silverware shops]...</td>\n",
       "      <td>10165489824</td>\n",
       "      <td>jewelry watch clock and silverware shops</td>\n",
       "      <td>1</td>\n",
       "      <td>Toys and DIY</td>\n",
       "    </tr>\n",
       "    <tr>\n",
       "      <th>3</th>\n",
       "      <td>Ultricies Dignissim Lacus Foundation</td>\n",
       "      <td>([wAtch, clock, and jewelry repair shops], [b]...</td>\n",
       "      <td>10187291046</td>\n",
       "      <td>watch clock and jewelry repair shops</td>\n",
       "      <td>1</td>\n",
       "      <td>Toys and DIY</td>\n",
       "    </tr>\n",
       "    <tr>\n",
       "      <th>4</th>\n",
       "      <td>Enim Condimentum PC</td>\n",
       "      <td>([music shops - musical instruments, pianos, a...</td>\n",
       "      <td>10192359162</td>\n",
       "      <td>music shops  musical instruments pianos and sh...</td>\n",
       "      <td>3</td>\n",
       "      <td>Books, Stationary and Music</td>\n",
       "    </tr>\n",
       "  </tbody>\n",
       "</table>\n",
       "</div>"
      ],
      "text/plain": [
       "                                   name  \\\n",
       "0                         Felis Limited   \n",
       "1              Arcu Ac Orci Corporation   \n",
       "2                      Nunc Sed Company   \n",
       "3  Ultricies Dignissim Lacus Foundation   \n",
       "4                   Enim Condimentum PC   \n",
       "\n",
       "                                                tags  merchant_abn  \\\n",
       "0  ((furniture, home furnishings and equipment sh...   10023283211   \n",
       "1  ([cable, satellite, and otHer pay television a...   10142254217   \n",
       "2  ([jewelry, watch, clock, and silverware shops]...   10165489824   \n",
       "3  ([wAtch, clock, and jewelry repair shops], [b]...   10187291046   \n",
       "4  ([music shops - musical instruments, pianos, a...   10192359162   \n",
       "\n",
       "                                        cleaned_tags  store_type  \\\n",
       "0  furniture home furnishings and equipment shops...           0   \n",
       "1  cable satellite and other pay television and r...           4   \n",
       "2           jewelry watch clock and silverware shops           1   \n",
       "3               watch clock and jewelry repair shops           1   \n",
       "4  music shops  musical instruments pianos and sh...           3   \n",
       "\n",
       "                      category  \n",
       "0                    Furniture  \n",
       "1                  Electronics  \n",
       "2                 Toys and DIY  \n",
       "3                 Toys and DIY  \n",
       "4  Books, Stationary and Music  "
      ]
     },
     "execution_count": 17,
     "metadata": {},
     "output_type": "execute_result"
    }
   ],
   "source": [
    "merchants_df.head()"
   ]
  },
  {
   "cell_type": "code",
   "execution_count": 18,
   "metadata": {},
   "outputs": [
    {
     "name": "stdout",
     "output_type": "stream",
     "text": [
      "22/10/04 03:55:27 WARN HeartbeatReceiver: Removing executor driver with no recent heartbeats: 946972 ms exceeds timeout 120000 ms\n",
      "22/10/04 03:55:27 WARN SparkContext: Killing executors is not supported by current scheduler.\n"
     ]
    }
   ],
   "source": [
    "merchants_df.to_csv(\"../data/curated/tagged_merchants.csv\")"
   ]
  },
  {
   "cell_type": "code",
   "execution_count": null,
   "metadata": {},
   "outputs": [],
   "source": []
  }
 ],
 "metadata": {
  "kernelspec": {
<<<<<<< HEAD
   "display_name": "Python 3 (Anaconda 3)",
=======
   "display_name": "Python 3.9.12 ('base')",
>>>>>>> origin
   "language": "python",
   "name": "python3"
  },
  "language_info": {
   "codemirror_mode": {
    "name": "ipython",
    "version": 3
   },
   "file_extension": ".py",
   "mimetype": "text/x-python",
   "name": "python",
   "nbconvert_exporter": "python",
   "pygments_lexer": "ipython3",
<<<<<<< HEAD
   "version": "3.8.2"
  },
=======
   "version": "3.9.12"
  },
  "orig_nbformat": 4,
>>>>>>> origin
  "vscode": {
   "interpreter": {
    "hash": "afcda84b7471a9b9fde108a34f159f021985318d3feb99cad4970c959fa9ac9e"
   }
  }
 },
 "nbformat": 4,
 "nbformat_minor": 2
}
