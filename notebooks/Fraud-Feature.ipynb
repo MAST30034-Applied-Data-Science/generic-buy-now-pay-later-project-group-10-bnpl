{
 "cells": [
  {
   "cell_type": "markdown",
   "metadata": {},
   "source": [
    "## Part 4: Fraud"
   ]
  },
  {
   "cell_type": "code",
   "execution_count": 1,
   "metadata": {},
   "outputs": [
    {
     "name": "stdout",
     "output_type": "stream",
     "text": [
      "22/10/06 12:37:52 WARN Utils: Your hostname, mast30034 resolves to a loopback address: 127.0.1.1; using 45.113.234.45 instead (on interface eth0)\n",
      "22/10/06 12:37:52 WARN Utils: Set SPARK_LOCAL_IP if you need to bind to another address\n"
     ]
    },
    {
     "name": "stderr",
     "output_type": "stream",
     "text": [
      "Setting default log level to \"WARN\".\n",
      "To adjust logging level use sc.setLogLevel(newLevel). For SparkR, use setLogLevel(newLevel).\n"
     ]
    },
    {
     "name": "stdout",
     "output_type": "stream",
     "text": [
      "22/10/06 12:37:53 WARN NativeCodeLoader: Unable to load native-hadoop library for your platform... using builtin-java classes where applicable\n",
      "22/10/06 12:37:54 WARN Utils: Service 'SparkUI' could not bind on port 4040. Attempting port 4041.\n",
      "22/10/06 12:37:54 WARN Utils: Service 'SparkUI' could not bind on port 4041. Attempting port 4042.\n"
     ]
    },
    {
     "name": "stderr",
     "output_type": "stream",
     "text": [
      "                                                                                \r"
     ]
    },
    {
     "name": "stdout",
     "output_type": "stream",
     "text": [
      "22/10/06 12:38:54 WARN SparkSession: Using an existing Spark session; only runtime SQL configurations will take effect.\n"
     ]
    }
   ],
   "source": [
    "%run \"../scripts/outlier.py\" \"../scripts/paths.json\""
   ]
  },
  {
   "cell_type": "code",
   "execution_count": 39,
   "metadata": {},
   "outputs": [
    {
     "name": "stderr",
     "output_type": "stream",
     "text": [
      "                                                                                \r"
     ]
    }
   ],
   "source": [
    "%run \"../scripts/fraud_feature.py\" \"../scripts/paths.json\""
   ]
  },
  {
   "cell_type": "code",
   "execution_count": 3,
   "metadata": {},
   "outputs": [],
   "source": [
    "#Loading consumer fraud data: \n",
    "fraud_consumer = pd.read_csv('../data/tables/consumer_fraud_probability.csv')\n",
    "fraud_consumer = spark.createDataFrame(fraud_consumer) \n",
    "\n",
    "#Loading merchant fraud data: \n",
    "fraud_merchant = pd.read_csv('../data/tables/merchant_fraud_probability.csv')\n",
    "fraud_merchant = spark.createDataFrame(fraud_merchant) \n"
   ]
  },
  {
   "cell_type": "code",
   "execution_count": 4,
   "metadata": {},
   "outputs": [],
   "source": [
    "full_data = spark.read.parquet('../data/tables/full_join.parquet')"
   ]
  },
  {
   "cell_type": "code",
   "execution_count": 5,
   "metadata": {},
   "outputs": [
    {
     "name": "stderr",
     "output_type": "stream",
     "text": [
      "                                                                                \r"
     ]
    },
    {
     "data": {
      "text/html": [
       "<table border='1'>\n",
       "<tr><th>merchant_name</th><th>merchant_abn</th><th>categories</th><th>take_rate</th><th>revenue_levels</th><th>name</th><th>address</th><th>state</th><th>postcode</th><th>gender</th><th>trans_merchant_abn</th><th>dollar_value</th><th>order_id</th><th>order_datetime</th><th>user_id</th><th>consumer_id</th></tr>\n",
       "<tr><td>Nullam Nisl Insti...</td><td>15912561882</td><td>shoe shops</td><td>3.72</td><td>b</td><td>Allison Stevens</td><td>60866 Miller Avenue</td><td>NSW</td><td>1193</td><td>Female</td><td>15912561882</td><td>28.083206954036427</td><td>bf851e23-d713-441...</td><td>2021-09-06</td><td>6305</td><td>6834</td></tr>\n",
       "<tr><td>Nullam Nisl Insti...</td><td>15912561882</td><td>shoe shops</td><td>3.72</td><td>b</td><td>Allison Stevens</td><td>60866 Miller Avenue</td><td>NSW</td><td>1193</td><td>Female</td><td>15912561882</td><td>13.671791104152105</td><td>0cad39e4-71f7-47c...</td><td>2021-11-27</td><td>6305</td><td>6834</td></tr>\n",
       "<tr><td>Nullam Nisl Insti...</td><td>15912561882</td><td>shoe shops</td><td>3.72</td><td>b</td><td>Lawrence Tyler</td><td>3511 Victoria Meadow</td><td>NSW</td><td>2212</td><td>Male</td><td>15912561882</td><td>235.75679877020391</td><td>3fdd2acd-3b77-4c2...</td><td>2021-06-18</td><td>18983</td><td>36103</td></tr>\n",
       "<tr><td>Nullam Nisl Insti...</td><td>15912561882</td><td>shoe shops</td><td>3.72</td><td>b</td><td>Ryan Crawford</td><td>7107 Michelle Har...</td><td>NSW</td><td>1126</td><td>Male</td><td>15912561882</td><td>284.642162569933</td><td>f8303e6b-78f6-481...</td><td>2021-04-29</td><td>12285</td><td>37894</td></tr>\n",
       "<tr><td>Nullam Nisl Insti...</td><td>15912561882</td><td>shoe shops</td><td>3.72</td><td>b</td><td>Alexander Skinner</td><td>35694 Kimberly Co...</td><td>VIC</td><td>3053</td><td>Male</td><td>15912561882</td><td>213.64355235308224</td><td>4b193807-a752-4f6...</td><td>2021-07-26</td><td>9248</td><td>147322</td></tr>\n",
       "</table>\n"
      ],
      "text/plain": [
       "+--------------------+------------+----------+---------+--------------+-----------------+--------------------+-----+--------+------+------------------+------------------+--------------------+--------------+-------+-----------+\n",
       "|       merchant_name|merchant_abn|categories|take_rate|revenue_levels|             name|             address|state|postcode|gender|trans_merchant_abn|      dollar_value|            order_id|order_datetime|user_id|consumer_id|\n",
       "+--------------------+------------+----------+---------+--------------+-----------------+--------------------+-----+--------+------+------------------+------------------+--------------------+--------------+-------+-----------+\n",
       "|Nullam Nisl Insti...| 15912561882|shoe shops|     3.72|             b|  Allison Stevens| 60866 Miller Avenue|  NSW|    1193|Female|       15912561882|28.083206954036427|bf851e23-d713-441...|    2021-09-06|   6305|       6834|\n",
       "|Nullam Nisl Insti...| 15912561882|shoe shops|     3.72|             b|  Allison Stevens| 60866 Miller Avenue|  NSW|    1193|Female|       15912561882|13.671791104152105|0cad39e4-71f7-47c...|    2021-11-27|   6305|       6834|\n",
       "|Nullam Nisl Insti...| 15912561882|shoe shops|     3.72|             b|   Lawrence Tyler|3511 Victoria Meadow|  NSW|    2212|  Male|       15912561882|235.75679877020391|3fdd2acd-3b77-4c2...|    2021-06-18|  18983|      36103|\n",
       "|Nullam Nisl Insti...| 15912561882|shoe shops|     3.72|             b|    Ryan Crawford|7107 Michelle Har...|  NSW|    1126|  Male|       15912561882|  284.642162569933|f8303e6b-78f6-481...|    2021-04-29|  12285|      37894|\n",
       "|Nullam Nisl Insti...| 15912561882|shoe shops|     3.72|             b|Alexander Skinner|35694 Kimberly Co...|  VIC|    3053|  Male|       15912561882|213.64355235308224|4b193807-a752-4f6...|    2021-07-26|   9248|     147322|\n",
       "+--------------------+------------+----------+---------+--------------+-----------------+--------------------+-----+--------+------+------------------+------------------+--------------------+--------------+-------+-----------+"
      ]
     },
     "execution_count": 5,
     "metadata": {},
     "output_type": "execute_result"
    }
   ],
   "source": [
    "full_data.limit(5)"
   ]
  },
  {
   "cell_type": "markdown",
   "metadata": {},
   "source": [
    "The consumer fraud data shows the list of transactions with a high probability of being fraudulent, and therefore should be considered invalid."
   ]
  },
  {
   "cell_type": "code",
   "execution_count": 6,
   "metadata": {},
   "outputs": [
    {
     "name": "stderr",
     "output_type": "stream",
     "text": [
      "                                                                                \r"
     ]
    },
    {
     "name": "stdout",
     "output_type": "stream",
     "text": [
      "34864\n"
     ]
    },
    {
     "data": {
      "text/html": [
       "<table border='1'>\n",
       "<tr><th>user_id_1</th><th>order_datetime_1</th><th>cons_fraud_prob</th></tr>\n",
       "<tr><td>6228</td><td>2021-12-19</td><td>97.6298077657765</td></tr>\n",
       "<tr><td>21419</td><td>2021-12-10</td><td>99.24738020302328</td></tr>\n",
       "<tr><td>5606</td><td>2021-10-17</td><td>84.05825045251777</td></tr>\n",
       "<tr><td>3101</td><td>2021-04-17</td><td>91.42192091901347</td></tr>\n",
       "<tr><td>22239</td><td>2021-10-19</td><td>94.70342477508036</td></tr>\n",
       "</table>\n"
      ],
      "text/plain": [
       "+---------+----------------+-----------------+\n",
       "|user_id_1|order_datetime_1|  cons_fraud_prob|\n",
       "+---------+----------------+-----------------+\n",
       "|     6228|      2021-12-19| 97.6298077657765|\n",
       "|    21419|      2021-12-10|99.24738020302328|\n",
       "|     5606|      2021-10-17|84.05825045251777|\n",
       "|     3101|      2021-04-17|91.42192091901347|\n",
       "|    22239|      2021-10-19|94.70342477508036|\n",
       "+---------+----------------+-----------------+"
      ]
     },
     "execution_count": 6,
     "metadata": {},
     "output_type": "execute_result"
    }
   ],
   "source": [
    "print(fraud_consumer.count())\n",
    "fraud_consumer = fraud_consumer.withColumnRenamed(\"fraud_probability\",\"cons_fraud_prob\").withColumnRenamed(\"order_datetime\",\"order_datetime_1\").withColumnRenamed(\"user_id\",\"user_id_1\")\n",
    "fraud_consumer.limit(5)"
   ]
  },
  {
   "cell_type": "markdown",
   "metadata": {},
   "source": [
    "Probability of fraud for high revenue merchants...?"
   ]
  },
  {
   "cell_type": "code",
   "execution_count": 7,
   "metadata": {},
   "outputs": [
    {
     "name": "stdout",
     "output_type": "stream",
     "text": [
      "114\n"
     ]
    },
    {
     "data": {
      "text/html": [
       "<table border='1'>\n",
       "<tr><th>merchant_abn_1</th><th>order_datetime</th><th>merch_fraud_prob</th></tr>\n",
       "<tr><td>19492220327</td><td>2021-11-28</td><td>44.40365864749536</td></tr>\n",
       "<tr><td>31334588839</td><td>2021-10-02</td><td>42.75530083865367</td></tr>\n",
       "<tr><td>19492220327</td><td>2021-12-22</td><td>38.867790051131095</td></tr>\n",
       "<tr><td>82999039227</td><td>2021-12-19</td><td>94.1347004808891</td></tr>\n",
       "<tr><td>90918180829</td><td>2021-09-02</td><td>43.32551731714902</td></tr>\n",
       "</table>\n"
      ],
      "text/plain": [
       "+--------------+--------------+------------------+\n",
       "|merchant_abn_1|order_datetime|  merch_fraud_prob|\n",
       "+--------------+--------------+------------------+\n",
       "|   19492220327|    2021-11-28| 44.40365864749536|\n",
       "|   31334588839|    2021-10-02| 42.75530083865367|\n",
       "|   19492220327|    2021-12-22|38.867790051131095|\n",
       "|   82999039227|    2021-12-19|  94.1347004808891|\n",
       "|   90918180829|    2021-09-02| 43.32551731714902|\n",
       "+--------------+--------------+------------------+"
      ]
     },
     "execution_count": 7,
     "metadata": {},
     "output_type": "execute_result"
    }
   ],
   "source": [
    "print(fraud_merchant.count())\n",
    "fraud_merchant = fraud_merchant.withColumnRenamed(\"merchant_abn\",\"merchant_abn_1\").withColumnRenamed(\"fraud_probability\",\"merch_fraud_prob\")\n",
    "fraud_merchant.limit(5)"
   ]
  },
  {
   "cell_type": "code",
   "execution_count": 8,
   "metadata": {},
   "outputs": [],
   "source": [
    "\n",
    "merchant_data = full_data.select(\"merchant_abn\", \"categories\",\"revenue_levels\",\"dollar_value\",\"user_id\",\"consumer_id\")"
   ]
  },
  {
   "cell_type": "code",
   "execution_count": 9,
   "metadata": {},
   "outputs": [
    {
     "data": {
      "text/html": [
       "<table border='1'>\n",
       "<tr><th>merchant_abn</th><th>categories</th><th>revenue_levels</th><th>dollar_value</th><th>user_id</th><th>consumer_id</th></tr>\n",
       "<tr><td>15912561882</td><td>shoe shops</td><td>b</td><td>28.083206954036427</td><td>6305</td><td>6834</td></tr>\n",
       "<tr><td>15912561882</td><td>shoe shops</td><td>b</td><td>13.671791104152105</td><td>6305</td><td>6834</td></tr>\n",
       "<tr><td>15912561882</td><td>shoe shops</td><td>b</td><td>235.75679877020391</td><td>18983</td><td>36103</td></tr>\n",
       "<tr><td>15912561882</td><td>shoe shops</td><td>b</td><td>284.642162569933</td><td>12285</td><td>37894</td></tr>\n",
       "<tr><td>15912561882</td><td>shoe shops</td><td>b</td><td>213.64355235308224</td><td>9248</td><td>147322</td></tr>\n",
       "</table>\n"
      ],
      "text/plain": [
       "+------------+----------+--------------+------------------+-------+-----------+\n",
       "|merchant_abn|categories|revenue_levels|      dollar_value|user_id|consumer_id|\n",
       "+------------+----------+--------------+------------------+-------+-----------+\n",
       "| 15912561882|shoe shops|             b|28.083206954036427|   6305|       6834|\n",
       "| 15912561882|shoe shops|             b|13.671791104152105|   6305|       6834|\n",
       "| 15912561882|shoe shops|             b|235.75679877020391|  18983|      36103|\n",
       "| 15912561882|shoe shops|             b|  284.642162569933|  12285|      37894|\n",
       "| 15912561882|shoe shops|             b|213.64355235308224|   9248|     147322|\n",
       "+------------+----------+--------------+------------------+-------+-----------+"
      ]
     },
     "execution_count": 9,
     "metadata": {},
     "output_type": "execute_result"
    }
   ],
   "source": [
    "merchant_data.limit(5)"
   ]
  },
  {
   "cell_type": "markdown",
   "metadata": {},
   "source": [
    "- join consumer fraud to final join\n",
    "- create a version of final join with removed transactions from fraud\n",
    "- aggregate final join from transaction to merchant level\n",
    "- add fraud merchant as a feature to aggregated final join\n",
    "- treat fraud as response and try to create model to give other merchants a fraud score"
   ]
  },
  {
   "cell_type": "code",
   "execution_count": 10,
   "metadata": {},
   "outputs": [],
   "source": [
    "#Joining consumer fraud, merchant data, and merchant fraud data to one datatset: \n",
    "\n",
    "#Joining consumer fraud and merchant data together\n",
    "\n",
    "merchant_data.createOrReplaceTempView(\"temp\")\n",
    "\n",
    "fraud_consumer.createOrReplaceTempView(\"temp2\")\n",
    "\n",
    "join_1 = spark.sql(\"\"\" \n",
    "\n",
    "SELECT *\n",
    "FROM temp\n",
    "\n",
    "LEFT JOIN temp2\n",
    "\n",
    "ON temp.user_id = temp2.user_id_1 \n",
    "\"\"\")\n"
   ]
  },
  {
   "cell_type": "code",
   "execution_count": 11,
   "metadata": {},
   "outputs": [],
   "source": [
    "#Joining join_1 to merchant fraud \n",
    "\n",
    "#Joining all test + predicting Sets Together \n",
    "join_1.createOrReplaceTempView(\"temp\")\n",
    "\n",
    "fraud_merchant.createOrReplaceTempView(\"temp2\")\n",
    "\n",
    "final_join = spark.sql(\"\"\" \n",
    "\n",
    "SELECT *\n",
    "FROM temp\n",
    "\n",
    "\n",
    "LEFT JOIN temp2\n",
    "\n",
    "ON temp.merchant_abn = temp2.merchant_abn_1\n",
    "\"\"\")"
   ]
  },
  {
   "cell_type": "code",
   "execution_count": 12,
   "metadata": {},
   "outputs": [],
   "source": [
    "# #Changing all null probability values to 0.01: \n",
    "\n",
    "# MIN_P = 0.01\n",
    "# final_join = final_join.fillna(MIN_P, subset=[\"cons_fraud_prob\", \"merch_fraud_prob\"])"
   ]
  },
  {
   "cell_type": "code",
   "execution_count": 13,
   "metadata": {},
   "outputs": [],
   "source": [
    "#join segment data \n",
    "#clustering \n",
    "#decide threshold based on clusters \n",
    "#use threshold to classify if transaction is fradulent or not "
   ]
  },
  {
   "cell_type": "code",
   "execution_count": 14,
   "metadata": {},
   "outputs": [],
   "source": [
    "# Reading in segments \n",
    "segments_data = spark.read.csv('../data/curated/tagged_merchants.csv')"
   ]
  },
  {
   "cell_type": "code",
   "execution_count": 15,
   "metadata": {},
   "outputs": [
    {
     "data": {
      "text/html": [
       "<table border='1'>\n",
       "<tr><th>_c0</th><th>_c1</th><th>_c2</th><th>_c3</th><th>_c4</th><th>_c5</th><th>_c6</th></tr>\n",
       "<tr><td>null</td><td>name</td><td>tags</td><td>merchant_abn</td><td>cleaned_tags</td><td>store_type</td><td>category</td></tr>\n",
       "<tr><td>0</td><td>Felis Limited</td><td>((furniture, home...</td><td>10023283211</td><td>furniture home fu...</td><td>0</td><td>Furniture</td></tr>\n",
       "<tr><td>1</td><td>Arcu Ac Orci Corp...</td><td>([cable, satellit...</td><td>10142254217</td><td>cable satellite a...</td><td>4</td><td>Electronics</td></tr>\n",
       "<tr><td>2</td><td>Nunc Sed Company</td><td>([jewelry, watch,...</td><td>10165489824</td><td>jewelry watch clo...</td><td>1</td><td>Toys and DIY</td></tr>\n",
       "<tr><td>3</td><td>Ultricies Digniss...</td><td>([wAtch, clock, a...</td><td>10187291046</td><td>watch clock and j...</td><td>1</td><td>Toys and DIY</td></tr>\n",
       "</table>\n"
      ],
      "text/plain": [
       "+----+--------------------+--------------------+------------+--------------------+----------+------------+\n",
       "| _c0|                 _c1|                 _c2|         _c3|                 _c4|       _c5|         _c6|\n",
       "+----+--------------------+--------------------+------------+--------------------+----------+------------+\n",
       "|null|                name|                tags|merchant_abn|        cleaned_tags|store_type|    category|\n",
       "|   0|       Felis Limited|((furniture, home...| 10023283211|furniture home fu...|         0|   Furniture|\n",
       "|   1|Arcu Ac Orci Corp...|([cable, satellit...| 10142254217|cable satellite a...|         4| Electronics|\n",
       "|   2|    Nunc Sed Company|([jewelry, watch,...| 10165489824|jewelry watch clo...|         1|Toys and DIY|\n",
       "|   3|Ultricies Digniss...|([wAtch, clock, a...| 10187291046|watch clock and j...|         1|Toys and DIY|\n",
       "+----+--------------------+--------------------+------------+--------------------+----------+------------+"
      ]
     },
     "execution_count": 15,
     "metadata": {},
     "output_type": "execute_result"
    }
   ],
   "source": [
    "segments_data.limit(5)"
   ]
  },
  {
   "cell_type": "code",
   "execution_count": 16,
   "metadata": {
    "scrolled": true
   },
   "outputs": [
    {
     "data": {
      "text/html": [
       "<table border='1'>\n",
       "<tr><th>_c0</th><th>_c1</th><th>_c2</th><th>_c3</th><th>_c4</th><th>_c5</th><th>_c6</th></tr>\n",
       "<tr><td>0</td><td>Felis Limited</td><td>((furniture, home...</td><td>10023283211</td><td>furniture home fu...</td><td>0</td><td>Furniture</td></tr>\n",
       "<tr><td>1</td><td>Arcu Ac Orci Corp...</td><td>([cable, satellit...</td><td>10142254217</td><td>cable satellite a...</td><td>4</td><td>Electronics</td></tr>\n",
       "<tr><td>2</td><td>Nunc Sed Company</td><td>([jewelry, watch,...</td><td>10165489824</td><td>jewelry watch clo...</td><td>1</td><td>Toys and DIY</td></tr>\n",
       "<tr><td>3</td><td>Ultricies Digniss...</td><td>([wAtch, clock, a...</td><td>10187291046</td><td>watch clock and j...</td><td>1</td><td>Toys and DIY</td></tr>\n",
       "<tr><td>4</td><td>Enim Condimentum PC</td><td>([music shops - m...</td><td>10192359162</td><td>music shops  musi...</td><td>3</td><td>Books, Stationary...</td></tr>\n",
       "<tr><td>5</td><td>Fusce Company</td><td>[(gift, card, nov...</td><td>10206519221</td><td>gift card novelty...</td><td>4</td><td>Electronics</td></tr>\n",
       "<tr><td>6</td><td>Aliquam Enim Inco...</td><td>[(computers, comP...</td><td>10255988167</td><td>computers compute...</td><td>4</td><td>Electronics</td></tr>\n",
       "<tr><td>7</td><td>Ipsum Primis Ltd</td><td>[[watch, clock, a...</td><td>10264435225</td><td>watch clock and j...</td><td>1</td><td>Toys and DIY</td></tr>\n",
       "<tr><td>8</td><td>Pede Ultrices Ind...</td><td>([computer progra...</td><td>10279061213</td><td>computer programm...</td><td>2</td><td>Beauty, Health, P...</td></tr>\n",
       "<tr><td>9</td><td>Nunc Inc.</td><td>[(furniture, home...</td><td>10323485998</td><td>furniture home fu...</td><td>0</td><td>Furniture</td></tr>\n",
       "<tr><td>10</td><td>Facilisis Facilis...</td><td>([computers, comp...</td><td>10342410215</td><td>computers compute...</td><td>4</td><td>Electronics</td></tr>\n",
       "<tr><td>11</td><td>Odio Institute</td><td>((equipment, tool...</td><td>10346855916</td><td>equipment tool fu...</td><td>0</td><td>Furniture</td></tr>\n",
       "<tr><td>12</td><td>Rutrum Justo Ltd</td><td>([music shops - m...</td><td>10364012396</td><td>music shops  musi...</td><td>3</td><td>Books, Stationary...</td></tr>\n",
       "<tr><td>13</td><td>Tellus Foundation</td><td>[[artist supply a...</td><td>10385011947</td><td>artist supply and...</td><td>1</td><td>Toys and DIY</td></tr>\n",
       "<tr><td>14</td><td>Sed Et Company</td><td>([florists suppli...</td><td>10385163239</td><td>florists supplies...</td><td>0</td><td>Furniture</td></tr>\n",
       "<tr><td>15</td><td>Id Ltd</td><td>([computers, comp...</td><td>10385250025</td><td>computers compute...</td><td>4</td><td>Electronics</td></tr>\n",
       "<tr><td>16</td><td>Consequat Foundation</td><td>[[antique shops -...</td><td>10404542215</td><td>antique shops  sa...</td><td>2</td><td>Beauty, Health, P...</td></tr>\n",
       "<tr><td>17</td><td>Sit Amet Nulla Corp.</td><td>[[motor vehicle s...</td><td>10430380319</td><td>motor vehicle sup...</td><td>0</td><td>Furniture</td></tr>\n",
       "<tr><td>18</td><td>Massa Vestibulum ...</td><td>[(moTor vehicle s...</td><td>10441711491</td><td>motor vehicle sup...</td><td>0</td><td>Furniture</td></tr>\n",
       "<tr><td>19</td><td>Ut Consulting</td><td>([gift, card, nov...</td><td>10462560289</td><td>gift card novelty...</td><td>4</td><td>Electronics</td></tr>\n",
       "</table>\n",
       "only showing top 20 rows\n"
      ],
      "text/plain": [
       "+---+--------------------+--------------------+-----------+--------------------+---+--------------------+\n",
       "|_c0|                 _c1|                 _c2|        _c3|                 _c4|_c5|                 _c6|\n",
       "+---+--------------------+--------------------+-----------+--------------------+---+--------------------+\n",
       "|  0|       Felis Limited|((furniture, home...|10023283211|furniture home fu...|  0|           Furniture|\n",
       "|  1|Arcu Ac Orci Corp...|([cable, satellit...|10142254217|cable satellite a...|  4|         Electronics|\n",
       "|  2|    Nunc Sed Company|([jewelry, watch,...|10165489824|jewelry watch clo...|  1|        Toys and DIY|\n",
       "|  3|Ultricies Digniss...|([wAtch, clock, a...|10187291046|watch clock and j...|  1|        Toys and DIY|\n",
       "|  4| Enim Condimentum PC|([music shops - m...|10192359162|music shops  musi...|  3|Books, Stationary...|\n",
       "|  5|       Fusce Company|[(gift, card, nov...|10206519221|gift card novelty...|  4|         Electronics|\n",
       "|  6|Aliquam Enim Inco...|[(computers, comP...|10255988167|computers compute...|  4|         Electronics|\n",
       "|  7|    Ipsum Primis Ltd|[[watch, clock, a...|10264435225|watch clock and j...|  1|        Toys and DIY|\n",
       "|  8|Pede Ultrices Ind...|([computer progra...|10279061213|computer programm...|  2|Beauty, Health, P...|\n",
       "|  9|           Nunc Inc.|[(furniture, home...|10323485998|furniture home fu...|  0|           Furniture|\n",
       "| 10|Facilisis Facilis...|([computers, comp...|10342410215|computers compute...|  4|         Electronics|\n",
       "| 11|      Odio Institute|((equipment, tool...|10346855916|equipment tool fu...|  0|           Furniture|\n",
       "| 12|    Rutrum Justo Ltd|([music shops - m...|10364012396|music shops  musi...|  3|Books, Stationary...|\n",
       "| 13|   Tellus Foundation|[[artist supply a...|10385011947|artist supply and...|  1|        Toys and DIY|\n",
       "| 14|      Sed Et Company|([florists suppli...|10385163239|florists supplies...|  0|           Furniture|\n",
       "| 15|              Id Ltd|([computers, comp...|10385250025|computers compute...|  4|         Electronics|\n",
       "| 16|Consequat Foundation|[[antique shops -...|10404542215|antique shops  sa...|  2|Beauty, Health, P...|\n",
       "| 17|Sit Amet Nulla Corp.|[[motor vehicle s...|10430380319|motor vehicle sup...|  0|           Furniture|\n",
       "| 18|Massa Vestibulum ...|[(moTor vehicle s...|10441711491|motor vehicle sup...|  0|           Furniture|\n",
       "| 19|       Ut Consulting|([gift, card, nov...|10462560289|gift card novelty...|  4|         Electronics|\n",
       "+---+--------------------+--------------------+-----------+--------------------+---+--------------------+\n",
       "only showing top 20 rows"
      ]
     },
     "execution_count": 16,
     "metadata": {},
     "output_type": "execute_result"
    }
   ],
   "source": [
    "#Removing false header line \n",
    "segments_data.na.drop(subset=[\"_c0\"])"
   ]
  },
  {
   "cell_type": "code",
   "execution_count": 17,
   "metadata": {},
   "outputs": [],
   "source": [
    "final_join.createOrReplaceTempView(\"temp\")\n",
    "\n",
    "segments_data.createOrReplaceTempView(\"temp2\")\n",
    "\n",
    "final_join = spark.sql(\"\"\" \n",
    "\n",
    "SELECT *\n",
    "FROM temp\n",
    "\n",
    "\n",
    "LEFT JOIN temp2\n",
    "\n",
    "ON temp.merchant_abn = temp2._c3\n",
    "\"\"\")"
   ]
  },
  {
   "cell_type": "code",
   "execution_count": 18,
   "metadata": {},
   "outputs": [],
   "source": [
    "# final_join.limit(5)\n",
    "from pyspark.sql.functions import col\n",
    "from pyspark.sql import functions as F\n",
    "from pyspark.sql.functions import when\n",
    "from pyspark.sql import functions as countDistinct"
   ]
  },
  {
   "cell_type": "code",
   "execution_count": 19,
   "metadata": {},
   "outputs": [],
   "source": [
    "#Creating a table of average fraud probabilities for each category of purchase: \n",
    "\n",
    "aggregated_prob = final_join.groupBy(\"temp2._c6\").agg(F.avg(\"cons_fraud_prob\").\\\n",
    "alias(\"avg_consumer_fraud\"),F.avg(\"merch_fraud_prob\").alias(\"avg_merchant_fraud\"))"
   ]
  },
  {
   "cell_type": "code",
   "execution_count": 20,
   "metadata": {},
   "outputs": [
    {
     "name": "stderr",
     "output_type": "stream",
     "text": [
      "[Stage 84:=================================>                     (43 + 27) / 70]\r"
     ]
    },
    {
     "name": "stdout",
     "output_type": "stream",
     "text": [
      "+--------------------+------------------+------------------+\n",
      "|                 _c6|avg_consumer_fraud|avg_merchant_fraud|\n",
      "+--------------------+------------------+------------------+\n",
      "|                null| 15.14504487064014|              null|\n",
      "|         Electronics|15.099318215130051|29.635051745296614|\n",
      "|        Toys and DIY| 15.13486107948872| 32.39127563989597|\n",
      "|           Furniture| 15.10712522737528| 30.93576502384926|\n",
      "|Beauty, Health, P...|15.156273881317677|29.761851644961112|\n",
      "|Books, Stationary...| 15.11163595522947| 29.01663781266414|\n",
      "+--------------------+------------------+------------------+\n",
      "\n"
     ]
    },
    {
     "name": "stderr",
     "output_type": "stream",
     "text": [
      "\r",
      "                                                                                \r"
     ]
    }
   ],
   "source": [
    "aggregated_prob.show()"
   ]
  },
  {
   "cell_type": "code",
   "execution_count": 21,
   "metadata": {},
   "outputs": [],
   "source": [
    "#adding a column for is_fraud for each transaction: \n",
    "\n",
    "is_fraud = when((final_join[\"_c6\"] == \"Electronics\") & (final_join[\"cons_fraud_prob\"] > 15.085)&(final_join[\"merch_fraud_prob\"]>29.635),1)\\\n",
    ".when((final_join[\"_c6\"] == \"Toys and DIY\") & (final_join[\"cons_fraud_prob\"] > 15.843) &(final_join[\"merch_fraud_prob\"]>32.404),1)\\\n",
    ".when((final_join[\"_c6\"] == \"Furniture\") & (final_join[\"cons_fraud_prob\"] > 15.077) & (final_join[\"merch_fraud_prob\"]>30.941),1)\\\n",
    ".when((final_join[\"_c6\"] == \"Beauty, Health, Personal and Household\") & (final_join[\"cons_fraud_prob\"] > 15.392) & (final_join[\"merch_fraud_prob\"]>29.76),1)\\\n",
    ".when((final_join[\"_c6\"] == \"Electronics\") & (final_join[\"cons_fraud_prob\"] > 15.085) &(final_join[\"merch_fraud_prob\"]>29.635),1)\\\n",
    ".when((final_join[\"_c6\"] == \"Books, Stationary and Music\") & (final_join[\"cons_fraud_prob\"] > 15.140) &(final_join[\"merch_fraud_prob\"]>29.016),1).otherwise(0)"
   ]
  },
  {
   "cell_type": "code",
   "execution_count": 22,
   "metadata": {},
   "outputs": [
    {
     "name": "stderr",
     "output_type": "stream",
     "text": [
      "                                                                                \r"
     ]
    },
    {
     "data": {
      "text/html": [
       "<table border='1'>\n",
       "<tr><th>_c6</th><th>avg_consumer_fraud</th><th>avg_merchant_fraud</th></tr>\n",
       "<tr><td>null</td><td>15.14504487064014</td><td>null</td></tr>\n",
       "<tr><td>Electronics</td><td>15.099318215130051</td><td>29.635051745296614</td></tr>\n",
       "<tr><td>Toys and DIY</td><td>15.13486107948872</td><td>32.39127563989597</td></tr>\n",
       "<tr><td>Furniture</td><td>15.10712522737528</td><td>30.93576502384926</td></tr>\n",
       "<tr><td>Beauty, Health, P...</td><td>15.156273881317677</td><td>29.761851644961112</td></tr>\n",
       "<tr><td>Books, Stationary...</td><td>15.11163595522947</td><td>29.01663781266414</td></tr>\n",
       "</table>\n"
      ],
      "text/plain": [
       "+--------------------+------------------+------------------+\n",
       "|                 _c6|avg_consumer_fraud|avg_merchant_fraud|\n",
       "+--------------------+------------------+------------------+\n",
       "|                null| 15.14504487064014|              null|\n",
       "|         Electronics|15.099318215130051|29.635051745296614|\n",
       "|        Toys and DIY| 15.13486107948872| 32.39127563989597|\n",
       "|           Furniture| 15.10712522737528| 30.93576502384926|\n",
       "|Beauty, Health, P...|15.156273881317677|29.761851644961112|\n",
       "|Books, Stationary...| 15.11163595522947| 29.01663781266414|\n",
       "+--------------------+------------------+------------------+"
      ]
     },
     "execution_count": 22,
     "metadata": {},
     "output_type": "execute_result"
    }
   ],
   "source": [
    "aggregated_prob.limit(6)"
   ]
  },
  {
   "cell_type": "code",
   "execution_count": 23,
   "metadata": {},
   "outputs": [
    {
     "name": "stderr",
     "output_type": "stream",
     "text": [
      "                                                                                \r"
     ]
    },
    {
     "data": {
      "text/html": [
       "<table border='1'>\n",
       "<tr><th>merchant_abn</th><th>categories</th><th>revenue_levels</th><th>dollar_value</th><th>user_id</th><th>consumer_id</th><th>user_id_1</th><th>order_datetime_1</th><th>cons_fraud_prob</th><th>merchant_abn_1</th><th>order_datetime</th><th>merch_fraud_prob</th><th>_c0</th><th>_c1</th><th>_c2</th><th>_c3</th><th>_c4</th><th>_c5</th><th>_c6</th></tr>\n",
       "<tr><td>15912561882</td><td>shoe shops</td><td>b</td><td>284.642162569933</td><td>12285</td><td>37894</td><td>12285</td><td>2021-04-07</td><td>17.34081938676617</td><td>null</td><td>null</td><td>null</td><td>269</td><td>Nullam Nisl Insti...</td><td>[[shoe shops], [b...</td><td>15912561882</td><td>shoe shops</td><td>0</td><td>Furniture</td></tr>\n",
       "<tr><td>15912561882</td><td>shoe shops</td><td>b</td><td>28.083206954036427</td><td>6305</td><td>6834</td><td>6305</td><td>2021-09-14</td><td>8.999053519584878</td><td>null</td><td>null</td><td>null</td><td>269</td><td>Nullam Nisl Insti...</td><td>[[shoe shops], [b...</td><td>15912561882</td><td>shoe shops</td><td>0</td><td>Furniture</td></tr>\n",
       "<tr><td>15912561882</td><td>shoe shops</td><td>b</td><td>28.083206954036427</td><td>6305</td><td>6834</td><td>6305</td><td>2021-04-27</td><td>56.67489226765316</td><td>null</td><td>null</td><td>null</td><td>269</td><td>Nullam Nisl Insti...</td><td>[[shoe shops], [b...</td><td>15912561882</td><td>shoe shops</td><td>0</td><td>Furniture</td></tr>\n",
       "<tr><td>15912561882</td><td>shoe shops</td><td>b</td><td>13.671791104152105</td><td>6305</td><td>6834</td><td>6305</td><td>2021-09-14</td><td>8.999053519584878</td><td>null</td><td>null</td><td>null</td><td>269</td><td>Nullam Nisl Insti...</td><td>[[shoe shops], [b...</td><td>15912561882</td><td>shoe shops</td><td>0</td><td>Furniture</td></tr>\n",
       "<tr><td>15912561882</td><td>shoe shops</td><td>b</td><td>13.671791104152105</td><td>6305</td><td>6834</td><td>6305</td><td>2021-04-27</td><td>56.67489226765316</td><td>null</td><td>null</td><td>null</td><td>269</td><td>Nullam Nisl Insti...</td><td>[[shoe shops], [b...</td><td>15912561882</td><td>shoe shops</td><td>0</td><td>Furniture</td></tr>\n",
       "</table>\n"
      ],
      "text/plain": [
       "+------------+----------+--------------+------------------+-------+-----------+---------+----------------+-----------------+--------------+--------------+----------------+---+--------------------+--------------------+-----------+----------+---+---------+\n",
       "|merchant_abn|categories|revenue_levels|      dollar_value|user_id|consumer_id|user_id_1|order_datetime_1|  cons_fraud_prob|merchant_abn_1|order_datetime|merch_fraud_prob|_c0|                 _c1|                 _c2|        _c3|       _c4|_c5|      _c6|\n",
       "+------------+----------+--------------+------------------+-------+-----------+---------+----------------+-----------------+--------------+--------------+----------------+---+--------------------+--------------------+-----------+----------+---+---------+\n",
       "| 15912561882|shoe shops|             b|  284.642162569933|  12285|      37894|    12285|      2021-04-07|17.34081938676617|          null|          null|            null|269|Nullam Nisl Insti...|[[shoe shops], [b...|15912561882|shoe shops|  0|Furniture|\n",
       "| 15912561882|shoe shops|             b|28.083206954036427|   6305|       6834|     6305|      2021-09-14|8.999053519584878|          null|          null|            null|269|Nullam Nisl Insti...|[[shoe shops], [b...|15912561882|shoe shops|  0|Furniture|\n",
       "| 15912561882|shoe shops|             b|28.083206954036427|   6305|       6834|     6305|      2021-04-27|56.67489226765316|          null|          null|            null|269|Nullam Nisl Insti...|[[shoe shops], [b...|15912561882|shoe shops|  0|Furniture|\n",
       "| 15912561882|shoe shops|             b|13.671791104152105|   6305|       6834|     6305|      2021-09-14|8.999053519584878|          null|          null|            null|269|Nullam Nisl Insti...|[[shoe shops], [b...|15912561882|shoe shops|  0|Furniture|\n",
       "| 15912561882|shoe shops|             b|13.671791104152105|   6305|       6834|     6305|      2021-04-27|56.67489226765316|          null|          null|            null|269|Nullam Nisl Insti...|[[shoe shops], [b...|15912561882|shoe shops|  0|Furniture|\n",
       "+------------+----------+--------------+------------------+-------+-----------+---------+----------------+-----------------+--------------+--------------+----------------+---+--------------------+--------------------+-----------+----------+---+---------+"
      ]
     },
     "execution_count": 23,
     "metadata": {},
     "output_type": "execute_result"
    }
   ],
   "source": [
    "final_join.limit(5)"
   ]
  },
  {
   "cell_type": "code",
   "execution_count": 24,
   "metadata": {},
   "outputs": [],
   "source": [
    "model_with_fraud = final_join.withColumn(\"is_fraud\",is_fraud)\n",
    "model_with_fraud = model_with_fraud.withColumnRenamed(\"merchant_abn\",\"sus_merchant_abn\")"
   ]
  },
  {
   "cell_type": "code",
   "execution_count": 25,
   "metadata": {},
   "outputs": [],
   "source": [
    "# # model_with_fraud.count()\n",
    "# merchant_abn_col = model_with_fraud.select(\"merchant_abn\")\n",
    "# print(merchant_abn_col.count())"
   ]
  },
  {
   "cell_type": "code",
   "execution_count": 26,
   "metadata": {},
   "outputs": [],
   "source": [
    "# model_with_fraud.write.parquet(\"../data/curated/model_data_with_fraud_col.parquet\") "
   ]
  },
  {
   "cell_type": "code",
   "execution_count": null,
   "metadata": {},
   "outputs": [],
   "source": []
  },
  {
   "cell_type": "code",
   "execution_count": 35,
   "metadata": {},
   "outputs": [],
   "source": [
    "#Creating a table of average fraud probabilities for each category of purchase: \n",
    "final_model_with_fraud = model_with_fraud.groupBy(\"sus_merchant_abn\").agg(F.avg(\"is_fraud\").alias(\"average_fraud_rate_per_merchant\"))\n"
   ]
  },
  {
   "cell_type": "code",
   "execution_count": 36,
   "metadata": {},
   "outputs": [
    {
     "data": {
      "text/plain": [
       "4027"
      ]
     },
     "execution_count": 36,
     "metadata": {},
     "output_type": "execute_result"
    }
   ],
   "source": [
    "\n",
    "final_model_with_fraud.count()"
   ]
  },
  {
   "cell_type": "code",
   "execution_count": 37,
   "metadata": {},
   "outputs": [
    {
     "name": "stderr",
     "output_type": "stream",
     "text": [
      "                                                                                \r"
     ]
    },
    {
     "name": "stdout",
     "output_type": "stream",
     "text": [
      "+----------------+-------------------------------+\n",
      "|sus_merchant_abn|average_fraud_rate_per_merchant|\n",
      "+----------------+-------------------------------+\n",
      "|     90568944804|            0.16653537563822027|\n",
      "|     27093785141|            0.17279945567320953|\n",
      "|     76968105359|             0.2506265664160401|\n",
      "|     19492220327|            0.15399746192893402|\n",
      "|     83199298021|            0.08577235772357723|\n",
      "+----------------+-------------------------------+\n",
      "only showing top 5 rows\n",
      "\n"
     ]
    },
    {
     "name": "stderr",
     "output_type": "stream",
     "text": [
      "\r",
      "[Stage 261:==========================>                           (34 + 36) / 70]\r",
      "\r",
      "                                                                                \r"
     ]
    }
   ],
   "source": [
    "\n",
    "final_model_with_fraud.filter(final_model_with_fraud.average_fraud_rate_per_merchant != 0.0).show(5)"
   ]
  },
  {
   "cell_type": "code",
   "execution_count": 30,
   "metadata": {},
   "outputs": [
    {
     "name": "stderr",
     "output_type": "stream",
     "text": [
      "                                                                                \r"
     ]
    }
   ],
   "source": [
    "final_model_with_fraud.write.mode('overwrite').parquet(\"../data/tables/transactions_with_fraud_rates.parquet\")"
   ]
  },
  {
   "cell_type": "code",
   "execution_count": 31,
   "metadata": {},
   "outputs": [
    {
     "name": "stderr",
     "output_type": "stream",
     "text": [
      "                                                                                \r"
     ]
    }
   ],
   "source": [
    "#merging with full dataset with all columns for geospatial visualisations \n",
    "full_data\n",
    "final_model_with_fraud\n",
    "\n",
    "full_data.createOrReplaceTempView(\"temp\")\n",
    "\n",
    "final_model_with_fraud.createOrReplaceTempView(\"temp2\")\n",
    "\n",
    "full_data_with_fraud = spark.sql(\"\"\" \n",
    "\n",
    "SELECT *\n",
    "FROM temp\n",
    "\n",
    "\n",
    "LEFT JOIN temp2\n",
    "\n",
    "ON temp.merchant_abn = temp2.sus_merchant_abn\n",
    "\"\"\")\n",
    "\n",
    "full_data_with_fraud.write.mode('overwrite').parquet('../data/tables/full_dataset_with_fraud_rates.parquet')\n",
    "\n"
   ]
  },
  {
   "cell_type": "code",
   "execution_count": 33,
   "metadata": {},
   "outputs": [
    {
     "name": "stderr",
     "output_type": "stream",
     "text": [
      "                                                                                \r"
     ]
    },
    {
     "data": {
      "text/plain": [
       "[Row(merchant_name='Nunc Risus LLP', merchant_abn=99009287608, categories='computer programming , data processing, and integrated systems design services', take_rate=3.15, revenue_levels='b', name='Holly Williams', address='37756 Christopher Orchard', state='VIC', postcode='3022', gender='Female', trans_merchant_abn=99009287608, dollar_value=48.66654072282729, order_id='046f358f-73a5-481b-a571-b7bbb60d9dbb', order_datetime=datetime.date(2022, 2, 23), user_id=8197, consumer_id=1474529, sus_merchant_abn=99009287608, average fraud rate per merchant=0.0),\n",
       " Row(merchant_name='Nunc Risus LLP', merchant_abn=99009287608, categories='computer programming , data processing, and integrated systems design services', take_rate=3.15, revenue_levels='b', name='Daniel Benton', address='452 Harrison Estate', state='QLD', postcode='4852', gender='Male', trans_merchant_abn=99009287608, dollar_value=371.3071592537628, order_id='3b95251e-2038-40a5-8df0-bdd0d1824cd7', order_datetime=datetime.date(2021, 12, 13), user_id=5053, consumer_id=1210004, sus_merchant_abn=99009287608, average fraud rate per merchant=0.0),\n",
       " Row(merchant_name='Nunc Risus LLP', merchant_abn=99009287608, categories='computer programming , data processing, and integrated systems design services', take_rate=3.15, revenue_levels='b', name='Mark Gutierrez', address='260 Hobbs Divide', state='NSW', postcode='2355', gender='Undisclosed', trans_merchant_abn=99009287608, dollar_value=85.71446306261431, order_id='c66a55cb-6bf4-4c11-a038-93da49f3a997', order_datetime=datetime.date(2021, 3, 13), user_id=4452, consumer_id=196376, sus_merchant_abn=99009287608, average fraud rate per merchant=0.0),\n",
       " Row(merchant_name='Nunc Risus LLP', merchant_abn=99009287608, categories='computer programming , data processing, and integrated systems design services', take_rate=3.15, revenue_levels='b', name='Andrea Thomas DDS', address='108 Kimberly Extension Suite 627', state='NSW', postcode='2755', gender='Female', trans_merchant_abn=99009287608, dollar_value=195.72179837052627, order_id='b5a420ea-d2eb-4375-a6d6-db71172f660b', order_datetime=datetime.date(2021, 4, 23), user_id=6764, consumer_id=536145, sus_merchant_abn=99009287608, average fraud rate per merchant=0.0),\n",
       " Row(merchant_name='Nunc Risus LLP', merchant_abn=99009287608, categories='computer programming , data processing, and integrated systems design services', take_rate=3.15, revenue_levels='b', name='Charles Miller', address='783 Tammy Brooks', state='SA', postcode='5653', gender='Male', trans_merchant_abn=99009287608, dollar_value=329.60017580856265, order_id='4933d2ef-839e-40c2-8d5e-35769543fb7c', order_datetime=datetime.date(2021, 7, 27), user_id=19526, consumer_id=997835, sus_merchant_abn=99009287608, average fraud rate per merchant=0.0),\n",
       " Row(merchant_name='Nunc Risus LLP', merchant_abn=99009287608, categories='computer programming , data processing, and integrated systems design services', take_rate=3.15, revenue_levels='b', name='Ricardo Stewart', address='019 Stephanie Plains Apt. 798', state='SA', postcode='5471', gender='Male', trans_merchant_abn=99009287608, dollar_value=159.31098411259688, order_id='53211073-fee8-40ef-bada-71c0494a6ca0', order_datetime=datetime.date(2022, 1, 8), user_id=10010, consumer_id=632795, sus_merchant_abn=99009287608, average fraud rate per merchant=0.0),\n",
       " Row(merchant_name='Nunc Risus LLP', merchant_abn=99009287608, categories='computer programming , data processing, and integrated systems design services', take_rate=3.15, revenue_levels='b', name='Rhonda Duran', address='98874 Nicholas Ridges', state='NSW', postcode='2711', gender='Female', trans_merchant_abn=99009287608, dollar_value=74.39349813989831, order_id='87d7dfac-918b-441f-bfe6-ce5c61f8dc16', order_datetime=datetime.date(2021, 11, 6), user_id=12517, consumer_id=429310, sus_merchant_abn=99009287608, average fraud rate per merchant=0.0),\n",
       " Row(merchant_name='Nunc Risus LLP', merchant_abn=99009287608, categories='computer programming , data processing, and integrated systems design services', take_rate=3.15, revenue_levels='b', name='Robert Luna', address='72037 Summers Underpass Apt. 530', state='SA', postcode='5034', gender='Male', trans_merchant_abn=99009287608, dollar_value=251.69623955460847, order_id='7ed92383-3f37-483d-a601-1ed608139749', order_datetime=datetime.date(2021, 12, 10), user_id=15220, consumer_id=493495, sus_merchant_abn=99009287608, average fraud rate per merchant=0.0),\n",
       " Row(merchant_name='Nunc Risus LLP', merchant_abn=99009287608, categories='computer programming , data processing, and integrated systems design services', take_rate=3.15, revenue_levels='b', name='Victoria Davis', address='65123 Gabrielle Forges', state='WA', postcode='6028', gender='Female', trans_merchant_abn=99009287608, dollar_value=128.6204480858175, order_id='3811d8fa-113a-48a7-b1c0-f41a51098e47', order_datetime=datetime.date(2021, 6, 30), user_id=16004, consumer_id=1247635, sus_merchant_abn=99009287608, average fraud rate per merchant=0.0),\n",
       " Row(merchant_name='Nunc Risus LLP', merchant_abn=99009287608, categories='computer programming , data processing, and integrated systems design services', take_rate=3.15, revenue_levels='b', name='Kimberly Morrison', address='27437 Davila Terrace', state='QLD', postcode='4497', gender='Female', trans_merchant_abn=99009287608, dollar_value=214.90354460693356, order_id='5379f32a-afeb-4415-8045-465d562b72fd', order_datetime=datetime.date(2021, 6, 9), user_id=21322, consumer_id=830647, sus_merchant_abn=99009287608, average fraud rate per merchant=0.0)]"
      ]
     },
     "execution_count": 33,
     "metadata": {},
     "output_type": "execute_result"
    }
   ],
   "source": [
    "full_data_with_fraud.tail(10)"
   ]
  },
  {
   "cell_type": "code",
   "execution_count": null,
   "metadata": {},
   "outputs": [],
   "source": []
  }
 ],
 "metadata": {
  "kernelspec": {
   "display_name": "Python 3 (Anaconda 3)",
   "language": "python",
   "name": "python3"
  },
  "language_info": {
   "codemirror_mode": {
    "name": "ipython",
    "version": 3
   },
   "file_extension": ".py",
   "mimetype": "text/x-python",
   "name": "python",
   "nbconvert_exporter": "python",
   "pygments_lexer": "ipython3",
   "version": "3.8.2"
  },
  "vscode": {
   "interpreter": {
    "hash": "9950f655f935e9d386631456d48ab2fdbfd1f3b11a4a370e740fa048980506b7"
   }
  }
 },
 "nbformat": 4,
 "nbformat_minor": 5
}
