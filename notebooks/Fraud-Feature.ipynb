{
 "cells": [
  {
   "cell_type": "markdown",
   "metadata": {},
   "source": [
    "## Part 4: Fraud"
   ]
  },
  {
   "cell_type": "code",
   "execution_count": 1,
   "metadata": {},
   "outputs": [
    {
     "name": "stdout",
     "output_type": "stream",
     "text": [
      "22/10/05 01:05:27 WARN Utils: Your hostname, mast30034 resolves to a loopback address: 127.0.1.1; using 45.113.234.45 instead (on interface eth0)\n",
      "22/10/05 01:05:27 WARN Utils: Set SPARK_LOCAL_IP if you need to bind to another address\n"
     ]
    },
    {
     "name": "stderr",
     "output_type": "stream",
     "text": [
      "Setting default log level to \"WARN\".\n",
      "To adjust logging level use sc.setLogLevel(newLevel). For SparkR, use setLogLevel(newLevel).\n"
     ]
    },
    {
     "name": "stdout",
     "output_type": "stream",
     "text": [
      "22/10/05 01:05:28 WARN NativeCodeLoader: Unable to load native-hadoop library for your platform... using builtin-java classes where applicable\n",
      "22/10/05 01:05:29 WARN Utils: Service 'SparkUI' could not bind on port 4040. Attempting port 4041.\n",
      "22/10/05 01:05:29 WARN Utils: Service 'SparkUI' could not bind on port 4041. Attempting port 4042.\n",
      "22/10/05 01:05:29 WARN Utils: Service 'SparkUI' could not bind on port 4042. Attempting port 4043.\n"
     ]
    },
    {
     "name": "stderr",
     "output_type": "stream",
     "text": [
      "                                                                                \r"
     ]
    },
    {
     "name": "stdout",
     "output_type": "stream",
     "text": [
      "22/10/05 01:06:28 WARN SparkSession: Using an existing Spark session; only runtime SQL configurations will take effect.\n"
     ]
    }
   ],
   "source": [
    "%run \"../scripts/outlier.py\" \"../scripts/paths.json\""
   ]
  },
  {
   "cell_type": "code",
   "execution_count": 2,
   "metadata": {},
   "outputs": [
    {
     "ename": "FileNotFoundError",
     "evalue": "[Errno 2] No such file or directory: '../data/tables/merchant_fraud_probabilty.csv'",
     "output_type": "error",
     "traceback": [
      "\u001b[0;31m---------------------------------------------------------------------------\u001b[0m",
      "\u001b[0;31mFileNotFoundError\u001b[0m                         Traceback (most recent call last)",
      "\u001b[0;32m/tmp/ipykernel_821898/1089240367.py\u001b[0m in \u001b[0;36m<module>\u001b[0;34m\u001b[0m\n\u001b[1;32m      6\u001b[0m \u001b[0;34m\u001b[0m\u001b[0m\n\u001b[1;32m      7\u001b[0m \u001b[0;31m#Loading merchant fraud data:\u001b[0m\u001b[0;34m\u001b[0m\u001b[0;34m\u001b[0m\u001b[0;34m\u001b[0m\u001b[0m\n\u001b[0;32m----> 8\u001b[0;31m \u001b[0mfraud_merchant\u001b[0m \u001b[0;34m=\u001b[0m \u001b[0mpd\u001b[0m\u001b[0;34m.\u001b[0m\u001b[0mread_csv\u001b[0m\u001b[0;34m(\u001b[0m\u001b[0;34m'../data/tables/merchant_fraud_probabilty.csv'\u001b[0m\u001b[0;34m)\u001b[0m\u001b[0;34m\u001b[0m\u001b[0;34m\u001b[0m\u001b[0m\n\u001b[0m\u001b[1;32m      9\u001b[0m \u001b[0mfraud_merchant\u001b[0m \u001b[0;34m=\u001b[0m \u001b[0mspark\u001b[0m\u001b[0;34m.\u001b[0m\u001b[0mcreateDataFrame\u001b[0m\u001b[0;34m(\u001b[0m\u001b[0mfraud_merchant\u001b[0m\u001b[0;34m)\u001b[0m\u001b[0;34m\u001b[0m\u001b[0;34m\u001b[0m\u001b[0m\n",
      "\u001b[0;32m~/.local/lib/python3.8/site-packages/pandas/util/_decorators.py\u001b[0m in \u001b[0;36mwrapper\u001b[0;34m(*args, **kwargs)\u001b[0m\n\u001b[1;32m    309\u001b[0m                     \u001b[0mstacklevel\u001b[0m\u001b[0;34m=\u001b[0m\u001b[0mstacklevel\u001b[0m\u001b[0;34m,\u001b[0m\u001b[0;34m\u001b[0m\u001b[0;34m\u001b[0m\u001b[0m\n\u001b[1;32m    310\u001b[0m                 )\n\u001b[0;32m--> 311\u001b[0;31m             \u001b[0;32mreturn\u001b[0m \u001b[0mfunc\u001b[0m\u001b[0;34m(\u001b[0m\u001b[0;34m*\u001b[0m\u001b[0margs\u001b[0m\u001b[0;34m,\u001b[0m \u001b[0;34m**\u001b[0m\u001b[0mkwargs\u001b[0m\u001b[0;34m)\u001b[0m\u001b[0;34m\u001b[0m\u001b[0;34m\u001b[0m\u001b[0m\n\u001b[0m\u001b[1;32m    312\u001b[0m \u001b[0;34m\u001b[0m\u001b[0m\n\u001b[1;32m    313\u001b[0m         \u001b[0;32mreturn\u001b[0m \u001b[0mwrapper\u001b[0m\u001b[0;34m\u001b[0m\u001b[0;34m\u001b[0m\u001b[0m\n",
      "\u001b[0;32m~/.local/lib/python3.8/site-packages/pandas/io/parsers/readers.py\u001b[0m in \u001b[0;36mread_csv\u001b[0;34m(filepath_or_buffer, sep, delimiter, header, names, index_col, usecols, squeeze, prefix, mangle_dupe_cols, dtype, engine, converters, true_values, false_values, skipinitialspace, skiprows, skipfooter, nrows, na_values, keep_default_na, na_filter, verbose, skip_blank_lines, parse_dates, infer_datetime_format, keep_date_col, date_parser, dayfirst, cache_dates, iterator, chunksize, compression, thousands, decimal, lineterminator, quotechar, quoting, doublequote, escapechar, comment, encoding, encoding_errors, dialect, error_bad_lines, warn_bad_lines, on_bad_lines, delim_whitespace, low_memory, memory_map, float_precision, storage_options)\u001b[0m\n\u001b[1;32m    678\u001b[0m     \u001b[0mkwds\u001b[0m\u001b[0;34m.\u001b[0m\u001b[0mupdate\u001b[0m\u001b[0;34m(\u001b[0m\u001b[0mkwds_defaults\u001b[0m\u001b[0;34m)\u001b[0m\u001b[0;34m\u001b[0m\u001b[0;34m\u001b[0m\u001b[0m\n\u001b[1;32m    679\u001b[0m \u001b[0;34m\u001b[0m\u001b[0m\n\u001b[0;32m--> 680\u001b[0;31m     \u001b[0;32mreturn\u001b[0m \u001b[0m_read\u001b[0m\u001b[0;34m(\u001b[0m\u001b[0mfilepath_or_buffer\u001b[0m\u001b[0;34m,\u001b[0m \u001b[0mkwds\u001b[0m\u001b[0;34m)\u001b[0m\u001b[0;34m\u001b[0m\u001b[0;34m\u001b[0m\u001b[0m\n\u001b[0m\u001b[1;32m    681\u001b[0m \u001b[0;34m\u001b[0m\u001b[0m\n\u001b[1;32m    682\u001b[0m \u001b[0;34m\u001b[0m\u001b[0m\n",
      "\u001b[0;32m~/.local/lib/python3.8/site-packages/pandas/io/parsers/readers.py\u001b[0m in \u001b[0;36m_read\u001b[0;34m(filepath_or_buffer, kwds)\u001b[0m\n\u001b[1;32m    573\u001b[0m \u001b[0;34m\u001b[0m\u001b[0m\n\u001b[1;32m    574\u001b[0m     \u001b[0;31m# Create the parser.\u001b[0m\u001b[0;34m\u001b[0m\u001b[0;34m\u001b[0m\u001b[0;34m\u001b[0m\u001b[0m\n\u001b[0;32m--> 575\u001b[0;31m     \u001b[0mparser\u001b[0m \u001b[0;34m=\u001b[0m \u001b[0mTextFileReader\u001b[0m\u001b[0;34m(\u001b[0m\u001b[0mfilepath_or_buffer\u001b[0m\u001b[0;34m,\u001b[0m \u001b[0;34m**\u001b[0m\u001b[0mkwds\u001b[0m\u001b[0;34m)\u001b[0m\u001b[0;34m\u001b[0m\u001b[0;34m\u001b[0m\u001b[0m\n\u001b[0m\u001b[1;32m    576\u001b[0m \u001b[0;34m\u001b[0m\u001b[0m\n\u001b[1;32m    577\u001b[0m     \u001b[0;32mif\u001b[0m \u001b[0mchunksize\u001b[0m \u001b[0;32mor\u001b[0m \u001b[0miterator\u001b[0m\u001b[0;34m:\u001b[0m\u001b[0;34m\u001b[0m\u001b[0;34m\u001b[0m\u001b[0m\n",
      "\u001b[0;32m~/.local/lib/python3.8/site-packages/pandas/io/parsers/readers.py\u001b[0m in \u001b[0;36m__init__\u001b[0;34m(self, f, engine, **kwds)\u001b[0m\n\u001b[1;32m    932\u001b[0m \u001b[0;34m\u001b[0m\u001b[0m\n\u001b[1;32m    933\u001b[0m         \u001b[0mself\u001b[0m\u001b[0;34m.\u001b[0m\u001b[0mhandles\u001b[0m\u001b[0;34m:\u001b[0m \u001b[0mIOHandles\u001b[0m \u001b[0;34m|\u001b[0m \u001b[0;32mNone\u001b[0m \u001b[0;34m=\u001b[0m \u001b[0;32mNone\u001b[0m\u001b[0;34m\u001b[0m\u001b[0;34m\u001b[0m\u001b[0m\n\u001b[0;32m--> 934\u001b[0;31m         \u001b[0mself\u001b[0m\u001b[0;34m.\u001b[0m\u001b[0m_engine\u001b[0m \u001b[0;34m=\u001b[0m \u001b[0mself\u001b[0m\u001b[0;34m.\u001b[0m\u001b[0m_make_engine\u001b[0m\u001b[0;34m(\u001b[0m\u001b[0mf\u001b[0m\u001b[0;34m,\u001b[0m \u001b[0mself\u001b[0m\u001b[0;34m.\u001b[0m\u001b[0mengine\u001b[0m\u001b[0;34m)\u001b[0m\u001b[0;34m\u001b[0m\u001b[0;34m\u001b[0m\u001b[0m\n\u001b[0m\u001b[1;32m    935\u001b[0m \u001b[0;34m\u001b[0m\u001b[0m\n\u001b[1;32m    936\u001b[0m     \u001b[0;32mdef\u001b[0m \u001b[0mclose\u001b[0m\u001b[0;34m(\u001b[0m\u001b[0mself\u001b[0m\u001b[0;34m)\u001b[0m\u001b[0;34m:\u001b[0m\u001b[0;34m\u001b[0m\u001b[0;34m\u001b[0m\u001b[0m\n",
      "\u001b[0;32m~/.local/lib/python3.8/site-packages/pandas/io/parsers/readers.py\u001b[0m in \u001b[0;36m_make_engine\u001b[0;34m(self, f, engine)\u001b[0m\n\u001b[1;32m   1216\u001b[0m             \u001b[0;31m# \"Union[str, PathLike[str], ReadCsvBuffer[bytes], ReadCsvBuffer[str]]\"\u001b[0m\u001b[0;34m\u001b[0m\u001b[0;34m\u001b[0m\u001b[0;34m\u001b[0m\u001b[0m\n\u001b[1;32m   1217\u001b[0m             \u001b[0;31m# , \"str\", \"bool\", \"Any\", \"Any\", \"Any\", \"Any\", \"Any\"\u001b[0m\u001b[0;34m\u001b[0m\u001b[0;34m\u001b[0m\u001b[0;34m\u001b[0m\u001b[0m\n\u001b[0;32m-> 1218\u001b[0;31m             self.handles = get_handle(  # type: ignore[call-overload]\n\u001b[0m\u001b[1;32m   1219\u001b[0m                 \u001b[0mf\u001b[0m\u001b[0;34m,\u001b[0m\u001b[0;34m\u001b[0m\u001b[0;34m\u001b[0m\u001b[0m\n\u001b[1;32m   1220\u001b[0m                 \u001b[0mmode\u001b[0m\u001b[0;34m,\u001b[0m\u001b[0;34m\u001b[0m\u001b[0;34m\u001b[0m\u001b[0m\n",
      "\u001b[0;32m~/.local/lib/python3.8/site-packages/pandas/io/common.py\u001b[0m in \u001b[0;36mget_handle\u001b[0;34m(path_or_buf, mode, encoding, compression, memory_map, is_text, errors, storage_options)\u001b[0m\n\u001b[1;32m    784\u001b[0m         \u001b[0;32mif\u001b[0m \u001b[0mioargs\u001b[0m\u001b[0;34m.\u001b[0m\u001b[0mencoding\u001b[0m \u001b[0;32mand\u001b[0m \u001b[0;34m\"b\"\u001b[0m \u001b[0;32mnot\u001b[0m \u001b[0;32min\u001b[0m \u001b[0mioargs\u001b[0m\u001b[0;34m.\u001b[0m\u001b[0mmode\u001b[0m\u001b[0;34m:\u001b[0m\u001b[0;34m\u001b[0m\u001b[0;34m\u001b[0m\u001b[0m\n\u001b[1;32m    785\u001b[0m             \u001b[0;31m# Encoding\u001b[0m\u001b[0;34m\u001b[0m\u001b[0;34m\u001b[0m\u001b[0;34m\u001b[0m\u001b[0m\n\u001b[0;32m--> 786\u001b[0;31m             handle = open(\n\u001b[0m\u001b[1;32m    787\u001b[0m                 \u001b[0mhandle\u001b[0m\u001b[0;34m,\u001b[0m\u001b[0;34m\u001b[0m\u001b[0;34m\u001b[0m\u001b[0m\n\u001b[1;32m    788\u001b[0m                 \u001b[0mioargs\u001b[0m\u001b[0;34m.\u001b[0m\u001b[0mmode\u001b[0m\u001b[0;34m,\u001b[0m\u001b[0;34m\u001b[0m\u001b[0;34m\u001b[0m\u001b[0m\n",
      "\u001b[0;31mFileNotFoundError\u001b[0m: [Errno 2] No such file or directory: '../data/tables/merchant_fraud_probabilty.csv'"
     ]
    }
   ],
   "source": [
    "# #ETL script not working, so loading the data manually for the time being: \n",
    "\n",
    "# #Loading consumer fraud data: \n",
    "# fraud_consumer = pd.read_csv('../data/tables/consumer_fraud_probability.csv')\n",
    "# fraud_consumer = spark.createDataFrame(fraud_consumer) \n",
    "\n",
    "# #Loading merchant fraud data: \n",
    "# fraud_merchant = pd.read_csv('../data/tables/merchant_fraud_probabilty.csv')\n",
    "# fraud_merchant = spark.createDataFrame(fraud_merchant) \n"
   ]
  },
  {
   "cell_type": "markdown",
   "metadata": {},
   "source": [
    "The consumer fraud data shows the list of transactions with a high probability of being fraudulent, and therefore should be considered invalid."
   ]
  },
  {
   "cell_type": "code",
   "execution_count": null,
   "metadata": {},
   "outputs": [],
   "source": [
    "# print(fraud_consumer.count())\n",
    "# fraud_consumer = fraud_consumer.withColumnRenamed(\"fraud_probability\",\"cons_fraud_prob\").withColumnRenamed(\"order_datetime\",\"order_datetime_1\").withColumnRenamed(\"user_id\",\"user_id_1\")\n",
    "# fraud_consumer.limit(5)"
   ]
  },
  {
   "cell_type": "markdown",
   "metadata": {},
   "source": [
    "Probability of fraud for high revenue merchants...?"
   ]
  },
  {
   "cell_type": "code",
   "execution_count": null,
   "metadata": {},
   "outputs": [],
   "source": [
    "# print(fraud_merchants.count())\n",
    "# fraud_merchants = fraud_merchants.withColumnRenamed(\"merchant_abn\",\"merchant_abn_1\").withColumnRenamed(\"fraud_probability\",\"merch_fraud_prob\")\n",
    "# fraud_merchants.limit(5)"
   ]
  },
  {
   "cell_type": "code",
   "execution_count": null,
   "metadata": {},
   "outputs": [],
   "source": [
    "\n",
    "# merchant_data = final_join.select(\"merchant_abn\", \"categories\",\"revenue_levels\",\"dollar_value\",\"user_id\",\"consumer_id\")"
   ]
  },
  {
   "cell_type": "markdown",
   "metadata": {},
   "source": [
    "- join consumer fraud to final join\n",
    "- create a version of final join with removed transactions from fraud\n",
    "- aggregate final join from transaction to merchant level\n",
    "- add fraud merchant as a feature to aggregated final join\n",
    "- treat fraud as response and try to create model to give other merchants a fraud score"
   ]
  },
  {
   "cell_type": "code",
   "execution_count": null,
   "metadata": {},
   "outputs": [],
   "source": [
    "# #Joining consumer fraud, merchant data, and merchant fraud data to one datatset: \n",
    "\n",
    "# #Joining consumer fraud and merchant data together\n",
    "\n",
    "# merchant_data.createOrReplaceTempView(\"temp\")\n",
    "\n",
    "# fraud_consumer.createOrReplaceTempView(\"temp2\")\n",
    "\n",
    "# join_1 = spark.sql(\"\"\" \n",
    "\n",
    "# SELECT *\n",
    "# FROM temp\n",
    "\n",
    "# LEFT JOIN temp2\n",
    "\n",
    "# ON temp.user_id = temp2.user_id_1 \n",
    "# \"\"\")\n"
   ]
  },
  {
   "cell_type": "code",
   "execution_count": null,
   "metadata": {},
   "outputs": [],
   "source": [
    "# #Joining join_1 to merchant fraud \n",
    "\n",
    "# #Joining all test + predicting Sets Together \n",
    "# join_1.createOrReplaceTempView(\"temp\")\n",
    "\n",
    "# fraud_merchants.createOrReplaceTempView(\"temp2\")\n",
    "\n",
    "# final_join = spark.sql(\"\"\" \n",
    "\n",
    "# SELECT *\n",
    "# FROM temp\n",
    "\n",
    "\n",
    "# LEFT JOIN temp2\n",
    "\n",
    "# ON temp.merchant_abn = temp2.merchant_abn_1\n",
    "# \"\"\")"
   ]
  },
  {
   "cell_type": "code",
   "execution_count": null,
   "metadata": {},
   "outputs": [],
   "source": [
    "# #Changing all null probability values to 0.01: \n",
    "\n",
    "# MIN_P = 0.01\n",
    "# final_join = final_join.fillna(MIN_P, subset=[\"cons_fraud_prob\", \"merch_fraud_prob\"])"
   ]
  },
  {
   "cell_type": "code",
   "execution_count": null,
   "metadata": {},
   "outputs": [],
   "source": [
    "#join segment data \n",
    "#clustering \n",
    "#decide threshold based on clusters \n",
    "#use threshold to classify if transaction is fradulent or not "
   ]
  },
  {
   "cell_type": "code",
   "execution_count": 3,
   "metadata": {},
   "outputs": [],
   "source": [
    "# Reading in segments \n",
    "segments_data = spark.read.csv('../data/curated/tagged_merchants.csv')"
   ]
  },
  {
   "cell_type": "code",
   "execution_count": 4,
   "metadata": {},
   "outputs": [
    {
     "data": {
      "text/html": [
       "<table border='1'>\n",
       "<tr><th>_c0</th><th>_c1</th><th>_c2</th><th>_c3</th><th>_c4</th><th>_c5</th><th>_c6</th></tr>\n",
       "<tr><td>null</td><td>name</td><td>tags</td><td>merchant_abn</td><td>cleaned_tags</td><td>store_type</td><td>category</td></tr>\n",
       "<tr><td>0</td><td>Felis Limited</td><td>((furniture, home...</td><td>10023283211</td><td>furniture home fu...</td><td>0</td><td>Furniture</td></tr>\n",
       "<tr><td>1</td><td>Arcu Ac Orci Corp...</td><td>([cable, satellit...</td><td>10142254217</td><td>cable satellite a...</td><td>4</td><td>Electronics</td></tr>\n",
       "<tr><td>2</td><td>Nunc Sed Company</td><td>([jewelry, watch,...</td><td>10165489824</td><td>jewelry watch clo...</td><td>1</td><td>Toys and DIY</td></tr>\n",
       "<tr><td>3</td><td>Ultricies Digniss...</td><td>([wAtch, clock, a...</td><td>10187291046</td><td>watch clock and j...</td><td>1</td><td>Toys and DIY</td></tr>\n",
       "</table>\n"
      ],
      "text/plain": [
       "+----+--------------------+--------------------+------------+--------------------+----------+------------+\n",
       "| _c0|                 _c1|                 _c2|         _c3|                 _c4|       _c5|         _c6|\n",
       "+----+--------------------+--------------------+------------+--------------------+----------+------------+\n",
       "|null|                name|                tags|merchant_abn|        cleaned_tags|store_type|    category|\n",
       "|   0|       Felis Limited|((furniture, home...| 10023283211|furniture home fu...|         0|   Furniture|\n",
       "|   1|Arcu Ac Orci Corp...|([cable, satellit...| 10142254217|cable satellite a...|         4| Electronics|\n",
       "|   2|    Nunc Sed Company|([jewelry, watch,...| 10165489824|jewelry watch clo...|         1|Toys and DIY|\n",
       "|   3|Ultricies Digniss...|([wAtch, clock, a...| 10187291046|watch clock and j...|         1|Toys and DIY|\n",
       "+----+--------------------+--------------------+------------+--------------------+----------+------------+"
      ]
     },
     "execution_count": 4,
     "metadata": {},
     "output_type": "execute_result"
    }
   ],
   "source": [
    "segments_data.limit(5)"
   ]
  },
  {
   "cell_type": "code",
   "execution_count": 5,
   "metadata": {
    "scrolled": true
   },
   "outputs": [
    {
     "data": {
      "text/html": [
       "<table border='1'>\n",
       "<tr><th>_c0</th><th>_c1</th><th>_c2</th><th>_c3</th><th>_c4</th><th>_c5</th><th>_c6</th></tr>\n",
       "<tr><td>0</td><td>Felis Limited</td><td>((furniture, home...</td><td>10023283211</td><td>furniture home fu...</td><td>0</td><td>Furniture</td></tr>\n",
       "<tr><td>1</td><td>Arcu Ac Orci Corp...</td><td>([cable, satellit...</td><td>10142254217</td><td>cable satellite a...</td><td>4</td><td>Electronics</td></tr>\n",
       "<tr><td>2</td><td>Nunc Sed Company</td><td>([jewelry, watch,...</td><td>10165489824</td><td>jewelry watch clo...</td><td>1</td><td>Toys and DIY</td></tr>\n",
       "<tr><td>3</td><td>Ultricies Digniss...</td><td>([wAtch, clock, a...</td><td>10187291046</td><td>watch clock and j...</td><td>1</td><td>Toys and DIY</td></tr>\n",
       "<tr><td>4</td><td>Enim Condimentum PC</td><td>([music shops - m...</td><td>10192359162</td><td>music shops  musi...</td><td>3</td><td>Books, Stationary...</td></tr>\n",
       "<tr><td>5</td><td>Fusce Company</td><td>[(gift, card, nov...</td><td>10206519221</td><td>gift card novelty...</td><td>4</td><td>Electronics</td></tr>\n",
       "<tr><td>6</td><td>Aliquam Enim Inco...</td><td>[(computers, comP...</td><td>10255988167</td><td>computers compute...</td><td>4</td><td>Electronics</td></tr>\n",
       "<tr><td>7</td><td>Ipsum Primis Ltd</td><td>[[watch, clock, a...</td><td>10264435225</td><td>watch clock and j...</td><td>1</td><td>Toys and DIY</td></tr>\n",
       "<tr><td>8</td><td>Pede Ultrices Ind...</td><td>([computer progra...</td><td>10279061213</td><td>computer programm...</td><td>2</td><td>Beauty, Health, P...</td></tr>\n",
       "<tr><td>9</td><td>Nunc Inc.</td><td>[(furniture, home...</td><td>10323485998</td><td>furniture home fu...</td><td>0</td><td>Furniture</td></tr>\n",
       "<tr><td>10</td><td>Facilisis Facilis...</td><td>([computers, comp...</td><td>10342410215</td><td>computers compute...</td><td>4</td><td>Electronics</td></tr>\n",
       "<tr><td>11</td><td>Odio Institute</td><td>((equipment, tool...</td><td>10346855916</td><td>equipment tool fu...</td><td>0</td><td>Furniture</td></tr>\n",
       "<tr><td>12</td><td>Rutrum Justo Ltd</td><td>([music shops - m...</td><td>10364012396</td><td>music shops  musi...</td><td>3</td><td>Books, Stationary...</td></tr>\n",
       "<tr><td>13</td><td>Tellus Foundation</td><td>[[artist supply a...</td><td>10385011947</td><td>artist supply and...</td><td>1</td><td>Toys and DIY</td></tr>\n",
       "<tr><td>14</td><td>Sed Et Company</td><td>([florists suppli...</td><td>10385163239</td><td>florists supplies...</td><td>0</td><td>Furniture</td></tr>\n",
       "<tr><td>15</td><td>Id Ltd</td><td>([computers, comp...</td><td>10385250025</td><td>computers compute...</td><td>4</td><td>Electronics</td></tr>\n",
       "<tr><td>16</td><td>Consequat Foundation</td><td>[[antique shops -...</td><td>10404542215</td><td>antique shops  sa...</td><td>2</td><td>Beauty, Health, P...</td></tr>\n",
       "<tr><td>17</td><td>Sit Amet Nulla Corp.</td><td>[[motor vehicle s...</td><td>10430380319</td><td>motor vehicle sup...</td><td>0</td><td>Furniture</td></tr>\n",
       "<tr><td>18</td><td>Massa Vestibulum ...</td><td>[(moTor vehicle s...</td><td>10441711491</td><td>motor vehicle sup...</td><td>0</td><td>Furniture</td></tr>\n",
       "<tr><td>19</td><td>Ut Consulting</td><td>([gift, card, nov...</td><td>10462560289</td><td>gift card novelty...</td><td>4</td><td>Electronics</td></tr>\n",
       "</table>\n",
       "only showing top 20 rows\n"
      ],
      "text/plain": [
       "+---+--------------------+--------------------+-----------+--------------------+---+--------------------+\n",
       "|_c0|                 _c1|                 _c2|        _c3|                 _c4|_c5|                 _c6|\n",
       "+---+--------------------+--------------------+-----------+--------------------+---+--------------------+\n",
       "|  0|       Felis Limited|((furniture, home...|10023283211|furniture home fu...|  0|           Furniture|\n",
       "|  1|Arcu Ac Orci Corp...|([cable, satellit...|10142254217|cable satellite a...|  4|         Electronics|\n",
       "|  2|    Nunc Sed Company|([jewelry, watch,...|10165489824|jewelry watch clo...|  1|        Toys and DIY|\n",
       "|  3|Ultricies Digniss...|([wAtch, clock, a...|10187291046|watch clock and j...|  1|        Toys and DIY|\n",
       "|  4| Enim Condimentum PC|([music shops - m...|10192359162|music shops  musi...|  3|Books, Stationary...|\n",
       "|  5|       Fusce Company|[(gift, card, nov...|10206519221|gift card novelty...|  4|         Electronics|\n",
       "|  6|Aliquam Enim Inco...|[(computers, comP...|10255988167|computers compute...|  4|         Electronics|\n",
       "|  7|    Ipsum Primis Ltd|[[watch, clock, a...|10264435225|watch clock and j...|  1|        Toys and DIY|\n",
       "|  8|Pede Ultrices Ind...|([computer progra...|10279061213|computer programm...|  2|Beauty, Health, P...|\n",
       "|  9|           Nunc Inc.|[(furniture, home...|10323485998|furniture home fu...|  0|           Furniture|\n",
       "| 10|Facilisis Facilis...|([computers, comp...|10342410215|computers compute...|  4|         Electronics|\n",
       "| 11|      Odio Institute|((equipment, tool...|10346855916|equipment tool fu...|  0|           Furniture|\n",
       "| 12|    Rutrum Justo Ltd|([music shops - m...|10364012396|music shops  musi...|  3|Books, Stationary...|\n",
       "| 13|   Tellus Foundation|[[artist supply a...|10385011947|artist supply and...|  1|        Toys and DIY|\n",
       "| 14|      Sed Et Company|([florists suppli...|10385163239|florists supplies...|  0|           Furniture|\n",
       "| 15|              Id Ltd|([computers, comp...|10385250025|computers compute...|  4|         Electronics|\n",
       "| 16|Consequat Foundation|[[antique shops -...|10404542215|antique shops  sa...|  2|Beauty, Health, P...|\n",
       "| 17|Sit Amet Nulla Corp.|[[motor vehicle s...|10430380319|motor vehicle sup...|  0|           Furniture|\n",
       "| 18|Massa Vestibulum ...|[(moTor vehicle s...|10441711491|motor vehicle sup...|  0|           Furniture|\n",
       "| 19|       Ut Consulting|([gift, card, nov...|10462560289|gift card novelty...|  4|         Electronics|\n",
       "+---+--------------------+--------------------+-----------+--------------------+---+--------------------+\n",
       "only showing top 20 rows"
      ]
     },
     "execution_count": 5,
     "metadata": {},
     "output_type": "execute_result"
    }
   ],
   "source": [
    "#Removing false header line \n",
    "segments_data.na.drop(subset=[\"_c0\"])"
   ]
  },
  {
   "cell_type": "code",
   "execution_count": 8,
   "metadata": {},
   "outputs": [
    {
     "name": "stdout",
     "output_type": "stream",
     "text": [
      "22/10/05 01:07:41 WARN package: Truncated the string representation of a plan since it was too large. This behavior can be adjusted by setting 'spark.sql.debug.maxToStringFields'.\n"
     ]
    }
   ],
   "source": [
    "final_dataset.createOrReplaceTempView(\"temp\")\n",
    "\n",
    "segments_data.createOrReplaceTempView(\"temp2\")\n",
    "\n",
    "final_dataset = spark.sql(\"\"\" \n",
    "\n",
    "SELECT *\n",
    "FROM temp\n",
    "\n",
    "\n",
    "LEFT JOIN temp2\n",
    "\n",
    "ON temp.merchant_abn = temp2._c3\n",
    "\"\"\")"
   ]
  },
  {
   "cell_type": "code",
   "execution_count": 9,
   "metadata": {},
   "outputs": [],
   "source": [
    "final_join = final_dataset"
   ]
  },
  {
   "cell_type": "code",
   "execution_count": 16,
   "metadata": {},
   "outputs": [
    {
     "ename": "AnalysisException",
     "evalue": "Column 'cons_fraud_prob' does not exist. Did you mean one of the following? [temp.address, temp.gender, temp.order_id, temp.state_code, temp.state_name, temp.take_rate, temp.SA2_code, temp.SA2_name, temp2._c0, temp2._c1, temp2._c2, temp2._c3, temp2._c4, temp2._c5, temp2._c6, temp.categories, temp.int_sa2, temp.name, temp.state, temp.total_persons, temp.user_id, temp.consumer_id, temp.merchant_abn, temp.merchant_name, temp.postcodes, temp.total_males, temp.dollar_value, temp.order_datetime, temp.revenue_levels, temp.total_females, temp.population_2020, temp.population_2021, temp.trans_merchant_abn, temp.income_2018-2019];\n'Aggregate [_c6#690], [_c6#690, avg('cons_fraud_prob) AS avg(cons_fraud_prob)#1101]\n+- Project [merchant_name#193, merchant_abn#31L, categories#170, take_rate#175, revenue_levels#181, name#17, address#18, state#19, gender#21, trans_merchant_abn#214L, dollar_value#41, order_id#42, order_datetime#43, user_id#35L, consumer_id#36L, postcodes#315, int_sa2#499, SA2_code#535L, SA2_name#536, income_2018-2019#537L, total_males#538L, total_females#539L, total_persons#540L, state_code#541L, ... 10 more fields]\n   +- Join LeftOuter, (merchant_abn#31L = cast(_c3#687 as bigint))\n      :- SubqueryAlias temp\n      :  +- View (`temp`, [merchant_name#193,merchant_abn#31L,categories#170,take_rate#175,revenue_levels#181,name#17,address#18,state#19,gender#21,trans_merchant_abn#214L,dollar_value#41,order_id#42,order_datetime#43,user_id#35L,consumer_id#36L,postcodes#315,int_sa2#499,SA2_code#535L,SA2_name#536,income_2018-2019#537L,total_males#538L,total_females#539L,total_persons#540L,state_code#541L,state_name#542,population_2020#543L,population_2021#544L])\n      :     +- Filter isnotnull(merchant_abn#31L)\n      :        +- Project [merchant_name#193, merchant_abn#31L, categories#170, take_rate#175, revenue_levels#181, name#17, address#18, state#19, gender#21, trans_merchant_abn#214L, dollar_value#41, order_id#42, order_datetime#43, user_id#35L, consumer_id#36L, postcodes#315, int_sa2#499, SA2_code#535L, SA2_name#536, income_2018-2019#537L, total_males#538L, total_females#539L, total_persons#540L, state_code#541L, ... 3 more fields]\n      :           +- Join Inner, (cast(int_sa2#499 as bigint) = SA2_code#535L)\n      :              :- Project [merchant_name#193, merchant_abn#31L, categories#170, take_rate#175, revenue_levels#181, name#17, address#18, state#19, gender#21, trans_merchant_abn#214L, dollar_value#41, order_id#42, order_datetime#43, user_id#35L, consumer_id#36L, postcodes#315, int_sa2#499]\n      :              :  +- Project [merchant_name#193, merchant_abn#31L, categories#170, take_rate#175, revenue_levels#181, name#17, address#18, state#19, gender#21, trans_merchant_abn#214L, dollar_value#41, order_id#42, order_datetime#43, user_id#35L, consumer_id#36L, postcodes#315, sa2#316, cast(sa2#316 as int) AS int_sa2#499]\n      :              :     +- Project [merchant_name#193, merchant_abn#31L, categories#170, take_rate#175, revenue_levels#181, name#17, address#18, state#19, gender#21, trans_merchant_abn#214L, dollar_value#41, order_id#42, order_datetime#43, user_id#35L, consumer_id#36L, postcodes#315, sa2#316]\n      :              :        +- Join Inner, (postcode#20 = postcodes#315)\n      :              :           :- Project [merchant_name#193, merchant_abn#31L, categories#170, take_rate#175, revenue_levels#181, name#17, address#18, state#19, postcode#20, gender#21, trans_merchant_abn#214L, dollar_value#41, order_id#42, order_datetime#43, user_id#35L, consumer_id#36L]\n      :              :           :  +- Project [merchant_name#193, merchant_abn#31L, categories#170, take_rate#175, revenue_levels#181, name#17, address#18, state#19, postcode#20, gender#21, trans_user_id#220L, trans_merchant_abn#214L, dollar_value#41, order_id#42, order_datetime#43, user_id#35L, consumer_id#36L]\n      :              :           :     +- Join FullOuter, (merchant_abn#31L = trans_merchant_abn#214L)\n      :              :           :        :- Project [name#29 AS merchant_name#193, merchant_abn#31L, categories#170, take_rate#175, revenue_levels#181]\n      :              :           :        :  +- Project [name#29, merchant_abn#31L, categories#170, take_rate#175, revenue_levels#181]\n      :              :           :        :     +- Project [name#29, tags#166, merchant_abn#31L, categories#170, take_rate#175, split(tags#166, [)\\]], [\\[(], -1)[1] AS revenue_levels#181]\n      :              :           :        :        +- Project [name#29, tags#166, merchant_abn#31L, categories#170, cast(split(tags#166, [)\\]], [\\[(]take rate: , -1)[1] as double) AS take_rate#175]\n      :              :           :        :           +- Project [name#29, tags#166, merchant_abn#31L, split(tags#166, [)\\]], [\\[(], -1)[0] AS categories#170]\n      :              :           :        :              +- Project [name#29, regexp_replace(tags#161, [\\[(][\\[(], , 1) AS tags#166, merchant_abn#31L]\n      :              :           :        :                 +- Project [name#29, regexp_replace(tags#30, [\\])][\\])], , 1) AS tags#161, merchant_abn#31L]\n      :              :           :        :                    +- Relation [name#29,tags#30,merchant_abn#31L] parquet\n      :              :           :        +- Join Inner, (int_consumer_id#199L = consumer_id#36L)\n      :              :           :           :- Project [name#17, address#18, state#19, postcode#20, gender#21, int_consumer_id#199L]\n      :              :           :           :  +- Project [name#17, address#18, state#19, postcode#20, gender#21, consumer_id#22, cast(consumer_id#22 as bigint) AS int_consumer_id#199L]\n      :              :           :           :     +- Relation [name#17,address#18,state#19,postcode#20,gender#21,consumer_id#22] csv\n      :              :           :           +- Join Inner, (trans_user_id#220L = user_id#35L)\n      :              :           :              :- Project [user_id#39L AS trans_user_id#220L, trans_merchant_abn#214L, dollar_value#41, order_id#42, order_datetime#43]\n      :              :           :              :  +- Project [user_id#39L, merchant_abn#40L AS trans_merchant_abn#214L, dollar_value#41, order_id#42, order_datetime#43]\n      :              :           :              :     +- Sort [order_datetime#43 ASC NULLS FIRST], true\n      :              :           :              :        +- Deduplicate [order_id#42, order_datetime#43, user_id#39L, dollar_value#41, merchant_abn#40L]\n      :              :           :              :           +- Union false, false\n      :              :           :              :              :- Deduplicate [order_id#42, order_datetime#43, user_id#39L, dollar_value#41, merchant_abn#40L]\n      :              :           :              :              :  +- Union false, false\n      :              :           :              :              :     :- Relation [user_id#39L,merchant_abn#40L,dollar_value#41,order_id#42,order_datetime#43] parquet\n      :              :           :              :              :     +- Relation [user_id#49L,merchant_abn#50L,dollar_value#51,order_id#52,order_datetime#53] parquet\n      :              :           :              :              +- Relation [user_id#59L,merchant_abn#60L,dollar_value#61,order_id#62,order_datetime#63] parquet\n      :              :           :              +- Relation [user_id#35L,consumer_id#36L] parquet\n      :              :           +- Deduplicate [postcodes#315]\n      :              :              +- Filter atleastnnonnulls(2, postcodes#315, sa2#316)\n      :              :                 +- Project [postcode#244 AS postcodes#315, SA2_MAINCODE_2016#261 AS sa2#316]\n      :              :                    +- Relation [id#243,postcode#244,locality#245,state#246,long#247,lat#248,dc#249,type#250,status#251,sa3#252,sa3name#253,sa4#254,sa4name#255,region#256,Lat_precise#257,Long_precise#258,SA1_MAINCODE_2011#259,SA1_MAINCODE_2016#260,SA2_MAINCODE_2016#261,SA2_NAME_2016#262,SA3_CODE_2016#263,SA3_NAME_2016#264,SA4_CODE_2016#265,SA4_NAME_2016#266,... 12 more fields] csv\n      :              +- LogicalRDD [SA2_code#535L, SA2_name#536, income_2018-2019#537L, total_males#538L, total_females#539L, total_persons#540L, state_code#541L, state_name#542, population_2020#543L, population_2021#544L], false\n      +- SubqueryAlias temp2\n         +- View (`temp2`, [_c0#684,_c1#685,_c2#686,_c3#687,_c4#688,_c5#689,_c6#690])\n            +- Relation [_c0#684,_c1#685,_c2#686,_c3#687,_c4#688,_c5#689,_c6#690] csv\n",
     "output_type": "error",
     "traceback": [
      "\u001b[0;31m---------------------------------------------------------------------------\u001b[0m",
      "\u001b[0;31mAnalysisException\u001b[0m                         Traceback (most recent call last)",
      "\u001b[0;32m/tmp/ipykernel_823377/1674481585.py\u001b[0m in \u001b[0;36m<module>\u001b[0;34m\u001b[0m\n\u001b[1;32m      1\u001b[0m \u001b[0;31m#Creating a table of average fraud probabilities for each category of purchase:\u001b[0m\u001b[0;34m\u001b[0m\u001b[0;34m\u001b[0m\u001b[0;34m\u001b[0m\u001b[0m\n\u001b[1;32m      2\u001b[0m \u001b[0;32mfrom\u001b[0m \u001b[0mpyspark\u001b[0m\u001b[0;34m.\u001b[0m\u001b[0msql\u001b[0m\u001b[0;34m.\u001b[0m\u001b[0mfunctions\u001b[0m \u001b[0;32mimport\u001b[0m \u001b[0;34m*\u001b[0m\u001b[0;34m\u001b[0m\u001b[0;34m\u001b[0m\u001b[0m\n\u001b[0;32m----> 3\u001b[0;31m \u001b[0maggregated_prob\u001b[0m \u001b[0;34m=\u001b[0m \u001b[0mfinal_join\u001b[0m\u001b[0;34m.\u001b[0m\u001b[0mgroupBy\u001b[0m\u001b[0;34m(\u001b[0m\u001b[0;34m\"temp2._c6\"\u001b[0m\u001b[0;34m)\u001b[0m\u001b[0;34m.\u001b[0m\u001b[0magg\u001b[0m\u001b[0;34m(\u001b[0m\u001b[0mavg\u001b[0m\u001b[0;34m(\u001b[0m\u001b[0;34m\"cons_fraud_prob\"\u001b[0m\u001b[0;34m)\u001b[0m\u001b[0;34m)\u001b[0m\u001b[0;34m.\u001b[0m\u001b[0malias\u001b[0m\u001b[0;34m(\u001b[0m\u001b[0;34m\"avg_consumer_fraud\"\u001b[0m\u001b[0;34m)\u001b[0m\u001b[0;34m.\u001b[0m\u001b[0magg\u001b[0m\u001b[0;34m(\u001b[0m\u001b[0mavg\u001b[0m\u001b[0;34m(\u001b[0m\u001b[0;34m\"merch_fraud_prob\"\u001b[0m\u001b[0;34m)\u001b[0m\u001b[0;34m)\u001b[0m\u001b[0;34m.\u001b[0m\u001b[0malias\u001b[0m\u001b[0;34m(\u001b[0m\u001b[0;34m\"avg_merchant_fraud\"\u001b[0m\u001b[0;34m)\u001b[0m\u001b[0;34m\u001b[0m\u001b[0;34m\u001b[0m\u001b[0m\n\u001b[0m\u001b[1;32m      4\u001b[0m \u001b[0;34m\u001b[0m\u001b[0m\n\u001b[1;32m      5\u001b[0m \u001b[0;34m\u001b[0m\u001b[0m\n",
      "\u001b[0;32m~/.local/lib/python3.8/site-packages/pyspark/sql/group.py\u001b[0m in \u001b[0;36magg\u001b[0;34m(self, *exprs)\u001b[0m\n\u001b[1;32m    135\u001b[0m             \u001b[0;32massert\u001b[0m \u001b[0mall\u001b[0m\u001b[0;34m(\u001b[0m\u001b[0misinstance\u001b[0m\u001b[0;34m(\u001b[0m\u001b[0mc\u001b[0m\u001b[0;34m,\u001b[0m \u001b[0mColumn\u001b[0m\u001b[0;34m)\u001b[0m \u001b[0;32mfor\u001b[0m \u001b[0mc\u001b[0m \u001b[0;32min\u001b[0m \u001b[0mexprs\u001b[0m\u001b[0;34m)\u001b[0m\u001b[0;34m,\u001b[0m \u001b[0;34m\"all exprs should be Column\"\u001b[0m\u001b[0;34m\u001b[0m\u001b[0;34m\u001b[0m\u001b[0m\n\u001b[1;32m    136\u001b[0m             \u001b[0mexprs\u001b[0m \u001b[0;34m=\u001b[0m \u001b[0mcast\u001b[0m\u001b[0;34m(\u001b[0m\u001b[0mTuple\u001b[0m\u001b[0;34m[\u001b[0m\u001b[0mColumn\u001b[0m\u001b[0;34m,\u001b[0m \u001b[0;34m...\u001b[0m\u001b[0;34m]\u001b[0m\u001b[0;34m,\u001b[0m \u001b[0mexprs\u001b[0m\u001b[0;34m)\u001b[0m\u001b[0;34m\u001b[0m\u001b[0;34m\u001b[0m\u001b[0m\n\u001b[0;32m--> 137\u001b[0;31m             \u001b[0mjdf\u001b[0m \u001b[0;34m=\u001b[0m \u001b[0mself\u001b[0m\u001b[0;34m.\u001b[0m\u001b[0m_jgd\u001b[0m\u001b[0;34m.\u001b[0m\u001b[0magg\u001b[0m\u001b[0;34m(\u001b[0m\u001b[0mexprs\u001b[0m\u001b[0;34m[\u001b[0m\u001b[0;36m0\u001b[0m\u001b[0;34m]\u001b[0m\u001b[0;34m.\u001b[0m\u001b[0m_jc\u001b[0m\u001b[0;34m,\u001b[0m \u001b[0m_to_seq\u001b[0m\u001b[0;34m(\u001b[0m\u001b[0mself\u001b[0m\u001b[0;34m.\u001b[0m\u001b[0msession\u001b[0m\u001b[0;34m.\u001b[0m\u001b[0m_sc\u001b[0m\u001b[0;34m,\u001b[0m \u001b[0;34m[\u001b[0m\u001b[0mc\u001b[0m\u001b[0;34m.\u001b[0m\u001b[0m_jc\u001b[0m \u001b[0;32mfor\u001b[0m \u001b[0mc\u001b[0m \u001b[0;32min\u001b[0m \u001b[0mexprs\u001b[0m\u001b[0;34m[\u001b[0m\u001b[0;36m1\u001b[0m\u001b[0;34m:\u001b[0m\u001b[0;34m]\u001b[0m\u001b[0;34m]\u001b[0m\u001b[0;34m)\u001b[0m\u001b[0;34m)\u001b[0m\u001b[0;34m\u001b[0m\u001b[0;34m\u001b[0m\u001b[0m\n\u001b[0m\u001b[1;32m    138\u001b[0m         \u001b[0;32mreturn\u001b[0m \u001b[0mDataFrame\u001b[0m\u001b[0;34m(\u001b[0m\u001b[0mjdf\u001b[0m\u001b[0;34m,\u001b[0m \u001b[0mself\u001b[0m\u001b[0;34m.\u001b[0m\u001b[0msession\u001b[0m\u001b[0;34m)\u001b[0m\u001b[0;34m\u001b[0m\u001b[0;34m\u001b[0m\u001b[0m\n\u001b[1;32m    139\u001b[0m \u001b[0;34m\u001b[0m\u001b[0m\n",
      "\u001b[0;32m~/.local/lib/python3.8/site-packages/py4j/java_gateway.py\u001b[0m in \u001b[0;36m__call__\u001b[0;34m(self, *args)\u001b[0m\n\u001b[1;32m   1319\u001b[0m \u001b[0;34m\u001b[0m\u001b[0m\n\u001b[1;32m   1320\u001b[0m         \u001b[0manswer\u001b[0m \u001b[0;34m=\u001b[0m \u001b[0mself\u001b[0m\u001b[0;34m.\u001b[0m\u001b[0mgateway_client\u001b[0m\u001b[0;34m.\u001b[0m\u001b[0msend_command\u001b[0m\u001b[0;34m(\u001b[0m\u001b[0mcommand\u001b[0m\u001b[0;34m)\u001b[0m\u001b[0;34m\u001b[0m\u001b[0;34m\u001b[0m\u001b[0m\n\u001b[0;32m-> 1321\u001b[0;31m         return_value = get_return_value(\n\u001b[0m\u001b[1;32m   1322\u001b[0m             answer, self.gateway_client, self.target_id, self.name)\n\u001b[1;32m   1323\u001b[0m \u001b[0;34m\u001b[0m\u001b[0m\n",
      "\u001b[0;32m~/.local/lib/python3.8/site-packages/pyspark/sql/utils.py\u001b[0m in \u001b[0;36mdeco\u001b[0;34m(*a, **kw)\u001b[0m\n\u001b[1;32m    194\u001b[0m                 \u001b[0;31m# Hide where the exception came from that shows a non-Pythonic\u001b[0m\u001b[0;34m\u001b[0m\u001b[0;34m\u001b[0m\u001b[0;34m\u001b[0m\u001b[0m\n\u001b[1;32m    195\u001b[0m                 \u001b[0;31m# JVM exception message.\u001b[0m\u001b[0;34m\u001b[0m\u001b[0;34m\u001b[0m\u001b[0;34m\u001b[0m\u001b[0m\n\u001b[0;32m--> 196\u001b[0;31m                 \u001b[0;32mraise\u001b[0m \u001b[0mconverted\u001b[0m \u001b[0;32mfrom\u001b[0m \u001b[0;32mNone\u001b[0m\u001b[0;34m\u001b[0m\u001b[0;34m\u001b[0m\u001b[0m\n\u001b[0m\u001b[1;32m    197\u001b[0m             \u001b[0;32melse\u001b[0m\u001b[0;34m:\u001b[0m\u001b[0;34m\u001b[0m\u001b[0;34m\u001b[0m\u001b[0m\n\u001b[1;32m    198\u001b[0m                 \u001b[0;32mraise\u001b[0m\u001b[0;34m\u001b[0m\u001b[0;34m\u001b[0m\u001b[0m\n",
      "\u001b[0;31mAnalysisException\u001b[0m: Column 'cons_fraud_prob' does not exist. Did you mean one of the following? [temp.address, temp.gender, temp.order_id, temp.state_code, temp.state_name, temp.take_rate, temp.SA2_code, temp.SA2_name, temp2._c0, temp2._c1, temp2._c2, temp2._c3, temp2._c4, temp2._c5, temp2._c6, temp.categories, temp.int_sa2, temp.name, temp.state, temp.total_persons, temp.user_id, temp.consumer_id, temp.merchant_abn, temp.merchant_name, temp.postcodes, temp.total_males, temp.dollar_value, temp.order_datetime, temp.revenue_levels, temp.total_females, temp.population_2020, temp.population_2021, temp.trans_merchant_abn, temp.income_2018-2019];\n'Aggregate [_c6#690], [_c6#690, avg('cons_fraud_prob) AS avg(cons_fraud_prob)#1101]\n+- Project [merchant_name#193, merchant_abn#31L, categories#170, take_rate#175, revenue_levels#181, name#17, address#18, state#19, gender#21, trans_merchant_abn#214L, dollar_value#41, order_id#42, order_datetime#43, user_id#35L, consumer_id#36L, postcodes#315, int_sa2#499, SA2_code#535L, SA2_name#536, income_2018-2019#537L, total_males#538L, total_females#539L, total_persons#540L, state_code#541L, ... 10 more fields]\n   +- Join LeftOuter, (merchant_abn#31L = cast(_c3#687 as bigint))\n      :- SubqueryAlias temp\n      :  +- View (`temp`, [merchant_name#193,merchant_abn#31L,categories#170,take_rate#175,revenue_levels#181,name#17,address#18,state#19,gender#21,trans_merchant_abn#214L,dollar_value#41,order_id#42,order_datetime#43,user_id#35L,consumer_id#36L,postcodes#315,int_sa2#499,SA2_code#535L,SA2_name#536,income_2018-2019#537L,total_males#538L,total_females#539L,total_persons#540L,state_code#541L,state_name#542,population_2020#543L,population_2021#544L])\n      :     +- Filter isnotnull(merchant_abn#31L)\n      :        +- Project [merchant_name#193, merchant_abn#31L, categories#170, take_rate#175, revenue_levels#181, name#17, address#18, state#19, gender#21, trans_merchant_abn#214L, dollar_value#41, order_id#42, order_datetime#43, user_id#35L, consumer_id#36L, postcodes#315, int_sa2#499, SA2_code#535L, SA2_name#536, income_2018-2019#537L, total_males#538L, total_females#539L, total_persons#540L, state_code#541L, ... 3 more fields]\n      :           +- Join Inner, (cast(int_sa2#499 as bigint) = SA2_code#535L)\n      :              :- Project [merchant_name#193, merchant_abn#31L, categories#170, take_rate#175, revenue_levels#181, name#17, address#18, state#19, gender#21, trans_merchant_abn#214L, dollar_value#41, order_id#42, order_datetime#43, user_id#35L, consumer_id#36L, postcodes#315, int_sa2#499]\n      :              :  +- Project [merchant_name#193, merchant_abn#31L, categories#170, take_rate#175, revenue_levels#181, name#17, address#18, state#19, gender#21, trans_merchant_abn#214L, dollar_value#41, order_id#42, order_datetime#43, user_id#35L, consumer_id#36L, postcodes#315, sa2#316, cast(sa2#316 as int) AS int_sa2#499]\n      :              :     +- Project [merchant_name#193, merchant_abn#31L, categories#170, take_rate#175, revenue_levels#181, name#17, address#18, state#19, gender#21, trans_merchant_abn#214L, dollar_value#41, order_id#42, order_datetime#43, user_id#35L, consumer_id#36L, postcodes#315, sa2#316]\n      :              :        +- Join Inner, (postcode#20 = postcodes#315)\n      :              :           :- Project [merchant_name#193, merchant_abn#31L, categories#170, take_rate#175, revenue_levels#181, name#17, address#18, state#19, postcode#20, gender#21, trans_merchant_abn#214L, dollar_value#41, order_id#42, order_datetime#43, user_id#35L, consumer_id#36L]\n      :              :           :  +- Project [merchant_name#193, merchant_abn#31L, categories#170, take_rate#175, revenue_levels#181, name#17, address#18, state#19, postcode#20, gender#21, trans_user_id#220L, trans_merchant_abn#214L, dollar_value#41, order_id#42, order_datetime#43, user_id#35L, consumer_id#36L]\n      :              :           :     +- Join FullOuter, (merchant_abn#31L = trans_merchant_abn#214L)\n      :              :           :        :- Project [name#29 AS merchant_name#193, merchant_abn#31L, categories#170, take_rate#175, revenue_levels#181]\n      :              :           :        :  +- Project [name#29, merchant_abn#31L, categories#170, take_rate#175, revenue_levels#181]\n      :              :           :        :     +- Project [name#29, tags#166, merchant_abn#31L, categories#170, take_rate#175, split(tags#166, [)\\]], [\\[(], -1)[1] AS revenue_levels#181]\n      :              :           :        :        +- Project [name#29, tags#166, merchant_abn#31L, categories#170, cast(split(tags#166, [)\\]], [\\[(]take rate: , -1)[1] as double) AS take_rate#175]\n      :              :           :        :           +- Project [name#29, tags#166, merchant_abn#31L, split(tags#166, [)\\]], [\\[(], -1)[0] AS categories#170]\n      :              :           :        :              +- Project [name#29, regexp_replace(tags#161, [\\[(][\\[(], , 1) AS tags#166, merchant_abn#31L]\n      :              :           :        :                 +- Project [name#29, regexp_replace(tags#30, [\\])][\\])], , 1) AS tags#161, merchant_abn#31L]\n      :              :           :        :                    +- Relation [name#29,tags#30,merchant_abn#31L] parquet\n      :              :           :        +- Join Inner, (int_consumer_id#199L = consumer_id#36L)\n      :              :           :           :- Project [name#17, address#18, state#19, postcode#20, gender#21, int_consumer_id#199L]\n      :              :           :           :  +- Project [name#17, address#18, state#19, postcode#20, gender#21, consumer_id#22, cast(consumer_id#22 as bigint) AS int_consumer_id#199L]\n      :              :           :           :     +- Relation [name#17,address#18,state#19,postcode#20,gender#21,consumer_id#22] csv\n      :              :           :           +- Join Inner, (trans_user_id#220L = user_id#35L)\n      :              :           :              :- Project [user_id#39L AS trans_user_id#220L, trans_merchant_abn#214L, dollar_value#41, order_id#42, order_datetime#43]\n      :              :           :              :  +- Project [user_id#39L, merchant_abn#40L AS trans_merchant_abn#214L, dollar_value#41, order_id#42, order_datetime#43]\n      :              :           :              :     +- Sort [order_datetime#43 ASC NULLS FIRST], true\n      :              :           :              :        +- Deduplicate [order_id#42, order_datetime#43, user_id#39L, dollar_value#41, merchant_abn#40L]\n      :              :           :              :           +- Union false, false\n      :              :           :              :              :- Deduplicate [order_id#42, order_datetime#43, user_id#39L, dollar_value#41, merchant_abn#40L]\n      :              :           :              :              :  +- Union false, false\n      :              :           :              :              :     :- Relation [user_id#39L,merchant_abn#40L,dollar_value#41,order_id#42,order_datetime#43] parquet\n      :              :           :              :              :     +- Relation [user_id#49L,merchant_abn#50L,dollar_value#51,order_id#52,order_datetime#53] parquet\n      :              :           :              :              +- Relation [user_id#59L,merchant_abn#60L,dollar_value#61,order_id#62,order_datetime#63] parquet\n      :              :           :              +- Relation [user_id#35L,consumer_id#36L] parquet\n      :              :           +- Deduplicate [postcodes#315]\n      :              :              +- Filter atleastnnonnulls(2, postcodes#315, sa2#316)\n      :              :                 +- Project [postcode#244 AS postcodes#315, SA2_MAINCODE_2016#261 AS sa2#316]\n      :              :                    +- Relation [id#243,postcode#244,locality#245,state#246,long#247,lat#248,dc#249,type#250,status#251,sa3#252,sa3name#253,sa4#254,sa4name#255,region#256,Lat_precise#257,Long_precise#258,SA1_MAINCODE_2011#259,SA1_MAINCODE_2016#260,SA2_MAINCODE_2016#261,SA2_NAME_2016#262,SA3_CODE_2016#263,SA3_NAME_2016#264,SA4_CODE_2016#265,SA4_NAME_2016#266,... 12 more fields] csv\n      :              +- LogicalRDD [SA2_code#535L, SA2_name#536, income_2018-2019#537L, total_males#538L, total_females#539L, total_persons#540L, state_code#541L, state_name#542, population_2020#543L, population_2021#544L], false\n      +- SubqueryAlias temp2\n         +- View (`temp2`, [_c0#684,_c1#685,_c2#686,_c3#687,_c4#688,_c5#689,_c6#690])\n            +- Relation [_c0#684,_c1#685,_c2#686,_c3#687,_c4#688,_c5#689,_c6#690] csv\n"
     ]
    }
   ],
   "source": [
    "#Creating a table of average fraud probabilities for each category of purchase: \n",
    "from pyspark.sql.functions import *\n",
    "aggregated_prob = final_join.groupBy(\"temp2._c6\").agg(avg(\"cons_fraud_prob\",'merch_fraud_prob').alias(\"avg_consumer_fraud, 'avg_merchant_fraud')\n",
    "                                                      \n",
    "                                                      "
   ]
  },
  {
   "cell_type": "code",
   "execution_count": null,
   "metadata": {},
   "outputs": [],
   "source": [
    "aggregated_prob.show()"
   ]
  },
  {
   "cell_type": "code",
   "execution_count": null,
   "metadata": {},
   "outputs": [],
   "source": []
  },
  {
   "cell_type": "code",
   "execution_count": null,
   "metadata": {},
   "outputs": [],
   "source": [
    "aggregated_prob.limit(6)"
   ]
  },
  {
   "cell_type": "code",
   "execution_count": null,
   "metadata": {},
   "outputs": [],
   "source": [
    "final_join.limit(5)"
   ]
  },
  {
   "cell_type": "code",
   "execution_count": null,
   "metadata": {},
   "outputs": [],
   "source": [
    "#adding a column for is_fraud for each transaction: \n",
    "\n",
    "is_fraud = when((final_join[\"_c6\"] == \"Electronics\") & (final_join[\"cons_fraud_prob\"] > 15.085) &(final_join[\"merch_fraud_prob\"]>29.635),1)\\\n",
    ".when((final_join[\"_c6\"] == \"Toys and DIY\") & (final_join[\"cons_fraud_prob\"] > 15.843) &(final_join[\"merch_fraud_prob\"]>32.404),1)\\\n",
    ".when((final_join[\"_c6\"] == \"Furniture\") & (final_join[\"cons_fraud_prob\"] > 15.077) & (final_join[\"merch_fraud_prob\"]>30.941),1)\\\n",
    ".when((final_join[\"_c6\"] == \"Beauty, Health, Personal and Household\") & (final_join[\"cons_fraud_prob\"] > 15.392) & (final_join[\"merch_fraud_prob\"]>29.76),1)\\\n",
    ".when((final_join[\"_c6\"] == \"Electronics\") & (final_join[\"cons_fraud_prob\"] > 15.085) &(final_join[\"merch_fraud_prob\"]>29.635),1)\\\n",
    ".when((final_join[\"_c6\"] == \"Books, Stationary and Music\") & (final_join[\"cons_fraud_prob\"] > 15.140) &(final_join[\"merch_fraud_prob\"]>29.016),1).otherwise(0)\n",
    "\n"
   ]
  },
  {
   "cell_type": "code",
   "execution_count": null,
   "metadata": {},
   "outputs": [],
   "source": [
    "model_with_fraud = final_join.withColumn(\"is_fraud\",is_fraud)"
   ]
  },
  {
   "cell_type": "code",
   "execution_count": null,
   "metadata": {},
   "outputs": [],
   "source": [
    "model_with_fraud.limit(5)"
   ]
  },
  {
   "cell_type": "code",
   "execution_count": null,
   "metadata": {},
   "outputs": [],
   "source": [
    "model_with_fraud.write.parquet(\"../data/curated/model_data_with_fraud_col.parquet\") "
   ]
  },
  {
   "cell_type": "code",
   "execution_count": null,
   "metadata": {},
   "outputs": [],
   "source": []
  },
  {
   "cell_type": "code",
   "execution_count": null,
   "metadata": {},
   "outputs": [],
   "source": [
    "#Creating a table of average fraud probabilities for each category of purchase: \n",
    "final_model_with_fraud = model_with_fraud.groupBy(\"merchant_abn_1\").agg(avg(\"is_fraud\").alias(\"average fraud rate per merchant\"))"
   ]
  },
  {
   "cell_type": "code",
   "execution_count": null,
   "metadata": {},
   "outputs": [],
   "source": [
    "final_model_with_fraud.limit(20)"
   ]
  },
  {
   "cell_type": "code",
   "execution_count": null,
   "metadata": {},
   "outputs": [],
   "source": []
  }
 ],
 "metadata": {
  "kernelspec": {
   "display_name": "Python 3 (Anaconda 3)",
   "language": "python",
   "name": "python3"
  },
  "language_info": {
   "codemirror_mode": {
    "name": "ipython",
    "version": 3
   },
   "file_extension": ".py",
   "mimetype": "text/x-python",
   "name": "python",
   "nbconvert_exporter": "python",
   "pygments_lexer": "ipython3",
   "version": "3.8.2"
  },
  "vscode": {
   "interpreter": {
    "hash": "9950f655f935e9d386631456d48ab2fdbfd1f3b11a4a370e740fa048980506b7"
   }
  }
 },
 "nbformat": 4,
 "nbformat_minor": 5
}
