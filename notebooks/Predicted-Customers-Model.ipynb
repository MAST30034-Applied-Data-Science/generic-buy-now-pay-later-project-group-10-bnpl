{
 "cells": [
  {
   "cell_type": "code",
   "execution_count": 1,
   "metadata": {},
   "outputs": [],
   "source": [
    "import pandas as pd\n",
    "from pyspark.sql import SparkSession, functions as F\n",
    "import lbl2vec\n",
    "from sklearn.feature_extraction.text import TfidfVectorizer\n",
    "from sklearn.cluster import KMeans\n",
    "import numpy as np\n",
    "from pyspark.sql.functions import date_format\n",
    "import statsmodels.api as sm\n",
    "from statsmodels.formula.api import ols\n",
    "from pyspark.ml.feature import IndexToString, StringIndexer, VectorIndexer\n",
    "from pyspark.ml.evaluation import MulticlassClassificationEvaluator\n",
    "from pyspark.ml.feature import OneHotEncoder, VectorAssembler\n",
    "from pyspark.ml.regression import RandomForestRegressor\n",
    "from pyspark.ml.evaluation import RegressionEvaluator\n",
    "import seaborn as sns\n",
    "import matplotlib\n",
    "import matplotlib.pyplot as plt\n"
   ]
  },
  {
   "cell_type": "code",
   "execution_count": 2,
   "metadata": {},
   "outputs": [
    {
     "name": "stdout",
     "output_type": "stream",
     "text": [
      "22/10/07 16:49:40 WARN Utils: Your hostname, MacBook-Air-3.local resolves to a loopback address: 127.0.0.1; using 192.168.0.66 instead (on interface en0)\n",
      "22/10/07 16:49:40 WARN Utils: Set SPARK_LOCAL_IP if you need to bind to another address\n"
     ]
    },
    {
     "name": "stderr",
     "output_type": "stream",
     "text": [
      "Setting default log level to \"WARN\".\n",
      "To adjust logging level use sc.setLogLevel(newLevel). For SparkR, use setLogLevel(newLevel).\n"
     ]
    },
    {
     "name": "stdout",
     "output_type": "stream",
     "text": [
      "22/10/07 16:49:40 WARN NativeCodeLoader: Unable to load native-hadoop library for your platform... using builtin-java classes where applicable\n",
      "22/10/07 16:49:41 WARN Utils: Service 'SparkUI' could not bind on port 4040. Attempting port 4041.\n"
     ]
    }
   ],
   "source": [
    "# Create a spark session\n",
    "spark = (\n",
    "    SparkSession.builder.appName(\"MAST30034 Project 2\")\n",
    "    .config(\"spark.sql.repl.eagerEval.enabled\", True) \n",
    "    .config(\"spark.sql.parquet.cacheMetadata\", \"true\")\n",
    "    .config(\"spark.sql.session.timeZone\", \"Etc/UTC\")\n",
    "    .config(\"spark.driver.memory\", \"6g\")\n",
    "    .config(\"spark.executor.memory\", \"10g\")\n",
    "    .getOrCreate()\n",
    ")"
   ]
  },
  {
   "cell_type": "code",
   "execution_count": 3,
   "metadata": {},
   "outputs": [
    {
     "name": "stderr",
     "output_type": "stream",
     "text": [
      "/Users/Kasturi/opt/anaconda3/lib/python3.9/site-packages/geopandas/_compat.py:112: UserWarning: The Shapely GEOS version (3.10.2-CAPI-1.16.0) is incompatible with the GEOS version PyGEOS was compiled with (3.10.1-CAPI-1.16.0). Conversions between both will be slow.\n",
      "  warnings.warn(\n"
     ]
    },
    {
     "name": "stdout",
     "output_type": "stream",
     "text": [
      "22/10/07 16:49:42 WARN SparkSession: Using an existing Spark session; only runtime SQL configurations will take effect.\n"
     ]
    },
    {
     "name": "stderr",
     "output_type": "stream",
     "text": [
      "                                                                                \r"
     ]
    },
    {
     "name": "stdout",
     "output_type": "stream",
     "text": [
      "22/10/07 16:50:37 WARN SparkSession: Using an existing Spark session; only runtime SQL configurations will take effect.\n"
     ]
    },
    {
     "name": "stderr",
     "output_type": "stream",
     "text": [
      "                                                                                \r"
     ]
    },
    {
     "name": "stdout",
     "output_type": "stream",
     "text": [
      "22/10/07 16:51:16 WARN package: Truncated the string representation of a plan since it was too large. This behavior can be adjusted by setting 'spark.sql.debug.maxToStringFields'.\n"
     ]
    },
    {
     "name": "stderr",
     "output_type": "stream",
     "text": [
      "                                                                                \r"
     ]
    }
   ],
   "source": [
    "# Read in data from ETL.py file\n",
    "%run '../scripts/outlier.py' '../scripts/paths.json'"
   ]
  },
  {
   "cell_type": "code",
   "execution_count": 4,
   "metadata": {},
   "outputs": [],
   "source": [
    "\n",
    "tagged_merchants_sdf = spark.read.parquet(\"../data/curated/tagged_merchants.parquet\")"
   ]
  },
  {
   "cell_type": "code",
   "execution_count": 5,
   "metadata": {},
   "outputs": [],
   "source": [
    "tagged_merchants_sdf = tagged_merchants_sdf.withColumnRenamed('merchant_abn',\n",
    "\n",
    "    'tagged_merchant_abn'\n",
    ")"
   ]
  },
  {
   "cell_type": "code",
   "execution_count": 6,
   "metadata": {},
   "outputs": [
    {
     "name": "stdout",
     "output_type": "stream",
     "text": [
      "+-------------------+--------------------+\n",
      "|tagged_merchant_abn|            category|\n",
      "+-------------------+--------------------+\n",
      "|        10023283211|           Furniture|\n",
      "|        10142254217|         Electronics|\n",
      "|        10165489824|        Toys and DIY|\n",
      "|        10187291046|        Toys and DIY|\n",
      "|        10192359162|Books, Stationary...|\n",
      "+-------------------+--------------------+\n",
      "only showing top 5 rows\n",
      "\n"
     ]
    }
   ],
   "source": [
    "tagged_merchants_sdf.show(5)"
   ]
  },
  {
   "cell_type": "code",
   "execution_count": 7,
   "metadata": {},
   "outputs": [],
   "source": [
    "internal4.createOrReplaceTempView(\"join\")\n",
    "tagged_merchants_sdf.createOrReplaceTempView(\"tagged\")\n",
    "\n",
    "joint = spark.sql(\"\"\" \n",
    "\n",
    "SELECT *\n",
    "FROM join\n",
    "INNER JOIN tagged\n",
    "ON join.merchant_abn = tagged.tagged_merchant_abn\n",
    "\"\"\")\n",
    "\n",
    "joint = joint.drop('tagged_merchant_abn')"
   ]
  },
  {
   "cell_type": "code",
   "execution_count": 8,
   "metadata": {},
   "outputs": [
    {
     "name": "stderr",
     "output_type": "stream",
     "text": [
      "                                                                                \r"
     ]
    },
    {
     "data": {
      "text/plain": [
       "10109371"
      ]
     },
     "execution_count": 8,
     "metadata": {},
     "output_type": "execute_result"
    }
   ],
   "source": [
    "joint.count()"
   ]
  },
  {
   "cell_type": "code",
   "execution_count": 9,
   "metadata": {},
   "outputs": [],
   "source": [
    "joint.createOrReplaceTempView(\"group\")\n",
    "\n",
    "a = spark.sql(\"\"\" \n",
    "\n",
    "SELECT *, (take_rate/100)*dollar_value AS percent\n",
    "FROM group\n",
    "\"\"\")"
   ]
  },
  {
   "cell_type": "code",
   "execution_count": 10,
   "metadata": {},
   "outputs": [],
   "source": [
    "# Extracting the year, month, day from the timestamp\n",
    "from pyspark.sql.functions import year, month\n",
    "\n",
    "a = a.withColumn('Year', year(a.order_datetime))\n",
    "a = a.withColumn('Month',month(a.order_datetime))\n"
   ]
  },
  {
   "cell_type": "code",
   "execution_count": 11,
   "metadata": {},
   "outputs": [
    {
     "name": "stderr",
     "output_type": "stream",
     "text": [
      "[Stage 183:=======================================>               (10 + 4) / 14]\r"
     ]
    },
    {
     "name": "stdout",
     "output_type": "stream",
     "text": [
      "+--------------------+------------+--------------------+---------+--------------+--------------------+--------------------+-----+------+------------------+------------------+--------------------+--------------+-------+-----------+-------+---------+----------+----------+---------+---------+-------------------+----------------+-----------+-------------+-------------+----------+---------------+---------------+---------------+--------------------------+--------------------------+--------------------+-------------------+----+-----+\n",
      "|       merchant_name|merchant_abn|          categories|take_rate|revenue_levels|                name|             address|state|gender|trans_merchant_abn|      dollar_value|            order_id|order_datetime|user_id|consumer_id| suburb|postcodes|      long|       lat|  int_sa2| SA2_code|           SA2_name|income_2018-2019|total_males|total_females|total_persons|state_code|     state_name|population_2020|population_2021|fraud_probability_consumer|fraud_probability_merchant|            category|            percent|Year|Month|\n",
      "+--------------------+------------+--------------------+---------+--------------+--------------------+--------------------+-----+------+------------------+------------------+--------------------+--------------+-------+-----------+-------+---------+----------+----------+---------+---------+-------------------+----------------+-----------+-------------+-------------+----------+---------------+---------------+---------------+--------------------------+--------------------------+--------------------+-------------------+----+-----+\n",
      "|Egestas Nunc Asso...| 11121775571|digital goods: bo...|     6.58|             a|Christopher Rodri...|30554 Evans Strea...|  NSW|  Male|       11121775571| 11.28829564583802|2bd2a61d-72e5-42d...|    2021-08-20|   3698|       1175|JESMOND|     2299|151.704581|-32.909816|111031231|111031231|Shortland - Jesmond|       242936885|       6412|         6179|        12593|         1|New South Wales|          12598|          12694|                      0.01|                      0.01|Books, Stationary...| 0.7427698534961417|2021|    8|\n",
      "|Morbi Accumsan In...| 19618998054|tent and aWning s...|     1.52|             c|Christopher Rodri...|30554 Evans Strea...|  NSW|  Male|       19618998054| 62.90176609196828|3582b1f8-4577-403...|    2021-05-16|   3698|       1175|JESMOND|     2299|151.704581|-32.909816|111031231|111031231|Shortland - Jesmond|       242936885|       6412|         6179|        12593|         1|New South Wales|          12598|          12694|                      0.01|                      0.01|Books, Stationary...| 0.9561068445979178|2021|    5|\n",
      "| Eu Dolor Egestas PC| 94472466107|cable, satellite,...|     6.23|             a|Christopher Rodri...|30554 Evans Strea...|  NSW|  Male|       94472466107|172.15375126873164|cb05d49f-c2fa-453...|    2021-07-22|   3698|       1175|JESMOND|     2299|151.704581|-32.909816|111031231|111031231|Shortland - Jesmond|       242936885|       6412|         6179|        12593|         1|New South Wales|          12598|          12694|                      0.01|                      0.01|         Electronics| 10.725178704041982|2021|    7|\n",
      "|Urna Justo Indust...| 31472801314|music shops - mus...|     6.56|             a|Christopher Rodri...|30554 Evans Strea...|  NSW|  Male|       31472801314|0.4894787650356477|aeec15c1-67e8-4cb...|    2021-05-18|   3698|       1175|JESMOND|     2299|151.704581|-32.909816|111031231|111031231|Shortland - Jesmond|       242936885|       6412|         6179|        12593|         1|New South Wales|          12598|          12694|                      0.01|                      0.01|Books, Stationary...|0.03210980698633849|2021|    5|\n",
      "|Eu Sem Pellentesq...| 35424691626|computers, comput...|      3.9|             b|Christopher Rodri...|30554 Evans Strea...|  NSW|  Male|       35424691626| 7.360217018778133|9df473ba-102d-461...|    2021-07-04|   3698|       1175|JESMOND|     2299|151.704581|-32.909816|111031231|111031231|Shortland - Jesmond|       242936885|       6412|         6179|        12593|         1|New South Wales|          12598|          12694|                      0.01|                      0.01|         Electronics| 0.2870484637323472|2021|    7|\n",
      "+--------------------+------------+--------------------+---------+--------------+--------------------+--------------------+-----+------+------------------+------------------+--------------------+--------------+-------+-----------+-------+---------+----------+----------+---------+---------+-------------------+----------------+-----------+-------------+-------------+----------+---------------+---------------+---------------+--------------------------+--------------------------+--------------------+-------------------+----+-----+\n",
      "only showing top 5 rows\n",
      "\n"
     ]
    },
    {
     "name": "stderr",
     "output_type": "stream",
     "text": [
      "                                                                                \r"
     ]
    }
   ],
   "source": [
    "a.show(5)"
   ]
  },
  {
   "cell_type": "code",
   "execution_count": 12,
   "metadata": {},
   "outputs": [],
   "source": [
    "a = a.drop('merchant_abn', 'categories','name', 'address', 'trans_merchant_abn', 'order_id','order_datetime', 'consumer_id','int_sa2',\n",
    "'SA2_name','state_code','state_name','population_2020', 'population_2021')"
   ]
  },
  {
   "cell_type": "code",
   "execution_count": 13,
   "metadata": {},
   "outputs": [
    {
     "name": "stderr",
     "output_type": "stream",
     "text": [
      "[Stage 206:==================================================>      (8 + 1) / 9]\r"
     ]
    },
    {
     "name": "stdout",
     "output_type": "stream",
     "text": [
      "+-------------+---------+--------------+-----+------+------------+-------+------+---------+----+---+--------+----------------+-----------+-------------+-------------+--------------------------+--------------------------+--------+-------+----+-----+\n",
      "|merchant_name|take_rate|revenue_levels|state|gender|dollar_value|user_id|suburb|postcodes|long|lat|SA2_code|income_2018-2019|total_males|total_females|total_persons|fraud_probability_consumer|fraud_probability_merchant|category|percent|Year|Month|\n",
      "+-------------+---------+--------------+-----+------+------------+-------+------+---------+----+---+--------+----------------+-----------+-------------+-------------+--------------------------+--------------------------+--------+-------+----+-----+\n",
      "|            0|        0|             0|    0|     0|           0|      0|     0|        0|   0|  0|       0|               0|          0|            0|            0|                         0|                         0|       0|      0|   0|    0|\n",
      "+-------------+---------+--------------+-----+------+------------+-------+------+---------+----+---+--------+----------------+-----------+-------------+-------------+--------------------------+--------------------------+--------+-------+----+-----+\n",
      "\n"
     ]
    },
    {
     "name": "stderr",
     "output_type": "stream",
     "text": [
      "                                                                                \r"
     ]
    }
   ],
   "source": [
    " \n",
    "# Find Count of Null, None, NaN of All DataFrame Columns\n",
    "from pyspark.sql.functions import col,isnan, when, count\n",
    "a.select([count(when(isnan(c) | col(c).isNull(), c)).alias(c) for c in a.columns]\n",
    "   ).show()"
   ]
  },
  {
   "cell_type": "code",
   "execution_count": 14,
   "metadata": {},
   "outputs": [
    {
     "name": "stdout",
     "output_type": "stream",
     "text": [
      "root\n",
      " |-- merchant_name: string (nullable = true)\n",
      " |-- take_rate: double (nullable = true)\n",
      " |-- revenue_levels: string (nullable = true)\n",
      " |-- state: string (nullable = true)\n",
      " |-- gender: string (nullable = true)\n",
      " |-- dollar_value: double (nullable = true)\n",
      " |-- user_id: long (nullable = true)\n",
      " |-- suburb: string (nullable = true)\n",
      " |-- postcodes: string (nullable = true)\n",
      " |-- long: string (nullable = true)\n",
      " |-- lat: string (nullable = true)\n",
      " |-- SA2_code: long (nullable = true)\n",
      " |-- income_2018-2019: long (nullable = true)\n",
      " |-- total_males: long (nullable = true)\n",
      " |-- total_females: long (nullable = true)\n",
      " |-- total_persons: long (nullable = true)\n",
      " |-- fraud_probability_consumer: double (nullable = false)\n",
      " |-- fraud_probability_merchant: double (nullable = false)\n",
      " |-- category: string (nullable = true)\n",
      " |-- percent: double (nullable = true)\n",
      " |-- Year: integer (nullable = true)\n",
      " |-- Month: integer (nullable = true)\n",
      "\n"
     ]
    }
   ],
   "source": [
    "a.printSchema()"
   ]
  },
  {
   "cell_type": "code",
   "execution_count": 15,
   "metadata": {},
   "outputs": [
    {
     "name": "stderr",
     "output_type": "stream",
     "text": [
      "                                                                                \r"
     ]
    },
    {
     "name": "stdout",
     "output_type": "stream",
     "text": [
      "+--------------------+-----+\n",
      "|              m_name|males|\n",
      "+--------------------+-----+\n",
      "|Semper Tellus PC1...|    2|\n",
      "|Est Nunc Consulti...|   11|\n",
      "|Ipsum Primis In I...|    2|\n",
      "|Euismod In LLC601...|    1|\n",
      "|Leo In Consulting...|    2|\n",
      "+--------------------+-----+\n",
      "only showing top 5 rows\n",
      "\n"
     ]
    },
    {
     "name": "stderr",
     "output_type": "stream",
     "text": [
      "[Stage 254:===============================>                         (5 + 4) / 9]\r"
     ]
    },
    {
     "name": "stdout",
     "output_type": "stream",
     "text": [
      "+--------------------+-------+\n",
      "|              f_name|females|\n",
      "+--------------------+-------+\n",
      "|Quis Tristique Lt...|      1|\n",
      "|Nunc In Industrie...|      2|\n",
      "|Nunc Sit LLC10902...|      2|\n",
      "|Leo In Consulting...|      5|\n",
      "|Risus Donec Assoc...|      1|\n",
      "+--------------------+-------+\n",
      "only showing top 5 rows\n",
      "\n"
     ]
    },
    {
     "name": "stderr",
     "output_type": "stream",
     "text": [
      "                                                                                \r"
     ]
    }
   ],
   "source": [
    "a.createOrReplaceTempView(\"agg\")\n",
    "\n",
    "male = spark.sql(\"\"\" \n",
    "\n",
    "SELECT CONCAT(merchant_name, SA2_code, Year, Month) AS m_name, COUNT(gender) as males\n",
    "FROM agg\n",
    "WHERE gender = 'Male'\n",
    "GROUP BY merchant_name, SA2_code, Year, Month\n",
    "\"\"\")\n",
    "\n",
    "male.show(5)\n",
    "\n",
    "female = spark.sql(\"\"\" \n",
    "\n",
    "SELECT CONCAT(merchant_name, SA2_code, Year, Month) AS f_name, COUNT(gender) as females\n",
    "FROM agg\n",
    "WHERE gender = 'Female'\n",
    "GROUP BY merchant_name, SA2_code, Year, Month\n",
    "\"\"\")\n",
    "female.show(5)"
   ]
  },
  {
   "cell_type": "code",
   "execution_count": 16,
   "metadata": {},
   "outputs": [
    {
     "name": "stderr",
     "output_type": "stream",
     "text": [
      "[Stage 274:=======================================>               (10 + 4) / 14]\r"
     ]
    },
    {
     "name": "stdout",
     "output_type": "stream",
     "text": [
      "+--------------------+---------+--------------+-----+------+-----------------+-------+-------+---------+----------+----------+---------+----------------+-----------+-------------+-------------+--------------------------+--------------------------+--------------------+------------------+----+-----+\n",
      "|       merchant_name|take_rate|revenue_levels|state|gender|     dollar_value|user_id| suburb|postcodes|      long|       lat| SA2_code|income_2018-2019|total_males|total_females|total_persons|fraud_probability_consumer|fraud_probability_merchant|            category|           percent|Year|Month|\n",
      "+--------------------+---------+--------------+-----+------+-----------------+-------+-------+---------+----------+----------+---------+----------------+-----------+-------------+-------------+--------------------------+--------------------------+--------------------+------------------+----+-----+\n",
      "|Egestas Nunc Asso...|     6.58|             a|  NSW|  Male|11.28829564583802|   3698|JESMOND|     2299|151.704581|-32.909816|111031231|       242936885|       6412|         6179|        12593|                      0.01|                      0.01|Books, Stationary...|0.7427698534961417|2021|    8|\n",
      "|Morbi Accumsan In...|     1.52|             c|  NSW|  Male|62.90176609196828|   3698|JESMOND|     2299|151.704581|-32.909816|111031231|       242936885|       6412|         6179|        12593|                      0.01|                      0.01|Books, Stationary...|0.9561068445979178|2021|    5|\n",
      "+--------------------+---------+--------------+-----+------+-----------------+-------+-------+---------+----------+----------+---------+----------------+-----------+-------------+-------------+--------------------------+--------------------------+--------------------+------------------+----+-----+\n",
      "only showing top 2 rows\n",
      "\n"
     ]
    },
    {
     "name": "stderr",
     "output_type": "stream",
     "text": [
      "                                                                                \r"
     ]
    }
   ],
   "source": [
    "a.show(2)"
   ]
  },
  {
   "cell_type": "code",
   "execution_count": 17,
   "metadata": {},
   "outputs": [
    {
     "name": "stderr",
     "output_type": "stream",
     "text": [
      "[Stage 296:>                                                        (0 + 1) / 1]\r"
     ]
    },
    {
     "name": "stdout",
     "output_type": "stream",
     "text": [
      "+--------------------+---------------+---------+----+-----+------------------+--------------------+\n",
      "|       merchant_name|no_of_customers| SA2_code|Year|Month|    total_earnings|            join_col|\n",
      "+--------------------+---------------+---------+----+-----+------------------+--------------------+\n",
      "|Metus Sit Amet In...|              1|407021150|2021|    8| 66.38711669098895|Metus Sit Amet In...|\n",
      "|     Ut Nisi Limited|              1|307031184|2021|    8| 89.47004686919264|Ut Nisi Limited30...|\n",
      "|Dolor Dolor Indus...|              1|209041224|2021|    7| 32.32942469964551|Dolor Dolor Indus...|\n",
      "|Ut Molestie Found...|              1|206041124|2021|    8| 327.0497650599944|Ut Molestie Found...|\n",
      "|     Vivamus Sit LLC|              1|307031184|2021|    8| 244.8254892010557|Vivamus Sit LLC30...|\n",
      "|Euismod Et Institute|              7|210021235|2021|    8| 194.5570510377872|Euismod Et Instit...|\n",
      "|   Leo In Consulting|             20|210021235|2021|    8|1172.0943954300897|Leo In Consulting...|\n",
      "|  Adipiscing Elit PC|              3|210021235|2021|    7| 538.4843932756896|Adipiscing Elit P...|\n",
      "|Malesuada Malesua...|              2|210021235|2021|    7|   39.732673677496|Malesuada Malesua...|\n",
      "|Phasellus At Limited|              2|307031184|2021|    7| 324.2447989531052|Phasellus At Limi...|\n",
      "|    Ligula Tortor PC|              2|210021235|2021|    7| 255.9311108998843|Ligula Tortor PC2...|\n",
      "|   Leo In Consulting|             19|210021235|2021|    7| 938.5081174353837|Leo In Consulting...|\n",
      "| Nunc Sed Consulting|              1|307031184|2021|    7|475.64060973314133|Nunc Sed Consulti...|\n",
      "|              Eu LLC|              3|307031184|2021|    6|45.719267187057184|Eu LLC30703118420216|\n",
      "|        A Nunc Corp.|              1|206041124|2021|    5|330.23941813974835|A Nunc Corp.20604...|\n",
      "|          Lectus LLP|              1|209041224|2021|    5|31.263966222500926|Lectus LLP2090412...|\n",
      "|Ipsum Primis Corp...|              1|206041124|2021|    8| 245.9238887961692|Ipsum Primis Corp...|\n",
      "|Placerat Eget Ven...|             21|210021235|2021|    7|1030.3259242057652|Placerat Eget Ven...|\n",
      "|Et Magna Praesent...|              2|210021235|2021|    7|41.912586124135295|Et Magna Praesent...|\n",
      "|Blandit Congue In...|              1|309081259|2021|    8|285.94268170211336|Blandit Congue In...|\n",
      "+--------------------+---------------+---------+----+-----+------------------+--------------------+\n",
      "only showing top 20 rows\n",
      "\n"
     ]
    },
    {
     "name": "stderr",
     "output_type": "stream",
     "text": [
      "                                                                                \r"
     ]
    }
   ],
   "source": [
    "a.createOrReplaceTempView(\"agg\")\n",
    "\n",
    "temp = spark.sql(\"\"\" \n",
    "\n",
    "SELECT merchant_name, COUNT(DISTINCT user_id) AS no_of_customers, SA2_code, Year, Month, SUM(dollar_value - percent) AS total_earnings,\n",
    "    CONCAT(merchant_name, SA2_code, Year, Month) AS join_col\n",
    "FROM agg \n",
    "GROUP BY merchant_name, SA2_code, Year, Month\n",
    "\"\"\")\n",
    "\n",
    "temp.show()\n"
   ]
  },
  {
   "cell_type": "code",
   "execution_count": 18,
   "metadata": {},
   "outputs": [
    {
     "name": "stderr",
     "output_type": "stream",
     "text": [
      "                                                                                \r"
     ]
    },
    {
     "data": {
      "text/html": [
       "<table border='1'>\n",
       "<tr><th>merchant_name</th><th>no_of_customers</th><th>SA2_code</th><th>Year</th><th>Month</th><th>total_earnings</th><th>join_col</th><th>m_name</th><th>males</th><th>f_name</th><th>females</th></tr>\n",
       "<tr><td>A Aliquet Ltd</td><td>2</td><td>401021010</td><td>2021</td><td>4</td><td>670.4857203238805</td><td>A Aliquet Ltd4010...</td><td>A Aliquet Ltd4010...</td><td>1</td><td>A Aliquet Ltd4010...</td><td>1</td></tr>\n",
       "<tr><td>A Aliquet Ltd</td><td>2</td><td>603011065</td><td>2021</td><td>12</td><td>346.5799250465364</td><td>A Aliquet Ltd6030...</td><td>A Aliquet Ltd6030...</td><td>1</td><td>A Aliquet Ltd6030...</td><td>1</td></tr>\n",
       "<tr><td>A Arcu Industries</td><td>2</td><td>124011453</td><td>2021</td><td>8</td><td>203.5414742977921</td><td>A Arcu Industries...</td><td>A Arcu Industries...</td><td>1</td><td>A Arcu Industries...</td><td>1</td></tr>\n",
       "<tr><td>A Arcu Industries</td><td>2</td><td>211051282</td><td>2022</td><td>3</td><td>655.1195924003883</td><td>A Arcu Industries...</td><td>A Arcu Industries...</td><td>1</td><td>A Arcu Industries...</td><td>1</td></tr>\n",
       "<tr><td>A Arcu Industries</td><td>2</td><td>214021379</td><td>2021</td><td>7</td><td>451.0067711100705</td><td>A Arcu Industries...</td><td>A Arcu Industries...</td><td>1</td><td>A Arcu Industries...</td><td>1</td></tr>\n",
       "</table>\n"
      ],
      "text/plain": [
       "+-----------------+---------------+---------+----+-----+-----------------+--------------------+--------------------+-----+--------------------+-------+\n",
       "|    merchant_name|no_of_customers| SA2_code|Year|Month|   total_earnings|            join_col|              m_name|males|              f_name|females|\n",
       "+-----------------+---------------+---------+----+-----+-----------------+--------------------+--------------------+-----+--------------------+-------+\n",
       "|    A Aliquet Ltd|              2|401021010|2021|    4|670.4857203238805|A Aliquet Ltd4010...|A Aliquet Ltd4010...|    1|A Aliquet Ltd4010...|      1|\n",
       "|    A Aliquet Ltd|              2|603011065|2021|   12|346.5799250465364|A Aliquet Ltd6030...|A Aliquet Ltd6030...|    1|A Aliquet Ltd6030...|      1|\n",
       "|A Arcu Industries|              2|124011453|2021|    8|203.5414742977921|A Arcu Industries...|A Arcu Industries...|    1|A Arcu Industries...|      1|\n",
       "|A Arcu Industries|              2|211051282|2022|    3|655.1195924003883|A Arcu Industries...|A Arcu Industries...|    1|A Arcu Industries...|      1|\n",
       "|A Arcu Industries|              2|214021379|2021|    7|451.0067711100705|A Arcu Industries...|A Arcu Industries...|    1|A Arcu Industries...|      1|\n",
       "+-----------------+---------------+---------+----+-----+-----------------+--------------------+--------------------+-----+--------------------+-------+"
      ]
     },
     "execution_count": 18,
     "metadata": {},
     "output_type": "execute_result"
    }
   ],
   "source": [
    "temp.createOrReplaceTempView(\"gender_join\")\n",
    "male.createOrReplaceTempView(\"m\")\n",
    "female.createOrReplaceTempView(\"f\")\n",
    "\n",
    "temp2 = spark.sql(\"\"\" \n",
    "\n",
    "SELECT *\n",
    "FROM gender_join\n",
    "INNER JOIN m\n",
    "ON gender_join.join_col = m.m_name\n",
    "\"\"\")\n",
    "\n",
    "temp2.createOrReplaceTempView(\"temp2\")\n",
    "\n",
    "temp3 = spark.sql(\"\"\" \n",
    "\n",
    "SELECT *\n",
    "FROM temp2\n",
    "INNER JOIN f\n",
    "ON temp2.join_col = f.f_name\n",
    "\"\"\")\n",
    "\n",
    "temp3.limit(5)"
   ]
  },
  {
   "cell_type": "code",
   "execution_count": 19,
   "metadata": {},
   "outputs": [],
   "source": [
    "a = a.withColumnRenamed('income_2018-2019',\n",
    "\n",
    "    'income_2018_2019'    \n",
    ")\n",
    "\n",
    "a = a.withColumn('income_per_persons',\n",
    "    (F.col('income_2018_2019')/F.col('total_persons'))\n",
    ")\n"
   ]
  },
  {
   "cell_type": "code",
   "execution_count": 20,
   "metadata": {},
   "outputs": [
    {
     "name": "stderr",
     "output_type": "stream",
     "text": [
      "[Stage 425:====================================>                   (9 + 5) / 14]\r"
     ]
    },
    {
     "name": "stdout",
     "output_type": "stream",
     "text": [
      "+--------------------+---------+--------------+-----+------+-----------------+-------+-------+---------+----------+----------+---------+----------------+-----------+-------------+-------------+--------------------------+--------------------------+--------------------+------------------+----+-----+------------------+\n",
      "|       merchant_name|take_rate|revenue_levels|state|gender|     dollar_value|user_id| suburb|postcodes|      long|       lat| SA2_code|income_2018_2019|total_males|total_females|total_persons|fraud_probability_consumer|fraud_probability_merchant|            category|           percent|Year|Month|income_per_persons|\n",
      "+--------------------+---------+--------------+-----+------+-----------------+-------+-------+---------+----------+----------+---------+----------------+-----------+-------------+-------------+--------------------------+--------------------------+--------------------+------------------+----+-----+------------------+\n",
      "|Egestas Nunc Asso...|     6.58|             a|  NSW|  Male|11.28829564583802|   3698|JESMOND|     2299|151.704581|-32.909816|111031231|       242936885|       6412|         6179|        12593|                      0.01|                      0.01|Books, Stationary...|0.7427698534961417|2021|    8|19291.422615738902|\n",
      "+--------------------+---------+--------------+-----+------+-----------------+-------+-------+---------+----------+----------+---------+----------------+-----------+-------------+-------------+--------------------------+--------------------------+--------------------+------------------+----+-----+------------------+\n",
      "only showing top 1 row\n",
      "\n"
     ]
    },
    {
     "name": "stderr",
     "output_type": "stream",
     "text": [
      "                                                                                \r"
     ]
    }
   ],
   "source": [
    "a.show(1)"
   ]
  },
  {
   "cell_type": "code",
   "execution_count": 21,
   "metadata": {},
   "outputs": [
    {
     "name": "stderr",
     "output_type": "stream",
     "text": [
      "[Stage 444:====================================>                   (9 + 5) / 14]\r"
     ]
    },
    {
     "name": "stdout",
     "output_type": "stream",
     "text": [
      "+---------------+---------+--------------+--------------------+------------+--------------+------------------+\n",
      "|      drop_name|take_rate|revenue_levels|            category|males_in_SA2|females_in_SA2| income_per_person|\n",
      "+---------------+---------+--------------+--------------------+------------+--------------+------------------+\n",
      "|   A Associates|     4.95|             b|Books, Stationary...|        9762|         10846|22526.523772559674|\n",
      "|A Felis Company|     4.32|             b|Books, Stationary...|        1080|          1051| 33927.61168708765|\n",
      "+---------------+---------+--------------+--------------------+------------+--------------+------------------+\n",
      "only showing top 2 rows\n",
      "\n"
     ]
    },
    {
     "name": "stderr",
     "output_type": "stream",
     "text": [
      "                                                                                \r"
     ]
    }
   ],
   "source": [
    "a.createOrReplaceTempView(\"features\")\n",
    "\n",
    "e = spark.sql(\"\"\" \n",
    "\n",
    "SELECT merchant_name AS drop_name, FIRST(take_rate) AS take_rate, FIRST(revenue_levels) AS revenue_levels, FIRST(category) AS category,\n",
    "    FIRST(total_males) AS males_in_SA2, FIRST(total_females) AS females_in_SA2, FIRST(income_per_persons) AS income_per_person\n",
    "FROM features\n",
    "GROUP BY merchant_name\n",
    "\"\"\")\n",
    "\n",
    "e.show(2)"
   ]
  },
  {
   "cell_type": "code",
   "execution_count": 22,
   "metadata": {},
   "outputs": [
    {
     "name": "stderr",
     "output_type": "stream",
     "text": [
      "                                                                                \r"
     ]
    },
    {
     "data": {
      "text/html": [
       "<table border='1'>\n",
       "<tr><th>merchant_name</th><th>no_of_customers</th><th>SA2_code</th><th>Year</th><th>Month</th><th>total_earnings</th><th>males</th><th>females</th><th>take_rate</th><th>revenue_levels</th><th>category</th><th>males_in_SA2</th><th>females_in_SA2</th><th>income_per_person</th></tr>\n",
       "<tr><td>A Aliquet Ltd</td><td>2</td><td>312021351</td><td>2021</td><td>6</td><td>298.8537411028336</td><td>1</td><td>1</td><td>3.87</td><td>b</td><td>Furniture</td><td>3292</td><td>3206</td><td>28693.71558221812</td></tr>\n",
       "<tr><td>A Aliquet Ltd</td><td>2</td><td>401021010</td><td>2021</td><td>4</td><td>670.4857203238805</td><td>1</td><td>1</td><td>3.87</td><td>b</td><td>Furniture</td><td>3292</td><td>3206</td><td>28693.71558221812</td></tr>\n",
       "<tr><td>A Aliquet Ltd</td><td>2</td><td>603011065</td><td>2021</td><td>12</td><td>346.5799250465364</td><td>1</td><td>1</td><td>3.87</td><td>b</td><td>Furniture</td><td>3292</td><td>3206</td><td>28693.71558221812</td></tr>\n",
       "<tr><td>A Arcu Industries</td><td>2</td><td>124011453</td><td>2021</td><td>8</td><td>203.5414742977921</td><td>1</td><td>1</td><td>3.0</td><td>c</td><td>Furniture</td><td>4821</td><td>4683</td><td>25816.03452631579</td></tr>\n",
       "<tr><td>A Arcu Industries</td><td>2</td><td>211051282</td><td>2022</td><td>3</td><td>655.1195924003883</td><td>1</td><td>1</td><td>3.0</td><td>c</td><td>Furniture</td><td>4821</td><td>4683</td><td>25816.03452631579</td></tr>\n",
       "</table>\n"
      ],
      "text/plain": [
       "+-----------------+---------------+---------+----+-----+-----------------+-----+-------+---------+--------------+---------+------------+--------------+-----------------+\n",
       "|    merchant_name|no_of_customers| SA2_code|Year|Month|   total_earnings|males|females|take_rate|revenue_levels| category|males_in_SA2|females_in_SA2|income_per_person|\n",
       "+-----------------+---------------+---------+----+-----+-----------------+-----+-------+---------+--------------+---------+------------+--------------+-----------------+\n",
       "|    A Aliquet Ltd|              2|312021351|2021|    6|298.8537411028336|    1|      1|     3.87|             b|Furniture|        3292|          3206|28693.71558221812|\n",
       "|    A Aliquet Ltd|              2|401021010|2021|    4|670.4857203238805|    1|      1|     3.87|             b|Furniture|        3292|          3206|28693.71558221812|\n",
       "|    A Aliquet Ltd|              2|603011065|2021|   12|346.5799250465364|    1|      1|     3.87|             b|Furniture|        3292|          3206|28693.71558221812|\n",
       "|A Arcu Industries|              2|124011453|2021|    8|203.5414742977921|    1|      1|      3.0|             c|Furniture|        4821|          4683|25816.03452631579|\n",
       "|A Arcu Industries|              2|211051282|2022|    3|655.1195924003883|    1|      1|      3.0|             c|Furniture|        4821|          4683|25816.03452631579|\n",
       "+-----------------+---------------+---------+----+-----+-----------------+-----+-------+---------+--------------+---------+------------+--------------+-----------------+"
      ]
     },
     "execution_count": 22,
     "metadata": {},
     "output_type": "execute_result"
    }
   ],
   "source": [
    "temp3.createOrReplaceTempView(\"edit\")\n",
    "e.createOrReplaceTempView(\"rates\")\n",
    "\n",
    "temp4 = spark.sql(\"\"\" \n",
    "\n",
    "SELECT *\n",
    "FROM edit\n",
    "INNER JOIN rates\n",
    "ON edit.merchant_name = rates.drop_name\n",
    "\"\"\")\n",
    "\n",
    "train = temp4.drop('m_name', 'f_name', 'drop_name','join_col')\n",
    "\n",
    "train.limit(5)"
   ]
  },
  {
   "cell_type": "code",
   "execution_count": 23,
   "metadata": {},
   "outputs": [
    {
     "name": "stdout",
     "output_type": "stream",
     "text": [
      "root\n",
      " |-- merchant_name: string (nullable = true)\n",
      " |-- no_of_customers: long (nullable = false)\n",
      " |-- SA2_code: long (nullable = true)\n",
      " |-- Year: integer (nullable = true)\n",
      " |-- Month: integer (nullable = true)\n",
      " |-- total_earnings: double (nullable = true)\n",
      " |-- males: long (nullable = false)\n",
      " |-- females: long (nullable = false)\n",
      " |-- take_rate: double (nullable = true)\n",
      " |-- revenue_levels: string (nullable = true)\n",
      " |-- category: string (nullable = true)\n",
      " |-- males_in_SA2: long (nullable = true)\n",
      " |-- females_in_SA2: long (nullable = true)\n",
      " |-- income_per_person: double (nullable = true)\n",
      "\n"
     ]
    }
   ],
   "source": [
    "train.printSchema()"
   ]
  },
  {
   "cell_type": "code",
   "execution_count": 24,
   "metadata": {},
   "outputs": [
    {
     "name": "stderr",
     "output_type": "stream",
     "text": [
      "                                                                                \r"
     ]
    },
    {
     "data": {
      "text/html": [
       "<table border='1'>\n",
       "<tr><th>merchant_name</th><th>SA2_code</th><th>Year</th><th>Month</th><th>no_of_customers</th></tr>\n",
       "<tr><td>A Aliquet Ltd</td><td>401021010</td><td>2021</td><td>4</td><td>2</td></tr>\n",
       "<tr><td>A Aliquet Ltd</td><td>603011065</td><td>2021</td><td>12</td><td>2</td></tr>\n",
       "<tr><td>A Arcu Industries</td><td>124011453</td><td>2021</td><td>8</td><td>2</td></tr>\n",
       "<tr><td>A Arcu Industries</td><td>211051282</td><td>2022</td><td>3</td><td>2</td></tr>\n",
       "<tr><td>A Arcu Industries</td><td>214021379</td><td>2021</td><td>7</td><td>2</td></tr>\n",
       "</table>\n"
      ],
      "text/plain": [
       "+-----------------+---------+----+-----+---------------+\n",
       "|    merchant_name| SA2_code|Year|Month|no_of_customers|\n",
       "+-----------------+---------+----+-----+---------------+\n",
       "|    A Aliquet Ltd|401021010|2021|    4|              2|\n",
       "|    A Aliquet Ltd|603011065|2021|   12|              2|\n",
       "|A Arcu Industries|124011453|2021|    8|              2|\n",
       "|A Arcu Industries|211051282|2022|    3|              2|\n",
       "|A Arcu Industries|214021379|2021|    7|              2|\n",
       "+-----------------+---------+----+-----+---------------+"
      ]
     },
     "execution_count": 24,
     "metadata": {},
     "output_type": "execute_result"
    }
   ],
   "source": [
    "train_projection = train.select(\"merchant_name\", \"SA2_code\", \"Year\", \"Month\", 'no_of_customers')\n",
    "train_projection.limit(5)"
   ]
  },
  {
   "cell_type": "code",
   "execution_count": 25,
   "metadata": {},
   "outputs": [
    {
     "name": "stderr",
     "output_type": "stream",
     "text": [
      "                                                                                \r"
     ]
    },
    {
     "data": {
      "text/plain": [
       "891622"
      ]
     },
     "execution_count": 25,
     "metadata": {},
     "output_type": "execute_result"
    }
   ],
   "source": [
    "train_projection.count()"
   ]
  },
  {
   "cell_type": "code",
   "execution_count": 26,
   "metadata": {},
   "outputs": [
    {
     "name": "stderr",
     "output_type": "stream",
     "text": [
      "                                                                                \r"
     ]
    },
    {
     "data": {
      "text/html": [
       "<table border='1'>\n",
       "<tr><th>p_merchant_name</th><th>p_SA2_code</th><th>future_customers</th><th>prev_year</th><th>prev_month</th></tr>\n",
       "<tr><td>A Aliquet Ltd</td><td>401021010</td><td>2</td><td>2021</td><td>3</td></tr>\n",
       "<tr><td>A Aliquet Ltd</td><td>603011065</td><td>2</td><td>2021</td><td>11</td></tr>\n",
       "<tr><td>A Arcu Industries</td><td>124011453</td><td>2</td><td>2021</td><td>7</td></tr>\n",
       "<tr><td>A Arcu Industries</td><td>211051282</td><td>2</td><td>2022</td><td>2</td></tr>\n",
       "<tr><td>A Arcu Industries</td><td>214021379</td><td>2</td><td>2021</td><td>6</td></tr>\n",
       "</table>\n"
      ],
      "text/plain": [
       "+-----------------+----------+----------------+---------+----------+\n",
       "|  p_merchant_name|p_SA2_code|future_customers|prev_year|prev_month|\n",
       "+-----------------+----------+----------------+---------+----------+\n",
       "|    A Aliquet Ltd| 401021010|               2|     2021|         3|\n",
       "|    A Aliquet Ltd| 603011065|               2|     2021|        11|\n",
       "|A Arcu Industries| 124011453|               2|     2021|         7|\n",
       "|A Arcu Industries| 211051282|               2|     2022|         2|\n",
       "|A Arcu Industries| 214021379|               2|     2021|         6|\n",
       "+-----------------+----------+----------------+---------+----------+"
      ]
     },
     "execution_count": 26,
     "metadata": {},
     "output_type": "execute_result"
    }
   ],
   "source": [
    "train_projection = train_projection.withColumn(\"prev_year\", \\\n",
    "              when(train_projection[\"Month\"] == 1, train_projection['Year'] - 1).otherwise(train_projection['Year']))\n",
    "train_projection = train_projection.withColumn(\"prev_month\", \\\n",
    "              when(train_projection[\"Month\"] == 1, 12).otherwise(train_projection['Month'] - 1))\n",
    "train_projection = train_projection.drop(\"Year\", \"Month\")\n",
    "train_projection = train_projection.withColumnRenamed(\"no_of_customers\", \"future_customers\") \\\n",
    "                            .withColumnRenamed(\"merchant_name\", \"p_merchant_name\") \\\n",
    "                            .withColumnRenamed(\"SA2_code\", \"p_SA2_code\")\n",
    "train_projection.limit(5)"
   ]
  },
  {
   "cell_type": "code",
   "execution_count": 27,
   "metadata": {},
   "outputs": [
    {
     "name": "stderr",
     "output_type": "stream",
     "text": [
      "                                                                                \r"
     ]
    },
    {
     "data": {
      "text/plain": [
       "891622"
      ]
     },
     "execution_count": 27,
     "metadata": {},
     "output_type": "execute_result"
    }
   ],
   "source": [
    "train_projection.count()"
   ]
  },
  {
   "cell_type": "code",
   "execution_count": 28,
   "metadata": {},
   "outputs": [
    {
     "name": "stderr",
     "output_type": "stream",
     "text": [
      "                                                                                \r"
     ]
    },
    {
     "data": {
      "text/html": [
       "<table border='1'>\n",
       "<tr><th>merchant_name</th><th>no_of_customers</th><th>SA2_code</th><th>Year</th><th>Month</th><th>total_earnings</th><th>males</th><th>females</th><th>take_rate</th><th>revenue_levels</th><th>category</th><th>males_in_SA2</th><th>females_in_SA2</th><th>income_per_person</th><th>future_customers</th></tr>\n",
       "<tr><td>A Auctor Non Corp...</td><td>3</td><td>202031033</td><td>2021</td><td>11</td><td>209.32764854012208</td><td>1</td><td>2</td><td>5.58</td><td>a</td><td>Furniture</td><td>2067</td><td>2014</td><td>22634.72370679088</td><td>6</td></tr>\n",
       "<tr><td>A Auctor Non Corp...</td><td>3</td><td>205021082</td><td>2022</td><td>7</td><td>262.10605847773724</td><td>1</td><td>2</td><td>5.58</td><td>a</td><td>Furniture</td><td>2067</td><td>2014</td><td>22634.72370679088</td><td>3</td></tr>\n",
       "<tr><td>A Auctor Non Corp...</td><td>2</td><td>205031087</td><td>2021</td><td>9</td><td>218.6890344781834</td><td>1</td><td>1</td><td>5.58</td><td>a</td><td>Furniture</td><td>2067</td><td>2014</td><td>22634.72370679088</td><td>3</td></tr>\n",
       "<tr><td>A Auctor Non Corp...</td><td>3</td><td>210021235</td><td>2022</td><td>9</td><td>152.99495946306212</td><td>1</td><td>2</td><td>5.58</td><td>a</td><td>Furniture</td><td>2067</td><td>2014</td><td>22634.72370679088</td><td>3</td></tr>\n",
       "<tr><td>A Auctor Non Corp...</td><td>4</td><td>211051282</td><td>2021</td><td>10</td><td>298.778609499402</td><td>2</td><td>2</td><td>5.58</td><td>a</td><td>Furniture</td><td>2067</td><td>2014</td><td>22634.72370679088</td><td>5</td></tr>\n",
       "</table>\n"
      ],
      "text/plain": [
       "+--------------------+---------------+---------+----+-----+------------------+-----+-------+---------+--------------+---------+------------+--------------+-----------------+----------------+\n",
       "|       merchant_name|no_of_customers| SA2_code|Year|Month|    total_earnings|males|females|take_rate|revenue_levels| category|males_in_SA2|females_in_SA2|income_per_person|future_customers|\n",
       "+--------------------+---------------+---------+----+-----+------------------+-----+-------+---------+--------------+---------+------------+--------------+-----------------+----------------+\n",
       "|A Auctor Non Corp...|              3|202031033|2021|   11|209.32764854012208|    1|      2|     5.58|             a|Furniture|        2067|          2014|22634.72370679088|               6|\n",
       "|A Auctor Non Corp...|              3|205021082|2022|    7|262.10605847773724|    1|      2|     5.58|             a|Furniture|        2067|          2014|22634.72370679088|               3|\n",
       "|A Auctor Non Corp...|              2|205031087|2021|    9| 218.6890344781834|    1|      1|     5.58|             a|Furniture|        2067|          2014|22634.72370679088|               3|\n",
       "|A Auctor Non Corp...|              3|210021235|2022|    9|152.99495946306212|    1|      2|     5.58|             a|Furniture|        2067|          2014|22634.72370679088|               3|\n",
       "|A Auctor Non Corp...|              4|211051282|2021|   10|  298.778609499402|    2|      2|     5.58|             a|Furniture|        2067|          2014|22634.72370679088|               5|\n",
       "+--------------------+---------------+---------+----+-----+------------------+-----+-------+---------+--------------+---------+------------+--------------+-----------------+----------------+"
      ]
     },
     "execution_count": 28,
     "metadata": {},
     "output_type": "execute_result"
    }
   ],
   "source": [
    "final_data = train.join(train_projection, (train.merchant_name == train_projection.p_merchant_name) & \n",
    "                           (train.SA2_code == train_projection.p_SA2_code) & \n",
    "                           (train.Year == train_projection.prev_year) & \n",
    "                           (train.Month == train_projection.prev_month), how = 'inner')\n",
    "\n",
    "final_data = final_data.drop(\"p_merchant_name\", \"p_SA2_code\",\"prev_year\", \"prev_month\")\n",
    "final_data.limit(5)"
   ]
  },
  {
   "cell_type": "code",
   "execution_count": 29,
   "metadata": {},
   "outputs": [],
   "source": [
    "final_data = final_data.withColumn('Year',\n",
    "\n",
    "    F.col('Year').cast('STRING')\n",
    "\n",
    ")\n",
    "\n",
    "final_data = final_data.withColumn('Month',\n",
    "\n",
    "    F.col('Month').cast('STRING')\n",
    "\n",
    ")\n",
    "\n",
    "final_data = final_data.withColumn('SA2_code',\n",
    "\n",
    "    F.col('SA2_code').cast('STRING')\n",
    "\n",
    ")\n",
    "\n",
    "field = ['future_customers','no_of_customers' ,'males', 'females', 'males_in_SA2', 'females_in_SA2']\n",
    "\n",
    "for col in field:\n",
    "    final_data = final_data.withColumn(col,\n",
    "\n",
    "    F.col(col).cast('INT')\n",
    "\n",
    ")"
   ]
  },
  {
   "cell_type": "code",
   "execution_count": 30,
   "metadata": {},
   "outputs": [
    {
     "name": "stderr",
     "output_type": "stream",
     "text": [
      "                                                                                \r"
     ]
    }
   ],
   "source": [
    "# String indexing the categorical columns\n",
    "\n",
    "indexer = StringIndexer(inputCols = ['merchant_name', 'SA2_code', 'Year', 'Month', 'revenue_levels','category'],\n",
    "outputCols = ['merchant_name_num', 'SA2_code_num', 'Year_num', 'Month_num', 'revenue_levels_num','category_num'], handleInvalid=\"keep\")\n",
    "\n",
    "indexd_data = indexer.fit(final_data).transform(final_data)\n",
    "\n",
    "\n",
    "# Applying onehot encoding to the categorical data that is string indexed above\n",
    "encoder = OneHotEncoder(inputCols = ['merchant_name_num', 'SA2_code_num', 'Year_num', 'Month_num', 'revenue_levels_num','category_num'],\n",
    "outputCols = ['merchant_name_vec', 'SA2_code_vec', 'Year_vec', 'Month_vec', 'revenue_levels_vec','category_vec'])\n",
    "\n",
    "onehotdata = encoder.fit(indexd_data).transform(indexd_data)\n",
    "\n",
    "\n",
    "# Assembling the training data as a vector of features \n",
    "assembler1 = VectorAssembler(\n",
    "inputCols=['merchant_name_vec', 'SA2_code_vec', 'Year_vec', 'Month_vec', 'revenue_levels_vec','category_vec','males_in_SA2','females_in_SA2','no_of_customers' ,'income_per_person','take_rate', 'total_earnings'],\n",
    "outputCol= \"features\" )\n",
    "\n",
    "outdata1 = assembler1.transform(onehotdata)"
   ]
  },
  {
   "cell_type": "code",
   "execution_count": 31,
   "metadata": {},
   "outputs": [],
   "source": [
    "# Renaming the target column as label\n",
    "\n",
    "outdata1 = outdata1.withColumnRenamed(\n",
    "    \"future_customers\",\n",
    "    \"label\"\n",
    ")"
   ]
  },
  {
   "cell_type": "code",
   "execution_count": 32,
   "metadata": {},
   "outputs": [
    {
     "name": "stderr",
     "output_type": "stream",
     "text": [
      "                                                                                \r"
     ]
    }
   ],
   "source": [
    "# Assembling the features as a feature vector \n",
    "\n",
    "featureIndexer =\\\n",
    "    VectorIndexer(inputCol=\"features\", \n",
    "    outputCol=\"indexedFeatures\").fit(outdata1)\n",
    "\n",
    "outdata1 = featureIndexer.transform(outdata1)"
   ]
  },
  {
   "cell_type": "code",
   "execution_count": 33,
   "metadata": {},
   "outputs": [],
   "source": [
    "# Split the data into training and validation sets (30% held out for testing)\n",
    "\n",
    "trainingData, testData = outdata1.randomSplit([0.7, 0.3], seed = 20)"
   ]
  },
  {
   "cell_type": "code",
   "execution_count": 34,
   "metadata": {},
   "outputs": [
    {
     "name": "stderr",
     "output_type": "stream",
     "text": [
      "[Stage 1502:========================>                               (4 + 5) / 9]\r"
     ]
    },
    {
     "name": "stdout",
     "output_type": "stream",
     "text": [
      "22/10/07 17:05:10 WARN DAGScheduler: Broadcasting large task binary with size 1447.5 KiB\n"
     ]
    },
    {
     "name": "stderr",
     "output_type": "stream",
     "text": [
      "[Stage 1647:=================================================>      (8 + 1) / 9]\r"
     ]
    },
    {
     "name": "stdout",
     "output_type": "stream",
     "text": [
      "22/10/07 17:06:35 WARN DAGScheduler: Broadcasting large task binary with size 1447.5 KiB\n"
     ]
    },
    {
     "name": "stderr",
     "output_type": "stream",
     "text": [
      "                                                                                \r"
     ]
    },
    {
     "data": {
      "text/plain": [
       "(240534, 103485)"
      ]
     },
     "execution_count": 34,
     "metadata": {},
     "output_type": "execute_result"
    }
   ],
   "source": [
    "trainingData.count(), testData.count()"
   ]
  },
  {
   "cell_type": "code",
   "execution_count": 35,
   "metadata": {},
   "outputs": [
    {
     "name": "stderr",
     "output_type": "stream",
     "text": [
      "[Stage 1792:========================>                               (4 + 5) / 9]\r"
     ]
    },
    {
     "name": "stdout",
     "output_type": "stream",
     "text": [
      "22/10/07 17:07:57 WARN DAGScheduler: Broadcasting large task binary with size 1447.4 KiB\n"
     ]
    },
    {
     "name": "stderr",
     "output_type": "stream",
     "text": [
      "                                                                                \r"
     ]
    },
    {
     "name": "stdout",
     "output_type": "stream",
     "text": [
      "22/10/07 17:07:58 WARN DAGScheduler: Broadcasting large task binary with size 1447.5 KiB\n"
     ]
    },
    {
     "name": "stderr",
     "output_type": "stream",
     "text": [
      "                                                                                \r"
     ]
    },
    {
     "name": "stdout",
     "output_type": "stream",
     "text": [
      "22/10/07 17:08:00 WARN DAGScheduler: Broadcasting large task binary with size 1451.5 KiB\n"
     ]
    },
    {
     "name": "stderr",
     "output_type": "stream",
     "text": [
      "                                                                                \r"
     ]
    },
    {
     "name": "stdout",
     "output_type": "stream",
     "text": [
      "22/10/07 17:08:02 WARN DAGScheduler: Broadcasting large task binary with size 1564.2 KiB\n"
     ]
    },
    {
     "name": "stderr",
     "output_type": "stream",
     "text": [
      "                                                                                \r"
     ]
    },
    {
     "name": "stdout",
     "output_type": "stream",
     "text": [
      "22/10/07 17:08:09 WARN DAGScheduler: Broadcasting large task binary with size 1625.7 KiB\n"
     ]
    },
    {
     "name": "stderr",
     "output_type": "stream",
     "text": [
      "                                                                                \r"
     ]
    },
    {
     "name": "stdout",
     "output_type": "stream",
     "text": [
      "22/10/07 17:08:12 WARN DAGScheduler: Broadcasting large task binary with size 1746.6 KiB\n"
     ]
    },
    {
     "name": "stderr",
     "output_type": "stream",
     "text": [
      "                                                                                \r"
     ]
    },
    {
     "name": "stdout",
     "output_type": "stream",
     "text": [
      "22/10/07 17:08:16 WARN DAGScheduler: Broadcasting large task binary with size 1985.6 KiB\n"
     ]
    },
    {
     "name": "stderr",
     "output_type": "stream",
     "text": [
      "                                                                                \r"
     ]
    },
    {
     "name": "stdout",
     "output_type": "stream",
     "text": [
      "22/10/07 17:08:21 WARN DAGScheduler: Broadcasting large task binary with size 2.4 MiB\n"
     ]
    },
    {
     "name": "stderr",
     "output_type": "stream",
     "text": [
      "                                                                                \r"
     ]
    }
   ],
   "source": [
    "# Train a RandomForest model.\n",
    "rf = RandomForestRegressor(featuresCol=\"indexedFeatures\")\n",
    "\n",
    "\n",
    "# Train model.  \n",
    "model = rf.fit(trainingData)\n",
    "\n",
    "# Make predictions.\n",
    "predictions_validation = model.transform(testData)"
   ]
  },
  {
   "cell_type": "code",
   "execution_count": 36,
   "metadata": {},
   "outputs": [
    {
     "name": "stderr",
     "output_type": "stream",
     "text": [
      "[Stage 2080:=====================================>                  (6 + 3) / 9]\r"
     ]
    },
    {
     "name": "stdout",
     "output_type": "stream",
     "text": [
      "22/10/07 17:09:46 WARN DAGScheduler: Broadcasting large task binary with size 1461.7 KiB\n"
     ]
    },
    {
     "name": "stderr",
     "output_type": "stream",
     "text": [
      "                                                                                \r"
     ]
    },
    {
     "name": "stdout",
     "output_type": "stream",
     "text": [
      "+------------------+-----+--------------------+\n",
      "|        prediction|label|            features|\n",
      "+------------------+-----+--------------------+\n",
      "| 3.995871420804393|    4|(2085,[209,1093,2...|\n",
      "| 4.105122129941754|    6|(2085,[209,988,20...|\n",
      "| 4.105122129941754|    4|(2085,[209,976,20...|\n",
      "| 4.416280714838842|    5|(2085,[209,989,20...|\n",
      "|4.5805087950826735|    3|(2085,[209,1039,2...|\n",
      "+------------------+-----+--------------------+\n",
      "only showing top 5 rows\n",
      "\n"
     ]
    },
    {
     "name": "stderr",
     "output_type": "stream",
     "text": [
      "[Stage 2201:===============================>                        (5 + 4) / 9]\r"
     ]
    },
    {
     "name": "stdout",
     "output_type": "stream",
     "text": [
      "22/10/07 17:11:10 WARN DAGScheduler: Broadcasting large task binary with size 1452.7 KiB\n"
     ]
    },
    {
     "name": "stderr",
     "output_type": "stream",
     "text": [
      "                                                                                \r"
     ]
    },
    {
     "name": "stdout",
     "output_type": "stream",
     "text": [
      "22/10/07 17:11:12 WARN DAGScheduler: Broadcasting large task binary with size 1453.8 KiB\n",
      "Root Mean Squared Error (RMSE) on train data = 2.95724\n"
     ]
    },
    {
     "name": "stderr",
     "output_type": "stream",
     "text": [
      "[Stage 2323:========================>                               (4 + 5) / 9]\r"
     ]
    },
    {
     "name": "stdout",
     "output_type": "stream",
     "text": [
      "22/10/07 17:12:31 WARN DAGScheduler: Broadcasting large task binary with size 1452.7 KiB\n"
     ]
    },
    {
     "name": "stderr",
     "output_type": "stream",
     "text": [
      "[Stage 2346:>                                                       (0 + 8) / 9]\r"
     ]
    },
    {
     "name": "stdout",
     "output_type": "stream",
     "text": [
      "22/10/07 17:12:33 WARN DAGScheduler: Broadcasting large task binary with size 1453.8 KiB\n",
      "Mean Absolutee Error (MAE) on train data = 2.0985\n"
     ]
    },
    {
     "name": "stderr",
     "output_type": "stream",
     "text": [
      "                                                                                \r"
     ]
    }
   ],
   "source": [
    "# Evaluate the validation set \n",
    "\n",
    "predictions_validation.select(\"prediction\", \"label\", \"features\").show(5)\n",
    "\n",
    "# Select (prediction, true label) and compute test error\n",
    "\n",
    "evaluator_train_rmse = RegressionEvaluator(\n",
    "    labelCol=\"label\", predictionCol=\"prediction\", metricName=\"rmse\")\n",
    "rmse_train = evaluator_train_rmse.evaluate(predictions_validation)\n",
    "print(\"Root Mean Squared Error (RMSE) on train data = %g\" % rmse_train)\n",
    "\n",
    "evaluator_train_mae = RegressionEvaluator(\n",
    "    labelCol=\"label\", predictionCol=\"prediction\", metricName=\"mae\")\n",
    "mae_train = evaluator_train_mae.evaluate(predictions_validation)\n",
    "print(\"Mean Absolutee Error (MAE) on train data = %g\" % mae_train)"
   ]
  },
  {
   "cell_type": "code",
   "execution_count": 37,
   "metadata": {},
   "outputs": [
    {
     "data": {
      "text/html": [
       "<table border='1'>\n",
       "<tr><th>idx</th><th>name</th><th>score</th></tr>\n",
       "<tr><td>2081</td><td>no_of_customers</td><td>0.7728913228246239</td></tr>\n",
       "<tr><td>2084</td><td>total_earnings</td><td>0.12018637343537428</td></tr>\n",
       "<tr><td>2082</td><td>income_per_person</td><td>0.01819117331506711</td></tr>\n",
       "<tr><td>0</td><td>merchant_name_vec...</td><td>0.010906124748100212</td></tr>\n",
       "<tr><td>2</td><td>merchant_name_vec...</td><td>0.009304060195289543</td></tr>\n",
       "<tr><td>2079</td><td>males_in_SA2</td><td>0.00766412157028098</td></tr>\n",
       "<tr><td>2066</td><td>Month_vec_12</td><td>0.006715216883223568</td></tr>\n",
       "<tr><td>2083</td><td>take_rate</td><td>0.006413892437917029</td></tr>\n",
       "<tr><td>1</td><td>merchant_name_vec...</td><td>0.005814341361763084</td></tr>\n",
       "<tr><td>2080</td><td>females_in_SA2</td><td>0.00550944865680363</td></tr>\n",
       "<tr><td>2078</td><td>category_vec_Beau...</td><td>0.00452674877530539</td></tr>\n",
       "<tr><td>3</td><td>merchant_name_vec...</td><td>0.004285247139616026</td></tr>\n",
       "<tr><td>2070</td><td>revenue_levels_vec_c</td><td>0.003256294356978298</td></tr>\n",
       "<tr><td>975</td><td>SA2_code_vec_4060...</td><td>0.003184655851324...</td></tr>\n",
       "<tr><td>4</td><td>merchant_name_vec...</td><td>0.003145147768080583</td></tr>\n",
       "<tr><td>7</td><td>merchant_name_vec...</td><td>0.003066445705133...</td></tr>\n",
       "<tr><td>6</td><td>merchant_name_vec...</td><td>0.002488322757995...</td></tr>\n",
       "<tr><td>20</td><td>merchant_name_vec...</td><td>0.002253855421259184</td></tr>\n",
       "<tr><td>5</td><td>merchant_name_vec...</td><td>0.001507873899048...</td></tr>\n",
       "<tr><td>2065</td><td>Month_vec_10</td><td>0.001481746727108...</td></tr>\n",
       "</table>\n",
       "only showing top 20 rows\n"
      ],
      "text/plain": [
       "+----+--------------------+--------------------+\n",
       "| idx|                name|               score|\n",
       "+----+--------------------+--------------------+\n",
       "|2081|     no_of_customers|  0.7728913228246239|\n",
       "|2084|      total_earnings| 0.12018637343537428|\n",
       "|2082|   income_per_person| 0.01819117331506711|\n",
       "|   0|merchant_name_vec...|0.010906124748100212|\n",
       "|   2|merchant_name_vec...|0.009304060195289543|\n",
       "|2079|        males_in_SA2| 0.00766412157028098|\n",
       "|2066|        Month_vec_12|0.006715216883223568|\n",
       "|2083|           take_rate|0.006413892437917029|\n",
       "|   1|merchant_name_vec...|0.005814341361763084|\n",
       "|2080|      females_in_SA2| 0.00550944865680363|\n",
       "|2078|category_vec_Beau...| 0.00452674877530539|\n",
       "|   3|merchant_name_vec...|0.004285247139616026|\n",
       "|2070|revenue_levels_vec_c|0.003256294356978298|\n",
       "| 975|SA2_code_vec_4060...|0.003184655851324...|\n",
       "|   4|merchant_name_vec...|0.003145147768080583|\n",
       "|   7|merchant_name_vec...|0.003066445705133...|\n",
       "|   6|merchant_name_vec...|0.002488322757995...|\n",
       "|  20|merchant_name_vec...|0.002253855421259184|\n",
       "|   5|merchant_name_vec...|0.001507873899048...|\n",
       "|2065|        Month_vec_10|0.001481746727108...|\n",
       "+----+--------------------+--------------------+\n",
       "only showing top 20 rows"
      ]
     },
     "metadata": {},
     "output_type": "display_data"
    }
   ],
   "source": [
    "def ExtractFeatureImportance(featureImp, dataset, featuresCol):\n",
    "    list_extract = []\n",
    "    for i in dataset.schema[featuresCol].metadata[\"ml_attr\"][\"attrs\"]:\n",
    "        list_extract = list_extract + dataset.schema[featuresCol].metadata[\"ml_attr\"][\"attrs\"][i]\n",
    "    varlist = pd.DataFrame(list_extract)\n",
    "    varlist['score'] = varlist['idx'].apply(lambda x: featureImp[x])\n",
    "    return(varlist.sort_values('score', ascending = False))\n",
    "  \n",
    "  \n",
    "#ExtractFeatureImportance(model.stages[-1].featureImportances, dataset, \"features\")\n",
    "dataset_fi = ExtractFeatureImportance(model.featureImportances, predictions_validation, \"features\")\n",
    "dataset_fi = spark.createDataFrame(dataset_fi)\n",
    "display(dataset_fi)"
   ]
  },
  {
   "cell_type": "markdown",
   "metadata": {},
   "source": [
    "## Future predictions"
   ]
  },
  {
   "cell_type": "code",
   "execution_count": 38,
   "metadata": {},
   "outputs": [
    {
     "ename": "AnalysisException",
     "evalue": "Column 'r' does not exist. Did you mean one of the following? [edit.Year, edit.Month, edit.males, edit.females, edit.SA2_code, rates.category, rates.take_rate, rates.males_in_SA2, edit.merchant_name, edit.total_earnings, rates.females_in_SA2, edit.no_of_customers, rates.revenue_levels, rates.income_per_person];\n'Project ['r]\n+- Project [merchant_name#193, no_of_customers#2750L, SA2_code#608L, Year#1749, Month#1785, total_earnings#2751, males#2487L, females#2539L, take_rate#3842, revenue_levels#3844, category#3846, males_in_SA2#3848L, females_in_SA2#3850L, income_per_person#3852]\n   +- Project [merchant_name#193, no_of_customers#2750L, SA2_code#608L, Year#1749, Month#1785, total_earnings#2751, join_col#2752, m_name#2486, males#2487L, f_name#2538, females#2539L, drop_name#3840, take_rate#3842, revenue_levels#3844, category#3846, males_in_SA2#3848L, females_in_SA2#3850L, income_per_person#3852]\n      +- Join Inner, (merchant_name#193 = drop_name#3840)\n         :- SubqueryAlias edit\n         :  +- View (`edit`, [merchant_name#193,no_of_customers#2750L,SA2_code#608L,Year#1749,Month#1785,total_earnings#2751,join_col#2752,m_name#2486,males#2487L,f_name#2538,females#2539L])\n         :     +- Project [merchant_name#193, no_of_customers#2750L, SA2_code#608L, Year#1749, Month#1785, total_earnings#2751, join_col#2752, m_name#2486, males#2487L, f_name#2538, females#2539L]\n         :        +- Join Inner, (join_col#2752 = f_name#2538)\n         :           :- SubqueryAlias temp2\n         :           :  +- View (`temp2`, [merchant_name#193,no_of_customers#2750L,SA2_code#608L,Year#1749,Month#1785,total_earnings#2751,join_col#2752,m_name#2486,males#2487L])\n         :           :     +- Project [merchant_name#193, no_of_customers#2750L, SA2_code#608L, Year#1749, Month#1785, total_earnings#2751, join_col#2752, m_name#2486, males#2487L]\n         :           :        +- Join Inner, (join_col#2752 = m_name#2486)\n         :           :           :- SubqueryAlias gender_join\n         :           :           :  +- View (`gender_join`, [merchant_name#193,no_of_customers#2750L,SA2_code#608L,Year#1749,Month#1785,total_earnings#2751,join_col#2752])\n         :           :           :     +- Aggregate [merchant_name#193, SA2_code#608L, Year#1749, Month#1785], [merchant_name#193, count(distinct user_id#35L) AS no_of_customers#2750L, SA2_code#608L, Year#1749, Month#1785, sum((dollar_value#41 - percent#1714)) AS total_earnings#2751, concat(merchant_name#193, cast(SA2_code#608L as string), cast(Year#1749 as string), cast(Month#1785 as string)) AS join_col#2752]\n         :           :           :        +- SubqueryAlias agg\n         :           :           :           +- View (`agg`, [merchant_name#193,take_rate#175,revenue_levels#181,state#19,gender#21,dollar_value#41,user_id#35L,suburb#315,postcodes#316,long#247,lat#248,SA2_code#608L,income_2018-2019#610L,total_males#611L,total_females#612L,total_persons#613L,fraud_probability_consumer#1080,fraud_probability_merchant#1081,category#1561,percent#1714,Year#1749,Month#1785])\n         :           :           :              +- Project [merchant_name#193, take_rate#175, revenue_levels#181, state#19, gender#21, dollar_value#41, user_id#35L, suburb#315, postcodes#316, long#247, lat#248, SA2_code#608L, income_2018-2019#610L, total_males#611L, total_females#612L, total_persons#613L, fraud_probability_consumer#1080, fraud_probability_merchant#1081, category#1561, percent#1714, Year#1749, Month#1785]\n         :           :           :                 +- Project [merchant_name#193, merchant_abn#31L, categories#170, take_rate#175, revenue_levels#181, name#17, address#18, state#19, gender#21, trans_merchant_abn#214L, dollar_value#41, order_id#42, order_datetime#43, user_id#35L, consumer_id#36L, suburb#315, postcodes#316, long#247, lat#248, int_sa2#566, SA2_code#608L, SA2_name#609, income_2018-2019#610L, total_males#611L, ... 12 more fields]\n         :           :           :                    +- Project [merchant_name#193, merchant_abn#31L, categories#170, take_rate#175, revenue_levels#181, name#17, address#18, state#19, gender#21, trans_merchant_abn#214L, dollar_value#41, order_id#42, order_datetime#43, user_id#35L, consumer_id#36L, suburb#315, postcodes#316, long#247, lat#248, int_sa2#566, SA2_code#608L, SA2_name#609, income_2018-2019#610L, total_males#611L, ... 11 more fields]\n         :           :           :                       +- Project [merchant_name#193, merchant_abn#31L, categories#170, take_rate#175, revenue_levels#181, name#17, address#18, state#19, gender#21, trans_merchant_abn#214L, dollar_value#41, order_id#42, order_datetime#43, user_id#35L, consumer_id#36L, suburb#315, postcodes#316, long#247, lat#248, int_sa2#566, SA2_code#608L, SA2_name#609, income_2018-2019#610L, total_males#611L, ... 10 more fields]\n         :           :           :                          +- SubqueryAlias group\n         :           :           :                             +- View (`group`, [merchant_name#193,merchant_abn#31L,categories#170,take_rate#175,revenue_levels#181,name#17,address#18,state#19,gender#21,trans_merchant_abn#214L,dollar_value#41,order_id#42,order_datetime#43,user_id#35L,consumer_id#36L,suburb#315,postcodes#316,long#247,lat#248,int_sa2#566,SA2_code#608L,SA2_name#609,income_2018-2019#610L,total_males#611L,total_females#612L,total_persons#613L,state_code#614L,state_name#615,population_2020#616L,population_2021#617L,fraud_probability_consumer#1080,fraud_probability_merchant#1081,category#1561])\n         :           :           :                                +- Project [merchant_name#193, merchant_abn#31L, categories#170, take_rate#175, revenue_levels#181, name#17, address#18, state#19, gender#21, trans_merchant_abn#214L, dollar_value#41, order_id#42, order_datetime#43, user_id#35L, consumer_id#36L, suburb#315, postcodes#316, long#247, lat#248, int_sa2#566, SA2_code#608L, SA2_name#609, income_2018-2019#610L, total_males#611L, ... 9 more fields]\n         :           :           :                                   +- Project [merchant_name#193, merchant_abn#31L, categories#170, take_rate#175, revenue_levels#181, name#17, address#18, state#19, gender#21, trans_merchant_abn#214L, dollar_value#41, order_id#42, order_datetime#43, user_id#35L, consumer_id#36L, suburb#315, postcodes#316, long#247, lat#248, int_sa2#566, SA2_code#608L, SA2_name#609, income_2018-2019#610L, total_males#611L, ... 10 more fields]\n         :           :           :                                      +- Join Inner, (merchant_abn#31L = tagged_merchant_abn#1564L)\n         :           :           :                                         :- SubqueryAlias join\n         :           :           :                                         :  +- View (`join`, [merchant_name#193,merchant_abn#31L,categories#170,take_rate#175,revenue_levels#181,name#17,address#18,state#19,gender#21,trans_merchant_abn#214L,dollar_value#41,order_id#42,order_datetime#43,user_id#35L,consumer_id#36L,suburb#315,postcodes#316,long#247,lat#248,int_sa2#566,SA2_code#608L,SA2_name#609,income_2018-2019#610L,total_males#611L,total_females#612L,total_persons#613L,state_code#614L,state_name#615,population_2020#616L,population_2021#617L,fraud_probability_consumer#1080,fraud_probability_merchant#1081])\n         :           :           :                                         :     +- Filter isnotnull(gender#21)\n         :           :           :                                         :        +- Filter isnotnull(consumer_id#36L)\n         :           :           :                                         :           +- Filter (dollar_value#41 > cast(0 as double))\n         :           :           :                                         :              +- Filter isnotnull(merchant_abn#31L)\n         :           :           :                                         :                 +- Project [merchant_name#193, merchant_abn#31L, categories#170, take_rate#175, revenue_levels#181, name#17, address#18, state#19, gender#21, trans_merchant_abn#214L, dollar_value#41, order_id#42, order_datetime#43, user_id#35L, consumer_id#36L, suburb#315, postcodes#316, long#247, lat#248, int_sa2#566, SA2_code#608L, SA2_name#609, income_2018-2019#610L, total_males#611L, ... 8 more fields]\n         :           :           :                                         :                    +- Project [merchant_name#193, merchant_abn#31L, categories#170, take_rate#175, revenue_levels#181, name#17, address#18, state#19, gender#21, trans_merchant_abn#214L, dollar_value#41, order_id#42, order_datetime#43, user_id#35L, consumer_id#36L, suburb#315, postcodes#316, long#247, lat#248, int_sa2#566, SA2_code#608L, SA2_name#609, income_2018-2019#610L, total_males#611L, ... 8 more fields]\n         :           :           :                                         :                       +- Project [merchant_name#193, merchant_abn#31L, categories#170, take_rate#175, revenue_levels#181, name#17, address#18, state#19, gender#21, trans_merchant_abn#214L, dollar_value#41, order_id#42, order_datetime#43, user_id#35L, consumer_id#36L, suburb#315, postcodes#316, long#247, lat#248, int_sa2#566, SA2_code#608L, SA2_name#609, income_2018-2019#610L, total_males#611L, ... 8 more fields]\n         :           :           :                                         :                          +- Project [merchant_name#193, merchant_abn#31L, categories#170, take_rate#175, revenue_levels#181, name#17, address#18, state#19, gender#21, trans_merchant_abn#214L, dollar_value#41, order_id#42, order_datetime#43, user_id#35L, consumer_id#36L, suburb#315, postcodes#316, long#247, lat#248, int_sa2#566, SA2_code#608L, SA2_name#609, income_2018-2019#610L, total_males#611L, ... 8 more fields]\n         :           :           :                                         :                             +- Project [merchant_name#193, merchant_abn#31L, categories#170, take_rate#175, revenue_levels#181, name#17, address#18, state#19, gender#21, trans_merchant_abn#214L, dollar_value#41, order_id#42, order_datetime#43, user_id#35L, consumer_id#36L, suburb#315, postcodes#316, long#247, lat#248, int_sa2#566, SA2_code#608L, SA2_name#609, income_2018-2019#610L, total_males#611L, ... 8 more fields]\n         :           :           :                                         :                                +- Join LeftOuter, ((merchant_abn#31L = cast(merchant_abn#119 as bigint)) AND (order_datetime#43 = cast(order_datetime#120 as date)))\n         :           :           :                                         :                                   :- SubqueryAlias a\n         :           :           :                                         :                                   :  +- Project [merchant_name#193, merchant_abn#31L, categories#170, take_rate#175, revenue_levels#181, name#17, address#18, state#19, gender#21, trans_merchant_abn#214L, dollar_value#41, order_id#42, order_datetime#43, user_id#35L, consumer_id#36L, suburb#315, postcodes#316, long#247, lat#248, int_sa2#566, SA2_code#608L, SA2_name#609, income_2018-2019#610L, total_males#611L, ... 7 more fields]\n         :           :           :                                         :                                   :     +- Project [merchant_name#193, merchant_abn#31L, categories#170, take_rate#175, revenue_levels#181, name#17, address#18, state#19, gender#21, trans_merchant_abn#214L, dollar_value#41, order_id#42, order_datetime#43, user_id#35L, consumer_id#36L, suburb#315, postcodes#316, long#247, lat#248, int_sa2#566, SA2_code#608L, SA2_name#609, income_2018-2019#610L, total_males#611L, ... 7 more fields]\n         :           :           :                                         :                                   :        +- Join LeftOuter, ((user_id#35L = cast(user_id#96 as bigint)) AND (order_datetime#43 = cast(order_datetime#97 as date)))\n         :           :           :                                         :                                   :           :- SubqueryAlias a\n         :           :           :                                         :                                   :           :  +- Project [merchant_name#193, merchant_abn#31L, categories#170, take_rate#175, revenue_levels#181, name#17, address#18, state#19, gender#21, trans_merchant_abn#214L, dollar_value#41, order_id#42, order_datetime#43, user_id#35L, consumer_id#36L, suburb#315, postcodes#316, long#247, lat#248, int_sa2#566, SA2_code#608L, SA2_name#609, income_2018-2019#610L, total_males#611L, ... 6 more fields]\n         :           :           :                                         :                                   :           :     +- Join Inner, (cast(int_sa2#566 as bigint) = SA2_code#608L)\n         :           :           :                                         :                                   :           :        :- Project [merchant_name#193, merchant_abn#31L, categories#170, take_rate#175, revenue_levels#181, name#17, address#18, state#19, gender#21, trans_merchant_abn#214L, dollar_value#41, order_id#42, order_datetime#43, user_id#35L, consumer_id#36L, suburb#315, postcodes#316, long#247, lat#248, int_sa2#566]\n         :           :           :                                         :                                   :           :        :  +- Project [merchant_name#193, merchant_abn#31L, categories#170, take_rate#175, revenue_levels#181, name#17, address#18, state#19, gender#21, trans_merchant_abn#214L, dollar_value#41, order_id#42, order_datetime#43, user_id#35L, consumer_id#36L, suburb#315, postcodes#316, sa2#317, long#247, lat#248, cast(sa2#317 as int) AS int_sa2#566]\n         :           :           :                                         :                                   :           :        :     +- Project [merchant_name#193, merchant_abn#31L, categories#170, take_rate#175, revenue_levels#181, name#17, address#18, state#19, gender#21, trans_merchant_abn#214L, dollar_value#41, order_id#42, order_datetime#43, user_id#35L, consumer_id#36L, suburb#315, postcodes#316, sa2#317, long#247, lat#248]\n         :           :           :                                         :                                   :           :        :        +- Join Inner, (postcode#20 = postcodes#316)\n         :           :           :                                         :                                   :           :        :           :- Project [merchant_name#193, merchant_abn#31L, categories#170, take_rate#175, revenue_levels#181, name#17, address#18, state#19, postcode#20, gender#21, trans_merchant_abn#214L, dollar_value#41, order_id#42, order_datetime#43, user_id#35L, consumer_id#36L]\n         :           :           :                                         :                                   :           :        :           :  +- Project [merchant_name#193, merchant_abn#31L, categories#170, take_rate#175, revenue_levels#181, name#17, address#18, state#19, postcode#20, gender#21, trans_user_id#220L, trans_merchant_abn#214L, dollar_value#41, order_id#42, order_datetime#43, user_id#35L, consumer_id#36L]\n         :           :           :                                         :                                   :           :        :           :     +- Join FullOuter, (merchant_abn#31L = trans_merchant_abn#214L)\n         :           :           :                                         :                                   :           :        :           :        :- Project [name#29 AS merchant_name#193, merchant_abn#31L, categories#170, take_rate#175, revenue_levels#181]\n         :           :           :                                         :                                   :           :        :           :        :  +- Project [name#29, merchant_abn#31L, categories#170, take_rate#175, revenue_levels#181]\n         :           :           :                                         :                                   :           :        :           :        :     +- Project [name#29, tags#166, merchant_abn#31L, categories#170, take_rate#175, split(tags#166, [)\\]], [\\[(], -1)[1] AS revenue_levels#181]\n         :           :           :                                         :                                   :           :        :           :        :        +- Project [name#29, tags#166, merchant_abn#31L, categories#170, cast(split(tags#166, [)\\]], [\\[(]take rate: , -1)[1] as double) AS take_rate#175]\n         :           :           :                                         :                                   :           :        :           :        :           +- Project [name#29, tags#166, merchant_abn#31L, split(tags#166, [)\\]], [\\[(], -1)[0] AS categories#170]\n         :           :           :                                         :                                   :           :        :           :        :              +- Project [name#29, regexp_replace(tags#161, [\\[(][\\[(], , 1) AS tags#166, merchant_abn#31L]\n         :           :           :                                         :                                   :           :        :           :        :                 +- Project [name#29, regexp_replace(tags#30, [\\])][\\])], , 1) AS tags#161, merchant_abn#31L]\n         :           :           :                                         :                                   :           :        :           :        :                    +- Relation [name#29,tags#30,merchant_abn#31L] parquet\n         :           :           :                                         :                                   :           :        :           :        +- Join Inner, (int_consumer_id#199L = consumer_id#36L)\n         :           :           :                                         :                                   :           :        :           :           :- Project [name#17, address#18, state#19, postcode#20, gender#21, int_consumer_id#199L]\n         :           :           :                                         :                                   :           :        :           :           :  +- Project [name#17, address#18, state#19, postcode#20, gender#21, consumer_id#22, cast(consumer_id#22 as bigint) AS int_consumer_id#199L]\n         :           :           :                                         :                                   :           :        :           :           :     +- Relation [name#17,address#18,state#19,postcode#20,gender#21,consumer_id#22] csv\n         :           :           :                                         :                                   :           :        :           :           +- Join Inner, (trans_user_id#220L = user_id#35L)\n         :           :           :                                         :                                   :           :        :           :              :- Project [user_id#39L AS trans_user_id#220L, trans_merchant_abn#214L, dollar_value#41, order_id#42, order_datetime#43]\n         :           :           :                                         :                                   :           :        :           :              :  +- Project [user_id#39L, merchant_abn#40L AS trans_merchant_abn#214L, dollar_value#41, order_id#42, order_datetime#43]\n         :           :           :                                         :                                   :           :        :           :              :     +- Sort [order_datetime#43 ASC NULLS FIRST], true\n         :           :           :                                         :                                   :           :        :           :              :        +- Deduplicate [order_id#42, order_datetime#43, user_id#39L, dollar_value#41, merchant_abn#40L]\n         :           :           :                                         :                                   :           :        :           :              :           +- Union false, false\n         :           :           :                                         :                                   :           :        :           :              :              :- Deduplicate [order_id#42, order_datetime#43, user_id#39L, dollar_value#41, merchant_abn#40L]\n         :           :           :                                         :                                   :           :        :           :              :              :  +- Union false, false\n         :           :           :                                         :                                   :           :        :           :              :              :     :- Relation [user_id#39L,merchant_abn#40L,dollar_value#41,order_id#42,order_datetime#43] parquet\n         :           :           :                                         :                                   :           :        :           :              :              :     +- Relation [user_id#49L,merchant_abn#50L,dollar_value#51,order_id#52,order_datetime#53] parquet\n         :           :           :                                         :                                   :           :        :           :              :              +- Relation [user_id#59L,merchant_abn#60L,dollar_value#61,order_id#62,order_datetime#63] parquet\n         :           :           :                                         :                                   :           :        :           :              +- Relation [user_id#35L,consumer_id#36L] parquet\n         :           :           :                                         :                                   :           :        :           +- Deduplicate [postcodes#316]\n         :           :           :                                         :                                   :           :        :              +- Filter atleastnnonnulls(5, suburb#315, postcodes#316, sa2#317, long#247, lat#248)\n         :           :           :                                         :                                   :           :        :                 +- Project [locality#245 AS suburb#315, postcode#244 AS postcodes#316, SA2_MAINCODE_2016#261 AS sa2#317, long#247, lat#248]\n         :           :           :                                         :                                   :           :        :                    +- Relation [id#243,postcode#244,locality#245,state#246,long#247,lat#248,dc#249,type#250,status#251,sa3#252,sa3name#253,sa4#254,sa4name#255,region#256,Lat_precise#257,Long_precise#258,SA1_MAINCODE_2011#259,SA1_MAINCODE_2016#260,SA2_MAINCODE_2016#261,SA2_NAME_2016#262,SA3_CODE_2016#263,SA3_NAME_2016#264,SA4_CODE_2016#265,SA4_NAME_2016#266,... 12 more fields] csv\n         :           :           :                                         :                                   :           :        +- LogicalRDD [SA2_code#608L, SA2_name#609, income_2018-2019#610L, total_males#611L, total_females#612L, total_persons#613L, state_code#614L, state_name#615, population_2020#616L, population_2021#617L], false\n         :           :           :                                         :                                   :           +- SubqueryAlias b\n         :           :           :                                         :                                   :              +- Relation [user_id#96,order_datetime#97,fraud_probability#98] csv\n         :           :           :                                         :                                   +- SubqueryAlias b\n         :           :           :                                         :                                      +- Relation [merchant_abn#119,order_datetime#120,fraud_probability#121] csv\n         :           :           :                                         +- SubqueryAlias tagged\n         :           :           :                                            +- View (`tagged`, [tagged_merchant_abn#1564L,category#1561])\n         :           :           :                                               +- Project [merchant_abn#1560L AS tagged_merchant_abn#1564L, category#1561]\n         :           :           :                                                  +- Relation [merchant_abn#1560L,category#1561] parquet\n         :           :           +- SubqueryAlias m\n         :           :              +- View (`m`, [m_name#2486,males#2487L])\n         :           :                 +- Aggregate [merchant_name#193, SA2_code#2915L, Year#1749, Month#1785], [concat(merchant_name#193, cast(SA2_code#2915L as string), cast(Year#1749 as string), cast(Month#1785 as string)) AS m_name#2486, count(gender#2860) AS males#2487L]\n         :           :                    +- Filter (gender#2860 = Male)\n         :           :                       +- SubqueryAlias agg\n         :           :                          +- View (`agg`, [merchant_name#193,take_rate#175,revenue_levels#181,state#2858,gender#2860,dollar_value#2864,user_id#2877L,suburb#315,postcodes#316,long#2883,lat#2884,SA2_code#2915L,income_2018-2019#2917L,total_males#2918L,total_females#2919L,total_persons#2920L,fraud_probability_consumer#1080,fraud_probability_merchant#1081,category#2932,percent#1714,Year#1749,Month#1785])\n         :           :                             +- Project [merchant_name#193, take_rate#175, revenue_levels#181, state#2858, gender#2860, dollar_value#2864, user_id#2877L, suburb#315, postcodes#316, long#2883, lat#2884, SA2_code#2915L, income_2018-2019#2917L, total_males#2918L, total_females#2919L, total_persons#2920L, fraud_probability_consumer#1080, fraud_probability_merchant#1081, category#2932, percent#1714, Year#1749, Month#1785]\n         :           :                                +- Project [merchant_name#193, merchant_abn#2855L, categories#170, take_rate#175, revenue_levels#181, name#2856, address#2857, state#2858, gender#2860, trans_merchant_abn#214L, dollar_value#2864, order_id#2865, order_datetime#2866, user_id#2877L, consumer_id#2878L, suburb#315, postcodes#316, long#2883, lat#2884, int_sa2#566, SA2_code#2915L, SA2_name#2916, income_2018-2019#2917L, total_males#2918L, ... 12 more fields]\n         :           :                                   +- Project [merchant_name#193, merchant_abn#2855L, categories#170, take_rate#175, revenue_levels#181, name#2856, address#2857, state#2858, gender#2860, trans_merchant_abn#214L, dollar_value#2864, order_id#2865, order_datetime#2866, user_id#2877L, consumer_id#2878L, suburb#315, postcodes#316, long#2883, lat#2884, int_sa2#566, SA2_code#2915L, SA2_name#2916, income_2018-2019#2917L, total_males#2918L, ... 11 more fields]\n         :           :                                      +- Project [merchant_name#193, merchant_abn#2855L, categories#170, take_rate#175, revenue_levels#181, name#2856, address#2857, state#2858, gender#2860, trans_merchant_abn#214L, dollar_value#2864, order_id#2865, order_datetime#2866, user_id#2877L, consumer_id#2878L, suburb#315, postcodes#316, long#2883, lat#2884, int_sa2#566, SA2_code#2915L, SA2_name#2916, income_2018-2019#2917L, total_males#2918L, ... 10 more fields]\n         :           :                                         +- SubqueryAlias group\n         :           :                                            +- View (`group`, [merchant_name#193,merchant_abn#2855L,categories#170,take_rate#175,revenue_levels#181,name#2856,address#2857,state#2858,gender#2860,trans_merchant_abn#214L,dollar_value#2864,order_id#2865,order_datetime#2866,user_id#2877L,consumer_id#2878L,suburb#315,postcodes#316,long#2883,lat#2884,int_sa2#566,SA2_code#2915L,SA2_name#2916,income_2018-2019#2917L,total_males#2918L,total_females#2919L,total_persons#2920L,state_code#2921L,state_name#2922,population_2020#2923L,population_2021#2924L,fraud_probability_consumer#1080,fraud_probability_merchant#1081,category#2932])\n         :           :                                               +- Project [merchant_name#193, merchant_abn#2855L, categories#170, take_rate#175, revenue_levels#181, name#2856, address#2857, state#2858, gender#2860, trans_merchant_abn#214L, dollar_value#2864, order_id#2865, order_datetime#2866, user_id#2877L, consumer_id#2878L, suburb#315, postcodes#316, long#2883, lat#2884, int_sa2#566, SA2_code#2915L, SA2_name#2916, income_2018-2019#2917L, total_males#2918L, ... 9 more fields]\n         :           :                                                  +- Project [merchant_name#193, merchant_abn#2855L, categories#170, take_rate#175, revenue_levels#181, name#2856, address#2857, state#2858, gender#2860, trans_merchant_abn#214L, dollar_value#2864, order_id#2865, order_datetime#2866, user_id#2877L, consumer_id#2878L, suburb#315, postcodes#316, long#2883, lat#2884, int_sa2#566, SA2_code#2915L, SA2_name#2916, income_2018-2019#2917L, total_males#2918L, ... 10 more fields]\n         :           :                                                     +- Join Inner, (merchant_abn#2855L = tagged_merchant_abn#1564L)\n         :           :                                                        :- SubqueryAlias join\n         :           :                                                        :  +- View (`join`, [merchant_name#193,merchant_abn#2855L,categories#170,take_rate#175,revenue_levels#181,name#2856,address#2857,state#2858,gender#2860,trans_merchant_abn#214L,dollar_value#2864,order_id#2865,order_datetime#2866,user_id#2877L,consumer_id#2878L,suburb#315,postcodes#316,long#2883,lat#2884,int_sa2#566,SA2_code#2915L,SA2_name#2916,income_2018-2019#2917L,total_males#2918L,total_females#2919L,total_persons#2920L,state_code#2921L,state_name#2922,population_2020#2923L,population_2021#2924L,fraud_probability_consumer#1080,fraud_probability_merchant#1081])\n         :           :                                                        :     +- Filter isnotnull(gender#2860)\n         :           :                                                        :        +- Filter isnotnull(consumer_id#2878L)\n         :           :                                                        :           +- Filter (dollar_value#2864 > cast(0 as double))\n         :           :                                                        :              +- Filter isnotnull(merchant_abn#2855L)\n         :           :                                                        :                 +- Project [merchant_name#193, merchant_abn#2855L, categories#170, take_rate#175, revenue_levels#181, name#2856, address#2857, state#2858, gender#2860, trans_merchant_abn#214L, dollar_value#2864, order_id#2865, order_datetime#2866, user_id#2877L, consumer_id#2878L, suburb#315, postcodes#316, long#2883, lat#2884, int_sa2#566, SA2_code#2915L, SA2_name#2916, income_2018-2019#2917L, total_males#2918L, ... 8 more fields]\n         :           :                                                        :                    +- Project [merchant_name#193, merchant_abn#2855L, categories#170, take_rate#175, revenue_levels#181, name#2856, address#2857, state#2858, gender#2860, trans_merchant_abn#214L, dollar_value#2864, order_id#2865, order_datetime#2866, user_id#2877L, consumer_id#2878L, suburb#315, postcodes#316, long#2883, lat#2884, int_sa2#566, SA2_code#2915L, SA2_name#2916, income_2018-2019#2917L, total_males#2918L, ... 8 more fields]\n         :           :                                                        :                       +- Project [merchant_name#193, merchant_abn#2855L, categories#170, take_rate#175, revenue_levels#181, name#2856, address#2857, state#2858, gender#2860, trans_merchant_abn#214L, dollar_value#2864, order_id#2865, order_datetime#2866, user_id#2877L, consumer_id#2878L, suburb#315, postcodes#316, long#2883, lat#2884, int_sa2#566, SA2_code#2915L, SA2_name#2916, income_2018-2019#2917L, total_males#2918L, ... 8 more fields]\n         :           :                                                        :                          +- Project [merchant_name#193, merchant_abn#2855L, categories#170, take_rate#175, revenue_levels#181, name#2856, address#2857, state#2858, gender#2860, trans_merchant_abn#214L, dollar_value#2864, order_id#2865, order_datetime#2866, user_id#2877L, consumer_id#2878L, suburb#315, postcodes#316, long#2883, lat#2884, int_sa2#566, SA2_code#2915L, SA2_name#2916, income_2018-2019#2917L, total_males#2918L, ... 8 more fields]\n         :           :                                                        :                             +- Project [merchant_name#193, merchant_abn#2855L, categories#170, take_rate#175, revenue_levels#181, name#2856, address#2857, state#2858, gender#2860, trans_merchant_abn#214L, dollar_value#2864, order_id#2865, order_datetime#2866, user_id#2877L, consumer_id#2878L, suburb#315, postcodes#316, long#2883, lat#2884, int_sa2#566, SA2_code#2915L, SA2_name#2916, income_2018-2019#2917L, total_males#2918L, ... 8 more fields]\n         :           :                                                        :                                +- Join LeftOuter, ((merchant_abn#2855L = cast(merchant_abn#2928 as bigint)) AND (order_datetime#2866 = cast(order_datetime#2929 as date)))\n         :           :                                                        :                                   :- SubqueryAlias a\n         :           :                                                        :                                   :  +- Project [merchant_name#193, merchant_abn#2855L, categories#170, take_rate#175, revenue_levels#181, name#2856, address#2857, state#2858, gender#2860, trans_merchant_abn#214L, dollar_value#2864, order_id#2865, order_datetime#2866, user_id#2877L, consumer_id#2878L, suburb#315, postcodes#316, long#2883, lat#2884, int_sa2#566, SA2_code#2915L, SA2_name#2916, income_2018-2019#2917L, total_males#2918L, ... 7 more fields]\n         :           :                                                        :                                   :     +- Project [merchant_name#193, merchant_abn#2855L, categories#170, take_rate#175, revenue_levels#181, name#2856, address#2857, state#2858, gender#2860, trans_merchant_abn#214L, dollar_value#2864, order_id#2865, order_datetime#2866, user_id#2877L, consumer_id#2878L, suburb#315, postcodes#316, long#2883, lat#2884, int_sa2#566, SA2_code#2915L, SA2_name#2916, income_2018-2019#2917L, total_males#2918L, ... 7 more fields]\n         :           :                                                        :                                   :        +- Join LeftOuter, ((user_id#2877L = cast(user_id#2925 as bigint)) AND (order_datetime#2866 = cast(order_datetime#2926 as date)))\n         :           :                                                        :                                   :           :- SubqueryAlias a\n         :           :                                                        :                                   :           :  +- Project [merchant_name#193, merchant_abn#2855L, categories#170, take_rate#175, revenue_levels#181, name#2856, address#2857, state#2858, gender#2860, trans_merchant_abn#214L, dollar_value#2864, order_id#2865, order_datetime#2866, user_id#2877L, consumer_id#2878L, suburb#315, postcodes#316, long#2883, lat#2884, int_sa2#566, SA2_code#2915L, SA2_name#2916, income_2018-2019#2917L, total_males#2918L, ... 6 more fields]\n         :           :                                                        :                                   :           :     +- Join Inner, (cast(int_sa2#566 as bigint) = SA2_code#2915L)\n         :           :                                                        :                                   :           :        :- Project [merchant_name#193, merchant_abn#2855L, categories#170, take_rate#175, revenue_levels#181, name#2856, address#2857, state#2858, gender#2860, trans_merchant_abn#214L, dollar_value#2864, order_id#2865, order_datetime#2866, user_id#2877L, consumer_id#2878L, suburb#315, postcodes#316, long#2883, lat#2884, int_sa2#566]\n         :           :                                                        :                                   :           :        :  +- Project [merchant_name#193, merchant_abn#2855L, categories#170, take_rate#175, revenue_levels#181, name#2856, address#2857, state#2858, gender#2860, trans_merchant_abn#214L, dollar_value#2864, order_id#2865, order_datetime#2866, user_id#2877L, consumer_id#2878L, suburb#315, postcodes#316, sa2#317, long#2883, lat#2884, cast(sa2#317 as int) AS int_sa2#566]\n         :           :                                                        :                                   :           :        :     +- Project [merchant_name#193, merchant_abn#2855L, categories#170, take_rate#175, revenue_levels#181, name#2856, address#2857, state#2858, gender#2860, trans_merchant_abn#214L, dollar_value#2864, order_id#2865, order_datetime#2866, user_id#2877L, consumer_id#2878L, suburb#315, postcodes#316, sa2#317, long#2883, lat#2884]\n         :           :                                                        :                                   :           :        :        +- Join Inner, (postcode#2859 = postcodes#316)\n         :           :                                                        :                                   :           :        :           :- Project [merchant_name#193, merchant_abn#2855L, categories#170, take_rate#175, revenue_levels#181, name#2856, address#2857, state#2858, postcode#2859, gender#2860, trans_merchant_abn#214L, dollar_value#2864, order_id#2865, order_datetime#2866, user_id#2877L, consumer_id#2878L]\n         :           :                                                        :                                   :           :        :           :  +- Project [merchant_name#193, merchant_abn#2855L, categories#170, take_rate#175, revenue_levels#181, name#2856, address#2857, state#2858, postcode#2859, gender#2860, trans_user_id#220L, trans_merchant_abn#214L, dollar_value#2864, order_id#2865, order_datetime#2866, user_id#2877L, consumer_id#2878L]\n         :           :                                                        :                                   :           :        :           :     +- Join FullOuter, (merchant_abn#2855L = trans_merchant_abn#214L)\n         :           :                                                        :                                   :           :        :           :        :- Project [name#2853 AS merchant_name#193, merchant_abn#2855L, categories#170, take_rate#175, revenue_levels#181]\n         :           :                                                        :                                   :           :        :           :        :  +- Project [name#2853, merchant_abn#2855L, categories#170, take_rate#175, revenue_levels#181]\n         :           :                                                        :                                   :           :        :           :        :     +- Project [name#2853, tags#166, merchant_abn#2855L, categories#170, take_rate#175, split(tags#166, [)\\]], [\\[(], -1)[1] AS revenue_levels#181]\n         :           :                                                        :                                   :           :        :           :        :        +- Project [name#2853, tags#166, merchant_abn#2855L, categories#170, cast(split(tags#166, [)\\]], [\\[(]take rate: , -1)[1] as double) AS take_rate#175]\n         :           :                                                        :                                   :           :        :           :        :           +- Project [name#2853, tags#166, merchant_abn#2855L, split(tags#166, [)\\]], [\\[(], -1)[0] AS categories#170]\n         :           :                                                        :                                   :           :        :           :        :              +- Project [name#2853, regexp_replace(tags#161, [\\[(][\\[(], , 1) AS tags#166, merchant_abn#2855L]\n         :           :                                                        :                                   :           :        :           :        :                 +- Project [name#2853, regexp_replace(tags#2854, [\\])][\\])], , 1) AS tags#161, merchant_abn#2855L]\n         :           :                                                        :                                   :           :        :           :        :                    +- Relation [name#2853,tags#2854,merchant_abn#2855L] parquet\n         :           :                                                        :                                   :           :        :           :        +- Join Inner, (int_consumer_id#199L = consumer_id#2878L)\n         :           :                                                        :                                   :           :        :           :           :- Project [name#2856, address#2857, state#2858, postcode#2859, gender#2860, int_consumer_id#199L]\n         :           :                                                        :                                   :           :        :           :           :  +- Project [name#2856, address#2857, state#2858, postcode#2859, gender#2860, consumer_id#2861, cast(consumer_id#2861 as bigint) AS int_consumer_id#199L]\n         :           :                                                        :                                   :           :        :           :           :     +- Relation [name#2856,address#2857,state#2858,postcode#2859,gender#2860,consumer_id#2861] csv\n         :           :                                                        :                                   :           :        :           :           +- Join Inner, (trans_user_id#220L = user_id#2877L)\n         :           :                                                        :                                   :           :        :           :              :- Project [user_id#2862L AS trans_user_id#220L, trans_merchant_abn#214L, dollar_value#2864, order_id#2865, order_datetime#2866]\n         :           :                                                        :                                   :           :        :           :              :  +- Project [user_id#2862L, merchant_abn#2863L AS trans_merchant_abn#214L, dollar_value#2864, order_id#2865, order_datetime#2866]\n         :           :                                                        :                                   :           :        :           :              :     +- Sort [order_datetime#2866 ASC NULLS FIRST], true\n         :           :                                                        :                                   :           :        :           :              :        +- Deduplicate [order_id#2865, order_datetime#2866, user_id#2862L, dollar_value#2864, merchant_abn#2863L]\n         :           :                                                        :                                   :           :        :           :              :           +- Union false, false\n         :           :                                                        :                                   :           :        :           :              :              :- Deduplicate [order_id#2865, order_datetime#2866, user_id#2862L, dollar_value#2864, merchant_abn#2863L]\n         :           :                                                        :                                   :           :        :           :              :              :  +- Union false, false\n         :           :                                                        :                                   :           :        :           :              :              :     :- Relation [user_id#2862L,merchant_abn#2863L,dollar_value#2864,order_id#2865,order_datetime#2866] parquet\n         :           :                                                        :                                   :           :        :           :              :              :     +- Relation [user_id#2867L,merchant_abn#2868L,dollar_value#2869,order_id#2870,order_datetime#2871] parquet\n         :           :                                                        :                                   :           :        :           :              :              +- Relation [user_id#2872L,merchant_abn#2873L,dollar_value#2874,order_id#2875,order_datetime#2876] parquet\n         :           :                                                        :                                   :           :        :           :              +- Relation [user_id#2877L,consumer_id#2878L] parquet\n         :           :                                                        :                                   :           :        :           +- Deduplicate [postcodes#316]\n         :           :                                                        :                                   :           :        :              +- Filter atleastnnonnulls(5, suburb#315, postcodes#316, sa2#317, long#2883, lat#2884)\n         :           :                                                        :                                   :           :        :                 +- Project [locality#2881 AS suburb#315, postcode#2880 AS postcodes#316, SA2_MAINCODE_2016#2897 AS sa2#317, long#2883, lat#2884]\n         :           :                                                        :                                   :           :        :                    +- Relation [id#2879,postcode#2880,locality#2881,state#2882,long#2883,lat#2884,dc#2885,type#2886,status#2887,sa3#2888,sa3name#2889,sa4#2890,sa4name#2891,region#2892,Lat_precise#2893,Long_precise#2894,SA1_MAINCODE_2011#2895,SA1_MAINCODE_2016#2896,SA2_MAINCODE_2016#2897,SA2_NAME_2016#2898,SA3_CODE_2016#2899,SA3_NAME_2016#2900,SA4_CODE_2016#2901,SA4_NAME_2016#2902,... 12 more fields] csv\n         :           :                                                        :                                   :           :        +- LogicalRDD [SA2_code#2915L, SA2_name#2916, income_2018-2019#2917L, total_males#2918L, total_females#2919L, total_persons#2920L, state_code#2921L, state_name#2922, population_2020#2923L, population_2021#2924L], false\n         :           :                                                        :                                   :           +- SubqueryAlias b\n         :           :                                                        :                                   :              +- Relation [user_id#2925,order_datetime#2926,fraud_probability#2927] csv\n         :           :                                                        :                                   +- SubqueryAlias b\n         :           :                                                        :                                      +- Relation [merchant_abn#2928,order_datetime#2929,fraud_probability#2930] csv\n         :           :                                                        +- SubqueryAlias tagged\n         :           :                                                           +- View (`tagged`, [tagged_merchant_abn#1564L,category#2932])\n         :           :                                                              +- Project [merchant_abn#2931L AS tagged_merchant_abn#1564L, category#2932]\n         :           :                                                                 +- Relation [merchant_abn#2931L,category#2932] parquet\n         :           +- SubqueryAlias f\n         :              +- View (`f`, [f_name#2538,females#2539L])\n         :                 +- Aggregate [merchant_name#193, SA2_code#3011L, Year#1749, Month#1785], [concat(merchant_name#193, cast(SA2_code#3011L as string), cast(Year#1749 as string), cast(Month#1785 as string)) AS f_name#2538, count(gender#2956) AS females#2539L]\n         :                    +- Filter (gender#2956 = Female)\n         :                       +- SubqueryAlias agg\n         :                          +- View (`agg`, [merchant_name#193,take_rate#175,revenue_levels#181,state#2954,gender#2956,dollar_value#2960,user_id#2973L,suburb#315,postcodes#316,long#2979,lat#2980,SA2_code#3011L,income_2018-2019#3013L,total_males#3014L,total_females#3015L,total_persons#3016L,fraud_probability_consumer#1080,fraud_probability_merchant#1081,category#3028,percent#1714,Year#1749,Month#1785])\n         :                             +- Project [merchant_name#193, take_rate#175, revenue_levels#181, state#2954, gender#2956, dollar_value#2960, user_id#2973L, suburb#315, postcodes#316, long#2979, lat#2980, SA2_code#3011L, income_2018-2019#3013L, total_males#3014L, total_females#3015L, total_persons#3016L, fraud_probability_consumer#1080, fraud_probability_merchant#1081, category#3028, percent#1714, Year#1749, Month#1785]\n         :                                +- Project [merchant_name#193, merchant_abn#2951L, categories#170, take_rate#175, revenue_levels#181, name#2952, address#2953, state#2954, gender#2956, trans_merchant_abn#214L, dollar_value#2960, order_id#2961, order_datetime#2962, user_id#2973L, consumer_id#2974L, suburb#315, postcodes#316, long#2979, lat#2980, int_sa2#566, SA2_code#3011L, SA2_name#3012, income_2018-2019#3013L, total_males#3014L, ... 12 more fields]\n         :                                   +- Project [merchant_name#193, merchant_abn#2951L, categories#170, take_rate#175, revenue_levels#181, name#2952, address#2953, state#2954, gender#2956, trans_merchant_abn#214L, dollar_value#2960, order_id#2961, order_datetime#2962, user_id#2973L, consumer_id#2974L, suburb#315, postcodes#316, long#2979, lat#2980, int_sa2#566, SA2_code#3011L, SA2_name#3012, income_2018-2019#3013L, total_males#3014L, ... 11 more fields]\n         :                                      +- Project [merchant_name#193, merchant_abn#2951L, categories#170, take_rate#175, revenue_levels#181, name#2952, address#2953, state#2954, gender#2956, trans_merchant_abn#214L, dollar_value#2960, order_id#2961, order_datetime#2962, user_id#2973L, consumer_id#2974L, suburb#315, postcodes#316, long#2979, lat#2980, int_sa2#566, SA2_code#3011L, SA2_name#3012, income_2018-2019#3013L, total_males#3014L, ... 10 more fields]\n         :                                         +- SubqueryAlias group\n         :                                            +- View (`group`, [merchant_name#193,merchant_abn#2951L,categories#170,take_rate#175,revenue_levels#181,name#2952,address#2953,state#2954,gender#2956,trans_merchant_abn#214L,dollar_value#2960,order_id#2961,order_datetime#2962,user_id#2973L,consumer_id#2974L,suburb#315,postcodes#316,long#2979,lat#2980,int_sa2#566,SA2_code#3011L,SA2_name#3012,income_2018-2019#3013L,total_males#3014L,total_females#3015L,total_persons#3016L,state_code#3017L,state_name#3018,population_2020#3019L,population_2021#3020L,fraud_probability_consumer#1080,fraud_probability_merchant#1081,category#3028])\n         :                                               +- Project [merchant_name#193, merchant_abn#2951L, categories#170, take_rate#175, revenue_levels#181, name#2952, address#2953, state#2954, gender#2956, trans_merchant_abn#214L, dollar_value#2960, order_id#2961, order_datetime#2962, user_id#2973L, consumer_id#2974L, suburb#315, postcodes#316, long#2979, lat#2980, int_sa2#566, SA2_code#3011L, SA2_name#3012, income_2018-2019#3013L, total_males#3014L, ... 9 more fields]\n         :                                                  +- Project [merchant_name#193, merchant_abn#2951L, categories#170, take_rate#175, revenue_levels#181, name#2952, address#2953, state#2954, gender#2956, trans_merchant_abn#214L, dollar_value#2960, order_id#2961, order_datetime#2962, user_id#2973L, consumer_id#2974L, suburb#315, postcodes#316, long#2979, lat#2980, int_sa2#566, SA2_code#3011L, SA2_name#3012, income_2018-2019#3013L, total_males#3014L, ... 10 more fields]\n         :                                                     +- Join Inner, (merchant_abn#2951L = tagged_merchant_abn#1564L)\n         :                                                        :- SubqueryAlias join\n         :                                                        :  +- View (`join`, [merchant_name#193,merchant_abn#2951L,categories#170,take_rate#175,revenue_levels#181,name#2952,address#2953,state#2954,gender#2956,trans_merchant_abn#214L,dollar_value#2960,order_id#2961,order_datetime#2962,user_id#2973L,consumer_id#2974L,suburb#315,postcodes#316,long#2979,lat#2980,int_sa2#566,SA2_code#3011L,SA2_name#3012,income_2018-2019#3013L,total_males#3014L,total_females#3015L,total_persons#3016L,state_code#3017L,state_name#3018,population_2020#3019L,population_2021#3020L,fraud_probability_consumer#1080,fraud_probability_merchant#1081])\n         :                                                        :     +- Filter isnotnull(gender#2956)\n         :                                                        :        +- Filter isnotnull(consumer_id#2974L)\n         :                                                        :           +- Filter (dollar_value#2960 > cast(0 as double))\n         :                                                        :              +- Filter isnotnull(merchant_abn#2951L)\n         :                                                        :                 +- Project [merchant_name#193, merchant_abn#2951L, categories#170, take_rate#175, revenue_levels#181, name#2952, address#2953, state#2954, gender#2956, trans_merchant_abn#214L, dollar_value#2960, order_id#2961, order_datetime#2962, user_id#2973L, consumer_id#2974L, suburb#315, postcodes#316, long#2979, lat#2980, int_sa2#566, SA2_code#3011L, SA2_name#3012, income_2018-2019#3013L, total_males#3014L, ... 8 more fields]\n         :                                                        :                    +- Project [merchant_name#193, merchant_abn#2951L, categories#170, take_rate#175, revenue_levels#181, name#2952, address#2953, state#2954, gender#2956, trans_merchant_abn#214L, dollar_value#2960, order_id#2961, order_datetime#2962, user_id#2973L, consumer_id#2974L, suburb#315, postcodes#316, long#2979, lat#2980, int_sa2#566, SA2_code#3011L, SA2_name#3012, income_2018-2019#3013L, total_males#3014L, ... 8 more fields]\n         :                                                        :                       +- Project [merchant_name#193, merchant_abn#2951L, categories#170, take_rate#175, revenue_levels#181, name#2952, address#2953, state#2954, gender#2956, trans_merchant_abn#214L, dollar_value#2960, order_id#2961, order_datetime#2962, user_id#2973L, consumer_id#2974L, suburb#315, postcodes#316, long#2979, lat#2980, int_sa2#566, SA2_code#3011L, SA2_name#3012, income_2018-2019#3013L, total_males#3014L, ... 8 more fields]\n         :                                                        :                          +- Project [merchant_name#193, merchant_abn#2951L, categories#170, take_rate#175, revenue_levels#181, name#2952, address#2953, state#2954, gender#2956, trans_merchant_abn#214L, dollar_value#2960, order_id#2961, order_datetime#2962, user_id#2973L, consumer_id#2974L, suburb#315, postcodes#316, long#2979, lat#2980, int_sa2#566, SA2_code#3011L, SA2_name#3012, income_2018-2019#3013L, total_males#3014L, ... 8 more fields]\n         :                                                        :                             +- Project [merchant_name#193, merchant_abn#2951L, categories#170, take_rate#175, revenue_levels#181, name#2952, address#2953, state#2954, gender#2956, trans_merchant_abn#214L, dollar_value#2960, order_id#2961, order_datetime#2962, user_id#2973L, consumer_id#2974L, suburb#315, postcodes#316, long#2979, lat#2980, int_sa2#566, SA2_code#3011L, SA2_name#3012, income_2018-2019#3013L, total_males#3014L, ... 8 more fields]\n         :                                                        :                                +- Join LeftOuter, ((merchant_abn#2951L = cast(merchant_abn#3024 as bigint)) AND (order_datetime#2962 = cast(order_datetime#3025 as date)))\n         :                                                        :                                   :- SubqueryAlias a\n         :                                                        :                                   :  +- Project [merchant_name#193, merchant_abn#2951L, categories#170, take_rate#175, revenue_levels#181, name#2952, address#2953, state#2954, gender#2956, trans_merchant_abn#214L, dollar_value#2960, order_id#2961, order_datetime#2962, user_id#2973L, consumer_id#2974L, suburb#315, postcodes#316, long#2979, lat#2980, int_sa2#566, SA2_code#3011L, SA2_name#3012, income_2018-2019#3013L, total_males#3014L, ... 7 more fields]\n         :                                                        :                                   :     +- Project [merchant_name#193, merchant_abn#2951L, categories#170, take_rate#175, revenue_levels#181, name#2952, address#2953, state#2954, gender#2956, trans_merchant_abn#214L, dollar_value#2960, order_id#2961, order_datetime#2962, user_id#2973L, consumer_id#2974L, suburb#315, postcodes#316, long#2979, lat#2980, int_sa2#566, SA2_code#3011L, SA2_name#3012, income_2018-2019#3013L, total_males#3014L, ... 7 more fields]\n         :                                                        :                                   :        +- Join LeftOuter, ((user_id#2973L = cast(user_id#3021 as bigint)) AND (order_datetime#2962 = cast(order_datetime#3022 as date)))\n         :                                                        :                                   :           :- SubqueryAlias a\n         :                                                        :                                   :           :  +- Project [merchant_name#193, merchant_abn#2951L, categories#170, take_rate#175, revenue_levels#181, name#2952, address#2953, state#2954, gender#2956, trans_merchant_abn#214L, dollar_value#2960, order_id#2961, order_datetime#2962, user_id#2973L, consumer_id#2974L, suburb#315, postcodes#316, long#2979, lat#2980, int_sa2#566, SA2_code#3011L, SA2_name#3012, income_2018-2019#3013L, total_males#3014L, ... 6 more fields]\n         :                                                        :                                   :           :     +- Join Inner, (cast(int_sa2#566 as bigint) = SA2_code#3011L)\n         :                                                        :                                   :           :        :- Project [merchant_name#193, merchant_abn#2951L, categories#170, take_rate#175, revenue_levels#181, name#2952, address#2953, state#2954, gender#2956, trans_merchant_abn#214L, dollar_value#2960, order_id#2961, order_datetime#2962, user_id#2973L, consumer_id#2974L, suburb#315, postcodes#316, long#2979, lat#2980, int_sa2#566]\n         :                                                        :                                   :           :        :  +- Project [merchant_name#193, merchant_abn#2951L, categories#170, take_rate#175, revenue_levels#181, name#2952, address#2953, state#2954, gender#2956, trans_merchant_abn#214L, dollar_value#2960, order_id#2961, order_datetime#2962, user_id#2973L, consumer_id#2974L, suburb#315, postcodes#316, sa2#317, long#2979, lat#2980, cast(sa2#317 as int) AS int_sa2#566]\n         :                                                        :                                   :           :        :     +- Project [merchant_name#193, merchant_abn#2951L, categories#170, take_rate#175, revenue_levels#181, name#2952, address#2953, state#2954, gender#2956, trans_merchant_abn#214L, dollar_value#2960, order_id#2961, order_datetime#2962, user_id#2973L, consumer_id#2974L, suburb#315, postcodes#316, sa2#317, long#2979, lat#2980]\n         :                                                        :                                   :           :        :        +- Join Inner, (postcode#2955 = postcodes#316)\n         :                                                        :                                   :           :        :           :- Project [merchant_name#193, merchant_abn#2951L, categories#170, take_rate#175, revenue_levels#181, name#2952, address#2953, state#2954, postcode#2955, gender#2956, trans_merchant_abn#214L, dollar_value#2960, order_id#2961, order_datetime#2962, user_id#2973L, consumer_id#2974L]\n         :                                                        :                                   :           :        :           :  +- Project [merchant_name#193, merchant_abn#2951L, categories#170, take_rate#175, revenue_levels#181, name#2952, address#2953, state#2954, postcode#2955, gender#2956, trans_user_id#220L, trans_merchant_abn#214L, dollar_value#2960, order_id#2961, order_datetime#2962, user_id#2973L, consumer_id#2974L]\n         :                                                        :                                   :           :        :           :     +- Join FullOuter, (merchant_abn#2951L = trans_merchant_abn#214L)\n         :                                                        :                                   :           :        :           :        :- Project [name#2949 AS merchant_name#193, merchant_abn#2951L, categories#170, take_rate#175, revenue_levels#181]\n         :                                                        :                                   :           :        :           :        :  +- Project [name#2949, merchant_abn#2951L, categories#170, take_rate#175, revenue_levels#181]\n         :                                                        :                                   :           :        :           :        :     +- Project [name#2949, tags#166, merchant_abn#2951L, categories#170, take_rate#175, split(tags#166, [)\\]], [\\[(], -1)[1] AS revenue_levels#181]\n         :                                                        :                                   :           :        :           :        :        +- Project [name#2949, tags#166, merchant_abn#2951L, categories#170, cast(split(tags#166, [)\\]], [\\[(]take rate: , -1)[1] as double) AS take_rate#175]\n         :                                                        :                                   :           :        :           :        :           +- Project [name#2949, tags#166, merchant_abn#2951L, split(tags#166, [)\\]], [\\[(], -1)[0] AS categories#170]\n         :                                                        :                                   :           :        :           :        :              +- Project [name#2949, regexp_replace(tags#161, [\\[(][\\[(], , 1) AS tags#166, merchant_abn#2951L]\n         :                                                        :                                   :           :        :           :        :                 +- Project [name#2949, regexp_replace(tags#2950, [\\])][\\])], , 1) AS tags#161, merchant_abn#2951L]\n         :                                                        :                                   :           :        :           :        :                    +- Relation [name#2949,tags#2950,merchant_abn#2951L] parquet\n         :                                                        :                                   :           :        :           :        +- Join Inner, (int_consumer_id#199L = consumer_id#2974L)\n         :                                                        :                                   :           :        :           :           :- Project [name#2952, address#2953, state#2954, postcode#2955, gender#2956, int_consumer_id#199L]\n         :                                                        :                                   :           :        :           :           :  +- Project [name#2952, address#2953, state#2954, postcode#2955, gender#2956, consumer_id#2957, cast(consumer_id#2957 as bigint) AS int_consumer_id#199L]\n         :                                                        :                                   :           :        :           :           :     +- Relation [name#2952,address#2953,state#2954,postcode#2955,gender#2956,consumer_id#2957] csv\n         :                                                        :                                   :           :        :           :           +- Join Inner, (trans_user_id#220L = user_id#2973L)\n         :                                                        :                                   :           :        :           :              :- Project [user_id#2958L AS trans_user_id#220L, trans_merchant_abn#214L, dollar_value#2960, order_id#2961, order_datetime#2962]\n         :                                                        :                                   :           :        :           :              :  +- Project [user_id#2958L, merchant_abn#2959L AS trans_merchant_abn#214L, dollar_value#2960, order_id#2961, order_datetime#2962]\n         :                                                        :                                   :           :        :           :              :     +- Sort [order_datetime#2962 ASC NULLS FIRST], true\n         :                                                        :                                   :           :        :           :              :        +- Deduplicate [order_id#2961, order_datetime#2962, user_id#2958L, dollar_value#2960, merchant_abn#2959L]\n         :                                                        :                                   :           :        :           :              :           +- Union false, false\n         :                                                        :                                   :           :        :           :              :              :- Deduplicate [order_id#2961, order_datetime#2962, user_id#2958L, dollar_value#2960, merchant_abn#2959L]\n         :                                                        :                                   :           :        :           :              :              :  +- Union false, false\n         :                                                        :                                   :           :        :           :              :              :     :- Relation [user_id#2958L,merchant_abn#2959L,dollar_value#2960,order_id#2961,order_datetime#2962] parquet\n         :                                                        :                                   :           :        :           :              :              :     +- Relation [user_id#2963L,merchant_abn#2964L,dollar_value#2965,order_id#2966,order_datetime#2967] parquet\n         :                                                        :                                   :           :        :           :              :              +- Relation [user_id#2968L,merchant_abn#2969L,dollar_value#2970,order_id#2971,order_datetime#2972] parquet\n         :                                                        :                                   :           :        :           :              +- Relation [user_id#2973L,consumer_id#2974L] parquet\n         :                                                        :                                   :           :        :           +- Deduplicate [postcodes#316]\n         :                                                        :                                   :           :        :              +- Filter atleastnnonnulls(5, suburb#315, postcodes#316, sa2#317, long#2979, lat#2980)\n         :                                                        :                                   :           :        :                 +- Project [locality#2977 AS suburb#315, postcode#2976 AS postcodes#316, SA2_MAINCODE_2016#2993 AS sa2#317, long#2979, lat#2980]\n         :                                                        :                                   :           :        :                    +- Relation [id#2975,postcode#2976,locality#2977,state#2978,long#2979,lat#2980,dc#2981,type#2982,status#2983,sa3#2984,sa3name#2985,sa4#2986,sa4name#2987,region#2988,Lat_precise#2989,Long_precise#2990,SA1_MAINCODE_2011#2991,SA1_MAINCODE_2016#2992,SA2_MAINCODE_2016#2993,SA2_NAME_2016#2994,SA3_CODE_2016#2995,SA3_NAME_2016#2996,SA4_CODE_2016#2997,SA4_NAME_2016#2998,... 12 more fields] csv\n         :                                                        :                                   :           :        +- LogicalRDD [SA2_code#3011L, SA2_name#3012, income_2018-2019#3013L, total_males#3014L, total_females#3015L, total_persons#3016L, state_code#3017L, state_name#3018, population_2020#3019L, population_2021#3020L], false\n         :                                                        :                                   :           +- SubqueryAlias b\n         :                                                        :                                   :              +- Relation [user_id#3021,order_datetime#3022,fraud_probability#3023] csv\n         :                                                        :                                   +- SubqueryAlias b\n         :                                                        :                                      +- Relation [merchant_abn#3024,order_datetime#3025,fraud_probability#3026] csv\n         :                                                        +- SubqueryAlias tagged\n         :                                                           +- View (`tagged`, [tagged_merchant_abn#1564L,category#3028])\n         :                                                              +- Project [merchant_abn#3027L AS tagged_merchant_abn#1564L, category#3028]\n         :                                                                 +- Relation [merchant_abn#3027L,category#3028] parquet\n         +- SubqueryAlias rates\n            +- View (`rates`, [drop_name#3840,take_rate#3842,revenue_levels#3844,category#3846,males_in_SA2#3848L,females_in_SA2#3850L,income_per_person#3852])\n               +- Aggregate [merchant_name#193], [merchant_name#193 AS drop_name#3840, first(take_rate#175, false) AS take_rate#3842, first(revenue_levels#181, false) AS revenue_levels#3844, first(category#4096, false) AS category#3846, first(total_males#4082L, false) AS males_in_SA2#3848L, first(total_females#4083L, false) AS females_in_SA2#3850L, first(income_per_persons#3652, false) AS income_per_person#3852]\n                  +- SubqueryAlias features\n                     +- View (`features`, [merchant_name#193,take_rate#175,revenue_levels#181,state#4022,gender#4024,dollar_value#4028,user_id#4041L,suburb#315,postcodes#316,long#4047,lat#4048,SA2_code#4079L,income_2018_2019#3629L,total_males#4082L,total_females#4083L,total_persons#4084L,fraud_probability_consumer#1080,fraud_probability_merchant#1081,category#4096,percent#1714,Year#1749,Month#1785,income_per_persons#3652])\n                        +- Project [merchant_name#193, take_rate#175, revenue_levels#181, state#4022, gender#4024, dollar_value#4028, user_id#4041L, suburb#315, postcodes#316, long#4047, lat#4048, SA2_code#4079L, income_2018_2019#3629L, total_males#4082L, total_females#4083L, total_persons#4084L, fraud_probability_consumer#1080, fraud_probability_merchant#1081, category#4096, percent#1714, Year#1749, Month#1785, (cast(income_2018_2019#3629L as double) / cast(total_persons#4084L as double)) AS income_per_persons#3652]\n                           +- Project [merchant_name#193, take_rate#175, revenue_levels#181, state#4022, gender#4024, dollar_value#4028, user_id#4041L, suburb#315, postcodes#316, long#4047, lat#4048, SA2_code#4079L, income_2018-2019#4081L AS income_2018_2019#3629L, total_males#4082L, total_females#4083L, total_persons#4084L, fraud_probability_consumer#1080, fraud_probability_merchant#1081, category#4096, percent#1714, Year#1749, Month#1785]\n                              +- Project [merchant_name#193, take_rate#175, revenue_levels#181, state#4022, gender#4024, dollar_value#4028, user_id#4041L, suburb#315, postcodes#316, long#4047, lat#4048, SA2_code#4079L, income_2018-2019#4081L, total_males#4082L, total_females#4083L, total_persons#4084L, fraud_probability_consumer#1080, fraud_probability_merchant#1081, category#4096, percent#1714, Year#1749, Month#1785]\n                                 +- Project [merchant_name#193, merchant_abn#4019L, categories#170, take_rate#175, revenue_levels#181, name#4020, address#4021, state#4022, gender#4024, trans_merchant_abn#214L, dollar_value#4028, order_id#4029, order_datetime#4030, user_id#4041L, consumer_id#4042L, suburb#315, postcodes#316, long#4047, lat#4048, int_sa2#566, SA2_code#4079L, SA2_name#4080, income_2018-2019#4081L, total_males#4082L, ... 12 more fields]\n                                    +- Project [merchant_name#193, merchant_abn#4019L, categories#170, take_rate#175, revenue_levels#181, name#4020, address#4021, state#4022, gender#4024, trans_merchant_abn#214L, dollar_value#4028, order_id#4029, order_datetime#4030, user_id#4041L, consumer_id#4042L, suburb#315, postcodes#316, long#4047, lat#4048, int_sa2#566, SA2_code#4079L, SA2_name#4080, income_2018-2019#4081L, total_males#4082L, ... 11 more fields]\n                                       +- Project [merchant_name#193, merchant_abn#4019L, categories#170, take_rate#175, revenue_levels#181, name#4020, address#4021, state#4022, gender#4024, trans_merchant_abn#214L, dollar_value#4028, order_id#4029, order_datetime#4030, user_id#4041L, consumer_id#4042L, suburb#315, postcodes#316, long#4047, lat#4048, int_sa2#566, SA2_code#4079L, SA2_name#4080, income_2018-2019#4081L, total_males#4082L, ... 10 more fields]\n                                          +- SubqueryAlias group\n                                             +- View (`group`, [merchant_name#193,merchant_abn#4019L,categories#170,take_rate#175,revenue_levels#181,name#4020,address#4021,state#4022,gender#4024,trans_merchant_abn#214L,dollar_value#4028,order_id#4029,order_datetime#4030,user_id#4041L,consumer_id#4042L,suburb#315,postcodes#316,long#4047,lat#4048,int_sa2#566,SA2_code#4079L,SA2_name#4080,income_2018-2019#4081L,total_males#4082L,total_females#4083L,total_persons#4084L,state_code#4085L,state_name#4086,population_2020#4087L,population_2021#4088L,fraud_probability_consumer#1080,fraud_probability_merchant#1081,category#4096])\n                                                +- Project [merchant_name#193, merchant_abn#4019L, categories#170, take_rate#175, revenue_levels#181, name#4020, address#4021, state#4022, gender#4024, trans_merchant_abn#214L, dollar_value#4028, order_id#4029, order_datetime#4030, user_id#4041L, consumer_id#4042L, suburb#315, postcodes#316, long#4047, lat#4048, int_sa2#566, SA2_code#4079L, SA2_name#4080, income_2018-2019#4081L, total_males#4082L, ... 9 more fields]\n                                                   +- Project [merchant_name#193, merchant_abn#4019L, categories#170, take_rate#175, revenue_levels#181, name#4020, address#4021, state#4022, gender#4024, trans_merchant_abn#214L, dollar_value#4028, order_id#4029, order_datetime#4030, user_id#4041L, consumer_id#4042L, suburb#315, postcodes#316, long#4047, lat#4048, int_sa2#566, SA2_code#4079L, SA2_name#4080, income_2018-2019#4081L, total_males#4082L, ... 10 more fields]\n                                                      +- Join Inner, (merchant_abn#4019L = tagged_merchant_abn#1564L)\n                                                         :- SubqueryAlias join\n                                                         :  +- View (`join`, [merchant_name#193,merchant_abn#4019L,categories#170,take_rate#175,revenue_levels#181,name#4020,address#4021,state#4022,gender#4024,trans_merchant_abn#214L,dollar_value#4028,order_id#4029,order_datetime#4030,user_id#4041L,consumer_id#4042L,suburb#315,postcodes#316,long#4047,lat#4048,int_sa2#566,SA2_code#4079L,SA2_name#4080,income_2018-2019#4081L,total_males#4082L,total_females#4083L,total_persons#4084L,state_code#4085L,state_name#4086,population_2020#4087L,population_2021#4088L,fraud_probability_consumer#1080,fraud_probability_merchant#1081])\n                                                         :     +- Filter isnotnull(gender#4024)\n                                                         :        +- Filter isnotnull(consumer_id#4042L)\n                                                         :           +- Filter (dollar_value#4028 > cast(0 as double))\n                                                         :              +- Filter isnotnull(merchant_abn#4019L)\n                                                         :                 +- Project [merchant_name#193, merchant_abn#4019L, categories#170, take_rate#175, revenue_levels#181, name#4020, address#4021, state#4022, gender#4024, trans_merchant_abn#214L, dollar_value#4028, order_id#4029, order_datetime#4030, user_id#4041L, consumer_id#4042L, suburb#315, postcodes#316, long#4047, lat#4048, int_sa2#566, SA2_code#4079L, SA2_name#4080, income_2018-2019#4081L, total_males#4082L, ... 8 more fields]\n                                                         :                    +- Project [merchant_name#193, merchant_abn#4019L, categories#170, take_rate#175, revenue_levels#181, name#4020, address#4021, state#4022, gender#4024, trans_merchant_abn#214L, dollar_value#4028, order_id#4029, order_datetime#4030, user_id#4041L, consumer_id#4042L, suburb#315, postcodes#316, long#4047, lat#4048, int_sa2#566, SA2_code#4079L, SA2_name#4080, income_2018-2019#4081L, total_males#4082L, ... 8 more fields]\n                                                         :                       +- Project [merchant_name#193, merchant_abn#4019L, categories#170, take_rate#175, revenue_levels#181, name#4020, address#4021, state#4022, gender#4024, trans_merchant_abn#214L, dollar_value#4028, order_id#4029, order_datetime#4030, user_id#4041L, consumer_id#4042L, suburb#315, postcodes#316, long#4047, lat#4048, int_sa2#566, SA2_code#4079L, SA2_name#4080, income_2018-2019#4081L, total_males#4082L, ... 8 more fields]\n                                                         :                          +- Project [merchant_name#193, merchant_abn#4019L, categories#170, take_rate#175, revenue_levels#181, name#4020, address#4021, state#4022, gender#4024, trans_merchant_abn#214L, dollar_value#4028, order_id#4029, order_datetime#4030, user_id#4041L, consumer_id#4042L, suburb#315, postcodes#316, long#4047, lat#4048, int_sa2#566, SA2_code#4079L, SA2_name#4080, income_2018-2019#4081L, total_males#4082L, ... 8 more fields]\n                                                         :                             +- Project [merchant_name#193, merchant_abn#4019L, categories#170, take_rate#175, revenue_levels#181, name#4020, address#4021, state#4022, gender#4024, trans_merchant_abn#214L, dollar_value#4028, order_id#4029, order_datetime#4030, user_id#4041L, consumer_id#4042L, suburb#315, postcodes#316, long#4047, lat#4048, int_sa2#566, SA2_code#4079L, SA2_name#4080, income_2018-2019#4081L, total_males#4082L, ... 8 more fields]\n                                                         :                                +- Join LeftOuter, ((merchant_abn#4019L = cast(merchant_abn#4092 as bigint)) AND (order_datetime#4030 = cast(order_datetime#4093 as date)))\n                                                         :                                   :- SubqueryAlias a\n                                                         :                                   :  +- Project [merchant_name#193, merchant_abn#4019L, categories#170, take_rate#175, revenue_levels#181, name#4020, address#4021, state#4022, gender#4024, trans_merchant_abn#214L, dollar_value#4028, order_id#4029, order_datetime#4030, user_id#4041L, consumer_id#4042L, suburb#315, postcodes#316, long#4047, lat#4048, int_sa2#566, SA2_code#4079L, SA2_name#4080, income_2018-2019#4081L, total_males#4082L, ... 7 more fields]\n                                                         :                                   :     +- Project [merchant_name#193, merchant_abn#4019L, categories#170, take_rate#175, revenue_levels#181, name#4020, address#4021, state#4022, gender#4024, trans_merchant_abn#214L, dollar_value#4028, order_id#4029, order_datetime#4030, user_id#4041L, consumer_id#4042L, suburb#315, postcodes#316, long#4047, lat#4048, int_sa2#566, SA2_code#4079L, SA2_name#4080, income_2018-2019#4081L, total_males#4082L, ... 7 more fields]\n                                                         :                                   :        +- Join LeftOuter, ((user_id#4041L = cast(user_id#4089 as bigint)) AND (order_datetime#4030 = cast(order_datetime#4090 as date)))\n                                                         :                                   :           :- SubqueryAlias a\n                                                         :                                   :           :  +- Project [merchant_name#193, merchant_abn#4019L, categories#170, take_rate#175, revenue_levels#181, name#4020, address#4021, state#4022, gender#4024, trans_merchant_abn#214L, dollar_value#4028, order_id#4029, order_datetime#4030, user_id#4041L, consumer_id#4042L, suburb#315, postcodes#316, long#4047, lat#4048, int_sa2#566, SA2_code#4079L, SA2_name#4080, income_2018-2019#4081L, total_males#4082L, ... 6 more fields]\n                                                         :                                   :           :     +- Join Inner, (cast(int_sa2#566 as bigint) = SA2_code#4079L)\n                                                         :                                   :           :        :- Project [merchant_name#193, merchant_abn#4019L, categories#170, take_rate#175, revenue_levels#181, name#4020, address#4021, state#4022, gender#4024, trans_merchant_abn#214L, dollar_value#4028, order_id#4029, order_datetime#4030, user_id#4041L, consumer_id#4042L, suburb#315, postcodes#316, long#4047, lat#4048, int_sa2#566]\n                                                         :                                   :           :        :  +- Project [merchant_name#193, merchant_abn#4019L, categories#170, take_rate#175, revenue_levels#181, name#4020, address#4021, state#4022, gender#4024, trans_merchant_abn#214L, dollar_value#4028, order_id#4029, order_datetime#4030, user_id#4041L, consumer_id#4042L, suburb#315, postcodes#316, sa2#317, long#4047, lat#4048, cast(sa2#317 as int) AS int_sa2#566]\n                                                         :                                   :           :        :     +- Project [merchant_name#193, merchant_abn#4019L, categories#170, take_rate#175, revenue_levels#181, name#4020, address#4021, state#4022, gender#4024, trans_merchant_abn#214L, dollar_value#4028, order_id#4029, order_datetime#4030, user_id#4041L, consumer_id#4042L, suburb#315, postcodes#316, sa2#317, long#4047, lat#4048]\n                                                         :                                   :           :        :        +- Join Inner, (postcode#4023 = postcodes#316)\n                                                         :                                   :           :        :           :- Project [merchant_name#193, merchant_abn#4019L, categories#170, take_rate#175, revenue_levels#181, name#4020, address#4021, state#4022, postcode#4023, gender#4024, trans_merchant_abn#214L, dollar_value#4028, order_id#4029, order_datetime#4030, user_id#4041L, consumer_id#4042L]\n                                                         :                                   :           :        :           :  +- Project [merchant_name#193, merchant_abn#4019L, categories#170, take_rate#175, revenue_levels#181, name#4020, address#4021, state#4022, postcode#4023, gender#4024, trans_user_id#220L, trans_merchant_abn#214L, dollar_value#4028, order_id#4029, order_datetime#4030, user_id#4041L, consumer_id#4042L]\n                                                         :                                   :           :        :           :     +- Join FullOuter, (merchant_abn#4019L = trans_merchant_abn#214L)\n                                                         :                                   :           :        :           :        :- Project [name#4017 AS merchant_name#193, merchant_abn#4019L, categories#170, take_rate#175, revenue_levels#181]\n                                                         :                                   :           :        :           :        :  +- Project [name#4017, merchant_abn#4019L, categories#170, take_rate#175, revenue_levels#181]\n                                                         :                                   :           :        :           :        :     +- Project [name#4017, tags#166, merchant_abn#4019L, categories#170, take_rate#175, split(tags#166, [)\\]], [\\[(], -1)[1] AS revenue_levels#181]\n                                                         :                                   :           :        :           :        :        +- Project [name#4017, tags#166, merchant_abn#4019L, categories#170, cast(split(tags#166, [)\\]], [\\[(]take rate: , -1)[1] as double) AS take_rate#175]\n                                                         :                                   :           :        :           :        :           +- Project [name#4017, tags#166, merchant_abn#4019L, split(tags#166, [)\\]], [\\[(], -1)[0] AS categories#170]\n                                                         :                                   :           :        :           :        :              +- Project [name#4017, regexp_replace(tags#161, [\\[(][\\[(], , 1) AS tags#166, merchant_abn#4019L]\n                                                         :                                   :           :        :           :        :                 +- Project [name#4017, regexp_replace(tags#4018, [\\])][\\])], , 1) AS tags#161, merchant_abn#4019L]\n                                                         :                                   :           :        :           :        :                    +- Relation [name#4017,tags#4018,merchant_abn#4019L] parquet\n                                                         :                                   :           :        :           :        +- Join Inner, (int_consumer_id#199L = consumer_id#4042L)\n                                                         :                                   :           :        :           :           :- Project [name#4020, address#4021, state#4022, postcode#4023, gender#4024, int_consumer_id#199L]\n                                                         :                                   :           :        :           :           :  +- Project [name#4020, address#4021, state#4022, postcode#4023, gender#4024, consumer_id#4025, cast(consumer_id#4025 as bigint) AS int_consumer_id#199L]\n                                                         :                                   :           :        :           :           :     +- Relation [name#4020,address#4021,state#4022,postcode#4023,gender#4024,consumer_id#4025] csv\n                                                         :                                   :           :        :           :           +- Join Inner, (trans_user_id#220L = user_id#4041L)\n                                                         :                                   :           :        :           :              :- Project [user_id#4026L AS trans_user_id#220L, trans_merchant_abn#214L, dollar_value#4028, order_id#4029, order_datetime#4030]\n                                                         :                                   :           :        :           :              :  +- Project [user_id#4026L, merchant_abn#4027L AS trans_merchant_abn#214L, dollar_value#4028, order_id#4029, order_datetime#4030]\n                                                         :                                   :           :        :           :              :     +- Sort [order_datetime#4030 ASC NULLS FIRST], true\n                                                         :                                   :           :        :           :              :        +- Deduplicate [order_id#4029, order_datetime#4030, user_id#4026L, dollar_value#4028, merchant_abn#4027L]\n                                                         :                                   :           :        :           :              :           +- Union false, false\n                                                         :                                   :           :        :           :              :              :- Deduplicate [order_id#4029, order_datetime#4030, user_id#4026L, dollar_value#4028, merchant_abn#4027L]\n                                                         :                                   :           :        :           :              :              :  +- Union false, false\n                                                         :                                   :           :        :           :              :              :     :- Relation [user_id#4026L,merchant_abn#4027L,dollar_value#4028,order_id#4029,order_datetime#4030] parquet\n                                                         :                                   :           :        :           :              :              :     +- Relation [user_id#4031L,merchant_abn#4032L,dollar_value#4033,order_id#4034,order_datetime#4035] parquet\n                                                         :                                   :           :        :           :              :              +- Relation [user_id#4036L,merchant_abn#4037L,dollar_value#4038,order_id#4039,order_datetime#4040] parquet\n                                                         :                                   :           :        :           :              +- Relation [user_id#4041L,consumer_id#4042L] parquet\n                                                         :                                   :           :        :           +- Deduplicate [postcodes#316]\n                                                         :                                   :           :        :              +- Filter atleastnnonnulls(5, suburb#315, postcodes#316, sa2#317, long#4047, lat#4048)\n                                                         :                                   :           :        :                 +- Project [locality#4045 AS suburb#315, postcode#4044 AS postcodes#316, SA2_MAINCODE_2016#4061 AS sa2#317, long#4047, lat#4048]\n                                                         :                                   :           :        :                    +- Relation [id#4043,postcode#4044,locality#4045,state#4046,long#4047,lat#4048,dc#4049,type#4050,status#4051,sa3#4052,sa3name#4053,sa4#4054,sa4name#4055,region#4056,Lat_precise#4057,Long_precise#4058,SA1_MAINCODE_2011#4059,SA1_MAINCODE_2016#4060,SA2_MAINCODE_2016#4061,SA2_NAME_2016#4062,SA3_CODE_2016#4063,SA3_NAME_2016#4064,SA4_CODE_2016#4065,SA4_NAME_2016#4066,... 12 more fields] csv\n                                                         :                                   :           :        +- LogicalRDD [SA2_code#4079L, SA2_name#4080, income_2018-2019#4081L, total_males#4082L, total_females#4083L, total_persons#4084L, state_code#4085L, state_name#4086, population_2020#4087L, population_2021#4088L], false\n                                                         :                                   :           +- SubqueryAlias b\n                                                         :                                   :              +- Relation [user_id#4089,order_datetime#4090,fraud_probability#4091] csv\n                                                         :                                   +- SubqueryAlias b\n                                                         :                                      +- Relation [merchant_abn#4092,order_datetime#4093,fraud_probability#4094] csv\n                                                         +- SubqueryAlias tagged\n                                                            +- View (`tagged`, [tagged_merchant_abn#1564L,category#4096])\n                                                               +- Project [merchant_abn#4095L AS tagged_merchant_abn#1564L, category#4096]\n                                                                  +- Relation [merchant_abn#4095L,category#4096] parquet\n",
     "output_type": "error",
     "traceback": [
      "\u001b[0;31m---------------------------------------------------------------------------\u001b[0m",
      "\u001b[0;31mAnalysisException\u001b[0m                         Traceback (most recent call last)",
      "\u001b[1;32m/Users/Kasturi/Documents/GitHub/generic-buy-now-pay-later-project-group-10-bnpl/notebooks/Predicted Customers Model.ipynb Cell 39\u001b[0m in \u001b[0;36m<cell line: 1>\u001b[0;34m()\u001b[0m\n\u001b[0;32m----> <a href='vscode-notebook-cell:/Users/Kasturi/Documents/GitHub/generic-buy-now-pay-later-project-group-10-bnpl/notebooks/Predicted%20Customers%20Model.ipynb#X60sZmlsZQ%3D%3D?line=0'>1</a>\u001b[0m latest_year \u001b[39m=\u001b[39m train\u001b[39m.\u001b[39;49mselect(\u001b[39mmax\u001b[39;49m(\u001b[39m'\u001b[39;49m\u001b[39mYear\u001b[39;49m\u001b[39m'\u001b[39;49m))\u001b[39m.\u001b[39mcollect()[\u001b[39m0\u001b[39m][\u001b[39m0\u001b[39m]\n\u001b[1;32m      <a href='vscode-notebook-cell:/Users/Kasturi/Documents/GitHub/generic-buy-now-pay-later-project-group-10-bnpl/notebooks/Predicted%20Customers%20Model.ipynb#X60sZmlsZQ%3D%3D?line=1'>2</a>\u001b[0m agg_month_1 \u001b[39m=\u001b[39m train\u001b[39m.\u001b[39mfilter(train\u001b[39m.\u001b[39mYear \u001b[39m==\u001b[39m latest_year)\n\u001b[1;32m      <a href='vscode-notebook-cell:/Users/Kasturi/Documents/GitHub/generic-buy-now-pay-later-project-group-10-bnpl/notebooks/Predicted%20Customers%20Model.ipynb#X60sZmlsZQ%3D%3D?line=2'>3</a>\u001b[0m latest_month \u001b[39m=\u001b[39m agg_month_1\u001b[39m.\u001b[39mselect(\u001b[39mmax\u001b[39m(\u001b[39m'\u001b[39m\u001b[39mMonth\u001b[39m\u001b[39m'\u001b[39m))\u001b[39m.\u001b[39mcollect()[\u001b[39m0\u001b[39m][\u001b[39m0\u001b[39m]\n",
      "File \u001b[0;32m~/opt/anaconda3/lib/python3.9/site-packages/pyspark/sql/dataframe.py:2023\u001b[0m, in \u001b[0;36mDataFrame.select\u001b[0;34m(self, *cols)\u001b[0m\n\u001b[1;32m   2002\u001b[0m \u001b[39mdef\u001b[39;00m \u001b[39mselect\u001b[39m(\u001b[39mself\u001b[39m, \u001b[39m*\u001b[39mcols: \u001b[39m\"\u001b[39m\u001b[39mColumnOrName\u001b[39m\u001b[39m\"\u001b[39m) \u001b[39m-\u001b[39m\u001b[39m>\u001b[39m \u001b[39m\"\u001b[39m\u001b[39mDataFrame\u001b[39m\u001b[39m\"\u001b[39m:  \u001b[39m# type: ignore[misc]\u001b[39;00m\n\u001b[1;32m   2003\u001b[0m     \u001b[39m\"\"\"Projects a set of expressions and returns a new :class:`DataFrame`.\u001b[39;00m\n\u001b[1;32m   2004\u001b[0m \n\u001b[1;32m   2005\u001b[0m \u001b[39m    .. versionadded:: 1.3.0\u001b[39;00m\n\u001b[0;32m   (...)\u001b[0m\n\u001b[1;32m   2021\u001b[0m \u001b[39m    [Row(name='Alice', age=12), Row(name='Bob', age=15)]\u001b[39;00m\n\u001b[1;32m   2022\u001b[0m \u001b[39m    \"\"\"\u001b[39;00m\n\u001b[0;32m-> 2023\u001b[0m     jdf \u001b[39m=\u001b[39m \u001b[39mself\u001b[39;49m\u001b[39m.\u001b[39;49m_jdf\u001b[39m.\u001b[39;49mselect(\u001b[39mself\u001b[39;49m\u001b[39m.\u001b[39;49m_jcols(\u001b[39m*\u001b[39;49mcols))\n\u001b[1;32m   2024\u001b[0m     \u001b[39mreturn\u001b[39;00m DataFrame(jdf, \u001b[39mself\u001b[39m\u001b[39m.\u001b[39msparkSession)\n",
      "File \u001b[0;32m~/opt/anaconda3/lib/python3.9/site-packages/py4j/java_gateway.py:1321\u001b[0m, in \u001b[0;36mJavaMember.__call__\u001b[0;34m(self, *args)\u001b[0m\n\u001b[1;32m   1315\u001b[0m command \u001b[39m=\u001b[39m proto\u001b[39m.\u001b[39mCALL_COMMAND_NAME \u001b[39m+\u001b[39m\\\n\u001b[1;32m   1316\u001b[0m     \u001b[39mself\u001b[39m\u001b[39m.\u001b[39mcommand_header \u001b[39m+\u001b[39m\\\n\u001b[1;32m   1317\u001b[0m     args_command \u001b[39m+\u001b[39m\\\n\u001b[1;32m   1318\u001b[0m     proto\u001b[39m.\u001b[39mEND_COMMAND_PART\n\u001b[1;32m   1320\u001b[0m answer \u001b[39m=\u001b[39m \u001b[39mself\u001b[39m\u001b[39m.\u001b[39mgateway_client\u001b[39m.\u001b[39msend_command(command)\n\u001b[0;32m-> 1321\u001b[0m return_value \u001b[39m=\u001b[39m get_return_value(\n\u001b[1;32m   1322\u001b[0m     answer, \u001b[39mself\u001b[39;49m\u001b[39m.\u001b[39;49mgateway_client, \u001b[39mself\u001b[39;49m\u001b[39m.\u001b[39;49mtarget_id, \u001b[39mself\u001b[39;49m\u001b[39m.\u001b[39;49mname)\n\u001b[1;32m   1324\u001b[0m \u001b[39mfor\u001b[39;00m temp_arg \u001b[39min\u001b[39;00m temp_args:\n\u001b[1;32m   1325\u001b[0m     temp_arg\u001b[39m.\u001b[39m_detach()\n",
      "File \u001b[0;32m~/opt/anaconda3/lib/python3.9/site-packages/pyspark/sql/utils.py:196\u001b[0m, in \u001b[0;36mcapture_sql_exception.<locals>.deco\u001b[0;34m(*a, **kw)\u001b[0m\n\u001b[1;32m    192\u001b[0m converted \u001b[39m=\u001b[39m convert_exception(e\u001b[39m.\u001b[39mjava_exception)\n\u001b[1;32m    193\u001b[0m \u001b[39mif\u001b[39;00m \u001b[39mnot\u001b[39;00m \u001b[39misinstance\u001b[39m(converted, UnknownException):\n\u001b[1;32m    194\u001b[0m     \u001b[39m# Hide where the exception came from that shows a non-Pythonic\u001b[39;00m\n\u001b[1;32m    195\u001b[0m     \u001b[39m# JVM exception message.\u001b[39;00m\n\u001b[0;32m--> 196\u001b[0m     \u001b[39mraise\u001b[39;00m converted \u001b[39mfrom\u001b[39;00m \u001b[39mNone\u001b[39m\n\u001b[1;32m    197\u001b[0m \u001b[39melse\u001b[39;00m:\n\u001b[1;32m    198\u001b[0m     \u001b[39mraise\u001b[39;00m\n",
      "\u001b[0;31mAnalysisException\u001b[0m: Column 'r' does not exist. Did you mean one of the following? [edit.Year, edit.Month, edit.males, edit.females, edit.SA2_code, rates.category, rates.take_rate, rates.males_in_SA2, edit.merchant_name, edit.total_earnings, rates.females_in_SA2, edit.no_of_customers, rates.revenue_levels, rates.income_per_person];\n'Project ['r]\n+- Project [merchant_name#193, no_of_customers#2750L, SA2_code#608L, Year#1749, Month#1785, total_earnings#2751, males#2487L, females#2539L, take_rate#3842, revenue_levels#3844, category#3846, males_in_SA2#3848L, females_in_SA2#3850L, income_per_person#3852]\n   +- Project [merchant_name#193, no_of_customers#2750L, SA2_code#608L, Year#1749, Month#1785, total_earnings#2751, join_col#2752, m_name#2486, males#2487L, f_name#2538, females#2539L, drop_name#3840, take_rate#3842, revenue_levels#3844, category#3846, males_in_SA2#3848L, females_in_SA2#3850L, income_per_person#3852]\n      +- Join Inner, (merchant_name#193 = drop_name#3840)\n         :- SubqueryAlias edit\n         :  +- View (`edit`, [merchant_name#193,no_of_customers#2750L,SA2_code#608L,Year#1749,Month#1785,total_earnings#2751,join_col#2752,m_name#2486,males#2487L,f_name#2538,females#2539L])\n         :     +- Project [merchant_name#193, no_of_customers#2750L, SA2_code#608L, Year#1749, Month#1785, total_earnings#2751, join_col#2752, m_name#2486, males#2487L, f_name#2538, females#2539L]\n         :        +- Join Inner, (join_col#2752 = f_name#2538)\n         :           :- SubqueryAlias temp2\n         :           :  +- View (`temp2`, [merchant_name#193,no_of_customers#2750L,SA2_code#608L,Year#1749,Month#1785,total_earnings#2751,join_col#2752,m_name#2486,males#2487L])\n         :           :     +- Project [merchant_name#193, no_of_customers#2750L, SA2_code#608L, Year#1749, Month#1785, total_earnings#2751, join_col#2752, m_name#2486, males#2487L]\n         :           :        +- Join Inner, (join_col#2752 = m_name#2486)\n         :           :           :- SubqueryAlias gender_join\n         :           :           :  +- View (`gender_join`, [merchant_name#193,no_of_customers#2750L,SA2_code#608L,Year#1749,Month#1785,total_earnings#2751,join_col#2752])\n         :           :           :     +- Aggregate [merchant_name#193, SA2_code#608L, Year#1749, Month#1785], [merchant_name#193, count(distinct user_id#35L) AS no_of_customers#2750L, SA2_code#608L, Year#1749, Month#1785, sum((dollar_value#41 - percent#1714)) AS total_earnings#2751, concat(merchant_name#193, cast(SA2_code#608L as string), cast(Year#1749 as string), cast(Month#1785 as string)) AS join_col#2752]\n         :           :           :        +- SubqueryAlias agg\n         :           :           :           +- View (`agg`, [merchant_name#193,take_rate#175,revenue_levels#181,state#19,gender#21,dollar_value#41,user_id#35L,suburb#315,postcodes#316,long#247,lat#248,SA2_code#608L,income_2018-2019#610L,total_males#611L,total_females#612L,total_persons#613L,fraud_probability_consumer#1080,fraud_probability_merchant#1081,category#1561,percent#1714,Year#1749,Month#1785])\n         :           :           :              +- Project [merchant_name#193, take_rate#175, revenue_levels#181, state#19, gender#21, dollar_value#41, user_id#35L, suburb#315, postcodes#316, long#247, lat#248, SA2_code#608L, income_2018-2019#610L, total_males#611L, total_females#612L, total_persons#613L, fraud_probability_consumer#1080, fraud_probability_merchant#1081, category#1561, percent#1714, Year#1749, Month#1785]\n         :           :           :                 +- Project [merchant_name#193, merchant_abn#31L, categories#170, take_rate#175, revenue_levels#181, name#17, address#18, state#19, gender#21, trans_merchant_abn#214L, dollar_value#41, order_id#42, order_datetime#43, user_id#35L, consumer_id#36L, suburb#315, postcodes#316, long#247, lat#248, int_sa2#566, SA2_code#608L, SA2_name#609, income_2018-2019#610L, total_males#611L, ... 12 more fields]\n         :           :           :                    +- Project [merchant_name#193, merchant_abn#31L, categories#170, take_rate#175, revenue_levels#181, name#17, address#18, state#19, gender#21, trans_merchant_abn#214L, dollar_value#41, order_id#42, order_datetime#43, user_id#35L, consumer_id#36L, suburb#315, postcodes#316, long#247, lat#248, int_sa2#566, SA2_code#608L, SA2_name#609, income_2018-2019#610L, total_males#611L, ... 11 more fields]\n         :           :           :                       +- Project [merchant_name#193, merchant_abn#31L, categories#170, take_rate#175, revenue_levels#181, name#17, address#18, state#19, gender#21, trans_merchant_abn#214L, dollar_value#41, order_id#42, order_datetime#43, user_id#35L, consumer_id#36L, suburb#315, postcodes#316, long#247, lat#248, int_sa2#566, SA2_code#608L, SA2_name#609, income_2018-2019#610L, total_males#611L, ... 10 more fields]\n         :           :           :                          +- SubqueryAlias group\n         :           :           :                             +- View (`group`, [merchant_name#193,merchant_abn#31L,categories#170,take_rate#175,revenue_levels#181,name#17,address#18,state#19,gender#21,trans_merchant_abn#214L,dollar_value#41,order_id#42,order_datetime#43,user_id#35L,consumer_id#36L,suburb#315,postcodes#316,long#247,lat#248,int_sa2#566,SA2_code#608L,SA2_name#609,income_2018-2019#610L,total_males#611L,total_females#612L,total_persons#613L,state_code#614L,state_name#615,population_2020#616L,population_2021#617L,fraud_probability_consumer#1080,fraud_probability_merchant#1081,category#1561])\n         :           :           :                                +- Project [merchant_name#193, merchant_abn#31L, categories#170, take_rate#175, revenue_levels#181, name#17, address#18, state#19, gender#21, trans_merchant_abn#214L, dollar_value#41, order_id#42, order_datetime#43, user_id#35L, consumer_id#36L, suburb#315, postcodes#316, long#247, lat#248, int_sa2#566, SA2_code#608L, SA2_name#609, income_2018-2019#610L, total_males#611L, ... 9 more fields]\n         :           :           :                                   +- Project [merchant_name#193, merchant_abn#31L, categories#170, take_rate#175, revenue_levels#181, name#17, address#18, state#19, gender#21, trans_merchant_abn#214L, dollar_value#41, order_id#42, order_datetime#43, user_id#35L, consumer_id#36L, suburb#315, postcodes#316, long#247, lat#248, int_sa2#566, SA2_code#608L, SA2_name#609, income_2018-2019#610L, total_males#611L, ... 10 more fields]\n         :           :           :                                      +- Join Inner, (merchant_abn#31L = tagged_merchant_abn#1564L)\n         :           :           :                                         :- SubqueryAlias join\n         :           :           :                                         :  +- View (`join`, [merchant_name#193,merchant_abn#31L,categories#170,take_rate#175,revenue_levels#181,name#17,address#18,state#19,gender#21,trans_merchant_abn#214L,dollar_value#41,order_id#42,order_datetime#43,user_id#35L,consumer_id#36L,suburb#315,postcodes#316,long#247,lat#248,int_sa2#566,SA2_code#608L,SA2_name#609,income_2018-2019#610L,total_males#611L,total_females#612L,total_persons#613L,state_code#614L,state_name#615,population_2020#616L,population_2021#617L,fraud_probability_consumer#1080,fraud_probability_merchant#1081])\n         :           :           :                                         :     +- Filter isnotnull(gender#21)\n         :           :           :                                         :        +- Filter isnotnull(consumer_id#36L)\n         :           :           :                                         :           +- Filter (dollar_value#41 > cast(0 as double))\n         :           :           :                                         :              +- Filter isnotnull(merchant_abn#31L)\n         :           :           :                                         :                 +- Project [merchant_name#193, merchant_abn#31L, categories#170, take_rate#175, revenue_levels#181, name#17, address#18, state#19, gender#21, trans_merchant_abn#214L, dollar_value#41, order_id#42, order_datetime#43, user_id#35L, consumer_id#36L, suburb#315, postcodes#316, long#247, lat#248, int_sa2#566, SA2_code#608L, SA2_name#609, income_2018-2019#610L, total_males#611L, ... 8 more fields]\n         :           :           :                                         :                    +- Project [merchant_name#193, merchant_abn#31L, categories#170, take_rate#175, revenue_levels#181, name#17, address#18, state#19, gender#21, trans_merchant_abn#214L, dollar_value#41, order_id#42, order_datetime#43, user_id#35L, consumer_id#36L, suburb#315, postcodes#316, long#247, lat#248, int_sa2#566, SA2_code#608L, SA2_name#609, income_2018-2019#610L, total_males#611L, ... 8 more fields]\n         :           :           :                                         :                       +- Project [merchant_name#193, merchant_abn#31L, categories#170, take_rate#175, revenue_levels#181, name#17, address#18, state#19, gender#21, trans_merchant_abn#214L, dollar_value#41, order_id#42, order_datetime#43, user_id#35L, consumer_id#36L, suburb#315, postcodes#316, long#247, lat#248, int_sa2#566, SA2_code#608L, SA2_name#609, income_2018-2019#610L, total_males#611L, ... 8 more fields]\n         :           :           :                                         :                          +- Project [merchant_name#193, merchant_abn#31L, categories#170, take_rate#175, revenue_levels#181, name#17, address#18, state#19, gender#21, trans_merchant_abn#214L, dollar_value#41, order_id#42, order_datetime#43, user_id#35L, consumer_id#36L, suburb#315, postcodes#316, long#247, lat#248, int_sa2#566, SA2_code#608L, SA2_name#609, income_2018-2019#610L, total_males#611L, ... 8 more fields]\n         :           :           :                                         :                             +- Project [merchant_name#193, merchant_abn#31L, categories#170, take_rate#175, revenue_levels#181, name#17, address#18, state#19, gender#21, trans_merchant_abn#214L, dollar_value#41, order_id#42, order_datetime#43, user_id#35L, consumer_id#36L, suburb#315, postcodes#316, long#247, lat#248, int_sa2#566, SA2_code#608L, SA2_name#609, income_2018-2019#610L, total_males#611L, ... 8 more fields]\n         :           :           :                                         :                                +- Join LeftOuter, ((merchant_abn#31L = cast(merchant_abn#119 as bigint)) AND (order_datetime#43 = cast(order_datetime#120 as date)))\n         :           :           :                                         :                                   :- SubqueryAlias a\n         :           :           :                                         :                                   :  +- Project [merchant_name#193, merchant_abn#31L, categories#170, take_rate#175, revenue_levels#181, name#17, address#18, state#19, gender#21, trans_merchant_abn#214L, dollar_value#41, order_id#42, order_datetime#43, user_id#35L, consumer_id#36L, suburb#315, postcodes#316, long#247, lat#248, int_sa2#566, SA2_code#608L, SA2_name#609, income_2018-2019#610L, total_males#611L, ... 7 more fields]\n         :           :           :                                         :                                   :     +- Project [merchant_name#193, merchant_abn#31L, categories#170, take_rate#175, revenue_levels#181, name#17, address#18, state#19, gender#21, trans_merchant_abn#214L, dollar_value#41, order_id#42, order_datetime#43, user_id#35L, consumer_id#36L, suburb#315, postcodes#316, long#247, lat#248, int_sa2#566, SA2_code#608L, SA2_name#609, income_2018-2019#610L, total_males#611L, ... 7 more fields]\n         :           :           :                                         :                                   :        +- Join LeftOuter, ((user_id#35L = cast(user_id#96 as bigint)) AND (order_datetime#43 = cast(order_datetime#97 as date)))\n         :           :           :                                         :                                   :           :- SubqueryAlias a\n         :           :           :                                         :                                   :           :  +- Project [merchant_name#193, merchant_abn#31L, categories#170, take_rate#175, revenue_levels#181, name#17, address#18, state#19, gender#21, trans_merchant_abn#214L, dollar_value#41, order_id#42, order_datetime#43, user_id#35L, consumer_id#36L, suburb#315, postcodes#316, long#247, lat#248, int_sa2#566, SA2_code#608L, SA2_name#609, income_2018-2019#610L, total_males#611L, ... 6 more fields]\n         :           :           :                                         :                                   :           :     +- Join Inner, (cast(int_sa2#566 as bigint) = SA2_code#608L)\n         :           :           :                                         :                                   :           :        :- Project [merchant_name#193, merchant_abn#31L, categories#170, take_rate#175, revenue_levels#181, name#17, address#18, state#19, gender#21, trans_merchant_abn#214L, dollar_value#41, order_id#42, order_datetime#43, user_id#35L, consumer_id#36L, suburb#315, postcodes#316, long#247, lat#248, int_sa2#566]\n         :           :           :                                         :                                   :           :        :  +- Project [merchant_name#193, merchant_abn#31L, categories#170, take_rate#175, revenue_levels#181, name#17, address#18, state#19, gender#21, trans_merchant_abn#214L, dollar_value#41, order_id#42, order_datetime#43, user_id#35L, consumer_id#36L, suburb#315, postcodes#316, sa2#317, long#247, lat#248, cast(sa2#317 as int) AS int_sa2#566]\n         :           :           :                                         :                                   :           :        :     +- Project [merchant_name#193, merchant_abn#31L, categories#170, take_rate#175, revenue_levels#181, name#17, address#18, state#19, gender#21, trans_merchant_abn#214L, dollar_value#41, order_id#42, order_datetime#43, user_id#35L, consumer_id#36L, suburb#315, postcodes#316, sa2#317, long#247, lat#248]\n         :           :           :                                         :                                   :           :        :        +- Join Inner, (postcode#20 = postcodes#316)\n         :           :           :                                         :                                   :           :        :           :- Project [merchant_name#193, merchant_abn#31L, categories#170, take_rate#175, revenue_levels#181, name#17, address#18, state#19, postcode#20, gender#21, trans_merchant_abn#214L, dollar_value#41, order_id#42, order_datetime#43, user_id#35L, consumer_id#36L]\n         :           :           :                                         :                                   :           :        :           :  +- Project [merchant_name#193, merchant_abn#31L, categories#170, take_rate#175, revenue_levels#181, name#17, address#18, state#19, postcode#20, gender#21, trans_user_id#220L, trans_merchant_abn#214L, dollar_value#41, order_id#42, order_datetime#43, user_id#35L, consumer_id#36L]\n         :           :           :                                         :                                   :           :        :           :     +- Join FullOuter, (merchant_abn#31L = trans_merchant_abn#214L)\n         :           :           :                                         :                                   :           :        :           :        :- Project [name#29 AS merchant_name#193, merchant_abn#31L, categories#170, take_rate#175, revenue_levels#181]\n         :           :           :                                         :                                   :           :        :           :        :  +- Project [name#29, merchant_abn#31L, categories#170, take_rate#175, revenue_levels#181]\n         :           :           :                                         :                                   :           :        :           :        :     +- Project [name#29, tags#166, merchant_abn#31L, categories#170, take_rate#175, split(tags#166, [)\\]], [\\[(], -1)[1] AS revenue_levels#181]\n         :           :           :                                         :                                   :           :        :           :        :        +- Project [name#29, tags#166, merchant_abn#31L, categories#170, cast(split(tags#166, [)\\]], [\\[(]take rate: , -1)[1] as double) AS take_rate#175]\n         :           :           :                                         :                                   :           :        :           :        :           +- Project [name#29, tags#166, merchant_abn#31L, split(tags#166, [)\\]], [\\[(], -1)[0] AS categories#170]\n         :           :           :                                         :                                   :           :        :           :        :              +- Project [name#29, regexp_replace(tags#161, [\\[(][\\[(], , 1) AS tags#166, merchant_abn#31L]\n         :           :           :                                         :                                   :           :        :           :        :                 +- Project [name#29, regexp_replace(tags#30, [\\])][\\])], , 1) AS tags#161, merchant_abn#31L]\n         :           :           :                                         :                                   :           :        :           :        :                    +- Relation [name#29,tags#30,merchant_abn#31L] parquet\n         :           :           :                                         :                                   :           :        :           :        +- Join Inner, (int_consumer_id#199L = consumer_id#36L)\n         :           :           :                                         :                                   :           :        :           :           :- Project [name#17, address#18, state#19, postcode#20, gender#21, int_consumer_id#199L]\n         :           :           :                                         :                                   :           :        :           :           :  +- Project [name#17, address#18, state#19, postcode#20, gender#21, consumer_id#22, cast(consumer_id#22 as bigint) AS int_consumer_id#199L]\n         :           :           :                                         :                                   :           :        :           :           :     +- Relation [name#17,address#18,state#19,postcode#20,gender#21,consumer_id#22] csv\n         :           :           :                                         :                                   :           :        :           :           +- Join Inner, (trans_user_id#220L = user_id#35L)\n         :           :           :                                         :                                   :           :        :           :              :- Project [user_id#39L AS trans_user_id#220L, trans_merchant_abn#214L, dollar_value#41, order_id#42, order_datetime#43]\n         :           :           :                                         :                                   :           :        :           :              :  +- Project [user_id#39L, merchant_abn#40L AS trans_merchant_abn#214L, dollar_value#41, order_id#42, order_datetime#43]\n         :           :           :                                         :                                   :           :        :           :              :     +- Sort [order_datetime#43 ASC NULLS FIRST], true\n         :           :           :                                         :                                   :           :        :           :              :        +- Deduplicate [order_id#42, order_datetime#43, user_id#39L, dollar_value#41, merchant_abn#40L]\n         :           :           :                                         :                                   :           :        :           :              :           +- Union false, false\n         :           :           :                                         :                                   :           :        :           :              :              :- Deduplicate [order_id#42, order_datetime#43, user_id#39L, dollar_value#41, merchant_abn#40L]\n         :           :           :                                         :                                   :           :        :           :              :              :  +- Union false, false\n         :           :           :                                         :                                   :           :        :           :              :              :     :- Relation [user_id#39L,merchant_abn#40L,dollar_value#41,order_id#42,order_datetime#43] parquet\n         :           :           :                                         :                                   :           :        :           :              :              :     +- Relation [user_id#49L,merchant_abn#50L,dollar_value#51,order_id#52,order_datetime#53] parquet\n         :           :           :                                         :                                   :           :        :           :              :              +- Relation [user_id#59L,merchant_abn#60L,dollar_value#61,order_id#62,order_datetime#63] parquet\n         :           :           :                                         :                                   :           :        :           :              +- Relation [user_id#35L,consumer_id#36L] parquet\n         :           :           :                                         :                                   :           :        :           +- Deduplicate [postcodes#316]\n         :           :           :                                         :                                   :           :        :              +- Filter atleastnnonnulls(5, suburb#315, postcodes#316, sa2#317, long#247, lat#248)\n         :           :           :                                         :                                   :           :        :                 +- Project [locality#245 AS suburb#315, postcode#244 AS postcodes#316, SA2_MAINCODE_2016#261 AS sa2#317, long#247, lat#248]\n         :           :           :                                         :                                   :           :        :                    +- Relation [id#243,postcode#244,locality#245,state#246,long#247,lat#248,dc#249,type#250,status#251,sa3#252,sa3name#253,sa4#254,sa4name#255,region#256,Lat_precise#257,Long_precise#258,SA1_MAINCODE_2011#259,SA1_MAINCODE_2016#260,SA2_MAINCODE_2016#261,SA2_NAME_2016#262,SA3_CODE_2016#263,SA3_NAME_2016#264,SA4_CODE_2016#265,SA4_NAME_2016#266,... 12 more fields] csv\n         :           :           :                                         :                                   :           :        +- LogicalRDD [SA2_code#608L, SA2_name#609, income_2018-2019#610L, total_males#611L, total_females#612L, total_persons#613L, state_code#614L, state_name#615, population_2020#616L, population_2021#617L], false\n         :           :           :                                         :                                   :           +- SubqueryAlias b\n         :           :           :                                         :                                   :              +- Relation [user_id#96,order_datetime#97,fraud_probability#98] csv\n         :           :           :                                         :                                   +- SubqueryAlias b\n         :           :           :                                         :                                      +- Relation [merchant_abn#119,order_datetime#120,fraud_probability#121] csv\n         :           :           :                                         +- SubqueryAlias tagged\n         :           :           :                                            +- View (`tagged`, [tagged_merchant_abn#1564L,category#1561])\n         :           :           :                                               +- Project [merchant_abn#1560L AS tagged_merchant_abn#1564L, category#1561]\n         :           :           :                                                  +- Relation [merchant_abn#1560L,category#1561] parquet\n         :           :           +- SubqueryAlias m\n         :           :              +- View (`m`, [m_name#2486,males#2487L])\n         :           :                 +- Aggregate [merchant_name#193, SA2_code#2915L, Year#1749, Month#1785], [concat(merchant_name#193, cast(SA2_code#2915L as string), cast(Year#1749 as string), cast(Month#1785 as string)) AS m_name#2486, count(gender#2860) AS males#2487L]\n         :           :                    +- Filter (gender#2860 = Male)\n         :           :                       +- SubqueryAlias agg\n         :           :                          +- View (`agg`, [merchant_name#193,take_rate#175,revenue_levels#181,state#2858,gender#2860,dollar_value#2864,user_id#2877L,suburb#315,postcodes#316,long#2883,lat#2884,SA2_code#2915L,income_2018-2019#2917L,total_males#2918L,total_females#2919L,total_persons#2920L,fraud_probability_consumer#1080,fraud_probability_merchant#1081,category#2932,percent#1714,Year#1749,Month#1785])\n         :           :                             +- Project [merchant_name#193, take_rate#175, revenue_levels#181, state#2858, gender#2860, dollar_value#2864, user_id#2877L, suburb#315, postcodes#316, long#2883, lat#2884, SA2_code#2915L, income_2018-2019#2917L, total_males#2918L, total_females#2919L, total_persons#2920L, fraud_probability_consumer#1080, fraud_probability_merchant#1081, category#2932, percent#1714, Year#1749, Month#1785]\n         :           :                                +- Project [merchant_name#193, merchant_abn#2855L, categories#170, take_rate#175, revenue_levels#181, name#2856, address#2857, state#2858, gender#2860, trans_merchant_abn#214L, dollar_value#2864, order_id#2865, order_datetime#2866, user_id#2877L, consumer_id#2878L, suburb#315, postcodes#316, long#2883, lat#2884, int_sa2#566, SA2_code#2915L, SA2_name#2916, income_2018-2019#2917L, total_males#2918L, ... 12 more fields]\n         :           :                                   +- Project [merchant_name#193, merchant_abn#2855L, categories#170, take_rate#175, revenue_levels#181, name#2856, address#2857, state#2858, gender#2860, trans_merchant_abn#214L, dollar_value#2864, order_id#2865, order_datetime#2866, user_id#2877L, consumer_id#2878L, suburb#315, postcodes#316, long#2883, lat#2884, int_sa2#566, SA2_code#2915L, SA2_name#2916, income_2018-2019#2917L, total_males#2918L, ... 11 more fields]\n         :           :                                      +- Project [merchant_name#193, merchant_abn#2855L, categories#170, take_rate#175, revenue_levels#181, name#2856, address#2857, state#2858, gender#2860, trans_merchant_abn#214L, dollar_value#2864, order_id#2865, order_datetime#2866, user_id#2877L, consumer_id#2878L, suburb#315, postcodes#316, long#2883, lat#2884, int_sa2#566, SA2_code#2915L, SA2_name#2916, income_2018-2019#2917L, total_males#2918L, ... 10 more fields]\n         :           :                                         +- SubqueryAlias group\n         :           :                                            +- View (`group`, [merchant_name#193,merchant_abn#2855L,categories#170,take_rate#175,revenue_levels#181,name#2856,address#2857,state#2858,gender#2860,trans_merchant_abn#214L,dollar_value#2864,order_id#2865,order_datetime#2866,user_id#2877L,consumer_id#2878L,suburb#315,postcodes#316,long#2883,lat#2884,int_sa2#566,SA2_code#2915L,SA2_name#2916,income_2018-2019#2917L,total_males#2918L,total_females#2919L,total_persons#2920L,state_code#2921L,state_name#2922,population_2020#2923L,population_2021#2924L,fraud_probability_consumer#1080,fraud_probability_merchant#1081,category#2932])\n         :           :                                               +- Project [merchant_name#193, merchant_abn#2855L, categories#170, take_rate#175, revenue_levels#181, name#2856, address#2857, state#2858, gender#2860, trans_merchant_abn#214L, dollar_value#2864, order_id#2865, order_datetime#2866, user_id#2877L, consumer_id#2878L, suburb#315, postcodes#316, long#2883, lat#2884, int_sa2#566, SA2_code#2915L, SA2_name#2916, income_2018-2019#2917L, total_males#2918L, ... 9 more fields]\n         :           :                                                  +- Project [merchant_name#193, merchant_abn#2855L, categories#170, take_rate#175, revenue_levels#181, name#2856, address#2857, state#2858, gender#2860, trans_merchant_abn#214L, dollar_value#2864, order_id#2865, order_datetime#2866, user_id#2877L, consumer_id#2878L, suburb#315, postcodes#316, long#2883, lat#2884, int_sa2#566, SA2_code#2915L, SA2_name#2916, income_2018-2019#2917L, total_males#2918L, ... 10 more fields]\n         :           :                                                     +- Join Inner, (merchant_abn#2855L = tagged_merchant_abn#1564L)\n         :           :                                                        :- SubqueryAlias join\n         :           :                                                        :  +- View (`join`, [merchant_name#193,merchant_abn#2855L,categories#170,take_rate#175,revenue_levels#181,name#2856,address#2857,state#2858,gender#2860,trans_merchant_abn#214L,dollar_value#2864,order_id#2865,order_datetime#2866,user_id#2877L,consumer_id#2878L,suburb#315,postcodes#316,long#2883,lat#2884,int_sa2#566,SA2_code#2915L,SA2_name#2916,income_2018-2019#2917L,total_males#2918L,total_females#2919L,total_persons#2920L,state_code#2921L,state_name#2922,population_2020#2923L,population_2021#2924L,fraud_probability_consumer#1080,fraud_probability_merchant#1081])\n         :           :                                                        :     +- Filter isnotnull(gender#2860)\n         :           :                                                        :        +- Filter isnotnull(consumer_id#2878L)\n         :           :                                                        :           +- Filter (dollar_value#2864 > cast(0 as double))\n         :           :                                                        :              +- Filter isnotnull(merchant_abn#2855L)\n         :           :                                                        :                 +- Project [merchant_name#193, merchant_abn#2855L, categories#170, take_rate#175, revenue_levels#181, name#2856, address#2857, state#2858, gender#2860, trans_merchant_abn#214L, dollar_value#2864, order_id#2865, order_datetime#2866, user_id#2877L, consumer_id#2878L, suburb#315, postcodes#316, long#2883, lat#2884, int_sa2#566, SA2_code#2915L, SA2_name#2916, income_2018-2019#2917L, total_males#2918L, ... 8 more fields]\n         :           :                                                        :                    +- Project [merchant_name#193, merchant_abn#2855L, categories#170, take_rate#175, revenue_levels#181, name#2856, address#2857, state#2858, gender#2860, trans_merchant_abn#214L, dollar_value#2864, order_id#2865, order_datetime#2866, user_id#2877L, consumer_id#2878L, suburb#315, postcodes#316, long#2883, lat#2884, int_sa2#566, SA2_code#2915L, SA2_name#2916, income_2018-2019#2917L, total_males#2918L, ... 8 more fields]\n         :           :                                                        :                       +- Project [merchant_name#193, merchant_abn#2855L, categories#170, take_rate#175, revenue_levels#181, name#2856, address#2857, state#2858, gender#2860, trans_merchant_abn#214L, dollar_value#2864, order_id#2865, order_datetime#2866, user_id#2877L, consumer_id#2878L, suburb#315, postcodes#316, long#2883, lat#2884, int_sa2#566, SA2_code#2915L, SA2_name#2916, income_2018-2019#2917L, total_males#2918L, ... 8 more fields]\n         :           :                                                        :                          +- Project [merchant_name#193, merchant_abn#2855L, categories#170, take_rate#175, revenue_levels#181, name#2856, address#2857, state#2858, gender#2860, trans_merchant_abn#214L, dollar_value#2864, order_id#2865, order_datetime#2866, user_id#2877L, consumer_id#2878L, suburb#315, postcodes#316, long#2883, lat#2884, int_sa2#566, SA2_code#2915L, SA2_name#2916, income_2018-2019#2917L, total_males#2918L, ... 8 more fields]\n         :           :                                                        :                             +- Project [merchant_name#193, merchant_abn#2855L, categories#170, take_rate#175, revenue_levels#181, name#2856, address#2857, state#2858, gender#2860, trans_merchant_abn#214L, dollar_value#2864, order_id#2865, order_datetime#2866, user_id#2877L, consumer_id#2878L, suburb#315, postcodes#316, long#2883, lat#2884, int_sa2#566, SA2_code#2915L, SA2_name#2916, income_2018-2019#2917L, total_males#2918L, ... 8 more fields]\n         :           :                                                        :                                +- Join LeftOuter, ((merchant_abn#2855L = cast(merchant_abn#2928 as bigint)) AND (order_datetime#2866 = cast(order_datetime#2929 as date)))\n         :           :                                                        :                                   :- SubqueryAlias a\n         :           :                                                        :                                   :  +- Project [merchant_name#193, merchant_abn#2855L, categories#170, take_rate#175, revenue_levels#181, name#2856, address#2857, state#2858, gender#2860, trans_merchant_abn#214L, dollar_value#2864, order_id#2865, order_datetime#2866, user_id#2877L, consumer_id#2878L, suburb#315, postcodes#316, long#2883, lat#2884, int_sa2#566, SA2_code#2915L, SA2_name#2916, income_2018-2019#2917L, total_males#2918L, ... 7 more fields]\n         :           :                                                        :                                   :     +- Project [merchant_name#193, merchant_abn#2855L, categories#170, take_rate#175, revenue_levels#181, name#2856, address#2857, state#2858, gender#2860, trans_merchant_abn#214L, dollar_value#2864, order_id#2865, order_datetime#2866, user_id#2877L, consumer_id#2878L, suburb#315, postcodes#316, long#2883, lat#2884, int_sa2#566, SA2_code#2915L, SA2_name#2916, income_2018-2019#2917L, total_males#2918L, ... 7 more fields]\n         :           :                                                        :                                   :        +- Join LeftOuter, ((user_id#2877L = cast(user_id#2925 as bigint)) AND (order_datetime#2866 = cast(order_datetime#2926 as date)))\n         :           :                                                        :                                   :           :- SubqueryAlias a\n         :           :                                                        :                                   :           :  +- Project [merchant_name#193, merchant_abn#2855L, categories#170, take_rate#175, revenue_levels#181, name#2856, address#2857, state#2858, gender#2860, trans_merchant_abn#214L, dollar_value#2864, order_id#2865, order_datetime#2866, user_id#2877L, consumer_id#2878L, suburb#315, postcodes#316, long#2883, lat#2884, int_sa2#566, SA2_code#2915L, SA2_name#2916, income_2018-2019#2917L, total_males#2918L, ... 6 more fields]\n         :           :                                                        :                                   :           :     +- Join Inner, (cast(int_sa2#566 as bigint) = SA2_code#2915L)\n         :           :                                                        :                                   :           :        :- Project [merchant_name#193, merchant_abn#2855L, categories#170, take_rate#175, revenue_levels#181, name#2856, address#2857, state#2858, gender#2860, trans_merchant_abn#214L, dollar_value#2864, order_id#2865, order_datetime#2866, user_id#2877L, consumer_id#2878L, suburb#315, postcodes#316, long#2883, lat#2884, int_sa2#566]\n         :           :                                                        :                                   :           :        :  +- Project [merchant_name#193, merchant_abn#2855L, categories#170, take_rate#175, revenue_levels#181, name#2856, address#2857, state#2858, gender#2860, trans_merchant_abn#214L, dollar_value#2864, order_id#2865, order_datetime#2866, user_id#2877L, consumer_id#2878L, suburb#315, postcodes#316, sa2#317, long#2883, lat#2884, cast(sa2#317 as int) AS int_sa2#566]\n         :           :                                                        :                                   :           :        :     +- Project [merchant_name#193, merchant_abn#2855L, categories#170, take_rate#175, revenue_levels#181, name#2856, address#2857, state#2858, gender#2860, trans_merchant_abn#214L, dollar_value#2864, order_id#2865, order_datetime#2866, user_id#2877L, consumer_id#2878L, suburb#315, postcodes#316, sa2#317, long#2883, lat#2884]\n         :           :                                                        :                                   :           :        :        +- Join Inner, (postcode#2859 = postcodes#316)\n         :           :                                                        :                                   :           :        :           :- Project [merchant_name#193, merchant_abn#2855L, categories#170, take_rate#175, revenue_levels#181, name#2856, address#2857, state#2858, postcode#2859, gender#2860, trans_merchant_abn#214L, dollar_value#2864, order_id#2865, order_datetime#2866, user_id#2877L, consumer_id#2878L]\n         :           :                                                        :                                   :           :        :           :  +- Project [merchant_name#193, merchant_abn#2855L, categories#170, take_rate#175, revenue_levels#181, name#2856, address#2857, state#2858, postcode#2859, gender#2860, trans_user_id#220L, trans_merchant_abn#214L, dollar_value#2864, order_id#2865, order_datetime#2866, user_id#2877L, consumer_id#2878L]\n         :           :                                                        :                                   :           :        :           :     +- Join FullOuter, (merchant_abn#2855L = trans_merchant_abn#214L)\n         :           :                                                        :                                   :           :        :           :        :- Project [name#2853 AS merchant_name#193, merchant_abn#2855L, categories#170, take_rate#175, revenue_levels#181]\n         :           :                                                        :                                   :           :        :           :        :  +- Project [name#2853, merchant_abn#2855L, categories#170, take_rate#175, revenue_levels#181]\n         :           :                                                        :                                   :           :        :           :        :     +- Project [name#2853, tags#166, merchant_abn#2855L, categories#170, take_rate#175, split(tags#166, [)\\]], [\\[(], -1)[1] AS revenue_levels#181]\n         :           :                                                        :                                   :           :        :           :        :        +- Project [name#2853, tags#166, merchant_abn#2855L, categories#170, cast(split(tags#166, [)\\]], [\\[(]take rate: , -1)[1] as double) AS take_rate#175]\n         :           :                                                        :                                   :           :        :           :        :           +- Project [name#2853, tags#166, merchant_abn#2855L, split(tags#166, [)\\]], [\\[(], -1)[0] AS categories#170]\n         :           :                                                        :                                   :           :        :           :        :              +- Project [name#2853, regexp_replace(tags#161, [\\[(][\\[(], , 1) AS tags#166, merchant_abn#2855L]\n         :           :                                                        :                                   :           :        :           :        :                 +- Project [name#2853, regexp_replace(tags#2854, [\\])][\\])], , 1) AS tags#161, merchant_abn#2855L]\n         :           :                                                        :                                   :           :        :           :        :                    +- Relation [name#2853,tags#2854,merchant_abn#2855L] parquet\n         :           :                                                        :                                   :           :        :           :        +- Join Inner, (int_consumer_id#199L = consumer_id#2878L)\n         :           :                                                        :                                   :           :        :           :           :- Project [name#2856, address#2857, state#2858, postcode#2859, gender#2860, int_consumer_id#199L]\n         :           :                                                        :                                   :           :        :           :           :  +- Project [name#2856, address#2857, state#2858, postcode#2859, gender#2860, consumer_id#2861, cast(consumer_id#2861 as bigint) AS int_consumer_id#199L]\n         :           :                                                        :                                   :           :        :           :           :     +- Relation [name#2856,address#2857,state#2858,postcode#2859,gender#2860,consumer_id#2861] csv\n         :           :                                                        :                                   :           :        :           :           +- Join Inner, (trans_user_id#220L = user_id#2877L)\n         :           :                                                        :                                   :           :        :           :              :- Project [user_id#2862L AS trans_user_id#220L, trans_merchant_abn#214L, dollar_value#2864, order_id#2865, order_datetime#2866]\n         :           :                                                        :                                   :           :        :           :              :  +- Project [user_id#2862L, merchant_abn#2863L AS trans_merchant_abn#214L, dollar_value#2864, order_id#2865, order_datetime#2866]\n         :           :                                                        :                                   :           :        :           :              :     +- Sort [order_datetime#2866 ASC NULLS FIRST], true\n         :           :                                                        :                                   :           :        :           :              :        +- Deduplicate [order_id#2865, order_datetime#2866, user_id#2862L, dollar_value#2864, merchant_abn#2863L]\n         :           :                                                        :                                   :           :        :           :              :           +- Union false, false\n         :           :                                                        :                                   :           :        :           :              :              :- Deduplicate [order_id#2865, order_datetime#2866, user_id#2862L, dollar_value#2864, merchant_abn#2863L]\n         :           :                                                        :                                   :           :        :           :              :              :  +- Union false, false\n         :           :                                                        :                                   :           :        :           :              :              :     :- Relation [user_id#2862L,merchant_abn#2863L,dollar_value#2864,order_id#2865,order_datetime#2866] parquet\n         :           :                                                        :                                   :           :        :           :              :              :     +- Relation [user_id#2867L,merchant_abn#2868L,dollar_value#2869,order_id#2870,order_datetime#2871] parquet\n         :           :                                                        :                                   :           :        :           :              :              +- Relation [user_id#2872L,merchant_abn#2873L,dollar_value#2874,order_id#2875,order_datetime#2876] parquet\n         :           :                                                        :                                   :           :        :           :              +- Relation [user_id#2877L,consumer_id#2878L] parquet\n         :           :                                                        :                                   :           :        :           +- Deduplicate [postcodes#316]\n         :           :                                                        :                                   :           :        :              +- Filter atleastnnonnulls(5, suburb#315, postcodes#316, sa2#317, long#2883, lat#2884)\n         :           :                                                        :                                   :           :        :                 +- Project [locality#2881 AS suburb#315, postcode#2880 AS postcodes#316, SA2_MAINCODE_2016#2897 AS sa2#317, long#2883, lat#2884]\n         :           :                                                        :                                   :           :        :                    +- Relation [id#2879,postcode#2880,locality#2881,state#2882,long#2883,lat#2884,dc#2885,type#2886,status#2887,sa3#2888,sa3name#2889,sa4#2890,sa4name#2891,region#2892,Lat_precise#2893,Long_precise#2894,SA1_MAINCODE_2011#2895,SA1_MAINCODE_2016#2896,SA2_MAINCODE_2016#2897,SA2_NAME_2016#2898,SA3_CODE_2016#2899,SA3_NAME_2016#2900,SA4_CODE_2016#2901,SA4_NAME_2016#2902,... 12 more fields] csv\n         :           :                                                        :                                   :           :        +- LogicalRDD [SA2_code#2915L, SA2_name#2916, income_2018-2019#2917L, total_males#2918L, total_females#2919L, total_persons#2920L, state_code#2921L, state_name#2922, population_2020#2923L, population_2021#2924L], false\n         :           :                                                        :                                   :           +- SubqueryAlias b\n         :           :                                                        :                                   :              +- Relation [user_id#2925,order_datetime#2926,fraud_probability#2927] csv\n         :           :                                                        :                                   +- SubqueryAlias b\n         :           :                                                        :                                      +- Relation [merchant_abn#2928,order_datetime#2929,fraud_probability#2930] csv\n         :           :                                                        +- SubqueryAlias tagged\n         :           :                                                           +- View (`tagged`, [tagged_merchant_abn#1564L,category#2932])\n         :           :                                                              +- Project [merchant_abn#2931L AS tagged_merchant_abn#1564L, category#2932]\n         :           :                                                                 +- Relation [merchant_abn#2931L,category#2932] parquet\n         :           +- SubqueryAlias f\n         :              +- View (`f`, [f_name#2538,females#2539L])\n         :                 +- Aggregate [merchant_name#193, SA2_code#3011L, Year#1749, Month#1785], [concat(merchant_name#193, cast(SA2_code#3011L as string), cast(Year#1749 as string), cast(Month#1785 as string)) AS f_name#2538, count(gender#2956) AS females#2539L]\n         :                    +- Filter (gender#2956 = Female)\n         :                       +- SubqueryAlias agg\n         :                          +- View (`agg`, [merchant_name#193,take_rate#175,revenue_levels#181,state#2954,gender#2956,dollar_value#2960,user_id#2973L,suburb#315,postcodes#316,long#2979,lat#2980,SA2_code#3011L,income_2018-2019#3013L,total_males#3014L,total_females#3015L,total_persons#3016L,fraud_probability_consumer#1080,fraud_probability_merchant#1081,category#3028,percent#1714,Year#1749,Month#1785])\n         :                             +- Project [merchant_name#193, take_rate#175, revenue_levels#181, state#2954, gender#2956, dollar_value#2960, user_id#2973L, suburb#315, postcodes#316, long#2979, lat#2980, SA2_code#3011L, income_2018-2019#3013L, total_males#3014L, total_females#3015L, total_persons#3016L, fraud_probability_consumer#1080, fraud_probability_merchant#1081, category#3028, percent#1714, Year#1749, Month#1785]\n         :                                +- Project [merchant_name#193, merchant_abn#2951L, categories#170, take_rate#175, revenue_levels#181, name#2952, address#2953, state#2954, gender#2956, trans_merchant_abn#214L, dollar_value#2960, order_id#2961, order_datetime#2962, user_id#2973L, consumer_id#2974L, suburb#315, postcodes#316, long#2979, lat#2980, int_sa2#566, SA2_code#3011L, SA2_name#3012, income_2018-2019#3013L, total_males#3014L, ... 12 more fields]\n         :                                   +- Project [merchant_name#193, merchant_abn#2951L, categories#170, take_rate#175, revenue_levels#181, name#2952, address#2953, state#2954, gender#2956, trans_merchant_abn#214L, dollar_value#2960, order_id#2961, order_datetime#2962, user_id#2973L, consumer_id#2974L, suburb#315, postcodes#316, long#2979, lat#2980, int_sa2#566, SA2_code#3011L, SA2_name#3012, income_2018-2019#3013L, total_males#3014L, ... 11 more fields]\n         :                                      +- Project [merchant_name#193, merchant_abn#2951L, categories#170, take_rate#175, revenue_levels#181, name#2952, address#2953, state#2954, gender#2956, trans_merchant_abn#214L, dollar_value#2960, order_id#2961, order_datetime#2962, user_id#2973L, consumer_id#2974L, suburb#315, postcodes#316, long#2979, lat#2980, int_sa2#566, SA2_code#3011L, SA2_name#3012, income_2018-2019#3013L, total_males#3014L, ... 10 more fields]\n         :                                         +- SubqueryAlias group\n         :                                            +- View (`group`, [merchant_name#193,merchant_abn#2951L,categories#170,take_rate#175,revenue_levels#181,name#2952,address#2953,state#2954,gender#2956,trans_merchant_abn#214L,dollar_value#2960,order_id#2961,order_datetime#2962,user_id#2973L,consumer_id#2974L,suburb#315,postcodes#316,long#2979,lat#2980,int_sa2#566,SA2_code#3011L,SA2_name#3012,income_2018-2019#3013L,total_males#3014L,total_females#3015L,total_persons#3016L,state_code#3017L,state_name#3018,population_2020#3019L,population_2021#3020L,fraud_probability_consumer#1080,fraud_probability_merchant#1081,category#3028])\n         :                                               +- Project [merchant_name#193, merchant_abn#2951L, categories#170, take_rate#175, revenue_levels#181, name#2952, address#2953, state#2954, gender#2956, trans_merchant_abn#214L, dollar_value#2960, order_id#2961, order_datetime#2962, user_id#2973L, consumer_id#2974L, suburb#315, postcodes#316, long#2979, lat#2980, int_sa2#566, SA2_code#3011L, SA2_name#3012, income_2018-2019#3013L, total_males#3014L, ... 9 more fields]\n         :                                                  +- Project [merchant_name#193, merchant_abn#2951L, categories#170, take_rate#175, revenue_levels#181, name#2952, address#2953, state#2954, gender#2956, trans_merchant_abn#214L, dollar_value#2960, order_id#2961, order_datetime#2962, user_id#2973L, consumer_id#2974L, suburb#315, postcodes#316, long#2979, lat#2980, int_sa2#566, SA2_code#3011L, SA2_name#3012, income_2018-2019#3013L, total_males#3014L, ... 10 more fields]\n         :                                                     +- Join Inner, (merchant_abn#2951L = tagged_merchant_abn#1564L)\n         :                                                        :- SubqueryAlias join\n         :                                                        :  +- View (`join`, [merchant_name#193,merchant_abn#2951L,categories#170,take_rate#175,revenue_levels#181,name#2952,address#2953,state#2954,gender#2956,trans_merchant_abn#214L,dollar_value#2960,order_id#2961,order_datetime#2962,user_id#2973L,consumer_id#2974L,suburb#315,postcodes#316,long#2979,lat#2980,int_sa2#566,SA2_code#3011L,SA2_name#3012,income_2018-2019#3013L,total_males#3014L,total_females#3015L,total_persons#3016L,state_code#3017L,state_name#3018,population_2020#3019L,population_2021#3020L,fraud_probability_consumer#1080,fraud_probability_merchant#1081])\n         :                                                        :     +- Filter isnotnull(gender#2956)\n         :                                                        :        +- Filter isnotnull(consumer_id#2974L)\n         :                                                        :           +- Filter (dollar_value#2960 > cast(0 as double))\n         :                                                        :              +- Filter isnotnull(merchant_abn#2951L)\n         :                                                        :                 +- Project [merchant_name#193, merchant_abn#2951L, categories#170, take_rate#175, revenue_levels#181, name#2952, address#2953, state#2954, gender#2956, trans_merchant_abn#214L, dollar_value#2960, order_id#2961, order_datetime#2962, user_id#2973L, consumer_id#2974L, suburb#315, postcodes#316, long#2979, lat#2980, int_sa2#566, SA2_code#3011L, SA2_name#3012, income_2018-2019#3013L, total_males#3014L, ... 8 more fields]\n         :                                                        :                    +- Project [merchant_name#193, merchant_abn#2951L, categories#170, take_rate#175, revenue_levels#181, name#2952, address#2953, state#2954, gender#2956, trans_merchant_abn#214L, dollar_value#2960, order_id#2961, order_datetime#2962, user_id#2973L, consumer_id#2974L, suburb#315, postcodes#316, long#2979, lat#2980, int_sa2#566, SA2_code#3011L, SA2_name#3012, income_2018-2019#3013L, total_males#3014L, ... 8 more fields]\n         :                                                        :                       +- Project [merchant_name#193, merchant_abn#2951L, categories#170, take_rate#175, revenue_levels#181, name#2952, address#2953, state#2954, gender#2956, trans_merchant_abn#214L, dollar_value#2960, order_id#2961, order_datetime#2962, user_id#2973L, consumer_id#2974L, suburb#315, postcodes#316, long#2979, lat#2980, int_sa2#566, SA2_code#3011L, SA2_name#3012, income_2018-2019#3013L, total_males#3014L, ... 8 more fields]\n         :                                                        :                          +- Project [merchant_name#193, merchant_abn#2951L, categories#170, take_rate#175, revenue_levels#181, name#2952, address#2953, state#2954, gender#2956, trans_merchant_abn#214L, dollar_value#2960, order_id#2961, order_datetime#2962, user_id#2973L, consumer_id#2974L, suburb#315, postcodes#316, long#2979, lat#2980, int_sa2#566, SA2_code#3011L, SA2_name#3012, income_2018-2019#3013L, total_males#3014L, ... 8 more fields]\n         :                                                        :                             +- Project [merchant_name#193, merchant_abn#2951L, categories#170, take_rate#175, revenue_levels#181, name#2952, address#2953, state#2954, gender#2956, trans_merchant_abn#214L, dollar_value#2960, order_id#2961, order_datetime#2962, user_id#2973L, consumer_id#2974L, suburb#315, postcodes#316, long#2979, lat#2980, int_sa2#566, SA2_code#3011L, SA2_name#3012, income_2018-2019#3013L, total_males#3014L, ... 8 more fields]\n         :                                                        :                                +- Join LeftOuter, ((merchant_abn#2951L = cast(merchant_abn#3024 as bigint)) AND (order_datetime#2962 = cast(order_datetime#3025 as date)))\n         :                                                        :                                   :- SubqueryAlias a\n         :                                                        :                                   :  +- Project [merchant_name#193, merchant_abn#2951L, categories#170, take_rate#175, revenue_levels#181, name#2952, address#2953, state#2954, gender#2956, trans_merchant_abn#214L, dollar_value#2960, order_id#2961, order_datetime#2962, user_id#2973L, consumer_id#2974L, suburb#315, postcodes#316, long#2979, lat#2980, int_sa2#566, SA2_code#3011L, SA2_name#3012, income_2018-2019#3013L, total_males#3014L, ... 7 more fields]\n         :                                                        :                                   :     +- Project [merchant_name#193, merchant_abn#2951L, categories#170, take_rate#175, revenue_levels#181, name#2952, address#2953, state#2954, gender#2956, trans_merchant_abn#214L, dollar_value#2960, order_id#2961, order_datetime#2962, user_id#2973L, consumer_id#2974L, suburb#315, postcodes#316, long#2979, lat#2980, int_sa2#566, SA2_code#3011L, SA2_name#3012, income_2018-2019#3013L, total_males#3014L, ... 7 more fields]\n         :                                                        :                                   :        +- Join LeftOuter, ((user_id#2973L = cast(user_id#3021 as bigint)) AND (order_datetime#2962 = cast(order_datetime#3022 as date)))\n         :                                                        :                                   :           :- SubqueryAlias a\n         :                                                        :                                   :           :  +- Project [merchant_name#193, merchant_abn#2951L, categories#170, take_rate#175, revenue_levels#181, name#2952, address#2953, state#2954, gender#2956, trans_merchant_abn#214L, dollar_value#2960, order_id#2961, order_datetime#2962, user_id#2973L, consumer_id#2974L, suburb#315, postcodes#316, long#2979, lat#2980, int_sa2#566, SA2_code#3011L, SA2_name#3012, income_2018-2019#3013L, total_males#3014L, ... 6 more fields]\n         :                                                        :                                   :           :     +- Join Inner, (cast(int_sa2#566 as bigint) = SA2_code#3011L)\n         :                                                        :                                   :           :        :- Project [merchant_name#193, merchant_abn#2951L, categories#170, take_rate#175, revenue_levels#181, name#2952, address#2953, state#2954, gender#2956, trans_merchant_abn#214L, dollar_value#2960, order_id#2961, order_datetime#2962, user_id#2973L, consumer_id#2974L, suburb#315, postcodes#316, long#2979, lat#2980, int_sa2#566]\n         :                                                        :                                   :           :        :  +- Project [merchant_name#193, merchant_abn#2951L, categories#170, take_rate#175, revenue_levels#181, name#2952, address#2953, state#2954, gender#2956, trans_merchant_abn#214L, dollar_value#2960, order_id#2961, order_datetime#2962, user_id#2973L, consumer_id#2974L, suburb#315, postcodes#316, sa2#317, long#2979, lat#2980, cast(sa2#317 as int) AS int_sa2#566]\n         :                                                        :                                   :           :        :     +- Project [merchant_name#193, merchant_abn#2951L, categories#170, take_rate#175, revenue_levels#181, name#2952, address#2953, state#2954, gender#2956, trans_merchant_abn#214L, dollar_value#2960, order_id#2961, order_datetime#2962, user_id#2973L, consumer_id#2974L, suburb#315, postcodes#316, sa2#317, long#2979, lat#2980]\n         :                                                        :                                   :           :        :        +- Join Inner, (postcode#2955 = postcodes#316)\n         :                                                        :                                   :           :        :           :- Project [merchant_name#193, merchant_abn#2951L, categories#170, take_rate#175, revenue_levels#181, name#2952, address#2953, state#2954, postcode#2955, gender#2956, trans_merchant_abn#214L, dollar_value#2960, order_id#2961, order_datetime#2962, user_id#2973L, consumer_id#2974L]\n         :                                                        :                                   :           :        :           :  +- Project [merchant_name#193, merchant_abn#2951L, categories#170, take_rate#175, revenue_levels#181, name#2952, address#2953, state#2954, postcode#2955, gender#2956, trans_user_id#220L, trans_merchant_abn#214L, dollar_value#2960, order_id#2961, order_datetime#2962, user_id#2973L, consumer_id#2974L]\n         :                                                        :                                   :           :        :           :     +- Join FullOuter, (merchant_abn#2951L = trans_merchant_abn#214L)\n         :                                                        :                                   :           :        :           :        :- Project [name#2949 AS merchant_name#193, merchant_abn#2951L, categories#170, take_rate#175, revenue_levels#181]\n         :                                                        :                                   :           :        :           :        :  +- Project [name#2949, merchant_abn#2951L, categories#170, take_rate#175, revenue_levels#181]\n         :                                                        :                                   :           :        :           :        :     +- Project [name#2949, tags#166, merchant_abn#2951L, categories#170, take_rate#175, split(tags#166, [)\\]], [\\[(], -1)[1] AS revenue_levels#181]\n         :                                                        :                                   :           :        :           :        :        +- Project [name#2949, tags#166, merchant_abn#2951L, categories#170, cast(split(tags#166, [)\\]], [\\[(]take rate: , -1)[1] as double) AS take_rate#175]\n         :                                                        :                                   :           :        :           :        :           +- Project [name#2949, tags#166, merchant_abn#2951L, split(tags#166, [)\\]], [\\[(], -1)[0] AS categories#170]\n         :                                                        :                                   :           :        :           :        :              +- Project [name#2949, regexp_replace(tags#161, [\\[(][\\[(], , 1) AS tags#166, merchant_abn#2951L]\n         :                                                        :                                   :           :        :           :        :                 +- Project [name#2949, regexp_replace(tags#2950, [\\])][\\])], , 1) AS tags#161, merchant_abn#2951L]\n         :                                                        :                                   :           :        :           :        :                    +- Relation [name#2949,tags#2950,merchant_abn#2951L] parquet\n         :                                                        :                                   :           :        :           :        +- Join Inner, (int_consumer_id#199L = consumer_id#2974L)\n         :                                                        :                                   :           :        :           :           :- Project [name#2952, address#2953, state#2954, postcode#2955, gender#2956, int_consumer_id#199L]\n         :                                                        :                                   :           :        :           :           :  +- Project [name#2952, address#2953, state#2954, postcode#2955, gender#2956, consumer_id#2957, cast(consumer_id#2957 as bigint) AS int_consumer_id#199L]\n         :                                                        :                                   :           :        :           :           :     +- Relation [name#2952,address#2953,state#2954,postcode#2955,gender#2956,consumer_id#2957] csv\n         :                                                        :                                   :           :        :           :           +- Join Inner, (trans_user_id#220L = user_id#2973L)\n         :                                                        :                                   :           :        :           :              :- Project [user_id#2958L AS trans_user_id#220L, trans_merchant_abn#214L, dollar_value#2960, order_id#2961, order_datetime#2962]\n         :                                                        :                                   :           :        :           :              :  +- Project [user_id#2958L, merchant_abn#2959L AS trans_merchant_abn#214L, dollar_value#2960, order_id#2961, order_datetime#2962]\n         :                                                        :                                   :           :        :           :              :     +- Sort [order_datetime#2962 ASC NULLS FIRST], true\n         :                                                        :                                   :           :        :           :              :        +- Deduplicate [order_id#2961, order_datetime#2962, user_id#2958L, dollar_value#2960, merchant_abn#2959L]\n         :                                                        :                                   :           :        :           :              :           +- Union false, false\n         :                                                        :                                   :           :        :           :              :              :- Deduplicate [order_id#2961, order_datetime#2962, user_id#2958L, dollar_value#2960, merchant_abn#2959L]\n         :                                                        :                                   :           :        :           :              :              :  +- Union false, false\n         :                                                        :                                   :           :        :           :              :              :     :- Relation [user_id#2958L,merchant_abn#2959L,dollar_value#2960,order_id#2961,order_datetime#2962] parquet\n         :                                                        :                                   :           :        :           :              :              :     +- Relation [user_id#2963L,merchant_abn#2964L,dollar_value#2965,order_id#2966,order_datetime#2967] parquet\n         :                                                        :                                   :           :        :           :              :              +- Relation [user_id#2968L,merchant_abn#2969L,dollar_value#2970,order_id#2971,order_datetime#2972] parquet\n         :                                                        :                                   :           :        :           :              +- Relation [user_id#2973L,consumer_id#2974L] parquet\n         :                                                        :                                   :           :        :           +- Deduplicate [postcodes#316]\n         :                                                        :                                   :           :        :              +- Filter atleastnnonnulls(5, suburb#315, postcodes#316, sa2#317, long#2979, lat#2980)\n         :                                                        :                                   :           :        :                 +- Project [locality#2977 AS suburb#315, postcode#2976 AS postcodes#316, SA2_MAINCODE_2016#2993 AS sa2#317, long#2979, lat#2980]\n         :                                                        :                                   :           :        :                    +- Relation [id#2975,postcode#2976,locality#2977,state#2978,long#2979,lat#2980,dc#2981,type#2982,status#2983,sa3#2984,sa3name#2985,sa4#2986,sa4name#2987,region#2988,Lat_precise#2989,Long_precise#2990,SA1_MAINCODE_2011#2991,SA1_MAINCODE_2016#2992,SA2_MAINCODE_2016#2993,SA2_NAME_2016#2994,SA3_CODE_2016#2995,SA3_NAME_2016#2996,SA4_CODE_2016#2997,SA4_NAME_2016#2998,... 12 more fields] csv\n         :                                                        :                                   :           :        +- LogicalRDD [SA2_code#3011L, SA2_name#3012, income_2018-2019#3013L, total_males#3014L, total_females#3015L, total_persons#3016L, state_code#3017L, state_name#3018, population_2020#3019L, population_2021#3020L], false\n         :                                                        :                                   :           +- SubqueryAlias b\n         :                                                        :                                   :              +- Relation [user_id#3021,order_datetime#3022,fraud_probability#3023] csv\n         :                                                        :                                   +- SubqueryAlias b\n         :                                                        :                                      +- Relation [merchant_abn#3024,order_datetime#3025,fraud_probability#3026] csv\n         :                                                        +- SubqueryAlias tagged\n         :                                                           +- View (`tagged`, [tagged_merchant_abn#1564L,category#3028])\n         :                                                              +- Project [merchant_abn#3027L AS tagged_merchant_abn#1564L, category#3028]\n         :                                                                 +- Relation [merchant_abn#3027L,category#3028] parquet\n         +- SubqueryAlias rates\n            +- View (`rates`, [drop_name#3840,take_rate#3842,revenue_levels#3844,category#3846,males_in_SA2#3848L,females_in_SA2#3850L,income_per_person#3852])\n               +- Aggregate [merchant_name#193], [merchant_name#193 AS drop_name#3840, first(take_rate#175, false) AS take_rate#3842, first(revenue_levels#181, false) AS revenue_levels#3844, first(category#4096, false) AS category#3846, first(total_males#4082L, false) AS males_in_SA2#3848L, first(total_females#4083L, false) AS females_in_SA2#3850L, first(income_per_persons#3652, false) AS income_per_person#3852]\n                  +- SubqueryAlias features\n                     +- View (`features`, [merchant_name#193,take_rate#175,revenue_levels#181,state#4022,gender#4024,dollar_value#4028,user_id#4041L,suburb#315,postcodes#316,long#4047,lat#4048,SA2_code#4079L,income_2018_2019#3629L,total_males#4082L,total_females#4083L,total_persons#4084L,fraud_probability_consumer#1080,fraud_probability_merchant#1081,category#4096,percent#1714,Year#1749,Month#1785,income_per_persons#3652])\n                        +- Project [merchant_name#193, take_rate#175, revenue_levels#181, state#4022, gender#4024, dollar_value#4028, user_id#4041L, suburb#315, postcodes#316, long#4047, lat#4048, SA2_code#4079L, income_2018_2019#3629L, total_males#4082L, total_females#4083L, total_persons#4084L, fraud_probability_consumer#1080, fraud_probability_merchant#1081, category#4096, percent#1714, Year#1749, Month#1785, (cast(income_2018_2019#3629L as double) / cast(total_persons#4084L as double)) AS income_per_persons#3652]\n                           +- Project [merchant_name#193, take_rate#175, revenue_levels#181, state#4022, gender#4024, dollar_value#4028, user_id#4041L, suburb#315, postcodes#316, long#4047, lat#4048, SA2_code#4079L, income_2018-2019#4081L AS income_2018_2019#3629L, total_males#4082L, total_females#4083L, total_persons#4084L, fraud_probability_consumer#1080, fraud_probability_merchant#1081, category#4096, percent#1714, Year#1749, Month#1785]\n                              +- Project [merchant_name#193, take_rate#175, revenue_levels#181, state#4022, gender#4024, dollar_value#4028, user_id#4041L, suburb#315, postcodes#316, long#4047, lat#4048, SA2_code#4079L, income_2018-2019#4081L, total_males#4082L, total_females#4083L, total_persons#4084L, fraud_probability_consumer#1080, fraud_probability_merchant#1081, category#4096, percent#1714, Year#1749, Month#1785]\n                                 +- Project [merchant_name#193, merchant_abn#4019L, categories#170, take_rate#175, revenue_levels#181, name#4020, address#4021, state#4022, gender#4024, trans_merchant_abn#214L, dollar_value#4028, order_id#4029, order_datetime#4030, user_id#4041L, consumer_id#4042L, suburb#315, postcodes#316, long#4047, lat#4048, int_sa2#566, SA2_code#4079L, SA2_name#4080, income_2018-2019#4081L, total_males#4082L, ... 12 more fields]\n                                    +- Project [merchant_name#193, merchant_abn#4019L, categories#170, take_rate#175, revenue_levels#181, name#4020, address#4021, state#4022, gender#4024, trans_merchant_abn#214L, dollar_value#4028, order_id#4029, order_datetime#4030, user_id#4041L, consumer_id#4042L, suburb#315, postcodes#316, long#4047, lat#4048, int_sa2#566, SA2_code#4079L, SA2_name#4080, income_2018-2019#4081L, total_males#4082L, ... 11 more fields]\n                                       +- Project [merchant_name#193, merchant_abn#4019L, categories#170, take_rate#175, revenue_levels#181, name#4020, address#4021, state#4022, gender#4024, trans_merchant_abn#214L, dollar_value#4028, order_id#4029, order_datetime#4030, user_id#4041L, consumer_id#4042L, suburb#315, postcodes#316, long#4047, lat#4048, int_sa2#566, SA2_code#4079L, SA2_name#4080, income_2018-2019#4081L, total_males#4082L, ... 10 more fields]\n                                          +- SubqueryAlias group\n                                             +- View (`group`, [merchant_name#193,merchant_abn#4019L,categories#170,take_rate#175,revenue_levels#181,name#4020,address#4021,state#4022,gender#4024,trans_merchant_abn#214L,dollar_value#4028,order_id#4029,order_datetime#4030,user_id#4041L,consumer_id#4042L,suburb#315,postcodes#316,long#4047,lat#4048,int_sa2#566,SA2_code#4079L,SA2_name#4080,income_2018-2019#4081L,total_males#4082L,total_females#4083L,total_persons#4084L,state_code#4085L,state_name#4086,population_2020#4087L,population_2021#4088L,fraud_probability_consumer#1080,fraud_probability_merchant#1081,category#4096])\n                                                +- Project [merchant_name#193, merchant_abn#4019L, categories#170, take_rate#175, revenue_levels#181, name#4020, address#4021, state#4022, gender#4024, trans_merchant_abn#214L, dollar_value#4028, order_id#4029, order_datetime#4030, user_id#4041L, consumer_id#4042L, suburb#315, postcodes#316, long#4047, lat#4048, int_sa2#566, SA2_code#4079L, SA2_name#4080, income_2018-2019#4081L, total_males#4082L, ... 9 more fields]\n                                                   +- Project [merchant_name#193, merchant_abn#4019L, categories#170, take_rate#175, revenue_levels#181, name#4020, address#4021, state#4022, gender#4024, trans_merchant_abn#214L, dollar_value#4028, order_id#4029, order_datetime#4030, user_id#4041L, consumer_id#4042L, suburb#315, postcodes#316, long#4047, lat#4048, int_sa2#566, SA2_code#4079L, SA2_name#4080, income_2018-2019#4081L, total_males#4082L, ... 10 more fields]\n                                                      +- Join Inner, (merchant_abn#4019L = tagged_merchant_abn#1564L)\n                                                         :- SubqueryAlias join\n                                                         :  +- View (`join`, [merchant_name#193,merchant_abn#4019L,categories#170,take_rate#175,revenue_levels#181,name#4020,address#4021,state#4022,gender#4024,trans_merchant_abn#214L,dollar_value#4028,order_id#4029,order_datetime#4030,user_id#4041L,consumer_id#4042L,suburb#315,postcodes#316,long#4047,lat#4048,int_sa2#566,SA2_code#4079L,SA2_name#4080,income_2018-2019#4081L,total_males#4082L,total_females#4083L,total_persons#4084L,state_code#4085L,state_name#4086,population_2020#4087L,population_2021#4088L,fraud_probability_consumer#1080,fraud_probability_merchant#1081])\n                                                         :     +- Filter isnotnull(gender#4024)\n                                                         :        +- Filter isnotnull(consumer_id#4042L)\n                                                         :           +- Filter (dollar_value#4028 > cast(0 as double))\n                                                         :              +- Filter isnotnull(merchant_abn#4019L)\n                                                         :                 +- Project [merchant_name#193, merchant_abn#4019L, categories#170, take_rate#175, revenue_levels#181, name#4020, address#4021, state#4022, gender#4024, trans_merchant_abn#214L, dollar_value#4028, order_id#4029, order_datetime#4030, user_id#4041L, consumer_id#4042L, suburb#315, postcodes#316, long#4047, lat#4048, int_sa2#566, SA2_code#4079L, SA2_name#4080, income_2018-2019#4081L, total_males#4082L, ... 8 more fields]\n                                                         :                    +- Project [merchant_name#193, merchant_abn#4019L, categories#170, take_rate#175, revenue_levels#181, name#4020, address#4021, state#4022, gender#4024, trans_merchant_abn#214L, dollar_value#4028, order_id#4029, order_datetime#4030, user_id#4041L, consumer_id#4042L, suburb#315, postcodes#316, long#4047, lat#4048, int_sa2#566, SA2_code#4079L, SA2_name#4080, income_2018-2019#4081L, total_males#4082L, ... 8 more fields]\n                                                         :                       +- Project [merchant_name#193, merchant_abn#4019L, categories#170, take_rate#175, revenue_levels#181, name#4020, address#4021, state#4022, gender#4024, trans_merchant_abn#214L, dollar_value#4028, order_id#4029, order_datetime#4030, user_id#4041L, consumer_id#4042L, suburb#315, postcodes#316, long#4047, lat#4048, int_sa2#566, SA2_code#4079L, SA2_name#4080, income_2018-2019#4081L, total_males#4082L, ... 8 more fields]\n                                                         :                          +- Project [merchant_name#193, merchant_abn#4019L, categories#170, take_rate#175, revenue_levels#181, name#4020, address#4021, state#4022, gender#4024, trans_merchant_abn#214L, dollar_value#4028, order_id#4029, order_datetime#4030, user_id#4041L, consumer_id#4042L, suburb#315, postcodes#316, long#4047, lat#4048, int_sa2#566, SA2_code#4079L, SA2_name#4080, income_2018-2019#4081L, total_males#4082L, ... 8 more fields]\n                                                         :                             +- Project [merchant_name#193, merchant_abn#4019L, categories#170, take_rate#175, revenue_levels#181, name#4020, address#4021, state#4022, gender#4024, trans_merchant_abn#214L, dollar_value#4028, order_id#4029, order_datetime#4030, user_id#4041L, consumer_id#4042L, suburb#315, postcodes#316, long#4047, lat#4048, int_sa2#566, SA2_code#4079L, SA2_name#4080, income_2018-2019#4081L, total_males#4082L, ... 8 more fields]\n                                                         :                                +- Join LeftOuter, ((merchant_abn#4019L = cast(merchant_abn#4092 as bigint)) AND (order_datetime#4030 = cast(order_datetime#4093 as date)))\n                                                         :                                   :- SubqueryAlias a\n                                                         :                                   :  +- Project [merchant_name#193, merchant_abn#4019L, categories#170, take_rate#175, revenue_levels#181, name#4020, address#4021, state#4022, gender#4024, trans_merchant_abn#214L, dollar_value#4028, order_id#4029, order_datetime#4030, user_id#4041L, consumer_id#4042L, suburb#315, postcodes#316, long#4047, lat#4048, int_sa2#566, SA2_code#4079L, SA2_name#4080, income_2018-2019#4081L, total_males#4082L, ... 7 more fields]\n                                                         :                                   :     +- Project [merchant_name#193, merchant_abn#4019L, categories#170, take_rate#175, revenue_levels#181, name#4020, address#4021, state#4022, gender#4024, trans_merchant_abn#214L, dollar_value#4028, order_id#4029, order_datetime#4030, user_id#4041L, consumer_id#4042L, suburb#315, postcodes#316, long#4047, lat#4048, int_sa2#566, SA2_code#4079L, SA2_name#4080, income_2018-2019#4081L, total_males#4082L, ... 7 more fields]\n                                                         :                                   :        +- Join LeftOuter, ((user_id#4041L = cast(user_id#4089 as bigint)) AND (order_datetime#4030 = cast(order_datetime#4090 as date)))\n                                                         :                                   :           :- SubqueryAlias a\n                                                         :                                   :           :  +- Project [merchant_name#193, merchant_abn#4019L, categories#170, take_rate#175, revenue_levels#181, name#4020, address#4021, state#4022, gender#4024, trans_merchant_abn#214L, dollar_value#4028, order_id#4029, order_datetime#4030, user_id#4041L, consumer_id#4042L, suburb#315, postcodes#316, long#4047, lat#4048, int_sa2#566, SA2_code#4079L, SA2_name#4080, income_2018-2019#4081L, total_males#4082L, ... 6 more fields]\n                                                         :                                   :           :     +- Join Inner, (cast(int_sa2#566 as bigint) = SA2_code#4079L)\n                                                         :                                   :           :        :- Project [merchant_name#193, merchant_abn#4019L, categories#170, take_rate#175, revenue_levels#181, name#4020, address#4021, state#4022, gender#4024, trans_merchant_abn#214L, dollar_value#4028, order_id#4029, order_datetime#4030, user_id#4041L, consumer_id#4042L, suburb#315, postcodes#316, long#4047, lat#4048, int_sa2#566]\n                                                         :                                   :           :        :  +- Project [merchant_name#193, merchant_abn#4019L, categories#170, take_rate#175, revenue_levels#181, name#4020, address#4021, state#4022, gender#4024, trans_merchant_abn#214L, dollar_value#4028, order_id#4029, order_datetime#4030, user_id#4041L, consumer_id#4042L, suburb#315, postcodes#316, sa2#317, long#4047, lat#4048, cast(sa2#317 as int) AS int_sa2#566]\n                                                         :                                   :           :        :     +- Project [merchant_name#193, merchant_abn#4019L, categories#170, take_rate#175, revenue_levels#181, name#4020, address#4021, state#4022, gender#4024, trans_merchant_abn#214L, dollar_value#4028, order_id#4029, order_datetime#4030, user_id#4041L, consumer_id#4042L, suburb#315, postcodes#316, sa2#317, long#4047, lat#4048]\n                                                         :                                   :           :        :        +- Join Inner, (postcode#4023 = postcodes#316)\n                                                         :                                   :           :        :           :- Project [merchant_name#193, merchant_abn#4019L, categories#170, take_rate#175, revenue_levels#181, name#4020, address#4021, state#4022, postcode#4023, gender#4024, trans_merchant_abn#214L, dollar_value#4028, order_id#4029, order_datetime#4030, user_id#4041L, consumer_id#4042L]\n                                                         :                                   :           :        :           :  +- Project [merchant_name#193, merchant_abn#4019L, categories#170, take_rate#175, revenue_levels#181, name#4020, address#4021, state#4022, postcode#4023, gender#4024, trans_user_id#220L, trans_merchant_abn#214L, dollar_value#4028, order_id#4029, order_datetime#4030, user_id#4041L, consumer_id#4042L]\n                                                         :                                   :           :        :           :     +- Join FullOuter, (merchant_abn#4019L = trans_merchant_abn#214L)\n                                                         :                                   :           :        :           :        :- Project [name#4017 AS merchant_name#193, merchant_abn#4019L, categories#170, take_rate#175, revenue_levels#181]\n                                                         :                                   :           :        :           :        :  +- Project [name#4017, merchant_abn#4019L, categories#170, take_rate#175, revenue_levels#181]\n                                                         :                                   :           :        :           :        :     +- Project [name#4017, tags#166, merchant_abn#4019L, categories#170, take_rate#175, split(tags#166, [)\\]], [\\[(], -1)[1] AS revenue_levels#181]\n                                                         :                                   :           :        :           :        :        +- Project [name#4017, tags#166, merchant_abn#4019L, categories#170, cast(split(tags#166, [)\\]], [\\[(]take rate: , -1)[1] as double) AS take_rate#175]\n                                                         :                                   :           :        :           :        :           +- Project [name#4017, tags#166, merchant_abn#4019L, split(tags#166, [)\\]], [\\[(], -1)[0] AS categories#170]\n                                                         :                                   :           :        :           :        :              +- Project [name#4017, regexp_replace(tags#161, [\\[(][\\[(], , 1) AS tags#166, merchant_abn#4019L]\n                                                         :                                   :           :        :           :        :                 +- Project [name#4017, regexp_replace(tags#4018, [\\])][\\])], , 1) AS tags#161, merchant_abn#4019L]\n                                                         :                                   :           :        :           :        :                    +- Relation [name#4017,tags#4018,merchant_abn#4019L] parquet\n                                                         :                                   :           :        :           :        +- Join Inner, (int_consumer_id#199L = consumer_id#4042L)\n                                                         :                                   :           :        :           :           :- Project [name#4020, address#4021, state#4022, postcode#4023, gender#4024, int_consumer_id#199L]\n                                                         :                                   :           :        :           :           :  +- Project [name#4020, address#4021, state#4022, postcode#4023, gender#4024, consumer_id#4025, cast(consumer_id#4025 as bigint) AS int_consumer_id#199L]\n                                                         :                                   :           :        :           :           :     +- Relation [name#4020,address#4021,state#4022,postcode#4023,gender#4024,consumer_id#4025] csv\n                                                         :                                   :           :        :           :           +- Join Inner, (trans_user_id#220L = user_id#4041L)\n                                                         :                                   :           :        :           :              :- Project [user_id#4026L AS trans_user_id#220L, trans_merchant_abn#214L, dollar_value#4028, order_id#4029, order_datetime#4030]\n                                                         :                                   :           :        :           :              :  +- Project [user_id#4026L, merchant_abn#4027L AS trans_merchant_abn#214L, dollar_value#4028, order_id#4029, order_datetime#4030]\n                                                         :                                   :           :        :           :              :     +- Sort [order_datetime#4030 ASC NULLS FIRST], true\n                                                         :                                   :           :        :           :              :        +- Deduplicate [order_id#4029, order_datetime#4030, user_id#4026L, dollar_value#4028, merchant_abn#4027L]\n                                                         :                                   :           :        :           :              :           +- Union false, false\n                                                         :                                   :           :        :           :              :              :- Deduplicate [order_id#4029, order_datetime#4030, user_id#4026L, dollar_value#4028, merchant_abn#4027L]\n                                                         :                                   :           :        :           :              :              :  +- Union false, false\n                                                         :                                   :           :        :           :              :              :     :- Relation [user_id#4026L,merchant_abn#4027L,dollar_value#4028,order_id#4029,order_datetime#4030] parquet\n                                                         :                                   :           :        :           :              :              :     +- Relation [user_id#4031L,merchant_abn#4032L,dollar_value#4033,order_id#4034,order_datetime#4035] parquet\n                                                         :                                   :           :        :           :              :              +- Relation [user_id#4036L,merchant_abn#4037L,dollar_value#4038,order_id#4039,order_datetime#4040] parquet\n                                                         :                                   :           :        :           :              +- Relation [user_id#4041L,consumer_id#4042L] parquet\n                                                         :                                   :           :        :           +- Deduplicate [postcodes#316]\n                                                         :                                   :           :        :              +- Filter atleastnnonnulls(5, suburb#315, postcodes#316, sa2#317, long#4047, lat#4048)\n                                                         :                                   :           :        :                 +- Project [locality#4045 AS suburb#315, postcode#4044 AS postcodes#316, SA2_MAINCODE_2016#4061 AS sa2#317, long#4047, lat#4048]\n                                                         :                                   :           :        :                    +- Relation [id#4043,postcode#4044,locality#4045,state#4046,long#4047,lat#4048,dc#4049,type#4050,status#4051,sa3#4052,sa3name#4053,sa4#4054,sa4name#4055,region#4056,Lat_precise#4057,Long_precise#4058,SA1_MAINCODE_2011#4059,SA1_MAINCODE_2016#4060,SA2_MAINCODE_2016#4061,SA2_NAME_2016#4062,SA3_CODE_2016#4063,SA3_NAME_2016#4064,SA4_CODE_2016#4065,SA4_NAME_2016#4066,... 12 more fields] csv\n                                                         :                                   :           :        +- LogicalRDD [SA2_code#4079L, SA2_name#4080, income_2018-2019#4081L, total_males#4082L, total_females#4083L, total_persons#4084L, state_code#4085L, state_name#4086, population_2020#4087L, population_2021#4088L], false\n                                                         :                                   :           +- SubqueryAlias b\n                                                         :                                   :              +- Relation [user_id#4089,order_datetime#4090,fraud_probability#4091] csv\n                                                         :                                   +- SubqueryAlias b\n                                                         :                                      +- Relation [merchant_abn#4092,order_datetime#4093,fraud_probability#4094] csv\n                                                         +- SubqueryAlias tagged\n                                                            +- View (`tagged`, [tagged_merchant_abn#1564L,category#4096])\n                                                               +- Project [merchant_abn#4095L AS tagged_merchant_abn#1564L, category#4096]\n                                                                  +- Relation [merchant_abn#4095L,category#4096] parquet\n"
     ]
    }
   ],
   "source": [
    "latest_year = train.select(max('Year')).collect()[0][0]\n",
    "agg_month_1 = train.filter(train.Year == latest_year)\n",
    "latest_month = agg_month_1.select(max('Month')).collect()[0][0]\n",
    "predicting_data = agg_month_1.filter(train.Month == latest_month)\n",
    "predicting_data = predicting_data.withColumn(\"future_customers\", lit(0))\n",
    "predicting_data.limit(5)"
   ]
  },
  {
   "cell_type": "code",
   "execution_count": null,
   "metadata": {},
   "outputs": [
    {
     "name": "stderr",
     "output_type": "stream",
     "text": [
      "                                                                                \r"
     ]
    }
   ],
   "source": [
    "# String indexing the categorical columns\n",
    "\n",
    "indexer = StringIndexer(inputCols = ['merchant_name', 'SA2_code', 'Year', 'Month', 'revenue_levels','category'],\n",
    "outputCols = ['merchant_name_num', 'SA2_code_num', 'Year_num', 'Month_num', 'revenue_levels_num','category_num'], handleInvalid=\"keep\")\n",
    "\n",
    "indexd_data = indexer.fit(predicting_data).transform(predicting_data)\n",
    "\n",
    "\n",
    "# Applying onehot encoding to the categorical data that is string indexed above\n",
    "encoder = OneHotEncoder(inputCols = ['merchant_name_num', 'SA2_code_num', 'Year_num', 'Month_num', 'revenue_levels_num','category_num'],\n",
    "outputCols = ['merchant_name_vec', 'SA2_code_vec', 'Year_vec', 'Month_vec', 'revenue_levels_vec','category_vec'])\n",
    "\n",
    "onehotdata = encoder.fit(indexd_data).transform(indexd_data)\n",
    "\n",
    "\n",
    "# Assembling the training data as a vector of features \n",
    "assembler1 = VectorAssembler(\n",
    "inputCols=['merchant_name_vec', 'SA2_code_vec', 'Year_vec', 'Month_vec', 'revenue_levels_vec','category_vec','males_in_SA2','females_in_SA2', 'income_per_person', 'no_of_customers','take_rate', 'total_earnings'],\n",
    "outputCol= \"features\" )\n",
    "\n",
    "outdata1 = assembler1.transform(onehotdata)\n",
    "\n",
    "# Renaming the target column as label\n",
    "\n",
    "outdata1 = outdata1.withColumnRenamed(\n",
    "    \"future_customers\",\n",
    "    \"label\"\n",
    ")\n",
    "\n",
    "\n",
    "# Assembling the features as a feature vector \n",
    "\n",
    "featureIndexer =\\\n",
    "    VectorIndexer(inputCol=\"features\", \n",
    "    outputCol=\"indexedFeatures\").fit(outdata1)\n",
    "\n",
    "outdata1 = featureIndexer.transform(outdata1)"
   ]
  },
  {
   "cell_type": "code",
   "execution_count": null,
   "metadata": {},
   "outputs": [],
   "source": [
    "predictions_test = model.transform(outdata1)"
   ]
  },
  {
   "cell_type": "code",
   "execution_count": null,
   "metadata": {},
   "outputs": [
    {
     "name": "stderr",
     "output_type": "stream",
     "text": [
      "[Stage 2830:===========================================>            (7 + 2) / 9]\r"
     ]
    },
    {
     "name": "stdout",
     "output_type": "stream",
     "text": [
      "22/10/05 12:35:11 WARN DAGScheduler: Broadcasting large task binary with size 1196.9 KiB\n",
      "+--------------------+---------------+---------+----+-----+------------------+-----+-------+---------+--------------+---------+------------+--------------+-----------------+-----+-----------------+------------+--------+---------+------------------+------------+------------------+------------------+-------------+-------------+------------------+-------------+--------------------+--------------------+------------------+\n",
      "|       merchant_name|no_of_customers| SA2_code|Year|Month|    total_earnings|males|females|take_rate|revenue_levels| category|males_in_SA2|females_in_SA2|income_per_person|label|merchant_name_num|SA2_code_num|Year_num|Month_num|revenue_levels_num|category_num| merchant_name_vec|      SA2_code_vec|     Year_vec|    Month_vec|revenue_levels_vec| category_vec|            features|     indexedFeatures|        prediction|\n",
      "+--------------------+---------------+---------+----+-----+------------------+-----+-------+---------+--------------+---------+------------+--------------+-----------------+-----+-----------------+------------+--------+---------+------------------+------------+------------------+------------------+-------------+-------------+------------------+-------------+--------------------+--------------------+------------------+\n",
      "|A Auctor Non Corp...|              3|125031480|2022|   10|205.55614462620872|    1|      2|     5.58|             a|Furniture|        2067|          2014|22634.72370679088|    0|            234.0|       457.0|     0.0|      0.0|               0.0|         2.0|(1381,[234],[1.0])|(1079,[457],[1.0])|(1,[0],[1.0])|(1,[0],[1.0])|     (5,[0],[1.0])|(5,[2],[1.0])|(2478,[234,1838,2...|(2478,[234,1838,2...|3.9649009673106037|\n",
      "+--------------------+---------------+---------+----+-----+------------------+-----+-------+---------+--------------+---------+------------+--------------+-----------------+-----+-----------------+------------+--------+---------+------------------+------------+------------------+------------------+-------------+-------------+------------------+-------------+--------------------+--------------------+------------------+\n",
      "only showing top 1 row\n",
      "\n"
     ]
    },
    {
     "name": "stderr",
     "output_type": "stream",
     "text": [
      "                                                                                \r"
     ]
    }
   ],
   "source": [
    "predictions_test.show(1)"
   ]
  },
  {
   "cell_type": "code",
   "execution_count": null,
   "metadata": {},
   "outputs": [
    {
     "name": "stderr",
     "output_type": "stream",
     "text": [
      "                                                                                \r"
     ]
    },
    {
     "data": {
      "text/html": [
       "<table border='1'>\n",
       "<tr><th>merchant_name</th><th>total_future_customers</th></tr>\n",
       "<tr><td>Dictum Mi Incorpo...</td><td>8.0</td></tr>\n",
       "<tr><td>Dictum Mi Limited</td><td>214.0</td></tr>\n",
       "<tr><td>Donec Luctus Indu...</td><td>56.0</td></tr>\n",
       "<tr><td>Elit Sed Consequa...</td><td>182.0</td></tr>\n",
       "<tr><td>Hendrerit Consect...</td><td>36.0</td></tr>\n",
       "</table>\n"
      ],
      "text/plain": [
       "+--------------------+----------------------+\n",
       "|       merchant_name|total_future_customers|\n",
       "+--------------------+----------------------+\n",
       "|Dictum Mi Incorpo...|                   8.0|\n",
       "|   Dictum Mi Limited|                 214.0|\n",
       "|Donec Luctus Indu...|                  56.0|\n",
       "|Elit Sed Consequa...|                 182.0|\n",
       "|Hendrerit Consect...|                  36.0|\n",
       "+--------------------+----------------------+"
      ]
     },
     "execution_count": 46,
     "metadata": {},
     "output_type": "execute_result"
    }
   ],
   "source": [
    "predictions_test.createOrReplaceTempView(\"preds\")\n",
    "\n",
    "pred = spark.sql(\"\"\" \n",
    "\n",
    "SELECT merchant_name, ROUND(SUM(prediction)) AS total_future_customers\n",
    "FROM preds\n",
    "GROUP BY merchant_name\n",
    "\n",
    "\"\"\")\n",
    "\n",
    "pred.limit(5)"
   ]
  },
  {
   "cell_type": "code",
   "execution_count": null,
   "metadata": {},
   "outputs": [
    {
     "name": "stderr",
     "output_type": "stream",
     "text": [
      "                                                                                \r"
     ]
    },
    {
     "data": {
      "text/plain": [
       "1381"
      ]
     },
     "execution_count": 47,
     "metadata": {},
     "output_type": "execute_result"
    }
   ],
   "source": [
    "pred.count()"
   ]
  },
  {
   "cell_type": "code",
   "execution_count": null,
   "metadata": {},
   "outputs": [
    {
     "name": "stderr",
     "output_type": "stream",
     "text": [
      "                                                                                \r"
     ]
    }
   ],
   "source": [
    "pred_df = pred.toPandas()"
   ]
  },
  {
   "cell_type": "code",
   "execution_count": null,
   "metadata": {},
   "outputs": [],
   "source": [
    "pred_df.to_csv(\"../data/curated/customers.csv\")"
   ]
  },
  {
   "cell_type": "code",
   "execution_count": null,
   "metadata": {},
   "outputs": [],
   "source": []
  }
 ],
 "metadata": {
  "kernelspec": {
   "display_name": "Python 3.9.12 ('base')",
   "language": "python",
   "name": "python3"
  },
  "language_info": {
   "codemirror_mode": {
    "name": "ipython",
    "version": 3
   },
   "file_extension": ".py",
   "mimetype": "text/x-python",
   "name": "python",
   "nbconvert_exporter": "python",
   "pygments_lexer": "ipython3",
   "version": "3.9.12"
  },
  "orig_nbformat": 4,
  "vscode": {
   "interpreter": {
    "hash": "afcda84b7471a9b9fde108a34f159f021985318d3feb99cad4970c959fa9ac9e"
   }
  }
 },
 "nbformat": 4,
 "nbformat_minor": 2
}
