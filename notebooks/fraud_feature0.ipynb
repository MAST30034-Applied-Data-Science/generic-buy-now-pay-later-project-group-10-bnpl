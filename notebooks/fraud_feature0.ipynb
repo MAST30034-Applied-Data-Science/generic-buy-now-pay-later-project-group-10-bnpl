{
 "cells": [
  {
   "cell_type": "code",
   "execution_count": 1,
   "id": "reverse-anthropology",
   "metadata": {},
   "outputs": [],
   "source": [
    "%run \"../scripts/outlier.py\" \"../scripts/paths.json\""
   ]
  },
  {
   "cell_type": "code",
   "execution_count": null,
   "id": "spare-eating",
   "metadata": {},
   "outputs": [],
   "source": [
    "# added fraud_feature0\n",
    "# NLP - 1\n"
   ]
  },
  {
   "cell_type": "code",
   "execution_count": 2,
   "id": "endangered-reduction",
   "metadata": {},
   "outputs": [
    {
     "ename": "AnalysisException",
     "evalue": "Path does not exist: file:/C:/Users/taiya/OneDrive/Documents/GitHub/generic-buy-now-pay-later-project-group-10-bnpl/notebooks/..data/curated/tagged_merchants.csv",
     "output_type": "error",
     "traceback": [
      "\u001b[1;31m---------------------------------------------------------------------------\u001b[0m",
      "\u001b[1;31mAnalysisException\u001b[0m                         Traceback (most recent call last)",
      "\u001b[1;32m<ipython-input-2-d869faf94301>\u001b[0m in \u001b[0;36m<module>\u001b[1;34m\u001b[0m\n\u001b[0;32m      1\u001b[0m \u001b[1;31m# Reading in segments\u001b[0m\u001b[1;33m\u001b[0m\u001b[1;33m\u001b[0m\u001b[1;33m\u001b[0m\u001b[0m\n\u001b[1;32m----> 2\u001b[1;33m \u001b[0msegments_data\u001b[0m \u001b[1;33m=\u001b[0m \u001b[0mspark\u001b[0m\u001b[1;33m.\u001b[0m\u001b[0mread\u001b[0m\u001b[1;33m.\u001b[0m\u001b[0mcsv\u001b[0m\u001b[1;33m(\u001b[0m\u001b[1;34m'..data/curated/tagged_merchants.csv'\u001b[0m\u001b[1;33m)\u001b[0m\u001b[1;33m.\u001b[0m\u001b[0mna\u001b[0m\u001b[1;33m.\u001b[0m\u001b[0mdrop\u001b[0m\u001b[1;33m(\u001b[0m\u001b[0msubset\u001b[0m\u001b[1;33m=\u001b[0m\u001b[1;33m[\u001b[0m\u001b[1;34m\"_c0\"\u001b[0m\u001b[1;33m]\u001b[0m\u001b[1;33m)\u001b[0m\u001b[1;33m\u001b[0m\u001b[1;33m\u001b[0m\u001b[0m\n\u001b[0m\u001b[0;32m      3\u001b[0m \u001b[1;33m\u001b[0m\u001b[0m\n",
      "\u001b[1;32m~\\anaconda3\\lib\\site-packages\\pyspark\\sql\\readwriter.py\u001b[0m in \u001b[0;36mcsv\u001b[1;34m(self, path, schema, sep, encoding, quote, escape, comment, header, inferSchema, ignoreLeadingWhiteSpace, ignoreTrailingWhiteSpace, nullValue, nanValue, positiveInf, negativeInf, dateFormat, timestampFormat, maxColumns, maxCharsPerColumn, maxMalformedLogPerPartition, mode, columnNameOfCorruptRecord, multiLine, charToEscapeQuoteEscaping, samplingRatio, enforceSchema, emptyValue, locale, lineSep, pathGlobFilter, recursiveFileLookup, modifiedBefore, modifiedAfter, unescapedQuoteHandling)\u001b[0m\n\u001b[0;32m    735\u001b[0m             \u001b[0mpath\u001b[0m \u001b[1;33m=\u001b[0m \u001b[1;33m[\u001b[0m\u001b[0mpath\u001b[0m\u001b[1;33m]\u001b[0m\u001b[1;33m\u001b[0m\u001b[1;33m\u001b[0m\u001b[0m\n\u001b[0;32m    736\u001b[0m         \u001b[1;32mif\u001b[0m \u001b[0mtype\u001b[0m\u001b[1;33m(\u001b[0m\u001b[0mpath\u001b[0m\u001b[1;33m)\u001b[0m \u001b[1;33m==\u001b[0m \u001b[0mlist\u001b[0m\u001b[1;33m:\u001b[0m\u001b[1;33m\u001b[0m\u001b[1;33m\u001b[0m\u001b[0m\n\u001b[1;32m--> 737\u001b[1;33m             \u001b[1;32mreturn\u001b[0m \u001b[0mself\u001b[0m\u001b[1;33m.\u001b[0m\u001b[0m_df\u001b[0m\u001b[1;33m(\u001b[0m\u001b[0mself\u001b[0m\u001b[1;33m.\u001b[0m\u001b[0m_jreader\u001b[0m\u001b[1;33m.\u001b[0m\u001b[0mcsv\u001b[0m\u001b[1;33m(\u001b[0m\u001b[0mself\u001b[0m\u001b[1;33m.\u001b[0m\u001b[0m_spark\u001b[0m\u001b[1;33m.\u001b[0m\u001b[0m_sc\u001b[0m\u001b[1;33m.\u001b[0m\u001b[0m_jvm\u001b[0m\u001b[1;33m.\u001b[0m\u001b[0mPythonUtils\u001b[0m\u001b[1;33m.\u001b[0m\u001b[0mtoSeq\u001b[0m\u001b[1;33m(\u001b[0m\u001b[0mpath\u001b[0m\u001b[1;33m)\u001b[0m\u001b[1;33m)\u001b[0m\u001b[1;33m)\u001b[0m\u001b[1;33m\u001b[0m\u001b[1;33m\u001b[0m\u001b[0m\n\u001b[0m\u001b[0;32m    738\u001b[0m         \u001b[1;32melif\u001b[0m \u001b[0misinstance\u001b[0m\u001b[1;33m(\u001b[0m\u001b[0mpath\u001b[0m\u001b[1;33m,\u001b[0m \u001b[0mRDD\u001b[0m\u001b[1;33m)\u001b[0m\u001b[1;33m:\u001b[0m\u001b[1;33m\u001b[0m\u001b[1;33m\u001b[0m\u001b[0m\n\u001b[0;32m    739\u001b[0m             \u001b[1;32mdef\u001b[0m \u001b[0mfunc\u001b[0m\u001b[1;33m(\u001b[0m\u001b[0miterator\u001b[0m\u001b[1;33m)\u001b[0m\u001b[1;33m:\u001b[0m\u001b[1;33m\u001b[0m\u001b[1;33m\u001b[0m\u001b[0m\n",
      "\u001b[1;32m~\\anaconda3\\lib\\site-packages\\py4j\\java_gateway.py\u001b[0m in \u001b[0;36m__call__\u001b[1;34m(self, *args)\u001b[0m\n\u001b[0;32m   1302\u001b[0m \u001b[1;33m\u001b[0m\u001b[0m\n\u001b[0;32m   1303\u001b[0m         \u001b[0manswer\u001b[0m \u001b[1;33m=\u001b[0m \u001b[0mself\u001b[0m\u001b[1;33m.\u001b[0m\u001b[0mgateway_client\u001b[0m\u001b[1;33m.\u001b[0m\u001b[0msend_command\u001b[0m\u001b[1;33m(\u001b[0m\u001b[0mcommand\u001b[0m\u001b[1;33m)\u001b[0m\u001b[1;33m\u001b[0m\u001b[1;33m\u001b[0m\u001b[0m\n\u001b[1;32m-> 1304\u001b[1;33m         return_value = get_return_value(\n\u001b[0m\u001b[0;32m   1305\u001b[0m             answer, self.gateway_client, self.target_id, self.name)\n\u001b[0;32m   1306\u001b[0m \u001b[1;33m\u001b[0m\u001b[0m\n",
      "\u001b[1;32m~\\anaconda3\\lib\\site-packages\\pyspark\\sql\\utils.py\u001b[0m in \u001b[0;36mdeco\u001b[1;34m(*a, **kw)\u001b[0m\n\u001b[0;32m    115\u001b[0m                 \u001b[1;31m# Hide where the exception came from that shows a non-Pythonic\u001b[0m\u001b[1;33m\u001b[0m\u001b[1;33m\u001b[0m\u001b[1;33m\u001b[0m\u001b[0m\n\u001b[0;32m    116\u001b[0m                 \u001b[1;31m# JVM exception message.\u001b[0m\u001b[1;33m\u001b[0m\u001b[1;33m\u001b[0m\u001b[1;33m\u001b[0m\u001b[0m\n\u001b[1;32m--> 117\u001b[1;33m                 \u001b[1;32mraise\u001b[0m \u001b[0mconverted\u001b[0m \u001b[1;32mfrom\u001b[0m \u001b[1;32mNone\u001b[0m\u001b[1;33m\u001b[0m\u001b[1;33m\u001b[0m\u001b[0m\n\u001b[0m\u001b[0;32m    118\u001b[0m             \u001b[1;32melse\u001b[0m\u001b[1;33m:\u001b[0m\u001b[1;33m\u001b[0m\u001b[1;33m\u001b[0m\u001b[0m\n\u001b[0;32m    119\u001b[0m                 \u001b[1;32mraise\u001b[0m\u001b[1;33m\u001b[0m\u001b[1;33m\u001b[0m\u001b[0m\n",
      "\u001b[1;31mAnalysisException\u001b[0m: Path does not exist: file:/C:/Users/taiya/OneDrive/Documents/GitHub/generic-buy-now-pay-later-project-group-10-bnpl/notebooks/..data/curated/tagged_merchants.csv"
     ]
    }
   ],
   "source": [
    "# Reading in segments \n",
    "segments_data = spark.read.csv('..data/curated/tagged_merchants.csv').na.drop(subset=[\"_c0\"])\n",
    "\n"
   ]
  },
  {
   "cell_type": "code",
   "execution_count": null,
   "id": "specific-dynamics",
   "metadata": {},
   "outputs": [],
   "source": [
    "final_dataset.createOrReplaceTempView(\"temp\")\n",
    "segments_data.createOrReplaceTempView(\"temp2\")\n",
    "\n",
    "final_join = spark.sql(\"\"\" \n",
    "\n",
    "SELECT *\n",
    "FROM temp\n",
    "\n",
    "\n",
    "LEFT JOIN temp2\n",
    "\n",
    "ON temp.merchant_abn = temp2._c3\n",
    "\"\"\")"
   ]
  },
  {
   "cell_type": "code",
   "execution_count": null,
   "id": "comic-affairs",
   "metadata": {},
   "outputs": [],
   "source": [
    "#Creating a table of average fraud probabilities for each category of purchase: \n",
    "\n",
    "aggregated_prob = final_join.groupBy(\"temp2._c6\").agg(avg(\"cons_fraud_prob\").alias(\"avg_consumer_fraud\"),avg(\"merch_fraud_prob\").alias(\"avg_merchant_fraud\"))\n",
    "aggregated_prob.limit(5)"
   ]
  },
  {
   "cell_type": "code",
   "execution_count": null,
   "id": "unlimited-conversion",
   "metadata": {},
   "outputs": [],
   "source": [
    "#adding a column for is_fraud for each transaction: \n",
    "\n",
    "is_fraud = when((final_join[\"_c6\"] == \"Electronics\") & (final_join[\"cons_fraud_prob\"] > 15.085) &(final_join[\"merch_fraud_prob\"]>29.635),1)\\\n",
    ".when((final_join[\"_c6\"] == \"Toys and DIY\") & (final_join[\"cons_fraud_prob\"] > 15.843) &(final_join[\"merch_fraud_prob\"]>32.404),1)\\\n",
    ".when((final_join[\"_c6\"] == \"Furniture\") & (final_join[\"cons_fraud_prob\"] > 15.077) & (final_join[\"merch_fraud_prob\"]>30.941),1)\\\n",
    ".when((final_join[\"_c6\"] == \"Beauty, Health, Personal and Household\") & (final_join[\"cons_fraud_prob\"] > 15.392) & (final_join[\"merch_fraud_prob\"]>29.76),1)\\\n",
    ".when((final_join[\"_c6\"] == \"Electronics\") & (final_join[\"cons_fraud_prob\"] > 15.085) &(final_join[\"merch_fraud_prob\"]>29.635),1)\\\n",
    ".when((final_join[\"_c6\"] == \"Books, Stationary and Music\") & (final_join[\"cons_fraud_prob\"] > 15.140) &(final_join[\"merch_fraud_prob\"]>29.016),1).otherwise(0)\n",
    "model_with_fraud = final_join.withColumn(\"is_fraud\",is_fraud)"
   ]
  },
  {
   "cell_type": "code",
   "execution_count": null,
   "id": "unlike-oriental",
   "metadata": {},
   "outputs": [],
   "source": [
    "#Creating a table of average fraud probabilities for each category of purchase: \n",
    "final_model_with_fraud = model_with_fraud.groupBy(\"merchant_abn_1\").agg(avg(\"is_fraud\").alias(\"average fraud rate per merchant\"))\n",
    "final_model_with_fraud.limit(20)"
   ]
  },
  {
   "cell_type": "code",
   "execution_count": null,
   "id": "gentle-valuable",
   "metadata": {},
   "outputs": [],
   "source": [
    "\n",
    "\n",
    "# avg of prob for each segments\n",
    "# label(bool) each transaction based on the threshold\n",
    "# avg label for each merchant"
   ]
  },
  {
   "cell_type": "code",
   "execution_count": null,
   "id": "awful-natural",
   "metadata": {},
   "outputs": [],
   "source": []
  }
 ],
 "metadata": {
  "kernelspec": {
   "display_name": "geo_py38",
   "language": "python",
   "name": "geo_py38"
  },
  "language_info": {
   "codemirror_mode": {
    "name": "ipython",
    "version": 3
   },
   "file_extension": ".py",
   "mimetype": "text/x-python",
   "name": "python",
   "nbconvert_exporter": "python",
   "pygments_lexer": "ipython3",
   "version": "3.8.8"
  }
 },
 "nbformat": 4,
 "nbformat_minor": 5
}
