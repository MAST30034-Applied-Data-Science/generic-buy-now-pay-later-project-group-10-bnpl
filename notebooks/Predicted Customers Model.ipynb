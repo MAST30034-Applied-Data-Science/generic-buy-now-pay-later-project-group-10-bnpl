{
 "cells": [
  {
   "cell_type": "code",
   "execution_count": 1,
   "metadata": {},
   "outputs": [],
   "source": [
    "import pandas as pd\n",
    "from pyspark.sql import SparkSession, functions as F\n",
    "import lbl2vec\n",
    "from sklearn.feature_extraction.text import TfidfVectorizer\n",
    "from sklearn.cluster import KMeans\n",
    "import numpy as np\n",
    "from pyspark.sql.functions import date_format\n",
    "import statsmodels.api as sm\n",
    "from statsmodels.formula.api import ols\n",
    "from pyspark.ml.feature import IndexToString, StringIndexer, VectorIndexer\n",
    "from pyspark.ml.evaluation import MulticlassClassificationEvaluator\n",
    "from pyspark.ml.feature import OneHotEncoder, VectorAssembler\n",
    "from pyspark.ml.regression import RandomForestRegressor\n",
    "from pyspark.ml.evaluation import RegressionEvaluator\n",
    "import seaborn as sns\n",
    "import matplotlib\n",
    "import matplotlib.pyplot as plt\n"
   ]
  },
  {
   "cell_type": "code",
   "execution_count": 2,
   "metadata": {},
   "outputs": [
    {
     "name": "stdout",
     "output_type": "stream",
     "text": [
      "22/10/05 12:09:11 WARN Utils: Your hostname, MacBook-Air-3.local resolves to a loopback address: 127.0.0.1; using 10.13.152.174 instead (on interface en0)\n",
      "22/10/05 12:09:11 WARN Utils: Set SPARK_LOCAL_IP if you need to bind to another address\n"
     ]
    },
    {
     "name": "stderr",
     "output_type": "stream",
     "text": [
      "Setting default log level to \"WARN\".\n",
      "To adjust logging level use sc.setLogLevel(newLevel). For SparkR, use setLogLevel(newLevel).\n"
     ]
    },
    {
     "name": "stdout",
     "output_type": "stream",
     "text": [
      "22/10/05 12:09:12 WARN NativeCodeLoader: Unable to load native-hadoop library for your platform... using builtin-java classes where applicable\n",
      "22/10/05 12:09:12 WARN Utils: Service 'SparkUI' could not bind on port 4040. Attempting port 4041.\n"
     ]
    }
   ],
   "source": [
    "# Create a spark session\n",
    "spark = (\n",
    "    SparkSession.builder.appName(\"MAST30034 Project 2\")\n",
    "    .config(\"spark.sql.repl.eagerEval.enabled\", True) \n",
    "    .config(\"spark.sql.parquet.cacheMetadata\", \"true\")\n",
    "    .config(\"spark.sql.session.timeZone\", \"Etc/UTC\")\n",
    "    .config(\"spark.driver.memory\", \"6g\")\n",
    "    .config(\"spark.executor.memory\", \"10g\")\n",
    "    .getOrCreate()\n",
    ")"
   ]
  },
  {
   "cell_type": "code",
   "execution_count": 3,
   "metadata": {},
   "outputs": [
    {
     "name": "stderr",
     "output_type": "stream",
     "text": [
      "/Users/Kasturi/opt/anaconda3/lib/python3.9/site-packages/geopandas/_compat.py:112: UserWarning: The Shapely GEOS version (3.10.2-CAPI-1.16.0) is incompatible with the GEOS version PyGEOS was compiled with (3.10.1-CAPI-1.16.0). Conversions between both will be slow.\n",
      "  warnings.warn(\n"
     ]
    },
    {
     "name": "stdout",
     "output_type": "stream",
     "text": [
      "22/10/05 12:09:14 WARN SparkSession: Using an existing Spark session; only runtime SQL configurations will take effect.\n"
     ]
    },
    {
     "name": "stderr",
     "output_type": "stream",
     "text": [
      "                                                                                \r"
     ]
    },
    {
     "name": "stdout",
     "output_type": "stream",
     "text": [
      "22/10/05 12:09:56 WARN package: Truncated the string representation of a plan since it was too large. This behavior can be adjusted by setting 'spark.sql.debug.maxToStringFields'.\n"
     ]
    },
    {
     "name": "stderr",
     "output_type": "stream",
     "text": [
      "                                                                                \r"
     ]
    },
    {
     "data": {
      "text/html": [
       "<table border='1'>\n",
       "<tr><th>merchant_name</th><th>merchant_abn</th><th>categories</th><th>take_rate</th><th>revenue_levels</th><th>name</th><th>address</th><th>state</th><th>gender</th><th>trans_merchant_abn</th><th>dollar_value</th><th>order_id</th><th>order_datetime</th><th>user_id</th><th>consumer_id</th><th>postcodes</th><th>int_sa2</th><th>SA2_code</th><th>SA2_name</th><th>income_2018-2019</th><th>total_males</th><th>total_females</th><th>total_persons</th><th>state_code</th><th>state_name</th><th>population_2020</th><th>population_2021</th></tr>\n",
       "<tr><td>Egestas Nunc Asso...</td><td>11121775571</td><td>digital goods: bo...</td><td>6.58</td><td>a</td><td>Christopher Rodri...</td><td>30554 Evans Strea...</td><td>NSW</td><td>Male</td><td>11121775571</td><td>11.28829564583802</td><td>2bd2a61d-72e5-42d...</td><td>2021-08-20</td><td>3698</td><td>1175</td><td>2299</td><td>111031231</td><td>111031231</td><td>Shortland - Jesmond</td><td>242936885</td><td>6412</td><td>6179</td><td>12593</td><td>1</td><td>New South Wales</td><td>12598</td><td>12694</td></tr>\n",
       "<tr><td>Morbi Accumsan In...</td><td>19618998054</td><td>tent and aWning s...</td><td>1.52</td><td>c</td><td>Christopher Rodri...</td><td>30554 Evans Strea...</td><td>NSW</td><td>Male</td><td>19618998054</td><td>62.90176609196828</td><td>3582b1f8-4577-403...</td><td>2021-05-16</td><td>3698</td><td>1175</td><td>2299</td><td>111031231</td><td>111031231</td><td>Shortland - Jesmond</td><td>242936885</td><td>6412</td><td>6179</td><td>12593</td><td>1</td><td>New South Wales</td><td>12598</td><td>12694</td></tr>\n",
       "<tr><td>Eu Dolor Egestas PC</td><td>94472466107</td><td>cable, satellite,...</td><td>6.23</td><td>a</td><td>Christopher Rodri...</td><td>30554 Evans Strea...</td><td>NSW</td><td>Male</td><td>94472466107</td><td>172.15375126873164</td><td>cb05d49f-c2fa-453...</td><td>2021-07-22</td><td>3698</td><td>1175</td><td>2299</td><td>111031231</td><td>111031231</td><td>Shortland - Jesmond</td><td>242936885</td><td>6412</td><td>6179</td><td>12593</td><td>1</td><td>New South Wales</td><td>12598</td><td>12694</td></tr>\n",
       "<tr><td>Urna Justo Indust...</td><td>31472801314</td><td>music shops - mus...</td><td>6.56</td><td>a</td><td>Christopher Rodri...</td><td>30554 Evans Strea...</td><td>NSW</td><td>Male</td><td>31472801314</td><td>0.4894787650356477</td><td>aeec15c1-67e8-4cb...</td><td>2021-05-18</td><td>3698</td><td>1175</td><td>2299</td><td>111031231</td><td>111031231</td><td>Shortland - Jesmond</td><td>242936885</td><td>6412</td><td>6179</td><td>12593</td><td>1</td><td>New South Wales</td><td>12598</td><td>12694</td></tr>\n",
       "<tr><td>Eu Sem Pellentesq...</td><td>35424691626</td><td>computers, comput...</td><td>3.9</td><td>b</td><td>Christopher Rodri...</td><td>30554 Evans Strea...</td><td>NSW</td><td>Male</td><td>35424691626</td><td>7.360217018778133</td><td>9df473ba-102d-461...</td><td>2021-07-04</td><td>3698</td><td>1175</td><td>2299</td><td>111031231</td><td>111031231</td><td>Shortland - Jesmond</td><td>242936885</td><td>6412</td><td>6179</td><td>12593</td><td>1</td><td>New South Wales</td><td>12598</td><td>12694</td></tr>\n",
       "</table>\n"
      ],
      "text/plain": [
       "+--------------------+------------+--------------------+---------+--------------+--------------------+--------------------+-----+------+------------------+------------------+--------------------+--------------+-------+-----------+---------+---------+---------+-------------------+----------------+-----------+-------------+-------------+----------+---------------+---------------+---------------+\n",
       "|       merchant_name|merchant_abn|          categories|take_rate|revenue_levels|                name|             address|state|gender|trans_merchant_abn|      dollar_value|            order_id|order_datetime|user_id|consumer_id|postcodes|  int_sa2| SA2_code|           SA2_name|income_2018-2019|total_males|total_females|total_persons|state_code|     state_name|population_2020|population_2021|\n",
       "+--------------------+------------+--------------------+---------+--------------+--------------------+--------------------+-----+------+------------------+------------------+--------------------+--------------+-------+-----------+---------+---------+---------+-------------------+----------------+-----------+-------------+-------------+----------+---------------+---------------+---------------+\n",
       "|Egestas Nunc Asso...| 11121775571|digital goods: bo...|     6.58|             a|Christopher Rodri...|30554 Evans Strea...|  NSW|  Male|       11121775571| 11.28829564583802|2bd2a61d-72e5-42d...|    2021-08-20|   3698|       1175|     2299|111031231|111031231|Shortland - Jesmond|       242936885|       6412|         6179|        12593|         1|New South Wales|          12598|          12694|\n",
       "|Morbi Accumsan In...| 19618998054|tent and aWning s...|     1.52|             c|Christopher Rodri...|30554 Evans Strea...|  NSW|  Male|       19618998054| 62.90176609196828|3582b1f8-4577-403...|    2021-05-16|   3698|       1175|     2299|111031231|111031231|Shortland - Jesmond|       242936885|       6412|         6179|        12593|         1|New South Wales|          12598|          12694|\n",
       "| Eu Dolor Egestas PC| 94472466107|cable, satellite,...|     6.23|             a|Christopher Rodri...|30554 Evans Strea...|  NSW|  Male|       94472466107|172.15375126873164|cb05d49f-c2fa-453...|    2021-07-22|   3698|       1175|     2299|111031231|111031231|Shortland - Jesmond|       242936885|       6412|         6179|        12593|         1|New South Wales|          12598|          12694|\n",
       "|Urna Justo Indust...| 31472801314|music shops - mus...|     6.56|             a|Christopher Rodri...|30554 Evans Strea...|  NSW|  Male|       31472801314|0.4894787650356477|aeec15c1-67e8-4cb...|    2021-05-18|   3698|       1175|     2299|111031231|111031231|Shortland - Jesmond|       242936885|       6412|         6179|        12593|         1|New South Wales|          12598|          12694|\n",
       "|Eu Sem Pellentesq...| 35424691626|computers, comput...|      3.9|             b|Christopher Rodri...|30554 Evans Strea...|  NSW|  Male|       35424691626| 7.360217018778133|9df473ba-102d-461...|    2021-07-04|   3698|       1175|     2299|111031231|111031231|Shortland - Jesmond|       242936885|       6412|         6179|        12593|         1|New South Wales|          12598|          12694|\n",
       "+--------------------+------------+--------------------+---------+--------------+--------------------+--------------------+-----+------+------------------+------------------+--------------------+--------------+-------+-----------+---------+---------+---------+-------------------+----------------+-----------+-------------+-------------+----------+---------------+---------------+---------------+"
      ]
     },
     "execution_count": 3,
     "metadata": {},
     "output_type": "execute_result"
    }
   ],
   "source": [
    "# Read in data from ETL.py file\n",
    "%run '../scripts/ETL.py' '../scripts/paths.json'\n",
    "final_join3.limit(5)"
   ]
  },
  {
   "cell_type": "code",
   "execution_count": 4,
   "metadata": {},
   "outputs": [
    {
     "name": "stderr",
     "output_type": "stream",
     "text": [
      "                                                                                \r"
     ]
    },
    {
     "data": {
      "text/plain": [
       "10540181"
      ]
     },
     "execution_count": 4,
     "metadata": {},
     "output_type": "execute_result"
    }
   ],
   "source": [
    "final_join3.count()"
   ]
  },
  {
   "cell_type": "code",
   "execution_count": 5,
   "metadata": {},
   "outputs": [],
   "source": [
    "tagged_merchants = pd.read_csv(\"../data/curated/tagged_merchants.csv\")\n",
    "tagged_merchants = tagged_merchants.iloc[:,1:]\n",
    "tagged_merchants.drop(['tags', 'name', 'cleaned_tags', 'store_type'], axis=1, inplace=True)\n",
    "tagged_merchants.to_parquet(\"../data/curated/tagged_merchants.parquet\")\n",
    "tagged_merchants_sdf = spark.read.parquet(\"../data/curated/tagged_merchants.parquet\")"
   ]
  },
  {
   "cell_type": "code",
   "execution_count": 6,
   "metadata": {},
   "outputs": [],
   "source": [
    "tagged_merchants_sdf = tagged_merchants_sdf.withColumnRenamed('merchant_abn',\n",
    "\n",
    "    'tagged_merchant_abn'\n",
    ")"
   ]
  },
  {
   "cell_type": "code",
   "execution_count": 7,
   "metadata": {},
   "outputs": [
    {
     "name": "stdout",
     "output_type": "stream",
     "text": [
      "+-------------------+--------------------+\n",
      "|tagged_merchant_abn|            category|\n",
      "+-------------------+--------------------+\n",
      "|        10023283211|           Furniture|\n",
      "|        10142254217|         Electronics|\n",
      "|        10165489824|        Toys and DIY|\n",
      "|        10187291046|        Toys and DIY|\n",
      "|        10192359162|Books, Stationary...|\n",
      "+-------------------+--------------------+\n",
      "only showing top 5 rows\n",
      "\n"
     ]
    }
   ],
   "source": [
    "tagged_merchants_sdf.show(5)"
   ]
  },
  {
   "cell_type": "code",
   "execution_count": 8,
   "metadata": {},
   "outputs": [],
   "source": [
    "final_join3.createOrReplaceTempView(\"join\")\n",
    "tagged_merchants_sdf.createOrReplaceTempView(\"tagged\")\n",
    "\n",
    "joint = spark.sql(\"\"\" \n",
    "\n",
    "SELECT *\n",
    "FROM join\n",
    "INNER JOIN tagged\n",
    "ON join.merchant_abn = tagged.tagged_merchant_abn\n",
    "\"\"\")\n",
    "\n",
    "joint = joint.drop('tagged_merchant_abn')"
   ]
  },
  {
   "cell_type": "code",
   "execution_count": 9,
   "metadata": {},
   "outputs": [
    {
     "name": "stderr",
     "output_type": "stream",
     "text": [
      "                                                                                \r"
     ]
    },
    {
     "data": {
      "text/plain": [
       "10109254"
      ]
     },
     "execution_count": 9,
     "metadata": {},
     "output_type": "execute_result"
    }
   ],
   "source": [
    "joint.count()"
   ]
  },
  {
   "cell_type": "code",
   "execution_count": 10,
   "metadata": {},
   "outputs": [],
   "source": [
    "joint.createOrReplaceTempView(\"group\")\n",
    "\n",
    "a = spark.sql(\"\"\" \n",
    "\n",
    "SELECT *, (take_rate/100)*dollar_value AS percent\n",
    "FROM group\n",
    "\"\"\")"
   ]
  },
  {
   "cell_type": "code",
   "execution_count": 11,
   "metadata": {},
   "outputs": [],
   "source": [
    "# Extracting the year, month, day from the timestamp\n",
    "from pyspark.sql.functions import year, month\n",
    "\n",
    "a = a.withColumn('Year', year(a.order_datetime))\n",
    "a = a.withColumn('Month',month(a.order_datetime))\n"
   ]
  },
  {
   "cell_type": "code",
   "execution_count": 12,
   "metadata": {},
   "outputs": [
    {
     "name": "stderr",
     "output_type": "stream",
     "text": [
      "[Stage 126:====================================>                   (9 + 5) / 14]\r"
     ]
    },
    {
     "name": "stdout",
     "output_type": "stream",
     "text": [
      "+--------------------+------------+--------------------+---------+--------------+--------------------+--------------------+-----+------+------------------+------------------+--------------------+--------------+-------+-----------+---------+---------+---------+-------------------+----------------+-----------+-------------+-------------+----------+---------------+---------------+---------------+--------------------+-------------------+----+-----+\n",
      "|       merchant_name|merchant_abn|          categories|take_rate|revenue_levels|                name|             address|state|gender|trans_merchant_abn|      dollar_value|            order_id|order_datetime|user_id|consumer_id|postcodes|  int_sa2| SA2_code|           SA2_name|income_2018-2019|total_males|total_females|total_persons|state_code|     state_name|population_2020|population_2021|            category|            percent|Year|Month|\n",
      "+--------------------+------------+--------------------+---------+--------------+--------------------+--------------------+-----+------+------------------+------------------+--------------------+--------------+-------+-----------+---------+---------+---------+-------------------+----------------+-----------+-------------+-------------+----------+---------------+---------------+---------------+--------------------+-------------------+----+-----+\n",
      "|Egestas Nunc Asso...| 11121775571|digital goods: bo...|     6.58|             a|Christopher Rodri...|30554 Evans Strea...|  NSW|  Male|       11121775571| 11.28829564583802|2bd2a61d-72e5-42d...|    2021-08-20|   3698|       1175|     2299|111031231|111031231|Shortland - Jesmond|       242936885|       6412|         6179|        12593|         1|New South Wales|          12598|          12694|Books, Stationary...| 0.7427698534961417|2021|    8|\n",
      "|Morbi Accumsan In...| 19618998054|tent and aWning s...|     1.52|             c|Christopher Rodri...|30554 Evans Strea...|  NSW|  Male|       19618998054| 62.90176609196828|3582b1f8-4577-403...|    2021-05-16|   3698|       1175|     2299|111031231|111031231|Shortland - Jesmond|       242936885|       6412|         6179|        12593|         1|New South Wales|          12598|          12694|Books, Stationary...| 0.9561068445979178|2021|    5|\n",
      "| Eu Dolor Egestas PC| 94472466107|cable, satellite,...|     6.23|             a|Christopher Rodri...|30554 Evans Strea...|  NSW|  Male|       94472466107|172.15375126873164|cb05d49f-c2fa-453...|    2021-07-22|   3698|       1175|     2299|111031231|111031231|Shortland - Jesmond|       242936885|       6412|         6179|        12593|         1|New South Wales|          12598|          12694|         Electronics| 10.725178704041982|2021|    7|\n",
      "|Urna Justo Indust...| 31472801314|music shops - mus...|     6.56|             a|Christopher Rodri...|30554 Evans Strea...|  NSW|  Male|       31472801314|0.4894787650356477|aeec15c1-67e8-4cb...|    2021-05-18|   3698|       1175|     2299|111031231|111031231|Shortland - Jesmond|       242936885|       6412|         6179|        12593|         1|New South Wales|          12598|          12694|Books, Stationary...|0.03210980698633849|2021|    5|\n",
      "|Eu Sem Pellentesq...| 35424691626|computers, comput...|      3.9|             b|Christopher Rodri...|30554 Evans Strea...|  NSW|  Male|       35424691626| 7.360217018778133|9df473ba-102d-461...|    2021-07-04|   3698|       1175|     2299|111031231|111031231|Shortland - Jesmond|       242936885|       6412|         6179|        12593|         1|New South Wales|          12598|          12694|         Electronics| 0.2870484637323472|2021|    7|\n",
      "+--------------------+------------+--------------------+---------+--------------+--------------------+--------------------+-----+------+------------------+------------------+--------------------+--------------+-------+-----------+---------+---------+---------+-------------------+----------------+-----------+-------------+-------------+----------+---------------+---------------+---------------+--------------------+-------------------+----+-----+\n",
      "only showing top 5 rows\n",
      "\n"
     ]
    },
    {
     "name": "stderr",
     "output_type": "stream",
     "text": [
      "                                                                                \r"
     ]
    }
   ],
   "source": [
    "a.show(5)"
   ]
  },
  {
   "cell_type": "code",
   "execution_count": 13,
   "metadata": {},
   "outputs": [],
   "source": [
    "a = a.drop('merchant_abn', 'categories','name', 'address', 'trans_merchant_abn', 'order_id','order_datetime', 'consumer_id','int_sa2',\n",
    "'SA2_name','state_code','state_name','population_2020', 'population_2021')"
   ]
  },
  {
   "cell_type": "code",
   "execution_count": 14,
   "metadata": {},
   "outputs": [
    {
     "name": "stderr",
     "output_type": "stream",
     "text": [
      "[Stage 147:==================================================>      (8 + 1) / 9]\r"
     ]
    },
    {
     "name": "stdout",
     "output_type": "stream",
     "text": [
      "+-------------+---------+--------------+-----+------+------------+-------+---------+--------+----------------+-----------+-------------+-------------+--------+-------+----+-----+\n",
      "|merchant_name|take_rate|revenue_levels|state|gender|dollar_value|user_id|postcodes|SA2_code|income_2018-2019|total_males|total_females|total_persons|category|percent|Year|Month|\n",
      "+-------------+---------+--------------+-----+------+------------+-------+---------+--------+----------------+-----------+-------------+-------------+--------+-------+----+-----+\n",
      "|            0|        0|             0|    0|     0|           0|      0|        0|       0|               0|          0|            0|            0|       0|      0|   0|    0|\n",
      "+-------------+---------+--------------+-----+------+------------+-------+---------+--------+----------------+-----------+-------------+-------------+--------+-------+----+-----+\n",
      "\n"
     ]
    },
    {
     "name": "stderr",
     "output_type": "stream",
     "text": [
      "                                                                                \r"
     ]
    }
   ],
   "source": [
    " \n",
    "# Find Count of Null, None, NaN of All DataFrame Columns\n",
    "from pyspark.sql.functions import col,isnan, when, count\n",
    "a.select([count(when(isnan(c) | col(c).isNull(), c)).alias(c) for c in a.columns]\n",
    "   ).show()"
   ]
  },
  {
   "cell_type": "code",
   "execution_count": 15,
   "metadata": {},
   "outputs": [
    {
     "name": "stdout",
     "output_type": "stream",
     "text": [
      "root\n",
      " |-- merchant_name: string (nullable = true)\n",
      " |-- take_rate: double (nullable = true)\n",
      " |-- revenue_levels: string (nullable = true)\n",
      " |-- state: string (nullable = true)\n",
      " |-- gender: string (nullable = true)\n",
      " |-- dollar_value: double (nullable = true)\n",
      " |-- user_id: long (nullable = true)\n",
      " |-- postcodes: string (nullable = true)\n",
      " |-- SA2_code: long (nullable = true)\n",
      " |-- income_2018-2019: long (nullable = true)\n",
      " |-- total_males: long (nullable = true)\n",
      " |-- total_females: long (nullable = true)\n",
      " |-- total_persons: long (nullable = true)\n",
      " |-- category: string (nullable = true)\n",
      " |-- percent: double (nullable = true)\n",
      " |-- Year: integer (nullable = true)\n",
      " |-- Month: integer (nullable = true)\n",
      "\n"
     ]
    }
   ],
   "source": [
    "a.printSchema()"
   ]
  },
  {
   "cell_type": "code",
   "execution_count": 16,
   "metadata": {},
   "outputs": [
    {
     "name": "stderr",
     "output_type": "stream",
     "text": [
      "                                                                                \r"
     ]
    },
    {
     "name": "stdout",
     "output_type": "stream",
     "text": [
      "+--------------------+-----+\n",
      "|              m_name|males|\n",
      "+--------------------+-----+\n",
      "|Semper Tellus PC1...|    2|\n",
      "|Est Nunc Consulti...|   11|\n",
      "|Ipsum Primis In I...|    2|\n",
      "|Euismod In LLC601...|    1|\n",
      "|Leo In Consulting...|    2|\n",
      "+--------------------+-----+\n",
      "only showing top 5 rows\n",
      "\n"
     ]
    },
    {
     "name": "stderr",
     "output_type": "stream",
     "text": [
      "[Stage 191:======>                                                  (1 + 8) / 9]\r"
     ]
    },
    {
     "name": "stdout",
     "output_type": "stream",
     "text": [
      "+--------------------+-------+\n",
      "|              f_name|females|\n",
      "+--------------------+-------+\n",
      "|Quis Tristique Lt...|      1|\n",
      "|Nunc In Industrie...|      2|\n",
      "|Nunc Sit LLC10902...|      2|\n",
      "|Leo In Consulting...|      5|\n",
      "|Risus Donec Assoc...|      1|\n",
      "+--------------------+-------+\n",
      "only showing top 5 rows\n",
      "\n"
     ]
    },
    {
     "name": "stderr",
     "output_type": "stream",
     "text": [
      "                                                                                \r"
     ]
    }
   ],
   "source": [
    "a.createOrReplaceTempView(\"agg\")\n",
    "\n",
    "male = spark.sql(\"\"\" \n",
    "\n",
    "SELECT CONCAT(merchant_name, SA2_code, Year, Month) AS m_name, COUNT(gender) as males\n",
    "FROM agg\n",
    "WHERE gender = 'Male'\n",
    "GROUP BY merchant_name, SA2_code, Year, Month\n",
    "\"\"\")\n",
    "\n",
    "male.show(5)\n",
    "\n",
    "female = spark.sql(\"\"\" \n",
    "\n",
    "SELECT CONCAT(merchant_name, SA2_code, Year, Month) AS f_name, COUNT(gender) as females\n",
    "FROM agg\n",
    "WHERE gender = 'Female'\n",
    "GROUP BY merchant_name, SA2_code, Year, Month\n",
    "\"\"\")\n",
    "female.show(5)"
   ]
  },
  {
   "cell_type": "code",
   "execution_count": 17,
   "metadata": {},
   "outputs": [
    {
     "name": "stderr",
     "output_type": "stream",
     "text": [
      "[Stage 209:====================================>                   (9 + 5) / 14]\r"
     ]
    },
    {
     "name": "stdout",
     "output_type": "stream",
     "text": [
      "+--------------------+---------+--------------+-----+------+-----------------+-------+---------+---------+----------------+-----------+-------------+-------------+--------------------+------------------+----+-----+\n",
      "|       merchant_name|take_rate|revenue_levels|state|gender|     dollar_value|user_id|postcodes| SA2_code|income_2018-2019|total_males|total_females|total_persons|            category|           percent|Year|Month|\n",
      "+--------------------+---------+--------------+-----+------+-----------------+-------+---------+---------+----------------+-----------+-------------+-------------+--------------------+------------------+----+-----+\n",
      "|Egestas Nunc Asso...|     6.58|             a|  NSW|  Male|11.28829564583802|   3698|     2299|111031231|       242936885|       6412|         6179|        12593|Books, Stationary...|0.7427698534961417|2021|    8|\n",
      "|Morbi Accumsan In...|     1.52|             c|  NSW|  Male|62.90176609196828|   3698|     2299|111031231|       242936885|       6412|         6179|        12593|Books, Stationary...|0.9561068445979178|2021|    5|\n",
      "+--------------------+---------+--------------+-----+------+-----------------+-------+---------+---------+----------------+-----------+-------------+-------------+--------------------+------------------+----+-----+\n",
      "only showing top 2 rows\n",
      "\n"
     ]
    },
    {
     "name": "stderr",
     "output_type": "stream",
     "text": [
      "                                                                                \r"
     ]
    }
   ],
   "source": [
    "a.show(2)"
   ]
  },
  {
   "cell_type": "code",
   "execution_count": 18,
   "metadata": {},
   "outputs": [
    {
     "name": "stderr",
     "output_type": "stream",
     "text": [
      "[Stage 229:>                                                        (0 + 1) / 1]\r"
     ]
    },
    {
     "name": "stdout",
     "output_type": "stream",
     "text": [
      "+--------------------+---------------+---------+----+-----+------------------+--------------------+\n",
      "|       merchant_name|no_of_customers| SA2_code|Year|Month|    total_earnings|            join_col|\n",
      "+--------------------+---------------+---------+----+-----+------------------+--------------------+\n",
      "|Metus Sit Amet In...|              1|407021150|2021|    8| 66.38711669098895|Metus Sit Amet In...|\n",
      "|     Ut Nisi Limited|              1|307031184|2021|    8| 89.47004686919264|Ut Nisi Limited30...|\n",
      "|Dolor Dolor Indus...|              1|209041224|2021|    7| 32.32942469964551|Dolor Dolor Indus...|\n",
      "|Ut Molestie Found...|              1|206041124|2021|    8| 327.0497650599944|Ut Molestie Found...|\n",
      "|     Vivamus Sit LLC|              1|307031184|2021|    8| 244.8254892010557|Vivamus Sit LLC30...|\n",
      "|Euismod Et Institute|              7|210021235|2021|    8| 194.5570510377872|Euismod Et Instit...|\n",
      "|   Leo In Consulting|             20|210021235|2021|    8|1172.0943954300897|Leo In Consulting...|\n",
      "|  Adipiscing Elit PC|              3|210021235|2021|    7| 538.4843932756896|Adipiscing Elit P...|\n",
      "|Malesuada Malesua...|              2|210021235|2021|    7|   39.732673677496|Malesuada Malesua...|\n",
      "|Phasellus At Limited|              2|307031184|2021|    7| 324.2447989531052|Phasellus At Limi...|\n",
      "|    Ligula Tortor PC|              2|210021235|2021|    7| 255.9311108998843|Ligula Tortor PC2...|\n",
      "|   Leo In Consulting|             19|210021235|2021|    7| 938.5081174353837|Leo In Consulting...|\n",
      "| Nunc Sed Consulting|              1|307031184|2021|    7|475.64060973314133|Nunc Sed Consulti...|\n",
      "|              Eu LLC|              3|307031184|2021|    6|45.719267187057184|Eu LLC30703118420216|\n",
      "|        A Nunc Corp.|              1|206041124|2021|    5|330.23941813974835|A Nunc Corp.20604...|\n",
      "|          Lectus LLP|              1|209041224|2021|    5|31.263966222500926|Lectus LLP2090412...|\n",
      "|Ipsum Primis Corp...|              1|206041124|2021|    8| 245.9238887961692|Ipsum Primis Corp...|\n",
      "|Placerat Eget Ven...|             21|210021235|2021|    7|1030.3259242057652|Placerat Eget Ven...|\n",
      "|Et Magna Praesent...|              2|210021235|2021|    7|41.912586124135295|Et Magna Praesent...|\n",
      "|Blandit Congue In...|              1|309081259|2021|    8|285.94268170211336|Blandit Congue In...|\n",
      "+--------------------+---------------+---------+----+-----+------------------+--------------------+\n",
      "only showing top 20 rows\n",
      "\n"
     ]
    },
    {
     "name": "stderr",
     "output_type": "stream",
     "text": [
      "                                                                                \r"
     ]
    }
   ],
   "source": [
    "a.createOrReplaceTempView(\"agg\")\n",
    "\n",
    "temp = spark.sql(\"\"\" \n",
    "\n",
    "SELECT merchant_name, COUNT(DISTINCT user_id) AS no_of_customers, SA2_code, Year, Month, SUM(dollar_value - percent) AS total_earnings,\n",
    "    CONCAT(merchant_name, SA2_code, Year, Month) AS join_col\n",
    "FROM agg \n",
    "GROUP BY merchant_name, SA2_code, Year, Month\n",
    "\"\"\")\n",
    "\n",
    "temp.show()\n"
   ]
  },
  {
   "cell_type": "code",
   "execution_count": 19,
   "metadata": {},
   "outputs": [
    {
     "name": "stderr",
     "output_type": "stream",
     "text": [
      "                                                                                \r"
     ]
    },
    {
     "data": {
      "text/html": [
       "<table border='1'>\n",
       "<tr><th>merchant_name</th><th>no_of_customers</th><th>SA2_code</th><th>Year</th><th>Month</th><th>total_earnings</th><th>join_col</th><th>m_name</th><th>males</th><th>f_name</th><th>females</th></tr>\n",
       "<tr><td>A Aliquet Ltd</td><td>2</td><td>401021010</td><td>2021</td><td>4</td><td>670.4857203238805</td><td>A Aliquet Ltd4010...</td><td>A Aliquet Ltd4010...</td><td>1</td><td>A Aliquet Ltd4010...</td><td>1</td></tr>\n",
       "<tr><td>A Aliquet Ltd</td><td>2</td><td>603011065</td><td>2021</td><td>12</td><td>346.5799250465364</td><td>A Aliquet Ltd6030...</td><td>A Aliquet Ltd6030...</td><td>1</td><td>A Aliquet Ltd6030...</td><td>1</td></tr>\n",
       "<tr><td>A Arcu Industries</td><td>2</td><td>124011453</td><td>2021</td><td>8</td><td>203.5414742977921</td><td>A Arcu Industries...</td><td>A Arcu Industries...</td><td>1</td><td>A Arcu Industries...</td><td>1</td></tr>\n",
       "<tr><td>A Arcu Industries</td><td>2</td><td>211051282</td><td>2022</td><td>3</td><td>655.1195924003883</td><td>A Arcu Industries...</td><td>A Arcu Industries...</td><td>1</td><td>A Arcu Industries...</td><td>1</td></tr>\n",
       "<tr><td>A Arcu Industries</td><td>2</td><td>214021379</td><td>2021</td><td>7</td><td>451.0067711100705</td><td>A Arcu Industries...</td><td>A Arcu Industries...</td><td>1</td><td>A Arcu Industries...</td><td>1</td></tr>\n",
       "</table>\n"
      ],
      "text/plain": [
       "+-----------------+---------------+---------+----+-----+-----------------+--------------------+--------------------+-----+--------------------+-------+\n",
       "|    merchant_name|no_of_customers| SA2_code|Year|Month|   total_earnings|            join_col|              m_name|males|              f_name|females|\n",
       "+-----------------+---------------+---------+----+-----+-----------------+--------------------+--------------------+-----+--------------------+-------+\n",
       "|    A Aliquet Ltd|              2|401021010|2021|    4|670.4857203238805|A Aliquet Ltd4010...|A Aliquet Ltd4010...|    1|A Aliquet Ltd4010...|      1|\n",
       "|    A Aliquet Ltd|              2|603011065|2021|   12|346.5799250465364|A Aliquet Ltd6030...|A Aliquet Ltd6030...|    1|A Aliquet Ltd6030...|      1|\n",
       "|A Arcu Industries|              2|124011453|2021|    8|203.5414742977921|A Arcu Industries...|A Arcu Industries...|    1|A Arcu Industries...|      1|\n",
       "|A Arcu Industries|              2|211051282|2022|    3|655.1195924003883|A Arcu Industries...|A Arcu Industries...|    1|A Arcu Industries...|      1|\n",
       "|A Arcu Industries|              2|214021379|2021|    7|451.0067711100705|A Arcu Industries...|A Arcu Industries...|    1|A Arcu Industries...|      1|\n",
       "+-----------------+---------------+---------+----+-----+-----------------+--------------------+--------------------+-----+--------------------+-------+"
      ]
     },
     "execution_count": 19,
     "metadata": {},
     "output_type": "execute_result"
    }
   ],
   "source": [
    "temp.createOrReplaceTempView(\"gender_join\")\n",
    "male.createOrReplaceTempView(\"m\")\n",
    "female.createOrReplaceTempView(\"f\")\n",
    "\n",
    "temp2 = spark.sql(\"\"\" \n",
    "\n",
    "SELECT *\n",
    "FROM gender_join\n",
    "INNER JOIN m\n",
    "ON gender_join.join_col = m.m_name\n",
    "\"\"\")\n",
    "\n",
    "temp2.createOrReplaceTempView(\"temp2\")\n",
    "\n",
    "temp3 = spark.sql(\"\"\" \n",
    "\n",
    "SELECT *\n",
    "FROM temp2\n",
    "INNER JOIN f\n",
    "ON temp2.join_col = f.f_name\n",
    "\"\"\")\n",
    "\n",
    "temp3.limit(5)"
   ]
  },
  {
   "cell_type": "code",
   "execution_count": 20,
   "metadata": {},
   "outputs": [],
   "source": [
    "a = a.withColumnRenamed('income_2018-2019',\n",
    "\n",
    "    'income_2018_2019'    \n",
    ")\n",
    "\n",
    "a = a.withColumn('income_per_persons',\n",
    "    (F.col('income_2018_2019')/F.col('total_persons'))\n",
    ")\n"
   ]
  },
  {
   "cell_type": "code",
   "execution_count": 21,
   "metadata": {},
   "outputs": [
    {
     "name": "stderr",
     "output_type": "stream",
     "text": [
      "[Stage 352:===================================================>   (13 + 1) / 14]\r"
     ]
    },
    {
     "name": "stdout",
     "output_type": "stream",
     "text": [
      "+--------------------+---------+--------------+-----+------+-----------------+-------+---------+---------+----------------+-----------+-------------+-------------+--------------------+------------------+----+-----+------------------+\n",
      "|       merchant_name|take_rate|revenue_levels|state|gender|     dollar_value|user_id|postcodes| SA2_code|income_2018_2019|total_males|total_females|total_persons|            category|           percent|Year|Month|income_per_persons|\n",
      "+--------------------+---------+--------------+-----+------+-----------------+-------+---------+---------+----------------+-----------+-------------+-------------+--------------------+------------------+----+-----+------------------+\n",
      "|Egestas Nunc Asso...|     6.58|             a|  NSW|  Male|11.28829564583802|   3698|     2299|111031231|       242936885|       6412|         6179|        12593|Books, Stationary...|0.7427698534961417|2021|    8|19291.422615738902|\n",
      "+--------------------+---------+--------------+-----+------+-----------------+-------+---------+---------+----------------+-----------+-------------+-------------+--------------------+------------------+----+-----+------------------+\n",
      "only showing top 1 row\n",
      "\n"
     ]
    },
    {
     "name": "stderr",
     "output_type": "stream",
     "text": [
      "                                                                                \r"
     ]
    }
   ],
   "source": [
    "a.show(1)"
   ]
  },
  {
   "cell_type": "code",
   "execution_count": 22,
   "metadata": {},
   "outputs": [
    {
     "name": "stderr",
     "output_type": "stream",
     "text": [
      "[Stage 369:====================================>                   (9 + 5) / 14]\r"
     ]
    },
    {
     "name": "stdout",
     "output_type": "stream",
     "text": [
      "+---------------+---------+--------------+--------------------+------------+--------------+------------------+\n",
      "|      drop_name|take_rate|revenue_levels|            category|males_in_SA2|females_in_SA2| income_per_person|\n",
      "+---------------+---------+--------------+--------------------+------------+--------------+------------------+\n",
      "|   A Associates|     4.95|             b|Books, Stationary...|        9762|         10846|22526.523772559674|\n",
      "|A Felis Company|     4.32|             b|Books, Stationary...|        1080|          1051| 33927.61168708765|\n",
      "+---------------+---------+--------------+--------------------+------------+--------------+------------------+\n",
      "only showing top 2 rows\n",
      "\n"
     ]
    },
    {
     "name": "stderr",
     "output_type": "stream",
     "text": [
      "                                                                                \r"
     ]
    }
   ],
   "source": [
    "a.createOrReplaceTempView(\"features\")\n",
    "\n",
    "e = spark.sql(\"\"\" \n",
    "\n",
    "SELECT merchant_name AS drop_name, FIRST(take_rate) AS take_rate, FIRST(revenue_levels) AS revenue_levels, FIRST(category) AS category,\n",
    "    FIRST(total_males) AS males_in_SA2, FIRST(total_females) AS females_in_SA2, FIRST(income_per_persons) AS income_per_person\n",
    "FROM features\n",
    "GROUP BY merchant_name\n",
    "\"\"\")\n",
    "\n",
    "e.show(2)"
   ]
  },
  {
   "cell_type": "code",
   "execution_count": 23,
   "metadata": {},
   "outputs": [
    {
     "name": "stderr",
     "output_type": "stream",
     "text": [
      "                                                                                \r"
     ]
    },
    {
     "data": {
      "text/html": [
       "<table border='1'>\n",
       "<tr><th>merchant_name</th><th>no_of_customers</th><th>SA2_code</th><th>Year</th><th>Month</th><th>total_earnings</th><th>males</th><th>females</th><th>take_rate</th><th>revenue_levels</th><th>category</th><th>males_in_SA2</th><th>females_in_SA2</th><th>income_per_person</th></tr>\n",
       "<tr><td>A Aliquet Ltd</td><td>2</td><td>312021351</td><td>2021</td><td>6</td><td>298.8537411028336</td><td>1</td><td>1</td><td>3.87</td><td>b</td><td>Furniture</td><td>3292</td><td>3206</td><td>28693.71558221812</td></tr>\n",
       "<tr><td>A Aliquet Ltd</td><td>2</td><td>401021010</td><td>2021</td><td>4</td><td>670.4857203238805</td><td>1</td><td>1</td><td>3.87</td><td>b</td><td>Furniture</td><td>3292</td><td>3206</td><td>28693.71558221812</td></tr>\n",
       "<tr><td>A Aliquet Ltd</td><td>2</td><td>603011065</td><td>2021</td><td>12</td><td>346.5799250465364</td><td>1</td><td>1</td><td>3.87</td><td>b</td><td>Furniture</td><td>3292</td><td>3206</td><td>28693.71558221812</td></tr>\n",
       "<tr><td>A Arcu Industries</td><td>2</td><td>124011453</td><td>2021</td><td>8</td><td>203.5414742977921</td><td>1</td><td>1</td><td>3.0</td><td>c</td><td>Furniture</td><td>4821</td><td>4683</td><td>25816.03452631579</td></tr>\n",
       "<tr><td>A Arcu Industries</td><td>2</td><td>211051282</td><td>2022</td><td>3</td><td>655.1195924003883</td><td>1</td><td>1</td><td>3.0</td><td>c</td><td>Furniture</td><td>4821</td><td>4683</td><td>25816.03452631579</td></tr>\n",
       "</table>\n"
      ],
      "text/plain": [
       "+-----------------+---------------+---------+----+-----+-----------------+-----+-------+---------+--------------+---------+------------+--------------+-----------------+\n",
       "|    merchant_name|no_of_customers| SA2_code|Year|Month|   total_earnings|males|females|take_rate|revenue_levels| category|males_in_SA2|females_in_SA2|income_per_person|\n",
       "+-----------------+---------------+---------+----+-----+-----------------+-----+-------+---------+--------------+---------+------------+--------------+-----------------+\n",
       "|    A Aliquet Ltd|              2|312021351|2021|    6|298.8537411028336|    1|      1|     3.87|             b|Furniture|        3292|          3206|28693.71558221812|\n",
       "|    A Aliquet Ltd|              2|401021010|2021|    4|670.4857203238805|    1|      1|     3.87|             b|Furniture|        3292|          3206|28693.71558221812|\n",
       "|    A Aliquet Ltd|              2|603011065|2021|   12|346.5799250465364|    1|      1|     3.87|             b|Furniture|        3292|          3206|28693.71558221812|\n",
       "|A Arcu Industries|              2|124011453|2021|    8|203.5414742977921|    1|      1|      3.0|             c|Furniture|        4821|          4683|25816.03452631579|\n",
       "|A Arcu Industries|              2|211051282|2022|    3|655.1195924003883|    1|      1|      3.0|             c|Furniture|        4821|          4683|25816.03452631579|\n",
       "+-----------------+---------------+---------+----+-----+-----------------+-----+-------+---------+--------------+---------+------------+--------------+-----------------+"
      ]
     },
     "execution_count": 23,
     "metadata": {},
     "output_type": "execute_result"
    }
   ],
   "source": [
    "temp3.createOrReplaceTempView(\"edit\")\n",
    "e.createOrReplaceTempView(\"rates\")\n",
    "\n",
    "temp4 = spark.sql(\"\"\" \n",
    "\n",
    "SELECT *\n",
    "FROM edit\n",
    "INNER JOIN rates\n",
    "ON edit.merchant_name = rates.drop_name\n",
    "\"\"\")\n",
    "\n",
    "train = temp4.drop('m_name', 'f_name', 'drop_name','join_col')\n",
    "\n",
    "train.limit(5)"
   ]
  },
  {
   "cell_type": "code",
   "execution_count": 24,
   "metadata": {},
   "outputs": [
    {
     "name": "stdout",
     "output_type": "stream",
     "text": [
      "root\n",
      " |-- merchant_name: string (nullable = true)\n",
      " |-- no_of_customers: long (nullable = false)\n",
      " |-- SA2_code: long (nullable = true)\n",
      " |-- Year: integer (nullable = true)\n",
      " |-- Month: integer (nullable = true)\n",
      " |-- total_earnings: double (nullable = true)\n",
      " |-- males: long (nullable = false)\n",
      " |-- females: long (nullable = false)\n",
      " |-- take_rate: double (nullable = true)\n",
      " |-- revenue_levels: string (nullable = true)\n",
      " |-- category: string (nullable = true)\n",
      " |-- males_in_SA2: long (nullable = true)\n",
      " |-- females_in_SA2: long (nullable = true)\n",
      " |-- income_per_person: double (nullable = true)\n",
      "\n"
     ]
    }
   ],
   "source": [
    "train.printSchema()"
   ]
  },
  {
   "cell_type": "code",
   "execution_count": 25,
   "metadata": {},
   "outputs": [
    {
     "name": "stderr",
     "output_type": "stream",
     "text": [
      "                                                                                \r"
     ]
    },
    {
     "data": {
      "text/html": [
       "<table border='1'>\n",
       "<tr><th>merchant_name</th><th>SA2_code</th><th>Year</th><th>Month</th><th>no_of_customers</th></tr>\n",
       "<tr><td>A Aliquet Ltd</td><td>401021010</td><td>2021</td><td>4</td><td>2</td></tr>\n",
       "<tr><td>A Aliquet Ltd</td><td>603011065</td><td>2021</td><td>12</td><td>2</td></tr>\n",
       "<tr><td>A Arcu Industries</td><td>124011453</td><td>2021</td><td>8</td><td>2</td></tr>\n",
       "<tr><td>A Arcu Industries</td><td>211051282</td><td>2022</td><td>3</td><td>2</td></tr>\n",
       "<tr><td>A Arcu Industries</td><td>214021379</td><td>2021</td><td>7</td><td>2</td></tr>\n",
       "</table>\n"
      ],
      "text/plain": [
       "+-----------------+---------+----+-----+---------------+\n",
       "|    merchant_name| SA2_code|Year|Month|no_of_customers|\n",
       "+-----------------+---------+----+-----+---------------+\n",
       "|    A Aliquet Ltd|401021010|2021|    4|              2|\n",
       "|    A Aliquet Ltd|603011065|2021|   12|              2|\n",
       "|A Arcu Industries|124011453|2021|    8|              2|\n",
       "|A Arcu Industries|211051282|2022|    3|              2|\n",
       "|A Arcu Industries|214021379|2021|    7|              2|\n",
       "+-----------------+---------+----+-----+---------------+"
      ]
     },
     "execution_count": 25,
     "metadata": {},
     "output_type": "execute_result"
    }
   ],
   "source": [
    "train_projection = train.select(\"merchant_name\", \"SA2_code\", \"Year\", \"Month\", 'no_of_customers')\n",
    "train_projection.limit(5)"
   ]
  },
  {
   "cell_type": "code",
   "execution_count": 26,
   "metadata": {},
   "outputs": [
    {
     "name": "stderr",
     "output_type": "stream",
     "text": [
      "                                                                                \r"
     ]
    },
    {
     "data": {
      "text/plain": [
       "891622"
      ]
     },
     "execution_count": 26,
     "metadata": {},
     "output_type": "execute_result"
    }
   ],
   "source": [
    "train_projection.count()"
   ]
  },
  {
   "cell_type": "code",
   "execution_count": 27,
   "metadata": {},
   "outputs": [
    {
     "name": "stderr",
     "output_type": "stream",
     "text": [
      "                                                                                \r"
     ]
    },
    {
     "data": {
      "text/html": [
       "<table border='1'>\n",
       "<tr><th>p_merchant_name</th><th>p_SA2_code</th><th>future_customers</th><th>prev_year</th><th>prev_month</th></tr>\n",
       "<tr><td>A Aliquet Ltd</td><td>401021010</td><td>2</td><td>2021</td><td>3</td></tr>\n",
       "<tr><td>A Aliquet Ltd</td><td>603011065</td><td>2</td><td>2021</td><td>11</td></tr>\n",
       "<tr><td>A Arcu Industries</td><td>124011453</td><td>2</td><td>2021</td><td>7</td></tr>\n",
       "<tr><td>A Arcu Industries</td><td>211051282</td><td>2</td><td>2022</td><td>2</td></tr>\n",
       "<tr><td>A Arcu Industries</td><td>214021379</td><td>2</td><td>2021</td><td>6</td></tr>\n",
       "</table>\n"
      ],
      "text/plain": [
       "+-----------------+----------+----------------+---------+----------+\n",
       "|  p_merchant_name|p_SA2_code|future_customers|prev_year|prev_month|\n",
       "+-----------------+----------+----------------+---------+----------+\n",
       "|    A Aliquet Ltd| 401021010|               2|     2021|         3|\n",
       "|    A Aliquet Ltd| 603011065|               2|     2021|        11|\n",
       "|A Arcu Industries| 124011453|               2|     2021|         7|\n",
       "|A Arcu Industries| 211051282|               2|     2022|         2|\n",
       "|A Arcu Industries| 214021379|               2|     2021|         6|\n",
       "+-----------------+----------+----------------+---------+----------+"
      ]
     },
     "execution_count": 27,
     "metadata": {},
     "output_type": "execute_result"
    }
   ],
   "source": [
    "train_projection = train_projection.withColumn(\"prev_year\", \\\n",
    "              when(train_projection[\"Month\"] == 1, train_projection['Year'] - 1).otherwise(train_projection['Year']))\n",
    "train_projection = train_projection.withColumn(\"prev_month\", \\\n",
    "              when(train_projection[\"Month\"] == 1, 12).otherwise(train_projection['Month'] - 1))\n",
    "train_projection = train_projection.drop(\"Year\", \"Month\")\n",
    "train_projection = train_projection.withColumnRenamed(\"no_of_customers\", \"future_customers\") \\\n",
    "                            .withColumnRenamed(\"merchant_name\", \"p_merchant_name\") \\\n",
    "                            .withColumnRenamed(\"SA2_code\", \"p_SA2_code\")\n",
    "train_projection.limit(5)"
   ]
  },
  {
   "cell_type": "code",
   "execution_count": 28,
   "metadata": {},
   "outputs": [
    {
     "name": "stderr",
     "output_type": "stream",
     "text": [
      "                                                                                \r"
     ]
    },
    {
     "data": {
      "text/plain": [
       "891622"
      ]
     },
     "execution_count": 28,
     "metadata": {},
     "output_type": "execute_result"
    }
   ],
   "source": [
    "train_projection.count()"
   ]
  },
  {
   "cell_type": "code",
   "execution_count": 29,
   "metadata": {},
   "outputs": [
    {
     "name": "stderr",
     "output_type": "stream",
     "text": [
      "                                                                                \r"
     ]
    },
    {
     "data": {
      "text/html": [
       "<table border='1'>\n",
       "<tr><th>merchant_name</th><th>no_of_customers</th><th>SA2_code</th><th>Year</th><th>Month</th><th>total_earnings</th><th>males</th><th>females</th><th>take_rate</th><th>revenue_levels</th><th>category</th><th>males_in_SA2</th><th>females_in_SA2</th><th>income_per_person</th><th>future_customers</th></tr>\n",
       "<tr><td>A Auctor Non Corp...</td><td>3</td><td>202031033</td><td>2021</td><td>11</td><td>209.32764854012208</td><td>1</td><td>2</td><td>5.58</td><td>a</td><td>Furniture</td><td>2067</td><td>2014</td><td>22634.72370679088</td><td>6</td></tr>\n",
       "<tr><td>A Auctor Non Corp...</td><td>3</td><td>205021082</td><td>2022</td><td>7</td><td>262.10605847773724</td><td>1</td><td>2</td><td>5.58</td><td>a</td><td>Furniture</td><td>2067</td><td>2014</td><td>22634.72370679088</td><td>3</td></tr>\n",
       "<tr><td>A Auctor Non Corp...</td><td>2</td><td>205031087</td><td>2021</td><td>9</td><td>218.6890344781834</td><td>1</td><td>1</td><td>5.58</td><td>a</td><td>Furniture</td><td>2067</td><td>2014</td><td>22634.72370679088</td><td>3</td></tr>\n",
       "<tr><td>A Auctor Non Corp...</td><td>3</td><td>210021235</td><td>2022</td><td>9</td><td>152.99495946306212</td><td>1</td><td>2</td><td>5.58</td><td>a</td><td>Furniture</td><td>2067</td><td>2014</td><td>22634.72370679088</td><td>3</td></tr>\n",
       "<tr><td>A Auctor Non Corp...</td><td>4</td><td>211051282</td><td>2021</td><td>10</td><td>298.778609499402</td><td>2</td><td>2</td><td>5.58</td><td>a</td><td>Furniture</td><td>2067</td><td>2014</td><td>22634.72370679088</td><td>5</td></tr>\n",
       "</table>\n"
      ],
      "text/plain": [
       "+--------------------+---------------+---------+----+-----+------------------+-----+-------+---------+--------------+---------+------------+--------------+-----------------+----------------+\n",
       "|       merchant_name|no_of_customers| SA2_code|Year|Month|    total_earnings|males|females|take_rate|revenue_levels| category|males_in_SA2|females_in_SA2|income_per_person|future_customers|\n",
       "+--------------------+---------------+---------+----+-----+------------------+-----+-------+---------+--------------+---------+------------+--------------+-----------------+----------------+\n",
       "|A Auctor Non Corp...|              3|202031033|2021|   11|209.32764854012208|    1|      2|     5.58|             a|Furniture|        2067|          2014|22634.72370679088|               6|\n",
       "|A Auctor Non Corp...|              3|205021082|2022|    7|262.10605847773724|    1|      2|     5.58|             a|Furniture|        2067|          2014|22634.72370679088|               3|\n",
       "|A Auctor Non Corp...|              2|205031087|2021|    9| 218.6890344781834|    1|      1|     5.58|             a|Furniture|        2067|          2014|22634.72370679088|               3|\n",
       "|A Auctor Non Corp...|              3|210021235|2022|    9|152.99495946306212|    1|      2|     5.58|             a|Furniture|        2067|          2014|22634.72370679088|               3|\n",
       "|A Auctor Non Corp...|              4|211051282|2021|   10|  298.778609499402|    2|      2|     5.58|             a|Furniture|        2067|          2014|22634.72370679088|               5|\n",
       "+--------------------+---------------+---------+----+-----+------------------+-----+-------+---------+--------------+---------+------------+--------------+-----------------+----------------+"
      ]
     },
     "execution_count": 29,
     "metadata": {},
     "output_type": "execute_result"
    }
   ],
   "source": [
    "final_data = train.join(train_projection, (train.merchant_name == train_projection.p_merchant_name) & \n",
    "                           (train.SA2_code == train_projection.p_SA2_code) & \n",
    "                           (train.Year == train_projection.prev_year) & \n",
    "                           (train.Month == train_projection.prev_month), how = 'inner')\n",
    "\n",
    "final_data = final_data.drop(\"p_merchant_name\", \"p_SA2_code\",\"prev_year\", \"prev_month\")\n",
    "final_data.limit(5)"
   ]
  },
  {
   "cell_type": "code",
   "execution_count": 30,
   "metadata": {},
   "outputs": [
    {
     "name": "stderr",
     "output_type": "stream",
     "text": [
      "                                                                                \r"
     ]
    },
    {
     "data": {
      "text/plain": [
       "344019"
      ]
     },
     "execution_count": 30,
     "metadata": {},
     "output_type": "execute_result"
    }
   ],
   "source": [
    "final_data.count()"
   ]
  },
  {
   "cell_type": "code",
   "execution_count": 31,
   "metadata": {},
   "outputs": [
    {
     "name": "stdout",
     "output_type": "stream",
     "text": [
      "root\n",
      " |-- merchant_name: string (nullable = true)\n",
      " |-- no_of_customers: long (nullable = false)\n",
      " |-- SA2_code: long (nullable = true)\n",
      " |-- Year: integer (nullable = true)\n",
      " |-- Month: integer (nullable = true)\n",
      " |-- total_earnings: double (nullable = true)\n",
      " |-- males: long (nullable = false)\n",
      " |-- females: long (nullable = false)\n",
      " |-- take_rate: double (nullable = true)\n",
      " |-- revenue_levels: string (nullable = true)\n",
      " |-- category: string (nullable = true)\n",
      " |-- males_in_SA2: long (nullable = true)\n",
      " |-- females_in_SA2: long (nullable = true)\n",
      " |-- income_per_person: double (nullable = true)\n",
      " |-- future_customers: long (nullable = false)\n",
      "\n"
     ]
    }
   ],
   "source": [
    "final_data.printSchema()"
   ]
  },
  {
   "cell_type": "code",
   "execution_count": 32,
   "metadata": {},
   "outputs": [],
   "source": [
    "final_data = final_data.withColumn('Year',\n",
    "\n",
    "    F.col('Year').cast('STRING')\n",
    "\n",
    ")\n",
    "\n",
    "final_data = final_data.withColumn('Month',\n",
    "\n",
    "    F.col('Month').cast('STRING')\n",
    "\n",
    ")\n",
    "\n",
    "final_data = final_data.withColumn('SA2_code',\n",
    "\n",
    "    F.col('SA2_code').cast('STRING')\n",
    "\n",
    ")\n",
    "\n",
    "field = ['future_customers','no_of_customers' ,'males', 'females', 'males_in_SA2', 'females_in_SA2']\n",
    "\n",
    "for col in field:\n",
    "    final_data = final_data.withColumn(col,\n",
    "\n",
    "    F.col(col).cast('INT')\n",
    "\n",
    ")"
   ]
  },
  {
   "cell_type": "code",
   "execution_count": 33,
   "metadata": {},
   "outputs": [
    {
     "name": "stderr",
     "output_type": "stream",
     "text": [
      "                                                                                \r"
     ]
    },
    {
     "data": {
      "text/plain": [
       "344019"
      ]
     },
     "execution_count": 33,
     "metadata": {},
     "output_type": "execute_result"
    }
   ],
   "source": [
    "final_data.count()"
   ]
  },
  {
   "cell_type": "code",
   "execution_count": 34,
   "metadata": {},
   "outputs": [
    {
     "name": "stdout",
     "output_type": "stream",
     "text": [
      "root\n",
      " |-- merchant_name: string (nullable = true)\n",
      " |-- no_of_customers: integer (nullable = false)\n",
      " |-- SA2_code: string (nullable = true)\n",
      " |-- Year: string (nullable = true)\n",
      " |-- Month: string (nullable = true)\n",
      " |-- total_earnings: double (nullable = true)\n",
      " |-- males: integer (nullable = false)\n",
      " |-- females: integer (nullable = false)\n",
      " |-- take_rate: double (nullable = true)\n",
      " |-- revenue_levels: string (nullable = true)\n",
      " |-- category: string (nullable = true)\n",
      " |-- males_in_SA2: integer (nullable = true)\n",
      " |-- females_in_SA2: integer (nullable = true)\n",
      " |-- income_per_person: double (nullable = true)\n",
      " |-- future_customers: integer (nullable = false)\n",
      "\n"
     ]
    }
   ],
   "source": [
    "final_data.printSchema()"
   ]
  },
  {
   "cell_type": "code",
   "execution_count": 35,
   "metadata": {},
   "outputs": [
    {
     "name": "stderr",
     "output_type": "stream",
     "text": [
      "                                                                                \r"
     ]
    }
   ],
   "source": [
    "# String indexing the categorical columns\n",
    "\n",
    "indexer = StringIndexer(inputCols = ['merchant_name', 'SA2_code', 'Year', 'Month', 'revenue_levels','category'],\n",
    "outputCols = ['merchant_name_num', 'SA2_code_num', 'Year_num', 'Month_num', 'revenue_levels_num','category_num'], handleInvalid=\"keep\")\n",
    "\n",
    "indexd_data = indexer.fit(final_data).transform(final_data)\n",
    "\n",
    "\n",
    "# Applying onehot encoding to the categorical data that is string indexed above\n",
    "encoder = OneHotEncoder(inputCols = ['merchant_name_num', 'SA2_code_num', 'Year_num', 'Month_num', 'revenue_levels_num','category_num'],\n",
    "outputCols = ['merchant_name_vec', 'SA2_code_vec', 'Year_vec', 'Month_vec', 'revenue_levels_vec','category_vec'])\n",
    "\n",
    "onehotdata = encoder.fit(indexd_data).transform(indexd_data)\n",
    "\n",
    "\n",
    "# Assembling the training data as a vector of features \n",
    "assembler1 = VectorAssembler(\n",
    "inputCols=['merchant_name_vec', 'SA2_code_vec', 'Year_vec', 'Month_vec', 'revenue_levels_vec','category_vec','males_in_SA2','females_in_SA2','no_of_customers' ,'income_per_person','take_rate', 'total_earnings'],\n",
    "outputCol= \"features\" )\n",
    "\n",
    "outdata1 = assembler1.transform(onehotdata)"
   ]
  },
  {
   "cell_type": "code",
   "execution_count": 36,
   "metadata": {},
   "outputs": [],
   "source": [
    "# Renaming the target column as label\n",
    "\n",
    "outdata1 = outdata1.withColumnRenamed(\n",
    "    \"future_customers\",\n",
    "    \"label\"\n",
    ")"
   ]
  },
  {
   "cell_type": "code",
   "execution_count": 37,
   "metadata": {},
   "outputs": [
    {
     "name": "stderr",
     "output_type": "stream",
     "text": [
      "                                                                                \r"
     ]
    }
   ],
   "source": [
    "# Assembling the features as a feature vector \n",
    "\n",
    "featureIndexer =\\\n",
    "    VectorIndexer(inputCol=\"features\", \n",
    "    outputCol=\"indexedFeatures\").fit(outdata1)\n",
    "\n",
    "outdata1 = featureIndexer.transform(outdata1)"
   ]
  },
  {
   "cell_type": "code",
   "execution_count": 38,
   "metadata": {},
   "outputs": [],
   "source": [
    "# Split the data into training and validation sets (30% held out for testing)\n",
    "\n",
    "trainingData, testData = outdata1.randomSplit([0.7, 0.3], seed = 20)"
   ]
  },
  {
   "cell_type": "code",
   "execution_count": 39,
   "metadata": {},
   "outputs": [
    {
     "name": "stderr",
     "output_type": "stream",
     "text": [
      "[Stage 1612:=================================================>      (8 + 1) / 9]\r"
     ]
    },
    {
     "name": "stdout",
     "output_type": "stream",
     "text": [
      "22/10/05 12:24:48 WARN DAGScheduler: Broadcasting large task binary with size 1348.5 KiB\n"
     ]
    },
    {
     "name": "stderr",
     "output_type": "stream",
     "text": [
      "[Stage 1755:=================================================>      (8 + 1) / 9]\r"
     ]
    },
    {
     "name": "stdout",
     "output_type": "stream",
     "text": [
      "22/10/05 12:26:19 WARN DAGScheduler: Broadcasting large task binary with size 1348.5 KiB\n"
     ]
    },
    {
     "name": "stderr",
     "output_type": "stream",
     "text": [
      "                                                                                \r"
     ]
    },
    {
     "data": {
      "text/plain": [
       "(240534, 103485)"
      ]
     },
     "execution_count": 39,
     "metadata": {},
     "output_type": "execute_result"
    }
   ],
   "source": [
    "trainingData.count(), testData.count()"
   ]
  },
  {
   "cell_type": "code",
   "execution_count": 40,
   "metadata": {},
   "outputs": [
    {
     "name": "stderr",
     "output_type": "stream",
     "text": [
      "[Stage 1898:===============================>                        (5 + 4) / 9]\r"
     ]
    },
    {
     "name": "stdout",
     "output_type": "stream",
     "text": [
      "22/10/05 12:27:46 WARN DAGScheduler: Broadcasting large task binary with size 1350.9 KiB\n"
     ]
    },
    {
     "name": "stderr",
     "output_type": "stream",
     "text": [
      "                                                                                \r"
     ]
    },
    {
     "name": "stdout",
     "output_type": "stream",
     "text": [
      "22/10/05 12:27:46 WARN DAGScheduler: Broadcasting large task binary with size 1351.0 KiB\n"
     ]
    },
    {
     "name": "stderr",
     "output_type": "stream",
     "text": [
      "                                                                                \r"
     ]
    },
    {
     "name": "stdout",
     "output_type": "stream",
     "text": [
      "22/10/05 12:27:48 WARN DAGScheduler: Broadcasting large task binary with size 1355.0 KiB\n"
     ]
    },
    {
     "name": "stderr",
     "output_type": "stream",
     "text": [
      "                                                                                \r"
     ]
    },
    {
     "name": "stdout",
     "output_type": "stream",
     "text": [
      "22/10/05 12:27:51 WARN DAGScheduler: Broadcasting large task binary with size 1467.7 KiB\n"
     ]
    },
    {
     "name": "stderr",
     "output_type": "stream",
     "text": [
      "                                                                                \r"
     ]
    },
    {
     "name": "stdout",
     "output_type": "stream",
     "text": [
      "22/10/05 12:27:58 WARN DAGScheduler: Broadcasting large task binary with size 1529.2 KiB\n"
     ]
    },
    {
     "name": "stderr",
     "output_type": "stream",
     "text": [
      "                                                                                \r"
     ]
    },
    {
     "name": "stdout",
     "output_type": "stream",
     "text": [
      "22/10/05 12:28:03 WARN DAGScheduler: Broadcasting large task binary with size 1650.0 KiB\n"
     ]
    },
    {
     "name": "stderr",
     "output_type": "stream",
     "text": [
      "                                                                                \r"
     ]
    },
    {
     "name": "stdout",
     "output_type": "stream",
     "text": [
      "22/10/05 12:28:07 WARN DAGScheduler: Broadcasting large task binary with size 1886.6 KiB\n"
     ]
    },
    {
     "name": "stderr",
     "output_type": "stream",
     "text": [
      "                                                                                \r"
     ]
    },
    {
     "name": "stdout",
     "output_type": "stream",
     "text": [
      "22/10/05 12:28:11 WARN DAGScheduler: Broadcasting large task binary with size 2.3 MiB\n"
     ]
    },
    {
     "name": "stderr",
     "output_type": "stream",
     "text": [
      "                                                                                \r"
     ]
    }
   ],
   "source": [
    "# Train a RandomForest model.\n",
    "rf = RandomForestRegressor(featuresCol=\"indexedFeatures\")\n",
    "\n",
    "\n",
    "# Train model.  \n",
    "model = rf.fit(trainingData)\n",
    "\n",
    "# Make predictions.\n",
    "predictions_validation = model.transform(testData)"
   ]
  },
  {
   "cell_type": "code",
   "execution_count": 41,
   "metadata": {},
   "outputs": [
    {
     "name": "stderr",
     "output_type": "stream",
     "text": [
      "[Stage 2184:===============================>                        (5 + 4) / 9]\r"
     ]
    },
    {
     "name": "stdout",
     "output_type": "stream",
     "text": [
      "22/10/05 12:29:31 WARN DAGScheduler: Broadcasting large task binary with size 1362.7 KiB\n"
     ]
    },
    {
     "name": "stderr",
     "output_type": "stream",
     "text": [
      "                                                                                \r"
     ]
    },
    {
     "name": "stdout",
     "output_type": "stream",
     "text": [
      "+-----------------+-----+--------------------+\n",
      "|       prediction|label|            features|\n",
      "+-----------------+-----+--------------------+\n",
      "|4.060047523324411|    4|(2085,[209,1093,2...|\n",
      "|4.130584531385691|    6|(2085,[209,988,20...|\n",
      "|4.130584531385691|    4|(2085,[209,976,20...|\n",
      "|4.429401288459782|    5|(2085,[209,989,20...|\n",
      "|4.688717229221552|    3|(2085,[209,1039,2...|\n",
      "+-----------------+-----+--------------------+\n",
      "only showing top 5 rows\n",
      "\n"
     ]
    },
    {
     "name": "stderr",
     "output_type": "stream",
     "text": [
      "[Stage 2303:=====================================>                  (6 + 3) / 9]\r"
     ]
    },
    {
     "name": "stdout",
     "output_type": "stream",
     "text": [
      "22/10/05 12:30:53 WARN DAGScheduler: Broadcasting large task binary with size 1356.2 KiB\n"
     ]
    },
    {
     "name": "stderr",
     "output_type": "stream",
     "text": [
      "                                                                                \r"
     ]
    },
    {
     "name": "stdout",
     "output_type": "stream",
     "text": [
      "22/10/05 12:30:55 WARN DAGScheduler: Broadcasting large task binary with size 1357.3 KiB\n",
      "Root Mean Squared Error (RMSE) on train data = 2.95243\n"
     ]
    },
    {
     "name": "stderr",
     "output_type": "stream",
     "text": [
      "[Stage 2423:=====================================>                  (6 + 3) / 9]\r"
     ]
    },
    {
     "name": "stdout",
     "output_type": "stream",
     "text": [
      "22/10/05 12:32:10 WARN DAGScheduler: Broadcasting large task binary with size 1356.1 KiB\n"
     ]
    },
    {
     "name": "stderr",
     "output_type": "stream",
     "text": [
      "[Stage 2446:>                                                       (0 + 8) / 9]\r"
     ]
    },
    {
     "name": "stdout",
     "output_type": "stream",
     "text": [
      "22/10/05 12:32:13 WARN DAGScheduler: Broadcasting large task binary with size 1357.3 KiB\n",
      "Mean Absolutee Error (MAE) on train data = 2.10101\n"
     ]
    },
    {
     "name": "stderr",
     "output_type": "stream",
     "text": [
      "                                                                                \r"
     ]
    }
   ],
   "source": [
    "# Evaluate the validation set \n",
    "\n",
    "predictions_validation.select(\"prediction\", \"label\", \"features\").show(5)\n",
    "\n",
    "# Select (prediction, true label) and compute test error\n",
    "\n",
    "evaluator_train_rmse = RegressionEvaluator(\n",
    "    labelCol=\"label\", predictionCol=\"prediction\", metricName=\"rmse\")\n",
    "rmse_train = evaluator_train_rmse.evaluate(predictions_validation)\n",
    "print(\"Root Mean Squared Error (RMSE) on train data = %g\" % rmse_train)\n",
    "\n",
    "evaluator_train_mae = RegressionEvaluator(\n",
    "    labelCol=\"label\", predictionCol=\"prediction\", metricName=\"mae\")\n",
    "mae_train = evaluator_train_mae.evaluate(predictions_validation)\n",
    "print(\"Mean Absolutee Error (MAE) on train data = %g\" % mae_train)"
   ]
  },
  {
   "cell_type": "code",
   "execution_count": 42,
   "metadata": {},
   "outputs": [
    {
     "name": "stderr",
     "output_type": "stream",
     "text": [
      "                                                                                \r"
     ]
    },
    {
     "data": {
      "text/html": [
       "<table border='1'>\n",
       "<tr><th>merchant_name</th><th>no_of_customers</th><th>SA2_code</th><th>Year</th><th>Month</th><th>total_earnings</th><th>males</th><th>females</th><th>take_rate</th><th>revenue_levels</th><th>category</th><th>males_in_SA2</th><th>females_in_SA2</th><th>income_per_person</th><th>future_customers</th></tr>\n",
       "<tr><td>A Auctor Non Corp...</td><td>3</td><td>125031480</td><td>2022</td><td>10</td><td>205.55614462620872</td><td>1</td><td>2</td><td>5.58</td><td>a</td><td>Furniture</td><td>2067</td><td>2014</td><td>22634.72370679088</td><td>0</td></tr>\n",
       "<tr><td>A Auctor Non Corp...</td><td>3</td><td>126011496</td><td>2022</td><td>10</td><td>205.52264839287457</td><td>1</td><td>2</td><td>5.58</td><td>a</td><td>Furniture</td><td>2067</td><td>2014</td><td>22634.72370679088</td><td>0</td></tr>\n",
       "<tr><td>A Auctor Non Corp...</td><td>3</td><td>211051282</td><td>2022</td><td>10</td><td>200.77245536872834</td><td>2</td><td>1</td><td>5.58</td><td>a</td><td>Furniture</td><td>2067</td><td>2014</td><td>22634.72370679088</td><td>0</td></tr>\n",
       "<tr><td>A Auctor Non Corp...</td><td>2</td><td>509021239</td><td>2022</td><td>10</td><td>106.39982970189261</td><td>1</td><td>1</td><td>5.58</td><td>a</td><td>Furniture</td><td>2067</td><td>2014</td><td>22634.72370679088</td><td>0</td></tr>\n",
       "<tr><td>A Auctor Non Corp...</td><td>6</td><td>509021240</td><td>2022</td><td>10</td><td>362.197810772229</td><td>3</td><td>2</td><td>5.58</td><td>a</td><td>Furniture</td><td>2067</td><td>2014</td><td>22634.72370679088</td><td>0</td></tr>\n",
       "</table>\n"
      ],
      "text/plain": [
       "+--------------------+---------------+---------+----+-----+------------------+-----+-------+---------+--------------+---------+------------+--------------+-----------------+----------------+\n",
       "|       merchant_name|no_of_customers| SA2_code|Year|Month|    total_earnings|males|females|take_rate|revenue_levels| category|males_in_SA2|females_in_SA2|income_per_person|future_customers|\n",
       "+--------------------+---------------+---------+----+-----+------------------+-----+-------+---------+--------------+---------+------------+--------------+-----------------+----------------+\n",
       "|A Auctor Non Corp...|              3|125031480|2022|   10|205.55614462620872|    1|      2|     5.58|             a|Furniture|        2067|          2014|22634.72370679088|               0|\n",
       "|A Auctor Non Corp...|              3|126011496|2022|   10|205.52264839287457|    1|      2|     5.58|             a|Furniture|        2067|          2014|22634.72370679088|               0|\n",
       "|A Auctor Non Corp...|              3|211051282|2022|   10|200.77245536872834|    2|      1|     5.58|             a|Furniture|        2067|          2014|22634.72370679088|               0|\n",
       "|A Auctor Non Corp...|              2|509021239|2022|   10|106.39982970189261|    1|      1|     5.58|             a|Furniture|        2067|          2014|22634.72370679088|               0|\n",
       "|A Auctor Non Corp...|              6|509021240|2022|   10|  362.197810772229|    3|      2|     5.58|             a|Furniture|        2067|          2014|22634.72370679088|               0|\n",
       "+--------------------+---------------+---------+----+-----+------------------+-----+-------+---------+--------------+---------+------------+--------------+-----------------+----------------+"
      ]
     },
     "execution_count": 42,
     "metadata": {},
     "output_type": "execute_result"
    }
   ],
   "source": [
    "latest_year = train.select(max('Year')).collect()[0][0]\n",
    "agg_month_1 = train.filter(train.Year == latest_year)\n",
    "latest_month = agg_month_1.select(max('Month')).collect()[0][0]\n",
    "predicting_data = agg_month_1.filter(train.Month == latest_month)\n",
    "predicting_data = predicting_data.withColumn(\"future_customers\", lit(0))\n",
    "predicting_data.limit(5)"
   ]
  },
  {
   "cell_type": "code",
   "execution_count": 43,
   "metadata": {},
   "outputs": [
    {
     "name": "stderr",
     "output_type": "stream",
     "text": [
      "                                                                                \r"
     ]
    }
   ],
   "source": [
    "# String indexing the categorical columns\n",
    "\n",
    "indexer = StringIndexer(inputCols = ['merchant_name', 'SA2_code', 'Year', 'Month', 'revenue_levels','category'],\n",
    "outputCols = ['merchant_name_num', 'SA2_code_num', 'Year_num', 'Month_num', 'revenue_levels_num','category_num'], handleInvalid=\"keep\")\n",
    "\n",
    "indexd_data = indexer.fit(predicting_data).transform(predicting_data)\n",
    "\n",
    "\n",
    "# Applying onehot encoding to the categorical data that is string indexed above\n",
    "encoder = OneHotEncoder(inputCols = ['merchant_name_num', 'SA2_code_num', 'Year_num', 'Month_num', 'revenue_levels_num','category_num'],\n",
    "outputCols = ['merchant_name_vec', 'SA2_code_vec', 'Year_vec', 'Month_vec', 'revenue_levels_vec','category_vec'])\n",
    "\n",
    "onehotdata = encoder.fit(indexd_data).transform(indexd_data)\n",
    "\n",
    "\n",
    "# Assembling the training data as a vector of features \n",
    "assembler1 = VectorAssembler(\n",
    "inputCols=['merchant_name_vec', 'SA2_code_vec', 'Year_vec', 'Month_vec', 'revenue_levels_vec','category_vec','males_in_SA2','females_in_SA2', 'income_per_person', 'no_of_customers','take_rate', 'total_earnings'],\n",
    "outputCol= \"features\" )\n",
    "\n",
    "outdata1 = assembler1.transform(onehotdata)\n",
    "\n",
    "# Renaming the target column as label\n",
    "\n",
    "outdata1 = outdata1.withColumnRenamed(\n",
    "    \"future_customers\",\n",
    "    \"label\"\n",
    ")\n",
    "\n",
    "\n",
    "# Assembling the features as a feature vector \n",
    "\n",
    "featureIndexer =\\\n",
    "    VectorIndexer(inputCol=\"features\", \n",
    "    outputCol=\"indexedFeatures\").fit(outdata1)\n",
    "\n",
    "outdata1 = featureIndexer.transform(outdata1)"
   ]
  },
  {
   "cell_type": "code",
   "execution_count": 44,
   "metadata": {},
   "outputs": [],
   "source": [
    "predictions_test = model.transform(outdata1)"
   ]
  },
  {
   "cell_type": "code",
   "execution_count": 45,
   "metadata": {},
   "outputs": [
    {
     "name": "stderr",
     "output_type": "stream",
     "text": [
      "[Stage 2830:===========================================>            (7 + 2) / 9]\r"
     ]
    },
    {
     "name": "stdout",
     "output_type": "stream",
     "text": [
      "22/10/05 12:35:11 WARN DAGScheduler: Broadcasting large task binary with size 1196.9 KiB\n",
      "+--------------------+---------------+---------+----+-----+------------------+-----+-------+---------+--------------+---------+------------+--------------+-----------------+-----+-----------------+------------+--------+---------+------------------+------------+------------------+------------------+-------------+-------------+------------------+-------------+--------------------+--------------------+------------------+\n",
      "|       merchant_name|no_of_customers| SA2_code|Year|Month|    total_earnings|males|females|take_rate|revenue_levels| category|males_in_SA2|females_in_SA2|income_per_person|label|merchant_name_num|SA2_code_num|Year_num|Month_num|revenue_levels_num|category_num| merchant_name_vec|      SA2_code_vec|     Year_vec|    Month_vec|revenue_levels_vec| category_vec|            features|     indexedFeatures|        prediction|\n",
      "+--------------------+---------------+---------+----+-----+------------------+-----+-------+---------+--------------+---------+------------+--------------+-----------------+-----+-----------------+------------+--------+---------+------------------+------------+------------------+------------------+-------------+-------------+------------------+-------------+--------------------+--------------------+------------------+\n",
      "|A Auctor Non Corp...|              3|125031480|2022|   10|205.55614462620872|    1|      2|     5.58|             a|Furniture|        2067|          2014|22634.72370679088|    0|            234.0|       457.0|     0.0|      0.0|               0.0|         2.0|(1381,[234],[1.0])|(1079,[457],[1.0])|(1,[0],[1.0])|(1,[0],[1.0])|     (5,[0],[1.0])|(5,[2],[1.0])|(2478,[234,1838,2...|(2478,[234,1838,2...|3.9649009673106037|\n",
      "+--------------------+---------------+---------+----+-----+------------------+-----+-------+---------+--------------+---------+------------+--------------+-----------------+-----+-----------------+------------+--------+---------+------------------+------------+------------------+------------------+-------------+-------------+------------------+-------------+--------------------+--------------------+------------------+\n",
      "only showing top 1 row\n",
      "\n"
     ]
    },
    {
     "name": "stderr",
     "output_type": "stream",
     "text": [
      "                                                                                \r"
     ]
    }
   ],
   "source": [
    "predictions_test.show(1)"
   ]
  },
  {
   "cell_type": "code",
   "execution_count": 46,
   "metadata": {},
   "outputs": [
    {
     "name": "stderr",
     "output_type": "stream",
     "text": [
      "                                                                                \r"
     ]
    },
    {
     "data": {
      "text/html": [
       "<table border='1'>\n",
       "<tr><th>merchant_name</th><th>total_future_customers</th></tr>\n",
       "<tr><td>Dictum Mi Incorpo...</td><td>8.0</td></tr>\n",
       "<tr><td>Dictum Mi Limited</td><td>214.0</td></tr>\n",
       "<tr><td>Donec Luctus Indu...</td><td>56.0</td></tr>\n",
       "<tr><td>Elit Sed Consequa...</td><td>182.0</td></tr>\n",
       "<tr><td>Hendrerit Consect...</td><td>36.0</td></tr>\n",
       "</table>\n"
      ],
      "text/plain": [
       "+--------------------+----------------------+\n",
       "|       merchant_name|total_future_customers|\n",
       "+--------------------+----------------------+\n",
       "|Dictum Mi Incorpo...|                   8.0|\n",
       "|   Dictum Mi Limited|                 214.0|\n",
       "|Donec Luctus Indu...|                  56.0|\n",
       "|Elit Sed Consequa...|                 182.0|\n",
       "|Hendrerit Consect...|                  36.0|\n",
       "+--------------------+----------------------+"
      ]
     },
     "execution_count": 46,
     "metadata": {},
     "output_type": "execute_result"
    }
   ],
   "source": [
    "predictions_test.createOrReplaceTempView(\"preds\")\n",
    "\n",
    "pred = spark.sql(\"\"\" \n",
    "\n",
    "SELECT merchant_name, ROUND(SUM(prediction)) AS total_future_customers\n",
    "FROM preds\n",
    "GROUP BY merchant_name\n",
    "\n",
    "\"\"\")\n",
    "\n",
    "pred.limit(5)"
   ]
  },
  {
   "cell_type": "code",
   "execution_count": 47,
   "metadata": {},
   "outputs": [
    {
     "name": "stderr",
     "output_type": "stream",
     "text": [
      "                                                                                \r"
     ]
    },
    {
     "data": {
      "text/plain": [
       "1381"
      ]
     },
     "execution_count": 47,
     "metadata": {},
     "output_type": "execute_result"
    }
   ],
   "source": [
    "pred.count()"
   ]
  },
  {
   "cell_type": "code",
   "execution_count": 48,
   "metadata": {},
   "outputs": [
    {
     "name": "stderr",
     "output_type": "stream",
     "text": [
      "                                                                                \r"
     ]
    }
   ],
   "source": [
    "pred_df = pred.toPandas()"
   ]
  },
  {
   "cell_type": "code",
   "execution_count": 49,
   "metadata": {},
   "outputs": [],
   "source": [
    "pred_df.to_csv(\"../data/curated/customers.csv\")"
   ]
  },
  {
   "cell_type": "code",
   "execution_count": null,
   "metadata": {},
   "outputs": [],
   "source": []
  }
 ],
 "metadata": {
  "kernelspec": {
   "display_name": "Python 3.9.12 ('base')",
   "language": "python",
   "name": "python3"
  },
  "language_info": {
   "codemirror_mode": {
    "name": "ipython",
    "version": 3
   },
   "file_extension": ".py",
   "mimetype": "text/x-python",
   "name": "python",
   "nbconvert_exporter": "python",
   "pygments_lexer": "ipython3",
   "version": "3.9.12"
  },
  "orig_nbformat": 4,
  "vscode": {
   "interpreter": {
    "hash": "afcda84b7471a9b9fde108a34f159f021985318d3feb99cad4970c959fa9ac9e"
   }
  }
 },
 "nbformat": 4,
 "nbformat_minor": 2
}
