{
 "cells": [
  {
   "cell_type": "code",
   "execution_count": 65,
   "metadata": {},
   "outputs": [],
   "source": [
    "import pandas as pd\n",
    "from pyspark.sql import SparkSession, functions as F\n",
    "import lbl2vec\n",
    "from sklearn.feature_extraction.text import TfidfVectorizer\n",
    "from sklearn.cluster import KMeans\n",
    "import numpy as np\n",
    "from pyspark.sql.functions import date_format\n",
    "import statsmodels.api as sm\n",
    "from statsmodels.formula.api import ols\n",
    "from pyspark.ml.feature import IndexToString, StringIndexer, VectorIndexer\n",
    "from pyspark.ml.evaluation import MulticlassClassificationEvaluator\n",
    "from pyspark.ml.feature import OneHotEncoder, VectorAssembler\n",
    "from pyspark.ml.regression import RandomForestRegressor\n",
    "from pyspark.ml.evaluation import RegressionEvaluator\n",
    "import seaborn as sns\n",
    "import matplotlib\n",
    "import matplotlib.pyplot as plt\n"
   ]
  },
  {
   "cell_type": "code",
   "execution_count": 66,
   "metadata": {},
   "outputs": [
    {
     "name": "stdout",
     "output_type": "stream",
     "text": [
      "22/10/04 11:15:23 WARN SparkSession: Using an existing Spark session; only runtime SQL configurations will take effect.\n"
     ]
    }
   ],
   "source": [
    "# Create a spark session\n",
    "spark = (\n",
    "    SparkSession.builder.appName(\"MAST30034 Project 2\")\n",
    "    .config(\"spark.sql.repl.eagerEval.enabled\", True) \n",
    "    .config(\"spark.sql.parquet.cacheMetadata\", \"true\")\n",
    "    .config(\"spark.sql.session.timeZone\", \"Etc/UTC\")\n",
    "    .config(\"spark.driver.memory\", \"4g\")\n",
    "    .config(\"spark.executor.memory\", \"8g\")\n",
    "    .getOrCreate()\n",
    ")"
   ]
  },
  {
   "cell_type": "code",
   "execution_count": 67,
   "metadata": {},
   "outputs": [
    {
     "name": "stdout",
     "output_type": "stream",
     "text": [
      "22/10/04 11:15:23 WARN SparkSession: Using an existing Spark session; only runtime SQL configurations will take effect.\n"
     ]
    },
    {
     "name": "stderr",
     "output_type": "stream",
     "text": [
      "                                                                                \r"
     ]
    },
    {
     "data": {
      "text/html": [
       "<table border='1'>\n",
       "<tr><th>merchant_name</th><th>merchant_abn</th><th>categories</th><th>take_rate</th><th>revenue_levels</th><th>name</th><th>address</th><th>state</th><th>gender</th><th>trans_merchant_abn</th><th>dollar_value</th><th>order_id</th><th>order_datetime</th><th>user_id</th><th>consumer_id</th><th>postcodes</th><th>int_sa2</th><th>SA2_code</th><th>SA2_name</th><th>income_2018-2019</th><th>total_males</th><th>total_females</th><th>total_persons</th><th>state_code</th><th>state_name</th><th>population_2020</th><th>population_2021</th></tr>\n",
       "<tr><td>Egestas Nunc Asso...</td><td>11121775571</td><td>digital goods: bo...</td><td>6.58</td><td>a</td><td>Christopher Rodri...</td><td>30554 Evans Strea...</td><td>NSW</td><td>Male</td><td>11121775571</td><td>11.28829564583802</td><td>2bd2a61d-72e5-42d...</td><td>2021-08-20</td><td>3698</td><td>1175</td><td>2299</td><td>111031231</td><td>111031231</td><td>Shortland - Jesmond</td><td>242936885</td><td>6412</td><td>6179</td><td>12593</td><td>1</td><td>New South Wales</td><td>12598</td><td>12694</td></tr>\n",
       "<tr><td>Morbi Accumsan In...</td><td>19618998054</td><td>tent and aWning s...</td><td>1.52</td><td>c</td><td>Christopher Rodri...</td><td>30554 Evans Strea...</td><td>NSW</td><td>Male</td><td>19618998054</td><td>62.90176609196828</td><td>3582b1f8-4577-403...</td><td>2021-05-16</td><td>3698</td><td>1175</td><td>2299</td><td>111031231</td><td>111031231</td><td>Shortland - Jesmond</td><td>242936885</td><td>6412</td><td>6179</td><td>12593</td><td>1</td><td>New South Wales</td><td>12598</td><td>12694</td></tr>\n",
       "<tr><td>Eu Dolor Egestas PC</td><td>94472466107</td><td>cable, satellite,...</td><td>6.23</td><td>a</td><td>Christopher Rodri...</td><td>30554 Evans Strea...</td><td>NSW</td><td>Male</td><td>94472466107</td><td>172.15375126873164</td><td>cb05d49f-c2fa-453...</td><td>2021-07-22</td><td>3698</td><td>1175</td><td>2299</td><td>111031231</td><td>111031231</td><td>Shortland - Jesmond</td><td>242936885</td><td>6412</td><td>6179</td><td>12593</td><td>1</td><td>New South Wales</td><td>12598</td><td>12694</td></tr>\n",
       "<tr><td>Urna Justo Indust...</td><td>31472801314</td><td>music shops - mus...</td><td>6.56</td><td>a</td><td>Christopher Rodri...</td><td>30554 Evans Strea...</td><td>NSW</td><td>Male</td><td>31472801314</td><td>0.4894787650356477</td><td>aeec15c1-67e8-4cb...</td><td>2021-05-18</td><td>3698</td><td>1175</td><td>2299</td><td>111031231</td><td>111031231</td><td>Shortland - Jesmond</td><td>242936885</td><td>6412</td><td>6179</td><td>12593</td><td>1</td><td>New South Wales</td><td>12598</td><td>12694</td></tr>\n",
       "<tr><td>Eu Sem Pellentesq...</td><td>35424691626</td><td>computers, comput...</td><td>3.9</td><td>b</td><td>Christopher Rodri...</td><td>30554 Evans Strea...</td><td>NSW</td><td>Male</td><td>35424691626</td><td>7.360217018778133</td><td>9df473ba-102d-461...</td><td>2021-07-04</td><td>3698</td><td>1175</td><td>2299</td><td>111031231</td><td>111031231</td><td>Shortland - Jesmond</td><td>242936885</td><td>6412</td><td>6179</td><td>12593</td><td>1</td><td>New South Wales</td><td>12598</td><td>12694</td></tr>\n",
       "</table>\n"
      ],
      "text/plain": [
       "+--------------------+------------+--------------------+---------+--------------+--------------------+--------------------+-----+------+------------------+------------------+--------------------+--------------+-------+-----------+---------+---------+---------+-------------------+----------------+-----------+-------------+-------------+----------+---------------+---------------+---------------+\n",
       "|       merchant_name|merchant_abn|          categories|take_rate|revenue_levels|                name|             address|state|gender|trans_merchant_abn|      dollar_value|            order_id|order_datetime|user_id|consumer_id|postcodes|  int_sa2| SA2_code|           SA2_name|income_2018-2019|total_males|total_females|total_persons|state_code|     state_name|population_2020|population_2021|\n",
       "+--------------------+------------+--------------------+---------+--------------+--------------------+--------------------+-----+------+------------------+------------------+--------------------+--------------+-------+-----------+---------+---------+---------+-------------------+----------------+-----------+-------------+-------------+----------+---------------+---------------+---------------+\n",
       "|Egestas Nunc Asso...| 11121775571|digital goods: bo...|     6.58|             a|Christopher Rodri...|30554 Evans Strea...|  NSW|  Male|       11121775571| 11.28829564583802|2bd2a61d-72e5-42d...|    2021-08-20|   3698|       1175|     2299|111031231|111031231|Shortland - Jesmond|       242936885|       6412|         6179|        12593|         1|New South Wales|          12598|          12694|\n",
       "|Morbi Accumsan In...| 19618998054|tent and aWning s...|     1.52|             c|Christopher Rodri...|30554 Evans Strea...|  NSW|  Male|       19618998054| 62.90176609196828|3582b1f8-4577-403...|    2021-05-16|   3698|       1175|     2299|111031231|111031231|Shortland - Jesmond|       242936885|       6412|         6179|        12593|         1|New South Wales|          12598|          12694|\n",
       "| Eu Dolor Egestas PC| 94472466107|cable, satellite,...|     6.23|             a|Christopher Rodri...|30554 Evans Strea...|  NSW|  Male|       94472466107|172.15375126873164|cb05d49f-c2fa-453...|    2021-07-22|   3698|       1175|     2299|111031231|111031231|Shortland - Jesmond|       242936885|       6412|         6179|        12593|         1|New South Wales|          12598|          12694|\n",
       "|Urna Justo Indust...| 31472801314|music shops - mus...|     6.56|             a|Christopher Rodri...|30554 Evans Strea...|  NSW|  Male|       31472801314|0.4894787650356477|aeec15c1-67e8-4cb...|    2021-05-18|   3698|       1175|     2299|111031231|111031231|Shortland - Jesmond|       242936885|       6412|         6179|        12593|         1|New South Wales|          12598|          12694|\n",
       "|Eu Sem Pellentesq...| 35424691626|computers, comput...|      3.9|             b|Christopher Rodri...|30554 Evans Strea...|  NSW|  Male|       35424691626| 7.360217018778133|9df473ba-102d-461...|    2021-07-04|   3698|       1175|     2299|111031231|111031231|Shortland - Jesmond|       242936885|       6412|         6179|        12593|         1|New South Wales|          12598|          12694|\n",
       "+--------------------+------------+--------------------+---------+--------------+--------------------+--------------------+-----+------+------------------+------------------+--------------------+--------------+-------+-----------+---------+---------+---------+-------------------+----------------+-----------+-------------+-------------+----------+---------------+---------------+---------------+"
      ]
     },
     "execution_count": 67,
     "metadata": {},
     "output_type": "execute_result"
    }
   ],
   "source": [
    "# Read in data from ETL.py file\n",
    "%run '../scripts/ETL.py' '../scripts/paths.json'\n",
    "final_join3.limit(5)"
   ]
  },
  {
   "cell_type": "code",
   "execution_count": 68,
   "metadata": {},
   "outputs": [
    {
     "name": "stderr",
     "output_type": "stream",
     "text": [
      "                                                                                \r"
     ]
    },
    {
     "data": {
      "text/plain": [
       "10540181"
      ]
     },
     "execution_count": 68,
     "metadata": {},
     "output_type": "execute_result"
    }
   ],
   "source": [
    "final_join3.count()"
   ]
  },
  {
   "cell_type": "code",
   "execution_count": 69,
   "metadata": {},
   "outputs": [],
   "source": [
    "tagged_merchants = pd.read_csv(\"../data/curated/tagged_merchants.csv\")\n",
    "tagged_merchants = tagged_merchants.iloc[:,1:]\n",
    "tagged_merchants.drop(['tags', 'name', 'cleaned_tags', 'store_type'], axis=1, inplace=True)\n",
    "tagged_merchants.to_parquet(\"../data/curated/tagged_merchants.parquet\")\n",
    "tagged_merchants_sdf = spark.read.parquet(\"../data/curated/tagged_merchants.parquet\")"
   ]
  },
  {
   "cell_type": "code",
   "execution_count": 70,
   "metadata": {},
   "outputs": [],
   "source": [
    "tagged_merchants_sdf = tagged_merchants_sdf.withColumnRenamed('merchant_abn',\n",
    "\n",
    "    'tagged_merchant_abn'\n",
    ")"
   ]
  },
  {
   "cell_type": "code",
   "execution_count": 71,
   "metadata": {},
   "outputs": [
    {
     "name": "stdout",
     "output_type": "stream",
     "text": [
      "+-------------------+--------------------+\n",
      "|tagged_merchant_abn|            category|\n",
      "+-------------------+--------------------+\n",
      "|        10023283211|           Furniture|\n",
      "|        10142254217|         Electronics|\n",
      "|        10165489824|        Toys and DIY|\n",
      "|        10187291046|        Toys and DIY|\n",
      "|        10192359162|Books, Stationary...|\n",
      "+-------------------+--------------------+\n",
      "only showing top 5 rows\n",
      "\n"
     ]
    }
   ],
   "source": [
    "tagged_merchants_sdf.show(5)"
   ]
  },
  {
   "cell_type": "code",
   "execution_count": 72,
   "metadata": {},
   "outputs": [],
   "source": [
    "final_join3.createOrReplaceTempView(\"join\")\n",
    "tagged_merchants_sdf.createOrReplaceTempView(\"tagged\")\n",
    "\n",
    "joint = spark.sql(\"\"\" \n",
    "\n",
    "SELECT *\n",
    "FROM join\n",
    "INNER JOIN tagged\n",
    "ON join.merchant_abn = tagged.tagged_merchant_abn\n",
    "\"\"\")\n",
    "\n",
    "joint = joint.drop('tagged_merchant_abn')"
   ]
  },
  {
   "cell_type": "code",
   "execution_count": 73,
   "metadata": {},
   "outputs": [
    {
     "name": "stderr",
     "output_type": "stream",
     "text": [
      "                                                                                \r"
     ]
    },
    {
     "data": {
      "text/plain": [
       "10109254"
      ]
     },
     "execution_count": 73,
     "metadata": {},
     "output_type": "execute_result"
    }
   ],
   "source": [
    "joint.count()"
   ]
  },
  {
   "cell_type": "code",
   "execution_count": 74,
   "metadata": {},
   "outputs": [],
   "source": [
    "joint.createOrReplaceTempView(\"group\")\n",
    "\n",
    "a = spark.sql(\"\"\" \n",
    "\n",
    "SELECT *\n",
    "FROM group\n",
    "\"\"\")"
   ]
  },
  {
   "cell_type": "code",
   "execution_count": 75,
   "metadata": {},
   "outputs": [],
   "source": [
    "# Extracting the year, month, day from the timestamp\n",
    "\n",
    "a = a.withColumn(\"Year\", \n",
    "date_format('order_datetime', 'yyyy'))\n",
    "\n",
    "a  = a.withColumn(\"Month\", \n",
    "date_format('order_datetime', 'MMMM'))\n",
    "\n",
    "\n",
    "a = a.withColumn(\"Day\",\n",
    "date_format((\"order_datetime\"), \"E\"))\n"
   ]
  },
  {
   "cell_type": "code",
   "execution_count": 76,
   "metadata": {},
   "outputs": [
    {
     "name": "stderr",
     "output_type": "stream",
     "text": [
      "                                                                                \r"
     ]
    },
    {
     "name": "stdout",
     "output_type": "stream",
     "text": [
      "+--------------------+----------+\n",
      "|            pop_name|population|\n",
      "+--------------------+----------+\n",
      "|Metus Sit Amet In...|      6249|\n",
      "|Ut Nisi Limited30...|      5126|\n",
      "|Dolor Dolor Indus...|     21497|\n",
      "|Ut Molestie Found...|      8321|\n",
      "|Vivamus Sit LLC30...|      5126|\n",
      "+--------------------+----------+\n",
      "only showing top 5 rows\n",
      "\n"
     ]
    },
    {
     "name": "stderr",
     "output_type": "stream",
     "text": [
      "[Stage 1971:=================================================>      (8 + 1) / 9]\r"
     ]
    },
    {
     "name": "stdout",
     "output_type": "stream",
     "text": [
      "+--------------------+----------+\n",
      "|            pop_name|population|\n",
      "+--------------------+----------+\n",
      "|Suspendisse Non L...|      5114|\n",
      "|Dignissim Maecena...|      9771|\n",
      "|Malesuada Vel Con...|      2172|\n",
      "|Mollis Duis Sit F...|      9980|\n",
      "|Placerat Eget Ven...|     15239|\n",
      "+--------------------+----------+\n",
      "only showing top 5 rows\n",
      "\n"
     ]
    },
    {
     "name": "stderr",
     "output_type": "stream",
     "text": [
      "                                                                                \r"
     ]
    }
   ],
   "source": [
    "a.createOrReplaceTempView(\"agg\")\n",
    "\n",
    "pop_2021 = spark.sql(\"\"\" \n",
    "\n",
    "SELECT CONCAT(merchant_name, SA2_code, Year, Month, Day) AS pop_name, FIRST(population_2020) AS population\n",
    "FROM agg\n",
    "WHERE Year = '2021'\n",
    "GROUP BY merchant_name, SA2_code, Year, Month, Day\n",
    "\"\"\")\n",
    "\n",
    "pop_2021.show(5)\n",
    "\n",
    "pop_2022 = spark.sql(\"\"\" \n",
    "\n",
    "SELECT CONCAT(merchant_name, SA2_code, Year, Month, Day) AS pop_name, FIRST(population_2021) AS population\n",
    "FROM agg\n",
    "WHERE Year = '2022'\n",
    "GROUP BY merchant_name, SA2_code, Year, Month, Day\n",
    "\"\"\")\n",
    "pop_2022.show(5)"
   ]
  },
  {
   "cell_type": "code",
   "execution_count": 77,
   "metadata": {},
   "outputs": [],
   "source": [
    "a = a.drop('merchant_abn', 'categories','name', 'address', 'trans_merchant_abn', 'order_id','order_datetime','user_id','consumer_id','int_sa2',\n",
    "'SA2_name','state_code','state_name','population_2020', 'population_2021')"
   ]
  },
  {
   "cell_type": "code",
   "execution_count": 78,
   "metadata": {},
   "outputs": [
    {
     "name": "stderr",
     "output_type": "stream",
     "text": [
      "[Stage 1991:=================================================>      (8 + 1) / 9]\r"
     ]
    },
    {
     "name": "stdout",
     "output_type": "stream",
     "text": [
      "+-------------+---------+--------------+-----+------+------------+---------+--------+----------------+-----------+-------------+-------------+--------+----+-----+---+\n",
      "|merchant_name|take_rate|revenue_levels|state|gender|dollar_value|postcodes|SA2_code|income_2018-2019|total_males|total_females|total_persons|category|Year|Month|Day|\n",
      "+-------------+---------+--------------+-----+------+------------+---------+--------+----------------+-----------+-------------+-------------+--------+----+-----+---+\n",
      "|            0|        0|             0|    0|     0|           0|        0|       0|               0|          0|            0|            0|       0|   0|    0|  0|\n",
      "+-------------+---------+--------------+-----+------+------------+---------+--------+----------------+-----------+-------------+-------------+--------+----+-----+---+\n",
      "\n"
     ]
    },
    {
     "name": "stderr",
     "output_type": "stream",
     "text": [
      "                                                                                \r"
     ]
    }
   ],
   "source": [
    " \n",
    "# Find Count of Null, None, NaN of All DataFrame Columns\n",
    "from pyspark.sql.functions import col,isnan, when, count\n",
    "a.select([count(when(isnan(c) | col(c).isNull(), c)).alias(c) for c in a.columns]\n",
    "   ).show()"
   ]
  },
  {
   "cell_type": "code",
   "execution_count": 79,
   "metadata": {},
   "outputs": [
    {
     "name": "stdout",
     "output_type": "stream",
     "text": [
      "root\n",
      " |-- merchant_name: string (nullable = true)\n",
      " |-- take_rate: double (nullable = true)\n",
      " |-- revenue_levels: string (nullable = true)\n",
      " |-- state: string (nullable = true)\n",
      " |-- gender: string (nullable = true)\n",
      " |-- dollar_value: double (nullable = true)\n",
      " |-- postcodes: string (nullable = true)\n",
      " |-- SA2_code: long (nullable = true)\n",
      " |-- income_2018-2019: long (nullable = true)\n",
      " |-- total_males: long (nullable = true)\n",
      " |-- total_females: long (nullable = true)\n",
      " |-- total_persons: long (nullable = true)\n",
      " |-- category: string (nullable = true)\n",
      " |-- Year: string (nullable = true)\n",
      " |-- Month: string (nullable = true)\n",
      " |-- Day: string (nullable = true)\n",
      "\n"
     ]
    }
   ],
   "source": [
    "a.printSchema()"
   ]
  },
  {
   "cell_type": "code",
   "execution_count": 80,
   "metadata": {},
   "outputs": [
    {
     "name": "stderr",
     "output_type": "stream",
     "text": [
      "                                                                                \r"
     ]
    },
    {
     "name": "stdout",
     "output_type": "stream",
     "text": [
      "+--------------------+-----+\n",
      "|              m_name|males|\n",
      "+--------------------+-----+\n",
      "|Pede Nonummy Corp...|    2|\n",
      "|Suspendisse Dui C...|    1|\n",
      "|Maecenas Industri...|    1|\n",
      "|Lorem Ipsum Sodal...|    1|\n",
      "|Ultricies Digniss...|    1|\n",
      "+--------------------+-----+\n",
      "only showing top 5 rows\n",
      "\n"
     ]
    },
    {
     "name": "stderr",
     "output_type": "stream",
     "text": [
      "[Stage 2035:=================================================>      (8 + 1) / 9]\r"
     ]
    },
    {
     "name": "stdout",
     "output_type": "stream",
     "text": [
      "+--------------------+-------+\n",
      "|              f_name|females|\n",
      "+--------------------+-------+\n",
      "|Eget Company10902...|      2|\n",
      "|Taciti PC10902117...|      1|\n",
      "|Est Nunc Consulti...|      1|\n",
      "|Eget Metus In Cor...|      1|\n",
      "|Cras Eget Foundat...|      1|\n",
      "+--------------------+-------+\n",
      "only showing top 5 rows\n",
      "\n"
     ]
    },
    {
     "name": "stderr",
     "output_type": "stream",
     "text": [
      "                                                                                \r"
     ]
    }
   ],
   "source": [
    "a.createOrReplaceTempView(\"agg\")\n",
    "\n",
    "male = spark.sql(\"\"\" \n",
    "\n",
    "SELECT CONCAT(merchant_name, SA2_code, Year, Month, Day) AS m_name, COUNT(gender) as males\n",
    "FROM agg\n",
    "WHERE gender = 'Male'\n",
    "GROUP BY merchant_name, SA2_code, Year, Month, Day\n",
    "\"\"\")\n",
    "\n",
    "male.show(5)\n",
    "\n",
    "female = spark.sql(\"\"\" \n",
    "\n",
    "SELECT CONCAT(merchant_name, SA2_code, Year, Month, Day) AS f_name, COUNT(gender) as females\n",
    "FROM agg\n",
    "WHERE gender = 'Female'\n",
    "GROUP BY merchant_name, SA2_code, Year, Month, Day\n",
    "\"\"\")\n",
    "female.show(5)"
   ]
  },
  {
   "cell_type": "code",
   "execution_count": 81,
   "metadata": {},
   "outputs": [
    {
     "name": "stderr",
     "output_type": "stream",
     "text": [
      "[Stage 2053:===================================>                   (9 + 5) / 14]\r"
     ]
    },
    {
     "name": "stdout",
     "output_type": "stream",
     "text": [
      "+--------------------+---------+--------------+-----+------+-----------------+---------+---------+----------------+-----------+-------------+-------------+--------------------+----+------+---+\n",
      "|       merchant_name|take_rate|revenue_levels|state|gender|     dollar_value|postcodes| SA2_code|income_2018-2019|total_males|total_females|total_persons|            category|Year| Month|Day|\n",
      "+--------------------+---------+--------------+-----+------+-----------------+---------+---------+----------------+-----------+-------------+-------------+--------------------+----+------+---+\n",
      "|Egestas Nunc Asso...|     6.58|             a|  NSW|  Male|11.28829564583802|     2299|111031231|       242936885|       6412|         6179|        12593|Books, Stationary...|2021|August|Fri|\n",
      "|Morbi Accumsan In...|     1.52|             c|  NSW|  Male|62.90176609196828|     2299|111031231|       242936885|       6412|         6179|        12593|Books, Stationary...|2021|   May|Sun|\n",
      "+--------------------+---------+--------------+-----+------+-----------------+---------+---------+----------------+-----------+-------------+-------------+--------------------+----+------+---+\n",
      "only showing top 2 rows\n",
      "\n"
     ]
    },
    {
     "name": "stderr",
     "output_type": "stream",
     "text": [
      "                                                                                \r"
     ]
    }
   ],
   "source": [
    "a.show(2)"
   ]
  },
  {
   "cell_type": "code",
   "execution_count": 82,
   "metadata": {},
   "outputs": [
    {
     "name": "stderr",
     "output_type": "stream",
     "text": [
      "[Stage 2073:>                                                       (0 + 1) / 1]\r"
     ]
    },
    {
     "name": "stdout",
     "output_type": "stream",
     "text": [
      "+--------------------+------------------+---------+----+------+---+------------------+--------------------+\n",
      "|       merchant_name|no_of_transactions| SA2_code|Year| Month|Day|      total_income|            join_col|\n",
      "+--------------------+------------------+---------+----+------+---+------------------+--------------------+\n",
      "|    Euismod Enim LLC|                 1|210021234|2021|August|Fri|23.766022223176805|Euismod Enim LLC2...|\n",
      "|Tempus Scelerisqu...|                 1|510021267|2021|August|Sun|11.373472011562347|Tempus Scelerisqu...|\n",
      "|  Aliquam Gravida PC|                 1|315021404|2021|August|Mon| 459.8031699416258|Aliquam Gravida P...|\n",
      "|  Pede Nonummy Corp.|                 7|315031410|2021|  July|Fri|  143.656026584652|Pede Nonummy Corp...|\n",
      "|       Vel Institute|                 1|305031120|2021|   May|Fri| 84.56982384549502|Vel Institute3050...|\n",
      "|Sed Neque Associates|                 1|315031408|2021|  July|Fri| 549.9754130974492|Sed Neque Associa...|\n",
      "|              Eu LLC|                 1|307031184|2021|  June|Wed|3.6960576008265336|Eu LLC30703118420...|\n",
      "|   Felis Corporation|                 1|406021143|2021|   May|Fri| 385.4942868762032|Felis Corporation...|\n",
      "|    Lacus Consulting|                 3|407021158|2021|  June|Fri| 91.28227147032615|Lacus Consulting4...|\n",
      "|         Non Limited|                 1|209031215|2021|August|Sat| 98.84235517574373|Non Limited209031...|\n",
      "|Praesent Eu Assoc...|                 1|511041290|2021|August|Thu| 66.12928891386363|Praesent Eu Assoc...|\n",
      "|Tristique Pellent...|                 1|407031170|2021|August|Sat|169.54397917664332|Tristique Pellent...|\n",
      "|      Nam Associates|                 1|103011061|2021|August|Mon| 52.80215258213584|Nam Associates103...|\n",
      "|Aliquam Gravida M...|                 1|401021006|2021|August|Fri|118.58633859086017|Aliquam Gravida M...|\n",
      "|Lorem Ipsum Sodal...|                 1|801041034|2021|   May|Fri| 66.45057129724631|Lorem Ipsum Sodal...|\n",
      "|Dolor Egestas Rho...|                 1|406011130|2021|   May|Fri|166.19742472286669|Dolor Egestas Rho...|\n",
      "|      Auctor Company|                 1|401031013|2021|   May|Thu|130.64420836088647|Auctor Company401...|\n",
      "|Morbi Accumsan In...|                 1|301031017|2021|   May|Thu| 16.60285975595072|Morbi Accumsan In...|\n",
      "|Feugiat Sed Nec I...|                 1|205021085|2021|August|Thu| 54.35993763726294|Feugiat Sed Nec I...|\n",
      "|Tempus Scelerisqu...|                 1|301011003|2021|  June|Fri|18.330630311477258|Tempus Scelerisqu...|\n",
      "+--------------------+------------------+---------+----+------+---+------------------+--------------------+\n",
      "only showing top 20 rows\n",
      "\n"
     ]
    },
    {
     "name": "stderr",
     "output_type": "stream",
     "text": [
      "                                                                                \r"
     ]
    }
   ],
   "source": [
    "a.createOrReplaceTempView(\"agg\")\n",
    "\n",
    "temp = spark.sql(\"\"\" \n",
    "\n",
    "SELECT merchant_name, COUNT(merchant_name) AS no_of_transactions, SA2_code, Year, Month, Day, SUM(dollar_value) AS total_income,\n",
    "    CONCAT(merchant_name, SA2_code, Year, Month, Day) AS join_col\n",
    "FROM agg\n",
    "GROUP BY merchant_name, SA2_code, Year, Month, Day\n",
    "\"\"\")\n",
    "\n",
    "temp.show()\n"
   ]
  },
  {
   "cell_type": "code",
   "execution_count": 83,
   "metadata": {},
   "outputs": [
    {
     "name": "stderr",
     "output_type": "stream",
     "text": [
      "                                                                                \r"
     ]
    },
    {
     "data": {
      "text/html": [
       "<table border='1'>\n",
       "<tr><th>pop_name</th><th>population</th></tr>\n",
       "<tr><td>Suspendisse Non L...</td><td>5114</td></tr>\n",
       "<tr><td>Dignissim Maecena...</td><td>9771</td></tr>\n",
       "<tr><td>Malesuada Vel Con...</td><td>2172</td></tr>\n",
       "<tr><td>Mollis Duis Sit F...</td><td>9980</td></tr>\n",
       "<tr><td>Placerat Eget Ven...</td><td>15239</td></tr>\n",
       "</table>\n"
      ],
      "text/plain": [
       "+--------------------+----------+\n",
       "|            pop_name|population|\n",
       "+--------------------+----------+\n",
       "|Suspendisse Non L...|      5114|\n",
       "|Dignissim Maecena...|      9771|\n",
       "|Malesuada Vel Con...|      2172|\n",
       "|Mollis Duis Sit F...|      9980|\n",
       "|Placerat Eget Ven...|     15239|\n",
       "+--------------------+----------+"
      ]
     },
     "execution_count": 83,
     "metadata": {},
     "output_type": "execute_result"
    }
   ],
   "source": [
    "pop_2022.limit(5)"
   ]
  },
  {
   "cell_type": "code",
   "execution_count": 86,
   "metadata": {},
   "outputs": [
    {
     "name": "stderr",
     "output_type": "stream",
     "text": [
      "                                                                                \r"
     ]
    },
    {
     "data": {
      "text/html": [
       "<table border='1'>\n",
       "<tr><th>merchant_name</th><th>no_of_transactions</th><th>SA2_code</th><th>Year</th><th>Month</th><th>Day</th><th>total_income</th><th>join_col</th><th>pop_name</th><th>population</th></tr>\n",
       "<tr><td>A Aliquet Ltd</td><td>1</td><td>111011206</td><td>2021</td><td>August</td><td>Sun</td><td>144.92626003254605</td><td>A Aliquet Ltd1110...</td><td>A Aliquet Ltd1110...</td><td>17986</td></tr>\n",
       "<tr><td>A Aliquet Ltd</td><td>1</td><td>119011358</td><td>2021</td><td>March</td><td>Fri</td><td>170.85311633083847</td><td>A Aliquet Ltd1190...</td><td>A Aliquet Ltd1190...</td><td>17359</td></tr>\n",
       "<tr><td>A Aliquet Ltd</td><td>1</td><td>119011572</td><td>2021</td><td>September</td><td>Mon</td><td>189.1723204191432</td><td>A Aliquet Ltd1190...</td><td>A Aliquet Ltd1190...</td><td>18209</td></tr>\n",
       "<tr><td>A Aliquet Ltd</td><td>1</td><td>119021362</td><td>2021</td><td>December</td><td>Sun</td><td>108.62765682595965</td><td>A Aliquet Ltd1190...</td><td>A Aliquet Ltd1190...</td><td>20616</td></tr>\n",
       "<tr><td>A Aliquet Ltd</td><td>1</td><td>120031393</td><td>2021</td><td>March</td><td>Tue</td><td>313.17032618991084</td><td>A Aliquet Ltd1200...</td><td>A Aliquet Ltd1200...</td><td>17780</td></tr>\n",
       "</table>\n"
      ],
      "text/plain": [
       "+-------------+------------------+---------+----+---------+---+------------------+--------------------+--------------------+----------+\n",
       "|merchant_name|no_of_transactions| SA2_code|Year|    Month|Day|      total_income|            join_col|            pop_name|population|\n",
       "+-------------+------------------+---------+----+---------+---+------------------+--------------------+--------------------+----------+\n",
       "|A Aliquet Ltd|                 1|111011206|2021|   August|Sun|144.92626003254605|A Aliquet Ltd1110...|A Aliquet Ltd1110...|     17986|\n",
       "|A Aliquet Ltd|                 1|119011358|2021|    March|Fri|170.85311633083847|A Aliquet Ltd1190...|A Aliquet Ltd1190...|     17359|\n",
       "|A Aliquet Ltd|                 1|119011572|2021|September|Mon| 189.1723204191432|A Aliquet Ltd1190...|A Aliquet Ltd1190...|     18209|\n",
       "|A Aliquet Ltd|                 1|119021362|2021| December|Sun|108.62765682595965|A Aliquet Ltd1190...|A Aliquet Ltd1190...|     20616|\n",
       "|A Aliquet Ltd|                 1|120031393|2021|    March|Tue|313.17032618991084|A Aliquet Ltd1200...|A Aliquet Ltd1200...|     17780|\n",
       "+-------------+------------------+---------+----+---------+---+------------------+--------------------+--------------------+----------+"
      ]
     },
     "execution_count": 86,
     "metadata": {},
     "output_type": "execute_result"
    }
   ],
   "source": [
    "temp.createOrReplaceTempView(\"pop_join\")\n",
    "pop_2021.createOrReplaceTempView(\"pop2021\")\n",
    "\n",
    "pop2 = spark.sql(\"\"\" \n",
    "\n",
    "SELECT *\n",
    "FROM pop_join\n",
    "INNER JOIN pop2021\n",
    "ON pop_join.join_col = pop2021.pop_name\n",
    "WHERE pop_join.Year == '2021'\n",
    "\"\"\")\n",
    "\n",
    "pop2.limit(5)"
   ]
  },
  {
   "cell_type": "code",
   "execution_count": 93,
   "metadata": {},
   "outputs": [
    {
     "name": "stderr",
     "output_type": "stream",
     "text": [
      "                                                                                \r"
     ]
    },
    {
     "data": {
      "text/html": [
       "<table border='1'>\n",
       "<tr><th>merchant_name</th><th>no_of_transactions</th><th>SA2_code</th><th>Year</th><th>Month</th><th>Day</th><th>total_income</th><th>join_col</th><th>pop_name</th><th>population</th></tr>\n",
       "<tr><td>A Aliquet Ltd</td><td>1</td><td>111021217</td><td>2022</td><td>August</td><td>Wed</td><td>141.8509610912289</td><td>A Aliquet Ltd1110...</td><td>A Aliquet Ltd1110...</td><td>16456</td></tr>\n",
       "<tr><td>A Aliquet Ltd</td><td>1</td><td>111031232</td><td>2022</td><td>May</td><td>Mon</td><td>105.23461363171437</td><td>A Aliquet Ltd1110...</td><td>A Aliquet Ltd1110...</td><td>8809</td></tr>\n",
       "<tr><td>A Aliquet Ltd</td><td>1</td><td>119011572</td><td>2022</td><td>September</td><td>Tue</td><td>462.94946210748094</td><td>A Aliquet Ltd1190...</td><td>A Aliquet Ltd1190...</td><td>18500</td></tr>\n",
       "<tr><td>A Aliquet Ltd</td><td>1</td><td>121021406</td><td>2022</td><td>July</td><td>Sun</td><td>215.25168650638156</td><td>A Aliquet Ltd1210...</td><td>A Aliquet Ltd1210...</td><td>19199</td></tr>\n",
       "<tr><td>A Aliquet Ltd</td><td>1</td><td>201011002</td><td>2022</td><td>May</td><td>Fri</td><td>345.51374065819294</td><td>A Aliquet Ltd2010...</td><td>A Aliquet Ltd2010...</td><td>12076</td></tr>\n",
       "</table>\n"
      ],
      "text/plain": [
       "+-------------+------------------+---------+----+---------+---+------------------+--------------------+--------------------+----------+\n",
       "|merchant_name|no_of_transactions| SA2_code|Year|    Month|Day|      total_income|            join_col|            pop_name|population|\n",
       "+-------------+------------------+---------+----+---------+---+------------------+--------------------+--------------------+----------+\n",
       "|A Aliquet Ltd|                 1|111021217|2022|   August|Wed| 141.8509610912289|A Aliquet Ltd1110...|A Aliquet Ltd1110...|     16456|\n",
       "|A Aliquet Ltd|                 1|111031232|2022|      May|Mon|105.23461363171437|A Aliquet Ltd1110...|A Aliquet Ltd1110...|      8809|\n",
       "|A Aliquet Ltd|                 1|119011572|2022|September|Tue|462.94946210748094|A Aliquet Ltd1190...|A Aliquet Ltd1190...|     18500|\n",
       "|A Aliquet Ltd|                 1|121021406|2022|     July|Sun|215.25168650638156|A Aliquet Ltd1210...|A Aliquet Ltd1210...|     19199|\n",
       "|A Aliquet Ltd|                 1|201011002|2022|      May|Fri|345.51374065819294|A Aliquet Ltd2010...|A Aliquet Ltd2010...|     12076|\n",
       "+-------------+------------------+---------+----+---------+---+------------------+--------------------+--------------------+----------+"
      ]
     },
     "execution_count": 93,
     "metadata": {},
     "output_type": "execute_result"
    }
   ],
   "source": [
    "temp.createOrReplaceTempView(\"pop_join\")\n",
    "pop_2022.createOrReplaceTempView(\"pop2022\")\n",
    "\n",
    "pop3 = spark.sql(\"\"\" \n",
    "\n",
    "SELECT *\n",
    "FROM pop_join\n",
    "INNER JOIN pop2022\n",
    "ON pop_join.join_col = pop2022.pop_name\n",
    "WHERE pop_join.Year == '2022'\n",
    "\"\"\")\n",
    "\n",
    "pop3.limit(5)"
   ]
  },
  {
   "cell_type": "code",
   "execution_count": 94,
   "metadata": {},
   "outputs": [],
   "source": [
    "total_pop = pop2.union(pop3)"
   ]
  },
  {
   "cell_type": "code",
   "execution_count": 95,
   "metadata": {},
   "outputs": [
    {
     "name": "stderr",
     "output_type": "stream",
     "text": [
      "                                                                                \r"
     ]
    },
    {
     "data": {
      "text/html": [
       "<table border='1'>\n",
       "<tr><th>merchant_name</th><th>no_of_transactions</th><th>SA2_code</th><th>Year</th><th>Month</th><th>Day</th><th>total_income</th><th>join_col</th><th>pop_name</th><th>population</th></tr>\n",
       "<tr><td>A Aliquet Ltd</td><td>1</td><td>111011206</td><td>2021</td><td>August</td><td>Sun</td><td>144.92626003254605</td><td>A Aliquet Ltd1110...</td><td>A Aliquet Ltd1110...</td><td>17986</td></tr>\n",
       "<tr><td>A Aliquet Ltd</td><td>1</td><td>119011358</td><td>2021</td><td>March</td><td>Fri</td><td>170.85311633083847</td><td>A Aliquet Ltd1190...</td><td>A Aliquet Ltd1190...</td><td>17359</td></tr>\n",
       "<tr><td>A Aliquet Ltd</td><td>1</td><td>119011572</td><td>2021</td><td>September</td><td>Mon</td><td>189.1723204191432</td><td>A Aliquet Ltd1190...</td><td>A Aliquet Ltd1190...</td><td>18209</td></tr>\n",
       "</table>\n"
      ],
      "text/plain": [
       "+-------------+------------------+---------+----+---------+---+------------------+--------------------+--------------------+----------+\n",
       "|merchant_name|no_of_transactions| SA2_code|Year|    Month|Day|      total_income|            join_col|            pop_name|population|\n",
       "+-------------+------------------+---------+----+---------+---+------------------+--------------------+--------------------+----------+\n",
       "|A Aliquet Ltd|                 1|111011206|2021|   August|Sun|144.92626003254605|A Aliquet Ltd1110...|A Aliquet Ltd1110...|     17986|\n",
       "|A Aliquet Ltd|                 1|119011358|2021|    March|Fri|170.85311633083847|A Aliquet Ltd1190...|A Aliquet Ltd1190...|     17359|\n",
       "|A Aliquet Ltd|                 1|119011572|2021|September|Mon| 189.1723204191432|A Aliquet Ltd1190...|A Aliquet Ltd1190...|     18209|\n",
       "+-------------+------------------+---------+----+---------+---+------------------+--------------------+--------------------+----------+"
      ]
     },
     "execution_count": 95,
     "metadata": {},
     "output_type": "execute_result"
    }
   ],
   "source": [
    "total_pop.limit(3)"
   ]
  },
  {
   "cell_type": "code",
   "execution_count": 96,
   "metadata": {},
   "outputs": [
    {
     "name": "stderr",
     "output_type": "stream",
     "text": [
      "[Stage 2708:=================================>                     (6 + 4) / 10]\r"
     ]
    },
    {
     "name": "stdout",
     "output_type": "stream",
     "text": [
      "+----+\n",
      "|Year|\n",
      "+----+\n",
      "|2021|\n",
      "|2022|\n",
      "+----+\n",
      "\n"
     ]
    },
    {
     "name": "stderr",
     "output_type": "stream",
     "text": [
      "                                                                                \r"
     ]
    }
   ],
   "source": [
    "total_pop.createOrReplaceTempView(\"check\")\n",
    "\n",
    "g = spark.sql(\"\"\" \n",
    "\n",
    "SELECT DISTINCT(Year)\n",
    "FROM check\n",
    "\n",
    "\"\"\")\n",
    "\n",
    "g.show()"
   ]
  },
  {
   "cell_type": "code",
   "execution_count": 97,
   "metadata": {},
   "outputs": [
    {
     "name": "stderr",
     "output_type": "stream",
     "text": [
      "                                                                                \r"
     ]
    },
    {
     "data": {
      "text/html": [
       "<table border='1'>\n",
       "<tr><th>merchant_name</th><th>no_of_transactions</th><th>SA2_code</th><th>Year</th><th>Month</th><th>Day</th><th>total_income</th><th>join_col</th><th>m_name</th><th>males</th><th>f_name</th><th>females</th></tr>\n",
       "<tr><td>A Auctor Non Corp...</td><td>2</td><td>205031089</td><td>2022</td><td>August</td><td>Wed</td><td>165.03443648170074</td><td>A Auctor Non Corp...</td><td>A Auctor Non Corp...</td><td>1</td><td>A Auctor Non Corp...</td><td>1</td></tr>\n",
       "<tr><td>A Auctor Non Corp...</td><td>2</td><td>211051282</td><td>2022</td><td>October</td><td>Wed</td><td>121.21960880156465</td><td>A Auctor Non Corp...</td><td>A Auctor Non Corp...</td><td>1</td><td>A Auctor Non Corp...</td><td>1</td></tr>\n",
       "<tr><td>A Auctor Non Corp...</td><td>2</td><td>303041070</td><td>2022</td><td>May</td><td>Mon</td><td>47.254634232186206</td><td>A Auctor Non Corp...</td><td>A Auctor Non Corp...</td><td>1</td><td>A Auctor Non Corp...</td><td>1</td></tr>\n",
       "<tr><td>A Auctor Non Corp...</td><td>3</td><td>305011105</td><td>2022</td><td>January</td><td>Sat</td><td>353.22193292542556</td><td>A Auctor Non Corp...</td><td>A Auctor Non Corp...</td><td>1</td><td>A Auctor Non Corp...</td><td>2</td></tr>\n",
       "<tr><td>A Auctor Non Corp...</td><td>2</td><td>312021353</td><td>2022</td><td>August</td><td>Tue</td><td>122.35487367492581</td><td>A Auctor Non Corp...</td><td>A Auctor Non Corp...</td><td>1</td><td>A Auctor Non Corp...</td><td>1</td></tr>\n",
       "</table>\n"
      ],
      "text/plain": [
       "+--------------------+------------------+---------+----+-------+---+------------------+--------------------+--------------------+-----+--------------------+-------+\n",
       "|       merchant_name|no_of_transactions| SA2_code|Year|  Month|Day|      total_income|            join_col|              m_name|males|              f_name|females|\n",
       "+--------------------+------------------+---------+----+-------+---+------------------+--------------------+--------------------+-----+--------------------+-------+\n",
       "|A Auctor Non Corp...|                 2|205031089|2022| August|Wed|165.03443648170074|A Auctor Non Corp...|A Auctor Non Corp...|    1|A Auctor Non Corp...|      1|\n",
       "|A Auctor Non Corp...|                 2|211051282|2022|October|Wed|121.21960880156465|A Auctor Non Corp...|A Auctor Non Corp...|    1|A Auctor Non Corp...|      1|\n",
       "|A Auctor Non Corp...|                 2|303041070|2022|    May|Mon|47.254634232186206|A Auctor Non Corp...|A Auctor Non Corp...|    1|A Auctor Non Corp...|      1|\n",
       "|A Auctor Non Corp...|                 3|305011105|2022|January|Sat|353.22193292542556|A Auctor Non Corp...|A Auctor Non Corp...|    1|A Auctor Non Corp...|      2|\n",
       "|A Auctor Non Corp...|                 2|312021353|2022| August|Tue|122.35487367492581|A Auctor Non Corp...|A Auctor Non Corp...|    1|A Auctor Non Corp...|      1|\n",
       "+--------------------+------------------+---------+----+-------+---+------------------+--------------------+--------------------+-----+--------------------+-------+"
      ]
     },
     "execution_count": 97,
     "metadata": {},
     "output_type": "execute_result"
    }
   ],
   "source": [
    "temp.createOrReplaceTempView(\"gender_join\")\n",
    "male.createOrReplaceTempView(\"m\")\n",
    "female.createOrReplaceTempView(\"f\")\n",
    "\n",
    "temp2 = spark.sql(\"\"\" \n",
    "\n",
    "SELECT *\n",
    "FROM gender_join\n",
    "INNER JOIN m\n",
    "ON gender_join.join_col = m.m_name\n",
    "\"\"\")\n",
    "\n",
    "temp2.createOrReplaceTempView(\"temp2\")\n",
    "\n",
    "temp3 = spark.sql(\"\"\" \n",
    "\n",
    "SELECT *\n",
    "FROM temp2\n",
    "INNER JOIN f\n",
    "ON temp2.join_col = f.f_name\n",
    "\"\"\")\n",
    "\n",
    "temp3.limit(5)"
   ]
  },
  {
   "cell_type": "code",
   "execution_count": 99,
   "metadata": {},
   "outputs": [],
   "source": [
    "total_pop = total_pop.drop('merchant_name', 'no_of_transactions', 'SA2_code', 'Year', 'Month', 'Day', 'total_income', 'pop_name')"
   ]
  },
  {
   "cell_type": "code",
   "execution_count": 100,
   "metadata": {},
   "outputs": [
    {
     "name": "stderr",
     "output_type": "stream",
     "text": [
      "                                                                                \r"
     ]
    },
    {
     "data": {
      "text/html": [
       "<table border='1'>\n",
       "<tr><th>merchant_name</th><th>no_of_transactions</th><th>SA2_code</th><th>Year</th><th>Month</th><th>Day</th><th>total_income</th><th>join_col</th><th>m_name</th><th>males</th><th>f_name</th><th>females</th><th>join_col</th><th>population</th></tr>\n",
       "<tr><td>A Auctor Non Corp...</td><td>2</td><td>205031089</td><td>2022</td><td>August</td><td>Wed</td><td>165.03443648170074</td><td>A Auctor Non Corp...</td><td>A Auctor Non Corp...</td><td>1</td><td>A Auctor Non Corp...</td><td>1</td><td>A Auctor Non Corp...</td><td>9783</td></tr>\n",
       "<tr><td>A Auctor Non Corp...</td><td>2</td><td>211051282</td><td>2022</td><td>October</td><td>Wed</td><td>121.21960880156465</td><td>A Auctor Non Corp...</td><td>A Auctor Non Corp...</td><td>1</td><td>A Auctor Non Corp...</td><td>1</td><td>A Auctor Non Corp...</td><td>9771</td></tr>\n",
       "<tr><td>A Auctor Non Corp...</td><td>2</td><td>303041070</td><td>2022</td><td>May</td><td>Mon</td><td>47.254634232186206</td><td>A Auctor Non Corp...</td><td>A Auctor Non Corp...</td><td>1</td><td>A Auctor Non Corp...</td><td>1</td><td>A Auctor Non Corp...</td><td>7679</td></tr>\n",
       "<tr><td>A Auctor Non Corp...</td><td>3</td><td>305011105</td><td>2022</td><td>January</td><td>Sat</td><td>353.22193292542556</td><td>A Auctor Non Corp...</td><td>A Auctor Non Corp...</td><td>1</td><td>A Auctor Non Corp...</td><td>2</td><td>A Auctor Non Corp...</td><td>13779</td></tr>\n",
       "<tr><td>A Auctor Non Corp...</td><td>2</td><td>312021353</td><td>2022</td><td>August</td><td>Tue</td><td>122.35487367492581</td><td>A Auctor Non Corp...</td><td>A Auctor Non Corp...</td><td>1</td><td>A Auctor Non Corp...</td><td>1</td><td>A Auctor Non Corp...</td><td>8245</td></tr>\n",
       "</table>\n"
      ],
      "text/plain": [
       "+--------------------+------------------+---------+----+-------+---+------------------+--------------------+--------------------+-----+--------------------+-------+--------------------+----------+\n",
       "|       merchant_name|no_of_transactions| SA2_code|Year|  Month|Day|      total_income|            join_col|              m_name|males|              f_name|females|            join_col|population|\n",
       "+--------------------+------------------+---------+----+-------+---+------------------+--------------------+--------------------+-----+--------------------+-------+--------------------+----------+\n",
       "|A Auctor Non Corp...|                 2|205031089|2022| August|Wed|165.03443648170074|A Auctor Non Corp...|A Auctor Non Corp...|    1|A Auctor Non Corp...|      1|A Auctor Non Corp...|      9783|\n",
       "|A Auctor Non Corp...|                 2|211051282|2022|October|Wed|121.21960880156465|A Auctor Non Corp...|A Auctor Non Corp...|    1|A Auctor Non Corp...|      1|A Auctor Non Corp...|      9771|\n",
       "|A Auctor Non Corp...|                 2|303041070|2022|    May|Mon|47.254634232186206|A Auctor Non Corp...|A Auctor Non Corp...|    1|A Auctor Non Corp...|      1|A Auctor Non Corp...|      7679|\n",
       "|A Auctor Non Corp...|                 3|305011105|2022|January|Sat|353.22193292542556|A Auctor Non Corp...|A Auctor Non Corp...|    1|A Auctor Non Corp...|      2|A Auctor Non Corp...|     13779|\n",
       "|A Auctor Non Corp...|                 2|312021353|2022| August|Tue|122.35487367492581|A Auctor Non Corp...|A Auctor Non Corp...|    1|A Auctor Non Corp...|      1|A Auctor Non Corp...|      8245|\n",
       "+--------------------+------------------+---------+----+-------+---+------------------+--------------------+--------------------+-----+--------------------+-------+--------------------+----------+"
      ]
     },
     "execution_count": 100,
     "metadata": {},
     "output_type": "execute_result"
    }
   ],
   "source": [
    "temp3.createOrReplaceTempView(\"join_gender_pop\")\n",
    "total_pop.createOrReplaceTempView(\"pop_view\")\n",
    "\n",
    "f = spark.sql(\"\"\" \n",
    "\n",
    "SELECT *\n",
    "FROM join_gender_pop\n",
    "INNER JOIN pop_view\n",
    "ON join_gender_pop.join_col = pop_view.join_col\n",
    "\n",
    "\"\"\")\n",
    "\n",
    "f.limit(5)"
   ]
  },
  {
   "cell_type": "code",
   "execution_count": 101,
   "metadata": {},
   "outputs": [],
   "source": [
    "a = a.withColumnRenamed('income_2018-2019',\n",
    "\n",
    "    'income_2018_2019'    \n",
    ")\n",
    "\n",
    "a = a.withColumn('income_per_persons',\n",
    "    (F.col('income_2018_2019')/F.col('total_persons'))\n",
    ")\n"
   ]
  },
  {
   "cell_type": "code",
   "execution_count": 78,
   "metadata": {},
   "outputs": [
    {
     "name": "stderr",
     "output_type": "stream",
     "text": [
      "[Stage 1854:===================================>                   (9 + 5) / 14]\r"
     ]
    },
    {
     "name": "stdout",
     "output_type": "stream",
     "text": [
      "+--------------------+---------+--------------+-----+------+-----------------+---------+---------+----------------+-----------+-------------+-------------+--------------------+----+------+---+------------------+\n",
      "|       merchant_name|take_rate|revenue_levels|state|gender|     dollar_value|postcodes| SA2_code|income_2018_2019|total_males|total_females|total_persons|            category|Year| Month|Day|income_per_persons|\n",
      "+--------------------+---------+--------------+-----+------+-----------------+---------+---------+----------------+-----------+-------------+-------------+--------------------+----+------+---+------------------+\n",
      "|Egestas Nunc Asso...|     6.58|             a|  NSW|  Male|11.28829564583802|     2299|111031231|       242936885|       6412|         6179|        12593|Books, Stationary...|2021|August|Fri|19291.422615738902|\n",
      "+--------------------+---------+--------------+-----+------+-----------------+---------+---------+----------------+-----------+-------------+-------------+--------------------+----+------+---+------------------+\n",
      "only showing top 1 row\n",
      "\n"
     ]
    },
    {
     "name": "stderr",
     "output_type": "stream",
     "text": [
      "                                                                                \r"
     ]
    }
   ],
   "source": [
    "a.show(1)"
   ]
  },
  {
   "cell_type": "code",
   "execution_count": 102,
   "metadata": {},
   "outputs": [
    {
     "name": "stderr",
     "output_type": "stream",
     "text": [
      "[Stage 3309:===================================>                   (9 + 5) / 14]\r"
     ]
    },
    {
     "name": "stdout",
     "output_type": "stream",
     "text": [
      "+---------------+---------+--------------+--------------------+------------+--------------+------------------+\n",
      "|      drop_name|take_rate|revenue_levels|            category|males_in_SA2|females_in_SA2| income_per_person|\n",
      "+---------------+---------+--------------+--------------------+------------+--------------+------------------+\n",
      "|   A Associates|     4.95|             b|Books, Stationary...|        9762|         10846|22526.523772559674|\n",
      "|A Felis Company|     4.32|             b|Books, Stationary...|        1080|          1051| 33927.61168708765|\n",
      "+---------------+---------+--------------+--------------------+------------+--------------+------------------+\n",
      "only showing top 2 rows\n",
      "\n"
     ]
    },
    {
     "name": "stderr",
     "output_type": "stream",
     "text": [
      "                                                                                \r"
     ]
    }
   ],
   "source": [
    "a.createOrReplaceTempView(\"features\")\n",
    "\n",
    "e = spark.sql(\"\"\" \n",
    "\n",
    "SELECT merchant_name AS drop_name, FIRST(take_rate) AS take_rate, FIRST(revenue_levels) AS revenue_levels, FIRST(category) AS category,\n",
    "    FIRST(total_males) AS males_in_SA2, FIRST(total_females) AS females_in_SA2, FIRST(income_per_persons) AS income_per_person\n",
    "FROM features\n",
    "GROUP BY merchant_name\n",
    "\"\"\")\n",
    "\n",
    "e.show(2)"
   ]
  },
  {
   "cell_type": "code",
   "execution_count": null,
   "metadata": {},
   "outputs": [],
   "source": [
    "f.createOrReplaceTempView(\"edit\")\n",
    "e.createOrReplaceTempView(\"rates\")\n",
    "\n",
    "temp5 = spark.sql(\"\"\" \n",
    "\n",
    "SELECT *\n",
    "FROM edit\n",
    "INNER JOIN rates\n",
    "ON edit.merchant_name = rates.drop_name\n",
    "\"\"\")\n",
    "\n"
   ]
  },
  {
   "cell_type": "code",
   "execution_count": 107,
   "metadata": {},
   "outputs": [
    {
     "name": "stderr",
     "output_type": "stream",
     "text": [
      "                                                                                \r"
     ]
    },
    {
     "data": {
      "text/html": [
       "<table border='1'>\n",
       "<tr><th>merchant_name</th><th>no_of_transactions</th><th>SA2_code</th><th>Year</th><th>Month</th><th>Day</th><th>total_income</th><th>males</th><th>females</th><th>population</th><th>take_rate</th><th>revenue_levels</th><th>category</th><th>males_in_SA2</th><th>females_in_SA2</th><th>income_per_person</th></tr>\n",
       "<tr><td>A Auctor Non Corp...</td><td>2</td><td>205031089</td><td>2022</td><td>August</td><td>Wed</td><td>165.03443648170074</td><td>1</td><td>1</td><td>9783</td><td>5.58</td><td>a</td><td>Furniture</td><td>2067</td><td>2014</td><td>22634.72370679088</td></tr>\n",
       "<tr><td>A Auctor Non Corp...</td><td>2</td><td>211051282</td><td>2022</td><td>October</td><td>Wed</td><td>121.21960880156465</td><td>1</td><td>1</td><td>9771</td><td>5.58</td><td>a</td><td>Furniture</td><td>2067</td><td>2014</td><td>22634.72370679088</td></tr>\n",
       "<tr><td>A Auctor Non Corp...</td><td>2</td><td>303041070</td><td>2022</td><td>May</td><td>Mon</td><td>47.254634232186206</td><td>1</td><td>1</td><td>7679</td><td>5.58</td><td>a</td><td>Furniture</td><td>2067</td><td>2014</td><td>22634.72370679088</td></tr>\n",
       "<tr><td>A Auctor Non Corp...</td><td>3</td><td>305011105</td><td>2022</td><td>January</td><td>Sat</td><td>353.22193292542556</td><td>1</td><td>2</td><td>13779</td><td>5.58</td><td>a</td><td>Furniture</td><td>2067</td><td>2014</td><td>22634.72370679088</td></tr>\n",
       "<tr><td>A Auctor Non Corp...</td><td>2</td><td>312021353</td><td>2022</td><td>August</td><td>Tue</td><td>122.35487367492581</td><td>1</td><td>1</td><td>8245</td><td>5.58</td><td>a</td><td>Furniture</td><td>2067</td><td>2014</td><td>22634.72370679088</td></tr>\n",
       "</table>\n"
      ],
      "text/plain": [
       "+--------------------+------------------+---------+----+-------+---+------------------+-----+-------+----------+---------+--------------+---------+------------+--------------+-----------------+\n",
       "|       merchant_name|no_of_transactions| SA2_code|Year|  Month|Day|      total_income|males|females|population|take_rate|revenue_levels| category|males_in_SA2|females_in_SA2|income_per_person|\n",
       "+--------------------+------------------+---------+----+-------+---+------------------+-----+-------+----------+---------+--------------+---------+------------+--------------+-----------------+\n",
       "|A Auctor Non Corp...|                 2|205031089|2022| August|Wed|165.03443648170074|    1|      1|      9783|     5.58|             a|Furniture|        2067|          2014|22634.72370679088|\n",
       "|A Auctor Non Corp...|                 2|211051282|2022|October|Wed|121.21960880156465|    1|      1|      9771|     5.58|             a|Furniture|        2067|          2014|22634.72370679088|\n",
       "|A Auctor Non Corp...|                 2|303041070|2022|    May|Mon|47.254634232186206|    1|      1|      7679|     5.58|             a|Furniture|        2067|          2014|22634.72370679088|\n",
       "|A Auctor Non Corp...|                 3|305011105|2022|January|Sat|353.22193292542556|    1|      2|     13779|     5.58|             a|Furniture|        2067|          2014|22634.72370679088|\n",
       "|A Auctor Non Corp...|                 2|312021353|2022| August|Tue|122.35487367492581|    1|      1|      8245|     5.58|             a|Furniture|        2067|          2014|22634.72370679088|\n",
       "+--------------------+------------------+---------+----+-------+---+------------------+-----+-------+----------+---------+--------------+---------+------------+--------------+-----------------+"
      ]
     },
     "execution_count": 107,
     "metadata": {},
     "output_type": "execute_result"
    }
   ],
   "source": [
    "train = temp5.drop('m_name', 'f_name', 'drop_name', 'join_col')\n",
    "\n",
    "train.limit(5)"
   ]
  },
  {
   "cell_type": "code",
   "execution_count": 112,
   "metadata": {},
   "outputs": [
    {
     "name": "stderr",
     "output_type": "stream",
     "text": [
      "[Stage 4533:=================================================>     (9 + 1) / 10]\r"
     ]
    },
    {
     "name": "stdout",
     "output_type": "stream",
     "text": [
      "+----+\n",
      "|Year|\n",
      "+----+\n",
      "|2022|\n",
      "+----+\n",
      "\n"
     ]
    },
    {
     "name": "stderr",
     "output_type": "stream",
     "text": [
      "                                                                                \r"
     ]
    }
   ],
   "source": [
    "train.createOrReplaceTempView(\"h\")\n",
    "\n",
    "j = spark.sql(\"\"\" \n",
    "\n",
    "SELECT DISTINCT(Year)\n",
    "FROM h\n",
    "\n",
    "\"\"\")\n",
    "\n",
    "j.show()"
   ]
  },
  {
   "cell_type": "code",
   "execution_count": 108,
   "metadata": {},
   "outputs": [
    {
     "name": "stdout",
     "output_type": "stream",
     "text": [
      "root\n",
      " |-- merchant_name: string (nullable = true)\n",
      " |-- no_of_transactions: long (nullable = false)\n",
      " |-- SA2_code: long (nullable = true)\n",
      " |-- Year: string (nullable = true)\n",
      " |-- Month: string (nullable = true)\n",
      " |-- Day: string (nullable = true)\n",
      " |-- total_income: double (nullable = true)\n",
      " |-- males: long (nullable = false)\n",
      " |-- females: long (nullable = false)\n",
      " |-- population: long (nullable = true)\n",
      " |-- take_rate: double (nullable = true)\n",
      " |-- revenue_levels: string (nullable = true)\n",
      " |-- category: string (nullable = true)\n",
      " |-- males_in_SA2: long (nullable = true)\n",
      " |-- females_in_SA2: long (nullable = true)\n",
      " |-- income_per_person: double (nullable = true)\n",
      "\n"
     ]
    }
   ],
   "source": [
    "train.printSchema()"
   ]
  },
  {
   "cell_type": "code",
   "execution_count": 110,
   "metadata": {},
   "outputs": [
    {
     "name": "stderr",
     "output_type": "stream",
     "text": [
      "                                                                                \r"
     ]
    },
    {
     "data": {
      "text/plain": [
       "254478"
      ]
     },
     "execution_count": 110,
     "metadata": {},
     "output_type": "execute_result"
    }
   ],
   "source": [
    "train.count()"
   ]
  },
  {
   "cell_type": "code",
   "execution_count": 111,
   "metadata": {},
   "outputs": [
    {
     "name": "stderr",
     "output_type": "stream",
     "text": [
      "                                                                                \r"
     ]
    },
    {
     "ename": "IllegalArgumentException",
     "evalue": "requirement failed: The input column Year_num should have at least two distinct values.",
     "output_type": "error",
     "traceback": [
      "\u001b[0;31m---------------------------------------------------------------------------\u001b[0m",
      "\u001b[0;31mIllegalArgumentException\u001b[0m                  Traceback (most recent call last)",
      "\u001b[1;32m/Users/Kasturi/Documents/GitHub/generic-buy-now-pay-later-project-group-10-bnpl/notebooks/No of Customers model.ipynb Cell 35\u001b[0m in \u001b[0;36m<cell line: 13>\u001b[0;34m()\u001b[0m\n\u001b[1;32m      <a href='vscode-notebook-cell:/Users/Kasturi/Documents/GitHub/generic-buy-now-pay-later-project-group-10-bnpl/notebooks/No%20of%20Customers%20model.ipynb#X34sZmlsZQ%3D%3D?line=8'>9</a>\u001b[0m \u001b[39m# Applying onehot encoding to the categorical data that is string indexed above\u001b[39;00m\n\u001b[1;32m     <a href='vscode-notebook-cell:/Users/Kasturi/Documents/GitHub/generic-buy-now-pay-later-project-group-10-bnpl/notebooks/No%20of%20Customers%20model.ipynb#X34sZmlsZQ%3D%3D?line=9'>10</a>\u001b[0m encoder \u001b[39m=\u001b[39m OneHotEncoder(inputCols \u001b[39m=\u001b[39m [\u001b[39m'\u001b[39m\u001b[39mmerchant_name_num\u001b[39m\u001b[39m'\u001b[39m, \u001b[39m'\u001b[39m\u001b[39mSA2_code_num\u001b[39m\u001b[39m'\u001b[39m, \u001b[39m'\u001b[39m\u001b[39mYear_num\u001b[39m\u001b[39m'\u001b[39m, \u001b[39m'\u001b[39m\u001b[39mMonth_num\u001b[39m\u001b[39m'\u001b[39m, \u001b[39m'\u001b[39m\u001b[39mDay_num\u001b[39m\u001b[39m'\u001b[39m, \u001b[39m'\u001b[39m\u001b[39mrevenue_levels_num\u001b[39m\u001b[39m'\u001b[39m,\u001b[39m'\u001b[39m\u001b[39mcategory_num\u001b[39m\u001b[39m'\u001b[39m],\n\u001b[1;32m     <a href='vscode-notebook-cell:/Users/Kasturi/Documents/GitHub/generic-buy-now-pay-later-project-group-10-bnpl/notebooks/No%20of%20Customers%20model.ipynb#X34sZmlsZQ%3D%3D?line=10'>11</a>\u001b[0m outputCols \u001b[39m=\u001b[39m [\u001b[39m'\u001b[39m\u001b[39mmerchant_name_vec\u001b[39m\u001b[39m'\u001b[39m, \u001b[39m'\u001b[39m\u001b[39mSA2_code_vec\u001b[39m\u001b[39m'\u001b[39m, \u001b[39m'\u001b[39m\u001b[39mYear_vec\u001b[39m\u001b[39m'\u001b[39m, \u001b[39m'\u001b[39m\u001b[39mMonth_vec\u001b[39m\u001b[39m'\u001b[39m, \u001b[39m'\u001b[39m\u001b[39mDay_vec\u001b[39m\u001b[39m'\u001b[39m, \u001b[39m'\u001b[39m\u001b[39mrevenue_levels_vec\u001b[39m\u001b[39m'\u001b[39m,\u001b[39m'\u001b[39m\u001b[39mcategory_vec\u001b[39m\u001b[39m'\u001b[39m])\n\u001b[0;32m---> <a href='vscode-notebook-cell:/Users/Kasturi/Documents/GitHub/generic-buy-now-pay-later-project-group-10-bnpl/notebooks/No%20of%20Customers%20model.ipynb#X34sZmlsZQ%3D%3D?line=12'>13</a>\u001b[0m onehotdata \u001b[39m=\u001b[39m encoder\u001b[39m.\u001b[39;49mfit(indexd_data)\u001b[39m.\u001b[39mtransform(indexd_data)\n\u001b[1;32m     <a href='vscode-notebook-cell:/Users/Kasturi/Documents/GitHub/generic-buy-now-pay-later-project-group-10-bnpl/notebooks/No%20of%20Customers%20model.ipynb#X34sZmlsZQ%3D%3D?line=15'>16</a>\u001b[0m \u001b[39m# Assembling the training data as a vector of features \u001b[39;00m\n\u001b[1;32m     <a href='vscode-notebook-cell:/Users/Kasturi/Documents/GitHub/generic-buy-now-pay-later-project-group-10-bnpl/notebooks/No%20of%20Customers%20model.ipynb#X34sZmlsZQ%3D%3D?line=16'>17</a>\u001b[0m assembler1 \u001b[39m=\u001b[39m VectorAssembler(\n\u001b[1;32m     <a href='vscode-notebook-cell:/Users/Kasturi/Documents/GitHub/generic-buy-now-pay-later-project-group-10-bnpl/notebooks/No%20of%20Customers%20model.ipynb#X34sZmlsZQ%3D%3D?line=17'>18</a>\u001b[0m inputCols\u001b[39m=\u001b[39m[\u001b[39m'\u001b[39m\u001b[39mpopulation\u001b[39m\u001b[39m'\u001b[39m,\u001b[39m'\u001b[39m\u001b[39mtotal_income\u001b[39m\u001b[39m'\u001b[39m,\u001b[39m'\u001b[39m\u001b[39mtake_rate\u001b[39m\u001b[39m'\u001b[39m, \u001b[39m'\u001b[39m\u001b[39mmerchant_name_vec\u001b[39m\u001b[39m'\u001b[39m, \u001b[39m'\u001b[39m\u001b[39mSA2_code_vec\u001b[39m\u001b[39m'\u001b[39m, \u001b[39m'\u001b[39m\u001b[39mYear_vec\u001b[39m\u001b[39m'\u001b[39m, \u001b[39m'\u001b[39m\u001b[39mMonth_vec\u001b[39m\u001b[39m'\u001b[39m, \u001b[39m'\u001b[39m\u001b[39mDay_vec\u001b[39m\u001b[39m'\u001b[39m, \u001b[39m'\u001b[39m\u001b[39mrevenue_levels_vec\u001b[39m\u001b[39m'\u001b[39m,\u001b[39m'\u001b[39m\u001b[39mcategory_vec\u001b[39m\u001b[39m'\u001b[39m,\u001b[39m'\u001b[39m\u001b[39mmales_in_SA2\u001b[39m\u001b[39m'\u001b[39m, \u001b[39m'\u001b[39m\u001b[39mfemales_in_SA2\u001b[39m\u001b[39m'\u001b[39m, \u001b[39m'\u001b[39m\u001b[39mincome_per_person\u001b[39m\u001b[39m'\u001b[39m],\n\u001b[1;32m     <a href='vscode-notebook-cell:/Users/Kasturi/Documents/GitHub/generic-buy-now-pay-later-project-group-10-bnpl/notebooks/No%20of%20Customers%20model.ipynb#X34sZmlsZQ%3D%3D?line=18'>19</a>\u001b[0m outputCol\u001b[39m=\u001b[39m \u001b[39m\"\u001b[39m\u001b[39mfeatures\u001b[39m\u001b[39m\"\u001b[39m )\n",
      "File \u001b[0;32m~/opt/anaconda3/lib/python3.9/site-packages/pyspark/ml/base.py:205\u001b[0m, in \u001b[0;36mEstimator.fit\u001b[0;34m(self, dataset, params)\u001b[0m\n\u001b[1;32m    203\u001b[0m         \u001b[39mreturn\u001b[39;00m \u001b[39mself\u001b[39m\u001b[39m.\u001b[39mcopy(params)\u001b[39m.\u001b[39m_fit(dataset)\n\u001b[1;32m    204\u001b[0m     \u001b[39melse\u001b[39;00m:\n\u001b[0;32m--> 205\u001b[0m         \u001b[39mreturn\u001b[39;00m \u001b[39mself\u001b[39;49m\u001b[39m.\u001b[39;49m_fit(dataset)\n\u001b[1;32m    206\u001b[0m \u001b[39melse\u001b[39;00m:\n\u001b[1;32m    207\u001b[0m     \u001b[39mraise\u001b[39;00m \u001b[39mTypeError\u001b[39;00m(\n\u001b[1;32m    208\u001b[0m         \u001b[39m\"\u001b[39m\u001b[39mParams must be either a param map or a list/tuple of param maps, \u001b[39m\u001b[39m\"\u001b[39m\n\u001b[1;32m    209\u001b[0m         \u001b[39m\"\u001b[39m\u001b[39mbut got \u001b[39m\u001b[39m%s\u001b[39;00m\u001b[39m.\u001b[39m\u001b[39m\"\u001b[39m \u001b[39m%\u001b[39m \u001b[39mtype\u001b[39m(params)\n\u001b[1;32m    210\u001b[0m     )\n",
      "File \u001b[0;32m~/opt/anaconda3/lib/python3.9/site-packages/pyspark/ml/wrapper.py:379\u001b[0m, in \u001b[0;36mJavaEstimator._fit\u001b[0;34m(self, dataset)\u001b[0m\n\u001b[1;32m    378\u001b[0m \u001b[39mdef\u001b[39;00m \u001b[39m_fit\u001b[39m(\u001b[39mself\u001b[39m, dataset: DataFrame) \u001b[39m-\u001b[39m\u001b[39m>\u001b[39m JM:\n\u001b[0;32m--> 379\u001b[0m     java_model \u001b[39m=\u001b[39m \u001b[39mself\u001b[39;49m\u001b[39m.\u001b[39;49m_fit_java(dataset)\n\u001b[1;32m    380\u001b[0m     model \u001b[39m=\u001b[39m \u001b[39mself\u001b[39m\u001b[39m.\u001b[39m_create_model(java_model)\n\u001b[1;32m    381\u001b[0m     \u001b[39mreturn\u001b[39;00m \u001b[39mself\u001b[39m\u001b[39m.\u001b[39m_copyValues(model)\n",
      "File \u001b[0;32m~/opt/anaconda3/lib/python3.9/site-packages/pyspark/ml/wrapper.py:376\u001b[0m, in \u001b[0;36mJavaEstimator._fit_java\u001b[0;34m(self, dataset)\u001b[0m\n\u001b[1;32m    373\u001b[0m \u001b[39massert\u001b[39;00m \u001b[39mself\u001b[39m\u001b[39m.\u001b[39m_java_obj \u001b[39mis\u001b[39;00m \u001b[39mnot\u001b[39;00m \u001b[39mNone\u001b[39;00m\n\u001b[1;32m    375\u001b[0m \u001b[39mself\u001b[39m\u001b[39m.\u001b[39m_transfer_params_to_java()\n\u001b[0;32m--> 376\u001b[0m \u001b[39mreturn\u001b[39;00m \u001b[39mself\u001b[39;49m\u001b[39m.\u001b[39;49m_java_obj\u001b[39m.\u001b[39;49mfit(dataset\u001b[39m.\u001b[39;49m_jdf)\n",
      "File \u001b[0;32m~/opt/anaconda3/lib/python3.9/site-packages/py4j/java_gateway.py:1321\u001b[0m, in \u001b[0;36mJavaMember.__call__\u001b[0;34m(self, *args)\u001b[0m\n\u001b[1;32m   1315\u001b[0m command \u001b[39m=\u001b[39m proto\u001b[39m.\u001b[39mCALL_COMMAND_NAME \u001b[39m+\u001b[39m\\\n\u001b[1;32m   1316\u001b[0m     \u001b[39mself\u001b[39m\u001b[39m.\u001b[39mcommand_header \u001b[39m+\u001b[39m\\\n\u001b[1;32m   1317\u001b[0m     args_command \u001b[39m+\u001b[39m\\\n\u001b[1;32m   1318\u001b[0m     proto\u001b[39m.\u001b[39mEND_COMMAND_PART\n\u001b[1;32m   1320\u001b[0m answer \u001b[39m=\u001b[39m \u001b[39mself\u001b[39m\u001b[39m.\u001b[39mgateway_client\u001b[39m.\u001b[39msend_command(command)\n\u001b[0;32m-> 1321\u001b[0m return_value \u001b[39m=\u001b[39m get_return_value(\n\u001b[1;32m   1322\u001b[0m     answer, \u001b[39mself\u001b[39;49m\u001b[39m.\u001b[39;49mgateway_client, \u001b[39mself\u001b[39;49m\u001b[39m.\u001b[39;49mtarget_id, \u001b[39mself\u001b[39;49m\u001b[39m.\u001b[39;49mname)\n\u001b[1;32m   1324\u001b[0m \u001b[39mfor\u001b[39;00m temp_arg \u001b[39min\u001b[39;00m temp_args:\n\u001b[1;32m   1325\u001b[0m     temp_arg\u001b[39m.\u001b[39m_detach()\n",
      "File \u001b[0;32m~/opt/anaconda3/lib/python3.9/site-packages/pyspark/sql/utils.py:196\u001b[0m, in \u001b[0;36mcapture_sql_exception.<locals>.deco\u001b[0;34m(*a, **kw)\u001b[0m\n\u001b[1;32m    192\u001b[0m converted \u001b[39m=\u001b[39m convert_exception(e\u001b[39m.\u001b[39mjava_exception)\n\u001b[1;32m    193\u001b[0m \u001b[39mif\u001b[39;00m \u001b[39mnot\u001b[39;00m \u001b[39misinstance\u001b[39m(converted, UnknownException):\n\u001b[1;32m    194\u001b[0m     \u001b[39m# Hide where the exception came from that shows a non-Pythonic\u001b[39;00m\n\u001b[1;32m    195\u001b[0m     \u001b[39m# JVM exception message.\u001b[39;00m\n\u001b[0;32m--> 196\u001b[0m     \u001b[39mraise\u001b[39;00m converted \u001b[39mfrom\u001b[39;00m \u001b[39mNone\u001b[39m\n\u001b[1;32m    197\u001b[0m \u001b[39melse\u001b[39;00m:\n\u001b[1;32m    198\u001b[0m     \u001b[39mraise\u001b[39;00m\n",
      "\u001b[0;31mIllegalArgumentException\u001b[0m: requirement failed: The input column Year_num should have at least two distinct values."
     ]
    }
   ],
   "source": [
    "# String indexing the categorical columns\n",
    "\n",
    "indexer = StringIndexer(inputCols = ['merchant_name', 'SA2_code', 'Year', 'Month', 'Day', 'revenue_levels','category'],\n",
    "outputCols = ['merchant_name_num', 'SA2_code_num', 'Year_num', 'Month_num', 'Day_num', 'revenue_levels_num','category_num'])\n",
    "\n",
    "indexd_data = indexer.fit(train).transform(train)\n",
    "\n",
    "\n",
    "# Applying onehot encoding to the categorical data that is string indexed above\n",
    "encoder = OneHotEncoder(inputCols = ['merchant_name_num', 'SA2_code_num', 'Year_num', 'Month_num', 'Day_num', 'revenue_levels_num','category_num'],\n",
    "outputCols = ['merchant_name_vec', 'SA2_code_vec', 'Year_vec', 'Month_vec', 'Day_vec', 'revenue_levels_vec','category_vec'])\n",
    "\n",
    "onehotdata = encoder.fit(indexd_data).transform(indexd_data)\n",
    "\n",
    "\n",
    "# Assembling the training data as a vector of features \n",
    "assembler1 = VectorAssembler(\n",
    "inputCols=['population','total_income','take_rate', 'merchant_name_vec', 'SA2_code_vec', 'Year_vec', 'Month_vec', 'Day_vec', 'revenue_levels_vec','category_vec','males_in_SA2', 'females_in_SA2', 'income_per_person'],\n",
    "outputCol= \"features\" )\n",
    "\n",
    "outdata1 = assembler1.transform(onehotdata)"
   ]
  },
  {
   "cell_type": "code",
   "execution_count": null,
   "metadata": {},
   "outputs": [],
   "source": [
    "# Renaming the target column as label\n",
    "\n",
    "outdata1 = outdata1.withColumnRenamed(\n",
    "    \"no_of_transactions\",\n",
    "    \"label\"\n",
    ")"
   ]
  },
  {
   "cell_type": "code",
   "execution_count": null,
   "metadata": {},
   "outputs": [
    {
     "name": "stderr",
     "output_type": "stream",
     "text": [
      "[Stage 2126:>(0 + 8) / 14][Stage 2127:>(0 + 0) / 14][Stage 2128:>(0 + 0) / 14]  \r"
     ]
    },
    {
     "name": "stdout",
     "output_type": "stream",
     "text": [
      "22/10/04 09:54:47 WARN RowBasedKeyValueBatch: Calling spill() on RowBasedKeyValueBatch. Will not spill but return 0.\n",
      "22/10/04 09:54:47 WARN RowBasedKeyValueBatch: Calling spill() on RowBasedKeyValueBatch. Will not spill but return 0.\n",
      "22/10/04 09:54:47 WARN RowBasedKeyValueBatch: Calling spill() on RowBasedKeyValueBatch. Will not spill but return 0.\n",
      "22/10/04 09:54:47 WARN RowBasedKeyValueBatch: Calling spill() on RowBasedKeyValueBatch. Will not spill but return 0.\n",
      "22/10/04 09:54:47 WARN RowBasedKeyValueBatch: Calling spill() on RowBasedKeyValueBatch. Will not spill but return 0.\n",
      "22/10/04 09:54:47 WARN RowBasedKeyValueBatch: Calling spill() on RowBasedKeyValueBatch. Will not spill but return 0.\n",
      "22/10/04 09:54:47 WARN RowBasedKeyValueBatch: Calling spill() on RowBasedKeyValueBatch. Will not spill but return 0.\n",
      "22/10/04 09:54:47 WARN RowBasedKeyValueBatch: Calling spill() on RowBasedKeyValueBatch. Will not spill but return 0.\n"
     ]
    },
    {
     "name": "stderr",
     "output_type": "stream",
     "text": [
      "                                                                                \r"
     ]
    }
   ],
   "source": [
    "# Assembling the features as a feature vector \n",
    "\n",
    "featureIndexer =\\\n",
    "    VectorIndexer(inputCol=\"features\", \n",
    "    outputCol=\"indexedFeatures\").fit(outdata1)\n",
    "\n",
    "outdata1 = featureIndexer.transform(outdata1)"
   ]
  },
  {
   "cell_type": "code",
   "execution_count": 86,
   "metadata": {},
   "outputs": [],
   "source": [
    "# Split the data into training and validation sets (30% held out for testing)\n",
    "\n",
    "trainingData, testData = outdata1.randomSplit([0.7, 0.3], seed = 20)"
   ]
  },
  {
   "cell_type": "code",
   "execution_count": 87,
   "metadata": {},
   "outputs": [
    {
     "name": "stderr",
     "output_type": "stream",
     "text": [
      "[Stage 2170:>(0 + 8) / 14][Stage 2171:>(0 + 0) / 14][Stage 2172:>(0 + 0) / 14]  \r"
     ]
    },
    {
     "name": "stdout",
     "output_type": "stream",
     "text": [
      "22/10/04 09:55:34 WARN RowBasedKeyValueBatch: Calling spill() on RowBasedKeyValueBatch. Will not spill but return 0.\n",
      "22/10/04 09:55:34 WARN RowBasedKeyValueBatch: Calling spill() on RowBasedKeyValueBatch. Will not spill but return 0.\n",
      "22/10/04 09:55:34 WARN RowBasedKeyValueBatch: Calling spill() on RowBasedKeyValueBatch. Will not spill but return 0.\n",
      "22/10/04 09:55:34 WARN RowBasedKeyValueBatch: Calling spill() on RowBasedKeyValueBatch. Will not spill but return 0.\n",
      "22/10/04 09:55:34 WARN RowBasedKeyValueBatch: Calling spill() on RowBasedKeyValueBatch. Will not spill but return 0.\n",
      "22/10/04 09:55:34 WARN RowBasedKeyValueBatch: Calling spill() on RowBasedKeyValueBatch. Will not spill but return 0.\n",
      "22/10/04 09:55:34 WARN RowBasedKeyValueBatch: Calling spill() on RowBasedKeyValueBatch. Will not spill but return 0.\n",
      "22/10/04 09:55:34 WARN RowBasedKeyValueBatch: Calling spill() on RowBasedKeyValueBatch. Will not spill but return 0.\n"
     ]
    },
    {
     "name": "stderr",
     "output_type": "stream",
     "text": [
      "[Stage 2170:>(8 + 6) / 14][Stage 2171:>(0 + 2) / 14][Stage 2172:>(0 + 0) / 14]\r"
     ]
    },
    {
     "name": "stdout",
     "output_type": "stream",
     "text": [
      "22/10/04 09:55:40 WARN RowBasedKeyValueBatch: Calling spill() on RowBasedKeyValueBatch. Will not spill but return 0.\n",
      "22/10/04 09:55:40 WARN RowBasedKeyValueBatch: Calling spill() on RowBasedKeyValueBatch. Will not spill but return 0.\n",
      "22/10/04 09:55:40 WARN RowBasedKeyValueBatch: Calling spill() on RowBasedKeyValueBatch. Will not spill but return 0.\n",
      "22/10/04 09:55:40 WARN RowBasedKeyValueBatch: Calling spill() on RowBasedKeyValueBatch. Will not spill but return 0.\n",
      "22/10/04 09:55:40 WARN RowBasedKeyValueBatch: Calling spill() on RowBasedKeyValueBatch. Will not spill but return 0.\n"
     ]
    },
    {
     "name": "stderr",
     "output_type": "stream",
     "text": [
      "[Stage 2179:===========================================>            (7 + 2) / 9]\r"
     ]
    },
    {
     "name": "stdout",
     "output_type": "stream",
     "text": [
      "22/10/04 09:56:08 WARN DAGScheduler: Broadcasting large task binary with size 1309.9 KiB\n"
     ]
    },
    {
     "name": "stderr",
     "output_type": "stream",
     "text": [
      "[Stage 2251:=====================================>                  (6 + 3) / 9]\r"
     ]
    },
    {
     "name": "stdout",
     "output_type": "stream",
     "text": [
      "22/10/04 09:56:53 WARN DAGScheduler: Broadcasting large task binary with size 1309.9 KiB\n"
     ]
    },
    {
     "name": "stderr",
     "output_type": "stream",
     "text": [
      "                                                                                \r"
     ]
    },
    {
     "data": {
      "text/plain": [
       "(355294, 152684)"
      ]
     },
     "execution_count": 87,
     "metadata": {},
     "output_type": "execute_result"
    }
   ],
   "source": [
    "trainingData.count(), testData.count()"
   ]
  },
  {
   "cell_type": "code",
   "execution_count": 88,
   "metadata": {},
   "outputs": [
    {
     "name": "stderr",
     "output_type": "stream",
     "text": [
      "[Stage 2317:>                                                       (0 + 8) / 9]\r"
     ]
    },
    {
     "name": "stdout",
     "output_type": "stream",
     "text": [
      "22/10/04 09:57:38 WARN DAGScheduler: Broadcasting large task binary with size 1316.3 KiB\n"
     ]
    },
    {
     "name": "stderr",
     "output_type": "stream",
     "text": [
      "                                                                                \r"
     ]
    },
    {
     "name": "stdout",
     "output_type": "stream",
     "text": [
      "22/10/04 09:57:39 WARN DAGScheduler: Broadcasting large task binary with size 1316.4 KiB\n"
     ]
    },
    {
     "name": "stderr",
     "output_type": "stream",
     "text": [
      "                                                                                \r"
     ]
    },
    {
     "name": "stdout",
     "output_type": "stream",
     "text": [
      "22/10/04 09:57:47 WARN DAGScheduler: Broadcasting large task binary with size 1320.4 KiB\n"
     ]
    },
    {
     "name": "stderr",
     "output_type": "stream",
     "text": [
      "                                                                                \r"
     ]
    },
    {
     "name": "stdout",
     "output_type": "stream",
     "text": [
      "22/10/04 09:57:53 WARN DAGScheduler: Broadcasting large task binary with size 1472.7 KiB\n"
     ]
    },
    {
     "name": "stderr",
     "output_type": "stream",
     "text": [
      "[Stage 2362:>                                                      (0 + 8) / 13]\r"
     ]
    },
    {
     "name": "stdout",
     "output_type": "stream",
     "text": [
      "22/10/04 09:57:57 WARN MemoryStore: Not enough space to cache rdd_5478_2 in memory! (computed 255.3 MiB so far)\n",
      "22/10/04 09:57:58 WARN MemoryStore: Not enough space to cache rdd_5478_5 in memory! (computed 168.8 MiB so far)\n",
      "22/10/04 09:57:58 WARN MemoryStore: Not enough space to cache rdd_5478_4 in memory! (computed 74.8 MiB so far)\n",
      "22/10/04 09:57:58 WARN MemoryStore: Not enough space to cache rdd_5478_1 in memory! (computed 112.5 MiB so far)\n",
      "22/10/04 09:57:58 WARN MemoryStore: Not enough space to cache rdd_5478_6 in memory! (computed 255.3 MiB so far)\n",
      "22/10/04 09:57:58 WARN MemoryStore: Not enough space to cache rdd_5478_7 in memory! (computed 168.8 MiB so far)\n",
      "22/10/04 09:57:58 WARN MemoryStore: Not enough space to cache rdd_5478_3 in memory! (computed 255.3 MiB so far)\n",
      "22/10/04 09:57:58 WARN BlockManager: Persisting block rdd_5478_4 to disk instead.\n",
      "22/10/04 09:57:58 WARN BlockManager: Persisting block rdd_5478_2 to disk instead.\n",
      "22/10/04 09:57:58 WARN BlockManager: Persisting block rdd_5478_5 to disk instead.\n",
      "22/10/04 09:57:58 WARN BlockManager: Persisting block rdd_5478_3 to disk instead.\n",
      "22/10/04 09:57:58 WARN BlockManager: Persisting block rdd_5478_7 to disk instead.\n",
      "22/10/04 09:57:58 WARN BlockManager: Persisting block rdd_5478_1 to disk instead.\n",
      "22/10/04 09:57:58 WARN BlockManager: Persisting block rdd_5478_6 to disk instead.\n",
      "22/10/04 09:57:59 WARN MemoryStore: Not enough space to cache rdd_5478_3 in memory! (computed 255.3 MiB so far)\n",
      "22/10/04 09:57:59 WARN MemoryStore: Not enough space to cache rdd_5478_6 in memory! (computed 255.3 MiB so far)\n",
      "22/10/04 09:57:59 WARN MemoryStore: Not enough space to cache rdd_5478_4 in memory! (computed 112.5 MiB so far)\n",
      "22/10/04 09:57:59 WARN MemoryStore: Not enough space to cache rdd_5478_5 in memory! (computed 255.3 MiB so far)\n",
      "22/10/04 09:58:00 WARN MemoryStore: Not enough space to cache rdd_5478_7 in memory! (computed 255.3 MiB so far)\n",
      "22/10/04 09:58:00 WARN MemoryStore: Not enough space to cache rdd_5478_1 in memory! (computed 255.3 MiB so far)\n"
     ]
    },
    {
     "name": "stderr",
     "output_type": "stream",
     "text": [
      "                                                                                \r"
     ]
    },
    {
     "name": "stdout",
     "output_type": "stream",
     "text": [
      "22/10/04 09:58:10 WARN DAGScheduler: Broadcasting large task binary with size 1554.2 KiB\n",
      "22/10/04 09:58:10 WARN MemoryStore: Not enough space to cache rdd_5478_0 in memory! (computed 32.2 MiB so far)\n",
      "22/10/04 09:58:10 WARN MemoryStore: Not enough space to cache rdd_5478_5 in memory! (computed 32.2 MiB so far)\n",
      "22/10/04 09:58:10 WARN MemoryStore: Not enough space to cache rdd_5478_7 in memory! (computed 32.2 MiB so far)\n",
      "22/10/04 09:58:10 WARN MemoryStore: Not enough space to cache rdd_5478_3 in memory! (computed 32.2 MiB so far)\n",
      "22/10/04 09:58:10 WARN MemoryStore: Not enough space to cache rdd_5478_4 in memory! (computed 49.0 MiB so far)\n",
      "22/10/04 09:58:10 WARN MemoryStore: Not enough space to cache rdd_5478_6 in memory! (computed 49.0 MiB so far)\n",
      "22/10/04 09:58:10 WARN MemoryStore: Not enough space to cache rdd_5478_1 in memory! (computed 49.0 MiB so far)\n"
     ]
    },
    {
     "name": "stderr",
     "output_type": "stream",
     "text": [
      "                                                                                \r"
     ]
    },
    {
     "name": "stdout",
     "output_type": "stream",
     "text": [
      "22/10/04 09:58:17 WARN DAGScheduler: Broadcasting large task binary with size 1707.3 KiB\n",
      "22/10/04 09:58:17 WARN MemoryStore: Not enough space to cache rdd_5478_4 in memory! (computed 32.2 MiB so far)\n",
      "22/10/04 09:58:17 WARN MemoryStore: Not enough space to cache rdd_5478_5 in memory! (computed 32.2 MiB so far)\n",
      "22/10/04 09:58:17 WARN MemoryStore: Not enough space to cache rdd_5478_3 in memory! (computed 32.2 MiB so far)\n",
      "22/10/04 09:58:17 WARN MemoryStore: Not enough space to cache rdd_5478_6 in memory! (computed 49.0 MiB so far)\n",
      "22/10/04 09:58:17 WARN MemoryStore: Not enough space to cache rdd_5478_7 in memory! (computed 49.0 MiB so far)\n",
      "22/10/04 09:58:17 WARN MemoryStore: Not enough space to cache rdd_5478_1 in memory! (computed 32.2 MiB so far)\n",
      "22/10/04 09:58:17 WARN MemoryStore: Not enough space to cache rdd_5478_0 in memory! (computed 49.0 MiB so far)\n"
     ]
    },
    {
     "name": "stderr",
     "output_type": "stream",
     "text": [
      "                                                                                \r"
     ]
    },
    {
     "name": "stdout",
     "output_type": "stream",
     "text": [
      "22/10/04 09:58:24 WARN DAGScheduler: Broadcasting large task binary with size 1963.9 KiB\n",
      "22/10/04 09:58:24 WARN MemoryStore: Not enough space to cache rdd_5478_1 in memory! (computed 32.2 MiB so far)\n",
      "22/10/04 09:58:24 WARN MemoryStore: Not enough space to cache rdd_5478_6 in memory! (computed 49.0 MiB so far)\n",
      "22/10/04 09:58:24 WARN MemoryStore: Not enough space to cache rdd_5478_5 in memory! (computed 49.0 MiB so far)\n",
      "22/10/04 09:58:24 WARN MemoryStore: Not enough space to cache rdd_5478_4 in memory! (computed 49.0 MiB so far)\n",
      "22/10/04 09:58:24 WARN MemoryStore: Not enough space to cache rdd_5478_7 in memory! (computed 49.0 MiB so far)\n",
      "22/10/04 09:58:24 WARN MemoryStore: Not enough space to cache rdd_5478_3 in memory! (computed 32.2 MiB so far)\n",
      "22/10/04 09:58:25 WARN MemoryStore: Not enough space to cache rdd_5478_0 in memory! (computed 21.2 MiB so far)\n"
     ]
    },
    {
     "name": "stderr",
     "output_type": "stream",
     "text": [
      "                                                                                \r"
     ]
    },
    {
     "name": "stdout",
     "output_type": "stream",
     "text": [
      "22/10/04 09:58:32 WARN DAGScheduler: Broadcasting large task binary with size 2.3 MiB\n",
      "22/10/04 09:58:32 WARN MemoryStore: Not enough space to cache rdd_5478_6 in memory! (computed 49.0 MiB so far)\n",
      "22/10/04 09:58:32 WARN MemoryStore: Not enough space to cache rdd_5478_5 in memory! (computed 49.0 MiB so far)\n",
      "22/10/04 09:58:32 WARN MemoryStore: Not enough space to cache rdd_5478_7 in memory! (computed 49.0 MiB so far)\n",
      "22/10/04 09:58:32 WARN MemoryStore: Not enough space to cache rdd_5478_0 in memory! (computed 32.2 MiB so far)\n",
      "22/10/04 09:58:32 WARN MemoryStore: Not enough space to cache rdd_5478_3 in memory! (computed 32.2 MiB so far)\n",
      "22/10/04 09:58:32 WARN MemoryStore: Not enough space to cache rdd_5478_4 in memory! (computed 32.2 MiB so far)\n",
      "22/10/04 09:58:32 WARN MemoryStore: Not enough space to cache rdd_5478_1 in memory! (computed 32.2 MiB so far)\n"
     ]
    },
    {
     "name": "stderr",
     "output_type": "stream",
     "text": [
      "                                                                                \r"
     ]
    }
   ],
   "source": [
    "# Train a RandomForest model.\n",
    "rf = RandomForestRegressor(featuresCol=\"indexedFeatures\")\n",
    "\n",
    "\n",
    "# Train model.  \n",
    "model = rf.fit(trainingData)\n",
    "\n",
    "# Make predictions.\n",
    "predictions_validation = model.transform(testData)"
   ]
  },
  {
   "cell_type": "code",
   "execution_count": 89,
   "metadata": {},
   "outputs": [
    {
     "name": "stderr",
     "output_type": "stream",
     "text": [
      "[Stage 2454:============>                                           (2 + 7) / 9]\r"
     ]
    },
    {
     "name": "stdout",
     "output_type": "stream",
     "text": [
      "22/10/04 09:59:16 WARN DAGScheduler: Broadcasting large task binary with size 1324.3 KiB\n"
     ]
    },
    {
     "name": "stderr",
     "output_type": "stream",
     "text": [
      "                                                                                \r"
     ]
    },
    {
     "name": "stdout",
     "output_type": "stream",
     "text": [
      "+-----------------+------------------+--------------------+\n",
      "|       prediction|             label|            features|\n",
      "+-----------------+------------------+--------------------+\n",
      "|228.3845872373052|110.05960880156465|(2835,[0,1,222,17...|\n",
      "|228.3845872373052| 27.13087366041648|(2835,[0,1,222,17...|\n",
      "|228.3845872373052| 257.3289665843789|(2835,[0,1,222,17...|\n",
      "|228.3845872373052|122.97252883408981|(2835,[0,1,222,17...|\n",
      "| 202.086279904091|417.99304299678636|(2835,[0,1,490,21...|\n",
      "+-----------------+------------------+--------------------+\n",
      "only showing top 5 rows\n",
      "\n"
     ]
    },
    {
     "name": "stderr",
     "output_type": "stream",
     "text": [
      "[Stage 2508:>                                                       (0 + 8) / 9]\r"
     ]
    },
    {
     "name": "stdout",
     "output_type": "stream",
     "text": [
      "22/10/04 09:59:54 WARN DAGScheduler: Broadcasting large task binary with size 1321.7 KiB\n"
     ]
    },
    {
     "name": "stderr",
     "output_type": "stream",
     "text": [
      "[Stage 2519:======================================>               (10 + 4) / 14]\r"
     ]
    },
    {
     "name": "stdout",
     "output_type": "stream",
     "text": [
      "22/10/04 10:00:02 WARN DAGScheduler: Broadcasting large task binary with size 1322.8 KiB\n",
      "Root Mean Squared Error (RMSE) on train data = 223.326\n"
     ]
    },
    {
     "name": "stderr",
     "output_type": "stream",
     "text": [
      "[Stage 2563:=================================================>      (8 + 1) / 9]\r"
     ]
    },
    {
     "name": "stdout",
     "output_type": "stream",
     "text": [
      "22/10/04 10:00:38 WARN DAGScheduler: Broadcasting large task binary with size 1321.6 KiB\n"
     ]
    },
    {
     "name": "stderr",
     "output_type": "stream",
     "text": [
      "[Stage 2574:=========================================>            (10 + 3) / 13]\r"
     ]
    },
    {
     "name": "stdout",
     "output_type": "stream",
     "text": [
      "22/10/04 10:00:45 WARN DAGScheduler: Broadcasting large task binary with size 1322.7 KiB\n",
      "Root Mean Squared Error (MAE) on raint data = 120.714\n"
     ]
    },
    {
     "name": "stderr",
     "output_type": "stream",
     "text": [
      "                                                                                \r"
     ]
    }
   ],
   "source": [
    "# Evaluate the validation set \n",
    "\n",
    "predictions_validation.select(\"prediction\", \"label\", \"features\").show(5)\n",
    "\n",
    "# Select (prediction, true label) and compute test error\n",
    "\n",
    "evaluator_train_rmse = RegressionEvaluator(\n",
    "    labelCol=\"label\", predictionCol=\"prediction\", metricName=\"rmse\")\n",
    "rmse_train = evaluator_train_rmse.evaluate(predictions_validation)\n",
    "print(\"Root Mean Squared Error (RMSE) on train data = %g\" % rmse_train)\n",
    "\n",
    "evaluator_train_mae = RegressionEvaluator(\n",
    "    labelCol=\"label\", predictionCol=\"prediction\", metricName=\"mae\")\n",
    "mae_train = evaluator_train_mae.evaluate(predictions_validation)\n",
    "print(\"Root Mean Squared Error (MAE) on train data = %g\" % mae_train)"
   ]
  },
  {
   "cell_type": "code",
   "execution_count": null,
   "metadata": {},
   "outputs": [],
   "source": []
  }
 ],
 "metadata": {
  "kernelspec": {
   "display_name": "Python 3.9.12 ('base')",
   "language": "python",
   "name": "python3"
  },
  "language_info": {
   "codemirror_mode": {
    "name": "ipython",
    "version": 3
   },
   "file_extension": ".py",
   "mimetype": "text/x-python",
   "name": "python",
   "nbconvert_exporter": "python",
   "pygments_lexer": "ipython3",
   "version": "3.9.12"
  },
  "orig_nbformat": 4,
  "vscode": {
   "interpreter": {
    "hash": "afcda84b7471a9b9fde108a34f159f021985318d3feb99cad4970c959fa9ac9e"
   }
  }
 },
 "nbformat": 4,
 "nbformat_minor": 2
}
