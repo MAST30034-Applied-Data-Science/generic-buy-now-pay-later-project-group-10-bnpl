{
 "cells": [
  {
   "cell_type": "code",
   "execution_count": 1,
   "metadata": {},
   "outputs": [],
   "source": [
    "import folium"
   ]
  },
  {
   "cell_type": "code",
   "execution_count": 2,
   "metadata": {},
   "outputs": [
    {
     "name": "stderr",
     "output_type": "stream",
     "text": [
      "/Users/Kasturi/opt/anaconda3/lib/python3.9/site-packages/geopandas/_compat.py:112: UserWarning: The Shapely GEOS version (3.10.2-CAPI-1.16.0) is incompatible with the GEOS version PyGEOS was compiled with (3.10.1-CAPI-1.16.0). Conversions between both will be slow.\n",
      "  warnings.warn(\n"
     ]
    },
    {
     "name": "stdout",
     "output_type": "stream",
     "text": [
      "22/10/07 13:09:58 WARN Utils: Your hostname, MacBook-Air-3.local resolves to a loopback address: 127.0.0.1; using 192.168.0.66 instead (on interface en0)\n",
      "22/10/07 13:09:58 WARN Utils: Set SPARK_LOCAL_IP if you need to bind to another address\n"
     ]
    },
    {
     "name": "stderr",
     "output_type": "stream",
     "text": [
      "Setting default log level to \"WARN\".\n",
      "To adjust logging level use sc.setLogLevel(newLevel). For SparkR, use setLogLevel(newLevel).\n"
     ]
    },
    {
     "name": "stdout",
     "output_type": "stream",
     "text": [
      "22/10/07 13:09:59 WARN NativeCodeLoader: Unable to load native-hadoop library for your platform... using builtin-java classes where applicable\n",
      "22/10/07 13:09:59 WARN Utils: Service 'SparkUI' could not bind on port 4040. Attempting port 4041.\n"
     ]
    },
    {
     "name": "stderr",
     "output_type": "stream",
     "text": [
      "                                                                                \r"
     ]
    }
   ],
   "source": [
    "%run '../scripts/ETL.py' '../scripts/paths.json'"
   ]
  },
  {
   "cell_type": "code",
   "execution_count": null,
   "metadata": {},
   "outputs": [
    {
     "name": "stderr",
     "output_type": "stream",
     "text": [
      "                                                                                \r"
     ]
    },
    {
     "data": {
      "text/html": [
       "<table border='1'>\n",
       "<tr><th>merchant_name</th><th>merchant_abn</th><th>categories</th><th>take_rate</th><th>revenue_levels</th><th>name</th><th>address</th><th>state</th><th>gender</th><th>trans_merchant_abn</th><th>dollar_value</th><th>order_id</th><th>order_datetime</th><th>user_id</th><th>consumer_id</th><th>suburb</th><th>postcodes</th><th>long</th><th>lat</th><th>int_sa2</th><th>SA2_code</th><th>SA2_name</th><th>income_2018-2019</th><th>total_males</th><th>total_females</th><th>total_persons</th><th>state_code</th><th>state_name</th><th>population_2020</th><th>population_2021</th><th>fraud_probability_consumer</th><th>fraud_probability_merchant</th></tr>\n",
       "<tr><td>null</td><td>null</td><td>null</td><td>null</td><td>null</td><td>Lawrence Tyler</td><td>3511 Victoria Meadow</td><td>NSW</td><td>Male</td><td>32234779638</td><td>39.304036732369084</td><td>02e36af7-8c70-436...</td><td>2021-11-30</td><td>18983</td><td>36103</td><td>REVESBY</td><td>2212</td><td>151.014547</td><td>-33.947286</td><td>119011360</td><td>119011360</td><td>Revesby</td><td>576485403</td><td>8603</td><td>9061</td><td>17664</td><td>1</td><td>New South Wales</td><td>17719</td><td>17710</td><td>0.01</td><td>0.01</td></tr>\n",
       "<tr><td>Lorem Ipsum Sodal...</td><td>43186523025</td><td>florists supplies...</td><td>4.47</td><td>b</td><td>Lawrence Tyler</td><td>3511 Victoria Meadow</td><td>NSW</td><td>Male</td><td>43186523025</td><td>56.35375319523918</td><td>a1d3526c-f212-41f...</td><td>2022-06-06</td><td>18983</td><td>36103</td><td>REVESBY</td><td>2212</td><td>151.014547</td><td>-33.947286</td><td>119011360</td><td>119011360</td><td>Revesby</td><td>576485403</td><td>8603</td><td>9061</td><td>17664</td><td>1</td><td>New South Wales</td><td>17719</td><td>17710</td><td>0.01</td><td>0.01</td></tr>\n",
       "<tr><td>Pede Blandit LLP</td><td>28517327395</td><td>books, periodical...</td><td>0.47</td><td>e</td><td>Lawrence Tyler</td><td>3511 Victoria Meadow</td><td>NSW</td><td>Male</td><td>28517327395</td><td>276.3597685809581</td><td>b90e183b-25d4-4a6...</td><td>2022-06-14</td><td>18983</td><td>36103</td><td>REVESBY</td><td>2212</td><td>151.014547</td><td>-33.947286</td><td>119011360</td><td>119011360</td><td>Revesby</td><td>576485403</td><td>8603</td><td>9061</td><td>17664</td><td>1</td><td>New South Wales</td><td>17719</td><td>17710</td><td>0.01</td><td>0.01</td></tr>\n",
       "<tr><td>Nullam Suscipit LLC</td><td>86388904574</td><td>computers, comput...</td><td>4.96</td><td>b</td><td>Lawrence Tyler</td><td>3511 Victoria Meadow</td><td>NSW</td><td>Male</td><td>86388904574</td><td>121.9799348513232</td><td>4c55adbf-7114-4bd...</td><td>2022-05-24</td><td>18983</td><td>36103</td><td>REVESBY</td><td>2212</td><td>151.014547</td><td>-33.947286</td><td>119011360</td><td>119011360</td><td>Revesby</td><td>576485403</td><td>8603</td><td>9061</td><td>17664</td><td>1</td><td>New South Wales</td><td>17719</td><td>17710</td><td>0.01</td><td>0.01</td></tr>\n",
       "<tr><td>Phasellus At Limited</td><td>76767266140</td><td>furniture, home f...</td><td>4.65</td><td>b</td><td>Lawrence Tyler</td><td>3511 Victoria Meadow</td><td>NSW</td><td>Male</td><td>76767266140</td><td>59.46778996058449</td><td>4e66a3c6-9691-44a...</td><td>2022-03-05</td><td>18983</td><td>36103</td><td>REVESBY</td><td>2212</td><td>151.014547</td><td>-33.947286</td><td>119011360</td><td>119011360</td><td>Revesby</td><td>576485403</td><td>8603</td><td>9061</td><td>17664</td><td>1</td><td>New South Wales</td><td>17719</td><td>17710</td><td>0.01</td><td>0.01</td></tr>\n",
       "</table>\n"
      ],
      "text/plain": [
       "+--------------------+------------+--------------------+---------+--------------+--------------+--------------------+-----+------+------------------+------------------+--------------------+--------------+-------+-----------+-------+---------+----------+----------+---------+---------+--------+----------------+-----------+-------------+-------------+----------+---------------+---------------+---------------+--------------------------+--------------------------+\n",
       "|       merchant_name|merchant_abn|          categories|take_rate|revenue_levels|          name|             address|state|gender|trans_merchant_abn|      dollar_value|            order_id|order_datetime|user_id|consumer_id| suburb|postcodes|      long|       lat|  int_sa2| SA2_code|SA2_name|income_2018-2019|total_males|total_females|total_persons|state_code|     state_name|population_2020|population_2021|fraud_probability_consumer|fraud_probability_merchant|\n",
       "+--------------------+------------+--------------------+---------+--------------+--------------+--------------------+-----+------+------------------+------------------+--------------------+--------------+-------+-----------+-------+---------+----------+----------+---------+---------+--------+----------------+-----------+-------------+-------------+----------+---------------+---------------+---------------+--------------------------+--------------------------+\n",
       "|                null|        null|                null|     null|          null|Lawrence Tyler|3511 Victoria Meadow|  NSW|  Male|       32234779638|39.304036732369084|02e36af7-8c70-436...|    2021-11-30|  18983|      36103|REVESBY|     2212|151.014547|-33.947286|119011360|119011360| Revesby|       576485403|       8603|         9061|        17664|         1|New South Wales|          17719|          17710|                      0.01|                      0.01|\n",
       "|Lorem Ipsum Sodal...| 43186523025|florists supplies...|     4.47|             b|Lawrence Tyler|3511 Victoria Meadow|  NSW|  Male|       43186523025| 56.35375319523918|a1d3526c-f212-41f...|    2022-06-06|  18983|      36103|REVESBY|     2212|151.014547|-33.947286|119011360|119011360| Revesby|       576485403|       8603|         9061|        17664|         1|New South Wales|          17719|          17710|                      0.01|                      0.01|\n",
       "|    Pede Blandit LLP| 28517327395|books, periodical...|     0.47|             e|Lawrence Tyler|3511 Victoria Meadow|  NSW|  Male|       28517327395| 276.3597685809581|b90e183b-25d4-4a6...|    2022-06-14|  18983|      36103|REVESBY|     2212|151.014547|-33.947286|119011360|119011360| Revesby|       576485403|       8603|         9061|        17664|         1|New South Wales|          17719|          17710|                      0.01|                      0.01|\n",
       "| Nullam Suscipit LLC| 86388904574|computers, comput...|     4.96|             b|Lawrence Tyler|3511 Victoria Meadow|  NSW|  Male|       86388904574| 121.9799348513232|4c55adbf-7114-4bd...|    2022-05-24|  18983|      36103|REVESBY|     2212|151.014547|-33.947286|119011360|119011360| Revesby|       576485403|       8603|         9061|        17664|         1|New South Wales|          17719|          17710|                      0.01|                      0.01|\n",
       "|Phasellus At Limited| 76767266140|furniture, home f...|     4.65|             b|Lawrence Tyler|3511 Victoria Meadow|  NSW|  Male|       76767266140| 59.46778996058449|4e66a3c6-9691-44a...|    2022-03-05|  18983|      36103|REVESBY|     2212|151.014547|-33.947286|119011360|119011360| Revesby|       576485403|       8603|         9061|        17664|         1|New South Wales|          17719|          17710|                      0.01|                      0.01|\n",
       "+--------------------+------------+--------------------+---------+--------------+--------------+--------------------+-----+------+------------------+------------------+--------------------+--------------+-------+-----------+-------+---------+----------+----------+---------+---------+--------+----------------+-----------+-------------+-------------+----------+---------------+---------------+---------------+--------------------------+--------------------------+"
      ]
     },
     "execution_count": 42,
     "metadata": {},
     "output_type": "execute_result"
    }
   ],
   "source": [
    "final_join3.limit(5)"
   ]
  },
  {
   "cell_type": "code",
   "execution_count": null,
   "metadata": {},
   "outputs": [
    {
     "name": "stderr",
     "output_type": "stream",
     "text": [
      "                                                                                \r"
     ]
    },
    {
     "data": {
      "text/plain": [
       "2343"
      ]
     },
     "execution_count": 39,
     "metadata": {},
     "output_type": "execute_result"
    }
   ],
   "source": [
    "final_join3.select(\"postcodes\").distinct().count()"
   ]
  },
  {
   "cell_type": "code",
   "execution_count": null,
   "metadata": {},
   "outputs": [],
   "source": [
    "num_transactions_by_postcode = final_join3.groupBy(['postcodes', 'suburb', 'long', 'lat']).count()"
   ]
  },
  {
   "cell_type": "code",
   "execution_count": null,
   "metadata": {},
   "outputs": [
    {
     "name": "stderr",
     "output_type": "stream",
     "text": [
      "                                                                                \r"
     ]
    }
   ],
   "source": [
    "# conver transactions location to pandas df\n",
    "num_transactions_by_postcode_pdf = num_transactions_by_postcode.toPandas()\n",
    "\n",
    "aus_coords = [-25.2744, 133.7751]\n",
    "m = folium.Map(aus_coords, tiles='OpenStreetMap', zoom_start=4.5)\n",
    "\n",
    "for index, row in num_transactions_by_postcode_pdf.iterrows():\n",
    "    if row['count'] >= 10000:\n",
    "        marker_color = 'darkred'\n",
    "        fill_color = 'darkred'\n",
    "    elif row['count'] >= 5000:\n",
    "        marker_color = 'red'\n",
    "        fill_color = 'red'\n",
    "    elif row['count'] >= 500:\n",
    "        marker_color = 'darkorange'\n",
    "        fill_color = 'darkorange'\n",
    "    elif row['count'] >= 100:\n",
    "        marker_color = 'orange'\n",
    "        fill_color = 'orange'\n",
    "    elif row['count'] <= 50 :\n",
    "        marker_color = 'yellow'\n",
    "        fill_color = 'yellow'\n",
    "    else:\n",
    "        marker_color='darkpurple'\n",
    "        fill_color = 'darkpurple'\n",
    "        \n",
    "    folium.Circle(\n",
    "          location=[row['lat'], row['long']],\n",
    "          popup= 'Number of transactions: ' +str(row['count']),\n",
    "          tooltip=row['suburb'],\n",
    "          radius=row['count'],\n",
    "          color=marker_color,\n",
    "          fill=True,\n",
    "          fill_color=fill_color,\n",
    "       ).add_to(m)\n",
    "m.save('../plots/bubble_plot_num_transactions_by_location.html')"
   ]
  },
  {
   "cell_type": "code",
   "execution_count": null,
   "metadata": {},
   "outputs": [
    {
     "name": "stderr",
     "output_type": "stream",
     "text": [
      "                                                                                \r"
     ]
    }
   ],
   "source": [
    "%run '../scripts/fraud_feature.py' '../scripts/paths.json'"
   ]
  },
  {
   "cell_type": "code",
   "execution_count": null,
   "metadata": {},
   "outputs": [
    {
     "data": {
      "text/html": [
       "<div>\n",
       "<style scoped>\n",
       "    .dataframe tbody tr th:only-of-type {\n",
       "        vertical-align: middle;\n",
       "    }\n",
       "\n",
       "    .dataframe tbody tr th {\n",
       "        vertical-align: top;\n",
       "    }\n",
       "\n",
       "    .dataframe thead th {\n",
       "        text-align: right;\n",
       "    }\n",
       "</style>\n",
       "<table border=\"1\" class=\"dataframe\">\n",
       "  <thead>\n",
       "    <tr style=\"text-align: right;\">\n",
       "      <th></th>\n",
       "      <th>merchant_name</th>\n",
       "      <th>merchant_abn</th>\n",
       "      <th>categories</th>\n",
       "      <th>take_rate</th>\n",
       "      <th>revenue_levels</th>\n",
       "      <th>name</th>\n",
       "      <th>address</th>\n",
       "      <th>state</th>\n",
       "      <th>postcode</th>\n",
       "      <th>gender</th>\n",
       "      <th>trans_merchant_abn</th>\n",
       "      <th>dollar_value</th>\n",
       "      <th>order_id</th>\n",
       "      <th>order_datetime</th>\n",
       "      <th>user_id</th>\n",
       "      <th>consumer_id</th>\n",
       "      <th>sus_merchant_abn</th>\n",
       "      <th>average fraud rate per merchant</th>\n",
       "    </tr>\n",
       "  </thead>\n",
       "  <tbody>\n",
       "    <tr>\n",
       "      <th>0</th>\n",
       "      <td>None</td>\n",
       "      <td>NaN</td>\n",
       "      <td>None</td>\n",
       "      <td>NaN</td>\n",
       "      <td>None</td>\n",
       "      <td>Jose Frye</td>\n",
       "      <td>394 Matthews View Suite 660</td>\n",
       "      <td>NSW</td>\n",
       "      <td>2021</td>\n",
       "      <td>Male</td>\n",
       "      <td>8.078817e+10</td>\n",
       "      <td>86.718630</td>\n",
       "      <td>1c60001e-77cd-4755-9a89-265b4f197dc5</td>\n",
       "      <td>2021-04-21</td>\n",
       "      <td>5156.0</td>\n",
       "      <td>19115.0</td>\n",
       "      <td>NaN</td>\n",
       "      <td>NaN</td>\n",
       "    </tr>\n",
       "    <tr>\n",
       "      <th>1</th>\n",
       "      <td>None</td>\n",
       "      <td>NaN</td>\n",
       "      <td>None</td>\n",
       "      <td>NaN</td>\n",
       "      <td>None</td>\n",
       "      <td>Mrs. Valerie Powell</td>\n",
       "      <td>23459 Nicole Green Suite 420</td>\n",
       "      <td>VIC</td>\n",
       "      <td>3194</td>\n",
       "      <td>Female</td>\n",
       "      <td>8.078817e+10</td>\n",
       "      <td>1.572543</td>\n",
       "      <td>459f4f62-3953-4318-8de1-4b0bbc673cf1</td>\n",
       "      <td>2021-07-07</td>\n",
       "      <td>8323.0</td>\n",
       "      <td>69735.0</td>\n",
       "      <td>NaN</td>\n",
       "      <td>NaN</td>\n",
       "    </tr>\n",
       "    <tr>\n",
       "      <th>2</th>\n",
       "      <td>None</td>\n",
       "      <td>NaN</td>\n",
       "      <td>None</td>\n",
       "      <td>NaN</td>\n",
       "      <td>None</td>\n",
       "      <td>Maria Miller</td>\n",
       "      <td>3893 Martin Knoll Suite 887</td>\n",
       "      <td>NSW</td>\n",
       "      <td>2038</td>\n",
       "      <td>Undisclosed</td>\n",
       "      <td>8.078817e+10</td>\n",
       "      <td>48.925310</td>\n",
       "      <td>25d0ea41-da85-4930-aa25-7abedad2da8a</td>\n",
       "      <td>2021-03-25</td>\n",
       "      <td>3635.0</td>\n",
       "      <td>72910.0</td>\n",
       "      <td>NaN</td>\n",
       "      <td>NaN</td>\n",
       "    </tr>\n",
       "    <tr>\n",
       "      <th>3</th>\n",
       "      <td>None</td>\n",
       "      <td>NaN</td>\n",
       "      <td>None</td>\n",
       "      <td>NaN</td>\n",
       "      <td>None</td>\n",
       "      <td>Alexander Skinner</td>\n",
       "      <td>35694 Kimberly Coves Apt. 057</td>\n",
       "      <td>VIC</td>\n",
       "      <td>3053</td>\n",
       "      <td>Male</td>\n",
       "      <td>8.078817e+10</td>\n",
       "      <td>168.737463</td>\n",
       "      <td>1a5ffb5a-2d40-4127-8377-7e82409712f1</td>\n",
       "      <td>2021-12-30</td>\n",
       "      <td>9248.0</td>\n",
       "      <td>147322.0</td>\n",
       "      <td>NaN</td>\n",
       "      <td>NaN</td>\n",
       "    </tr>\n",
       "    <tr>\n",
       "      <th>4</th>\n",
       "      <td>None</td>\n",
       "      <td>NaN</td>\n",
       "      <td>None</td>\n",
       "      <td>NaN</td>\n",
       "      <td>None</td>\n",
       "      <td>Alexander Skinner</td>\n",
       "      <td>35694 Kimberly Coves Apt. 057</td>\n",
       "      <td>VIC</td>\n",
       "      <td>3053</td>\n",
       "      <td>Male</td>\n",
       "      <td>8.078817e+10</td>\n",
       "      <td>127.266580</td>\n",
       "      <td>8bddc10d-14a4-4c8f-a904-ed03b76008d6</td>\n",
       "      <td>2021-09-21</td>\n",
       "      <td>9248.0</td>\n",
       "      <td>147322.0</td>\n",
       "      <td>NaN</td>\n",
       "      <td>NaN</td>\n",
       "    </tr>\n",
       "  </tbody>\n",
       "</table>\n",
       "</div>"
      ],
      "text/plain": [
       "  merchant_name  merchant_abn categories  take_rate revenue_levels  \\\n",
       "0          None           NaN       None        NaN           None   \n",
       "1          None           NaN       None        NaN           None   \n",
       "2          None           NaN       None        NaN           None   \n",
       "3          None           NaN       None        NaN           None   \n",
       "4          None           NaN       None        NaN           None   \n",
       "\n",
       "                  name                        address state postcode  \\\n",
       "0            Jose Frye    394 Matthews View Suite 660   NSW     2021   \n",
       "1  Mrs. Valerie Powell   23459 Nicole Green Suite 420   VIC     3194   \n",
       "2         Maria Miller    3893 Martin Knoll Suite 887   NSW     2038   \n",
       "3    Alexander Skinner  35694 Kimberly Coves Apt. 057   VIC     3053   \n",
       "4    Alexander Skinner  35694 Kimberly Coves Apt. 057   VIC     3053   \n",
       "\n",
       "        gender  trans_merchant_abn  dollar_value  \\\n",
       "0         Male        8.078817e+10     86.718630   \n",
       "1       Female        8.078817e+10      1.572543   \n",
       "2  Undisclosed        8.078817e+10     48.925310   \n",
       "3         Male        8.078817e+10    168.737463   \n",
       "4         Male        8.078817e+10    127.266580   \n",
       "\n",
       "                               order_id order_datetime  user_id  consumer_id  \\\n",
       "0  1c60001e-77cd-4755-9a89-265b4f197dc5     2021-04-21   5156.0      19115.0   \n",
       "1  459f4f62-3953-4318-8de1-4b0bbc673cf1     2021-07-07   8323.0      69735.0   \n",
       "2  25d0ea41-da85-4930-aa25-7abedad2da8a     2021-03-25   3635.0      72910.0   \n",
       "3  1a5ffb5a-2d40-4127-8377-7e82409712f1     2021-12-30   9248.0     147322.0   \n",
       "4  8bddc10d-14a4-4c8f-a904-ed03b76008d6     2021-09-21   9248.0     147322.0   \n",
       "\n",
       "   sus_merchant_abn  average fraud rate per merchant  \n",
       "0               NaN                              NaN  \n",
       "1               NaN                              NaN  \n",
       "2               NaN                              NaN  \n",
       "3               NaN                              NaN  \n",
       "4               NaN                              NaN  "
      ]
     },
     "execution_count": 52,
     "metadata": {},
     "output_type": "execute_result"
    }
   ],
   "source": [
    "\n",
    "fraud_by_postcode = pd.read_parquet('../data/tables/full_dataset_with_fraud_rates.parquet')\n",
    "fraud_by_postcode.head(5)"
   ]
  },
  {
   "cell_type": "code",
   "execution_count": null,
   "metadata": {},
   "outputs": [],
   "source": []
  }
 ],
 "metadata": {
  "kernelspec": {
   "display_name": "Python 3.9.12 ('base')",
   "language": "python",
   "name": "python3"
  },
  "language_info": {
   "codemirror_mode": {
    "name": "ipython",
    "version": 3
   },
   "file_extension": ".py",
   "mimetype": "text/x-python",
   "name": "python",
   "nbconvert_exporter": "python",
   "pygments_lexer": "ipython3",
   "version": "3.9.12"
  },
  "vscode": {
   "interpreter": {
    "hash": "afcda84b7471a9b9fde108a34f159f021985318d3feb99cad4970c959fa9ac9e"
   }
  }
 },
 "nbformat": 4,
 "nbformat_minor": 4
}
