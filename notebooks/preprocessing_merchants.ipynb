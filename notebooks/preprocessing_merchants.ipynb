{
 "cells": [
  {
   "cell_type": "code",
   "execution_count": null,
   "id": "alpine-tiffany",
   "metadata": {},
   "outputs": [],
   "source": []
  },
  {
   "cell_type": "code",
   "execution_count": 3,
   "id": "provincial-football",
   "metadata": {},
   "outputs": [],
   "source": [
    "# Read in data from read_data.py file\n",
    "%run \"../scripts/read_data.py\""
   ]
  },
  {
   "cell_type": "code",
   "execution_count": null,
   "id": "productive-maintenance",
   "metadata": {},
   "outputs": [],
   "source": [
    "from pyspark.sql import functions as F"
   ]
  },
  {
   "cell_type": "code",
   "execution_count": 115,
   "id": "universal-nickel",
   "metadata": {},
   "outputs": [
    {
     "data": {
      "text/html": [
       "<table border='1'>\n",
       "<tr><th>name</th><th>tags</th><th>merchant_abn</th></tr>\n",
       "<tr><td>Felis Limited</td><td>((furniture, home...</td><td>10023283211</td></tr>\n",
       "<tr><td>Arcu Ac Orci Corp...</td><td>([cable, satellit...</td><td>10142254217</td></tr>\n",
       "<tr><td>Nunc Sed Company</td><td>([jewelry, watch,...</td><td>10165489824</td></tr>\n",
       "<tr><td>Ultricies Digniss...</td><td>([wAtch, clock, a...</td><td>10187291046</td></tr>\n",
       "<tr><td>Enim Condimentum PC</td><td>([music shops - m...</td><td>10192359162</td></tr>\n",
       "</table>\n"
      ],
      "text/plain": [
       "+--------------------+--------------------+------------+\n",
       "|                name|                tags|merchant_abn|\n",
       "+--------------------+--------------------+------------+\n",
       "|       Felis Limited|((furniture, home...| 10023283211|\n",
       "|Arcu Ac Orci Corp...|([cable, satellit...| 10142254217|\n",
       "|    Nunc Sed Company|([jewelry, watch,...| 10165489824|\n",
       "|Ultricies Digniss...|([wAtch, clock, a...| 10187291046|\n",
       "| Enim Condimentum PC|([music shops - m...| 10192359162|\n",
       "+--------------------+--------------------+------------+"
      ]
     },
     "execution_count": 115,
     "metadata": {},
     "output_type": "execute_result"
    }
   ],
   "source": [
    "tbl_merchants.limit(5)"
   ]
  },
  {
   "cell_type": "code",
   "execution_count": 6,
   "id": "worldwide-celtic",
   "metadata": {},
   "outputs": [
    {
     "name": "stdout",
     "output_type": "stream",
     "text": [
      "root\n",
      " |-- name: string (nullable = true)\n",
      " |-- tags: string (nullable = true)\n",
      " |-- merchant_abn: long (nullable = true)\n",
      "\n"
     ]
    }
   ],
   "source": [
    "tbl_merchants.printSchema()"
   ]
  },
  {
   "cell_type": "code",
   "execution_count": 7,
   "id": "behavioral-sellers",
   "metadata": {},
   "outputs": [
    {
     "data": {
      "text/plain": [
       "4026"
      ]
     },
     "execution_count": 7,
     "metadata": {},
     "output_type": "execute_result"
    }
   ],
   "source": [
    "tbl_merchants.count()"
   ]
  },
  {
   "cell_type": "code",
   "execution_count": 9,
   "id": "hungry-shopper",
   "metadata": {},
   "outputs": [
    {
     "data": {
      "text/html": [
       "<table border='1'>\n",
       "<tr><th>tags</th><th>count</th></tr>\n",
       "<tr><td>[[opticians, opti...</td><td>1</td></tr>\n",
       "<tr><td>([tent and awning...</td><td>1</td></tr>\n",
       "<tr><td>[[motor vehicle s...</td><td>1</td></tr>\n",
       "<tr><td>[[florists suppli...</td><td>1</td></tr>\n",
       "<tr><td>[[books, periodic...</td><td>1</td></tr>\n",
       "<tr><td>((lawn and garden...</td><td>1</td></tr>\n",
       "<tr><td>((computer progra...</td><td>1</td></tr>\n",
       "<tr><td>[[cable, satellit...</td><td>1</td></tr>\n",
       "<tr><td>[(motor vehicle s...</td><td>1</td></tr>\n",
       "<tr><td>[[watch, clock, a...</td><td>1</td></tr>\n",
       "<tr><td>([artist supply a...</td><td>1</td></tr>\n",
       "<tr><td>([computer progra...</td><td>1</td></tr>\n",
       "<tr><td>[(gift, card, nov...</td><td>1</td></tr>\n",
       "<tr><td>((gift, card, nov...</td><td>1</td></tr>\n",
       "<tr><td>((tent and awning...</td><td>1</td></tr>\n",
       "<tr><td>[(tent and awning...</td><td>1</td></tr>\n",
       "<tr><td>([stationery, off...</td><td>1</td></tr>\n",
       "<tr><td>((antique shops -...</td><td>1</td></tr>\n",
       "<tr><td>([furniture, home...</td><td>1</td></tr>\n",
       "<tr><td>([health and beau...</td><td>1</td></tr>\n",
       "</table>\n",
       "only showing top 20 rows\n"
      ],
      "text/plain": [
       "+--------------------+-----+\n",
       "|                tags|count|\n",
       "+--------------------+-----+\n",
       "|[[opticians, opti...|    1|\n",
       "|([tent and awning...|    1|\n",
       "|[[motor vehicle s...|    1|\n",
       "|[[florists suppli...|    1|\n",
       "|[[books, periodic...|    1|\n",
       "|((lawn and garden...|    1|\n",
       "|((computer progra...|    1|\n",
       "|[[cable, satellit...|    1|\n",
       "|[(motor vehicle s...|    1|\n",
       "|[[watch, clock, a...|    1|\n",
       "|([artist supply a...|    1|\n",
       "|([computer progra...|    1|\n",
       "|[(gift, card, nov...|    1|\n",
       "|((gift, card, nov...|    1|\n",
       "|((tent and awning...|    1|\n",
       "|[(tent and awning...|    1|\n",
       "|([stationery, off...|    1|\n",
       "|((antique shops -...|    1|\n",
       "|([furniture, home...|    1|\n",
       "|([health and beau...|    1|\n",
       "+--------------------+-----+\n",
       "only showing top 20 rows"
      ]
     },
     "execution_count": 9,
     "metadata": {},
     "output_type": "execute_result"
    }
   ],
   "source": [
    "tbl_merchants.groupBy(\"tags\").count()"
   ]
  },
  {
   "cell_type": "code",
   "execution_count": 22,
   "id": "painted-facial",
   "metadata": {},
   "outputs": [],
   "source": [
    "# highest, ... lowest and val as str\n",
    "# merchants1, 2, 3,... with value 1-5 for the rank"
   ]
  },
  {
   "cell_type": "code",
   "execution_count": 28,
   "id": "liked-tiffany",
   "metadata": {},
   "outputs": [
    {
     "data": {
      "text/plain": [
       "'((furniture, home furnishings and equipment shops, and manufacturers, except appliances), (e), (take rate: 0.18))'"
      ]
     },
     "execution_count": 28,
     "metadata": {},
     "output_type": "execute_result"
    }
   ],
   "source": [
    "tbl_merchants.first()[\"tags\"]"
   ]
  },
  {
   "cell_type": "code",
   "execution_count": null,
   "id": "labeled-liechtenstein",
   "metadata": {},
   "outputs": [],
   "source": [
    "# ((, ([, [[, [("
   ]
  },
  {
   "cell_type": "code",
   "execution_count": 116,
   "id": "golden-prediction",
   "metadata": {
    "tags": []
   },
   "outputs": [],
   "source": [
    "# remove outer brackets in tags\n",
    "df = tbl_merchants.withColumn(\"tags\", F.regexp_replace(\"tags\", \"[\\])][\\])]\", \"\")) \\\n",
    "        .withColumn(\"tags\", F.regexp_replace(\"tags\", \"[\\[(][\\[(]\", \"\")) \n",
    "\n",
    "# separate categories, take rate, and revenue level\n",
    "# convert take rate to double\n",
    "df = df.withColumn('categories', F.split(df['tags'], '[)\\]], [\\[(]').getItem(0)) \\\n",
    "        .withColumn('take_rate', F.split(df['tags'], '[)\\]], [\\[(]take rate: ').getItem(1).cast(\"double\")) \\\n",
    "        .withColumn('revenue_levels', F.split(df['tags'], '[)\\]], [\\[(]').getItem(1)) \\\n",
    "        .drop(F.col(\"tags\"))\n",
    "        "
   ]
  },
  {
   "cell_type": "code",
   "execution_count": 117,
   "id": "toxic-extension",
   "metadata": {},
   "outputs": [
    {
     "data": {
      "text/html": [
       "<table border='1'>\n",
       "<tr><th>name</th><th>merchant_abn</th><th>categories</th><th>take_rate</th><th>revenue_levels</th></tr>\n",
       "<tr><td>Felis Limited</td><td>10023283211</td><td>furniture, home f...</td><td>0.18</td><td>e</td></tr>\n",
       "<tr><td>Arcu Ac Orci Corp...</td><td>10142254217</td><td>cable, satellite,...</td><td>4.22</td><td>b</td></tr>\n",
       "<tr><td>Nunc Sed Company</td><td>10165489824</td><td>jewelry, watch, c...</td><td>4.4</td><td>b</td></tr>\n",
       "<tr><td>Ultricies Digniss...</td><td>10187291046</td><td>wAtch, clock, and...</td><td>3.29</td><td>b</td></tr>\n",
       "<tr><td>Enim Condimentum PC</td><td>10192359162</td><td>music shops - mus...</td><td>6.33</td><td>a</td></tr>\n",
       "<tr><td>Fusce Company</td><td>10206519221</td><td>gift, card, novel...</td><td>6.34</td><td>a</td></tr>\n",
       "<tr><td>Aliquam Enim Inco...</td><td>10255988167</td><td>computers, comPUt...</td><td>4.32</td><td>b</td></tr>\n",
       "<tr><td>Ipsum Primis Ltd</td><td>10264435225</td><td>watch, clock, and...</td><td>2.39</td><td>c</td></tr>\n",
       "<tr><td>Pede Ultrices Ind...</td><td>10279061213</td><td>computer programm...</td><td>5.71</td><td>a</td></tr>\n",
       "<tr><td>Nunc Inc.</td><td>10323485998</td><td>furniture, home f...</td><td>6.61</td><td>a</td></tr>\n",
       "<tr><td>Facilisis Facilis...</td><td>10342410215</td><td>computers, comput...</td><td>6.34</td><td>a</td></tr>\n",
       "<tr><td>Odio Institute</td><td>10346855916</td><td>equipment, tool, ...</td><td>3.57</td><td>b</td></tr>\n",
       "<tr><td>Rutrum Justo Ltd</td><td>10364012396</td><td>music shops - mus...</td><td>3.63</td><td>b</td></tr>\n",
       "<tr><td>Tellus Foundation</td><td>10385011947</td><td>artist supply and...</td><td>3.17</td><td>b</td></tr>\n",
       "<tr><td>Sed Et Company</td><td>10385163239</td><td>florists supplies...</td><td>6.61</td><td>a</td></tr>\n",
       "<tr><td>Id Ltd</td><td>10385250025</td><td>computers, comput...</td><td>5.54</td><td>a</td></tr>\n",
       "<tr><td>Consequat Foundation</td><td>10404542215</td><td>antique shops - s...</td><td>6.93</td><td>a</td></tr>\n",
       "<tr><td>Sit Amet Nulla Corp.</td><td>10430380319</td><td>motor vehicle sup...</td><td>4.97</td><td>b</td></tr>\n",
       "<tr><td>Massa Vestibulum ...</td><td>10441711491</td><td>moTor vehicle sup...</td><td>5.77</td><td>a</td></tr>\n",
       "<tr><td>Ut Consulting</td><td>10462560289</td><td>gift, card, novel...</td><td>2.95</td><td>c</td></tr>\n",
       "</table>\n",
       "only showing top 20 rows\n"
      ],
      "text/plain": [
       "+--------------------+------------+--------------------+---------+--------------+\n",
       "|                name|merchant_abn|          categories|take_rate|revenue_levels|\n",
       "+--------------------+------------+--------------------+---------+--------------+\n",
       "|       Felis Limited| 10023283211|furniture, home f...|     0.18|             e|\n",
       "|Arcu Ac Orci Corp...| 10142254217|cable, satellite,...|     4.22|             b|\n",
       "|    Nunc Sed Company| 10165489824|jewelry, watch, c...|      4.4|             b|\n",
       "|Ultricies Digniss...| 10187291046|wAtch, clock, and...|     3.29|             b|\n",
       "| Enim Condimentum PC| 10192359162|music shops - mus...|     6.33|             a|\n",
       "|       Fusce Company| 10206519221|gift, card, novel...|     6.34|             a|\n",
       "|Aliquam Enim Inco...| 10255988167|computers, comPUt...|     4.32|             b|\n",
       "|    Ipsum Primis Ltd| 10264435225|watch, clock, and...|     2.39|             c|\n",
       "|Pede Ultrices Ind...| 10279061213|computer programm...|     5.71|             a|\n",
       "|           Nunc Inc.| 10323485998|furniture, home f...|     6.61|             a|\n",
       "|Facilisis Facilis...| 10342410215|computers, comput...|     6.34|             a|\n",
       "|      Odio Institute| 10346855916|equipment, tool, ...|     3.57|             b|\n",
       "|    Rutrum Justo Ltd| 10364012396|music shops - mus...|     3.63|             b|\n",
       "|   Tellus Foundation| 10385011947|artist supply and...|     3.17|             b|\n",
       "|      Sed Et Company| 10385163239|florists supplies...|     6.61|             a|\n",
       "|              Id Ltd| 10385250025|computers, comput...|     5.54|             a|\n",
       "|Consequat Foundation| 10404542215|antique shops - s...|     6.93|             a|\n",
       "|Sit Amet Nulla Corp.| 10430380319|motor vehicle sup...|     4.97|             b|\n",
       "|Massa Vestibulum ...| 10441711491|moTor vehicle sup...|     5.77|             a|\n",
       "|       Ut Consulting| 10462560289|gift, card, novel...|     2.95|             c|\n",
       "+--------------------+------------+--------------------+---------+--------------+\n",
       "only showing top 20 rows"
      ]
     },
     "execution_count": 117,
     "metadata": {},
     "output_type": "execute_result"
    }
   ],
   "source": [
    "df"
   ]
  },
  {
   "cell_type": "code",
   "execution_count": 118,
   "id": "temporal-lawsuit",
   "metadata": {},
   "outputs": [
    {
     "name": "stdout",
     "output_type": "stream",
     "text": [
      "root\n",
      " |-- name: string (nullable = true)\n",
      " |-- merchant_abn: long (nullable = true)\n",
      " |-- categories: string (nullable = true)\n",
      " |-- take_rate: double (nullable = true)\n",
      " |-- revenue_levels: string (nullable = true)\n",
      "\n"
     ]
    }
   ],
   "source": [
    "df.printSchema()"
   ]
  },
  {
   "cell_type": "code",
   "execution_count": null,
   "id": "favorite-interface",
   "metadata": {},
   "outputs": [],
   "source": []
  }
 ],
 "metadata": {
  "kernelspec": {
   "display_name": "geo_py38",
   "language": "python",
   "name": "geo_py38"
  },
  "language_info": {
   "codemirror_mode": {
    "name": "ipython",
    "version": 3
   },
   "file_extension": ".py",
   "mimetype": "text/x-python",
   "name": "python",
   "nbconvert_exporter": "python",
   "pygments_lexer": "ipython3",
   "version": "3.8.8"
  }
 },
 "nbformat": 4,
 "nbformat_minor": 5
}
