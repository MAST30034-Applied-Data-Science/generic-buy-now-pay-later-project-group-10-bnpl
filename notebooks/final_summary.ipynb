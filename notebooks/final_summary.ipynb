{
 "cells": [
  {
   "cell_type": "markdown",
   "metadata": {},
   "source": [
    "## Part 2: Outlier Analysis and Visualisations"
   ]
  },
  {
   "cell_type": "code",
   "execution_count": 1,
   "metadata": {},
   "outputs": [
    {
     "name": "stdout",
     "output_type": "stream",
     "text": [
      "22/10/04 15:55:33 WARN Utils: Your hostname, mast30034 resolves to a loopback address: 127.0.1.1; using 45.113.234.45 instead (on interface eth0)\n",
      "22/10/04 15:55:33 WARN Utils: Set SPARK_LOCAL_IP if you need to bind to another address\n"
     ]
    },
    {
     "name": "stderr",
     "output_type": "stream",
     "text": [
      "Setting default log level to \"WARN\".\n",
      "To adjust logging level use sc.setLogLevel(newLevel). For SparkR, use setLogLevel(newLevel).\n"
     ]
    },
    {
     "name": "stdout",
     "output_type": "stream",
     "text": [
      "22/10/04 15:55:34 WARN NativeCodeLoader: Unable to load native-hadoop library for your platform... using builtin-java classes where applicable\n",
      "22/10/04 15:55:35 WARN Utils: Service 'SparkUI' could not bind on port 4040. Attempting port 4041.\n",
      "22/10/04 15:55:35 WARN Utils: Service 'SparkUI' could not bind on port 4041. Attempting port 4042.\n",
      "22/10/04 15:55:35 WARN Utils: Service 'SparkUI' could not bind on port 4042. Attempting port 4043.\n",
      "22/10/04 15:55:35 WARN Utils: Service 'SparkUI' could not bind on port 4043. Attempting port 4044.\n",
      "22/10/04 15:55:35 WARN Utils: Service 'SparkUI' could not bind on port 4044. Attempting port 4045.\n",
      "22/10/04 15:55:35 WARN Utils: Service 'SparkUI' could not bind on port 4045. Attempting port 4046.\n",
      "22/10/04 15:55:35 WARN Utils: Service 'SparkUI' could not bind on port 4046. Attempting port 4047.\n"
     ]
    },
    {
     "name": "stderr",
     "output_type": "stream",
     "text": [
      "                                                                                \r"
     ]
    }
   ],
   "source": [
    "%run \"../scripts/ETL.py\" '../scripts/paths.json'"
   ]
  },
  {
   "cell_type": "code",
   "execution_count": 2,
   "metadata": {},
   "outputs": [
    {
     "name": "stdout",
     "output_type": "stream",
     "text": [
      "ERROR: unknown command \"!\"\n",
      "Note: you may need to restart the kernel to use updated packages.\n"
     ]
    }
   ],
   "source": [
    "pip! install lbl2vec"
   ]
  },
  {
   "cell_type": "code",
   "execution_count": 55,
   "metadata": {},
   "outputs": [],
   "source": [
    "import matplotlib.pyplot as plt\n",
    "import numpy as np\n",
    "import pandas as pd\n",
    "from pyspark.sql import SparkSession, functions as F\n",
    "import lbl2vec\n",
    "from sklearn.feature_extraction.text import TfidfVectorizer\n",
    "from sklearn.cluster import KMeans\n",
    "import numpy as np\n",
    "import folium"
   ]
  },
  {
   "cell_type": "markdown",
   "metadata": {},
   "source": [
    "# Internal dataset\n",
    "## Check oultiers"
   ]
  },
  {
   "cell_type": "code",
   "execution_count": 4,
   "metadata": {},
   "outputs": [
    {
     "name": "stdout",
     "output_type": "stream",
     "text": [
      "22/10/04 15:56:39 WARN package: Truncated the string representation of a plan since it was too large. This behavior can be adjusted by setting 'spark.sql.debug.maxToStringFields'.\n"
     ]
    },
    {
     "name": "stderr",
     "output_type": "stream",
     "text": [
      "                                                                                \r"
     ]
    },
    {
     "data": {
      "text/html": [
       "<table border='1'>\n",
       "<tr><th>merchant_name</th><th>merchant_abn</th><th>categories</th><th>take_rate</th><th>revenue_levels</th><th>name</th><th>address</th><th>state</th><th>gender</th><th>trans_merchant_abn</th><th>dollar_value</th><th>order_id</th><th>order_datetime</th><th>user_id</th><th>consumer_id</th><th>postcodes</th><th>int_sa2</th><th>SA2_code</th><th>SA2_name</th><th>income_2018-2019</th><th>total_males</th><th>total_females</th><th>total_persons</th><th>state_code</th><th>state_name</th><th>population_2020</th><th>population_2021</th></tr>\n",
       "<tr><td>null</td><td>null</td><td>null</td><td>null</td><td>null</td><td>Lawrence Tyler</td><td>3511 Victoria Meadow</td><td>NSW</td><td>Male</td><td>32234779638</td><td>39.304036732369084</td><td>02e36af7-8c70-436...</td><td>2021-11-30</td><td>18983</td><td>36103</td><td>2212</td><td>119011360</td><td>119011360</td><td>Revesby</td><td>576485403</td><td>8603</td><td>9061</td><td>17664</td><td>1</td><td>New South Wales</td><td>17719</td><td>17710</td></tr>\n",
       "<tr><td>Lorem Ipsum Sodal...</td><td>43186523025</td><td>florists supplies...</td><td>4.47</td><td>b</td><td>Lawrence Tyler</td><td>3511 Victoria Meadow</td><td>NSW</td><td>Male</td><td>43186523025</td><td>56.35375319523918</td><td>a1d3526c-f212-41f...</td><td>2022-06-06</td><td>18983</td><td>36103</td><td>2212</td><td>119011360</td><td>119011360</td><td>Revesby</td><td>576485403</td><td>8603</td><td>9061</td><td>17664</td><td>1</td><td>New South Wales</td><td>17719</td><td>17710</td></tr>\n",
       "<tr><td>Pede Blandit LLP</td><td>28517327395</td><td>books, periodical...</td><td>0.47</td><td>e</td><td>Lawrence Tyler</td><td>3511 Victoria Meadow</td><td>NSW</td><td>Male</td><td>28517327395</td><td>276.3597685809581</td><td>b90e183b-25d4-4a6...</td><td>2022-06-14</td><td>18983</td><td>36103</td><td>2212</td><td>119011360</td><td>119011360</td><td>Revesby</td><td>576485403</td><td>8603</td><td>9061</td><td>17664</td><td>1</td><td>New South Wales</td><td>17719</td><td>17710</td></tr>\n",
       "<tr><td>Nullam Suscipit LLC</td><td>86388904574</td><td>computers, comput...</td><td>4.96</td><td>b</td><td>Lawrence Tyler</td><td>3511 Victoria Meadow</td><td>NSW</td><td>Male</td><td>86388904574</td><td>121.9799348513232</td><td>4c55adbf-7114-4bd...</td><td>2022-05-24</td><td>18983</td><td>36103</td><td>2212</td><td>119011360</td><td>119011360</td><td>Revesby</td><td>576485403</td><td>8603</td><td>9061</td><td>17664</td><td>1</td><td>New South Wales</td><td>17719</td><td>17710</td></tr>\n",
       "<tr><td>Phasellus At Limited</td><td>76767266140</td><td>furniture, home f...</td><td>4.65</td><td>b</td><td>Lawrence Tyler</td><td>3511 Victoria Meadow</td><td>NSW</td><td>Male</td><td>76767266140</td><td>59.46778996058449</td><td>4e66a3c6-9691-44a...</td><td>2022-03-05</td><td>18983</td><td>36103</td><td>2212</td><td>119011360</td><td>119011360</td><td>Revesby</td><td>576485403</td><td>8603</td><td>9061</td><td>17664</td><td>1</td><td>New South Wales</td><td>17719</td><td>17710</td></tr>\n",
       "</table>\n"
      ],
      "text/plain": [
       "+--------------------+------------+--------------------+---------+--------------+--------------+--------------------+-----+------+------------------+------------------+--------------------+--------------+-------+-----------+---------+---------+---------+--------+----------------+-----------+-------------+-------------+----------+---------------+---------------+---------------+\n",
       "|       merchant_name|merchant_abn|          categories|take_rate|revenue_levels|          name|             address|state|gender|trans_merchant_abn|      dollar_value|            order_id|order_datetime|user_id|consumer_id|postcodes|  int_sa2| SA2_code|SA2_name|income_2018-2019|total_males|total_females|total_persons|state_code|     state_name|population_2020|population_2021|\n",
       "+--------------------+------------+--------------------+---------+--------------+--------------+--------------------+-----+------+------------------+------------------+--------------------+--------------+-------+-----------+---------+---------+---------+--------+----------------+-----------+-------------+-------------+----------+---------------+---------------+---------------+\n",
       "|                null|        null|                null|     null|          null|Lawrence Tyler|3511 Victoria Meadow|  NSW|  Male|       32234779638|39.304036732369084|02e36af7-8c70-436...|    2021-11-30|  18983|      36103|     2212|119011360|119011360| Revesby|       576485403|       8603|         9061|        17664|         1|New South Wales|          17719|          17710|\n",
       "|Lorem Ipsum Sodal...| 43186523025|florists supplies...|     4.47|             b|Lawrence Tyler|3511 Victoria Meadow|  NSW|  Male|       43186523025| 56.35375319523918|a1d3526c-f212-41f...|    2022-06-06|  18983|      36103|     2212|119011360|119011360| Revesby|       576485403|       8603|         9061|        17664|         1|New South Wales|          17719|          17710|\n",
       "|    Pede Blandit LLP| 28517327395|books, periodical...|     0.47|             e|Lawrence Tyler|3511 Victoria Meadow|  NSW|  Male|       28517327395| 276.3597685809581|b90e183b-25d4-4a6...|    2022-06-14|  18983|      36103|     2212|119011360|119011360| Revesby|       576485403|       8603|         9061|        17664|         1|New South Wales|          17719|          17710|\n",
       "| Nullam Suscipit LLC| 86388904574|computers, comput...|     4.96|             b|Lawrence Tyler|3511 Victoria Meadow|  NSW|  Male|       86388904574| 121.9799348513232|4c55adbf-7114-4bd...|    2022-05-24|  18983|      36103|     2212|119011360|119011360| Revesby|       576485403|       8603|         9061|        17664|         1|New South Wales|          17719|          17710|\n",
       "|Phasellus At Limited| 76767266140|furniture, home f...|     4.65|             b|Lawrence Tyler|3511 Victoria Meadow|  NSW|  Male|       76767266140| 59.46778996058449|4e66a3c6-9691-44a...|    2022-03-05|  18983|      36103|     2212|119011360|119011360| Revesby|       576485403|       8603|         9061|        17664|         1|New South Wales|          17719|          17710|\n",
       "+--------------------+------------+--------------------+---------+--------------+--------------+--------------------+-----+------+------------------+------------------+--------------------+--------------+-------+-----------+---------+---------+---------+--------+----------------+-----------+-------------+-------------+----------+---------------+---------------+---------------+"
      ]
     },
     "execution_count": 4,
     "metadata": {},
     "output_type": "execute_result"
    }
   ],
   "source": [
    "final_join3.limit(5)"
   ]
  },
  {
   "cell_type": "code",
   "execution_count": 5,
   "metadata": {},
   "outputs": [
    {
     "name": "stderr",
     "output_type": "stream",
     "text": [
      "                                                                                \r"
     ]
    },
    {
     "name": "stdout",
     "output_type": "stream",
     "text": [
      "Count before outlier exclusions:  10540181\n"
     ]
    },
    {
     "name": "stderr",
     "output_type": "stream",
     "text": [
      "                                                                                \r"
     ]
    },
    {
     "name": "stdout",
     "output_type": "stream",
     "text": [
      "Count after outlier exclusion 1:  10109254\n"
     ]
    },
    {
     "name": "stderr",
     "output_type": "stream",
     "text": [
      "                                                                                \r"
     ]
    },
    {
     "name": "stdout",
     "output_type": "stream",
     "text": [
      "Count after outlier exclusion 2:  10109254\n"
     ]
    },
    {
     "name": "stderr",
     "output_type": "stream",
     "text": [
      "[Stage 137:=====================================================> (65 + 2) / 67]\r"
     ]
    },
    {
     "name": "stdout",
     "output_type": "stream",
     "text": [
      "Count after outlier exclusion 3:  10109254\n"
     ]
    },
    {
     "name": "stderr",
     "output_type": "stream",
     "text": [
      "\r",
      "                                                                                \r"
     ]
    }
   ],
   "source": [
    "print(\"Count before outlier exclusions: \", final_join3.count())\n",
    "\n",
    "# Excluding transactions with no merchants\n",
    "internal1 = final_join3.filter(\"merchant_abn IS NOT NULL\")\n",
    "print(\"Count after outlier exclusion 1: \", internal1.count())\n",
    "\n",
    "# Excluding transactions with $0\n",
    "internal2 = internal1.filter(internal1.dollar_value > 0)\n",
    "print(\"Count after outlier exclusion 2: \", internal2.count())\n",
    "\n",
    "# Excluding merchants with no transactions and record merchant name\n",
    "merchants_no_trans = internal2.filter(\"consumer_id IS NULL\")\n",
    "internal3 = internal2.filter(\"consumer_id IS NOT NULL\")\n",
    "print(\"Count after outlier exclusion 3: \", internal3.count())\n"
   ]
  },
  {
   "cell_type": "code",
   "execution_count": 6,
   "metadata": {},
   "outputs": [
    {
     "name": "stderr",
     "output_type": "stream",
     "text": [
      "[Stage 152:====================>                                 (26 + 41) / 67]\r"
     ]
    },
    {
     "name": "stdout",
     "output_type": "stream",
     "text": [
      "Count after outlier exclusion 4:  10109254\n"
     ]
    },
    {
     "name": "stderr",
     "output_type": "stream",
     "text": [
      "\r",
      "                                                                                \r"
     ]
    }
   ],
   "source": [
    "# Find null gender values and convert to undisclosed\n",
    "internal4 = internal3.filter(\"gender IS NOT NULL\")\n",
    "print(\"Count after outlier exclusion 4: \", internal4.count())"
   ]
  },
  {
   "cell_type": "markdown",
   "metadata": {},
   "source": [
    "No null values for gender column detected"
   ]
  },
  {
   "cell_type": "markdown",
   "metadata": {},
   "source": [
    "#### From the exclusions above - it can be seen that there are only null values present in the merchant abn column\n",
    "### Therefore, remove the transactions with no merchants from the final dataset."
   ]
  },
  {
   "cell_type": "code",
   "execution_count": null,
   "metadata": {},
   "outputs": [],
   "source": []
  },
  {
   "cell_type": "markdown",
   "metadata": {},
   "source": [
    "## Visualise internal data"
   ]
  },
  {
   "cell_type": "markdown",
   "metadata": {},
   "source": [
    "#### Distribution of gender amongst transactions"
   ]
  },
  {
   "cell_type": "code",
   "execution_count": 7,
   "metadata": {},
   "outputs": [
    {
     "name": "stderr",
     "output_type": "stream",
     "text": [
      "                                                                                \r"
     ]
    },
    {
     "data": {
      "text/plain": [
       "<AxesSubplot:xlabel='gender'>"
      ]
     },
     "execution_count": 7,
     "metadata": {},
     "output_type": "execute_result"
    },
    {
     "data": {
      "image/png": "[encoded data removed]",
      "text/plain": [
       "<Figure size 432x288 with 1 Axes>"
      ]
     },
     "metadata": {
      "needs_background": "light"
     },
     "output_type": "display_data"
    }
   ],
   "source": [
    "import matplotlib.pyplot as plt\n",
    "\n",
    "genders = internal4.select(\"gender\")\n",
    "genderspd = genders.toPandas()\n",
    "genderspd.value_counts().plot(kind='bar')"
   ]
  },
  {
   "cell_type": "markdown",
   "metadata": {},
   "source": [
    "#### Distribution of genders amongst consumers"
   ]
  },
  {
   "cell_type": "code",
   "execution_count": 8,
   "metadata": {},
   "outputs": [
    {
     "data": {
      "text/plain": [
       "<AxesSubplot:xlabel='gender'>"
      ]
     },
     "execution_count": 8,
     "metadata": {},
     "output_type": "execute_result"
    },
    {
     "data": {
      "image/png": "[encoded data removed]",
      "text/plain": [
       "<Figure size 432x288 with 1 Axes>"
      ]
     },
     "metadata": {
      "needs_background": "light"
     },
     "output_type": "display_data"
    }
   ],
   "source": [
    "import matplotlib.pyplot as plt\n",
    "\n",
    "genders = tbl_consumer.select(\"gender\")\n",
    "genderspd = genders.toPandas()\n",
    "genderspd.value_counts().plot(kind='bar')"
   ]
  },
  {
   "cell_type": "markdown",
   "metadata": {},
   "source": [
    "#### Distribution of total revenue for each merchant from online purchases"
   ]
  },
  {
   "cell_type": "code",
   "execution_count": 9,
   "metadata": {},
   "outputs": [
    {
     "name": "stderr",
     "output_type": "stream",
     "text": [
      "                                                                                \r"
     ]
    },
    {
     "data": {
      "image/png": "[encoded data removed]",
      "text/plain": [
       "<Figure size 432x288 with 1 Axes>"
      ]
     },
     "metadata": {
      "needs_background": "light"
     },
     "output_type": "display_data"
    }
   ],
   "source": [
    "selected_columns = internal4.select(\"merchant_abn\",\"dollar_value\")\n",
    "aggregated_revenue = selected_columns.groupby(\"merchant_abn\").sum(\"dollar_value\")\n",
    "aggregated_revenue_pd = aggregated_revenue.toPandas()\n",
    "total_revenue = aggregated_revenue_pd['sum(dollar_value)']\n",
    "\n",
    "fig = plt.figure()\n",
    "plt.boxplot(total_revenue)\n",
    "plt.show()"
   ]
  },
  {
   "cell_type": "markdown",
   "metadata": {},
   "source": [
    "#### Distributions of transactions by state"
   ]
  },
  {
   "cell_type": "code",
   "execution_count": 13,
   "metadata": {},
   "outputs": [
    {
     "name": "stderr",
     "output_type": "stream",
     "text": [
      "                                                                                \r"
     ]
    },
    {
     "data": {
      "text/plain": [
       "<AxesSubplot:xlabel='state'>"
      ]
     },
     "execution_count": 13,
     "metadata": {},
     "output_type": "execute_result"
    },
    {
     "data": {
      "image/png": "[encoded data removed]",
      "text/plain": [
       "<Figure size 432x288 with 1 Axes>"
      ]
     },
     "metadata": {
      "needs_background": "light"
     },
     "output_type": "display_data"
    }
   ],
   "source": [
    "state = internal4.select(\"state\")\n",
    "statepd = state.toPandas()\n",
    "statepd.value_counts().plot(kind='bar')"
   ]
  },
  {
   "cell_type": "markdown",
   "metadata": {},
   "source": [
    "#### Number of transactions by postcode - Geospatial visualisation"
   ]
  },
  {
   "cell_type": "code",
   "execution_count": 59,
   "metadata": {},
   "outputs": [
    {
     "name": "stderr",
     "output_type": "stream",
     "text": [
      "                                                                                \r"
     ]
    },
    {
     "data": {
      "text/plain": [
       "Row(postcodes='6613', count=3377)"
      ]
     },
     "execution_count": 59,
     "metadata": {},
     "output_type": "execute_result"
    }
   ],
   "source": [
    "num_transactions_by_postcode = internal4.groupBy('postcodes').count()\n",
    "num_transactions_by_postcode.head()"
   ]
  },
  {
   "cell_type": "code",
   "execution_count": 60,
   "metadata": {},
   "outputs": [
    {
     "name": "stderr",
     "output_type": "stream",
     "text": [
      "                                                                                \r"
     ]
    },
    {
     "data": {
      "text/plain": [
       "2343"
      ]
     },
     "execution_count": 60,
     "metadata": {},
     "output_type": "execute_result"
    }
   ],
   "source": [
    "num_transactions_by_postcode.count()"
   ]
  },
  {
   "cell_type": "code",
   "execution_count": 63,
   "metadata": {},
   "outputs": [],
   "source": [
    "postcodes_data1 = spark.read.option(\"header\", True).csv('../data/visualisations_postcodes.csv')\n",
    "postcodes_data2 = postcodes_data1.withColumnRenamed('Postcode', 'postcodes')\n",
    "postcodes_data = postcodes_data2.dropDuplicates(['postcodes'])"
   ]
  },
  {
   "cell_type": "code",
   "execution_count": 64,
   "metadata": {},
   "outputs": [
    {
     "name": "stderr",
     "output_type": "stream",
     "text": [
      "                                                                                \r"
     ]
    },
    {
     "data": {
      "text/plain": [
       "Row(postcodes='2136', count=1687, Suburb='Burwood Heights', State='NSW', Lat='-33.890', Lon='151.100')"
      ]
     },
     "execution_count": 64,
     "metadata": {},
     "output_type": "execute_result"
    }
   ],
   "source": [
    "transactions_location = num_transactions_by_postcode.join(postcodes_data,['postcodes'], 'inner')\n",
    "transactions_location.head()\n"
   ]
  },
  {
   "cell_type": "code",
   "execution_count": 65,
   "metadata": {},
   "outputs": [
    {
     "name": "stderr",
     "output_type": "stream",
     "text": [
      "                                                                                \r"
     ]
    },
    {
     "data": {
      "text/plain": [
       "2324"
      ]
     },
     "execution_count": 65,
     "metadata": {},
     "output_type": "execute_result"
    }
   ],
   "source": [
    "transactions_location.count()"
   ]
  },
  {
   "cell_type": "markdown",
   "metadata": {},
   "source": [
    "As we can see above - 19 postcodes in the transactions dataset were not found in the postcodes information dataset and hence their lattitude and longitude values were not retrieved"
   ]
  },
  {
   "cell_type": "code",
   "execution_count": 66,
   "metadata": {},
   "outputs": [
    {
     "name": "stderr",
     "output_type": "stream",
     "text": [
      "                                                                                \r"
     ]
    }
   ],
   "source": [
    "# conver transactions location to pandas df\n",
    "transactions_location_pdf = transactions_location.toPandas()\n",
    "\n",
    "aus_coords = [-25.2744, 133.7751]\n",
    "m = folium.Map(aus_coords, tiles='OpenStreetMap', zoom_start=4.5)\n",
    "\n",
    "for index, row in transactions_location_pdf.iterrows():\n",
    "    if row['count'] >= 10000:\n",
    "        marker_color = 'darkred'\n",
    "        fill_color = 'darkred'\n",
    "    elif row['count'] >= 5000:\n",
    "        marker_color = 'red'\n",
    "        fill_color = 'red'\n",
    "    elif row['count'] >= 500:\n",
    "        marker_color = 'darkorange'\n",
    "        fill_color = 'darkorange'\n",
    "    elif row['count'] >= 100:\n",
    "        marker_color = 'orange'\n",
    "        fill_color = 'orange'\n",
    "    elif row['count'] <= 50 :\n",
    "        marker_color = 'yellow'\n",
    "        fill_color = 'yellow'\n",
    "    else:\n",
    "        marker_color='darkpurple'\n",
    "        fill_color = 'darkpurple'\n",
    "        \n",
    "    folium.Circle(\n",
    "          location=[row['Lat'], row['Lon']],\n",
    "          popup= 'Number of transactions: ' +str(row['count']),\n",
    "          tooltip=row['Suburb'],\n",
    "          radius=row['count'],\n",
    "          color=marker_color,\n",
    "          fill=True,\n",
    "          fill_color=fill_color,\n",
    "       ).add_to(m)\n",
    "m.save('../plots/bubble_plot_num_transactions_by_location.html')"
   ]
  },
  {
   "cell_type": "code",
   "execution_count": null,
   "metadata": {},
   "outputs": [],
   "source": []
  },
  {
   "cell_type": "code",
   "execution_count": null,
   "metadata": {},
   "outputs": [],
   "source": []
  },
  {
   "cell_type": "markdown",
   "metadata": {},
   "source": [
    "#### Number of transactions made by month"
   ]
  },
  {
   "cell_type": "code",
   "execution_count": 14,
   "metadata": {},
   "outputs": [
    {
     "name": "stderr",
     "output_type": "stream",
     "text": [
      "                                                                                \r"
     ]
    },
    {
     "data": {
      "text/html": [
       "<div>\n",
       "<style scoped>\n",
       "    .dataframe tbody tr th:only-of-type {\n",
       "        vertical-align: middle;\n",
       "    }\n",
       "\n",
       "    .dataframe tbody tr th {\n",
       "        vertical-align: top;\n",
       "    }\n",
       "\n",
       "    .dataframe thead th {\n",
       "        text-align: right;\n",
       "    }\n",
       "</style>\n",
       "<table border=\"1\" class=\"dataframe\">\n",
       "  <thead>\n",
       "    <tr style=\"text-align: right;\">\n",
       "      <th></th>\n",
       "      <th>order_datetime</th>\n",
       "    </tr>\n",
       "  </thead>\n",
       "  <tbody>\n",
       "    <tr>\n",
       "      <th>0</th>\n",
       "      <td>2021-08</td>\n",
       "    </tr>\n",
       "    <tr>\n",
       "      <th>1</th>\n",
       "      <td>2021-08</td>\n",
       "    </tr>\n",
       "    <tr>\n",
       "      <th>2</th>\n",
       "      <td>2021-08</td>\n",
       "    </tr>\n",
       "    <tr>\n",
       "      <th>3</th>\n",
       "      <td>2021-08</td>\n",
       "    </tr>\n",
       "    <tr>\n",
       "      <th>4</th>\n",
       "      <td>2021-08</td>\n",
       "    </tr>\n",
       "  </tbody>\n",
       "</table>\n",
       "</div>"
      ],
      "text/plain": [
       "  order_datetime\n",
       "0        2021-08\n",
       "1        2021-08\n",
       "2        2021-08\n",
       "3        2021-08\n",
       "4        2021-08"
      ]
     },
     "execution_count": 14,
     "metadata": {},
     "output_type": "execute_result"
    }
   ],
   "source": [
    "date = internal4.select(\"order_datetime\")\n",
    "datepd = date.toPandas()\n",
    "# convert date time to get month and year only\n",
    "datepd[\"order_datetime\"] = pd.to_datetime(datepd[\"order_datetime\"]).dt.to_period('M')\n",
    "datepd.head()"
   ]
  },
  {
   "cell_type": "code",
   "execution_count": 16,
   "metadata": {},
   "outputs": [
    {
     "data": {
      "text/html": [
       "<div>\n",
       "<style scoped>\n",
       "    .dataframe tbody tr th:only-of-type {\n",
       "        vertical-align: middle;\n",
       "    }\n",
       "\n",
       "    .dataframe tbody tr th {\n",
       "        vertical-align: top;\n",
       "    }\n",
       "\n",
       "    .dataframe thead th {\n",
       "        text-align: right;\n",
       "    }\n",
       "</style>\n",
       "<table border=\"1\" class=\"dataframe\">\n",
       "  <thead>\n",
       "    <tr style=\"text-align: right;\">\n",
       "      <th></th>\n",
       "      <th>order_datetime</th>\n",
       "      <th>Count</th>\n",
       "    </tr>\n",
       "  </thead>\n",
       "  <tbody>\n",
       "    <tr>\n",
       "      <th>0</th>\n",
       "      <td>2021-02</td>\n",
       "      <td>12154</td>\n",
       "    </tr>\n",
       "    <tr>\n",
       "      <th>1</th>\n",
       "      <td>2021-03</td>\n",
       "      <td>388963</td>\n",
       "    </tr>\n",
       "    <tr>\n",
       "      <th>2</th>\n",
       "      <td>2021-04</td>\n",
       "      <td>400063</td>\n",
       "    </tr>\n",
       "    <tr>\n",
       "      <th>3</th>\n",
       "      <td>2021-05</td>\n",
       "      <td>452938</td>\n",
       "    </tr>\n",
       "    <tr>\n",
       "      <th>4</th>\n",
       "      <td>2021-06</td>\n",
       "      <td>446862</td>\n",
       "    </tr>\n",
       "  </tbody>\n",
       "</table>\n",
       "</div>"
      ],
      "text/plain": [
       "  order_datetime   Count\n",
       "0        2021-02   12154\n",
       "1        2021-03  388963\n",
       "2        2021-04  400063\n",
       "3        2021-05  452938\n",
       "4        2021-06  446862"
      ]
     },
     "execution_count": 16,
     "metadata": {},
     "output_type": "execute_result"
    }
   ],
   "source": [
    "# count the number of transactions per month\n",
    "datepd_groupby = datepd.groupby(['order_datetime']).size().reset_index(name='Count')\n",
    "datepd_groupby.head()"
   ]
  },
  {
   "cell_type": "code",
   "execution_count": 17,
   "metadata": {},
   "outputs": [
    {
     "data": {
      "text/plain": [
       "<AxesSubplot:xlabel='order_datetime'>"
      ]
     },
     "execution_count": 17,
     "metadata": {},
     "output_type": "execute_result"
    },
    {
     "data": {
      "image/png": "[encoded data removed]",
      "text/plain": [
       "<Figure size 432x288 with 1 Axes>"
      ]
     },
     "metadata": {
      "needs_background": "light"
     },
     "output_type": "display_data"
    }
   ],
   "source": [
    "datepd_groupby.plot(x = \"order_datetime\")"
   ]
  },
  {
   "cell_type": "markdown",
   "metadata": {},
   "source": [
    "# External datasets\n",
    "## Check oultiers"
   ]
  },
  {
   "cell_type": "markdown",
   "metadata": {},
   "source": [
    "### Census data"
   ]
  },
  {
   "cell_type": "code",
   "execution_count": 18,
   "metadata": {},
   "outputs": [
    {
     "data": {
      "text/html": [
       "<div>\n",
       "<style scoped>\n",
       "    .dataframe tbody tr th:only-of-type {\n",
       "        vertical-align: middle;\n",
       "    }\n",
       "\n",
       "    .dataframe tbody tr th {\n",
       "        vertical-align: top;\n",
       "    }\n",
       "\n",
       "    .dataframe thead th {\n",
       "        text-align: right;\n",
       "    }\n",
       "</style>\n",
       "<table border=\"1\" class=\"dataframe\">\n",
       "  <thead>\n",
       "    <tr style=\"text-align: right;\">\n",
       "      <th></th>\n",
       "      <th>SA2_code</th>\n",
       "      <th>total_males</th>\n",
       "      <th>total_females</th>\n",
       "      <th>total_persons</th>\n",
       "    </tr>\n",
       "  </thead>\n",
       "  <tbody>\n",
       "    <tr>\n",
       "      <th>count</th>\n",
       "      <td>2.472000e+03</td>\n",
       "      <td>2472.000000</td>\n",
       "      <td>2472.000000</td>\n",
       "      <td>2472.000000</td>\n",
       "    </tr>\n",
       "    <tr>\n",
       "      <th>mean</th>\n",
       "      <td>3.177555e+08</td>\n",
       "      <td>5074.887136</td>\n",
       "      <td>5209.415049</td>\n",
       "      <td>10284.254450</td>\n",
       "    </tr>\n",
       "    <tr>\n",
       "      <th>std</th>\n",
       "      <td>1.977886e+08</td>\n",
       "      <td>3019.275754</td>\n",
       "      <td>3161.883118</td>\n",
       "      <td>6171.395057</td>\n",
       "    </tr>\n",
       "    <tr>\n",
       "      <th>min</th>\n",
       "      <td>1.010210e+08</td>\n",
       "      <td>0.000000</td>\n",
       "      <td>0.000000</td>\n",
       "      <td>0.000000</td>\n",
       "    </tr>\n",
       "    <tr>\n",
       "      <th>25%</th>\n",
       "      <td>1.270315e+08</td>\n",
       "      <td>2669.750000</td>\n",
       "      <td>2678.000000</td>\n",
       "      <td>5384.750000</td>\n",
       "    </tr>\n",
       "    <tr>\n",
       "      <th>50%</th>\n",
       "      <td>3.030411e+08</td>\n",
       "      <td>4774.000000</td>\n",
       "      <td>4875.000000</td>\n",
       "      <td>9656.000000</td>\n",
       "    </tr>\n",
       "    <tr>\n",
       "      <th>75%</th>\n",
       "      <td>4.060111e+08</td>\n",
       "      <td>7169.000000</td>\n",
       "      <td>7511.500000</td>\n",
       "      <td>14675.000000</td>\n",
       "    </tr>\n",
       "    <tr>\n",
       "      <th>max</th>\n",
       "      <td>9.999995e+08</td>\n",
       "      <td>14327.000000</td>\n",
       "      <td>13783.000000</td>\n",
       "      <td>28116.000000</td>\n",
       "    </tr>\n",
       "  </tbody>\n",
       "</table>\n",
       "</div>"
      ],
      "text/plain": [
       "           SA2_code   total_males  total_females  total_persons\n",
       "count  2.472000e+03   2472.000000    2472.000000    2472.000000\n",
       "mean   3.177555e+08   5074.887136    5209.415049   10284.254450\n",
       "std    1.977886e+08   3019.275754    3161.883118    6171.395057\n",
       "min    1.010210e+08      0.000000       0.000000       0.000000\n",
       "25%    1.270315e+08   2669.750000    2678.000000    5384.750000\n",
       "50%    3.030411e+08   4774.000000    4875.000000    9656.000000\n",
       "75%    4.060111e+08   7169.000000    7511.500000   14675.000000\n",
       "max    9.999995e+08  14327.000000   13783.000000   28116.000000"
      ]
     },
     "execution_count": 18,
     "metadata": {},
     "output_type": "execute_result"
    }
   ],
   "source": [
    "# summary statistics\n",
    "census.describe()"
   ]
  },
  {
   "cell_type": "markdown",
   "metadata": {},
   "source": [
    "### Income data\n",
    "Income data contains the total income for each SA2 region - not income per person"
   ]
  },
  {
   "cell_type": "code",
   "execution_count": 19,
   "metadata": {},
   "outputs": [
    {
     "data": {
      "text/html": [
       "<div>\n",
       "<style scoped>\n",
       "    .dataframe tbody tr th:only-of-type {\n",
       "        vertical-align: middle;\n",
       "    }\n",
       "\n",
       "    .dataframe tbody tr th {\n",
       "        vertical-align: top;\n",
       "    }\n",
       "\n",
       "    .dataframe thead th {\n",
       "        text-align: right;\n",
       "    }\n",
       "</style>\n",
       "<table border=\"1\" class=\"dataframe\">\n",
       "  <thead>\n",
       "    <tr style=\"text-align: right;\">\n",
       "      <th></th>\n",
       "      <th>SA2_code</th>\n",
       "      <th>SA2_name</th>\n",
       "      <th>income_2018-2019</th>\n",
       "    </tr>\n",
       "  </thead>\n",
       "  <tbody>\n",
       "    <tr>\n",
       "      <th>0</th>\n",
       "      <td>101021007</td>\n",
       "      <td>Braidwood</td>\n",
       "      <td>120763285</td>\n",
       "    </tr>\n",
       "    <tr>\n",
       "      <th>1</th>\n",
       "      <td>101021008</td>\n",
       "      <td>Karabar</td>\n",
       "      <td>338308979</td>\n",
       "    </tr>\n",
       "    <tr>\n",
       "      <th>2</th>\n",
       "      <td>101021009</td>\n",
       "      <td>Queanbeyan</td>\n",
       "      <td>441160946</td>\n",
       "    </tr>\n",
       "    <tr>\n",
       "      <th>3</th>\n",
       "      <td>101021010</td>\n",
       "      <td>Queanbeyan - East</td>\n",
       "      <td>237035656</td>\n",
       "    </tr>\n",
       "    <tr>\n",
       "      <th>4</th>\n",
       "      <td>101021011</td>\n",
       "      <td>Queanbeyan Region</td>\n",
       "      <td>1050285692</td>\n",
       "    </tr>\n",
       "  </tbody>\n",
       "</table>\n",
       "</div>"
      ],
      "text/plain": [
       "    SA2_code           SA2_name  income_2018-2019\n",
       "0  101021007          Braidwood         120763285\n",
       "1  101021008            Karabar         338308979\n",
       "2  101021009         Queanbeyan         441160946\n",
       "3  101021010  Queanbeyan - East         237035656\n",
       "4  101021011  Queanbeyan Region        1050285692"
      ]
     },
     "execution_count": 19,
     "metadata": {},
     "output_type": "execute_result"
    }
   ],
   "source": [
    "income.head()"
   ]
  },
  {
   "cell_type": "code",
   "execution_count": 20,
   "metadata": {},
   "outputs": [
    {
     "data": {
      "text/plain": [
       "count    2.244000e+03\n",
       "mean     4.234613e+08\n",
       "std      3.478390e+08\n",
       "min     -7.968300e+04\n",
       "25%      1.767428e+08\n",
       "50%      3.324043e+08\n",
       "75%      5.684244e+08\n",
       "max      3.493429e+09\n",
       "Name: income_2018-2019, dtype: float64"
      ]
     },
     "execution_count": 20,
     "metadata": {},
     "output_type": "execute_result"
    }
   ],
   "source": [
    "# summary statistics income_2018-2019\n",
    "income['income_2018-2019'].describe()"
   ]
  },
  {
   "cell_type": "code",
   "execution_count": 21,
   "metadata": {},
   "outputs": [
    {
     "data": {
      "text/plain": [
       "<AxesSubplot:>"
      ]
     },
     "execution_count": 21,
     "metadata": {},
     "output_type": "execute_result"
    },
    {
     "data": {
      "image/png": "[encoded data removed]",
      "text/plain": [
       "<Figure size 432x288 with 1 Axes>"
      ]
     },
     "metadata": {
      "needs_background": "light"
     },
     "output_type": "display_data"
    }
   ],
   "source": [
    "# income distribution\n",
    "income['income_2018-2019'].astype(np.double).plot()"
   ]
  },
  {
   "cell_type": "code",
   "execution_count": 22,
   "metadata": {},
   "outputs": [
    {
     "data": {
      "text/html": [
       "<div>\n",
       "<style scoped>\n",
       "    .dataframe tbody tr th:only-of-type {\n",
       "        vertical-align: middle;\n",
       "    }\n",
       "\n",
       "    .dataframe tbody tr th {\n",
       "        vertical-align: top;\n",
       "    }\n",
       "\n",
       "    .dataframe thead th {\n",
       "        text-align: right;\n",
       "    }\n",
       "</style>\n",
       "<table border=\"1\" class=\"dataframe\">\n",
       "  <thead>\n",
       "    <tr style=\"text-align: right;\">\n",
       "      <th></th>\n",
       "      <th>SA2_code</th>\n",
       "      <th>SA2_name</th>\n",
       "      <th>income_2018-2019</th>\n",
       "    </tr>\n",
       "  </thead>\n",
       "  <tbody>\n",
       "    <tr>\n",
       "      <th>278</th>\n",
       "      <td>114011275</td>\n",
       "      <td>Ettrema - Sassafras - Budawang</td>\n",
       "      <td>-79683</td>\n",
       "    </tr>\n",
       "  </tbody>\n",
       "</table>\n",
       "</div>"
      ],
      "text/plain": [
       "      SA2_code                        SA2_name  income_2018-2019\n",
       "278  114011275  Ettrema - Sassafras - Budawang            -79683"
      ]
     },
     "execution_count": 22,
     "metadata": {},
     "output_type": "execute_result"
    }
   ],
   "source": [
    "# Check which SA2 regions have negative sum of income for that region\n",
    "income.loc[income['income_2018-2019'] < 0]"
   ]
  },
  {
   "cell_type": "code",
   "execution_count": 23,
   "metadata": {},
   "outputs": [
    {
     "name": "stderr",
     "output_type": "stream",
     "text": [
      "                                                                                \r"
     ]
    },
    {
     "data": {
      "text/plain": [
       "[]"
      ]
     },
     "execution_count": 23,
     "metadata": {},
     "output_type": "execute_result"
    }
   ],
   "source": [
    "# Check if this SA2 region is in the final join\n",
    "internal3.filter(internal3.SA2_code == 114011275).collect()"
   ]
  },
  {
   "cell_type": "markdown",
   "metadata": {},
   "source": [
    "This SA2 region with a negative total sum of income is not in the final join - so this outlier is already removed"
   ]
  },
  {
   "cell_type": "markdown",
   "metadata": {},
   "source": [
    "### Population data"
   ]
  },
  {
   "cell_type": "code",
   "execution_count": 24,
   "metadata": {},
   "outputs": [
    {
     "data": {
      "text/html": [
       "<div>\n",
       "<style scoped>\n",
       "    .dataframe tbody tr th:only-of-type {\n",
       "        vertical-align: middle;\n",
       "    }\n",
       "\n",
       "    .dataframe tbody tr th {\n",
       "        vertical-align: top;\n",
       "    }\n",
       "\n",
       "    .dataframe thead th {\n",
       "        text-align: right;\n",
       "    }\n",
       "</style>\n",
       "<table border=\"1\" class=\"dataframe\">\n",
       "  <thead>\n",
       "    <tr style=\"text-align: right;\">\n",
       "      <th></th>\n",
       "      <th>SA2_code</th>\n",
       "      <th>SA2_name</th>\n",
       "      <th>state_code</th>\n",
       "      <th>state_name</th>\n",
       "      <th>population_2020</th>\n",
       "      <th>population_2021</th>\n",
       "    </tr>\n",
       "  </thead>\n",
       "  <tbody>\n",
       "    <tr>\n",
       "      <th>0</th>\n",
       "      <td>101021007</td>\n",
       "      <td>Braidwood</td>\n",
       "      <td>1</td>\n",
       "      <td>New South Wales</td>\n",
       "      <td>4273</td>\n",
       "      <td>4330</td>\n",
       "    </tr>\n",
       "    <tr>\n",
       "      <th>1</th>\n",
       "      <td>101021008</td>\n",
       "      <td>Karabar</td>\n",
       "      <td>1</td>\n",
       "      <td>New South Wales</td>\n",
       "      <td>8519</td>\n",
       "      <td>8546</td>\n",
       "    </tr>\n",
       "    <tr>\n",
       "      <th>2</th>\n",
       "      <td>101021009</td>\n",
       "      <td>Queanbeyan</td>\n",
       "      <td>1</td>\n",
       "      <td>New South Wales</td>\n",
       "      <td>11437</td>\n",
       "      <td>11370</td>\n",
       "    </tr>\n",
       "    <tr>\n",
       "      <th>3</th>\n",
       "      <td>101021010</td>\n",
       "      <td>Queanbeyan - East</td>\n",
       "      <td>1</td>\n",
       "      <td>New South Wales</td>\n",
       "      <td>5077</td>\n",
       "      <td>5093</td>\n",
       "    </tr>\n",
       "    <tr>\n",
       "      <th>4</th>\n",
       "      <td>101021012</td>\n",
       "      <td>Queanbeyan West - Jerrabomberra</td>\n",
       "      <td>1</td>\n",
       "      <td>New South Wales</td>\n",
       "      <td>12796</td>\n",
       "      <td>12743</td>\n",
       "    </tr>\n",
       "  </tbody>\n",
       "</table>\n",
       "</div>"
      ],
      "text/plain": [
       "    SA2_code                         SA2_name  state_code       state_name  \\\n",
       "0  101021007                        Braidwood           1  New South Wales   \n",
       "1  101021008                          Karabar           1  New South Wales   \n",
       "2  101021009                       Queanbeyan           1  New South Wales   \n",
       "3  101021010                Queanbeyan - East           1  New South Wales   \n",
       "4  101021012  Queanbeyan West - Jerrabomberra           1  New South Wales   \n",
       "\n",
       "   population_2020  population_2021  \n",
       "0             4273             4330  \n",
       "1             8519             8546  \n",
       "2            11437            11370  \n",
       "3             5077             5093  \n",
       "4            12796            12743  "
      ]
     },
     "execution_count": 24,
     "metadata": {},
     "output_type": "execute_result"
    }
   ],
   "source": [
    "population.head()"
   ]
  },
  {
   "cell_type": "code",
   "execution_count": 25,
   "metadata": {},
   "outputs": [
    {
     "data": {
      "text/plain": [
       "count     2454.000000\n",
       "mean     10454.477995\n",
       "std       6229.349880\n",
       "min          0.000000\n",
       "25%       5449.500000\n",
       "50%       9778.000000\n",
       "75%      14832.750000\n",
       "max      28250.000000\n",
       "Name: population_2020, dtype: float64"
      ]
     },
     "execution_count": 25,
     "metadata": {},
     "output_type": "execute_result"
    }
   ],
   "source": [
    "# descriptive stats for 2020 in each SA2 region\n",
    "population['population_2020'].describe()"
   ]
  },
  {
   "cell_type": "code",
   "execution_count": 26,
   "metadata": {},
   "outputs": [
    {
     "data": {
      "text/plain": [
       "count     2454.000000\n",
       "mean     10467.839853\n",
       "std       6222.168569\n",
       "min          0.000000\n",
       "25%       5529.750000\n",
       "50%       9831.000000\n",
       "75%      14911.000000\n",
       "max      28573.000000\n",
       "Name: population_2021, dtype: float64"
      ]
     },
     "execution_count": 26,
     "metadata": {},
     "output_type": "execute_result"
    }
   ],
   "source": [
    "# descriptive stats for 2021 in each SA2 region\n",
    "population['population_2021'].describe()"
   ]
  },
  {
   "cell_type": "markdown",
   "metadata": {},
   "source": [
    "# Tags \n"
   ]
  },
  {
   "cell_type": "code",
   "execution_count": 33,
   "metadata": {},
   "outputs": [
    {
     "data": {
      "text/html": [
       "<div>\n",
       "<style scoped>\n",
       "    .dataframe tbody tr th:only-of-type {\n",
       "        vertical-align: middle;\n",
       "    }\n",
       "\n",
       "    .dataframe tbody tr th {\n",
       "        vertical-align: top;\n",
       "    }\n",
       "\n",
       "    .dataframe thead th {\n",
       "        text-align: right;\n",
       "    }\n",
       "</style>\n",
       "<table border=\"1\" class=\"dataframe\">\n",
       "  <thead>\n",
       "    <tr style=\"text-align: right;\">\n",
       "      <th></th>\n",
       "      <th>merchant_name</th>\n",
       "      <th>merchant_abn</th>\n",
       "      <th>categories</th>\n",
       "      <th>take_rate</th>\n",
       "      <th>revenue_levels</th>\n",
       "    </tr>\n",
       "  </thead>\n",
       "  <tbody>\n",
       "    <tr>\n",
       "      <th>0</th>\n",
       "      <td>Felis Limited</td>\n",
       "      <td>10023283211</td>\n",
       "      <td>furniture, home furnishings and equipment shop...</td>\n",
       "      <td>0.18</td>\n",
       "      <td>e</td>\n",
       "    </tr>\n",
       "    <tr>\n",
       "      <th>1</th>\n",
       "      <td>Arcu Ac Orci Corporation</td>\n",
       "      <td>10142254217</td>\n",
       "      <td>cable, satellite, and otHer pay television and...</td>\n",
       "      <td>4.22</td>\n",
       "      <td>b</td>\n",
       "    </tr>\n",
       "    <tr>\n",
       "      <th>2</th>\n",
       "      <td>Nunc Sed Company</td>\n",
       "      <td>10165489824</td>\n",
       "      <td>jewelry, watch, clock, and silverware shops</td>\n",
       "      <td>4.40</td>\n",
       "      <td>b</td>\n",
       "    </tr>\n",
       "    <tr>\n",
       "      <th>3</th>\n",
       "      <td>Ultricies Dignissim Lacus Foundation</td>\n",
       "      <td>10187291046</td>\n",
       "      <td>wAtch, clock, and jewelry repair shops</td>\n",
       "      <td>3.29</td>\n",
       "      <td>b</td>\n",
       "    </tr>\n",
       "    <tr>\n",
       "      <th>4</th>\n",
       "      <td>Enim Condimentum PC</td>\n",
       "      <td>10192359162</td>\n",
       "      <td>music shops - musical instruments, pianos, and...</td>\n",
       "      <td>6.33</td>\n",
       "      <td>a</td>\n",
       "    </tr>\n",
       "  </tbody>\n",
       "</table>\n",
       "</div>"
      ],
      "text/plain": [
       "                          merchant_name  merchant_abn  \\\n",
       "0                         Felis Limited   10023283211   \n",
       "1              Arcu Ac Orci Corporation   10142254217   \n",
       "2                      Nunc Sed Company   10165489824   \n",
       "3  Ultricies Dignissim Lacus Foundation   10187291046   \n",
       "4                   Enim Condimentum PC   10192359162   \n",
       "\n",
       "                                          categories  take_rate revenue_levels  \n",
       "0  furniture, home furnishings and equipment shop...       0.18              e  \n",
       "1  cable, satellite, and otHer pay television and...       4.22              b  \n",
       "2        jewelry, watch, clock, and silverware shops       4.40              b  \n",
       "3             wAtch, clock, and jewelry repair shops       3.29              b  \n",
       "4  music shops - musical instruments, pianos, and...       6.33              a  "
      ]
     },
     "execution_count": 33,
     "metadata": {},
     "output_type": "execute_result"
    }
   ],
   "source": [
    "merchants = tbl_merchants.toPandas()\n",
    "merchants.head()"
   ]
  },
  {
   "cell_type": "code",
   "execution_count": 37,
   "metadata": {},
   "outputs": [
    {
     "data": {
      "text/plain": [
       "0       furniture home furnishings and equipment shops...\n",
       "1       cable satellite and other pay television and r...\n",
       "2                jewelry watch clock and silverware shops\n",
       "3                    watch clock and jewelry repair shops\n",
       "4       music shops  musical instruments pianos and sh...\n",
       "                              ...                        \n",
       "4021               opticians optical goods and eyeglasses\n",
       "4022                     books periodicals and newspapers\n",
       "4023                                          shoe  shops\n",
       "4024                 motor vehicle supplies and new parts\n",
       "4025                 motor vehicle supplies and new parts\n",
       "Name: categories, Length: 4026, dtype: object"
      ]
     },
     "execution_count": 37,
     "metadata": {},
     "output_type": "execute_result"
    }
   ],
   "source": [
    "categories = merchants[\"categories\"]\n",
    "# Remove symbols from tag and making everything lowercase\n",
    "categories = categories.str.replace('[^\\w\\s]', '', regex = True)\n",
    "categories = categories.str.lower()\n",
    "categories"
   ]
  },
  {
   "cell_type": "code",
   "execution_count": 38,
   "metadata": {},
   "outputs": [],
   "source": [
    "merchants['cleaned_tags'] = categories"
   ]
  },
  {
   "cell_type": "code",
   "execution_count": 39,
   "metadata": {},
   "outputs": [
    {
     "data": {
      "text/html": [
       "<div>\n",
       "<style scoped>\n",
       "    .dataframe tbody tr th:only-of-type {\n",
       "        vertical-align: middle;\n",
       "    }\n",
       "\n",
       "    .dataframe tbody tr th {\n",
       "        vertical-align: top;\n",
       "    }\n",
       "\n",
       "    .dataframe thead th {\n",
       "        text-align: right;\n",
       "    }\n",
       "</style>\n",
       "<table border=\"1\" class=\"dataframe\">\n",
       "  <thead>\n",
       "    <tr style=\"text-align: right;\">\n",
       "      <th></th>\n",
       "      <th>merchant_name</th>\n",
       "      <th>merchant_abn</th>\n",
       "      <th>categories</th>\n",
       "      <th>take_rate</th>\n",
       "      <th>revenue_levels</th>\n",
       "      <th>cleaned_tags</th>\n",
       "    </tr>\n",
       "  </thead>\n",
       "  <tbody>\n",
       "    <tr>\n",
       "      <th>0</th>\n",
       "      <td>Felis Limited</td>\n",
       "      <td>10023283211</td>\n",
       "      <td>furniture, home furnishings and equipment shop...</td>\n",
       "      <td>0.18</td>\n",
       "      <td>e</td>\n",
       "      <td>furniture home furnishings and equipment shops...</td>\n",
       "    </tr>\n",
       "    <tr>\n",
       "      <th>1</th>\n",
       "      <td>Arcu Ac Orci Corporation</td>\n",
       "      <td>10142254217</td>\n",
       "      <td>cable, satellite, and otHer pay television and...</td>\n",
       "      <td>4.22</td>\n",
       "      <td>b</td>\n",
       "      <td>cable satellite and other pay television and r...</td>\n",
       "    </tr>\n",
       "    <tr>\n",
       "      <th>2</th>\n",
       "      <td>Nunc Sed Company</td>\n",
       "      <td>10165489824</td>\n",
       "      <td>jewelry, watch, clock, and silverware shops</td>\n",
       "      <td>4.40</td>\n",
       "      <td>b</td>\n",
       "      <td>jewelry watch clock and silverware shops</td>\n",
       "    </tr>\n",
       "    <tr>\n",
       "      <th>3</th>\n",
       "      <td>Ultricies Dignissim Lacus Foundation</td>\n",
       "      <td>10187291046</td>\n",
       "      <td>wAtch, clock, and jewelry repair shops</td>\n",
       "      <td>3.29</td>\n",
       "      <td>b</td>\n",
       "      <td>watch clock and jewelry repair shops</td>\n",
       "    </tr>\n",
       "    <tr>\n",
       "      <th>4</th>\n",
       "      <td>Enim Condimentum PC</td>\n",
       "      <td>10192359162</td>\n",
       "      <td>music shops - musical instruments, pianos, and...</td>\n",
       "      <td>6.33</td>\n",
       "      <td>a</td>\n",
       "      <td>music shops  musical instruments pianos and sh...</td>\n",
       "    </tr>\n",
       "  </tbody>\n",
       "</table>\n",
       "</div>"
      ],
      "text/plain": [
       "                          merchant_name  merchant_abn  \\\n",
       "0                         Felis Limited   10023283211   \n",
       "1              Arcu Ac Orci Corporation   10142254217   \n",
       "2                      Nunc Sed Company   10165489824   \n",
       "3  Ultricies Dignissim Lacus Foundation   10187291046   \n",
       "4                   Enim Condimentum PC   10192359162   \n",
       "\n",
       "                                          categories  take_rate  \\\n",
       "0  furniture, home furnishings and equipment shop...       0.18   \n",
       "1  cable, satellite, and otHer pay television and...       4.22   \n",
       "2        jewelry, watch, clock, and silverware shops       4.40   \n",
       "3             wAtch, clock, and jewelry repair shops       3.29   \n",
       "4  music shops - musical instruments, pianos, and...       6.33   \n",
       "\n",
       "  revenue_levels                                       cleaned_tags  \n",
       "0              e  furniture home furnishings and equipment shops...  \n",
       "1              b  cable satellite and other pay television and r...  \n",
       "2              b           jewelry watch clock and silverware shops  \n",
       "3              b               watch clock and jewelry repair shops  \n",
       "4              a  music shops  musical instruments pianos and sh...  "
      ]
     },
     "execution_count": 39,
     "metadata": {},
     "output_type": "execute_result"
    }
   ],
   "source": [
    "merchants.head()"
   ]
  },
  {
   "cell_type": "code",
   "execution_count": 41,
   "metadata": {},
   "outputs": [],
   "source": [
    "from sklearn.feature_extraction.text import CountVectorizer\n",
    "cv = CountVectorizer(max_df=0.95, min_df=2, stop_words='english')\n",
    "dtm = cv.fit_transform(merchants['cleaned_tags'])"
   ]
  },
  {
   "cell_type": "code",
   "execution_count": 42,
   "metadata": {},
   "outputs": [
    {
     "data": {
      "text/plain": [
       "5"
      ]
     },
     "execution_count": 42,
     "metadata": {},
     "output_type": "execute_result"
    }
   ],
   "source": [
    "categories_label = [\"fashion\", \"furniture\", \"electronics\", \"beauty, health, personal and household\", \"toys, hobbies and DIY\"]\n",
    "len(categories_label)"
   ]
  },
  {
   "cell_type": "code",
   "execution_count": 54,
   "metadata": {},
   "outputs": [
    {
     "name": "stdout",
     "output_type": "stream",
     "text": [
      "THE TOP 15 WORDS FOR TOPIC: FASHION\n",
      "['new', 'motor', 'stock', 'nursery', 'flowers', 'florists', 'home', 'furnishings', 'appliances', 'manufacturers', 'shoe', 'furniture', 'equipment', 'supplies', 'shops']\n",
      "\n",
      "\n",
      "THE TOP 15 WORDS FOR TOPIC: FURNITURE\n",
      "['galleries', 'dealers', 'art', 'telecom', 'service', 'bicycle', 'repair', 'sales', 'artist', 'craft', 'supply', 'watch', 'clock', 'jewelry', 'shops']\n",
      "\n",
      "\n",
      "THE TOP 15 WORDS FOR TOPIC: ELECTRONICS\n",
      "['nurseries', 'books', 'periodicals', 'newspapers', 'beauty', 'health', 'spas', 'data', 'design', 'systems', 'processing', 'integrated', 'programming', 'computer', 'services']\n",
      "\n",
      "\n",
      "THE TOP 15 WORDS FOR TOPIC: BEAUTY, HEALTH, PERSONAL AND HOUSEHOLD\n",
      "['printing', 'stationery', 'writing', 'instruments', 'pianos', 'musical', 'sheet', 'tent', 'awning', 'digital', 'movies', 'books', 'shops', 'goods', 'music']\n",
      "\n",
      "\n",
      "THE TOP 15 WORDS FOR TOPIC: TOYS, HOBBIES AND DIY\n",
      "['television', 'radio', 'cable', 'satellite', 'pay', 'equipment', 'computer', 'software', 'peripheral', 'computers', 'novelty', 'card', 'gift', 'souvenir', 'shops']\n",
      "\n",
      "\n"
     ]
    }
   ],
   "source": [
    "from sklearn.decomposition import LatentDirichletAllocation\n",
    "LDA = LatentDirichletAllocation(n_components=5,random_state=42)\n",
    "LDA.fit(dtm)\n",
    "for index,topic in enumerate(LDA.components_):\n",
    "    print(f'THE TOP 15 WORDS FOR TOPIC: {categories_label[index].upper()}')\n",
    "    print([cv.get_feature_names()[i] for i in topic.argsort()[-15:]])\n",
    "    print('\\n')"
   ]
  },
  {
   "cell_type": "code",
   "execution_count": 53,
   "metadata": {},
   "outputs": [
    {
     "data": {
      "text/html": [
       "<div>\n",
       "<style scoped>\n",
       "    .dataframe tbody tr th:only-of-type {\n",
       "        vertical-align: middle;\n",
       "    }\n",
       "\n",
       "    .dataframe tbody tr th {\n",
       "        vertical-align: top;\n",
       "    }\n",
       "\n",
       "    .dataframe thead th {\n",
       "        text-align: right;\n",
       "    }\n",
       "</style>\n",
       "<table border=\"1\" class=\"dataframe\">\n",
       "  <thead>\n",
       "    <tr style=\"text-align: right;\">\n",
       "      <th></th>\n",
       "      <th>merchant_name</th>\n",
       "      <th>merchant_abn</th>\n",
       "      <th>categories</th>\n",
       "      <th>take_rate</th>\n",
       "      <th>revenue_levels</th>\n",
       "      <th>cleaned_tags</th>\n",
       "      <th>store_type</th>\n",
       "      <th>category</th>\n",
       "    </tr>\n",
       "  </thead>\n",
       "  <tbody>\n",
       "    <tr>\n",
       "      <th>0</th>\n",
       "      <td>Felis Limited</td>\n",
       "      <td>10023283211</td>\n",
       "      <td>furniture, home furnishings and equipment shop...</td>\n",
       "      <td>0.18</td>\n",
       "      <td>e</td>\n",
       "      <td>furniture home furnishings and equipment shops...</td>\n",
       "      <td>0</td>\n",
       "      <td>Furniture</td>\n",
       "    </tr>\n",
       "    <tr>\n",
       "      <th>1</th>\n",
       "      <td>Arcu Ac Orci Corporation</td>\n",
       "      <td>10142254217</td>\n",
       "      <td>cable, satellite, and otHer pay television and...</td>\n",
       "      <td>4.22</td>\n",
       "      <td>b</td>\n",
       "      <td>cable satellite and other pay television and r...</td>\n",
       "      <td>4</td>\n",
       "      <td>Electronics</td>\n",
       "    </tr>\n",
       "    <tr>\n",
       "      <th>2</th>\n",
       "      <td>Nunc Sed Company</td>\n",
       "      <td>10165489824</td>\n",
       "      <td>jewelry, watch, clock, and silverware shops</td>\n",
       "      <td>4.40</td>\n",
       "      <td>b</td>\n",
       "      <td>jewelry watch clock and silverware shops</td>\n",
       "      <td>1</td>\n",
       "      <td>Toys and DIY</td>\n",
       "    </tr>\n",
       "    <tr>\n",
       "      <th>3</th>\n",
       "      <td>Ultricies Dignissim Lacus Foundation</td>\n",
       "      <td>10187291046</td>\n",
       "      <td>wAtch, clock, and jewelry repair shops</td>\n",
       "      <td>3.29</td>\n",
       "      <td>b</td>\n",
       "      <td>watch clock and jewelry repair shops</td>\n",
       "      <td>1</td>\n",
       "      <td>Toys and DIY</td>\n",
       "    </tr>\n",
       "    <tr>\n",
       "      <th>4</th>\n",
       "      <td>Enim Condimentum PC</td>\n",
       "      <td>10192359162</td>\n",
       "      <td>music shops - musical instruments, pianos, and...</td>\n",
       "      <td>6.33</td>\n",
       "      <td>a</td>\n",
       "      <td>music shops  musical instruments pianos and sh...</td>\n",
       "      <td>3</td>\n",
       "      <td>Books, Stationary and Music</td>\n",
       "    </tr>\n",
       "    <tr>\n",
       "      <th>5</th>\n",
       "      <td>Fusce Company</td>\n",
       "      <td>10206519221</td>\n",
       "      <td>gift, card, novelty, and souvenir shops</td>\n",
       "      <td>6.34</td>\n",
       "      <td>a</td>\n",
       "      <td>gift card novelty and souvenir shops</td>\n",
       "      <td>4</td>\n",
       "      <td>Electronics</td>\n",
       "    </tr>\n",
       "    <tr>\n",
       "      <th>6</th>\n",
       "      <td>Aliquam Enim Incorporated</td>\n",
       "      <td>10255988167</td>\n",
       "      <td>computers, comPUter peripheral equipment, and ...</td>\n",
       "      <td>4.32</td>\n",
       "      <td>b</td>\n",
       "      <td>computers computer peripheral equipment and so...</td>\n",
       "      <td>4</td>\n",
       "      <td>Electronics</td>\n",
       "    </tr>\n",
       "    <tr>\n",
       "      <th>7</th>\n",
       "      <td>Ipsum Primis Ltd</td>\n",
       "      <td>10264435225</td>\n",
       "      <td>watch, clock, and jewelry repair shops</td>\n",
       "      <td>2.39</td>\n",
       "      <td>c</td>\n",
       "      <td>watch clock and jewelry repair shops</td>\n",
       "      <td>1</td>\n",
       "      <td>Toys and DIY</td>\n",
       "    </tr>\n",
       "    <tr>\n",
       "      <th>8</th>\n",
       "      <td>Pede Ultrices Industries</td>\n",
       "      <td>10279061213</td>\n",
       "      <td>computer programming , data processing, and in...</td>\n",
       "      <td>5.71</td>\n",
       "      <td>a</td>\n",
       "      <td>computer programming  data processing and inte...</td>\n",
       "      <td>2</td>\n",
       "      <td>Beauty, Health, Personal and Household</td>\n",
       "    </tr>\n",
       "    <tr>\n",
       "      <th>9</th>\n",
       "      <td>Nunc Inc.</td>\n",
       "      <td>10323485998</td>\n",
       "      <td>furniture, home furnishings and equipment shop...</td>\n",
       "      <td>6.61</td>\n",
       "      <td>a</td>\n",
       "      <td>furniture home furnishings and equipment shops...</td>\n",
       "      <td>0</td>\n",
       "      <td>Furniture</td>\n",
       "    </tr>\n",
       "  </tbody>\n",
       "</table>\n",
       "</div>"
      ],
      "text/plain": [
       "                          merchant_name  merchant_abn  \\\n",
       "0                         Felis Limited   10023283211   \n",
       "1              Arcu Ac Orci Corporation   10142254217   \n",
       "2                      Nunc Sed Company   10165489824   \n",
       "3  Ultricies Dignissim Lacus Foundation   10187291046   \n",
       "4                   Enim Condimentum PC   10192359162   \n",
       "5                         Fusce Company   10206519221   \n",
       "6             Aliquam Enim Incorporated   10255988167   \n",
       "7                      Ipsum Primis Ltd   10264435225   \n",
       "8              Pede Ultrices Industries   10279061213   \n",
       "9                             Nunc Inc.   10323485998   \n",
       "\n",
       "                                          categories  take_rate  \\\n",
       "0  furniture, home furnishings and equipment shop...       0.18   \n",
       "1  cable, satellite, and otHer pay television and...       4.22   \n",
       "2        jewelry, watch, clock, and silverware shops       4.40   \n",
       "3             wAtch, clock, and jewelry repair shops       3.29   \n",
       "4  music shops - musical instruments, pianos, and...       6.33   \n",
       "5            gift, card, novelty, and souvenir shops       6.34   \n",
       "6  computers, comPUter peripheral equipment, and ...       4.32   \n",
       "7             watch, clock, and jewelry repair shops       2.39   \n",
       "8  computer programming , data processing, and in...       5.71   \n",
       "9  furniture, home furnishings and equipment shop...       6.61   \n",
       "\n",
       "  revenue_levels                                       cleaned_tags  \\\n",
       "0              e  furniture home furnishings and equipment shops...   \n",
       "1              b  cable satellite and other pay television and r...   \n",
       "2              b           jewelry watch clock and silverware shops   \n",
       "3              b               watch clock and jewelry repair shops   \n",
       "4              a  music shops  musical instruments pianos and sh...   \n",
       "5              a               gift card novelty and souvenir shops   \n",
       "6              b  computers computer peripheral equipment and so...   \n",
       "7              c               watch clock and jewelry repair shops   \n",
       "8              a  computer programming  data processing and inte...   \n",
       "9              a  furniture home furnishings and equipment shops...   \n",
       "\n",
       "   store_type                                category  \n",
       "0           0                               Furniture  \n",
       "1           4                             Electronics  \n",
       "2           1                            Toys and DIY  \n",
       "3           1                            Toys and DIY  \n",
       "4           3             Books, Stationary and Music  \n",
       "5           4                             Electronics  \n",
       "6           4                             Electronics  \n",
       "7           1                            Toys and DIY  \n",
       "8           2  Beauty, Health, Personal and Household  \n",
       "9           0                               Furniture  "
      ]
     },
     "execution_count": 53,
     "metadata": {},
     "output_type": "execute_result"
    }
   ],
   "source": [
    "topic_results = LDA.transform(dtm)\n",
    "merchants['store_type'] = topic_results.argmax(axis=1)\n",
    "merchants.head(10)"
   ]
  },
  {
   "cell_type": "code",
   "execution_count": 48,
   "metadata": {},
   "outputs": [],
   "source": [
    "myDict = {0 : 'Furniture' , 1 : 'Toys and DIY', 2 : 'Beauty, Health, Personal and Household', 3 : 'Books, Stationary and Music', 4 : 'Electronics' }\n",
    " \n",
    "merchants['category'] = merchants['store_type'].map(myDict)"
   ]
  },
  {
   "cell_type": "code",
   "execution_count": 50,
   "metadata": {},
   "outputs": [
    {
     "data": {
      "text/html": [
       "<div>\n",
       "<style scoped>\n",
       "    .dataframe tbody tr th:only-of-type {\n",
       "        vertical-align: middle;\n",
       "    }\n",
       "\n",
       "    .dataframe tbody tr th {\n",
       "        vertical-align: top;\n",
       "    }\n",
       "\n",
       "    .dataframe thead th {\n",
       "        text-align: right;\n",
       "    }\n",
       "</style>\n",
       "<table border=\"1\" class=\"dataframe\">\n",
       "  <thead>\n",
       "    <tr style=\"text-align: right;\">\n",
       "      <th></th>\n",
       "      <th>merchant_name</th>\n",
       "      <th>merchant_abn</th>\n",
       "      <th>categories</th>\n",
       "      <th>take_rate</th>\n",
       "      <th>revenue_levels</th>\n",
       "      <th>cleaned_tags</th>\n",
       "      <th>store_type</th>\n",
       "      <th>category</th>\n",
       "    </tr>\n",
       "  </thead>\n",
       "  <tbody>\n",
       "    <tr>\n",
       "      <th>0</th>\n",
       "      <td>Felis Limited</td>\n",
       "      <td>10023283211</td>\n",
       "      <td>furniture, home furnishings and equipment shop...</td>\n",
       "      <td>0.18</td>\n",
       "      <td>e</td>\n",
       "      <td>furniture home furnishings and equipment shops...</td>\n",
       "      <td>0</td>\n",
       "      <td>Furniture</td>\n",
       "    </tr>\n",
       "    <tr>\n",
       "      <th>1</th>\n",
       "      <td>Arcu Ac Orci Corporation</td>\n",
       "      <td>10142254217</td>\n",
       "      <td>cable, satellite, and otHer pay television and...</td>\n",
       "      <td>4.22</td>\n",
       "      <td>b</td>\n",
       "      <td>cable satellite and other pay television and r...</td>\n",
       "      <td>4</td>\n",
       "      <td>Electronics</td>\n",
       "    </tr>\n",
       "    <tr>\n",
       "      <th>2</th>\n",
       "      <td>Nunc Sed Company</td>\n",
       "      <td>10165489824</td>\n",
       "      <td>jewelry, watch, clock, and silverware shops</td>\n",
       "      <td>4.40</td>\n",
       "      <td>b</td>\n",
       "      <td>jewelry watch clock and silverware shops</td>\n",
       "      <td>1</td>\n",
       "      <td>Toys and DIY</td>\n",
       "    </tr>\n",
       "    <tr>\n",
       "      <th>3</th>\n",
       "      <td>Ultricies Dignissim Lacus Foundation</td>\n",
       "      <td>10187291046</td>\n",
       "      <td>wAtch, clock, and jewelry repair shops</td>\n",
       "      <td>3.29</td>\n",
       "      <td>b</td>\n",
       "      <td>watch clock and jewelry repair shops</td>\n",
       "      <td>1</td>\n",
       "      <td>Toys and DIY</td>\n",
       "    </tr>\n",
       "    <tr>\n",
       "      <th>4</th>\n",
       "      <td>Enim Condimentum PC</td>\n",
       "      <td>10192359162</td>\n",
       "      <td>music shops - musical instruments, pianos, and...</td>\n",
       "      <td>6.33</td>\n",
       "      <td>a</td>\n",
       "      <td>music shops  musical instruments pianos and sh...</td>\n",
       "      <td>3</td>\n",
       "      <td>Books, Stationary and Music</td>\n",
       "    </tr>\n",
       "  </tbody>\n",
       "</table>\n",
       "</div>"
      ],
      "text/plain": [
       "                          merchant_name  merchant_abn  \\\n",
       "0                         Felis Limited   10023283211   \n",
       "1              Arcu Ac Orci Corporation   10142254217   \n",
       "2                      Nunc Sed Company   10165489824   \n",
       "3  Ultricies Dignissim Lacus Foundation   10187291046   \n",
       "4                   Enim Condimentum PC   10192359162   \n",
       "\n",
       "                                          categories  take_rate  \\\n",
       "0  furniture, home furnishings and equipment shop...       0.18   \n",
       "1  cable, satellite, and otHer pay television and...       4.22   \n",
       "2        jewelry, watch, clock, and silverware shops       4.40   \n",
       "3             wAtch, clock, and jewelry repair shops       3.29   \n",
       "4  music shops - musical instruments, pianos, and...       6.33   \n",
       "\n",
       "  revenue_levels                                       cleaned_tags  \\\n",
       "0              e  furniture home furnishings and equipment shops...   \n",
       "1              b  cable satellite and other pay television and r...   \n",
       "2              b           jewelry watch clock and silverware shops   \n",
       "3              b               watch clock and jewelry repair shops   \n",
       "4              a  music shops  musical instruments pianos and sh...   \n",
       "\n",
       "   store_type                     category  \n",
       "0           0                    Furniture  \n",
       "1           4                  Electronics  \n",
       "2           1                 Toys and DIY  \n",
       "3           1                 Toys and DIY  \n",
       "4           3  Books, Stationary and Music  "
      ]
     },
     "execution_count": 50,
     "metadata": {},
     "output_type": "execute_result"
    }
   ],
   "source": [
    "merchants.head()"
   ]
  },
  {
   "cell_type": "code",
   "execution_count": null,
   "metadata": {},
   "outputs": [],
   "source": []
  }
 ],
 "metadata": {
  "kernelspec": {
   "display_name": "Python 3 (Anaconda 3)",
   "language": "python",
   "name": "python3"
  },
  "language_info": {
   "codemirror_mode": {
    "name": "ipython",
    "version": 3
   },
   "file_extension": ".py",
   "mimetype": "text/x-python",
   "name": "python",
   "nbconvert_exporter": "python",
   "pygments_lexer": "ipython3",
   "version": "3.8.2"
  }
 },
 "nbformat": 4,
 "nbformat_minor": 5
}
