{
 "cells": [
  {
   "cell_type": "markdown",
   "id": "anticipated-nevada",
   "metadata": {},
   "source": [
    "## Part 1: Extracting, Transforming and Loading Data"
   ]
  },
  {
   "cell_type": "markdown",
   "id": "angry-arcade",
   "metadata": {},
   "source": [
    "### Running the ETL Script"
   ]
  },
  {
   "cell_type": "markdown",
   "id": "southeast-terror",
   "metadata": {},
   "source": [
    "In this section, we run our ETL script which....."
   ]
  },
  {
   "cell_type": "code",
   "execution_count": 6,
   "id": "surprised-hartford",
   "metadata": {},
   "outputs": [
    {
     "name": "stderr",
     "output_type": "stream",
     "text": [
      "                                                                                \r"
     ]
    }
   ],
   "source": [
    "# Read in data from ETL.py file\n",
    "%run '../scripts/ETL.py' '../scripts/paths.json'"
   ]
  },
  {
   "cell_type": "code",
   "execution_count": 7,
   "id": "complimentary-anxiety",
   "metadata": {},
   "outputs": [
    {
     "name": "stderr",
     "output_type": "stream",
     "text": [
      "                                                                                \r"
     ]
    },
    {
     "data": {
      "text/html": [
       "<table border='1'>\n",
       "<tr><th>merchant_name</th><th>merchant_abn</th><th>categories</th><th>take_rate</th><th>revenue_levels</th><th>name</th><th>address</th><th>state</th><th>gender</th><th>trans_merchant_abn</th><th>dollar_value</th><th>order_id</th><th>order_datetime</th><th>user_id</th><th>consumer_id</th><th>postcodes</th><th>int_sa2</th><th>SA2_code</th><th>SA2_name</th><th>income_2018-2019</th><th>total_males</th><th>total_females</th><th>total_persons</th><th>state_code</th><th>state_name</th><th>population_2020</th><th>population_2021</th></tr>\n",
       "<tr><td>null</td><td>null</td><td>null</td><td>null</td><td>null</td><td>Lawrence Tyler</td><td>3511 Victoria Meadow</td><td>NSW</td><td>Male</td><td>32234779638</td><td>39.304036732369084</td><td>02e36af7-8c70-436...</td><td>2021-11-30</td><td>18983</td><td>36103</td><td>2212</td><td>119011360</td><td>119011360</td><td>Revesby</td><td>576485403</td><td>8603</td><td>9061</td><td>17664</td><td>1</td><td>New South Wales</td><td>17719</td><td>17710</td></tr>\n",
       "<tr><td>Lorem Ipsum Sodal...</td><td>43186523025</td><td>florists supplies...</td><td>4.47</td><td>b</td><td>Lawrence Tyler</td><td>3511 Victoria Meadow</td><td>NSW</td><td>Male</td><td>43186523025</td><td>56.35375319523918</td><td>a1d3526c-f212-41f...</td><td>2022-06-06</td><td>18983</td><td>36103</td><td>2212</td><td>119011360</td><td>119011360</td><td>Revesby</td><td>576485403</td><td>8603</td><td>9061</td><td>17664</td><td>1</td><td>New South Wales</td><td>17719</td><td>17710</td></tr>\n",
       "<tr><td>Pede Blandit LLP</td><td>28517327395</td><td>books, periodical...</td><td>0.47</td><td>e</td><td>Lawrence Tyler</td><td>3511 Victoria Meadow</td><td>NSW</td><td>Male</td><td>28517327395</td><td>276.3597685809581</td><td>b90e183b-25d4-4a6...</td><td>2022-06-14</td><td>18983</td><td>36103</td><td>2212</td><td>119011360</td><td>119011360</td><td>Revesby</td><td>576485403</td><td>8603</td><td>9061</td><td>17664</td><td>1</td><td>New South Wales</td><td>17719</td><td>17710</td></tr>\n",
       "<tr><td>Nullam Suscipit LLC</td><td>86388904574</td><td>computers, comput...</td><td>4.96</td><td>b</td><td>Lawrence Tyler</td><td>3511 Victoria Meadow</td><td>NSW</td><td>Male</td><td>86388904574</td><td>121.9799348513232</td><td>4c55adbf-7114-4bd...</td><td>2022-05-24</td><td>18983</td><td>36103</td><td>2212</td><td>119011360</td><td>119011360</td><td>Revesby</td><td>576485403</td><td>8603</td><td>9061</td><td>17664</td><td>1</td><td>New South Wales</td><td>17719</td><td>17710</td></tr>\n",
       "<tr><td>Phasellus At Limited</td><td>76767266140</td><td>furniture, home f...</td><td>4.65</td><td>b</td><td>Lawrence Tyler</td><td>3511 Victoria Meadow</td><td>NSW</td><td>Male</td><td>76767266140</td><td>59.46778996058449</td><td>4e66a3c6-9691-44a...</td><td>2022-03-05</td><td>18983</td><td>36103</td><td>2212</td><td>119011360</td><td>119011360</td><td>Revesby</td><td>576485403</td><td>8603</td><td>9061</td><td>17664</td><td>1</td><td>New South Wales</td><td>17719</td><td>17710</td></tr>\n",
       "</table>\n"
      ],
      "text/plain": [
       "+--------------------+------------+--------------------+---------+--------------+--------------+--------------------+-----+------+------------------+------------------+--------------------+--------------+-------+-----------+---------+---------+---------+--------+----------------+-----------+-------------+-------------+----------+---------------+---------------+---------------+\n",
       "|       merchant_name|merchant_abn|          categories|take_rate|revenue_levels|          name|             address|state|gender|trans_merchant_abn|      dollar_value|            order_id|order_datetime|user_id|consumer_id|postcodes|  int_sa2| SA2_code|SA2_name|income_2018-2019|total_males|total_females|total_persons|state_code|     state_name|population_2020|population_2021|\n",
       "+--------------------+------------+--------------------+---------+--------------+--------------+--------------------+-----+------+------------------+------------------+--------------------+--------------+-------+-----------+---------+---------+---------+--------+----------------+-----------+-------------+-------------+----------+---------------+---------------+---------------+\n",
       "|                null|        null|                null|     null|          null|Lawrence Tyler|3511 Victoria Meadow|  NSW|  Male|       32234779638|39.304036732369084|02e36af7-8c70-436...|    2021-11-30|  18983|      36103|     2212|119011360|119011360| Revesby|       576485403|       8603|         9061|        17664|         1|New South Wales|          17719|          17710|\n",
       "|Lorem Ipsum Sodal...| 43186523025|florists supplies...|     4.47|             b|Lawrence Tyler|3511 Victoria Meadow|  NSW|  Male|       43186523025| 56.35375319523918|a1d3526c-f212-41f...|    2022-06-06|  18983|      36103|     2212|119011360|119011360| Revesby|       576485403|       8603|         9061|        17664|         1|New South Wales|          17719|          17710|\n",
       "|    Pede Blandit LLP| 28517327395|books, periodical...|     0.47|             e|Lawrence Tyler|3511 Victoria Meadow|  NSW|  Male|       28517327395| 276.3597685809581|b90e183b-25d4-4a6...|    2022-06-14|  18983|      36103|     2212|119011360|119011360| Revesby|       576485403|       8603|         9061|        17664|         1|New South Wales|          17719|          17710|\n",
       "| Nullam Suscipit LLC| 86388904574|computers, comput...|     4.96|             b|Lawrence Tyler|3511 Victoria Meadow|  NSW|  Male|       86388904574| 121.9799348513232|4c55adbf-7114-4bd...|    2022-05-24|  18983|      36103|     2212|119011360|119011360| Revesby|       576485403|       8603|         9061|        17664|         1|New South Wales|          17719|          17710|\n",
       "|Phasellus At Limited| 76767266140|furniture, home f...|     4.65|             b|Lawrence Tyler|3511 Victoria Meadow|  NSW|  Male|       76767266140| 59.46778996058449|4e66a3c6-9691-44a...|    2022-03-05|  18983|      36103|     2212|119011360|119011360| Revesby|       576485403|       8603|         9061|        17664|         1|New South Wales|          17719|          17710|\n",
       "+--------------------+------------+--------------------+---------+--------------+--------------+--------------------+-----+------+------------------+------------------+--------------------+--------------+-------+-----------+---------+---------+---------+--------+----------------+-----------+-------------+-------------+----------+---------------+---------------+---------------+"
      ]
     },
     "execution_count": 7,
     "metadata": {},
     "output_type": "execute_result"
    }
   ],
   "source": [
    "final_join3.limit(5)"
   ]
  },
  {
   "cell_type": "markdown",
   "id": "still-privacy",
   "metadata": {
    "tags": []
   },
   "source": [
    "### Observing the Internal Dataset"
   ]
  },
  {
   "cell_type": "markdown",
   "id": "apart-motivation",
   "metadata": {},
   "source": [
    "Our internal dataset is made up of 6 internal datasets:\n",
    "- Merchants\n",
    "- Consumer\n",
    "- User Details\n",
    "- Transactions\n",
    "- Consumer Fraud\n",
    "- Merchant Fraud"
   ]
  },
  {
   "cell_type": "code",
   "execution_count": 10,
   "id": "sharing-proxy",
   "metadata": {},
   "outputs": [
    {
     "name": "stdout",
     "output_type": "stream",
     "text": [
      "Counts for merchants dataset:  4026\n",
      "Counts for consumer dataset:  499999\n",
      "Counts for user details dataset:  499999\n"
     ]
    },
    {
     "name": "stderr",
     "output_type": "stream",
     "text": [
      "                                                                                \r"
     ]
    },
    {
     "name": "stdout",
     "output_type": "stream",
     "text": [
      "Counts for transactions dataset:  14195505\n",
      "Counts for consumer fraud dataset:  34864\n",
      "Counts for merchant fraud dataset:  114\n"
     ]
    }
   ],
   "source": [
    "print(\"Counts for merchants dataset: \", tbl_merchants.count())\n",
    "print(\"Counts for consumer dataset: \", tbl_consumer.count())\n",
    "print(\"Counts for user details dataset: \", user_details.count())\n",
    "print(\"Counts for transactions dataset: \", transactions.count())\n",
    "print(\"Counts for consumer fraud dataset: \", fraud_consumer.count())\n",
    "print(\"Counts for merchant fraud dataset: \", fraud_merchants.count())"
   ]
  },
  {
   "cell_type": "markdown",
   "id": "polar-whale",
   "metadata": {},
   "source": [
    "First we print the first 5 rows of our internal dataset, it's schema and it's row count:"
   ]
  },
  {
   "cell_type": "code",
   "execution_count": 8,
   "id": "realistic-valley",
   "metadata": {},
   "outputs": [
    {
     "name": "stderr",
     "output_type": "stream",
     "text": [
      "                                                                                \r"
     ]
    },
    {
     "name": "stdout",
     "output_type": "stream",
     "text": [
      "Counts for internal dataset:  14195505\n",
      "Schema for internal dataset: \n",
      "root\n",
      " |-- merchant_name: string (nullable = true)\n",
      " |-- merchant_abn: long (nullable = true)\n",
      " |-- categories: string (nullable = true)\n",
      " |-- take_rate: double (nullable = true)\n",
      " |-- revenue_levels: string (nullable = true)\n",
      " |-- name: string (nullable = true)\n",
      " |-- address: string (nullable = true)\n",
      " |-- state: string (nullable = true)\n",
      " |-- postcode: string (nullable = true)\n",
      " |-- gender: string (nullable = true)\n",
      " |-- trans_merchant_abn: long (nullable = true)\n",
      " |-- dollar_value: double (nullable = true)\n",
      " |-- order_id: string (nullable = true)\n",
      " |-- order_datetime: date (nullable = true)\n",
      " |-- user_id: long (nullable = true)\n",
      " |-- consumer_id: long (nullable = true)\n",
      "\n"
     ]
    },
    {
     "name": "stderr",
     "output_type": "stream",
     "text": [
      "                                                                                \r"
     ]
    },
    {
     "data": {
      "text/html": [
       "<table border='1'>\n",
       "<tr><th>merchant_name</th><th>merchant_abn</th><th>categories</th><th>take_rate</th><th>revenue_levels</th><th>name</th><th>address</th><th>state</th><th>postcode</th><th>gender</th><th>trans_merchant_abn</th><th>dollar_value</th><th>order_id</th><th>order_datetime</th><th>user_id</th><th>consumer_id</th></tr>\n",
       "<tr><td>Felis Limited</td><td>10023283211</td><td>furniture, home f...</td><td>0.18</td><td>e</td><td>Roberto Robbins</td><td>3146 Eric Turnpik...</td><td>NSW</td><td>2396</td><td>Male</td><td>10023283211</td><td>74.68707218671928</td><td>b36e56d0-dbb2-479...</td><td>2021-08-11</td><td>23679</td><td>6664</td></tr>\n",
       "<tr><td>Felis Limited</td><td>10023283211</td><td>furniture, home f...</td><td>0.18</td><td>e</td><td>Kelly Krueger</td><td>039 Green Route</td><td>WA</td><td>6935</td><td>Undisclosed</td><td>10023283211</td><td>319.4986425058244</td><td>51798dc0-8a7b-4cd...</td><td>2021-12-28</td><td>2199</td><td>8509</td></tr>\n",
       "<tr><td>Felis Limited</td><td>10023283211</td><td>furniture, home f...</td><td>0.18</td><td>e</td><td>Brianna Hart</td><td>850 Joshua Viaduc...</td><td>WA</td><td>6415</td><td>Female</td><td>10023283211</td><td>123.61804677878001</td><td>edc9c5b1-82a0-4ee...</td><td>2021-10-13</td><td>19278</td><td>15265</td></tr>\n",
       "<tr><td>Felis Limited</td><td>10023283211</td><td>furniture, home f...</td><td>0.18</td><td>e</td><td>Jose Frye</td><td>394 Matthews View...</td><td>NSW</td><td>2021</td><td>Male</td><td>10023283211</td><td>191.63853773963905</td><td>376cc026-5d91-498...</td><td>2021-07-04</td><td>5156</td><td>19115</td></tr>\n",
       "<tr><td>Felis Limited</td><td>10023283211</td><td>furniture, home f...</td><td>0.18</td><td>e</td><td>Matthew Waters</td><td>729 Harper Spring...</td><td>WA</td><td>6253</td><td>Male</td><td>10023283211</td><td>250.13111867397248</td><td>0220b2de-768c-49e...</td><td>2022-07-09</td><td>23774</td><td>20250</td></tr>\n",
       "</table>\n"
      ],
      "text/plain": [
       "+-------------+------------+--------------------+---------+--------------+---------------+--------------------+-----+--------+-----------+------------------+------------------+--------------------+--------------+-------+-----------+\n",
       "|merchant_name|merchant_abn|          categories|take_rate|revenue_levels|           name|             address|state|postcode|     gender|trans_merchant_abn|      dollar_value|            order_id|order_datetime|user_id|consumer_id|\n",
       "+-------------+------------+--------------------+---------+--------------+---------------+--------------------+-----+--------+-----------+------------------+------------------+--------------------+--------------+-------+-----------+\n",
       "|Felis Limited| 10023283211|furniture, home f...|     0.18|             e|Roberto Robbins|3146 Eric Turnpik...|  NSW|    2396|       Male|       10023283211| 74.68707218671928|b36e56d0-dbb2-479...|    2021-08-11|  23679|       6664|\n",
       "|Felis Limited| 10023283211|furniture, home f...|     0.18|             e|  Kelly Krueger|     039 Green Route|   WA|    6935|Undisclosed|       10023283211| 319.4986425058244|51798dc0-8a7b-4cd...|    2021-12-28|   2199|       8509|\n",
       "|Felis Limited| 10023283211|furniture, home f...|     0.18|             e|   Brianna Hart|850 Joshua Viaduc...|   WA|    6415|     Female|       10023283211|123.61804677878001|edc9c5b1-82a0-4ee...|    2021-10-13|  19278|      15265|\n",
       "|Felis Limited| 10023283211|furniture, home f...|     0.18|             e|      Jose Frye|394 Matthews View...|  NSW|    2021|       Male|       10023283211|191.63853773963905|376cc026-5d91-498...|    2021-07-04|   5156|      19115|\n",
       "|Felis Limited| 10023283211|furniture, home f...|     0.18|             e| Matthew Waters|729 Harper Spring...|   WA|    6253|       Male|       10023283211|250.13111867397248|0220b2de-768c-49e...|    2022-07-09|  23774|      20250|\n",
       "+-------------+------------+--------------------+---------+--------------+---------------+--------------------+-----+--------+-----------+------------------+------------------+--------------------+--------------+-------+-----------+"
      ]
     },
     "execution_count": 8,
     "metadata": {},
     "output_type": "execute_result"
    }
   ],
   "source": [
    "print(\"Counts for internal dataset: \", final_join.count())\n",
    "print(\"Schema for internal dataset: \")\n",
    "final_join.printSchema()\n",
    "final_join.limit(5)"
   ]
  },
  {
   "cell_type": "markdown",
   "id": "united-discipline",
   "metadata": {},
   "source": [
    "[Discussion about internal dataset]"
   ]
  },
  {
   "cell_type": "markdown",
   "id": "standard-given",
   "metadata": {},
   "source": [
    "[Discussion about joins]"
   ]
  },
  {
   "cell_type": "code",
   "execution_count": 10,
   "id": "empirical-stocks",
   "metadata": {},
   "outputs": [
    {
     "name": "stderr",
     "output_type": "stream",
     "text": [
      "                                                                                \r"
     ]
    },
    {
     "name": "stdout",
     "output_type": "stream",
     "text": [
      "Count of rows after joining transactions to user details:  8151372\n"
     ]
    },
    {
     "name": "stderr",
     "output_type": "stream",
     "text": [
      "                                                                                \r"
     ]
    },
    {
     "name": "stdout",
     "output_type": "stream",
     "text": [
      "Count of rows after joining consumer to above data:  8151372\n"
     ]
    },
    {
     "name": "stderr",
     "output_type": "stream",
     "text": [
      "[Stage 112:===================>                                   (7 + 13) / 20]\r"
     ]
    },
    {
     "name": "stdout",
     "output_type": "stream",
     "text": [
      "Count of rows after joining merchants to above data:  8151379\n"
     ]
    },
    {
     "name": "stderr",
     "output_type": "stream",
     "text": [
      "                                                                                \r"
     ]
    }
   ],
   "source": [
    "print(\"Count of rows after joining transactions to user details: \", trans_user.count())\n",
    "print(\"Count of rows after joining consumer to above data: \", add_consumer.count())\n",
    "print(\"Count of rows after joining merchants to above data: \", final_join.count())"
   ]
  },
  {
   "cell_type": "markdown",
   "id": "psychological-picnic",
   "metadata": {},
   "source": [
    "### Observing Covid-19 Dataset"
   ]
  },
  {
   "cell_type": "markdown",
   "id": "encouraging-accommodation",
   "metadata": {},
   "source": [
    "### Observing SA2 Datasets"
   ]
  },
  {
   "cell_type": "code",
   "execution_count": null,
   "id": "functioning-algorithm",
   "metadata": {},
   "outputs": [],
   "source": []
  }
 ],
 "metadata": {
  "kernelspec": {
   "display_name": "Python 3",
   "language": "python",
   "name": "python3"
  },
  "language_info": {
   "codemirror_mode": {
    "name": "ipython",
    "version": 3
   },
   "file_extension": ".py",
   "mimetype": "text/x-python",
   "name": "python",
   "nbconvert_exporter": "python",
   "pygments_lexer": "ipython3",
   "version": "3.8.8"
  }
 },
 "nbformat": 4,
 "nbformat_minor": 5
}
