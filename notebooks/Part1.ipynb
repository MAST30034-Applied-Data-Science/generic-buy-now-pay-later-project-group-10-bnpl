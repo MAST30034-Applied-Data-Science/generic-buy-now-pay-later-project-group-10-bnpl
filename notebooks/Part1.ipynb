{
 "cells": [
  {
   "cell_type": "markdown",
   "metadata": {},
   "source": [
    "## Part 1: Extracting, Transforming and Loading Data"
   ]
  },
  {
   "cell_type": "markdown",
   "metadata": {},
   "source": [
    "### Running the ETL Script"
   ]
  },
  {
   "cell_type": "markdown",
   "metadata": {},
   "source": [
    "In this section, we run our ETL script which....."
   ]
  },
  {
   "cell_type": "code",
   "execution_count": 4,
   "metadata": {},
   "outputs": [
    {
     "name": "stderr",
     "output_type": "stream",
     "text": [
      "                                                                                \r"
     ]
    },
    {
     "name": "stdout",
     "output_type": "stream",
     "text": [
      "22/09/21 00:41:41 WARN package: Truncated the string representation of a plan since it was too large. This behavior can be adjusted by setting 'spark.sql.debug.maxToStringFields'.\n"
     ]
    },
    {
     "name": "stderr",
     "output_type": "stream",
     "text": [
      "                                                                                \r"
     ]
    }
   ],
   "source": [
    "# Read in data from ETL.py file\n",
    "%run \"../scripts/ETL.py\""
   ]
  },
  {
   "cell_type": "code",
   "execution_count": 3,
   "metadata": {},
   "outputs": [
    {
     "name": "stderr",
     "output_type": "stream",
     "text": [
      "                                                                                \r"
     ]
    },
    {
     "data": {
      "text/plain": [
       "[Row(merchant_name=None, merchant_abn=None, categories=None, take_rate=None, revenue_levels=None, name='Lawrence Tyler', address='3511 Victoria Meadow', state='NSW', gender='Male', trans_merchant_abn=32234779638, dollar_value=39.304036732369084, order_id='02e36af7-8c70-4367-89fb-7d6d763895af', order_datetime=datetime.date(2021, 11, 30), user_id=18983, consumer_id=36103, postcodes='2212', int_sa2=119011360, SA2_code=119011360, SA2_name='Revesby', income_2018-2019=576485403, total_males=8603, total_females=9061, total_persons=17664, state_code=1, state_name='New South Wales', population_2020=17719, population_2021=17710),\n",
       " Row(merchant_name='Lorem Ipsum Sodales Industries', merchant_abn=43186523025, categories='florists supplies, nurSery stock, and flowers', take_rate=4.47, revenue_levels='b', name='Lawrence Tyler', address='3511 Victoria Meadow', state='NSW', gender='Male', trans_merchant_abn=43186523025, dollar_value=56.35375319523918, order_id='a1d3526c-f212-41fe-8339-d8e576f31347', order_datetime=datetime.date(2022, 6, 6), user_id=18983, consumer_id=36103, postcodes='2212', int_sa2=119011360, SA2_code=119011360, SA2_name='Revesby', income_2018-2019=576485403, total_males=8603, total_females=9061, total_persons=17664, state_code=1, state_name='New South Wales', population_2020=17719, population_2021=17710),\n",
       " Row(merchant_name='Pede Blandit LLP', merchant_abn=28517327395, categories='books, periodicals, and newspapers', take_rate=0.47, revenue_levels='e', name='Lawrence Tyler', address='3511 Victoria Meadow', state='NSW', gender='Male', trans_merchant_abn=28517327395, dollar_value=276.3597685809581, order_id='b90e183b-25d4-4a64-a67a-9a43b9d2b821', order_datetime=datetime.date(2022, 6, 14), user_id=18983, consumer_id=36103, postcodes='2212', int_sa2=119011360, SA2_code=119011360, SA2_name='Revesby', income_2018-2019=576485403, total_males=8603, total_females=9061, total_persons=17664, state_code=1, state_name='New South Wales', population_2020=17719, population_2021=17710),\n",
       " Row(merchant_name='Nullam Suscipit LLC', merchant_abn=86388904574, categories='computers, computer peripheral equipment, and software', take_rate=4.96, revenue_levels='b', name='Lawrence Tyler', address='3511 Victoria Meadow', state='NSW', gender='Male', trans_merchant_abn=86388904574, dollar_value=121.9799348513232, order_id='4c55adbf-7114-4bd3-aab1-135361c491ca', order_datetime=datetime.date(2022, 5, 24), user_id=18983, consumer_id=36103, postcodes='2212', int_sa2=119011360, SA2_code=119011360, SA2_name='Revesby', income_2018-2019=576485403, total_males=8603, total_females=9061, total_persons=17664, state_code=1, state_name='New South Wales', population_2020=17719, population_2021=17710),\n",
       " Row(merchant_name='Phasellus At Limited', merchant_abn=76767266140, categories='furniture, home furnishings and equipment shops, and manufacturers,  except aPpliances', take_rate=4.65, revenue_levels='b', name='Lawrence Tyler', address='3511 Victoria Meadow', state='NSW', gender='Male', trans_merchant_abn=76767266140, dollar_value=59.46778996058449, order_id='4e66a3c6-9691-44a9-8d70-6763a5a76fab', order_datetime=datetime.date(2022, 3, 5), user_id=18983, consumer_id=36103, postcodes='2212', int_sa2=119011360, SA2_code=119011360, SA2_name='Revesby', income_2018-2019=576485403, total_males=8603, total_females=9061, total_persons=17664, state_code=1, state_name='New South Wales', population_2020=17719, population_2021=17710)]"
      ]
     },
     "execution_count": 3,
     "metadata": {},
     "output_type": "execute_result"
    }
   ],
   "source": [
    "final_join3.head(5)"
   ]
  },
  {
   "cell_type": "markdown",
   "metadata": {
    "tags": []
   },
   "source": [
    "### Observing the Internal Dataset"
   ]
  },
  {
   "cell_type": "markdown",
   "metadata": {},
   "source": [
    "Our internal dataset is made up of 6 internal datasets:\n",
    "- Merchants\n",
    "- Consumer\n",
    "- User Details\n",
    "- Transactions\n",
    "- Consumer Fraud\n",
    "- Merchant Fraud"
   ]
  },
  {
   "cell_type": "code",
   "execution_count": 10,
   "metadata": {},
   "outputs": [
    {
     "name": "stdout",
     "output_type": "stream",
     "text": [
      "Counts for merchants dataset:  4026\n",
      "Counts for consumer dataset:  499999\n",
      "Counts for user details dataset:  499999\n"
     ]
    },
    {
     "name": "stderr",
     "output_type": "stream",
     "text": [
      "                                                                                \r"
     ]
    },
    {
     "name": "stdout",
     "output_type": "stream",
     "text": [
      "Counts for transactions dataset:  14195505\n",
      "Counts for consumer fraud dataset:  34864\n",
      "Counts for merchant fraud dataset:  114\n"
     ]
    }
   ],
   "source": [
    "print(\"Counts for merchants dataset: \", tbl_merchants.count())\n",
    "print(\"Counts for consumer dataset: \", tbl_consumer.count())\n",
    "print(\"Counts for user details dataset: \", user_details.count())\n",
    "print(\"Counts for transactions dataset: \", transactions.count())\n",
    "print(\"Counts for consumer fraud dataset: \", fraud_consumer.count())\n",
    "print(\"Counts for merchant fraud dataset: \", fraud_merchants.count())"
   ]
  },
  {
   "cell_type": "markdown",
   "metadata": {},
   "source": [
    "First we print the first 5 rows of our internal dataset, it's schema and it's row count:"
   ]
  },
  {
   "cell_type": "code",
   "execution_count": 8,
   "metadata": {},
   "outputs": [
    {
     "name": "stderr",
     "output_type": "stream",
     "text": [
      "                                                                                \r"
     ]
    },
    {
     "name": "stdout",
     "output_type": "stream",
     "text": [
      "Counts for internal dataset:  14195505\n",
      "Schema for internal dataset: \n",
      "root\n",
      " |-- merchant_name: string (nullable = true)\n",
      " |-- merchant_abn: long (nullable = true)\n",
      " |-- categories: string (nullable = true)\n",
      " |-- take_rate: double (nullable = true)\n",
      " |-- revenue_levels: string (nullable = true)\n",
      " |-- name: string (nullable = true)\n",
      " |-- address: string (nullable = true)\n",
      " |-- state: string (nullable = true)\n",
      " |-- postcode: string (nullable = true)\n",
      " |-- gender: string (nullable = true)\n",
      " |-- trans_merchant_abn: long (nullable = true)\n",
      " |-- dollar_value: double (nullable = true)\n",
      " |-- order_id: string (nullable = true)\n",
      " |-- order_datetime: date (nullable = true)\n",
      " |-- user_id: long (nullable = true)\n",
      " |-- consumer_id: long (nullable = true)\n",
      "\n"
     ]
    },
    {
     "name": "stderr",
     "output_type": "stream",
     "text": [
      "                                                                                \r"
     ]
    },
    {
     "data": {
      "text/html": [
       "<table border='1'>\n",
       "<tr><th>merchant_name</th><th>merchant_abn</th><th>categories</th><th>take_rate</th><th>revenue_levels</th><th>name</th><th>address</th><th>state</th><th>postcode</th><th>gender</th><th>trans_merchant_abn</th><th>dollar_value</th><th>order_id</th><th>order_datetime</th><th>user_id</th><th>consumer_id</th></tr>\n",
       "<tr><td>Felis Limited</td><td>10023283211</td><td>furniture, home f...</td><td>0.18</td><td>e</td><td>Roberto Robbins</td><td>3146 Eric Turnpik...</td><td>NSW</td><td>2396</td><td>Male</td><td>10023283211</td><td>74.68707218671928</td><td>b36e56d0-dbb2-479...</td><td>2021-08-11</td><td>23679</td><td>6664</td></tr>\n",
       "<tr><td>Felis Limited</td><td>10023283211</td><td>furniture, home f...</td><td>0.18</td><td>e</td><td>Kelly Krueger</td><td>039 Green Route</td><td>WA</td><td>6935</td><td>Undisclosed</td><td>10023283211</td><td>319.4986425058244</td><td>51798dc0-8a7b-4cd...</td><td>2021-12-28</td><td>2199</td><td>8509</td></tr>\n",
       "<tr><td>Felis Limited</td><td>10023283211</td><td>furniture, home f...</td><td>0.18</td><td>e</td><td>Brianna Hart</td><td>850 Joshua Viaduc...</td><td>WA</td><td>6415</td><td>Female</td><td>10023283211</td><td>123.61804677878001</td><td>edc9c5b1-82a0-4ee...</td><td>2021-10-13</td><td>19278</td><td>15265</td></tr>\n",
       "<tr><td>Felis Limited</td><td>10023283211</td><td>furniture, home f...</td><td>0.18</td><td>e</td><td>Jose Frye</td><td>394 Matthews View...</td><td>NSW</td><td>2021</td><td>Male</td><td>10023283211</td><td>191.63853773963905</td><td>376cc026-5d91-498...</td><td>2021-07-04</td><td>5156</td><td>19115</td></tr>\n",
       "<tr><td>Felis Limited</td><td>10023283211</td><td>furniture, home f...</td><td>0.18</td><td>e</td><td>Matthew Waters</td><td>729 Harper Spring...</td><td>WA</td><td>6253</td><td>Male</td><td>10023283211</td><td>250.13111867397248</td><td>0220b2de-768c-49e...</td><td>2022-07-09</td><td>23774</td><td>20250</td></tr>\n",
       "</table>\n"
      ],
      "text/plain": [
       "+-------------+------------+--------------------+---------+--------------+---------------+--------------------+-----+--------+-----------+------------------+------------------+--------------------+--------------+-------+-----------+\n",
       "|merchant_name|merchant_abn|          categories|take_rate|revenue_levels|           name|             address|state|postcode|     gender|trans_merchant_abn|      dollar_value|            order_id|order_datetime|user_id|consumer_id|\n",
       "+-------------+------------+--------------------+---------+--------------+---------------+--------------------+-----+--------+-----------+------------------+------------------+--------------------+--------------+-------+-----------+\n",
       "|Felis Limited| 10023283211|furniture, home f...|     0.18|             e|Roberto Robbins|3146 Eric Turnpik...|  NSW|    2396|       Male|       10023283211| 74.68707218671928|b36e56d0-dbb2-479...|    2021-08-11|  23679|       6664|\n",
       "|Felis Limited| 10023283211|furniture, home f...|     0.18|             e|  Kelly Krueger|     039 Green Route|   WA|    6935|Undisclosed|       10023283211| 319.4986425058244|51798dc0-8a7b-4cd...|    2021-12-28|   2199|       8509|\n",
       "|Felis Limited| 10023283211|furniture, home f...|     0.18|             e|   Brianna Hart|850 Joshua Viaduc...|   WA|    6415|     Female|       10023283211|123.61804677878001|edc9c5b1-82a0-4ee...|    2021-10-13|  19278|      15265|\n",
       "|Felis Limited| 10023283211|furniture, home f...|     0.18|             e|      Jose Frye|394 Matthews View...|  NSW|    2021|       Male|       10023283211|191.63853773963905|376cc026-5d91-498...|    2021-07-04|   5156|      19115|\n",
       "|Felis Limited| 10023283211|furniture, home f...|     0.18|             e| Matthew Waters|729 Harper Spring...|   WA|    6253|       Male|       10023283211|250.13111867397248|0220b2de-768c-49e...|    2022-07-09|  23774|      20250|\n",
       "+-------------+------------+--------------------+---------+--------------+---------------+--------------------+-----+--------+-----------+------------------+------------------+--------------------+--------------+-------+-----------+"
      ]
     },
     "execution_count": 8,
     "metadata": {},
     "output_type": "execute_result"
    }
   ],
   "source": [
    "print(\"Counts for internal dataset: \", final_join.count())\n",
    "print(\"Schema for internal dataset: \")\n",
    "final_join.printSchema()\n",
    "final_join.limit(5)"
   ]
  },
  {
   "cell_type": "markdown",
   "metadata": {},
   "source": [
    "[Discussion about internal dataset]"
   ]
  },
  {
   "cell_type": "markdown",
   "metadata": {},
   "source": [
    "[Discussion about joins]"
   ]
  },
  {
   "cell_type": "code",
   "execution_count": 10,
   "metadata": {},
   "outputs": [
    {
     "name": "stderr",
     "output_type": "stream",
     "text": [
      "                                                                                \r"
     ]
    },
    {
     "name": "stdout",
     "output_type": "stream",
     "text": [
      "Count of rows after joining transactions to user details:  8151372\n"
     ]
    },
    {
     "name": "stderr",
     "output_type": "stream",
     "text": [
      "                                                                                \r"
     ]
    },
    {
     "name": "stdout",
     "output_type": "stream",
     "text": [
      "Count of rows after joining consumer to above data:  8151372\n"
     ]
    },
    {
     "name": "stderr",
     "output_type": "stream",
     "text": [
      "[Stage 112:===================>                                   (7 + 13) / 20]\r"
     ]
    },
    {
     "name": "stdout",
     "output_type": "stream",
     "text": [
      "Count of rows after joining merchants to above data:  8151379\n"
     ]
    },
    {
     "name": "stderr",
     "output_type": "stream",
     "text": [
      "                                                                                \r"
     ]
    }
   ],
   "source": [
    "print(\"Count of rows after joining transactions to user details: \", trans_user.count())\n",
    "print(\"Count of rows after joining consumer to above data: \", add_consumer.count())\n",
    "print(\"Count of rows after joining merchants to above data: \", final_join.count())"
   ]
  },
  {
   "cell_type": "markdown",
   "metadata": {},
   "source": [
    "### Observing Covid-19 Dataset"
   ]
  },
  {
   "cell_type": "markdown",
   "metadata": {},
   "source": [
    "### Observing SA2 Datasets"
   ]
  },
  {
   "cell_type": "code",
   "execution_count": null,
   "metadata": {},
   "outputs": [],
   "source": []
  }
 ],
 "metadata": {
  "kernelspec": {
   "display_name": "Python 3 (Anaconda 3)",
   "language": "python",
   "name": "python3"
  },
  "language_info": {
   "codemirror_mode": {
    "name": "ipython",
    "version": 3
   },
   "file_extension": ".py",
   "mimetype": "text/x-python",
   "name": "python",
   "nbconvert_exporter": "python",
   "pygments_lexer": "ipython3",
   "version": "3.8.2"
  }
 },
 "nbformat": 4,
 "nbformat_minor": 5
}
