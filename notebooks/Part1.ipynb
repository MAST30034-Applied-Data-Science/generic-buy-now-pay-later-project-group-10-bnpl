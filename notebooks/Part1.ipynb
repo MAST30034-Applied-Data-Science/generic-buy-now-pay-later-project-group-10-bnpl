{
 "cells": [
  {
   "cell_type": "markdown",
   "id": "128865b3-6c3a-4535-be25-7a9ff21015c1",
   "metadata": {},
   "source": [
    "## Part 1: Extracting, Transforming and Loading Data"
   ]
  },
  {
   "cell_type": "markdown",
   "id": "cd70eee2-586a-49d6-86b0-7e7c9eb693ae",
   "metadata": {},
   "source": [
    "### Running the ETL Script"
   ]
  },
  {
   "cell_type": "markdown",
   "id": "e87a68bb-8018-43ba-8db8-5b0130814864",
   "metadata": {},
   "source": [
    "In this section, we run our ETL script which....."
   ]
  },
  {
   "cell_type": "code",
   "execution_count": 1,
   "id": "8ecfcc83-ba26-471e-96cc-cc79915b7aa1",
   "metadata": {},
   "outputs": [
    {
     "name": "stderr",
     "output_type": "stream",
     "text": [
      "Setting default log level to \"WARN\".\n",
      "To adjust logging level use sc.setLogLevel(newLevel). For SparkR, use setLogLevel(newLevel).\n"
     ]
    },
    {
     "name": "stdout",
     "output_type": "stream",
     "text": [
      "22/09/13 16:33:35 WARN NativeCodeLoader: Unable to load native-hadoop library for your platform... using builtin-java classes where applicable\n"
     ]
    },
    {
     "name": "stderr",
     "output_type": "stream",
     "text": [
      "                                                                                \r"
     ]
    }
   ],
   "source": [
    "# Read in data from ETL.py file\n",
    "%run \"../scripts/ETL.py\""
   ]
  },
  {
   "cell_type": "code",
   "execution_count": 2,
   "id": "77132588-06b8-44bc-94c8-ff4cb1820465",
   "metadata": {},
   "outputs": [],
   "source": [
    "# Download the covid and SA2 datasets \n",
    "%run \"../scripts/external_data_download.py\""
   ]
  },
  {
   "cell_type": "code",
   "execution_count": 4,
   "id": "88c7c086-3909-4a2a-9ac4-12c2379b9d40",
   "metadata": {},
   "outputs": [],
   "source": [
    "# Download the covid and SA2 datasets \n",
    "%run \"../scripts/external_data_cleaning.py\""
   ]
  },
  {
   "cell_type": "markdown",
   "id": "250fa9e0",
   "metadata": {
    "tags": []
   },
   "source": [
    "### Observing the Internal Dataset"
   ]
  },
  {
   "cell_type": "markdown",
   "id": "c1a983b9-a1bc-4752-8100-69a5681f612b",
   "metadata": {},
   "source": [
    "Our internal dataset is made up of 6 internal datasets:\n",
    "- Merchants\n",
    "- Consumer\n",
    "- User Details\n",
    "- Transactions\n",
    "- Consumer Fraud\n",
    "- Merchant Fraud"
   ]
  },
  {
   "cell_type": "code",
   "execution_count": 10,
   "id": "957833a6-e1d2-47c3-b104-d04c49a93871",
   "metadata": {},
   "outputs": [
    {
     "name": "stdout",
     "output_type": "stream",
     "text": [
      "Counts for merchants dataset:  4026\n",
      "Counts for consumer dataset:  499999\n",
      "Counts for user details dataset:  499999\n"
     ]
    },
    {
     "name": "stderr",
     "output_type": "stream",
     "text": [
      "                                                                                \r"
     ]
    },
    {
     "name": "stdout",
     "output_type": "stream",
     "text": [
      "Counts for transactions dataset:  14195505\n",
      "Counts for consumer fraud dataset:  34864\n",
      "Counts for merchant fraud dataset:  114\n"
     ]
    }
   ],
   "source": [
    "print(\"Counts for merchants dataset: \", tbl_merchants.count())\n",
    "print(\"Counts for consumer dataset: \", tbl_consumer.count())\n",
    "print(\"Counts for user details dataset: \", user_details.count())\n",
    "print(\"Counts for transactions dataset: \", transactions.count())\n",
    "print(\"Counts for consumer fraud dataset: \", fraud_consumer.count())\n",
    "print(\"Counts for merchant fraud dataset: \", fraud_merchants.count())"
   ]
  },
  {
   "cell_type": "markdown",
   "id": "f38a06f2-44e0-4aeb-9fdd-f723e1a3c44c",
   "metadata": {},
   "source": [
    "First we print the first 5 rows of our internal dataset, it's schema and it's row count:"
   ]
  },
  {
   "cell_type": "code",
   "execution_count": 8,
   "id": "e0822f0f",
   "metadata": {},
   "outputs": [
    {
     "name": "stderr",
     "output_type": "stream",
     "text": [
      "                                                                                \r"
     ]
    },
    {
     "name": "stdout",
     "output_type": "stream",
     "text": [
      "Counts for internal dataset:  14195505\n",
      "Schema for internal dataset: \n",
      "root\n",
      " |-- merchant_name: string (nullable = true)\n",
      " |-- merchant_abn: long (nullable = true)\n",
      " |-- categories: string (nullable = true)\n",
      " |-- take_rate: double (nullable = true)\n",
      " |-- revenue_levels: string (nullable = true)\n",
      " |-- name: string (nullable = true)\n",
      " |-- address: string (nullable = true)\n",
      " |-- state: string (nullable = true)\n",
      " |-- postcode: string (nullable = true)\n",
      " |-- gender: string (nullable = true)\n",
      " |-- trans_merchant_abn: long (nullable = true)\n",
      " |-- dollar_value: double (nullable = true)\n",
      " |-- order_id: string (nullable = true)\n",
      " |-- order_datetime: date (nullable = true)\n",
      " |-- user_id: long (nullable = true)\n",
      " |-- consumer_id: long (nullable = true)\n",
      "\n"
     ]
    },
    {
     "name": "stderr",
     "output_type": "stream",
     "text": [
      "                                                                                \r"
     ]
    },
    {
     "data": {
      "text/html": [
       "<table border='1'>\n",
       "<tr><th>merchant_name</th><th>merchant_abn</th><th>categories</th><th>take_rate</th><th>revenue_levels</th><th>name</th><th>address</th><th>state</th><th>postcode</th><th>gender</th><th>trans_merchant_abn</th><th>dollar_value</th><th>order_id</th><th>order_datetime</th><th>user_id</th><th>consumer_id</th></tr>\n",
       "<tr><td>Felis Limited</td><td>10023283211</td><td>furniture, home f...</td><td>0.18</td><td>e</td><td>Roberto Robbins</td><td>3146 Eric Turnpik...</td><td>NSW</td><td>2396</td><td>Male</td><td>10023283211</td><td>74.68707218671928</td><td>b36e56d0-dbb2-479...</td><td>2021-08-11</td><td>23679</td><td>6664</td></tr>\n",
       "<tr><td>Felis Limited</td><td>10023283211</td><td>furniture, home f...</td><td>0.18</td><td>e</td><td>Kelly Krueger</td><td>039 Green Route</td><td>WA</td><td>6935</td><td>Undisclosed</td><td>10023283211</td><td>319.4986425058244</td><td>51798dc0-8a7b-4cd...</td><td>2021-12-28</td><td>2199</td><td>8509</td></tr>\n",
       "<tr><td>Felis Limited</td><td>10023283211</td><td>furniture, home f...</td><td>0.18</td><td>e</td><td>Brianna Hart</td><td>850 Joshua Viaduc...</td><td>WA</td><td>6415</td><td>Female</td><td>10023283211</td><td>123.61804677878001</td><td>edc9c5b1-82a0-4ee...</td><td>2021-10-13</td><td>19278</td><td>15265</td></tr>\n",
       "<tr><td>Felis Limited</td><td>10023283211</td><td>furniture, home f...</td><td>0.18</td><td>e</td><td>Jose Frye</td><td>394 Matthews View...</td><td>NSW</td><td>2021</td><td>Male</td><td>10023283211</td><td>191.63853773963905</td><td>376cc026-5d91-498...</td><td>2021-07-04</td><td>5156</td><td>19115</td></tr>\n",
       "<tr><td>Felis Limited</td><td>10023283211</td><td>furniture, home f...</td><td>0.18</td><td>e</td><td>Matthew Waters</td><td>729 Harper Spring...</td><td>WA</td><td>6253</td><td>Male</td><td>10023283211</td><td>250.13111867397248</td><td>0220b2de-768c-49e...</td><td>2022-07-09</td><td>23774</td><td>20250</td></tr>\n",
       "</table>\n"
      ],
      "text/plain": [
       "+-------------+------------+--------------------+---------+--------------+---------------+--------------------+-----+--------+-----------+------------------+------------------+--------------------+--------------+-------+-----------+\n",
       "|merchant_name|merchant_abn|          categories|take_rate|revenue_levels|           name|             address|state|postcode|     gender|trans_merchant_abn|      dollar_value|            order_id|order_datetime|user_id|consumer_id|\n",
       "+-------------+------------+--------------------+---------+--------------+---------------+--------------------+-----+--------+-----------+------------------+------------------+--------------------+--------------+-------+-----------+\n",
       "|Felis Limited| 10023283211|furniture, home f...|     0.18|             e|Roberto Robbins|3146 Eric Turnpik...|  NSW|    2396|       Male|       10023283211| 74.68707218671928|b36e56d0-dbb2-479...|    2021-08-11|  23679|       6664|\n",
       "|Felis Limited| 10023283211|furniture, home f...|     0.18|             e|  Kelly Krueger|     039 Green Route|   WA|    6935|Undisclosed|       10023283211| 319.4986425058244|51798dc0-8a7b-4cd...|    2021-12-28|   2199|       8509|\n",
       "|Felis Limited| 10023283211|furniture, home f...|     0.18|             e|   Brianna Hart|850 Joshua Viaduc...|   WA|    6415|     Female|       10023283211|123.61804677878001|edc9c5b1-82a0-4ee...|    2021-10-13|  19278|      15265|\n",
       "|Felis Limited| 10023283211|furniture, home f...|     0.18|             e|      Jose Frye|394 Matthews View...|  NSW|    2021|       Male|       10023283211|191.63853773963905|376cc026-5d91-498...|    2021-07-04|   5156|      19115|\n",
       "|Felis Limited| 10023283211|furniture, home f...|     0.18|             e| Matthew Waters|729 Harper Spring...|   WA|    6253|       Male|       10023283211|250.13111867397248|0220b2de-768c-49e...|    2022-07-09|  23774|      20250|\n",
       "+-------------+------------+--------------------+---------+--------------+---------------+--------------------+-----+--------+-----------+------------------+------------------+--------------------+--------------+-------+-----------+"
      ]
     },
     "execution_count": 8,
     "metadata": {},
     "output_type": "execute_result"
    }
   ],
   "source": [
    "print(\"Counts for internal dataset: \", final_join.count())\n",
    "print(\"Schema for internal dataset: \")\n",
    "final_join.printSchema()\n",
    "final_join.limit(5)"
   ]
  },
  {
   "cell_type": "markdown",
   "id": "7b647f7a-e6b5-4b58-bfb2-2d671f23a976",
   "metadata": {},
   "source": [
    "[Discussion about internal dataset]"
   ]
  },
  {
   "cell_type": "markdown",
   "id": "cbe450b5-4f17-45d5-a8c2-e5bc6e0f3803",
   "metadata": {},
   "source": [
    "[Discussion about joins]"
   ]
  },
  {
   "cell_type": "code",
   "execution_count": 10,
   "id": "3156c235",
   "metadata": {},
   "outputs": [
    {
     "name": "stderr",
     "output_type": "stream",
     "text": [
      "                                                                                \r"
     ]
    },
    {
     "name": "stdout",
     "output_type": "stream",
     "text": [
      "Count of rows after joining transactions to user details:  8151372\n"
     ]
    },
    {
     "name": "stderr",
     "output_type": "stream",
     "text": [
      "                                                                                \r"
     ]
    },
    {
     "name": "stdout",
     "output_type": "stream",
     "text": [
      "Count of rows after joining consumer to above data:  8151372\n"
     ]
    },
    {
     "name": "stderr",
     "output_type": "stream",
     "text": [
      "[Stage 112:===================>                                   (7 + 13) / 20]\r"
     ]
    },
    {
     "name": "stdout",
     "output_type": "stream",
     "text": [
      "Count of rows after joining merchants to above data:  8151379\n"
     ]
    },
    {
     "name": "stderr",
     "output_type": "stream",
     "text": [
      "                                                                                \r"
     ]
    }
   ],
   "source": [
    "print(\"Count of rows after joining transactions to user details: \", trans_user.count())\n",
    "print(\"Count of rows after joining consumer to above data: \", add_consumer.count())\n",
    "print(\"Count of rows after joining merchants to above data: \", final_join.count())"
   ]
  },
  {
   "cell_type": "markdown",
   "id": "b883ff36-e7aa-48dc-b7d8-5669c556a815",
   "metadata": {},
   "source": [
    "### Observing Covid-19 Dataset"
   ]
  },
  {
   "cell_type": "code",
   "execution_count": null,
   "id": "8248c90b-b974-4632-a587-0577ca530bc6",
   "metadata": {},
   "outputs": [],
   "source": []
  }
 ],
 "metadata": {
  "kernelspec": {
   "display_name": "Python 3 (ipykernel)",
   "language": "python",
   "name": "python3"
  },
  "language_info": {
   "codemirror_mode": {
    "name": "ipython",
    "version": 3
   },
   "file_extension": ".py",
   "mimetype": "text/x-python",
   "name": "python",
   "nbconvert_exporter": "python",
   "pygments_lexer": "ipython3",
   "version": "3.10.2"
  }
 },
 "nbformat": 4,
 "nbformat_minor": 5
}
