{
 "cells": [
  {
   "cell_type": "code",
   "execution_count": null,
   "id": "e3c18f5e",
   "metadata": {},
   "outputs": [],
   "source": [
    "# Read in data from ETL.py file\n",
    "%run \"../scripts/ETL.py\""
   ]
  },
  {
   "cell_type": "code",
   "execution_count": 4,
   "id": "77132588-06b8-44bc-94c8-ff4cb1820465",
   "metadata": {},
   "outputs": [
    {
     "name": "stderr",
     "output_type": "stream",
     "text": [
      "                                                                                \r"
     ]
    },
    {
     "data": {
      "text/plain": [
       "14195505"
      ]
     },
     "execution_count": 4,
     "metadata": {},
     "output_type": "execute_result"
    }
   ],
   "source": [
    "# Download the covid and SA2 datasets \n",
    "%run \"../scripts/external_data_download.py\""
   ]
  },
  {
   "cell_type": "code",
   "execution_count": null,
   "id": "88c7c086-3909-4a2a-9ac4-12c2379b9d40",
   "metadata": {},
   "outputs": [],
   "source": [
    "# Download the covid and SA2 datasets \n",
    "%run \"../scripts/external_data_cleaning.py\""
   ]
  },
  {
   "cell_type": "markdown",
   "id": "250fa9e0",
   "metadata": {},
   "source": [
    "## Part 1: Loading Data"
   ]
  },
  {
   "cell_type": "code",
   "execution_count": 2,
   "id": "e0822f0f",
   "metadata": {},
   "outputs": [
    {
     "data": {
      "text/html": [
       "<table border='1'>\n",
       "<tr><th>name</th><th>address</th><th>state</th><th>postcode</th><th>gender</th><th>int_consumer_id</th></tr>\n",
       "<tr><td>Yolanda Williams</td><td>413 Haney Gardens...</td><td>WA</td><td>6935</td><td>Female</td><td>1195503</td></tr>\n",
       "<tr><td>Mary Smith</td><td>3764 Amber Oval</td><td>NSW</td><td>2782</td><td>Female</td><td>179208</td></tr>\n",
       "<tr><td>Jill Jones MD</td><td>40693 Henry Greens</td><td>NT</td><td>862</td><td>Female</td><td>1194530</td></tr>\n",
       "<tr><td>Lindsay Jimenez</td><td>00653 Davenport C...</td><td>NSW</td><td>2780</td><td>Female</td><td>154128</td></tr>\n",
       "<tr><td>Rebecca Blanchard</td><td>9271 Michael Mano...</td><td>WA</td><td>6355</td><td>Female</td><td>712975</td></tr>\n",
       "</table>\n"
      ],
      "text/plain": [
       "+-----------------+--------------------+-----+--------+------+---------------+\n",
       "|             name|             address|state|postcode|gender|int_consumer_id|\n",
       "+-----------------+--------------------+-----+--------+------+---------------+\n",
       "| Yolanda Williams|413 Haney Gardens...|   WA|    6935|Female|        1195503|\n",
       "|       Mary Smith|     3764 Amber Oval|  NSW|    2782|Female|         179208|\n",
       "|    Jill Jones MD|  40693 Henry Greens|   NT|     862|Female|        1194530|\n",
       "|  Lindsay Jimenez|00653 Davenport C...|  NSW|    2780|Female|         154128|\n",
       "|Rebecca Blanchard|9271 Michael Mano...|   WA|    6355|Female|         712975|\n",
       "+-----------------+--------------------+-----+--------+------+---------------+"
      ]
     },
     "execution_count": 2,
     "metadata": {},
     "output_type": "execute_result"
    }
   ],
   "source": [
    "tbl_consumer.limit(5)"
   ]
  },
  {
   "cell_type": "code",
   "execution_count": 3,
   "id": "82d7a9b3",
   "metadata": {},
   "outputs": [
    {
     "data": {
      "text/html": [
       "<table border='1'>\n",
       "<tr><th>merchant_name</th><th>merchant_abn</th><th>categories</th><th>take_rate</th><th>revenue_levels</th></tr>\n",
       "<tr><td>Felis Limited</td><td>10023283211</td><td>furniture, home f...</td><td>0.18</td><td>e</td></tr>\n",
       "<tr><td>Arcu Ac Orci Corp...</td><td>10142254217</td><td>cable, satellite,...</td><td>4.22</td><td>b</td></tr>\n",
       "<tr><td>Nunc Sed Company</td><td>10165489824</td><td>jewelry, watch, c...</td><td>4.4</td><td>b</td></tr>\n",
       "<tr><td>Ultricies Digniss...</td><td>10187291046</td><td>wAtch, clock, and...</td><td>3.29</td><td>b</td></tr>\n",
       "<tr><td>Enim Condimentum PC</td><td>10192359162</td><td>music shops - mus...</td><td>6.33</td><td>a</td></tr>\n",
       "</table>\n"
      ],
      "text/plain": [
       "+--------------------+------------+--------------------+---------+--------------+\n",
       "|       merchant_name|merchant_abn|          categories|take_rate|revenue_levels|\n",
       "+--------------------+------------+--------------------+---------+--------------+\n",
       "|       Felis Limited| 10023283211|furniture, home f...|     0.18|             e|\n",
       "|Arcu Ac Orci Corp...| 10142254217|cable, satellite,...|     4.22|             b|\n",
       "|    Nunc Sed Company| 10165489824|jewelry, watch, c...|      4.4|             b|\n",
       "|Ultricies Digniss...| 10187291046|wAtch, clock, and...|     3.29|             b|\n",
       "| Enim Condimentum PC| 10192359162|music shops - mus...|     6.33|             a|\n",
       "+--------------------+------------+--------------------+---------+--------------+"
      ]
     },
     "execution_count": 3,
     "metadata": {},
     "output_type": "execute_result"
    }
   ],
   "source": [
    "tbl_merchants.limit(5)"
   ]
  },
  {
   "cell_type": "code",
   "execution_count": 4,
   "id": "c9332446",
   "metadata": {},
   "outputs": [
    {
     "data": {
      "text/html": [
       "<table border='1'>\n",
       "<tr><th>user_id</th><th>consumer_id</th></tr>\n",
       "<tr><td>1</td><td>1195503</td></tr>\n",
       "<tr><td>2</td><td>179208</td></tr>\n",
       "<tr><td>3</td><td>1194530</td></tr>\n",
       "<tr><td>4</td><td>154128</td></tr>\n",
       "<tr><td>5</td><td>712975</td></tr>\n",
       "</table>\n"
      ],
      "text/plain": [
       "+-------+-----------+\n",
       "|user_id|consumer_id|\n",
       "+-------+-----------+\n",
       "|      1|    1195503|\n",
       "|      2|     179208|\n",
       "|      3|    1194530|\n",
       "|      4|     154128|\n",
       "|      5|     712975|\n",
       "+-------+-----------+"
      ]
     },
     "execution_count": 4,
     "metadata": {},
     "output_type": "execute_result"
    }
   ],
   "source": [
    "user_details.limit(5)"
   ]
  },
  {
   "cell_type": "code",
   "execution_count": 5,
   "id": "bd34a111",
   "metadata": {},
   "outputs": [
    {
     "name": "stderr",
     "output_type": "stream",
     "text": [
      "                                                                                \r"
     ]
    },
    {
     "data": {
      "text/html": [
       "<table border='1'>\n",
       "<tr><th>trans_user_id</th><th>trans_merchant_abn</th><th>dollar_value</th><th>order_id</th><th>order_datetime</th></tr>\n",
       "<tr><td>72</td><td>49322182190</td><td>125.34568695852914</td><td>6e581ca7-1bd9-49f...</td><td>2021-02-28</td></tr>\n",
       "<tr><td>19178</td><td>69418468754</td><td>287.5762580072778</td><td>c3f739c6-5b00-45a...</td><td>2021-02-28</td></tr>\n",
       "<tr><td>439</td><td>53126107676</td><td>121.00688402721032</td><td>02b3107f-6904-44b...</td><td>2021-02-28</td></tr>\n",
       "<tr><td>19010</td><td>46987545043</td><td>146.31743777244844</td><td>a13fdb4a-e670-445...</td><td>2021-02-28</td></tr>\n",
       "<tr><td>19028</td><td>20562405782</td><td>99.21268393783859</td><td>3a6ef3ec-1c1c-452...</td><td>2021-02-28</td></tr>\n",
       "</table>\n"
      ],
      "text/plain": [
       "+-------------+------------------+------------------+--------------------+--------------+\n",
       "|trans_user_id|trans_merchant_abn|      dollar_value|            order_id|order_datetime|\n",
       "+-------------+------------------+------------------+--------------------+--------------+\n",
       "|           72|       49322182190|125.34568695852914|6e581ca7-1bd9-49f...|    2021-02-28|\n",
       "|        19178|       69418468754| 287.5762580072778|c3f739c6-5b00-45a...|    2021-02-28|\n",
       "|          439|       53126107676|121.00688402721032|02b3107f-6904-44b...|    2021-02-28|\n",
       "|        19010|       46987545043|146.31743777244844|a13fdb4a-e670-445...|    2021-02-28|\n",
       "|        19028|       20562405782| 99.21268393783859|3a6ef3ec-1c1c-452...|    2021-02-28|\n",
       "+-------------+------------------+------------------+--------------------+--------------+"
      ]
     },
     "execution_count": 5,
     "metadata": {},
     "output_type": "execute_result"
    }
   ],
   "source": [
    "transactions.limit(5)"
   ]
  },
  {
   "cell_type": "markdown",
   "id": "02504935",
   "metadata": {},
   "source": [
    "## Part 2: Preliminary Analysis"
   ]
  },
  {
   "cell_type": "markdown",
   "id": "d28df6a2",
   "metadata": {},
   "source": [
    "### Observe counts and schemas of raw data"
   ]
  },
  {
   "cell_type": "code",
   "execution_count": 6,
   "id": "5928a637",
   "metadata": {},
   "outputs": [
    {
     "name": "stderr",
     "output_type": "stream",
     "text": [
      "[Stage 75:=====>                                                  (7 + 60) / 67]\r"
     ]
    },
    {
     "name": "stdout",
     "output_type": "stream",
     "text": [
      "Counts for transactions:  8151372\n",
      "Schema for transactions\n",
      "root\n",
      " |-- trans_user_id: long (nullable = true)\n",
      " |-- trans_merchant_abn: long (nullable = true)\n",
      " |-- dollar_value: double (nullable = true)\n",
      " |-- order_id: string (nullable = true)\n",
      " |-- order_datetime: date (nullable = true)\n",
      "\n"
     ]
    },
    {
     "name": "stderr",
     "output_type": "stream",
     "text": [
      "                                                                                \r"
     ]
    }
   ],
   "source": [
    "print(\"Counts for transactions: \", transactions.count())\n",
    "print(\"Schema for transactions\")\n",
    "transactions.printSchema()"
   ]
  },
  {
   "cell_type": "code",
   "execution_count": 7,
   "id": "6e16a7f2",
   "metadata": {},
   "outputs": [
    {
     "name": "stdout",
     "output_type": "stream",
     "text": [
      "Counts for user_details:  499999\n",
      "Schema for user_details\n",
      "root\n",
      " |-- user_id: long (nullable = true)\n",
      " |-- consumer_id: long (nullable = true)\n",
      "\n"
     ]
    }
   ],
   "source": [
    "print(\"Counts for user_details: \", user_details.count())\n",
    "print(\"Schema for user_details\")\n",
    "user_details.printSchema()"
   ]
  },
  {
   "cell_type": "code",
   "execution_count": 8,
   "id": "13191d24",
   "metadata": {},
   "outputs": [
    {
     "name": "stdout",
     "output_type": "stream",
     "text": [
      "Counts for tbl_merchants:  4026\n",
      "Schema for tbl_merchants\n",
      "root\n",
      " |-- merchant_name: string (nullable = true)\n",
      " |-- merchant_abn: long (nullable = true)\n",
      " |-- categories: string (nullable = true)\n",
      " |-- take_rate: double (nullable = true)\n",
      " |-- revenue_levels: string (nullable = true)\n",
      "\n"
     ]
    }
   ],
   "source": [
    "print(\"Counts for tbl_merchants: \", tbl_merchants.count())\n",
    "print(\"Schema for tbl_merchants\")\n",
    "tbl_merchants.printSchema()"
   ]
  },
  {
   "cell_type": "code",
   "execution_count": 9,
   "id": "741d5d06",
   "metadata": {},
   "outputs": [
    {
     "name": "stdout",
     "output_type": "stream",
     "text": [
      "Counts for tbl_consumer:  499999\n",
      "Schema for tbl_consumer\n",
      "root\n",
      " |-- name: string (nullable = true)\n",
      " |-- address: string (nullable = true)\n",
      " |-- state: string (nullable = true)\n",
      " |-- postcode: string (nullable = true)\n",
      " |-- gender: string (nullable = true)\n",
      " |-- int_consumer_id: long (nullable = true)\n",
      "\n"
     ]
    }
   ],
   "source": [
    "print(\"Counts for tbl_consumer: \", tbl_consumer.count())\n",
    "print(\"Schema for tbl_consumer\")\n",
    "tbl_consumer.printSchema()"
   ]
  },
  {
   "cell_type": "markdown",
   "id": "2bda0619",
   "metadata": {},
   "source": [
    "### Observe data after joins"
   ]
  },
  {
   "cell_type": "code",
   "execution_count": 10,
   "id": "3156c235",
   "metadata": {},
   "outputs": [
    {
     "name": "stderr",
     "output_type": "stream",
     "text": [
      "                                                                                \r"
     ]
    },
    {
     "name": "stdout",
     "output_type": "stream",
     "text": [
      "Count of rows after joining transactions to user details:  8151372\n"
     ]
    },
    {
     "name": "stderr",
     "output_type": "stream",
     "text": [
      "                                                                                \r"
     ]
    },
    {
     "name": "stdout",
     "output_type": "stream",
     "text": [
      "Count of rows after joining consumer to above data:  8151372\n"
     ]
    },
    {
     "name": "stderr",
     "output_type": "stream",
     "text": [
      "[Stage 112:===================>                                   (7 + 13) / 20]\r"
     ]
    },
    {
     "name": "stdout",
     "output_type": "stream",
     "text": [
      "Count of rows after joining merchants to above data:  8151379\n"
     ]
    },
    {
     "name": "stderr",
     "output_type": "stream",
     "text": [
      "                                                                                \r"
     ]
    }
   ],
   "source": [
    "print(\"Count of rows after joining transactions to user details: \", trans_user.count())\n",
    "print(\"Count of rows after joining consumer to above data: \", add_consumer.count())\n",
    "print(\"Count of rows after joining merchants to above data: \", final_join.count())"
   ]
  },
  {
   "cell_type": "code",
   "execution_count": 11,
   "id": "50c4da2f",
   "metadata": {},
   "outputs": [
    {
     "name": "stdout",
     "output_type": "stream",
     "text": [
      "root\n",
      " |-- merchant_name: string (nullable = true)\n",
      " |-- merchant_abn: long (nullable = true)\n",
      " |-- categories: string (nullable = true)\n",
      " |-- take_rate: double (nullable = true)\n",
      " |-- revenue_levels: string (nullable = true)\n",
      " |-- name: string (nullable = true)\n",
      " |-- address: string (nullable = true)\n",
      " |-- state: string (nullable = true)\n",
      " |-- postcode: string (nullable = true)\n",
      " |-- gender: string (nullable = true)\n",
      " |-- trans_merchant_abn: long (nullable = true)\n",
      " |-- dollar_value: double (nullable = true)\n",
      " |-- order_id: string (nullable = true)\n",
      " |-- order_datetime: date (nullable = true)\n",
      " |-- user_id: long (nullable = true)\n",
      " |-- consumer_id: long (nullable = true)\n",
      "\n"
     ]
    }
   ],
   "source": [
    "final_join.printSchema()"
   ]
  },
  {
   "cell_type": "code",
   "execution_count": null,
   "id": "25589cee-5933-4fea-b5cd-4bfc0b4ff974",
   "metadata": {},
   "outputs": [],
   "source": []
  }
 ],
 "metadata": {
  "kernelspec": {
   "display_name": "Python 3 (ipykernel)",
   "language": "python",
   "name": "python3"
  },
  "language_info": {
   "codemirror_mode": {
    "name": "ipython",
    "version": 3
   },
   "file_extension": ".py",
   "mimetype": "text/x-python",
   "name": "python",
   "nbconvert_exporter": "python",
   "pygments_lexer": "ipython3",
   "version": "3.10.2"
  }
 },
 "nbformat": 4,
 "nbformat_minor": 5
}
