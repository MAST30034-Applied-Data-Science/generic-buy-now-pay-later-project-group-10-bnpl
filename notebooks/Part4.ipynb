{
 "cells": [
  {
   "cell_type": "code",
   "execution_count": 1,
   "metadata": {},
   "outputs": [],
   "source": [
    "import geopandas as gpd\n",
    "import folium\n",
    "import pandas as pd"
   ]
  },
  {
   "cell_type": "code",
   "execution_count": null,
   "metadata": {},
   "outputs": [
    {
     "name": "stdout",
     "output_type": "stream",
     "text": [
      "22/09/15 14:41:43 WARN Utils: Your hostname, mast30034 resolves to a loopback address: 127.0.1.1; using 45.113.234.45 instead (on interface eth0)\n",
      "22/09/15 14:41:43 WARN Utils: Set SPARK_LOCAL_IP if you need to bind to another address\n"
     ]
    },
    {
     "name": "stderr",
     "output_type": "stream",
     "text": [
      "Setting default log level to \"WARN\".\n",
      "To adjust logging level use sc.setLogLevel(newLevel). For SparkR, use setLogLevel(newLevel).\n"
     ]
    },
    {
     "name": "stdout",
     "output_type": "stream",
     "text": [
      "22/09/15 14:41:43 WARN NativeCodeLoader: Unable to load native-hadoop library for your platform... using builtin-java classes where applicable\n",
      "22/09/15 14:41:44 WARN Utils: Service 'SparkUI' could not bind on port 4040. Attempting port 4041.\n",
      "22/09/15 14:41:44 WARN Utils: Service 'SparkUI' could not bind on port 4041. Attempting port 4042.\n"
     ]
    }
   ],
   "source": [
    "%run \"../scripts/ETL.py\""
   ]
  },
  {
   "cell_type": "code",
   "execution_count": null,
   "metadata": {},
   "outputs": [],
   "source": [
    "final_join.head()\n",
    "num_transactions_by_postcode = final_join.groupBy('postcode').count()\n",
    "num_transactions_by_postcode.head()"
   ]
  },
  {
   "cell_type": "code",
   "execution_count": null,
   "metadata": {},
   "outputs": [],
   "source": [
    "num_transactions_by_postcode.head()\n",
    "num_transactions_by_postcode.count()"
   ]
  },
  {
   "cell_type": "code",
   "execution_count": null,
   "metadata": {},
   "outputs": [],
   "source": [
    "postcodes_data1 = spark.read.option(\"header\", True).csv('../data/postcodes.csv')\n",
    "postcodes_data2 = postcodes_data1.withColumnRenamed('Postcode', 'postcode')\n",
    "postcodes_data = postcodes_data2.dropDuplicates(['postcode'])"
   ]
  },
  {
   "cell_type": "code",
   "execution_count": null,
   "metadata": {},
   "outputs": [],
   "source": [
    "transactions_location = num_transactions_by_postcode.join(postcodes_data,['postcode'], 'inner')\n",
    "transactions_location.head()\n"
   ]
  },
  {
   "cell_type": "code",
   "execution_count": null,
   "metadata": {},
   "outputs": [],
   "source": [
    "transactions_location.count()"
   ]
  },
  {
   "cell_type": "markdown",
   "metadata": {},
   "source": [
    "As we can see above - 30 postcodes in the transactions dataset were not found in the postcodes information dataset and hence their lattitude and longitude values were not retrieved"
   ]
  },
  {
   "cell_type": "code",
   "execution_count": null,
   "metadata": {},
   "outputs": [],
   "source": [
    "aus_coords = [-25.2744, 133.7751]\n",
    "m = folium.Map(aus_coords, tiles='OpenStreetMap', zoom_start=4.5)\n",
    "\n",
    "for index, row in transactions_location.toPandas().iterrows():\n",
    "    if row['count'] >= 5000:\n",
    "        marker_color = 'darkred'\n",
    "        fill_color = 'darkred'\n",
    "    elif row['count'] >= 1000:\n",
    "        marker_color = 'red'\n",
    "        fill_color = 'red'\n",
    "    elif row['count'] >= 500:\n",
    "        marker_color = 'lightred'\n",
    "        fill_color = 'lightred'\n",
    "    elif row['count'] >= 100:\n",
    "        marker_color = 'orange'\n",
    "        fill_color = 'orange'\n",
    "    elif row['count'] <= 50 :\n",
    "        marker_color = 'yellow'\n",
    "        fill_color = 'yellow'\n",
    "    else:\n",
    "        marker_color='darkpurple'\n",
    "        fill_color = 'darkpurple'\n",
    "        \n",
    "    folium.Circle(\n",
    "          location=[row['Lat'], row['Lon']],\n",
    "          popup= 'Number of transactions: ' +str(row['count']),\n",
    "          tooltip=row['Suburb'],\n",
    "          radius=row['count'],\n",
    "          color=marker_color,\n",
    "          fill=True,\n",
    "          fill_color=fill_color,\n",
    "       ).add_to(m)\n",
    "m"
   ]
  }
 ],
 "metadata": {
  "kernelspec": {
   "display_name": "Python 3 (Anaconda 3)",
   "language": "python",
   "name": "python3"
  },
  "language_info": {
   "codemirror_mode": {
    "name": "ipython",
    "version": 3
   },
   "file_extension": ".py",
   "mimetype": "text/x-python",
   "name": "python",
   "nbconvert_exporter": "python",
   "pygments_lexer": "ipython3",
   "version": "3.8.2"
  }
 },
 "nbformat": 4,
 "nbformat_minor": 4
}
