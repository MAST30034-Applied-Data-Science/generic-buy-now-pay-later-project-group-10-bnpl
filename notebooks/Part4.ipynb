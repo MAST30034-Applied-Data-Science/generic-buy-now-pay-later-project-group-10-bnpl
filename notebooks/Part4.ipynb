{
 "cells": [
  {
   "cell_type": "markdown",
   "id": "assumed-singer",
   "metadata": {},
   "source": [
    "## Part 4: Fraud"
   ]
  },
  {
   "cell_type": "code",
   "execution_count": 1,
   "id": "historic-absence",
   "metadata": {},
   "outputs": [],
   "source": [
    "%run \"../scripts/ETL.py\""
   ]
  },
  {
   "cell_type": "markdown",
   "id": "cleared-discharge",
   "metadata": {},
   "source": [
    "#### Consumer fraud data\n",
    "The consumer fraud data shows the list of transactions with the probability that the entire batch of transaction done by that consumer on that day could be considered fraudulent."
   ]
  },
  {
   "cell_type": "code",
   "execution_count": 2,
   "id": "helpful-aside",
   "metadata": {},
   "outputs": [
    {
     "name": "stdout",
     "output_type": "stream",
     "text": [
      "34864\n"
     ]
    },
    {
     "data": {
      "text/html": [
       "<table border='1'>\n",
       "<tr><th>user_id</th><th>order_datetime</th><th>fraud_probability</th></tr>\n",
       "<tr><td>6228</td><td>2021-12-19</td><td>97.6298077657765</td></tr>\n",
       "<tr><td>21419</td><td>2021-12-10</td><td>99.24738020302328</td></tr>\n",
       "<tr><td>5606</td><td>2021-10-17</td><td>84.05825045251777</td></tr>\n",
       "<tr><td>3101</td><td>2021-04-17</td><td>91.42192091901347</td></tr>\n",
       "<tr><td>22239</td><td>2021-10-19</td><td>94.70342477508035</td></tr>\n",
       "</table>\n"
      ],
      "text/plain": [
       "+-------+--------------+-----------------+\n",
       "|user_id|order_datetime|fraud_probability|\n",
       "+-------+--------------+-----------------+\n",
       "|   6228|    2021-12-19| 97.6298077657765|\n",
       "|  21419|    2021-12-10|99.24738020302328|\n",
       "|   5606|    2021-10-17|84.05825045251777|\n",
       "|   3101|    2021-04-17|91.42192091901347|\n",
       "|  22239|    2021-10-19|94.70342477508035|\n",
       "+-------+--------------+-----------------+"
      ]
     },
     "execution_count": 2,
     "metadata": {},
     "output_type": "execute_result"
    }
   ],
   "source": [
    "print(fraud_consumer.count())\n",
    "fraud_consumer.limit(5)"
   ]
  },
  {
   "cell_type": "markdown",
   "id": "confirmed-vegetable",
   "metadata": {},
   "source": [
    "#### Merchant fraud data\n",
    "The merchant fraud data shows the probability that the entire batch of transaction done with that merchant on that day could be considered fraudulent.\n",
    "This could happen when merchants are targeted by scalper bots or other attacks during sales (i.e. the consumers committed fraud for merchants whether on purpose or because their details were stolen)."
   ]
  },
  {
   "cell_type": "code",
   "execution_count": 3,
   "id": "drawn-concept",
   "metadata": {},
   "outputs": [
    {
     "name": "stdout",
     "output_type": "stream",
     "text": [
      "114\n"
     ]
    },
    {
     "data": {
      "text/html": [
       "<table border='1'>\n",
       "<tr><th>merchant_abn</th><th>order_datetime</th><th>fraud_probability</th></tr>\n",
       "<tr><td>19492220327</td><td>2021-11-28</td><td>44.403658647495355</td></tr>\n",
       "<tr><td>31334588839</td><td>2021-10-02</td><td>42.75530083865367</td></tr>\n",
       "<tr><td>19492220327</td><td>2021-12-22</td><td>38.867790051131095</td></tr>\n",
       "<tr><td>82999039227</td><td>2021-12-19</td><td>94.1347004808891</td></tr>\n",
       "<tr><td>90918180829</td><td>2021-09-02</td><td>43.32551731714902</td></tr>\n",
       "</table>\n"
      ],
      "text/plain": [
       "+------------+--------------+------------------+\n",
       "|merchant_abn|order_datetime| fraud_probability|\n",
       "+------------+--------------+------------------+\n",
       "| 19492220327|    2021-11-28|44.403658647495355|\n",
       "| 31334588839|    2021-10-02| 42.75530083865367|\n",
       "| 19492220327|    2021-12-22|38.867790051131095|\n",
       "| 82999039227|    2021-12-19|  94.1347004808891|\n",
       "| 90918180829|    2021-09-02| 43.32551731714902|\n",
       "+------------+--------------+------------------+"
      ]
     },
     "execution_count": 3,
     "metadata": {},
     "output_type": "execute_result"
    }
   ],
   "source": [
    "print(fraud_merchants.count())\n",
    "fraud_merchants.limit(5)"
   ]
  },
  {
   "cell_type": "markdown",
   "id": "capable-bearing",
   "metadata": {},
   "source": [
    "#### Dataset to join fraud data"
   ]
  },
  {
   "cell_type": "code",
   "execution_count": 4,
   "id": "everyday-brief",
   "metadata": {},
   "outputs": [
    {
     "data": {
      "text/html": [
       "<table border='1'>\n",
       "<tr><th>merchant_name</th><th>merchant_abn</th><th>categories</th><th>take_rate</th><th>revenue_levels</th><th>name</th><th>address</th><th>state</th><th>postcode</th><th>gender</th><th>trans_merchant_abn</th><th>dollar_value</th><th>order_id</th><th>order_datetime</th><th>user_id</th><th>consumer_id</th></tr>\n",
       "<tr><td>Mollis Corp.</td><td>12516851436</td><td>watch, clock, and...</td><td>6.71</td><td>a</td><td>Ashley Harris</td><td>84610 Amy Harbors</td><td>QLD</td><td>4184</td><td>Female</td><td>12516851436</td><td>285.1622236961745</td><td>eda709b9-dcd3-449...</td><td>2022-02-08</td><td>14971</td><td>1144223</td></tr>\n",
       "<tr><td>Mollis Corp.</td><td>12516851436</td><td>watch, clock, and...</td><td>6.71</td><td>a</td><td>William Ali</td><td>3166 Annette Port...</td><td>NSW</td><td>1022</td><td>Male</td><td>12516851436</td><td>75.4722398570927</td><td>92f8ad85-c6d8-409...</td><td>2022-08-13</td><td>20642</td><td>1153786</td></tr>\n",
       "<tr><td>Mollis Corp.</td><td>12516851436</td><td>watch, clock, and...</td><td>6.71</td><td>a</td><td>Anna Strickland</td><td>906 Pham Village ...</td><td>SA</td><td>5250</td><td>Female</td><td>12516851436</td><td>47.830718899387165</td><td>ab3d0252-d05f-44f...</td><td>2022-04-10</td><td>20311</td><td>1223293</td></tr>\n",
       "<tr><td>Mollis Corp.</td><td>12516851436</td><td>watch, clock, and...</td><td>6.71</td><td>a</td><td>Michael Bishop</td><td>98598 Murray Trai...</td><td>QLD</td><td>4580</td><td>Male</td><td>12516851436</td><td>259.43552349322687</td><td>0aad2674-03ee-4d8...</td><td>2022-03-25</td><td>22971</td><td>443950</td></tr>\n",
       "<tr><td>Mollis Corp.</td><td>12516851436</td><td>watch, clock, and...</td><td>6.71</td><td>a</td><td>Mary Diaz</td><td>4111 Jason Ville</td><td>SA</td><td>5038</td><td>Female</td><td>12516851436</td><td>62.60867338695297</td><td>dfb805b6-1aad-4ea...</td><td>2022-08-04</td><td>10575</td><td>626154</td></tr>\n",
       "</table>\n"
      ],
      "text/plain": [
       "+-------------+------------+--------------------+---------+--------------+---------------+--------------------+-----+--------+------+------------------+------------------+--------------------+--------------+-------+-----------+\n",
       "|merchant_name|merchant_abn|          categories|take_rate|revenue_levels|           name|             address|state|postcode|gender|trans_merchant_abn|      dollar_value|            order_id|order_datetime|user_id|consumer_id|\n",
       "+-------------+------------+--------------------+---------+--------------+---------------+--------------------+-----+--------+------+------------------+------------------+--------------------+--------------+-------+-----------+\n",
       "| Mollis Corp.| 12516851436|watch, clock, and...|     6.71|             a|  Ashley Harris|   84610 Amy Harbors|  QLD|    4184|Female|       12516851436| 285.1622236961745|eda709b9-dcd3-449...|    2022-02-08|  14971|    1144223|\n",
       "| Mollis Corp.| 12516851436|watch, clock, and...|     6.71|             a|    William Ali|3166 Annette Port...|  NSW|    1022|  Male|       12516851436|  75.4722398570927|92f8ad85-c6d8-409...|    2022-08-13|  20642|    1153786|\n",
       "| Mollis Corp.| 12516851436|watch, clock, and...|     6.71|             a|Anna Strickland|906 Pham Village ...|   SA|    5250|Female|       12516851436|47.830718899387165|ab3d0252-d05f-44f...|    2022-04-10|  20311|    1223293|\n",
       "| Mollis Corp.| 12516851436|watch, clock, and...|     6.71|             a| Michael Bishop|98598 Murray Trai...|  QLD|    4580|  Male|       12516851436|259.43552349322687|0aad2674-03ee-4d8...|    2022-03-25|  22971|     443950|\n",
       "| Mollis Corp.| 12516851436|watch, clock, and...|     6.71|             a|      Mary Diaz|    4111 Jason Ville|   SA|    5038|Female|       12516851436| 62.60867338695297|dfb805b6-1aad-4ea...|    2022-08-04|  10575|     626154|\n",
       "+-------------+------------+--------------------+---------+--------------+---------------+--------------------+-----+--------+------+------------------+------------------+--------------------+--------------+-------+-----------+"
      ]
     },
     "execution_count": 4,
     "metadata": {},
     "output_type": "execute_result"
    }
   ],
   "source": [
    "final_join.limit(5)"
   ]
  },
  {
   "cell_type": "markdown",
   "id": "included-telling",
   "metadata": {},
   "source": [
    "#### Join Fraud dataset to the processed transaction dataset"
   ]
  },
  {
   "cell_type": "markdown",
   "id": "changing-disclosure",
   "metadata": {},
   "source": [
    "- join consumer fraud to final join\n",
    "- create a version of final join with removed transactions from fraud\n",
    "- aggregate final join from transaction to merchant level\n",
    "- add fraud merchant as a feature to aggregated final join\n",
    "- treat fraud as response and try to create model to give other merchants a fraud score"
   ]
  },
  {
   "cell_type": "code",
   "execution_count": 5,
   "id": "coordinate-harbor",
   "metadata": {},
   "outputs": [
    {
     "data": {
      "text/html": [
       "<table border='1'>\n",
       "<tr><th>merchant_name</th><th>merchant_abn</th><th>categories</th><th>take_rate</th><th>revenue_levels</th><th>name</th><th>address</th><th>state</th><th>postcode</th><th>gender</th><th>trans_merchant_abn</th><th>dollar_value</th><th>order_id</th><th>order_datetime</th><th>user_id</th><th>consumer_id</th><th>user_id</th><th>order_datetime</th><th>fraud_probability</th></tr>\n",
       "<tr><td>Mollis Corp.</td><td>12516851436</td><td>watch, clock, and...</td><td>6.71</td><td>a</td><td>Ashley Harris</td><td>84610 Amy Harbors</td><td>QLD</td><td>4184</td><td>Female</td><td>12516851436</td><td>285.1622236961745</td><td>eda709b9-dcd3-449...</td><td>2022-02-08</td><td>14971</td><td>1144223</td><td>null</td><td>null</td><td>null</td></tr>\n",
       "<tr><td>Mollis Corp.</td><td>12516851436</td><td>watch, clock, and...</td><td>6.71</td><td>a</td><td>William Ali</td><td>3166 Annette Port...</td><td>NSW</td><td>1022</td><td>Male</td><td>12516851436</td><td>75.4722398570927</td><td>92f8ad85-c6d8-409...</td><td>2022-08-13</td><td>20642</td><td>1153786</td><td>null</td><td>null</td><td>null</td></tr>\n",
       "<tr><td>Mollis Corp.</td><td>12516851436</td><td>watch, clock, and...</td><td>6.71</td><td>a</td><td>Anna Strickland</td><td>906 Pham Village ...</td><td>SA</td><td>5250</td><td>Female</td><td>12516851436</td><td>47.830718899387165</td><td>ab3d0252-d05f-44f...</td><td>2022-04-10</td><td>20311</td><td>1223293</td><td>null</td><td>null</td><td>null</td></tr>\n",
       "<tr><td>Mollis Corp.</td><td>12516851436</td><td>watch, clock, and...</td><td>6.71</td><td>a</td><td>Michael Bishop</td><td>98598 Murray Trai...</td><td>QLD</td><td>4580</td><td>Male</td><td>12516851436</td><td>259.43552349322687</td><td>0aad2674-03ee-4d8...</td><td>2022-03-25</td><td>22971</td><td>443950</td><td>null</td><td>null</td><td>null</td></tr>\n",
       "<tr><td>Mollis Corp.</td><td>12516851436</td><td>watch, clock, and...</td><td>6.71</td><td>a</td><td>Mary Diaz</td><td>4111 Jason Ville</td><td>SA</td><td>5038</td><td>Female</td><td>12516851436</td><td>62.60867338695297</td><td>dfb805b6-1aad-4ea...</td><td>2022-08-04</td><td>10575</td><td>626154</td><td>null</td><td>null</td><td>null</td></tr>\n",
       "</table>\n"
      ],
      "text/plain": [
       "+-------------+------------+--------------------+---------+--------------+---------------+--------------------+-----+--------+------+------------------+------------------+--------------------+--------------+-------+-----------+-------+--------------+-----------------+\n",
       "|merchant_name|merchant_abn|          categories|take_rate|revenue_levels|           name|             address|state|postcode|gender|trans_merchant_abn|      dollar_value|            order_id|order_datetime|user_id|consumer_id|user_id|order_datetime|fraud_probability|\n",
       "+-------------+------------+--------------------+---------+--------------+---------------+--------------------+-----+--------+------+------------------+------------------+--------------------+--------------+-------+-----------+-------+--------------+-----------------+\n",
       "| Mollis Corp.| 12516851436|watch, clock, and...|     6.71|             a|  Ashley Harris|   84610 Amy Harbors|  QLD|    4184|Female|       12516851436| 285.1622236961745|eda709b9-dcd3-449...|    2022-02-08|  14971|    1144223|   null|          null|             null|\n",
       "| Mollis Corp.| 12516851436|watch, clock, and...|     6.71|             a|    William Ali|3166 Annette Port...|  NSW|    1022|  Male|       12516851436|  75.4722398570927|92f8ad85-c6d8-409...|    2022-08-13|  20642|    1153786|   null|          null|             null|\n",
       "| Mollis Corp.| 12516851436|watch, clock, and...|     6.71|             a|Anna Strickland|906 Pham Village ...|   SA|    5250|Female|       12516851436|47.830718899387165|ab3d0252-d05f-44f...|    2022-04-10|  20311|    1223293|   null|          null|             null|\n",
       "| Mollis Corp.| 12516851436|watch, clock, and...|     6.71|             a| Michael Bishop|98598 Murray Trai...|  QLD|    4580|  Male|       12516851436|259.43552349322687|0aad2674-03ee-4d8...|    2022-03-25|  22971|     443950|   null|          null|             null|\n",
       "| Mollis Corp.| 12516851436|watch, clock, and...|     6.71|             a|      Mary Diaz|    4111 Jason Ville|   SA|    5038|Female|       12516851436| 62.60867338695297|dfb805b6-1aad-4ea...|    2022-08-04|  10575|     626154|   null|          null|             null|\n",
       "+-------------+------------+--------------------+---------+--------------+---------------+--------------------+-----+--------+------+------------------+------------------+--------------------+--------------+-------+-----------+-------+--------------+-----------------+"
      ]
     },
     "execution_count": 5,
     "metadata": {},
     "output_type": "execute_result"
    }
   ],
   "source": [
    "# adding consumer fraud data\n",
    "fj_with_fraud = final_join.join(fraud_consumer, (final_join.user_id == fraud_consumer.user_id) \\\n",
    "                               & (final_join.order_datetime == fraud_consumer.order_datetime), \"left_outer\")\n",
    "fj_with_fraud.limit(5)"
   ]
  },
  {
   "cell_type": "code",
   "execution_count": null,
   "id": "hawaiian-officer",
   "metadata": {},
   "outputs": [],
   "source": [
    "# adding merchant fraud data\n",
    "fj_with_fraud = fj_with_fraud.join(fraud_merchants, (fj_with_fraud.merchant_abn == fraud_merchants.merchant_abn) \\\n",
    "                               & (fj_with_fraud.order_datetime == fraud_merchants.order_datetime), \"left_outer\")\n",
    "fj_with_fraud.limit(5)"
   ]
  },
  {
   "cell_type": "code",
   "execution_count": 22,
   "id": "hungarian-rental",
   "metadata": {},
   "outputs": [
    {
     "name": "stderr",
     "output_type": "stream",
     "text": [
      "                                                                                \r"
     ]
    },
    {
     "data": {
      "text/plain": [
       "14115157"
      ]
     },
     "execution_count": 22,
     "metadata": {},
     "output_type": "execute_result"
    }
   ],
   "source": [
    "fj_rem_fraud = fj_with_fraud.filter(\"fraud_probability is NULL\")\n",
    "fj_rem_fraud.count()"
   ]
  },
  {
   "cell_type": "code",
   "execution_count": 16,
   "id": "compressed-tourism",
   "metadata": {},
   "outputs": [
    {
     "name": "stderr",
     "output_type": "stream",
     "text": [
      "                                                                                \r"
     ]
    },
    {
     "data": {
      "text/plain": [
       "499999"
      ]
     },
     "execution_count": 16,
     "metadata": {},
     "output_type": "execute_result"
    }
   ],
   "source": [
    "user_details.count()"
   ]
  },
  {
   "cell_type": "code",
   "execution_count": 23,
   "id": "social-birth",
   "metadata": {},
   "outputs": [
    {
     "name": "stderr",
     "output_type": "stream",
     "text": [
      "                                                                                \r"
     ]
    },
    {
     "data": {
      "text/plain": [
       "14195505"
      ]
     },
     "execution_count": 23,
     "metadata": {},
     "output_type": "execute_result"
    }
   ],
   "source": [
    "final_join.count()"
   ]
  },
  {
   "cell_type": "code",
   "execution_count": 24,
   "id": "conventional-cologne",
   "metadata": {},
   "outputs": [
    {
     "data": {
      "text/html": [
       "<table border='1'>\n",
       "<tr><th>merchant_name</th><th>merchant_abn</th><th>categories</th><th>take_rate</th><th>revenue_levels</th></tr>\n",
       "<tr><td>Felis Limited</td><td>10023283211</td><td>furniture, home f...</td><td>0.18</td><td>e</td></tr>\n",
       "<tr><td>Arcu Ac Orci Corp...</td><td>10142254217</td><td>cable, satellite,...</td><td>4.22</td><td>b</td></tr>\n",
       "<tr><td>Nunc Sed Company</td><td>10165489824</td><td>jewelry, watch, c...</td><td>4.4</td><td>b</td></tr>\n",
       "<tr><td>Ultricies Digniss...</td><td>10187291046</td><td>wAtch, clock, and...</td><td>3.29</td><td>b</td></tr>\n",
       "<tr><td>Enim Condimentum PC</td><td>10192359162</td><td>music shops - mus...</td><td>6.33</td><td>a</td></tr>\n",
       "</table>\n"
      ],
      "text/plain": [
       "+--------------------+------------+--------------------+---------+--------------+\n",
       "|       merchant_name|merchant_abn|          categories|take_rate|revenue_levels|\n",
       "+--------------------+------------+--------------------+---------+--------------+\n",
       "|       Felis Limited| 10023283211|furniture, home f...|     0.18|             e|\n",
       "|Arcu Ac Orci Corp...| 10142254217|cable, satellite,...|     4.22|             b|\n",
       "|    Nunc Sed Company| 10165489824|jewelry, watch, c...|      4.4|             b|\n",
       "|Ultricies Digniss...| 10187291046|wAtch, clock, and...|     3.29|             b|\n",
       "| Enim Condimentum PC| 10192359162|music shops - mus...|     6.33|             a|\n",
       "+--------------------+------------+--------------------+---------+--------------+"
      ]
     },
     "execution_count": 24,
     "metadata": {},
     "output_type": "execute_result"
    }
   ],
   "source": [
    "tbl_merchants.limit(5)"
   ]
  },
  {
   "cell_type": "code",
   "execution_count": null,
   "id": "pregnant-drill",
   "metadata": {},
   "outputs": [],
   "source": []
  }
 ],
 "metadata": {
  "kernelspec": {
   "display_name": "Python 3",
   "language": "python",
   "name": "python3"
  },
  "language_info": {
   "codemirror_mode": {
    "name": "ipython",
    "version": 3
   },
   "file_extension": ".py",
   "mimetype": "text/x-python",
   "name": "python",
   "nbconvert_exporter": "python",
   "pygments_lexer": "ipython3",
   "version": "3.8.8"
  }
 },
 "nbformat": 4,
 "nbformat_minor": 5
}
