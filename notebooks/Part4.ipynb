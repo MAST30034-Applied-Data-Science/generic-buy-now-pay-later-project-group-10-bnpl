{
 "cells": [
  {
   "cell_type": "markdown",
   "id": "6c690c6f-a81e-4185-8184-808c90cf22b1",
   "metadata": {},
   "source": [
    "## Part 4: Fraud"
   ]
  },
  {
   "cell_type": "code",
   "execution_count": 1,
   "id": "d5f10c8d-30f8-4ea8-a070-bda4d104fb88",
   "metadata": {},
   "outputs": [
    {
     "name": "stdout",
     "output_type": "stream",
     "text": [
      "22/10/03 23:06:02 WARN Utils: Your hostname, Aishwaryas-MacBook-Air.local resolves to a loopback address: 127.0.0.1; using 172.16.6.81 instead (on interface en0)\n",
      "22/10/03 23:06:02 WARN Utils: Set SPARK_LOCAL_IP if you need to bind to another address\n"
     ]
    },
    {
     "name": "stderr",
     "output_type": "stream",
     "text": [
      "Setting default log level to \"WARN\".\n",
      "To adjust logging level use sc.setLogLevel(newLevel). For SparkR, use setLogLevel(newLevel).\n"
     ]
    },
    {
     "name": "stdout",
     "output_type": "stream",
     "text": [
      "22/10/03 23:06:02 WARN NativeCodeLoader: Unable to load native-hadoop library for your platform... using builtin-java classes where applicable\n"
     ]
    },
    {
     "name": "stderr",
     "output_type": "stream",
     "text": [
      "                                                                                \r"
     ]
    },
    {
     "ename": "AnalysisException",
     "evalue": "Cannot resolve column name \"postcodes\" among (id, postcode, locality, state, long, lat, dc, type, status, sa3, sa3name, sa4, sa4name, region, Lat_precise, Long_precise, SA1_MAINCODE_2011, SA1_MAINCODE_2016, SA2_MAINCODE_2016, SA2_NAME_2016, SA3_CODE_2016, SA3_NAME_2016, SA4_CODE_2016, SA4_NAME_2016, RA_2011, RA_2016, MMM_2015, MMM_2019, ced, altitude, chargezone, phn_code, phn_name, lgaregion, electorate, electoraterating)",
     "output_type": "error",
     "traceback": [
      "\u001b[0;31m---------------------------------------------------------------------------\u001b[0m",
      "\u001b[0;31mAnalysisException\u001b[0m                         Traceback (most recent call last)",
      "File \u001b[0;32m~/Desktop/ads_bnpl/scripts/ETL.py:118\u001b[0m, in \u001b[0;36m<module>\u001b[0;34m\u001b[0m\n\u001b[1;32m    116\u001b[0m postcode \u001b[38;5;241m=\u001b[39m postcode\u001b[38;5;241m.\u001b[39mdrop(F\u001b[38;5;241m.\u001b[39mcol(\u001b[38;5;124m\"\u001b[39m\u001b[38;5;124m_c0\u001b[39m\u001b[38;5;124m\"\u001b[39m))\n\u001b[1;32m    117\u001b[0m postcode_nonull \u001b[38;5;241m=\u001b[39m postcode\u001b[38;5;241m.\u001b[39mna\u001b[38;5;241m.\u001b[39mdrop()\n\u001b[0;32m--> 118\u001b[0m distinct \u001b[38;5;241m=\u001b[39m \u001b[43mpostcode_nonull\u001b[49m\u001b[38;5;241;43m.\u001b[39;49m\u001b[43mdropDuplicates\u001b[49m\u001b[43m(\u001b[49m\u001b[43m[\u001b[49m\u001b[38;5;124;43m\"\u001b[39;49m\u001b[38;5;124;43mpostcodes\u001b[39;49m\u001b[38;5;124;43m\"\u001b[39;49m\u001b[43m]\u001b[49m\u001b[43m)\u001b[49m\n\u001b[1;32m    120\u001b[0m final_join2 \u001b[38;5;241m=\u001b[39m final_join\u001b[38;5;241m.\u001b[39mjoin(distinct, final_join\u001b[38;5;241m.\u001b[39mpostcode \u001b[38;5;241m==\u001b[39m distinct\u001b[38;5;241m.\u001b[39mpostcodes, \u001b[38;5;124m\"\u001b[39m\u001b[38;5;124minner\u001b[39m\u001b[38;5;124m\"\u001b[39m) \\\n\u001b[1;32m    121\u001b[0m         \u001b[38;5;241m.\u001b[39mdrop(F\u001b[38;5;241m.\u001b[39mcol(\u001b[38;5;124m\"\u001b[39m\u001b[38;5;124mpostcodes\u001b[39m\u001b[38;5;124m\"\u001b[39m))\n\u001b[1;32m    123\u001b[0m final_join2 \u001b[38;5;241m=\u001b[39m final_join2\u001b[38;5;241m.\u001b[39mwithColumn(\u001b[38;5;124m\"\u001b[39m\u001b[38;5;124mint_SA2\u001b[39m\u001b[38;5;124m\"\u001b[39m, final_join2[\u001b[38;5;124m\"\u001b[39m\u001b[38;5;124mSA2\u001b[39m\u001b[38;5;124m\"\u001b[39m]\u001b[38;5;241m.\u001b[39mcast(IntegerType()))\u001b[38;5;241m.\u001b[39mdrop(F\u001b[38;5;241m.\u001b[39mcol(\u001b[38;5;124m\"\u001b[39m\u001b[38;5;124mSA2\u001b[39m\u001b[38;5;124m\"\u001b[39m))\n",
      "File \u001b[0;32m~/opt/anaconda3/lib/python3.9/site-packages/pyspark/sql/dataframe.py:2403\u001b[0m, in \u001b[0;36mDataFrame.dropDuplicates\u001b[0;34m(self, subset)\u001b[0m\n\u001b[1;32m   2401\u001b[0m     jdf \u001b[38;5;241m=\u001b[39m \u001b[38;5;28mself\u001b[39m\u001b[38;5;241m.\u001b[39m_jdf\u001b[38;5;241m.\u001b[39mdropDuplicates()\n\u001b[1;32m   2402\u001b[0m \u001b[38;5;28;01melse\u001b[39;00m:\n\u001b[0;32m-> 2403\u001b[0m     jdf \u001b[38;5;241m=\u001b[39m \u001b[38;5;28;43mself\u001b[39;49m\u001b[38;5;241;43m.\u001b[39;49m\u001b[43m_jdf\u001b[49m\u001b[38;5;241;43m.\u001b[39;49m\u001b[43mdropDuplicates\u001b[49m\u001b[43m(\u001b[49m\u001b[38;5;28;43mself\u001b[39;49m\u001b[38;5;241;43m.\u001b[39;49m\u001b[43m_jseq\u001b[49m\u001b[43m(\u001b[49m\u001b[43msubset\u001b[49m\u001b[43m)\u001b[49m\u001b[43m)\u001b[49m\n\u001b[1;32m   2404\u001b[0m \u001b[38;5;28;01mreturn\u001b[39;00m DataFrame(jdf, \u001b[38;5;28mself\u001b[39m\u001b[38;5;241m.\u001b[39msparkSession)\n",
      "File \u001b[0;32m~/opt/anaconda3/lib/python3.9/site-packages/py4j/java_gateway.py:1321\u001b[0m, in \u001b[0;36mJavaMember.__call__\u001b[0;34m(self, *args)\u001b[0m\n\u001b[1;32m   1315\u001b[0m command \u001b[38;5;241m=\u001b[39m proto\u001b[38;5;241m.\u001b[39mCALL_COMMAND_NAME \u001b[38;5;241m+\u001b[39m\\\n\u001b[1;32m   1316\u001b[0m     \u001b[38;5;28mself\u001b[39m\u001b[38;5;241m.\u001b[39mcommand_header \u001b[38;5;241m+\u001b[39m\\\n\u001b[1;32m   1317\u001b[0m     args_command \u001b[38;5;241m+\u001b[39m\\\n\u001b[1;32m   1318\u001b[0m     proto\u001b[38;5;241m.\u001b[39mEND_COMMAND_PART\n\u001b[1;32m   1320\u001b[0m answer \u001b[38;5;241m=\u001b[39m \u001b[38;5;28mself\u001b[39m\u001b[38;5;241m.\u001b[39mgateway_client\u001b[38;5;241m.\u001b[39msend_command(command)\n\u001b[0;32m-> 1321\u001b[0m return_value \u001b[38;5;241m=\u001b[39m \u001b[43mget_return_value\u001b[49m\u001b[43m(\u001b[49m\n\u001b[1;32m   1322\u001b[0m \u001b[43m    \u001b[49m\u001b[43manswer\u001b[49m\u001b[43m,\u001b[49m\u001b[43m \u001b[49m\u001b[38;5;28;43mself\u001b[39;49m\u001b[38;5;241;43m.\u001b[39;49m\u001b[43mgateway_client\u001b[49m\u001b[43m,\u001b[49m\u001b[43m \u001b[49m\u001b[38;5;28;43mself\u001b[39;49m\u001b[38;5;241;43m.\u001b[39;49m\u001b[43mtarget_id\u001b[49m\u001b[43m,\u001b[49m\u001b[43m \u001b[49m\u001b[38;5;28;43mself\u001b[39;49m\u001b[38;5;241;43m.\u001b[39;49m\u001b[43mname\u001b[49m\u001b[43m)\u001b[49m\n\u001b[1;32m   1324\u001b[0m \u001b[38;5;28;01mfor\u001b[39;00m temp_arg \u001b[38;5;129;01min\u001b[39;00m temp_args:\n\u001b[1;32m   1325\u001b[0m     temp_arg\u001b[38;5;241m.\u001b[39m_detach()\n",
      "File \u001b[0;32m~/opt/anaconda3/lib/python3.9/site-packages/pyspark/sql/utils.py:196\u001b[0m, in \u001b[0;36mcapture_sql_exception.<locals>.deco\u001b[0;34m(*a, **kw)\u001b[0m\n\u001b[1;32m    192\u001b[0m converted \u001b[38;5;241m=\u001b[39m convert_exception(e\u001b[38;5;241m.\u001b[39mjava_exception)\n\u001b[1;32m    193\u001b[0m \u001b[38;5;28;01mif\u001b[39;00m \u001b[38;5;129;01mnot\u001b[39;00m \u001b[38;5;28misinstance\u001b[39m(converted, UnknownException):\n\u001b[1;32m    194\u001b[0m     \u001b[38;5;66;03m# Hide where the exception came from that shows a non-Pythonic\u001b[39;00m\n\u001b[1;32m    195\u001b[0m     \u001b[38;5;66;03m# JVM exception message.\u001b[39;00m\n\u001b[0;32m--> 196\u001b[0m     \u001b[38;5;28;01mraise\u001b[39;00m converted \u001b[38;5;28;01mfrom\u001b[39;00m \u001b[38;5;28mNone\u001b[39m\n\u001b[1;32m    197\u001b[0m \u001b[38;5;28;01melse\u001b[39;00m:\n\u001b[1;32m    198\u001b[0m     \u001b[38;5;28;01mraise\u001b[39;00m\n",
      "\u001b[0;31mAnalysisException\u001b[0m: Cannot resolve column name \"postcodes\" among (id, postcode, locality, state, long, lat, dc, type, status, sa3, sa3name, sa4, sa4name, region, Lat_precise, Long_precise, SA1_MAINCODE_2011, SA1_MAINCODE_2016, SA2_MAINCODE_2016, SA2_NAME_2016, SA3_CODE_2016, SA3_NAME_2016, SA4_CODE_2016, SA4_NAME_2016, RA_2011, RA_2016, MMM_2015, MMM_2019, ced, altitude, chargezone, phn_code, phn_name, lgaregion, electorate, electoraterating)"
     ]
    }
   ],
   "source": [
    "%run \"../scripts/ETL.py\""
   ]
  },
  {
   "cell_type": "markdown",
   "id": "4f0e5941-27dd-43d9-8053-dc518b9f8f5e",
   "metadata": {},
   "source": [
    "The consumer fraud data shows the list of transactions with a high probability of being fraudulent, and therefore should be considered invalid."
   ]
  },
  {
   "cell_type": "code",
   "execution_count": 2,
   "id": "7ce97a92-b69c-454b-803d-d31b0c8892d5",
   "metadata": {},
   "outputs": [
    {
     "name": "stdout",
     "output_type": "stream",
     "text": [
      "34864\n"
     ]
    },
    {
     "data": {
      "text/html": [
       "<table border='1'>\n",
       "<tr><th>user_id_1</th><th>order_datetime_1</th><th>cons_fraud_prob</th></tr>\n",
       "<tr><td>6228</td><td>2021-12-19</td><td>97.6298077657765</td></tr>\n",
       "<tr><td>21419</td><td>2021-12-10</td><td>99.24738020302328</td></tr>\n",
       "<tr><td>5606</td><td>2021-10-17</td><td>84.05825045251777</td></tr>\n",
       "<tr><td>3101</td><td>2021-04-17</td><td>91.42192091901347</td></tr>\n",
       "<tr><td>22239</td><td>2021-10-19</td><td>94.70342477508035</td></tr>\n",
       "</table>\n"
      ],
      "text/plain": [
       "+---------+----------------+-----------------+\n",
       "|user_id_1|order_datetime_1|  cons_fraud_prob|\n",
       "+---------+----------------+-----------------+\n",
       "|     6228|      2021-12-19| 97.6298077657765|\n",
       "|    21419|      2021-12-10|99.24738020302328|\n",
       "|     5606|      2021-10-17|84.05825045251777|\n",
       "|     3101|      2021-04-17|91.42192091901347|\n",
       "|    22239|      2021-10-19|94.70342477508035|\n",
       "+---------+----------------+-----------------+"
      ]
     },
     "execution_count": 2,
     "metadata": {},
     "output_type": "execute_result"
    }
   ],
   "source": [
    "print(fraud_consumer.count())\n",
    "fraud_consumer = fraud_consumer.withColumnRenamed(\"fraud_probability\",\"cons_fraud_prob\").withColumnRenamed(\"order_datetime\",\"order_datetime_1\").withColumnRenamed(\"user_id\",\"user_id_1\")\n",
    "fraud_consumer.limit(5)"
   ]
  },
  {
   "cell_type": "markdown",
   "id": "77f4aa03-294e-4601-b785-7a4e7bf4a8f4",
   "metadata": {},
   "source": [
    "Probability of fraud for high revenue merchants...?"
   ]
  },
  {
   "cell_type": "code",
   "execution_count": 3,
   "id": "c05d9aeb-5fbd-4f63-8d64-60d744f7ea23",
   "metadata": {},
   "outputs": [
    {
     "name": "stdout",
     "output_type": "stream",
     "text": [
      "114\n"
     ]
    },
    {
     "data": {
      "text/html": [
       "<table border='1'>\n",
       "<tr><th>merchant_abn_1</th><th>order_datetime</th><th>merch_fraud_prob</th></tr>\n",
       "<tr><td>19492220327</td><td>2021-11-28</td><td>44.403658647495355</td></tr>\n",
       "<tr><td>31334588839</td><td>2021-10-02</td><td>42.75530083865367</td></tr>\n",
       "<tr><td>19492220327</td><td>2021-12-22</td><td>38.867790051131095</td></tr>\n",
       "<tr><td>82999039227</td><td>2021-12-19</td><td>94.1347004808891</td></tr>\n",
       "<tr><td>90918180829</td><td>2021-09-02</td><td>43.32551731714902</td></tr>\n",
       "</table>\n"
      ],
      "text/plain": [
       "+--------------+--------------+------------------+\n",
       "|merchant_abn_1|order_datetime|  merch_fraud_prob|\n",
       "+--------------+--------------+------------------+\n",
       "|   19492220327|    2021-11-28|44.403658647495355|\n",
       "|   31334588839|    2021-10-02| 42.75530083865367|\n",
       "|   19492220327|    2021-12-22|38.867790051131095|\n",
       "|   82999039227|    2021-12-19|  94.1347004808891|\n",
       "|   90918180829|    2021-09-02| 43.32551731714902|\n",
       "+--------------+--------------+------------------+"
      ]
     },
     "execution_count": 3,
     "metadata": {},
     "output_type": "execute_result"
    }
   ],
   "source": [
    "print(fraud_merchants.count())\n",
    "fraud_merchants = fraud_merchants.withColumnRenamed(\"merchant_abn\",\"merchant_abn_1\").withColumnRenamed(\"fraud_probability\",\"merch_fraud_prob\")\n",
    "fraud_merchants.limit(5)"
   ]
  },
  {
   "cell_type": "code",
   "execution_count": 4,
   "id": "c412e613-c33a-4f60-845d-1beeab85eb42",
   "metadata": {},
   "outputs": [
    {
     "name": "stderr",
     "output_type": "stream",
     "text": [
      "                                                                                \r"
     ]
    },
    {
     "data": {
      "text/html": [
       "<table border='1'>\n",
       "<tr><th>merchant_abn</th><th>categories</th><th>revenue_levels</th><th>dollar_value</th><th>user_id</th><th>consumer_id</th></tr>\n",
       "<tr><td>10023283211</td><td>furniture, home f...</td><td>e</td><td>69.90225010580168</td><td>1859</td><td>797884</td></tr>\n",
       "<tr><td>10023283211</td><td>furniture, home f...</td><td>e</td><td>277.5959492940812</td><td>19083</td><td>1250662</td></tr>\n",
       "<tr><td>10023283211</td><td>furniture, home f...</td><td>e</td><td>218.0471981318539</td><td>14673</td><td>349420</td></tr>\n",
       "<tr><td>10023283211</td><td>furniture, home f...</td><td>e</td><td>429.13905563051316</td><td>10932</td><td>1412788</td></tr>\n",
       "<tr><td>10023283211</td><td>furniture, home f...</td><td>e</td><td>105.48434125775125</td><td>18249</td><td>1314551</td></tr>\n",
       "</table>\n"
      ],
      "text/plain": [
       "+------------+--------------------+--------------+------------------+-------+-----------+\n",
       "|merchant_abn|          categories|revenue_levels|      dollar_value|user_id|consumer_id|\n",
       "+------------+--------------------+--------------+------------------+-------+-----------+\n",
       "| 10023283211|furniture, home f...|             e| 69.90225010580168|   1859|     797884|\n",
       "| 10023283211|furniture, home f...|             e| 277.5959492940812|  19083|    1250662|\n",
       "| 10023283211|furniture, home f...|             e| 218.0471981318539|  14673|     349420|\n",
       "| 10023283211|furniture, home f...|             e|429.13905563051316|  10932|    1412788|\n",
       "| 10023283211|furniture, home f...|             e|105.48434125775125|  18249|    1314551|\n",
       "+------------+--------------------+--------------+------------------+-------+-----------+"
      ]
     },
     "execution_count": 4,
     "metadata": {},
     "output_type": "execute_result"
    }
   ],
   "source": [
    "\n",
    "merchant_data = final_join.select(\"merchant_abn\", \"categories\",\"revenue_levels\",\"dollar_value\",\"user_id\",\"consumer_id\")\n",
    "merchant_data.limit(5)"
   ]
  },
  {
   "cell_type": "markdown",
   "id": "0098af9c-7342-446b-88bd-8379df553888",
   "metadata": {},
   "source": [
    "- join consumer fraud to final join\n",
    "- create a version of final join with removed transactions from fraud\n",
    "- aggregate final join from transaction to merchant level\n",
    "- add fraud merchant as a feature to aggregated final join\n",
    "- treat fraud as response and try to create model to give other merchants a fraud score"
   ]
  },
  {
   "cell_type": "code",
   "execution_count": 5,
   "id": "02b5d0a6",
   "metadata": {},
   "outputs": [
    {
     "name": "stderr",
     "output_type": "stream",
     "text": [
      "                                                                                \r"
     ]
    },
    {
     "data": {
      "text/html": [
       "<table border='1'>\n",
       "<tr><th>merchant_abn</th><th>categories</th><th>revenue_levels</th><th>dollar_value</th><th>user_id</th><th>consumer_id</th><th>user_id_1</th><th>order_datetime_1</th><th>cons_fraud_prob</th></tr>\n",
       "<tr><td>11237511112</td><td>opticians, optica...</td><td>c</td><td>86.43306925925785</td><td>15</td><td>1463076</td><td>15</td><td>2021-11-27</td><td>16.99959017524405</td></tr>\n",
       "<tr><td>21439773999</td><td>cable, satellite,...</td><td>a</td><td>110.0283925711613</td><td>18569</td><td>1417071</td><td>18569</td><td>2021-12-22</td><td>9.420406825263207</td></tr>\n",
       "<tr><td>46298404088</td><td>books, periodical...</td><td>a</td><td>63.71506278687261</td><td>18651</td><td>1362176</td><td>18651</td><td>2021-09-15</td><td>11.241168015565329</td></tr>\n",
       "<tr><td>46298404088</td><td>books, periodical...</td><td>a</td><td>63.71506278687261</td><td>18651</td><td>1362176</td><td>18651</td><td>2022-01-22</td><td>14.042996949112718</td></tr>\n",
       "<tr><td>46298404088</td><td>books, periodical...</td><td>a</td><td>63.71506278687261</td><td>18651</td><td>1362176</td><td>18651</td><td>2022-02-11</td><td>14.871507132407407</td></tr>\n",
       "</table>\n"
      ],
      "text/plain": [
       "+------------+--------------------+--------------+-----------------+-------+-----------+---------+----------------+------------------+\n",
       "|merchant_abn|          categories|revenue_levels|     dollar_value|user_id|consumer_id|user_id_1|order_datetime_1|   cons_fraud_prob|\n",
       "+------------+--------------------+--------------+-----------------+-------+-----------+---------+----------------+------------------+\n",
       "| 11237511112|opticians, optica...|             c|86.43306925925785|     15|    1463076|       15|      2021-11-27| 16.99959017524405|\n",
       "| 21439773999|cable, satellite,...|             a|110.0283925711613|  18569|    1417071|    18569|      2021-12-22| 9.420406825263207|\n",
       "| 46298404088|books, periodical...|             a|63.71506278687261|  18651|    1362176|    18651|      2021-09-15|11.241168015565329|\n",
       "| 46298404088|books, periodical...|             a|63.71506278687261|  18651|    1362176|    18651|      2022-01-22|14.042996949112718|\n",
       "| 46298404088|books, periodical...|             a|63.71506278687261|  18651|    1362176|    18651|      2022-02-11|14.871507132407407|\n",
       "+------------+--------------------+--------------+-----------------+-------+-----------+---------+----------------+------------------+"
      ]
     },
     "execution_count": 5,
     "metadata": {},
     "output_type": "execute_result"
    }
   ],
   "source": [
    "#Joining consumer fraud, merchant data, and merchant fraud data to one datatset: \n",
    "\n",
    "#Joining consumer fraud and merchant data together\n",
    "\n",
    "merchant_data.createOrReplaceTempView(\"temp\")\n",
    "\n",
    "fraud_consumer.createOrReplaceTempView(\"temp2\")\n",
    "\n",
    "join_1 = spark.sql(\"\"\" \n",
    "\n",
    "SELECT *\n",
    "FROM temp\n",
    "\n",
    "INNER JOIN temp2\n",
    "\n",
    "ON temp.user_id = temp2.user_id_1 \n",
    "\"\"\")\n",
    "join_1.limit(5)"
   ]
  },
  {
   "cell_type": "code",
   "execution_count": 6,
   "id": "cc6a9c12",
   "metadata": {},
   "outputs": [
    {
     "name": "stderr",
     "output_type": "stream",
     "text": [
      "                                                                                \r"
     ]
    },
    {
     "data": {
      "text/html": [
       "<table border='1'>\n",
       "<tr><th>merchant_abn</th><th>categories</th><th>revenue_levels</th><th>dollar_value</th><th>user_id</th><th>consumer_id</th><th>user_id_1</th><th>order_datetime_1</th><th>cons_fraud_prob</th><th>merchant_abn_1</th><th>order_datetime</th><th>merch_fraud_prob</th></tr>\n",
       "<tr><td>21439773999</td><td>cable, satellite,...</td><td>a</td><td>110.0283925711613</td><td>18569</td><td>1417071</td><td>18569</td><td>2021-12-22</td><td>9.420406825263207</td><td>21439773999</td><td>2021-11-26</td><td>28.504479048104585</td></tr>\n",
       "<tr><td>96680767841</td><td>motor vehicle sup...</td><td>a</td><td>244.19185320012286</td><td>20924</td><td>1051408</td><td>20924</td><td>2022-02-17</td><td>9.76740823700797</td><td>96680767841</td><td>2021-11-26</td><td>29.555244690425017</td></tr>\n",
       "<tr><td>18158387243</td><td>health and beauty...</td><td>c</td><td>860.3282463138394</td><td>15655</td><td>375574</td><td>15655</td><td>2022-02-10</td><td>11.94169979516484</td><td>18158387243</td><td>2021-11-29</td><td>28.956947892226466</td></tr>\n",
       "<tr><td>18158387243</td><td>health and beauty...</td><td>c</td><td>860.3282463138394</td><td>15655</td><td>375574</td><td>15655</td><td>2022-02-10</td><td>11.94169979516484</td><td>18158387243</td><td>2021-11-26</td><td>29.102418916409913</td></tr>\n",
       "<tr><td>18158387243</td><td>health and beauty...</td><td>c</td><td>860.3282463138394</td><td>15655</td><td>375574</td><td>15655</td><td>2022-01-14</td><td>13.321204535044247</td><td>18158387243</td><td>2021-11-29</td><td>28.956947892226466</td></tr>\n",
       "</table>\n"
      ],
      "text/plain": [
       "+------------+--------------------+--------------+------------------+-------+-----------+---------+----------------+------------------+--------------+--------------+------------------+\n",
       "|merchant_abn|          categories|revenue_levels|      dollar_value|user_id|consumer_id|user_id_1|order_datetime_1|   cons_fraud_prob|merchant_abn_1|order_datetime|  merch_fraud_prob|\n",
       "+------------+--------------------+--------------+------------------+-------+-----------+---------+----------------+------------------+--------------+--------------+------------------+\n",
       "| 21439773999|cable, satellite,...|             a| 110.0283925711613|  18569|    1417071|    18569|      2021-12-22| 9.420406825263207|   21439773999|    2021-11-26|28.504479048104585|\n",
       "| 96680767841|motor vehicle sup...|             a|244.19185320012286|  20924|    1051408|    20924|      2022-02-17|  9.76740823700797|   96680767841|    2021-11-26|29.555244690425017|\n",
       "| 18158387243|health and beauty...|             c| 860.3282463138394|  15655|     375574|    15655|      2022-02-10| 11.94169979516484|   18158387243|    2021-11-29|28.956947892226466|\n",
       "| 18158387243|health and beauty...|             c| 860.3282463138394|  15655|     375574|    15655|      2022-02-10| 11.94169979516484|   18158387243|    2021-11-26|29.102418916409913|\n",
       "| 18158387243|health and beauty...|             c| 860.3282463138394|  15655|     375574|    15655|      2022-01-14|13.321204535044247|   18158387243|    2021-11-29|28.956947892226466|\n",
       "+------------+--------------------+--------------+------------------+-------+-----------+---------+----------------+------------------+--------------+--------------+------------------+"
      ]
     },
     "execution_count": 6,
     "metadata": {},
     "output_type": "execute_result"
    }
   ],
   "source": [
    "#Joining join_1 to merchant fraud \n",
    "\n",
    "#Joining all test + predicting Sets Together \n",
    "join_1.createOrReplaceTempView(\"temp\")\n",
    "\n",
    "fraud_merchants.createOrReplaceTempView(\"temp2\")\n",
    "\n",
    "final_join = spark.sql(\"\"\" \n",
    "\n",
    "SELECT *\n",
    "FROM temp\n",
    "\n",
    "\n",
    "INNER JOIN temp2\n",
    "\n",
    "ON temp.merchant_abn = temp2.merchant_abn_1\n",
    "\"\"\")\n",
    "final_join.limit(5)"
   ]
  },
  {
   "cell_type": "code",
   "execution_count": 14,
   "id": "2915f3ae",
   "metadata": {},
   "outputs": [],
   "source": [
    "#Changing all null probability values to 0.01: \n",
    "\n",
    "MIN_P = 0.01\n",
    "final_join = final_join.fillna(MIN_P, subset=[\"cons_fraud_prob\", \"merch_fraud_prob\"])"
   ]
  },
  {
   "cell_type": "code",
   "execution_count": 8,
   "id": "03cbee54",
   "metadata": {},
   "outputs": [],
   "source": [
    "#Selecting columns for model: \n",
    "\n",
    "model_data = final_join.select(\"cons_fraud_prob\", \"merch_fraud_prob\")"
   ]
  },
  {
   "cell_type": "code",
   "execution_count": 35,
   "id": "71cc8c2e",
   "metadata": {},
   "outputs": [],
   "source": [
    "#Changing data types from string to float: \n",
    "from pyspark.sql.types import DoubleType\n",
    "model_data = model_data.withColumn(\"cons_fraud_prob\",col(\"cons_fraud_prob\").cast(DoubleType())) \\\n",
    ".withColumn(\"merch_fraud_prob\",col(\"merch_fraud_prob\").cast(DoubleType()))"
   ]
  },
  {
   "cell_type": "code",
   "execution_count": 36,
   "id": "edf8d2ec",
   "metadata": {},
   "outputs": [],
   "source": [
    "# Vectorizing \n",
    "from pyspark.ml.feature import VectorAssembler\n",
    "assembler1 = VectorAssembler(\n",
    "inputCols=[\"cons_fraud_prob\", \"merch_fraud_prob\"],\n",
    "outputCol= \"features\")\n",
    "\n",
    "transformed_model = assembler1.transform(model_data)"
   ]
  },
  {
   "cell_type": "code",
   "execution_count": 46,
   "id": "c22d8098",
   "metadata": {},
   "outputs": [
    {
     "name": "stderr",
     "output_type": "stream",
     "text": [
      "                                                                                \r"
     ]
    },
    {
     "name": "stdout",
     "output_type": "stream",
     "text": [
      "Gaussians shown as a DataFrame: \n",
      "+---------------------------------------+--------------------------------------------------------------------------------------+\n",
      "|mean                                   |cov                                                                                   |\n",
      "+---------------------------------------+--------------------------------------------------------------------------------------+\n",
      "|[15.748566641442878,38.748537873949616]|78.85396613365751   0.5585279507501096  \\n0.5585279507501096  144.90762629222507      |\n",
      "|[27.926429462440662,29.173328490648014]|217.58438955775452  0.3747015977880894  \\n0.3747015977880894  1.1570800189030341      |\n",
      "|[11.444691905180804,29.159257822363525]|6.9975005509476915   0.08279856656877138  \\n0.08279856656877138  0.8943562927790535   |\n",
      "+---------------------------------------+--------------------------------------------------------------------------------------+\n",
      "\n"
     ]
    }
   ],
   "source": [
    "from pyspark.ml.clustering import GaussianMixture\n",
    "from pyspark.ml.linalg import Vectors\n",
    "\n",
    "gmm = GaussianMixture().setK(3).setSeed(14)\n",
    "model = gmm.fit(transformed_model)\n",
    "\n",
    "print(\"Gaussians shown as a DataFrame: \")\n",
    "model.gaussiansDF.show(truncate=False)"
   ]
  },
  {
   "cell_type": "code",
   "execution_count": 50,
   "id": "553fdd01",
   "metadata": {},
   "outputs": [
    {
     "name": "stdout",
     "output_type": "stream",
     "text": [
      "Cluster Centers: \n",
      "p\n",
      "r\n",
      "e\n",
      "d\n",
      "i\n",
      "c\n",
      "t\n",
      "i\n",
      "o\n",
      "n\n"
     ]
    }
   ],
   "source": [
    "centers = model.getPredictionCol()\n",
    "print(\"Cluster Centers: \")\n",
    "for center in centers:\n",
    "    print(center)"
   ]
  },
  {
   "cell_type": "code",
   "execution_count": 42,
   "id": "a4c84d66",
   "metadata": {},
   "outputs": [
    {
     "data": {
      "text/html": [
       "<table border='1'>\n",
       "<tr><th>mean</th><th>cov</th></tr>\n",
       "<tr><td>[15.7485666414428...</td><td>78.85396613365751...</td></tr>\n",
       "<tr><td>[27.9264294624406...</td><td>217.5843895577545...</td></tr>\n",
       "<tr><td>[11.4446919051808...</td><td>6.997500550947691...</td></tr>\n",
       "</table>\n"
      ],
      "text/plain": [
       "+--------------------+--------------------+\n",
       "|                mean|                 cov|\n",
       "+--------------------+--------------------+\n",
       "|[15.7485666414428...|78.85396613365751...|\n",
       "|[27.9264294624406...|217.5843895577545...|\n",
       "|[11.4446919051808...|6.997500550947691...|\n",
       "+--------------------+--------------------+"
      ]
     },
     "execution_count": 42,
     "metadata": {},
     "output_type": "execute_result"
    }
   ],
   "source": [
    "model.gaussiansDF.limit(5)"
   ]
  },
  {
   "cell_type": "markdown",
   "id": "29b5161f",
   "metadata": {},
   "source": []
  }
 ],
 "metadata": {
  "kernelspec": {
   "display_name": "Python 3 (ipykernel)",
   "language": "python",
   "name": "python3"
  },
  "language_info": {
   "codemirror_mode": {
    "name": "ipython",
    "version": 3
   },
   "file_extension": ".py",
   "mimetype": "text/x-python",
   "name": "python",
   "nbconvert_exporter": "python",
   "pygments_lexer": "ipython3",
   "version": "3.9.7"
  },
  "vscode": {
   "interpreter": {
    "hash": "9950f655f935e9d386631456d48ab2fdbfd1f3b11a4a370e740fa048980506b7"
   }
  }
 },
 "nbformat": 4,
 "nbformat_minor": 5
}
