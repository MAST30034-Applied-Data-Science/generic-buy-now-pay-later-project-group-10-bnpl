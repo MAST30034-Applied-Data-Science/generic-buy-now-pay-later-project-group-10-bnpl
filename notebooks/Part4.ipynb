{
 "cells": [
  {
   "cell_type": "markdown",
   "id": "6c690c6f-a81e-4185-8184-808c90cf22b1",
   "metadata": {},
   "source": [
    "## Part 4: Fraud"
   ]
  },
  {
   "cell_type": "code",
   "execution_count": 4,
   "id": "d5f10c8d-30f8-4ea8-a070-bda4d104fb88",
   "metadata": {},
   "outputs": [
    {
     "name": "stdout",
     "output_type": "stream",
     "text": [
      "22/09/21 10:27:00 WARN Utils: Your hostname, Aishwaryas-MacBook-Air.local resolves to a loopback address: 127.0.0.1; using 10.12.134.13 instead (on interface en0)\n",
      "22/09/21 10:27:00 WARN Utils: Set SPARK_LOCAL_IP if you need to bind to another address\n"
     ]
    },
    {
     "name": "stderr",
     "output_type": "stream",
     "text": [
      "Setting default log level to \"WARN\".\n",
      "To adjust logging level use sc.setLogLevel(newLevel). For SparkR, use setLogLevel(newLevel).\n"
     ]
    },
    {
     "name": "stdout",
     "output_type": "stream",
     "text": [
      "22/09/21 10:27:00 WARN NativeCodeLoader: Unable to load native-hadoop library for your platform... using builtin-java classes where applicable\n",
      "22/09/21 10:27:00 WARN Utils: Service 'SparkUI' could not bind on port 4040. Attempting port 4041.\n",
      "22/09/21 10:27:00 WARN Utils: Service 'SparkUI' could not bind on port 4041. Attempting port 4042.\n",
      "22/09/21 10:27:00 WARN Utils: Service 'SparkUI' could not bind on port 4042. Attempting port 4043.\n",
      "22/09/21 10:27:00 WARN Utils: Service 'SparkUI' could not bind on port 4043. Attempting port 4044.\n",
      "22/09/21 10:27:00 WARN Utils: Service 'SparkUI' could not bind on port 4044. Attempting port 4045.\n"
     ]
    },
    {
     "name": "stderr",
     "output_type": "stream",
     "text": [
      "                                                                                \r"
     ]
    },
    {
     "ename": "AnalysisException",
     "evalue": "Cannot resolve column name \"postcodes\" among (id, postcode, locality, state, long, lat, dc, type, status, sa3, sa3name, sa4, sa4name, region, Lat_precise, Long_precise, SA1_MAINCODE_2011, SA1_MAINCODE_2016, SA2_MAINCODE_2016, SA2_NAME_2016, SA3_CODE_2016, SA3_NAME_2016, SA4_CODE_2016, SA4_NAME_2016, RA_2011, RA_2016, MMM_2015, MMM_2019, ced, altitude, chargezone, phn_code, phn_name, lgaregion, electorate, electoraterating)",
     "output_type": "error",
     "traceback": [
      "\u001b[0;31m---------------------------------------------------------------------------\u001b[0m",
      "\u001b[0;31mAnalysisException\u001b[0m                         Traceback (most recent call last)",
      "File \u001b[0;32m~/Desktop/ads_bnpl/scripts/ETL.py:118\u001b[0m, in \u001b[0;36m<module>\u001b[0;34m\u001b[0m\n\u001b[1;32m    116\u001b[0m postcode \u001b[38;5;241m=\u001b[39m postcode\u001b[38;5;241m.\u001b[39mdrop(F\u001b[38;5;241m.\u001b[39mcol(\u001b[38;5;124m\"\u001b[39m\u001b[38;5;124m_c0\u001b[39m\u001b[38;5;124m\"\u001b[39m))\n\u001b[1;32m    117\u001b[0m postcode_nonull \u001b[38;5;241m=\u001b[39m postcode\u001b[38;5;241m.\u001b[39mna\u001b[38;5;241m.\u001b[39mdrop()\n\u001b[0;32m--> 118\u001b[0m distinct \u001b[38;5;241m=\u001b[39m \u001b[43mpostcode_nonull\u001b[49m\u001b[38;5;241;43m.\u001b[39;49m\u001b[43mdropDuplicates\u001b[49m\u001b[43m(\u001b[49m\u001b[43m[\u001b[49m\u001b[38;5;124;43m\"\u001b[39;49m\u001b[38;5;124;43mpostcodes\u001b[39;49m\u001b[38;5;124;43m\"\u001b[39;49m\u001b[43m]\u001b[49m\u001b[43m)\u001b[49m\n\u001b[1;32m    120\u001b[0m final_join2 \u001b[38;5;241m=\u001b[39m final_join\u001b[38;5;241m.\u001b[39mjoin(distinct, final_join\u001b[38;5;241m.\u001b[39mpostcode \u001b[38;5;241m==\u001b[39m distinct\u001b[38;5;241m.\u001b[39mpostcodes, \u001b[38;5;124m\"\u001b[39m\u001b[38;5;124minner\u001b[39m\u001b[38;5;124m\"\u001b[39m) \\\n\u001b[1;32m    121\u001b[0m         \u001b[38;5;241m.\u001b[39mdrop(F\u001b[38;5;241m.\u001b[39mcol(\u001b[38;5;124m\"\u001b[39m\u001b[38;5;124mpostcodes\u001b[39m\u001b[38;5;124m\"\u001b[39m))\n\u001b[1;32m    123\u001b[0m final_join2 \u001b[38;5;241m=\u001b[39m final_join2\u001b[38;5;241m.\u001b[39mwithColumn(\u001b[38;5;124m\"\u001b[39m\u001b[38;5;124mint_SA2\u001b[39m\u001b[38;5;124m\"\u001b[39m, final_join2[\u001b[38;5;124m\"\u001b[39m\u001b[38;5;124mSA2\u001b[39m\u001b[38;5;124m\"\u001b[39m]\u001b[38;5;241m.\u001b[39mcast(IntegerType()))\u001b[38;5;241m.\u001b[39mdrop(F\u001b[38;5;241m.\u001b[39mcol(\u001b[38;5;124m\"\u001b[39m\u001b[38;5;124mSA2\u001b[39m\u001b[38;5;124m\"\u001b[39m))\n",
      "File \u001b[0;32m~/opt/anaconda3/lib/python3.9/site-packages/pyspark/sql/dataframe.py:2403\u001b[0m, in \u001b[0;36mDataFrame.dropDuplicates\u001b[0;34m(self, subset)\u001b[0m\n\u001b[1;32m   2401\u001b[0m     jdf \u001b[38;5;241m=\u001b[39m \u001b[38;5;28mself\u001b[39m\u001b[38;5;241m.\u001b[39m_jdf\u001b[38;5;241m.\u001b[39mdropDuplicates()\n\u001b[1;32m   2402\u001b[0m \u001b[38;5;28;01melse\u001b[39;00m:\n\u001b[0;32m-> 2403\u001b[0m     jdf \u001b[38;5;241m=\u001b[39m \u001b[38;5;28;43mself\u001b[39;49m\u001b[38;5;241;43m.\u001b[39;49m\u001b[43m_jdf\u001b[49m\u001b[38;5;241;43m.\u001b[39;49m\u001b[43mdropDuplicates\u001b[49m\u001b[43m(\u001b[49m\u001b[38;5;28;43mself\u001b[39;49m\u001b[38;5;241;43m.\u001b[39;49m\u001b[43m_jseq\u001b[49m\u001b[43m(\u001b[49m\u001b[43msubset\u001b[49m\u001b[43m)\u001b[49m\u001b[43m)\u001b[49m\n\u001b[1;32m   2404\u001b[0m \u001b[38;5;28;01mreturn\u001b[39;00m DataFrame(jdf, \u001b[38;5;28mself\u001b[39m\u001b[38;5;241m.\u001b[39msparkSession)\n",
      "File \u001b[0;32m~/opt/anaconda3/lib/python3.9/site-packages/py4j/java_gateway.py:1321\u001b[0m, in \u001b[0;36mJavaMember.__call__\u001b[0;34m(self, *args)\u001b[0m\n\u001b[1;32m   1315\u001b[0m command \u001b[38;5;241m=\u001b[39m proto\u001b[38;5;241m.\u001b[39mCALL_COMMAND_NAME \u001b[38;5;241m+\u001b[39m\\\n\u001b[1;32m   1316\u001b[0m     \u001b[38;5;28mself\u001b[39m\u001b[38;5;241m.\u001b[39mcommand_header \u001b[38;5;241m+\u001b[39m\\\n\u001b[1;32m   1317\u001b[0m     args_command \u001b[38;5;241m+\u001b[39m\\\n\u001b[1;32m   1318\u001b[0m     proto\u001b[38;5;241m.\u001b[39mEND_COMMAND_PART\n\u001b[1;32m   1320\u001b[0m answer \u001b[38;5;241m=\u001b[39m \u001b[38;5;28mself\u001b[39m\u001b[38;5;241m.\u001b[39mgateway_client\u001b[38;5;241m.\u001b[39msend_command(command)\n\u001b[0;32m-> 1321\u001b[0m return_value \u001b[38;5;241m=\u001b[39m \u001b[43mget_return_value\u001b[49m\u001b[43m(\u001b[49m\n\u001b[1;32m   1322\u001b[0m \u001b[43m    \u001b[49m\u001b[43manswer\u001b[49m\u001b[43m,\u001b[49m\u001b[43m \u001b[49m\u001b[38;5;28;43mself\u001b[39;49m\u001b[38;5;241;43m.\u001b[39;49m\u001b[43mgateway_client\u001b[49m\u001b[43m,\u001b[49m\u001b[43m \u001b[49m\u001b[38;5;28;43mself\u001b[39;49m\u001b[38;5;241;43m.\u001b[39;49m\u001b[43mtarget_id\u001b[49m\u001b[43m,\u001b[49m\u001b[43m \u001b[49m\u001b[38;5;28;43mself\u001b[39;49m\u001b[38;5;241;43m.\u001b[39;49m\u001b[43mname\u001b[49m\u001b[43m)\u001b[49m\n\u001b[1;32m   1324\u001b[0m \u001b[38;5;28;01mfor\u001b[39;00m temp_arg \u001b[38;5;129;01min\u001b[39;00m temp_args:\n\u001b[1;32m   1325\u001b[0m     temp_arg\u001b[38;5;241m.\u001b[39m_detach()\n",
      "File \u001b[0;32m~/opt/anaconda3/lib/python3.9/site-packages/pyspark/sql/utils.py:196\u001b[0m, in \u001b[0;36mcapture_sql_exception.<locals>.deco\u001b[0;34m(*a, **kw)\u001b[0m\n\u001b[1;32m    192\u001b[0m converted \u001b[38;5;241m=\u001b[39m convert_exception(e\u001b[38;5;241m.\u001b[39mjava_exception)\n\u001b[1;32m    193\u001b[0m \u001b[38;5;28;01mif\u001b[39;00m \u001b[38;5;129;01mnot\u001b[39;00m \u001b[38;5;28misinstance\u001b[39m(converted, UnknownException):\n\u001b[1;32m    194\u001b[0m     \u001b[38;5;66;03m# Hide where the exception came from that shows a non-Pythonic\u001b[39;00m\n\u001b[1;32m    195\u001b[0m     \u001b[38;5;66;03m# JVM exception message.\u001b[39;00m\n\u001b[0;32m--> 196\u001b[0m     \u001b[38;5;28;01mraise\u001b[39;00m converted \u001b[38;5;28;01mfrom\u001b[39;00m \u001b[38;5;28mNone\u001b[39m\n\u001b[1;32m    197\u001b[0m \u001b[38;5;28;01melse\u001b[39;00m:\n\u001b[1;32m    198\u001b[0m     \u001b[38;5;28;01mraise\u001b[39;00m\n",
      "\u001b[0;31mAnalysisException\u001b[0m: Cannot resolve column name \"postcodes\" among (id, postcode, locality, state, long, lat, dc, type, status, sa3, sa3name, sa4, sa4name, region, Lat_precise, Long_precise, SA1_MAINCODE_2011, SA1_MAINCODE_2016, SA2_MAINCODE_2016, SA2_NAME_2016, SA3_CODE_2016, SA3_NAME_2016, SA4_CODE_2016, SA4_NAME_2016, RA_2011, RA_2016, MMM_2015, MMM_2019, ced, altitude, chargezone, phn_code, phn_name, lgaregion, electorate, electoraterating)"
     ]
    }
   ],
   "source": [
    "%run \"../scripts/ETL.py\""
   ]
  },
  {
   "cell_type": "markdown",
   "id": "4f0e5941-27dd-43d9-8053-dc518b9f8f5e",
   "metadata": {},
   "source": [
    "The consumer fraud data shows the list of transactions with a high probability of being fraudulent, and therefore should be considered invalid."
   ]
  },
  {
   "cell_type": "code",
   "execution_count": 5,
   "id": "7ce97a92-b69c-454b-803d-d31b0c8892d5",
   "metadata": {},
   "outputs": [
    {
     "name": "stdout",
     "output_type": "stream",
     "text": [
      "34864\n"
     ]
    },
    {
     "data": {
      "text/html": [
       "<table border='1'>\n",
       "<tr><th>user_id</th><th>order_datetime</th><th>fraud_probability</th></tr>\n",
       "<tr><td>6228</td><td>2021-12-19</td><td>97.6298077657765</td></tr>\n",
       "<tr><td>21419</td><td>2021-12-10</td><td>99.24738020302328</td></tr>\n",
       "<tr><td>5606</td><td>2021-10-17</td><td>84.05825045251777</td></tr>\n",
       "<tr><td>3101</td><td>2021-04-17</td><td>91.42192091901347</td></tr>\n",
       "<tr><td>22239</td><td>2021-10-19</td><td>94.70342477508035</td></tr>\n",
       "</table>\n"
      ],
      "text/plain": [
       "+-------+--------------+-----------------+\n",
       "|user_id|order_datetime|fraud_probability|\n",
       "+-------+--------------+-----------------+\n",
       "|   6228|    2021-12-19| 97.6298077657765|\n",
       "|  21419|    2021-12-10|99.24738020302328|\n",
       "|   5606|    2021-10-17|84.05825045251777|\n",
       "|   3101|    2021-04-17|91.42192091901347|\n",
       "|  22239|    2021-10-19|94.70342477508035|\n",
       "+-------+--------------+-----------------+"
      ]
     },
     "execution_count": 5,
     "metadata": {},
     "output_type": "execute_result"
    }
   ],
   "source": [
    "print(fraud_consumer.count()) \n",
    "fraud_consumer.limit(5)"
   ]
  },
  {
   "cell_type": "markdown",
   "id": "77f4aa03-294e-4601-b785-7a4e7bf4a8f4",
   "metadata": {},
   "source": [
    "Probability of fraud for high revenue merchants...?"
   ]
  },
  {
   "cell_type": "code",
   "execution_count": 6,
   "id": "c05d9aeb-5fbd-4f63-8d64-60d744f7ea23",
   "metadata": {},
   "outputs": [
    {
     "name": "stdout",
     "output_type": "stream",
     "text": [
      "114\n"
     ]
    },
    {
     "data": {
      "text/html": [
       "<table border='1'>\n",
       "<tr><th>merchant_abn</th><th>order_datetime</th><th>fraud_probability</th></tr>\n",
       "<tr><td>19492220327</td><td>2021-11-28</td><td>44.403658647495355</td></tr>\n",
       "<tr><td>31334588839</td><td>2021-10-02</td><td>42.75530083865367</td></tr>\n",
       "<tr><td>19492220327</td><td>2021-12-22</td><td>38.867790051131095</td></tr>\n",
       "<tr><td>82999039227</td><td>2021-12-19</td><td>94.1347004808891</td></tr>\n",
       "<tr><td>90918180829</td><td>2021-09-02</td><td>43.32551731714902</td></tr>\n",
       "</table>\n"
      ],
      "text/plain": [
       "+------------+--------------+------------------+\n",
       "|merchant_abn|order_datetime| fraud_probability|\n",
       "+------------+--------------+------------------+\n",
       "| 19492220327|    2021-11-28|44.403658647495355|\n",
       "| 31334588839|    2021-10-02| 42.75530083865367|\n",
       "| 19492220327|    2021-12-22|38.867790051131095|\n",
       "| 82999039227|    2021-12-19|  94.1347004808891|\n",
       "| 90918180829|    2021-09-02| 43.32551731714902|\n",
       "+------------+--------------+------------------+"
      ]
     },
     "execution_count": 6,
     "metadata": {},
     "output_type": "execute_result"
    }
   ],
   "source": [
    "print(fraud_merchants.count())\n",
    "fraud_merchants.limit(5)"
   ]
  },
  {
   "cell_type": "code",
   "execution_count": 7,
   "id": "c412e613-c33a-4f60-845d-1beeab85eb42",
   "metadata": {},
   "outputs": [
    {
     "name": "stderr",
     "output_type": "stream",
     "text": [
      "                                                                                \r"
     ]
    },
    {
     "data": {
      "text/html": [
       "<table border='1'>\n",
       "<tr><th>merchant_name</th><th>merchant_abn</th><th>categories</th><th>take_rate</th><th>revenue_levels</th><th>name</th><th>address</th><th>state</th><th>postcode</th><th>gender</th><th>trans_merchant_abn</th><th>dollar_value</th><th>order_id</th><th>order_datetime</th><th>user_id</th><th>consumer_id</th></tr>\n",
       "<tr><td>Felis Limited</td><td>10023283211</td><td>furniture, home f...</td><td>0.18</td><td>e</td><td>Roberto Robbins</td><td>3146 Eric Turnpik...</td><td>NSW</td><td>2396</td><td>Male</td><td>10023283211</td><td>74.68707218671928</td><td>b36e56d0-dbb2-479...</td><td>2021-08-11</td><td>23679</td><td>6664</td></tr>\n",
       "<tr><td>Felis Limited</td><td>10023283211</td><td>furniture, home f...</td><td>0.18</td><td>e</td><td>Kelly Krueger</td><td>039 Green Route</td><td>WA</td><td>6935</td><td>Undisclosed</td><td>10023283211</td><td>319.4986425058244</td><td>51798dc0-8a7b-4cd...</td><td>2021-12-28</td><td>2199</td><td>8509</td></tr>\n",
       "<tr><td>Felis Limited</td><td>10023283211</td><td>furniture, home f...</td><td>0.18</td><td>e</td><td>Brianna Hart</td><td>850 Joshua Viaduc...</td><td>WA</td><td>6415</td><td>Female</td><td>10023283211</td><td>123.61804677878001</td><td>edc9c5b1-82a0-4ee...</td><td>2021-10-13</td><td>19278</td><td>15265</td></tr>\n",
       "<tr><td>Felis Limited</td><td>10023283211</td><td>furniture, home f...</td><td>0.18</td><td>e</td><td>Jose Frye</td><td>394 Matthews View...</td><td>NSW</td><td>2021</td><td>Male</td><td>10023283211</td><td>191.63853773963905</td><td>376cc026-5d91-498...</td><td>2021-07-04</td><td>5156</td><td>19115</td></tr>\n",
       "<tr><td>Felis Limited</td><td>10023283211</td><td>furniture, home f...</td><td>0.18</td><td>e</td><td>Matthew Waters</td><td>729 Harper Spring...</td><td>WA</td><td>6253</td><td>Male</td><td>10023283211</td><td>250.13111867397248</td><td>0220b2de-768c-49e...</td><td>2022-07-09</td><td>23774</td><td>20250</td></tr>\n",
       "</table>\n"
      ],
      "text/plain": [
       "+-------------+------------+--------------------+---------+--------------+---------------+--------------------+-----+--------+-----------+------------------+------------------+--------------------+--------------+-------+-----------+\n",
       "|merchant_name|merchant_abn|          categories|take_rate|revenue_levels|           name|             address|state|postcode|     gender|trans_merchant_abn|      dollar_value|            order_id|order_datetime|user_id|consumer_id|\n",
       "+-------------+------------+--------------------+---------+--------------+---------------+--------------------+-----+--------+-----------+------------------+------------------+--------------------+--------------+-------+-----------+\n",
       "|Felis Limited| 10023283211|furniture, home f...|     0.18|             e|Roberto Robbins|3146 Eric Turnpik...|  NSW|    2396|       Male|       10023283211| 74.68707218671928|b36e56d0-dbb2-479...|    2021-08-11|  23679|       6664|\n",
       "|Felis Limited| 10023283211|furniture, home f...|     0.18|             e|  Kelly Krueger|     039 Green Route|   WA|    6935|Undisclosed|       10023283211| 319.4986425058244|51798dc0-8a7b-4cd...|    2021-12-28|   2199|       8509|\n",
       "|Felis Limited| 10023283211|furniture, home f...|     0.18|             e|   Brianna Hart|850 Joshua Viaduc...|   WA|    6415|     Female|       10023283211|123.61804677878001|edc9c5b1-82a0-4ee...|    2021-10-13|  19278|      15265|\n",
       "|Felis Limited| 10023283211|furniture, home f...|     0.18|             e|      Jose Frye|394 Matthews View...|  NSW|    2021|       Male|       10023283211|191.63853773963905|376cc026-5d91-498...|    2021-07-04|   5156|      19115|\n",
       "|Felis Limited| 10023283211|furniture, home f...|     0.18|             e| Matthew Waters|729 Harper Spring...|   WA|    6253|       Male|       10023283211|250.13111867397248|0220b2de-768c-49e...|    2022-07-09|  23774|      20250|\n",
       "+-------------+------------+--------------------+---------+--------------+---------------+--------------------+-----+--------+-----------+------------------+------------------+--------------------+--------------+-------+-----------+"
      ]
     },
     "execution_count": 7,
     "metadata": {},
     "output_type": "execute_result"
    }
   ],
   "source": [
    "final_join.limit(5)"
   ]
  },
  {
   "cell_type": "markdown",
   "id": "0098af9c-7342-446b-88bd-8379df553888",
   "metadata": {},
   "source": [
    "- join consumer fraud to final join\n",
    "- create a version of final join with removed transactions from fraud\n",
    "- aggregate final join from transaction to merchant level\n",
    "- add fraud merchant as a feature to aggregated final join\n",
    "- treat fraud as response and try to create model to give other merchants a fraud score"
   ]
  },
  {
   "cell_type": "code",
   "execution_count": 8,
   "id": "a4567145-8855-4a09-b0f0-968776ddcadd",
   "metadata": {},
   "outputs": [
    {
     "name": "stderr",
     "output_type": "stream",
     "text": [
      "                                                                                \r"
     ]
    },
    {
     "data": {
      "text/html": [
       "<table border='1'>\n",
       "<tr><th>merchant_name</th><th>merchant_abn</th><th>categories</th><th>take_rate</th><th>revenue_levels</th><th>name</th><th>address</th><th>state</th><th>postcode</th><th>gender</th><th>trans_merchant_abn</th><th>dollar_value</th><th>order_id</th><th>order_datetime</th><th>user_id</th><th>consumer_id</th><th>user_id</th><th>order_datetime</th><th>fraud_probability</th></tr>\n",
       "<tr><td>Felis Limited</td><td>10023283211</td><td>furniture, home f...</td><td>0.18</td><td>e</td><td>Roberto Robbins</td><td>3146 Eric Turnpik...</td><td>NSW</td><td>2396</td><td>Male</td><td>10023283211</td><td>74.68707218671928</td><td>b36e56d0-dbb2-479...</td><td>2021-08-11</td><td>23679</td><td>6664</td><td>null</td><td>null</td><td>null</td></tr>\n",
       "<tr><td>Felis Limited</td><td>10023283211</td><td>furniture, home f...</td><td>0.18</td><td>e</td><td>Kelly Krueger</td><td>039 Green Route</td><td>WA</td><td>6935</td><td>Undisclosed</td><td>10023283211</td><td>319.4986425058244</td><td>51798dc0-8a7b-4cd...</td><td>2021-12-28</td><td>2199</td><td>8509</td><td>null</td><td>null</td><td>null</td></tr>\n",
       "<tr><td>Felis Limited</td><td>10023283211</td><td>furniture, home f...</td><td>0.18</td><td>e</td><td>Brianna Hart</td><td>850 Joshua Viaduc...</td><td>WA</td><td>6415</td><td>Female</td><td>10023283211</td><td>123.61804677878001</td><td>edc9c5b1-82a0-4ee...</td><td>2021-10-13</td><td>19278</td><td>15265</td><td>null</td><td>null</td><td>null</td></tr>\n",
       "<tr><td>Felis Limited</td><td>10023283211</td><td>furniture, home f...</td><td>0.18</td><td>e</td><td>Jose Frye</td><td>394 Matthews View...</td><td>NSW</td><td>2021</td><td>Male</td><td>10023283211</td><td>191.63853773963905</td><td>376cc026-5d91-498...</td><td>2021-07-04</td><td>5156</td><td>19115</td><td>null</td><td>null</td><td>null</td></tr>\n",
       "<tr><td>Felis Limited</td><td>10023283211</td><td>furniture, home f...</td><td>0.18</td><td>e</td><td>Matthew Waters</td><td>729 Harper Spring...</td><td>WA</td><td>6253</td><td>Male</td><td>10023283211</td><td>250.13111867397248</td><td>0220b2de-768c-49e...</td><td>2022-07-09</td><td>23774</td><td>20250</td><td>null</td><td>null</td><td>null</td></tr>\n",
       "</table>\n"
      ],
      "text/plain": [
       "+-------------+------------+--------------------+---------+--------------+---------------+--------------------+-----+--------+-----------+------------------+------------------+--------------------+--------------+-------+-----------+-------+--------------+-----------------+\n",
       "|merchant_name|merchant_abn|          categories|take_rate|revenue_levels|           name|             address|state|postcode|     gender|trans_merchant_abn|      dollar_value|            order_id|order_datetime|user_id|consumer_id|user_id|order_datetime|fraud_probability|\n",
       "+-------------+------------+--------------------+---------+--------------+---------------+--------------------+-----+--------+-----------+------------------+------------------+--------------------+--------------+-------+-----------+-------+--------------+-----------------+\n",
       "|Felis Limited| 10023283211|furniture, home f...|     0.18|             e|Roberto Robbins|3146 Eric Turnpik...|  NSW|    2396|       Male|       10023283211| 74.68707218671928|b36e56d0-dbb2-479...|    2021-08-11|  23679|       6664|   null|          null|             null|\n",
       "|Felis Limited| 10023283211|furniture, home f...|     0.18|             e|  Kelly Krueger|     039 Green Route|   WA|    6935|Undisclosed|       10023283211| 319.4986425058244|51798dc0-8a7b-4cd...|    2021-12-28|   2199|       8509|   null|          null|             null|\n",
       "|Felis Limited| 10023283211|furniture, home f...|     0.18|             e|   Brianna Hart|850 Joshua Viaduc...|   WA|    6415|     Female|       10023283211|123.61804677878001|edc9c5b1-82a0-4ee...|    2021-10-13|  19278|      15265|   null|          null|             null|\n",
       "|Felis Limited| 10023283211|furniture, home f...|     0.18|             e|      Jose Frye|394 Matthews View...|  NSW|    2021|       Male|       10023283211|191.63853773963905|376cc026-5d91-498...|    2021-07-04|   5156|      19115|   null|          null|             null|\n",
       "|Felis Limited| 10023283211|furniture, home f...|     0.18|             e| Matthew Waters|729 Harper Spring...|   WA|    6253|       Male|       10023283211|250.13111867397248|0220b2de-768c-49e...|    2022-07-09|  23774|      20250|   null|          null|             null|\n",
       "+-------------+------------+--------------------+---------+--------------+---------------+--------------------+-----+--------+-----------+------------------+------------------+--------------------+--------------+-------+-----------+-------+--------------+-----------------+"
      ]
     },
     "execution_count": 8,
     "metadata": {},
     "output_type": "execute_result"
    }
   ],
   "source": [
    "fj_with_fraud = final_join.join(fraud_consumer, (final_join.user_id == fraud_consumer.user_id) \\\n",
    "                               & (final_join.order_datetime == fraud_consumer.order_datetime), \"left_outer\")\n",
    "fj_with_fraud.limit(5)"
   ]
  },
  {
   "cell_type": "code",
   "execution_count": 9,
   "id": "435080c5-e77b-4088-a00b-aa892e0263f7",
   "metadata": {},
   "outputs": [
    {
     "name": "stderr",
     "output_type": "stream",
     "text": [
      "                                                                                \r"
     ]
    },
    {
     "data": {
      "text/plain": [
       "14115157"
      ]
     },
     "execution_count": 9,
     "metadata": {},
     "output_type": "execute_result"
    }
   ],
   "source": [
    "fj_rem_fraud = fj_with_fraud.filter(\"fraud_probability is NULL\")\n",
    "fj_rem_fraud.count()"
   ]
  },
  {
   "cell_type": "code",
   "execution_count": 10,
   "id": "d29a8938-6529-4dc2-8330-e88ff48cb5da",
   "metadata": {},
   "outputs": [
    {
     "data": {
      "text/plain": [
       "499999"
      ]
     },
     "execution_count": 10,
     "metadata": {},
     "output_type": "execute_result"
    }
   ],
   "source": [
    "user_details.count()"
   ]
  },
  {
   "cell_type": "code",
   "execution_count": 11,
   "id": "19322288-63d2-4103-bcf9-a924969a3129",
   "metadata": {},
   "outputs": [
    {
     "name": "stderr",
     "output_type": "stream",
     "text": [
      "                                                                                \r"
     ]
    },
    {
     "data": {
      "text/plain": [
       "14195505"
      ]
     },
     "execution_count": 11,
     "metadata": {},
     "output_type": "execute_result"
    }
   ],
   "source": [
    "final_join.count()"
   ]
  },
  {
   "cell_type": "code",
   "execution_count": 12,
   "id": "711342a4-f553-4bea-bba2-cbe95cfb6def",
   "metadata": {},
   "outputs": [
    {
     "data": {
      "text/html": [
       "<table border='1'>\n",
       "<tr><th>merchant_name</th><th>merchant_abn</th><th>categories</th><th>take_rate</th><th>revenue_levels</th></tr>\n",
       "<tr><td>Felis Limited</td><td>10023283211</td><td>furniture, home f...</td><td>0.18</td><td>e</td></tr>\n",
       "<tr><td>Arcu Ac Orci Corp...</td><td>10142254217</td><td>cable, satellite,...</td><td>4.22</td><td>b</td></tr>\n",
       "<tr><td>Nunc Sed Company</td><td>10165489824</td><td>jewelry, watch, c...</td><td>4.4</td><td>b</td></tr>\n",
       "<tr><td>Ultricies Digniss...</td><td>10187291046</td><td>wAtch, clock, and...</td><td>3.29</td><td>b</td></tr>\n",
       "<tr><td>Enim Condimentum PC</td><td>10192359162</td><td>music shops - mus...</td><td>6.33</td><td>a</td></tr>\n",
       "</table>\n"
      ],
      "text/plain": [
       "+--------------------+------------+--------------------+---------+--------------+\n",
       "|       merchant_name|merchant_abn|          categories|take_rate|revenue_levels|\n",
       "+--------------------+------------+--------------------+---------+--------------+\n",
       "|       Felis Limited| 10023283211|furniture, home f...|     0.18|             e|\n",
       "|Arcu Ac Orci Corp...| 10142254217|cable, satellite,...|     4.22|             b|\n",
       "|    Nunc Sed Company| 10165489824|jewelry, watch, c...|      4.4|             b|\n",
       "|Ultricies Digniss...| 10187291046|wAtch, clock, and...|     3.29|             b|\n",
       "| Enim Condimentum PC| 10192359162|music shops - mus...|     6.33|             a|\n",
       "+--------------------+------------+--------------------+---------+--------------+"
      ]
     },
     "execution_count": 12,
     "metadata": {},
     "output_type": "execute_result"
    }
   ],
   "source": [
    "tbl_merchants.limit(5)"
   ]
  },
  {
   "cell_type": "code",
   "execution_count": null,
   "id": "31c96900-4213-40bc-ac18-57e559cb99bd",
   "metadata": {},
   "outputs": [],
   "source": []
  },
  {
   "cell_type": "code",
   "execution_count": 16,
   "id": "82967f9d",
   "metadata": {},
   "outputs": [],
   "source": [
    "fj_rem_fraud = fj_rem_fraud.withColumnRenamed(\"fraud_probability\",\"cons_fraud_prob\")\n",
    "fj_rem_fraud = fj_rem_fraud.withColumnRenamed(\"merchant_name\",\"merchant_name_1\")\n",
    "fj_rem_fraud = fj_rem_fraud.withColumnRenamed(\"merchant_abn\",\"merchant_abn_1\")\n",
    "fj_rem_fraud = fj_rem_fraud.withColumnRenamed(\"take_rate\",\"take_rate_1\")\n",
    "fj_rem_fraud = fj_rem_fraud.withColumnRenamed(\"categories\",\"categories_1\")\n",
    "fj_rem_fraud = fj_rem_fraud.withColumnRenamed(\"revenue_levels\",\"revenue_levels_1\")\n",
    "\n",
    "# fj_rem_fraud.limit(5)"
   ]
  },
  {
   "cell_type": "code",
   "execution_count": 17,
   "id": "5431e95d",
   "metadata": {},
   "outputs": [
    {
     "name": "stdout",
     "output_type": "stream",
     "text": [
      "join done\n"
     ]
    }
   ],
   "source": [
    "#Joining merchants fraud table to large table \n",
    "\n",
    "from pyspark.sql import functions as F\n",
    "\n",
    "\n",
    "fj_rem_fraud.createOrReplaceTempView(\"temp1\")\n",
    "\n",
    "tbl_merchants.createOrReplaceTempView(\"temp2\")\n",
    "\n",
    "joined_data = spark.sql(\"\"\" \n",
    "\n",
    "SELECT *\n",
    "FROM temp1\n",
    "\n",
    "INNER JOIN temp2\n",
    "\n",
    "ON temp1.merchant_abn_1 = temp2.merchant_abn \n",
    "AND temp1.merchant_name_1 = temp2.merchant_name \n",
    "AND temp1.take_rate_1 = temp2.take_rate \n",
    "AND temp1.revenue_levels_1 = temp2.revenue_levels \n",
    "\"\"\")\n",
    "print(\"join done\")"
   ]
  },
  {
   "cell_type": "code",
   "execution_count": 18,
   "id": "ec666c81",
   "metadata": {},
   "outputs": [
    {
     "name": "stderr",
     "output_type": "stream",
     "text": [
      "                                                                                \r"
     ]
    },
    {
     "data": {
      "text/html": [
       "<table border='1'>\n",
       "<tr><th>merchant_name_1</th><th>merchant_abn_1</th><th>categories_1</th><th>take_rate_1</th><th>revenue_levels_1</th><th>name</th><th>address</th><th>state</th><th>postcode</th><th>gender</th><th>trans_merchant_abn</th><th>dollar_value</th><th>order_id</th><th>order_datetime</th><th>user_id</th><th>consumer_id</th><th>user_id</th><th>order_datetime</th><th>cons_fraud_prob</th><th>merchant_name</th><th>merchant_abn</th><th>categories</th><th>take_rate</th><th>revenue_levels</th></tr>\n",
       "<tr><td>Felis Limited</td><td>10023283211</td><td>furniture, home f...</td><td>0.18</td><td>e</td><td>Roberto Robbins</td><td>3146 Eric Turnpik...</td><td>NSW</td><td>2396</td><td>Male</td><td>10023283211</td><td>74.68707218671928</td><td>b36e56d0-dbb2-479...</td><td>2021-08-11</td><td>23679</td><td>6664</td><td>null</td><td>null</td><td>null</td><td>Felis Limited</td><td>10023283211</td><td>furniture, home f...</td><td>0.18</td><td>e</td></tr>\n",
       "<tr><td>Felis Limited</td><td>10023283211</td><td>furniture, home f...</td><td>0.18</td><td>e</td><td>Kelly Krueger</td><td>039 Green Route</td><td>WA</td><td>6935</td><td>Undisclosed</td><td>10023283211</td><td>319.4986425058244</td><td>51798dc0-8a7b-4cd...</td><td>2021-12-28</td><td>2199</td><td>8509</td><td>null</td><td>null</td><td>null</td><td>Felis Limited</td><td>10023283211</td><td>furniture, home f...</td><td>0.18</td><td>e</td></tr>\n",
       "<tr><td>Felis Limited</td><td>10023283211</td><td>furniture, home f...</td><td>0.18</td><td>e</td><td>Brianna Hart</td><td>850 Joshua Viaduc...</td><td>WA</td><td>6415</td><td>Female</td><td>10023283211</td><td>123.61804677878001</td><td>edc9c5b1-82a0-4ee...</td><td>2021-10-13</td><td>19278</td><td>15265</td><td>null</td><td>null</td><td>null</td><td>Felis Limited</td><td>10023283211</td><td>furniture, home f...</td><td>0.18</td><td>e</td></tr>\n",
       "<tr><td>Felis Limited</td><td>10023283211</td><td>furniture, home f...</td><td>0.18</td><td>e</td><td>Jose Frye</td><td>394 Matthews View...</td><td>NSW</td><td>2021</td><td>Male</td><td>10023283211</td><td>191.63853773963905</td><td>376cc026-5d91-498...</td><td>2021-07-04</td><td>5156</td><td>19115</td><td>null</td><td>null</td><td>null</td><td>Felis Limited</td><td>10023283211</td><td>furniture, home f...</td><td>0.18</td><td>e</td></tr>\n",
       "<tr><td>Felis Limited</td><td>10023283211</td><td>furniture, home f...</td><td>0.18</td><td>e</td><td>Matthew Waters</td><td>729 Harper Spring...</td><td>WA</td><td>6253</td><td>Male</td><td>10023283211</td><td>250.13111867397248</td><td>0220b2de-768c-49e...</td><td>2022-07-09</td><td>23774</td><td>20250</td><td>null</td><td>null</td><td>null</td><td>Felis Limited</td><td>10023283211</td><td>furniture, home f...</td><td>0.18</td><td>e</td></tr>\n",
       "</table>\n"
      ],
      "text/plain": [
       "+---------------+--------------+--------------------+-----------+----------------+---------------+--------------------+-----+--------+-----------+------------------+------------------+--------------------+--------------+-------+-----------+-------+--------------+---------------+-------------+------------+--------------------+---------+--------------+\n",
       "|merchant_name_1|merchant_abn_1|        categories_1|take_rate_1|revenue_levels_1|           name|             address|state|postcode|     gender|trans_merchant_abn|      dollar_value|            order_id|order_datetime|user_id|consumer_id|user_id|order_datetime|cons_fraud_prob|merchant_name|merchant_abn|          categories|take_rate|revenue_levels|\n",
       "+---------------+--------------+--------------------+-----------+----------------+---------------+--------------------+-----+--------+-----------+------------------+------------------+--------------------+--------------+-------+-----------+-------+--------------+---------------+-------------+------------+--------------------+---------+--------------+\n",
       "|  Felis Limited|   10023283211|furniture, home f...|       0.18|               e|Roberto Robbins|3146 Eric Turnpik...|  NSW|    2396|       Male|       10023283211| 74.68707218671928|b36e56d0-dbb2-479...|    2021-08-11|  23679|       6664|   null|          null|           null|Felis Limited| 10023283211|furniture, home f...|     0.18|             e|\n",
       "|  Felis Limited|   10023283211|furniture, home f...|       0.18|               e|  Kelly Krueger|     039 Green Route|   WA|    6935|Undisclosed|       10023283211| 319.4986425058244|51798dc0-8a7b-4cd...|    2021-12-28|   2199|       8509|   null|          null|           null|Felis Limited| 10023283211|furniture, home f...|     0.18|             e|\n",
       "|  Felis Limited|   10023283211|furniture, home f...|       0.18|               e|   Brianna Hart|850 Joshua Viaduc...|   WA|    6415|     Female|       10023283211|123.61804677878001|edc9c5b1-82a0-4ee...|    2021-10-13|  19278|      15265|   null|          null|           null|Felis Limited| 10023283211|furniture, home f...|     0.18|             e|\n",
       "|  Felis Limited|   10023283211|furniture, home f...|       0.18|               e|      Jose Frye|394 Matthews View...|  NSW|    2021|       Male|       10023283211|191.63853773963905|376cc026-5d91-498...|    2021-07-04|   5156|      19115|   null|          null|           null|Felis Limited| 10023283211|furniture, home f...|     0.18|             e|\n",
       "|  Felis Limited|   10023283211|furniture, home f...|       0.18|               e| Matthew Waters|729 Harper Spring...|   WA|    6253|       Male|       10023283211|250.13111867397248|0220b2de-768c-49e...|    2022-07-09|  23774|      20250|   null|          null|           null|Felis Limited| 10023283211|furniture, home f...|     0.18|             e|\n",
       "+---------------+--------------+--------------------+-----------+----------------+---------------+--------------------+-----+--------+-----------+------------------+------------------+--------------------+--------------+-------+-----------+-------+--------------+---------------+-------------+------------+--------------------+---------+--------------+"
      ]
     },
     "execution_count": 18,
     "metadata": {},
     "output_type": "execute_result"
    }
   ],
   "source": [
    "joined_data.withColumnRenamed(\"fraud_probability\",\"merchant_fraud_prob\")\n",
    "joined_data.limit(5) \n",
    "\n"
   ]
  },
  {
   "cell_type": "code",
   "execution_count": 19,
   "id": "5a60abc3",
   "metadata": {},
   "outputs": [],
   "source": [
    "model_data = joined_data.drop(\"merchant_name_1\").drop(\"merchant_abn_1\").drop(\"categories_1\").drop(\"take_rate_1\").drop(\"revenue_levels_1\").drop(\"name\").drop(\"address\").drop(\"state\").drop(\"gender\")"
   ]
  },
  {
   "cell_type": "code",
   "execution_count": 20,
   "id": "f2049b47",
   "metadata": {},
   "outputs": [
    {
     "name": "stderr",
     "output_type": "stream",
     "text": [
      "                                                                                \r"
     ]
    },
    {
     "data": {
      "text/html": [
       "<table border='1'>\n",
       "<tr><th>postcode</th><th>trans_merchant_abn</th><th>dollar_value</th><th>order_id</th><th>order_datetime</th><th>user_id</th><th>consumer_id</th><th>user_id</th><th>order_datetime</th><th>cons_fraud_prob</th><th>merchant_name</th><th>merchant_abn</th><th>categories</th><th>take_rate</th><th>revenue_levels</th></tr>\n",
       "<tr><td>3862</td><td>10023283211</td><td>69.90225010580168</td><td>d6f41efc-4c08-455...</td><td>2021-05-21</td><td>1859</td><td>797884</td><td>null</td><td>null</td><td>null</td><td>Felis Limited</td><td>10023283211</td><td>furniture, home f...</td><td>0.18</td><td>e</td></tr>\n",
       "<tr><td>1157</td><td>10023283211</td><td>277.5959492940812</td><td>6884dcd0-e2c0-4f3...</td><td>2021-08-22</td><td>19083</td><td>1250662</td><td>null</td><td>null</td><td>null</td><td>Felis Limited</td><td>10023283211</td><td>furniture, home f...</td><td>0.18</td><td>e</td></tr>\n",
       "<tr><td>2619</td><td>10023283211</td><td>218.0471981318539</td><td>1da32311-ab3f-4ef...</td><td>2021-08-27</td><td>14673</td><td>349420</td><td>null</td><td>null</td><td>null</td><td>Felis Limited</td><td>10023283211</td><td>furniture, home f...</td><td>0.18</td><td>e</td></tr>\n",
       "<tr><td>4497</td><td>10023283211</td><td>429.13905563051316</td><td>1e704bea-f123-4fa...</td><td>2021-05-21</td><td>10932</td><td>1412788</td><td>null</td><td>null</td><td>null</td><td>Felis Limited</td><td>10023283211</td><td>furniture, home f...</td><td>0.18</td><td>e</td></tr>\n",
       "<tr><td>2087</td><td>10023283211</td><td>105.48434125775125</td><td>fc4f153e-9667-44e...</td><td>2021-08-21</td><td>18249</td><td>1314551</td><td>null</td><td>null</td><td>null</td><td>Felis Limited</td><td>10023283211</td><td>furniture, home f...</td><td>0.18</td><td>e</td></tr>\n",
       "</table>\n"
      ],
      "text/plain": [
       "+--------+------------------+------------------+--------------------+--------------+-------+-----------+-------+--------------+---------------+-------------+------------+--------------------+---------+--------------+\n",
       "|postcode|trans_merchant_abn|      dollar_value|            order_id|order_datetime|user_id|consumer_id|user_id|order_datetime|cons_fraud_prob|merchant_name|merchant_abn|          categories|take_rate|revenue_levels|\n",
       "+--------+------------------+------------------+--------------------+--------------+-------+-----------+-------+--------------+---------------+-------------+------------+--------------------+---------+--------------+\n",
       "|    3862|       10023283211| 69.90225010580168|d6f41efc-4c08-455...|    2021-05-21|   1859|     797884|   null|          null|           null|Felis Limited| 10023283211|furniture, home f...|     0.18|             e|\n",
       "|    1157|       10023283211| 277.5959492940812|6884dcd0-e2c0-4f3...|    2021-08-22|  19083|    1250662|   null|          null|           null|Felis Limited| 10023283211|furniture, home f...|     0.18|             e|\n",
       "|    2619|       10023283211| 218.0471981318539|1da32311-ab3f-4ef...|    2021-08-27|  14673|     349420|   null|          null|           null|Felis Limited| 10023283211|furniture, home f...|     0.18|             e|\n",
       "|    4497|       10023283211|429.13905563051316|1e704bea-f123-4fa...|    2021-05-21|  10932|    1412788|   null|          null|           null|Felis Limited| 10023283211|furniture, home f...|     0.18|             e|\n",
       "|    2087|       10023283211|105.48434125775125|fc4f153e-9667-44e...|    2021-08-21|  18249|    1314551|   null|          null|           null|Felis Limited| 10023283211|furniture, home f...|     0.18|             e|\n",
       "+--------+------------------+------------------+--------------------+--------------+-------+-----------+-------+--------------+---------------+-------------+------------+--------------------+---------+--------------+"
      ]
     },
     "execution_count": 20,
     "metadata": {},
     "output_type": "execute_result"
    }
   ],
   "source": [
    "model_data.limit(5)"
   ]
  },
  {
   "cell_type": "code",
   "execution_count": null,
   "id": "79901e00",
   "metadata": {},
   "outputs": [
    {
     "name": "stdout",
     "output_type": "stream",
     "text": [
      "22/09/21 11:23:35 WARN TaskMemoryManager: Failed to allocate a page (33554432 bytes), try again.\n"
     ]
    },
    {
     "name": "stderr",
     "output_type": "stream",
     "text": [
      "\r",
      "[Stage 357:=================>                                      (8 + 8) / 26]\r"
     ]
    },
    {
     "name": "stdout",
     "output_type": "stream",
     "text": [
      "22/09/21 11:24:26 WARN TaskMemoryManager: Failed to allocate a page (33554432 bytes), try again.\n",
      "22/09/21 11:24:26 WARN HeartbeatReceiver: Removing executor driver with no recent heartbeats: 230219 ms exceeds timeout 120000 ms\n"
     ]
    },
    {
     "name": "stderr",
     "output_type": "stream",
     "text": [
      "\r",
      "[Stage 357:=================>                                      (8 + 8) / 26]\r"
     ]
    },
    {
     "name": "stdout",
     "output_type": "stream",
     "text": [
      "22/09/21 11:25:30 WARN TaskMemoryManager: Failed to allocate a page (33554432 bytes), try again.\n"
     ]
    }
   ],
   "source": [
    "model_data = model_data.select(\"consumer_id\", \"cons_fraud_prob\")\n",
    "\n",
    "# model_data_pdf = model_data.toPandas()"
   ]
  },
  {
   "cell_type": "code",
   "execution_count": null,
   "id": "2a3f5f7a",
   "metadata": {},
   "outputs": [],
   "source": [
    "model_data.dropna()"
   ]
  },
  {
   "cell_type": "code",
   "execution_count": null,
   "id": "49321784",
   "metadata": {},
   "outputs": [],
   "source": [
    "# cons_clusters = model_data_pdf[\"cons_fraud_prob\", \"dollar_value\"]"
   ]
  },
  {
   "cell_type": "code",
   "execution_count": 24,
   "id": "df6d8fbf",
   "metadata": {},
   "outputs": [
    {
     "name": "stderr",
     "output_type": "stream",
     "text": [
      "ERROR:root:KeyboardInterrupt while sending command.\n",
      "Traceback (most recent call last):\n",
      "  File \"/Users/ahirve/opt/anaconda3/lib/python3.9/site-packages/py4j/java_gateway.py\", line 1038, in send_command\n",
      "    response = connection.send_command(command)\n",
      "  File \"/Users/ahirve/opt/anaconda3/lib/python3.9/site-packages/py4j/clientserver.py\", line 511, in send_command\n",
      "    answer = smart_decode(self.stream.readline()[:-1])\n",
      "  File \"/Users/ahirve/opt/anaconda3/lib/python3.9/socket.py\", line 704, in readinto\n",
      "    return self._sock.recv_into(b)\n",
      "KeyboardInterrupt\n"
     ]
    },
    {
     "ename": "KeyboardInterrupt",
     "evalue": "",
     "output_type": "error",
     "traceback": [
      "\u001b[0;31m---------------------------------------------------------------------------\u001b[0m",
      "\u001b[0;31mKeyboardInterrupt\u001b[0m                         Traceback (most recent call last)",
      "Input \u001b[0;32mIn [24]\u001b[0m, in \u001b[0;36m<cell line: 1>\u001b[0;34m()\u001b[0m\n\u001b[0;32m----> 1\u001b[0m model_data_pdf \u001b[38;5;241m=\u001b[39m \u001b[43mmodel_data\u001b[49m\u001b[38;5;241;43m.\u001b[39;49m\u001b[43mtoPandas\u001b[49m\u001b[43m(\u001b[49m\u001b[43m)\u001b[49m\n",
      "File \u001b[0;32m~/opt/anaconda3/lib/python3.9/site-packages/pyspark/sql/pandas/conversion.py:92\u001b[0m, in \u001b[0;36mPandasConversionMixin.toPandas\u001b[0;34m(self)\u001b[0m\n\u001b[1;32m     89\u001b[0m \u001b[38;5;28;01mimport\u001b[39;00m \u001b[38;5;21;01mpandas\u001b[39;00m \u001b[38;5;28;01mas\u001b[39;00m \u001b[38;5;21;01mpd\u001b[39;00m\n\u001b[1;32m     90\u001b[0m \u001b[38;5;28;01mfrom\u001b[39;00m \u001b[38;5;21;01mpandas\u001b[39;00m\u001b[38;5;21;01m.\u001b[39;00m\u001b[38;5;21;01mcore\u001b[39;00m\u001b[38;5;21;01m.\u001b[39;00m\u001b[38;5;21;01mdtypes\u001b[39;00m\u001b[38;5;21;01m.\u001b[39;00m\u001b[38;5;21;01mcommon\u001b[39;00m \u001b[38;5;28;01mimport\u001b[39;00m is_timedelta64_dtype\n\u001b[0;32m---> 92\u001b[0m jconf \u001b[38;5;241m=\u001b[39m \u001b[38;5;28;43mself\u001b[39;49m\u001b[38;5;241;43m.\u001b[39;49m\u001b[43msparkSession\u001b[49m\u001b[38;5;241;43m.\u001b[39;49m\u001b[43m_jconf\u001b[49m\n\u001b[1;32m     93\u001b[0m timezone \u001b[38;5;241m=\u001b[39m jconf\u001b[38;5;241m.\u001b[39msessionLocalTimeZone()\n\u001b[1;32m     95\u001b[0m \u001b[38;5;28;01mif\u001b[39;00m jconf\u001b[38;5;241m.\u001b[39marrowPySparkEnabled():\n",
      "File \u001b[0;32m~/opt/anaconda3/lib/python3.9/site-packages/pyspark/sql/session.py:342\u001b[0m, in \u001b[0;36mSparkSession._jconf\u001b[0;34m(self)\u001b[0m\n\u001b[1;32m    339\u001b[0m \u001b[38;5;129m@property\u001b[39m\n\u001b[1;32m    340\u001b[0m \u001b[38;5;28;01mdef\u001b[39;00m \u001b[38;5;21m_jconf\u001b[39m(\u001b[38;5;28mself\u001b[39m) \u001b[38;5;241m-\u001b[39m\u001b[38;5;241m>\u001b[39m \u001b[38;5;124m\"\u001b[39m\u001b[38;5;124mJavaObject\u001b[39m\u001b[38;5;124m\"\u001b[39m:\n\u001b[1;32m    341\u001b[0m     \u001b[38;5;124;03m\"\"\"Accessor for the JVM SQL-specific configurations\"\"\"\u001b[39;00m\n\u001b[0;32m--> 342\u001b[0m     \u001b[38;5;28;01mreturn\u001b[39;00m \u001b[38;5;28;43mself\u001b[39;49m\u001b[38;5;241;43m.\u001b[39;49m\u001b[43m_jsparkSession\u001b[49m\u001b[38;5;241;43m.\u001b[39;49m\u001b[43msessionState\u001b[49m\u001b[43m(\u001b[49m\u001b[43m)\u001b[49m\u001b[38;5;241m.\u001b[39mconf()\n",
      "File \u001b[0;32m~/opt/anaconda3/lib/python3.9/site-packages/py4j/java_gateway.py:1320\u001b[0m, in \u001b[0;36mJavaMember.__call__\u001b[0;34m(self, *args)\u001b[0m\n\u001b[1;32m   1313\u001b[0m args_command, temp_args \u001b[38;5;241m=\u001b[39m \u001b[38;5;28mself\u001b[39m\u001b[38;5;241m.\u001b[39m_build_args(\u001b[38;5;241m*\u001b[39margs)\n\u001b[1;32m   1315\u001b[0m command \u001b[38;5;241m=\u001b[39m proto\u001b[38;5;241m.\u001b[39mCALL_COMMAND_NAME \u001b[38;5;241m+\u001b[39m\\\n\u001b[1;32m   1316\u001b[0m     \u001b[38;5;28mself\u001b[39m\u001b[38;5;241m.\u001b[39mcommand_header \u001b[38;5;241m+\u001b[39m\\\n\u001b[1;32m   1317\u001b[0m     args_command \u001b[38;5;241m+\u001b[39m\\\n\u001b[1;32m   1318\u001b[0m     proto\u001b[38;5;241m.\u001b[39mEND_COMMAND_PART\n\u001b[0;32m-> 1320\u001b[0m answer \u001b[38;5;241m=\u001b[39m \u001b[38;5;28;43mself\u001b[39;49m\u001b[38;5;241;43m.\u001b[39;49m\u001b[43mgateway_client\u001b[49m\u001b[38;5;241;43m.\u001b[39;49m\u001b[43msend_command\u001b[49m\u001b[43m(\u001b[49m\u001b[43mcommand\u001b[49m\u001b[43m)\u001b[49m\n\u001b[1;32m   1321\u001b[0m return_value \u001b[38;5;241m=\u001b[39m get_return_value(\n\u001b[1;32m   1322\u001b[0m     answer, \u001b[38;5;28mself\u001b[39m\u001b[38;5;241m.\u001b[39mgateway_client, \u001b[38;5;28mself\u001b[39m\u001b[38;5;241m.\u001b[39mtarget_id, \u001b[38;5;28mself\u001b[39m\u001b[38;5;241m.\u001b[39mname)\n\u001b[1;32m   1324\u001b[0m \u001b[38;5;28;01mfor\u001b[39;00m temp_arg \u001b[38;5;129;01min\u001b[39;00m temp_args:\n",
      "File \u001b[0;32m~/opt/anaconda3/lib/python3.9/site-packages/py4j/java_gateway.py:1038\u001b[0m, in \u001b[0;36mGatewayClient.send_command\u001b[0;34m(self, command, retry, binary)\u001b[0m\n\u001b[1;32m   1036\u001b[0m connection \u001b[38;5;241m=\u001b[39m \u001b[38;5;28mself\u001b[39m\u001b[38;5;241m.\u001b[39m_get_connection()\n\u001b[1;32m   1037\u001b[0m \u001b[38;5;28;01mtry\u001b[39;00m:\n\u001b[0;32m-> 1038\u001b[0m     response \u001b[38;5;241m=\u001b[39m \u001b[43mconnection\u001b[49m\u001b[38;5;241;43m.\u001b[39;49m\u001b[43msend_command\u001b[49m\u001b[43m(\u001b[49m\u001b[43mcommand\u001b[49m\u001b[43m)\u001b[49m\n\u001b[1;32m   1039\u001b[0m     \u001b[38;5;28;01mif\u001b[39;00m binary:\n\u001b[1;32m   1040\u001b[0m         \u001b[38;5;28;01mreturn\u001b[39;00m response, \u001b[38;5;28mself\u001b[39m\u001b[38;5;241m.\u001b[39m_create_connection_guard(connection)\n",
      "File \u001b[0;32m~/opt/anaconda3/lib/python3.9/site-packages/py4j/clientserver.py:511\u001b[0m, in \u001b[0;36mClientServerConnection.send_command\u001b[0;34m(self, command)\u001b[0m\n\u001b[1;32m    509\u001b[0m \u001b[38;5;28;01mtry\u001b[39;00m:\n\u001b[1;32m    510\u001b[0m     \u001b[38;5;28;01mwhile\u001b[39;00m \u001b[38;5;28;01mTrue\u001b[39;00m:\n\u001b[0;32m--> 511\u001b[0m         answer \u001b[38;5;241m=\u001b[39m smart_decode(\u001b[38;5;28;43mself\u001b[39;49m\u001b[38;5;241;43m.\u001b[39;49m\u001b[43mstream\u001b[49m\u001b[38;5;241;43m.\u001b[39;49m\u001b[43mreadline\u001b[49m\u001b[43m(\u001b[49m\u001b[43m)\u001b[49m[:\u001b[38;5;241m-\u001b[39m\u001b[38;5;241m1\u001b[39m])\n\u001b[1;32m    512\u001b[0m         logger\u001b[38;5;241m.\u001b[39mdebug(\u001b[38;5;124m\"\u001b[39m\u001b[38;5;124mAnswer received: \u001b[39m\u001b[38;5;132;01m{0}\u001b[39;00m\u001b[38;5;124m\"\u001b[39m\u001b[38;5;241m.\u001b[39mformat(answer))\n\u001b[1;32m    513\u001b[0m         \u001b[38;5;66;03m# Happens when a the other end is dead. There might be an empty\u001b[39;00m\n\u001b[1;32m    514\u001b[0m         \u001b[38;5;66;03m# answer before the socket raises an error.\u001b[39;00m\n",
      "File \u001b[0;32m~/opt/anaconda3/lib/python3.9/socket.py:704\u001b[0m, in \u001b[0;36mSocketIO.readinto\u001b[0;34m(self, b)\u001b[0m\n\u001b[1;32m    702\u001b[0m \u001b[38;5;28;01mwhile\u001b[39;00m \u001b[38;5;28;01mTrue\u001b[39;00m:\n\u001b[1;32m    703\u001b[0m     \u001b[38;5;28;01mtry\u001b[39;00m:\n\u001b[0;32m--> 704\u001b[0m         \u001b[38;5;28;01mreturn\u001b[39;00m \u001b[38;5;28;43mself\u001b[39;49m\u001b[38;5;241;43m.\u001b[39;49m\u001b[43m_sock\u001b[49m\u001b[38;5;241;43m.\u001b[39;49m\u001b[43mrecv_into\u001b[49m\u001b[43m(\u001b[49m\u001b[43mb\u001b[49m\u001b[43m)\u001b[49m\n\u001b[1;32m    705\u001b[0m     \u001b[38;5;28;01mexcept\u001b[39;00m timeout:\n\u001b[1;32m    706\u001b[0m         \u001b[38;5;28mself\u001b[39m\u001b[38;5;241m.\u001b[39m_timeout_occurred \u001b[38;5;241m=\u001b[39m \u001b[38;5;28;01mTrue\u001b[39;00m\n",
      "\u001b[0;31mKeyboardInterrupt\u001b[0m: "
     ]
    }
   ],
   "source": [
    "model_data_pdf = model_data.toPandas()\n"
   ]
  },
  {
   "cell_type": "code",
   "execution_count": null,
   "id": "701b014e",
   "metadata": {},
   "outputs": [],
   "source": [
    "import sklearn \n",
    "from sklearn.mixture import GMM\n",
    "gmm = GMM(n_components=4).fit(model_data_pdf[\"cons_fraud_prob\"])\n",
    "labels = gmm.predict(model_data_pdf[\"cons_fraud_prob\"])\n",
    "plt.scatter(model_data_pdf[\"cons_fraud_prob\"][:, 0], model_data_pdf[\"cons_fraud_prob\"][:, 1], c=labels, s=40, cmap='viridis');"
   ]
  },
  {
   "cell_type": "code",
   "execution_count": null,
   "id": "53234abc",
   "metadata": {},
   "outputs": [],
   "source": []
  }
 ],
 "metadata": {
  "kernelspec": {
   "display_name": "Python 3 (ipykernel)",
   "language": "python",
   "name": "python3"
  },
  "language_info": {
   "codemirror_mode": {
    "name": "ipython",
    "version": 3
   },
   "file_extension": ".py",
   "mimetype": "text/x-python",
   "name": "python",
   "nbconvert_exporter": "python",
   "pygments_lexer": "ipython3",
   "version": "3.9.7"
  }
 },
 "nbformat": 4,
 "nbformat_minor": 5
}
