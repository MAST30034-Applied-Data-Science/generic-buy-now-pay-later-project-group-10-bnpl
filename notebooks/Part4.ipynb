{
 "cells": [
  {
   "cell_type": "markdown",
   "id": "lovely-drill",
   "metadata": {},
   "source": [
    "# Part 4: Fraud"
   ]
  },
  {
   "cell_type": "code",
   "execution_count": 1,
   "id": "elder-portrait",
   "metadata": {},
   "outputs": [],
   "source": [
    "%run \"../scripts/ETL.py\""
   ]
  },
  {
   "cell_type": "markdown",
   "id": "structural-terrorism",
   "metadata": {},
   "source": [
    "## [1] Check fraud datasets"
   ]
  },
  {
   "cell_type": "markdown",
   "id": "interpreted-spoke",
   "metadata": {},
   "source": [
    "#### Consumer fraud data\n",
    "The consumer fraud data shows the list of transactions with the probability that the entire batch of transaction done by that consumer on that day could be considered fraudulent."
   ]
  },
  {
   "cell_type": "code",
   "execution_count": 2,
   "id": "described-detroit",
   "metadata": {},
   "outputs": [
    {
     "name": "stdout",
     "output_type": "stream",
     "text": [
      "34864\n"
     ]
    },
    {
     "data": {
      "text/html": [
       "<table border='1'>\n",
       "<tr><th>user_id</th><th>order_datetime</th><th>fraud_probability</th></tr>\n",
       "<tr><td>6228</td><td>2021-12-19</td><td>97.6298077657765</td></tr>\n",
       "<tr><td>21419</td><td>2021-12-10</td><td>99.24738020302328</td></tr>\n",
       "<tr><td>5606</td><td>2021-10-17</td><td>84.05825045251777</td></tr>\n",
       "<tr><td>3101</td><td>2021-04-17</td><td>91.42192091901347</td></tr>\n",
       "<tr><td>22239</td><td>2021-10-19</td><td>94.70342477508035</td></tr>\n",
       "</table>\n"
      ],
      "text/plain": [
       "+-------+--------------+-----------------+\n",
       "|user_id|order_datetime|fraud_probability|\n",
       "+-------+--------------+-----------------+\n",
       "|   6228|    2021-12-19| 97.6298077657765|\n",
       "|  21419|    2021-12-10|99.24738020302328|\n",
       "|   5606|    2021-10-17|84.05825045251777|\n",
       "|   3101|    2021-04-17|91.42192091901347|\n",
       "|  22239|    2021-10-19|94.70342477508035|\n",
       "+-------+--------------+-----------------+"
      ]
     },
     "execution_count": 2,
     "metadata": {},
     "output_type": "execute_result"
    }
   ],
   "source": [
    "print(fraud_consumer.count())\n",
    "fraud_consumer.limit(5)"
   ]
  },
  {
   "cell_type": "markdown",
   "id": "egyptian-helicopter",
   "metadata": {},
   "source": [
    "#### Merchant fraud data\n",
    "The merchant fraud data shows the probability that the entire batch of transaction done with that merchant on that day could be considered fraudulent.\n",
    "This could happen when merchants are targeted by scalper bots or other attacks during sales (i.e. the consumers committed fraud for merchants whether on purpose or because their details were stolen)."
   ]
  },
  {
   "cell_type": "code",
   "execution_count": 3,
   "id": "forty-cookie",
   "metadata": {},
   "outputs": [
    {
     "name": "stdout",
     "output_type": "stream",
     "text": [
      "114\n"
     ]
    },
    {
     "data": {
      "text/html": [
       "<table border='1'>\n",
       "<tr><th>merchant_abn</th><th>order_datetime</th><th>fraud_probability</th></tr>\n",
       "<tr><td>19492220327</td><td>2021-11-28</td><td>44.403658647495355</td></tr>\n",
       "<tr><td>31334588839</td><td>2021-10-02</td><td>42.75530083865367</td></tr>\n",
       "<tr><td>19492220327</td><td>2021-12-22</td><td>38.867790051131095</td></tr>\n",
       "<tr><td>82999039227</td><td>2021-12-19</td><td>94.1347004808891</td></tr>\n",
       "<tr><td>90918180829</td><td>2021-09-02</td><td>43.32551731714902</td></tr>\n",
       "</table>\n"
      ],
      "text/plain": [
       "+------------+--------------+------------------+\n",
       "|merchant_abn|order_datetime| fraud_probability|\n",
       "+------------+--------------+------------------+\n",
       "| 19492220327|    2021-11-28|44.403658647495355|\n",
       "| 31334588839|    2021-10-02| 42.75530083865367|\n",
       "| 19492220327|    2021-12-22|38.867790051131095|\n",
       "| 82999039227|    2021-12-19|  94.1347004808891|\n",
       "| 90918180829|    2021-09-02| 43.32551731714902|\n",
       "+------------+--------------+------------------+"
      ]
     },
     "execution_count": 3,
     "metadata": {},
     "output_type": "execute_result"
    }
   ],
   "source": [
    "print(fraud_merchants.count())\n",
    "fraud_merchants.limit(5)"
   ]
  },
  {
   "cell_type": "markdown",
   "id": "choice-weekly",
   "metadata": {},
   "source": [
    "#### Dataset to join fraud data"
   ]
  },
  {
   "cell_type": "code",
   "execution_count": 4,
   "id": "postal-equity",
   "metadata": {},
   "outputs": [
    {
     "data": {
      "text/html": [
       "<table border='1'>\n",
       "<tr><th>merchant_name</th><th>merchant_abn</th><th>categories</th><th>take_rate</th><th>revenue_levels</th><th>name</th><th>address</th><th>state</th><th>postcode</th><th>gender</th><th>trans_merchant_abn</th><th>dollar_value</th><th>order_id</th><th>order_datetime</th><th>user_id</th><th>consumer_id</th></tr>\n",
       "<tr><td>Mollis Corp.</td><td>12516851436</td><td>watch, clock, and...</td><td>6.71</td><td>a</td><td>Ashley Harris</td><td>84610 Amy Harbors</td><td>QLD</td><td>4184</td><td>Female</td><td>12516851436</td><td>285.1622236961745</td><td>eda709b9-dcd3-449...</td><td>2022-02-08</td><td>14971</td><td>1144223</td></tr>\n",
       "<tr><td>Mollis Corp.</td><td>12516851436</td><td>watch, clock, and...</td><td>6.71</td><td>a</td><td>William Ali</td><td>3166 Annette Port...</td><td>NSW</td><td>1022</td><td>Male</td><td>12516851436</td><td>75.4722398570927</td><td>92f8ad85-c6d8-409...</td><td>2022-08-13</td><td>20642</td><td>1153786</td></tr>\n",
       "<tr><td>Mollis Corp.</td><td>12516851436</td><td>watch, clock, and...</td><td>6.71</td><td>a</td><td>Anna Strickland</td><td>906 Pham Village ...</td><td>SA</td><td>5250</td><td>Female</td><td>12516851436</td><td>47.830718899387165</td><td>ab3d0252-d05f-44f...</td><td>2022-04-10</td><td>20311</td><td>1223293</td></tr>\n",
       "<tr><td>Mollis Corp.</td><td>12516851436</td><td>watch, clock, and...</td><td>6.71</td><td>a</td><td>Michael Bishop</td><td>98598 Murray Trai...</td><td>QLD</td><td>4580</td><td>Male</td><td>12516851436</td><td>259.43552349322687</td><td>0aad2674-03ee-4d8...</td><td>2022-03-25</td><td>22971</td><td>443950</td></tr>\n",
       "<tr><td>Mollis Corp.</td><td>12516851436</td><td>watch, clock, and...</td><td>6.71</td><td>a</td><td>Mary Diaz</td><td>4111 Jason Ville</td><td>SA</td><td>5038</td><td>Female</td><td>12516851436</td><td>62.60867338695297</td><td>dfb805b6-1aad-4ea...</td><td>2022-08-04</td><td>10575</td><td>626154</td></tr>\n",
       "</table>\n"
      ],
      "text/plain": [
       "+-------------+------------+--------------------+---------+--------------+---------------+--------------------+-----+--------+------+------------------+------------------+--------------------+--------------+-------+-----------+\n",
       "|merchant_name|merchant_abn|          categories|take_rate|revenue_levels|           name|             address|state|postcode|gender|trans_merchant_abn|      dollar_value|            order_id|order_datetime|user_id|consumer_id|\n",
       "+-------------+------------+--------------------+---------+--------------+---------------+--------------------+-----+--------+------+------------------+------------------+--------------------+--------------+-------+-----------+\n",
       "| Mollis Corp.| 12516851436|watch, clock, and...|     6.71|             a|  Ashley Harris|   84610 Amy Harbors|  QLD|    4184|Female|       12516851436| 285.1622236961745|eda709b9-dcd3-449...|    2022-02-08|  14971|    1144223|\n",
       "| Mollis Corp.| 12516851436|watch, clock, and...|     6.71|             a|    William Ali|3166 Annette Port...|  NSW|    1022|  Male|       12516851436|  75.4722398570927|92f8ad85-c6d8-409...|    2022-08-13|  20642|    1153786|\n",
       "| Mollis Corp.| 12516851436|watch, clock, and...|     6.71|             a|Anna Strickland|906 Pham Village ...|   SA|    5250|Female|       12516851436|47.830718899387165|ab3d0252-d05f-44f...|    2022-04-10|  20311|    1223293|\n",
       "| Mollis Corp.| 12516851436|watch, clock, and...|     6.71|             a| Michael Bishop|98598 Murray Trai...|  QLD|    4580|  Male|       12516851436|259.43552349322687|0aad2674-03ee-4d8...|    2022-03-25|  22971|     443950|\n",
       "| Mollis Corp.| 12516851436|watch, clock, and...|     6.71|             a|      Mary Diaz|    4111 Jason Ville|   SA|    5038|Female|       12516851436| 62.60867338695297|dfb805b6-1aad-4ea...|    2022-08-04|  10575|     626154|\n",
       "+-------------+------------+--------------------+---------+--------------+---------------+--------------------+-----+--------+------+------------------+------------------+--------------------+--------------+-------+-----------+"
      ]
     },
     "execution_count": 4,
     "metadata": {},
     "output_type": "execute_result"
    }
   ],
   "source": [
    "final_join.limit(5)"
   ]
  },
  {
   "cell_type": "markdown",
   "id": "elementary-forty",
   "metadata": {},
   "source": [
    "## [2] Join Fraud dataset to the processed transaction dataset"
   ]
  },
  {
   "cell_type": "markdown",
   "id": "through-diamond",
   "metadata": {},
   "source": [
    "- join consumer fraud to final join\n",
    "- create a version of final join with removed transactions from fraud\n",
    "- aggregate final join from transaction to merchant level\n",
    "- add fraud merchant as a feature to aggregated final join\n",
    "- treat fraud as response and try to create model to give other merchants a fraud score"
   ]
  },
  {
   "cell_type": "markdown",
   "id": "brilliant-fever",
   "metadata": {},
   "source": [
    "#### (1) Add consumer fraud data"
   ]
  },
  {
   "cell_type": "code",
   "execution_count": 7,
   "id": "opposite-malaysia",
   "metadata": {},
   "outputs": [
    {
     "data": {
      "text/html": [
       "<table border='1'>\n",
       "<tr><th>merchant_name</th><th>merchant_abn</th><th>categories</th><th>take_rate</th><th>revenue_levels</th><th>name</th><th>address</th><th>state</th><th>postcode</th><th>gender</th><th>trans_merchant_abn</th><th>dollar_value</th><th>order_id</th><th>order_datetime</th><th>user_id</th><th>consumer_id</th><th>fraud_probability</th></tr>\n",
       "<tr><td>Mollis Corp.</td><td>12516851436</td><td>watch, clock, and...</td><td>6.71</td><td>a</td><td>Ashley Harris</td><td>84610 Amy Harbors</td><td>QLD</td><td>4184</td><td>Female</td><td>12516851436</td><td>285.1622236961745</td><td>eda709b9-dcd3-449...</td><td>2022-02-08</td><td>14971</td><td>1144223</td><td>null</td></tr>\n",
       "<tr><td>Mollis Corp.</td><td>12516851436</td><td>watch, clock, and...</td><td>6.71</td><td>a</td><td>William Ali</td><td>3166 Annette Port...</td><td>NSW</td><td>1022</td><td>Male</td><td>12516851436</td><td>75.4722398570927</td><td>92f8ad85-c6d8-409...</td><td>2022-08-13</td><td>20642</td><td>1153786</td><td>null</td></tr>\n",
       "<tr><td>Mollis Corp.</td><td>12516851436</td><td>watch, clock, and...</td><td>6.71</td><td>a</td><td>Anna Strickland</td><td>906 Pham Village ...</td><td>SA</td><td>5250</td><td>Female</td><td>12516851436</td><td>47.830718899387165</td><td>ab3d0252-d05f-44f...</td><td>2022-04-10</td><td>20311</td><td>1223293</td><td>null</td></tr>\n",
       "<tr><td>Mollis Corp.</td><td>12516851436</td><td>watch, clock, and...</td><td>6.71</td><td>a</td><td>Michael Bishop</td><td>98598 Murray Trai...</td><td>QLD</td><td>4580</td><td>Male</td><td>12516851436</td><td>259.43552349322687</td><td>0aad2674-03ee-4d8...</td><td>2022-03-25</td><td>22971</td><td>443950</td><td>null</td></tr>\n",
       "<tr><td>Mollis Corp.</td><td>12516851436</td><td>watch, clock, and...</td><td>6.71</td><td>a</td><td>Mary Diaz</td><td>4111 Jason Ville</td><td>SA</td><td>5038</td><td>Female</td><td>12516851436</td><td>62.60867338695297</td><td>dfb805b6-1aad-4ea...</td><td>2022-08-04</td><td>10575</td><td>626154</td><td>null</td></tr>\n",
       "</table>\n"
      ],
      "text/plain": [
       "+-------------+------------+--------------------+---------+--------------+---------------+--------------------+-----+--------+------+------------------+------------------+--------------------+--------------+-------+-----------+-----------------+\n",
       "|merchant_name|merchant_abn|          categories|take_rate|revenue_levels|           name|             address|state|postcode|gender|trans_merchant_abn|      dollar_value|            order_id|order_datetime|user_id|consumer_id|fraud_probability|\n",
       "+-------------+------------+--------------------+---------+--------------+---------------+--------------------+-----+--------+------+------------------+------------------+--------------------+--------------+-------+-----------+-----------------+\n",
       "| Mollis Corp.| 12516851436|watch, clock, and...|     6.71|             a|  Ashley Harris|   84610 Amy Harbors|  QLD|    4184|Female|       12516851436| 285.1622236961745|eda709b9-dcd3-449...|    2022-02-08|  14971|    1144223|             null|\n",
       "| Mollis Corp.| 12516851436|watch, clock, and...|     6.71|             a|    William Ali|3166 Annette Port...|  NSW|    1022|  Male|       12516851436|  75.4722398570927|92f8ad85-c6d8-409...|    2022-08-13|  20642|    1153786|             null|\n",
       "| Mollis Corp.| 12516851436|watch, clock, and...|     6.71|             a|Anna Strickland|906 Pham Village ...|   SA|    5250|Female|       12516851436|47.830718899387165|ab3d0252-d05f-44f...|    2022-04-10|  20311|    1223293|             null|\n",
       "| Mollis Corp.| 12516851436|watch, clock, and...|     6.71|             a| Michael Bishop|98598 Murray Trai...|  QLD|    4580|  Male|       12516851436|259.43552349322687|0aad2674-03ee-4d8...|    2022-03-25|  22971|     443950|             null|\n",
       "| Mollis Corp.| 12516851436|watch, clock, and...|     6.71|             a|      Mary Diaz|    4111 Jason Ville|   SA|    5038|Female|       12516851436| 62.60867338695297|dfb805b6-1aad-4ea...|    2022-08-04|  10575|     626154|             null|\n",
       "+-------------+------------+--------------------+---------+--------------+---------------+--------------------+-----+--------+------+------------------+------------------+--------------------+--------------+-------+-----------+-----------------+"
      ]
     },
     "execution_count": 7,
     "metadata": {},
     "output_type": "execute_result"
    }
   ],
   "source": [
    "# adding consumer fraud data\n",
    "fj_with_fraud = final_join.alias(\"a\").join(fraud_consumer.alias(\"b\"), (final_join.user_id == fraud_consumer.user_id) \\\n",
    "                               & (final_join.order_datetime == fraud_consumer.order_datetime), \"left_outer\") \\\n",
    "                                .select(\"a.*\",\"b.fraud_probability\")\n",
    "\n",
    "# rename fraud probability for consumer fraud data\n",
    "fj_with_fraud = fj_with_fraud.withColumnRenamed('fraud_probability', 'fraud_probability_consumer')\n"
   ]
  },
  {
   "cell_type": "code",
   "execution_count": null,
   "id": "unlimited-program",
   "metadata": {},
   "outputs": [],
   "source": [
    "#fj_with_fraud.limit(5)"
   ]
  },
  {
   "cell_type": "code",
   "execution_count": 15,
   "id": "inner-fluid",
   "metadata": {},
   "outputs": [],
   "source": [
    "# save for later use\n",
    "#fj_with_fraud.write.parquet('../data/curated/fj_consumerFraud.parquet')"
   ]
  },
  {
   "cell_type": "markdown",
   "id": "boolean-debate",
   "metadata": {},
   "source": [
    "#### (2) Add merchant fraud data"
   ]
  },
  {
   "cell_type": "code",
   "execution_count": 17,
   "id": "military-special",
   "metadata": {},
   "outputs": [],
   "source": [
    "# adding merchant fraud data\n",
    "fj_with_fraud = fj_with_fraud.alias(\"a\").join(fraud_merchants.alias(\"b\"), (fj_with_fraud.merchant_abn == fraud_merchants.merchant_abn) \\\n",
    "                               & (fj_with_fraud.order_datetime == fraud_merchants.order_datetime), \"left_outer\") \\\n",
    "                                .select(\"a.*\",\"b.fraud_probability\")\n",
    "    \n",
    "# rename fraud probability for merchant fraud data\n",
    "fj_with_fraud = fj_with_fraud.withColumnRenamed('fraud_probability', 'fraud_probability_merchant')\n"
   ]
  },
  {
   "cell_type": "code",
   "execution_count": 18,
   "id": "missing-relation",
   "metadata": {},
   "outputs": [
    {
     "data": {
      "text/html": [
       "<table border='1'>\n",
       "<tr><th>merchant_name</th><th>merchant_abn</th><th>categories</th><th>take_rate</th><th>revenue_levels</th><th>name</th><th>address</th><th>state</th><th>postcode</th><th>gender</th><th>trans_merchant_abn</th><th>dollar_value</th><th>order_id</th><th>order_datetime</th><th>user_id</th><th>consumer_id</th><th>fraud_probability_consumer</th><th>fraud_probability_merchant</th></tr>\n",
       "<tr><td>Mollis Corp.</td><td>12516851436</td><td>watch, clock, and...</td><td>6.71</td><td>a</td><td>Ashley Harris</td><td>84610 Amy Harbors</td><td>QLD</td><td>4184</td><td>Female</td><td>12516851436</td><td>285.1622236961745</td><td>eda709b9-dcd3-449...</td><td>2022-02-08</td><td>14971</td><td>1144223</td><td>null</td><td>null</td></tr>\n",
       "<tr><td>Mollis Corp.</td><td>12516851436</td><td>watch, clock, and...</td><td>6.71</td><td>a</td><td>William Ali</td><td>3166 Annette Port...</td><td>NSW</td><td>1022</td><td>Male</td><td>12516851436</td><td>75.4722398570927</td><td>92f8ad85-c6d8-409...</td><td>2022-08-13</td><td>20642</td><td>1153786</td><td>null</td><td>null</td></tr>\n",
       "<tr><td>Mollis Corp.</td><td>12516851436</td><td>watch, clock, and...</td><td>6.71</td><td>a</td><td>Anna Strickland</td><td>906 Pham Village ...</td><td>SA</td><td>5250</td><td>Female</td><td>12516851436</td><td>47.830718899387165</td><td>ab3d0252-d05f-44f...</td><td>2022-04-10</td><td>20311</td><td>1223293</td><td>null</td><td>null</td></tr>\n",
       "<tr><td>Mollis Corp.</td><td>12516851436</td><td>watch, clock, and...</td><td>6.71</td><td>a</td><td>Michael Bishop</td><td>98598 Murray Trai...</td><td>QLD</td><td>4580</td><td>Male</td><td>12516851436</td><td>259.43552349322687</td><td>0aad2674-03ee-4d8...</td><td>2022-03-25</td><td>22971</td><td>443950</td><td>null</td><td>null</td></tr>\n",
       "<tr><td>Mollis Corp.</td><td>12516851436</td><td>watch, clock, and...</td><td>6.71</td><td>a</td><td>Mary Diaz</td><td>4111 Jason Ville</td><td>SA</td><td>5038</td><td>Female</td><td>12516851436</td><td>62.60867338695297</td><td>dfb805b6-1aad-4ea...</td><td>2022-08-04</td><td>10575</td><td>626154</td><td>null</td><td>null</td></tr>\n",
       "</table>\n"
      ],
      "text/plain": [
       "+-------------+------------+--------------------+---------+--------------+---------------+--------------------+-----+--------+------+------------------+------------------+--------------------+--------------+-------+-----------+--------------------------+--------------------------+\n",
       "|merchant_name|merchant_abn|          categories|take_rate|revenue_levels|           name|             address|state|postcode|gender|trans_merchant_abn|      dollar_value|            order_id|order_datetime|user_id|consumer_id|fraud_probability_consumer|fraud_probability_merchant|\n",
       "+-------------+------------+--------------------+---------+--------------+---------------+--------------------+-----+--------+------+------------------+------------------+--------------------+--------------+-------+-----------+--------------------------+--------------------------+\n",
       "| Mollis Corp.| 12516851436|watch, clock, and...|     6.71|             a|  Ashley Harris|   84610 Amy Harbors|  QLD|    4184|Female|       12516851436| 285.1622236961745|eda709b9-dcd3-449...|    2022-02-08|  14971|    1144223|                      null|                      null|\n",
       "| Mollis Corp.| 12516851436|watch, clock, and...|     6.71|             a|    William Ali|3166 Annette Port...|  NSW|    1022|  Male|       12516851436|  75.4722398570927|92f8ad85-c6d8-409...|    2022-08-13|  20642|    1153786|                      null|                      null|\n",
       "| Mollis Corp.| 12516851436|watch, clock, and...|     6.71|             a|Anna Strickland|906 Pham Village ...|   SA|    5250|Female|       12516851436|47.830718899387165|ab3d0252-d05f-44f...|    2022-04-10|  20311|    1223293|                      null|                      null|\n",
       "| Mollis Corp.| 12516851436|watch, clock, and...|     6.71|             a| Michael Bishop|98598 Murray Trai...|  QLD|    4580|  Male|       12516851436|259.43552349322687|0aad2674-03ee-4d8...|    2022-03-25|  22971|     443950|                      null|                      null|\n",
       "| Mollis Corp.| 12516851436|watch, clock, and...|     6.71|             a|      Mary Diaz|    4111 Jason Ville|   SA|    5038|Female|       12516851436| 62.60867338695297|dfb805b6-1aad-4ea...|    2022-08-04|  10575|     626154|                      null|                      null|\n",
       "+-------------+------------+--------------------+---------+--------------+---------------+--------------------+-----+--------+------+------------------+------------------+--------------------+--------------+-------+-----------+--------------------------+--------------------------+"
      ]
     },
     "execution_count": 18,
     "metadata": {},
     "output_type": "execute_result"
    }
   ],
   "source": [
    "#fj_with_fraud.limit(5)"
   ]
  },
  {
   "cell_type": "code",
   "execution_count": 19,
   "id": "equivalent-culture",
   "metadata": {},
   "outputs": [],
   "source": [
    "# save for later use\n",
    "#fj_with_fraud.write.parquet('../data/curated/fj_consumer_merchant_fraud.parquet')"
   ]
  },
  {
   "cell_type": "markdown",
   "id": "fuzzy-arnold",
   "metadata": {},
   "source": [
    "#### (3) Remove instance with Null fraud probability"
   ]
  },
  {
   "cell_type": "code",
   "execution_count": 20,
   "id": "several-mailman",
   "metadata": {},
   "outputs": [],
   "source": [
    "# dataset with both merchant and consumer fraud probability i.e. remove null probabilities\n",
    "fj_fraud_prob = fj_with_fraud.filter(col(\"fraud_probability_consumer\").isNotNull() & col(\"fraud_probability_merchant\").isNotNull())"
   ]
  },
  {
   "cell_type": "code",
   "execution_count": 45,
   "id": "induced-design",
   "metadata": {},
   "outputs": [],
   "source": [
    "# save for later use\n",
    "#fj_fraud_prob.write.parquet('../data/curated/consumer_merchant_fraud_notNull.parquet')"
   ]
  },
  {
   "cell_type": "code",
   "execution_count": 21,
   "id": "trained-apache",
   "metadata": {},
   "outputs": [
    {
     "data": {
      "text/html": [
       "<table border='1'>\n",
       "<tr><th>merchant_name</th><th>merchant_abn</th><th>categories</th><th>take_rate</th><th>revenue_levels</th><th>name</th><th>address</th><th>state</th><th>postcode</th><th>gender</th><th>trans_merchant_abn</th><th>dollar_value</th><th>order_id</th><th>order_datetime</th><th>user_id</th><th>consumer_id</th><th>fraud_probability_consumer</th><th>fraud_probability_merchant</th></tr>\n",
       "<tr><td>Arcu Morbi Institute</td><td>39649557865</td><td>artist supply and...</td><td>1.47</td><td>c</td><td>Michael Henderson MD</td><td>93987 Daniel Vill...</td><td>WA</td><td>6427</td><td>Male</td><td>39649557865</td><td>1523.9317579642068</td><td>ebf92d8d-b272-4b8...</td><td>2021-11-26</td><td>161</td><td>1141213</td><td>8.57568823160988</td><td>28.690204286050616</td></tr>\n",
       "<tr><td>Ligula Elit Preti...</td><td>83199298021</td><td>antique shops - s...</td><td>4.82</td><td>b</td><td>Ryan Wright</td><td>6031 Patrick Lane...</td><td>WA</td><td>6350</td><td>Male</td><td>83199298021</td><td>44471.999391282814</td><td>4463230f-9745-4a4...</td><td>2022-02-27</td><td>3513</td><td>1454256</td><td>75.16981192247916</td><td>26.025158824861773</td></tr>\n",
       "<tr><td>Ligula Elit Preti...</td><td>83199298021</td><td>antique shops - s...</td><td>4.82</td><td>b</td><td>Ryan Wright</td><td>6031 Patrick Lane...</td><td>WA</td><td>6350</td><td>Male</td><td>83199298021</td><td>44471.999391282814</td><td>4463230f-9745-4a4...</td><td>2022-02-27</td><td>3513</td><td>1454256</td><td>75.16981192247916</td><td>26.025158824861773</td></tr>\n",
       "<tr><td>Mauris Non Institute</td><td>21439773999</td><td>cable, satellite,...</td><td>6.1</td><td>a</td><td>Michael Quinn</td><td>32754 Herbert Radial</td><td>NSW</td><td>2260</td><td>Male</td><td>21439773999</td><td>99.68921242913112</td><td>2d9c7367-23f5-472...</td><td>2021-11-26</td><td>3435</td><td>1160567</td><td>36.82560105712125</td><td>28.504479048104585</td></tr>\n",
       "<tr><td>Lacus Aliquam Cor...</td><td>31334588839</td><td>antique shops - s...</td><td>4.22</td><td>b</td><td>Dominique Adams</td><td>30228 Alexander R...</td><td>WA</td><td>6107</td><td>Undisclosed</td><td>31334588839</td><td>3772.1317360358003</td><td>d9d38a94-cc9b-481...</td><td>2021-11-29</td><td>13550</td><td>1308424</td><td>14.274656540979628</td><td>35.386213297375505</td></tr>\n",
       "</table>\n"
      ],
      "text/plain": [
       "+--------------------+------------+--------------------+---------+--------------+--------------------+--------------------+-----+--------+-----------+------------------+------------------+--------------------+--------------+-------+-----------+--------------------------+--------------------------+\n",
       "|       merchant_name|merchant_abn|          categories|take_rate|revenue_levels|                name|             address|state|postcode|     gender|trans_merchant_abn|      dollar_value|            order_id|order_datetime|user_id|consumer_id|fraud_probability_consumer|fraud_probability_merchant|\n",
       "+--------------------+------------+--------------------+---------+--------------+--------------------+--------------------+-----+--------+-----------+------------------+------------------+--------------------+--------------+-------+-----------+--------------------------+--------------------------+\n",
       "|Arcu Morbi Institute| 39649557865|artist supply and...|     1.47|             c|Michael Henderson MD|93987 Daniel Vill...|   WA|    6427|       Male|       39649557865|1523.9317579642068|ebf92d8d-b272-4b8...|    2021-11-26|    161|    1141213|          8.57568823160988|        28.690204286050616|\n",
       "|Ligula Elit Preti...| 83199298021|antique shops - s...|     4.82|             b|         Ryan Wright|6031 Patrick Lane...|   WA|    6350|       Male|       83199298021|44471.999391282814|4463230f-9745-4a4...|    2022-02-27|   3513|    1454256|         75.16981192247916|        26.025158824861773|\n",
       "|Ligula Elit Preti...| 83199298021|antique shops - s...|     4.82|             b|         Ryan Wright|6031 Patrick Lane...|   WA|    6350|       Male|       83199298021|44471.999391282814|4463230f-9745-4a4...|    2022-02-27|   3513|    1454256|         75.16981192247916|        26.025158824861773|\n",
       "|Mauris Non Institute| 21439773999|cable, satellite,...|      6.1|             a|       Michael Quinn|32754 Herbert Radial|  NSW|    2260|       Male|       21439773999| 99.68921242913112|2d9c7367-23f5-472...|    2021-11-26|   3435|    1160567|         36.82560105712125|        28.504479048104585|\n",
       "|Lacus Aliquam Cor...| 31334588839|antique shops - s...|     4.22|             b|     Dominique Adams|30228 Alexander R...|   WA|    6107|Undisclosed|       31334588839|3772.1317360358003|d9d38a94-cc9b-481...|    2021-11-29|  13550|    1308424|        14.274656540979628|        35.386213297375505|\n",
       "+--------------------+------------+--------------------+---------+--------------+--------------------+--------------------+-----+--------+-----------+------------------+------------------+--------------------+--------------+-------+-----------+--------------------------+--------------------------+"
      ]
     },
     "execution_count": 21,
     "metadata": {},
     "output_type": "execute_result"
    }
   ],
   "source": [
    "#fj_fraud_prob.limit(5)"
   ]
  },
  {
   "cell_type": "code",
   "execution_count": 28,
   "id": "precise-comedy",
   "metadata": {},
   "outputs": [
    {
     "name": "stdout",
     "output_type": "stream",
     "text": [
      "root\n",
      " |-- merchant_name: string (nullable = true)\n",
      " |-- merchant_abn: long (nullable = true)\n",
      " |-- categories: string (nullable = true)\n",
      " |-- take_rate: double (nullable = true)\n",
      " |-- revenue_levels: string (nullable = true)\n",
      " |-- name: string (nullable = true)\n",
      " |-- address: string (nullable = true)\n",
      " |-- state: string (nullable = true)\n",
      " |-- postcode: string (nullable = true)\n",
      " |-- gender: string (nullable = true)\n",
      " |-- trans_merchant_abn: long (nullable = true)\n",
      " |-- dollar_value: double (nullable = true)\n",
      " |-- order_id: string (nullable = true)\n",
      " |-- order_datetime: date (nullable = true)\n",
      " |-- user_id: long (nullable = true)\n",
      " |-- consumer_id: long (nullable = true)\n",
      " |-- fraud_probability_consumer: string (nullable = true)\n",
      " |-- fraud_probability_merchant: string (nullable = true)\n",
      "\n"
     ]
    }
   ],
   "source": [
    "fj_fraud_prob.printSchema()"
   ]
  },
  {
   "cell_type": "markdown",
   "id": "valid-cement",
   "metadata": {},
   "source": [
    "#### Check number of instances for each dataset\n",
    "The dataset with both merchant and consumer fraud probability has 389 instances which might be small for the analysis.\n",
    "\n",
    "The dataset with merchant fraud probability has 4028 and one with consumer fraud probability has 80560 instances."
   ]
  },
  {
   "cell_type": "code",
   "execution_count": 47,
   "id": "destroyed-custody",
   "metadata": {},
   "outputs": [
    {
     "data": {
      "text/plain": [
       "(389, 18)"
      ]
     },
     "execution_count": 47,
     "metadata": {},
     "output_type": "execute_result"
    }
   ],
   "source": [
    "fj_fraud_prob.count(), len(fj_fraud_prob.columns)"
   ]
  },
  {
   "cell_type": "code",
   "execution_count": 38,
   "id": "welsh-sarah",
   "metadata": {},
   "outputs": [
    {
     "data": {
      "text/plain": [
       "80560"
      ]
     },
     "execution_count": 38,
     "metadata": {},
     "output_type": "execute_result"
    }
   ],
   "source": [
    "# consumer fraud not null\n",
    "fj_with_fraud.filter(col(\"fraud_probability_consumer\").isNotNull()).count()"
   ]
  },
  {
   "cell_type": "code",
   "execution_count": 40,
   "id": "satisfied-timothy",
   "metadata": {},
   "outputs": [
    {
     "data": {
      "text/plain": [
       "4028"
      ]
     },
     "execution_count": 40,
     "metadata": {},
     "output_type": "execute_result"
    }
   ],
   "source": [
    "# merchant fraud not null\n",
    "fj_with_fraud.filter(col(\"fraud_probability_merchant\").isNotNull()).count()"
   ]
  },
  {
   "cell_type": "markdown",
   "id": "judicial-current",
   "metadata": {},
   "source": [
    "## [3] Clustering model to detect fraud"
   ]
  },
  {
   "cell_type": "code",
   "execution_count": 46,
   "id": "interpreted-hungarian",
   "metadata": {},
   "outputs": [
    {
     "data": {
      "text/html": [
       "<div>\n",
       "<style scoped>\n",
       "    .dataframe tbody tr th:only-of-type {\n",
       "        vertical-align: middle;\n",
       "    }\n",
       "\n",
       "    .dataframe tbody tr th {\n",
       "        vertical-align: top;\n",
       "    }\n",
       "\n",
       "    .dataframe thead th {\n",
       "        text-align: right;\n",
       "    }\n",
       "</style>\n",
       "<table border=\"1\" class=\"dataframe\">\n",
       "  <thead>\n",
       "    <tr style=\"text-align: right;\">\n",
       "      <th></th>\n",
       "      <th>merchant_name</th>\n",
       "      <th>merchant_abn</th>\n",
       "      <th>categories</th>\n",
       "      <th>take_rate</th>\n",
       "      <th>revenue_levels</th>\n",
       "      <th>name</th>\n",
       "      <th>address</th>\n",
       "      <th>state</th>\n",
       "      <th>postcode</th>\n",
       "      <th>gender</th>\n",
       "      <th>trans_merchant_abn</th>\n",
       "      <th>dollar_value</th>\n",
       "      <th>order_id</th>\n",
       "      <th>order_datetime</th>\n",
       "      <th>user_id</th>\n",
       "      <th>consumer_id</th>\n",
       "      <th>fraud_probability_consumer</th>\n",
       "      <th>fraud_probability_merchant</th>\n",
       "    </tr>\n",
       "  </thead>\n",
       "  <tbody>\n",
       "    <tr>\n",
       "      <th>0</th>\n",
       "      <td>Mollis Corp.</td>\n",
       "      <td>1.251685e+10</td>\n",
       "      <td>watch, clock, and jewelry repair shops</td>\n",
       "      <td>6.71</td>\n",
       "      <td>a</td>\n",
       "      <td>Ashley Harris</td>\n",
       "      <td>84610 Amy Harbors</td>\n",
       "      <td>QLD</td>\n",
       "      <td>4184</td>\n",
       "      <td>Female</td>\n",
       "      <td>12516851436</td>\n",
       "      <td>285.162224</td>\n",
       "      <td>eda709b9-dcd3-4492-8cdc-968cef5e89d9</td>\n",
       "      <td>2022-02-08</td>\n",
       "      <td>14971</td>\n",
       "      <td>1144223</td>\n",
       "      <td>None</td>\n",
       "      <td>None</td>\n",
       "    </tr>\n",
       "    <tr>\n",
       "      <th>1</th>\n",
       "      <td>Mollis Corp.</td>\n",
       "      <td>1.251685e+10</td>\n",
       "      <td>watch, clock, and jewelry repair shops</td>\n",
       "      <td>6.71</td>\n",
       "      <td>a</td>\n",
       "      <td>William Ali</td>\n",
       "      <td>3166 Annette Ports Suite 234</td>\n",
       "      <td>NSW</td>\n",
       "      <td>1022</td>\n",
       "      <td>Male</td>\n",
       "      <td>12516851436</td>\n",
       "      <td>75.472240</td>\n",
       "      <td>92f8ad85-c6d8-409a-b82d-d55d2446eb54</td>\n",
       "      <td>2022-08-13</td>\n",
       "      <td>20642</td>\n",
       "      <td>1153786</td>\n",
       "      <td>None</td>\n",
       "      <td>None</td>\n",
       "    </tr>\n",
       "    <tr>\n",
       "      <th>2</th>\n",
       "      <td>Mollis Corp.</td>\n",
       "      <td>1.251685e+10</td>\n",
       "      <td>watch, clock, and jewelry repair shops</td>\n",
       "      <td>6.71</td>\n",
       "      <td>a</td>\n",
       "      <td>Anna Strickland</td>\n",
       "      <td>906 Pham Village Suite 039</td>\n",
       "      <td>SA</td>\n",
       "      <td>5250</td>\n",
       "      <td>Female</td>\n",
       "      <td>12516851436</td>\n",
       "      <td>47.830719</td>\n",
       "      <td>ab3d0252-d05f-44f2-a184-3095ad27a300</td>\n",
       "      <td>2022-04-10</td>\n",
       "      <td>20311</td>\n",
       "      <td>1223293</td>\n",
       "      <td>None</td>\n",
       "      <td>None</td>\n",
       "    </tr>\n",
       "    <tr>\n",
       "      <th>3</th>\n",
       "      <td>Mollis Corp.</td>\n",
       "      <td>1.251685e+10</td>\n",
       "      <td>watch, clock, and jewelry repair shops</td>\n",
       "      <td>6.71</td>\n",
       "      <td>a</td>\n",
       "      <td>Michael Bishop</td>\n",
       "      <td>98598 Murray Trail Suite 603</td>\n",
       "      <td>QLD</td>\n",
       "      <td>4580</td>\n",
       "      <td>Male</td>\n",
       "      <td>12516851436</td>\n",
       "      <td>259.435523</td>\n",
       "      <td>0aad2674-03ee-4d8e-8ceb-99a05d6b8698</td>\n",
       "      <td>2022-03-25</td>\n",
       "      <td>22971</td>\n",
       "      <td>443950</td>\n",
       "      <td>None</td>\n",
       "      <td>None</td>\n",
       "    </tr>\n",
       "    <tr>\n",
       "      <th>4</th>\n",
       "      <td>Mollis Corp.</td>\n",
       "      <td>1.251685e+10</td>\n",
       "      <td>watch, clock, and jewelry repair shops</td>\n",
       "      <td>6.71</td>\n",
       "      <td>a</td>\n",
       "      <td>Mary Diaz</td>\n",
       "      <td>4111 Jason Ville</td>\n",
       "      <td>SA</td>\n",
       "      <td>5038</td>\n",
       "      <td>Female</td>\n",
       "      <td>12516851436</td>\n",
       "      <td>62.608673</td>\n",
       "      <td>dfb805b6-1aad-4ea1-a229-a695682eb2d6</td>\n",
       "      <td>2022-08-04</td>\n",
       "      <td>10575</td>\n",
       "      <td>626154</td>\n",
       "      <td>None</td>\n",
       "      <td>None</td>\n",
       "    </tr>\n",
       "    <tr>\n",
       "      <th>...</th>\n",
       "      <td>...</td>\n",
       "      <td>...</td>\n",
       "      <td>...</td>\n",
       "      <td>...</td>\n",
       "      <td>...</td>\n",
       "      <td>...</td>\n",
       "      <td>...</td>\n",
       "      <td>...</td>\n",
       "      <td>...</td>\n",
       "      <td>...</td>\n",
       "      <td>...</td>\n",
       "      <td>...</td>\n",
       "      <td>...</td>\n",
       "      <td>...</td>\n",
       "      <td>...</td>\n",
       "      <td>...</td>\n",
       "      <td>...</td>\n",
       "      <td>...</td>\n",
       "    </tr>\n",
       "    <tr>\n",
       "      <th>14195712</th>\n",
       "      <td>Nunc Risus LLP</td>\n",
       "      <td>9.900929e+10</td>\n",
       "      <td>computer programming , data processing, and in...</td>\n",
       "      <td>3.15</td>\n",
       "      <td>b</td>\n",
       "      <td>Robert Luna</td>\n",
       "      <td>72037 Summers Underpass Apt. 530</td>\n",
       "      <td>SA</td>\n",
       "      <td>5034</td>\n",
       "      <td>Male</td>\n",
       "      <td>99009287608</td>\n",
       "      <td>251.696240</td>\n",
       "      <td>7ed92383-3f37-483d-a601-1ed608139749</td>\n",
       "      <td>2021-12-10</td>\n",
       "      <td>15220</td>\n",
       "      <td>493495</td>\n",
       "      <td>None</td>\n",
       "      <td>None</td>\n",
       "    </tr>\n",
       "    <tr>\n",
       "      <th>14195713</th>\n",
       "      <td>Nunc Risus LLP</td>\n",
       "      <td>9.900929e+10</td>\n",
       "      <td>computer programming , data processing, and in...</td>\n",
       "      <td>3.15</td>\n",
       "      <td>b</td>\n",
       "      <td>Michael Wong</td>\n",
       "      <td>4621 Smith Summit</td>\n",
       "      <td>VIC</td>\n",
       "      <td>3965</td>\n",
       "      <td>Male</td>\n",
       "      <td>99009287608</td>\n",
       "      <td>484.389368</td>\n",
       "      <td>816d23f0-c53c-4d8e-953a-fe66fc092643</td>\n",
       "      <td>2022-05-05</td>\n",
       "      <td>18056</td>\n",
       "      <td>777734</td>\n",
       "      <td>None</td>\n",
       "      <td>None</td>\n",
       "    </tr>\n",
       "    <tr>\n",
       "      <th>14195714</th>\n",
       "      <td>Nunc Risus LLP</td>\n",
       "      <td>9.900929e+10</td>\n",
       "      <td>computer programming , data processing, and in...</td>\n",
       "      <td>3.15</td>\n",
       "      <td>b</td>\n",
       "      <td>Victoria Davis</td>\n",
       "      <td>65123 Gabrielle Forges</td>\n",
       "      <td>WA</td>\n",
       "      <td>6028</td>\n",
       "      <td>Female</td>\n",
       "      <td>99009287608</td>\n",
       "      <td>128.620448</td>\n",
       "      <td>3811d8fa-113a-48a7-b1c0-f41a51098e47</td>\n",
       "      <td>2021-06-30</td>\n",
       "      <td>16004</td>\n",
       "      <td>1247635</td>\n",
       "      <td>None</td>\n",
       "      <td>None</td>\n",
       "    </tr>\n",
       "    <tr>\n",
       "      <th>14195715</th>\n",
       "      <td>Nunc Risus LLP</td>\n",
       "      <td>9.900929e+10</td>\n",
       "      <td>computer programming , data processing, and in...</td>\n",
       "      <td>3.15</td>\n",
       "      <td>b</td>\n",
       "      <td>Kimberly Morrison</td>\n",
       "      <td>27437 Davila Terrace</td>\n",
       "      <td>QLD</td>\n",
       "      <td>4497</td>\n",
       "      <td>Female</td>\n",
       "      <td>99009287608</td>\n",
       "      <td>214.903545</td>\n",
       "      <td>5379f32a-afeb-4415-8045-465d562b72fd</td>\n",
       "      <td>2021-06-09</td>\n",
       "      <td>21322</td>\n",
       "      <td>830647</td>\n",
       "      <td>None</td>\n",
       "      <td>None</td>\n",
       "    </tr>\n",
       "    <tr>\n",
       "      <th>14195716</th>\n",
       "      <td>Nunc Risus LLP</td>\n",
       "      <td>9.900929e+10</td>\n",
       "      <td>computer programming , data processing, and in...</td>\n",
       "      <td>3.15</td>\n",
       "      <td>b</td>\n",
       "      <td>Samuel Kane</td>\n",
       "      <td>08808 Smith Drives</td>\n",
       "      <td>VIC</td>\n",
       "      <td>3058</td>\n",
       "      <td>Male</td>\n",
       "      <td>99009287608</td>\n",
       "      <td>67.070735</td>\n",
       "      <td>6ce028ed-f472-4616-9a50-1f51d3047bac</td>\n",
       "      <td>2022-05-29</td>\n",
       "      <td>21541</td>\n",
       "      <td>1153528</td>\n",
       "      <td>None</td>\n",
       "      <td>None</td>\n",
       "    </tr>\n",
       "  </tbody>\n",
       "</table>\n",
       "<p>14195717 rows × 18 columns</p>\n",
       "</div>"
      ],
      "text/plain": [
       "           merchant_name  merchant_abn  \\\n",
       "0           Mollis Corp.  1.251685e+10   \n",
       "1           Mollis Corp.  1.251685e+10   \n",
       "2           Mollis Corp.  1.251685e+10   \n",
       "3           Mollis Corp.  1.251685e+10   \n",
       "4           Mollis Corp.  1.251685e+10   \n",
       "...                  ...           ...   \n",
       "14195712  Nunc Risus LLP  9.900929e+10   \n",
       "14195713  Nunc Risus LLP  9.900929e+10   \n",
       "14195714  Nunc Risus LLP  9.900929e+10   \n",
       "14195715  Nunc Risus LLP  9.900929e+10   \n",
       "14195716  Nunc Risus LLP  9.900929e+10   \n",
       "\n",
       "                                                 categories  take_rate  \\\n",
       "0                    watch, clock, and jewelry repair shops       6.71   \n",
       "1                    watch, clock, and jewelry repair shops       6.71   \n",
       "2                    watch, clock, and jewelry repair shops       6.71   \n",
       "3                    watch, clock, and jewelry repair shops       6.71   \n",
       "4                    watch, clock, and jewelry repair shops       6.71   \n",
       "...                                                     ...        ...   \n",
       "14195712  computer programming , data processing, and in...       3.15   \n",
       "14195713  computer programming , data processing, and in...       3.15   \n",
       "14195714  computer programming , data processing, and in...       3.15   \n",
       "14195715  computer programming , data processing, and in...       3.15   \n",
       "14195716  computer programming , data processing, and in...       3.15   \n",
       "\n",
       "         revenue_levels               name                           address  \\\n",
       "0                     a      Ashley Harris                 84610 Amy Harbors   \n",
       "1                     a        William Ali      3166 Annette Ports Suite 234   \n",
       "2                     a    Anna Strickland        906 Pham Village Suite 039   \n",
       "3                     a     Michael Bishop      98598 Murray Trail Suite 603   \n",
       "4                     a          Mary Diaz                  4111 Jason Ville   \n",
       "...                 ...                ...                               ...   \n",
       "14195712              b        Robert Luna  72037 Summers Underpass Apt. 530   \n",
       "14195713              b       Michael Wong                 4621 Smith Summit   \n",
       "14195714              b     Victoria Davis            65123 Gabrielle Forges   \n",
       "14195715              b  Kimberly Morrison              27437 Davila Terrace   \n",
       "14195716              b        Samuel Kane                08808 Smith Drives   \n",
       "\n",
       "         state postcode  gender  trans_merchant_abn  dollar_value  \\\n",
       "0          QLD     4184  Female         12516851436    285.162224   \n",
       "1          NSW     1022    Male         12516851436     75.472240   \n",
       "2           SA     5250  Female         12516851436     47.830719   \n",
       "3          QLD     4580    Male         12516851436    259.435523   \n",
       "4           SA     5038  Female         12516851436     62.608673   \n",
       "...        ...      ...     ...                 ...           ...   \n",
       "14195712    SA     5034    Male         99009287608    251.696240   \n",
       "14195713   VIC     3965    Male         99009287608    484.389368   \n",
       "14195714    WA     6028  Female         99009287608    128.620448   \n",
       "14195715   QLD     4497  Female         99009287608    214.903545   \n",
       "14195716   VIC     3058    Male         99009287608     67.070735   \n",
       "\n",
       "                                      order_id order_datetime  user_id  \\\n",
       "0         eda709b9-dcd3-4492-8cdc-968cef5e89d9     2022-02-08    14971   \n",
       "1         92f8ad85-c6d8-409a-b82d-d55d2446eb54     2022-08-13    20642   \n",
       "2         ab3d0252-d05f-44f2-a184-3095ad27a300     2022-04-10    20311   \n",
       "3         0aad2674-03ee-4d8e-8ceb-99a05d6b8698     2022-03-25    22971   \n",
       "4         dfb805b6-1aad-4ea1-a229-a695682eb2d6     2022-08-04    10575   \n",
       "...                                        ...            ...      ...   \n",
       "14195712  7ed92383-3f37-483d-a601-1ed608139749     2021-12-10    15220   \n",
       "14195713  816d23f0-c53c-4d8e-953a-fe66fc092643     2022-05-05    18056   \n",
       "14195714  3811d8fa-113a-48a7-b1c0-f41a51098e47     2021-06-30    16004   \n",
       "14195715  5379f32a-afeb-4415-8045-465d562b72fd     2021-06-09    21322   \n",
       "14195716  6ce028ed-f472-4616-9a50-1f51d3047bac     2022-05-29    21541   \n",
       "\n",
       "          consumer_id fraud_probability_consumer fraud_probability_merchant  \n",
       "0             1144223                       None                       None  \n",
       "1             1153786                       None                       None  \n",
       "2             1223293                       None                       None  \n",
       "3              443950                       None                       None  \n",
       "4              626154                       None                       None  \n",
       "...               ...                        ...                        ...  \n",
       "14195712       493495                       None                       None  \n",
       "14195713       777734                       None                       None  \n",
       "14195714      1247635                       None                       None  \n",
       "14195715       830647                       None                       None  \n",
       "14195716      1153528                       None                       None  \n",
       "\n",
       "[14195717 rows x 18 columns]"
      ]
     },
     "execution_count": 46,
     "metadata": {},
     "output_type": "execute_result"
    }
   ],
   "source": [
    "fj_with_fraud = pd.read_parquet('../data/curated/fj_consumer_merchant_fraud.parquet')"
   ]
  },
  {
   "cell_type": "code",
   "execution_count": null,
   "id": "satisfied-superintendent",
   "metadata": {},
   "outputs": [],
   "source": []
  },
  {
   "cell_type": "code",
   "execution_count": null,
   "id": "innocent-stevens",
   "metadata": {},
   "outputs": [],
   "source": []
  },
  {
   "cell_type": "code",
   "execution_count": null,
   "id": "enhanced-physiology",
   "metadata": {},
   "outputs": [],
   "source": [
    "# clustering based on number of purchase per day, \n",
    "# amount per purchase (usually make small transactions but big one transaction is made => fraud?), \n",
    "# fraud probability"
   ]
  },
  {
   "cell_type": "code",
   "execution_count": null,
   "id": "incorrect-moment",
   "metadata": {},
   "outputs": [],
   "source": [
    "########### Change: Run the script once, and save data dataset, use it from the saved data"
   ]
  },
  {
   "cell_type": "code",
   "execution_count": null,
   "id": "british-vacuum",
   "metadata": {},
   "outputs": [],
   "source": []
  },
  {
   "cell_type": "code",
   "execution_count": null,
   "id": "color-taste",
   "metadata": {},
   "outputs": [],
   "source": []
  },
  {
   "cell_type": "code",
   "execution_count": null,
   "id": "cloudy-variation",
   "metadata": {},
   "outputs": [],
   "source": []
  },
  {
   "cell_type": "code",
   "execution_count": null,
   "id": "parallel-finnish",
   "metadata": {},
   "outputs": [],
   "source": []
  },
  {
   "cell_type": "code",
   "execution_count": null,
   "id": "expanded-catalog",
   "metadata": {},
   "outputs": [],
   "source": []
  },
  {
   "cell_type": "code",
   "execution_count": null,
   "id": "familiar-catalyst",
   "metadata": {},
   "outputs": [],
   "source": []
  },
  {
   "cell_type": "code",
   "execution_count": null,
   "id": "continued-afternoon",
   "metadata": {},
   "outputs": [],
   "source": []
  },
  {
   "cell_type": "code",
   "execution_count": null,
   "id": "angry-awareness",
   "metadata": {},
   "outputs": [],
   "source": []
  },
  {
   "cell_type": "code",
   "execution_count": null,
   "id": "acting-copying",
   "metadata": {},
   "outputs": [],
   "source": []
  },
  {
   "cell_type": "code",
   "execution_count": null,
   "id": "better-burning",
   "metadata": {},
   "outputs": [],
   "source": []
  },
  {
   "cell_type": "code",
   "execution_count": null,
   "id": "sexual-winning",
   "metadata": {},
   "outputs": [],
   "source": []
  },
  {
   "cell_type": "code",
   "execution_count": null,
   "id": "micro-numbers",
   "metadata": {},
   "outputs": [],
   "source": []
  },
  {
   "cell_type": "code",
   "execution_count": null,
   "id": "earned-terminal",
   "metadata": {},
   "outputs": [],
   "source": []
  },
  {
   "cell_type": "code",
   "execution_count": 22,
   "id": "informal-liberia",
   "metadata": {},
   "outputs": [
    {
     "name": "stderr",
     "output_type": "stream",
     "text": [
      "                                                                                \r"
     ]
    },
    {
     "data": {
      "text/plain": [
       "14115157"
      ]
     },
     "execution_count": 22,
     "metadata": {},
     "output_type": "execute_result"
    }
   ],
   "source": [
    "fj_rem_fraud = fj_with_fraud.filter(\"fraud_probability is NULL\")\n",
    "fj_rem_fraud.count()"
   ]
  },
  {
   "cell_type": "code",
   "execution_count": 16,
   "id": "documentary-reception",
   "metadata": {},
   "outputs": [
    {
     "name": "stderr",
     "output_type": "stream",
     "text": [
      "                                                                                \r"
     ]
    },
    {
     "data": {
      "text/plain": [
       "499999"
      ]
     },
     "execution_count": 16,
     "metadata": {},
     "output_type": "execute_result"
    }
   ],
   "source": [
    "user_details.count()"
   ]
  },
  {
   "cell_type": "code",
   "execution_count": 23,
   "id": "mobile-lindsay",
   "metadata": {},
   "outputs": [
    {
     "name": "stderr",
     "output_type": "stream",
     "text": [
      "                                                                                \r"
     ]
    },
    {
     "data": {
      "text/plain": [
       "14195505"
      ]
     },
     "execution_count": 23,
     "metadata": {},
     "output_type": "execute_result"
    }
   ],
   "source": [
    "final_join.count()"
   ]
  },
  {
   "cell_type": "code",
   "execution_count": 24,
   "id": "olive-mounting",
   "metadata": {},
   "outputs": [
    {
     "data": {
      "text/html": [
       "<table border='1'>\n",
       "<tr><th>merchant_name</th><th>merchant_abn</th><th>categories</th><th>take_rate</th><th>revenue_levels</th></tr>\n",
       "<tr><td>Felis Limited</td><td>10023283211</td><td>furniture, home f...</td><td>0.18</td><td>e</td></tr>\n",
       "<tr><td>Arcu Ac Orci Corp...</td><td>10142254217</td><td>cable, satellite,...</td><td>4.22</td><td>b</td></tr>\n",
       "<tr><td>Nunc Sed Company</td><td>10165489824</td><td>jewelry, watch, c...</td><td>4.4</td><td>b</td></tr>\n",
       "<tr><td>Ultricies Digniss...</td><td>10187291046</td><td>wAtch, clock, and...</td><td>3.29</td><td>b</td></tr>\n",
       "<tr><td>Enim Condimentum PC</td><td>10192359162</td><td>music shops - mus...</td><td>6.33</td><td>a</td></tr>\n",
       "</table>\n"
      ],
      "text/plain": [
       "+--------------------+------------+--------------------+---------+--------------+\n",
       "|       merchant_name|merchant_abn|          categories|take_rate|revenue_levels|\n",
       "+--------------------+------------+--------------------+---------+--------------+\n",
       "|       Felis Limited| 10023283211|furniture, home f...|     0.18|             e|\n",
       "|Arcu Ac Orci Corp...| 10142254217|cable, satellite,...|     4.22|             b|\n",
       "|    Nunc Sed Company| 10165489824|jewelry, watch, c...|      4.4|             b|\n",
       "|Ultricies Digniss...| 10187291046|wAtch, clock, and...|     3.29|             b|\n",
       "| Enim Condimentum PC| 10192359162|music shops - mus...|     6.33|             a|\n",
       "+--------------------+------------+--------------------+---------+--------------+"
      ]
     },
     "execution_count": 24,
     "metadata": {},
     "output_type": "execute_result"
    }
   ],
   "source": [
    "tbl_merchants.limit(5)"
   ]
  },
  {
   "cell_type": "code",
   "execution_count": null,
   "id": "aware-richmond",
   "metadata": {},
   "outputs": [],
   "source": []
  }
 ],
 "metadata": {
  "kernelspec": {
   "display_name": "Python 3",
   "language": "python",
   "name": "python3"
  },
  "language_info": {
   "codemirror_mode": {
    "name": "ipython",
    "version": 3
   },
   "file_extension": ".py",
   "mimetype": "text/x-python",
   "name": "python",
   "nbconvert_exporter": "python",
   "pygments_lexer": "ipython3",
   "version": "3.8.8"
  }
 },
 "nbformat": 4,
 "nbformat_minor": 5
}
