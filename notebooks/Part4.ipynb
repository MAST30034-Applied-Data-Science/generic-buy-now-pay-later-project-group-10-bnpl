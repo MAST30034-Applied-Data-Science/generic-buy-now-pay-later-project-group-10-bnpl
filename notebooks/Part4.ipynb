{
 "cells": [
  {
   "cell_type": "markdown",
   "id": "6c690c6f-a81e-4185-8184-808c90cf22b1",
   "metadata": {},
   "source": [
    "## Part 4: Fraud"
   ]
  },
  {
   "cell_type": "code",
   "execution_count": 2,
   "id": "d5f10c8d-30f8-4ea8-a070-bda4d104fb88",
   "metadata": {},
   "outputs": [
    {
     "name": "stderr",
     "output_type": "stream",
     "text": [
      "                                                                                \r"
     ]
    }
   ],
   "source": [
    "%run \"../scripts/ETL.py\""
   ]
  },
  {
   "cell_type": "markdown",
   "id": "4f0e5941-27dd-43d9-8053-dc518b9f8f5e",
   "metadata": {},
   "source": [
    "The consumer fraud data shows the ......."
   ]
  },
  {
   "cell_type": "code",
   "execution_count": 6,
   "id": "7ce97a92-b69c-454b-803d-d31b0c8892d5",
   "metadata": {},
   "outputs": [
    {
     "name": "stdout",
     "output_type": "stream",
     "text": [
      "34864\n"
     ]
    },
    {
     "data": {
      "text/html": [
       "<table border='1'>\n",
       "<tr><th>user_id</th><th>order_datetime</th><th>fraud_probability</th></tr>\n",
       "<tr><td>6228</td><td>2021-12-19</td><td>97.6298077657765</td></tr>\n",
       "<tr><td>21419</td><td>2021-12-10</td><td>99.24738020302328</td></tr>\n",
       "<tr><td>5606</td><td>2021-10-17</td><td>84.05825045251777</td></tr>\n",
       "<tr><td>3101</td><td>2021-04-17</td><td>91.42192091901347</td></tr>\n",
       "<tr><td>22239</td><td>2021-10-19</td><td>94.70342477508035</td></tr>\n",
       "</table>\n"
      ],
      "text/plain": [
       "+-------+--------------+-----------------+\n",
       "|user_id|order_datetime|fraud_probability|\n",
       "+-------+--------------+-----------------+\n",
       "|   6228|    2021-12-19| 97.6298077657765|\n",
       "|  21419|    2021-12-10|99.24738020302328|\n",
       "|   5606|    2021-10-17|84.05825045251777|\n",
       "|   3101|    2021-04-17|91.42192091901347|\n",
       "|  22239|    2021-10-19|94.70342477508035|\n",
       "+-------+--------------+-----------------+"
      ]
     },
     "execution_count": 6,
     "metadata": {},
     "output_type": "execute_result"
    }
   ],
   "source": [
    "print(fraud_consumer.count())\n",
    "fraud_consumer.limit(5)"
   ]
  },
  {
   "cell_type": "markdown",
   "id": "77f4aa03-294e-4601-b785-7a4e7bf4a8f4",
   "metadata": {},
   "source": [
    "The merchants fraud data shows the...."
   ]
  },
  {
   "cell_type": "code",
   "execution_count": 7,
   "id": "c05d9aeb-5fbd-4f63-8d64-60d744f7ea23",
   "metadata": {},
   "outputs": [
    {
     "name": "stdout",
     "output_type": "stream",
     "text": [
      "114\n"
     ]
    },
    {
     "data": {
      "text/html": [
       "<table border='1'>\n",
       "<tr><th>merchant_abn</th><th>order_datetime</th><th>fraud_probability</th></tr>\n",
       "<tr><td>19492220327</td><td>2021-11-28</td><td>44.403658647495355</td></tr>\n",
       "<tr><td>31334588839</td><td>2021-10-02</td><td>42.75530083865367</td></tr>\n",
       "<tr><td>19492220327</td><td>2021-12-22</td><td>38.867790051131095</td></tr>\n",
       "<tr><td>82999039227</td><td>2021-12-19</td><td>94.1347004808891</td></tr>\n",
       "<tr><td>90918180829</td><td>2021-09-02</td><td>43.32551731714902</td></tr>\n",
       "</table>\n"
      ],
      "text/plain": [
       "+------------+--------------+------------------+\n",
       "|merchant_abn|order_datetime| fraud_probability|\n",
       "+------------+--------------+------------------+\n",
       "| 19492220327|    2021-11-28|44.403658647495355|\n",
       "| 31334588839|    2021-10-02| 42.75530083865367|\n",
       "| 19492220327|    2021-12-22|38.867790051131095|\n",
       "| 82999039227|    2021-12-19|  94.1347004808891|\n",
       "| 90918180829|    2021-09-02| 43.32551731714902|\n",
       "+------------+--------------+------------------+"
      ]
     },
     "execution_count": 7,
     "metadata": {},
     "output_type": "execute_result"
    }
   ],
   "source": [
    "print(fraud_merchants.count())\n",
    "fraud_merchants.limit(5)"
   ]
  },
  {
   "cell_type": "code",
   "execution_count": null,
   "id": "c412e613-c33a-4f60-845d-1beeab85eb42",
   "metadata": {},
   "outputs": [],
   "source": []
  }
 ],
 "metadata": {
  "kernelspec": {
   "display_name": "Python 3 (ipykernel)",
   "language": "python",
   "name": "python3"
  },
  "language_info": {
   "codemirror_mode": {
    "name": "ipython",
    "version": 3
   },
   "file_extension": ".py",
   "mimetype": "text/x-python",
   "name": "python",
   "nbconvert_exporter": "python",
   "pygments_lexer": "ipython3",
   "version": "3.10.2"
  }
 },
 "nbformat": 4,
 "nbformat_minor": 5
}
