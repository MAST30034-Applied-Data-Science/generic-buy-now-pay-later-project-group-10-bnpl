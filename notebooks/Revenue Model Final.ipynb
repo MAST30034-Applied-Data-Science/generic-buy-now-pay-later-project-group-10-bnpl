{
 "cells": [
  {
   "cell_type": "code",
   "execution_count": 1,
   "metadata": {},
   "outputs": [],
   "source": [
    "import pandas as pd\n",
    "from pyspark.sql import SparkSession, functions as F\n",
    "import lbl2vec\n",
    "from sklearn.feature_extraction.text import TfidfVectorizer\n",
    "from sklearn.cluster import KMeans\n",
    "import numpy as np\n",
    "from pyspark.sql.functions import date_format\n",
    "import statsmodels.api as sm\n",
    "from statsmodels.formula.api import ols\n",
    "from pyspark.ml.feature import IndexToString, StringIndexer, VectorIndexer\n",
    "from pyspark.ml.evaluation import MulticlassClassificationEvaluator\n",
    "from pyspark.ml.feature import OneHotEncoder, VectorAssembler\n",
    "from pyspark.ml.regression import RandomForestRegressor\n",
    "from pyspark.ml.evaluation import RegressionEvaluator\n",
    "import seaborn as sns\n",
    "import matplotlib\n",
    "import matplotlib.pyplot as plt\n"
   ]
  },
  {
   "cell_type": "code",
   "execution_count": 2,
   "metadata": {},
   "outputs": [
    {
     "name": "stdout",
     "output_type": "stream",
     "text": [
      "22/10/05 11:42:49 WARN Utils: Your hostname, MacBook-Air-3.local resolves to a loopback address: 127.0.0.1; using 10.13.152.174 instead (on interface en0)\n",
      "22/10/05 11:42:49 WARN Utils: Set SPARK_LOCAL_IP if you need to bind to another address\n"
     ]
    },
    {
     "name": "stderr",
     "output_type": "stream",
     "text": [
      "Setting default log level to \"WARN\".\n",
      "To adjust logging level use sc.setLogLevel(newLevel). For SparkR, use setLogLevel(newLevel).\n"
     ]
    },
    {
     "name": "stdout",
     "output_type": "stream",
     "text": [
      "22/10/05 11:42:49 WARN NativeCodeLoader: Unable to load native-hadoop library for your platform... using builtin-java classes where applicable\n",
      "22/10/05 11:42:50 WARN Utils: Service 'SparkUI' could not bind on port 4040. Attempting port 4041.\n"
     ]
    }
   ],
   "source": [
    "# Create a spark session\n",
    "spark = (\n",
    "    SparkSession.builder.appName(\"MAST30034 Project 2\")\n",
    "    .config(\"spark.sql.repl.eagerEval.enabled\", True) \n",
    "    .config(\"spark.sql.parquet.cacheMetadata\", \"true\")\n",
    "    .config(\"spark.sql.session.timeZone\", \"Etc/UTC\")\n",
    "    .config(\"spark.driver.memory\", \"6g\")\n",
    "    .config(\"spark.executor.memory\", \"10g\")\n",
    "    .getOrCreate()\n",
    ")"
   ]
  },
  {
   "cell_type": "code",
   "execution_count": 3,
   "metadata": {},
   "outputs": [
    {
     "name": "stderr",
     "output_type": "stream",
     "text": [
      "/Users/Kasturi/opt/anaconda3/lib/python3.9/site-packages/geopandas/_compat.py:112: UserWarning: The Shapely GEOS version (3.10.2-CAPI-1.16.0) is incompatible with the GEOS version PyGEOS was compiled with (3.10.1-CAPI-1.16.0). Conversions between both will be slow.\n",
      "  warnings.warn(\n"
     ]
    },
    {
     "name": "stdout",
     "output_type": "stream",
     "text": [
      "22/10/05 11:42:51 WARN SparkSession: Using an existing Spark session; only runtime SQL configurations will take effect.\n"
     ]
    },
    {
     "name": "stderr",
     "output_type": "stream",
     "text": [
      "                                                                                \r"
     ]
    },
    {
     "name": "stdout",
     "output_type": "stream",
     "text": [
      "22/10/05 11:43:37 WARN package: Truncated the string representation of a plan since it was too large. This behavior can be adjusted by setting 'spark.sql.debug.maxToStringFields'.\n"
     ]
    },
    {
     "name": "stderr",
     "output_type": "stream",
     "text": [
      "                                                                                \r"
     ]
    },
    {
     "data": {
      "text/html": [
       "<table border='1'>\n",
       "<tr><th>merchant_name</th><th>merchant_abn</th><th>categories</th><th>take_rate</th><th>revenue_levels</th><th>name</th><th>address</th><th>state</th><th>gender</th><th>trans_merchant_abn</th><th>dollar_value</th><th>order_id</th><th>order_datetime</th><th>user_id</th><th>consumer_id</th><th>postcodes</th><th>int_sa2</th><th>SA2_code</th><th>SA2_name</th><th>income_2018-2019</th><th>total_males</th><th>total_females</th><th>total_persons</th><th>state_code</th><th>state_name</th><th>population_2020</th><th>population_2021</th></tr>\n",
       "<tr><td>Egestas Nunc Asso...</td><td>11121775571</td><td>digital goods: bo...</td><td>6.58</td><td>a</td><td>Christopher Rodri...</td><td>30554 Evans Strea...</td><td>NSW</td><td>Male</td><td>11121775571</td><td>11.28829564583802</td><td>2bd2a61d-72e5-42d...</td><td>2021-08-20</td><td>3698</td><td>1175</td><td>2299</td><td>111031231</td><td>111031231</td><td>Shortland - Jesmond</td><td>242936885</td><td>6412</td><td>6179</td><td>12593</td><td>1</td><td>New South Wales</td><td>12598</td><td>12694</td></tr>\n",
       "<tr><td>Morbi Accumsan In...</td><td>19618998054</td><td>tent and aWning s...</td><td>1.52</td><td>c</td><td>Christopher Rodri...</td><td>30554 Evans Strea...</td><td>NSW</td><td>Male</td><td>19618998054</td><td>62.90176609196828</td><td>3582b1f8-4577-403...</td><td>2021-05-16</td><td>3698</td><td>1175</td><td>2299</td><td>111031231</td><td>111031231</td><td>Shortland - Jesmond</td><td>242936885</td><td>6412</td><td>6179</td><td>12593</td><td>1</td><td>New South Wales</td><td>12598</td><td>12694</td></tr>\n",
       "<tr><td>Eu Dolor Egestas PC</td><td>94472466107</td><td>cable, satellite,...</td><td>6.23</td><td>a</td><td>Christopher Rodri...</td><td>30554 Evans Strea...</td><td>NSW</td><td>Male</td><td>94472466107</td><td>172.15375126873164</td><td>cb05d49f-c2fa-453...</td><td>2021-07-22</td><td>3698</td><td>1175</td><td>2299</td><td>111031231</td><td>111031231</td><td>Shortland - Jesmond</td><td>242936885</td><td>6412</td><td>6179</td><td>12593</td><td>1</td><td>New South Wales</td><td>12598</td><td>12694</td></tr>\n",
       "<tr><td>Urna Justo Indust...</td><td>31472801314</td><td>music shops - mus...</td><td>6.56</td><td>a</td><td>Christopher Rodri...</td><td>30554 Evans Strea...</td><td>NSW</td><td>Male</td><td>31472801314</td><td>0.4894787650356477</td><td>aeec15c1-67e8-4cb...</td><td>2021-05-18</td><td>3698</td><td>1175</td><td>2299</td><td>111031231</td><td>111031231</td><td>Shortland - Jesmond</td><td>242936885</td><td>6412</td><td>6179</td><td>12593</td><td>1</td><td>New South Wales</td><td>12598</td><td>12694</td></tr>\n",
       "<tr><td>Eu Sem Pellentesq...</td><td>35424691626</td><td>computers, comput...</td><td>3.9</td><td>b</td><td>Christopher Rodri...</td><td>30554 Evans Strea...</td><td>NSW</td><td>Male</td><td>35424691626</td><td>7.360217018778133</td><td>9df473ba-102d-461...</td><td>2021-07-04</td><td>3698</td><td>1175</td><td>2299</td><td>111031231</td><td>111031231</td><td>Shortland - Jesmond</td><td>242936885</td><td>6412</td><td>6179</td><td>12593</td><td>1</td><td>New South Wales</td><td>12598</td><td>12694</td></tr>\n",
       "</table>\n"
      ],
      "text/plain": [
       "+--------------------+------------+--------------------+---------+--------------+--------------------+--------------------+-----+------+------------------+------------------+--------------------+--------------+-------+-----------+---------+---------+---------+-------------------+----------------+-----------+-------------+-------------+----------+---------------+---------------+---------------+\n",
       "|       merchant_name|merchant_abn|          categories|take_rate|revenue_levels|                name|             address|state|gender|trans_merchant_abn|      dollar_value|            order_id|order_datetime|user_id|consumer_id|postcodes|  int_sa2| SA2_code|           SA2_name|income_2018-2019|total_males|total_females|total_persons|state_code|     state_name|population_2020|population_2021|\n",
       "+--------------------+------------+--------------------+---------+--------------+--------------------+--------------------+-----+------+------------------+------------------+--------------------+--------------+-------+-----------+---------+---------+---------+-------------------+----------------+-----------+-------------+-------------+----------+---------------+---------------+---------------+\n",
       "|Egestas Nunc Asso...| 11121775571|digital goods: bo...|     6.58|             a|Christopher Rodri...|30554 Evans Strea...|  NSW|  Male|       11121775571| 11.28829564583802|2bd2a61d-72e5-42d...|    2021-08-20|   3698|       1175|     2299|111031231|111031231|Shortland - Jesmond|       242936885|       6412|         6179|        12593|         1|New South Wales|          12598|          12694|\n",
       "|Morbi Accumsan In...| 19618998054|tent and aWning s...|     1.52|             c|Christopher Rodri...|30554 Evans Strea...|  NSW|  Male|       19618998054| 62.90176609196828|3582b1f8-4577-403...|    2021-05-16|   3698|       1175|     2299|111031231|111031231|Shortland - Jesmond|       242936885|       6412|         6179|        12593|         1|New South Wales|          12598|          12694|\n",
       "| Eu Dolor Egestas PC| 94472466107|cable, satellite,...|     6.23|             a|Christopher Rodri...|30554 Evans Strea...|  NSW|  Male|       94472466107|172.15375126873164|cb05d49f-c2fa-453...|    2021-07-22|   3698|       1175|     2299|111031231|111031231|Shortland - Jesmond|       242936885|       6412|         6179|        12593|         1|New South Wales|          12598|          12694|\n",
       "|Urna Justo Indust...| 31472801314|music shops - mus...|     6.56|             a|Christopher Rodri...|30554 Evans Strea...|  NSW|  Male|       31472801314|0.4894787650356477|aeec15c1-67e8-4cb...|    2021-05-18|   3698|       1175|     2299|111031231|111031231|Shortland - Jesmond|       242936885|       6412|         6179|        12593|         1|New South Wales|          12598|          12694|\n",
       "|Eu Sem Pellentesq...| 35424691626|computers, comput...|      3.9|             b|Christopher Rodri...|30554 Evans Strea...|  NSW|  Male|       35424691626| 7.360217018778133|9df473ba-102d-461...|    2021-07-04|   3698|       1175|     2299|111031231|111031231|Shortland - Jesmond|       242936885|       6412|         6179|        12593|         1|New South Wales|          12598|          12694|\n",
       "+--------------------+------------+--------------------+---------+--------------+--------------------+--------------------+-----+------+------------------+------------------+--------------------+--------------+-------+-----------+---------+---------+---------+-------------------+----------------+-----------+-------------+-------------+----------+---------------+---------------+---------------+"
      ]
     },
     "execution_count": 3,
     "metadata": {},
     "output_type": "execute_result"
    }
   ],
   "source": [
    "# Read in data from ETL.py file\n",
    "%run '../scripts/ETL.py' '../scripts/paths.json'\n",
    "final_join3.limit(5)"
   ]
  },
  {
   "cell_type": "code",
   "execution_count": 4,
   "metadata": {},
   "outputs": [
    {
     "name": "stderr",
     "output_type": "stream",
     "text": [
      "                                                                                \r"
     ]
    },
    {
     "data": {
      "text/plain": [
       "10540181"
      ]
     },
     "execution_count": 4,
     "metadata": {},
     "output_type": "execute_result"
    }
   ],
   "source": [
    "final_join3.count()"
   ]
  },
  {
   "cell_type": "code",
   "execution_count": 5,
   "metadata": {},
   "outputs": [],
   "source": [
    "tagged_merchants = pd.read_csv(\"../data/curated/tagged_merchants.csv\")\n",
    "tagged_merchants = tagged_merchants.iloc[:,1:]\n",
    "tagged_merchants.drop(['tags', 'name', 'cleaned_tags', 'store_type'], axis=1, inplace=True)\n",
    "tagged_merchants.to_parquet(\"../data/curated/tagged_merchants.parquet\")\n",
    "tagged_merchants_sdf = spark.read.parquet(\"../data/curated/tagged_merchants.parquet\")"
   ]
  },
  {
   "cell_type": "code",
   "execution_count": 6,
   "metadata": {},
   "outputs": [],
   "source": [
    "tagged_merchants_sdf = tagged_merchants_sdf.withColumnRenamed('merchant_abn',\n",
    "\n",
    "    'tagged_merchant_abn'\n",
    ")"
   ]
  },
  {
   "cell_type": "code",
   "execution_count": 7,
   "metadata": {},
   "outputs": [
    {
     "name": "stdout",
     "output_type": "stream",
     "text": [
      "+-------------------+--------------------+\n",
      "|tagged_merchant_abn|            category|\n",
      "+-------------------+--------------------+\n",
      "|        10023283211|           Furniture|\n",
      "|        10142254217|         Electronics|\n",
      "|        10165489824|        Toys and DIY|\n",
      "|        10187291046|        Toys and DIY|\n",
      "|        10192359162|Books, Stationary...|\n",
      "+-------------------+--------------------+\n",
      "only showing top 5 rows\n",
      "\n"
     ]
    }
   ],
   "source": [
    "tagged_merchants_sdf.show(5)"
   ]
  },
  {
   "cell_type": "code",
   "execution_count": 8,
   "metadata": {},
   "outputs": [],
   "source": [
    "final_join3.createOrReplaceTempView(\"join\")\n",
    "tagged_merchants_sdf.createOrReplaceTempView(\"tagged\")\n",
    "\n",
    "joint = spark.sql(\"\"\" \n",
    "\n",
    "SELECT *\n",
    "FROM join\n",
    "INNER JOIN tagged\n",
    "ON join.merchant_abn = tagged.tagged_merchant_abn\n",
    "\"\"\")\n",
    "\n",
    "joint = joint.drop('tagged_merchant_abn')"
   ]
  },
  {
   "cell_type": "code",
   "execution_count": 9,
   "metadata": {},
   "outputs": [
    {
     "name": "stderr",
     "output_type": "stream",
     "text": [
      "                                                                                \r"
     ]
    },
    {
     "data": {
      "text/plain": [
       "10109254"
      ]
     },
     "execution_count": 9,
     "metadata": {},
     "output_type": "execute_result"
    }
   ],
   "source": [
    "joint.count()"
   ]
  },
  {
   "cell_type": "code",
   "execution_count": 10,
   "metadata": {},
   "outputs": [],
   "source": [
    "joint.createOrReplaceTempView(\"group\")\n",
    "\n",
    "a = spark.sql(\"\"\" \n",
    "\n",
    "SELECT *, ((take_rate/100)*dollar_value) AS percent\n",
    "FROM group\n",
    "\"\"\")"
   ]
  },
  {
   "cell_type": "code",
   "execution_count": 11,
   "metadata": {},
   "outputs": [],
   "source": [
    "# Extracting the year, month, day from the timestamp\n",
    "from pyspark.sql.functions import year, month\n",
    "\n",
    "a = a.withColumn('Year', year(a.order_datetime))\n",
    "a = a.withColumn('Month',month(a.order_datetime))\n"
   ]
  },
  {
   "cell_type": "code",
   "execution_count": 12,
   "metadata": {},
   "outputs": [
    {
     "name": "stderr",
     "output_type": "stream",
     "text": [
      "[Stage 126:=======================================>               (10 + 4) / 14]\r"
     ]
    },
    {
     "name": "stdout",
     "output_type": "stream",
     "text": [
      "+--------------------+------------+--------------------+---------+--------------+--------------------+--------------------+-----+------+------------------+------------------+--------------------+--------------+-------+-----------+---------+---------+---------+-------------------+----------------+-----------+-------------+-------------+----------+---------------+---------------+---------------+--------------------+-------------------+----+-----+\n",
      "|       merchant_name|merchant_abn|          categories|take_rate|revenue_levels|                name|             address|state|gender|trans_merchant_abn|      dollar_value|            order_id|order_datetime|user_id|consumer_id|postcodes|  int_sa2| SA2_code|           SA2_name|income_2018-2019|total_males|total_females|total_persons|state_code|     state_name|population_2020|population_2021|            category|            percent|Year|Month|\n",
      "+--------------------+------------+--------------------+---------+--------------+--------------------+--------------------+-----+------+------------------+------------------+--------------------+--------------+-------+-----------+---------+---------+---------+-------------------+----------------+-----------+-------------+-------------+----------+---------------+---------------+---------------+--------------------+-------------------+----+-----+\n",
      "|Egestas Nunc Asso...| 11121775571|digital goods: bo...|     6.58|             a|Christopher Rodri...|30554 Evans Strea...|  NSW|  Male|       11121775571| 11.28829564583802|2bd2a61d-72e5-42d...|    2021-08-20|   3698|       1175|     2299|111031231|111031231|Shortland - Jesmond|       242936885|       6412|         6179|        12593|         1|New South Wales|          12598|          12694|Books, Stationary...| 0.7427698534961417|2021|    8|\n",
      "|Morbi Accumsan In...| 19618998054|tent and aWning s...|     1.52|             c|Christopher Rodri...|30554 Evans Strea...|  NSW|  Male|       19618998054| 62.90176609196828|3582b1f8-4577-403...|    2021-05-16|   3698|       1175|     2299|111031231|111031231|Shortland - Jesmond|       242936885|       6412|         6179|        12593|         1|New South Wales|          12598|          12694|Books, Stationary...| 0.9561068445979178|2021|    5|\n",
      "| Eu Dolor Egestas PC| 94472466107|cable, satellite,...|     6.23|             a|Christopher Rodri...|30554 Evans Strea...|  NSW|  Male|       94472466107|172.15375126873164|cb05d49f-c2fa-453...|    2021-07-22|   3698|       1175|     2299|111031231|111031231|Shortland - Jesmond|       242936885|       6412|         6179|        12593|         1|New South Wales|          12598|          12694|         Electronics| 10.725178704041982|2021|    7|\n",
      "|Urna Justo Indust...| 31472801314|music shops - mus...|     6.56|             a|Christopher Rodri...|30554 Evans Strea...|  NSW|  Male|       31472801314|0.4894787650356477|aeec15c1-67e8-4cb...|    2021-05-18|   3698|       1175|     2299|111031231|111031231|Shortland - Jesmond|       242936885|       6412|         6179|        12593|         1|New South Wales|          12598|          12694|Books, Stationary...|0.03210980698633849|2021|    5|\n",
      "|Eu Sem Pellentesq...| 35424691626|computers, comput...|      3.9|             b|Christopher Rodri...|30554 Evans Strea...|  NSW|  Male|       35424691626| 7.360217018778133|9df473ba-102d-461...|    2021-07-04|   3698|       1175|     2299|111031231|111031231|Shortland - Jesmond|       242936885|       6412|         6179|        12593|         1|New South Wales|          12598|          12694|         Electronics| 0.2870484637323472|2021|    7|\n",
      "+--------------------+------------+--------------------+---------+--------------+--------------------+--------------------+-----+------+------------------+------------------+--------------------+--------------+-------+-----------+---------+---------+---------+-------------------+----------------+-----------+-------------+-------------+----------+---------------+---------------+---------------+--------------------+-------------------+----+-----+\n",
      "only showing top 5 rows\n",
      "\n"
     ]
    },
    {
     "name": "stderr",
     "output_type": "stream",
     "text": [
      "                                                                                \r"
     ]
    }
   ],
   "source": [
    "a.show(5)"
   ]
  },
  {
   "cell_type": "code",
   "execution_count": 13,
   "metadata": {},
   "outputs": [],
   "source": [
    "a = a.drop('merchant_abn', 'categories','name', 'address', 'trans_merchant_abn', 'order_id','order_datetime','user_id','consumer_id','int_sa2',\n",
    "'SA2_name','state_code','state_name','population_2020', 'population_2021')"
   ]
  },
  {
   "cell_type": "code",
   "execution_count": 14,
   "metadata": {},
   "outputs": [
    {
     "name": "stderr",
     "output_type": "stream",
     "text": [
      "[Stage 147:==================================================>      (8 + 1) / 9]\r"
     ]
    },
    {
     "name": "stdout",
     "output_type": "stream",
     "text": [
      "+-------------+---------+--------------+-----+------+------------+---------+--------+----------------+-----------+-------------+-------------+--------+-------+----+-----+\n",
      "|merchant_name|take_rate|revenue_levels|state|gender|dollar_value|postcodes|SA2_code|income_2018-2019|total_males|total_females|total_persons|category|percent|Year|Month|\n",
      "+-------------+---------+--------------+-----+------+------------+---------+--------+----------------+-----------+-------------+-------------+--------+-------+----+-----+\n",
      "|            0|        0|             0|    0|     0|           0|        0|       0|               0|          0|            0|            0|       0|      0|   0|    0|\n",
      "+-------------+---------+--------------+-----+------+------------+---------+--------+----------------+-----------+-------------+-------------+--------+-------+----+-----+\n",
      "\n"
     ]
    },
    {
     "name": "stderr",
     "output_type": "stream",
     "text": [
      "                                                                                \r"
     ]
    }
   ],
   "source": [
    " \n",
    "# Find Count of Null, None, NaN of All DataFrame Columns\n",
    "from pyspark.sql.functions import col,isnan, when, count\n",
    "a.select([count(when(isnan(c) | col(c).isNull(), c)).alias(c) for c in a.columns]\n",
    "   ).show()"
   ]
  },
  {
   "cell_type": "code",
   "execution_count": 15,
   "metadata": {},
   "outputs": [
    {
     "name": "stdout",
     "output_type": "stream",
     "text": [
      "root\n",
      " |-- merchant_name: string (nullable = true)\n",
      " |-- take_rate: double (nullable = true)\n",
      " |-- revenue_levels: string (nullable = true)\n",
      " |-- state: string (nullable = true)\n",
      " |-- gender: string (nullable = true)\n",
      " |-- dollar_value: double (nullable = true)\n",
      " |-- postcodes: string (nullable = true)\n",
      " |-- SA2_code: long (nullable = true)\n",
      " |-- income_2018-2019: long (nullable = true)\n",
      " |-- total_males: long (nullable = true)\n",
      " |-- total_females: long (nullable = true)\n",
      " |-- total_persons: long (nullable = true)\n",
      " |-- category: string (nullable = true)\n",
      " |-- percent: double (nullable = true)\n",
      " |-- Year: integer (nullable = true)\n",
      " |-- Month: integer (nullable = true)\n",
      "\n"
     ]
    }
   ],
   "source": [
    "a.printSchema()"
   ]
  },
  {
   "cell_type": "code",
   "execution_count": 16,
   "metadata": {},
   "outputs": [
    {
     "name": "stderr",
     "output_type": "stream",
     "text": [
      "                                                                                \r"
     ]
    },
    {
     "name": "stdout",
     "output_type": "stream",
     "text": [
      "+--------------------+-----+\n",
      "|              m_name|males|\n",
      "+--------------------+-----+\n",
      "|Semper Tellus PC1...|    2|\n",
      "|Est Nunc Consulti...|   11|\n",
      "|Ipsum Primis In I...|    2|\n",
      "|Euismod In LLC601...|    1|\n",
      "|Leo In Consulting...|    2|\n",
      "+--------------------+-----+\n",
      "only showing top 5 rows\n",
      "\n"
     ]
    },
    {
     "name": "stderr",
     "output_type": "stream",
     "text": [
      "[Stage 191:==================================================>      (8 + 1) / 9]\r"
     ]
    },
    {
     "name": "stdout",
     "output_type": "stream",
     "text": [
      "+--------------------+-------+\n",
      "|              f_name|females|\n",
      "+--------------------+-------+\n",
      "|Quis Tristique Lt...|      1|\n",
      "|Nunc In Industrie...|      2|\n",
      "|Nunc Sit LLC10902...|      2|\n",
      "|Leo In Consulting...|      5|\n",
      "|Risus Donec Assoc...|      1|\n",
      "+--------------------+-------+\n",
      "only showing top 5 rows\n",
      "\n"
     ]
    },
    {
     "name": "stderr",
     "output_type": "stream",
     "text": [
      "                                                                                \r"
     ]
    }
   ],
   "source": [
    "a.createOrReplaceTempView(\"agg\")\n",
    "\n",
    "male = spark.sql(\"\"\" \n",
    "\n",
    "SELECT CONCAT(merchant_name, SA2_code, Year, Month) AS m_name, COUNT(gender) as males\n",
    "FROM agg\n",
    "WHERE gender = 'Male'\n",
    "GROUP BY merchant_name, SA2_code, Year, Month\n",
    "\"\"\")\n",
    "\n",
    "male.show(5)\n",
    "\n",
    "female = spark.sql(\"\"\" \n",
    "\n",
    "SELECT CONCAT(merchant_name, SA2_code, Year, Month) AS f_name, COUNT(gender) as females\n",
    "FROM agg\n",
    "WHERE gender = 'Female'\n",
    "GROUP BY merchant_name, SA2_code, Year, Month\n",
    "\"\"\")\n",
    "female.show(5)"
   ]
  },
  {
   "cell_type": "code",
   "execution_count": 17,
   "metadata": {},
   "outputs": [
    {
     "name": "stderr",
     "output_type": "stream",
     "text": [
      "[Stage 209:====================================>                   (9 + 5) / 14]\r"
     ]
    },
    {
     "name": "stdout",
     "output_type": "stream",
     "text": [
      "+--------------------+---------+--------------+-----+------+-----------------+---------+---------+----------------+-----------+-------------+-------------+--------------------+------------------+----+-----+\n",
      "|       merchant_name|take_rate|revenue_levels|state|gender|     dollar_value|postcodes| SA2_code|income_2018-2019|total_males|total_females|total_persons|            category|           percent|Year|Month|\n",
      "+--------------------+---------+--------------+-----+------+-----------------+---------+---------+----------------+-----------+-------------+-------------+--------------------+------------------+----+-----+\n",
      "|Egestas Nunc Asso...|     6.58|             a|  NSW|  Male|11.28829564583802|     2299|111031231|       242936885|       6412|         6179|        12593|Books, Stationary...|0.7427698534961417|2021|    8|\n",
      "|Morbi Accumsan In...|     1.52|             c|  NSW|  Male|62.90176609196828|     2299|111031231|       242936885|       6412|         6179|        12593|Books, Stationary...|0.9561068445979178|2021|    5|\n",
      "+--------------------+---------+--------------+-----+------+-----------------+---------+---------+----------------+-----------+-------------+-------------+--------------------+------------------+----+-----+\n",
      "only showing top 2 rows\n",
      "\n"
     ]
    },
    {
     "name": "stderr",
     "output_type": "stream",
     "text": [
      "                                                                                \r"
     ]
    }
   ],
   "source": [
    "a.show(2)"
   ]
  },
  {
   "cell_type": "code",
   "execution_count": 18,
   "metadata": {},
   "outputs": [
    {
     "name": "stderr",
     "output_type": "stream",
     "text": [
      "[Stage 226:===========================================>           (11 + 3) / 14]\r"
     ]
    },
    {
     "name": "stdout",
     "output_type": "stream",
     "text": [
      "+--------------------+------------------+---------+----+-----+------------------+--------------------+\n",
      "|       merchant_name|no_of_transactions| SA2_code|Year|Month|    total_earnings|            join_col|\n",
      "+--------------------+------------------+---------+----+-----+------------------+--------------------+\n",
      "|  Pede Nonummy Corp.|                 6|205021084|2021|    8|163.02718506270642|Pede Nonummy Corp...|\n",
      "|    Semper Tellus PC|                 6|407031164|2021|    8| 78.98297577595977|Semper Tellus PC4...|\n",
      "| Dui Nec Corporation|                 2|801041036|2021|    8|14.801019173760814|Dui Nec Corporati...|\n",
      "|Ac Turpis Egestas PC|                 1|405041127|2021|    7|154.36353234367544|Ac Turpis Egestas...|\n",
      "|Lobortis Tellus C...|                 3|205021082|2021|    7|108.48901763585754|Lobortis Tellus C...|\n",
      "|   Est Ac Mattis Ltd|                 1|209011204|2021|    7|          149.2599|Est Ac Mattis Ltd...|\n",
      "| Egestas Blandit Ltd|                 2|601051031|2021|    8|319.95476925279064|Egestas Blandit L...|\n",
      "|Lobortis Ultrices...|                20|205051104|2021|    8|1431.7825004273664|Lobortis Ultrices...|\n",
      "|Pellentesque Habi...|                 4|306051169|2021|    8|214.01732012060822|Pellentesque Habi...|\n",
      "|          Orci Corp.|                 1|112011238|2021|    8|2.1534342688630757|Orci Corp.1120112...|\n",
      "|   Magna A Neque LLC|                 1|314011384|2021|    8| 173.0238768500624|Magna A Neque LLC...|\n",
      "|Malesuada Vel Ass...|                 4|205021082|2021|    8| 1108.232273782537|Malesuada Vel Ass...|\n",
      "|Vehicula Pellente...|                 6|212031306|2021|    7|102.81054545616884|Vehicula Pellente...|\n",
      "|Lacinia Orci Cons...|                 1|117031336|2021|    6|52.243734020894394|Lacinia Orci Cons...|\n",
      "|      Dui Foundation|                 1|105031099|2021|    8| 48.02993606999728|Dui Foundation105...|\n",
      "|Pede Malesuada Co...|                 1|301021007|2021|    8| 50.85964773619713|Pede Malesuada Co...|\n",
      "|Arcu Vestibulum C...|                 1|301031017|2021|    8| 49.87101009542271|Arcu Vestibulum C...|\n",
      "|   Ac Sem Ut Company|                 1|405031121|2021|    8|508.30163459214555|Ac Sem Ut Company...|\n",
      "|       Eu Tempor LLP|                 2|511041291|2021|    7|449.95471755122514|Eu Tempor LLP5110...|\n",
      "|Ipsum Dolor Sit C...|                23|406011131|2021|    7| 675.9542106502564|Ipsum Dolor Sit C...|\n",
      "+--------------------+------------------+---------+----+-----+------------------+--------------------+\n",
      "only showing top 20 rows\n",
      "\n"
     ]
    },
    {
     "name": "stderr",
     "output_type": "stream",
     "text": [
      "                                                                                \r"
     ]
    }
   ],
   "source": [
    "a.createOrReplaceTempView(\"agg\")\n",
    "\n",
    "temp = spark.sql(\"\"\" \n",
    "\n",
    "SELECT merchant_name, COUNT(merchant_name) AS no_of_transactions, SA2_code, Year, Month, SUM(dollar_value - percent) AS total_earnings,\n",
    "    CONCAT(merchant_name, SA2_code, Year, Month) AS join_col\n",
    "FROM agg\n",
    "GROUP BY merchant_name, SA2_code, Year, Month\n",
    "\"\"\")\n",
    "\n",
    "temp.show()\n"
   ]
  },
  {
   "cell_type": "code",
   "execution_count": 19,
   "metadata": {},
   "outputs": [
    {
     "name": "stderr",
     "output_type": "stream",
     "text": [
      "                                                                                \r"
     ]
    },
    {
     "data": {
      "text/html": [
       "<table border='1'>\n",
       "<tr><th>merchant_name</th><th>no_of_transactions</th><th>SA2_code</th><th>Year</th><th>Month</th><th>total_earnings</th><th>join_col</th><th>m_name</th><th>males</th><th>f_name</th><th>females</th></tr>\n",
       "<tr><td>A Aliquet Ltd</td><td>2</td><td>312021351</td><td>2021</td><td>6</td><td>298.8537411028336</td><td>A Aliquet Ltd3120...</td><td>A Aliquet Ltd3120...</td><td>1</td><td>A Aliquet Ltd3120...</td><td>1</td></tr>\n",
       "<tr><td>A Aliquet Ltd</td><td>2</td><td>401021010</td><td>2021</td><td>4</td><td>670.4857203238805</td><td>A Aliquet Ltd4010...</td><td>A Aliquet Ltd4010...</td><td>1</td><td>A Aliquet Ltd4010...</td><td>1</td></tr>\n",
       "<tr><td>A Aliquet Ltd</td><td>2</td><td>603011065</td><td>2021</td><td>12</td><td>346.5799250465364</td><td>A Aliquet Ltd6030...</td><td>A Aliquet Ltd6030...</td><td>1</td><td>A Aliquet Ltd6030...</td><td>1</td></tr>\n",
       "<tr><td>A Arcu Industries</td><td>2</td><td>124011453</td><td>2021</td><td>8</td><td>203.5414742977921</td><td>A Arcu Industries...</td><td>A Arcu Industries...</td><td>1</td><td>A Arcu Industries...</td><td>1</td></tr>\n",
       "<tr><td>A Arcu Industries</td><td>2</td><td>211051282</td><td>2022</td><td>3</td><td>655.1195924003883</td><td>A Arcu Industries...</td><td>A Arcu Industries...</td><td>1</td><td>A Arcu Industries...</td><td>1</td></tr>\n",
       "</table>\n"
      ],
      "text/plain": [
       "+-----------------+------------------+---------+----+-----+-----------------+--------------------+--------------------+-----+--------------------+-------+\n",
       "|    merchant_name|no_of_transactions| SA2_code|Year|Month|   total_earnings|            join_col|              m_name|males|              f_name|females|\n",
       "+-----------------+------------------+---------+----+-----+-----------------+--------------------+--------------------+-----+--------------------+-------+\n",
       "|    A Aliquet Ltd|                 2|312021351|2021|    6|298.8537411028336|A Aliquet Ltd3120...|A Aliquet Ltd3120...|    1|A Aliquet Ltd3120...|      1|\n",
       "|    A Aliquet Ltd|                 2|401021010|2021|    4|670.4857203238805|A Aliquet Ltd4010...|A Aliquet Ltd4010...|    1|A Aliquet Ltd4010...|      1|\n",
       "|    A Aliquet Ltd|                 2|603011065|2021|   12|346.5799250465364|A Aliquet Ltd6030...|A Aliquet Ltd6030...|    1|A Aliquet Ltd6030...|      1|\n",
       "|A Arcu Industries|                 2|124011453|2021|    8|203.5414742977921|A Arcu Industries...|A Arcu Industries...|    1|A Arcu Industries...|      1|\n",
       "|A Arcu Industries|                 2|211051282|2022|    3|655.1195924003883|A Arcu Industries...|A Arcu Industries...|    1|A Arcu Industries...|      1|\n",
       "+-----------------+------------------+---------+----+-----+-----------------+--------------------+--------------------+-----+--------------------+-------+"
      ]
     },
     "execution_count": 19,
     "metadata": {},
     "output_type": "execute_result"
    }
   ],
   "source": [
    "temp.createOrReplaceTempView(\"gender_join\")\n",
    "male.createOrReplaceTempView(\"m\")\n",
    "female.createOrReplaceTempView(\"f\")\n",
    "\n",
    "temp2 = spark.sql(\"\"\" \n",
    "\n",
    "SELECT *\n",
    "FROM gender_join\n",
    "INNER JOIN m\n",
    "ON gender_join.join_col = m.m_name\n",
    "\"\"\")\n",
    "\n",
    "temp2.createOrReplaceTempView(\"temp2\")\n",
    "\n",
    "temp3 = spark.sql(\"\"\" \n",
    "\n",
    "SELECT *\n",
    "FROM temp2\n",
    "INNER JOIN f\n",
    "ON temp2.join_col = f.f_name\n",
    "\"\"\")\n",
    "\n",
    "temp3.limit(5)"
   ]
  },
  {
   "cell_type": "code",
   "execution_count": 20,
   "metadata": {},
   "outputs": [],
   "source": [
    "a = a.withColumnRenamed('income_2018-2019',\n",
    "\n",
    "    'income_2018_2019'    \n",
    ")\n",
    "\n",
    "a = a.withColumn('income_per_persons',\n",
    "    (F.col('income_2018_2019')/F.col('total_persons'))\n",
    ")\n"
   ]
  },
  {
   "cell_type": "code",
   "execution_count": 21,
   "metadata": {},
   "outputs": [
    {
     "name": "stderr",
     "output_type": "stream",
     "text": [
      "[Stage 352:===================================================>   (13 + 1) / 14]\r"
     ]
    },
    {
     "name": "stdout",
     "output_type": "stream",
     "text": [
      "+--------------------+---------+--------------+-----+------+-----------------+---------+---------+----------------+-----------+-------------+-------------+--------------------+------------------+----+-----+------------------+\n",
      "|       merchant_name|take_rate|revenue_levels|state|gender|     dollar_value|postcodes| SA2_code|income_2018_2019|total_males|total_females|total_persons|            category|           percent|Year|Month|income_per_persons|\n",
      "+--------------------+---------+--------------+-----+------+-----------------+---------+---------+----------------+-----------+-------------+-------------+--------------------+------------------+----+-----+------------------+\n",
      "|Egestas Nunc Asso...|     6.58|             a|  NSW|  Male|11.28829564583802|     2299|111031231|       242936885|       6412|         6179|        12593|Books, Stationary...|0.7427698534961417|2021|    8|19291.422615738902|\n",
      "+--------------------+---------+--------------+-----+------+-----------------+---------+---------+----------------+-----------+-------------+-------------+--------------------+------------------+----+-----+------------------+\n",
      "only showing top 1 row\n",
      "\n"
     ]
    },
    {
     "name": "stderr",
     "output_type": "stream",
     "text": [
      "                                                                                \r"
     ]
    }
   ],
   "source": [
    "a.show(1)"
   ]
  },
  {
   "cell_type": "code",
   "execution_count": 22,
   "metadata": {},
   "outputs": [
    {
     "name": "stderr",
     "output_type": "stream",
     "text": [
      "[Stage 369:====================================>                   (9 + 5) / 14]\r"
     ]
    },
    {
     "name": "stdout",
     "output_type": "stream",
     "text": [
      "+---------------+---------+--------------+--------------------+------------+--------------+------------------+\n",
      "|      drop_name|take_rate|revenue_levels|            category|males_in_SA2|females_in_SA2| income_per_person|\n",
      "+---------------+---------+--------------+--------------------+------------+--------------+------------------+\n",
      "|   A Associates|     4.95|             b|Books, Stationary...|        9762|         10846|22526.523772559674|\n",
      "|A Felis Company|     4.32|             b|Books, Stationary...|        1080|          1051| 33927.61168708765|\n",
      "+---------------+---------+--------------+--------------------+------------+--------------+------------------+\n",
      "only showing top 2 rows\n",
      "\n"
     ]
    },
    {
     "name": "stderr",
     "output_type": "stream",
     "text": [
      "                                                                                \r"
     ]
    }
   ],
   "source": [
    "a.createOrReplaceTempView(\"features\")\n",
    "\n",
    "e = spark.sql(\"\"\" \n",
    "\n",
    "SELECT merchant_name AS drop_name, FIRST(take_rate) AS take_rate, FIRST(revenue_levels) AS revenue_levels, FIRST(category) AS category,\n",
    "    FIRST(total_males) AS males_in_SA2, FIRST(total_females) AS females_in_SA2, FIRST(income_per_persons) AS income_per_person\n",
    "FROM features\n",
    "GROUP BY merchant_name\n",
    "\"\"\")\n",
    "\n",
    "e.show(2)"
   ]
  },
  {
   "cell_type": "code",
   "execution_count": 23,
   "metadata": {},
   "outputs": [
    {
     "name": "stderr",
     "output_type": "stream",
     "text": [
      "                                                                                \r"
     ]
    },
    {
     "data": {
      "text/html": [
       "<table border='1'>\n",
       "<tr><th>merchant_name</th><th>no_of_transactions</th><th>SA2_code</th><th>Year</th><th>Month</th><th>total_earnings</th><th>males</th><th>females</th><th>take_rate</th><th>revenue_levels</th><th>category</th><th>males_in_SA2</th><th>females_in_SA2</th><th>income_per_person</th></tr>\n",
       "<tr><td>A Aliquet Ltd</td><td>2</td><td>312021351</td><td>2021</td><td>6</td><td>298.8537411028336</td><td>1</td><td>1</td><td>3.87</td><td>b</td><td>Furniture</td><td>6012</td><td>6323</td><td>38594.84374746738</td></tr>\n",
       "<tr><td>A Aliquet Ltd</td><td>2</td><td>401021010</td><td>2021</td><td>4</td><td>670.4857203238805</td><td>1</td><td>1</td><td>3.87</td><td>b</td><td>Furniture</td><td>6012</td><td>6323</td><td>38594.84374746738</td></tr>\n",
       "<tr><td>A Aliquet Ltd</td><td>2</td><td>603011065</td><td>2021</td><td>12</td><td>346.5799250465364</td><td>1</td><td>1</td><td>3.87</td><td>b</td><td>Furniture</td><td>6012</td><td>6323</td><td>38594.84374746738</td></tr>\n",
       "<tr><td>A Arcu Industries</td><td>2</td><td>124011453</td><td>2021</td><td>8</td><td>203.5414742977921</td><td>1</td><td>1</td><td>3.0</td><td>c</td><td>Furniture</td><td>11445</td><td>11182</td><td>29815.662659654394</td></tr>\n",
       "<tr><td>A Arcu Industries</td><td>2</td><td>211051282</td><td>2022</td><td>3</td><td>655.1195924003883</td><td>1</td><td>1</td><td>3.0</td><td>c</td><td>Furniture</td><td>11445</td><td>11182</td><td>29815.662659654394</td></tr>\n",
       "</table>\n"
      ],
      "text/plain": [
       "+-----------------+------------------+---------+----+-----+-----------------+-----+-------+---------+--------------+---------+------------+--------------+-----------------+\n",
       "|    merchant_name|no_of_transactions| SA2_code|Year|Month|   total_earnings|males|females|take_rate|revenue_levels| category|males_in_SA2|females_in_SA2|income_per_person|\n",
       "+-----------------+------------------+---------+----+-----+-----------------+-----+-------+---------+--------------+---------+------------+--------------+-----------------+\n",
       "|    A Aliquet Ltd|                 2|312021351|2021|    6|298.8537411028336|    1|      1|     3.87|             b|Furniture|        3292|          3206|28693.71558221812|\n",
       "|    A Aliquet Ltd|                 2|401021010|2021|    4|670.4857203238805|    1|      1|     3.87|             b|Furniture|        3292|          3206|28693.71558221812|\n",
       "|    A Aliquet Ltd|                 2|603011065|2021|   12|346.5799250465364|    1|      1|     3.87|             b|Furniture|        3292|          3206|28693.71558221812|\n",
       "|A Arcu Industries|                 2|124011453|2021|    8|203.5414742977921|    1|      1|      3.0|             c|Furniture|        4821|          4683|25816.03452631579|\n",
       "|A Arcu Industries|                 2|211051282|2022|    3|655.1195924003883|    1|      1|      3.0|             c|Furniture|        4821|          4683|25816.03452631579|\n",
       "+-----------------+------------------+---------+----+-----+-----------------+-----+-------+---------+--------------+---------+------------+--------------+-----------------+"
      ]
     },
     "execution_count": 23,
     "metadata": {},
     "output_type": "execute_result"
    }
   ],
   "source": [
    "temp3.createOrReplaceTempView(\"edit\")\n",
    "e.createOrReplaceTempView(\"rates\")\n",
    "\n",
    "temp4 = spark.sql(\"\"\" \n",
    "\n",
    "SELECT *\n",
    "FROM edit\n",
    "INNER JOIN rates\n",
    "ON edit.merchant_name = rates.drop_name\n",
    "\"\"\")\n",
    "\n",
    "train = temp4.drop('m_name', 'f_name', 'drop_name','join_col')\n",
    "\n",
    "train.limit(5)"
   ]
  },
  {
   "cell_type": "code",
   "execution_count": 24,
   "metadata": {},
   "outputs": [
    {
     "name": "stdout",
     "output_type": "stream",
     "text": [
      "root\n",
      " |-- merchant_name: string (nullable = true)\n",
      " |-- no_of_transactions: long (nullable = false)\n",
      " |-- SA2_code: long (nullable = true)\n",
      " |-- Year: integer (nullable = true)\n",
      " |-- Month: integer (nullable = true)\n",
      " |-- total_earnings: double (nullable = true)\n",
      " |-- males: long (nullable = false)\n",
      " |-- females: long (nullable = false)\n",
      " |-- take_rate: double (nullable = true)\n",
      " |-- revenue_levels: string (nullable = true)\n",
      " |-- category: string (nullable = true)\n",
      " |-- males_in_SA2: long (nullable = true)\n",
      " |-- females_in_SA2: long (nullable = true)\n",
      " |-- income_per_person: double (nullable = true)\n",
      "\n"
     ]
    }
   ],
   "source": [
    "train.printSchema()"
   ]
  },
  {
   "cell_type": "code",
   "execution_count": 25,
   "metadata": {},
   "outputs": [
    {
     "name": "stderr",
     "output_type": "stream",
     "text": [
      "                                                                                \r"
     ]
    },
    {
     "data": {
      "text/html": [
       "<table border='1'>\n",
       "<tr><th>merchant_name</th><th>SA2_code</th><th>Year</th><th>Month</th><th>total_earnings</th></tr>\n",
       "<tr><td>A Aliquet Ltd</td><td>401021010</td><td>2021</td><td>4</td><td>670.4857203238805</td></tr>\n",
       "<tr><td>A Aliquet Ltd</td><td>603011065</td><td>2021</td><td>12</td><td>346.5799250465364</td></tr>\n",
       "<tr><td>A Arcu Industries</td><td>124011453</td><td>2021</td><td>8</td><td>203.5414742977921</td></tr>\n",
       "<tr><td>A Arcu Industries</td><td>211051282</td><td>2022</td><td>3</td><td>655.1195924003883</td></tr>\n",
       "<tr><td>A Arcu Industries</td><td>214021379</td><td>2021</td><td>7</td><td>451.0067711100705</td></tr>\n",
       "</table>\n"
      ],
      "text/plain": [
       "+-----------------+---------+----+-----+-----------------+\n",
       "|    merchant_name| SA2_code|Year|Month|   total_earnings|\n",
       "+-----------------+---------+----+-----+-----------------+\n",
       "|    A Aliquet Ltd|401021010|2021|    4|670.4857203238805|\n",
       "|    A Aliquet Ltd|603011065|2021|   12|346.5799250465364|\n",
       "|A Arcu Industries|124011453|2021|    8|203.5414742977921|\n",
       "|A Arcu Industries|211051282|2022|    3|655.1195924003883|\n",
       "|A Arcu Industries|214021379|2021|    7|451.0067711100705|\n",
       "+-----------------+---------+----+-----+-----------------+"
      ]
     },
     "execution_count": 25,
     "metadata": {},
     "output_type": "execute_result"
    }
   ],
   "source": [
    "train_projection = train.select(\"merchant_name\", \"SA2_code\", \"Year\", \"Month\", 'total_earnings')\n",
    "train_projection.limit(5)"
   ]
  },
  {
   "cell_type": "code",
   "execution_count": 26,
   "metadata": {},
   "outputs": [
    {
     "name": "stderr",
     "output_type": "stream",
     "text": [
      "                                                                                \r"
     ]
    },
    {
     "data": {
      "text/plain": [
       "891622"
      ]
     },
     "execution_count": 26,
     "metadata": {},
     "output_type": "execute_result"
    }
   ],
   "source": [
    "train_projection.count()"
   ]
  },
  {
   "cell_type": "code",
   "execution_count": 27,
   "metadata": {},
   "outputs": [
    {
     "name": "stderr",
     "output_type": "stream",
     "text": [
      "                                                                                \r"
     ]
    },
    {
     "data": {
      "text/html": [
       "<table border='1'>\n",
       "<tr><th>p_merchant_name</th><th>p_SA2_code</th><th>future_earnings</th><th>prev_year</th><th>prev_month</th></tr>\n",
       "<tr><td>A Aliquet Ltd</td><td>401021010</td><td>670.4857203238805</td><td>2021</td><td>3</td></tr>\n",
       "<tr><td>A Aliquet Ltd</td><td>603011065</td><td>346.5799250465364</td><td>2021</td><td>11</td></tr>\n",
       "<tr><td>A Arcu Industries</td><td>124011453</td><td>203.5414742977921</td><td>2021</td><td>7</td></tr>\n",
       "<tr><td>A Arcu Industries</td><td>211051282</td><td>655.1195924003883</td><td>2022</td><td>2</td></tr>\n",
       "<tr><td>A Arcu Industries</td><td>214021379</td><td>451.0067711100705</td><td>2021</td><td>6</td></tr>\n",
       "</table>\n"
      ],
      "text/plain": [
       "+-----------------+----------+-----------------+---------+----------+\n",
       "|  p_merchant_name|p_SA2_code|  future_earnings|prev_year|prev_month|\n",
       "+-----------------+----------+-----------------+---------+----------+\n",
       "|    A Aliquet Ltd| 401021010|670.4857203238805|     2021|         3|\n",
       "|    A Aliquet Ltd| 603011065|346.5799250465364|     2021|        11|\n",
       "|A Arcu Industries| 124011453|203.5414742977921|     2021|         7|\n",
       "|A Arcu Industries| 211051282|655.1195924003883|     2022|         2|\n",
       "|A Arcu Industries| 214021379|451.0067711100705|     2021|         6|\n",
       "+-----------------+----------+-----------------+---------+----------+"
      ]
     },
     "execution_count": 27,
     "metadata": {},
     "output_type": "execute_result"
    }
   ],
   "source": [
    "train_projection = train_projection.withColumn(\"prev_year\", \\\n",
    "              when(train_projection[\"Month\"] == 1, train_projection['Year'] - 1).otherwise(train_projection['Year']))\n",
    "train_projection = train_projection.withColumn(\"prev_month\", \\\n",
    "              when(train_projection[\"Month\"] == 1, 12).otherwise(train_projection['Month'] - 1))\n",
    "train_projection = train_projection.drop(\"Year\", \"Month\")\n",
    "train_projection = train_projection.withColumnRenamed(\"total_earnings\", \"future_earnings\") \\\n",
    "                            .withColumnRenamed(\"merchant_name\", \"p_merchant_name\") \\\n",
    "                            .withColumnRenamed(\"SA2_code\", \"p_SA2_code\")\n",
    "train_projection.limit(5)"
   ]
  },
  {
   "cell_type": "code",
   "execution_count": 28,
   "metadata": {},
   "outputs": [
    {
     "name": "stderr",
     "output_type": "stream",
     "text": [
      "                                                                                \r"
     ]
    },
    {
     "data": {
      "text/plain": [
       "891622"
      ]
     },
     "execution_count": 28,
     "metadata": {},
     "output_type": "execute_result"
    }
   ],
   "source": [
    "train_projection.count()"
   ]
  },
  {
   "cell_type": "code",
   "execution_count": 29,
   "metadata": {},
   "outputs": [
    {
     "name": "stderr",
     "output_type": "stream",
     "text": [
      "                                                                                \r"
     ]
    },
    {
     "data": {
      "text/html": [
       "<table border='1'>\n",
       "<tr><th>merchant_name</th><th>no_of_transactions</th><th>SA2_code</th><th>Year</th><th>Month</th><th>total_earnings</th><th>males</th><th>females</th><th>take_rate</th><th>revenue_levels</th><th>category</th><th>males_in_SA2</th><th>females_in_SA2</th><th>income_per_person</th><th>future_earnings</th></tr>\n",
       "<tr><td>A Auctor Non Corp...</td><td>3</td><td>202031033</td><td>2021</td><td>11</td><td>209.3276485401221</td><td>1</td><td>2</td><td>5.58</td><td>a</td><td>Furniture</td><td>2067</td><td>2014</td><td>22634.72370679088</td><td>184.5112457341748</td></tr>\n",
       "<tr><td>A Auctor Non Corp...</td><td>3</td><td>205021082</td><td>2022</td><td>7</td><td>262.10605847773724</td><td>1</td><td>2</td><td>5.58</td><td>a</td><td>Furniture</td><td>2067</td><td>2014</td><td>22634.72370679088</td><td>240.95251115787494</td></tr>\n",
       "<tr><td>A Auctor Non Corp...</td><td>2</td><td>205031087</td><td>2021</td><td>9</td><td>218.6890344781834</td><td>1</td><td>1</td><td>5.58</td><td>a</td><td>Furniture</td><td>2067</td><td>2014</td><td>22634.72370679088</td><td>265.85931156357447</td></tr>\n",
       "<tr><td>A Auctor Non Corp...</td><td>3</td><td>210021235</td><td>2022</td><td>9</td><td>152.99495946306212</td><td>1</td><td>2</td><td>5.58</td><td>a</td><td>Furniture</td><td>2067</td><td>2014</td><td>22634.72370679088</td><td>182.43782693499446</td></tr>\n",
       "<tr><td>A Auctor Non Corp...</td><td>4</td><td>211051282</td><td>2021</td><td>10</td><td>298.778609499402</td><td>2</td><td>2</td><td>5.58</td><td>a</td><td>Furniture</td><td>2067</td><td>2014</td><td>22634.72370679088</td><td>421.7745544721037</td></tr>\n",
       "</table>\n"
      ],
      "text/plain": [
       "+--------------------+------------------+---------+----+-----+------------------+-----+-------+---------+--------------+---------+------------+--------------+-----------------+------------------+\n",
       "|       merchant_name|no_of_transactions| SA2_code|Year|Month|    total_earnings|males|females|take_rate|revenue_levels| category|males_in_SA2|females_in_SA2|income_per_person|   future_earnings|\n",
       "+--------------------+------------------+---------+----+-----+------------------+-----+-------+---------+--------------+---------+------------+--------------+-----------------+------------------+\n",
       "|A Auctor Non Corp...|                 3|202031033|2021|   11| 209.3276485401221|    1|      2|     5.58|             a|Furniture|        2067|          2014|22634.72370679088| 184.5112457341748|\n",
       "|A Auctor Non Corp...|                 3|205021082|2022|    7|262.10605847773724|    1|      2|     5.58|             a|Furniture|        2067|          2014|22634.72370679088|240.95251115787494|\n",
       "|A Auctor Non Corp...|                 2|205031087|2021|    9| 218.6890344781834|    1|      1|     5.58|             a|Furniture|        2067|          2014|22634.72370679088|265.85931156357447|\n",
       "|A Auctor Non Corp...|                 3|210021235|2022|    9|152.99495946306212|    1|      2|     5.58|             a|Furniture|        2067|          2014|22634.72370679088|182.43782693499446|\n",
       "|A Auctor Non Corp...|                 4|211051282|2021|   10|  298.778609499402|    2|      2|     5.58|             a|Furniture|        2067|          2014|22634.72370679088| 421.7745544721037|\n",
       "+--------------------+------------------+---------+----+-----+------------------+-----+-------+---------+--------------+---------+------------+--------------+-----------------+------------------+"
      ]
     },
     "execution_count": 29,
     "metadata": {},
     "output_type": "execute_result"
    }
   ],
   "source": [
    "final_data = train.join(train_projection, (train.merchant_name == train_projection.p_merchant_name) & \n",
    "                           (train.SA2_code == train_projection.p_SA2_code) & \n",
    "                           (train.Year == train_projection.prev_year) & \n",
    "                           (train.Month == train_projection.prev_month), how = 'inner')\n",
    "\n",
    "final_data = final_data.drop(\"p_merchant_name\", \"p_SA2_code\",\"prev_year\", \"prev_month\")\n",
    "final_data.limit(5)"
   ]
  },
  {
   "cell_type": "code",
   "execution_count": 30,
   "metadata": {},
   "outputs": [
    {
     "name": "stderr",
     "output_type": "stream",
     "text": [
      "                                                                                \r"
     ]
    },
    {
     "data": {
      "text/plain": [
       "344019"
      ]
     },
     "execution_count": 30,
     "metadata": {},
     "output_type": "execute_result"
    }
   ],
   "source": [
    "final_data.count()"
   ]
  },
  {
   "cell_type": "code",
   "execution_count": 31,
   "metadata": {},
   "outputs": [
    {
     "name": "stdout",
     "output_type": "stream",
     "text": [
      "root\n",
      " |-- merchant_name: string (nullable = true)\n",
      " |-- no_of_transactions: long (nullable = false)\n",
      " |-- SA2_code: long (nullable = true)\n",
      " |-- Year: integer (nullable = true)\n",
      " |-- Month: integer (nullable = true)\n",
      " |-- total_earnings: double (nullable = true)\n",
      " |-- males: long (nullable = false)\n",
      " |-- females: long (nullable = false)\n",
      " |-- take_rate: double (nullable = true)\n",
      " |-- revenue_levels: string (nullable = true)\n",
      " |-- category: string (nullable = true)\n",
      " |-- males_in_SA2: long (nullable = true)\n",
      " |-- females_in_SA2: long (nullable = true)\n",
      " |-- income_per_person: double (nullable = true)\n",
      " |-- future_earnings: double (nullable = true)\n",
      "\n"
     ]
    }
   ],
   "source": [
    "final_data.printSchema()"
   ]
  },
  {
   "cell_type": "code",
   "execution_count": 32,
   "metadata": {},
   "outputs": [],
   "source": [
    "final_data = final_data.withColumn('Year',\n",
    "\n",
    "    F.col('Year').cast('STRING')\n",
    "\n",
    ")\n",
    "\n",
    "final_data = final_data.withColumn('Month',\n",
    "\n",
    "    F.col('Month').cast('STRING')\n",
    "\n",
    ")\n",
    "\n",
    "final_data = final_data.withColumn('SA2_code',\n",
    "\n",
    "    F.col('SA2_code').cast('STRING')\n",
    "\n",
    ")\n",
    "\n",
    "field = ['no_of_transactions', 'males', 'females', 'males_in_SA2', 'females_in_SA2']\n",
    "\n",
    "for col in field:\n",
    "    final_data = final_data.withColumn(col,\n",
    "\n",
    "    F.col(col).cast('INT')\n",
    "\n",
    ")"
   ]
  },
  {
   "cell_type": "code",
   "execution_count": 33,
   "metadata": {},
   "outputs": [
    {
     "name": "stderr",
     "output_type": "stream",
     "text": [
      "                                                                                \r"
     ]
    },
    {
     "data": {
      "text/plain": [
       "344019"
      ]
     },
     "execution_count": 33,
     "metadata": {},
     "output_type": "execute_result"
    }
   ],
   "source": [
    "final_data.count()"
   ]
  },
  {
   "cell_type": "code",
   "execution_count": 34,
   "metadata": {},
   "outputs": [
    {
     "name": "stdout",
     "output_type": "stream",
     "text": [
      "root\n",
      " |-- merchant_name: string (nullable = true)\n",
      " |-- no_of_transactions: integer (nullable = false)\n",
      " |-- SA2_code: string (nullable = true)\n",
      " |-- Year: string (nullable = true)\n",
      " |-- Month: string (nullable = true)\n",
      " |-- total_earnings: double (nullable = true)\n",
      " |-- males: integer (nullable = false)\n",
      " |-- females: integer (nullable = false)\n",
      " |-- take_rate: double (nullable = true)\n",
      " |-- revenue_levels: string (nullable = true)\n",
      " |-- category: string (nullable = true)\n",
      " |-- males_in_SA2: integer (nullable = true)\n",
      " |-- females_in_SA2: integer (nullable = true)\n",
      " |-- income_per_person: double (nullable = true)\n",
      " |-- future_earnings: double (nullable = true)\n",
      "\n"
     ]
    }
   ],
   "source": [
    "final_data.printSchema()"
   ]
  },
  {
   "cell_type": "code",
   "execution_count": 35,
   "metadata": {},
   "outputs": [
    {
     "name": "stderr",
     "output_type": "stream",
     "text": [
      "                                                                                \r"
     ]
    }
   ],
   "source": [
    "# String indexing the categorical columns\n",
    "\n",
    "indexer = StringIndexer(inputCols = ['merchant_name', 'SA2_code', 'Year', 'Month', 'revenue_levels','category'],\n",
    "outputCols = ['merchant_name_num', 'SA2_code_num', 'Year_num', 'Month_num', 'revenue_levels_num','category_num'], handleInvalid=\"keep\")\n",
    "\n",
    "indexd_data = indexer.fit(final_data).transform(final_data)\n",
    "\n",
    "\n",
    "# Applying onehot encoding to the categorical data that is string indexed above\n",
    "encoder = OneHotEncoder(inputCols = ['merchant_name_num', 'SA2_code_num', 'Year_num', 'Month_num', 'revenue_levels_num','category_num'],\n",
    "outputCols = ['merchant_name_vec', 'SA2_code_vec', 'Year_vec', 'Month_vec', 'revenue_levels_vec','category_vec'])\n",
    "\n",
    "onehotdata = encoder.fit(indexd_data).transform(indexd_data)\n",
    "\n",
    "\n",
    "# Assembling the training data as a vector of features \n",
    "assembler1 = VectorAssembler(\n",
    "inputCols=['merchant_name_vec', 'SA2_code_vec', 'Year_vec', 'Month_vec', 'revenue_levels_vec','category_vec','males_in_SA2','females_in_SA2', 'income_per_person', 'no_of_transactions','take_rate', 'total_earnings'],\n",
    "outputCol= \"features\" )\n",
    "\n",
    "outdata1 = assembler1.transform(onehotdata)"
   ]
  },
  {
   "cell_type": "code",
   "execution_count": 36,
   "metadata": {},
   "outputs": [],
   "source": [
    "# Renaming the target column as label\n",
    "\n",
    "outdata1 = outdata1.withColumnRenamed(\n",
    "    \"future_earnings\",\n",
    "    \"label\"\n",
    ")"
   ]
  },
  {
   "cell_type": "code",
   "execution_count": 37,
   "metadata": {},
   "outputs": [
    {
     "name": "stderr",
     "output_type": "stream",
     "text": [
      "                                                                                \r"
     ]
    }
   ],
   "source": [
    "# Assembling the features as a feature vector \n",
    "\n",
    "featureIndexer =\\\n",
    "    VectorIndexer(inputCol=\"features\", \n",
    "    outputCol=\"indexedFeatures\").fit(outdata1)\n",
    "\n",
    "outdata1 = featureIndexer.transform(outdata1)"
   ]
  },
  {
   "cell_type": "code",
   "execution_count": 38,
   "metadata": {},
   "outputs": [],
   "source": [
    "# Split the data into training and validation sets (30% held out for testing)\n",
    "\n",
    "trainingData, testData = outdata1.randomSplit([0.7, 0.3], seed = 20)"
   ]
  },
  {
   "cell_type": "code",
   "execution_count": 39,
   "metadata": {},
   "outputs": [
    {
     "name": "stderr",
     "output_type": "stream",
     "text": [
      "[Stage 1541:========================>                               (4 + 5) / 9]\r"
     ]
    },
    {
     "name": "stdout",
     "output_type": "stream",
     "text": [
      "22/10/05 11:57:45 WARN DAGScheduler: Broadcasting large task binary with size 1335.4 KiB\n"
     ]
    },
    {
     "name": "stderr",
     "output_type": "stream",
     "text": [
      "[Stage 1669:========================>                               (4 + 5) / 9]\r"
     ]
    },
    {
     "name": "stdout",
     "output_type": "stream",
     "text": [
      "22/10/05 11:58:57 WARN DAGScheduler: Broadcasting large task binary with size 1335.4 KiB\n"
     ]
    },
    {
     "name": "stderr",
     "output_type": "stream",
     "text": [
      "                                                                                \r"
     ]
    },
    {
     "data": {
      "text/plain": [
       "(240564, 103455)"
      ]
     },
     "execution_count": 39,
     "metadata": {},
     "output_type": "execute_result"
    }
   ],
   "source": [
    "trainingData.count(), testData.count()"
   ]
  },
  {
   "cell_type": "code",
   "execution_count": 40,
   "metadata": {},
   "outputs": [
    {
     "name": "stderr",
     "output_type": "stream",
     "text": [
      "[Stage 1797:==================>                                     (3 + 6) / 9]\r"
     ]
    },
    {
     "name": "stdout",
     "output_type": "stream",
     "text": [
      "22/10/05 12:00:11 WARN DAGScheduler: Broadcasting large task binary with size 1337.6 KiB\n"
     ]
    },
    {
     "name": "stderr",
     "output_type": "stream",
     "text": [
      "                                                                                \r"
     ]
    },
    {
     "name": "stdout",
     "output_type": "stream",
     "text": [
      "22/10/05 12:00:12 WARN DAGScheduler: Broadcasting large task binary with size 1337.7 KiB\n"
     ]
    },
    {
     "name": "stderr",
     "output_type": "stream",
     "text": [
      "                                                                                \r"
     ]
    },
    {
     "name": "stdout",
     "output_type": "stream",
     "text": [
      "22/10/05 12:00:13 WARN DAGScheduler: Broadcasting large task binary with size 1341.7 KiB\n"
     ]
    },
    {
     "name": "stderr",
     "output_type": "stream",
     "text": [
      "                                                                                \r"
     ]
    },
    {
     "name": "stdout",
     "output_type": "stream",
     "text": [
      "22/10/05 12:00:16 WARN DAGScheduler: Broadcasting large task binary with size 1454.3 KiB\n"
     ]
    },
    {
     "name": "stderr",
     "output_type": "stream",
     "text": [
      "                                                                                \r"
     ]
    },
    {
     "name": "stdout",
     "output_type": "stream",
     "text": [
      "22/10/05 12:00:22 WARN DAGScheduler: Broadcasting large task binary with size 1516.0 KiB\n"
     ]
    },
    {
     "name": "stderr",
     "output_type": "stream",
     "text": [
      "                                                                                \r"
     ]
    },
    {
     "name": "stdout",
     "output_type": "stream",
     "text": [
      "22/10/05 12:00:27 WARN DAGScheduler: Broadcasting large task binary with size 1636.9 KiB\n"
     ]
    },
    {
     "name": "stderr",
     "output_type": "stream",
     "text": [
      "                                                                                \r"
     ]
    },
    {
     "name": "stdout",
     "output_type": "stream",
     "text": [
      "22/10/05 12:00:30 WARN DAGScheduler: Broadcasting large task binary with size 1865.1 KiB\n"
     ]
    },
    {
     "name": "stderr",
     "output_type": "stream",
     "text": [
      "                                                                                \r"
     ]
    },
    {
     "name": "stdout",
     "output_type": "stream",
     "text": [
      "22/10/05 12:00:34 WARN DAGScheduler: Broadcasting large task binary with size 2.2 MiB\n"
     ]
    },
    {
     "name": "stderr",
     "output_type": "stream",
     "text": [
      "                                                                                \r"
     ]
    }
   ],
   "source": [
    "# Train a RandomForest model.\n",
    "rf = RandomForestRegressor(featuresCol=\"indexedFeatures\")\n",
    "\n",
    "\n",
    "# Train model.  \n",
    "model = rf.fit(trainingData)\n",
    "\n",
    "# Make predictions.\n",
    "predictions_validation = model.transform(testData)"
   ]
  },
  {
   "cell_type": "code",
   "execution_count": 41,
   "metadata": {},
   "outputs": [
    {
     "name": "stderr",
     "output_type": "stream",
     "text": [
      "[Stage 2056:=====================================>                  (6 + 3) / 9]\r"
     ]
    },
    {
     "name": "stdout",
     "output_type": "stream",
     "text": [
      "22/10/05 12:01:41 WARN DAGScheduler: Broadcasting large task binary with size 1349.8 KiB\n"
     ]
    },
    {
     "name": "stderr",
     "output_type": "stream",
     "text": [
      "                                                                                \r"
     ]
    },
    {
     "name": "stdout",
     "output_type": "stream",
     "text": [
      "+------------------+------------------+--------------------+\n",
      "|        prediction|             label|            features|\n",
      "+------------------+------------------+--------------------+\n",
      "|309.21589289092526| 175.5058926208255|(2085,[209,1093,2...|\n",
      "|335.53108967362624| 184.5112457341748|(2085,[209,988,20...|\n",
      "|335.53108967362624| 273.6255392020826|(2085,[209,976,20...|\n",
      "|338.73069516183006| 421.7745544721037|(2085,[209,989,20...|\n",
      "| 323.8377192822563|152.81812360693857|(2085,[209,1039,2...|\n",
      "+------------------+------------------+--------------------+\n",
      "only showing top 5 rows\n",
      "\n"
     ]
    },
    {
     "name": "stderr",
     "output_type": "stream",
     "text": [
      "[Stage 2162:=====================================>                  (6 + 3) / 9]\r"
     ]
    },
    {
     "name": "stdout",
     "output_type": "stream",
     "text": [
      "22/10/05 12:02:51 WARN DAGScheduler: Broadcasting large task binary with size 1342.8 KiB\n"
     ]
    },
    {
     "name": "stderr",
     "output_type": "stream",
     "text": [
      "                                                                                \r"
     ]
    },
    {
     "name": "stdout",
     "output_type": "stream",
     "text": [
      "22/10/05 12:02:54 WARN DAGScheduler: Broadcasting large task binary with size 1343.9 KiB\n",
      "Root Mean Squared Error (RMSE) on train data = 332.82\n"
     ]
    },
    {
     "name": "stderr",
     "output_type": "stream",
     "text": [
      "[Stage 2269:===============================>                        (5 + 4) / 9]\r"
     ]
    },
    {
     "name": "stdout",
     "output_type": "stream",
     "text": [
      "22/10/05 12:04:07 WARN DAGScheduler: Broadcasting large task binary with size 1342.8 KiB\n"
     ]
    },
    {
     "name": "stderr",
     "output_type": "stream",
     "text": [
      "[Stage 2290:============>                                           (2 + 7) / 9]\r"
     ]
    },
    {
     "name": "stdout",
     "output_type": "stream",
     "text": [
      "22/10/05 12:04:10 WARN DAGScheduler: Broadcasting large task binary with size 1344.0 KiB\n",
      "Mean Absolutee Error (MAE) on train data = 202.949\n"
     ]
    },
    {
     "name": "stderr",
     "output_type": "stream",
     "text": [
      "                                                                                \r"
     ]
    }
   ],
   "source": [
    "# Evaluate the validation set \n",
    "\n",
    "predictions_validation.select(\"prediction\", \"label\", \"features\").show(5)\n",
    "\n",
    "# Select (prediction, true label) and compute test error\n",
    "\n",
    "evaluator_train_rmse = RegressionEvaluator(\n",
    "    labelCol=\"label\", predictionCol=\"prediction\", metricName=\"rmse\")\n",
    "rmse_train = evaluator_train_rmse.evaluate(predictions_validation)\n",
    "print(\"Root Mean Squared Error (RMSE) on train data = %g\" % rmse_train)\n",
    "\n",
    "evaluator_train_mae = RegressionEvaluator(\n",
    "    labelCol=\"label\", predictionCol=\"prediction\", metricName=\"mae\")\n",
    "mae_train = evaluator_train_mae.evaluate(predictions_validation)\n",
    "print(\"Mean Absolutee Error (MAE) on train data = %g\" % mae_train)"
   ]
  },
  {
   "cell_type": "code",
   "execution_count": 42,
   "metadata": {},
   "outputs": [
    {
     "name": "stderr",
     "output_type": "stream",
     "text": [
      "                                                                                \r"
     ]
    },
    {
     "data": {
      "text/html": [
       "<table border='1'>\n",
       "<tr><th>merchant_name</th><th>no_of_transactions</th><th>SA2_code</th><th>Year</th><th>Month</th><th>total_earnings</th><th>males</th><th>females</th><th>take_rate</th><th>revenue_levels</th><th>category</th><th>males_in_SA2</th><th>females_in_SA2</th><th>income_per_person</th><th>future_earnings</th></tr>\n",
       "<tr><td>A Auctor Non Corp...</td><td>3</td><td>125031480</td><td>2022</td><td>10</td><td>205.55614462620872</td><td>1</td><td>2</td><td>5.58</td><td>a</td><td>Furniture</td><td>2067</td><td>2014</td><td>22634.72370679088</td><td>0</td></tr>\n",
       "<tr><td>A Auctor Non Corp...</td><td>3</td><td>126011496</td><td>2022</td><td>10</td><td>205.52264839287457</td><td>1</td><td>2</td><td>5.58</td><td>a</td><td>Furniture</td><td>2067</td><td>2014</td><td>22634.72370679088</td><td>0</td></tr>\n",
       "<tr><td>A Auctor Non Corp...</td><td>3</td><td>211051282</td><td>2022</td><td>10</td><td>200.77245536872834</td><td>2</td><td>1</td><td>5.58</td><td>a</td><td>Furniture</td><td>2067</td><td>2014</td><td>22634.72370679088</td><td>0</td></tr>\n",
       "<tr><td>A Auctor Non Corp...</td><td>2</td><td>509021239</td><td>2022</td><td>10</td><td>106.39982970189261</td><td>1</td><td>1</td><td>5.58</td><td>a</td><td>Furniture</td><td>2067</td><td>2014</td><td>22634.72370679088</td><td>0</td></tr>\n",
       "<tr><td>A Auctor Non Corp...</td><td>6</td><td>509021240</td><td>2022</td><td>10</td><td>362.197810772229</td><td>3</td><td>2</td><td>5.58</td><td>a</td><td>Furniture</td><td>2067</td><td>2014</td><td>22634.72370679088</td><td>0</td></tr>\n",
       "</table>\n"
      ],
      "text/plain": [
       "+--------------------+------------------+---------+----+-----+------------------+-----+-------+---------+--------------+---------+------------+--------------+-----------------+---------------+\n",
       "|       merchant_name|no_of_transactions| SA2_code|Year|Month|    total_earnings|males|females|take_rate|revenue_levels| category|males_in_SA2|females_in_SA2|income_per_person|future_earnings|\n",
       "+--------------------+------------------+---------+----+-----+------------------+-----+-------+---------+--------------+---------+------------+--------------+-----------------+---------------+\n",
       "|A Auctor Non Corp...|                 3|125031480|2022|   10|205.55614462620872|    1|      2|     5.58|             a|Furniture|        2067|          2014|22634.72370679088|              0|\n",
       "|A Auctor Non Corp...|                 3|126011496|2022|   10|205.52264839287457|    1|      2|     5.58|             a|Furniture|        2067|          2014|22634.72370679088|              0|\n",
       "|A Auctor Non Corp...|                 3|211051282|2022|   10|200.77245536872834|    2|      1|     5.58|             a|Furniture|        2067|          2014|22634.72370679088|              0|\n",
       "|A Auctor Non Corp...|                 2|509021239|2022|   10|106.39982970189261|    1|      1|     5.58|             a|Furniture|        2067|          2014|22634.72370679088|              0|\n",
       "|A Auctor Non Corp...|                 6|509021240|2022|   10|  362.197810772229|    3|      2|     5.58|             a|Furniture|        2067|          2014|22634.72370679088|              0|\n",
       "+--------------------+------------------+---------+----+-----+------------------+-----+-------+---------+--------------+---------+------------+--------------+-----------------+---------------+"
      ]
     },
     "execution_count": 42,
     "metadata": {},
     "output_type": "execute_result"
    }
   ],
   "source": [
    "latest_year = train.select(max('Year')).collect()[0][0]\n",
    "agg_month_1 = train.filter(train.Year == latest_year)\n",
    "latest_month = agg_month_1.select(max('Month')).collect()[0][0]\n",
    "predicting_data = agg_month_1.filter(train.Month == latest_month)\n",
    "predicting_data = predicting_data.withColumn(\"future_earnings\", lit(0))\n",
    "predicting_data.limit(5)"
   ]
  },
  {
   "cell_type": "code",
   "execution_count": 43,
   "metadata": {},
   "outputs": [
    {
     "name": "stderr",
     "output_type": "stream",
     "text": [
      "                                                                                \r"
     ]
    }
   ],
   "source": [
    "# String indexing the categorical columns\n",
    "\n",
    "indexer = StringIndexer(inputCols = ['merchant_name', 'SA2_code', 'Year', 'Month', 'revenue_levels','category'],\n",
    "outputCols = ['merchant_name_num', 'SA2_code_num', 'Year_num', 'Month_num', 'revenue_levels_num','category_num'], handleInvalid=\"keep\")\n",
    "\n",
    "indexd_data = indexer.fit(predicting_data).transform(predicting_data)\n",
    "\n",
    "\n",
    "# Applying onehot encoding to the categorical data that is string indexed above\n",
    "encoder = OneHotEncoder(inputCols = ['merchant_name_num', 'SA2_code_num', 'Year_num', 'Month_num', 'revenue_levels_num','category_num'],\n",
    "outputCols = ['merchant_name_vec', 'SA2_code_vec', 'Year_vec', 'Month_vec', 'revenue_levels_vec','category_vec'])\n",
    "\n",
    "onehotdata = encoder.fit(indexd_data).transform(indexd_data)\n",
    "\n",
    "\n",
    "# Assembling the training data as a vector of features \n",
    "assembler1 = VectorAssembler(\n",
    "inputCols=['merchant_name_vec', 'SA2_code_vec', 'Year_vec', 'Month_vec', 'revenue_levels_vec','category_vec','males_in_SA2','females_in_SA2', 'income_per_person', 'no_of_transactions','take_rate', 'total_earnings'],\n",
    "outputCol= \"features\" )\n",
    "\n",
    "outdata1 = assembler1.transform(onehotdata)\n",
    "\n",
    "# Renaming the target column as label\n",
    "\n",
    "outdata1 = outdata1.withColumnRenamed(\n",
    "    \"future_earnings\",\n",
    "    \"label\"\n",
    ")\n",
    "\n",
    "\n",
    "# Assembling the features as a feature vector \n",
    "\n",
    "featureIndexer =\\\n",
    "    VectorIndexer(inputCol=\"features\", \n",
    "    outputCol=\"indexedFeatures\").fit(outdata1)\n",
    "\n",
    "outdata1 = featureIndexer.transform(outdata1)"
   ]
  },
  {
   "cell_type": "code",
   "execution_count": 44,
   "metadata": {},
   "outputs": [],
   "source": [
    "predictions_test = model.transform(outdata1)"
   ]
  },
  {
   "cell_type": "code",
   "execution_count": 45,
   "metadata": {},
   "outputs": [
    {
     "name": "stderr",
     "output_type": "stream",
     "text": [
      "[Stage 2674:=====================================>                  (6 + 3) / 9]\r"
     ]
    },
    {
     "name": "stdout",
     "output_type": "stream",
     "text": [
      "22/10/05 12:07:04 WARN DAGScheduler: Broadcasting large task binary with size 1191.0 KiB\n",
      "+--------------------+------------------+---------+----+-----+------------------+-----+-------+---------+--------------+--------------------+------------+--------------+------------------+-----+-----------------+------------+--------+---------+------------------+------------+------------------+------------------+-------------+-------------+------------------+-------------+--------------------+--------------------+------------------+\n",
      "|       merchant_name|no_of_transactions| SA2_code|Year|Month|    total_earnings|males|females|take_rate|revenue_levels|            category|males_in_SA2|females_in_SA2| income_per_person|label|merchant_name_num|SA2_code_num|Year_num|Month_num|revenue_levels_num|category_num| merchant_name_vec|      SA2_code_vec|     Year_vec|    Month_vec|revenue_levels_vec| category_vec|            features|     indexedFeatures|        prediction|\n",
      "+--------------------+------------------+---------+----+-----+------------------+-----+-------+---------+--------------+--------------------+------------+--------------+------------------+-----+-----------------+------------+--------+---------+------------------+------------+------------------+------------------+-------------+-------------+------------------+-------------+--------------------+--------------------+------------------+\n",
      "|A Auctor Non Corp...|                 3|125031480|2022|   10|205.55614462620872|    1|      2|     5.58|             a|           Furniture|        2067|          2014| 22634.72370679088|    0|            234.0|       457.0|     0.0|      0.0|               0.0|         2.0|(1381,[234],[1.0])|(1079,[457],[1.0])|(1,[0],[1.0])|(1,[0],[1.0])|     (5,[0],[1.0])|(5,[2],[1.0])|(2478,[234,1838,2...|(2478,[234,1838,2...|252.28994680642404|\n",
      "|A Auctor Non Corp...|                 3|126011496|2022|   10|205.52264839287457|    1|      2|     5.58|             a|           Furniture|        2067|          2014| 22634.72370679088|    0|            234.0|       131.0|     0.0|      0.0|               0.0|         2.0|(1381,[234],[1.0])|(1079,[131],[1.0])|(1,[0],[1.0])|(1,[0],[1.0])|     (5,[0],[1.0])|(5,[2],[1.0])|(2478,[234,1512,2...|(2478,[234,1512,2...|252.28994680642404|\n",
      "|A Auctor Non Corp...|                 3|211051282|2022|   10|200.77245536872834|    2|      1|     5.58|             a|           Furniture|        2067|          2014| 22634.72370679088|    0|            234.0|        14.0|     0.0|      0.0|               0.0|         2.0|(1381,[234],[1.0])| (1079,[14],[1.0])|(1,[0],[1.0])|(1,[0],[1.0])|     (5,[0],[1.0])|(5,[2],[1.0])|(2478,[234,1395,2...|(2478,[234,1395,2...|252.28994680642404|\n",
      "|A Auctor Non Corp...|                 2|509021239|2022|   10|106.39982970189261|    1|      1|     5.58|             a|           Furniture|        2067|          2014| 22634.72370679088|    0|            234.0|        31.0|     0.0|      0.0|               0.0|         2.0|(1381,[234],[1.0])| (1079,[31],[1.0])|(1,[0],[1.0])|(1,[0],[1.0])|     (5,[0],[1.0])|(5,[2],[1.0])|(2478,[234,1412,2...|(2478,[234,1412,2...|252.28994680642404|\n",
      "|A Auctor Non Corp...|                 6|509021240|2022|   10|  362.197810772229|    3|      2|     5.58|             a|           Furniture|        2067|          2014| 22634.72370679088|    0|            234.0|         8.0|     0.0|      0.0|               0.0|         2.0|(1381,[234],[1.0])|  (1079,[8],[1.0])|(1,[0],[1.0])|(1,[0],[1.0])|     (5,[0],[1.0])|(5,[2],[1.0])|(2478,[234,1389,2...|(2478,[234,1389,2...|252.28994680642404|\n",
      "|A Auctor Non Corp...|                 3|601021012|2022|   10|218.81615059234778|    2|      1|     5.58|             a|           Furniture|        2067|          2014| 22634.72370679088|    0|            234.0|       119.0|     0.0|      0.0|               0.0|         2.0|(1381,[234],[1.0])|(1079,[119],[1.0])|(1,[0],[1.0])|(1,[0],[1.0])|     (5,[0],[1.0])|(5,[2],[1.0])|(2478,[234,1500,2...|(2478,[234,1500,2...|252.28994680642404|\n",
      "|A Auctor Non Corp...|                 2|601041022|2022|   10|52.693877837081196|    1|      1|     5.58|             a|           Furniture|        2067|          2014| 22634.72370679088|    0|            234.0|       163.0|     0.0|      0.0|               0.0|         2.0|(1381,[234],[1.0])|(1079,[163],[1.0])|(1,[0],[1.0])|(1,[0],[1.0])|     (5,[0],[1.0])|(5,[2],[1.0])|(2478,[234,1544,2...|(2478,[234,1544,2...|252.28994680642404|\n",
      "|A Auctor Non Corp...|                 3|601061034|2022|   10|139.48063343550658|    2|      1|     5.58|             a|           Furniture|        2067|          2014| 22634.72370679088|    0|            234.0|       104.0|     0.0|      0.0|               0.0|         2.0|(1381,[234],[1.0])|(1079,[104],[1.0])|(1,[0],[1.0])|(1,[0],[1.0])|     (5,[0],[1.0])|(5,[2],[1.0])|(2478,[234,1485,2...|(2478,[234,1485,2...|252.28994680642404|\n",
      "|A Auctor Non Corp...|                 2|801071080|2022|   10|184.87124421275914|    1|      1|     5.58|             a|           Furniture|        2067|          2014| 22634.72370679088|    0|            234.0|       195.0|     0.0|      0.0|               0.0|         2.0|(1381,[234],[1.0])|(1079,[195],[1.0])|(1,[0],[1.0])|(1,[0],[1.0])|     (5,[0],[1.0])|(5,[2],[1.0])|(2478,[234,1576,2...|(2478,[234,1576,2...|252.28994680642404|\n",
      "|             A Corp.|                 4|125041489|2022|   10| 282.7516535771374|    1|      3|     6.57|             a|Beauty, Health, P...|        4651|          4381|28449.542344735968|    0|            527.0|       385.0|     0.0|      0.0|               0.0|         4.0|(1381,[527],[1.0])|(1079,[385],[1.0])|(1,[0],[1.0])|(1,[0],[1.0])|     (5,[0],[1.0])|(5,[4],[1.0])|(2478,[527,1766,2...|(2478,[527,1766,2...|252.28994680642404|\n",
      "|             A Corp.|                 2|315031410|2022|   10| 328.9600771620381|    1|      1|     6.57|             a|Beauty, Health, P...|        4651|          4381|28449.542344735968|    0|            527.0|        37.0|     0.0|      0.0|               0.0|         4.0|(1381,[527],[1.0])| (1079,[37],[1.0])|(1,[0],[1.0])|(1,[0],[1.0])|     (5,[0],[1.0])|(5,[4],[1.0])|(2478,[527,1418,2...|(2478,[527,1418,2...|252.28994680642404|\n",
      "|     A Dui Institute|                 2|122021421|2022|   10| 372.9586517812356|    1|      1|     5.74|             a|Beauty, Health, P...|       10398|         11341| 56320.57395224732|    0|            656.0|       139.0|     0.0|      0.0|               0.0|         4.0|(1381,[656],[1.0])|(1079,[139],[1.0])|(1,[0],[1.0])|(1,[0],[1.0])|     (5,[0],[1.0])|(5,[4],[1.0])|(2478,[656,1520,2...|(2478,[656,1520,2...|252.28994680642404|\n",
      "|     A Dui Institute|                 2|308031222|2022|   10|1264.0476556651106|    1|      1|     5.74|             a|Beauty, Health, P...|       10398|         11341| 56320.57395224732|    0|            656.0|       847.0|     0.0|      0.0|               0.0|         4.0|(1381,[656],[1.0])|(1079,[847],[1.0])|(1,[0],[1.0])|(1,[0],[1.0])|     (5,[0],[1.0])|(5,[4],[1.0])|(2478,[656,2228,2...|(2478,[656,2228,2...|252.28994680642404|\n",
      "|      A Facilisis PC|                 2|124011453|2022|   10| 9.771447092518331|    1|      1|     2.73|             c|        Toys and DIY|        2309|          2307| 38512.59250433276|    0|            173.0|        74.0|     0.0|      0.0|               2.0|         3.0|(1381,[173],[1.0])| (1079,[74],[1.0])|(1,[0],[1.0])|(1,[0],[1.0])|     (5,[2],[1.0])|(5,[3],[1.0])|(2478,[173,1455,2...|(2478,[173,1455,2...|252.28994680642404|\n",
      "|      A Facilisis PC|                 2|212011289|2022|   10| 33.92778413739807|    1|      1|     2.73|             c|        Toys and DIY|        2309|          2307| 38512.59250433276|    0|            173.0|       134.0|     0.0|      0.0|               2.0|         3.0|(1381,[173],[1.0])|(1079,[134],[1.0])|(1,[0],[1.0])|(1,[0],[1.0])|     (5,[2],[1.0])|(5,[3],[1.0])|(2478,[173,1515,2...|(2478,[173,1515,2...|252.28994680642404|\n",
      "|      A Facilisis PC|                 2|304011082|2022|   10|  41.2247548659237|    1|      1|     2.73|             c|        Toys and DIY|        2309|          2307| 38512.59250433276|    0|            173.0|       972.0|     0.0|      0.0|               2.0|         3.0|(1381,[173],[1.0])|(1079,[972],[1.0])|(1,[0],[1.0])|(1,[0],[1.0])|     (5,[2],[1.0])|(5,[3],[1.0])|(2478,[173,2353,2...|(2478,[173,2353,2...|252.28994680642404|\n",
      "|      A Facilisis PC|                 3|307021180|2022|   10| 34.01003030714293|    2|      1|     2.73|             c|        Toys and DIY|        2309|          2307| 38512.59250433276|    0|            173.0|       115.0|     0.0|      0.0|               2.0|         3.0|(1381,[173],[1.0])|(1079,[115],[1.0])|(1,[0],[1.0])|(1,[0],[1.0])|     (5,[2],[1.0])|(5,[3],[1.0])|(2478,[173,1496,2...|(2478,[173,1496,2...|252.28994680642404|\n",
      "|      A Facilisis PC|                 3|405021119|2022|   10| 93.46698534524495|    1|      2|     2.73|             c|        Toys and DIY|        2309|          2307| 38512.59250433276|    0|            173.0|        12.0|     0.0|      0.0|               2.0|         3.0|(1381,[173],[1.0])| (1079,[12],[1.0])|(1,[0],[1.0])|(1,[0],[1.0])|     (5,[2],[1.0])|(5,[3],[1.0])|(2478,[173,1393,2...|(2478,[173,1393,2...|252.28994680642404|\n",
      "|      A Facilisis PC|                 3|509021242|2022|   10|42.879907680634716|    1|      2|     2.73|             c|        Toys and DIY|        2309|          2307| 38512.59250433276|    0|            173.0|         3.0|     0.0|      0.0|               2.0|         3.0|(1381,[173],[1.0])|  (1079,[3],[1.0])|(1,[0],[1.0])|(1,[0],[1.0])|     (5,[2],[1.0])|(5,[3],[1.0])|(2478,[173,1384,2...|(2478,[173,1384,2...|252.28994680642404|\n",
      "|A Felis Ullamcorp...|                 2|106011111|2022|   10| 553.5785841998394|    1|      1|      4.4|             b|Beauty, Health, P...|        3881|          4028| 38392.89239144196|    0|            369.0|       437.0|     0.0|      0.0|               1.0|         4.0|(1381,[369],[1.0])|(1079,[437],[1.0])|(1,[0],[1.0])|(1,[0],[1.0])|     (5,[1],[1.0])|(5,[4],[1.0])|(2478,[369,1818,2...|(2478,[369,1818,2...|252.28994680642404|\n",
      "+--------------------+------------------+---------+----+-----+------------------+-----+-------+---------+--------------+--------------------+------------+--------------+------------------+-----+-----------------+------------+--------+---------+------------------+------------+------------------+------------------+-------------+-------------+------------------+-------------+--------------------+--------------------+------------------+\n",
      "only showing top 20 rows\n",
      "\n"
     ]
    },
    {
     "name": "stderr",
     "output_type": "stream",
     "text": [
      "                                                                                \r"
     ]
    }
   ],
   "source": [
    "predictions_test.show()"
   ]
  },
  {
   "cell_type": "code",
   "execution_count": 46,
   "metadata": {},
   "outputs": [
    {
     "name": "stderr",
     "output_type": "stream",
     "text": [
      "                                                                                \r"
     ]
    },
    {
     "data": {
      "text/html": [
       "<table border='1'>\n",
       "<tr><th>merchant_name</th><th>total_revenue</th></tr>\n",
       "<tr><td>Dictum Mi Incorpo...</td><td>504.5798936128481</td></tr>\n",
       "<tr><td>Dictum Mi Limited</td><td>13623.6571275469</td></tr>\n",
       "<tr><td>Donec Luctus Indu...</td><td>3532.059255289937</td></tr>\n",
       "<tr><td>Elit Sed Consequa...</td><td>11605.337553095507</td></tr>\n",
       "<tr><td>Hendrerit Consect...</td><td>2270.6095212578166</td></tr>\n",
       "</table>\n"
      ],
      "text/plain": [
       "+--------------------+------------------+\n",
       "|       merchant_name|     total_revenue|\n",
       "+--------------------+------------------+\n",
       "|Dictum Mi Incorpo...| 504.5798936128481|\n",
       "|   Dictum Mi Limited|  13623.6571275469|\n",
       "|Donec Luctus Indu...| 3532.059255289937|\n",
       "|Elit Sed Consequa...|11605.337553095507|\n",
       "|Hendrerit Consect...|2270.6095212578166|\n",
       "+--------------------+------------------+"
      ]
     },
     "execution_count": 46,
     "metadata": {},
     "output_type": "execute_result"
    }
   ],
   "source": [
    "predictions_test.createOrReplaceTempView(\"preds\")\n",
    "\n",
    "pred = spark.sql(\"\"\" \n",
    "\n",
    "SELECT merchant_name, SUM(prediction) AS total_revenue\n",
    "FROM preds\n",
    "GROUP BY merchant_name\n",
    "\n",
    "\"\"\")\n",
    "\n",
    "pred.limit(5)"
   ]
  },
  {
   "cell_type": "code",
   "execution_count": 47,
   "metadata": {},
   "outputs": [
    {
     "name": "stderr",
     "output_type": "stream",
     "text": [
      "                                                                                \r"
     ]
    },
    {
     "data": {
      "text/plain": [
       "1381"
      ]
     },
     "execution_count": 47,
     "metadata": {},
     "output_type": "execute_result"
    }
   ],
   "source": [
    "pred.count()"
   ]
  },
  {
   "cell_type": "code",
   "execution_count": 48,
   "metadata": {},
   "outputs": [
    {
     "name": "stderr",
     "output_type": "stream",
     "text": [
      "                                                                                \r"
     ]
    }
   ],
   "source": [
    "pred_df = pred.toPandas()"
   ]
  },
  {
   "cell_type": "code",
   "execution_count": 49,
   "metadata": {},
   "outputs": [],
   "source": [
    "pred_df.to_csv(\"../data/curated/revenue.csv\")"
   ]
  },
  {
   "cell_type": "code",
   "execution_count": null,
   "metadata": {},
   "outputs": [],
   "source": []
  }
 ],
 "metadata": {
  "kernelspec": {
   "display_name": "Python 3.9.12 ('base')",
   "language": "python",
   "name": "python3"
  },
  "language_info": {
   "codemirror_mode": {
    "name": "ipython",
    "version": 3
   },
   "file_extension": ".py",
   "mimetype": "text/x-python",
   "name": "python",
   "nbconvert_exporter": "python",
   "pygments_lexer": "ipython3",
   "version": "3.9.12"
  },
  "orig_nbformat": 4,
  "vscode": {
   "interpreter": {
    "hash": "afcda84b7471a9b9fde108a34f159f021985318d3feb99cad4970c959fa9ac9e"
   }
  }
 },
 "nbformat": 4,
 "nbformat_minor": 2
}
