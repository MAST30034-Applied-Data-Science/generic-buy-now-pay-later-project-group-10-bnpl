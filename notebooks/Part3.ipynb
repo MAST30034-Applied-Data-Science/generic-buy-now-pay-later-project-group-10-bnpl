{
 "cells": [
  {
   "cell_type": "markdown",
   "id": "6b3c28f3",
   "metadata": {},
   "source": [
    "## Part 3: Visualisations"
   ]
  },
  {
   "cell_type": "code",
   "execution_count": 1,
   "id": "e59e3ef7",
   "metadata": {},
   "outputs": [
    {
     "name": "stderr",
     "output_type": "stream",
     "text": [
      "/Users/ahirve/opt/anaconda3/lib/python3.9/site-packages/geopandas/_compat.py:112: UserWarning: The Shapely GEOS version (3.10.2-CAPI-1.16.0) is incompatible with the GEOS version PyGEOS was compiled with (3.10.1-CAPI-1.16.0). Conversions between both will be slow.\n",
      "  warnings.warn(\n"
     ]
    },
    {
     "name": "stdout",
     "output_type": "stream",
     "text": [
      "22/10/07 08:48:51 WARN Utils: Your hostname, Aishwaryas-MacBook-Air.local resolves to a loopback address: 127.0.0.1; using 172.16.6.81 instead (on interface en0)\n",
      "22/10/07 08:48:51 WARN Utils: Set SPARK_LOCAL_IP if you need to bind to another address\n"
     ]
    },
    {
     "name": "stderr",
     "output_type": "stream",
     "text": [
      "Setting default log level to \"WARN\".\n",
      "To adjust logging level use sc.setLogLevel(newLevel). For SparkR, use setLogLevel(newLevel).\n"
     ]
    },
    {
     "name": "stdout",
     "output_type": "stream",
     "text": [
      "22/10/07 08:48:51 WARN NativeCodeLoader: Unable to load native-hadoop library for your platform... using builtin-java classes where applicable\n"
     ]
    },
    {
     "name": "stderr",
     "output_type": "stream",
     "text": [
      "                                                                                \r"
     ]
    },
    {
     "name": "stdout",
     "output_type": "stream",
     "text": [
      "22/10/07 08:49:34 WARN package: Truncated the string representation of a plan since it was too large. This behavior can be adjusted by setting 'spark.sql.debug.maxToStringFields'.\n"
     ]
    },
    {
     "name": "stderr",
     "output_type": "stream",
     "text": [
      "                                                                                \r"
     ]
    },
    {
     "name": "stdout",
     "output_type": "stream",
     "text": [
      "22/10/07 08:50:15 WARN SparkSession: Using an existing Spark session; only runtime SQL configurations will take effect.\n"
     ]
    }
   ],
   "source": [
    "%run \"../scripts/outlier.py\" \"../scripts/paths.json\""
   ]
  },
  {
   "cell_type": "code",
   "execution_count": 2,
   "id": "3e7504fd",
   "metadata": {},
   "outputs": [
    {
     "name": "stdout",
     "output_type": "stream",
     "text": [
      "22/10/07 08:50:15 WARN SparkSession: Using an existing Spark session; only runtime SQL configurations will take effect.\n"
     ]
    },
    {
     "name": "stderr",
     "output_type": "stream",
     "text": [
      "                                                                                \r"
     ]
    }
   ],
   "source": [
    "%run \"../scripts/ETL.py\" \"../scripts/paths.json\""
   ]
  },
  {
   "cell_type": "markdown",
   "id": "6840f3b5",
   "metadata": {},
   "source": [
    "- Visualisations to compare number of male vs female consumers DONE\n",
    "- Visualisations to compare number of male vs female transactions DONE\n",
    "- Visualisations to compare number of transactions by state DONE\n",
    "- Visualisations to show number of transactions by month DONE ISH\n",
    "- Visualisations to show number of transactions by categories (need to preprocess merchants further)"
   ]
  },
  {
   "cell_type": "markdown",
   "id": "8d44c132",
   "metadata": {},
   "source": [
    "#### Distribution of gender amongst transactions"
   ]
  },
  {
   "cell_type": "code",
   "execution_count": 5,
   "id": "96b30ec6",
   "metadata": {},
   "outputs": [
    {
     "ename": "NameError",
     "evalue": "name 'internal1' is not defined",
     "output_type": "error",
     "traceback": [
      "\u001b[0;31m---------------------------------------------------------------------------\u001b[0m",
      "\u001b[0;31mNameError\u001b[0m                                 Traceback (most recent call last)",
      "Input \u001b[0;32mIn [5]\u001b[0m, in \u001b[0;36m<cell line: 3>\u001b[0;34m()\u001b[0m\n\u001b[1;32m      1\u001b[0m \u001b[38;5;28;01mimport\u001b[39;00m \u001b[38;5;21;01mmatplotlib\u001b[39;00m\u001b[38;5;21;01m.\u001b[39;00m\u001b[38;5;21;01mpyplot\u001b[39;00m \u001b[38;5;28;01mas\u001b[39;00m \u001b[38;5;21;01mplt\u001b[39;00m\n\u001b[0;32m----> 3\u001b[0m genders \u001b[38;5;241m=\u001b[39m \u001b[43minternal1\u001b[49m\u001b[38;5;241m.\u001b[39mselect(\u001b[38;5;124m\"\u001b[39m\u001b[38;5;124mgender\u001b[39m\u001b[38;5;124m\"\u001b[39m)\n\u001b[1;32m      4\u001b[0m genderspd \u001b[38;5;241m=\u001b[39m genders\u001b[38;5;241m.\u001b[39mtoPandas()\n\u001b[1;32m      5\u001b[0m genderspd\u001b[38;5;241m.\u001b[39mvalue_counts()\u001b[38;5;241m.\u001b[39mplot(kind\u001b[38;5;241m=\u001b[39m\u001b[38;5;124m'\u001b[39m\u001b[38;5;124mbar\u001b[39m\u001b[38;5;124m'\u001b[39m)\n",
      "\u001b[0;31mNameError\u001b[0m: name 'internal1' is not defined"
     ]
    }
   ],
   "source": [
    "import matplotlib.pyplot as plt\n",
    "\n",
    "genders = internal1.select(\"gender\")\n",
    "genderspd = genders.toPandas()\n",
    "genderspd.value_counts().plot(kind='bar')"
   ]
  },
  {
   "cell_type": "markdown",
   "id": "7df6a6d0",
   "metadata": {},
   "source": [
    "#### Distribution of genders amongst consumers"
   ]
  },
  {
   "cell_type": "code",
   "execution_count": null,
   "id": "4593b923",
   "metadata": {},
   "outputs": [],
   "source": [
    "import matplotlib.pyplot as plt\n",
    "\n",
    "genders = tbl_consumer.select(\"gender\")\n",
    "genderspd = genders.toPandas()\n",
    "genderspd.value_counts().plot(kind='bar')"
   ]
  },
  {
   "cell_type": "markdown",
   "id": "81e7b9c6",
   "metadata": {},
   "source": [
    "#### Distribution of total revenue for each merchant from online purchases"
   ]
  },
  {
   "cell_type": "code",
   "execution_count": null,
   "id": "45186253",
   "metadata": {},
   "outputs": [],
   "source": [
    "total_revenue = aggregated_revenue_pd['sum(dollar_value)']\n",
    "fig = plt.figure()\n",
    "plt.boxplot(total_revenue)\n",
    "plt.show()"
   ]
  },
  {
   "cell_type": "code",
   "execution_count": null,
   "id": "903efa7e",
   "metadata": {},
   "outputs": [],
   "source": [
    "plt.hist(total_revenue)\n",
    "plt.show()"
   ]
  },
  {
   "cell_type": "markdown",
   "id": "f98c3e3b",
   "metadata": {},
   "source": [
    "#### Distributions of transactions by state"
   ]
  },
  {
   "cell_type": "code",
   "execution_count": null,
   "id": "a822a4fb",
   "metadata": {},
   "outputs": [],
   "source": [
    "import matplotlib.pyplot as plt\n",
    "\n",
    "state = internal1.select(\"state\")\n",
    "statepd = state.toPandas()\n",
    "statepd.value_counts().plot(kind='bar')"
   ]
  },
  {
   "cell_type": "markdown",
   "id": "ef47b9c5",
   "metadata": {},
   "source": [
    "#### Number of transactions made by month"
   ]
  },
  {
   "cell_type": "code",
   "execution_count": null,
   "id": "45826f64",
   "metadata": {},
   "outputs": [],
   "source": [
    "# date = internal1.select(\"order_datetime\")\n",
    "# datepd = date.toPandas()\n",
    "# datepd[\"counts\"] = 1\n",
    "datepd.groupby(pd.to_datetime(datepd[\"order_datetime\"]).dt.strftime('%b-%Y'), sort=True)[\"count\"].size().plot()\n",
    "# print(type(datepd[\"order_datetime\"][0]))"
   ]
  },
  {
   "cell_type": "code",
   "execution_count": null,
   "id": "44f3cdec",
   "metadata": {},
   "outputs": [],
   "source": [
    "dates = datepd.groupby(pd.to_datetime(datepd[\"order_datetime\"]).dt.strftime('%b-%Y'), sort=True)\n",
    "dates.head(5)"
   ]
  },
  {
   "cell_type": "code",
   "execution_count": null,
   "id": "28412964",
   "metadata": {},
   "outputs": [],
   "source": [
    "datepd[\"order_datetime\"] = pd.to_datetime(datepd[\"order_datetime\"]).dt.to_period('M')"
   ]
  },
  {
   "cell_type": "code",
   "execution_count": null,
   "id": "b605749e",
   "metadata": {},
   "outputs": [],
   "source": [
    "datepd_groupby = datepd.groupby([\"order_datetime\"]).count().reset_index()\n",
    "datepd_groupby"
   ]
  },
  {
   "cell_type": "code",
   "execution_count": null,
   "id": "ac454306",
   "metadata": {},
   "outputs": [],
   "source": [
    "datepd_groupby.plot(x = \"order_datetime\")"
   ]
  },
  {
   "cell_type": "markdown",
   "id": "96eb4cb3",
   "metadata": {},
   "source": [
    "#### Covid Cases vs Number of Transactions "
   ]
  },
  {
   "cell_type": "code",
   "execution_count": 3,
   "id": "7556dea2",
   "metadata": {},
   "outputs": [],
   "source": [
    "#Covid Cases vs Number of Transactions per month \n",
    "\n",
    "transactions = spark.read.parquet(\"../data/tables/full_join.parquet\")"
   ]
  },
  {
   "cell_type": "code",
   "execution_count": 4,
   "id": "b4bcc0a1",
   "metadata": {},
   "outputs": [
    {
     "name": "stderr",
     "output_type": "stream",
     "text": [
      "                                                                                \r"
     ]
    },
    {
     "data": {
      "text/html": [
       "<table border='1'>\n",
       "<tr><th>merchant_name</th><th>merchant_abn</th><th>categories</th><th>take_rate</th><th>revenue_levels</th><th>name</th><th>address</th><th>state</th><th>gender</th><th>trans_merchant_abn</th><th>dollar_value</th><th>order_id</th><th>order_datetime</th><th>user_id</th><th>consumer_id</th><th>postcodes</th><th>int_sa2</th><th>SA2_code</th><th>SA2_name</th><th>income_2018-2019</th><th>total_males</th><th>total_females</th><th>total_persons</th><th>state_code</th><th>state_name</th><th>population_2020</th><th>population_2021</th><th>fraud_probability_consumer</th><th>fraud_probability_merchant</th></tr>\n",
       "<tr><td>Dui Nec Corporation</td><td>19933438190</td><td>tent and awning s...</td><td>2.22</td><td>c</td><td>Brian Wright</td><td>761 Bennett Mountain</td><td>TAS</td><td>Male</td><td>19933438190</td><td>3.434666831614868</td><td>28ccb7e6-ebe7-496...</td><td>2021-06-17</td><td>2582</td><td>743</td><td>7016</td><td>601021010</td><td>601021010</td><td>Risdon Vale</td><td>58036866</td><td>1963</td><td>1540</td><td>3501</td><td>6</td><td>Tasmania</td><td>3571</td><td>3563</td><td>0.01</td><td>0.01</td></tr>\n",
       "<tr><td>Vel Est Tempor LLP</td><td>62694031334</td><td>computers, comput...</td><td>5.76</td><td>a</td><td>Brian Wright</td><td>761 Bennett Mountain</td><td>TAS</td><td>Male</td><td>62694031334</td><td>30.583567099986173</td><td>d5902566-aa14-4e4...</td><td>2021-05-07</td><td>2582</td><td>743</td><td>7016</td><td>601021010</td><td>601021010</td><td>Risdon Vale</td><td>58036866</td><td>1963</td><td>1540</td><td>3501</td><td>6</td><td>Tasmania</td><td>3571</td><td>3563</td><td>0.01</td><td>0.01</td></tr>\n",
       "<tr><td>Aliquam Nisl Corp...</td><td>55325186693</td><td>gift, card, novel...</td><td>4.44</td><td>b</td><td>Brian Wright</td><td>761 Bennett Mountain</td><td>TAS</td><td>Male</td><td>55325186693</td><td>68.91163123686927</td><td>234aedaa-1657-466...</td><td>2021-07-20</td><td>2582</td><td>743</td><td>7016</td><td>601021010</td><td>601021010</td><td>Risdon Vale</td><td>58036866</td><td>1963</td><td>1540</td><td>3501</td><td>6</td><td>Tasmania</td><td>3571</td><td>3563</td><td>0.01</td><td>0.01</td></tr>\n",
       "<tr><td>Urna Incorporated</td><td>78905182348</td><td>watch, clock, and...</td><td>4.65</td><td>b</td><td>Brian Wright</td><td>761 Bennett Mountain</td><td>TAS</td><td>Male</td><td>78905182348</td><td>15.129648652621713</td><td>51d13e41-34a5-496...</td><td>2021-06-23</td><td>2582</td><td>743</td><td>7016</td><td>601021010</td><td>601021010</td><td>Risdon Vale</td><td>58036866</td><td>1963</td><td>1540</td><td>3501</td><td>6</td><td>Tasmania</td><td>3571</td><td>3563</td><td>0.01</td><td>0.01</td></tr>\n",
       "<tr><td>Purus Gravida Sag...</td><td>21772962346</td><td>florists supplies...</td><td>6.63</td><td>a</td><td>Brian Wright</td><td>761 Bennett Mountain</td><td>TAS</td><td>Male</td><td>21772962346</td><td>0.7692714085929745</td><td>af89a162-38c7-48a...</td><td>2021-04-21</td><td>2582</td><td>743</td><td>7016</td><td>601021010</td><td>601021010</td><td>Risdon Vale</td><td>58036866</td><td>1963</td><td>1540</td><td>3501</td><td>6</td><td>Tasmania</td><td>3571</td><td>3563</td><td>0.01</td><td>0.01</td></tr>\n",
       "</table>\n"
      ],
      "text/plain": [
       "+--------------------+------------+--------------------+---------+--------------+------------+--------------------+-----+------+------------------+------------------+--------------------+--------------+-------+-----------+---------+---------+---------+-----------+----------------+-----------+-------------+-------------+----------+----------+---------------+---------------+--------------------------+--------------------------+\n",
       "|       merchant_name|merchant_abn|          categories|take_rate|revenue_levels|        name|             address|state|gender|trans_merchant_abn|      dollar_value|            order_id|order_datetime|user_id|consumer_id|postcodes|  int_sa2| SA2_code|   SA2_name|income_2018-2019|total_males|total_females|total_persons|state_code|state_name|population_2020|population_2021|fraud_probability_consumer|fraud_probability_merchant|\n",
       "+--------------------+------------+--------------------+---------+--------------+------------+--------------------+-----+------+------------------+------------------+--------------------+--------------+-------+-----------+---------+---------+---------+-----------+----------------+-----------+-------------+-------------+----------+----------+---------------+---------------+--------------------------+--------------------------+\n",
       "| Dui Nec Corporation| 19933438190|tent and awning s...|     2.22|             c|Brian Wright|761 Bennett Mountain|  TAS|  Male|       19933438190| 3.434666831614868|28ccb7e6-ebe7-496...|    2021-06-17|   2582|        743|     7016|601021010|601021010|Risdon Vale|        58036866|       1963|         1540|         3501|         6|  Tasmania|           3571|           3563|                      0.01|                      0.01|\n",
       "|  Vel Est Tempor LLP| 62694031334|computers, comput...|     5.76|             a|Brian Wright|761 Bennett Mountain|  TAS|  Male|       62694031334|30.583567099986173|d5902566-aa14-4e4...|    2021-05-07|   2582|        743|     7016|601021010|601021010|Risdon Vale|        58036866|       1963|         1540|         3501|         6|  Tasmania|           3571|           3563|                      0.01|                      0.01|\n",
       "|Aliquam Nisl Corp...| 55325186693|gift, card, novel...|     4.44|             b|Brian Wright|761 Bennett Mountain|  TAS|  Male|       55325186693| 68.91163123686927|234aedaa-1657-466...|    2021-07-20|   2582|        743|     7016|601021010|601021010|Risdon Vale|        58036866|       1963|         1540|         3501|         6|  Tasmania|           3571|           3563|                      0.01|                      0.01|\n",
       "|   Urna Incorporated| 78905182348|watch, clock, and...|     4.65|             b|Brian Wright|761 Bennett Mountain|  TAS|  Male|       78905182348|15.129648652621713|51d13e41-34a5-496...|    2021-06-23|   2582|        743|     7016|601021010|601021010|Risdon Vale|        58036866|       1963|         1540|         3501|         6|  Tasmania|           3571|           3563|                      0.01|                      0.01|\n",
       "|Purus Gravida Sag...| 21772962346|florists supplies...|     6.63|             a|Brian Wright|761 Bennett Mountain|  TAS|  Male|       21772962346|0.7692714085929745|af89a162-38c7-48a...|    2021-04-21|   2582|        743|     7016|601021010|601021010|Risdon Vale|        58036866|       1963|         1540|         3501|         6|  Tasmania|           3571|           3563|                      0.01|                      0.01|\n",
       "+--------------------+------------+--------------------+---------+--------------+------------+--------------------+-----+------+------------------+------------------+--------------------+--------------+-------+-----------+---------+---------+---------+-----------+----------------+-----------+-------------+-------------+----------+----------+---------------+---------------+--------------------------+--------------------------+"
      ]
     },
     "execution_count": 4,
     "metadata": {},
     "output_type": "execute_result"
    }
   ],
   "source": [
    "transactions.limit(5)"
   ]
  },
  {
   "cell_type": "code",
   "execution_count": 31,
   "id": "3672aedb",
   "metadata": {},
   "outputs": [],
   "source": [
    "covid_transaction_data = transactions.select(\"merchant_abn\", \"order_id\", \"order_datetime\")\n",
    "\n",
    "covid_transaction_data = covid_transaction_data.select(col(\"order_datetime\"),to_date(col(\"order_datetime\"),\"MM-yyyy\").alias(\"temp_date\"),col(\"order_id\"))\n",
    "\n",
    "covid_transaction_data = covid_transaction_data.withColumn(\"month\", month(col(\"temp_date\")))\n",
    "covid_transaction_data = covid_transaction_data.withColumn(\"year\", year(col(\"temp_date\")))\n",
    "\n",
    "transactions_2021 = covid_transaction_data.filter(covid_transaction_data.year == 2021)\n",
    "transactions_2022 = covid_transaction_data.filter(covid_transaction_data.year == 2021)\n",
    "\n",
    "transactions_month_2021 = transactions_2021.groupBy(\"month\").agg(F.count(\"order_id\").\\\n",
    "alias(\"num_transactions_month\"))\n",
    "\n",
    "transactions_month_2022 = transactions_2022.groupBy(\"month\").agg(F.count(\"order_id\").\\\n",
    "alias(\"num_transactions_month\"))\n"
   ]
  },
  {
   "cell_type": "code",
   "execution_count": 42,
   "id": "98fc62d1",
   "metadata": {},
   "outputs": [
    {
     "name": "stderr",
     "output_type": "stream",
     "text": [
      "\r",
      "[Stage 360:==========================================>             (9 + 3) / 12]\r",
      "\r",
      "                                                                                \r"
     ]
    },
    {
     "data": {
      "text/html": [
       "<table border='1'>\n",
       "<tr><th>month</th><th>num_transactions_month</th></tr>\n",
       "<tr><td>12</td><td>711286</td></tr>\n",
       "<tr><td>6</td><td>465771</td></tr>\n",
       "<tr><td>3</td><td>405478</td></tr>\n",
       "<tr><td>5</td><td>472277</td></tr>\n",
       "<tr><td>9</td><td>503820</td></tr>\n",
       "</table>\n"
      ],
      "text/plain": [
       "+-----+----------------------+\n",
       "|month|num_transactions_month|\n",
       "+-----+----------------------+\n",
       "|   12|                711286|\n",
       "|    6|                465771|\n",
       "|    3|                405478|\n",
       "|    5|                472277|\n",
       "|    9|                503820|\n",
       "+-----+----------------------+"
      ]
     },
     "execution_count": 42,
     "metadata": {},
     "output_type": "execute_result"
    }
   ],
   "source": [
    "transactions_month_2021.limit(5)"
   ]
  },
  {
   "cell_type": "code",
   "execution_count": 8,
   "id": "ad2bdb50",
   "metadata": {},
   "outputs": [
    {
     "data": {
      "text/html": [
       "<table border='1'>\n",
       "<tr><th>Unnamed: 0</th><th>date</th><th>state_name</th><th>covid_cases</th><th>yyyy</th><th>mm</th><th>dd</th></tr>\n",
       "<tr><td>0</td><td>2020-01-25</td><td>Australian Capita...</td><td>0</td><td>2020</td><td>1</td><td>25</td></tr>\n",
       "<tr><td>1</td><td>2020-01-25</td><td>New South Wales</td><td>3</td><td>2020</td><td>1</td><td>25</td></tr>\n",
       "<tr><td>2</td><td>2020-01-25</td><td>Northern Territory</td><td>0</td><td>2020</td><td>1</td><td>25</td></tr>\n",
       "<tr><td>3</td><td>2020-01-25</td><td>Queensland</td><td>0</td><td>2020</td><td>1</td><td>25</td></tr>\n",
       "<tr><td>4</td><td>2020-01-25</td><td>South Australia</td><td>0</td><td>2020</td><td>1</td><td>25</td></tr>\n",
       "</table>\n"
      ],
      "text/plain": [
       "+----------+----------+--------------------+-----------+----+---+---+\n",
       "|Unnamed: 0|      date|          state_name|covid_cases|yyyy| mm| dd|\n",
       "+----------+----------+--------------------+-----------+----+---+---+\n",
       "|         0|2020-01-25|Australian Capita...|          0|2020|  1| 25|\n",
       "|         1|2020-01-25|     New South Wales|          3|2020|  1| 25|\n",
       "|         2|2020-01-25|  Northern Territory|          0|2020|  1| 25|\n",
       "|         3|2020-01-25|          Queensland|          0|2020|  1| 25|\n",
       "|         4|2020-01-25|     South Australia|          0|2020|  1| 25|\n",
       "+----------+----------+--------------------+-----------+----+---+---+"
      ]
     },
     "execution_count": 8,
     "metadata": {},
     "output_type": "execute_result"
    }
   ],
   "source": [
    "covid_case_data = pd.read_csv(\"../data/curated/covid.csv\")\n",
    "covid_case_sdf = spark.createDataFrame(covid_case_data)\n",
    "\n"
   ]
  },
  {
   "cell_type": "code",
   "execution_count": 18,
   "id": "de14106d",
   "metadata": {},
   "outputs": [],
   "source": [
    "#Inner join: \n",
    "\n",
    "covid_transaction_data.createOrReplaceTempView(\"temp\")\n",
    "\n",
    "covid_case_sdf.createOrReplaceTempView(\"temp2\")\n",
    "\n",
    "covid_plot_data = spark.sql(\"\"\" \n",
    "\n",
    "SELECT *\n",
    "FROM temp\n",
    "\n",
    "\n",
    "INNER JOIN temp2\n",
    "\n",
    "ON temp.temp_date = temp2.date\n",
    "\"\"\")"
   ]
  },
  {
   "cell_type": "code",
   "execution_count": 19,
   "id": "440878fa",
   "metadata": {},
   "outputs": [
    {
     "name": "stderr",
     "output_type": "stream",
     "text": [
      "                                                                                \r"
     ]
    },
    {
     "data": {
      "text/html": [
       "<table border='1'>\n",
       "<tr><th>order_datetime</th><th>temp_date</th><th>month</th><th>year</th><th>Unnamed: 0</th><th>date</th><th>state_name</th><th>covid_cases</th><th>yyyy</th><th>mm</th><th>dd</th></tr>\n",
       "<tr><td>2021-06-22</td><td>2021-06-22</td><td>6</td><td>2021</td><td>4119</td><td>2021-06-22</td><td>Western Australia</td><td>0</td><td>2021</td><td>6</td><td>22</td></tr>\n",
       "<tr><td>2021-06-22</td><td>2021-06-22</td><td>6</td><td>2021</td><td>4118</td><td>2021-06-22</td><td>Victoria</td><td>3</td><td>2021</td><td>6</td><td>22</td></tr>\n",
       "<tr><td>2021-06-22</td><td>2021-06-22</td><td>6</td><td>2021</td><td>4117</td><td>2021-06-22</td><td>Tasmania</td><td>0</td><td>2021</td><td>6</td><td>22</td></tr>\n",
       "<tr><td>2021-06-22</td><td>2021-06-22</td><td>6</td><td>2021</td><td>4116</td><td>2021-06-22</td><td>South Australia</td><td>0</td><td>2021</td><td>6</td><td>22</td></tr>\n",
       "<tr><td>2021-06-22</td><td>2021-06-22</td><td>6</td><td>2021</td><td>4115</td><td>2021-06-22</td><td>Queensland</td><td>3</td><td>2021</td><td>6</td><td>22</td></tr>\n",
       "</table>\n"
      ],
      "text/plain": [
       "+--------------+----------+-----+----+----------+----------+-----------------+-----------+----+---+---+\n",
       "|order_datetime| temp_date|month|year|Unnamed: 0|      date|       state_name|covid_cases|yyyy| mm| dd|\n",
       "+--------------+----------+-----+----+----------+----------+-----------------+-----------+----+---+---+\n",
       "|    2021-06-22|2021-06-22|    6|2021|      4119|2021-06-22|Western Australia|          0|2021|  6| 22|\n",
       "|    2021-06-22|2021-06-22|    6|2021|      4118|2021-06-22|         Victoria|          3|2021|  6| 22|\n",
       "|    2021-06-22|2021-06-22|    6|2021|      4117|2021-06-22|         Tasmania|          0|2021|  6| 22|\n",
       "|    2021-06-22|2021-06-22|    6|2021|      4116|2021-06-22|  South Australia|          0|2021|  6| 22|\n",
       "|    2021-06-22|2021-06-22|    6|2021|      4115|2021-06-22|       Queensland|          3|2021|  6| 22|\n",
       "+--------------+----------+-----+----+----------+----------+-----------------+-----------+----+---+---+"
      ]
     },
     "execution_count": 19,
     "metadata": {},
     "output_type": "execute_result"
    }
   ],
   "source": [
    "covid_plot_data.limit(5)"
   ]
  },
  {
   "cell_type": "code",
   "execution_count": 27,
   "id": "9bbb3ea0",
   "metadata": {},
   "outputs": [
    {
     "name": "stderr",
     "output_type": "stream",
     "text": [
      "\r",
      "[Stage 246:=====================================>                  (8 + 4) / 12]\r",
      "\r",
      "                                                                                \r"
     ]
    },
    {
     "data": {
      "text/html": [
       "<table border='1'>\n",
       "<tr><th>order_datetime</th><th>temp_date</th><th>month</th><th>year</th><th>Unnamed: 0</th><th>date</th><th>state_name</th><th>covid_cases</th><th>yyyy</th><th>mm</th><th>dd</th></tr>\n",
       "<tr><td>2021-06-22</td><td>2021-06-22</td><td>6</td><td>2021</td><td>4119</td><td>2021-06-22</td><td>Western Australia</td><td>0</td><td>2021</td><td>6</td><td>22</td></tr>\n",
       "<tr><td>2021-06-22</td><td>2021-06-22</td><td>6</td><td>2021</td><td>4118</td><td>2021-06-22</td><td>Victoria</td><td>3</td><td>2021</td><td>6</td><td>22</td></tr>\n",
       "<tr><td>2021-06-22</td><td>2021-06-22</td><td>6</td><td>2021</td><td>4117</td><td>2021-06-22</td><td>Tasmania</td><td>0</td><td>2021</td><td>6</td><td>22</td></tr>\n",
       "<tr><td>2021-06-22</td><td>2021-06-22</td><td>6</td><td>2021</td><td>4116</td><td>2021-06-22</td><td>South Australia</td><td>0</td><td>2021</td><td>6</td><td>22</td></tr>\n",
       "<tr><td>2021-06-22</td><td>2021-06-22</td><td>6</td><td>2021</td><td>4115</td><td>2021-06-22</td><td>Queensland</td><td>3</td><td>2021</td><td>6</td><td>22</td></tr>\n",
       "</table>\n"
      ],
      "text/plain": [
       "+--------------+----------+-----+----+----------+----------+-----------------+-----------+----+---+---+\n",
       "|order_datetime| temp_date|month|year|Unnamed: 0|      date|       state_name|covid_cases|yyyy| mm| dd|\n",
       "+--------------+----------+-----+----+----------+----------+-----------------+-----------+----+---+---+\n",
       "|    2021-06-22|2021-06-22|    6|2021|      4119|2021-06-22|Western Australia|          0|2021|  6| 22|\n",
       "|    2021-06-22|2021-06-22|    6|2021|      4118|2021-06-22|         Victoria|          3|2021|  6| 22|\n",
       "|    2021-06-22|2021-06-22|    6|2021|      4117|2021-06-22|         Tasmania|          0|2021|  6| 22|\n",
       "|    2021-06-22|2021-06-22|    6|2021|      4116|2021-06-22|  South Australia|          0|2021|  6| 22|\n",
       "|    2021-06-22|2021-06-22|    6|2021|      4115|2021-06-22|       Queensland|          3|2021|  6| 22|\n",
       "+--------------+----------+-----+----+----------+----------+-----------------+-----------+----+---+---+"
      ]
     },
     "execution_count": 27,
     "metadata": {},
     "output_type": "execute_result"
    }
   ],
   "source": [
    "data_2021 = covid_plot_data.filter(covid_plot_data.year == 2021)\n",
    "data_2022 = covid_plot_data.filter(covid_plot_data.year == 2022)\n",
    "\n",
    "data_2021.limit(5)"
   ]
  },
  {
   "cell_type": "code",
   "execution_count": 48,
   "id": "d9481620",
   "metadata": {},
   "outputs": [],
   "source": [
    "aggregated_data_2021 = data_2021.groupBy(\"mm\").agg(F.sum(\"covid_cases\").\\\n",
    "alias(\"total_covid_cases_month\"))\n",
    "\n",
    "aggregated_data_2022 = data_2022.groupBy(\"mm\").agg(F.sum(\"covid_cases\").\\\n",
    "alias(\"total_covid_cases_month\"))\n"
   ]
  },
  {
   "cell_type": "code",
   "execution_count": 49,
   "id": "daf169a4",
   "metadata": {},
   "outputs": [
    {
     "data": {
      "text/html": [
       "<table border='1'>\n",
       "<tr><th>mm</th><th>total_covid_cases_month</th></tr>\n",
       "<tr><td>7</td><td>55835687</td></tr>\n",
       "<tr><td>6</td><td>7898155</td></tr>\n",
       "<tr><td>9</td><td>862862976</td></tr>\n",
       "<tr><td>5</td><td>4626450</td></tr>\n",
       "<tr><td>10</td><td>1145915944</td></tr>\n",
       "</table>\n"
      ],
      "text/plain": [
       "+---+-----------------------+\n",
       "| mm|total_covid_cases_month|\n",
       "+---+-----------------------+\n",
       "|  7|               55835687|\n",
       "|  6|                7898155|\n",
       "|  9|              862862976|\n",
       "|  5|                4626450|\n",
       "| 10|             1145915944|\n",
       "+---+-----------------------+"
      ]
     },
     "execution_count": 49,
     "metadata": {},
     "output_type": "execute_result"
    }
   ],
   "source": [
    "aggregated_data_2021.limit(5)"
   ]
  },
  {
   "cell_type": "code",
   "execution_count": 46,
   "id": "e817fb99",
   "metadata": {},
   "outputs": [
    {
     "name": "stderr",
     "output_type": "stream",
     "text": [
      "                                                                                \r"
     ]
    },
    {
     "data": {
      "text/html": [
       "<table border='1'>\n",
       "<tr><th>month</th><th>num_transactions_month</th></tr>\n",
       "<tr><td>12</td><td>711286</td></tr>\n",
       "<tr><td>6</td><td>465771</td></tr>\n",
       "<tr><td>3</td><td>405478</td></tr>\n",
       "<tr><td>5</td><td>472277</td></tr>\n",
       "<tr><td>9</td><td>503820</td></tr>\n",
       "</table>\n"
      ],
      "text/plain": [
       "+-----+----------------------+\n",
       "|month|num_transactions_month|\n",
       "+-----+----------------------+\n",
       "|   12|                711286|\n",
       "|    6|                465771|\n",
       "|    3|                405478|\n",
       "|    5|                472277|\n",
       "|    9|                503820|\n",
       "+-----+----------------------+"
      ]
     },
     "execution_count": 46,
     "metadata": {},
     "output_type": "execute_result"
    }
   ],
   "source": [
    "transactions_month_2021.limit(5)"
   ]
  },
  {
   "cell_type": "code",
   "execution_count": 50,
   "id": "43ac85cf",
   "metadata": {},
   "outputs": [
    {
     "name": "stderr",
     "output_type": "stream",
     "text": [
      "\r",
      "[Stage 463:=================================================>       (7 + 1) / 8]\r",
      "\r",
      "                                                                                \r"
     ]
    },
    {
     "data": {
      "text/html": [
       "<table border='1'>\n",
       "<tr><th>mm</th><th>total_covid_cases_month</th></tr>\n",
       "<tr><td>7</td><td>55835687</td></tr>\n",
       "<tr><td>6</td><td>7898155</td></tr>\n",
       "<tr><td>9</td><td>862862976</td></tr>\n",
       "<tr><td>5</td><td>4626450</td></tr>\n",
       "<tr><td>10</td><td>1145915944</td></tr>\n",
       "</table>\n"
      ],
      "text/plain": [
       "+---+-----------------------+\n",
       "| mm|total_covid_cases_month|\n",
       "+---+-----------------------+\n",
       "|  7|               55835687|\n",
       "|  6|                7898155|\n",
       "|  9|              862862976|\n",
       "|  5|                4626450|\n",
       "| 10|             1145915944|\n",
       "+---+-----------------------+"
      ]
     },
     "execution_count": 50,
     "metadata": {},
     "output_type": "execute_result"
    }
   ],
   "source": [
    "aggregated_data_2021.limit(5)"
   ]
  },
  {
   "cell_type": "code",
   "execution_count": 51,
   "id": "65360f06",
   "metadata": {},
   "outputs": [],
   "source": [
    "#Joins\n",
    "\n",
    "#2021 \n",
    "\n",
    "transactions_month_2021.createOrReplaceTempView(\"temp\")\n",
    "\n",
    "aggregated_data_2021.createOrReplaceTempView(\"temp2\")\n",
    "\n",
    "covid_plot_data_2021 = spark.sql(\"\"\" \n",
    "\n",
    "SELECT *\n",
    "FROM temp\n",
    "\n",
    "\n",
    "INNER JOIN temp2\n",
    "\n",
    "ON temp.month = temp2.mm\n",
    "\"\"\")\n",
    "\n",
    "#2022 \n",
    "\n",
    "transactions_month_2021.createOrReplaceTempView(\"temp\")\n",
    "\n",
    "aggregated_data_2022.createOrReplaceTempView(\"temp2\")\n",
    "\n",
    "covid_plot_data_2022 = spark.sql(\"\"\" \n",
    "\n",
    "SELECT *\n",
    "FROM temp\n",
    "\n",
    "\n",
    "INNER JOIN temp2\n",
    "\n",
    "ON temp.month = temp2.mm\n",
    "\"\"\")\n"
   ]
  },
  {
   "cell_type": "code",
   "execution_count": 58,
   "id": "dda48117",
   "metadata": {},
   "outputs": [
    {
     "name": "stderr",
     "output_type": "stream",
     "text": [
      "                                                                                \r"
     ]
    },
    {
     "data": {
      "text/html": [
       "<table border='1'>\n",
       "<tr><th>month</th><th>num_transactions_month</th><th>mm</th><th>total_covid_cases_month</th></tr>\n",
       "<tr><td>7</td><td>486528</td><td>7</td><td>24191004404</td></tr>\n",
       "<tr><td>6</td><td>465771</td><td>6</td><td>16061016246</td></tr>\n",
       "<tr><td>9</td><td>503820</td><td>9</td><td>4164816089</td></tr>\n",
       "<tr><td>5</td><td>472277</td><td>5</td><td>27607963913</td></tr>\n",
       "<tr><td>3</td><td>405478</td><td>3</td><td>23221105456</td></tr>\n",
       "</table>\n"
      ],
      "text/plain": [
       "+-----+----------------------+---+-----------------------+\n",
       "|month|num_transactions_month| mm|total_covid_cases_month|\n",
       "+-----+----------------------+---+-----------------------+\n",
       "|    7|                486528|  7|            24191004404|\n",
       "|    6|                465771|  6|            16061016246|\n",
       "|    9|                503820|  9|             4164816089|\n",
       "|    5|                472277|  5|            27607963913|\n",
       "|    3|                405478|  3|            23221105456|\n",
       "+-----+----------------------+---+-----------------------+"
      ]
     },
     "execution_count": 58,
     "metadata": {},
     "output_type": "execute_result"
    }
   ],
   "source": [
    "covid_plot_data_2022.limit(5)"
   ]
  },
  {
   "cell_type": "code",
   "execution_count": 52,
   "id": "3218e10b",
   "metadata": {},
   "outputs": [
    {
     "name": "stderr",
     "output_type": "stream",
     "text": [
      "                                                                                \r"
     ]
    },
    {
     "data": {
      "text/html": [
       "<table border='1'>\n",
       "<tr><th>month</th><th>num_transactions_month</th><th>mm</th><th>total_covid_cases_month</th></tr>\n",
       "<tr><td>7</td><td>486528</td><td>7</td><td>55835687</td></tr>\n",
       "<tr><td>6</td><td>465771</td><td>6</td><td>7898155</td></tr>\n",
       "<tr><td>9</td><td>503820</td><td>9</td><td>862862976</td></tr>\n",
       "<tr><td>5</td><td>472277</td><td>5</td><td>4626450</td></tr>\n",
       "<tr><td>10</td><td>542524</td><td>10</td><td>1145915944</td></tr>\n",
       "</table>\n"
      ],
      "text/plain": [
       "+-----+----------------------+---+-----------------------+\n",
       "|month|num_transactions_month| mm|total_covid_cases_month|\n",
       "+-----+----------------------+---+-----------------------+\n",
       "|    7|                486528|  7|               55835687|\n",
       "|    6|                465771|  6|                7898155|\n",
       "|    9|                503820|  9|              862862976|\n",
       "|    5|                472277|  5|                4626450|\n",
       "|   10|                542524| 10|             1145915944|\n",
       "+-----+----------------------+---+-----------------------+"
      ]
     },
     "execution_count": 52,
     "metadata": {},
     "output_type": "execute_result"
    }
   ],
   "source": [
    "covid_plot_data_2021.limit(5)"
   ]
  },
  {
   "cell_type": "code",
   "execution_count": 59,
   "id": "5afbadd5",
   "metadata": {},
   "outputs": [
    {
     "name": "stderr",
     "output_type": "stream",
     "text": [
      "                                                                                \r"
     ]
    }
   ],
   "source": [
    "covid_plot_data_2021_pdf = covid_plot_data_2021.toPandas()\n",
    "covid_plot_data_2022_pdf = covid_plot_data_2022.toPandas()\n"
   ]
  },
  {
   "cell_type": "code",
   "execution_count": 61,
   "id": "940b2df0",
   "metadata": {},
   "outputs": [
    {
     "data": {
      "text/plain": [
       "<AxesSubplot:xlabel='total_covid_cases_month'>"
      ]
     },
     "execution_count": 61,
     "metadata": {},
     "output_type": "execute_result"
    },
    {
     "data": {
      "image/png": "[encoded data removed]",
      "text/plain": [
       "<Figure size 432x288 with 1 Axes>"
      ]
     },
     "metadata": {
      "needs_background": "light"
     },
     "output_type": "display_data"
    },
    {
     "data": {
      "image/png": "[encoded data removed]",
      "text/plain": [
       "<Figure size 432x288 with 1 Axes>"
      ]
     },
     "metadata": {
      "needs_background": "light"
     },
     "output_type": "display_data"
    },
    {
     "name": "stdout",
     "output_type": "stream",
     "text": [
      "22/10/07 10:51:03 WARN HeartbeatReceiver: Removing executor driver with no recent heartbeats: 299932 ms exceeds timeout 120000 ms\n",
      "22/10/07 10:51:03 WARN SparkContext: Killing executors is not supported by current scheduler.\n"
     ]
    }
   ],
   "source": [
    "import matplotlib.pyplot as plt\n",
    " \n",
    "# plt.scatter(covid_plot_data_2021[\"total_covid_cases_month\"], covid_plot_data_2021[\"num_transactions_month\"], c =\"blue\")\n",
    " \n",
    "# plt.show()\n",
    "\n",
    "covid_plot_data_2021_pdf.plot(x='total_covid_cases_month', y='num_transactions_month', style='o')\n",
    "covid_plot_data_2022_pdf.plot(x='total_covid_cases_month', y='num_transactions_month', style='o')"
   ]
  },
  {
   "cell_type": "markdown",
   "id": "5d1baf5b",
   "metadata": {},
   "source": [
    "No correlation between the number of covid cases and the number of transactions each month for both years "
   ]
  },
  {
   "cell_type": "markdown",
   "id": "e31105c9",
   "metadata": {},
   "source": [
    "#### Fraud Features: Fraud vs Category "
   ]
  },
  {
   "cell_type": "code",
   "execution_count": 62,
   "id": "863666f4",
   "metadata": {},
   "outputs": [],
   "source": [
    "#Reading in data: \n",
    "\n",
    "fraud_dataset = spark.read.parquet(\"../data/tables/full_dataset_with_fraud_rates.parquet\")"
   ]
  },
  {
   "cell_type": "code",
   "execution_count": 63,
   "id": "9ea507f7",
   "metadata": {},
   "outputs": [
    {
     "name": "stderr",
     "output_type": "stream",
     "text": [
      "                                                                                \r"
     ]
    },
    {
     "data": {
      "text/html": [
       "<table border='1'>\n",
       "<tr><th>merchant_name</th><th>merchant_abn</th><th>categories</th><th>take_rate</th><th>revenue_levels</th><th>name</th><th>address</th><th>state</th><th>gender</th><th>trans_merchant_abn</th><th>dollar_value</th><th>order_id</th><th>order_datetime</th><th>user_id</th><th>consumer_id</th><th>postcodes</th><th>int_sa2</th><th>SA2_code</th><th>SA2_name</th><th>income_2018-2019</th><th>total_males</th><th>total_females</th><th>total_persons</th><th>state_code</th><th>state_name</th><th>population_2020</th><th>population_2021</th><th>fraud_probability_consumer</th><th>fraud_probability_merchant</th><th>sus_merchant_abn</th><th>average fraud rate per merchant</th></tr>\n",
       "<tr><td>Id LLP</td><td>73256306726</td><td>health and beauty...</td><td>4.81</td><td>b</td><td>Jasmine Sanchez</td><td>598 Johnson Motor...</td><td>SA</td><td>Female</td><td>73256306726</td><td>89.65500240006453</td><td>97ec48b8-6ac2-44c...</td><td>2021-12-30</td><td>9180</td><td>101</td><td>5554</td><td>405041125</td><td>405041125</td><td>Moonta</td><td>109365067</td><td>2598</td><td>2615</td><td>5217</td><td>4</td><td>South Australia</td><td>5208</td><td>5300</td><td>0.01</td><td>0.01</td><td>73256306726</td><td>0.0</td></tr>\n",
       "<tr><td>Lacinia At LLP</td><td>73841664453</td><td>digital  goods: b...</td><td>5.55</td><td>a</td><td>Jasmine Sanchez</td><td>598 Johnson Motor...</td><td>SA</td><td>Female</td><td>73841664453</td><td>78.94796817284067</td><td>ade7c376-52aa-4e9...</td><td>2022-07-12</td><td>9180</td><td>101</td><td>5554</td><td>405041125</td><td>405041125</td><td>Moonta</td><td>109365067</td><td>2598</td><td>2615</td><td>5217</td><td>4</td><td>South Australia</td><td>5208</td><td>5300</td><td>0.01</td><td>0.01</td><td>73841664453</td><td>0.0</td></tr>\n",
       "<tr><td>Ridiculus LLC</td><td>48214071373</td><td>motor vehiCle sup...</td><td>4.02</td><td>b</td><td>Jasmine Sanchez</td><td>598 Johnson Motor...</td><td>SA</td><td>Female</td><td>48214071373</td><td>189.97424807381833</td><td>5ab3cf96-0842-4b0...</td><td>2022-01-03</td><td>9180</td><td>101</td><td>5554</td><td>405041125</td><td>405041125</td><td>Moonta</td><td>109365067</td><td>2598</td><td>2615</td><td>5217</td><td>4</td><td>South Australia</td><td>5208</td><td>5300</td><td>0.01</td><td>0.01</td><td>48214071373</td><td>0.0</td></tr>\n",
       "<tr><td>Etiam Bibendum In...</td><td>38700038932</td><td>tent and awning s...</td><td>6.31</td><td>a</td><td>Jasmine Sanchez</td><td>598 Johnson Motor...</td><td>SA</td><td>Female</td><td>38700038932</td><td>1758.8425145227445</td><td>b0484820-a2d5-436...</td><td>2022-08-04</td><td>9180</td><td>101</td><td>5554</td><td>405041125</td><td>405041125</td><td>Moonta</td><td>109365067</td><td>2598</td><td>2615</td><td>5217</td><td>4</td><td>South Australia</td><td>5208</td><td>5300</td><td>0.01</td><td>0.01</td><td>38700038932</td><td>0.0</td></tr>\n",
       "<tr><td>Suspendisse Sagit...</td><td>83412691377</td><td>watch, clock, and...</td><td>2.94</td><td>c</td><td>Jasmine Sanchez</td><td>598 Johnson Motor...</td><td>SA</td><td>Female</td><td>83412691377</td><td>2.0208591113147727</td><td>3a4cde3f-3cbc-414...</td><td>2022-04-28</td><td>9180</td><td>101</td><td>5554</td><td>405041125</td><td>405041125</td><td>Moonta</td><td>109365067</td><td>2598</td><td>2615</td><td>5217</td><td>4</td><td>South Australia</td><td>5208</td><td>5300</td><td>0.01</td><td>0.01</td><td>83412691377</td><td>0.0</td></tr>\n",
       "</table>\n"
      ],
      "text/plain": [
       "+--------------------+------------+--------------------+---------+--------------+---------------+--------------------+-----+------+------------------+------------------+--------------------+--------------+-------+-----------+---------+---------+---------+--------+----------------+-----------+-------------+-------------+----------+---------------+---------------+---------------+--------------------------+--------------------------+----------------+-------------------------------+\n",
       "|       merchant_name|merchant_abn|          categories|take_rate|revenue_levels|           name|             address|state|gender|trans_merchant_abn|      dollar_value|            order_id|order_datetime|user_id|consumer_id|postcodes|  int_sa2| SA2_code|SA2_name|income_2018-2019|total_males|total_females|total_persons|state_code|     state_name|population_2020|population_2021|fraud_probability_consumer|fraud_probability_merchant|sus_merchant_abn|average fraud rate per merchant|\n",
       "+--------------------+------------+--------------------+---------+--------------+---------------+--------------------+-----+------+------------------+------------------+--------------------+--------------+-------+-----------+---------+---------+---------+--------+----------------+-----------+-------------+-------------+----------+---------------+---------------+---------------+--------------------------+--------------------------+----------------+-------------------------------+\n",
       "|              Id LLP| 73256306726|health and beauty...|     4.81|             b|Jasmine Sanchez|598 Johnson Motor...|   SA|Female|       73256306726| 89.65500240006453|97ec48b8-6ac2-44c...|    2021-12-30|   9180|        101|     5554|405041125|405041125|  Moonta|       109365067|       2598|         2615|         5217|         4|South Australia|           5208|           5300|                      0.01|                      0.01|     73256306726|                            0.0|\n",
       "|      Lacinia At LLP| 73841664453|digital  goods: b...|     5.55|             a|Jasmine Sanchez|598 Johnson Motor...|   SA|Female|       73841664453| 78.94796817284067|ade7c376-52aa-4e9...|    2022-07-12|   9180|        101|     5554|405041125|405041125|  Moonta|       109365067|       2598|         2615|         5217|         4|South Australia|           5208|           5300|                      0.01|                      0.01|     73841664453|                            0.0|\n",
       "|       Ridiculus LLC| 48214071373|motor vehiCle sup...|     4.02|             b|Jasmine Sanchez|598 Johnson Motor...|   SA|Female|       48214071373|189.97424807381833|5ab3cf96-0842-4b0...|    2022-01-03|   9180|        101|     5554|405041125|405041125|  Moonta|       109365067|       2598|         2615|         5217|         4|South Australia|           5208|           5300|                      0.01|                      0.01|     48214071373|                            0.0|\n",
       "|Etiam Bibendum In...| 38700038932|tent and awning s...|     6.31|             a|Jasmine Sanchez|598 Johnson Motor...|   SA|Female|       38700038932|1758.8425145227445|b0484820-a2d5-436...|    2022-08-04|   9180|        101|     5554|405041125|405041125|  Moonta|       109365067|       2598|         2615|         5217|         4|South Australia|           5208|           5300|                      0.01|                      0.01|     38700038932|                            0.0|\n",
       "|Suspendisse Sagit...| 83412691377|watch, clock, and...|     2.94|             c|Jasmine Sanchez|598 Johnson Motor...|   SA|Female|       83412691377|2.0208591113147727|3a4cde3f-3cbc-414...|    2022-04-28|   9180|        101|     5554|405041125|405041125|  Moonta|       109365067|       2598|         2615|         5217|         4|South Australia|           5208|           5300|                      0.01|                      0.01|     83412691377|                            0.0|\n",
       "+--------------------+------------+--------------------+---------+--------------+---------------+--------------------+-----+------+------------------+------------------+--------------------+--------------+-------+-----------+---------+---------+---------+--------+----------------+-----------+-------------+-------------+----------+---------------+---------------+---------------+--------------------------+--------------------------+----------------+-------------------------------+"
      ]
     },
     "execution_count": 63,
     "metadata": {},
     "output_type": "execute_result"
    }
   ],
   "source": [
    "fraud_dataset.limit(5)"
   ]
  },
  {
   "cell_type": "code",
   "execution_count": 77,
   "id": "7341f22a",
   "metadata": {},
   "outputs": [],
   "source": [
    "#aggregating fraud rates by category: \n",
    "\n",
    "aggregated_fraud_by_category = fraud_dataset.groupBy(\"categories\").agg(F.avg(\"average fraud rate per merchant\").alias(\"fraud_rate_per_category\"))\n"
   ]
  },
  {
   "cell_type": "code",
   "execution_count": 80,
   "id": "0d938950",
   "metadata": {},
   "outputs": [
    {
     "name": "stderr",
     "output_type": "stream",
     "text": [
      "                                                                                \r"
     ]
    },
    {
     "data": {
      "text/html": [
       "<table border='1'>\n",
       "<tr><th>categories</th><th>fraud_rate_per_category</th></tr>\n",
       "<tr><td>tEnt and awning s...</td><td>0.0</td></tr>\n",
       "<tr><td>stationery, offic...</td><td>0.0</td></tr>\n",
       "<tr><td>watcH, clock, and...</td><td>0.0</td></tr>\n",
       "<tr><td>health  and beaut...</td><td>0.0</td></tr>\n",
       "<tr><td>motor vehiCle sup...</td><td>0.0</td></tr>\n",
       "</table>\n"
      ],
      "text/plain": [
       "+--------------------+-----------------------+\n",
       "|          categories|fraud_rate_per_category|\n",
       "+--------------------+-----------------------+\n",
       "|tEnt and awning s...|                    0.0|\n",
       "|stationery, offic...|                    0.0|\n",
       "|watcH, clock, and...|                    0.0|\n",
       "|health  and beaut...|                    0.0|\n",
       "|motor vehiCle sup...|                    0.0|\n",
       "+--------------------+-----------------------+"
      ]
     },
     "execution_count": 80,
     "metadata": {},
     "output_type": "execute_result"
    }
   ],
   "source": [
    "aggregated_fraud_by_category.limit(5)\n",
    "aggregated"
   ]
  },
  {
   "cell_type": "code",
   "execution_count": 86,
   "id": "46bae3bf",
   "metadata": {},
   "outputs": [
    {
     "name": "stderr",
     "output_type": "stream",
     "text": [
      "                                                                                \r"
     ]
    }
   ],
   "source": [
    "aggregated_fraud_by_category = aggregated_fraud_by_category.withColumn(\"fraud_rate_per_category\",col(\"fraud_rate_per_category\").cast(\"float\"))\n",
    "\n",
    "aggregated_fraud_by_category = aggregated_fraud_by_category.filter(aggregated_fraud_by_category[\"fraud_rate_per_category\"] > 0)\n",
    "aggregated_fraud_by_category_pdf = aggregated_fraud_by_category.toPandas()\n",
    "\n"
   ]
  },
  {
   "cell_type": "code",
   "execution_count": 87,
   "id": "c64c7f3c",
   "metadata": {},
   "outputs": [
    {
     "data": {
      "image/png": "[encoded data removed]",
      "text/plain": [
       "<Figure size 432x288 with 1 Axes>"
      ]
     },
     "metadata": {
      "needs_background": "light"
     },
     "output_type": "display_data"
    }
   ],
   "source": [
    "ax = aggregated_fraud_by_category_pdf.plot.bar(x='categories', y='fraud_rate_per_category')"
   ]
  },
  {
   "cell_type": "markdown",
   "id": "4e7d1c23",
   "metadata": {},
   "source": [
    "#### Final Ranking Data: Visualisations and Insights \n"
   ]
  },
  {
   "cell_type": "code",
   "execution_count": null,
   "id": "aaaea477",
   "metadata": {},
   "outputs": [],
   "source": [
    "#Reading in data \n"
   ]
  }
 ],
 "metadata": {
  "kernelspec": {
   "display_name": "Python 3 (ipykernel)",
   "language": "python",
   "name": "python3"
  },
  "language_info": {
   "codemirror_mode": {
    "name": "ipython",
    "version": 3
   },
   "file_extension": ".py",
   "mimetype": "text/x-python",
   "name": "python",
   "nbconvert_exporter": "python",
   "pygments_lexer": "ipython3",
   "version": "3.9.7"
  }
 },
 "nbformat": 4,
 "nbformat_minor": 5
}
