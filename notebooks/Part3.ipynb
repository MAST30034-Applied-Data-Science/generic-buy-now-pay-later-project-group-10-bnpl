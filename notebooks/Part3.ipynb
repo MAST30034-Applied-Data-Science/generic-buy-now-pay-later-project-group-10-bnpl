{
 "cells": [
  {
   "cell_type": "markdown",
   "id": "54ed2582-22b1-4ab1-85b9-ac3351b64267",
   "metadata": {},
   "source": [
    "## Part 3: Visualisations"
   ]
  },
  {
   "cell_type": "code",
   "execution_count": 2,
   "id": "9846a6fe-11d8-4111-9181-f53fae821b96",
   "metadata": {},
   "outputs": [
    {
     "name": "stderr",
     "output_type": "stream",
     "text": [
      "Setting default log level to \"WARN\".\n",
      "To adjust logging level use sc.setLogLevel(newLevel). For SparkR, use setLogLevel(newLevel).\n"
     ]
    },
    {
     "name": "stdout",
     "output_type": "stream",
     "text": [
      "22/09/13 17:33:00 WARN NativeCodeLoader: Unable to load native-hadoop library for your platform... using builtin-java classes where applicable\n",
      "22/09/13 17:33:01 WARN Utils: Service 'SparkUI' could not bind on port 4040. Attempting port 4041.\n",
      "22/09/13 17:33:01 WARN Utils: Service 'SparkUI' could not bind on port 4041. Attempting port 4042.\n"
     ]
    },
    {
     "name": "stderr",
     "output_type": "stream",
     "text": [
      "                                                                                \r"
     ]
    },
    {
     "name": "stdout",
     "output_type": "stream",
     "text": [
      "Count before outliers:  14195505\n"
     ]
    },
    {
     "name": "stderr",
     "output_type": "stream",
     "text": [
      "                                                                                \r"
     ]
    },
    {
     "name": "stdout",
     "output_type": "stream",
     "text": [
      "Count after outlier exclusion 1:  13614675\n"
     ]
    },
    {
     "name": "stderr",
     "output_type": "stream",
     "text": [
      "                                                                                \r"
     ]
    }
   ],
   "source": [
    "%run \"../scripts/outlier.py\""
   ]
  },
  {
   "cell_type": "code",
   "execution_count": 25,
   "id": "a05e2295-92fd-4db4-9ec1-025d1c9aed51",
   "metadata": {},
   "outputs": [
    {
     "name": "stderr",
     "output_type": "stream",
     "text": [
      "                                                                                \r"
     ]
    }
   ],
   "source": [
    "%run \"../scripts/ETL.py\""
   ]
  },
  {
   "cell_type": "markdown",
   "id": "9f9a6096-4507-4d83-a7a6-0514b7bd8bd2",
   "metadata": {},
   "source": [
    "- Visualisations to compare number of male vs female consumers DONE\n",
    "- Visualisations to compare number of male vs female transactions DONE\n",
    "- Visualisations to compare number of transactions by state DONE\n",
    "- Visualisations to show number of transactions by month DONE ISH\n",
    "- Visualisations to show number of transactions by categories (need to preprocess merchants further)"
   ]
  },
  {
   "cell_type": "markdown",
   "id": "0de84282-213c-4f25-a2cd-03210b8f4aff",
   "metadata": {},
   "source": [
    "#### Distribution of gender amongst transactions"
   ]
  },
  {
   "cell_type": "code",
   "execution_count": 18,
   "id": "f2cb2892-5d56-49db-9ce0-3ddd99603f70",
   "metadata": {},
   "outputs": [
    {
     "name": "stderr",
     "output_type": "stream",
     "text": [
      "                                                                                \r"
     ]
    },
    {
     "data": {
      "text/plain": [
       "<AxesSubplot:xlabel='gender'>"
      ]
     },
     "execution_count": 18,
     "metadata": {},
     "output_type": "execute_result"
    },
    {
     "data": {
      "image/png": "[encoded data removed]",
      "text/plain": [
       "<Figure size 432x288 with 1 Axes>"
      ]
     },
     "metadata": {
      "needs_background": "light"
     },
     "output_type": "display_data"
    }
   ],
   "source": [
    "import matplotlib.pyplot as plt\n",
    "\n",
    "genders = internal1.select(\"gender\")\n",
    "genderspd = genders.toPandas()\n",
    "genderspd.value_counts().plot(kind='bar')"
   ]
  },
  {
   "cell_type": "markdown",
   "id": "80983b6b-7123-4a9c-b769-fc33dfc65c09",
   "metadata": {},
   "source": [
    "#### Distribution of genders amongst consumers"
   ]
  },
  {
   "cell_type": "code",
   "execution_count": 26,
   "id": "cf498f1c-41c1-4412-aede-6cc242b8f211",
   "metadata": {},
   "outputs": [
    {
     "name": "stderr",
     "output_type": "stream",
     "text": [
      "                                                                                \r"
     ]
    },
    {
     "data": {
      "text/plain": [
       "<AxesSubplot:xlabel='gender'>"
      ]
     },
     "execution_count": 26,
     "metadata": {},
     "output_type": "execute_result"
    },
    {
     "data": {
      "image/png": "[encoded data removed]",
      "text/plain": [
       "<Figure size 432x288 with 1 Axes>"
      ]
     },
     "metadata": {
      "needs_background": "light"
     },
     "output_type": "display_data"
    }
   ],
   "source": [
    "import matplotlib.pyplot as plt\n",
    "\n",
    "genders = tbl_consumer.select(\"gender\")\n",
    "genderspd = genders.toPandas()\n",
    "genderspd.value_counts().plot(kind='bar')"
   ]
  },
  {
   "cell_type": "markdown",
   "id": "f07ba5bf-3a2c-4d73-8b05-680c47f48c6f",
   "metadata": {},
   "source": [
    "#### Distribution of total revenue for each merchant from online purchases"
   ]
  },
  {
   "cell_type": "code",
   "execution_count": 23,
   "id": "accee77f-caa8-4b7a-b893-5e45c7dc0758",
   "metadata": {},
   "outputs": [
    {
     "data": {
      "image/png": "[encoded data removed]",
      "text/plain": [
       "<Figure size 432x288 with 1 Axes>"
      ]
     },
     "metadata": {
      "needs_background": "light"
     },
     "output_type": "display_data"
    }
   ],
   "source": [
    "total_revenue = aggregated_revenue_pd['sum(dollar_value)']\n",
    "fig = plt.figure()\n",
    "plt.boxplot(total_revenue)\n",
    "plt.show()"
   ]
  },
  {
   "cell_type": "code",
   "execution_count": 24,
   "id": "cab2806c-a4ef-4695-83b3-3f513ef8550e",
   "metadata": {},
   "outputs": [
    {
     "data": {
      "image/png": "[encoded data removed]",
      "text/plain": [
       "<Figure size 432x288 with 1 Axes>"
      ]
     },
     "metadata": {
      "needs_background": "light"
     },
     "output_type": "display_data"
    }
   ],
   "source": [
    "plt.hist(total_revenue)\n",
    "plt.show()"
   ]
  },
  {
   "cell_type": "markdown",
   "id": "9fa569a4-c1a2-459f-8ec6-4da28aec802b",
   "metadata": {},
   "source": [
    "#### Distributions of transactions by state"
   ]
  },
  {
   "cell_type": "code",
   "execution_count": 27,
   "id": "3025b2aa-22ce-4e8c-818c-8485efcc5f61",
   "metadata": {},
   "outputs": [
    {
     "name": "stderr",
     "output_type": "stream",
     "text": [
      "                                                                                \r"
     ]
    },
    {
     "data": {
      "text/plain": [
       "<AxesSubplot:xlabel='state'>"
      ]
     },
     "execution_count": 27,
     "metadata": {},
     "output_type": "execute_result"
    },
    {
     "data": {
      "image/png": "[encoded data removed]",
      "text/plain": [
       "<Figure size 432x288 with 1 Axes>"
      ]
     },
     "metadata": {
      "needs_background": "light"
     },
     "output_type": "display_data"
    }
   ],
   "source": [
    "import matplotlib.pyplot as plt\n",
    "\n",
    "state = internal1.select(\"state\")\n",
    "statepd = state.toPandas()\n",
    "statepd.value_counts().plot(kind='bar')"
   ]
  },
  {
   "cell_type": "markdown",
   "id": "3fa370e2-4632-4cdc-9ad6-a514943fd4b4",
   "metadata": {},
   "source": [
    "#### Number of transactions made by month"
   ]
  },
  {
   "cell_type": "code",
   "execution_count": 35,
   "id": "e355ad25-c075-459b-99aa-14b36b1f6bda",
   "metadata": {},
   "outputs": [
    {
     "data": {
      "text/plain": [
       "<AxesSubplot:xlabel='order_datetime'>"
      ]
     },
     "execution_count": 35,
     "metadata": {},
     "output_type": "execute_result"
    },
    {
     "data": {
      "image/png": "[encoded data removed]",
      "text/plain": [
       "<Figure size 432x288 with 1 Axes>"
      ]
     },
     "metadata": {
      "needs_background": "light"
     },
     "output_type": "display_data"
    }
   ],
   "source": [
    "# date = internal1.select(\"order_datetime\")\n",
    "# datepd = date.toPandas()\n",
    "# datepd[\"counts\"] = 1\n",
    "datepd.groupby(pd.to_datetime(datepd[\"order_datetime\"]).dt.strftime('%b-%Y'), sort=True)[\"count\"].size().plot()\n",
    "# print(type(datepd[\"order_datetime\"][0]))"
   ]
  },
  {
   "cell_type": "code",
   "execution_count": 39,
   "id": "0ae257d6-20a2-43fd-8bcd-3ad6c33a3ec8",
   "metadata": {},
   "outputs": [
    {
     "data": {
      "text/html": [
       "<div>\n",
       "<style scoped>\n",
       "    .dataframe tbody tr th:only-of-type {\n",
       "        vertical-align: middle;\n",
       "    }\n",
       "\n",
       "    .dataframe tbody tr th {\n",
       "        vertical-align: top;\n",
       "    }\n",
       "\n",
       "    .dataframe thead th {\n",
       "        text-align: right;\n",
       "    }\n",
       "</style>\n",
       "<table border=\"1\" class=\"dataframe\">\n",
       "  <thead>\n",
       "    <tr style=\"text-align: right;\">\n",
       "      <th></th>\n",
       "      <th>order_datetime</th>\n",
       "      <th>count</th>\n",
       "    </tr>\n",
       "  </thead>\n",
       "  <tbody>\n",
       "    <tr>\n",
       "      <th>0</th>\n",
       "      <td>2021-05-21</td>\n",
       "      <td>1</td>\n",
       "    </tr>\n",
       "    <tr>\n",
       "      <th>1</th>\n",
       "      <td>2021-08-22</td>\n",
       "      <td>1</td>\n",
       "    </tr>\n",
       "    <tr>\n",
       "      <th>2</th>\n",
       "      <td>2021-08-27</td>\n",
       "      <td>1</td>\n",
       "    </tr>\n",
       "    <tr>\n",
       "      <th>3</th>\n",
       "      <td>2021-05-21</td>\n",
       "      <td>1</td>\n",
       "    </tr>\n",
       "    <tr>\n",
       "      <th>4</th>\n",
       "      <td>2021-08-21</td>\n",
       "      <td>1</td>\n",
       "    </tr>\n",
       "    <tr>\n",
       "      <th>...</th>\n",
       "      <td>...</td>\n",
       "      <td>...</td>\n",
       "    </tr>\n",
       "    <tr>\n",
       "      <th>786</th>\n",
       "      <td>2021-02-28</td>\n",
       "      <td>1</td>\n",
       "    </tr>\n",
       "    <tr>\n",
       "      <th>1503</th>\n",
       "      <td>2021-02-28</td>\n",
       "      <td>1</td>\n",
       "    </tr>\n",
       "    <tr>\n",
       "      <th>1506</th>\n",
       "      <td>2021-02-28</td>\n",
       "      <td>1</td>\n",
       "    </tr>\n",
       "    <tr>\n",
       "      <th>3673</th>\n",
       "      <td>2021-02-28</td>\n",
       "      <td>1</td>\n",
       "    </tr>\n",
       "    <tr>\n",
       "      <th>4573</th>\n",
       "      <td>2021-02-28</td>\n",
       "      <td>1</td>\n",
       "    </tr>\n",
       "  </tbody>\n",
       "</table>\n",
       "<p>105 rows × 2 columns</p>\n",
       "</div>"
      ],
      "text/plain": [
       "     order_datetime  count\n",
       "0        2021-05-21      1\n",
       "1        2021-08-22      1\n",
       "2        2021-08-27      1\n",
       "3        2021-05-21      1\n",
       "4        2021-08-21      1\n",
       "...             ...    ...\n",
       "786      2021-02-28      1\n",
       "1503     2021-02-28      1\n",
       "1506     2021-02-28      1\n",
       "3673     2021-02-28      1\n",
       "4573     2021-02-28      1\n",
       "\n",
       "[105 rows x 2 columns]"
      ]
     },
     "execution_count": 39,
     "metadata": {},
     "output_type": "execute_result"
    }
   ],
   "source": [
    "dates = datepd.groupby(pd.to_datetime(datepd[\"order_datetime\"]).dt.strftime('%b-%Y'), sort=True)\n",
    "dates.head(5)"
   ]
  },
  {
   "cell_type": "code",
   "execution_count": 63,
   "id": "1eef7362-2b83-4228-8d76-e1499872f06c",
   "metadata": {},
   "outputs": [],
   "source": [
    "datepd[\"order_datetime\"] = pd.to_datetime(datepd[\"order_datetime\"]).dt.to_period('M')"
   ]
  },
  {
   "cell_type": "code",
   "execution_count": 71,
   "id": "ac2b8dcf-761a-4b1d-8cf7-f49ac89f68a1",
   "metadata": {},
   "outputs": [
    {
     "data": {
      "text/html": [
       "<div>\n",
       "<style scoped>\n",
       "    .dataframe tbody tr th:only-of-type {\n",
       "        vertical-align: middle;\n",
       "    }\n",
       "\n",
       "    .dataframe tbody tr th {\n",
       "        vertical-align: top;\n",
       "    }\n",
       "\n",
       "    .dataframe thead th {\n",
       "        text-align: right;\n",
       "    }\n",
       "</style>\n",
       "<table border=\"1\" class=\"dataframe\">\n",
       "  <thead>\n",
       "    <tr style=\"text-align: right;\">\n",
       "      <th></th>\n",
       "      <th>order_datetime</th>\n",
       "      <th>count</th>\n",
       "    </tr>\n",
       "  </thead>\n",
       "  <tbody>\n",
       "    <tr>\n",
       "      <th>0</th>\n",
       "      <td>2021-02</td>\n",
       "      <td>16403</td>\n",
       "    </tr>\n",
       "    <tr>\n",
       "      <th>1</th>\n",
       "      <td>2021-03</td>\n",
       "      <td>523961</td>\n",
       "    </tr>\n",
       "    <tr>\n",
       "      <th>2</th>\n",
       "      <td>2021-04</td>\n",
       "      <td>537936</td>\n",
       "    </tr>\n",
       "    <tr>\n",
       "      <th>3</th>\n",
       "      <td>2021-05</td>\n",
       "      <td>610532</td>\n",
       "    </tr>\n",
       "    <tr>\n",
       "      <th>4</th>\n",
       "      <td>2021-06</td>\n",
       "      <td>601284</td>\n",
       "    </tr>\n",
       "    <tr>\n",
       "      <th>5</th>\n",
       "      <td>2021-07</td>\n",
       "      <td>628500</td>\n",
       "    </tr>\n",
       "    <tr>\n",
       "      <th>6</th>\n",
       "      <td>2021-08</td>\n",
       "      <td>660593</td>\n",
       "    </tr>\n",
       "    <tr>\n",
       "      <th>7</th>\n",
       "      <td>2021-09</td>\n",
       "      <td>650453</td>\n",
       "    </tr>\n",
       "    <tr>\n",
       "      <th>8</th>\n",
       "      <td>2021-10</td>\n",
       "      <td>699953</td>\n",
       "    </tr>\n",
       "    <tr>\n",
       "      <th>9</th>\n",
       "      <td>2021-11</td>\n",
       "      <td>950550</td>\n",
       "    </tr>\n",
       "    <tr>\n",
       "      <th>10</th>\n",
       "      <td>2021-12</td>\n",
       "      <td>918444</td>\n",
       "    </tr>\n",
       "    <tr>\n",
       "      <th>11</th>\n",
       "      <td>2022-01</td>\n",
       "      <td>530114</td>\n",
       "    </tr>\n",
       "    <tr>\n",
       "      <th>12</th>\n",
       "      <td>2022-02</td>\n",
       "      <td>509095</td>\n",
       "    </tr>\n",
       "    <tr>\n",
       "      <th>13</th>\n",
       "      <td>2022-03</td>\n",
       "      <td>631085</td>\n",
       "    </tr>\n",
       "    <tr>\n",
       "      <th>14</th>\n",
       "      <td>2022-04</td>\n",
       "      <td>647300</td>\n",
       "    </tr>\n",
       "    <tr>\n",
       "      <th>15</th>\n",
       "      <td>2022-05</td>\n",
       "      <td>731292</td>\n",
       "    </tr>\n",
       "    <tr>\n",
       "      <th>16</th>\n",
       "      <td>2022-06</td>\n",
       "      <td>723427</td>\n",
       "    </tr>\n",
       "    <tr>\n",
       "      <th>17</th>\n",
       "      <td>2022-07</td>\n",
       "      <td>759276</td>\n",
       "    </tr>\n",
       "    <tr>\n",
       "      <th>18</th>\n",
       "      <td>2022-08</td>\n",
       "      <td>793349</td>\n",
       "    </tr>\n",
       "    <tr>\n",
       "      <th>19</th>\n",
       "      <td>2022-09</td>\n",
       "      <td>783675</td>\n",
       "    </tr>\n",
       "    <tr>\n",
       "      <th>20</th>\n",
       "      <td>2022-10</td>\n",
       "      <td>707453</td>\n",
       "    </tr>\n",
       "  </tbody>\n",
       "</table>\n",
       "</div>"
      ],
      "text/plain": [
       "   order_datetime   count\n",
       "0         2021-02   16403\n",
       "1         2021-03  523961\n",
       "2         2021-04  537936\n",
       "3         2021-05  610532\n",
       "4         2021-06  601284\n",
       "5         2021-07  628500\n",
       "6         2021-08  660593\n",
       "7         2021-09  650453\n",
       "8         2021-10  699953\n",
       "9         2021-11  950550\n",
       "10        2021-12  918444\n",
       "11        2022-01  530114\n",
       "12        2022-02  509095\n",
       "13        2022-03  631085\n",
       "14        2022-04  647300\n",
       "15        2022-05  731292\n",
       "16        2022-06  723427\n",
       "17        2022-07  759276\n",
       "18        2022-08  793349\n",
       "19        2022-09  783675\n",
       "20        2022-10  707453"
      ]
     },
     "execution_count": 71,
     "metadata": {},
     "output_type": "execute_result"
    }
   ],
   "source": [
    "datepd_groupby = datepd.groupby([\"order_datetime\"]).count().reset_index()\n",
    "datepd_groupby"
   ]
  },
  {
   "cell_type": "code",
   "execution_count": 73,
   "id": "831182ef-1473-4708-a642-271588c4c958",
   "metadata": {},
   "outputs": [
    {
     "data": {
      "text/plain": [
       "<AxesSubplot:xlabel='order_datetime'>"
      ]
     },
     "execution_count": 73,
     "metadata": {},
     "output_type": "execute_result"
    },
    {
     "data": {
      "image/png": "[encoded data removed]",
      "text/plain": [
       "<Figure size 432x288 with 1 Axes>"
      ]
     },
     "metadata": {
      "needs_background": "light"
     },
     "output_type": "display_data"
    }
   ],
   "source": [
    "datepd_groupby.plot(x = \"order_datetime\")"
   ]
  },
  {
   "cell_type": "code",
   "execution_count": null,
   "id": "2b077835-d790-478b-9820-114865d41223",
   "metadata": {},
   "outputs": [],
   "source": []
  },
  {
   "cell_type": "code",
   "execution_count": null,
   "id": "2e3eb0e5-421b-41fe-bc71-71eb425da062",
   "metadata": {},
   "outputs": [],
   "source": []
  }
 ],
 "metadata": {
  "kernelspec": {
   "display_name": "Python 3 (ipykernel)",
   "language": "python",
   "name": "python3"
  },
  "language_info": {
   "codemirror_mode": {
    "name": "ipython",
    "version": 3
   },
   "file_extension": ".py",
   "mimetype": "text/x-python",
   "name": "python",
   "nbconvert_exporter": "python",
   "pygments_lexer": "ipython3",
   "version": "3.9.7"
  }
 },
 "nbformat": 4,
 "nbformat_minor": 5
}
