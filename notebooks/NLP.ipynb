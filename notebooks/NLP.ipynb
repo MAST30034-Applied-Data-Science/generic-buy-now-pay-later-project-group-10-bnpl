{
 "cells": [
  {
   "cell_type": "code",
   "execution_count": 4,
   "id": "5ab8a490-7c6c-4cd4-b7aa-4c22a4f051c6",
   "metadata": {},
   "outputs": [
    {
     "name": "stderr",
     "output_type": "stream",
     "text": [
      "Exception in thread \"serve-DataFrame\" java.net.SocketTimeoutException: Accept timed out\n",
      "\tat java.base/sun.nio.ch.NioSocketImpl.timedAccept(NioSocketImpl.java:705)\n",
      "\tat java.base/sun.nio.ch.NioSocketImpl.accept(NioSocketImpl.java:749)\n",
      "\tat java.base/java.net.ServerSocket.implAccept(ServerSocket.java:673)\n",
      "\tat java.base/java.net.ServerSocket.platformImplAccept(ServerSocket.java:639)\n",
      "\tat java.base/java.net.ServerSocket.implAccept(ServerSocket.java:615)\n",
      "\tat java.base/java.net.ServerSocket.implAccept(ServerSocket.java:572)\n",
      "\tat java.base/java.net.ServerSocket.accept(ServerSocket.java:530)\n",
      "\tat org.apache.spark.security.SocketAuthServer$$anon$1.run(SocketAuthServer.scala:64)\n"
     ]
    }
   ],
   "source": [
    "# Create a spark session\n",
    "spark = (\n",
    "    SparkSession.builder.appName(\"MAST30034 Project 2\")\n",
    "    .config(\"spark.sql.repl.eagerEval.enabled\", True) \n",
    "    .config(\"spark.sql.parquet.cacheMetadata\", \"true\")\n",
    "    .config(\"spark.sql.session.timeZone\", \"Etc/UTC\")\n",
    "    .config(\"spark.driver.memory\", \"10g\")\n",
    "    .getOrCreate()\n",
    ")\n"
   ]
  },
  {
   "cell_type": "code",
   "execution_count": 6,
   "id": "bd7cc23a-446c-4132-b153-b5504a9f1754",
   "metadata": {},
   "outputs": [],
   "source": [
    "tbl_merchants = spark.read.parquet(\"../data/tables/tbl_merchants.parquet\")"
   ]
  },
  {
   "cell_type": "code",
   "execution_count": 8,
   "id": "d3e62401-74ff-4ade-aae8-e06e195314cb",
   "metadata": {},
   "outputs": [],
   "source": [
    "from pyspark.sql.functions import *\n",
    "tbl_merchants = tbl_merchants.toPandas()"
   ]
  },
  {
   "cell_type": "code",
   "execution_count": 48,
   "id": "23001ee0-a236-4898-b7be-47fe38fc102a",
   "metadata": {},
   "outputs": [
    {
     "data": {
      "text/plain": [
       "'((furniture, home furnishings and equipment shops, and manufacturers, except appliances), (e), (take rate: 0.18))'"
      ]
     },
     "execution_count": 48,
     "metadata": {},
     "output_type": "execute_result"
    }
   ],
   "source": [
    "# Observe strings format\n",
    "tbl_merchants[\"tags\"][0]"
   ]
  },
  {
   "cell_type": "code",
   "execution_count": 49,
   "id": "5bbecf87-d69a-4f1d-a5ab-f16fd9f31032",
   "metadata": {},
   "outputs": [],
   "source": [
    "# Separate tags from revenue and take rate\n",
    "tags1 = tbl_merchants[\"tags\"].str.split(\"\\), \", expand=True)\n",
    "tags2 = tags[0].str.split(\"\\], \", expand=True)"
   ]
  },
  {
   "cell_type": "code",
   "execution_count": 65,
   "id": "111dfb0f-a68b-44d2-bcb5-9d07f0af0a3c",
   "metadata": {},
   "outputs": [],
   "source": [
    "# Remove symbols from tag and making everything lowercase\n",
    "tags3 = tags2[0].str.replace('[^\\w\\s]', '', regex = True)\n",
    "tags4 = tags3.str.lower()"
   ]
  },
  {
   "cell_type": "code",
   "execution_count": 66,
   "id": "c7833edd-2d0e-4cf1-8544-1ea75560a287",
   "metadata": {},
   "outputs": [
    {
     "data": {
      "text/plain": [
       "0       furniture home furnishings and equipment shops...\n",
       "1       cable satellite and other pay television and r...\n",
       "2                jewelry watch clock and silverware shops\n",
       "3                    watch clock and jewelry repair shops\n",
       "4       music shops  musical instruments pianos and sh...\n",
       "                              ...                        \n",
       "4021               opticians optical goods and eyeglasses\n",
       "4022                     books periodicals and newspapers\n",
       "4023                                          shoe  shops\n",
       "4024                 motor vehicle supplies and new parts\n",
       "4025                 motor vehicle supplies and new parts\n",
       "Name: 0, Length: 4026, dtype: object"
      ]
     },
     "execution_count": 66,
     "metadata": {},
     "output_type": "execute_result"
    }
   ],
   "source": [
    "tags4"
   ]
  },
  {
   "cell_type": "code",
   "execution_count": 67,
   "id": "9b05ff61-5b7d-4aa2-a856-8948ea665f8d",
   "metadata": {},
   "outputs": [],
   "source": [
    "# https://www.shopify.com/au/blog/top-online-shopping-categories\n",
    "categories = [\"fashion\", \"electronics\", \"toys, hobby and DIY\", \"furniture\", \n",
    "              \"beauty, health, personal and household care\", \"other\"]"
   ]
  },
  {
   "cell_type": "code",
   "execution_count": 63,
   "id": "e5930b4a-085e-4910-a944-fb2b469b7201",
   "metadata": {},
   "outputs": [],
   "source": [
    "for i in range(0, len(tags4)):\n",
    "    for category in categories:\n",
    "        if category in tags4[i]:\n",
    "            tags4[i] = category"
   ]
  },
  {
   "cell_type": "code",
   "execution_count": 68,
   "id": "96477df3-0a13-459f-9658-02fd3610762a",
   "metadata": {},
   "outputs": [
    {
     "data": {
      "text/plain": [
       "0       furniture home furnishings and equipment shops...\n",
       "1       cable satellite and other pay television and r...\n",
       "2                jewelry watch clock and silverware shops\n",
       "3                    watch clock and jewelry repair shops\n",
       "4       music shops  musical instruments pianos and sh...\n",
       "                              ...                        \n",
       "4021               opticians optical goods and eyeglasses\n",
       "4022                     books periodicals and newspapers\n",
       "4023                                          shoe  shops\n",
       "4024                 motor vehicle supplies and new parts\n",
       "4025                 motor vehicle supplies and new parts\n",
       "Name: 0, Length: 4026, dtype: object"
      ]
     },
     "execution_count": 68,
     "metadata": {},
     "output_type": "execute_result"
    }
   ],
   "source": [
    "tags4"
   ]
  },
  {
   "cell_type": "code",
   "execution_count": null,
   "id": "f00d283c-fbe1-4a2f-b491-c04975000374",
   "metadata": {},
   "outputs": [],
   "source": []
  }
 ],
 "metadata": {
  "kernelspec": {
   "display_name": "Python 3 (ipykernel)",
   "language": "python",
   "name": "python3"
  },
  "language_info": {
   "codemirror_mode": {
    "name": "ipython",
    "version": 3
   },
   "file_extension": ".py",
   "mimetype": "text/x-python",
   "name": "python",
   "nbconvert_exporter": "python",
   "pygments_lexer": "ipython3",
   "version": "3.10.2"
  }
 },
 "nbformat": 4,
 "nbformat_minor": 5
}
