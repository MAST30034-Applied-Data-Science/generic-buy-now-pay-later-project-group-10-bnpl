{
 "cells": [
  {
   "cell_type": "code",
   "execution_count": 4,
   "id": "5ab8a490-7c6c-4cd4-b7aa-4c22a4f051c6",
   "metadata": {},
   "outputs": [
    {
     "name": "stderr",
     "output_type": "stream",
     "text": [
      "Exception in thread \"serve-DataFrame\" java.net.SocketTimeoutException: Accept timed out\n",
      "\tat java.base/sun.nio.ch.NioSocketImpl.timedAccept(NioSocketImpl.java:705)\n",
      "\tat java.base/sun.nio.ch.NioSocketImpl.accept(NioSocketImpl.java:749)\n",
      "\tat java.base/java.net.ServerSocket.implAccept(ServerSocket.java:673)\n",
      "\tat java.base/java.net.ServerSocket.platformImplAccept(ServerSocket.java:639)\n",
      "\tat java.base/java.net.ServerSocket.implAccept(ServerSocket.java:615)\n",
      "\tat java.base/java.net.ServerSocket.implAccept(ServerSocket.java:572)\n",
      "\tat java.base/java.net.ServerSocket.accept(ServerSocket.java:530)\n",
      "\tat org.apache.spark.security.SocketAuthServer$$anon$1.run(SocketAuthServer.scala:64)\n"
     ]
    }
   ],
   "source": [
    "# Create a spark session\n",
    "spark = (\n",
    "    SparkSession.builder.appName(\"MAST30034 Project 2\")\n",
    "    .config(\"spark.sql.repl.eagerEval.enabled\", True) \n",
    "    .config(\"spark.sql.parquet.cacheMetadata\", \"true\")\n",
    "    .config(\"spark.sql.session.timeZone\", \"Etc/UTC\")\n",
    "    .config(\"spark.driver.memory\", \"10g\")\n",
    "    .getOrCreate()\n",
    ")\n"
   ]
  },
  {
   "cell_type": "code",
   "execution_count": 148,
   "id": "bd7cc23a-446c-4132-b153-b5504a9f1754",
   "metadata": {},
   "outputs": [],
   "source": [
    "tbl_merchants = spark.read.parquet(\"../data/tables/tbl_merchants.parquet\")"
   ]
  },
  {
   "cell_type": "code",
   "execution_count": 149,
   "id": "d3e62401-74ff-4ade-aae8-e06e195314cb",
   "metadata": {},
   "outputs": [],
   "source": [
    "from pyspark.sql.functions import *\n",
    "tbl_merchants = tbl_merchants.toPandas()"
   ]
  },
  {
   "cell_type": "code",
   "execution_count": 150,
   "id": "23001ee0-a236-4898-b7be-47fe38fc102a",
   "metadata": {},
   "outputs": [
    {
     "data": {
      "text/plain": [
       "'((furniture, home furnishings and equipment shops, and manufacturers, except appliances), (e), (take rate: 0.18))'"
      ]
     },
     "execution_count": 150,
     "metadata": {},
     "output_type": "execute_result"
    }
   ],
   "source": [
    "# Observe strings format\n",
    "tbl_merchants[\"tags\"][0]"
   ]
  },
  {
   "cell_type": "code",
   "execution_count": 155,
   "id": "5bbecf87-d69a-4f1d-a5ab-f16fd9f31032",
   "metadata": {},
   "outputs": [],
   "source": [
    "# Separate tags from revenue and take rate\n",
    "tags1 = tbl_merchants[\"tags\"].str.split(\"\\), \", expand=True)\n",
    "tags2 = tags[0].str.split(\"\\], \", expand=True)"
   ]
  },
  {
   "cell_type": "code",
   "execution_count": 156,
   "id": "111dfb0f-a68b-44d2-bcb5-9d07f0af0a3c",
   "metadata": {},
   "outputs": [],
   "source": [
    "# Remove symbols from tag and making everything lowercase\n",
    "tags3 = tags2[0].str.replace('[^\\w\\s]', '', regex = True)\n",
    "tags4 = tags3.str.lower()"
   ]
  },
  {
   "cell_type": "code",
   "execution_count": 157,
   "id": "c7833edd-2d0e-4cf1-8544-1ea75560a287",
   "metadata": {},
   "outputs": [
    {
     "data": {
      "text/plain": [
       "0       furniture home furnishings and equipment shops...\n",
       "1       cable satellite and other pay television and r...\n",
       "2                jewelry watch clock and silverware shops\n",
       "3                    watch clock and jewelry repair shops\n",
       "4       music shops  musical instruments pianos and sh...\n",
       "                              ...                        \n",
       "4021               opticians optical goods and eyeglasses\n",
       "4022                     books periodicals and newspapers\n",
       "4023                                          shoe  shops\n",
       "4024                 motor vehicle supplies and new parts\n",
       "4025                 motor vehicle supplies and new parts\n",
       "Name: 0, Length: 4026, dtype: object"
      ]
     },
     "execution_count": 157,
     "metadata": {},
     "output_type": "execute_result"
    }
   ],
   "source": [
    "tags4"
   ]
  },
  {
   "cell_type": "code",
   "execution_count": 139,
   "id": "f00d283c-fbe1-4a2f-b491-c04975000374",
   "metadata": {},
   "outputs": [],
   "source": [
    "# https://relatedwords.io/furniture\n",
    "furniture = [\"house\", \"table\", \"room\", \"wood\", \"floor\", \"chair\", \"cabinet\", \\\n",
    "             \"items\", \"goods\", \"oak\", \"paintings\", \"renaissance\", \"bed\", \\\n",
    "             \"clothing\", \"kitchen\", \"clothes\", \"furniture\", \"floors\", \"baroque\", \\\n",
    "             \"decorations\", \"carpet\", \"toys\", \"pottery\", \"americana\", \"accessories\", \\\n",
    "             \"jewelry\", \"textiles\", \"lamp\", \"article of furniture\", \"neolithic\", \\\n",
    "             \"couch\", \"tile\", \"floor coverings\", \"appliances\", \"cabinets\", \\\n",
    "             \"antiques\", \"furnishings\", \"fabrics\", \"decor\", \"decorating\", \"carpets\", \\\n",
    "             \"flooring\", \"bedding\", \"furnishing\", \"mattress\", \"woodworking\", \"rugs\", \\\n",
    "             \"upholstery\", \"glassware\", \"wood flooring\"]"
   ]
  },
  {
   "cell_type": "code",
   "execution_count": 140,
   "id": "d2a0161d-5d1a-41e7-8647-a729c304583b",
   "metadata": {},
   "outputs": [],
   "source": [
    "# https://relatedwords.io/electronics\n",
    "electronics = [\"games\", \"game\", \"video\", \"radio\", \"technology\", \"parts\", \"digital\", \\\n",
    "               \"entertainment\", \"internet\", \"car\", \"engineering\", \"security\", \"computer\", \\\n",
    "               \"metal\", \"electric\", \"equipment\", \"programming\", \"photo\", \"electronic\", \\\n",
    "               \"audio\", \"software\", \"motor\", \"mobile\", \"tech\", \"physics\", \"device\", \"phone\", \\\n",
    "               \"mechanical\", \"electricals\", \"lights\", \"electrical\", \"devices\", \"electronics\", \\\n",
    "               \"electricity\", \"battery\", \"computers\", \"hardware\", \"mechanics\", \"clothes\", \\\n",
    "               \"furniture\", \"gaming\", \"automotive\", \"micro\", \"wireless\", \"aerospace\", \\\n",
    "               \"automated\", \"toys\", \"digital cameras\", \"batteries\", \"stereos\"]"
   ]
  },
  {
   "cell_type": "code",
   "execution_count": 141,
   "id": "0f60d750-0099-4f11-b296-7c44daed7715",
   "metadata": {},
   "outputs": [],
   "source": [
    "# https://relatedwords.io/fashion\n",
    "fashion = [\"style\", \"clothing\", \"outfit\", \"lifestyle\", \"beauty\", \"vogue\", \"haute couture\", \\\n",
    "           \"trend\", \"tailor\", \"manner\", \"couture\", \"designer\", \"styles\", \"dresses\", \"retro\", \\\n",
    "           \"mode\", \"makeup\", \"cut\", \"footwear\", \"designers\", \"fashion\", \"lingerie\", \"way\", \\\n",
    "           \"fit\", \"make\", \"clothes\", \"art\", \"design\", \"forge\", \"menswear\", \"stylist\", \\\n",
    "           \"fashion designer\", \"women wear\", \"form\", \"aesthetic\", \"pattern\", \"society\", \\\n",
    "           \"lanvin\", \"music\", \"fashionistas\", \"catwalks\", \"editorial\", \"language\", \"brand\", \\\n",
    "           \"versace\", \"dress\", \"michael kors\", \"paris fashion week\", \"fashionably\" ,\"vivienne westwood\"]"
   ]
  },
  {
   "cell_type": "code",
   "execution_count": 145,
   "id": "fb9208e8-a049-449a-9940-497f2fed3c4d",
   "metadata": {},
   "outputs": [],
   "source": [
    "# https://relatedwords.io/beauty-products\n",
    "beauty = [\"perfume\", \"beauty\", \"hair\", \"lipstick\", \"rouge\", \"beautician\", \\\n",
    "          \"food and drug administration\", \"cream\", \"lotion\", \"fine\", \"grace\", \\\n",
    "          \"lovely\", \"product\", \"art\", \"mascara\", \"scent\", \"hairspray\", \"shampoo\"]\n",
    "# https://relatedwords.io/health\n",
    "health = [\"family\", \"improve\", \"education\", \"research\", \"social\", \"health\", \\\n",
    "          \"families\", \"medical\", \"food\", \"hospital\", \"care\", \"medicine\", \"agriculture\", \"safety\"]\n",
    "# https://relatedwords.io/household\n",
    "household = [\"people\", \"family\", \"life\", \"living\", \"personal\", \"work\", \"home\", \\\n",
    "             \"house\", \"community\", \"business\", \"person\", \"close\", \"domestic\", \\\n",
    "             \"child\", \"individual\", \"food\", \"parents\", \"car\"]\n",
    "\n",
    "beauty_health_personal_household = beauty + health + household"
   ]
  },
  {
   "cell_type": "code",
   "execution_count": 146,
   "id": "c87945c3-1fad-4b55-bc8f-e7a9323d262e",
   "metadata": {},
   "outputs": [],
   "source": [
    "# https://relatedwords.io/hobby\n",
    "hobby = [\"sports\", \"art\", \"game\", \"sport\", \"interest\", \"amateur\", \"photography\", \"fun\", \\\n",
    "         \"recreation\", \"profession\", \"hunting\", \"passion\", \"craft\", \"pursuit\", \"lifestyle\", \\\n",
    "         \"recreational\", \"genealogy\", \"leisure\"]\n",
    "# https://relatedwords.io/toys\n",
    "toys = [\"play\", \"outfits\", \"doll\", \"lego\", \"plastic\", \"meccano\", \"dally\", \"dolls\", \\\n",
    "        \"ball\", \"candy\", \"miniature\", \"yo-yo\", \"barbie\", \"hobby\", \"teddy bear\", \"baby\", \"dollhouse\"]\n",
    "# https://relatedwords.io/diy\n",
    "DIY = [\"repair\", \"art\", \"ikea\", \"gardening\", \"mod\", \"do it yourself\", \"repairing\", \\\n",
    "       \"tlc\", \"repairs\", \"soho\", \"trug\", \"duluth\", \"cooke\", \"faq\", \"adirondack\"]\n",
    "\n",
    "toys_hobby_DIY = hobby + toys + DIY"
   ]
  },
  {
   "cell_type": "code",
   "execution_count": 168,
   "id": "5a40562d-1345-437d-949d-bb372b854839",
   "metadata": {},
   "outputs": [],
   "source": [
    "# https://www.shopify.com/au/blog/top-online-shopping-categories\n",
    "categories = [fashion, furniture, electronics, beauty_health_personal_household, toys_hobby_DIY]\n",
    "categories_label = [\"fashion\", \"furniture\", \"electronics\", \"beauty, health, personal and household\", \"toys, hobbies and DIY\"]"
   ]
  },
  {
   "cell_type": "code",
   "execution_count": 183,
   "id": "2f95c73b-ccba-4b41-a607-2fc43d930eaf",
   "metadata": {},
   "outputs": [],
   "source": [
    "import builtins as p\n",
    "for i in range(0, len(tags4)):\n",
    "    counts = [0]*len(categories)\n",
    "    for j in range(0, len(categories)):\n",
    "        for word in categories[j]:\n",
    "            if word in tags4[i]:\n",
    "                counts[j] += 1\n",
    "    if counts == [0]*len(categories):\n",
    "        tags4[i] = \"other\"\n",
    "    else:   \n",
    "        max_value = p.max(counts)\n",
    "        max_index = counts.index(max_value)\n",
    "        tags4[i] = categories_label[max_index]"
   ]
  },
  {
   "cell_type": "code",
   "execution_count": 184,
   "id": "7858de29-cd19-4bd0-ab3a-dabf2e6601e4",
   "metadata": {},
   "outputs": [
    {
     "data": {
      "text/plain": [
       "0         furniture\n",
       "1       electronics\n",
       "2         furniture\n",
       "3         furniture\n",
       "4           fashion\n",
       "           ...     \n",
       "4021      furniture\n",
       "4022          other\n",
       "4023          other\n",
       "4024    electronics\n",
       "4025    electronics\n",
       "Name: 0, Length: 4026, dtype: object"
      ]
     },
     "execution_count": 184,
     "metadata": {},
     "output_type": "execute_result"
    }
   ],
   "source": [
    "tags4"
   ]
  },
  {
   "cell_type": "code",
   "execution_count": 186,
   "id": "32e2768b-8d56-4ca9-991e-ef7080342560",
   "metadata": {},
   "outputs": [
    {
     "data": {
      "text/plain": [
       "pandas.core.series.Series"
      ]
     },
     "execution_count": 186,
     "metadata": {},
     "output_type": "execute_result"
    }
   ],
   "source": [
    "type(tags4)"
   ]
  },
  {
   "cell_type": "code",
   "execution_count": 187,
   "id": "32f937af-e33f-46e1-84eb-01a7bafc404a",
   "metadata": {},
   "outputs": [],
   "source": [
    "tbl_merchants[\"categoriesed_tags\"] = tags4"
   ]
  },
  {
   "cell_type": "code",
   "execution_count": 190,
   "id": "3b99d64d-9149-44f5-9540-bdb940eeb6bb",
   "metadata": {},
   "outputs": [
    {
     "data": {
      "text/html": [
       "<div>\n",
       "<style scoped>\n",
       "    .dataframe tbody tr th:only-of-type {\n",
       "        vertical-align: middle;\n",
       "    }\n",
       "\n",
       "    .dataframe tbody tr th {\n",
       "        vertical-align: top;\n",
       "    }\n",
       "\n",
       "    .dataframe thead th {\n",
       "        text-align: right;\n",
       "    }\n",
       "</style>\n",
       "<table border=\"1\" class=\"dataframe\">\n",
       "  <thead>\n",
       "    <tr style=\"text-align: right;\">\n",
       "      <th></th>\n",
       "      <th>name</th>\n",
       "      <th>tags</th>\n",
       "      <th>merchant_abn</th>\n",
       "      <th>categoriesed_tags</th>\n",
       "    </tr>\n",
       "  </thead>\n",
       "  <tbody>\n",
       "    <tr>\n",
       "      <th>0</th>\n",
       "      <td>Felis Limited</td>\n",
       "      <td>((furniture, home furnishings and equipment sh...</td>\n",
       "      <td>10023283211</td>\n",
       "      <td>furniture</td>\n",
       "    </tr>\n",
       "    <tr>\n",
       "      <th>1</th>\n",
       "      <td>Arcu Ac Orci Corporation</td>\n",
       "      <td>([cable, satellite, and otHer pay television a...</td>\n",
       "      <td>10142254217</td>\n",
       "      <td>electronics</td>\n",
       "    </tr>\n",
       "    <tr>\n",
       "      <th>2</th>\n",
       "      <td>Nunc Sed Company</td>\n",
       "      <td>([jewelry, watch, clock, and silverware shops]...</td>\n",
       "      <td>10165489824</td>\n",
       "      <td>furniture</td>\n",
       "    </tr>\n",
       "    <tr>\n",
       "      <th>3</th>\n",
       "      <td>Ultricies Dignissim Lacus Foundation</td>\n",
       "      <td>([wAtch, clock, and jewelry repair shops], [b]...</td>\n",
       "      <td>10187291046</td>\n",
       "      <td>furniture</td>\n",
       "    </tr>\n",
       "    <tr>\n",
       "      <th>4</th>\n",
       "      <td>Enim Condimentum PC</td>\n",
       "      <td>([music shops - musical instruments, pianos, a...</td>\n",
       "      <td>10192359162</td>\n",
       "      <td>fashion</td>\n",
       "    </tr>\n",
       "    <tr>\n",
       "      <th>5</th>\n",
       "      <td>Fusce Company</td>\n",
       "      <td>[(gift, card, novelty, and souvenir shops), (a...</td>\n",
       "      <td>10206519221</td>\n",
       "      <td>electronics</td>\n",
       "    </tr>\n",
       "    <tr>\n",
       "      <th>6</th>\n",
       "      <td>Aliquam Enim Incorporated</td>\n",
       "      <td>[(computers, comPUter peripheral equipment, an...</td>\n",
       "      <td>10255988167</td>\n",
       "      <td>electronics</td>\n",
       "    </tr>\n",
       "    <tr>\n",
       "      <th>7</th>\n",
       "      <td>Ipsum Primis Ltd</td>\n",
       "      <td>[[watch, clock, and jewelry repair shops], [c]...</td>\n",
       "      <td>10264435225</td>\n",
       "      <td>furniture</td>\n",
       "    </tr>\n",
       "    <tr>\n",
       "      <th>8</th>\n",
       "      <td>Pede Ultrices Industries</td>\n",
       "      <td>([computer programming , data processing, and ...</td>\n",
       "      <td>10279061213</td>\n",
       "      <td>electronics</td>\n",
       "    </tr>\n",
       "    <tr>\n",
       "      <th>9</th>\n",
       "      <td>Nunc Inc.</td>\n",
       "      <td>[(furniture, home furnishings and equipment sh...</td>\n",
       "      <td>10323485998</td>\n",
       "      <td>furniture</td>\n",
       "    </tr>\n",
       "    <tr>\n",
       "      <th>10</th>\n",
       "      <td>Facilisis Facilisis Corp.</td>\n",
       "      <td>([computers, computer peripheral equipment, an...</td>\n",
       "      <td>10342410215</td>\n",
       "      <td>electronics</td>\n",
       "    </tr>\n",
       "    <tr>\n",
       "      <th>11</th>\n",
       "      <td>Odio Institute</td>\n",
       "      <td>((equipment, tool, furniture, and appliance  r...</td>\n",
       "      <td>10346855916</td>\n",
       "      <td>electronics</td>\n",
       "    </tr>\n",
       "    <tr>\n",
       "      <th>12</th>\n",
       "      <td>Rutrum Justo Ltd</td>\n",
       "      <td>([music shops - musical instruments, pianos, a...</td>\n",
       "      <td>10364012396</td>\n",
       "      <td>fashion</td>\n",
       "    </tr>\n",
       "    <tr>\n",
       "      <th>13</th>\n",
       "      <td>Tellus Foundation</td>\n",
       "      <td>[[artist supply and craft  shops], [b], [take ...</td>\n",
       "      <td>10385011947</td>\n",
       "      <td>furniture</td>\n",
       "    </tr>\n",
       "    <tr>\n",
       "      <th>14</th>\n",
       "      <td>Sed Et Company</td>\n",
       "      <td>([florists supplies, nursery stock, and flower...</td>\n",
       "      <td>10385163239</td>\n",
       "      <td>other</td>\n",
       "    </tr>\n",
       "    <tr>\n",
       "      <th>15</th>\n",
       "      <td>Id Ltd</td>\n",
       "      <td>([computers, computer peripheral  equipment, a...</td>\n",
       "      <td>10385250025</td>\n",
       "      <td>electronics</td>\n",
       "    </tr>\n",
       "    <tr>\n",
       "      <th>16</th>\n",
       "      <td>Consequat Foundation</td>\n",
       "      <td>[[antique shops - sales, repairs, and restorat...</td>\n",
       "      <td>10404542215</td>\n",
       "      <td>furniture</td>\n",
       "    </tr>\n",
       "    <tr>\n",
       "      <th>17</th>\n",
       "      <td>Sit Amet Nulla Corp.</td>\n",
       "      <td>[[motor vehicle supplies and new parts], [b], ...</td>\n",
       "      <td>10430380319</td>\n",
       "      <td>electronics</td>\n",
       "    </tr>\n",
       "    <tr>\n",
       "      <th>18</th>\n",
       "      <td>Massa Vestibulum Foundation</td>\n",
       "      <td>[(moTor vehicle supplies and new parts), (a), ...</td>\n",
       "      <td>10441711491</td>\n",
       "      <td>electronics</td>\n",
       "    </tr>\n",
       "    <tr>\n",
       "      <th>19</th>\n",
       "      <td>Ut Consulting</td>\n",
       "      <td>([gift, card, novelty, and souvenir shops], [c...</td>\n",
       "      <td>10462560289</td>\n",
       "      <td>electronics</td>\n",
       "    </tr>\n",
       "  </tbody>\n",
       "</table>\n",
       "</div>"
      ],
      "text/plain": [
       "                                    name  \\\n",
       "0                          Felis Limited   \n",
       "1               Arcu Ac Orci Corporation   \n",
       "2                       Nunc Sed Company   \n",
       "3   Ultricies Dignissim Lacus Foundation   \n",
       "4                    Enim Condimentum PC   \n",
       "5                          Fusce Company   \n",
       "6              Aliquam Enim Incorporated   \n",
       "7                       Ipsum Primis Ltd   \n",
       "8               Pede Ultrices Industries   \n",
       "9                              Nunc Inc.   \n",
       "10             Facilisis Facilisis Corp.   \n",
       "11                        Odio Institute   \n",
       "12                      Rutrum Justo Ltd   \n",
       "13                     Tellus Foundation   \n",
       "14                        Sed Et Company   \n",
       "15                                Id Ltd   \n",
       "16                  Consequat Foundation   \n",
       "17                  Sit Amet Nulla Corp.   \n",
       "18           Massa Vestibulum Foundation   \n",
       "19                         Ut Consulting   \n",
       "\n",
       "                                                 tags  merchant_abn  \\\n",
       "0   ((furniture, home furnishings and equipment sh...   10023283211   \n",
       "1   ([cable, satellite, and otHer pay television a...   10142254217   \n",
       "2   ([jewelry, watch, clock, and silverware shops]...   10165489824   \n",
       "3   ([wAtch, clock, and jewelry repair shops], [b]...   10187291046   \n",
       "4   ([music shops - musical instruments, pianos, a...   10192359162   \n",
       "5   [(gift, card, novelty, and souvenir shops), (a...   10206519221   \n",
       "6   [(computers, comPUter peripheral equipment, an...   10255988167   \n",
       "7   [[watch, clock, and jewelry repair shops], [c]...   10264435225   \n",
       "8   ([computer programming , data processing, and ...   10279061213   \n",
       "9   [(furniture, home furnishings and equipment sh...   10323485998   \n",
       "10  ([computers, computer peripheral equipment, an...   10342410215   \n",
       "11  ((equipment, tool, furniture, and appliance  r...   10346855916   \n",
       "12  ([music shops - musical instruments, pianos, a...   10364012396   \n",
       "13  [[artist supply and craft  shops], [b], [take ...   10385011947   \n",
       "14  ([florists supplies, nursery stock, and flower...   10385163239   \n",
       "15  ([computers, computer peripheral  equipment, a...   10385250025   \n",
       "16  [[antique shops - sales, repairs, and restorat...   10404542215   \n",
       "17  [[motor vehicle supplies and new parts], [b], ...   10430380319   \n",
       "18  [(moTor vehicle supplies and new parts), (a), ...   10441711491   \n",
       "19  ([gift, card, novelty, and souvenir shops], [c...   10462560289   \n",
       "\n",
       "   categoriesed_tags  \n",
       "0          furniture  \n",
       "1        electronics  \n",
       "2          furniture  \n",
       "3          furniture  \n",
       "4            fashion  \n",
       "5        electronics  \n",
       "6        electronics  \n",
       "7          furniture  \n",
       "8        electronics  \n",
       "9          furniture  \n",
       "10       electronics  \n",
       "11       electronics  \n",
       "12           fashion  \n",
       "13         furniture  \n",
       "14             other  \n",
       "15       electronics  \n",
       "16         furniture  \n",
       "17       electronics  \n",
       "18       electronics  \n",
       "19       electronics  "
      ]
     },
     "execution_count": 190,
     "metadata": {},
     "output_type": "execute_result"
    }
   ],
   "source": [
    "tbl_merchants.head(20)"
   ]
  },
  {
   "cell_type": "code",
   "execution_count": null,
   "id": "98d5dcdb-a091-4522-a615-63354905b1ef",
   "metadata": {},
   "outputs": [],
   "source": []
  }
 ],
 "metadata": {
  "kernelspec": {
   "display_name": "Python 3 (ipykernel)",
   "language": "python",
   "name": "python3"
  },
  "language_info": {
   "codemirror_mode": {
    "name": "ipython",
    "version": 3
   },
   "file_extension": ".py",
   "mimetype": "text/x-python",
   "name": "python",
   "nbconvert_exporter": "python",
   "pygments_lexer": "ipython3",
   "version": "3.10.2"
  }
 },
 "nbformat": 4,
 "nbformat_minor": 5
}
