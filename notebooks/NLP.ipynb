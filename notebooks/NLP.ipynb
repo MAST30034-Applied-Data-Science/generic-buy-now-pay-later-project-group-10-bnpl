{
 "cells": [
  {
   "cell_type": "code",
   "execution_count": null,
   "id": "968a43c8",
   "metadata": {},
   "outputs": [],
   "source": []
  },
  {
   "cell_type": "code",
   "execution_count": 1,
   "id": "5ab8a490-7c6c-4cd4-b7aa-4c22a4f051c6",
   "metadata": {},
   "outputs": [
    {
     "ename": "NameError",
     "evalue": "name 'SparkSession' is not defined",
     "output_type": "error",
     "traceback": [
      "\u001b[0;31m---------------------------------------------------------------------------\u001b[0m",
      "\u001b[0;31mNameError\u001b[0m                                 Traceback (most recent call last)",
      "Input \u001b[0;32mIn [1]\u001b[0m, in \u001b[0;36m<cell line: 3>\u001b[0;34m()\u001b[0m\n\u001b[1;32m      1\u001b[0m \u001b[38;5;66;03m# Create a spark session\u001b[39;00m\n\u001b[1;32m      2\u001b[0m spark \u001b[38;5;241m=\u001b[39m (\n\u001b[0;32m----> 3\u001b[0m     \u001b[43mSparkSession\u001b[49m\u001b[38;5;241m.\u001b[39mbuilder\u001b[38;5;241m.\u001b[39mappName(\u001b[38;5;124m\"\u001b[39m\u001b[38;5;124mMAST30034 Project 2\u001b[39m\u001b[38;5;124m\"\u001b[39m)\n\u001b[1;32m      4\u001b[0m     \u001b[38;5;241m.\u001b[39mconfig(\u001b[38;5;124m\"\u001b[39m\u001b[38;5;124mspark.sql.repl.eagerEval.enabled\u001b[39m\u001b[38;5;124m\"\u001b[39m, \u001b[38;5;28;01mTrue\u001b[39;00m) \n\u001b[1;32m      5\u001b[0m     \u001b[38;5;241m.\u001b[39mconfig(\u001b[38;5;124m\"\u001b[39m\u001b[38;5;124mspark.sql.parquet.cacheMetadata\u001b[39m\u001b[38;5;124m\"\u001b[39m, \u001b[38;5;124m\"\u001b[39m\u001b[38;5;124mtrue\u001b[39m\u001b[38;5;124m\"\u001b[39m)\n\u001b[1;32m      6\u001b[0m     \u001b[38;5;241m.\u001b[39mconfig(\u001b[38;5;124m\"\u001b[39m\u001b[38;5;124mspark.sql.session.timeZone\u001b[39m\u001b[38;5;124m\"\u001b[39m, \u001b[38;5;124m\"\u001b[39m\u001b[38;5;124mEtc/UTC\u001b[39m\u001b[38;5;124m\"\u001b[39m)\n\u001b[1;32m      7\u001b[0m     \u001b[38;5;241m.\u001b[39mconfig(\u001b[38;5;124m\"\u001b[39m\u001b[38;5;124mspark.driver.memory\u001b[39m\u001b[38;5;124m\"\u001b[39m, \u001b[38;5;124m\"\u001b[39m\u001b[38;5;124m10g\u001b[39m\u001b[38;5;124m\"\u001b[39m)\n\u001b[1;32m      8\u001b[0m     \u001b[38;5;241m.\u001b[39mgetOrCreate()\n\u001b[1;32m      9\u001b[0m )\n",
      "\u001b[0;31mNameError\u001b[0m: name 'SparkSession' is not defined"
     ]
    }
   ],
   "source": [
    "# Create a spark session\n",
    "spark = (\n",
    "    SparkSession.builder.appName(\"MAST30034 Project 2\")\n",
    "    .config(\"spark.sql.repl.eagerEval.enabled\", True) \n",
    "    .config(\"spark.sql.parquet.cacheMetadata\", \"true\")\n",
    "    .config(\"spark.sql.session.timeZone\", \"Etc/UTC\")\n",
    "    .config(\"spark.driver.memory\", \"10g\")\n",
    "    .getOrCreate()\n",
    ")\n"
   ]
  },
  {
   "cell_type": "code",
   "execution_count": null,
   "id": "bd7cc23a-446c-4132-b153-b5504a9f1754",
   "metadata": {},
   "outputs": [],
   "source": [
    "tbl_merchants = spark.read.parquet(\"../data/tables/tbl_merchants.parquet\")"
   ]
  },
  {
   "cell_type": "code",
   "execution_count": null,
   "id": "d3e62401-74ff-4ade-aae8-e06e195314cb",
   "metadata": {},
   "outputs": [],
   "source": [
    "from pyspark.sql.functions import *\n",
    "tbl_merchants = tbl_merchants.toPandas()"
   ]
  },
  {
   "cell_type": "code",
   "execution_count": null,
   "id": "23001ee0-a236-4898-b7be-47fe38fc102a",
   "metadata": {},
   "outputs": [],
   "source": [
    "# Observe strings format\n",
    "tbl_merchants[\"tags\"][0]"
   ]
  },
  {
   "cell_type": "code",
   "execution_count": null,
   "id": "5bbecf87-d69a-4f1d-a5ab-f16fd9f31032",
   "metadata": {},
   "outputs": [],
   "source": [
    "# Separate tags from revenue and take rate\n",
    "tags1 = tbl_merchants[\"tags\"].str.split(\"\\), \", expand=True)\n",
    "tags2 = tags[0].str.split(\"\\], \", expand=True)"
   ]
  },
  {
   "cell_type": "code",
   "execution_count": null,
   "id": "111dfb0f-a68b-44d2-bcb5-9d07f0af0a3c",
   "metadata": {},
   "outputs": [],
   "source": [
    "# Remove symbols from tag and making everything lowercase\n",
    "tags3 = tags2[0].str.replace('[^\\w\\s]', '', regex = True)\n",
    "tags4 = tags3.str.lower()"
   ]
  },
  {
   "cell_type": "code",
   "execution_count": null,
   "id": "c7833edd-2d0e-4cf1-8544-1ea75560a287",
   "metadata": {},
   "outputs": [],
   "source": [
    "tags4"
   ]
  },
  {
   "cell_type": "code",
   "execution_count": null,
   "id": "f00d283c-fbe1-4a2f-b491-c04975000374",
   "metadata": {},
   "outputs": [],
   "source": [
    "# https://relatedwords.io/furniture\n",
    "furniture = [\"house\", \"table\", \"room\", \"wood\", \"floor\", \"chair\", \"cabinet\", \\\n",
    "             \"items\", \"goods\", \"oak\", \"paintings\", \"renaissance\", \"bed\", \\\n",
    "             \"clothing\", \"kitchen\", \"clothes\", \"furniture\", \"floors\", \"baroque\", \\\n",
    "             \"decorations\", \"carpet\", \"toys\", \"pottery\", \"americana\", \"accessories\", \\\n",
    "             \"jewelry\", \"textiles\", \"lamp\", \"article of furniture\", \"neolithic\", \\\n",
    "             \"couch\", \"tile\", \"floor coverings\", \"appliances\", \"cabinets\", \\\n",
    "             \"antiques\", \"furnishings\", \"fabrics\", \"decor\", \"decorating\", \"carpets\", \\\n",
    "             \"flooring\", \"bedding\", \"furnishing\", \"mattress\", \"woodworking\", \"rugs\", \\\n",
    "             \"upholstery\", \"glassware\", \"wood flooring\"]"
   ]
  },
  {
   "cell_type": "code",
   "execution_count": null,
   "id": "d2a0161d-5d1a-41e7-8647-a729c304583b",
   "metadata": {},
   "outputs": [],
   "source": [
    "# https://relatedwords.io/electronics\n",
    "electronics = [\"games\", \"game\", \"video\", \"radio\", \"technology\", \"parts\", \"digital\", \\\n",
    "               \"entertainment\", \"internet\", \"car\", \"engineering\", \"security\", \"computer\", \\\n",
    "               \"metal\", \"electric\", \"equipment\", \"programming\", \"photo\", \"electronic\", \\\n",
    "               \"audio\", \"software\", \"motor\", \"mobile\", \"tech\", \"physics\", \"device\", \"phone\", \\\n",
    "               \"mechanical\", \"electricals\", \"lights\", \"electrical\", \"devices\", \"electronics\", \\\n",
    "               \"electricity\", \"battery\", \"computers\", \"hardware\", \"mechanics\", \"clothes\", \\\n",
    "               \"furniture\", \"gaming\", \"automotive\", \"micro\", \"wireless\", \"aerospace\", \\\n",
    "               \"automated\", \"toys\", \"digital cameras\", \"batteries\", \"stereos\"]"
   ]
  },
  {
   "cell_type": "code",
   "execution_count": null,
   "id": "0f60d750-0099-4f11-b296-7c44daed7715",
   "metadata": {},
   "outputs": [],
   "source": [
    "# https://relatedwords.io/fashion\n",
    "fashion = [\"style\", \"clothing\", \"outfit\", \"lifestyle\", \"beauty\", \"vogue\", \"haute couture\", \\\n",
    "           \"trend\", \"tailor\", \"manner\", \"couture\", \"designer\", \"styles\", \"dresses\", \"retro\", \\\n",
    "           \"mode\", \"makeup\", \"cut\", \"footwear\", \"designers\", \"fashion\", \"lingerie\", \"way\", \\\n",
    "           \"fit\", \"make\", \"clothes\", \"art\", \"design\", \"forge\", \"menswear\", \"stylist\", \\\n",
    "           \"fashion designer\", \"women wear\", \"form\", \"aesthetic\", \"pattern\", \"society\", \\\n",
    "           \"lanvin\", \"music\", \"fashionistas\", \"catwalks\", \"editorial\", \"language\", \"brand\", \\\n",
    "           \"versace\", \"dress\", \"michael kors\", \"paris fashion week\", \"fashionably\" ,\"vivienne westwood\"]"
   ]
  },
  {
   "cell_type": "code",
   "execution_count": null,
   "id": "fb9208e8-a049-449a-9940-497f2fed3c4d",
   "metadata": {},
   "outputs": [],
   "source": [
    "# https://relatedwords.io/beauty-products\n",
    "beauty = [\"perfume\", \"beauty\", \"hair\", \"lipstick\", \"rouge\", \"beautician\", \\\n",
    "          \"food and drug administration\", \"cream\", \"lotion\", \"fine\", \"grace\", \\\n",
    "          \"lovely\", \"product\", \"art\", \"mascara\", \"scent\", \"hairspray\", \"shampoo\"]\n",
    "# https://relatedwords.io/health\n",
    "health = [\"family\", \"improve\", \"education\", \"research\", \"social\", \"health\", \\\n",
    "          \"families\", \"medical\", \"food\", \"hospital\", \"care\", \"medicine\", \"agriculture\", \"safety\"]\n",
    "# https://relatedwords.io/household\n",
    "household = [\"people\", \"family\", \"life\", \"living\", \"personal\", \"work\", \"home\", \\\n",
    "             \"house\", \"community\", \"business\", \"person\", \"close\", \"domestic\", \\\n",
    "             \"child\", \"individual\", \"food\", \"parents\", \"car\"]\n",
    "\n",
    "beauty_health_personal_household = beauty + health + household"
   ]
  },
  {
   "cell_type": "code",
   "execution_count": null,
   "id": "c87945c3-1fad-4b55-bc8f-e7a9323d262e",
   "metadata": {},
   "outputs": [],
   "source": [
    "# https://relatedwords.io/hobby\n",
    "hobby = [\"sports\", \"art\", \"game\", \"sport\", \"interest\", \"amateur\", \"photography\", \"fun\", \\\n",
    "         \"recreation\", \"profession\", \"hunting\", \"passion\", \"craft\", \"pursuit\", \"lifestyle\", \\\n",
    "         \"recreational\", \"genealogy\", \"leisure\"]\n",
    "# https://relatedwords.io/toys\n",
    "toys = [\"play\", \"outfits\", \"doll\", \"lego\", \"plastic\", \"meccano\", \"dally\", \"dolls\", \\\n",
    "        \"ball\", \"candy\", \"miniature\", \"yo-yo\", \"barbie\", \"hobby\", \"teddy bear\", \"baby\", \"dollhouse\"]\n",
    "# https://relatedwords.io/diy\n",
    "DIY = [\"repair\", \"art\", \"ikea\", \"gardening\", \"mod\", \"do it yourself\", \"repairing\", \\\n",
    "       \"tlc\", \"repairs\", \"soho\", \"trug\", \"duluth\", \"cooke\", \"faq\", \"adirondack\"]\n",
    "\n",
    "toys_hobby_DIY = hobby + toys + DIY"
   ]
  },
  {
   "cell_type": "code",
   "execution_count": null,
   "id": "5a40562d-1345-437d-949d-bb372b854839",
   "metadata": {},
   "outputs": [],
   "source": [
    "# https://www.shopify.com/au/blog/top-online-shopping-categories\n",
    "categories = [fashion, furniture, electronics, beauty_health_personal_household, toys_hobby_DIY]\n",
    "categories_label = [\"fashion\", \"furniture\", \"electronics\", \"beauty, health, personal and household\", \"toys, hobbies and DIY\"]"
   ]
  },
  {
   "cell_type": "code",
   "execution_count": null,
   "id": "2f95c73b-ccba-4b41-a607-2fc43d930eaf",
   "metadata": {},
   "outputs": [],
   "source": [
    "import builtins as p\n",
    "for i in range(0, len(tags4)):\n",
    "    counts = [0]*len(categories)\n",
    "    for j in range(0, len(categories)):\n",
    "        for word in categories[j]:\n",
    "            if word in tags4[i]:\n",
    "                counts[j] += 1\n",
    "    if counts == [0]*len(categories):\n",
    "        tags4[i] = \"other\"\n",
    "    else:   \n",
    "        max_value = p.max(counts)\n",
    "        max_index = counts.index(max_value)\n",
    "        tags4[i] = categories_label[max_index]"
   ]
  },
  {
   "cell_type": "code",
   "execution_count": null,
   "id": "7858de29-cd19-4bd0-ab3a-dabf2e6601e4",
   "metadata": {},
   "outputs": [],
   "source": [
    "tags4"
   ]
  },
  {
   "cell_type": "code",
   "execution_count": null,
   "id": "32e2768b-8d56-4ca9-991e-ef7080342560",
   "metadata": {},
   "outputs": [],
   "source": [
    "type(tags4)"
   ]
  },
  {
   "cell_type": "code",
   "execution_count": null,
   "id": "32f937af-e33f-46e1-84eb-01a7bafc404a",
   "metadata": {},
   "outputs": [],
   "source": [
    "tbl_merchants[\"categoriesed_tags\"] = tags4"
   ]
  },
  {
   "cell_type": "code",
   "execution_count": null,
   "id": "3b99d64d-9149-44f5-9540-bdb940eeb6bb",
   "metadata": {},
   "outputs": [],
   "source": [
    "tbl_merchants.head(20)"
   ]
  },
  {
   "cell_type": "code",
   "execution_count": null,
   "id": "98d5dcdb-a091-4522-a615-63354905b1ef",
   "metadata": {},
   "outputs": [],
   "source": []
  }
 ],
 "metadata": {
  "kernelspec": {
   "display_name": "Python 3 (ipykernel)",
   "language": "python",
   "name": "python3"
  },
  "language_info": {
   "codemirror_mode": {
    "name": "ipython",
    "version": 3
   },
   "file_extension": ".py",
   "mimetype": "text/x-python",
   "name": "python",
   "nbconvert_exporter": "python",
   "pygments_lexer": "ipython3",
   "version": "3.9.7"
  }
 },
 "nbformat": 4,
 "nbformat_minor": 5
}
