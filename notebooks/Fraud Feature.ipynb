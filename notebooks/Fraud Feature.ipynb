{
 "cells": [
  {
   "cell_type": "markdown",
   "id": "6c690c6f-a81e-4185-8184-808c90cf22b1",
   "metadata": {},
   "source": [
    "## Part 4: Fraud"
   ]
  },
  {
   "cell_type": "code",
   "execution_count": 48,
   "id": "d5f10c8d-30f8-4ea8-a070-bda4d104fb88",
   "metadata": {},
   "outputs": [],
   "source": [
    "%run \"../scripts/outlier.py\" \"../scripts/paths.json\""
   ]
  },
  {
   "cell_type": "code",
   "execution_count": 49,
   "id": "8fea1b22",
   "metadata": {},
   "outputs": [],
   "source": [
    "# %run \"../scripts/fraud_feature.py\" \"../scripts/paths.json\""
   ]
  },
  {
   "cell_type": "code",
   "execution_count": 50,
   "id": "4c412501",
   "metadata": {},
   "outputs": [],
   "source": [
    "#Loading consumer fraud data: \n",
    "fraud_consumer = pd.read_csv('../data/tables/consumer_fraud_probability.csv')\n",
    "fraud_consumer = spark.createDataFrame(fraud_consumer) \n",
    "\n",
    "#Loading merchant fraud data: \n",
    "fraud_merchant = pd.read_csv('../data/tables/merchant_fraud_probability.csv')\n",
    "fraud_merchant = spark.createDataFrame(fraud_merchant) \n"
   ]
  },
  {
   "cell_type": "code",
   "execution_count": 51,
   "id": "d711b087",
   "metadata": {},
   "outputs": [],
   "source": [
    "full_data = spark.read.parquet('../data/tables/full_join.parquet')"
   ]
  },
  {
   "cell_type": "code",
   "execution_count": 52,
   "id": "e717cc88",
   "metadata": {},
   "outputs": [
    {
     "data": {
      "text/html": [
       "<table border='1'>\n",
       "<tr><th>merchant_name</th><th>merchant_abn</th><th>categories</th><th>take_rate</th><th>revenue_levels</th><th>name</th><th>address</th><th>state</th><th>gender</th><th>trans_merchant_abn</th><th>dollar_value</th><th>order_id</th><th>order_datetime</th><th>user_id</th><th>consumer_id</th><th>postcodes</th><th>int_sa2</th><th>SA2_code</th><th>SA2_name</th><th>income_2018-2019</th><th>total_males</th><th>total_females</th><th>total_persons</th><th>state_code</th><th>state_name</th><th>population_2020</th><th>population_2021</th><th>fraud_probability_consumer</th><th>fraud_probability_merchant</th></tr>\n",
       "<tr><td>Dui Nec Corporation</td><td>19933438190</td><td>tent and awning s...</td><td>2.22</td><td>c</td><td>Brian Wright</td><td>761 Bennett Mountain</td><td>TAS</td><td>Male</td><td>19933438190</td><td>3.434666831614868</td><td>28ccb7e6-ebe7-496...</td><td>2021-06-17</td><td>2582</td><td>743</td><td>7016</td><td>601021010</td><td>601021010</td><td>Risdon Vale</td><td>58036866</td><td>1963</td><td>1540</td><td>3501</td><td>6</td><td>Tasmania</td><td>3571</td><td>3563</td><td>0.01</td><td>0.01</td></tr>\n",
       "<tr><td>Vel Est Tempor LLP</td><td>62694031334</td><td>computers, comput...</td><td>5.76</td><td>a</td><td>Brian Wright</td><td>761 Bennett Mountain</td><td>TAS</td><td>Male</td><td>62694031334</td><td>30.583567099986173</td><td>d5902566-aa14-4e4...</td><td>2021-05-07</td><td>2582</td><td>743</td><td>7016</td><td>601021010</td><td>601021010</td><td>Risdon Vale</td><td>58036866</td><td>1963</td><td>1540</td><td>3501</td><td>6</td><td>Tasmania</td><td>3571</td><td>3563</td><td>0.01</td><td>0.01</td></tr>\n",
       "<tr><td>Aliquam Nisl Corp...</td><td>55325186693</td><td>gift, card, novel...</td><td>4.44</td><td>b</td><td>Brian Wright</td><td>761 Bennett Mountain</td><td>TAS</td><td>Male</td><td>55325186693</td><td>68.91163123686927</td><td>234aedaa-1657-466...</td><td>2021-07-20</td><td>2582</td><td>743</td><td>7016</td><td>601021010</td><td>601021010</td><td>Risdon Vale</td><td>58036866</td><td>1963</td><td>1540</td><td>3501</td><td>6</td><td>Tasmania</td><td>3571</td><td>3563</td><td>0.01</td><td>0.01</td></tr>\n",
       "<tr><td>Urna Incorporated</td><td>78905182348</td><td>watch, clock, and...</td><td>4.65</td><td>b</td><td>Brian Wright</td><td>761 Bennett Mountain</td><td>TAS</td><td>Male</td><td>78905182348</td><td>15.129648652621713</td><td>51d13e41-34a5-496...</td><td>2021-06-23</td><td>2582</td><td>743</td><td>7016</td><td>601021010</td><td>601021010</td><td>Risdon Vale</td><td>58036866</td><td>1963</td><td>1540</td><td>3501</td><td>6</td><td>Tasmania</td><td>3571</td><td>3563</td><td>0.01</td><td>0.01</td></tr>\n",
       "<tr><td>Purus Gravida Sag...</td><td>21772962346</td><td>florists supplies...</td><td>6.63</td><td>a</td><td>Brian Wright</td><td>761 Bennett Mountain</td><td>TAS</td><td>Male</td><td>21772962346</td><td>0.7692714085929745</td><td>af89a162-38c7-48a...</td><td>2021-04-21</td><td>2582</td><td>743</td><td>7016</td><td>601021010</td><td>601021010</td><td>Risdon Vale</td><td>58036866</td><td>1963</td><td>1540</td><td>3501</td><td>6</td><td>Tasmania</td><td>3571</td><td>3563</td><td>0.01</td><td>0.01</td></tr>\n",
       "</table>\n"
      ],
      "text/plain": [
       "+--------------------+------------+--------------------+---------+--------------+------------+--------------------+-----+------+------------------+------------------+--------------------+--------------+-------+-----------+---------+---------+---------+-----------+----------------+-----------+-------------+-------------+----------+----------+---------------+---------------+--------------------------+--------------------------+\n",
       "|       merchant_name|merchant_abn|          categories|take_rate|revenue_levels|        name|             address|state|gender|trans_merchant_abn|      dollar_value|            order_id|order_datetime|user_id|consumer_id|postcodes|  int_sa2| SA2_code|   SA2_name|income_2018-2019|total_males|total_females|total_persons|state_code|state_name|population_2020|population_2021|fraud_probability_consumer|fraud_probability_merchant|\n",
       "+--------------------+------------+--------------------+---------+--------------+------------+--------------------+-----+------+------------------+------------------+--------------------+--------------+-------+-----------+---------+---------+---------+-----------+----------------+-----------+-------------+-------------+----------+----------+---------------+---------------+--------------------------+--------------------------+\n",
       "| Dui Nec Corporation| 19933438190|tent and awning s...|     2.22|             c|Brian Wright|761 Bennett Mountain|  TAS|  Male|       19933438190| 3.434666831614868|28ccb7e6-ebe7-496...|    2021-06-17|   2582|        743|     7016|601021010|601021010|Risdon Vale|        58036866|       1963|         1540|         3501|         6|  Tasmania|           3571|           3563|                      0.01|                      0.01|\n",
       "|  Vel Est Tempor LLP| 62694031334|computers, comput...|     5.76|             a|Brian Wright|761 Bennett Mountain|  TAS|  Male|       62694031334|30.583567099986173|d5902566-aa14-4e4...|    2021-05-07|   2582|        743|     7016|601021010|601021010|Risdon Vale|        58036866|       1963|         1540|         3501|         6|  Tasmania|           3571|           3563|                      0.01|                      0.01|\n",
       "|Aliquam Nisl Corp...| 55325186693|gift, card, novel...|     4.44|             b|Brian Wright|761 Bennett Mountain|  TAS|  Male|       55325186693| 68.91163123686927|234aedaa-1657-466...|    2021-07-20|   2582|        743|     7016|601021010|601021010|Risdon Vale|        58036866|       1963|         1540|         3501|         6|  Tasmania|           3571|           3563|                      0.01|                      0.01|\n",
       "|   Urna Incorporated| 78905182348|watch, clock, and...|     4.65|             b|Brian Wright|761 Bennett Mountain|  TAS|  Male|       78905182348|15.129648652621713|51d13e41-34a5-496...|    2021-06-23|   2582|        743|     7016|601021010|601021010|Risdon Vale|        58036866|       1963|         1540|         3501|         6|  Tasmania|           3571|           3563|                      0.01|                      0.01|\n",
       "|Purus Gravida Sag...| 21772962346|florists supplies...|     6.63|             a|Brian Wright|761 Bennett Mountain|  TAS|  Male|       21772962346|0.7692714085929745|af89a162-38c7-48a...|    2021-04-21|   2582|        743|     7016|601021010|601021010|Risdon Vale|        58036866|       1963|         1540|         3501|         6|  Tasmania|           3571|           3563|                      0.01|                      0.01|\n",
       "+--------------------+------------+--------------------+---------+--------------+------------+--------------------+-----+------+------------------+------------------+--------------------+--------------+-------+-----------+---------+---------+---------+-----------+----------------+-----------+-------------+-------------+----------+----------+---------------+---------------+--------------------------+--------------------------+"
      ]
     },
     "execution_count": 52,
     "metadata": {},
     "output_type": "execute_result"
    }
   ],
   "source": [
    "full_data.limit(5)"
   ]
  },
  {
   "cell_type": "markdown",
   "id": "4f0e5941-27dd-43d9-8053-dc518b9f8f5e",
   "metadata": {},
   "source": [
    "The consumer fraud data shows the list of transactions with a high probability of being fraudulent, and therefore should be considered invalid."
   ]
  },
  {
   "cell_type": "code",
   "execution_count": 53,
   "id": "7ce97a92-b69c-454b-803d-d31b0c8892d5",
   "metadata": {},
   "outputs": [
    {
     "name": "stdout",
     "output_type": "stream",
     "text": [
      "34864\n"
     ]
    },
    {
     "data": {
      "text/html": [
       "<table border='1'>\n",
       "<tr><th>user_id_1</th><th>order_datetime_1</th><th>cons_fraud_prob</th></tr>\n",
       "<tr><td>6228</td><td>2021-12-19</td><td>97.6298077657765</td></tr>\n",
       "<tr><td>21419</td><td>2021-12-10</td><td>99.24738020302328</td></tr>\n",
       "<tr><td>5606</td><td>2021-10-17</td><td>84.05825045251777</td></tr>\n",
       "<tr><td>3101</td><td>2021-04-17</td><td>91.42192091901347</td></tr>\n",
       "<tr><td>22239</td><td>2021-10-19</td><td>94.70342477508036</td></tr>\n",
       "</table>\n"
      ],
      "text/plain": [
       "+---------+----------------+-----------------+\n",
       "|user_id_1|order_datetime_1|  cons_fraud_prob|\n",
       "+---------+----------------+-----------------+\n",
       "|     6228|      2021-12-19| 97.6298077657765|\n",
       "|    21419|      2021-12-10|99.24738020302328|\n",
       "|     5606|      2021-10-17|84.05825045251777|\n",
       "|     3101|      2021-04-17|91.42192091901347|\n",
       "|    22239|      2021-10-19|94.70342477508036|\n",
       "+---------+----------------+-----------------+"
      ]
     },
     "execution_count": 53,
     "metadata": {},
     "output_type": "execute_result"
    }
   ],
   "source": [
    "print(fraud_consumer.count())\n",
    "fraud_consumer = fraud_consumer.withColumnRenamed(\"fraud_probability\",\"cons_fraud_prob\").withColumnRenamed(\"order_datetime\",\"order_datetime_1\").withColumnRenamed(\"user_id\",\"user_id_1\")\n",
    "fraud_consumer.limit(5)"
   ]
  },
  {
   "cell_type": "markdown",
   "id": "77f4aa03-294e-4601-b785-7a4e7bf4a8f4",
   "metadata": {},
   "source": [
    "Probability of fraud for high revenue merchants...?"
   ]
  },
  {
   "cell_type": "code",
   "execution_count": 54,
   "id": "c05d9aeb-5fbd-4f63-8d64-60d744f7ea23",
   "metadata": {},
   "outputs": [
    {
     "name": "stdout",
     "output_type": "stream",
     "text": [
      "114\n"
     ]
    },
    {
     "data": {
      "text/html": [
       "<table border='1'>\n",
       "<tr><th>merchant_abn_1</th><th>order_datetime</th><th>merch_fraud_prob</th></tr>\n",
       "<tr><td>19492220327</td><td>2021-11-28</td><td>44.40365864749536</td></tr>\n",
       "<tr><td>31334588839</td><td>2021-10-02</td><td>42.75530083865367</td></tr>\n",
       "<tr><td>19492220327</td><td>2021-12-22</td><td>38.867790051131095</td></tr>\n",
       "<tr><td>82999039227</td><td>2021-12-19</td><td>94.1347004808891</td></tr>\n",
       "<tr><td>90918180829</td><td>2021-09-02</td><td>43.32551731714902</td></tr>\n",
       "</table>\n"
      ],
      "text/plain": [
       "+--------------+--------------+------------------+\n",
       "|merchant_abn_1|order_datetime|  merch_fraud_prob|\n",
       "+--------------+--------------+------------------+\n",
       "|   19492220327|    2021-11-28| 44.40365864749536|\n",
       "|   31334588839|    2021-10-02| 42.75530083865367|\n",
       "|   19492220327|    2021-12-22|38.867790051131095|\n",
       "|   82999039227|    2021-12-19|  94.1347004808891|\n",
       "|   90918180829|    2021-09-02| 43.32551731714902|\n",
       "+--------------+--------------+------------------+"
      ]
     },
     "execution_count": 54,
     "metadata": {},
     "output_type": "execute_result"
    }
   ],
   "source": [
    "print(fraud_merchant.count())\n",
    "fraud_merchant = fraud_merchant.withColumnRenamed(\"merchant_abn\",\"merchant_abn_1\").withColumnRenamed(\"fraud_probability\",\"merch_fraud_prob\")\n",
    "fraud_merchant.limit(5)"
   ]
  },
  {
   "cell_type": "code",
   "execution_count": 55,
   "id": "c412e613-c33a-4f60-845d-1beeab85eb42",
   "metadata": {},
   "outputs": [],
   "source": [
    "\n",
    "merchant_data = full_data.select(\"merchant_abn\", \"categories\",\"revenue_levels\",\"dollar_value\",\"user_id\",\"consumer_id\")"
   ]
  },
  {
   "cell_type": "code",
   "execution_count": 56,
   "id": "63f8669c",
   "metadata": {},
   "outputs": [
    {
     "data": {
      "text/html": [
       "<table border='1'>\n",
       "<tr><th>merchant_abn</th><th>categories</th><th>revenue_levels</th><th>dollar_value</th><th>user_id</th><th>consumer_id</th></tr>\n",
       "<tr><td>19933438190</td><td>tent and awning s...</td><td>c</td><td>3.434666831614868</td><td>2582</td><td>743</td></tr>\n",
       "<tr><td>62694031334</td><td>computers, comput...</td><td>a</td><td>30.583567099986173</td><td>2582</td><td>743</td></tr>\n",
       "<tr><td>55325186693</td><td>gift, card, novel...</td><td>b</td><td>68.91163123686927</td><td>2582</td><td>743</td></tr>\n",
       "<tr><td>78905182348</td><td>watch, clock, and...</td><td>b</td><td>15.129648652621713</td><td>2582</td><td>743</td></tr>\n",
       "<tr><td>21772962346</td><td>florists supplies...</td><td>a</td><td>0.7692714085929745</td><td>2582</td><td>743</td></tr>\n",
       "</table>\n"
      ],
      "text/plain": [
       "+------------+--------------------+--------------+------------------+-------+-----------+\n",
       "|merchant_abn|          categories|revenue_levels|      dollar_value|user_id|consumer_id|\n",
       "+------------+--------------------+--------------+------------------+-------+-----------+\n",
       "| 19933438190|tent and awning s...|             c| 3.434666831614868|   2582|        743|\n",
       "| 62694031334|computers, comput...|             a|30.583567099986173|   2582|        743|\n",
       "| 55325186693|gift, card, novel...|             b| 68.91163123686927|   2582|        743|\n",
       "| 78905182348|watch, clock, and...|             b|15.129648652621713|   2582|        743|\n",
       "| 21772962346|florists supplies...|             a|0.7692714085929745|   2582|        743|\n",
       "+------------+--------------------+--------------+------------------+-------+-----------+"
      ]
     },
     "execution_count": 56,
     "metadata": {},
     "output_type": "execute_result"
    }
   ],
   "source": [
    "merchant_data.limit(5)"
   ]
  },
  {
   "cell_type": "markdown",
   "id": "0098af9c-7342-446b-88bd-8379df553888",
   "metadata": {},
   "source": [
    "- join consumer fraud to final join\n",
    "- create a version of final join with removed transactions from fraud\n",
    "- aggregate final join from transaction to merchant level\n",
    "- add fraud merchant as a feature to aggregated final join\n",
    "- treat fraud as response and try to create model to give other merchants a fraud score"
   ]
  },
  {
   "cell_type": "code",
   "execution_count": 57,
   "id": "02b5d0a6",
   "metadata": {},
   "outputs": [],
   "source": [
    "#Joining consumer fraud, merchant data, and merchant fraud data to one datatset: \n",
    "\n",
    "#Joining consumer fraud and merchant data together\n",
    "\n",
    "merchant_data.createOrReplaceTempView(\"temp\")\n",
    "\n",
    "fraud_consumer.createOrReplaceTempView(\"temp2\")\n",
    "\n",
    "join_1 = spark.sql(\"\"\" \n",
    "\n",
    "SELECT *\n",
    "FROM temp\n",
    "\n",
    "LEFT JOIN temp2\n",
    "\n",
    "ON temp.user_id = temp2.user_id_1 \n",
    "\"\"\")\n"
   ]
  },
  {
   "cell_type": "code",
   "execution_count": 58,
   "id": "cc6a9c12",
   "metadata": {},
   "outputs": [],
   "source": [
    "#Joining join_1 to merchant fraud \n",
    "\n",
    "#Joining all test + predicting Sets Together \n",
    "join_1.createOrReplaceTempView(\"temp\")\n",
    "\n",
    "fraud_merchant.createOrReplaceTempView(\"temp2\")\n",
    "\n",
    "final_join = spark.sql(\"\"\" \n",
    "\n",
    "SELECT *\n",
    "FROM temp\n",
    "\n",
    "\n",
    "LEFT JOIN temp2\n",
    "\n",
    "ON temp.merchant_abn = temp2.merchant_abn_1\n",
    "\"\"\")"
   ]
  },
  {
   "cell_type": "code",
   "execution_count": 59,
   "id": "2915f3ae",
   "metadata": {},
   "outputs": [],
   "source": [
    "# #Changing all null probability values to 0.01: \n",
    "\n",
    "# MIN_P = 0.01\n",
    "# final_join = final_join.fillna(MIN_P, subset=[\"cons_fraud_prob\", \"merch_fraud_prob\"])"
   ]
  },
  {
   "cell_type": "code",
   "execution_count": 60,
   "id": "eb819dbf",
   "metadata": {},
   "outputs": [],
   "source": [
    "#join segment data \n",
    "#clustering \n",
    "#decide threshold based on clusters \n",
    "#use threshold to classify if transaction is fradulent or not "
   ]
  },
  {
   "cell_type": "code",
   "execution_count": 61,
   "id": "1c74887b",
   "metadata": {},
   "outputs": [],
   "source": [
    "# Reading in segments \n",
    "segments_data = spark.read.csv('../data/curated/tagged_merchants.csv')"
   ]
  },
  {
   "cell_type": "code",
   "execution_count": 62,
   "id": "3b6916ec",
   "metadata": {},
   "outputs": [
    {
     "data": {
      "text/html": [
       "<table border='1'>\n",
       "<tr><th>_c0</th><th>_c1</th><th>_c2</th><th>_c3</th><th>_c4</th><th>_c5</th><th>_c6</th></tr>\n",
       "<tr><td>null</td><td>name</td><td>tags</td><td>merchant_abn</td><td>cleaned_tags</td><td>store_type</td><td>category</td></tr>\n",
       "<tr><td>0</td><td>Felis Limited</td><td>((furniture, home...</td><td>10023283211</td><td>furniture home fu...</td><td>0</td><td>Furniture</td></tr>\n",
       "<tr><td>1</td><td>Arcu Ac Orci Corp...</td><td>([cable, satellit...</td><td>10142254217</td><td>cable satellite a...</td><td>4</td><td>Electronics</td></tr>\n",
       "<tr><td>2</td><td>Nunc Sed Company</td><td>([jewelry, watch,...</td><td>10165489824</td><td>jewelry watch clo...</td><td>1</td><td>Toys and DIY</td></tr>\n",
       "<tr><td>3</td><td>Ultricies Digniss...</td><td>([wAtch, clock, a...</td><td>10187291046</td><td>watch clock and j...</td><td>1</td><td>Toys and DIY</td></tr>\n",
       "</table>\n"
      ],
      "text/plain": [
       "+----+--------------------+--------------------+------------+--------------------+----------+------------+\n",
       "| _c0|                 _c1|                 _c2|         _c3|                 _c4|       _c5|         _c6|\n",
       "+----+--------------------+--------------------+------------+--------------------+----------+------------+\n",
       "|null|                name|                tags|merchant_abn|        cleaned_tags|store_type|    category|\n",
       "|   0|       Felis Limited|((furniture, home...| 10023283211|furniture home fu...|         0|   Furniture|\n",
       "|   1|Arcu Ac Orci Corp...|([cable, satellit...| 10142254217|cable satellite a...|         4| Electronics|\n",
       "|   2|    Nunc Sed Company|([jewelry, watch,...| 10165489824|jewelry watch clo...|         1|Toys and DIY|\n",
       "|   3|Ultricies Digniss...|([wAtch, clock, a...| 10187291046|watch clock and j...|         1|Toys and DIY|\n",
       "+----+--------------------+--------------------+------------+--------------------+----------+------------+"
      ]
     },
     "execution_count": 62,
     "metadata": {},
     "output_type": "execute_result"
    }
   ],
   "source": [
    "segments_data.limit(5)"
   ]
  },
  {
   "cell_type": "code",
   "execution_count": 63,
   "id": "990a653a",
   "metadata": {
    "scrolled": true
   },
   "outputs": [
    {
     "data": {
      "text/html": [
       "<table border='1'>\n",
       "<tr><th>_c0</th><th>_c1</th><th>_c2</th><th>_c3</th><th>_c4</th><th>_c5</th><th>_c6</th></tr>\n",
       "<tr><td>0</td><td>Felis Limited</td><td>((furniture, home...</td><td>10023283211</td><td>furniture home fu...</td><td>0</td><td>Furniture</td></tr>\n",
       "<tr><td>1</td><td>Arcu Ac Orci Corp...</td><td>([cable, satellit...</td><td>10142254217</td><td>cable satellite a...</td><td>4</td><td>Electronics</td></tr>\n",
       "<tr><td>2</td><td>Nunc Sed Company</td><td>([jewelry, watch,...</td><td>10165489824</td><td>jewelry watch clo...</td><td>1</td><td>Toys and DIY</td></tr>\n",
       "<tr><td>3</td><td>Ultricies Digniss...</td><td>([wAtch, clock, a...</td><td>10187291046</td><td>watch clock and j...</td><td>1</td><td>Toys and DIY</td></tr>\n",
       "<tr><td>4</td><td>Enim Condimentum PC</td><td>([music shops - m...</td><td>10192359162</td><td>music shops  musi...</td><td>3</td><td>Books, Stationary...</td></tr>\n",
       "<tr><td>5</td><td>Fusce Company</td><td>[(gift, card, nov...</td><td>10206519221</td><td>gift card novelty...</td><td>4</td><td>Electronics</td></tr>\n",
       "<tr><td>6</td><td>Aliquam Enim Inco...</td><td>[(computers, comP...</td><td>10255988167</td><td>computers compute...</td><td>4</td><td>Electronics</td></tr>\n",
       "<tr><td>7</td><td>Ipsum Primis Ltd</td><td>[[watch, clock, a...</td><td>10264435225</td><td>watch clock and j...</td><td>1</td><td>Toys and DIY</td></tr>\n",
       "<tr><td>8</td><td>Pede Ultrices Ind...</td><td>([computer progra...</td><td>10279061213</td><td>computer programm...</td><td>2</td><td>Beauty, Health, P...</td></tr>\n",
       "<tr><td>9</td><td>Nunc Inc.</td><td>[(furniture, home...</td><td>10323485998</td><td>furniture home fu...</td><td>0</td><td>Furniture</td></tr>\n",
       "<tr><td>10</td><td>Facilisis Facilis...</td><td>([computers, comp...</td><td>10342410215</td><td>computers compute...</td><td>4</td><td>Electronics</td></tr>\n",
       "<tr><td>11</td><td>Odio Institute</td><td>((equipment, tool...</td><td>10346855916</td><td>equipment tool fu...</td><td>0</td><td>Furniture</td></tr>\n",
       "<tr><td>12</td><td>Rutrum Justo Ltd</td><td>([music shops - m...</td><td>10364012396</td><td>music shops  musi...</td><td>3</td><td>Books, Stationary...</td></tr>\n",
       "<tr><td>13</td><td>Tellus Foundation</td><td>[[artist supply a...</td><td>10385011947</td><td>artist supply and...</td><td>1</td><td>Toys and DIY</td></tr>\n",
       "<tr><td>14</td><td>Sed Et Company</td><td>([florists suppli...</td><td>10385163239</td><td>florists supplies...</td><td>0</td><td>Furniture</td></tr>\n",
       "<tr><td>15</td><td>Id Ltd</td><td>([computers, comp...</td><td>10385250025</td><td>computers compute...</td><td>4</td><td>Electronics</td></tr>\n",
       "<tr><td>16</td><td>Consequat Foundation</td><td>[[antique shops -...</td><td>10404542215</td><td>antique shops  sa...</td><td>2</td><td>Beauty, Health, P...</td></tr>\n",
       "<tr><td>17</td><td>Sit Amet Nulla Corp.</td><td>[[motor vehicle s...</td><td>10430380319</td><td>motor vehicle sup...</td><td>0</td><td>Furniture</td></tr>\n",
       "<tr><td>18</td><td>Massa Vestibulum ...</td><td>[(moTor vehicle s...</td><td>10441711491</td><td>motor vehicle sup...</td><td>0</td><td>Furniture</td></tr>\n",
       "<tr><td>19</td><td>Ut Consulting</td><td>([gift, card, nov...</td><td>10462560289</td><td>gift card novelty...</td><td>4</td><td>Electronics</td></tr>\n",
       "</table>\n",
       "only showing top 20 rows\n"
      ],
      "text/plain": [
       "+---+--------------------+--------------------+-----------+--------------------+---+--------------------+\n",
       "|_c0|                 _c1|                 _c2|        _c3|                 _c4|_c5|                 _c6|\n",
       "+---+--------------------+--------------------+-----------+--------------------+---+--------------------+\n",
       "|  0|       Felis Limited|((furniture, home...|10023283211|furniture home fu...|  0|           Furniture|\n",
       "|  1|Arcu Ac Orci Corp...|([cable, satellit...|10142254217|cable satellite a...|  4|         Electronics|\n",
       "|  2|    Nunc Sed Company|([jewelry, watch,...|10165489824|jewelry watch clo...|  1|        Toys and DIY|\n",
       "|  3|Ultricies Digniss...|([wAtch, clock, a...|10187291046|watch clock and j...|  1|        Toys and DIY|\n",
       "|  4| Enim Condimentum PC|([music shops - m...|10192359162|music shops  musi...|  3|Books, Stationary...|\n",
       "|  5|       Fusce Company|[(gift, card, nov...|10206519221|gift card novelty...|  4|         Electronics|\n",
       "|  6|Aliquam Enim Inco...|[(computers, comP...|10255988167|computers compute...|  4|         Electronics|\n",
       "|  7|    Ipsum Primis Ltd|[[watch, clock, a...|10264435225|watch clock and j...|  1|        Toys and DIY|\n",
       "|  8|Pede Ultrices Ind...|([computer progra...|10279061213|computer programm...|  2|Beauty, Health, P...|\n",
       "|  9|           Nunc Inc.|[(furniture, home...|10323485998|furniture home fu...|  0|           Furniture|\n",
       "| 10|Facilisis Facilis...|([computers, comp...|10342410215|computers compute...|  4|         Electronics|\n",
       "| 11|      Odio Institute|((equipment, tool...|10346855916|equipment tool fu...|  0|           Furniture|\n",
       "| 12|    Rutrum Justo Ltd|([music shops - m...|10364012396|music shops  musi...|  3|Books, Stationary...|\n",
       "| 13|   Tellus Foundation|[[artist supply a...|10385011947|artist supply and...|  1|        Toys and DIY|\n",
       "| 14|      Sed Et Company|([florists suppli...|10385163239|florists supplies...|  0|           Furniture|\n",
       "| 15|              Id Ltd|([computers, comp...|10385250025|computers compute...|  4|         Electronics|\n",
       "| 16|Consequat Foundation|[[antique shops -...|10404542215|antique shops  sa...|  2|Beauty, Health, P...|\n",
       "| 17|Sit Amet Nulla Corp.|[[motor vehicle s...|10430380319|motor vehicle sup...|  0|           Furniture|\n",
       "| 18|Massa Vestibulum ...|[(moTor vehicle s...|10441711491|motor vehicle sup...|  0|           Furniture|\n",
       "| 19|       Ut Consulting|([gift, card, nov...|10462560289|gift card novelty...|  4|         Electronics|\n",
       "+---+--------------------+--------------------+-----------+--------------------+---+--------------------+\n",
       "only showing top 20 rows"
      ]
     },
     "execution_count": 63,
     "metadata": {},
     "output_type": "execute_result"
    }
   ],
   "source": [
    "#Removing false header line \n",
    "segments_data.na.drop(subset=[\"_c0\"])"
   ]
  },
  {
   "cell_type": "code",
   "execution_count": 64,
   "id": "3ae430f7",
   "metadata": {},
   "outputs": [],
   "source": [
    "final_join.createOrReplaceTempView(\"temp\")\n",
    "\n",
    "segments_data.createOrReplaceTempView(\"temp2\")\n",
    "\n",
    "final_join = spark.sql(\"\"\" \n",
    "\n",
    "SELECT *\n",
    "FROM temp\n",
    "\n",
    "\n",
    "LEFT JOIN temp2\n",
    "\n",
    "ON temp.merchant_abn = temp2._c3\n",
    "\"\"\")"
   ]
  },
  {
   "cell_type": "code",
   "execution_count": 65,
   "id": "f7203630",
   "metadata": {},
   "outputs": [],
   "source": [
    "# final_join.limit(5)\n",
    "from pyspark.sql.functions import col\n",
    "from pyspark.sql import functions as F\n",
    "from pyspark.sql.functions import when\n",
    "from pyspark.sql import functions as countDistinct"
   ]
  },
  {
   "cell_type": "code",
   "execution_count": 66,
   "id": "10a71f5d",
   "metadata": {},
   "outputs": [],
   "source": [
    "#Creating a table of average fraud probabilities for each category of purchase: \n",
    "\n",
    "aggregated_prob = final_join.groupBy(\"temp2._c6\").agg(F.avg(\"cons_fraud_prob\").\\\n",
    "alias(\"avg_consumer_fraud\"),F.avg(\"merch_fraud_prob\").alias(\"avg_merchant_fraud\"))"
   ]
  },
  {
   "cell_type": "code",
   "execution_count": 67,
   "id": "1fae3816",
   "metadata": {},
   "outputs": [
    {
     "name": "stderr",
     "output_type": "stream",
     "text": [
      "[Stage 275:============================================>            (7 + 2) / 9]\r"
     ]
    },
    {
     "name": "stdout",
     "output_type": "stream",
     "text": [
      "+--------------------+------------------+------------------+\n",
      "|                 _c6|avg_consumer_fraud|avg_merchant_fraud|\n",
      "+--------------------+------------------+------------------+\n",
      "|                null|15.137285023740146|              null|\n",
      "|         Electronics| 15.09275324977202|29.632925771641904|\n",
      "|        Toys and DIY|15.125051928052184|  32.3724283793317|\n",
      "|           Furniture|15.107745977816467|30.946188701547527|\n",
      "|Beauty, Health, P...|15.148490844867114|29.759879650543628|\n",
      "|Books, Stationary...|15.106109093112805|29.020184401115156|\n",
      "+--------------------+------------------+------------------+\n",
      "\n"
     ]
    },
    {
     "name": "stderr",
     "output_type": "stream",
     "text": [
      "\r",
      "                                                                                \r"
     ]
    }
   ],
   "source": [
    "aggregated_prob.show()"
   ]
  },
  {
   "cell_type": "code",
   "execution_count": 68,
   "id": "2ee0de39",
   "metadata": {},
   "outputs": [],
   "source": [
    "#adding a column for is_fraud for each transaction: \n",
    "\n",
    "is_fraud = when((final_join[\"_c6\"] == \"Electronics\") & (final_join[\"cons_fraud_prob\"] > 15.085)&(final_join[\"merch_fraud_prob\"]>29.635),1)\\\n",
    ".when((final_join[\"_c6\"] == \"Toys and DIY\") & (final_join[\"cons_fraud_prob\"] > 15.843) &(final_join[\"merch_fraud_prob\"]>32.404),1)\\\n",
    ".when((final_join[\"_c6\"] == \"Furniture\") & (final_join[\"cons_fraud_prob\"] > 15.077) & (final_join[\"merch_fraud_prob\"]>30.941),1)\\\n",
    ".when((final_join[\"_c6\"] == \"Beauty, Health, Personal and Household\") & (final_join[\"cons_fraud_prob\"] > 15.392) & (final_join[\"merch_fraud_prob\"]>29.76),1)\\\n",
    ".when((final_join[\"_c6\"] == \"Electronics\") & (final_join[\"cons_fraud_prob\"] > 15.085) &(final_join[\"merch_fraud_prob\"]>29.635),1)\\\n",
    ".when((final_join[\"_c6\"] == \"Books, Stationary and Music\") & (final_join[\"cons_fraud_prob\"] > 15.140) &(final_join[\"merch_fraud_prob\"]>29.016),1).otherwise(0)"
   ]
  },
  {
   "cell_type": "code",
   "execution_count": 69,
   "id": "4f7b7f41",
   "metadata": {},
   "outputs": [
    {
     "name": "stderr",
     "output_type": "stream",
     "text": [
      "                                                                                \r"
     ]
    },
    {
     "data": {
      "text/html": [
       "<table border='1'>\n",
       "<tr><th>_c6</th><th>avg_consumer_fraud</th><th>avg_merchant_fraud</th></tr>\n",
       "<tr><td>null</td><td>15.137285023740146</td><td>null</td></tr>\n",
       "<tr><td>Electronics</td><td>15.09275324977202</td><td>29.632925771641904</td></tr>\n",
       "<tr><td>Toys and DIY</td><td>15.125051928052184</td><td>32.3724283793317</td></tr>\n",
       "<tr><td>Furniture</td><td>15.107745977816467</td><td>30.946188701547527</td></tr>\n",
       "<tr><td>Beauty, Health, P...</td><td>15.148490844867114</td><td>29.759879650543628</td></tr>\n",
       "<tr><td>Books, Stationary...</td><td>15.106109093112805</td><td>29.020184401115156</td></tr>\n",
       "</table>\n"
      ],
      "text/plain": [
       "+--------------------+------------------+------------------+\n",
       "|                 _c6|avg_consumer_fraud|avg_merchant_fraud|\n",
       "+--------------------+------------------+------------------+\n",
       "|                null|15.137285023740146|              null|\n",
       "|         Electronics| 15.09275324977202|29.632925771641904|\n",
       "|        Toys and DIY|15.125051928052184|  32.3724283793317|\n",
       "|           Furniture|15.107745977816467|30.946188701547527|\n",
       "|Beauty, Health, P...|15.148490844867114|29.759879650543628|\n",
       "|Books, Stationary...|15.106109093112805|29.020184401115156|\n",
       "+--------------------+------------------+------------------+"
      ]
     },
     "execution_count": 69,
     "metadata": {},
     "output_type": "execute_result"
    }
   ],
   "source": [
    "aggregated_prob.limit(6)"
   ]
  },
  {
   "cell_type": "code",
   "execution_count": 70,
   "id": "b2f95834",
   "metadata": {},
   "outputs": [
    {
     "data": {
      "text/html": [
       "<table border='1'>\n",
       "<tr><th>merchant_abn</th><th>categories</th><th>revenue_levels</th><th>dollar_value</th><th>user_id</th><th>consumer_id</th><th>user_id_1</th><th>order_datetime_1</th><th>cons_fraud_prob</th><th>merchant_abn_1</th><th>order_datetime</th><th>merch_fraud_prob</th><th>_c0</th><th>_c1</th><th>_c2</th><th>_c3</th><th>_c4</th><th>_c5</th><th>_c6</th></tr>\n",
       "<tr><td>63290521567</td><td>artist supply and...</td><td>a</td><td>55.6054944945403</td><td>667</td><td>1549</td><td>667</td><td>2021-09-09</td><td>17.802875300207035</td><td>null</td><td>null</td><td>null</td><td>2391</td><td>Vehicula Pellente...</td><td>((artist supply a...</td><td>63290521567</td><td>artist supply and...</td><td>1</td><td>Toys and DIY</td></tr>\n",
       "<tr><td>63290521567</td><td>artist supply and...</td><td>a</td><td>55.6054944945403</td><td>667</td><td>1549</td><td>667</td><td>2021-10-04</td><td>9.674041120495586</td><td>null</td><td>null</td><td>null</td><td>2391</td><td>Vehicula Pellente...</td><td>((artist supply a...</td><td>63290521567</td><td>artist supply and...</td><td>1</td><td>Toys and DIY</td></tr>\n",
       "<tr><td>24852446429</td><td>florists supplies...</td><td>c</td><td>44.50284528982194</td><td>667</td><td>1549</td><td>667</td><td>2021-09-09</td><td>17.802875300207035</td><td>null</td><td>null</td><td>null</td><td>680</td><td>Erat Vitae LLP</td><td>[(florists suppli...</td><td>24852446429</td><td>florists supplies...</td><td>0</td><td>Furniture</td></tr>\n",
       "<tr><td>24852446429</td><td>florists supplies...</td><td>c</td><td>44.50284528982194</td><td>667</td><td>1549</td><td>667</td><td>2021-10-04</td><td>9.674041120495586</td><td>null</td><td>null</td><td>null</td><td>680</td><td>Erat Vitae LLP</td><td>[(florists suppli...</td><td>24852446429</td><td>florists supplies...</td><td>0</td><td>Furniture</td></tr>\n",
       "<tr><td>68216911708</td><td>computers, comput...</td><td>c</td><td>18.476243072950304</td><td>667</td><td>1549</td><td>667</td><td>2021-09-09</td><td>17.802875300207035</td><td>null</td><td>null</td><td>null</td><td>2620</td><td>Placerat Eget Ven...</td><td>[[computers, comp...</td><td>68216911708</td><td>computers compute...</td><td>4</td><td>Electronics</td></tr>\n",
       "</table>\n"
      ],
      "text/plain": [
       "+------------+--------------------+--------------+------------------+-------+-----------+---------+----------------+------------------+--------------+--------------+----------------+----+--------------------+--------------------+-----------+--------------------+---+------------+\n",
       "|merchant_abn|          categories|revenue_levels|      dollar_value|user_id|consumer_id|user_id_1|order_datetime_1|   cons_fraud_prob|merchant_abn_1|order_datetime|merch_fraud_prob| _c0|                 _c1|                 _c2|        _c3|                 _c4|_c5|         _c6|\n",
       "+------------+--------------------+--------------+------------------+-------+-----------+---------+----------------+------------------+--------------+--------------+----------------+----+--------------------+--------------------+-----------+--------------------+---+------------+\n",
       "| 63290521567|artist supply and...|             a|  55.6054944945403|    667|       1549|      667|      2021-09-09|17.802875300207035|          null|          null|            null|2391|Vehicula Pellente...|((artist supply a...|63290521567|artist supply and...|  1|Toys and DIY|\n",
       "| 63290521567|artist supply and...|             a|  55.6054944945403|    667|       1549|      667|      2021-10-04| 9.674041120495586|          null|          null|            null|2391|Vehicula Pellente...|((artist supply a...|63290521567|artist supply and...|  1|Toys and DIY|\n",
       "| 24852446429|florists supplies...|             c| 44.50284528982194|    667|       1549|      667|      2021-09-09|17.802875300207035|          null|          null|            null| 680|      Erat Vitae LLP|[(florists suppli...|24852446429|florists supplies...|  0|   Furniture|\n",
       "| 24852446429|florists supplies...|             c| 44.50284528982194|    667|       1549|      667|      2021-10-04| 9.674041120495586|          null|          null|            null| 680|      Erat Vitae LLP|[(florists suppli...|24852446429|florists supplies...|  0|   Furniture|\n",
       "| 68216911708|computers, comput...|             c|18.476243072950304|    667|       1549|      667|      2021-09-09|17.802875300207035|          null|          null|            null|2620|Placerat Eget Ven...|[[computers, comp...|68216911708|computers compute...|  4| Electronics|\n",
       "+------------+--------------------+--------------+------------------+-------+-----------+---------+----------------+------------------+--------------+--------------+----------------+----+--------------------+--------------------+-----------+--------------------+---+------------+"
      ]
     },
     "execution_count": 70,
     "metadata": {},
     "output_type": "execute_result"
    }
   ],
   "source": [
    "final_join.limit(5)"
   ]
  },
  {
   "cell_type": "code",
   "execution_count": 71,
   "id": "39df32f6",
   "metadata": {},
   "outputs": [],
   "source": [
    "model_with_fraud = final_join.withColumn(\"is_fraud\",is_fraud)\n",
    "model_with_fraud = model_with_fraud.withColumnRenamed(\"merchant_abn\",\"sus_merchant_abn\")"
   ]
  },
  {
   "cell_type": "code",
   "execution_count": 72,
   "id": "333f7c16",
   "metadata": {},
   "outputs": [],
   "source": [
    "# # model_with_fraud.count()\n",
    "# merchant_abn_col = model_with_fraud.select(\"merchant_abn\")\n",
    "# print(merchant_abn_col.count())"
   ]
  },
  {
   "cell_type": "code",
   "execution_count": 73,
   "id": "c2c65f08",
   "metadata": {},
   "outputs": [],
   "source": [
    "# model_with_fraud.write.parquet(\"../data/curated/model_data_with_fraud_col.parquet\") "
   ]
  },
  {
   "cell_type": "code",
   "execution_count": null,
   "id": "8096f6bc",
   "metadata": {},
   "outputs": [],
   "source": []
  },
  {
   "cell_type": "code",
   "execution_count": 75,
   "id": "5c2863de",
   "metadata": {},
   "outputs": [],
   "source": [
    "#Creating a table of average fraud probabilities for each category of purchase: \n",
    "final_model_with_fraud = model_with_fraud.groupBy(\"sus_merchant_abn\").agg(F.avg(\"is_fraud\").alias(\"average fraud rate per merchant\"))"
   ]
  },
  {
   "cell_type": "code",
   "execution_count": 76,
   "id": "a723b585",
   "metadata": {},
   "outputs": [
    {
     "data": {
      "text/plain": [
       "4023"
      ]
     },
     "execution_count": 76,
     "metadata": {},
     "output_type": "execute_result"
    }
   ],
   "source": [
    "\n",
    "final_model_with_fraud.count()"
   ]
  },
  {
   "cell_type": "code",
   "execution_count": 77,
   "id": "fe44fffd",
   "metadata": {},
   "outputs": [
    {
     "name": "stderr",
     "output_type": "stream",
     "text": [
      "                                                                                \r"
     ]
    },
    {
     "data": {
      "text/html": [
       "<table border='1'>\n",
       "<tr><th>sus_merchant_abn</th><th>average fraud rate per merchant</th></tr>\n",
       "<tr><td>83412691377</td><td>0.0</td></tr>\n",
       "<tr><td>48214071373</td><td>0.0</td></tr>\n",
       "<tr><td>38700038932</td><td>0.0</td></tr>\n",
       "<tr><td>41956465747</td><td>0.0</td></tr>\n",
       "<tr><td>73256306726</td><td>0.0</td></tr>\n",
       "<tr><td>35344855546</td><td>0.0</td></tr>\n",
       "<tr><td>96946925998</td><td>0.0</td></tr>\n",
       "<tr><td>73841664453</td><td>0.0</td></tr>\n",
       "<tr><td>15613631617</td><td>0.0</td></tr>\n",
       "<tr><td>19839532017</td><td>0.0</td></tr>\n",
       "<tr><td>78916025936</td><td>0.0</td></tr>\n",
       "<tr><td>38986645707</td><td>0.0</td></tr>\n",
       "<tr><td>12516851436</td><td>0.0</td></tr>\n",
       "<tr><td>60654402457</td><td>0.0</td></tr>\n",
       "<tr><td>52763133264</td><td>0.0</td></tr>\n",
       "<tr><td>92202115241</td><td>0.0</td></tr>\n",
       "<tr><td>37935728745</td><td>0.0</td></tr>\n",
       "<tr><td>34440496342</td><td>0.0</td></tr>\n",
       "<tr><td>57798993346</td><td>0.0</td></tr>\n",
       "<tr><td>29216160692</td><td>0.0</td></tr>\n",
       "</table>\n"
      ],
      "text/plain": [
       "+----------------+-------------------------------+\n",
       "|sus_merchant_abn|average fraud rate per merchant|\n",
       "+----------------+-------------------------------+\n",
       "|     83412691377|                            0.0|\n",
       "|     48214071373|                            0.0|\n",
       "|     38700038932|                            0.0|\n",
       "|     41956465747|                            0.0|\n",
       "|     73256306726|                            0.0|\n",
       "|     35344855546|                            0.0|\n",
       "|     96946925998|                            0.0|\n",
       "|     73841664453|                            0.0|\n",
       "|     15613631617|                            0.0|\n",
       "|     19839532017|                            0.0|\n",
       "|     78916025936|                            0.0|\n",
       "|     38986645707|                            0.0|\n",
       "|     12516851436|                            0.0|\n",
       "|     60654402457|                            0.0|\n",
       "|     52763133264|                            0.0|\n",
       "|     92202115241|                            0.0|\n",
       "|     37935728745|                            0.0|\n",
       "|     34440496342|                            0.0|\n",
       "|     57798993346|                            0.0|\n",
       "|     29216160692|                            0.0|\n",
       "+----------------+-------------------------------+"
      ]
     },
     "execution_count": 77,
     "metadata": {},
     "output_type": "execute_result"
    }
   ],
   "source": [
    "\n",
    "final_model_with_fraud.limit(20)"
   ]
  },
  {
   "cell_type": "code",
   "execution_count": 78,
   "id": "6e84256d",
   "metadata": {},
   "outputs": [
    {
     "ename": "AnalysisException",
     "evalue": "path file:/Users/ahirve/Desktop/ads_bnpl/data/tables/transactions_with_fraud_rates.parquet already exists.",
     "output_type": "error",
     "traceback": [
      "\u001b[0;31m---------------------------------------------------------------------------\u001b[0m",
      "\u001b[0;31mAnalysisException\u001b[0m                         Traceback (most recent call last)",
      "Input \u001b[0;32mIn [78]\u001b[0m, in \u001b[0;36m<cell line: 1>\u001b[0;34m()\u001b[0m\n\u001b[0;32m----> 1\u001b[0m \u001b[43mfinal_model_with_fraud\u001b[49m\u001b[38;5;241;43m.\u001b[39;49m\u001b[43mwrite\u001b[49m\u001b[38;5;241;43m.\u001b[39;49m\u001b[43mparquet\u001b[49m\u001b[43m(\u001b[49m\u001b[38;5;124;43m\"\u001b[39;49m\u001b[38;5;124;43m../data/tables/transactions_with_fraud_rates.parquet\u001b[39;49m\u001b[38;5;124;43m\"\u001b[39;49m\u001b[43m)\u001b[49m\n",
      "File \u001b[0;32m~/opt/anaconda3/lib/python3.9/site-packages/pyspark/sql/readwriter.py:1140\u001b[0m, in \u001b[0;36mDataFrameWriter.parquet\u001b[0;34m(self, path, mode, partitionBy, compression)\u001b[0m\n\u001b[1;32m   1138\u001b[0m     \u001b[38;5;28mself\u001b[39m\u001b[38;5;241m.\u001b[39mpartitionBy(partitionBy)\n\u001b[1;32m   1139\u001b[0m \u001b[38;5;28mself\u001b[39m\u001b[38;5;241m.\u001b[39m_set_opts(compression\u001b[38;5;241m=\u001b[39mcompression)\n\u001b[0;32m-> 1140\u001b[0m \u001b[38;5;28;43mself\u001b[39;49m\u001b[38;5;241;43m.\u001b[39;49m\u001b[43m_jwrite\u001b[49m\u001b[38;5;241;43m.\u001b[39;49m\u001b[43mparquet\u001b[49m\u001b[43m(\u001b[49m\u001b[43mpath\u001b[49m\u001b[43m)\u001b[49m\n",
      "File \u001b[0;32m~/opt/anaconda3/lib/python3.9/site-packages/py4j/java_gateway.py:1321\u001b[0m, in \u001b[0;36mJavaMember.__call__\u001b[0;34m(self, *args)\u001b[0m\n\u001b[1;32m   1315\u001b[0m command \u001b[38;5;241m=\u001b[39m proto\u001b[38;5;241m.\u001b[39mCALL_COMMAND_NAME \u001b[38;5;241m+\u001b[39m\\\n\u001b[1;32m   1316\u001b[0m     \u001b[38;5;28mself\u001b[39m\u001b[38;5;241m.\u001b[39mcommand_header \u001b[38;5;241m+\u001b[39m\\\n\u001b[1;32m   1317\u001b[0m     args_command \u001b[38;5;241m+\u001b[39m\\\n\u001b[1;32m   1318\u001b[0m     proto\u001b[38;5;241m.\u001b[39mEND_COMMAND_PART\n\u001b[1;32m   1320\u001b[0m answer \u001b[38;5;241m=\u001b[39m \u001b[38;5;28mself\u001b[39m\u001b[38;5;241m.\u001b[39mgateway_client\u001b[38;5;241m.\u001b[39msend_command(command)\n\u001b[0;32m-> 1321\u001b[0m return_value \u001b[38;5;241m=\u001b[39m \u001b[43mget_return_value\u001b[49m\u001b[43m(\u001b[49m\n\u001b[1;32m   1322\u001b[0m \u001b[43m    \u001b[49m\u001b[43manswer\u001b[49m\u001b[43m,\u001b[49m\u001b[43m \u001b[49m\u001b[38;5;28;43mself\u001b[39;49m\u001b[38;5;241;43m.\u001b[39;49m\u001b[43mgateway_client\u001b[49m\u001b[43m,\u001b[49m\u001b[43m \u001b[49m\u001b[38;5;28;43mself\u001b[39;49m\u001b[38;5;241;43m.\u001b[39;49m\u001b[43mtarget_id\u001b[49m\u001b[43m,\u001b[49m\u001b[43m \u001b[49m\u001b[38;5;28;43mself\u001b[39;49m\u001b[38;5;241;43m.\u001b[39;49m\u001b[43mname\u001b[49m\u001b[43m)\u001b[49m\n\u001b[1;32m   1324\u001b[0m \u001b[38;5;28;01mfor\u001b[39;00m temp_arg \u001b[38;5;129;01min\u001b[39;00m temp_args:\n\u001b[1;32m   1325\u001b[0m     temp_arg\u001b[38;5;241m.\u001b[39m_detach()\n",
      "File \u001b[0;32m~/opt/anaconda3/lib/python3.9/site-packages/pyspark/sql/utils.py:196\u001b[0m, in \u001b[0;36mcapture_sql_exception.<locals>.deco\u001b[0;34m(*a, **kw)\u001b[0m\n\u001b[1;32m    192\u001b[0m converted \u001b[38;5;241m=\u001b[39m convert_exception(e\u001b[38;5;241m.\u001b[39mjava_exception)\n\u001b[1;32m    193\u001b[0m \u001b[38;5;28;01mif\u001b[39;00m \u001b[38;5;129;01mnot\u001b[39;00m \u001b[38;5;28misinstance\u001b[39m(converted, UnknownException):\n\u001b[1;32m    194\u001b[0m     \u001b[38;5;66;03m# Hide where the exception came from that shows a non-Pythonic\u001b[39;00m\n\u001b[1;32m    195\u001b[0m     \u001b[38;5;66;03m# JVM exception message.\u001b[39;00m\n\u001b[0;32m--> 196\u001b[0m     \u001b[38;5;28;01mraise\u001b[39;00m converted \u001b[38;5;28;01mfrom\u001b[39;00m \u001b[38;5;28mNone\u001b[39m\n\u001b[1;32m    197\u001b[0m \u001b[38;5;28;01melse\u001b[39;00m:\n\u001b[1;32m    198\u001b[0m     \u001b[38;5;28;01mraise\u001b[39;00m\n",
      "\u001b[0;31mAnalysisException\u001b[0m: path file:/Users/ahirve/Desktop/ads_bnpl/data/tables/transactions_with_fraud_rates.parquet already exists."
     ]
    }
   ],
   "source": [
    "final_model_with_fraud.write.parquet(\"../data/tables/transactions_with_fraud_rates.parquet\")"
   ]
  },
  {
   "cell_type": "code",
   "execution_count": null,
   "id": "37da60ae",
   "metadata": {},
   "outputs": [
    {
     "name": "stderr",
     "output_type": "stream",
     "text": [
      "[Stage 420:=========================================>             (18 + 6) / 24]\r"
     ]
    }
   ],
   "source": [
    "#merging with full dataset with all columns for geospatial visualisations \n",
    "full_data\n",
    "final_model_with_fraud\n",
    "\n",
    "full_data.createOrReplaceTempView(\"temp\")\n",
    "\n",
    "final_model_with_fraud.createOrReplaceTempView(\"temp2\")\n",
    "\n",
    "full_data_with_fraud = spark.sql(\"\"\" \n",
    "\n",
    "SELECT *\n",
    "FROM temp\n",
    "\n",
    "\n",
    "LEFT JOIN temp2\n",
    "\n",
    "ON temp.merchant_abn = temp2.sus_merchant_abn\n",
    "\"\"\")\n",
    "\n",
    "full_data_with_fraud.write.parquet('../data/tables/full_dataset_with_fraud_rates.parquet')"
   ]
  },
  {
   "cell_type": "code",
   "execution_count": null,
   "id": "d5c86eb9",
   "metadata": {},
   "outputs": [],
   "source": [
    "# data = spark.read.parquet('../data/tables/full_join.parquet')"
   ]
  },
  {
   "cell_type": "code",
   "execution_count": null,
   "id": "f9517ce0",
   "metadata": {},
   "outputs": [],
   "source": [
    "# data.limit(5)"
   ]
  },
  {
   "cell_type": "code",
   "execution_count": null,
   "id": "d79e4b0c",
   "metadata": {},
   "outputs": [],
   "source": []
  }
 ],
 "metadata": {
  "kernelspec": {
   "display_name": "Python 3 (ipykernel)",
   "language": "python",
   "name": "python3"
  },
  "language_info": {
   "codemirror_mode": {
    "name": "ipython",
    "version": 3
   },
   "file_extension": ".py",
   "mimetype": "text/x-python",
   "name": "python",
   "nbconvert_exporter": "python",
   "pygments_lexer": "ipython3",
   "version": "3.9.7"
  },
  "vscode": {
   "interpreter": {
    "hash": "9950f655f935e9d386631456d48ab2fdbfd1f3b11a4a370e740fa048980506b7"
   }
  }
 },
 "nbformat": 4,
 "nbformat_minor": 5
}
