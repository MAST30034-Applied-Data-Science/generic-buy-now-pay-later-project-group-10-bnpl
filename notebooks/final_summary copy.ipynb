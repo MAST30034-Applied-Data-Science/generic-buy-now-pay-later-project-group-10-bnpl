{
 "cells": [
  {
   "cell_type": "markdown",
   "metadata": {},
   "source": [
    "## Final summary"
   ]
  },
  {
   "cell_type": "code",
   "execution_count": 100,
   "id": "c2c99c68",
   "metadata": {},
   "outputs": [],
   "source": [
    "import matplotlib.pyplot as plt\n",
    "import numpy as np\n",
    "import pandas as pd\n",
    "from pyspark.sql import SparkSession, functions as F\n",
    "import lbl2vec\n",
    "from sklearn.feature_extraction.text import TfidfVectorizer\n",
    "from sklearn.cluster import KMeans\n",
    "import numpy as np\n",
    "import folium\n",
    "import matplotlib\n",
    "from pyspark.sql.functions import date_format\n",
    "from pyspark.sql import SparkSession, functions as F\n",
    "import seaborn as sns\n",
    "\n",
    "# Create a spark session (which will run spark jobs)\n",
    "spark = (\n",
    "    SparkSession.builder.appName(\"MAST30034 Project 1\")\n",
    "    .config(\"spark.sql.repl.eagerEval.enabled\", True) \n",
    "    .config(\"spark.sql.parquet.cacheMetadata\", \"true\")\n",
    "    .config(\"spark.sql.session.timeZon\", \"Etc/UTC\")\n",
    "    .config(\"spark.driver.memory\", \"4g\")\n",
    "    .config(\"spark.executor.memory\", \"8g\")\n",
    "    .getOrCreate()\n",
    ")"
   ]
  },
  {
   "cell_type": "markdown",
   "id": "fe28d53f",
   "metadata": {},
   "source": [
    "### ETL"
   ]
  },
  {
   "cell_type": "markdown",
   "id": "40ed4972",
   "metadata": {},
   "source": [
    "- The following ETL script downloads the external SA2 datasets and the covid \n",
    "data using URLs and then cleans and preprocesses them.\n",
    "- Next, the script cleans and preprocesses the internal dataset and then merges\n",
    "it with the external dataset.\n",
    "- The script prepares a final dataset which is further used throughout the \n",
    "analysis to build a ranking model for the merchants."
   ]
  },
  {
   "cell_type": "code",
   "execution_count": 3,
   "id": "9bc1b705",
   "metadata": {},
   "outputs": [
    {
     "name": "stderr",
     "output_type": "stream",
     "text": [
      "                                                                                \r"
     ]
    }
   ],
   "source": [
    "%run \"../scripts/ETL.py\" '../scripts/paths.json'"
   ]
  },
  {
   "cell_type": "markdown",
   "metadata": {},
   "source": [
    "### Outlier Analysis"
   ]
  },
  {
   "cell_type": "markdown",
   "id": "17864cc0",
   "metadata": {},
   "source": [
    "The following dataset is the full internal + external dataset merged together. "
   ]
  },
  {
   "cell_type": "code",
   "execution_count": 4,
   "metadata": {},
   "outputs": [
    {
     "name": "stdout",
     "output_type": "stream",
     "text": [
      "22/10/07 09:31:06 WARN package: Truncated the string representation of a plan since it was too large. This behavior can be adjusted by setting 'spark.sql.debug.maxToStringFields'.\n"
     ]
    },
    {
     "name": "stderr",
     "output_type": "stream",
     "text": [
      "                                                                                \r"
     ]
    },
    {
     "data": {
      "text/html": [
       "<table border='1'>\n",
       "<tr><th>merchant_name</th><th>merchant_abn</th><th>categories</th><th>take_rate</th><th>revenue_levels</th><th>name</th><th>address</th><th>state</th><th>gender</th><th>trans_merchant_abn</th><th>dollar_value</th><th>order_id</th><th>order_datetime</th><th>user_id</th><th>consumer_id</th><th>postcodes</th><th>int_sa2</th><th>SA2_code</th><th>SA2_name</th><th>income_2018-2019</th><th>total_males</th><th>total_females</th><th>total_persons</th><th>state_code</th><th>state_name</th><th>population_2020</th><th>population_2021</th><th>fraud_probability_consumer</th><th>fraud_probability_merchant</th></tr>\n",
       "<tr><td>Egestas Nunc Asso...</td><td>11121775571</td><td>digital goods: bo...</td><td>6.58</td><td>a</td><td>Christopher Rodri...</td><td>30554 Evans Strea...</td><td>NSW</td><td>Male</td><td>11121775571</td><td>11.28829564583802</td><td>2bd2a61d-72e5-42d...</td><td>2021-08-20</td><td>3698</td><td>1175</td><td>2299</td><td>111031231</td><td>111031231</td><td>Shortland - Jesmond</td><td>242936885</td><td>6412</td><td>6179</td><td>12593</td><td>1</td><td>New South Wales</td><td>12598</td><td>12694</td><td>0.01</td><td>0.01</td></tr>\n",
       "<tr><td>Morbi Accumsan In...</td><td>19618998054</td><td>tent and aWning s...</td><td>1.52</td><td>c</td><td>Christopher Rodri...</td><td>30554 Evans Strea...</td><td>NSW</td><td>Male</td><td>19618998054</td><td>62.90176609196828</td><td>3582b1f8-4577-403...</td><td>2021-05-16</td><td>3698</td><td>1175</td><td>2299</td><td>111031231</td><td>111031231</td><td>Shortland - Jesmond</td><td>242936885</td><td>6412</td><td>6179</td><td>12593</td><td>1</td><td>New South Wales</td><td>12598</td><td>12694</td><td>0.01</td><td>0.01</td></tr>\n",
       "<tr><td>Eu Dolor Egestas PC</td><td>94472466107</td><td>cable, satellite,...</td><td>6.23</td><td>a</td><td>Christopher Rodri...</td><td>30554 Evans Strea...</td><td>NSW</td><td>Male</td><td>94472466107</td><td>172.15375126873164</td><td>cb05d49f-c2fa-453...</td><td>2021-07-22</td><td>3698</td><td>1175</td><td>2299</td><td>111031231</td><td>111031231</td><td>Shortland - Jesmond</td><td>242936885</td><td>6412</td><td>6179</td><td>12593</td><td>1</td><td>New South Wales</td><td>12598</td><td>12694</td><td>0.01</td><td>0.01</td></tr>\n",
       "<tr><td>Urna Justo Indust...</td><td>31472801314</td><td>music shops - mus...</td><td>6.56</td><td>a</td><td>Christopher Rodri...</td><td>30554 Evans Strea...</td><td>NSW</td><td>Male</td><td>31472801314</td><td>0.4894787650356477</td><td>aeec15c1-67e8-4cb...</td><td>2021-05-18</td><td>3698</td><td>1175</td><td>2299</td><td>111031231</td><td>111031231</td><td>Shortland - Jesmond</td><td>242936885</td><td>6412</td><td>6179</td><td>12593</td><td>1</td><td>New South Wales</td><td>12598</td><td>12694</td><td>0.01</td><td>0.01</td></tr>\n",
       "<tr><td>Eu Sem Pellentesq...</td><td>35424691626</td><td>computers, comput...</td><td>3.9</td><td>b</td><td>Christopher Rodri...</td><td>30554 Evans Strea...</td><td>NSW</td><td>Male</td><td>35424691626</td><td>7.360217018778133</td><td>9df473ba-102d-461...</td><td>2021-07-04</td><td>3698</td><td>1175</td><td>2299</td><td>111031231</td><td>111031231</td><td>Shortland - Jesmond</td><td>242936885</td><td>6412</td><td>6179</td><td>12593</td><td>1</td><td>New South Wales</td><td>12598</td><td>12694</td><td>0.01</td><td>0.01</td></tr>\n",
       "</table>\n"
      ],
      "text/plain": [
       "+--------------------+------------+--------------------+---------+--------------+--------------------+--------------------+-----+------+------------------+------------------+--------------------+--------------+-------+-----------+---------+---------+---------+-------------------+----------------+-----------+-------------+-------------+----------+---------------+---------------+---------------+--------------------------+--------------------------+\n",
       "|       merchant_name|merchant_abn|          categories|take_rate|revenue_levels|                name|             address|state|gender|trans_merchant_abn|      dollar_value|            order_id|order_datetime|user_id|consumer_id|postcodes|  int_sa2| SA2_code|           SA2_name|income_2018-2019|total_males|total_females|total_persons|state_code|     state_name|population_2020|population_2021|fraud_probability_consumer|fraud_probability_merchant|\n",
       "+--------------------+------------+--------------------+---------+--------------+--------------------+--------------------+-----+------+------------------+------------------+--------------------+--------------+-------+-----------+---------+---------+---------+-------------------+----------------+-----------+-------------+-------------+----------+---------------+---------------+---------------+--------------------------+--------------------------+\n",
       "|Egestas Nunc Asso...| 11121775571|digital goods: bo...|     6.58|             a|Christopher Rodri...|30554 Evans Strea...|  NSW|  Male|       11121775571| 11.28829564583802|2bd2a61d-72e5-42d...|    2021-08-20|   3698|       1175|     2299|111031231|111031231|Shortland - Jesmond|       242936885|       6412|         6179|        12593|         1|New South Wales|          12598|          12694|                      0.01|                      0.01|\n",
       "|Morbi Accumsan In...| 19618998054|tent and aWning s...|     1.52|             c|Christopher Rodri...|30554 Evans Strea...|  NSW|  Male|       19618998054| 62.90176609196828|3582b1f8-4577-403...|    2021-05-16|   3698|       1175|     2299|111031231|111031231|Shortland - Jesmond|       242936885|       6412|         6179|        12593|         1|New South Wales|          12598|          12694|                      0.01|                      0.01|\n",
       "| Eu Dolor Egestas PC| 94472466107|cable, satellite,...|     6.23|             a|Christopher Rodri...|30554 Evans Strea...|  NSW|  Male|       94472466107|172.15375126873164|cb05d49f-c2fa-453...|    2021-07-22|   3698|       1175|     2299|111031231|111031231|Shortland - Jesmond|       242936885|       6412|         6179|        12593|         1|New South Wales|          12598|          12694|                      0.01|                      0.01|\n",
       "|Urna Justo Indust...| 31472801314|music shops - mus...|     6.56|             a|Christopher Rodri...|30554 Evans Strea...|  NSW|  Male|       31472801314|0.4894787650356477|aeec15c1-67e8-4cb...|    2021-05-18|   3698|       1175|     2299|111031231|111031231|Shortland - Jesmond|       242936885|       6412|         6179|        12593|         1|New South Wales|          12598|          12694|                      0.01|                      0.01|\n",
       "|Eu Sem Pellentesq...| 35424691626|computers, comput...|      3.9|             b|Christopher Rodri...|30554 Evans Strea...|  NSW|  Male|       35424691626| 7.360217018778133|9df473ba-102d-461...|    2021-07-04|   3698|       1175|     2299|111031231|111031231|Shortland - Jesmond|       242936885|       6412|         6179|        12593|         1|New South Wales|          12598|          12694|                      0.01|                      0.01|\n",
       "+--------------------+------------+--------------------+---------+--------------+--------------------+--------------------+-----+------+------------------+------------------+--------------------+--------------+-------+-----------+---------+---------+---------+-------------------+----------------+-----------+-------------+-------------+----------+---------------+---------------+---------------+--------------------------+--------------------------+"
      ]
     },
     "execution_count": 4,
     "metadata": {},
     "output_type": "execute_result"
    }
   ],
   "source": [
    "# Show the first five rows of the complete dataset\n",
    "final_join3.limit(5)"
   ]
  },
  {
   "cell_type": "markdown",
   "id": "9a713b43",
   "metadata": {},
   "source": [
    "- The outlier script removes the outliers from the above complete dataset in the \n",
    "following ways:\n",
    "    - Removes values with null merchant abn\n",
    "    - Removes instances with transactions with a dollar value of 0 or less \n",
    "    0\n",
    "    - Removes values with null customer id\n",
    "    - Remove instances where gender is null"
   ]
  },
  {
   "cell_type": "code",
   "execution_count": 54,
   "metadata": {},
   "outputs": [
    {
     "name": "stderr",
     "output_type": "stream",
     "text": [
      "                                                                                \r"
     ]
    }
   ],
   "source": [
    "\n",
    "%run \"../scripts/outlier.py\" '../scripts/paths.json'"
   ]
  },
  {
   "cell_type": "code",
   "execution_count": 9,
   "id": "e202811b",
   "metadata": {},
   "outputs": [
    {
     "data": {
      "text/html": [
       "<div>\n",
       "<style scoped>\n",
       "    .dataframe tbody tr th:only-of-type {\n",
       "        vertical-align: middle;\n",
       "    }\n",
       "\n",
       "    .dataframe tbody tr th {\n",
       "        vertical-align: top;\n",
       "    }\n",
       "\n",
       "    .dataframe thead th {\n",
       "        text-align: right;\n",
       "    }\n",
       "</style>\n",
       "<table border=\"1\" class=\"dataframe\">\n",
       "  <thead>\n",
       "    <tr style=\"text-align: right;\">\n",
       "      <th></th>\n",
       "      <th>Outlier removal</th>\n",
       "      <th>Count after outlier removal</th>\n",
       "    </tr>\n",
       "  </thead>\n",
       "  <tbody>\n",
       "    <tr>\n",
       "      <th>0</th>\n",
       "      <td>Original count</td>\n",
       "      <td>10540321</td>\n",
       "    </tr>\n",
       "    <tr>\n",
       "      <th>1</th>\n",
       "      <td>Valid Merchant ABN</td>\n",
       "      <td>10109371</td>\n",
       "    </tr>\n",
       "    <tr>\n",
       "      <th>2</th>\n",
       "      <td>Transactions with non $0</td>\n",
       "      <td>10109371</td>\n",
       "    </tr>\n",
       "    <tr>\n",
       "      <th>3</th>\n",
       "      <td>Valid customer ID</td>\n",
       "      <td>10109371</td>\n",
       "    </tr>\n",
       "    <tr>\n",
       "      <th>4</th>\n",
       "      <td>Non null values for gender</td>\n",
       "      <td>10109371</td>\n",
       "    </tr>\n",
       "  </tbody>\n",
       "</table>\n",
       "</div>"
      ],
      "text/plain": [
       "              Outlier removal  Count after outlier removal\n",
       "0              Original count                     10540321\n",
       "1          Valid Merchant ABN                     10109371\n",
       "2    Transactions with non $0                     10109371\n",
       "3           Valid customer ID                     10109371\n",
       "4  Non null values for gender                     10109371"
      ]
     },
     "execution_count": 9,
     "metadata": {},
     "output_type": "execute_result"
    }
   ],
   "source": [
    "df.head()"
   ]
  },
  {
   "cell_type": "markdown",
   "metadata": {},
   "source": [
    "As seen above, nul values were only present in the merchant abn column which\n",
    "were removed to prepare the final dataset"
   ]
  },
  {
   "cell_type": "markdown",
   "metadata": {},
   "source": [
    "### Visualise internal data"
   ]
  },
  {
   "cell_type": "code",
   "execution_count": 135,
   "id": "1a771772",
   "metadata": {},
   "outputs": [
    {
     "name": "stderr",
     "output_type": "stream",
     "text": [
      "                                                                                \r"
     ]
    },
    {
     "name": "stdout",
     "output_type": "stream",
     "text": [
      "Unexpected exception formatting exception. Falling back to standard exception\n"
     ]
    },
    {
     "name": "stderr",
     "output_type": "stream",
     "text": [
      "Traceback (most recent call last):\n",
      "  File \"/Users/Kasturi/opt/anaconda3/lib/python3.9/site-packages/IPython/core/interactiveshell.py\", line 2727, in safe_execfile\n",
      "    py3compat.execfile(\n",
      "  File \"/Users/Kasturi/opt/anaconda3/lib/python3.9/site-packages/IPython/utils/py3compat.py\", line 55, in execfile\n",
      "    exec(compiler(f.read(), fname, \"exec\"), glob, loc)\n",
      "  File \"/Users/Kasturi/Documents/GitHub/generic-buy-now-pay-later-project-group-10-bnpl/scripts/visualizations.py\", line 159, in <module>\n",
      "    transactions_location = num_transactions_by_postcode.join(postcodes_data,\n",
      "AttributeError: 'GroupedData' object has no attribute 'join'\n",
      "\n",
      "During handling of the above exception, another exception occurred:\n",
      "\n",
      "Traceback (most recent call last):\n",
      "  File \"/Users/Kasturi/opt/anaconda3/lib/python3.9/site-packages/IPython/core/interactiveshell.py\", line 1982, in showtraceback\n",
      "    stb = self.InteractiveTB.structured_traceback(\n",
      "  File \"/Users/Kasturi/opt/anaconda3/lib/python3.9/site-packages/IPython/core/ultratb.py\", line 1118, in structured_traceback\n",
      "    return FormattedTB.structured_traceback(\n",
      "  File \"/Users/Kasturi/opt/anaconda3/lib/python3.9/site-packages/IPython/core/ultratb.py\", line 1012, in structured_traceback\n",
      "    return VerboseTB.structured_traceback(\n",
      "  File \"/Users/Kasturi/opt/anaconda3/lib/python3.9/site-packages/IPython/core/ultratb.py\", line 865, in structured_traceback\n",
      "    formatted_exception = self.format_exception_as_a_whole(etype, evalue, etb, number_of_lines_of_context,\n",
      "  File \"/Users/Kasturi/opt/anaconda3/lib/python3.9/site-packages/IPython/core/ultratb.py\", line 818, in format_exception_as_a_whole\n",
      "    frames.append(self.format_record(r))\n",
      "  File \"/Users/Kasturi/opt/anaconda3/lib/python3.9/site-packages/IPython/core/ultratb.py\", line 736, in format_record\n",
      "    result += ''.join(_format_traceback_lines(frame_info.lines, Colors, self.has_colors, lvals))\n",
      "  File \"/Users/Kasturi/opt/anaconda3/lib/python3.9/site-packages/stack_data/utils.py\", line 145, in cached_property_wrapper\n",
      "    value = obj.__dict__[self.func.__name__] = self.func(obj)\n",
      "  File \"/Users/Kasturi/opt/anaconda3/lib/python3.9/site-packages/stack_data/core.py\", line 698, in lines\n",
      "    pieces = self.included_pieces\n",
      "  File \"/Users/Kasturi/opt/anaconda3/lib/python3.9/site-packages/stack_data/utils.py\", line 145, in cached_property_wrapper\n",
      "    value = obj.__dict__[self.func.__name__] = self.func(obj)\n",
      "  File \"/Users/Kasturi/opt/anaconda3/lib/python3.9/site-packages/stack_data/core.py\", line 649, in included_pieces\n",
      "    pos = scope_pieces.index(self.executing_piece)\n",
      "  File \"/Users/Kasturi/opt/anaconda3/lib/python3.9/site-packages/stack_data/utils.py\", line 145, in cached_property_wrapper\n",
      "    value = obj.__dict__[self.func.__name__] = self.func(obj)\n",
      "  File \"/Users/Kasturi/opt/anaconda3/lib/python3.9/site-packages/stack_data/core.py\", line 628, in executing_piece\n",
      "    return only(\n",
      "  File \"/Users/Kasturi/opt/anaconda3/lib/python3.9/site-packages/executing/executing.py\", line 164, in only\n",
      "    raise NotOneValueFound('Expected one value, found 0')\n",
      "executing.executing.NotOneValueFound: Expected one value, found 0\n"
     ]
    },
    {
     "data": {
      "image/png": "[encoded data removed]",
      "text/plain": [
       "<Figure size 432x288 with 1 Axes>"
      ]
     },
     "metadata": {
      "needs_background": "light"
     },
     "output_type": "display_data"
    },
    {
     "data": {
      "image/png": "[encoded data removed]",
      "text/plain": [
       "<Figure size 432x288 with 1 Axes>"
      ]
     },
     "metadata": {
      "needs_background": "light"
     },
     "output_type": "display_data"
    },
    {
     "data": {
      "image/png": "[encoded data removed]",
      "text/plain": [
       "<Figure size 432x288 with 1 Axes>"
      ]
     },
     "metadata": {
      "needs_background": "light"
     },
     "output_type": "display_data"
    },
    {
     "data": {
      "image/png": "[encoded data removed]",
      "text/plain": [
       "<Figure size 864x504 with 1 Axes>"
      ]
     },
     "metadata": {
      "needs_background": "light"
     },
     "output_type": "display_data"
    },
    {
     "data": {
      "image/png": "[encoded data removed]",
      "text/plain": [
       "<Figure size 864x504 with 1 Axes>"
      ]
     },
     "metadata": {
      "needs_background": "light"
     },
     "output_type": "display_data"
    }
   ],
   "source": [
    "%run \"../scripts/visualizations.py\" '../scripts/paths.json'"
   ]
  },
  {
   "cell_type": "code",
   "execution_count": 138,
   "id": "afe81ac2",
   "metadata": {},
   "outputs": [
    {
     "ename": "AttributeError",
     "evalue": "'GroupedData' object has no attribute 'join'",
     "output_type": "error",
     "traceback": [
      "\u001b[0;31m---------------------------------------------------------------------------\u001b[0m",
      "\u001b[0;31mAttributeError\u001b[0m                            Traceback (most recent call last)",
      "\u001b[1;32m/Users/Kasturi/Documents/GitHub/generic-buy-now-pay-later-project-group-10-bnpl/notebooks/final_summary copy.ipynb Cell 15\u001b[0m in \u001b[0;36m<cell line: 5>\u001b[0;34m()\u001b[0m\n\u001b[1;32m      <a href='vscode-notebook-cell:/Users/Kasturi/Documents/GitHub/generic-buy-now-pay-later-project-group-10-bnpl/notebooks/final_summary%20copy.ipynb#Y152sZmlsZQ%3D%3D?line=2'>3</a>\u001b[0m postcodes_data2 \u001b[39m=\u001b[39m postcodes_data1\u001b[39m.\u001b[39mwithColumnRenamed(\u001b[39m'\u001b[39m\u001b[39mPostcode\u001b[39m\u001b[39m'\u001b[39m, \u001b[39m'\u001b[39m\u001b[39mpostcodes\u001b[39m\u001b[39m'\u001b[39m)\n\u001b[1;32m      <a href='vscode-notebook-cell:/Users/Kasturi/Documents/GitHub/generic-buy-now-pay-later-project-group-10-bnpl/notebooks/final_summary%20copy.ipynb#Y152sZmlsZQ%3D%3D?line=3'>4</a>\u001b[0m postcodes_data \u001b[39m=\u001b[39m postcodes_data2\u001b[39m.\u001b[39mdropDuplicates([\u001b[39m'\u001b[39m\u001b[39mpostcodes\u001b[39m\u001b[39m'\u001b[39m])\n\u001b[0;32m----> <a href='vscode-notebook-cell:/Users/Kasturi/Documents/GitHub/generic-buy-now-pay-later-project-group-10-bnpl/notebooks/final_summary%20copy.ipynb#Y152sZmlsZQ%3D%3D?line=4'>5</a>\u001b[0m transactions_location \u001b[39m=\u001b[39m num_transactions_by_postcode\u001b[39m.\u001b[39;49mjoin(postcodes_data,[\u001b[39m'\u001b[39m\u001b[39mpostcodes\u001b[39m\u001b[39m'\u001b[39m], \u001b[39m'\u001b[39m\u001b[39minner\u001b[39m\u001b[39m'\u001b[39m)\n\u001b[1;32m      <a href='vscode-notebook-cell:/Users/Kasturi/Documents/GitHub/generic-buy-now-pay-later-project-group-10-bnpl/notebooks/final_summary%20copy.ipynb#Y152sZmlsZQ%3D%3D?line=8'>9</a>\u001b[0m \u001b[39m# conver transactions location to pandas df\u001b[39;00m\n\u001b[1;32m     <a href='vscode-notebook-cell:/Users/Kasturi/Documents/GitHub/generic-buy-now-pay-later-project-group-10-bnpl/notebooks/final_summary%20copy.ipynb#Y152sZmlsZQ%3D%3D?line=9'>10</a>\u001b[0m transactions_location_pdf \u001b[39m=\u001b[39m transactions_location\u001b[39m.\u001b[39mtoPandas()\n",
      "\u001b[0;31mAttributeError\u001b[0m: 'GroupedData' object has no attribute 'join'"
     ]
    }
   ],
   "source": [
    "num_transactions_by_postcode = outlier.internal4.groupBy('postcodes')\n",
    "postcodes_data1 = spark.read.option(\"header\", True).csv('../data/visualisations_postcodes.csv')\n",
    "postcodes_data2 = postcodes_data1.withColumnRenamed('Postcode', 'postcodes')\n",
    "postcodes_data = postcodes_data2.dropDuplicates(['postcodes'])\n",
    "transactions_location = num_transactions_by_postcode.join(postcodes_data,['postcodes'], 'inner')\n",
    "\n",
    "\n",
    "\n",
    "# conver transactions location to pandas df\n",
    "transactions_location_pdf = transactions_location.toPandas()\n",
    "\n",
    "aus_coords = [-25.2744, 133.7751]\n",
    "m = folium.Map(aus_coords, tiles='OpenStreetMap', zoom_start=4.5)\n",
    "\n",
    "for index, row in transactions_location_pdf.iterrows():\n",
    "    if row['count'] >= 10000:\n",
    "        marker_color = 'darkred'\n",
    "        fill_color = 'darkred'\n",
    "    elif row['count'] >= 5000:\n",
    "        marker_color = 'red'\n",
    "        fill_color = 'red'\n",
    "    elif row['count'] >= 500:\n",
    "        marker_color = 'darkorange'\n",
    "        fill_color = 'darkorange'\n",
    "    elif row['count'] >= 100:\n",
    "        marker_color = 'orange'\n",
    "        fill_color = 'orange'\n",
    "    elif row['count'] <= 50 :\n",
    "        marker_color = 'yellow'\n",
    "        fill_color = 'yellow'\n",
    "    else:\n",
    "        marker_color='darkpurple'\n",
    "        fill_color = 'darkpurple'\n",
    "        \n",
    "    folium.Circle(\n",
    "          location=[row['Lat'], row['Lon']],\n",
    "          popup= 'Number of transactions: ' +str(row['count']),\n",
    "          tooltip=row['Suburb'],\n",
    "          radius=row['count'],\n",
    "          color=marker_color,\n",
    "          fill=True,\n",
    "          fill_color=fill_color,\n",
    "       ).add_to(m)\n",
    "m.save('../plots/bubble_plot_num_transactions_by_location.html')\n",
    "\n",
    "m"
   ]
  },
  {
   "cell_type": "code",
   "execution_count": null,
   "id": "6a153106",
   "metadata": {},
   "outputs": [],
   "source": [
    "transactions.createOrReplaceTempView(\"temp_view\")\n",
    "\n",
    "trans_2021 = spark.sql(\"\"\" \n",
    "\n",
    "SELECT Month, category, COUNT(merchant_abn) as transactions_2021\n",
    "FROM temp_view\n",
    "WHERE Year == '2021'\n",
    "GROUP BY Month, category\n",
    "\n",
    "\"\"\")\n",
    "\n",
    "trans_2022 = spark.sql(\"\"\" \n",
    "\n",
    "SELECT Month, category, COUNT(merchant_abn) as transactions_2022\n",
    "FROM temp_view\n",
    "WHERE Year == '2022'\n",
    "GROUP BY Month, category\n",
    "\n",
    "\"\"\")\n",
    "\n",
    "\n",
    "trans_2021_df = trans_2021.toPandas()\n",
    "trans_2022_df = trans_2022.toPandas()\n",
    "\n",
    "\n",
    "month_2021 = ['February', 'March', 'April', 'May', 'June', 'July', 'August', \n",
    "'September', 'October', 'November','December']\n",
    "month_2022 = ['Janaury', 'February', 'March', 'April', 'May', 'June', 'July', \n",
    "'August', 'September']\n",
    "\n",
    "\n",
    "\n",
    "# Order the month column \n",
    "\n",
    "\n",
    "trans_2021_df['Month'] = pd.Categorical(trans_2021_df['Month'], \n",
    "categories = month_2021, ordered=True)\n",
    "trans_2021_df.sort_values(by = \"Month\", inplace = True)\n",
    "\n",
    "trans_2022_df['Month'] = pd.Categorical(trans_2022_df['Month'], \n",
    "categories = month_2022, ordered=True)\n",
    "trans_2022_df.sort_values(by = \"Month\", inplace = True)\n",
    "\n",
    "\n",
    "\n",
    "fig4, ax4 = plt.subplots(figsize=(12,7))\n",
    "sns.lineplot(data=trans_2021_df, x=\"Month\", y=\"transactions_2021\", \n",
    "hue=\"category\")\n",
    "ax4.set_ylabel(\"Number of transactions in 2021\")\n",
    "\n",
    "\n",
    "\n",
    "fig5, ax5 = plt.subplots(figsize=(12,7))\n",
    "sns.lineplot(data=trans_2022_df, x=\"Month\", y=\"transactions_2022\", \n",
    "hue=\"category\")\n",
    "ax5.set_ylabel(\"Number of transactions in 2022\")b"
   ]
  },
  {
   "cell_type": "markdown",
   "metadata": {},
   "source": [
    "# External datasets\n",
    "## Check oultiers"
   ]
  },
  {
   "cell_type": "markdown",
   "metadata": {},
   "source": [
    "### Census data"
   ]
  },
  {
   "cell_type": "code",
   "execution_count": 20,
   "metadata": {},
   "outputs": [
    {
     "data": {
      "text/html": [
       "<div>\n",
       "<style scoped>\n",
       "    .dataframe tbody tr th:only-of-type {\n",
       "        vertical-align: middle;\n",
       "    }\n",
       "\n",
       "    .dataframe tbody tr th {\n",
       "        vertical-align: top;\n",
       "    }\n",
       "\n",
       "    .dataframe thead th {\n",
       "        text-align: right;\n",
       "    }\n",
       "</style>\n",
       "<table border=\"1\" class=\"dataframe\">\n",
       "  <thead>\n",
       "    <tr style=\"text-align: right;\">\n",
       "      <th></th>\n",
       "      <th>SA2_code</th>\n",
       "      <th>total_males</th>\n",
       "      <th>total_females</th>\n",
       "      <th>total_persons</th>\n",
       "    </tr>\n",
       "  </thead>\n",
       "  <tbody>\n",
       "    <tr>\n",
       "      <th>count</th>\n",
       "      <td>2.472000e+03</td>\n",
       "      <td>2472.000000</td>\n",
       "      <td>2472.000000</td>\n",
       "      <td>2472.000000</td>\n",
       "    </tr>\n",
       "    <tr>\n",
       "      <th>mean</th>\n",
       "      <td>3.177555e+08</td>\n",
       "      <td>5074.887136</td>\n",
       "      <td>5209.415049</td>\n",
       "      <td>10284.254450</td>\n",
       "    </tr>\n",
       "    <tr>\n",
       "      <th>std</th>\n",
       "      <td>1.977886e+08</td>\n",
       "      <td>3019.275754</td>\n",
       "      <td>3161.883118</td>\n",
       "      <td>6171.395057</td>\n",
       "    </tr>\n",
       "    <tr>\n",
       "      <th>min</th>\n",
       "      <td>1.010210e+08</td>\n",
       "      <td>0.000000</td>\n",
       "      <td>0.000000</td>\n",
       "      <td>0.000000</td>\n",
       "    </tr>\n",
       "    <tr>\n",
       "      <th>25%</th>\n",
       "      <td>1.270315e+08</td>\n",
       "      <td>2669.750000</td>\n",
       "      <td>2678.000000</td>\n",
       "      <td>5384.750000</td>\n",
       "    </tr>\n",
       "    <tr>\n",
       "      <th>50%</th>\n",
       "      <td>3.030411e+08</td>\n",
       "      <td>4774.000000</td>\n",
       "      <td>4875.000000</td>\n",
       "      <td>9656.000000</td>\n",
       "    </tr>\n",
       "    <tr>\n",
       "      <th>75%</th>\n",
       "      <td>4.060111e+08</td>\n",
       "      <td>7169.000000</td>\n",
       "      <td>7511.500000</td>\n",
       "      <td>14675.000000</td>\n",
       "    </tr>\n",
       "    <tr>\n",
       "      <th>max</th>\n",
       "      <td>9.999995e+08</td>\n",
       "      <td>14327.000000</td>\n",
       "      <td>13783.000000</td>\n",
       "      <td>28116.000000</td>\n",
       "    </tr>\n",
       "  </tbody>\n",
       "</table>\n",
       "</div>"
      ],
      "text/plain": [
       "           SA2_code   total_males  total_females  total_persons\n",
       "count  2.472000e+03   2472.000000    2472.000000    2472.000000\n",
       "mean   3.177555e+08   5074.887136    5209.415049   10284.254450\n",
       "std    1.977886e+08   3019.275754    3161.883118    6171.395057\n",
       "min    1.010210e+08      0.000000       0.000000       0.000000\n",
       "25%    1.270315e+08   2669.750000    2678.000000    5384.750000\n",
       "50%    3.030411e+08   4774.000000    4875.000000    9656.000000\n",
       "75%    4.060111e+08   7169.000000    7511.500000   14675.000000\n",
       "max    9.999995e+08  14327.000000   13783.000000   28116.000000"
      ]
     },
     "execution_count": 20,
     "metadata": {},
     "output_type": "execute_result"
    }
   ],
   "source": [
    "# summary statistics\n",
    "census.describe()"
   ]
  },
  {
   "cell_type": "markdown",
   "metadata": {},
   "source": [
    "### Income data\n",
    "Income data contains the total income for each SA2 region - not income per person"
   ]
  },
  {
   "cell_type": "code",
   "execution_count": 21,
   "metadata": {},
   "outputs": [
    {
     "data": {
      "text/html": [
       "<div>\n",
       "<style scoped>\n",
       "    .dataframe tbody tr th:only-of-type {\n",
       "        vertical-align: middle;\n",
       "    }\n",
       "\n",
       "    .dataframe tbody tr th {\n",
       "        vertical-align: top;\n",
       "    }\n",
       "\n",
       "    .dataframe thead th {\n",
       "        text-align: right;\n",
       "    }\n",
       "</style>\n",
       "<table border=\"1\" class=\"dataframe\">\n",
       "  <thead>\n",
       "    <tr style=\"text-align: right;\">\n",
       "      <th></th>\n",
       "      <th>SA2_code</th>\n",
       "      <th>SA2_name</th>\n",
       "      <th>income_2018-2019</th>\n",
       "    </tr>\n",
       "  </thead>\n",
       "  <tbody>\n",
       "    <tr>\n",
       "      <th>0</th>\n",
       "      <td>101021007</td>\n",
       "      <td>Braidwood</td>\n",
       "      <td>120763285</td>\n",
       "    </tr>\n",
       "    <tr>\n",
       "      <th>1</th>\n",
       "      <td>101021008</td>\n",
       "      <td>Karabar</td>\n",
       "      <td>338308979</td>\n",
       "    </tr>\n",
       "    <tr>\n",
       "      <th>2</th>\n",
       "      <td>101021009</td>\n",
       "      <td>Queanbeyan</td>\n",
       "      <td>441160946</td>\n",
       "    </tr>\n",
       "    <tr>\n",
       "      <th>3</th>\n",
       "      <td>101021010</td>\n",
       "      <td>Queanbeyan - East</td>\n",
       "      <td>237035656</td>\n",
       "    </tr>\n",
       "    <tr>\n",
       "      <th>4</th>\n",
       "      <td>101021011</td>\n",
       "      <td>Queanbeyan Region</td>\n",
       "      <td>1050285692</td>\n",
       "    </tr>\n",
       "  </tbody>\n",
       "</table>\n",
       "</div>"
      ],
      "text/plain": [
       "    SA2_code           SA2_name  income_2018-2019\n",
       "0  101021007          Braidwood         120763285\n",
       "1  101021008            Karabar         338308979\n",
       "2  101021009         Queanbeyan         441160946\n",
       "3  101021010  Queanbeyan - East         237035656\n",
       "4  101021011  Queanbeyan Region        1050285692"
      ]
     },
     "execution_count": 21,
     "metadata": {},
     "output_type": "execute_result"
    }
   ],
   "source": [
    "income.head()"
   ]
  },
  {
   "cell_type": "code",
   "execution_count": 22,
   "metadata": {},
   "outputs": [
    {
     "data": {
      "text/plain": [
       "count    2.244000e+03\n",
       "mean     4.234613e+08\n",
       "std      3.478390e+08\n",
       "min     -7.968300e+04\n",
       "25%      1.767428e+08\n",
       "50%      3.324043e+08\n",
       "75%      5.684244e+08\n",
       "max      3.493429e+09\n",
       "Name: income_2018-2019, dtype: float64"
      ]
     },
     "execution_count": 22,
     "metadata": {},
     "output_type": "execute_result"
    }
   ],
   "source": [
    "# summary statistics income_2018-2019\n",
    "income['income_2018-2019'].describe()"
   ]
  },
  {
   "cell_type": "code",
   "execution_count": 23,
   "metadata": {},
   "outputs": [
    {
     "data": {
      "text/plain": [
       "<AxesSubplot:>"
      ]
     },
     "execution_count": 23,
     "metadata": {},
     "output_type": "execute_result"
    },
    {
     "data": {
      "image/png": "[encoded data removed]",
      "text/plain": [
       "<Figure size 432x288 with 1 Axes>"
      ]
     },
     "metadata": {
      "needs_background": "light"
     },
     "output_type": "display_data"
    }
   ],
   "source": [
    "# income distribution\n",
    "income['income_2018-2019'].astype(np.double).plot()"
   ]
  },
  {
   "cell_type": "code",
   "execution_count": 24,
   "metadata": {},
   "outputs": [
    {
     "data": {
      "text/html": [
       "<div>\n",
       "<style scoped>\n",
       "    .dataframe tbody tr th:only-of-type {\n",
       "        vertical-align: middle;\n",
       "    }\n",
       "\n",
       "    .dataframe tbody tr th {\n",
       "        vertical-align: top;\n",
       "    }\n",
       "\n",
       "    .dataframe thead th {\n",
       "        text-align: right;\n",
       "    }\n",
       "</style>\n",
       "<table border=\"1\" class=\"dataframe\">\n",
       "  <thead>\n",
       "    <tr style=\"text-align: right;\">\n",
       "      <th></th>\n",
       "      <th>SA2_code</th>\n",
       "      <th>SA2_name</th>\n",
       "      <th>income_2018-2019</th>\n",
       "    </tr>\n",
       "  </thead>\n",
       "  <tbody>\n",
       "    <tr>\n",
       "      <th>278</th>\n",
       "      <td>114011275</td>\n",
       "      <td>Ettrema - Sassafras - Budawang</td>\n",
       "      <td>-79683</td>\n",
       "    </tr>\n",
       "  </tbody>\n",
       "</table>\n",
       "</div>"
      ],
      "text/plain": [
       "      SA2_code                        SA2_name  income_2018-2019\n",
       "278  114011275  Ettrema - Sassafras - Budawang            -79683"
      ]
     },
     "execution_count": 24,
     "metadata": {},
     "output_type": "execute_result"
    }
   ],
   "source": [
    "# Check which SA2 regions have negative sum of income for that region\n",
    "income.loc[income['income_2018-2019'] < 0]"
   ]
  },
  {
   "cell_type": "code",
   "execution_count": 25,
   "metadata": {},
   "outputs": [
    {
     "name": "stderr",
     "output_type": "stream",
     "text": [
      "                                                                                \r"
     ]
    },
    {
     "data": {
      "text/plain": [
       "[]"
      ]
     },
     "execution_count": 25,
     "metadata": {},
     "output_type": "execute_result"
    }
   ],
   "source": [
    "# Check if this SA2 region is in the final join\n",
    "internal3.filter(internal3.SA2_code == 114011275).collect()"
   ]
  },
  {
   "cell_type": "markdown",
   "metadata": {},
   "source": [
    "This SA2 region with a negative total sum of income is not in the final join - so this outlier is already removed"
   ]
  },
  {
   "cell_type": "markdown",
   "metadata": {},
   "source": [
    "### Population data"
   ]
  },
  {
   "cell_type": "code",
   "execution_count": 26,
   "metadata": {},
   "outputs": [
    {
     "data": {
      "text/html": [
       "<div>\n",
       "<style scoped>\n",
       "    .dataframe tbody tr th:only-of-type {\n",
       "        vertical-align: middle;\n",
       "    }\n",
       "\n",
       "    .dataframe tbody tr th {\n",
       "        vertical-align: top;\n",
       "    }\n",
       "\n",
       "    .dataframe thead th {\n",
       "        text-align: right;\n",
       "    }\n",
       "</style>\n",
       "<table border=\"1\" class=\"dataframe\">\n",
       "  <thead>\n",
       "    <tr style=\"text-align: right;\">\n",
       "      <th></th>\n",
       "      <th>SA2_code</th>\n",
       "      <th>SA2_name</th>\n",
       "      <th>state_code</th>\n",
       "      <th>state_name</th>\n",
       "      <th>population_2020</th>\n",
       "      <th>population_2021</th>\n",
       "    </tr>\n",
       "  </thead>\n",
       "  <tbody>\n",
       "    <tr>\n",
       "      <th>0</th>\n",
       "      <td>101021007</td>\n",
       "      <td>Braidwood</td>\n",
       "      <td>1</td>\n",
       "      <td>New South Wales</td>\n",
       "      <td>4273</td>\n",
       "      <td>4330</td>\n",
       "    </tr>\n",
       "    <tr>\n",
       "      <th>1</th>\n",
       "      <td>101021008</td>\n",
       "      <td>Karabar</td>\n",
       "      <td>1</td>\n",
       "      <td>New South Wales</td>\n",
       "      <td>8519</td>\n",
       "      <td>8546</td>\n",
       "    </tr>\n",
       "    <tr>\n",
       "      <th>2</th>\n",
       "      <td>101021009</td>\n",
       "      <td>Queanbeyan</td>\n",
       "      <td>1</td>\n",
       "      <td>New South Wales</td>\n",
       "      <td>11437</td>\n",
       "      <td>11370</td>\n",
       "    </tr>\n",
       "    <tr>\n",
       "      <th>3</th>\n",
       "      <td>101021010</td>\n",
       "      <td>Queanbeyan - East</td>\n",
       "      <td>1</td>\n",
       "      <td>New South Wales</td>\n",
       "      <td>5077</td>\n",
       "      <td>5093</td>\n",
       "    </tr>\n",
       "    <tr>\n",
       "      <th>4</th>\n",
       "      <td>101021012</td>\n",
       "      <td>Queanbeyan West - Jerrabomberra</td>\n",
       "      <td>1</td>\n",
       "      <td>New South Wales</td>\n",
       "      <td>12796</td>\n",
       "      <td>12743</td>\n",
       "    </tr>\n",
       "  </tbody>\n",
       "</table>\n",
       "</div>"
      ],
      "text/plain": [
       "    SA2_code                         SA2_name  state_code       state_name  \\\n",
       "0  101021007                        Braidwood           1  New South Wales   \n",
       "1  101021008                          Karabar           1  New South Wales   \n",
       "2  101021009                       Queanbeyan           1  New South Wales   \n",
       "3  101021010                Queanbeyan - East           1  New South Wales   \n",
       "4  101021012  Queanbeyan West - Jerrabomberra           1  New South Wales   \n",
       "\n",
       "   population_2020  population_2021  \n",
       "0             4273             4330  \n",
       "1             8519             8546  \n",
       "2            11437            11370  \n",
       "3             5077             5093  \n",
       "4            12796            12743  "
      ]
     },
     "execution_count": 26,
     "metadata": {},
     "output_type": "execute_result"
    }
   ],
   "source": [
    "population.head()"
   ]
  },
  {
   "cell_type": "code",
   "execution_count": 27,
   "metadata": {},
   "outputs": [
    {
     "data": {
      "text/plain": [
       "count     2454.000000\n",
       "mean     10454.477995\n",
       "std       6229.349880\n",
       "min          0.000000\n",
       "25%       5449.500000\n",
       "50%       9778.000000\n",
       "75%      14832.750000\n",
       "max      28250.000000\n",
       "Name: population_2020, dtype: float64"
      ]
     },
     "execution_count": 27,
     "metadata": {},
     "output_type": "execute_result"
    }
   ],
   "source": [
    "# descriptive stats for 2020 in each SA2 region\n",
    "population['population_2020'].describe()"
   ]
  },
  {
   "cell_type": "code",
   "execution_count": 28,
   "metadata": {},
   "outputs": [
    {
     "data": {
      "text/plain": [
       "count     2454.000000\n",
       "mean     10467.839853\n",
       "std       6222.168569\n",
       "min          0.000000\n",
       "25%       5529.750000\n",
       "50%       9831.000000\n",
       "75%      14911.000000\n",
       "max      28573.000000\n",
       "Name: population_2021, dtype: float64"
      ]
     },
     "execution_count": 28,
     "metadata": {},
     "output_type": "execute_result"
    }
   ],
   "source": [
    "# descriptive stats for 2021 in each SA2 region\n",
    "population['population_2021'].describe()"
   ]
  },
  {
   "cell_type": "markdown",
   "metadata": {},
   "source": [
    "# Tags to categories\n"
   ]
  },
  {
   "cell_type": "code",
   "execution_count": 29,
   "metadata": {},
   "outputs": [
    {
     "data": {
      "text/html": [
       "<div>\n",
       "<style scoped>\n",
       "    .dataframe tbody tr th:only-of-type {\n",
       "        vertical-align: middle;\n",
       "    }\n",
       "\n",
       "    .dataframe tbody tr th {\n",
       "        vertical-align: top;\n",
       "    }\n",
       "\n",
       "    .dataframe thead th {\n",
       "        text-align: right;\n",
       "    }\n",
       "</style>\n",
       "<table border=\"1\" class=\"dataframe\">\n",
       "  <thead>\n",
       "    <tr style=\"text-align: right;\">\n",
       "      <th></th>\n",
       "      <th>merchant_name</th>\n",
       "      <th>merchant_abn</th>\n",
       "      <th>categories</th>\n",
       "      <th>take_rate</th>\n",
       "      <th>revenue_levels</th>\n",
       "    </tr>\n",
       "  </thead>\n",
       "  <tbody>\n",
       "    <tr>\n",
       "      <th>0</th>\n",
       "      <td>Felis Limited</td>\n",
       "      <td>10023283211</td>\n",
       "      <td>furniture, home furnishings and equipment shop...</td>\n",
       "      <td>0.18</td>\n",
       "      <td>e</td>\n",
       "    </tr>\n",
       "    <tr>\n",
       "      <th>1</th>\n",
       "      <td>Arcu Ac Orci Corporation</td>\n",
       "      <td>10142254217</td>\n",
       "      <td>cable, satellite, and otHer pay television and...</td>\n",
       "      <td>4.22</td>\n",
       "      <td>b</td>\n",
       "    </tr>\n",
       "    <tr>\n",
       "      <th>2</th>\n",
       "      <td>Nunc Sed Company</td>\n",
       "      <td>10165489824</td>\n",
       "      <td>jewelry, watch, clock, and silverware shops</td>\n",
       "      <td>4.40</td>\n",
       "      <td>b</td>\n",
       "    </tr>\n",
       "    <tr>\n",
       "      <th>3</th>\n",
       "      <td>Ultricies Dignissim Lacus Foundation</td>\n",
       "      <td>10187291046</td>\n",
       "      <td>wAtch, clock, and jewelry repair shops</td>\n",
       "      <td>3.29</td>\n",
       "      <td>b</td>\n",
       "    </tr>\n",
       "    <tr>\n",
       "      <th>4</th>\n",
       "      <td>Enim Condimentum PC</td>\n",
       "      <td>10192359162</td>\n",
       "      <td>music shops - musical instruments, pianos, and...</td>\n",
       "      <td>6.33</td>\n",
       "      <td>a</td>\n",
       "    </tr>\n",
       "  </tbody>\n",
       "</table>\n",
       "</div>"
      ],
      "text/plain": [
       "                          merchant_name  merchant_abn  \\\n",
       "0                         Felis Limited   10023283211   \n",
       "1              Arcu Ac Orci Corporation   10142254217   \n",
       "2                      Nunc Sed Company   10165489824   \n",
       "3  Ultricies Dignissim Lacus Foundation   10187291046   \n",
       "4                   Enim Condimentum PC   10192359162   \n",
       "\n",
       "                                          categories  take_rate revenue_levels  \n",
       "0  furniture, home furnishings and equipment shop...       0.18              e  \n",
       "1  cable, satellite, and otHer pay television and...       4.22              b  \n",
       "2        jewelry, watch, clock, and silverware shops       4.40              b  \n",
       "3             wAtch, clock, and jewelry repair shops       3.29              b  \n",
       "4  music shops - musical instruments, pianos, and...       6.33              a  "
      ]
     },
     "execution_count": 29,
     "metadata": {},
     "output_type": "execute_result"
    }
   ],
   "source": [
    "merchants = tbl_merchants.toPandas()\n",
    "merchants.head()"
   ]
  },
  {
   "cell_type": "code",
   "execution_count": 30,
   "metadata": {},
   "outputs": [
    {
     "data": {
      "text/plain": [
       "0       furniture home furnishings and equipment shops...\n",
       "1       cable satellite and other pay television and r...\n",
       "2                jewelry watch clock and silverware shops\n",
       "3                    watch clock and jewelry repair shops\n",
       "4       music shops  musical instruments pianos and sh...\n",
       "                              ...                        \n",
       "4021               opticians optical goods and eyeglasses\n",
       "4022                     books periodicals and newspapers\n",
       "4023                                          shoe  shops\n",
       "4024                 motor vehicle supplies and new parts\n",
       "4025                 motor vehicle supplies and new parts\n",
       "Name: categories, Length: 4026, dtype: object"
      ]
     },
     "execution_count": 30,
     "metadata": {},
     "output_type": "execute_result"
    }
   ],
   "source": [
    "categories = merchants[\"categories\"]\n",
    "# Remove symbols from tag and making everything lowercase\n",
    "categories = categories.str.replace('[^\\w\\s]', '', regex = True)\n",
    "categories = categories.str.lower()\n",
    "categories"
   ]
  },
  {
   "cell_type": "code",
   "execution_count": 31,
   "metadata": {},
   "outputs": [],
   "source": [
    "merchants['cleaned_tags'] = categories"
   ]
  },
  {
   "cell_type": "code",
   "execution_count": 32,
   "metadata": {},
   "outputs": [
    {
     "data": {
      "text/html": [
       "<div>\n",
       "<style scoped>\n",
       "    .dataframe tbody tr th:only-of-type {\n",
       "        vertical-align: middle;\n",
       "    }\n",
       "\n",
       "    .dataframe tbody tr th {\n",
       "        vertical-align: top;\n",
       "    }\n",
       "\n",
       "    .dataframe thead th {\n",
       "        text-align: right;\n",
       "    }\n",
       "</style>\n",
       "<table border=\"1\" class=\"dataframe\">\n",
       "  <thead>\n",
       "    <tr style=\"text-align: right;\">\n",
       "      <th></th>\n",
       "      <th>merchant_name</th>\n",
       "      <th>merchant_abn</th>\n",
       "      <th>categories</th>\n",
       "      <th>take_rate</th>\n",
       "      <th>revenue_levels</th>\n",
       "      <th>cleaned_tags</th>\n",
       "    </tr>\n",
       "  </thead>\n",
       "  <tbody>\n",
       "    <tr>\n",
       "      <th>0</th>\n",
       "      <td>Felis Limited</td>\n",
       "      <td>10023283211</td>\n",
       "      <td>furniture, home furnishings and equipment shop...</td>\n",
       "      <td>0.18</td>\n",
       "      <td>e</td>\n",
       "      <td>furniture home furnishings and equipment shops...</td>\n",
       "    </tr>\n",
       "    <tr>\n",
       "      <th>1</th>\n",
       "      <td>Arcu Ac Orci Corporation</td>\n",
       "      <td>10142254217</td>\n",
       "      <td>cable, satellite, and otHer pay television and...</td>\n",
       "      <td>4.22</td>\n",
       "      <td>b</td>\n",
       "      <td>cable satellite and other pay television and r...</td>\n",
       "    </tr>\n",
       "    <tr>\n",
       "      <th>2</th>\n",
       "      <td>Nunc Sed Company</td>\n",
       "      <td>10165489824</td>\n",
       "      <td>jewelry, watch, clock, and silverware shops</td>\n",
       "      <td>4.40</td>\n",
       "      <td>b</td>\n",
       "      <td>jewelry watch clock and silverware shops</td>\n",
       "    </tr>\n",
       "    <tr>\n",
       "      <th>3</th>\n",
       "      <td>Ultricies Dignissim Lacus Foundation</td>\n",
       "      <td>10187291046</td>\n",
       "      <td>wAtch, clock, and jewelry repair shops</td>\n",
       "      <td>3.29</td>\n",
       "      <td>b</td>\n",
       "      <td>watch clock and jewelry repair shops</td>\n",
       "    </tr>\n",
       "    <tr>\n",
       "      <th>4</th>\n",
       "      <td>Enim Condimentum PC</td>\n",
       "      <td>10192359162</td>\n",
       "      <td>music shops - musical instruments, pianos, and...</td>\n",
       "      <td>6.33</td>\n",
       "      <td>a</td>\n",
       "      <td>music shops  musical instruments pianos and sh...</td>\n",
       "    </tr>\n",
       "  </tbody>\n",
       "</table>\n",
       "</div>"
      ],
      "text/plain": [
       "                          merchant_name  merchant_abn  \\\n",
       "0                         Felis Limited   10023283211   \n",
       "1              Arcu Ac Orci Corporation   10142254217   \n",
       "2                      Nunc Sed Company   10165489824   \n",
       "3  Ultricies Dignissim Lacus Foundation   10187291046   \n",
       "4                   Enim Condimentum PC   10192359162   \n",
       "\n",
       "                                          categories  take_rate  \\\n",
       "0  furniture, home furnishings and equipment shop...       0.18   \n",
       "1  cable, satellite, and otHer pay television and...       4.22   \n",
       "2        jewelry, watch, clock, and silverware shops       4.40   \n",
       "3             wAtch, clock, and jewelry repair shops       3.29   \n",
       "4  music shops - musical instruments, pianos, and...       6.33   \n",
       "\n",
       "  revenue_levels                                       cleaned_tags  \n",
       "0              e  furniture home furnishings and equipment shops...  \n",
       "1              b  cable satellite and other pay television and r...  \n",
       "2              b           jewelry watch clock and silverware shops  \n",
       "3              b               watch clock and jewelry repair shops  \n",
       "4              a  music shops  musical instruments pianos and sh...  "
      ]
     },
     "execution_count": 32,
     "metadata": {},
     "output_type": "execute_result"
    }
   ],
   "source": [
    "merchants.head()"
   ]
  },
  {
   "cell_type": "code",
   "execution_count": 33,
   "metadata": {},
   "outputs": [],
   "source": [
    "from sklearn.feature_extraction.text import CountVectorizer\n",
    "cv = CountVectorizer(max_df=0.95, min_df=2, stop_words='english')\n",
    "dtm = cv.fit_transform(merchants['cleaned_tags'])"
   ]
  },
  {
   "cell_type": "code",
   "execution_count": 34,
   "metadata": {},
   "outputs": [
    {
     "data": {
      "text/plain": [
       "5"
      ]
     },
     "execution_count": 34,
     "metadata": {},
     "output_type": "execute_result"
    }
   ],
   "source": [
    "categories_label = {0 : 'Furniture' , 1 : 'Toys and DIY', 2 : 'Beauty, Health, Personal and Household', 3 : 'Books, Stationary and Music', 4 : 'Electronics' }\n",
    "len(categories_label)"
   ]
  },
  {
   "cell_type": "code",
   "execution_count": 35,
   "metadata": {},
   "outputs": [
    {
     "name": "stderr",
     "output_type": "stream",
     "text": [
      "[Stage 324:================================================>      (59 + 8) / 67]\r"
     ]
    },
    {
     "name": "stdout",
     "output_type": "stream",
     "text": [
      "THE TOP 15 WORDS FOR TOPIC: FURNITURE\n",
      "['new', 'motor', 'stock', 'nursery', 'flowers', 'florists', 'home', 'furnishings', 'appliances', 'manufacturers', 'shoe', 'furniture', 'equipment', 'supplies', 'shops']\n",
      "\n",
      "\n",
      "THE TOP 15 WORDS FOR TOPIC: TOYS AND DIY\n",
      "['galleries', 'dealers', 'art', 'telecom', 'service', 'bicycle', 'repair', 'sales', 'artist', 'craft', 'supply', 'watch', 'clock', 'jewelry', 'shops']\n",
      "\n",
      "\n",
      "THE TOP 15 WORDS FOR TOPIC: BEAUTY, HEALTH, PERSONAL AND HOUSEHOLD\n",
      "['nurseries', 'books', 'periodicals', 'newspapers', 'beauty', 'health', 'spas', 'data', 'design', 'systems', 'processing', 'integrated', 'programming', 'computer', 'services']\n",
      "\n",
      "\n",
      "THE TOP 15 WORDS FOR TOPIC: BOOKS, STATIONARY AND MUSIC\n",
      "['printing', 'stationery', 'writing', 'instruments', 'pianos', 'musical', 'sheet', 'tent', 'awning', 'digital', 'movies', 'books', 'shops', 'goods', 'music']\n",
      "\n",
      "\n",
      "THE TOP 15 WORDS FOR TOPIC: ELECTRONICS\n",
      "['television', 'radio', 'cable', 'satellite', 'pay', 'equipment', 'computer', 'software', 'peripheral', 'computers', 'novelty', 'card', 'gift', 'souvenir', 'shops']\n",
      "\n",
      "\n"
     ]
    }
   ],
   "source": [
    "from sklearn.decomposition import LatentDirichletAllocation\n",
    "LDA = LatentDirichletAllocation(n_components=5,random_state=42)\n",
    "LDA.fit(dtm)\n",
    "for index,topic in enumerate(LDA.components_):\n",
    "    print(f'THE TOP 15 WORDS FOR TOPIC: {categories_label[index].upper()}')\n",
    "    print([cv.get_feature_names()[i] for i in topic.argsort()[-15:]])\n",
    "    print('\\n')"
   ]
  },
  {
   "cell_type": "code",
   "execution_count": 36,
   "metadata": {},
   "outputs": [
    {
     "data": {
      "text/html": [
       "<div>\n",
       "<style scoped>\n",
       "    .dataframe tbody tr th:only-of-type {\n",
       "        vertical-align: middle;\n",
       "    }\n",
       "\n",
       "    .dataframe tbody tr th {\n",
       "        vertical-align: top;\n",
       "    }\n",
       "\n",
       "    .dataframe thead th {\n",
       "        text-align: right;\n",
       "    }\n",
       "</style>\n",
       "<table border=\"1\" class=\"dataframe\">\n",
       "  <thead>\n",
       "    <tr style=\"text-align: right;\">\n",
       "      <th></th>\n",
       "      <th>merchant_name</th>\n",
       "      <th>merchant_abn</th>\n",
       "      <th>categories</th>\n",
       "      <th>take_rate</th>\n",
       "      <th>revenue_levels</th>\n",
       "      <th>cleaned_tags</th>\n",
       "      <th>store_type</th>\n",
       "    </tr>\n",
       "  </thead>\n",
       "  <tbody>\n",
       "    <tr>\n",
       "      <th>0</th>\n",
       "      <td>Felis Limited</td>\n",
       "      <td>10023283211</td>\n",
       "      <td>furniture, home furnishings and equipment shop...</td>\n",
       "      <td>0.18</td>\n",
       "      <td>e</td>\n",
       "      <td>furniture home furnishings and equipment shops...</td>\n",
       "      <td>0</td>\n",
       "    </tr>\n",
       "    <tr>\n",
       "      <th>1</th>\n",
       "      <td>Arcu Ac Orci Corporation</td>\n",
       "      <td>10142254217</td>\n",
       "      <td>cable, satellite, and otHer pay television and...</td>\n",
       "      <td>4.22</td>\n",
       "      <td>b</td>\n",
       "      <td>cable satellite and other pay television and r...</td>\n",
       "      <td>4</td>\n",
       "    </tr>\n",
       "    <tr>\n",
       "      <th>2</th>\n",
       "      <td>Nunc Sed Company</td>\n",
       "      <td>10165489824</td>\n",
       "      <td>jewelry, watch, clock, and silverware shops</td>\n",
       "      <td>4.40</td>\n",
       "      <td>b</td>\n",
       "      <td>jewelry watch clock and silverware shops</td>\n",
       "      <td>1</td>\n",
       "    </tr>\n",
       "    <tr>\n",
       "      <th>3</th>\n",
       "      <td>Ultricies Dignissim Lacus Foundation</td>\n",
       "      <td>10187291046</td>\n",
       "      <td>wAtch, clock, and jewelry repair shops</td>\n",
       "      <td>3.29</td>\n",
       "      <td>b</td>\n",
       "      <td>watch clock and jewelry repair shops</td>\n",
       "      <td>1</td>\n",
       "    </tr>\n",
       "    <tr>\n",
       "      <th>4</th>\n",
       "      <td>Enim Condimentum PC</td>\n",
       "      <td>10192359162</td>\n",
       "      <td>music shops - musical instruments, pianos, and...</td>\n",
       "      <td>6.33</td>\n",
       "      <td>a</td>\n",
       "      <td>music shops  musical instruments pianos and sh...</td>\n",
       "      <td>3</td>\n",
       "    </tr>\n",
       "    <tr>\n",
       "      <th>5</th>\n",
       "      <td>Fusce Company</td>\n",
       "      <td>10206519221</td>\n",
       "      <td>gift, card, novelty, and souvenir shops</td>\n",
       "      <td>6.34</td>\n",
       "      <td>a</td>\n",
       "      <td>gift card novelty and souvenir shops</td>\n",
       "      <td>4</td>\n",
       "    </tr>\n",
       "    <tr>\n",
       "      <th>6</th>\n",
       "      <td>Aliquam Enim Incorporated</td>\n",
       "      <td>10255988167</td>\n",
       "      <td>computers, comPUter peripheral equipment, and ...</td>\n",
       "      <td>4.32</td>\n",
       "      <td>b</td>\n",
       "      <td>computers computer peripheral equipment and so...</td>\n",
       "      <td>4</td>\n",
       "    </tr>\n",
       "    <tr>\n",
       "      <th>7</th>\n",
       "      <td>Ipsum Primis Ltd</td>\n",
       "      <td>10264435225</td>\n",
       "      <td>watch, clock, and jewelry repair shops</td>\n",
       "      <td>2.39</td>\n",
       "      <td>c</td>\n",
       "      <td>watch clock and jewelry repair shops</td>\n",
       "      <td>1</td>\n",
       "    </tr>\n",
       "    <tr>\n",
       "      <th>8</th>\n",
       "      <td>Pede Ultrices Industries</td>\n",
       "      <td>10279061213</td>\n",
       "      <td>computer programming , data processing, and in...</td>\n",
       "      <td>5.71</td>\n",
       "      <td>a</td>\n",
       "      <td>computer programming  data processing and inte...</td>\n",
       "      <td>2</td>\n",
       "    </tr>\n",
       "    <tr>\n",
       "      <th>9</th>\n",
       "      <td>Nunc Inc.</td>\n",
       "      <td>10323485998</td>\n",
       "      <td>furniture, home furnishings and equipment shop...</td>\n",
       "      <td>6.61</td>\n",
       "      <td>a</td>\n",
       "      <td>furniture home furnishings and equipment shops...</td>\n",
       "      <td>0</td>\n",
       "    </tr>\n",
       "  </tbody>\n",
       "</table>\n",
       "</div>"
      ],
      "text/plain": [
       "                          merchant_name  merchant_abn  \\\n",
       "0                         Felis Limited   10023283211   \n",
       "1              Arcu Ac Orci Corporation   10142254217   \n",
       "2                      Nunc Sed Company   10165489824   \n",
       "3  Ultricies Dignissim Lacus Foundation   10187291046   \n",
       "4                   Enim Condimentum PC   10192359162   \n",
       "5                         Fusce Company   10206519221   \n",
       "6             Aliquam Enim Incorporated   10255988167   \n",
       "7                      Ipsum Primis Ltd   10264435225   \n",
       "8              Pede Ultrices Industries   10279061213   \n",
       "9                             Nunc Inc.   10323485998   \n",
       "\n",
       "                                          categories  take_rate  \\\n",
       "0  furniture, home furnishings and equipment shop...       0.18   \n",
       "1  cable, satellite, and otHer pay television and...       4.22   \n",
       "2        jewelry, watch, clock, and silverware shops       4.40   \n",
       "3             wAtch, clock, and jewelry repair shops       3.29   \n",
       "4  music shops - musical instruments, pianos, and...       6.33   \n",
       "5            gift, card, novelty, and souvenir shops       6.34   \n",
       "6  computers, comPUter peripheral equipment, and ...       4.32   \n",
       "7             watch, clock, and jewelry repair shops       2.39   \n",
       "8  computer programming , data processing, and in...       5.71   \n",
       "9  furniture, home furnishings and equipment shop...       6.61   \n",
       "\n",
       "  revenue_levels                                       cleaned_tags  \\\n",
       "0              e  furniture home furnishings and equipment shops...   \n",
       "1              b  cable satellite and other pay television and r...   \n",
       "2              b           jewelry watch clock and silverware shops   \n",
       "3              b               watch clock and jewelry repair shops   \n",
       "4              a  music shops  musical instruments pianos and sh...   \n",
       "5              a               gift card novelty and souvenir shops   \n",
       "6              b  computers computer peripheral equipment and so...   \n",
       "7              c               watch clock and jewelry repair shops   \n",
       "8              a  computer programming  data processing and inte...   \n",
       "9              a  furniture home furnishings and equipment shops...   \n",
       "\n",
       "   store_type  \n",
       "0           0  \n",
       "1           4  \n",
       "2           1  \n",
       "3           1  \n",
       "4           3  \n",
       "5           4  \n",
       "6           4  \n",
       "7           1  \n",
       "8           2  \n",
       "9           0  "
      ]
     },
     "execution_count": 36,
     "metadata": {},
     "output_type": "execute_result"
    }
   ],
   "source": [
    "topic_results = LDA.transform(dtm)\n",
    "merchants['store_type'] = topic_results.argmax(axis=1)\n",
    "merchants.head(10)"
   ]
  },
  {
   "cell_type": "code",
   "execution_count": 37,
   "metadata": {},
   "outputs": [],
   "source": [
    "merchants['category'] = merchants['store_type'].map(categories_label)"
   ]
  },
  {
   "cell_type": "code",
   "execution_count": 38,
   "metadata": {},
   "outputs": [
    {
     "data": {
      "text/html": [
       "<div>\n",
       "<style scoped>\n",
       "    .dataframe tbody tr th:only-of-type {\n",
       "        vertical-align: middle;\n",
       "    }\n",
       "\n",
       "    .dataframe tbody tr th {\n",
       "        vertical-align: top;\n",
       "    }\n",
       "\n",
       "    .dataframe thead th {\n",
       "        text-align: right;\n",
       "    }\n",
       "</style>\n",
       "<table border=\"1\" class=\"dataframe\">\n",
       "  <thead>\n",
       "    <tr style=\"text-align: right;\">\n",
       "      <th></th>\n",
       "      <th>merchant_name</th>\n",
       "      <th>merchant_abn</th>\n",
       "      <th>categories</th>\n",
       "      <th>take_rate</th>\n",
       "      <th>revenue_levels</th>\n",
       "      <th>cleaned_tags</th>\n",
       "      <th>store_type</th>\n",
       "      <th>category</th>\n",
       "    </tr>\n",
       "  </thead>\n",
       "  <tbody>\n",
       "    <tr>\n",
       "      <th>0</th>\n",
       "      <td>Felis Limited</td>\n",
       "      <td>10023283211</td>\n",
       "      <td>furniture, home furnishings and equipment shop...</td>\n",
       "      <td>0.18</td>\n",
       "      <td>e</td>\n",
       "      <td>furniture home furnishings and equipment shops...</td>\n",
       "      <td>0</td>\n",
       "      <td>Furniture</td>\n",
       "    </tr>\n",
       "    <tr>\n",
       "      <th>1</th>\n",
       "      <td>Arcu Ac Orci Corporation</td>\n",
       "      <td>10142254217</td>\n",
       "      <td>cable, satellite, and otHer pay television and...</td>\n",
       "      <td>4.22</td>\n",
       "      <td>b</td>\n",
       "      <td>cable satellite and other pay television and r...</td>\n",
       "      <td>4</td>\n",
       "      <td>Electronics</td>\n",
       "    </tr>\n",
       "    <tr>\n",
       "      <th>2</th>\n",
       "      <td>Nunc Sed Company</td>\n",
       "      <td>10165489824</td>\n",
       "      <td>jewelry, watch, clock, and silverware shops</td>\n",
       "      <td>4.40</td>\n",
       "      <td>b</td>\n",
       "      <td>jewelry watch clock and silverware shops</td>\n",
       "      <td>1</td>\n",
       "      <td>Toys and DIY</td>\n",
       "    </tr>\n",
       "    <tr>\n",
       "      <th>3</th>\n",
       "      <td>Ultricies Dignissim Lacus Foundation</td>\n",
       "      <td>10187291046</td>\n",
       "      <td>wAtch, clock, and jewelry repair shops</td>\n",
       "      <td>3.29</td>\n",
       "      <td>b</td>\n",
       "      <td>watch clock and jewelry repair shops</td>\n",
       "      <td>1</td>\n",
       "      <td>Toys and DIY</td>\n",
       "    </tr>\n",
       "    <tr>\n",
       "      <th>4</th>\n",
       "      <td>Enim Condimentum PC</td>\n",
       "      <td>10192359162</td>\n",
       "      <td>music shops - musical instruments, pianos, and...</td>\n",
       "      <td>6.33</td>\n",
       "      <td>a</td>\n",
       "      <td>music shops  musical instruments pianos and sh...</td>\n",
       "      <td>3</td>\n",
       "      <td>Books, Stationary and Music</td>\n",
       "    </tr>\n",
       "  </tbody>\n",
       "</table>\n",
       "</div>"
      ],
      "text/plain": [
       "                          merchant_name  merchant_abn  \\\n",
       "0                         Felis Limited   10023283211   \n",
       "1              Arcu Ac Orci Corporation   10142254217   \n",
       "2                      Nunc Sed Company   10165489824   \n",
       "3  Ultricies Dignissim Lacus Foundation   10187291046   \n",
       "4                   Enim Condimentum PC   10192359162   \n",
       "\n",
       "                                          categories  take_rate  \\\n",
       "0  furniture, home furnishings and equipment shop...       0.18   \n",
       "1  cable, satellite, and otHer pay television and...       4.22   \n",
       "2        jewelry, watch, clock, and silverware shops       4.40   \n",
       "3             wAtch, clock, and jewelry repair shops       3.29   \n",
       "4  music shops - musical instruments, pianos, and...       6.33   \n",
       "\n",
       "  revenue_levels                                       cleaned_tags  \\\n",
       "0              e  furniture home furnishings and equipment shops...   \n",
       "1              b  cable satellite and other pay television and r...   \n",
       "2              b           jewelry watch clock and silverware shops   \n",
       "3              b               watch clock and jewelry repair shops   \n",
       "4              a  music shops  musical instruments pianos and sh...   \n",
       "\n",
       "   store_type                     category  \n",
       "0           0                    Furniture  \n",
       "1           4                  Electronics  \n",
       "2           1                 Toys and DIY  \n",
       "3           1                 Toys and DIY  \n",
       "4           3  Books, Stationary and Music  "
      ]
     },
     "execution_count": 38,
     "metadata": {},
     "output_type": "execute_result"
    }
   ],
   "source": [
    "merchants.head()"
   ]
  },
  {
   "cell_type": "markdown",
   "metadata": {},
   "source": [
    "# Ranking models "
   ]
  },
  {
   "cell_type": "code",
   "execution_count": 43,
   "metadata": {},
   "outputs": [
    {
     "name": "stdout",
     "output_type": "stream",
     "text": [
      "Ranking for  Furniture category: \n",
      "Rank  1 :  Nullam Nisl Institute\n",
      "Rank  2 :  Tristique Neque Venenatis Associates\n",
      "Rank  3 :  Mi Associates\n",
      "Rank  4 :  Nunc Nulla Corporation\n",
      "Rank  5 :  Duis Foundation\n",
      "Rank  6 :  Pede Cras LLP\n",
      "Rank  7 :  Vitae Nibh Donec Institute\n",
      "Rank  8 :  Morbi Sit Corporation\n",
      "Rank  9 :  Blandit Mattis Company\n",
      "Rank  10 :  Montes Nascetur Ridiculus Ltd\n",
      "\n",
      "\n",
      "Ranking for  Electronics category: \n",
      "Rank  1 :  Sed Nec Corp.\n",
      "Rank  2 :  Egestas Limited\n",
      "Rank  3 :  Nulla Integer Vulputate PC\n",
      "Rank  4 :  Euismod Corporation\n",
      "Rank  5 :  Auctor Non Incorporated\n",
      "Rank  6 :  Id Limited\n",
      "Rank  7 :  Duis A LLP\n",
      "Rank  8 :  Aliquet Molestie Tellus Company\n",
      "Rank  9 :  Non Egestas LLP\n",
      "Rank  10 :  Ipsum Leo Consulting\n",
      "\n",
      "\n",
      "Ranking for  Toys and DIY category: \n",
      "Rank  1 :  Ipsum Company\n",
      "Rank  2 :  Arcu Corporation\n",
      "Rank  3 :  Pede Inc.\n",
      "Rank  4 :  Fusce Mollis Duis Corp.\n",
      "Rank  5 :  Duis At Inc.\n",
      "Rank  6 :  Sapien Aenean Inc.\n",
      "Rank  7 :  Libero At LLC\n",
      "Rank  8 :  Et Magnis Corp.\n",
      "Rank  9 :  Pellentesque Tincidunt Ltd\n",
      "Rank  10 :  Lacus Quisque Industries\n",
      "\n",
      "\n",
      "Ranking for  Books, Stationary and Music category: \n",
      "Rank  1 :  Per Conubia Nostra Ltd\n",
      "Rank  2 :  Vivamus Nisi Mauris Corp.\n",
      "Rank  3 :  Curabitur Ut Industries\n",
      "Rank  4 :  Pharetra Nam Ac Limited\n",
      "Rank  5 :  Penatibus Et Ltd\n",
      "Rank  6 :  Sed Dolor Inc.\n",
      "Rank  7 :  Risus Associates\n",
      "Rank  8 :  Et Eros Inc.\n",
      "Rank  9 :  Neque Company\n",
      "Rank  10 :  Euismod Et Institute\n",
      "\n",
      "\n",
      "Ranking for  Beauty, Health, Personal and Household category: \n",
      "Rank  1 :  Erat Vivamus Limited\n",
      "Rank  2 :  Diam Sed Inc.\n",
      "Rank  3 :  Neque Associates\n",
      "Rank  4 :  Nunc Risus Company\n",
      "Rank  5 :  Feugiat Lorem Incorporated\n",
      "Rank  6 :  Pellentesque Tellus Associates\n",
      "Rank  7 :  Et Associates\n",
      "Rank  8 :  Quisque Purus LLC\n",
      "Rank  9 :  Mattis Semper Dui Foundation\n",
      "Rank  10 :  Nunc Ullamcorper Velit Corporation\n",
      "\n",
      "\n"
     ]
    }
   ],
   "source": [
    "# take list of values as weights for fraud, transactions, revenue, customer, take rate\n",
    "%run '../models/ranking_model.py' -10,1,4,2,3"
   ]
  },
  {
   "cell_type": "code",
   "execution_count": null,
   "metadata": {},
   "outputs": [],
   "source": []
  }
 ],
 "metadata": {
  "kernelspec": {
   "display_name": "Python 3.9.12 ('base')",
   "language": "python",
   "name": "python3"
  },
  "language_info": {
   "codemirror_mode": {
    "name": "ipython",
    "version": 3
   },
   "file_extension": ".py",
   "mimetype": "text/x-python",
   "name": "python",
   "nbconvert_exporter": "python",
   "pygments_lexer": "ipython3",
   "version": "3.9.12"
  },
  "vscode": {
   "interpreter": {
    "hash": "afcda84b7471a9b9fde108a34f159f021985318d3feb99cad4970c959fa9ac9e"
   }
  }
 },
 "nbformat": 4,
 "nbformat_minor": 5
}
