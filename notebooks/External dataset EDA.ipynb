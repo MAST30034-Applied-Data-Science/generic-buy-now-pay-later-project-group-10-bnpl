{
 "cells": [
  {
   "cell_type": "code",
   "execution_count": 53,
   "metadata": {},
   "outputs": [
    {
     "name": "stderr",
     "output_type": "stream",
     "text": [
      "/Users/Kasturi/opt/anaconda3/lib/python3.9/site-packages/geopandas/_compat.py:112: UserWarning: The Shapely GEOS version (3.10.2-CAPI-1.16.0) is incompatible with the GEOS version PyGEOS was compiled with (3.10.1-CAPI-1.16.0). Conversions between both will be slow.\n",
      "  warnings.warn(\n"
     ]
    }
   ],
   "source": [
    "from pyspark.sql import SparkSession\n",
    "from pyspark.sql.types import LongType\n",
    "from pyspark.sql import functions as F\n",
    "from pyspark.sql.functions import date_format\n",
    "from pyspark.sql import SparkSession, functions as F\n",
    "from pyspark.sql.functions import isnan, when, count, col\n",
    "import pandas as pd\n",
    "from urllib.request import urlretrieve\n",
    "from zipfile import ZipFile\n",
    "# Import libraries \n",
    "\n",
    "from pyspark.sql import SparkSession, functions as F\n",
    "from pyspark.sql.functions import isnan, when, count, col\n",
    "import pandas as pd\n",
    "import geopandas as gpd\n",
    "import folium\n",
    "from chart_studio import plotly as py\n",
    "import plotly.graph_objs as go\n",
    "import statsmodels.api as sm\n",
    "from statsmodels.formula.api import ols\n",
    "import matplotlib\n",
    "import matplotlib.pyplot as plt\n",
    "import seaborn as sns\n",
    "from matplotlib.lines import Line2D\n",
    "import os"
   ]
  },
  {
   "cell_type": "code",
   "execution_count": 1,
   "metadata": {},
   "outputs": [
    {
     "name": "stdout",
     "output_type": "stream",
     "text": [
      "22/09/11 20:34:51 WARN Utils: Your hostname, MacBook-Air-3.local resolves to a loopback address: 127.0.0.1; using 192.168.0.66 instead (on interface en0)\n",
      "22/09/11 20:34:51 WARN Utils: Set SPARK_LOCAL_IP if you need to bind to another address\n"
     ]
    },
    {
     "name": "stderr",
     "output_type": "stream",
     "text": [
      "Setting default log level to \"WARN\".\n",
      "To adjust logging level use sc.setLogLevel(newLevel). For SparkR, use setLogLevel(newLevel).\n"
     ]
    },
    {
     "name": "stdout",
     "output_type": "stream",
     "text": [
      "22/09/11 20:34:51 WARN NativeCodeLoader: Unable to load native-hadoop library for your platform... using builtin-java classes where applicable\n"
     ]
    }
   ],
   "source": [
    "\n",
    "#--------------------------------------------------------------------------------------------\n",
    "# Create a spark session\n",
    "spark = (\n",
    "    SparkSession.builder.appName(\"MAST30034 Project 2\")\n",
    "    .config(\"spark.sql.repl.eagerEval.enabled\", True) \n",
    "    .config(\"spark.sql.parquet.cacheMetadata\", \"true\")\n",
    "    .config(\"spark.sql.session.timeZone\", \"Etc/UTC\")\n",
    "    .config(\"spark.driver.memory\", \"10g\")\n",
    "    .getOrCreate()\n",
    ")"
   ]
  },
  {
   "cell_type": "code",
   "execution_count": 48,
   "metadata": {},
   "outputs": [],
   "source": [
    "exchange_rates = spark.read.csv(\"../data/exchange_rates.csv\")\n",
    "inflation = spark.read.csv(\"../data/inflation.csv\")\n",
    "merch_fees = spark.read.csv(\"../data/merch_fees.csv\")\n",
    "covid = spark.read.csv(\"../data/covid.csv\", header=True)"
   ]
  },
  {
   "cell_type": "code",
   "execution_count": 49,
   "metadata": {},
   "outputs": [
    {
     "name": "stdout",
     "output_type": "stream",
     "text": [
      "+----------+--------------------+------------+---------+------+-----+---------+---------+----+---+----+--------+\n",
      "|      date|               state|state_abbrev|confirmed|deaths|tests|positives|recovered|hosp|icu|vent|vaccines|\n",
      "+----------+--------------------+------------+---------+------+-----+---------+---------+----+---+----+--------+\n",
      "|2020-01-25|Australian Capita...|         ACT|        0|     0|    0|        0|        0|   0|  0|   0|       0|\n",
      "|2020-01-25|     New South Wales|         NSW|        3|     0|    0|        3|        0|   0|  0|   0|       0|\n",
      "|2020-01-25|  Northern Territory|          NT|        0|     0|    0|        0|        0|   0|  0|   0|       0|\n",
      "|2020-01-25|          Queensland|         QLD|        0|     0|    0|        0|        0|   0|  0|   0|       0|\n",
      "|2020-01-25|     South Australia|          SA|        0|     0|    0|        0|        0|   0|  0|   0|       0|\n",
      "+----------+--------------------+------------+---------+------+-----+---------+---------+----+---+----+--------+\n",
      "only showing top 5 rows\n",
      "\n"
     ]
    }
   ],
   "source": [
    "covid.show(5)"
   ]
  },
  {
   "cell_type": "code",
   "execution_count": 11,
   "metadata": {},
   "outputs": [],
   "source": [
    "data = spark.read.parquet(\"../data/tables/full_join.parquet\")"
   ]
  },
  {
   "cell_type": "code",
   "execution_count": 12,
   "metadata": {},
   "outputs": [
    {
     "name": "stdout",
     "output_type": "stream",
     "text": [
      "+-------------+------------+--------------------+---------+--------------+---------------+--------------------+-----+--------+------+------------------+------------------+--------------------+--------------+-------+-----------+\n",
      "|merchant_name|merchant_abn|          categories|take_rate|revenue_levels|           name|             address|state|postcode|gender|trans_merchant_abn|      dollar_value|            order_id|order_datetime|user_id|consumer_id|\n",
      "+-------------+------------+--------------------+---------+--------------+---------------+--------------------+-----+--------+------+------------------+------------------+--------------------+--------------+-------+-----------+\n",
      "|Felis Limited| 10023283211|furniture, home f...|     0.18|             e|      Todd Long|883 Patty Mountai...|  NSW|    2021|  Male|       10023283211| 212.8573179553598|2430fff1-36c1-483...|    2021-05-02|   3471|        551|\n",
      "|Felis Limited| 10023283211|furniture, home f...|     0.18|             e|  Adrian Miller|9377 Douglas Inle...|   SA|    5572|  Male|       10023283211|149.56486309776136|a9279ab4-0434-458...|    2021-08-16|    895|       3105|\n",
      "|Felis Limited| 10023283211|furniture, home f...|     0.18|             e|Roberto Robbins|3146 Eric Turnpik...|  NSW|    2396|  Male|       10023283211| 74.68707218671928|b36e56d0-dbb2-479...|    2021-08-11|  23679|       6664|\n",
      "|Felis Limited| 10023283211|furniture, home f...|     0.18|             e|      Jose Frye|394 Matthews View...|  NSW|    2021|  Male|       10023283211|191.63853773963905|376cc026-5d91-498...|    2021-07-04|   5156|      19115|\n",
      "|Felis Limited| 10023283211|furniture, home f...|     0.18|             e|   Robert Perez|76552 Salazar Mea...|   WA|    6956|  Male|       10023283211| 423.2649125380065|bc06cb63-5f2d-471...|    2021-06-15|    681|      30312|\n",
      "+-------------+------------+--------------------+---------+--------------+---------------+--------------------+-----+--------+------+------------------+------------------+--------------------+--------------+-------+-----------+\n",
      "only showing top 5 rows\n",
      "\n"
     ]
    },
    {
     "name": "stderr",
     "output_type": "stream",
     "text": [
      "                                                                                \r"
     ]
    }
   ],
   "source": [
    "data.show(5)"
   ]
  },
  {
   "cell_type": "code",
   "execution_count": 13,
   "metadata": {},
   "outputs": [
    {
     "name": "stdout",
     "output_type": "stream",
     "text": [
      "+--------------------+\n",
      "|       merchant_name|\n",
      "+--------------------+\n",
      "|      Amet Nulla Ltd|\n",
      "|Volutpat Nulla In...|\n",
      "|   Pede Praesent Ltd|\n",
      "|Etiam Bibendum In...|\n",
      "|Magna Ut Incorpor...|\n",
      "|Faucibus Leo In C...|\n",
      "|Varius Et Associates|\n",
      "|Tellus Imperdiet ...|\n",
      "|Molestie Tellus F...|\n",
      "|Class Aptent Taci...|\n",
      "|Placerat Orci Ass...|\n",
      "|Vitae Purus Gravi...|\n",
      "|    Dictum Magna Ltd|\n",
      "|Sed Leo Cras Inco...|\n",
      "|    Dui Incorporated|\n",
      "|        Et Pede Inc.|\n",
      "| Sagittis Associates|\n",
      "|Ante Nunc Mauris ...|\n",
      "|Imperdiet Ullamco...|\n",
      "|     Ut Molestie LLP|\n",
      "+--------------------+\n",
      "only showing top 20 rows\n",
      "\n"
     ]
    }
   ],
   "source": [
    "data.createOrReplaceTempView(\"temp\")\n",
    "\n",
    "a = spark.sql(\"\"\" \n",
    "\n",
    "SELECT DISTINCT(merchant_name)\n",
    "FROM temp\n",
    "\n",
    "\"\"\")\n",
    "\n",
    "a.show()"
   ]
  },
  {
   "cell_type": "code",
   "execution_count": 56,
   "metadata": {},
   "outputs": [],
   "source": [
    "# Code adapted from MAST30034 Tutorial 1\n",
    "# from the current `tute_1` directory, go back two levels to the `MAST30034` directory\n",
    "output_relative_dir = '../data/'\n",
    "\n",
    "# check if it exists as it makedir will raise an error if it does exist\n",
    "if not os.path.exists(output_relative_dir):\n",
    "    os.makedirs(output_relative_dir)\n",
    "\n",
    "# Define the directory names\n",
    "dirs = ['SA2_boundaries', 'SA2_total_population', 'SA2_income', 'SA2_census']\n",
    "\n",
    "# now, for each type of data set we will need, we will create the paths\n",
    "for target_dir in dirs: # taxi_zones should already exist\n",
    "    if not os.path.exists(output_relative_dir + target_dir):\n",
    "        os.makedirs(output_relative_dir + target_dir)"
   ]
  },
  {
   "cell_type": "code",
   "execution_count": 57,
   "metadata": {},
   "outputs": [],
   "source": [
    "SA2_URL_ZIP = \"https://www.abs.gov.au/statistics/standards/australian-statistical-geography-standard-asgs-edition-3/jul2021-jun2026/access-and-downloads/digital-boundary-files/SA2_2021_AUST_SHP_GDA2020.zip\"\n",
    "\n",
    "# Define the file names\n",
    "output_zip = \"../data/SA2_boundaries/SA2.zip\"\n",
    "\n",
    "# Download the data\n",
    "urlretrieve(SA2_URL_ZIP, output_zip)\n",
    "\n",
    "\n",
    "# Extracting the zip file of the geospatial data\n",
    "\n",
    "# specifying the zip file name\n",
    "file_name = \"../data/SA2_boundaries/SA2.zip\"\n",
    "  \n",
    "# opening the zip file in READ mode\n",
    "with ZipFile(file_name, 'r') as zip:\n",
    "    # extracting all the files\n",
    "    zip.extractall(path = \"../data/SA2_boundaries/\")"
   ]
  },
  {
   "cell_type": "code",
   "execution_count": 163,
   "metadata": {},
   "outputs": [],
   "source": [
    "boundaries = spark.read.parquet(\"../data/SA2_district_boundaries_cleaned.parquet\")"
   ]
  },
  {
   "cell_type": "code",
   "execution_count": 164,
   "metadata": {},
   "outputs": [
    {
     "name": "stderr",
     "output_type": "stream",
     "text": [
      "                                                                                \r"
     ]
    },
    {
     "name": "stdout",
     "output_type": "stream",
     "text": [
      "+----------+--------------------+----------+-----------+----------+---------------+----------+--------------+----------+-----------+----------+---------------+----------+----------+----------+--------------------+--------------------+-----------------+\n",
      "|SA2_CODE21|          SA2_NAME21|CHG_FLAG21|  CHG_LBL21|SA3_CODE21|     SA3_NAME21|SA4_CODE21|    SA4_NAME21|GCC_CODE21| GCC_NAME21|STE_CODE21|     STE_NAME21|AUS_CODE21|AUS_NAME21|AREASQKM21|          LOCI_URI21|            geometry|__index_level_0__|\n",
      "+----------+--------------------+----------+-----------+----------+---------------+----------+--------------+----------+-----------+----------+---------------+----------+----------+----------+--------------------+--------------------+-----------------+\n",
      "| 101021007|           Braidwood|         0|  No change|     10102|     Queanbeyan|       101|Capital Region|     1RNSW|Rest of NSW|         1|New South Wales|       AUS| Australia| 3418.3525|http://linked.dat...|[01 03 00 00 00 0...|                0|\n",
      "| 101021008|             Karabar|         0|  No change|     10102|     Queanbeyan|       101|Capital Region|     1RNSW|Rest of NSW|         1|New South Wales|       AUS| Australia|    6.9825|http://linked.dat...|[01 03 00 00 00 0...|                1|\n",
      "| 101021009|          Queanbeyan|         0|  No change|     10102|     Queanbeyan|       101|Capital Region|     1RNSW|Rest of NSW|         1|New South Wales|       AUS| Australia|     4.762|http://linked.dat...|[01 03 00 00 00 0...|                2|\n",
      "| 101021010|   Queanbeyan - East|         0|  No change|     10102|     Queanbeyan|       101|Capital Region|     1RNSW|Rest of NSW|         1|New South Wales|       AUS| Australia|   13.0032|http://linked.dat...|[01 03 00 00 00 0...|                3|\n",
      "| 101021012|Queanbeyan West -...|         0|  No change|     10102|     Queanbeyan|       101|Capital Region|     1RNSW|Rest of NSW|         1|New South Wales|       AUS| Australia|   13.6748|http://linked.dat...|[01 03 00 00 00 0...|                4|\n",
      "| 101021610|             Googong|         1|        New|     10102|     Queanbeyan|       101|Capital Region|     1RNSW|Rest of NSW|         1|New South Wales|       AUS| Australia|    6.9164|http://linked.dat...|[01 03 00 00 00 0...|                5|\n",
      "| 101021611|Queanbeyan Surrounds|         1|        New|     10102|     Queanbeyan|       101|Capital Region|     1RNSW|Rest of NSW|         1|New South Wales|       AUS| Australia| 3047.7057|http://linked.dat...|[01 03 00 00 00 0...|                6|\n",
      "| 101031013|             Bombala|         0|  No change|     10103|Snowy Mountains|       101|Capital Region|     1RNSW|Rest of NSW|         1|New South Wales|       AUS| Australia|  3990.144|http://linked.dat...|[01 03 00 00 00 0...|                7|\n",
      "| 101031014|               Cooma|         0|  No change|     10103|Snowy Mountains|       101|Capital Region|     1RNSW|Rest of NSW|         1|New South Wales|       AUS| Australia|  103.6371|http://linked.dat...|[01 03 00 00 00 0...|                8|\n",
      "| 101031015|     Cooma Surrounds|         3|Name change|     10103|Snowy Mountains|       101|Capital Region|     1RNSW|Rest of NSW|         1|New South Wales|       AUS| Australia| 6251.0158|http://linked.dat...|[01 03 00 00 00 0...|                9|\n",
      "| 101031016|Jindabyne - Berri...|         0|  No change|     10103|Snowy Mountains|       101|Capital Region|     1RNSW|Rest of NSW|         1|New South Wales|       AUS| Australia| 3939.7888|http://linked.dat...|[01 03 00 00 00 0...|               10|\n",
      "| 101041017|        Batemans Bay|         0|  No change|     10104|    South Coast|       101|Capital Region|     1RNSW|Rest of NSW|         1|New South Wales|       AUS| Australia|   63.7073|http://linked.dat...|[01 03 00 00 00 0...|               11|\n",
      "| 101041018|Batemans Bay - South|         0|  No change|     10104|    South Coast|       101|Capital Region|     1RNSW|Rest of NSW|         1|New South Wales|       AUS| Australia|   30.5948|http://linked.dat...|[01 06 00 00 00 0...|               12|\n",
      "| 101041019|       Bega - Tathra|         0|  No change|     10104|    South Coast|       101|Capital Region|     1RNSW|Rest of NSW|         1|New South Wales|       AUS| Australia|  183.8984|http://linked.dat...|[01 06 00 00 00 0...|               13|\n",
      "| 101041020|Bega-Eden Hinterland|         0|  No change|     10104|    South Coast|       101|Capital Region|     1RNSW|Rest of NSW|         1|New South Wales|       AUS| Australia| 4709.8265|http://linked.dat...|[01 06 00 00 00 1...|               14|\n",
      "| 101041021|   Broulee - Tomakin|         0|  No change|     10104|    South Coast|       101|Capital Region|     1RNSW|Rest of NSW|         1|New South Wales|       AUS| Australia|   24.2329|http://linked.dat...|[01 06 00 00 00 0...|               15|\n",
      "| 101041022|   Deua - Wadbilliga|         0|  No change|     10104|    South Coast|       101|Capital Region|     1RNSW|Rest of NSW|         1|New South Wales|       AUS| Australia| 2781.9988|http://linked.dat...|[01 03 00 00 00 0...|               16|\n",
      "| 101041023|                Eden|         0|  No change|     10104|    South Coast|       101|Capital Region|     1RNSW|Rest of NSW|         1|New South Wales|       AUS| Australia|   94.8138|http://linked.dat...|[01 06 00 00 00 0...|               17|\n",
      "| 101041024|Eurobodalla Hinte...|         0|  No change|     10104|    South Coast|       101|Capital Region|     1RNSW|Rest of NSW|         1|New South Wales|       AUS| Australia| 1460.0118|http://linked.dat...|[01 06 00 00 00 0...|               18|\n",
      "| 101041025|Merimbula - Tura ...|         0|  No change|     10104|    South Coast|       101|Capital Region|     1RNSW|Rest of NSW|         1|New South Wales|       AUS| Australia|   97.3395|http://linked.dat...|[01 06 00 00 00 0...|               19|\n",
      "+----------+--------------------+----------+-----------+----------+---------------+----------+--------------+----------+-----------+----------+---------------+----------+----------+----------+--------------------+--------------------+-----------------+\n",
      "only showing top 20 rows\n",
      "\n"
     ]
    }
   ],
   "source": [
    "boundaries.show()"
   ]
  },
  {
   "cell_type": "code",
   "execution_count": null,
   "metadata": {},
   "outputs": [],
   "source": []
  }
 ],
 "metadata": {
  "kernelspec": {
   "display_name": "Python 3.9.12 ('base')",
   "language": "python",
   "name": "python3"
  },
  "language_info": {
   "codemirror_mode": {
    "name": "ipython",
    "version": 3
   },
   "file_extension": ".py",
   "mimetype": "text/x-python",
   "name": "python",
   "nbconvert_exporter": "python",
   "pygments_lexer": "ipython3",
   "version": "3.9.12"
  },
  "orig_nbformat": 4,
  "vscode": {
   "interpreter": {
    "hash": "afcda84b7471a9b9fde108a34f159f021985318d3feb99cad4970c959fa9ac9e"
   }
  }
 },
 "nbformat": 4,
 "nbformat_minor": 2
}
