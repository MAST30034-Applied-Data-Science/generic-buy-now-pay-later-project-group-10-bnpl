{
 "cells": [
  {
   "cell_type": "code",
   "execution_count": 28,
   "metadata": {},
   "outputs": [],
   "source": [
    "from pyspark.sql import SparkSession\n",
    "from pyspark.sql.types import LongType\n",
    "from pyspark.sql import functions as F\n",
    "from pyspark.sql.functions import date_format\n",
    "from pyspark.sql import SparkSession, functions as F\n",
    "from pyspark.sql.functions import isnan, when, count, col\n",
    "import pandas as pd\n",
    "from urllib.request import urlretrieve\n",
    "import os"
   ]
  },
  {
   "cell_type": "code",
   "execution_count": 1,
   "metadata": {},
   "outputs": [
    {
     "name": "stdout",
     "output_type": "stream",
     "text": [
      "22/09/11 20:34:51 WARN Utils: Your hostname, MacBook-Air-3.local resolves to a loopback address: 127.0.0.1; using 192.168.0.66 instead (on interface en0)\n",
      "22/09/11 20:34:51 WARN Utils: Set SPARK_LOCAL_IP if you need to bind to another address\n"
     ]
    },
    {
     "name": "stderr",
     "output_type": "stream",
     "text": [
      "Setting default log level to \"WARN\".\n",
      "To adjust logging level use sc.setLogLevel(newLevel). For SparkR, use setLogLevel(newLevel).\n"
     ]
    },
    {
     "name": "stdout",
     "output_type": "stream",
     "text": [
      "22/09/11 20:34:51 WARN NativeCodeLoader: Unable to load native-hadoop library for your platform... using builtin-java classes where applicable\n"
     ]
    }
   ],
   "source": [
    "\n",
    "#--------------------------------------------------------------------------------------------\n",
    "# Create a spark session\n",
    "spark = (\n",
    "    SparkSession.builder.appName(\"MAST30034 Project 2\")\n",
    "    .config(\"spark.sql.repl.eagerEval.enabled\", True) \n",
    "    .config(\"spark.sql.parquet.cacheMetadata\", \"true\")\n",
    "    .config(\"spark.sql.session.timeZone\", \"Etc/UTC\")\n",
    "    .config(\"spark.driver.memory\", \"10g\")\n",
    "    .getOrCreate()\n",
    ")"
   ]
  },
  {
   "cell_type": "code",
   "execution_count": 48,
   "metadata": {},
   "outputs": [],
   "source": [
    "exchange_rates = spark.read.csv(\"../data/exchange_rates.csv\")\n",
    "inflation = spark.read.csv(\"../data/inflation.csv\")\n",
    "merch_fees = spark.read.csv(\"../data/merch_fees.csv\")\n",
    "covid = spark.read.csv(\"../data/covid.csv\", header=True)"
   ]
  },
  {
   "cell_type": "code",
   "execution_count": 49,
   "metadata": {},
   "outputs": [
    {
     "name": "stdout",
     "output_type": "stream",
     "text": [
      "+----------+--------------------+------------+---------+------+-----+---------+---------+----+---+----+--------+\n",
      "|      date|               state|state_abbrev|confirmed|deaths|tests|positives|recovered|hosp|icu|vent|vaccines|\n",
      "+----------+--------------------+------------+---------+------+-----+---------+---------+----+---+----+--------+\n",
      "|2020-01-25|Australian Capita...|         ACT|        0|     0|    0|        0|        0|   0|  0|   0|       0|\n",
      "|2020-01-25|     New South Wales|         NSW|        3|     0|    0|        3|        0|   0|  0|   0|       0|\n",
      "|2020-01-25|  Northern Territory|          NT|        0|     0|    0|        0|        0|   0|  0|   0|       0|\n",
      "|2020-01-25|          Queensland|         QLD|        0|     0|    0|        0|        0|   0|  0|   0|       0|\n",
      "|2020-01-25|     South Australia|          SA|        0|     0|    0|        0|        0|   0|  0|   0|       0|\n",
      "+----------+--------------------+------------+---------+------+-----+---------+---------+----+---+----+--------+\n",
      "only showing top 5 rows\n",
      "\n"
     ]
    }
   ],
   "source": [
    "covid.show(5)"
   ]
  },
  {
   "cell_type": "code",
   "execution_count": 11,
   "metadata": {},
   "outputs": [],
   "source": [
    "data = spark.read.parquet(\"../data/tables/full_join.parquet\")"
   ]
  },
  {
   "cell_type": "code",
   "execution_count": 12,
   "metadata": {},
   "outputs": [
    {
     "name": "stdout",
     "output_type": "stream",
     "text": [
      "+-------------+------------+--------------------+---------+--------------+---------------+--------------------+-----+--------+------+------------------+------------------+--------------------+--------------+-------+-----------+\n",
      "|merchant_name|merchant_abn|          categories|take_rate|revenue_levels|           name|             address|state|postcode|gender|trans_merchant_abn|      dollar_value|            order_id|order_datetime|user_id|consumer_id|\n",
      "+-------------+------------+--------------------+---------+--------------+---------------+--------------------+-----+--------+------+------------------+------------------+--------------------+--------------+-------+-----------+\n",
      "|Felis Limited| 10023283211|furniture, home f...|     0.18|             e|      Todd Long|883 Patty Mountai...|  NSW|    2021|  Male|       10023283211| 212.8573179553598|2430fff1-36c1-483...|    2021-05-02|   3471|        551|\n",
      "|Felis Limited| 10023283211|furniture, home f...|     0.18|             e|  Adrian Miller|9377 Douglas Inle...|   SA|    5572|  Male|       10023283211|149.56486309776136|a9279ab4-0434-458...|    2021-08-16|    895|       3105|\n",
      "|Felis Limited| 10023283211|furniture, home f...|     0.18|             e|Roberto Robbins|3146 Eric Turnpik...|  NSW|    2396|  Male|       10023283211| 74.68707218671928|b36e56d0-dbb2-479...|    2021-08-11|  23679|       6664|\n",
      "|Felis Limited| 10023283211|furniture, home f...|     0.18|             e|      Jose Frye|394 Matthews View...|  NSW|    2021|  Male|       10023283211|191.63853773963905|376cc026-5d91-498...|    2021-07-04|   5156|      19115|\n",
      "|Felis Limited| 10023283211|furniture, home f...|     0.18|             e|   Robert Perez|76552 Salazar Mea...|   WA|    6956|  Male|       10023283211| 423.2649125380065|bc06cb63-5f2d-471...|    2021-06-15|    681|      30312|\n",
      "+-------------+------------+--------------------+---------+--------------+---------------+--------------------+-----+--------+------+------------------+------------------+--------------------+--------------+-------+-----------+\n",
      "only showing top 5 rows\n",
      "\n"
     ]
    },
    {
     "name": "stderr",
     "output_type": "stream",
     "text": [
      "                                                                                \r"
     ]
    }
   ],
   "source": [
    "data.show(5)"
   ]
  },
  {
   "cell_type": "code",
   "execution_count": 13,
   "metadata": {},
   "outputs": [
    {
     "name": "stdout",
     "output_type": "stream",
     "text": [
      "+--------------------+\n",
      "|       merchant_name|\n",
      "+--------------------+\n",
      "|      Amet Nulla Ltd|\n",
      "|Volutpat Nulla In...|\n",
      "|   Pede Praesent Ltd|\n",
      "|Etiam Bibendum In...|\n",
      "|Magna Ut Incorpor...|\n",
      "|Faucibus Leo In C...|\n",
      "|Varius Et Associates|\n",
      "|Tellus Imperdiet ...|\n",
      "|Molestie Tellus F...|\n",
      "|Class Aptent Taci...|\n",
      "|Placerat Orci Ass...|\n",
      "|Vitae Purus Gravi...|\n",
      "|    Dictum Magna Ltd|\n",
      "|Sed Leo Cras Inco...|\n",
      "|    Dui Incorporated|\n",
      "|        Et Pede Inc.|\n",
      "| Sagittis Associates|\n",
      "|Ante Nunc Mauris ...|\n",
      "|Imperdiet Ullamco...|\n",
      "|     Ut Molestie LLP|\n",
      "+--------------------+\n",
      "only showing top 20 rows\n",
      "\n"
     ]
    }
   ],
   "source": [
    "data.createOrReplaceTempView(\"temp\")\n",
    "\n",
    "a = spark.sql(\"\"\" \n",
    "\n",
    "SELECT DISTINCT(merchant_name)\n",
    "FROM temp\n",
    "\n",
    "\"\"\")\n",
    "\n",
    "a.show()"
   ]
  },
  {
   "cell_type": "code",
   "execution_count": null,
   "metadata": {},
   "outputs": [],
   "source": []
  }
 ],
 "metadata": {
  "kernelspec": {
   "display_name": "Python 3.9.12 ('base')",
   "language": "python",
   "name": "python3"
  },
  "language_info": {
   "codemirror_mode": {
    "name": "ipython",
    "version": 3
   },
   "file_extension": ".py",
   "mimetype": "text/x-python",
   "name": "python",
   "nbconvert_exporter": "python",
   "pygments_lexer": "ipython3",
   "version": "3.9.12"
  },
  "orig_nbformat": 4,
  "vscode": {
   "interpreter": {
    "hash": "afcda84b7471a9b9fde108a34f159f021985318d3feb99cad4970c959fa9ac9e"
   }
  }
 },
 "nbformat": 4,
 "nbformat_minor": 2
}
